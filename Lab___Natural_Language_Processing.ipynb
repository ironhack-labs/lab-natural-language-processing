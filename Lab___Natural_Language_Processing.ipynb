{
  "cells": [
    {
      "cell_type": "code",
      "execution_count": 11,
      "metadata": {
        "colab": {
          "base_uri": "https://localhost:8080/",
          "height": 17
        },
        "id": "6gJCIVxbTuU6",
        "outputId": "fa04294d-dcd4-49f7-a0e0-132b0f61747e"
      },
      "outputs": [
        {
          "output_type": "display_data",
          "data": {
            "text/plain": [
              "<IPython.core.display.HTML object>"
            ],
            "text/html": [
              "<style>.container { width:100% !important; }</style>"
            ]
          },
          "metadata": {}
        }
      ],
      "source": [
        "from IPython.core.display import display, HTML\n",
        "\n",
        "# Ajustar el ancho del notebook para mejor visualización\n",
        "display(HTML(\"<style>.container { width:100% !important; }</style>\"))\n",
        "\n"
      ]
    },
    {
      "cell_type": "markdown",
      "metadata": {
        "id": "D1NBiWrxTuU7"
      },
      "source": [
        "# Lab | Natural Language Processing\n",
        "### SMS: SPAM or HAM"
      ]
    },
    {
      "cell_type": "markdown",
      "metadata": {
        "id": "qzWUZakvTuU8"
      },
      "source": [
        "### Let's prepare the environment"
      ]
    },
    {
      "cell_type": "code",
      "execution_count": 12,
      "metadata": {
        "id": "gM831pH3TuU8"
      },
      "outputs": [],
      "source": [
        "import pandas as pd\n",
        "import matplotlib.pyplot as plt\n",
        "from sklearn.feature_extraction.text import TfidfVectorizer\n",
        "\n"
      ]
    },
    {
      "cell_type": "markdown",
      "metadata": {
        "id": "iSMtHFsTTuU8"
      },
      "source": [
        "- Read Data for the Fraudulent Email Kaggle Challenge\n",
        "- Reduce the training set to speead up development."
      ]
    },
    {
      "cell_type": "code",
      "execution_count": 19,
      "metadata": {
        "colab": {
          "base_uri": "https://localhost:8080/"
        },
        "id": "qs-gOpDKTuU8",
        "outputId": "3bab4abb-5978-4a4f-9aae-ceba516ed0bf"
      },
      "outputs": [
        {
          "output_type": "stream",
          "name": "stdout",
          "text": [
            "✅ Dataset cargado con éxito.\n",
            "\n",
            "Estructura del dataset:\n",
            "<class 'pandas.core.frame.DataFrame'>\n",
            "RangeIndex: 7192 entries, 0 to 7191\n",
            "Data columns (total 2 columns):\n",
            " #   Column  Non-Null Count  Dtype \n",
            "---  ------  --------------  ----- \n",
            " 0   text    7192 non-null   object\n",
            " 1   label   7192 non-null   int64 \n",
            "dtypes: int64(1), object(1)\n",
            "memory usage: 112.5+ KB\n",
            "None\n",
            "✅ Nuevo tamaño del dataset: (1000, 2)\n"
          ]
        }
      ],
      "source": [
        "import pandas as pd\n",
        "\n",
        "dataset_path = \"/content/kg_train.csv\"  # Ruta en Google Colab\n",
        "\n",
        "try:\n",
        "    # Intentar cargar el dataset con diferentes separadores\n",
        "    data = pd.read_csv(dataset_path, encoding=\"latin-1\", on_bad_lines=\"skip\")\n",
        "    print(\"✅ Dataset cargado con éxito.\")\n",
        "except Exception as e:\n",
        "    print(f\"❌ Error al cargar el dataset: {e}\")\n",
        "\n",
        "# Mostrar información del dataset\n",
        "print(\"\\nEstructura del dataset:\")\n",
        "print(data.info())\n",
        "\n",
        "# Mostrar las primeras filas para verificar\n",
        "data.head()\n",
        "# Reducir el tamaño del conjunto de datos para acelerar el desarrollo\n",
        "data = data.head(1000)  # Tomar solo las primeras 1000 filas\n",
        "print(f\"✅ Nuevo tamaño del dataset: {data.shape}\")\n",
        "\n",
        "# Rellenar valores nulos si existen\n",
        "data.fillna(\"\", inplace=True)\n",
        "\n"
      ]
    },
    {
      "cell_type": "markdown",
      "metadata": {
        "id": "hZ7JO0pVTuU8"
      },
      "source": [
        "### Let's divide the training and test set into two partitions"
      ]
    },
    {
      "cell_type": "code",
      "execution_count": 22,
      "metadata": {
        "colab": {
          "base_uri": "https://localhost:8080/"
        },
        "id": "jd6zaRfZTuU8",
        "outputId": "eca442f7-28a5-4a0b-88ae-a0bdbf0c5e2d"
      },
      "outputs": [
        {
          "output_type": "stream",
          "name": "stdout",
          "text": [
            "✅ Conjunto de entrenamiento: 800 muestras\n",
            "✅ Conjunto de prueba: 200 muestras\n"
          ]
        }
      ],
      "source": [
        "from sklearn.model_selection import train_test_split\n",
        "\n",
        "# Usar los nombres correctos de las columnas\n",
        "X = data[\"text\"]   # Ahora usamos \"text\" en lugar de \"message\"\n",
        "y = data[\"label\"]  # La columna de etiquetas sigue siendo \"label\"\n",
        "\n",
        "# Dividir en 80% entrenamiento y 20% prueba\n",
        "X_train, X_test, y_train, y_test = train_test_split(X, y, test_size=0.2, random_state=42)\n",
        "\n",
        "# Mostrar la cantidad de datos en cada conjunto\n",
        "print(f\"✅ Conjunto de entrenamiento: {len(X_train)} muestras\")\n",
        "print(f\"✅ Conjunto de prueba: {len(X_test)} muestras\")\n",
        "\n"
      ]
    },
    {
      "cell_type": "markdown",
      "metadata": {
        "id": "Lvpbcg0dTuU9"
      },
      "source": [
        "## Data Preprocessing"
      ]
    },
    {
      "cell_type": "code",
      "execution_count": 24,
      "metadata": {
        "colab": {
          "base_uri": "https://localhost:8080/"
        },
        "id": "Owzhp6mfTuU9",
        "outputId": "01822d75-42c6-4a07-eb59-53b1ea5aa066"
      },
      "outputs": [
        {
          "output_type": "stream",
          "name": "stdout",
          "text": [
            "Ejemplo de stopwords: ['own', 'why', 'haven', 'because', 'through', \"wouldn't\", 'this', 'who', 'can', 'as']\n"
          ]
        },
        {
          "output_type": "stream",
          "name": "stderr",
          "text": [
            "[nltk_data] Downloading package stopwords to /root/nltk_data...\n",
            "[nltk_data]   Unzipping corpora/stopwords.zip.\n"
          ]
        }
      ],
      "source": [
        "import nltk\n",
        "\n",
        "# Descargar las stopwords de NLTK\n",
        "nltk.download('stopwords')\n",
        "from nltk.corpus import stopwords\n",
        "import string\n",
        "\n",
        "# Obtener lista de stopwords en inglés\n",
        "stop_words = set(stopwords.words('english'))\n",
        "\n",
        "print(\"Ejemplo de stopwords:\", list(stop_words)[:10])\n"
      ]
    },
    {
      "cell_type": "markdown",
      "metadata": {
        "id": "KTrL5urqTuU9"
      },
      "source": [
        "## Now, we have to clean the html code removing words\n",
        "\n",
        "- First we remove inline JavaScript/CSS\n",
        "- Then we remove html comments. This has to be done before removing regular tags since comments can contain '>' characters\n",
        "- Next we can remove the remaining tags"
      ]
    },
    {
      "cell_type": "code",
      "execution_count": 25,
      "metadata": {
        "colab": {
          "base_uri": "https://localhost:8080/"
        },
        "id": "cga4sbrSTuU9",
        "outputId": "21cbfc67-2fd7-4faa-8746-e22453fb30c0"
      },
      "outputs": [
        {
          "output_type": "stream",
          "name": "stdout",
          "text": [
            "✅ Ejemplo de texto después de limpieza de HTML: ----------- REGARDS, MR NELSON SMITH.KINDLY REPLY ME ON MY PRIVATE EMAIL ADDRESS;nelsonsmith2000@yahoo.com\n"
          ]
        }
      ],
      "source": [
        "import re\n",
        "import string\n",
        "\n",
        "def clean_text(text):\n",
        "    # Eliminar etiquetas HTML\n",
        "    text = re.sub(r'<.*?>', '', text)\n",
        "\n",
        "    # Eliminar código JavaScript/CSS en comentarios\n",
        "    text = re.sub(r'\\/\\*.*?\\*\\/', '', text, flags=re.DOTALL)  # Comentarios en bloque\n",
        "    text = re.sub(r'\\/\\/.*?\\n', '', text)  # Comentarios en línea\n",
        "\n",
        "    return text\n",
        "\n",
        "# Aplicar la función a los datos de entrenamiento y prueba\n",
        "X_train = X_train.apply(clean_text)\n",
        "X_test = X_test.apply(clean_text)\n",
        "\n",
        "print(\"✅ Ejemplo de texto después de limpieza de HTML:\", X_train.iloc[0])\n"
      ]
    },
    {
      "cell_type": "markdown",
      "metadata": {
        "id": "TgWvBcM6TuU9"
      },
      "source": [
        "- Remove all the special characters\n",
        "    \n",
        "- Remove numbers\n",
        "    \n",
        "- Remove all single characters\n",
        "\n",
        "- Remove single characters from the start\n",
        "\n",
        "- Substitute multiple spaces with single space\n",
        "\n",
        "- Remove prefixed 'b'\n",
        "\n",
        "- Convert to Lowercase"
      ]
    },
    {
      "cell_type": "code",
      "execution_count": 26,
      "metadata": {
        "colab": {
          "base_uri": "https://localhost:8080/"
        },
        "id": "JNU0X5KJTuU9",
        "outputId": "3a57a78c-98df-4e9b-e9ee-9991a1f8ff9f"
      },
      "outputs": [
        {
          "output_type": "stream",
          "name": "stdout",
          "text": [
            "✅ Ejemplo después de remover caracteres especiales: regards mr nelson smithkindly reply me on my private email addressnelsonsmithyahoocom\n"
          ]
        }
      ],
      "source": [
        "def remove_special_chars(text):\n",
        "    # Eliminar caracteres especiales y puntuaciones\n",
        "    text = text.translate(str.maketrans('', '', string.punctuation))\n",
        "\n",
        "    # Eliminar números\n",
        "    text = re.sub(r'\\d+', '', text)\n",
        "\n",
        "    # Eliminar caracteres únicos al inicio de palabras\n",
        "    text = re.sub(r'\\b[a-zA-Z]\\b', '', text)\n",
        "\n",
        "    # Remover prefijo \"b'\" que a veces aparece en datos con encoding erróneo\n",
        "    text = re.sub(r\"^b'\", '', text)\n",
        "\n",
        "    # Convertir a minúsculas\n",
        "    text = text.lower()\n",
        "\n",
        "    # Eliminar espacios extra\n",
        "    text = re.sub(r'\\s+', ' ', text).strip()\n",
        "\n",
        "    return text\n",
        "\n",
        "# Aplicar la función\n",
        "X_train = X_train.apply(remove_special_chars)\n",
        "X_test = X_test.apply(remove_special_chars)\n",
        "\n",
        "print(\"✅ Ejemplo después de remover caracteres especiales:\", X_train.iloc[0])\n"
      ]
    },
    {
      "cell_type": "markdown",
      "metadata": {
        "id": "aiV9nfO5TuU9"
      },
      "source": [
        "## Now let's work on removing stopwords\n",
        "Remove the stopwords."
      ]
    },
    {
      "cell_type": "code",
      "execution_count": 27,
      "metadata": {
        "colab": {
          "base_uri": "https://localhost:8080/"
        },
        "id": "7QV7xvCBTuU9",
        "outputId": "fcfdecb7-667f-465d-c69f-e6f976e5dcca"
      },
      "outputs": [
        {
          "output_type": "stream",
          "name": "stdout",
          "text": [
            "✅ Ejemplo después de eliminar stopwords: regards mr nelson smithkindly reply private email addressnelsonsmithyahoocom\n"
          ]
        },
        {
          "output_type": "stream",
          "name": "stderr",
          "text": [
            "[nltk_data] Downloading package stopwords to /root/nltk_data...\n",
            "[nltk_data]   Package stopwords is already up-to-date!\n"
          ]
        }
      ],
      "source": [
        "import nltk\n",
        "from nltk.corpus import stopwords\n",
        "\n",
        "# Descargar stopwords si es necesario\n",
        "nltk.download('stopwords')\n",
        "\n",
        "# Obtener lista de stopwords en inglés\n",
        "stop_words = set(stopwords.words('english'))\n",
        "\n",
        "def remove_stopwords(text):\n",
        "    return ' '.join([word for word in text.split() if word not in stop_words])\n",
        "\n",
        "# Aplicar la eliminación de stopwords\n",
        "X_train = X_train.apply(remove_stopwords)\n",
        "X_test = X_test.apply(remove_stopwords)\n",
        "\n",
        "print(\"✅ Ejemplo después de eliminar stopwords:\", X_train.iloc[0])\n"
      ]
    },
    {
      "cell_type": "markdown",
      "metadata": {
        "id": "dccy1DUzTuU9"
      },
      "source": [
        "## Tame Your Text with Lemmatization\n",
        "Break sentences into words, then use lemmatization to reduce them to their base form (e.g., \"running\" becomes \"run\"). See how this creates cleaner data for analysis!"
      ]
    },
    {
      "cell_type": "code",
      "execution_count": 28,
      "metadata": {
        "colab": {
          "base_uri": "https://localhost:8080/"
        },
        "id": "OcMTL5BeTuU9",
        "outputId": "da1b7f3a-4d86-43fd-cd33-a86311c553c1"
      },
      "outputs": [
        {
          "output_type": "stream",
          "name": "stderr",
          "text": [
            "[nltk_data] Downloading package wordnet to /root/nltk_data...\n"
          ]
        },
        {
          "output_type": "stream",
          "name": "stdout",
          "text": [
            "✅ Ejemplo después de lematización: regard mr nelson smithkindly reply private email addressnelsonsmithyahoocom\n"
          ]
        }
      ],
      "source": [
        "from nltk.stem import WordNetLemmatizer\n",
        "nltk.download('wordnet')\n",
        "\n",
        "lemmatizer = WordNetLemmatizer()\n",
        "\n",
        "def lemmatize_text(text):\n",
        "    return ' '.join([lemmatizer.lemmatize(word) for word in text.split()])\n",
        "\n",
        "# Aplicar lematización\n",
        "X_train = X_train.apply(lemmatize_text)\n",
        "X_test = X_test.apply(lemmatize_text)\n",
        "\n",
        "print(\"✅ Ejemplo después de lematización:\", X_train.iloc[0])\n"
      ]
    },
    {
      "cell_type": "markdown",
      "metadata": {
        "id": "UD3gn5mnTuU9"
      },
      "source": [
        "## Bag Of Words\n",
        "Let's get the 10 top words in ham and spam messages (**EXPLORATORY DATA ANALYSIS**)"
      ]
    },
    {
      "cell_type": "code",
      "execution_count": 29,
      "metadata": {
        "colab": {
          "base_uri": "https://localhost:8080/"
        },
        "id": "cHTee0maTuU9",
        "outputId": "7c123ddd-f317-4bed-ad1a-625ca8a5c11e"
      },
      "outputs": [
        {
          "output_type": "stream",
          "name": "stdout",
          "text": [
            "✅ Top 10 palabras más comunes en el dataset:\n",
            "money: 791\n",
            "account: 669\n",
            "bank: 644\n",
            "fund: 555\n",
            "business: 416\n",
            "country: 387\n",
            "one: 346\n",
            "transaction: 344\n",
            "million: 327\n",
            "transfer: 325\n"
          ]
        }
      ],
      "source": [
        "from sklearn.feature_extraction.text import CountVectorizer\n",
        "\n",
        "# Crear representación de Bag of Words\n",
        "vectorizer = CountVectorizer(max_features=1000)  # Tomar las 1000 palabras más frecuentes\n",
        "X_train_bow = vectorizer.fit_transform(X_train)\n",
        "X_test_bow = vectorizer.transform(X_test)\n",
        "\n",
        "# Obtener las palabras más frecuentes\n",
        "word_freq = dict(zip(vectorizer.get_feature_names_out(), X_train_bow.toarray().sum(axis=0)))\n",
        "sorted_words = sorted(word_freq.items(), key=lambda x: x[1], reverse=True)\n",
        "\n",
        "# Mostrar las 10 palabras más comunes en el dataset\n",
        "print(\"✅ Top 10 palabras más comunes en el dataset:\")\n",
        "for word, freq in sorted_words[:10]:\n",
        "    print(f\"{word}: {freq}\")\n"
      ]
    },
    {
      "cell_type": "markdown",
      "metadata": {
        "id": "pXRRFfz5TuU9"
      },
      "source": [
        "## Extra features"
      ]
    },
    {
      "cell_type": "code",
      "execution_count": 35,
      "metadata": {
        "colab": {
          "base_uri": "https://localhost:8080/",
          "height": 242
        },
        "id": "Wi1VpVE1TuU9",
        "outputId": "2168a6c7-0bb0-4081-bc4c-ca392f45ee87"
      },
      "outputs": [
        {
          "output_type": "stream",
          "name": "stdout",
          "text": [
            "✅ data_train y data_val creados correctamente\n",
            "✅ Características extra añadidas con éxito:\n"
          ]
        },
        {
          "output_type": "execute_result",
          "data": {
            "text/plain": [
              "                                     preprocessed_text  label  money_mark  \\\n",
              "29   regard mr nelson smithkindly reply private ema...      1           1   \n",
              "535         able reach oscar supposed send pdb receive      0           1   \n",
              "695  huma abedin bim checking pat work jack jake re...      0           1   \n",
              "557                        announced monday cant today      0           1   \n",
              "836  dear sirmadamdo accept sincere apology mail me...      1           1   \n",
              "\n",
              "     suspicious_words  text_len  \n",
              "29                  0        75  \n",
              "535                 0        42  \n",
              "695                 0        79  \n",
              "557                 0        27  \n",
              "836                 1      1285  "
            ],
            "text/html": [
              "\n",
              "  <div id=\"df-45ad30c5-0c64-4688-85a7-6e4348889328\" class=\"colab-df-container\">\n",
              "    <div>\n",
              "<style scoped>\n",
              "    .dataframe tbody tr th:only-of-type {\n",
              "        vertical-align: middle;\n",
              "    }\n",
              "\n",
              "    .dataframe tbody tr th {\n",
              "        vertical-align: top;\n",
              "    }\n",
              "\n",
              "    .dataframe thead th {\n",
              "        text-align: right;\n",
              "    }\n",
              "</style>\n",
              "<table border=\"1\" class=\"dataframe\">\n",
              "  <thead>\n",
              "    <tr style=\"text-align: right;\">\n",
              "      <th></th>\n",
              "      <th>preprocessed_text</th>\n",
              "      <th>label</th>\n",
              "      <th>money_mark</th>\n",
              "      <th>suspicious_words</th>\n",
              "      <th>text_len</th>\n",
              "    </tr>\n",
              "  </thead>\n",
              "  <tbody>\n",
              "    <tr>\n",
              "      <th>29</th>\n",
              "      <td>regard mr nelson smithkindly reply private ema...</td>\n",
              "      <td>1</td>\n",
              "      <td>1</td>\n",
              "      <td>0</td>\n",
              "      <td>75</td>\n",
              "    </tr>\n",
              "    <tr>\n",
              "      <th>535</th>\n",
              "      <td>able reach oscar supposed send pdb receive</td>\n",
              "      <td>0</td>\n",
              "      <td>1</td>\n",
              "      <td>0</td>\n",
              "      <td>42</td>\n",
              "    </tr>\n",
              "    <tr>\n",
              "      <th>695</th>\n",
              "      <td>huma abedin bim checking pat work jack jake re...</td>\n",
              "      <td>0</td>\n",
              "      <td>1</td>\n",
              "      <td>0</td>\n",
              "      <td>79</td>\n",
              "    </tr>\n",
              "    <tr>\n",
              "      <th>557</th>\n",
              "      <td>announced monday cant today</td>\n",
              "      <td>0</td>\n",
              "      <td>1</td>\n",
              "      <td>0</td>\n",
              "      <td>27</td>\n",
              "    </tr>\n",
              "    <tr>\n",
              "      <th>836</th>\n",
              "      <td>dear sirmadamdo accept sincere apology mail me...</td>\n",
              "      <td>1</td>\n",
              "      <td>1</td>\n",
              "      <td>1</td>\n",
              "      <td>1285</td>\n",
              "    </tr>\n",
              "  </tbody>\n",
              "</table>\n",
              "</div>\n",
              "    <div class=\"colab-df-buttons\">\n",
              "\n",
              "  <div class=\"colab-df-container\">\n",
              "    <button class=\"colab-df-convert\" onclick=\"convertToInteractive('df-45ad30c5-0c64-4688-85a7-6e4348889328')\"\n",
              "            title=\"Convert this dataframe to an interactive table.\"\n",
              "            style=\"display:none;\">\n",
              "\n",
              "  <svg xmlns=\"http://www.w3.org/2000/svg\" height=\"24px\" viewBox=\"0 -960 960 960\">\n",
              "    <path d=\"M120-120v-720h720v720H120Zm60-500h600v-160H180v160Zm220 220h160v-160H400v160Zm0 220h160v-160H400v160ZM180-400h160v-160H180v160Zm440 0h160v-160H620v160ZM180-180h160v-160H180v160Zm440 0h160v-160H620v160Z\"/>\n",
              "  </svg>\n",
              "    </button>\n",
              "\n",
              "  <style>\n",
              "    .colab-df-container {\n",
              "      display:flex;\n",
              "      gap: 12px;\n",
              "    }\n",
              "\n",
              "    .colab-df-convert {\n",
              "      background-color: #E8F0FE;\n",
              "      border: none;\n",
              "      border-radius: 50%;\n",
              "      cursor: pointer;\n",
              "      display: none;\n",
              "      fill: #1967D2;\n",
              "      height: 32px;\n",
              "      padding: 0 0 0 0;\n",
              "      width: 32px;\n",
              "    }\n",
              "\n",
              "    .colab-df-convert:hover {\n",
              "      background-color: #E2EBFA;\n",
              "      box-shadow: 0px 1px 2px rgba(60, 64, 67, 0.3), 0px 1px 3px 1px rgba(60, 64, 67, 0.15);\n",
              "      fill: #174EA6;\n",
              "    }\n",
              "\n",
              "    .colab-df-buttons div {\n",
              "      margin-bottom: 4px;\n",
              "    }\n",
              "\n",
              "    [theme=dark] .colab-df-convert {\n",
              "      background-color: #3B4455;\n",
              "      fill: #D2E3FC;\n",
              "    }\n",
              "\n",
              "    [theme=dark] .colab-df-convert:hover {\n",
              "      background-color: #434B5C;\n",
              "      box-shadow: 0px 1px 3px 1px rgba(0, 0, 0, 0.15);\n",
              "      filter: drop-shadow(0px 1px 2px rgba(0, 0, 0, 0.3));\n",
              "      fill: #FFFFFF;\n",
              "    }\n",
              "  </style>\n",
              "\n",
              "    <script>\n",
              "      const buttonEl =\n",
              "        document.querySelector('#df-45ad30c5-0c64-4688-85a7-6e4348889328 button.colab-df-convert');\n",
              "      buttonEl.style.display =\n",
              "        google.colab.kernel.accessAllowed ? 'block' : 'none';\n",
              "\n",
              "      async function convertToInteractive(key) {\n",
              "        const element = document.querySelector('#df-45ad30c5-0c64-4688-85a7-6e4348889328');\n",
              "        const dataTable =\n",
              "          await google.colab.kernel.invokeFunction('convertToInteractive',\n",
              "                                                    [key], {});\n",
              "        if (!dataTable) return;\n",
              "\n",
              "        const docLinkHtml = 'Like what you see? Visit the ' +\n",
              "          '<a target=\"_blank\" href=https://colab.research.google.com/notebooks/data_table.ipynb>data table notebook</a>'\n",
              "          + ' to learn more about interactive tables.';\n",
              "        element.innerHTML = '';\n",
              "        dataTable['output_type'] = 'display_data';\n",
              "        await google.colab.output.renderOutput(dataTable, element);\n",
              "        const docLink = document.createElement('div');\n",
              "        docLink.innerHTML = docLinkHtml;\n",
              "        element.appendChild(docLink);\n",
              "      }\n",
              "    </script>\n",
              "  </div>\n",
              "\n",
              "\n",
              "<div id=\"df-137ed656-9236-4e56-b2a8-357db261dea8\">\n",
              "  <button class=\"colab-df-quickchart\" onclick=\"quickchart('df-137ed656-9236-4e56-b2a8-357db261dea8')\"\n",
              "            title=\"Suggest charts\"\n",
              "            style=\"display:none;\">\n",
              "\n",
              "<svg xmlns=\"http://www.w3.org/2000/svg\" height=\"24px\"viewBox=\"0 0 24 24\"\n",
              "     width=\"24px\">\n",
              "    <g>\n",
              "        <path d=\"M19 3H5c-1.1 0-2 .9-2 2v14c0 1.1.9 2 2 2h14c1.1 0 2-.9 2-2V5c0-1.1-.9-2-2-2zM9 17H7v-7h2v7zm4 0h-2V7h2v10zm4 0h-2v-4h2v4z\"/>\n",
              "    </g>\n",
              "</svg>\n",
              "  </button>\n",
              "\n",
              "<style>\n",
              "  .colab-df-quickchart {\n",
              "      --bg-color: #E8F0FE;\n",
              "      --fill-color: #1967D2;\n",
              "      --hover-bg-color: #E2EBFA;\n",
              "      --hover-fill-color: #174EA6;\n",
              "      --disabled-fill-color: #AAA;\n",
              "      --disabled-bg-color: #DDD;\n",
              "  }\n",
              "\n",
              "  [theme=dark] .colab-df-quickchart {\n",
              "      --bg-color: #3B4455;\n",
              "      --fill-color: #D2E3FC;\n",
              "      --hover-bg-color: #434B5C;\n",
              "      --hover-fill-color: #FFFFFF;\n",
              "      --disabled-bg-color: #3B4455;\n",
              "      --disabled-fill-color: #666;\n",
              "  }\n",
              "\n",
              "  .colab-df-quickchart {\n",
              "    background-color: var(--bg-color);\n",
              "    border: none;\n",
              "    border-radius: 50%;\n",
              "    cursor: pointer;\n",
              "    display: none;\n",
              "    fill: var(--fill-color);\n",
              "    height: 32px;\n",
              "    padding: 0;\n",
              "    width: 32px;\n",
              "  }\n",
              "\n",
              "  .colab-df-quickchart:hover {\n",
              "    background-color: var(--hover-bg-color);\n",
              "    box-shadow: 0 1px 2px rgba(60, 64, 67, 0.3), 0 1px 3px 1px rgba(60, 64, 67, 0.15);\n",
              "    fill: var(--button-hover-fill-color);\n",
              "  }\n",
              "\n",
              "  .colab-df-quickchart-complete:disabled,\n",
              "  .colab-df-quickchart-complete:disabled:hover {\n",
              "    background-color: var(--disabled-bg-color);\n",
              "    fill: var(--disabled-fill-color);\n",
              "    box-shadow: none;\n",
              "  }\n",
              "\n",
              "  .colab-df-spinner {\n",
              "    border: 2px solid var(--fill-color);\n",
              "    border-color: transparent;\n",
              "    border-bottom-color: var(--fill-color);\n",
              "    animation:\n",
              "      spin 1s steps(1) infinite;\n",
              "  }\n",
              "\n",
              "  @keyframes spin {\n",
              "    0% {\n",
              "      border-color: transparent;\n",
              "      border-bottom-color: var(--fill-color);\n",
              "      border-left-color: var(--fill-color);\n",
              "    }\n",
              "    20% {\n",
              "      border-color: transparent;\n",
              "      border-left-color: var(--fill-color);\n",
              "      border-top-color: var(--fill-color);\n",
              "    }\n",
              "    30% {\n",
              "      border-color: transparent;\n",
              "      border-left-color: var(--fill-color);\n",
              "      border-top-color: var(--fill-color);\n",
              "      border-right-color: var(--fill-color);\n",
              "    }\n",
              "    40% {\n",
              "      border-color: transparent;\n",
              "      border-right-color: var(--fill-color);\n",
              "      border-top-color: var(--fill-color);\n",
              "    }\n",
              "    60% {\n",
              "      border-color: transparent;\n",
              "      border-right-color: var(--fill-color);\n",
              "    }\n",
              "    80% {\n",
              "      border-color: transparent;\n",
              "      border-right-color: var(--fill-color);\n",
              "      border-bottom-color: var(--fill-color);\n",
              "    }\n",
              "    90% {\n",
              "      border-color: transparent;\n",
              "      border-bottom-color: var(--fill-color);\n",
              "    }\n",
              "  }\n",
              "</style>\n",
              "\n",
              "  <script>\n",
              "    async function quickchart(key) {\n",
              "      const quickchartButtonEl =\n",
              "        document.querySelector('#' + key + ' button');\n",
              "      quickchartButtonEl.disabled = true;  // To prevent multiple clicks.\n",
              "      quickchartButtonEl.classList.add('colab-df-spinner');\n",
              "      try {\n",
              "        const charts = await google.colab.kernel.invokeFunction(\n",
              "            'suggestCharts', [key], {});\n",
              "      } catch (error) {\n",
              "        console.error('Error during call to suggestCharts:', error);\n",
              "      }\n",
              "      quickchartButtonEl.classList.remove('colab-df-spinner');\n",
              "      quickchartButtonEl.classList.add('colab-df-quickchart-complete');\n",
              "    }\n",
              "    (() => {\n",
              "      let quickchartButtonEl =\n",
              "        document.querySelector('#df-137ed656-9236-4e56-b2a8-357db261dea8 button');\n",
              "      quickchartButtonEl.style.display =\n",
              "        google.colab.kernel.accessAllowed ? 'block' : 'none';\n",
              "    })();\n",
              "  </script>\n",
              "</div>\n",
              "\n",
              "    </div>\n",
              "  </div>\n"
            ],
            "application/vnd.google.colaboratory.intrinsic+json": {
              "type": "dataframe",
              "variable_name": "data_train",
              "summary": "{\n  \"name\": \"data_train\",\n  \"rows\": 800,\n  \"fields\": [\n    {\n      \"column\": \"preprocessed_text\",\n      \"properties\": {\n        \"dtype\": \"string\",\n        \"num_unique_values\": 737,\n        \"samples\": [\n          \"back need talkcalling\",\n          \"thirty two million three hundred fifty thousand dollarsretransfer million u dollar account name drmark kingsley william work international operation department bank londoni feel quite safe dealing important businessthough medium internet greatly abused choose reach still remains fastest medium communication however correspondence unofficial private treated first like assure transaction risk trouble free party want transfer money bank london fund transfer clean origin owner account foreigner program leaderuntil deaththe late prime minister mr rafik hariri huge investment united kingdom world matter fact sum thirty two million three hundred fifty thousand dollar account london deposited family valuablesthe family know depositi routine inspection discovered dormant domiciliary account bal thirty two million three hundred fifty thousand dollar discreet investigation also discovered account holder passed away dead leaving beneficiary account bank approve money foreigner former operator ac foreigner certainly sure nobody come claim money foreigner claim money legal claim account holder therefore need cooperation transaction provide necessary information needed order claim money hoping god never let futureokrafik bahaa edine hariri november february married nazek audi hariri lebanese selfmade billionaire business tycoon five time prime minister lebanon last resignation office october late rafik hariri died february explosive equivalent around kg detonated motorcade drove past saint george hotel lebanese capital information please log httpwwwhaririinfoi want transfer money safe foreign account abroad dont know foreigner trust know message come surprise dont know sure real genuine business contact believing let fund go account let hear urgently emailregardsdrmark kingsley william\",\n          \"request business partnershipi patrick atike director generalfederal ministry ofagriculturemy position sensitivei married withchildren hold degree public administration andbusiness study due retirement moment fromnow many year servicereasons contacting youi require urgently unreserved assistance allowingme use companyposition transfer fund yourcountry purpose transfer take care myretirement investing viable business might deemfit advise purchase residential accommodationnature business source fund transfersince inception present government series ofcontracts awarded federal ministry ofagriculture based supply heavy equipment variouslocal government area amounting several million ofu dollarsthe sum fifteen million five hundredthousand million invoiced thecontractors made supply since paidpresently arrange money kept codedbank account central bank nigeria cbn iam able source reliable expatriate partner ican present rightful beneficiary fundyouwill take status contractor supplied theequipment arrange supporting document forthe transfermode sharing go making available u companyinfomationgiving unreserved assistance keepingstrictly rule transaction transfer ofthe fund effected contingency allmiscellaneousexpenses incurred course thetransaction procurement vital document tipsand allexpenses including phonefax bill hotelbills tax andbank charge must reconciled upon confirmation thepayment central bank nigeria cbn sharedbetween colleague mine whose help behighly needed throughout period questionother pertinent detailseverything transaction real money isclean putting many year service onlynormal take good measure secure period inretirement put resource time bring thistransaction level mean represents alot meand hopefully help amatter week shall come mean lot aswe meet country celebrate closing thedeal interested transaction pleasecontact emailand also furnish yourdirect phone fax email line residenceand office contact youthanking kind understanding cooperationyours sincerelypatrick atikefreeserve anytime half price first month save monthwwwfreeservecomanytime\"\n        ],\n        \"semantic_type\": \"\",\n        \"description\": \"\"\n      }\n    },\n    {\n      \"column\": \"label\",\n      \"properties\": {\n        \"dtype\": \"number\",\n        \"std\": 0,\n        \"min\": 0,\n        \"max\": 1,\n        \"num_unique_values\": 2,\n        \"samples\": [\n          0,\n          1\n        ],\n        \"semantic_type\": \"\",\n        \"description\": \"\"\n      }\n    },\n    {\n      \"column\": \"money_mark\",\n      \"properties\": {\n        \"dtype\": \"number\",\n        \"std\": 0,\n        \"min\": 1,\n        \"max\": 1,\n        \"num_unique_values\": 1,\n        \"samples\": [\n          1\n        ],\n        \"semantic_type\": \"\",\n        \"description\": \"\"\n      }\n    },\n    {\n      \"column\": \"suspicious_words\",\n      \"properties\": {\n        \"dtype\": \"number\",\n        \"std\": 0,\n        \"min\": 0,\n        \"max\": 1,\n        \"num_unique_values\": 2,\n        \"samples\": [\n          1\n        ],\n        \"semantic_type\": \"\",\n        \"description\": \"\"\n      }\n    },\n    {\n      \"column\": \"text_len\",\n      \"properties\": {\n        \"dtype\": \"number\",\n        \"std\": 2896,\n        \"min\": 0,\n        \"max\": 52864,\n        \"num_unique_values\": 515,\n        \"samples\": [\n          2271\n        ],\n        \"semantic_type\": \"\",\n        \"description\": \"\"\n      }\n    }\n  ]\n}"
            }
          },
          "metadata": {},
          "execution_count": 35
        }
      ],
      "source": [
        "import pandas as pd\n",
        "\n",
        "# Crear DataFrames de entrenamiento y validación basados en la división previa\n",
        "data_train = pd.DataFrame({\"preprocessed_text\": X_train, \"label\": y_train}).copy()\n",
        "data_val = pd.DataFrame({\"preprocessed_text\": X_test, \"label\": y_test}).copy()\n",
        "\n",
        "# Mostrar las primeras filas para verificar\n",
        "print(\"✅ data_train y data_val creados correctamente\")\n",
        "data_train.head()\n",
        "\n",
        "# Lista de símbolos monetarios\n",
        "money_symbol_list = \"|\".join([\"euro\", \"dollar\", \"pound\", \"€\", \"$\"])\n",
        "\n",
        "# Lista de palabras sospechosas relacionadas con transacciones\n",
        "suspicious_words = \"|\".join([\"free\", \"cheap\", \"sex\", \"money\", \"account\", \"bank\", \"fund\",\n",
        "                             \"transfer\", \"transaction\", \"win\", \"deposit\", \"password\"])\n",
        "\n",
        "# Asegurar que la columna \"preprocessed_text\" es string\n",
        "data_train[\"preprocessed_text\"] = data_train[\"preprocessed_text\"].astype(str)\n",
        "data_val[\"preprocessed_text\"] = data_val[\"preprocessed_text\"].astype(str)\n",
        "\n",
        "# Agregar características al conjunto de entrenamiento\n",
        "data_train[\"money_mark\"] = data_train[\"preprocessed_text\"].str.contains(money_symbol_list, regex=True) * 1\n",
        "data_train[\"suspicious_words\"] = data_train[\"preprocessed_text\"].str.contains(suspicious_words, regex=True) * 1\n",
        "data_train[\"text_len\"] = data_train[\"preprocessed_text\"].apply(lambda x: len(x))\n",
        "\n",
        "# Agregar características al conjunto de prueba\n",
        "data_val[\"money_mark\"] = data_val[\"preprocessed_text\"].str.contains(money_symbol_list, regex=True) * 1\n",
        "data_val[\"suspicious_words\"] = data_val[\"preprocessed_text\"].str.contains(suspicious_words, regex=True) * 1\n",
        "data_val[\"text_len\"] = data_val[\"preprocessed_text\"].apply(lambda x: len(x))\n",
        "\n",
        "# Mostrar las primeras filas para verificar\n",
        "print(\"✅ Características extra añadidas con éxito:\")\n",
        "data_train.head()\n"
      ]
    },
    {
      "cell_type": "markdown",
      "metadata": {
        "id": "_YvJjHmSTuU-"
      },
      "source": [
        "## How would work the Bag of Words with Count Vectorizer concept?"
      ]
    },
    {
      "cell_type": "code",
      "execution_count": 36,
      "metadata": {
        "colab": {
          "base_uri": "https://localhost:8080/"
        },
        "id": "Py5KD1v8TuU-",
        "outputId": "34073b36-41ac-4952-8639-d5427826a9c3"
      },
      "outputs": [
        {
          "output_type": "stream",
          "name": "stdout",
          "text": [
            "✅ BoW - Dimensión de X_train: (800, 1000)\n",
            "✅ BoW - Dimensión de X_test: (200, 1000)\n"
          ]
        }
      ],
      "source": [
        "from sklearn.feature_extraction.text import CountVectorizer\n",
        "\n",
        "# Definir el vectorizador\n",
        "vectorizer = CountVectorizer(max_features=1000)  # Tomar solo las 1000 palabras más frecuentes\n",
        "\n",
        "# Transformar los datos\n",
        "X_train_bow = vectorizer.fit_transform(data_train[\"preprocessed_text\"])\n",
        "X_test_bow = vectorizer.transform(data_val[\"preprocessed_text\"])\n",
        "\n",
        "# Mostrar dimensiones de la matriz resultante\n",
        "print(f\"✅ BoW - Dimensión de X_train: {X_train_bow.shape}\")\n",
        "print(f\"✅ BoW - Dimensión de X_test: {X_test_bow.shape}\")\n"
      ]
    },
    {
      "cell_type": "markdown",
      "metadata": {
        "id": "r-u1m0u7TuU-"
      },
      "source": [
        "## TD-IDF\n",
        "\n",
        "- Load the vectorizer\n",
        "\n",
        "- Vectorize all dataset\n",
        "\n",
        "- print the shape of the vetorized dataset"
      ]
    },
    {
      "cell_type": "code",
      "execution_count": 37,
      "metadata": {
        "colab": {
          "base_uri": "https://localhost:8080/"
        },
        "id": "8Be3JOOxTuU-",
        "outputId": "efdaca43-a497-4522-b66a-7defa32dd24b"
      },
      "outputs": [
        {
          "output_type": "stream",
          "name": "stdout",
          "text": [
            "✅ TF-IDF - Dimensión de X_train: (800, 1000)\n",
            "✅ TF-IDF - Dimensión de X_test: (200, 1000)\n"
          ]
        }
      ],
      "source": [
        "from sklearn.feature_extraction.text import TfidfVectorizer\n",
        "\n",
        "# Definir el vectorizador TF-IDF\n",
        "tfidf_vectorizer = TfidfVectorizer(max_features=1000)\n",
        "\n",
        "# Transformar los datos\n",
        "X_train_tfidf = tfidf_vectorizer.fit_transform(data_train[\"preprocessed_text\"])\n",
        "X_test_tfidf = tfidf_vectorizer.transform(data_val[\"preprocessed_text\"])\n",
        "\n",
        "# Mostrar dimensiones de la matriz resultante\n",
        "print(f\"✅ TF-IDF - Dimensión de X_train: {X_train_tfidf.shape}\")\n",
        "print(f\"✅ TF-IDF - Dimensión de X_test: {X_test_tfidf.shape}\")\n"
      ]
    },
    {
      "cell_type": "markdown",
      "metadata": {
        "id": "ZVjbzfGtTuU-"
      },
      "source": [
        "## And the Train a Classifier?"
      ]
    },
    {
      "cell_type": "code",
      "execution_count": 38,
      "metadata": {
        "colab": {
          "base_uri": "https://localhost:8080/"
        },
        "id": "HfDqXC23TuU-",
        "outputId": "f1ed99bc-0b80-49d6-ce18-a95ae3427c67"
      },
      "outputs": [
        {
          "output_type": "stream",
          "name": "stdout",
          "text": [
            "✅ Precisión del clasificador: 0.9550\n",
            "              precision    recall  f1-score   support\n",
            "\n",
            "           0       0.96      0.97      0.96       115\n",
            "           1       0.95      0.94      0.95        85\n",
            "\n",
            "    accuracy                           0.95       200\n",
            "   macro avg       0.95      0.95      0.95       200\n",
            "weighted avg       0.95      0.95      0.95       200\n",
            "\n"
          ]
        }
      ],
      "source": [
        "from sklearn.naive_bayes import MultinomialNB\n",
        "from sklearn.metrics import accuracy_score, classification_report\n",
        "\n",
        "# Definir el clasificador\n",
        "clf = MultinomialNB()\n",
        "\n",
        "# Entrenar el modelo con la representación TF-IDF\n",
        "clf.fit(X_train_tfidf, data_train[\"label\"])\n",
        "\n",
        "# Realizar predicciones\n",
        "y_pred = clf.predict(X_test_tfidf)\n",
        "\n",
        "# Evaluar el modelo\n",
        "accuracy = accuracy_score(data_val[\"label\"], y_pred)\n",
        "print(f\"✅ Precisión del clasificador: {accuracy:.4f}\")\n",
        "\n",
        "# Reporte de clasificación\n",
        "print(classification_report(data_val[\"label\"], y_pred))\n"
      ]
    },
    {
      "cell_type": "markdown",
      "metadata": {
        "id": "iV5mozOVTuU-"
      },
      "source": [
        "### Extra Task - Implement a SPAM/HAM classifier\n",
        "\n",
        "https://www.kaggle.com/t/b384e34013d54d238490103bc3c360ce\n",
        "\n",
        "The classifier can not be changed!!! It must be the MultinimialNB with default parameters!\n",
        "\n",
        "Your task is to find the **best feature representation**.\n",
        "\n",
        "You can work with teams of two persons (recommended)."
      ]
    },
    {
      "cell_type": "code",
      "execution_count": 39,
      "metadata": {
        "colab": {
          "base_uri": "https://localhost:8080/"
        },
        "id": "9dYRFVl_TuU-",
        "outputId": "50492ae5-0309-4ea1-a4a7-74442930d6d1"
      },
      "outputs": [
        {
          "output_type": "stream",
          "name": "stdout",
          "text": [
            "📌 Precisión con Bag of Words: 0.9350\n",
            "📌 Precisión con TF-IDF: 0.9550\n"
          ]
        }
      ],
      "source": [
        "# Entrenar y evaluar con Bag of Words\n",
        "clf_bow = MultinomialNB()\n",
        "clf_bow.fit(X_train_bow, data_train[\"label\"])\n",
        "y_pred_bow = clf_bow.predict(X_test_bow)\n",
        "accuracy_bow = accuracy_score(data_val[\"label\"], y_pred_bow)\n",
        "\n",
        "# Entrenar y evaluar con TF-IDF\n",
        "clf_tfidf = MultinomialNB()\n",
        "clf_tfidf.fit(X_train_tfidf, data_train[\"label\"])\n",
        "y_pred_tfidf = clf_tfidf.predict(X_test_tfidf)\n",
        "accuracy_tfidf = accuracy_score(data_val[\"label\"], y_pred_tfidf)\n",
        "\n",
        "print(f\"📌 Precisión con Bag of Words: {accuracy_bow:.4f}\")\n",
        "print(f\"📌 Precisión con TF-IDF: {accuracy_tfidf:.4f}\")\n"
      ]
    }
  ],
  "metadata": {
    "celltoolbar": "Slideshow",
    "kernelspec": {
      "display_name": "Python 3 (ipykernel)",
      "language": "python",
      "name": "python3"
    },
    "language_info": {
      "codemirror_mode": {
        "name": "ipython",
        "version": 3
      },
      "file_extension": ".py",
      "mimetype": "text/x-python",
      "name": "python",
      "nbconvert_exporter": "python",
      "pygments_lexer": "ipython3",
      "version": "3.11.5"
    },
    "colab": {
      "provenance": []
    }
  },
  "nbformat": 4,
  "nbformat_minor": 0
}