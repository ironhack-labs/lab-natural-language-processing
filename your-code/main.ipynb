{
  "cells": [
    {
      "cell_type": "markdown",
      "metadata": {
        "id": "view-in-github",
        "colab_type": "text"
      },
      "source": [
        "<a href=\"https://colab.research.google.com/github/solvedbrunus/lab-natural-language-processing/blob/main/your-code/main.ipynb\" target=\"_parent\"><img src=\"https://colab.research.google.com/assets/colab-badge.svg\" alt=\"Open In Colab\"/></a>"
      ]
    },
    {
      "cell_type": "code",
      "execution_count": 1,
      "metadata": {
        "colab": {
          "base_uri": "https://localhost:8080/",
          "height": 17
        },
        "id": "-gUgFtAR1i-S",
        "outputId": "5ccc45ee-b046-4c55-ef6a-eb55d97c7be1"
      },
      "outputs": [
        {
          "output_type": "display_data",
          "data": {
            "text/plain": [
              "<IPython.core.display.HTML object>"
            ],
            "text/html": [
              "<style>.container { width:100% !important; }</style>"
            ]
          },
          "metadata": {}
        }
      ],
      "source": [
        "from IPython.core.display import display, HTML\n",
        "display(HTML(\"<style>.container { width:100% !important; }</style>\"))"
      ]
    },
    {
      "cell_type": "markdown",
      "metadata": {
        "id": "wuubNZEF1i-U"
      },
      "source": [
        "# Lab | Natural Language Processing\n",
        "### SMS: SPAM or HAM"
      ]
    },
    {
      "cell_type": "markdown",
      "metadata": {
        "id": "rWqLhO231i-V"
      },
      "source": [
        "### Let's prepare the environment"
      ]
    },
    {
      "cell_type": "code",
      "execution_count": 2,
      "metadata": {
        "id": "nKY5owRa1i-V"
      },
      "outputs": [],
      "source": [
        "import pandas as pd\n",
        "import matplotlib.pyplot as plt\n",
        "from sklearn.feature_extraction.text import TfidfVectorizer\n",
        "from sklearn.model_selection import train_test_split"
      ]
    },
    {
      "cell_type": "markdown",
      "metadata": {
        "id": "sq1sg78r1i-W"
      },
      "source": [
        "- Read Data for the Fraudulent Email Kaggle Challenge\n",
        "- Reduce the training set to speed up development."
      ]
    },
    {
      "cell_type": "code",
      "execution_count": 4,
      "metadata": {
        "colab": {
          "base_uri": "https://localhost:8080/"
        },
        "id": "5bWQiX741i-W",
        "outputId": "6ffa10d7-e0a7-4141-a48d-a0db5930bc8b"
      },
      "outputs": [
        {
          "output_type": "stream",
          "name": "stdout",
          "text": [
            "(1000, 2)\n"
          ]
        }
      ],
      "source": [
        "## Read Data for the Fraudulent Email Kaggle Challenge\n",
        "data = pd.read_csv(\"/content/kg_train.csv\",encoding='latin-1')\n",
        "\n",
        "# Reduce the training set to speed up development.\n",
        "# Modify for final system\n",
        "data = data.head(1000)\n",
        "print(data.shape)\n",
        "data.fillna(\"\",inplace=True)"
      ]
    },
    {
      "cell_type": "markdown",
      "metadata": {
        "id": "kvP9ozQm1i-W"
      },
      "source": [
        "### Let's divide the training and test set into two partitions"
      ]
    },
    {
      "cell_type": "code",
      "execution_count": 5,
      "metadata": {
        "colab": {
          "base_uri": "https://localhost:8080/",
          "height": 224
        },
        "id": "iWIoSWxJ1i-W",
        "outputId": "74d987e6-7c2d-4d74-9388-1fc046d77ced"
      },
      "outputs": [
        {
          "output_type": "stream",
          "name": "stdout",
          "text": [
            "(800, 2) (200, 2)\n"
          ]
        },
        {
          "output_type": "execute_result",
          "data": {
            "text/plain": [
              "                                                  text  label\n",
              "521  Dear Sir=2C I wish you go through this offer t...      1\n",
              "737  To take your mind off the Balkans for a second...      0\n",
              "740                       Pls keep the updates coming!      0\n",
              "660  </STRONG><STRONG>CHRIST BETHEL HOSPITAL<BR>11 ...      1\n",
              "411  sbwhoeopFriday February 5 2010 7:11 AMHRe: Bra...      0"
            ],
            "text/html": [
              "\n",
              "  <div id=\"df-563216a1-b30f-4b74-a772-6ac2fecb1f55\" class=\"colab-df-container\">\n",
              "    <div>\n",
              "<style scoped>\n",
              "    .dataframe tbody tr th:only-of-type {\n",
              "        vertical-align: middle;\n",
              "    }\n",
              "\n",
              "    .dataframe tbody tr th {\n",
              "        vertical-align: top;\n",
              "    }\n",
              "\n",
              "    .dataframe thead th {\n",
              "        text-align: right;\n",
              "    }\n",
              "</style>\n",
              "<table border=\"1\" class=\"dataframe\">\n",
              "  <thead>\n",
              "    <tr style=\"text-align: right;\">\n",
              "      <th></th>\n",
              "      <th>text</th>\n",
              "      <th>label</th>\n",
              "    </tr>\n",
              "  </thead>\n",
              "  <tbody>\n",
              "    <tr>\n",
              "      <th>521</th>\n",
              "      <td>Dear Sir=2C I wish you go through this offer t...</td>\n",
              "      <td>1</td>\n",
              "    </tr>\n",
              "    <tr>\n",
              "      <th>737</th>\n",
              "      <td>To take your mind off the Balkans for a second...</td>\n",
              "      <td>0</td>\n",
              "    </tr>\n",
              "    <tr>\n",
              "      <th>740</th>\n",
              "      <td>Pls keep the updates coming!</td>\n",
              "      <td>0</td>\n",
              "    </tr>\n",
              "    <tr>\n",
              "      <th>660</th>\n",
              "      <td>&lt;/STRONG&gt;&lt;STRONG&gt;CHRIST BETHEL HOSPITAL&lt;BR&gt;11 ...</td>\n",
              "      <td>1</td>\n",
              "    </tr>\n",
              "    <tr>\n",
              "      <th>411</th>\n",
              "      <td>sbwhoeopFriday February 5 2010 7:11 AMHRe: Bra...</td>\n",
              "      <td>0</td>\n",
              "    </tr>\n",
              "  </tbody>\n",
              "</table>\n",
              "</div>\n",
              "    <div class=\"colab-df-buttons\">\n",
              "\n",
              "  <div class=\"colab-df-container\">\n",
              "    <button class=\"colab-df-convert\" onclick=\"convertToInteractive('df-563216a1-b30f-4b74-a772-6ac2fecb1f55')\"\n",
              "            title=\"Convert this dataframe to an interactive table.\"\n",
              "            style=\"display:none;\">\n",
              "\n",
              "  <svg xmlns=\"http://www.w3.org/2000/svg\" height=\"24px\" viewBox=\"0 -960 960 960\">\n",
              "    <path d=\"M120-120v-720h720v720H120Zm60-500h600v-160H180v160Zm220 220h160v-160H400v160Zm0 220h160v-160H400v160ZM180-400h160v-160H180v160Zm440 0h160v-160H620v160ZM180-180h160v-160H180v160Zm440 0h160v-160H620v160Z\"/>\n",
              "  </svg>\n",
              "    </button>\n",
              "\n",
              "  <style>\n",
              "    .colab-df-container {\n",
              "      display:flex;\n",
              "      gap: 12px;\n",
              "    }\n",
              "\n",
              "    .colab-df-convert {\n",
              "      background-color: #E8F0FE;\n",
              "      border: none;\n",
              "      border-radius: 50%;\n",
              "      cursor: pointer;\n",
              "      display: none;\n",
              "      fill: #1967D2;\n",
              "      height: 32px;\n",
              "      padding: 0 0 0 0;\n",
              "      width: 32px;\n",
              "    }\n",
              "\n",
              "    .colab-df-convert:hover {\n",
              "      background-color: #E2EBFA;\n",
              "      box-shadow: 0px 1px 2px rgba(60, 64, 67, 0.3), 0px 1px 3px 1px rgba(60, 64, 67, 0.15);\n",
              "      fill: #174EA6;\n",
              "    }\n",
              "\n",
              "    .colab-df-buttons div {\n",
              "      margin-bottom: 4px;\n",
              "    }\n",
              "\n",
              "    [theme=dark] .colab-df-convert {\n",
              "      background-color: #3B4455;\n",
              "      fill: #D2E3FC;\n",
              "    }\n",
              "\n",
              "    [theme=dark] .colab-df-convert:hover {\n",
              "      background-color: #434B5C;\n",
              "      box-shadow: 0px 1px 3px 1px rgba(0, 0, 0, 0.15);\n",
              "      filter: drop-shadow(0px 1px 2px rgba(0, 0, 0, 0.3));\n",
              "      fill: #FFFFFF;\n",
              "    }\n",
              "  </style>\n",
              "\n",
              "    <script>\n",
              "      const buttonEl =\n",
              "        document.querySelector('#df-563216a1-b30f-4b74-a772-6ac2fecb1f55 button.colab-df-convert');\n",
              "      buttonEl.style.display =\n",
              "        google.colab.kernel.accessAllowed ? 'block' : 'none';\n",
              "\n",
              "      async function convertToInteractive(key) {\n",
              "        const element = document.querySelector('#df-563216a1-b30f-4b74-a772-6ac2fecb1f55');\n",
              "        const dataTable =\n",
              "          await google.colab.kernel.invokeFunction('convertToInteractive',\n",
              "                                                    [key], {});\n",
              "        if (!dataTable) return;\n",
              "\n",
              "        const docLinkHtml = 'Like what you see? Visit the ' +\n",
              "          '<a target=\"_blank\" href=https://colab.research.google.com/notebooks/data_table.ipynb>data table notebook</a>'\n",
              "          + ' to learn more about interactive tables.';\n",
              "        element.innerHTML = '';\n",
              "        dataTable['output_type'] = 'display_data';\n",
              "        await google.colab.output.renderOutput(dataTable, element);\n",
              "        const docLink = document.createElement('div');\n",
              "        docLink.innerHTML = docLinkHtml;\n",
              "        element.appendChild(docLink);\n",
              "      }\n",
              "    </script>\n",
              "  </div>\n",
              "\n",
              "\n",
              "<div id=\"df-4cbdfbaf-c83b-4c9f-9585-37c43ccf6bb4\">\n",
              "  <button class=\"colab-df-quickchart\" onclick=\"quickchart('df-4cbdfbaf-c83b-4c9f-9585-37c43ccf6bb4')\"\n",
              "            title=\"Suggest charts\"\n",
              "            style=\"display:none;\">\n",
              "\n",
              "<svg xmlns=\"http://www.w3.org/2000/svg\" height=\"24px\"viewBox=\"0 0 24 24\"\n",
              "     width=\"24px\">\n",
              "    <g>\n",
              "        <path d=\"M19 3H5c-1.1 0-2 .9-2 2v14c0 1.1.9 2 2 2h14c1.1 0 2-.9 2-2V5c0-1.1-.9-2-2-2zM9 17H7v-7h2v7zm4 0h-2V7h2v10zm4 0h-2v-4h2v4z\"/>\n",
              "    </g>\n",
              "</svg>\n",
              "  </button>\n",
              "\n",
              "<style>\n",
              "  .colab-df-quickchart {\n",
              "      --bg-color: #E8F0FE;\n",
              "      --fill-color: #1967D2;\n",
              "      --hover-bg-color: #E2EBFA;\n",
              "      --hover-fill-color: #174EA6;\n",
              "      --disabled-fill-color: #AAA;\n",
              "      --disabled-bg-color: #DDD;\n",
              "  }\n",
              "\n",
              "  [theme=dark] .colab-df-quickchart {\n",
              "      --bg-color: #3B4455;\n",
              "      --fill-color: #D2E3FC;\n",
              "      --hover-bg-color: #434B5C;\n",
              "      --hover-fill-color: #FFFFFF;\n",
              "      --disabled-bg-color: #3B4455;\n",
              "      --disabled-fill-color: #666;\n",
              "  }\n",
              "\n",
              "  .colab-df-quickchart {\n",
              "    background-color: var(--bg-color);\n",
              "    border: none;\n",
              "    border-radius: 50%;\n",
              "    cursor: pointer;\n",
              "    display: none;\n",
              "    fill: var(--fill-color);\n",
              "    height: 32px;\n",
              "    padding: 0;\n",
              "    width: 32px;\n",
              "  }\n",
              "\n",
              "  .colab-df-quickchart:hover {\n",
              "    background-color: var(--hover-bg-color);\n",
              "    box-shadow: 0 1px 2px rgba(60, 64, 67, 0.3), 0 1px 3px 1px rgba(60, 64, 67, 0.15);\n",
              "    fill: var(--button-hover-fill-color);\n",
              "  }\n",
              "\n",
              "  .colab-df-quickchart-complete:disabled,\n",
              "  .colab-df-quickchart-complete:disabled:hover {\n",
              "    background-color: var(--disabled-bg-color);\n",
              "    fill: var(--disabled-fill-color);\n",
              "    box-shadow: none;\n",
              "  }\n",
              "\n",
              "  .colab-df-spinner {\n",
              "    border: 2px solid var(--fill-color);\n",
              "    border-color: transparent;\n",
              "    border-bottom-color: var(--fill-color);\n",
              "    animation:\n",
              "      spin 1s steps(1) infinite;\n",
              "  }\n",
              "\n",
              "  @keyframes spin {\n",
              "    0% {\n",
              "      border-color: transparent;\n",
              "      border-bottom-color: var(--fill-color);\n",
              "      border-left-color: var(--fill-color);\n",
              "    }\n",
              "    20% {\n",
              "      border-color: transparent;\n",
              "      border-left-color: var(--fill-color);\n",
              "      border-top-color: var(--fill-color);\n",
              "    }\n",
              "    30% {\n",
              "      border-color: transparent;\n",
              "      border-left-color: var(--fill-color);\n",
              "      border-top-color: var(--fill-color);\n",
              "      border-right-color: var(--fill-color);\n",
              "    }\n",
              "    40% {\n",
              "      border-color: transparent;\n",
              "      border-right-color: var(--fill-color);\n",
              "      border-top-color: var(--fill-color);\n",
              "    }\n",
              "    60% {\n",
              "      border-color: transparent;\n",
              "      border-right-color: var(--fill-color);\n",
              "    }\n",
              "    80% {\n",
              "      border-color: transparent;\n",
              "      border-right-color: var(--fill-color);\n",
              "      border-bottom-color: var(--fill-color);\n",
              "    }\n",
              "    90% {\n",
              "      border-color: transparent;\n",
              "      border-bottom-color: var(--fill-color);\n",
              "    }\n",
              "  }\n",
              "</style>\n",
              "\n",
              "  <script>\n",
              "    async function quickchart(key) {\n",
              "      const quickchartButtonEl =\n",
              "        document.querySelector('#' + key + ' button');\n",
              "      quickchartButtonEl.disabled = true;  // To prevent multiple clicks.\n",
              "      quickchartButtonEl.classList.add('colab-df-spinner');\n",
              "      try {\n",
              "        const charts = await google.colab.kernel.invokeFunction(\n",
              "            'suggestCharts', [key], {});\n",
              "      } catch (error) {\n",
              "        console.error('Error during call to suggestCharts:', error);\n",
              "      }\n",
              "      quickchartButtonEl.classList.remove('colab-df-spinner');\n",
              "      quickchartButtonEl.classList.add('colab-df-quickchart-complete');\n",
              "    }\n",
              "    (() => {\n",
              "      let quickchartButtonEl =\n",
              "        document.querySelector('#df-4cbdfbaf-c83b-4c9f-9585-37c43ccf6bb4 button');\n",
              "      quickchartButtonEl.style.display =\n",
              "        google.colab.kernel.accessAllowed ? 'block' : 'none';\n",
              "    })();\n",
              "  </script>\n",
              "</div>\n",
              "\n",
              "    </div>\n",
              "  </div>\n"
            ],
            "application/vnd.google.colaboratory.intrinsic+json": {
              "type": "dataframe",
              "variable_name": "test",
              "summary": "{\n  \"name\": \"test\",\n  \"rows\": 200,\n  \"fields\": [\n    {\n      \"column\": \"text\",\n      \"properties\": {\n        \"dtype\": \"string\",\n        \"num_unique_values\": 196,\n        \"samples\": [\n          \"Today June 14th is his birthday202-419-1420 w mainAsst: KatieAsst. Ali cell###\",\n          \"As prelude\",\n          \"HolbrookeRC@state.gov\"\n        ],\n        \"semantic_type\": \"\",\n        \"description\": \"\"\n      }\n    },\n    {\n      \"column\": \"label\",\n      \"properties\": {\n        \"dtype\": \"number\",\n        \"std\": 0,\n        \"min\": 0,\n        \"max\": 1,\n        \"num_unique_values\": 2,\n        \"samples\": [\n          0,\n          1\n        ],\n        \"semantic_type\": \"\",\n        \"description\": \"\"\n      }\n    }\n  ]\n}"
            }
          },
          "metadata": {},
          "execution_count": 5
        }
      ],
      "source": [
        "# Create training and test sets\n",
        "\n",
        "train, test = train_test_split(data, test_size=0.2, random_state=42)\n",
        "print(train.shape, test.shape)\n",
        "\n",
        "train.head()\n",
        "test.head()\n"
      ]
    },
    {
      "cell_type": "markdown",
      "metadata": {
        "id": "Gv_nT96x1i-X"
      },
      "source": [
        "## Data Preprocessing"
      ]
    },
    {
      "cell_type": "code",
      "execution_count": 6,
      "metadata": {
        "colab": {
          "base_uri": "https://localhost:8080/"
        },
        "id": "YsRTCuyQ1i-X",
        "outputId": "bc5e3aa2-2f57-4b8e-ca76-44776eadbcfa"
      },
      "outputs": [
        {
          "output_type": "stream",
          "name": "stdout",
          "text": [
            "!\"#$%&'()*+,-./:;<=>?@[\\]^_`{|}~\n",
            "['here', 'there', 'when', 'where', 'why', 'how', 'all', 'any', 'both', 'each']\n"
          ]
        },
        {
          "output_type": "stream",
          "name": "stderr",
          "text": [
            "[nltk_data] Downloading package stopwords to /root/nltk_data...\n",
            "[nltk_data]   Unzipping corpora/stopwords.zip.\n"
          ]
        }
      ],
      "source": [
        "import string\n",
        "import nltk\n",
        "nltk.download('stopwords')\n",
        "from nltk.corpus import stopwords\n",
        "print(string.punctuation)\n",
        "print(stopwords.words(\"english\")[100:110])\n",
        "from nltk.stem.snowball import SnowballStemmer\n",
        "snowball = SnowballStemmer('english')"
      ]
    },
    {
      "cell_type": "markdown",
      "metadata": {
        "id": "OebEqwie1i-X"
      },
      "source": [
        "## Now, we have to clean the html code removing words\n",
        "\n",
        "- First we remove inline JavaScript/CSS\n",
        "- Then we remove html comments. This has to be done before removing regular tags since comments can contain '>' characters\n",
        "- Next we can remove the remaining tags"
      ]
    },
    {
      "cell_type": "code",
      "execution_count": 7,
      "metadata": {
        "colab": {
          "base_uri": "https://localhost:8080/"
        },
        "id": "lKo5zpUE1i-X",
        "outputId": "85060d21-6599-4baf-d769-817448970df3"
      },
      "outputs": [
        {
          "output_type": "stream",
          "name": "stdout",
          "text": [
            "----------- REGARDS, MR NELSON SMITH.KINDLY REPLY ME ON MY PRIVATE EMAIL ADDRESS;nelsonsmith2000@yahoo.com\n",
            "Dear Sir=2C I wish you go through this offer to consider being my partner=2EI am Mr=2ESAMSON BAMOGU =2E=2Cfrom the republic of Sierra-Leone in west Africa=2Cnow seeking political asylum in Senegal under the =28UNHCR=29=2EI got your contact through my search for a business partner=2E In Details=2EMy late father =28Dr=2EMUSTAPHA BAMOGU=29 was the managing director of Rainbow Gold Diamond Mining company in =28KEN EMA=29 Sierra- Leone=2EBut was killed during the longing civil war and all his properties was totally destroyed=2EHowever=2C we managed to escape with some of my father's precious Diamonds which is presently deposited safely in a security and finance company here in Dakar=2E Now we are saddled with the problem of securing a trust worthy foreign personality to help us transfer the diamonds over to his country pending my arrival to meet with him=2EFurthermore=2Cwe only want this done this way because your country is politically stable for any profitable investment and if you accept our proposal=2Cyou will serve as the beneficiary of the diamonds=2E I am giving you the offers as mentioned with every confidence on your acceptance to assist us=2Cwe have decided to give you 10% out of the total money generated from the sales of the diamonds=2ESecondly=2Cwe shall mapped out 2% for any miscellaneous expenses that you may incur during the transferring of the diamonds over to your country=2E Finally=2Cthe diamond weight in question is 14=2E550 Carats=2EConclusively=2Ci wish you send me a reply immediately as soon as you receive this proposal=2C so that we shall arrange on how to lift this consignment out of Dakar Senegal to your country=2E On commencement=2Cthis transaction will take =287=29 working days to be accomplished=2EA certificate of ownership=2C and the Lab-test result certificate of the diamonds would be fax to you immediately i receive your urgent and positive reply=2E My alternative email address is =28s=5Fk=5Fmanis2004=40yahoo=2Efr=29 Until theni remain with the best regards=2E Regards=2C Samson=2E \n"
          ]
        },
        {
          "output_type": "stream",
          "name": "stderr",
          "text": [
            "<ipython-input-7-5f1b91083d92>:7: MarkupResemblesLocatorWarning: The input looks more like a filename than markup. You may want to open this file and pass the filehandle into Beautiful Soup.\n",
            "  soup = BeautifulSoup(text, \"html.parser\")\n",
            "<ipython-input-7-5f1b91083d92>:7: MarkupResemblesLocatorWarning: The input looks more like a URL than markup. You may want to use an HTTP client like requests to get the document behind the URL, and feed that document to Beautiful Soup.\n",
            "  soup = BeautifulSoup(text, \"html.parser\")\n"
          ]
        }
      ],
      "source": [
        "# Your code\n",
        "from bs4 import BeautifulSoup\n",
        "import re\n",
        "\n",
        "# remove javascript, css, from my training data and test data\n",
        "def remove_html_tags(text):\n",
        "    soup = BeautifulSoup(text, \"html.parser\")\n",
        "    stripped_text = soup.get_text(separator=\" \")\n",
        "    return stripped_text\n",
        "\n",
        "# Apply the function to the train and test data\n",
        "train['text'] = train['text'].apply(remove_html_tags)\n",
        "test['text'] = test['text'].apply(remove_html_tags)\n",
        "\n",
        "# Check if the function works\n",
        "print(train['text'].iloc[0])\n",
        "print(test['text'].iloc[0])"
      ]
    },
    {
      "cell_type": "code",
      "source": [
        "# Remove html comments\n",
        "def remove_html_comments(text):\n",
        "    return re.sub(r\"<!--.*?-->\", \"\", text)\n",
        "\n",
        "# Apply the function to the train and test data\n",
        "train['text'] = train['text'].apply(remove_html_comments)\n",
        "test['text'] = test['text'].apply(remove_html_comments)\n",
        "\n",
        "# Check if the function works\n",
        "print(train['text'].iloc[0])\n",
        "print(test['text'].iloc[0])"
      ],
      "metadata": {
        "colab": {
          "base_uri": "https://localhost:8080/"
        },
        "id": "q3LINFbk-dSj",
        "outputId": "3cd9986b-11c6-4721-ab01-4a17cc1f8368"
      },
      "execution_count": 8,
      "outputs": [
        {
          "output_type": "stream",
          "name": "stdout",
          "text": [
            "----------- REGARDS, MR NELSON SMITH.KINDLY REPLY ME ON MY PRIVATE EMAIL ADDRESS;nelsonsmith2000@yahoo.com\n",
            "Dear Sir=2C I wish you go through this offer to consider being my partner=2EI am Mr=2ESAMSON BAMOGU =2E=2Cfrom the republic of Sierra-Leone in west Africa=2Cnow seeking political asylum in Senegal under the =28UNHCR=29=2EI got your contact through my search for a business partner=2E In Details=2EMy late father =28Dr=2EMUSTAPHA BAMOGU=29 was the managing director of Rainbow Gold Diamond Mining company in =28KEN EMA=29 Sierra- Leone=2EBut was killed during the longing civil war and all his properties was totally destroyed=2EHowever=2C we managed to escape with some of my father's precious Diamonds which is presently deposited safely in a security and finance company here in Dakar=2E Now we are saddled with the problem of securing a trust worthy foreign personality to help us transfer the diamonds over to his country pending my arrival to meet with him=2EFurthermore=2Cwe only want this done this way because your country is politically stable for any profitable investment and if you accept our proposal=2Cyou will serve as the beneficiary of the diamonds=2E I am giving you the offers as mentioned with every confidence on your acceptance to assist us=2Cwe have decided to give you 10% out of the total money generated from the sales of the diamonds=2ESecondly=2Cwe shall mapped out 2% for any miscellaneous expenses that you may incur during the transferring of the diamonds over to your country=2E Finally=2Cthe diamond weight in question is 14=2E550 Carats=2EConclusively=2Ci wish you send me a reply immediately as soon as you receive this proposal=2C so that we shall arrange on how to lift this consignment out of Dakar Senegal to your country=2E On commencement=2Cthis transaction will take =287=29 working days to be accomplished=2EA certificate of ownership=2C and the Lab-test result certificate of the diamonds would be fax to you immediately i receive your urgent and positive reply=2E My alternative email address is =28s=5Fk=5Fmanis2004=40yahoo=2Efr=29 Until theni remain with the best regards=2E Regards=2C Samson=2E \n"
          ]
        }
      ]
    },
    {
      "cell_type": "code",
      "source": [
        "# Remove html tags\n",
        "def remove_html_tags(text):\n",
        "    return re.sub(r\"<.*?>\", \"\", text)\n",
        "\n",
        "# Apply the function to the train and test data\n",
        "train['text'] = train['text'].apply(remove_html_tags)\n",
        "test['text'] = test['text'].apply(remove_html_tags)\n",
        "\n",
        "# Check if the function works\n",
        "print(train['text'].iloc[0])\n",
        "print(test['text'].iloc[0])"
      ],
      "metadata": {
        "colab": {
          "base_uri": "https://localhost:8080/"
        },
        "id": "FcDVOu9T-f_o",
        "outputId": "56725d29-ebc3-4e3f-a8c2-747708a0ceeb"
      },
      "execution_count": 9,
      "outputs": [
        {
          "output_type": "stream",
          "name": "stdout",
          "text": [
            "----------- REGARDS, MR NELSON SMITH.KINDLY REPLY ME ON MY PRIVATE EMAIL ADDRESS;nelsonsmith2000@yahoo.com\n",
            "Dear Sir=2C I wish you go through this offer to consider being my partner=2EI am Mr=2ESAMSON BAMOGU =2E=2Cfrom the republic of Sierra-Leone in west Africa=2Cnow seeking political asylum in Senegal under the =28UNHCR=29=2EI got your contact through my search for a business partner=2E In Details=2EMy late father =28Dr=2EMUSTAPHA BAMOGU=29 was the managing director of Rainbow Gold Diamond Mining company in =28KEN EMA=29 Sierra- Leone=2EBut was killed during the longing civil war and all his properties was totally destroyed=2EHowever=2C we managed to escape with some of my father's precious Diamonds which is presently deposited safely in a security and finance company here in Dakar=2E Now we are saddled with the problem of securing a trust worthy foreign personality to help us transfer the diamonds over to his country pending my arrival to meet with him=2EFurthermore=2Cwe only want this done this way because your country is politically stable for any profitable investment and if you accept our proposal=2Cyou will serve as the beneficiary of the diamonds=2E I am giving you the offers as mentioned with every confidence on your acceptance to assist us=2Cwe have decided to give you 10% out of the total money generated from the sales of the diamonds=2ESecondly=2Cwe shall mapped out 2% for any miscellaneous expenses that you may incur during the transferring of the diamonds over to your country=2E Finally=2Cthe diamond weight in question is 14=2E550 Carats=2EConclusively=2Ci wish you send me a reply immediately as soon as you receive this proposal=2C so that we shall arrange on how to lift this consignment out of Dakar Senegal to your country=2E On commencement=2Cthis transaction will take =287=29 working days to be accomplished=2EA certificate of ownership=2C and the Lab-test result certificate of the diamonds would be fax to you immediately i receive your urgent and positive reply=2E My alternative email address is =28s=5Fk=5Fmanis2004=40yahoo=2Efr=29 Until theni remain with the best regards=2E Regards=2C Samson=2E \n"
          ]
        }
      ]
    },
    {
      "cell_type": "markdown",
      "metadata": {
        "id": "C4giJE9b1i-X"
      },
      "source": [
        "- Remove all the special characters\n",
        "    \n",
        "- Remove numbers\n",
        "    \n",
        "- Remove all single characters\n",
        "\n",
        "- Remove single characters from the start\n",
        "\n",
        "- Substitute multiple spaces with single space\n",
        "\n",
        "- Remove prefixed 'b'\n",
        "\n",
        "- Convert to Lowercase"
      ]
    },
    {
      "cell_type": "code",
      "execution_count": 10,
      "metadata": {
        "id": "ZXf86DuI1i-X",
        "colab": {
          "base_uri": "https://localhost:8080/"
        },
        "outputId": "70d817e5-ccfa-4746-a936-087f304c2193"
      },
      "outputs": [
        {
          "output_type": "stream",
          "name": "stdout",
          "text": [
            " REGARDS MR NELSON SMITHKINDLY REPLY ME ON MY PRIVATE EMAIL ADDRESSnelsonsmith2000yahoocom\n",
            "Dear Sir2C I wish you go through this offer to consider being my partner2EI am Mr2ESAMSON BAMOGU 2E2Cfrom the republic of SierraLeone in west Africa2Cnow seeking political asylum in Senegal under the 28UNHCR292EI got your contact through my search for a business partner2E In Details2EMy late father 28Dr2EMUSTAPHA BAMOGU29 was the managing director of Rainbow Gold Diamond Mining company in 28KEN EMA29 Sierra Leone2EBut was killed during the longing civil war and all his properties was totally destroyed2EHowever2C we managed to escape with some of my fathers precious Diamonds which is presently deposited safely in a security and finance company here in Dakar2E Now we are saddled with the problem of securing a trust worthy foreign personality to help us transfer the diamonds over to his country pending my arrival to meet with him2EFurthermore2Cwe only want this done this way because your country is politically stable for any profitable investment and if you accept our proposal2Cyou will serve as the beneficiary of the diamonds2E I am giving you the offers as mentioned with every confidence on your acceptance to assist us2Cwe have decided to give you 10 out of the total money generated from the sales of the diamonds2ESecondly2Cwe shall mapped out 2 for any miscellaneous expenses that you may incur during the transferring of the diamonds over to your country2E Finally2Cthe diamond weight in question is 142E550 Carats2EConclusively2Ci wish you send me a reply immediately as soon as you receive this proposal2C so that we shall arrange on how to lift this consignment out of Dakar Senegal to your country2E On commencement2Cthis transaction will take 28729 working days to be accomplished2EA certificate of ownership2C and the Labtest result certificate of the diamonds would be fax to you immediately i receive your urgent and positive reply2E My alternative email address is 28s5Fk5Fmanis200440yahoo2Efr29 Until theni remain with the best regards2E Regards2C Samson2E \n"
          ]
        }
      ],
      "source": [
        "# Your code\n",
        "# remove all special characters\n",
        "def remove_special_characters(text):\n",
        "    return re.sub(r\"[^a-zA-Z0-9\\s]\", \"\", text)\n",
        "\n",
        "# Apply the function to the train and test data\n",
        "train['text'] = train['text'].apply(remove_special_characters)\n",
        "test['text'] = test['text'].apply(remove_special_characters)\n",
        "\n",
        "# Check if the function works\n",
        "print(train['text'].iloc[0])\n",
        "print(test['text'].iloc[0])\n"
      ]
    },
    {
      "cell_type": "code",
      "source": [
        "#remove all numbers from the text data\n",
        "def remove_numbers(text):\n",
        "    return re.sub(r\"\\d\", \"\", text)\n",
        "\n",
        "# Apply the function to the train and test data\n",
        "train['text'] = train['text'].apply(remove_numbers)\n",
        "test['text'] = test['text'].apply(remove_numbers)\n",
        "\n",
        "# Check if the function works\n",
        "print(train['text'].iloc[0])\n",
        "print(test['text'].iloc[0])\n"
      ],
      "metadata": {
        "colab": {
          "base_uri": "https://localhost:8080/"
        },
        "id": "cYg1doRH_ZQs",
        "outputId": "f888b544-8e64-4364-cc98-330f722bdf62"
      },
      "execution_count": 11,
      "outputs": [
        {
          "output_type": "stream",
          "name": "stdout",
          "text": [
            " REGARDS MR NELSON SMITHKINDLY REPLY ME ON MY PRIVATE EMAIL ADDRESSnelsonsmithyahoocom\n",
            "Dear SirC I wish you go through this offer to consider being my partnerEI am MrESAMSON BAMOGU ECfrom the republic of SierraLeone in west AfricaCnow seeking political asylum in Senegal under the UNHCREI got your contact through my search for a business partnerE In DetailsEMy late father DrEMUSTAPHA BAMOGU was the managing director of Rainbow Gold Diamond Mining company in KEN EMA Sierra LeoneEBut was killed during the longing civil war and all his properties was totally destroyedEHoweverC we managed to escape with some of my fathers precious Diamonds which is presently deposited safely in a security and finance company here in DakarE Now we are saddled with the problem of securing a trust worthy foreign personality to help us transfer the diamonds over to his country pending my arrival to meet with himEFurthermoreCwe only want this done this way because your country is politically stable for any profitable investment and if you accept our proposalCyou will serve as the beneficiary of the diamondsE I am giving you the offers as mentioned with every confidence on your acceptance to assist usCwe have decided to give you  out of the total money generated from the sales of the diamondsESecondlyCwe shall mapped out  for any miscellaneous expenses that you may incur during the transferring of the diamonds over to your countryE FinallyCthe diamond weight in question is E CaratsEConclusivelyCi wish you send me a reply immediately as soon as you receive this proposalC so that we shall arrange on how to lift this consignment out of Dakar Senegal to your countryE On commencementCthis transaction will take  working days to be accomplishedEA certificate of ownershipC and the Labtest result certificate of the diamonds would be fax to you immediately i receive your urgent and positive replyE My alternative email address is sFkFmanisyahooEfr Until theni remain with the best regardsE RegardsC SamsonE \n"
          ]
        }
      ]
    },
    {
      "cell_type": "code",
      "source": [
        "#remove all single characters from the text data\n",
        "def remove_single_characters(text):\n",
        "    return re.sub(r\"\\b\\w\\b\", \"\", text)\n",
        "\n",
        "# Apply the function to the train and test data\n",
        "train['text'] = train['text'].apply(remove_single_characters)\n",
        "test['text'] = test['text'].apply(remove_single_characters)\n",
        "\n",
        "# Check if the function works\n",
        "print(train['text'].iloc[0])\n",
        "print(test['text'].iloc[0])"
      ],
      "metadata": {
        "colab": {
          "base_uri": "https://localhost:8080/"
        },
        "id": "vl1XMBYi_b_x",
        "outputId": "a2a9df95-ad7e-43e1-a077-2bf892b8a656"
      },
      "execution_count": 12,
      "outputs": [
        {
          "output_type": "stream",
          "name": "stdout",
          "text": [
            " REGARDS MR NELSON SMITHKINDLY REPLY ME ON MY PRIVATE EMAIL ADDRESSnelsonsmithyahoocom\n",
            "Dear SirC  wish you go through this offer to consider being my partnerEI am MrESAMSON BAMOGU ECfrom the republic of SierraLeone in west AfricaCnow seeking political asylum in Senegal under the UNHCREI got your contact through my search for  business partnerE In DetailsEMy late father DrEMUSTAPHA BAMOGU was the managing director of Rainbow Gold Diamond Mining company in KEN EMA Sierra LeoneEBut was killed during the longing civil war and all his properties was totally destroyedEHoweverC we managed to escape with some of my fathers precious Diamonds which is presently deposited safely in  security and finance company here in DakarE Now we are saddled with the problem of securing  trust worthy foreign personality to help us transfer the diamonds over to his country pending my arrival to meet with himEFurthermoreCwe only want this done this way because your country is politically stable for any profitable investment and if you accept our proposalCyou will serve as the beneficiary of the diamondsE  am giving you the offers as mentioned with every confidence on your acceptance to assist usCwe have decided to give you  out of the total money generated from the sales of the diamondsESecondlyCwe shall mapped out  for any miscellaneous expenses that you may incur during the transferring of the diamonds over to your countryE FinallyCthe diamond weight in question is  CaratsEConclusivelyCi wish you send me  reply immediately as soon as you receive this proposalC so that we shall arrange on how to lift this consignment out of Dakar Senegal to your countryE On commencementCthis transaction will take  working days to be accomplishedEA certificate of ownershipC and the Labtest result certificate of the diamonds would be fax to you immediately  receive your urgent and positive replyE My alternative email address is sFkFmanisyahooEfr Until theni remain with the best regardsE RegardsC SamsonE \n"
          ]
        }
      ]
    },
    {
      "cell_type": "code",
      "source": [
        "#Remove single characters from the start\n",
        "def remove_single_characters(text):\n",
        "    return re.sub(r\"\\s+[a-zA-Z]\\s+\", \" \", text)\n",
        "\n",
        "# Apply the function to the train and test data\n",
        "train['text'] = train['text'].apply(remove_single_characters)\n",
        "test['text'] = test['text'].apply(remove_single_characters)\n",
        "\n",
        "# Check if the function works\n",
        "print(train['text'].iloc[0])\n",
        "print(test['text'].iloc[0])"
      ],
      "metadata": {
        "colab": {
          "base_uri": "https://localhost:8080/"
        },
        "id": "hmG1t3Cd_rru",
        "outputId": "d91d1efb-2e75-4bb7-d533-a97e6148c301"
      },
      "execution_count": 13,
      "outputs": [
        {
          "output_type": "stream",
          "name": "stdout",
          "text": [
            " REGARDS MR NELSON SMITHKINDLY REPLY ME ON MY PRIVATE EMAIL ADDRESSnelsonsmithyahoocom\n",
            "Dear SirC  wish you go through this offer to consider being my partnerEI am MrESAMSON BAMOGU ECfrom the republic of SierraLeone in west AfricaCnow seeking political asylum in Senegal under the UNHCREI got your contact through my search for  business partnerE In DetailsEMy late father DrEMUSTAPHA BAMOGU was the managing director of Rainbow Gold Diamond Mining company in KEN EMA Sierra LeoneEBut was killed during the longing civil war and all his properties was totally destroyedEHoweverC we managed to escape with some of my fathers precious Diamonds which is presently deposited safely in  security and finance company here in DakarE Now we are saddled with the problem of securing  trust worthy foreign personality to help us transfer the diamonds over to his country pending my arrival to meet with himEFurthermoreCwe only want this done this way because your country is politically stable for any profitable investment and if you accept our proposalCyou will serve as the beneficiary of the diamondsE  am giving you the offers as mentioned with every confidence on your acceptance to assist usCwe have decided to give you  out of the total money generated from the sales of the diamondsESecondlyCwe shall mapped out  for any miscellaneous expenses that you may incur during the transferring of the diamonds over to your countryE FinallyCthe diamond weight in question is  CaratsEConclusivelyCi wish you send me  reply immediately as soon as you receive this proposalC so that we shall arrange on how to lift this consignment out of Dakar Senegal to your countryE On commencementCthis transaction will take  working days to be accomplishedEA certificate of ownershipC and the Labtest result certificate of the diamonds would be fax to you immediately  receive your urgent and positive replyE My alternative email address is sFkFmanisyahooEfr Until theni remain with the best regardsE RegardsC SamsonE \n"
          ]
        }
      ]
    },
    {
      "cell_type": "code",
      "source": [
        "#Substitute multiple spaces with single space\n",
        "def remove_extra_spaces(text):\n",
        "    return re.sub(r\"\\s+\", \" \", text)\n",
        "\n",
        "# Apply the function to the train and test data\n",
        "train['text'] = train['text'].apply(remove_extra_spaces)\n",
        "test['text'] = test['text'].apply(remove_extra_spaces)\n",
        "\n",
        "# Check if the function works\n",
        "print(train['text'].iloc[0])\n",
        "print(test['text'].iloc[0])\n"
      ],
      "metadata": {
        "colab": {
          "base_uri": "https://localhost:8080/"
        },
        "id": "7kCpBZQ6_3bd",
        "outputId": "1dfcfc89-bfc2-4b13-ab18-047cda3a8f5c"
      },
      "execution_count": 14,
      "outputs": [
        {
          "output_type": "stream",
          "name": "stdout",
          "text": [
            " REGARDS MR NELSON SMITHKINDLY REPLY ME ON MY PRIVATE EMAIL ADDRESSnelsonsmithyahoocom\n",
            "Dear SirC wish you go through this offer to consider being my partnerEI am MrESAMSON BAMOGU ECfrom the republic of SierraLeone in west AfricaCnow seeking political asylum in Senegal under the UNHCREI got your contact through my search for business partnerE In DetailsEMy late father DrEMUSTAPHA BAMOGU was the managing director of Rainbow Gold Diamond Mining company in KEN EMA Sierra LeoneEBut was killed during the longing civil war and all his properties was totally destroyedEHoweverC we managed to escape with some of my fathers precious Diamonds which is presently deposited safely in security and finance company here in DakarE Now we are saddled with the problem of securing trust worthy foreign personality to help us transfer the diamonds over to his country pending my arrival to meet with himEFurthermoreCwe only want this done this way because your country is politically stable for any profitable investment and if you accept our proposalCyou will serve as the beneficiary of the diamondsE am giving you the offers as mentioned with every confidence on your acceptance to assist usCwe have decided to give you out of the total money generated from the sales of the diamondsESecondlyCwe shall mapped out for any miscellaneous expenses that you may incur during the transferring of the diamonds over to your countryE FinallyCthe diamond weight in question is CaratsEConclusivelyCi wish you send me reply immediately as soon as you receive this proposalC so that we shall arrange on how to lift this consignment out of Dakar Senegal to your countryE On commencementCthis transaction will take working days to be accomplishedEA certificate of ownershipC and the Labtest result certificate of the diamonds would be fax to you immediately receive your urgent and positive replyE My alternative email address is sFkFmanisyahooEfr Until theni remain with the best regardsE RegardsC SamsonE \n"
          ]
        }
      ]
    },
    {
      "cell_type": "code",
      "source": [
        "#Remove prefixed 'b'\n",
        "def remove_prefixed_b(text):\n",
        "    return re.sub(r\"^b\\s+\", \"\", text)\n",
        "\n",
        "# Apply the function to the train and test data\n",
        "train['text'] = train['text'].apply(remove_prefixed_b)\n",
        "test['text'] = test['text'].apply(remove_prefixed_b)\n",
        "\n",
        "# Check if the function works\n",
        "print(train['text'].iloc[0])\n",
        "print(test['text'].iloc[0])"
      ],
      "metadata": {
        "colab": {
          "base_uri": "https://localhost:8080/"
        },
        "id": "JJEH5NrSAAYi",
        "outputId": "0375ec5b-4159-4918-ccb4-72c1229d20c0"
      },
      "execution_count": 15,
      "outputs": [
        {
          "output_type": "stream",
          "name": "stdout",
          "text": [
            " REGARDS MR NELSON SMITHKINDLY REPLY ME ON MY PRIVATE EMAIL ADDRESSnelsonsmithyahoocom\n",
            "Dear SirC wish you go through this offer to consider being my partnerEI am MrESAMSON BAMOGU ECfrom the republic of SierraLeone in west AfricaCnow seeking political asylum in Senegal under the UNHCREI got your contact through my search for business partnerE In DetailsEMy late father DrEMUSTAPHA BAMOGU was the managing director of Rainbow Gold Diamond Mining company in KEN EMA Sierra LeoneEBut was killed during the longing civil war and all his properties was totally destroyedEHoweverC we managed to escape with some of my fathers precious Diamonds which is presently deposited safely in security and finance company here in DakarE Now we are saddled with the problem of securing trust worthy foreign personality to help us transfer the diamonds over to his country pending my arrival to meet with himEFurthermoreCwe only want this done this way because your country is politically stable for any profitable investment and if you accept our proposalCyou will serve as the beneficiary of the diamondsE am giving you the offers as mentioned with every confidence on your acceptance to assist usCwe have decided to give you out of the total money generated from the sales of the diamondsESecondlyCwe shall mapped out for any miscellaneous expenses that you may incur during the transferring of the diamonds over to your countryE FinallyCthe diamond weight in question is CaratsEConclusivelyCi wish you send me reply immediately as soon as you receive this proposalC so that we shall arrange on how to lift this consignment out of Dakar Senegal to your countryE On commencementCthis transaction will take working days to be accomplishedEA certificate of ownershipC and the Labtest result certificate of the diamonds would be fax to you immediately receive your urgent and positive replyE My alternative email address is sFkFmanisyahooEfr Until theni remain with the best regardsE RegardsC SamsonE \n"
          ]
        }
      ]
    },
    {
      "cell_type": "code",
      "source": [
        "#Convert to Lowercase\n",
        "def to_lowercase(text):\n",
        "    return text.lower()\n",
        "\n",
        "# Apply the function to the train and test data\n",
        "train['text'] = train['text'].apply(to_lowercase)\n",
        "test['text'] = test['text'].apply(to_lowercase)\n",
        "\n",
        "# Check if the function works\n",
        "print(train['text'].iloc[0])\n",
        "print(test['text'].iloc[0])"
      ],
      "metadata": {
        "colab": {
          "base_uri": "https://localhost:8080/"
        },
        "id": "ufHG6WmlABt2",
        "outputId": "337e1d97-d9f8-400d-e95f-fbc6960fbb37"
      },
      "execution_count": 16,
      "outputs": [
        {
          "output_type": "stream",
          "name": "stdout",
          "text": [
            " regards mr nelson smithkindly reply me on my private email addressnelsonsmithyahoocom\n",
            "dear sirc wish you go through this offer to consider being my partnerei am mresamson bamogu ecfrom the republic of sierraleone in west africacnow seeking political asylum in senegal under the unhcrei got your contact through my search for business partnere in detailsemy late father dremustapha bamogu was the managing director of rainbow gold diamond mining company in ken ema sierra leoneebut was killed during the longing civil war and all his properties was totally destroyedehoweverc we managed to escape with some of my fathers precious diamonds which is presently deposited safely in security and finance company here in dakare now we are saddled with the problem of securing trust worthy foreign personality to help us transfer the diamonds over to his country pending my arrival to meet with himefurthermorecwe only want this done this way because your country is politically stable for any profitable investment and if you accept our proposalcyou will serve as the beneficiary of the diamondse am giving you the offers as mentioned with every confidence on your acceptance to assist uscwe have decided to give you out of the total money generated from the sales of the diamondsesecondlycwe shall mapped out for any miscellaneous expenses that you may incur during the transferring of the diamonds over to your countrye finallycthe diamond weight in question is caratseconclusivelyci wish you send me reply immediately as soon as you receive this proposalc so that we shall arrange on how to lift this consignment out of dakar senegal to your countrye on commencementcthis transaction will take working days to be accomplishedea certificate of ownershipc and the labtest result certificate of the diamonds would be fax to you immediately receive your urgent and positive replye my alternative email address is sfkfmanisyahooefr until theni remain with the best regardse regardsc samsone \n"
          ]
        }
      ]
    },
    {
      "cell_type": "markdown",
      "metadata": {
        "id": "-OIWYKls1i-Y"
      },
      "source": [
        "## Now let's work on removing stopwords\n",
        "Remove the stopwords."
      ]
    },
    {
      "cell_type": "code",
      "execution_count": 17,
      "metadata": {
        "id": "pijJFUrk1i-Y",
        "colab": {
          "base_uri": "https://localhost:8080/"
        },
        "outputId": "78483887-afca-452d-86da-ba83753de0ef"
      },
      "outputs": [
        {
          "output_type": "stream",
          "name": "stdout",
          "text": [
            "regards mr nelson smithkindly reply private email addressnelsonsmithyahoocom\n",
            "dear sirc wish go offer consider partnerei mresamson bamogu ecfrom republic sierraleone west africacnow seeking political asylum senegal unhcrei got contact search business partnere detailsemy late father dremustapha bamogu managing director rainbow gold diamond mining company ken ema sierra leoneebut killed longing civil war properties totally destroyedehoweverc managed escape fathers precious diamonds presently deposited safely security finance company dakare saddled problem securing trust worthy foreign personality help us transfer diamonds country pending arrival meet himefurthermorecwe want done way country politically stable profitable investment accept proposalcyou serve beneficiary diamondse giving offers mentioned every confidence acceptance assist uscwe decided give total money generated sales diamondsesecondlycwe shall mapped miscellaneous expenses may incur transferring diamonds countrye finallycthe diamond weight question caratseconclusivelyci wish send reply immediately soon receive proposalc shall arrange lift consignment dakar senegal countrye commencementcthis transaction take working days accomplishedea certificate ownershipc labtest result certificate diamonds would fax immediately receive urgent positive replye alternative email address sfkfmanisyahooefr theni remain best regardse regardsc samsone\n"
          ]
        }
      ],
      "source": [
        "# Your code\n",
        "def remove_stopwords(text):\n",
        "    words = text.split()\n",
        "    words = [word for word in words if word not in stopwords.words(\"english\")]\n",
        "    return \" \".join(words)\n",
        "\n",
        "# Apply the function to the train and test data\n",
        "train['text'] = train['text'].apply(remove_stopwords)\n",
        "test['text'] = test['text'].apply(remove_stopwords)\n",
        "\n",
        "# Check if the function works\n",
        "print(train['text'].iloc[0])\n",
        "print(test['text'].iloc[0])\n"
      ]
    },
    {
      "cell_type": "markdown",
      "metadata": {
        "id": "ZM1mM3U31i-Y"
      },
      "source": [
        "## Tame Your Text with Lemmatization\n",
        "Break sentences into words, then use lemmatization to reduce them to their base form (e.g., \"running\" becomes \"run\"). See how this creates cleaner data for analysis!"
      ]
    },
    {
      "cell_type": "code",
      "execution_count": 18,
      "metadata": {
        "id": "pzbMdiPJ1i-Y",
        "colab": {
          "base_uri": "https://localhost:8080/"
        },
        "outputId": "b224c1ec-46ea-4ab8-abda-02b361b5ae0c"
      },
      "outputs": [
        {
          "output_type": "stream",
          "name": "stderr",
          "text": [
            "[nltk_data] Downloading package wordnet to /root/nltk_data...\n"
          ]
        },
        {
          "output_type": "stream",
          "name": "stdout",
          "text": [
            "regard mr nelson smithkindly reply private email addressnelsonsmithyahoocom\n",
            "dear sirc wish go offer consider partnerei mresamson bamogu ecfrom republic sierraleone west africacnow seeking political asylum senegal unhcrei got contact search business partnere detailsemy late father dremustapha bamogu managing director rainbow gold diamond mining company ken ema sierra leoneebut killed longing civil war property totally destroyedehoweverc managed escape father precious diamond presently deposited safely security finance company dakare saddled problem securing trust worthy foreign personality help u transfer diamond country pending arrival meet himefurthermorecwe want done way country politically stable profitable investment accept proposalcyou serve beneficiary diamondse giving offer mentioned every confidence acceptance assist uscwe decided give total money generated sale diamondsesecondlycwe shall mapped miscellaneous expense may incur transferring diamond countrye finallycthe diamond weight question caratseconclusivelyci wish send reply immediately soon receive proposalc shall arrange lift consignment dakar senegal countrye commencementcthis transaction take working day accomplishedea certificate ownershipc labtest result certificate diamond would fax immediately receive urgent positive replye alternative email address sfkfmanisyahooefr theni remain best regardse regardsc samsone\n"
          ]
        }
      ],
      "source": [
        "# Your code\n",
        "#lemmatization\n",
        "from nltk.stem import WordNetLemmatizer\n",
        "nltk.download('wordnet')\n",
        "lemmatizer = WordNetLemmatizer()\n",
        "\n",
        "# break sentences into words using lemmatization\n",
        "def lemmatize_text(text):\n",
        "    words = text.split()\n",
        "    lemmatized_words = [lemmatizer.lemmatize(word) for word in words]\n",
        "    return \" \".join(lemmatized_words)\n",
        "\n",
        "# Apply the function to the train and test data\n",
        "train['text'] = train['text'].apply(lemmatize_text)\n",
        "test['text'] = test['text'].apply(lemmatize_text)\n",
        "\n",
        "# Check if the function works\n",
        "print(train['text'].iloc[0])\n",
        "print(test['text'].iloc[0])\n"
      ]
    },
    {
      "cell_type": "markdown",
      "metadata": {
        "id": "TlUXdUKA1i-Y"
      },
      "source": [
        "## Bag Of Words\n",
        "Let's get the 10 top words in ham and spam messages (**EXPLORATORY DATA ANALYSIS**)"
      ]
    },
    {
      "cell_type": "code",
      "execution_count": 19,
      "metadata": {
        "id": "KzszzN-n1i-Y",
        "outputId": "ddd1a861-8d39-40cd-d0f1-4990e5ac31cb",
        "colab": {
          "base_uri": "https://localhost:8080/"
        }
      },
      "outputs": [
        {
          "output_type": "stream",
          "name": "stdout",
          "text": [
            "[('u', 99), ('would', 93), ('state', 92), ('pm', 89), ('president', 84), ('percent', 76), ('call', 73), ('secretary', 71), ('time', 70), ('mr', 70)]\n",
            "[('money', 800), ('account', 666), ('bank', 608), ('fund', 570), ('u', 446), ('business', 395), ('transaction', 354), ('country', 343), ('transfer', 332), ('company', 322)]\n"
          ]
        }
      ],
      "source": [
        "# Your code\n",
        "#bag of words top 10 words in ham and spam\n",
        "from collections import Counter\n",
        "\n",
        "# Create a bag of words counter for ham and spam messages\n",
        "ham_words = Counter()\n",
        "spam_words = Counter()\n",
        "\n",
        "# Update the counter with the words in the training data\n",
        "train[train['label'] == 0]['text'].str.split().apply(ham_words.update)\n",
        "train[train['label'] == 1]['text'].str.split().apply(spam_words.update)\n",
        "\n",
        "# Print the 10 most common words in ham messages\n",
        "print(ham_words.most_common(10))\n",
        "\n",
        "# Print the 10 most common words in spam messages\n",
        "print(spam_words.most_common(10))\n",
        "\n",
        "\n"
      ]
    },
    {
      "cell_type": "markdown",
      "metadata": {
        "id": "3myw713s1i-Y"
      },
      "source": [
        "## Extra features"
      ]
    },
    {
      "cell_type": "code",
      "execution_count": null,
      "metadata": {
        "id": "vb9E1AN61i-Z",
        "colab": {
          "base_uri": "https://localhost:8080/",
          "height": 228
        },
        "outputId": "646e728f-ed1d-4cb3-cfb1-7b5addcecbd9"
      },
      "outputs": [
        {
          "output_type": "error",
          "ename": "NameError",
          "evalue": "name 'data_train' is not defined",
          "traceback": [
            "\u001b[0;31m---------------------------------------------------------------------------\u001b[0m",
            "\u001b[0;31mNameError\u001b[0m                                 Traceback (most recent call last)",
            "\u001b[0;32m<ipython-input-19-2b9181aa88df>\u001b[0m in \u001b[0;36m<cell line: 5>\u001b[0;34m()\u001b[0m\n\u001b[1;32m      3\u001b[0m \u001b[0msuspicious_words\u001b[0m \u001b[0;34m=\u001b[0m \u001b[0;34m\"|\"\u001b[0m\u001b[0;34m.\u001b[0m\u001b[0mjoin\u001b[0m\u001b[0;34m(\u001b[0m\u001b[0;34m[\u001b[0m\u001b[0;34m\"free\"\u001b[0m\u001b[0;34m,\u001b[0m\u001b[0;34m\"cheap\"\u001b[0m\u001b[0;34m,\u001b[0m\u001b[0;34m\"sex\"\u001b[0m\u001b[0;34m,\u001b[0m\u001b[0;34m\"money\"\u001b[0m\u001b[0;34m,\u001b[0m\u001b[0;34m\"account\"\u001b[0m\u001b[0;34m,\u001b[0m\u001b[0;34m\"bank\"\u001b[0m\u001b[0;34m,\u001b[0m\u001b[0;34m\"fund\"\u001b[0m\u001b[0;34m,\u001b[0m\u001b[0;34m\"transfer\"\u001b[0m\u001b[0;34m,\u001b[0m\u001b[0;34m\"transaction\"\u001b[0m\u001b[0;34m,\u001b[0m\u001b[0;34m\"win\"\u001b[0m\u001b[0;34m,\u001b[0m\u001b[0;34m\"deposit\"\u001b[0m\u001b[0;34m,\u001b[0m\u001b[0;34m\"password\"\u001b[0m\u001b[0;34m]\u001b[0m\u001b[0;34m)\u001b[0m\u001b[0;34m\u001b[0m\u001b[0;34m\u001b[0m\u001b[0m\n\u001b[1;32m      4\u001b[0m \u001b[0;34m\u001b[0m\u001b[0m\n\u001b[0;32m----> 5\u001b[0;31m \u001b[0mdata_train\u001b[0m\u001b[0;34m[\u001b[0m\u001b[0;34m'money_mark'\u001b[0m\u001b[0;34m]\u001b[0m \u001b[0;34m=\u001b[0m \u001b[0mdata_train\u001b[0m\u001b[0;34m[\u001b[0m\u001b[0;34m'preprocessed_text'\u001b[0m\u001b[0;34m]\u001b[0m\u001b[0;34m.\u001b[0m\u001b[0mstr\u001b[0m\u001b[0;34m.\u001b[0m\u001b[0mcontains\u001b[0m\u001b[0;34m(\u001b[0m\u001b[0mmoney_simbol_list\u001b[0m\u001b[0;34m)\u001b[0m\u001b[0;34m*\u001b[0m\u001b[0;36m1\u001b[0m\u001b[0;34m\u001b[0m\u001b[0;34m\u001b[0m\u001b[0m\n\u001b[0m\u001b[1;32m      6\u001b[0m \u001b[0mdata_train\u001b[0m\u001b[0;34m[\u001b[0m\u001b[0;34m'suspicious_words'\u001b[0m\u001b[0;34m]\u001b[0m \u001b[0;34m=\u001b[0m \u001b[0mdata_train\u001b[0m\u001b[0;34m[\u001b[0m\u001b[0;34m'preprocessed_text'\u001b[0m\u001b[0;34m]\u001b[0m\u001b[0;34m.\u001b[0m\u001b[0mstr\u001b[0m\u001b[0;34m.\u001b[0m\u001b[0mcontains\u001b[0m\u001b[0;34m(\u001b[0m\u001b[0msuspicious_words\u001b[0m\u001b[0;34m)\u001b[0m\u001b[0;34m*\u001b[0m\u001b[0;36m1\u001b[0m\u001b[0;34m\u001b[0m\u001b[0;34m\u001b[0m\u001b[0m\n\u001b[1;32m      7\u001b[0m \u001b[0mdata_train\u001b[0m\u001b[0;34m[\u001b[0m\u001b[0;34m'text_len'\u001b[0m\u001b[0;34m]\u001b[0m \u001b[0;34m=\u001b[0m \u001b[0mdata_train\u001b[0m\u001b[0;34m[\u001b[0m\u001b[0;34m'preprocessed_text'\u001b[0m\u001b[0;34m]\u001b[0m\u001b[0;34m.\u001b[0m\u001b[0mapply\u001b[0m\u001b[0;34m(\u001b[0m\u001b[0;32mlambda\u001b[0m \u001b[0mx\u001b[0m\u001b[0;34m:\u001b[0m \u001b[0mlen\u001b[0m\u001b[0;34m(\u001b[0m\u001b[0mx\u001b[0m\u001b[0;34m)\u001b[0m\u001b[0;34m)\u001b[0m\u001b[0;34m\u001b[0m\u001b[0;34m\u001b[0m\u001b[0m\n",
            "\u001b[0;31mNameError\u001b[0m: name 'data_train' is not defined"
          ]
        }
      ],
      "source": [
        "# We add to the original dataframe two additional indicators (money symbols and suspicious words).\n",
        "money_simbol_list = \"|\".join([\"euro\",\"dollar\",\"pound\",\"€\",\"$\"])\n",
        "suspicious_words = \"|\".join([\"free\",\"cheap\",\"sex\",\"money\",\"account\",\"bank\",\"fund\",\"transfer\",\"transaction\",\"win\",\"deposit\",\"password\"])\n",
        "\n",
        "data_train['money_mark'] = data_train['preprocessed_text'].str.contains(money_simbol_list)*1\n",
        "data_train['suspicious_words'] = data_train['preprocessed_text'].str.contains(suspicious_words)*1\n",
        "data_train['text_len'] = data_train['preprocessed_text'].apply(lambda x: len(x))\n",
        "\n",
        "data_val['money_mark'] = data_val['preprocessed_text'].str.contains(money_simbol_list)*1\n",
        "data_val['suspicious_words'] = data_val['preprocessed_text'].str.contains(suspicious_words)*1\n",
        "data_val['text_len'] = data_val['preprocessed_text'].apply(lambda x: len(x))\n",
        "\n",
        "data_train.head()"
      ]
    },
    {
      "cell_type": "markdown",
      "metadata": {
        "id": "MwluiING1i-Z"
      },
      "source": [
        "## How would work the Bag of Words with Count Vectorizer concept?"
      ]
    },
    {
      "cell_type": "code",
      "execution_count": null,
      "metadata": {
        "id": "dnqdcar61i-Z",
        "outputId": "069778a5-3d9d-48c1-9d02-72e519be1a2c",
        "colab": {
          "base_uri": "https://localhost:8080/"
        }
      },
      "outputs": [
        {
          "output_type": "stream",
          "name": "stdout",
          "text": [
            "(800, 16655) (200, 16655)\n"
          ]
        }
      ],
      "source": [
        "# Your code\n",
        "#bag of words with count vectorizer\n",
        "from sklearn.feature_extraction.text import CountVectorizer\n",
        "\n",
        "# Create a CountVectorizer object\n",
        "vectorizer = CountVectorizer()\n",
        "\n",
        "# Fit the vectorizer with the training data\n",
        "vectorizer.fit(train['text'])\n",
        "\n",
        "# Transform the text data to a sparse matrix\n",
        "X_train = vectorizer.transform(train['text'])\n",
        "X_test = vectorizer.transform(test['text'])\n",
        "\n",
        "# Check the shape of the resulting matrix\n",
        "print(X_train.shape, X_test.shape)"
      ]
    },
    {
      "cell_type": "markdown",
      "metadata": {
        "id": "AALwy9CW1i-Z"
      },
      "source": [
        "## TD-IDF\n",
        "\n",
        "- Load the vectorizer\n",
        "\n",
        "- Vectorize all dataset\n",
        "\n",
        "- print the shape of the vetorized dataset"
      ]
    },
    {
      "cell_type": "code",
      "execution_count": null,
      "metadata": {
        "id": "HJSTc5Ey1i-Z",
        "outputId": "16f2cbb1-e2da-4d1f-ba18-6f29b6f488c9",
        "colab": {
          "base_uri": "https://localhost:8080/"
        }
      },
      "outputs": [
        {
          "output_type": "execute_result",
          "data": {
            "text/plain": [
              "(1000, 25592)"
            ]
          },
          "metadata": {},
          "execution_count": 20
        }
      ],
      "source": [
        "# Your code\n",
        "#tfidf vectorizer\n",
        "from sklearn.feature_extraction.text import TfidfVectorizer\n",
        "\n",
        "# Create a TfidfVectorizer object\n",
        "vectorizer = TfidfVectorizer()\n",
        "\n",
        "# vectorize all the dataset\n",
        "vectorizer.fit(data['text'])\n",
        "X = vectorizer.transform(data['text'])\n",
        "X.shape\n",
        "\n"
      ]
    },
    {
      "cell_type": "markdown",
      "metadata": {
        "id": "l632d63H1i-Z"
      },
      "source": [
        "## And the Train a Classifier?"
      ]
    },
    {
      "cell_type": "code",
      "execution_count": null,
      "metadata": {
        "id": "m-jz38nh1i-Z",
        "outputId": "b67144ba-9ab7-4b75-887f-88468a7cca28",
        "colab": {
          "base_uri": "https://localhost:8080/"
        }
      },
      "outputs": [
        {
          "output_type": "stream",
          "name": "stdout",
          "text": [
            "Train accuracy: 0.96\n",
            "Test accuracy: 0.94\n"
          ]
        }
      ],
      "source": [
        "# Your code\n",
        "# train a classifier\n",
        "from sklearn.naive_bayes import MultinomialNB\n",
        "from sklearn.metrics import accuracy_score\n",
        "\n",
        "# Create a MultinomialNB object\n",
        "clf = MultinomialNB()\n",
        "\n",
        "# Fit the classifier\n",
        "clf.fit(X_train, train['label'])\n",
        "\n",
        "# Predict the labels\n",
        "train_pred = clf.predict(X_train)\n",
        "test_pred = clf.predict(X_test)\n",
        "\n",
        "# Calculate the accuracy\n",
        "train_acc = accuracy_score(train['label'], train_pred)\n",
        "test_acc = accuracy_score(test['label'], test_pred)\n",
        "\n",
        "print(f\"Train accuracy: {train_acc:.2f}\")\n",
        "print(f\"Test accuracy: {test_acc:.2f}\")\n",
        "\n"
      ]
    },
    {
      "cell_type": "markdown",
      "metadata": {
        "id": "ENNMYVUq1i-a"
      },
      "source": [
        "### Extra Task - Implement a SPAM/HAM classifier\n",
        "\n",
        "https://www.kaggle.com/t/b384e34013d54d238490103bc3c360ce\n",
        "\n",
        "The classifier can not be changed!!! It must be the MultinimialNB with default parameters!\n",
        "\n",
        "Your task is to find the **best feature representation**.\n",
        "\n",
        "You can work with teams of two persons (recommended)."
      ]
    },
    {
      "cell_type": "code",
      "execution_count": 25,
      "metadata": {
        "id": "XV-kP9eS1i-a",
        "outputId": "d60ab48f-2564-4785-853a-18c89d98f095",
        "colab": {
          "base_uri": "https://localhost:8080/"
        }
      },
      "outputs": [
        {
          "output_type": "stream",
          "name": "stdout",
          "text": [
            "Mean cross-validation score: 0.88\n",
            "Standard deviation of the cross-validation scores: 0.01\n",
            "Train classification report:\n",
            "              precision    recall  f1-score   support\n",
            "\n",
            "           0       0.99      0.98      0.98       433\n",
            "           1       0.98      0.98      0.98       367\n",
            "\n",
            "    accuracy                           0.98       800\n",
            "   macro avg       0.98      0.98      0.98       800\n",
            "weighted avg       0.98      0.98      0.98       800\n",
            "\n",
            "Test classification report:\n",
            "              precision    recall  f1-score   support\n",
            "\n",
            "           0       1.00      0.90      0.95       125\n",
            "           1       0.86      1.00      0.93        75\n",
            "\n",
            "    accuracy                           0.94       200\n",
            "   macro avg       0.93      0.95      0.94       200\n",
            "weighted avg       0.95      0.94      0.94       200\n",
            "\n"
          ]
        }
      ],
      "source": [
        "# Your code\n",
        "\n",
        "from sklearn.pipeline import Pipeline\n",
        "from sklearn.compose import ColumnTransformer\n",
        "from sklearn.preprocessing import FunctionTransformer\n",
        "from sklearn.feature_extraction.text import TfidfVectorizer\n",
        "from sklearn.naive_bayes import MultinomialNB\n",
        "from sklearn.model_selection import cross_val_score\n",
        "\n",
        "\n",
        "# Create a pipeline\n",
        "pipeline = Pipeline([\n",
        "    ('tfidf', TfidfVectorizer()),\n",
        "    ('clf', MultinomialNB())\n",
        "])\n",
        "\n",
        "# Cross-validate the pipeline\n",
        "cv_scores = cross_val_score(pipeline, data['text'], data['label'], cv=5)\n",
        "\n",
        "# Calculate the mean of the cross-validation scores and the standard deviation\n",
        "cv_mean = cv_scores.mean()\n",
        "cv_std = cv_scores.std()\n",
        "\n",
        "print(f\"Mean cross-validation score: {cv_mean:.2f}\")\n",
        "print(f\"Standard deviation of the cross-validation scores: {cv_std:.2f}\")\n",
        "\n",
        "\n",
        "#check the performance of the classifier\n",
        "from sklearn.metrics import classification_report\n",
        "\n",
        "# Fit the classifier\n",
        "pipeline.fit(train['text'], train['label'])\n",
        "\n",
        "# Predict the labels\n",
        "train_pred = pipeline.predict(train['text'])\n",
        "test_pred = pipeline.predict(test['text'])\n",
        "\n",
        "# Print the classification report\n",
        "print(\"Train classification report:\")\n",
        "\n",
        "print(classification_report(train['label'], train_pred))\n",
        "\n",
        "print(\"Test classification report:\")\n",
        "print(classification_report(test['label'], test_pred))\n",
        "\n",
        "\n",
        "\n"
      ]
    }
  ],
  "metadata": {
    "celltoolbar": "Slideshow",
    "kernelspec": {
      "display_name": "Python 3 (ipykernel)",
      "language": "python",
      "name": "python3"
    },
    "language_info": {
      "codemirror_mode": {
        "name": "ipython",
        "version": 3
      },
      "file_extension": ".py",
      "mimetype": "text/x-python",
      "name": "python",
      "nbconvert_exporter": "python",
      "pygments_lexer": "ipython3",
      "version": "3.11.5"
    },
    "colab": {
      "provenance": [],
      "include_colab_link": true
    }
  },
  "nbformat": 4,
  "nbformat_minor": 0
}