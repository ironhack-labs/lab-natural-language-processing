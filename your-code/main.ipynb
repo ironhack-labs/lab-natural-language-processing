{
 "cells": [
  {
   "cell_type": "code",
   "execution_count": null,
   "metadata": {},
   "outputs": [],
   "source": [
    "from IPython.core.display import display, HTML\n",
    "display(HTML(\"<style>.container { width:100% !important; }</style>\"))"
   ]
  },
  {
   "cell_type": "markdown",
   "metadata": {},
   "source": [
    "# Lab | Natural Language Processing\n",
    "### SMS: SPAM or HAM"
   ]
  },
  {
   "cell_type": "markdown",
   "metadata": {},
   "source": [
    "### Let's prepare the environment"
   ]
  },
  {
   "cell_type": "code",
   "execution_count": 1,
   "metadata": {},
   "outputs": [],
   "source": [
    "import pandas as pd\n",
    "import matplotlib.pyplot as plt\n",
    "from sklearn.feature_extraction.text import TfidfVectorizer"
   ]
  },
  {
   "cell_type": "markdown",
   "metadata": {},
   "source": [
    "- Read Data for the Fraudulent Email Kaggle Challenge\n",
    "- Reduce the training set to speead up development. "
   ]
  },
  {
   "cell_type": "code",
   "execution_count": null,
   "metadata": {},
   "outputs": [
    {
     "name": "stdout",
     "output_type": "stream",
     "text": [
      "(1000, 2)\n",
      "                                                text  label\n",
      "0  DEAR SIR, STRICTLY A PRIVATE BUSINESS PROPOSAL...      1\n",
      "1                                           Will do.      0\n",
      "2  Nora--Cheryl has emailed dozens of memos about...      0\n",
      "3  Dear Sir=2FMadam=2C I know that this proposal ...      1\n",
      "4                                                fyi      0\n",
      "                                                text\n",
      "0  usiness is for the fact that the deceased man ...\n",
      "1  They are happy to adjust to the afternoon. I a...\n",
      "2  Lael Brainard was confirmed 78-19 this afterno...\n",
      "3  H <hrod17@clintonemail.com>Friday March 26 201...\n",
      "4  n;\"> Dear Good Friend,<br><br><br>I am happy t...\n"
     ]
    }
   ],
   "source": [
    "## Read Data for the Fraudulent Email Kaggle Challenge\n",
    "data = pd.read_csv(\"data/kg_train.csv\",encoding='latin-1')\n",
    "\n",
    "test_data = pd.read_csv(\"data/kg_test.csv\",encoding='latin-1')\n",
    "\n",
    "# Reduce the training set to speed up development. \n",
    "# Modify for final system\n",
    "data = data.head(1000)\n",
    "print(data.shape)\n",
    "data.fillna(\"\",inplace=True)\n",
    "test_data.fillna(\"\",inplace=True)\n",
    "\n",
    "print(data.head())"
   ]
  },
  {
   "cell_type": "markdown",
   "metadata": {},
   "source": [
    "### Let's divide the training and test set into two partitions"
   ]
  },
  {
   "cell_type": "code",
   "execution_count": null,
   "metadata": {},
   "outputs": [
    {
     "name": "stdout",
     "output_type": "stream",
     "text": [
      "29     ----------- REGARDS, MR NELSON SMITH.KINDLY RE...\n",
      "535    I have not been able to reach oscar this am. W...\n",
      "695    ; Huma Abedin B6I'm checking with Pat on the 5...\n",
      "557    I can have it announced here on Monday - can't...\n",
      "836        BANK OF AFRICAAGENCE SAN PEDRO14 BP 1210 S...\n",
      "Name: text, dtype: object\n",
      "Index([ 29, 535, 695, 557, 836, 596, 165, 918, 495, 824,\n",
      "       ...\n",
      "       121, 614,  20, 700,  71, 106, 270, 860, 435, 102],\n",
      "      dtype='int64', length=800)\n"
     ]
    }
   ],
   "source": [
    "# Your code\n",
    "from sklearn.model_selection import train_test_split\n",
    "\n",
    "X_train, X_test, y_train, y_test = train_test_split(data['text'], data['label'], test_size = 0.2, random_state = 42)\n",
    "\n"
   ]
  },
  {
   "cell_type": "markdown",
   "metadata": {},
   "source": [
    "## Data Preprocessing"
   ]
  },
  {
   "cell_type": "code",
   "execution_count": 8,
   "metadata": {},
   "outputs": [
    {
     "name": "stdout",
     "output_type": "stream",
     "text": [
      "!\"#$%&'()*+,-./:;<=>?@[\\]^_`{|}~\n",
      "['needn', \"needn't\", 'no', 'nor', 'not', 'now', 'o', 'of', 'off', 'on']\n"
     ]
    }
   ],
   "source": [
    "import string\n",
    "from nltk.corpus import stopwords\n",
    "print(string.punctuation)\n",
    "print(stopwords.words(\"english\")[100:110])\n",
    "from nltk.stem.snowball import SnowballStemmer\n",
    "snowball = SnowballStemmer('english')"
   ]
  },
  {
   "cell_type": "markdown",
   "metadata": {},
   "source": [
    "## Now, we have to clean the html code removing words\n",
    "\n",
    "- First we remove inline JavaScript/CSS\n",
    "- Then we remove html comments. This has to be done before removing regular tags since comments can contain '>' characters\n",
    "- Next we can remove the remaining tags"
   ]
  },
  {
   "cell_type": "code",
   "execution_count": null,
   "metadata": {},
   "outputs": [],
   "source": [
    "# Your code\n",
    "# Remove inline JavaScript/CSS\n",
    "def remove_inline_js_css(text):\n",
    "    text = text.replace(\"<script>\", \"\").replace(\"</script>\", \"\")\n",
    "    text = text.replace(\"<style>\", \"\").replace(\"</style>\", \"\")\n",
    "    return text\n",
    "# Remove HTML comments\n",
    "def remove_html_comments(text):\n",
    "    return text.replace(\"<!--\", \"\").replace(\"-->\", \"\")\n",
    "# Remove HTML tags and remaining tags\n",
    "def remove_html_tags(text):\n",
    "    return text.replace(\"<\", \"\").replace(\">\", \"\")\n",
    "\n",
    "X_train = X_train.apply(remove_inline_js_css)\n",
    "X_train = X_train.apply(remove_html_comments)\n",
    "X_train = X_train.apply(remove_html_tags)\n",
    "\n",
    "X_test = X_test.apply(remove_inline_js_css)\n",
    "X_test = X_test.apply(remove_html_comments)\n",
    "X_test = X_test.apply(remove_html_tags)\n"
   ]
  },
  {
   "cell_type": "markdown",
   "metadata": {},
   "source": [
    "- Remove all the special characters\n",
    "    \n",
    "- Remove numbers\n",
    "    \n",
    "- Remove all single characters\n",
    " \n",
    "- Remove single characters from the start\n",
    "\n",
    "- Substitute multiple spaces with single space\n",
    "\n",
    "- Remove prefixed 'b'\n",
    "\n",
    "- Convert to Lowercase"
   ]
  },
  {
   "cell_type": "code",
   "execution_count": 16,
   "metadata": {},
   "outputs": [],
   "source": [
    "# Your code\n",
    "# Remove special characters, numbers, all single characters, single characters from the start, prefixed 'b'. Substitute multiple spaces with a single space. Convert to lowercase.\n",
    "def clean_text(text):\n",
    "    text = text.lower()\n",
    "    text = ''.join([char for char in text if char not in string.punctuation])\n",
    "    text = ' '.join([word for word in text.split() if len(word) > 1])\n",
    "    text = ' '.join([word for word in text.split() if not word.isdigit()])\n",
    "    return ' '.join(text.split())\n",
    "\n",
    "X_train = X_train.apply(clean_text)\n",
    "X_test = X_test.apply(clean_text)\n"
   ]
  },
  {
   "cell_type": "markdown",
   "metadata": {
    "slideshow": {
     "slide_type": "-"
    }
   },
   "source": [
    "## Now let's work on removing stopwords\n",
    "Remove the stopwords."
   ]
  },
  {
   "cell_type": "code",
   "execution_count": 17,
   "metadata": {},
   "outputs": [],
   "source": [
    "# Your code\n",
    "# Remove stopwords\n",
    "def remove_stopwords(text):\n",
    "    stop_words = set(stopwords.words(\"english\"))\n",
    "    return ' '.join([word for word in text.split() if word not in stop_words])\n",
    "\n",
    "X_train = X_train.apply(remove_stopwords)\n",
    "X_test = X_test.apply(remove_stopwords)"
   ]
  },
  {
   "cell_type": "markdown",
   "metadata": {},
   "source": [
    "## Tame Your Text with Lemmatization\n",
    "Break sentences into words, then use lemmatization to reduce them to their base form (e.g., \"running\" becomes \"run\"). See how this creates cleaner data for analysis!"
   ]
  },
  {
   "cell_type": "code",
   "execution_count": 20,
   "metadata": {},
   "outputs": [],
   "source": [
    "# Your code\n",
    "from nltk.tokenize import word_tokenize\n",
    "from nltk.stem import WordNetLemmatizer\n",
    "\n",
    "def text_preprocessing_lemmatization(text):\n",
    "    # Step 1: Tokenize the text\n",
    "    tokens = word_tokenize(text)\n",
    "    # Step 2: Remove punctuation\n",
    "    tokenized_tokens = [word for word in tokens if word.isalpha()]\n",
    "    # Step 3: Apply lemmatization\n",
    "    lemmatizer = WordNetLemmatizer()\n",
    "    lemmatized_tokens = [lemmatizer.lemmatize(word) for word in tokenized_tokens]\n",
    "    # Step 4: Return the lemmatized tokens\n",
    "    return lemmatized_tokens\n",
    "\n",
    "X_train = X_train.apply(text_preprocessing_lemmatization)\n",
    "X_test = X_test.apply(text_preprocessing_lemmatization)"
   ]
  },
  {
   "cell_type": "markdown",
   "metadata": {},
   "source": [
    "## Bag Of Words\n",
    "Let's get the 10 top words in ham and spam messages (**EXPLORATORY DATA ANALYSIS**)"
   ]
  },
  {
   "cell_type": "code",
   "execution_count": 29,
   "metadata": {},
   "outputs": [
    {
     "name": "stdout",
     "output_type": "stream",
     "text": [
      "Shape of X_train_bow: (800, 23374)\n",
      "Shape of X_test_bow: (200, 23374)\n",
      "Most frequent words in training set:\n",
      "the: 7327\n",
      "to: 5588\n",
      "of: 4791\n",
      "and: 4076\n",
      "in: 3228\n",
      "you: 2968\n",
      "this: 2385\n",
      "for: 2037\n",
      "your: 1834\n",
      "my: 1831\n"
     ]
    }
   ],
   "source": [
    "# Your code\n",
    "# Create Bag of Words (BoW) model\n",
    "from sklearn.feature_extraction.text import CountVectorizer\n",
    "\n",
    "vectorizer = CountVectorizer()\n",
    "X_train_bow = vectorizer.fit_transform(X_train.astype(str))\n",
    "X_test_bow = vectorizer.transform(X_test.astype(str))\n",
    "\n",
    "# Display the shape of the BOW matrices\n",
    "print(\"Shape of X_train_bow:\", X_train_bow.shape)\n",
    "print(\"Shape of X_test_bow:\", X_test_bow.shape)\n",
    "# Displya the 10 most frequent words in the training and test sets\n",
    "def display_most_frequent_words(X, vectorizer, n=10):\n",
    "    feature_names = vectorizer.get_feature_names_out()\n",
    "    sums = X.sum(axis=0)\n",
    "    data = [(feature_names[i], sums[0, i]) for i in range(sums.shape[1])]\n",
    "    sorted_data = sorted(data, key=lambda x: x[1], reverse=True)[:n]\n",
    "    for word, freq in sorted_data:\n",
    "        print(f\"{word}: {freq}\")\n",
    "print(\"Most frequent words in training set:\")\n",
    "display_most_frequent_words(X_train_bow, vectorizer, n=10)\n"
   ]
  },
  {
   "cell_type": "code",
   "execution_count": 22,
   "metadata": {},
   "outputs": [],
   "source": [
    "data_train = X_train\n",
    "data_val = X_test\n"
   ]
  },
  {
   "cell_type": "markdown",
   "metadata": {},
   "source": [
    "## Extra features"
   ]
  },
  {
   "cell_type": "code",
   "execution_count": 28,
   "metadata": {},
   "outputs": [
    {
     "data": {
      "text/plain": [
       "29     [regard, mr, nelson, smithkindly, reply, priva...\n",
       "535    [able, reach, oscar, supposed, send, pdb, rece...\n",
       "695    [huma, abedin, checking, pat, work, jack, jake...\n",
       "557                     [announced, monday, cant, today]\n",
       "836    [bank, africaagence, san, bp, san, pedro, divo...\n",
       "Name: text, dtype: object"
      ]
     },
     "execution_count": 28,
     "metadata": {},
     "output_type": "execute_result"
    }
   ],
   "source": [
    "# We add to the original dataframe two additional indicators (money symbols and suspicious words).\n",
    "money_simbol_list = \"|\".join([\"euro\",\"dollar\",\"pound\",\"€\",\"$\"])\n",
    "suspicious_words = \"|\".join([\"free\",\"cheap\",\"sex\",\"money\",\"account\",\"bank\",\"fund\",\"transfer\",\"transaction\",\"win\",\"deposit\",\"password\"])\n",
    "\n",
    "data_train['money_mark'] = data_train.str.contains(money_simbol_list)*1\n",
    "data_train['suspicious_words'] = data_train.str.contains(suspicious_words)*1\n",
    "data_train['text_len'] = data_train.apply(lambda x: len(x)) \n",
    "\n",
    "data_val['money_mark'] = data_val.str.contains(money_simbol_list)*1\n",
    "data_val['suspicious_words'] = data_val.str.contains(suspicious_words)*1\n",
    "data_val['text_len'] = data_val.apply(lambda x: len(x)) \n",
    "\n",
    "data_train.head()"
   ]
  },
  {
   "cell_type": "markdown",
   "metadata": {},
   "source": [
    "## How would work the Bag of Words with Count Vectorizer concept?"
   ]
  },
  {
   "cell_type": "code",
   "execution_count": 30,
   "metadata": {},
   "outputs": [
    {
     "name": "stdout",
     "output_type": "stream",
     "text": [
      "Shape of X_train_count: (800, 23374)\n",
      "Shape of X_test_count: (200, 23374)\n",
      "Most frequent words in training set (Count Vectorizer):\n",
      "the: 7327\n",
      "to: 5588\n",
      "of: 4791\n",
      "and: 4076\n",
      "in: 3228\n",
      "you: 2968\n",
      "this: 2385\n",
      "for: 2037\n",
      "your: 1834\n",
      "my: 1831\n"
     ]
    }
   ],
   "source": [
    "# Your code\n",
    "# Create Count Vectorizer with Bag of Words (BoW) model\n",
    "from sklearn.feature_extraction.text import CountVectorizer\n",
    "count_vectorizer = CountVectorizer()\n",
    "\n",
    "X_train_count = count_vectorizer.fit_transform(X_train.astype(str))\n",
    "X_test_count = count_vectorizer.transform(X_test.astype(str))\n",
    "\n",
    "# Display the shape of the Count Vectorizer matrices\n",
    "print(\"Shape of X_train_count:\", X_train_count.shape)\n",
    "print(\"Shape of X_test_count:\", X_test_count.shape)\n",
    "# Display the 10 most frequent words in the training and test sets\n",
    "def display_most_frequent_words_count(X, vectorizer, n=10):\n",
    "    feature_names = vectorizer.get_feature_names_out()\n",
    "    sums = X.sum(axis=0)\n",
    "    data = [(feature_names[i], sums[0, i]) for i in range(sums.shape[1])]\n",
    "    sorted_data = sorted(data, key=lambda x: x[1], reverse=True)[:n]\n",
    "    for word, freq in sorted_data:\n",
    "        print(f\"{word}: {freq}\")\n",
    "print(\"Most frequent words in training set (Count Vectorizer):\")\n",
    "display_most_frequent_words_count(X_train_count, count_vectorizer, n=10)\n",
    "\n",
    "\n"
   ]
  },
  {
   "cell_type": "markdown",
   "metadata": {},
   "source": [
    "## TD-IDF\n",
    "\n",
    "- Load the vectorizer\n",
    "\n",
    "- Vectorize all dataset\n",
    "\n",
    "- print the shape of the vetorized dataset"
   ]
  },
  {
   "cell_type": "code",
   "execution_count": 32,
   "metadata": {},
   "outputs": [
    {
     "name": "stdout",
     "output_type": "stream",
     "text": [
      "Shape of X_train_tfidf: (800, 23374)\n",
      "Shape of X_test_tfidf: (200, 23374)\n"
     ]
    }
   ],
   "source": [
    "# Your code\n",
    "from sklearn.feature_extraction.text import TfidfVectorizer\n",
    "# Create TF-IDF Vectorizer\n",
    "tfidf_vectorizer = TfidfVectorizer()\n",
    "X_train_tfidf = tfidf_vectorizer.fit_transform(X_train.astype(str))\n",
    "X_test_tfidf = tfidf_vectorizer.transform(X_test.astype(str))\n",
    "# Display the shape of the TF-IDF matrices\n",
    "print(\"Shape of X_train_tfidf:\", X_train_tfidf.shape)\n",
    "print(\"Shape of X_test_tfidf:\", X_test_tfidf.shape)\n"
   ]
  },
  {
   "cell_type": "markdown",
   "metadata": {},
   "source": [
    "## And the Train a Classifier?"
   ]
  },
  {
   "cell_type": "code",
   "execution_count": null,
   "metadata": {},
   "outputs": [
    {
     "name": "stdout",
     "output_type": "stream",
     "text": [
      "Accuracy: 0.99\n",
      "Classification Report:\n",
      "               precision    recall  f1-score   support\n",
      "\n",
      "           0       0.99      0.99      0.99       125\n",
      "           1       0.99      0.99      0.99        75\n",
      "\n",
      "    accuracy                           0.99       200\n",
      "   macro avg       0.99      0.99      0.99       200\n",
      "weighted avg       0.99      0.99      0.99       200\n",
      "\n"
     ]
    },
    {
     "data": {
      "image/png": "[encoded data removed]",
      "text/plain": [
       "<Figure size 800x600 with 2 Axes>"
      ]
     },
     "metadata": {},
     "output_type": "display_data"
    }
   ],
   "source": [
    "# Your code\n",
    "from sklearn.linear_model import LogisticRegressionCV\n",
    "# Train a Logistic Regression model with cross-validation\n",
    "log_reg = LogisticRegressionCV(cv=5, max_iter=1000, random_state=42)\n",
    "log_reg.fit(X_train_tfidf, y_train)\n",
    "# Evaluate the model on the test set\n",
    "from sklearn.metrics import accuracy_score, classification_report, confusion_matrix\n",
    "y_pred = log_reg.predict(X_test_tfidf)\n",
    "print(\"Accuracy:\", accuracy_score(y_test, y_pred))\n",
    "print(\"Classification Report:\\n\", classification_report(y_test, y_pred))\n",
    "# Display confusion matrix\n",
    "conf_matrix = confusion_matrix(y_test, y_pred)\n",
    "import seaborn as sns\n",
    "plt.figure(figsize=(8, 6))\n",
    "sns.heatmap(conf_matrix, annot=True, fmt='d', cmap='Blues', xticklabels=['Not Fraudulent', 'Fraudulent'], yticklabels=['Not Fraudulent', 'Fraudulent'])\n",
    "plt.xlabel('Predicted')\n",
    "plt.ylabel('Actual')\n",
    "plt.title('Confusion Matrix')\n",
    "plt.show()\n"
   ]
  },
  {
   "cell_type": "code",
   "execution_count": 38,
   "metadata": {},
   "outputs": [],
   "source": [
    "# Preprocess the test data\n",
    "test_data = test_data.apply(remove_inline_js_css)\n",
    "test_data = test_data.apply(remove_html_comments)\n",
    "test_data = test_data.apply(remove_html_tags)\n",
    "\n",
    "# Clean the test data with modified clean_text function\n",
    "def clean_text_mod(text):\n",
    "    text = ''.join([char for char in text if char not in string.punctuation])\n",
    "    text = ' '.join([word for word in text.split() if len(word) > 1])\n",
    "    text = ' '.join([word for word in text.split() if not word.isdigit()])\n",
    "    return ' '.join(text.split())\n",
    "\n",
    "test_data = test_data.apply(clean_text_mod)\n",
    "\n",
    "# Remove stopwords from the test data\n",
    "test_data = test_data.apply(remove_stopwords)\n",
    "# Apply lemmatization to the test data\n",
    "test_data = test_data.apply(text_preprocessing_lemmatization)\n",
    "# Transform the test data using the trained TF-IDF vectorizer\n",
    "X_test_final = tfidf_vectorizer.transform(test_data.astype(str))\n",
    "# Predict using the trained model\n",
    "test_predictions = log_reg.predict(X_test_final)\n",
    "# Create a DataFrame for the predictions\n",
    "submission_df = pd.DataFrame({'id': test_data.index, 'label': test_predictions})\n"
   ]
  },
  {
   "cell_type": "markdown",
   "metadata": {},
   "source": [
    "### Extra Task - Implement a SPAM/HAM classifier\n",
    "\n",
    "https://www.kaggle.com/t/b384e34013d54d238490103bc3c360ce\n",
    "\n",
    "The classifier can not be changed!!! It must be the MultinimialNB with default parameters!\n",
    "\n",
    "Your task is to find the **best feature representation**.\n",
    "\n",
    "You can work with teams of two persons (recommended)."
   ]
  },
  {
   "cell_type": "code",
   "execution_count": null,
   "metadata": {},
   "outputs": [],
   "source": [
    "# Your code"
   ]
  }
 ],
 "metadata": {
  "celltoolbar": "Slideshow",
  "kernelspec": {
   "display_name": "Python 3",
   "language": "python",
   "name": "python3"
  },
  "language_info": {
   "codemirror_mode": {
    "name": "ipython",
    "version": 3
   },
   "file_extension": ".py",
   "mimetype": "text/x-python",
   "name": "python",
   "nbconvert_exporter": "python",
   "pygments_lexer": "ipython3",
   "version": "3.11.9"
  }
 },
 "nbformat": 4,
 "nbformat_minor": 2
}
