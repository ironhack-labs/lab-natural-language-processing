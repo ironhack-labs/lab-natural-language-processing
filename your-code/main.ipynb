{
  "cells": [
    {
      "cell_type": "code",
      "execution_count": 1,
      "metadata": {
        "colab": {
          "base_uri": "https://localhost:8080/",
          "height": 17
        },
        "id": "TNggbrhR4B-v",
        "outputId": "89924147-4810-419a-d23e-02d91dc4d397"
      },
      "outputs": [
        {
          "output_type": "display_data",
          "data": {
            "text/plain": [
              "<IPython.core.display.HTML object>"
            ],
            "text/html": [
              "<style>.container { width:100% !important; }</style>"
            ]
          },
          "metadata": {}
        }
      ],
      "source": [
        "from IPython.core.display import display, HTML\n",
        "display(HTML(\"<style>.container { width:100% !important; }</style>\"))"
      ]
    },
    {
      "cell_type": "markdown",
      "metadata": {
        "id": "j69whOy24B-x"
      },
      "source": [
        "# Lab | Natural Language Processing\n",
        "### SMS: SPAM or HAM"
      ]
    },
    {
      "cell_type": "markdown",
      "metadata": {
        "id": "FKvKCehp4B-y"
      },
      "source": [
        "### Let's prepare the environment"
      ]
    },
    {
      "cell_type": "code",
      "execution_count": 8,
      "metadata": {
        "colab": {
          "base_uri": "https://localhost:8080/"
        },
        "id": "NQBeoTB24B-z",
        "outputId": "cff2f3a1-ce38-44a0-c214-af0bd88931ad"
      },
      "outputs": [
        {
          "output_type": "stream",
          "name": "stderr",
          "text": [
            "[nltk_data] Downloading package stopwords to /root/nltk_data...\n",
            "[nltk_data]   Unzipping corpora/stopwords.zip.\n",
            "[nltk_data] Downloading package punkt to /root/nltk_data...\n",
            "[nltk_data]   Unzipping tokenizers/punkt.zip.\n",
            "[nltk_data] Downloading package wordnet to /root/nltk_data...\n"
          ]
        },
        {
          "output_type": "execute_result",
          "data": {
            "text/plain": [
              "True"
            ]
          },
          "metadata": {},
          "execution_count": 8
        }
      ],
      "source": [
        "import pandas as pd\n",
        "import matplotlib.pyplot as plt\n",
        "from sklearn.feature_extraction.text import TfidfVectorizer\n",
        "import nltk\n",
        "nltk.download('stopwords')\n",
        "nltk.download('punkt')\n",
        "nltk.download('wordnet')"
      ]
    },
    {
      "cell_type": "markdown",
      "metadata": {
        "id": "hy36se_w4B-z"
      },
      "source": [
        "- Read Data for the Fraudulent Email Kaggle Challenge\n",
        "- Reduce the training set to speead up development."
      ]
    },
    {
      "cell_type": "code",
      "execution_count": 4,
      "metadata": {
        "colab": {
          "base_uri": "https://localhost:8080/"
        },
        "id": "Dk9D55ir4B-z",
        "outputId": "109bb451-bef5-441f-92a7-a191a8840c54"
      },
      "outputs": [
        {
          "output_type": "stream",
          "name": "stdout",
          "text": [
            "(1000, 2)\n"
          ]
        }
      ],
      "source": [
        "## Read Data for the Fraudulent Email Kaggle Challenge\n",
        "data = pd.read_csv(\"kg_train.csv\",encoding='latin-1')\n",
        "\n",
        "# Reduce the training set to speed up development.\n",
        "# Modify for final system\n",
        "data = data.head(1000)\n",
        "print(data.shape)\n",
        "data.fillna(\"\",inplace=True)"
      ]
    },
    {
      "cell_type": "markdown",
      "metadata": {
        "id": "lKiq9N8m4B-z"
      },
      "source": [
        "### Let's divide the training and test set into two partitions"
      ]
    },
    {
      "cell_type": "code",
      "execution_count": 6,
      "metadata": {
        "id": "rsXCHsz94B-0"
      },
      "outputs": [],
      "source": [
        "from sklearn.model_selection import train_test_split\n",
        "\n",
        "data_train, data_val = train_test_split(data, test_size=0.2, random_state=42)"
      ]
    },
    {
      "cell_type": "markdown",
      "metadata": {
        "id": "32SHieFh4B-0"
      },
      "source": [
        "## Data Preprocessing"
      ]
    },
    {
      "cell_type": "code",
      "execution_count": 9,
      "metadata": {
        "colab": {
          "base_uri": "https://localhost:8080/"
        },
        "id": "5VVQ6wHF4B-0",
        "outputId": "26dcebdb-23d3-41a7-fccd-b2eaa5e46351"
      },
      "outputs": [
        {
          "output_type": "stream",
          "name": "stdout",
          "text": [
            "!\"#$%&'()*+,-./:;<=>?@[\\]^_`{|}~\n",
            "['needn', \"needn't\", 'no', 'nor', 'not', 'now', 'o', 'of', 'off', 'on']\n"
          ]
        }
      ],
      "source": [
        "import string\n",
        "from nltk.corpus import stopwords\n",
        "print(string.punctuation)\n",
        "print(stopwords.words(\"english\")[100:110])\n",
        "from nltk.stem.snowball import SnowballStemmer\n",
        "snowball = SnowballStemmer('english')"
      ]
    },
    {
      "cell_type": "markdown",
      "metadata": {
        "id": "bYvFvvjO4B-0"
      },
      "source": [
        "## Now, we have to clean the html code removing words\n",
        "\n",
        "- First we remove inline JavaScript/CSS\n",
        "- Then we remove html comments. This has to be done before removing regular tags since comments can contain '>' characters\n",
        "- Next we can remove the remaining tags"
      ]
    },
    {
      "cell_type": "code",
      "execution_count": 10,
      "metadata": {
        "id": "CTlh2GEN4B-1"
      },
      "outputs": [],
      "source": [
        "import re\n",
        "# For Javasript\n",
        "def remove_script_code(data):\n",
        "    clean = re.compile('<script>.*?</script>')\n",
        "    return [re.sub(clean, '', data)]\n",
        "# For CSS Style\n",
        "def remove_style_code2(data):\n",
        "    clean = re.compile('<style>.*?</style>')\n",
        "    return [re.sub(clean, '', data)]\n",
        "data_train['clean_data']=data_train['text'].apply(remove_script_code)\n",
        "data_train['clean_data']=data_train['text'].apply(remove_style_code2)\n",
        "data_val['clean_data2']=data_val['text'].apply(remove_script_code)\n",
        "data_val['clean_data2']=data_val['text'].apply(remove_style_code2)"
      ]
    },
    {
      "cell_type": "markdown",
      "metadata": {
        "id": "CCJOYoND4B-1"
      },
      "source": [
        "- Remove all the special characters\n",
        "    \n",
        "- Remove numbers\n",
        "    \n",
        "- Remove all single characters\n",
        "\n",
        "- Remove single characters from the start\n",
        "\n",
        "- Substitute multiple spaces with single space\n",
        "\n",
        "- Remove prefixed 'b'\n",
        "\n",
        "- Convert to Lowercase"
      ]
    },
    {
      "cell_type": "code",
      "execution_count": 11,
      "metadata": {
        "id": "bZXTHimd4B-1"
      },
      "outputs": [],
      "source": [
        "def clean_text(text):\n",
        "# Remove special characters\n",
        "    text = re.sub(r'[^a-zA-Z\\s]', '', text)\n",
        "\n",
        "    # Remove numbers\n",
        "    text = re.sub(r'\\d+', '', text)\n",
        "\n",
        "    # Remove all single characters\n",
        "    text = re.sub(r'\\b[a-zA-Z]\\b', '', text)\n",
        "\n",
        "    # Remove single characters from the start\n",
        "    text = re.sub(r'^[a-zA-Z]\\s+', '', text)\n",
        "\n",
        "    # Substitute multiple spaces with a single space\n",
        "    text = re.sub(r'\\s+', ' ', text).strip()\n",
        "\n",
        "    # Remove prefixed 'b' (sometimes appears from byte encoding issues)\n",
        "    text = re.sub(r'^b\\s+', '', text)\n",
        "\n",
        "    # Convert to lowercase\n",
        "    text = text.lower()\n",
        "\n",
        "    return text\n",
        "data_train['clean_data']=data_train['text'].apply(clean_text)\n",
        "data_val['clean_data2']=data_val['text'].apply(clean_text)"
      ]
    },
    {
      "cell_type": "markdown",
      "metadata": {
        "id": "c4w72lRW4B-1"
      },
      "source": [
        "## Now let's work on removing stopwords\n",
        "Remove the stopwords."
      ]
    },
    {
      "cell_type": "code",
      "execution_count": 12,
      "metadata": {
        "id": "rlsiVtwa4B-1"
      },
      "outputs": [],
      "source": [
        "import string\n",
        "\n",
        "# Define a set of common English stopwords\n",
        "common_stopwords = set([\n",
        "    \"i\", \"me\", \"my\", \"myself\", \"we\", \"our\", \"ours\", \"ourselves\", \"you\", \"your\", \"yours\",\n",
        "    \"he\", \"him\", \"his\", \"himself\", \"she\", \"her\", \"hers\", \"herself\", \"it\", \"its\", \"itself\",\n",
        "    \"they\", \"them\", \"their\", \"theirs\", \"themselves\", \"what\", \"which\", \"who\", \"whom\", \"this\",\n",
        "    \"that\", \"these\", \"those\", \"am\", \"is\", \"are\", \"was\", \"were\", \"be\", \"been\", \"being\", \"have\",\n",
        "    \"has\", \"had\", \"having\", \"do\", \"does\", \"did\", \"doing\", \"a\", \"an\", \"the\", \"and\", \"but\", \"if\",\n",
        "    \"or\", \"because\", \"as\", \"until\", \"while\", \"of\", \"at\", \"by\", \"for\", \"with\", \"about\", \"against\",\n",
        "    \"between\", \"into\", \"through\", \"during\", \"before\", \"after\", \"above\", \"below\", \"to\", \"from\",\n",
        "    \"up\", \"down\", \"in\", \"out\", \"on\", \"off\", \"over\", \"under\", \"again\", \"further\", \"then\", \"once\"\n",
        "])\n",
        "\n",
        "def remove_stopwords(text):\n",
        "    words = text.split()  # Tokenize by splitting on spaces\n",
        "    filtered_words = [word for word in words if word not in common_stopwords]\n",
        "    return \" \".join(filtered_words)\n",
        "\n",
        "# Apply the function to remove stopwords from the 'cleaned_text' column\n",
        "data_train['remove_stopwords'] = data_train['clean_data'].apply(remove_stopwords)\n",
        "data_val['remove_stopwords2'] = data_val['clean_data2'].apply(remove_stopwords)"
      ]
    },
    {
      "cell_type": "markdown",
      "metadata": {
        "id": "qd369mu44B-2"
      },
      "source": [
        "## Tame Your Text with Lemmatization\n",
        "Break sentences into words, then use lemmatization to reduce them to their base form (e.g., \"running\" becomes \"run\"). See how this creates cleaner data for analysis!"
      ]
    },
    {
      "cell_type": "code",
      "execution_count": 13,
      "metadata": {
        "id": "V-P1Lv5n4B-2"
      },
      "outputs": [],
      "source": [
        "from nltk.stem import WordNetLemmatizer\n",
        "lemmatizer = WordNetLemmatizer()\n",
        "data_train['cleaned_text'] = data_train['remove_stopwords'].apply(lambda x: \" \".join([lemmatizer.lemmatize(word) for word in x.split()]))\n",
        "data_val['cleaned_text'] = data_val['remove_stopwords2'].apply(lambda x: \" \".join([lemmatizer.lemmatize(word) for word in x.split()]))\n"
      ]
    },
    {
      "cell_type": "markdown",
      "metadata": {
        "id": "f7ugkL3g4B-2"
      },
      "source": [
        "## Bag Of Words\n",
        "Let's get the 10 top words in ham and spam messages (**EXPLORATORY DATA ANALYSIS**)"
      ]
    },
    {
      "cell_type": "code",
      "execution_count": 20,
      "metadata": {
        "colab": {
          "base_uri": "https://localhost:8080/"
        },
        "id": "VIEJHd_z4B-2",
        "outputId": "11a3de8d-c42b-486e-869b-222ae2a08089"
      },
      "outputs": [
        {
          "output_type": "stream",
          "name": "stdout",
          "text": [
            "Top 10 Spam Words:\n",
            "       Word  Count\n",
            "0      will   1449\n",
            "1     money    795\n",
            "2   account    661\n",
            "3      bank    606\n",
            "4      fund    564\n",
            "5       not    480\n",
            "6         u    443\n",
            "7       all    406\n",
            "8  business    391\n",
            "9       any    347\n",
            "\n",
            "Top 10 Ham Words:\n",
            "        Word  Count\n",
            "0       will    155\n",
            "1        not    118\n",
            "2          u     99\n",
            "3      would     93\n",
            "4      state     92\n",
            "5        can     90\n",
            "6         pm     89\n",
            "7  president     84\n",
            "8    percent     76\n",
            "9       call     73\n",
            "Top 10 Spam Words:\n",
            "       Word  Count\n",
            "0      will   1449\n",
            "1     money    795\n",
            "2   account    661\n",
            "3      bank    606\n",
            "4      fund    564\n",
            "5       not    480\n",
            "6         u    443\n",
            "7       all    406\n",
            "8  business    391\n",
            "9       any    347\n",
            "\n",
            "Top 10 Ham Words:\n",
            "        Word  Count\n",
            "0       will    155\n",
            "1        not    118\n",
            "2          u     99\n",
            "3      would     93\n",
            "4      state     92\n",
            "5        can     90\n",
            "6         pm     89\n",
            "7  president     84\n",
            "8    percent     76\n",
            "9       call     73\n"
          ]
        }
      ],
      "source": [
        "from collections import Counter\n",
        "\n",
        "spam_words = \" \".join(data_train[data_train[\"label\"] == 1][\"cleaned_text\"]).split()\n",
        "ham_words = \" \".join(data_train[data_train[\"label\"] == 0][\"cleaned_text\"]).split()\n",
        "top_spam_words = Counter(spam_words).most_common(10)\n",
        "top_ham_words = Counter(ham_words).most_common(10)\n",
        "top_spam_df = pd.DataFrame(top_spam_words, columns=[\"Word\", \"Count\"])\n",
        "top_ham_df = pd.DataFrame(top_ham_words, columns=[\"Word\", \"Count\"])\n",
        "print(\"Top 10 Spam Words:\")\n",
        "print(top_spam_df)\n",
        "\n",
        "print(\"\\nTop 10 Ham Words:\")\n",
        "print(top_ham_df)\n",
        "\n",
        "spam_words2 = \" \".join(data_val[data_val[\"label\"] == 1][\"cleaned_text\"]).split()\n",
        "ham_words2 = \" \".join(data_val[data_val[\"label\"] == 0][\"cleaned_text\"]).split()\n",
        "top_spam_words2 = Counter(spam_words).most_common(10)\n",
        "top_ham_words2 = Counter(ham_words).most_common(10)\n",
        "top_spam_df2 = pd.DataFrame(top_spam_words, columns=[\"Word\", \"Count\"])\n",
        "top_ham_df2 = pd.DataFrame(top_ham_words, columns=[\"Word\", \"Count\"])\n",
        "print(\"Top 10 Spam Words:\")\n",
        "print(top_spam_df2)\n",
        "\n",
        "print(\"\\nTop 10 Ham Words:\")\n",
        "print(top_ham_df2)"
      ]
    },
    {
      "cell_type": "markdown",
      "metadata": {
        "id": "7m6uIACN4B-2"
      },
      "source": [
        "## Extra features"
      ]
    },
    {
      "cell_type": "code",
      "execution_count": 16,
      "metadata": {
        "colab": {
          "base_uri": "https://localhost:8080/",
          "height": 289
        },
        "id": "loPT0Uqs4B-2",
        "outputId": "20eff6cd-fcfe-4a16-b8e7-1ee8e1b8b737"
      },
      "outputs": [
        {
          "output_type": "execute_result",
          "data": {
            "text/plain": [
              "                                                  text  label  \\\n",
              "29   ----------- REGARDS, MR NELSON SMITH.KINDLY RE...      1   \n",
              "535  I have not been able to reach oscar this am. W...      0   \n",
              "695  ; Huma Abedin B6I'm checking with Pat on the 5...      0   \n",
              "557  I can have it announced here on Monday - can't...      0   \n",
              "836      BANK OF AFRICAAGENCE SAN PEDRO14 BP 1210 S...      1   \n",
              "\n",
              "                                            clean_data  \\\n",
              "29   regards mr nelson smithkindly reply me on my p...   \n",
              "535  have not been able to reach oscar this am we a...   \n",
              "695  huma abedin bim checking with pat on the will ...   \n",
              "557    can have it announced here on monday cant today   \n",
              "836  bank of africaagence san pedro bp san pedro co...   \n",
              "\n",
              "                                      remove_stopwords  \\\n",
              "29   regards mr nelson smithkindly reply private em...   \n",
              "535  not able reach oscar supposed send pdb can rec...   \n",
              "695  huma abedin bim checking pat will work jack ja...   \n",
              "557               can announced here monday cant today   \n",
              "836  bank africaagence san pedro bp san pedro cote ...   \n",
              "\n",
              "                                          cleaned_text  money_mark  \\\n",
              "29   regard mr nelson smithkindly reply private ema...           1   \n",
              "535  not able reach oscar supposed send pdb can rec...           1   \n",
              "695  huma abedin bim checking pat will work jack ja...           1   \n",
              "557               can announced here monday cant today           1   \n",
              "836  bank africaagence san pedro bp san pedro cote ...           1   \n",
              "\n",
              "     suspicious_words  text_len  \n",
              "29                  0        75  \n",
              "535                 0        50  \n",
              "695                 0        84  \n",
              "557                 0        36  \n",
              "836                 1      1097  "
            ],
            "text/html": [
              "\n",
              "  <div id=\"df-f3782c7b-23c2-44fc-bcae-b9855582ea97\" class=\"colab-df-container\">\n",
              "    <div>\n",
              "<style scoped>\n",
              "    .dataframe tbody tr th:only-of-type {\n",
              "        vertical-align: middle;\n",
              "    }\n",
              "\n",
              "    .dataframe tbody tr th {\n",
              "        vertical-align: top;\n",
              "    }\n",
              "\n",
              "    .dataframe thead th {\n",
              "        text-align: right;\n",
              "    }\n",
              "</style>\n",
              "<table border=\"1\" class=\"dataframe\">\n",
              "  <thead>\n",
              "    <tr style=\"text-align: right;\">\n",
              "      <th></th>\n",
              "      <th>text</th>\n",
              "      <th>label</th>\n",
              "      <th>clean_data</th>\n",
              "      <th>remove_stopwords</th>\n",
              "      <th>cleaned_text</th>\n",
              "      <th>money_mark</th>\n",
              "      <th>suspicious_words</th>\n",
              "      <th>text_len</th>\n",
              "    </tr>\n",
              "  </thead>\n",
              "  <tbody>\n",
              "    <tr>\n",
              "      <th>29</th>\n",
              "      <td>----------- REGARDS, MR NELSON SMITH.KINDLY RE...</td>\n",
              "      <td>1</td>\n",
              "      <td>regards mr nelson smithkindly reply me on my p...</td>\n",
              "      <td>regards mr nelson smithkindly reply private em...</td>\n",
              "      <td>regard mr nelson smithkindly reply private ema...</td>\n",
              "      <td>1</td>\n",
              "      <td>0</td>\n",
              "      <td>75</td>\n",
              "    </tr>\n",
              "    <tr>\n",
              "      <th>535</th>\n",
              "      <td>I have not been able to reach oscar this am. W...</td>\n",
              "      <td>0</td>\n",
              "      <td>have not been able to reach oscar this am we a...</td>\n",
              "      <td>not able reach oscar supposed send pdb can rec...</td>\n",
              "      <td>not able reach oscar supposed send pdb can rec...</td>\n",
              "      <td>1</td>\n",
              "      <td>0</td>\n",
              "      <td>50</td>\n",
              "    </tr>\n",
              "    <tr>\n",
              "      <th>695</th>\n",
              "      <td>; Huma Abedin B6I'm checking with Pat on the 5...</td>\n",
              "      <td>0</td>\n",
              "      <td>huma abedin bim checking with pat on the will ...</td>\n",
              "      <td>huma abedin bim checking pat will work jack ja...</td>\n",
              "      <td>huma abedin bim checking pat will work jack ja...</td>\n",
              "      <td>1</td>\n",
              "      <td>0</td>\n",
              "      <td>84</td>\n",
              "    </tr>\n",
              "    <tr>\n",
              "      <th>557</th>\n",
              "      <td>I can have it announced here on Monday - can't...</td>\n",
              "      <td>0</td>\n",
              "      <td>can have it announced here on monday cant today</td>\n",
              "      <td>can announced here monday cant today</td>\n",
              "      <td>can announced here monday cant today</td>\n",
              "      <td>1</td>\n",
              "      <td>0</td>\n",
              "      <td>36</td>\n",
              "    </tr>\n",
              "    <tr>\n",
              "      <th>836</th>\n",
              "      <td>BANK OF AFRICAAGENCE SAN PEDRO14 BP 1210 S...</td>\n",
              "      <td>1</td>\n",
              "      <td>bank of africaagence san pedro bp san pedro co...</td>\n",
              "      <td>bank africaagence san pedro bp san pedro cote ...</td>\n",
              "      <td>bank africaagence san pedro bp san pedro cote ...</td>\n",
              "      <td>1</td>\n",
              "      <td>1</td>\n",
              "      <td>1097</td>\n",
              "    </tr>\n",
              "  </tbody>\n",
              "</table>\n",
              "</div>\n",
              "    <div class=\"colab-df-buttons\">\n",
              "\n",
              "  <div class=\"colab-df-container\">\n",
              "    <button class=\"colab-df-convert\" onclick=\"convertToInteractive('df-f3782c7b-23c2-44fc-bcae-b9855582ea97')\"\n",
              "            title=\"Convert this dataframe to an interactive table.\"\n",
              "            style=\"display:none;\">\n",
              "\n",
              "  <svg xmlns=\"http://www.w3.org/2000/svg\" height=\"24px\" viewBox=\"0 -960 960 960\">\n",
              "    <path d=\"M120-120v-720h720v720H120Zm60-500h600v-160H180v160Zm220 220h160v-160H400v160Zm0 220h160v-160H400v160ZM180-400h160v-160H180v160Zm440 0h160v-160H620v160ZM180-180h160v-160H180v160Zm440 0h160v-160H620v160Z\"/>\n",
              "  </svg>\n",
              "    </button>\n",
              "\n",
              "  <style>\n",
              "    .colab-df-container {\n",
              "      display:flex;\n",
              "      gap: 12px;\n",
              "    }\n",
              "\n",
              "    .colab-df-convert {\n",
              "      background-color: #E8F0FE;\n",
              "      border: none;\n",
              "      border-radius: 50%;\n",
              "      cursor: pointer;\n",
              "      display: none;\n",
              "      fill: #1967D2;\n",
              "      height: 32px;\n",
              "      padding: 0 0 0 0;\n",
              "      width: 32px;\n",
              "    }\n",
              "\n",
              "    .colab-df-convert:hover {\n",
              "      background-color: #E2EBFA;\n",
              "      box-shadow: 0px 1px 2px rgba(60, 64, 67, 0.3), 0px 1px 3px 1px rgba(60, 64, 67, 0.15);\n",
              "      fill: #174EA6;\n",
              "    }\n",
              "\n",
              "    .colab-df-buttons div {\n",
              "      margin-bottom: 4px;\n",
              "    }\n",
              "\n",
              "    [theme=dark] .colab-df-convert {\n",
              "      background-color: #3B4455;\n",
              "      fill: #D2E3FC;\n",
              "    }\n",
              "\n",
              "    [theme=dark] .colab-df-convert:hover {\n",
              "      background-color: #434B5C;\n",
              "      box-shadow: 0px 1px 3px 1px rgba(0, 0, 0, 0.15);\n",
              "      filter: drop-shadow(0px 1px 2px rgba(0, 0, 0, 0.3));\n",
              "      fill: #FFFFFF;\n",
              "    }\n",
              "  </style>\n",
              "\n",
              "    <script>\n",
              "      const buttonEl =\n",
              "        document.querySelector('#df-f3782c7b-23c2-44fc-bcae-b9855582ea97 button.colab-df-convert');\n",
              "      buttonEl.style.display =\n",
              "        google.colab.kernel.accessAllowed ? 'block' : 'none';\n",
              "\n",
              "      async function convertToInteractive(key) {\n",
              "        const element = document.querySelector('#df-f3782c7b-23c2-44fc-bcae-b9855582ea97');\n",
              "        const dataTable =\n",
              "          await google.colab.kernel.invokeFunction('convertToInteractive',\n",
              "                                                    [key], {});\n",
              "        if (!dataTable) return;\n",
              "\n",
              "        const docLinkHtml = 'Like what you see? Visit the ' +\n",
              "          '<a target=\"_blank\" href=https://colab.research.google.com/notebooks/data_table.ipynb>data table notebook</a>'\n",
              "          + ' to learn more about interactive tables.';\n",
              "        element.innerHTML = '';\n",
              "        dataTable['output_type'] = 'display_data';\n",
              "        await google.colab.output.renderOutput(dataTable, element);\n",
              "        const docLink = document.createElement('div');\n",
              "        docLink.innerHTML = docLinkHtml;\n",
              "        element.appendChild(docLink);\n",
              "      }\n",
              "    </script>\n",
              "  </div>\n",
              "\n",
              "\n",
              "<div id=\"df-11e47076-6bbf-42e8-8676-69ccd1ef66d2\">\n",
              "  <button class=\"colab-df-quickchart\" onclick=\"quickchart('df-11e47076-6bbf-42e8-8676-69ccd1ef66d2')\"\n",
              "            title=\"Suggest charts\"\n",
              "            style=\"display:none;\">\n",
              "\n",
              "<svg xmlns=\"http://www.w3.org/2000/svg\" height=\"24px\"viewBox=\"0 0 24 24\"\n",
              "     width=\"24px\">\n",
              "    <g>\n",
              "        <path d=\"M19 3H5c-1.1 0-2 .9-2 2v14c0 1.1.9 2 2 2h14c1.1 0 2-.9 2-2V5c0-1.1-.9-2-2-2zM9 17H7v-7h2v7zm4 0h-2V7h2v10zm4 0h-2v-4h2v4z\"/>\n",
              "    </g>\n",
              "</svg>\n",
              "  </button>\n",
              "\n",
              "<style>\n",
              "  .colab-df-quickchart {\n",
              "      --bg-color: #E8F0FE;\n",
              "      --fill-color: #1967D2;\n",
              "      --hover-bg-color: #E2EBFA;\n",
              "      --hover-fill-color: #174EA6;\n",
              "      --disabled-fill-color: #AAA;\n",
              "      --disabled-bg-color: #DDD;\n",
              "  }\n",
              "\n",
              "  [theme=dark] .colab-df-quickchart {\n",
              "      --bg-color: #3B4455;\n",
              "      --fill-color: #D2E3FC;\n",
              "      --hover-bg-color: #434B5C;\n",
              "      --hover-fill-color: #FFFFFF;\n",
              "      --disabled-bg-color: #3B4455;\n",
              "      --disabled-fill-color: #666;\n",
              "  }\n",
              "\n",
              "  .colab-df-quickchart {\n",
              "    background-color: var(--bg-color);\n",
              "    border: none;\n",
              "    border-radius: 50%;\n",
              "    cursor: pointer;\n",
              "    display: none;\n",
              "    fill: var(--fill-color);\n",
              "    height: 32px;\n",
              "    padding: 0;\n",
              "    width: 32px;\n",
              "  }\n",
              "\n",
              "  .colab-df-quickchart:hover {\n",
              "    background-color: var(--hover-bg-color);\n",
              "    box-shadow: 0 1px 2px rgba(60, 64, 67, 0.3), 0 1px 3px 1px rgba(60, 64, 67, 0.15);\n",
              "    fill: var(--button-hover-fill-color);\n",
              "  }\n",
              "\n",
              "  .colab-df-quickchart-complete:disabled,\n",
              "  .colab-df-quickchart-complete:disabled:hover {\n",
              "    background-color: var(--disabled-bg-color);\n",
              "    fill: var(--disabled-fill-color);\n",
              "    box-shadow: none;\n",
              "  }\n",
              "\n",
              "  .colab-df-spinner {\n",
              "    border: 2px solid var(--fill-color);\n",
              "    border-color: transparent;\n",
              "    border-bottom-color: var(--fill-color);\n",
              "    animation:\n",
              "      spin 1s steps(1) infinite;\n",
              "  }\n",
              "\n",
              "  @keyframes spin {\n",
              "    0% {\n",
              "      border-color: transparent;\n",
              "      border-bottom-color: var(--fill-color);\n",
              "      border-left-color: var(--fill-color);\n",
              "    }\n",
              "    20% {\n",
              "      border-color: transparent;\n",
              "      border-left-color: var(--fill-color);\n",
              "      border-top-color: var(--fill-color);\n",
              "    }\n",
              "    30% {\n",
              "      border-color: transparent;\n",
              "      border-left-color: var(--fill-color);\n",
              "      border-top-color: var(--fill-color);\n",
              "      border-right-color: var(--fill-color);\n",
              "    }\n",
              "    40% {\n",
              "      border-color: transparent;\n",
              "      border-right-color: var(--fill-color);\n",
              "      border-top-color: var(--fill-color);\n",
              "    }\n",
              "    60% {\n",
              "      border-color: transparent;\n",
              "      border-right-color: var(--fill-color);\n",
              "    }\n",
              "    80% {\n",
              "      border-color: transparent;\n",
              "      border-right-color: var(--fill-color);\n",
              "      border-bottom-color: var(--fill-color);\n",
              "    }\n",
              "    90% {\n",
              "      border-color: transparent;\n",
              "      border-bottom-color: var(--fill-color);\n",
              "    }\n",
              "  }\n",
              "</style>\n",
              "\n",
              "  <script>\n",
              "    async function quickchart(key) {\n",
              "      const quickchartButtonEl =\n",
              "        document.querySelector('#' + key + ' button');\n",
              "      quickchartButtonEl.disabled = true;  // To prevent multiple clicks.\n",
              "      quickchartButtonEl.classList.add('colab-df-spinner');\n",
              "      try {\n",
              "        const charts = await google.colab.kernel.invokeFunction(\n",
              "            'suggestCharts', [key], {});\n",
              "      } catch (error) {\n",
              "        console.error('Error during call to suggestCharts:', error);\n",
              "      }\n",
              "      quickchartButtonEl.classList.remove('colab-df-spinner');\n",
              "      quickchartButtonEl.classList.add('colab-df-quickchart-complete');\n",
              "    }\n",
              "    (() => {\n",
              "      let quickchartButtonEl =\n",
              "        document.querySelector('#df-11e47076-6bbf-42e8-8676-69ccd1ef66d2 button');\n",
              "      quickchartButtonEl.style.display =\n",
              "        google.colab.kernel.accessAllowed ? 'block' : 'none';\n",
              "    })();\n",
              "  </script>\n",
              "</div>\n",
              "\n",
              "    </div>\n",
              "  </div>\n"
            ],
            "application/vnd.google.colaboratory.intrinsic+json": {
              "type": "dataframe",
              "variable_name": "data_train",
              "summary": "{\n  \"name\": \"data_train\",\n  \"rows\": 800,\n  \"fields\": [\n    {\n      \"column\": \"text\",\n      \"properties\": {\n        \"dtype\": \"string\",\n        \"num_unique_values\": 759,\n        \"samples\": [\n          \"Greetings from Dubai=2C This letter must come to you as a big surprise=2C but I believe it is only a day that people meet and become great friends and business partners=2E  I am Mr=2E Ali Raza Khan=2C currently Head of Coporate affairs with a reputable bankhere in U=2E A=2E E=2E  I write you this proposal in good faith=2C believing that I can trust you with the information I am about to reveal to you=2EI have an urgent and very confidential business proposition for you=2E On November 6=2C 2000=2C an Iraqi Foreign Oil consultant=2Fcontractor with the CHEVRONPETROLEUM CORPORATION=2C MR=2E KHALIL AL NASSER made a =28Fixed deposit=29 for 36 calendar months=2C valued at US$17=2C500=2C000=2E00 =28Seventeen Million Five hundred Thousand Dollars only=29 in my bank and I happen to be his account officer before I was moved to my present position recently=2E Upon maturity in 2003=2C as his account officer and as well the bank manger=2C it is my duty to notify him on the maturity date so I sent a routine notification to his forwarding address but the letter was returned undelivered=2E After sometime=2C I tried sending back the letter=2C but it was again returned and finally I discovered from his contract employers=2C Chevron Petroleum Corporation that Mr=2E Khalil Al Nasser died as a result of torture in the hand of Saddam Hussein =28former Iraqi President=29 during one of his trips to his country Iraq=2C as he was accused of leaking information to the Americans=2E On further investigation=2C I discovered that Mr=2E Al Nasser=92s family wife and two sons died during the Gulf War in Iraq and was the reason why he did not declare any next of kin or relation in all his official documents=2C including his Bank Deposit paperwork in my Bank and did not leave any WILL=2E  This sum of US$17=2C500=2C000=2E00 have been floating and placed under dormant=2Funserviceable account by my bank management since no one have heard from the owner since 2003=2E  I wish to let you know that all the investigation I have made so far=2C my bank management is not aware of it=2C I am the only one that have the information=2EWith the recent change of government in my country and with their efforts to support the United Nations in checkmating terrorism aid in the U=2E A=2E E=2E  By end of this year=2C the government will pass a new financial control law which will give the government authority to interrogate account owners of above $5=2C000=2C000=2E00 to explain the source of the funds=2Cmaking sure it is not for terrorism support=2E  If I do not move this money out of the country immediately=2C by end of the year the government will definitely confiscate the money=2C because my bank cannot provide the account owner to explain the source of the money=2E  I cannot directly transfer out this money without the help of a foreigner and that is why I am contacting you for an assistance=2E  As the Account Officer to late Al Nasser=2C coupledwith my present position and status in the bank as Head of Retail Banking Groug =2C I have the power to influence the release of the funds to any foreigner that comes up as the next of kin to the account=2C with the correct information concerning the account=2C which I shall give you=2E  All documents to enable you claim this fund will be carefully worked out and there is practically no risk involved=2C the transaction will be executed under a legitimate arrangement that will protect you from any breach of law=2C beside U=2E A=2E E is porous and anything goes=2EIf you accept to work with me=2C I want you to state how you wish us to share the funds in percentage=2C so that both parties will be satisfied=2E  If you are interested=2C contact me as soon as you receive this message  so we can go over the details=2E  Thanking you in advance and may God bless you=2E Please=2C treat with utmost confidentiality=2E  I shall send you copy of the deposit certificate issued to Al Nasser when the deposit was made for your perusal=2E   I wait your urgent response=2E  Regards=2C Mr=2E Ali Raza Khan\",\n          \"cash money, but the Security Company does not know theactual content of the consignment because it wasdeposited by my father with a declaration that thecontent is precious metals and diamond valued at US$ 23M, and this was done with diplomatic immunity and forsecurity reason, at the time, my father was still ingovernment in my country Zimbabwe.This transaction is basically risk-free for you;therefore, reach me, preferably with the above statedphone or fax number to ensure the security of thistransaction. Note that it is because of theconfidential nature of this transaction that I amgiving you this contact Info which you can use to reach\",\n          \"H <hrod17@clintonemail.com >Saturday January 23 2010 4:09 PM'sbwhoeopRe: H: FYI: Any foreign nation or leader with a front company becomes a \\\"person\\\" underUS law. SGood for him. I wish he were 50 instead 90!\"\n        ],\n        \"semantic_type\": \"\",\n        \"description\": \"\"\n      }\n    },\n    {\n      \"column\": \"label\",\n      \"properties\": {\n        \"dtype\": \"number\",\n        \"std\": 0,\n        \"min\": 0,\n        \"max\": 1,\n        \"num_unique_values\": 2,\n        \"samples\": [\n          0,\n          1\n        ],\n        \"semantic_type\": \"\",\n        \"description\": \"\"\n      }\n    },\n    {\n      \"column\": \"clean_data\",\n      \"properties\": {\n        \"dtype\": \"string\",\n        \"num_unique_values\": 744,\n        \"samples\": [\n          \"will give some thought and pass along any names can think ofjm\",\n          \"from mrabdul umardirector in charge of auditingand accounting section of banquegenerale du togolometogo in west africadear friendpermit me to use this medium to first introduce myself to you before getting you acquinted with the transaction for which am contacting you am mr abdul umar the director in charge of auditing and accounting section of banque generale du togo lome togo in west africa with due respect and regard have decided to contact you on business transaction thatwill be very beneficial to both of us at the end of the transactionduring our investigation and auditing in this bank my department came across very huge sum of money belonging to deceased person who died on st october in plane crashflight number en route from new york to cairo which crashed into the atlantic ocean killing the passengers and crew members on board and the fund has been dormant in his account with this bank without any claim of the fund in our custody either from his family or relation before our discovery to this developmentalthough personally keep this information secret within myself and partners to enable the whole plans and idea be profitable and successful during the time of execution the said amount was usm fourteen million united states dollars as it may interest you to know got yourimpressive information from the web directory of my country when searching for reliable and trustworthy foreign partner who could help me champion business proposal of such magnitude without any problemmeanwhile all the whole arrangement to put claim over this fund as the bonafide next of kin to the deceased get the required approval and transfer this money to foreign account has been put in place and directives and needed information will be relayed to you as soon asyou indicate your interest and willingness to assist us and also benefit your self to this great business opportunityin fact could have done this deal alone but because of my position in this country as civil servant we are not allowed to operate foreign account and would eventually raise an eye brow on my side during the time of transfer because work in this bank this is the actual reason why itwill require second party or fellow who will forward claims as the next of kin with affidavit of trust of oath to the bank and also present foreign account where he will need the money to be retransferred into on his request as it may be after due verification and clarification by thecorrespondent branch of the bank where the whole money will be remitted from to your own designation bank accounti will not fail to inform you that this transaction is risk freeon smooth conclusion of this transaction you will be entitled to of the total sum asgratification while will be set aside to take care of expenses that may arise during the time of transfer and also telephone bills while will be for me and my partnersplease you have been adviced to keep top secret as we are still in active service and intend to retire from service after we conclude this deal with you will be monitoring the whole situation here in this bank until you confirm the money in your account and ask us to come down to yourcountry for subsequent sharing of the fund according to percentages previously indicated and further investment either in your country or any country you advice us to invest inall other necessary information will be sent to you when hear from you\"\n        ],\n        \"semantic_type\": \"\",\n        \"description\": \"\"\n      }\n    },\n    {\n      \"column\": \"remove_stopwords\",\n      \"properties\": {\n        \"dtype\": \"string\",\n        \"num_unique_values\": 742,\n        \"samples\": [\n          \"director seeking immediate assistance transfer usmillionit pleasure request assistance business proposition pursued conclusion will immense benefit both us request may seem strange will crave indulgence pray view seriously name col victor aloma democratic republic congo one close aids formal president congo democratic laurent kabila blessed memory may soul rest peacefor military laurent kabila force rebles country instructed late president kabila go europe purchase armsand ammuniation worth usfifteen million five hundred thousand us dollars fight reble groups when became ap parent presidentkabila killed bloody shoot one aids immediately decided divert fund us private security company safekeeping money presently holland netherlands where currently exile death president kabilai need reliable trust worthy foreign partnerational can assist clear move money beneficiary security companythough not seen nor met each other would want transaction properly handled modesty honesty huge success within two weeks money question state fund deal hence need secrecy considering security implicationsthus willing assist move fund netherlands can contact onthe email addres enable us discuss more deal percentage will assisting meplease note will required make brief trip netherlands inspection fund also intend visit country soonest order inquire areas possible business investmenti shall sincerely glad request renderedkindest regardscol victor aloma\",\n          \"miss rose couliballyivory coast west africadearest onei miss rose coulibally ivory coast contacting need help retreival management sum money dead father left diedthis money usd million american dollars money securityfinance firm here abidjanmy father very rich cocoa farmer poisoned business colleagues now want stand guidian appointed beneficiary receive money country since only years without mother fatherplease will like reply email so will tell all information so money will transferred so will get papers travel country continue education therewaiting urgent responseroserosecyahooframiles de amigos con tus mismas aficiones httpwwwlatinchatcomlatinmailcomltwebmllocaldomainedcebabffba\"\n        ],\n        \"semantic_type\": \"\",\n        \"description\": \"\"\n      }\n    },\n    {\n      \"column\": \"cleaned_text\",\n      \"properties\": {\n        \"dtype\": \"string\",\n        \"num_unique_values\": 742,\n        \"samples\": [\n          \"director seeking immediate assistance transfer usmillionit pleasure request assistance business proposition pursued conclusion will immense benefit both u request may seem strange will crave indulgence pray view seriously name col victor aloma democratic republic congo one close aid formal president congo democratic laurent kabila blessed memory may soul rest peacefor military laurent kabila force rebles country instructed late president kabila go europe purchase armsand ammuniation worth usfifteen million five hundred thousand u dollar fight reble group when became ap parent presidentkabila killed bloody shoot one aid immediately decided divert fund u private security company safekeeping money presently holland netherlands where currently exile death president kabilai need reliable trust worthy foreign partnerational can assist clear move money beneficiary security companythough not seen nor met each other would want transaction properly handled modesty honesty huge success within two week money question state fund deal hence need secrecy considering security implicationsthus willing assist move fund netherlands can contact onthe email addres enable u discus more deal percentage will assisting meplease note will required make brief trip netherlands inspection fund also intend visit country soonest order inquire area possible business investmenti shall sincerely glad request renderedkindest regardscol victor aloma\",\n          \"miss rose couliballyivory coast west africadearest onei miss rose coulibally ivory coast contacting need help retreival management sum money dead father left diedthis money usd million american dollar money securityfinance firm here abidjanmy father very rich cocoa farmer poisoned business colleague now want stand guidian appointed beneficiary receive money country since only year without mother fatherplease will like reply email so will tell all information so money will transferred so will get paper travel country continue education therewaiting urgent responseroserosecyahooframiles de amigo con tus mismas aficiones httpwwwlatinchatcomlatinmailcomltwebmllocaldomainedcebabffba\"\n        ],\n        \"semantic_type\": \"\",\n        \"description\": \"\"\n      }\n    },\n    {\n      \"column\": \"money_mark\",\n      \"properties\": {\n        \"dtype\": \"number\",\n        \"std\": 0,\n        \"min\": 1,\n        \"max\": 1,\n        \"num_unique_values\": 1,\n        \"samples\": [\n          1\n        ],\n        \"semantic_type\": \"\",\n        \"description\": \"\"\n      }\n    },\n    {\n      \"column\": \"suspicious_words\",\n      \"properties\": {\n        \"dtype\": \"number\",\n        \"std\": 0,\n        \"min\": 0,\n        \"max\": 1,\n        \"num_unique_values\": 2,\n        \"samples\": [\n          1\n        ],\n        \"semantic_type\": \"\",\n        \"description\": \"\"\n      }\n    },\n    {\n      \"column\": \"text_len\",\n      \"properties\": {\n        \"dtype\": \"number\",\n        \"std\": 2688,\n        \"min\": 0,\n        \"max\": 52864,\n        \"num_unique_values\": 530,\n        \"samples\": [\n          1922\n        ],\n        \"semantic_type\": \"\",\n        \"description\": \"\"\n      }\n    }\n  ]\n}"
            }
          },
          "metadata": {},
          "execution_count": 16
        }
      ],
      "source": [
        "# We add to the original dataframe two additional indicators (money symbols and suspicious words).\n",
        "money_simbol_list = \"|\".join([\"euro\",\"dollar\",\"pound\",\"€\",\"$\"])\n",
        "suspicious_words = \"|\".join([\"free\",\"cheap\",\"sex\",\"money\",\"account\",\"bank\",\"fund\",\"transfer\",\"transaction\",\"win\",\"deposit\",\"password\"])\n",
        "\n",
        "data_train['money_mark'] = data_train['cleaned_text'].str.contains(money_simbol_list)*1\n",
        "data_train['suspicious_words'] = data_train['cleaned_text'].str.contains(suspicious_words)*1\n",
        "data_train['text_len'] = data_train['cleaned_text'].apply(lambda x: len(x))\n",
        "\n",
        "data_val['money_mark'] = data_val['cleaned_text'].str.contains(money_simbol_list)*1\n",
        "data_val['suspicious_words'] = data_val['cleaned_text'].str.contains(suspicious_words)*1\n",
        "data_val['text_len'] = data_val['cleaned_text'].apply(lambda x: len(x))\n",
        "\n",
        "data_train.head()"
      ]
    },
    {
      "cell_type": "markdown",
      "metadata": {
        "id": "m39XSdm04B-3"
      },
      "source": [
        "## How would work the Bag of Words with Count Vectorizer concept?"
      ]
    },
    {
      "cell_type": "code",
      "source": [],
      "metadata": {
        "id": "V5y89G9v8PkR"
      },
      "execution_count": null,
      "outputs": []
    },
    {
      "cell_type": "markdown",
      "metadata": {
        "id": "6z0NGeVk4B-4"
      },
      "source": [
        "## TD-IDF\n",
        "\n",
        "- Load the vectorizer\n",
        "\n",
        "- Vectorize all dataset\n",
        "\n",
        "- print the shape of the vetorized dataset"
      ]
    },
    {
      "cell_type": "code",
      "execution_count": 17,
      "metadata": {
        "colab": {
          "base_uri": "https://localhost:8080/"
        },
        "id": "4MFsahPV4B-4",
        "outputId": "ad4eb143-3acd-4faf-8016-c353fa820dde"
      },
      "outputs": [
        {
          "output_type": "stream",
          "name": "stdout",
          "text": [
            "Shape of TF-IDF vectorized training data: (800, 18348)\n",
            "Shape of TF-IDF vectorized validation data: (200, 18348)\n"
          ]
        }
      ],
      "source": [
        "from sklearn.feature_extraction.text import TfidfVectorizer\n",
        "\n",
        "vectorizer = TfidfVectorizer()\n",
        "\n",
        "X_train_tfidf = vectorizer.fit_transform(data_train[\"clean_data\"])\n",
        "X_val_tfidf = vectorizer.transform(data_val[\"clean_data2\"])\n",
        "\n",
        "print(\"Shape of TF-IDF vectorized training data:\", X_train_tfidf.shape)\n",
        "print(\"Shape of TF-IDF vectorized validation data:\", X_val_tfidf.shape)"
      ]
    },
    {
      "cell_type": "markdown",
      "metadata": {
        "id": "ih4NUw6K4B-4"
      },
      "source": [
        "## And the Train a Classifier?"
      ]
    },
    {
      "cell_type": "code",
      "execution_count": 18,
      "metadata": {
        "colab": {
          "base_uri": "https://localhost:8080/"
        },
        "id": "wE5mHhl14B-4",
        "outputId": "b47d8160-b93a-4c1b-8e68-3b6849cbbb05"
      },
      "outputs": [
        {
          "output_type": "stream",
          "name": "stdout",
          "text": [
            "Validation Accuracy: 0.955\n"
          ]
        }
      ],
      "source": [
        "from sklearn.ensemble import RandomForestClassifier\n",
        "from sklearn.metrics import accuracy_score\n",
        "\n",
        "model = RandomForestClassifier(n_estimators=100, random_state=42)\n",
        "\n",
        "model.fit(X_train_tfidf, data_train[\"label\"])\n",
        "\n",
        "y_pred = model.predict(X_val_tfidf)\n",
        "\n",
        "accuracy = accuracy_score(data_val[\"label\"], y_pred)\n",
        "\n",
        "print(\"Validation Accuracy:\", accuracy)"
      ]
    },
    {
      "cell_type": "markdown",
      "metadata": {
        "id": "LoBWIzk64B-4"
      },
      "source": [
        "### Extra Task - Implement a SPAM/HAM classifier\n",
        "\n",
        "https://www.kaggle.com/t/b384e34013d54d238490103bc3c360ce\n",
        "\n",
        "The classifier can not be changed!!! It must be the MultinimialNB with default parameters!\n",
        "\n",
        "Your task is to find the **best feature representation**.\n",
        "\n",
        "You can work with teams of two persons (recommended)."
      ]
    },
    {
      "cell_type": "code",
      "execution_count": null,
      "metadata": {
        "id": "IC9TxqvL4B-4"
      },
      "outputs": [],
      "source": [
        "# Your code"
      ]
    }
  ],
  "metadata": {
    "celltoolbar": "Slideshow",
    "kernelspec": {
      "display_name": "Python 3",
      "name": "python3"
    },
    "language_info": {
      "codemirror_mode": {
        "name": "ipython",
        "version": 3
      },
      "file_extension": ".py",
      "mimetype": "text/x-python",
      "name": "python",
      "nbconvert_exporter": "python",
      "pygments_lexer": "ipython3",
      "version": "3.11.9"
    },
    "colab": {
      "provenance": [],
      "machine_shape": "hm",
      "gpuType": "L4"
    },
    "accelerator": "GPU"
  },
  "nbformat": 4,
  "nbformat_minor": 0
}