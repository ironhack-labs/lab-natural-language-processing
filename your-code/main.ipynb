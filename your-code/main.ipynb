{
 "cells": [
  {
   "cell_type": "code",
   "execution_count": 1,
   "metadata": {},
   "outputs": [
    {
     "name": "stderr",
     "output_type": "stream",
     "text": [
      "C:\\Users\\Amin\\AppData\\Local\\Temp\\ipykernel_17864\\3777615979.py:1: DeprecationWarning: Importing display from IPython.core.display is deprecated since IPython 7.14, please import from IPython display\n",
      "  from IPython.core.display import display, HTML\n"
     ]
    },
    {
     "data": {
      "text/html": [
       "<style>.container { width:100% !important; }</style>"
      ],
      "text/plain": [
       "<IPython.core.display.HTML object>"
      ]
     },
     "metadata": {},
     "output_type": "display_data"
    }
   ],
   "source": [
    "from IPython.core.display import display, HTML\n",
    "display(HTML(\"<style>.container { width:100% !important; }</style>\"))"
   ]
  },
  {
   "cell_type": "markdown",
   "metadata": {},
   "source": [
    "# Lab | Natural Language Processing\n",
    "### SMS: SPAM or HAM"
   ]
  },
  {
   "cell_type": "markdown",
   "metadata": {},
   "source": [
    "### Let's prepare the environment"
   ]
  },
  {
   "cell_type": "code",
   "execution_count": 2,
   "metadata": {},
   "outputs": [],
   "source": [
    "import pandas as pd\n",
    "import matplotlib.pyplot as plt\n",
    "from sklearn.feature_extraction.text import TfidfVectorizer"
   ]
  },
  {
   "cell_type": "markdown",
   "metadata": {},
   "source": [
    "- Read Data for the Fraudulent Email Kaggle Challenge\n",
    "- Reduce the training set to speead up development. "
   ]
  },
  {
   "cell_type": "code",
   "execution_count": 3,
   "metadata": {},
   "outputs": [
    {
     "name": "stdout",
     "output_type": "stream",
     "text": [
      "(1000, 2)\n"
     ]
    }
   ],
   "source": [
    "## Read Data for the Fraudulent Email Kaggle Challenge\n",
    "data = pd.read_csv(\"../data/kg_train.csv\",encoding='latin-1')\n",
    "\n",
    "# Reduce the training set to speed up development. \n",
    "# Modify for final system\n",
    "data = data.head(1000)\n",
    "print(data.shape)\n",
    "data.fillna(\"\",inplace=True)"
   ]
  },
  {
   "cell_type": "code",
   "execution_count": 4,
   "metadata": {},
   "outputs": [
    {
     "data": {
      "text/html": [
       "<div>\n",
       "<style scoped>\n",
       "    .dataframe tbody tr th:only-of-type {\n",
       "        vertical-align: middle;\n",
       "    }\n",
       "\n",
       "    .dataframe tbody tr th {\n",
       "        vertical-align: top;\n",
       "    }\n",
       "\n",
       "    .dataframe thead th {\n",
       "        text-align: right;\n",
       "    }\n",
       "</style>\n",
       "<table border=\"1\" class=\"dataframe\">\n",
       "  <thead>\n",
       "    <tr style=\"text-align: right;\">\n",
       "      <th></th>\n",
       "      <th>text</th>\n",
       "      <th>label</th>\n",
       "    </tr>\n",
       "  </thead>\n",
       "  <tbody>\n",
       "    <tr>\n",
       "      <th>0</th>\n",
       "      <td>DEAR SIR, STRICTLY A PRIVATE BUSINESS PROPOSAL...</td>\n",
       "      <td>1</td>\n",
       "    </tr>\n",
       "    <tr>\n",
       "      <th>1</th>\n",
       "      <td>Will do.</td>\n",
       "      <td>0</td>\n",
       "    </tr>\n",
       "    <tr>\n",
       "      <th>2</th>\n",
       "      <td>Nora--Cheryl has emailed dozens of memos about...</td>\n",
       "      <td>0</td>\n",
       "    </tr>\n",
       "    <tr>\n",
       "      <th>3</th>\n",
       "      <td>Dear Sir=2FMadam=2C I know that this proposal ...</td>\n",
       "      <td>1</td>\n",
       "    </tr>\n",
       "    <tr>\n",
       "      <th>4</th>\n",
       "      <td>fyi</td>\n",
       "      <td>0</td>\n",
       "    </tr>\n",
       "  </tbody>\n",
       "</table>\n",
       "</div>"
      ],
      "text/plain": [
       "                                                text  label\n",
       "0  DEAR SIR, STRICTLY A PRIVATE BUSINESS PROPOSAL...      1\n",
       "1                                           Will do.      0\n",
       "2  Nora--Cheryl has emailed dozens of memos about...      0\n",
       "3  Dear Sir=2FMadam=2C I know that this proposal ...      1\n",
       "4                                                fyi      0"
      ]
     },
     "execution_count": 4,
     "metadata": {},
     "output_type": "execute_result"
    }
   ],
   "source": [
    "data.head()"
   ]
  },
  {
   "cell_type": "markdown",
   "metadata": {},
   "source": [
    "### Let's divide the training and test set into two partitions"
   ]
  },
  {
   "cell_type": "code",
   "execution_count": 5,
   "metadata": {},
   "outputs": [
    {
     "name": "stdout",
     "output_type": "stream",
     "text": [
      "Training set size: (800, 2)\n",
      "Test set size: (200, 2)\n",
      "Class distribution in training set:\n",
      "Ham (0): 446\n",
      "Spam (1): 354\n",
      "Class distribution in test set:\n",
      "Ham (0): 112\n",
      "Spam (1): 88\n"
     ]
    }
   ],
   "source": [
    "# Your code\n",
    "from sklearn.model_selection import train_test_split\n",
    "\n",
    "# Split the training data into train and test sets\n",
    "X = data['text']  # Text features\n",
    "y = data['label']  # Labels (0=ham, 1=spam)\n",
    "\n",
    "# Split into train and test sets (80-20 split)\n",
    "X_train, X_test, y_train, y_test = train_test_split(X, y, test_size=0.2, random_state=42, stratify=y)\n",
    "\n",
    "# Create DataFrames for easier handling\n",
    "data_train = pd.DataFrame({'text': X_train, 'label': y_train})\n",
    "data_test = pd.DataFrame({'text': X_test, 'label': y_test})\n",
    "\n",
    "print(f\"Training set size: {data_train.shape}\")\n",
    "print(f\"Test set size: {data_test.shape}\")\n",
    "print(f\"Class distribution in training set:\")\n",
    "print(f\"Ham (0): {(data_train['label'] == 0).sum()}\")\n",
    "print(f\"Spam (1): {(data_train['label'] == 1).sum()}\")\n",
    "print(f\"Class distribution in test set:\")\n",
    "print(f\"Ham (0): {(data_test['label'] == 0).sum()}\")\n",
    "print(f\"Spam (1): {(data_test['label'] == 1).sum()}\")"
   ]
  },
  {
   "cell_type": "markdown",
   "metadata": {},
   "source": [
    "## Data Preprocessing"
   ]
  },
  {
   "cell_type": "code",
   "execution_count": 6,
   "metadata": {},
   "outputs": [
    {
     "name": "stdout",
     "output_type": "stream",
     "text": [
      "!\"#$%&'()*+,-./:;<=>?@[\\]^_`{|}~\n",
      "['needn', \"needn't\", 'no', 'nor', 'not', 'now', 'o', 'of', 'off', 'on']\n"
     ]
    }
   ],
   "source": [
    "import string\n",
    "from nltk.corpus import stopwords\n",
    "print(string.punctuation)\n",
    "print(stopwords.words(\"english\")[100:110])\n",
    "from nltk.stem.snowball import SnowballStemmer\n",
    "snowball = SnowballStemmer('english')\n"
   ]
  },
  {
   "cell_type": "markdown",
   "metadata": {},
   "source": [
    "## Now, we have to clean the html code removing words\n",
    "\n",
    "- First we remove inline JavaScript/CSS\n",
    "- Then we remove html comments. This has to be done before removing regular tags since comments can contain '>' characters\n",
    "- Next we can remove the remaining tags"
   ]
  },
  {
   "cell_type": "code",
   "execution_count": 7,
   "metadata": {},
   "outputs": [],
   "source": [
    "# Your code\n",
    "import re\n",
    "def clean_html(text):\n",
    "     \"\"\"Clean HTML tags and content from text\"\"\"\n",
    "     if pd.isna(text):\n",
    "          return \"\"\n",
    "     \n",
    "     text = str(text)\n",
    "\n",
    "     # 1. First we remove inline JavaScript/CSS\n",
    "     text = re.sub(r'<script.*?</script>', '', text, flags=re.DOTALL | re.IGNORECASE)\n",
    "     text = re.sub(r'<style.*?</style>', '', text, flags=re.DOTALL | re.IGNORECASE)\n",
    "\n",
    "     # 2. Then we remove html comments (before removing regular tags)\n",
    "     text = re.sub(r'<!--.*?-->', '', text, flags=re.DOTALL)\n",
    "\n",
    "     # 3. Next we can remove the remaining tags\n",
    "     text = re.sub(r'<[^>]+>', '', text)\n",
    "\n",
    "     # Decode HTML entities\n",
    "     text = text.replace('&lt;', '<').replace('&gt;', '>').replace('&amp;', '&')\n",
    "     text = text.replace('=2F', '/').replace('=2C', ',').replace('=3D', '=')\n",
    "    \n",
    "     return text"
   ]
  },
  {
   "cell_type": "markdown",
   "metadata": {},
   "source": [
    "- Remove all the special characters\n",
    "    \n",
    "- Remove numbers\n",
    "    \n",
    "- Remove all single characters\n",
    " \n",
    "- Remove single characters from the start\n",
    "\n",
    "- Substitute multiple spaces with single space\n",
    "\n",
    "- Remove prefixed 'b'\n",
    "\n",
    "- Convert to Lowercase"
   ]
  },
  {
   "cell_type": "code",
   "execution_count": 8,
   "metadata": {},
   "outputs": [],
   "source": [
    "def preprocess_text(text):\n",
    "    \"\"\"Complete text preprocessing pipeline\"\"\"\n",
    "    if pd.isna(text):\n",
    "        return \"\"\n",
    "    \n",
    "    text = str(text)\n",
    "    \n",
    "    # 4. Remove all the special characters\n",
    "    text = re.sub(r'[^a-zA-Z0-9\\s]', '', text)\n",
    "    \n",
    "    # 5. Remove numbers\n",
    "    text = re.sub(r'\\d+', '', text)\n",
    "    \n",
    "    # 6. Remove all single characters\n",
    "    text = re.sub(r'\\s+[a-zA-Z]\\s+', ' ', text)\n",
    "    \n",
    "    # 7. Remove single characters from the start\n",
    "    text = re.sub(r'^[a-zA-Z]\\s+', '', text)\n",
    "    \n",
    "    # 8. Substitute multiple spaces with single space\n",
    "    text = re.sub(r'\\s+', ' ', text)\n",
    "    \n",
    "    # 9. Remove prefixed 'b'\n",
    "    text = re.sub(r'^b\\s+', '', text)\n",
    "    \n",
    "    # 10. Convert to Lowercase\n",
    "    text = text.lower().strip()\n",
    "    \n",
    "    return text"
   ]
  },
  {
   "cell_type": "code",
   "execution_count": 9,
   "metadata": {},
   "outputs": [
    {
     "name": "stdout",
     "output_type": "stream",
     "text": [
      "Complete preprocessing pipeline:\n",
      "Original: Dear=2C Good day hope fine=2Cdear am writting this mail with due respect and hea...\n",
      "Final:    dear good day hope finedear am writting this mail with due respect and heartful ...\n"
     ]
    }
   ],
   "source": [
    "# Apply both functions in sequence: original → HTML cleaned → preprocessed\n",
    "data_train['preprocessed_text'] = data_train['text'].apply(lambda x: preprocess_text(clean_html(x)))\n",
    "data_test['preprocessed_text'] = data_test['text'].apply(lambda x: preprocess_text(clean_html(x)))\n",
    "\n",
    "print(\"Complete preprocessing pipeline:\")\n",
    "sample_text = data_train['text'].iloc[0]\n",
    "print(f\"Original: {sample_text[:80]}...\")\n",
    "print(f\"Final:    {data_train['preprocessed_text'].iloc[0][:80]}...\")"
   ]
  },
  {
   "cell_type": "markdown",
   "metadata": {
    "slideshow": {
     "slide_type": "-"
    }
   },
   "source": [
    "## Now let's work on removing stopwords\n",
    "Remove the stopwords."
   ]
  },
  {
   "cell_type": "code",
   "execution_count": 10,
   "metadata": {},
   "outputs": [
    {
     "name": "stdout",
     "output_type": "stream",
     "text": [
      "After stopword removal:\n",
      "Sample: dear good day hope finedear writting mail due respect heartful tears since known...\n"
     ]
    }
   ],
   "source": [
    "# Your code\n",
    "import nltk\n",
    "nltk.download('stopwords', quiet=True)\n",
    "\n",
    "def remove_stopwords(text):\n",
    "    \"\"\"Remove stopwords from text\"\"\"\n",
    "    if pd.isna(text) or text == \"\":\n",
    "        return \"\"\n",
    "    \n",
    "    stop_words = set(stopwords.words('english'))\n",
    "    words = text.split()\n",
    "    filtered_words = [word for word in words if word.lower() not in stop_words]\n",
    "    \n",
    "    return ' '.join(filtered_words)\n",
    "\n",
    "\n",
    "# Apply stopword removal to both datasets\n",
    "data_train['preprocessed_text'] = data_train['preprocessed_text'].apply(remove_stopwords)\n",
    "data_test['preprocessed_text'] = data_test['preprocessed_text'].apply(remove_stopwords)\n",
    "\n",
    "print(\"After stopword removal:\")\n",
    "print(f\"Sample: {data_train['preprocessed_text'].iloc[0][:80]}...\")\n"
   ]
  },
  {
   "cell_type": "markdown",
   "metadata": {},
   "source": [
    "## Tame Your Text with Lemmatization\n",
    "Break sentences into words, then use lemmatization to reduce them to their base form (e.g., \"running\" becomes \"run\"). See how this creates cleaner data for analysis!"
   ]
  },
  {
   "cell_type": "code",
   "execution_count": 11,
   "metadata": {},
   "outputs": [
    {
     "name": "stdout",
     "output_type": "stream",
     "text": [
      "After lemmatization:\n",
      "Sample: dear good day hope finedear writting mail due respect heartful tear since known ...\n"
     ]
    }
   ],
   "source": [
    "# Your code\n",
    "from nltk.stem import WordNetLemmatizer\n",
    "from nltk.tokenize import word_tokenize\n",
    "\n",
    "nltk.download('punkt', quiet=True)\n",
    "nltk.download('wordnet', quiet=True)\n",
    "\n",
    "\n",
    "def lemmatize_text(text):\n",
    "    \"\"\"Apply lemmatization to reduce words to their base form\"\"\"\n",
    "    if pd.isna(text) or text == \"\":\n",
    "        return \"\"\n",
    "    \n",
    "    lemmatizer = WordNetLemmatizer()\n",
    "    words = word_tokenize(text)\n",
    "    lemmatized_words = [lemmatizer.lemmatize(word) for word in words]\n",
    "    \n",
    "    return ' '.join(lemmatized_words)\n",
    "\n",
    "# Apply lemmatization to both datasets\n",
    "data_train['preprocessed_text'] = data_train['preprocessed_text'].apply(lemmatize_text)\n",
    "data_test['preprocessed_text'] = data_test['preprocessed_text'].apply(lemmatize_text)\n",
    "\n",
    "print(\"After lemmatization:\")\n",
    "print(f\"Sample: {data_train['preprocessed_text'].iloc[0][:80]}...\")"
   ]
  },
  {
   "cell_type": "markdown",
   "metadata": {},
   "source": [
    "## Bag Of Words\n",
    "Let's get the 10 top words in ham and spam messages (**EXPLORATORY DATA ANALYSIS**)"
   ]
  },
  {
   "cell_type": "code",
   "execution_count": 12,
   "metadata": {},
   "outputs": [
    {
     "name": "stdout",
     "output_type": "stream",
     "text": [
      "Top 10 words in HAM messages:\n",
      "would: 91\n",
      "president: 90\n",
      "u: 90\n",
      "percent: 76\n",
      "call: 75\n",
      "state: 72\n",
      "work: 70\n",
      "mr: 70\n",
      "one: 62\n",
      "time: 60\n",
      "\n",
      "Top 10 words in SPAM messages:\n",
      "money: 714\n",
      "account: 603\n",
      "bank: 572\n",
      "fund: 543\n",
      "u: 449\n",
      "business: 384\n",
      "transaction: 341\n",
      "country: 326\n",
      "million: 315\n",
      "company: 301\n"
     ]
    }
   ],
   "source": [
    "# Your code\n",
    "from collections import Counter\n",
    "import matplotlib.pyplot as plt\n",
    "\n",
    "def get_top_words(texts, n=10):\n",
    "    \"\"\"Get top n words from a collection of texts\"\"\"\n",
    "    all_words = []\n",
    "    for text in texts:\n",
    "        if pd.notna(text) and text != \"\":\n",
    "            all_words.extend(text.split())\n",
    "    \n",
    "    word_counts = Counter(all_words)\n",
    "    return word_counts.most_common(n)\n",
    "\n",
    "# Get top words for ham and spam\n",
    "ham_texts = data_train[data_train['label'] == 0]['preprocessed_text']\n",
    "spam_texts = data_train[data_train['label'] == 1]['preprocessed_text']\n",
    "\n",
    "top_ham_words = get_top_words(ham_texts, 10)\n",
    "top_spam_words = get_top_words(spam_texts, 10)\n",
    "\n",
    "print(\"Top 10 words in HAM messages:\")\n",
    "for word, count in top_ham_words:\n",
    "    print(f\"{word}: {count}\")\n",
    "\n",
    "print(\"\\nTop 10 words in SPAM messages:\")\n",
    "for word, count in top_spam_words:\n",
    "    print(f\"{word}: {count}\")"
   ]
  },
  {
   "cell_type": "markdown",
   "metadata": {},
   "source": [
    "## Extra features"
   ]
  },
  {
   "cell_type": "code",
   "execution_count": 13,
   "metadata": {},
   "outputs": [
    {
     "data": {
      "text/html": [
       "<div>\n",
       "<style scoped>\n",
       "    .dataframe tbody tr th:only-of-type {\n",
       "        vertical-align: middle;\n",
       "    }\n",
       "\n",
       "    .dataframe tbody tr th {\n",
       "        vertical-align: top;\n",
       "    }\n",
       "\n",
       "    .dataframe thead th {\n",
       "        text-align: right;\n",
       "    }\n",
       "</style>\n",
       "<table border=\"1\" class=\"dataframe\">\n",
       "  <thead>\n",
       "    <tr style=\"text-align: right;\">\n",
       "      <th></th>\n",
       "      <th>text</th>\n",
       "      <th>label</th>\n",
       "      <th>preprocessed_text</th>\n",
       "      <th>money_mark</th>\n",
       "      <th>suspicious_words</th>\n",
       "      <th>text_len</th>\n",
       "    </tr>\n",
       "  </thead>\n",
       "  <tbody>\n",
       "    <tr>\n",
       "      <th>442</th>\n",
       "      <td>Dear=2C Good day hope fine=2Cdear am writting ...</td>\n",
       "      <td>1</td>\n",
       "      <td>dear good day hope finedear writting mail due ...</td>\n",
       "      <td>1</td>\n",
       "      <td>1</td>\n",
       "      <td>1009</td>\n",
       "    </tr>\n",
       "    <tr>\n",
       "      <th>962</th>\n",
       "      <td>FROM MR HENRY KABORETHE CHIEF AUDITOR INCHARGE...</td>\n",
       "      <td>1</td>\n",
       "      <td>mr henry kaborethe chief auditor inchargeforei...</td>\n",
       "      <td>0</td>\n",
       "      <td>1</td>\n",
       "      <td>1954</td>\n",
       "    </tr>\n",
       "    <tr>\n",
       "      <th>971</th>\n",
       "      <td>Will do.</td>\n",
       "      <td>0</td>\n",
       "      <td></td>\n",
       "      <td>0</td>\n",
       "      <td>0</td>\n",
       "      <td>0</td>\n",
       "    </tr>\n",
       "    <tr>\n",
       "      <th>190</th>\n",
       "      <td>FROM THE DESK OF DR.ADAMU  ISMALERAUDITING AND...</td>\n",
       "      <td>1</td>\n",
       "      <td>desk dradamu ismalerauditing accounting manage...</td>\n",
       "      <td>1</td>\n",
       "      <td>1</td>\n",
       "      <td>390</td>\n",
       "    </tr>\n",
       "    <tr>\n",
       "      <th>551</th>\n",
       "      <td>Dear Friend, My name is LOI C.ESTRADA,The wife...</td>\n",
       "      <td>1</td>\n",
       "      <td>dear friend name loi cestradathe wife mr josep...</td>\n",
       "      <td>1</td>\n",
       "      <td>1</td>\n",
       "      <td>1507</td>\n",
       "    </tr>\n",
       "  </tbody>\n",
       "</table>\n",
       "</div>"
      ],
      "text/plain": [
       "                                                  text  label  \\\n",
       "442  Dear=2C Good day hope fine=2Cdear am writting ...      1   \n",
       "962  FROM MR HENRY KABORETHE CHIEF AUDITOR INCHARGE...      1   \n",
       "971                                           Will do.      0   \n",
       "190  FROM THE DESK OF DR.ADAMU  ISMALERAUDITING AND...      1   \n",
       "551  Dear Friend, My name is LOI C.ESTRADA,The wife...      1   \n",
       "\n",
       "                                     preprocessed_text  money_mark  \\\n",
       "442  dear good day hope finedear writting mail due ...           1   \n",
       "962  mr henry kaborethe chief auditor inchargeforei...           0   \n",
       "971                                                              0   \n",
       "190  desk dradamu ismalerauditing accounting manage...           1   \n",
       "551  dear friend name loi cestradathe wife mr josep...           1   \n",
       "\n",
       "     suspicious_words  text_len  \n",
       "442                 1      1009  \n",
       "962                 1      1954  \n",
       "971                 0         0  \n",
       "190                 1       390  \n",
       "551                 1      1507  "
      ]
     },
     "execution_count": 13,
     "metadata": {},
     "output_type": "execute_result"
    }
   ],
   "source": [
    "# We add to the original dataframe two additional indicators (money symbols and suspicious words).\n",
    "money_simbol_list = \"|\".join([\"euro\",\"dollar\",\"pound\",\"€\",r\"\\$\"])\n",
    "suspicious_words = \"|\".join([\"free\",\"cheap\",\"sex\",\"money\",\"account\",\"bank\",\"fund\",\"transfer\",\"transaction\",\"win\",\"deposit\",\"password\"])\n",
    "\n",
    "data_train['money_mark'] = data_train['preprocessed_text'].str.contains(money_simbol_list)*1\n",
    "data_train['suspicious_words'] = data_train['preprocessed_text'].str.contains(suspicious_words)*1\n",
    "data_train['text_len'] = data_train['preprocessed_text'].apply(lambda x: len(x)) \n",
    "\n",
    "data_test['money_mark'] = data_test['preprocessed_text'].str.contains(money_simbol_list, case=False, na=False)*1\n",
    "data_test['suspicious_words'] = data_test['preprocessed_text'].str.contains(suspicious_words, case=False, na=False)*1\n",
    "data_test['text_len'] = data_test['preprocessed_text'].apply(lambda x: len(str(x))) \n",
    "\n",
    "\n",
    "data_train.head()"
   ]
  },
  {
   "cell_type": "code",
   "execution_count": 14,
   "metadata": {},
   "outputs": [
    {
     "name": "stdout",
     "output_type": "stream",
     "text": [
      "Extra features added:\n",
      "Training set with extra features:\n",
      "                                     preprocessed_text  money_mark  \\\n",
      "442  dear good day hope finedear writting mail due ...           1   \n",
      "962  mr henry kaborethe chief auditor inchargeforei...           0   \n",
      "971                                                              0   \n",
      "190  desk dradamu ismalerauditing accounting manage...           1   \n",
      "551  dear friend name loi cestradathe wife mr josep...           1   \n",
      "\n",
      "     suspicious_words  text_len  label  \n",
      "442                 1      1009      1  \n",
      "962                 1      1954      1  \n",
      "971                 0         0      0  \n",
      "190                 1       390      1  \n",
      "551                 1      1507      1  \n",
      "\n",
      "Feature statistics:\n",
      "Messages with money symbols: 232\n",
      "Messages with suspicious words: 340\n",
      "Average text length: 928.83\n"
     ]
    }
   ],
   "source": [
    "print(\"Extra features added:\")\n",
    "print(\"Training set with extra features:\")\n",
    "print(data_train[['preprocessed_text', 'money_mark', 'suspicious_words', 'text_len', 'label']].head())\n",
    "\n",
    "print(f\"\\nFeature statistics:\")\n",
    "print(f\"Messages with money symbols: {data_train['money_mark'].sum()}\")\n",
    "print(f\"Messages with suspicious words: {data_train['suspicious_words'].sum()}\")\n",
    "print(f\"Average text length: {data_train['text_len'].mean():.2f}\")"
   ]
  },
  {
   "cell_type": "markdown",
   "metadata": {},
   "source": [
    "## How would work the Bag of Words with Count Vectorizer concept?"
   ]
  },
  {
   "cell_type": "code",
   "execution_count": 15,
   "metadata": {},
   "outputs": [
    {
     "name": "stdout",
     "output_type": "stream",
     "text": [
      "Shape of count vectorized training data: (800, 5000)\n",
      "Shape of count vectorized test data: (200, 5000)\n",
      "Sample features: ['aae' 'abacha' 'abandoned' 'abedin' 'abidjan' 'abidjancote' 'abilateral'\n",
      " 'ability' 'able' 'abm']\n",
      "Total features: 5000\n",
      "\n",
      "Vectorization complete!\n",
      "Each email is now represented as a vector of 5000 features\n"
     ]
    }
   ],
   "source": [
    "# Your code\n",
    "from sklearn.feature_extraction.text import CountVectorizer\n",
    "\n",
    "# Initialize Count Vectorizer\n",
    "count_vectorizer = CountVectorizer(max_features=5000, stop_words='english')\n",
    "\n",
    "# Fit and transform the training data\n",
    "X_train_counts = count_vectorizer.fit_transform(data_train['preprocessed_text'])\n",
    "X_test_counts = count_vectorizer.transform(data_test['preprocessed_text'])\n",
    "\n",
    "print(f\"Shape of count vectorized training data: {X_train_counts.shape}\")\n",
    "print(f\"Shape of count vectorized test data: {X_test_counts.shape}\")\n",
    "\n",
    "# Get feature names\n",
    "feature_names = count_vectorizer.get_feature_names_out()\n",
    "print(f\"Sample features: {feature_names[:10]}\")\n",
    "print(f\"Total features: {len(feature_names)}\")\n",
    "\n",
    "# Show some statistics\n",
    "print(f\"\\nVectorization complete!\")\n",
    "print(f\"Each email is now represented as a vector of {X_train_counts.shape[1]} features\")\n"
   ]
  },
  {
   "cell_type": "markdown",
   "metadata": {},
   "source": [
    "## TF-IDF\n",
    "\n",
    "- Load the vectorizer\n",
    "\n",
    "- Vectorize all dataset\n",
    "\n",
    "- print the shape of the vetorized dataset"
   ]
  },
  {
   "cell_type": "code",
   "execution_count": 16,
   "metadata": {},
   "outputs": [
    {
     "name": "stdout",
     "output_type": "stream",
     "text": [
      "Shape of TF-IDF training data: (800, 5000)\n",
      "Shape of TF-IDF test data: (200, 5000)\n",
      "Sample TF-IDF features: ['aae' 'abacha' 'abandoned' 'abedin' 'abidjan' 'abidjancote' 'abilateral'\n",
      " 'ability' 'able' 'abm']\n",
      "\n",
      "TF-IDF vectorization complete!\n",
      "Each email is now represented as a vector of 5000 TF-IDF weighted features\n"
     ]
    }
   ],
   "source": [
    "# Your code\n",
    "from sklearn.feature_extraction.text import TfidfVectorizer\n",
    "\n",
    "# Initialize TF-IDF Vectorizer\n",
    "tfidf_vectorizer = TfidfVectorizer(max_features=5000, stop_words='english')\n",
    "\n",
    "# Fit and transform the data\n",
    "X_train_tfidf = tfidf_vectorizer.fit_transform(data_train['preprocessed_text'])\n",
    "X_test_tfidf = tfidf_vectorizer.transform(data_test['preprocessed_text'])\n",
    "\n",
    "print(f\"Shape of TF-IDF training data: {X_train_tfidf.shape}\")\n",
    "print(f\"Shape of TF-IDF test data: {X_test_tfidf.shape}\")\n",
    "\n",
    "# Show some sample TF-IDF scores\n",
    "feature_names_tfidf = tfidf_vectorizer.get_feature_names_out()\n",
    "print(f\"Sample TF-IDF features: {feature_names_tfidf[:10]}\")\n",
    "\n",
    "print(f\"\\nTF-IDF vectorization complete!\")\n",
    "print(f\"Each email is now represented as a vector of {X_train_tfidf.shape[1]} TF-IDF weighted features\")"
   ]
  },
  {
   "cell_type": "markdown",
   "metadata": {},
   "source": [
    "## And the Train a Classifier?"
   ]
  },
  {
   "cell_type": "code",
   "execution_count": 17,
   "metadata": {},
   "outputs": [
    {
     "name": "stdout",
     "output_type": "stream",
     "text": [
      "=== Count Vectorizer Results ===\n",
      "Accuracy: 0.9550\n",
      "\n",
      "Classification Report:\n",
      "              precision    recall  f1-score   support\n",
      "\n",
      "         Ham       0.99      0.93      0.96       112\n",
      "        Spam       0.92      0.99      0.95        88\n",
      "\n",
      "    accuracy                           0.95       200\n",
      "   macro avg       0.95      0.96      0.95       200\n",
      "weighted avg       0.96      0.95      0.96       200\n",
      "\n",
      "\n",
      "=== TF-IDF Results ===\n",
      "Accuracy: 0.9650\n",
      "\n",
      "Classification Report:\n",
      "              precision    recall  f1-score   support\n",
      "\n",
      "         Ham       0.99      0.95      0.97       112\n",
      "        Spam       0.94      0.99      0.96        88\n",
      "\n",
      "    accuracy                           0.96       200\n",
      "   macro avg       0.96      0.97      0.96       200\n",
      "weighted avg       0.97      0.96      0.97       200\n",
      "\n",
      "\n",
      "=== Simple Comparison ===\n",
      "Count Vectorizer Accuracy: 0.9550\n",
      "TF-IDF Accuracy:          0.9650\n",
      "TF-IDF performs better!\n"
     ]
    }
   ],
   "source": [
    "# Your code\n",
    "from sklearn.naive_bayes import MultinomialNB\n",
    "from sklearn.metrics import accuracy_score, classification_report\n",
    "\n",
    "# Train with Count Vectorizer only\n",
    "nb_counts = MultinomialNB()\n",
    "nb_counts.fit(X_train_counts, data_train['label'])\n",
    "y_pred_counts = nb_counts.predict(X_test_counts)\n",
    "accuracy_counts = accuracy_score(data_test['label'], y_pred_counts)\n",
    "\n",
    "print(\"=== Count Vectorizer Results ===\")\n",
    "print(f\"Accuracy: {accuracy_counts:.4f}\")\n",
    "print(\"\\nClassification Report:\")\n",
    "print(classification_report(data_test['label'], y_pred_counts, target_names=['Ham', 'Spam']))\n",
    "\n",
    "# Train with TF-IDF only\n",
    "nb_tfidf = MultinomialNB()\n",
    "nb_tfidf.fit(X_train_tfidf, data_train['label'])\n",
    "y_pred_tfidf = nb_tfidf.predict(X_test_tfidf)\n",
    "accuracy_tfidf = accuracy_score(data_test['label'], y_pred_tfidf)\n",
    "\n",
    "print(\"\\n=== TF-IDF Results ===\")\n",
    "print(f\"Accuracy: {accuracy_tfidf:.4f}\")\n",
    "print(\"\\nClassification Report:\")\n",
    "print(classification_report(data_test['label'], y_pred_tfidf, target_names=['Ham', 'Spam']))\n",
    "\n",
    "# Simple comparison\n",
    "print(f\"\\n=== Simple Comparison ===\")\n",
    "print(f\"Count Vectorizer Accuracy: {accuracy_counts:.4f}\")\n",
    "print(f\"TF-IDF Accuracy:          {accuracy_tfidf:.4f}\")\n",
    "\n",
    "if accuracy_tfidf > accuracy_counts:\n",
    "    print(\"TF-IDF performs better!\")\n",
    "else:\n",
    "    print(\"Count Vectorizer performs better!\")"
   ]
  },
  {
   "cell_type": "code",
   "execution_count": 18,
   "metadata": {},
   "outputs": [
    {
     "name": "stdout",
     "output_type": "stream",
     "text": [
      "=== Count Vectorizer Confusion Matrix ===\n",
      "Confusion Matrix:\n",
      "                 Predicted\n",
      "                 Ham  Spam\n",
      "Actual    Ham    104     8\n",
      "          Spam     1    87\n",
      "\n",
      "=== TF-IDF Confusion Matrix ===\n",
      "Confusion Matrix:\n",
      "                 Predicted\n",
      "                 Ham  Spam\n",
      "Actual    Ham    106     6\n",
      "          Spam     1    87\n"
     ]
    },
    {
     "data": {
      "image/png": "[encoded data removed]",
      "text/plain": [
       "<Figure size 1200x500 with 4 Axes>"
      ]
     },
     "metadata": {},
     "output_type": "display_data"
    },
    {
     "name": "stdout",
     "output_type": "stream",
     "text": [
      "\n",
      "=== Error Analysis ===\n",
      "Count Vectorizer:\n",
      "  False Positives (Ham → Spam): 8 emails\n",
      "  False Negatives (Spam → Ham): 1 emails\n",
      "TF-IDF:\n",
      "  False Positives (Ham → Spam): 6 emails\n",
      "  False Negatives (Spam → Ham): 1 emails\n"
     ]
    }
   ],
   "source": [
    "# Confusion matrix analysis\n",
    "from sklearn.metrics import confusion_matrix\n",
    "import matplotlib.pyplot as plt\n",
    "import seaborn as sns\n",
    "\n",
    "# Confusion Matrix for Count Vectorizer\n",
    "cm_counts = confusion_matrix(data_test['label'], y_pred_counts)\n",
    "print(\"=== Count Vectorizer Confusion Matrix ===\")\n",
    "print(\"Confusion Matrix:\")\n",
    "print(f\"                 Predicted\")\n",
    "print(f\"                 Ham  Spam\")\n",
    "print(f\"Actual    Ham    {cm_counts[0,0]:3d}   {cm_counts[0,1]:3d}\")\n",
    "print(f\"          Spam   {cm_counts[1,0]:3d}   {cm_counts[1,1]:3d}\")\n",
    "\n",
    "# Confusion Matrix for TF-IDF\n",
    "cm_tfidf = confusion_matrix(data_test['label'], y_pred_tfidf)\n",
    "print(\"\\n=== TF-IDF Confusion Matrix ===\")\n",
    "print(\"Confusion Matrix:\")\n",
    "print(f\"                 Predicted\")\n",
    "print(f\"                 Ham  Spam\")\n",
    "print(f\"Actual    Ham    {cm_tfidf[0,0]:3d}   {cm_tfidf[0,1]:3d}\")\n",
    "print(f\"          Spam   {cm_tfidf[1,0]:3d}   {cm_tfidf[1,1]:3d}\")\n",
    "\n",
    "# Visualize confusion matrices\n",
    "fig, (ax1, ax2) = plt.subplots(1, 2, figsize=(12, 5))\n",
    "\n",
    "# Count Vectorizer confusion matrix\n",
    "sns.heatmap(cm_counts, annot=True, fmt='d', cmap='Blues', \n",
    "            xticklabels=['Ham', 'Spam'], yticklabels=['Ham', 'Spam'], ax=ax1)\n",
    "ax1.set_title('Count Vectorizer\\nConfusion Matrix')\n",
    "ax1.set_xlabel('Predicted')\n",
    "ax1.set_ylabel('Actual')\n",
    "\n",
    "# TF-IDF confusion matrix\n",
    "sns.heatmap(cm_tfidf, annot=True, fmt='d', cmap='Blues',\n",
    "            xticklabels=['Ham', 'Spam'], yticklabels=['Ham', 'Spam'], ax=ax2)\n",
    "ax2.set_title('TF-IDF\\nConfusion Matrix')\n",
    "ax2.set_xlabel('Predicted')\n",
    "ax2.set_ylabel('Actual')\n",
    "\n",
    "plt.tight_layout()\n",
    "plt.show()\n",
    "\n",
    "# Analysis of errors\n",
    "print(\"\\n=== Error Analysis ===\")\n",
    "print(\"Count Vectorizer:\")\n",
    "print(f\"  False Positives (Ham → Spam): {cm_counts[0,1]} emails\")\n",
    "print(f\"  False Negatives (Spam → Ham): {cm_counts[1,0]} emails\")\n",
    "\n",
    "print(\"TF-IDF:\")\n",
    "print(f\"  False Positives (Ham → Spam): {cm_tfidf[0,1]} emails\")\n",
    "print(f\"  False Negatives (Spam → Ham): {cm_tfidf[1,0]} emails\")"
   ]
  },
  {
   "cell_type": "markdown",
   "metadata": {},
   "source": [
    "### Extra Task - Implement a SPAM/HAM classifier\n",
    "\n",
    "https://www.kaggle.com/t/b384e34013d54d238490103bc3c360ce\n",
    "\n",
    "The classifier can not be changed!!! It must be the MultinimialNB with default parameters!\n",
    "\n",
    "Your task is to **find the most relevant features**.\n",
    "\n",
    "For example, you can test the following options and check which of them performs better:\n",
    "- Using \"Bag of Words\" only\n",
    "- Using \"TF-IDF\" only\n",
    "- Bag of Words + extra flags (money_mark, suspicious_words, text_len)\n",
    "- TF-IDF + extra flags\n",
    "\n",
    "\n",
    "You can work with teams of two persons (recommended)."
   ]
  },
  {
   "cell_type": "code",
   "execution_count": null,
   "metadata": {},
   "outputs": [],
   "source": [
    "# Your code"
   ]
  }
 ],
 "metadata": {
  "celltoolbar": "Slideshow",
  "kernelspec": {
   "display_name": "base",
   "language": "python",
   "name": "python3"
  },
  "language_info": {
   "codemirror_mode": {
    "name": "ipython",
    "version": 3
   },
   "file_extension": ".py",
   "mimetype": "text/x-python",
   "name": "python",
   "nbconvert_exporter": "python",
   "pygments_lexer": "ipython3",
   "version": "3.12.7"
  }
 },
 "nbformat": 4,
 "nbformat_minor": 2
}
