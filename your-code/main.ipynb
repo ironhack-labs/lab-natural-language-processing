{
 "cells": [
  {
   "cell_type": "code",
   "execution_count": 42,
   "metadata": {},
   "outputs": [
    {
     "data": {
      "text/html": [
       "<style>.container { width:100% !important; }</style>"
      ],
      "text/plain": [
       "<IPython.core.display.HTML object>"
      ]
     },
     "metadata": {},
     "output_type": "display_data"
    }
   ],
   "source": [
    "from IPython.display import display, HTML           # updated following <https://github.com/googleapis/python-aiplatform/issues/5079>\n",
    "display(HTML(\"<style>.container { width:100% !important; }</style>\"))"
   ]
  },
  {
   "cell_type": "markdown",
   "metadata": {},
   "source": [
    "# Lab | Natural Language Processing\n",
    "### SMS: SPAM or HAM"
   ]
  },
  {
   "cell_type": "markdown",
   "metadata": {},
   "source": [
    "### Let's prepare the environment"
   ]
  },
  {
   "cell_type": "code",
   "execution_count": 43,
   "metadata": {},
   "outputs": [],
   "source": [
    "import pandas as pd\n",
    "import numpy as np\n",
    "import matplotlib.pyplot as plt\n",
    "from sklearn.feature_extraction.text import TfidfVectorizer, CountVectorizer\n",
    "from nltk import word_tokenize, bigrams, trigrams, pos_tag\n",
    "\n",
    "\n",
    "import re"
   ]
  },
  {
   "cell_type": "code",
   "execution_count": 44,
   "metadata": {},
   "outputs": [],
   "source": [
    "# fix annoying pandas display restrictions\n",
    "pd.set_option('display.max_rows', 500)\n",
    "pd.set_option('display.max_columns', 500)\n",
    "pd.set_option('display.width', 200)\n",
    "pd.set_option('display.max_colwidth', None)\n"
   ]
  },
  {
   "cell_type": "markdown",
   "metadata": {},
   "source": [
    "- Read Data for the Fraudulent Email Kaggle Challenge\n",
    "- Reduce the training set to speead up development. "
   ]
  },
  {
   "cell_type": "code",
   "execution_count": 45,
   "metadata": {},
   "outputs": [
    {
     "name": "stdout",
     "output_type": "stream",
     "text": [
      "(5964, 2)\n"
     ]
    }
   ],
   "source": [
    "## Read Data for the Fraudulent Email Kaggle Challenge\n",
    "data = pd.read_csv(\"../data/kg_train.csv\",encoding='latin-1')\n",
    "\n",
    "# Reduce the training set to speed up development. \n",
    "# Modify for final system \n",
    "#data = data.head(1000)\n",
    "print(data.shape)\n",
    "data.fillna(\"\",inplace=True)"
   ]
  },
  {
   "cell_type": "markdown",
   "metadata": {},
   "source": [
    "### Let's divide the training and test set into two partitions"
   ]
  },
  {
   "cell_type": "markdown",
   "metadata": {},
   "source": [
    "I am very confused as to why we would want to do this *before* the data preprocessing?! \n",
    "Also, there is a kg_test.csv already, which we should probably use.\n",
    "\n",
    "I'll go ahead with the cleaning first. Also, it would also be much more advantageous to write a function for the cleaning rather than a piecemeal declarative recipe, since we'll have to run this over the test set again later!"
   ]
  },
  {
   "cell_type": "code",
   "execution_count": 46,
   "metadata": {},
   "outputs": [
    {
     "data": {
      "text/html": [
       "<div>\n",
       "<style scoped>\n",
       "    .dataframe tbody tr th:only-of-type {\n",
       "        vertical-align: middle;\n",
       "    }\n",
       "\n",
       "    .dataframe tbody tr th {\n",
       "        vertical-align: top;\n",
       "    }\n",
       "\n",
       "    .dataframe thead th {\n",
       "        text-align: right;\n",
       "    }\n",
       "</style>\n",
       "<table border=\"1\" class=\"dataframe\">\n",
       "  <thead>\n",
       "    <tr style=\"text-align: right;\">\n",
       "      <th></th>\n",
       "      <th>text</th>\n",
       "      <th>label</th>\n",
       "    </tr>\n",
       "  </thead>\n",
       "  <tbody>\n",
       "    <tr>\n",
       "      <th>0</th>\n",
       "      <td>DEAR SIR, STRICTLY A PRIVATE BUSINESS PROPOSAL I AM MIKE CHUKWU , THE MANAGER, BILLS AND EXCHANGE AT THE FOREIGN REMITTANCE DEPARTMENT OF THE ZENITH INTERNATIONAL BANK PLC. I AM WRITING THIS LETTER TO ASK FOR YOUR SUPPORT AND COOPERATION TO CARRY OUT THIS BUSINESS OPPORTUNITY IN MY DEPARTMENT. WE DISCOVERED AN ABANDONED SUM OF $15,000,000.00 (FIFTEEN MILLION UNITED STATES DOLLARS ONLY) IN AN ACCOUNT THAT BELONGS TO ONE OF OUR FOREIGN CUSTOMERS WHO DIED ALONG WITH HIS ENTIRE FAMILY OF A WIFE AND TWO CHILDREN IN NOVEMBER 1997 IN A PLANE CRASH. SINCE WE HEARD OF HIS DEATH, WE HAVE BEEN EXPECTING HIS NEXT-OF-KIN TO COME OVER AND PUT CLAIMS FOR HIS MONEY AS THE HEIR,BECAUSE WE CANNOT RELEASE THE FUND FROM HIS ACCOUNT UNLESS SOMEONE APPLIES FOR CLAIM AS THE NEXT-OF-KIN TO THE DECEASED AS INDICATED IN OUR BANKING GUIDELINES. UNFORTUNATELY, NEITHER THEIR FAMILY MEMBER NOR DISTANT RELATIVE HAS EVER APPEARED TO CLAIM THE SAID FUND. UPON THIS DISCOVERY,I AND OTHER OFFICIALS IN MY DEPARTMENT HAVE AGREED TO MAKE BUSINESS WITH YOU AND RELEASE THE TOTAL AMOUNT INTO YOUR ACCOUNT AS THE HEIR OF THE FUND SINCE NO ONE CAME FOR IT OR DISCOVERED HE MAINTAINED ACCOUNT WITH OUR BANK, OTHERWISE THE FUND WILL BE RETURNED TO THE BANKS TREASURY AS UNCLAIMED FUND. WE HAVE AGREED THAT OUR RATIO OF SHARING WILL BE AS STATED THUS; 30 % FOR YOU AS FOREIGN PARTNER, 60 % FOR US THE OFFICIALS IN MY DEPARTMENT AND 10% FOR THE SETTLEMENT OF ALL LOCAL AND FOREIGN EXPENCES INCURRED BY US AND YOU DURING THE COURSE OF THIS BUSINESS. UPON THE SUCCESSFUL COMPLETION OF THIS TRANSFER, I AND ONE OF MY COLLEAGUES WILL COME TO YOUR COUNTRY AND MIND OUR SHARE. IT IS FROM OUR 60 % WE INTEND TO IMPORT AGRICULTURAL MACHINERIES INTO MY COUNTRY AS A WAY OF RECYCLING THE FUND. TO COMMENCE THIS TRANSACTION, WE REQUIRE YOU TO IMMEDIATELY INDICATE YOUR INTEREST BY A RETURN E-MAIL AND ENCLOSE YOUR PRIVATE CONTACT TELEPHONE NUMBER, FAX NUMBER FULL NAME AND ADDRESS AND YOUR DESIGNATED BANK COORDINATES TO ENABLE US FILE LETTER OF CLAIM TO THE APPROPRIATE DEPARTMENTS FOR NECESSARY APPROVALS BEFORE THE TRANSFER CAN BE MADE. NOTE ALSO, THIS TRANSACTION MUST BE KEPT STRICTLY CONFIDENTIAL BECAUSE OF IT'S NATURE. I LOOK FORWARD TO RECEIVING YOUR PROMPT RESPONSE. REGARDS, MR. MIKE CHUKWU ZENITH INTERNATIONAL BANK PLC .</td>\n",
       "      <td>1</td>\n",
       "    </tr>\n",
       "    <tr>\n",
       "      <th>1</th>\n",
       "      <td>Will do.</td>\n",
       "      <td>0</td>\n",
       "    </tr>\n",
       "    <tr>\n",
       "      <th>2</th>\n",
       "      <td>Nora--Cheryl has emailed dozens of memos about Haiti to me this weekend. Can you please print them and organize them inchrono order for me for my trip tomorrow or send to Lauren so she can do? Thx.</td>\n",
       "      <td>0</td>\n",
       "    </tr>\n",
       "    <tr>\n",
       "      <th>3</th>\n",
       "      <td>Dear Sir=2FMadam=2C I know that this proposal might be a surprise to you but it as an emergency=2EIn a nutshell=2C I am MR=2EP=2E ZUMA=2C from the republic of South-Africa=2C now seeking for refuge in Dakar Senegal under the=28UNHCR=29=2E   I got your contact during a desperate search here in Dakar for a possible transaction=2E My =28late=29 father DR=2E ZUMA KENT WILLIAMS=2C he was the managing director of Gold Mine company in SOUTH AFRICA=2E But he was assinated by his business assoicate and all his properties was totally destroyed by his elder brother=2E   Who alway hate to see me and my mother with his eye's=2C that man very wicked that is why i and my mother managed to escape with some of my father's documents covering $18=2E3 Million dollars which is presently deposited safely in a finance firm on my name as the next of kin=2E Meanwhile=2Cwe are saddled with the problem of securing a trust-worthy foriegn personality to help us transfer the money over to his country and into his possession pending our arrival to meet with him=2E   Furthermore=2Cwe only want this done this way because your country is politically stable for any profitable investment and only if you accept our proposal=2C you will serve as the beneficiary of the fund on commencement of this proposed transactions=2E I am giving you the offers as mentioned with every confidence on your acceptance to assist us=2C we have decided to invest 40% of the total fund based on equity participation in your company=2E   Secondly=2C we shall also take 5% out for any miscelleneous expenses that may occure=2E Conclusively=2C i wish you send me a reply immediately as soon as yourecieve this proposal so that we shall arrange on how to lift this consignment out of Dakar Senegal to your country=2E On commencement=2Cthis transaction will take nothing less than 14 working days to be accomplished=2E All documents covering the fund are safe and intact=2E i remain with the best regards=2E   Please kindly responce to this Alternative E-mail =3A p=5Fzuma1976=40walla=2Ecom Please call urgently to speak with me and my mother on this our direct telephone number =28 00 221 649 67 68  =29 Thanks yours=2C  Mr Prince Zuma=2E</td>\n",
       "      <td>1</td>\n",
       "    </tr>\n",
       "    <tr>\n",
       "      <th>4</th>\n",
       "      <td>fyi</td>\n",
       "      <td>0</td>\n",
       "    </tr>\n",
       "  </tbody>\n",
       "</table>\n",
       "</div>"
      ],
      "text/plain": [
       "                                                                                                                                                                                                                                                                                                                                                                                                                                                                                                                                                                                                                                                                                                                                                                                                                                                                                                                                                                                                                                                                                                                                                                                                                                                                                                                                                                                                                                                                                                                                                                                                                                                                                                                                                                                                                                                                                                                                                                                                                                                                                                                                                                                                                                                                                                                                                                                   text  \\\n",
       "0  DEAR SIR, STRICTLY A PRIVATE BUSINESS PROPOSAL I AM MIKE CHUKWU , THE MANAGER, BILLS AND EXCHANGE AT THE FOREIGN REMITTANCE DEPARTMENT OF THE ZENITH INTERNATIONAL BANK PLC. I AM WRITING THIS LETTER TO ASK FOR YOUR SUPPORT AND COOPERATION TO CARRY OUT THIS BUSINESS OPPORTUNITY IN MY DEPARTMENT. WE DISCOVERED AN ABANDONED SUM OF $15,000,000.00 (FIFTEEN MILLION UNITED STATES DOLLARS ONLY) IN AN ACCOUNT THAT BELONGS TO ONE OF OUR FOREIGN CUSTOMERS WHO DIED ALONG WITH HIS ENTIRE FAMILY OF A WIFE AND TWO CHILDREN IN NOVEMBER 1997 IN A PLANE CRASH. SINCE WE HEARD OF HIS DEATH, WE HAVE BEEN EXPECTING HIS NEXT-OF-KIN TO COME OVER AND PUT CLAIMS FOR HIS MONEY AS THE HEIR,BECAUSE WE CANNOT RELEASE THE FUND FROM HIS ACCOUNT UNLESS SOMEONE APPLIES FOR CLAIM AS THE NEXT-OF-KIN TO THE DECEASED AS INDICATED IN OUR BANKING GUIDELINES. UNFORTUNATELY, NEITHER THEIR FAMILY MEMBER NOR DISTANT RELATIVE HAS EVER APPEARED TO CLAIM THE SAID FUND. UPON THIS DISCOVERY,I AND OTHER OFFICIALS IN MY DEPARTMENT HAVE AGREED TO MAKE BUSINESS WITH YOU AND RELEASE THE TOTAL AMOUNT INTO YOUR ACCOUNT AS THE HEIR OF THE FUND SINCE NO ONE CAME FOR IT OR DISCOVERED HE MAINTAINED ACCOUNT WITH OUR BANK, OTHERWISE THE FUND WILL BE RETURNED TO THE BANKS TREASURY AS UNCLAIMED FUND. WE HAVE AGREED THAT OUR RATIO OF SHARING WILL BE AS STATED THUS; 30 % FOR YOU AS FOREIGN PARTNER, 60 % FOR US THE OFFICIALS IN MY DEPARTMENT AND 10% FOR THE SETTLEMENT OF ALL LOCAL AND FOREIGN EXPENCES INCURRED BY US AND YOU DURING THE COURSE OF THIS BUSINESS. UPON THE SUCCESSFUL COMPLETION OF THIS TRANSFER, I AND ONE OF MY COLLEAGUES WILL COME TO YOUR COUNTRY AND MIND OUR SHARE. IT IS FROM OUR 60 % WE INTEND TO IMPORT AGRICULTURAL MACHINERIES INTO MY COUNTRY AS A WAY OF RECYCLING THE FUND. TO COMMENCE THIS TRANSACTION, WE REQUIRE YOU TO IMMEDIATELY INDICATE YOUR INTEREST BY A RETURN E-MAIL AND ENCLOSE YOUR PRIVATE CONTACT TELEPHONE NUMBER, FAX NUMBER FULL NAME AND ADDRESS AND YOUR DESIGNATED BANK COORDINATES TO ENABLE US FILE LETTER OF CLAIM TO THE APPROPRIATE DEPARTMENTS FOR NECESSARY APPROVALS BEFORE THE TRANSFER CAN BE MADE. NOTE ALSO, THIS TRANSACTION MUST BE KEPT STRICTLY CONFIDENTIAL BECAUSE OF IT'S NATURE. I LOOK FORWARD TO RECEIVING YOUR PROMPT RESPONSE. REGARDS, MR. MIKE CHUKWU ZENITH INTERNATIONAL BANK PLC .    \n",
       "1                                                                                                                                                                                                                                                                                                                                                                                                                                                                                                                                                                                                                                                                                                                                                                                                                                                                                                                                                                                                                                                                                                                                                                                                                                                                                                                                                                                                                                                                                                                                                                                                                                                                                                                                                                                                                                                                                                                                                                                                                                                                                                                                                                                                                                                                                                                                                                              Will do.   \n",
       "2                                                                                                                                                                                                                                                                                                                                                                                                                                                                                                                                                                                                                                                                                                                                                                                                                                                                                                                                                                                                                                                                                                                                                                                                                                                                                                                                                                                                                                                                                                                                                                                                                                                                                                                                                                                                                                                                                                                                                                                                                                                                                                                                                                                 Nora--Cheryl has emailed dozens of memos about Haiti to me this weekend. Can you please print them and organize them inchrono order for me for my trip tomorrow or send to Lauren so she can do? Thx.   \n",
       "3                                                                                               Dear Sir=2FMadam=2C I know that this proposal might be a surprise to you but it as an emergency=2EIn a nutshell=2C I am MR=2EP=2E ZUMA=2C from the republic of South-Africa=2C now seeking for refuge in Dakar Senegal under the=28UNHCR=29=2E   I got your contact during a desperate search here in Dakar for a possible transaction=2E My =28late=29 father DR=2E ZUMA KENT WILLIAMS=2C he was the managing director of Gold Mine company in SOUTH AFRICA=2E But he was assinated by his business assoicate and all his properties was totally destroyed by his elder brother=2E   Who alway hate to see me and my mother with his eye's=2C that man very wicked that is why i and my mother managed to escape with some of my father's documents covering $18=2E3 Million dollars which is presently deposited safely in a finance firm on my name as the next of kin=2E Meanwhile=2Cwe are saddled with the problem of securing a trust-worthy foriegn personality to help us transfer the money over to his country and into his possession pending our arrival to meet with him=2E   Furthermore=2Cwe only want this done this way because your country is politically stable for any profitable investment and only if you accept our proposal=2C you will serve as the beneficiary of the fund on commencement of this proposed transactions=2E I am giving you the offers as mentioned with every confidence on your acceptance to assist us=2C we have decided to invest 40% of the total fund based on equity participation in your company=2E   Secondly=2C we shall also take 5% out for any miscelleneous expenses that may occure=2E Conclusively=2C i wish you send me a reply immediately as soon as yourecieve this proposal so that we shall arrange on how to lift this consignment out of Dakar Senegal to your country=2E On commencement=2Cthis transaction will take nothing less than 14 working days to be accomplished=2E All documents covering the fund are safe and intact=2E i remain with the best regards=2E   Please kindly responce to this Alternative E-mail =3A p=5Fzuma1976=40walla=2Ecom Please call urgently to speak with me and my mother on this our direct telephone number =28 00 221 649 67 68  =29 Thanks yours=2C  Mr Prince Zuma=2E    \n",
       "4                                                                                                                                                                                                                                                                                                                                                                                                                                                                                                                                                                                                                                                                                                                                                                                                                                                                                                                                                                                                                                                                                                                                                                                                                                                                                                                                                                                                                                                                                                                                                                                                                                                                                                                                                                                                                                                                                                                                                                                                                                                                                                                                                                                                                                                                                                                                                                                   fyi   \n",
       "\n",
       "   label  \n",
       "0      1  \n",
       "1      0  \n",
       "2      0  \n",
       "3      1  \n",
       "4      0  "
      ]
     },
     "execution_count": 46,
     "metadata": {},
     "output_type": "execute_result"
    }
   ],
   "source": [
    "# Your code\n",
    "data.head()"
   ]
  },
  {
   "cell_type": "code",
   "execution_count": 47,
   "metadata": {},
   "outputs": [
    {
     "data": {
      "text/html": [
       "<div>\n",
       "<style scoped>\n",
       "    .dataframe tbody tr th:only-of-type {\n",
       "        vertical-align: middle;\n",
       "    }\n",
       "\n",
       "    .dataframe tbody tr th {\n",
       "        vertical-align: top;\n",
       "    }\n",
       "\n",
       "    .dataframe thead th {\n",
       "        text-align: right;\n",
       "    }\n",
       "</style>\n",
       "<table border=\"1\" class=\"dataframe\">\n",
       "  <thead>\n",
       "    <tr style=\"text-align: right;\">\n",
       "      <th></th>\n",
       "      <th>text</th>\n",
       "    </tr>\n",
       "  </thead>\n",
       "  <tbody>\n",
       "    <tr>\n",
       "      <th>0</th>\n",
       "      <td>usiness is for the fact that the deceased man was a foreigner and it is not= authorized by the law guiding our Bank for a citizen of this country to ma=ke the claim of the fund.So the request for you as a foreigner to come into= the business is necessary, it will facilitate the release and transfer of =the fund smoothly into your reliable Bank account as the only surviving rel=ation to the deceased.&lt;BR&gt;&lt;BR&gt;If you are really sure of your integrity, tru=stworthy and confidentiality, and accept not to cheat or disappoint me afte=r this business, reply with your telephone and fax numbers and Banking acco=unt details where you wish to receive the fund.&lt;BR&gt;&lt;BR&gt;Upon receipt of the =above mentioned information, indicating your interest in the business, I wi=ll send you by fax or e-mail a letter of application which you will type an=d send back to our bank to enable us start this transaction.&lt;BR&gt;&lt;BR&gt;I will =not fail to bring to your notice that this business is risk free and doesn'=t have any negative implication. You should not entertain any fear as all m=odalities for the smooth and easy transfer of this fund have been finalized=. This transaction will be completed within 14 bank working days immediatel=y we start the business.&lt;BR&gt;&lt;BR&gt;Waiting for your urgent response and please= kindly delete if you are not interested.&lt;BR&gt;Regards,&lt;BR&gt;&lt;BR&gt;&amp;nbsp;Mr&amp;nbsp;=</td>\n",
       "    </tr>\n",
       "    <tr>\n",
       "      <th>1</th>\n",
       "      <td>They are happy to adjust to the afternoon. I am going to suggest a 3:00pm start time which should give plenty of time toreturn to DC. (Cronkite service starts at 10:30am)</td>\n",
       "    </tr>\n",
       "    <tr>\n",
       "      <th>2</th>\n",
       "      <td>Lael Brainard was confirmed 78-19 this afternoon.Miguel E. RodriguezDeputy Assistant Secretary for Senate AffairsBureau of Legislative AffairsU.S. Department of State(202) 647-2645rodriguezme@state.gov</td>\n",
       "    </tr>\n",
       "    <tr>\n",
       "      <th>3</th>\n",
       "      <td>H &lt;hrod17@clintonemail.com&gt;Friday March 26 2010 5:45 AM'sbwhoeopÃÂ¢ÃÂÃÂ¢ Re:I have extended my congrats to all.</td>\n",
       "    </tr>\n",
       "    <tr>\n",
       "      <th>4</th>\n",
       "      <td>n;\"&gt; Dear Good Friend,&lt;br&gt;&lt;br&gt;&lt;br&gt;I am happy to inform you about my succe=ssin getting those funds transferred under&lt;br&gt;&lt;br&gt;the cooperation of a ne=w partner from Hongkong.Presently I am in Hongkong for investment project=s&lt;br&gt;&lt;br&gt;with my own share of the total sum. meanwhile, Ididn't forget yo=ur past efforts and attempts to assist&lt;br&gt;&lt;br&gt;me in transferring those fu=nds despite that it failedus some how.&lt;br&gt;&lt;br&gt;&lt;br&gt;Now contact my secretar=y in Cotonou Benin Republic hisname is MR SHIKES UMAHand his Email:(secre=taryshikesuperstar@yahoo.ca)&lt;br&gt;&lt;br&gt; &lt;br&gt;&lt;br&gt; and ask him to send you the= total of $800.000.00 which I kept for your&lt;br&gt;&lt;br&gt;past efforts and attem=pts toassist me in this matter.I appreciated your efforts atthat time ver=y much.&lt;br&gt;&lt;br&gt;so feel free and get intouchedwith my SecretarySHIKES UMAH= and instruct him where to sendthe amount to you.&lt;br&gt;&lt;br&gt;&lt;br&gt;Please do le=t me know immediately you receive it sothat we can share the joy after al=l the sufferness at&lt;br&gt;&lt;br&gt;that time. in the moment, I am very busy here =becauseof the investment projects which me and the new&lt;br&gt;&lt;br&gt;partner are= having at hand, finally, remember that Ihad forwarded instruction to the= secretary on your&lt;br&gt;&lt;br&gt;behalf to receive that money, so feel free to g=et intouch with Mr SHIKES UMAH   he will send the amount to you with out =any delay.&lt;br&gt;&lt;br&gt;&lt;br&gt;Thanks and God bless you.&lt;br&gt;&lt;br&gt;SHIKES UMAH   &lt;/sp=an&gt;&lt;br&gt;&lt;br&gt;- &lt;span style=3D\"color:green;\"&gt;mikejames2 james&lt;/span&gt;&lt;/div&gt;&lt;/=div&gt;--0-1398371323-1145545952=:82031--</td>\n",
       "    </tr>\n",
       "  </tbody>\n",
       "</table>\n",
       "</div>"
      ],
      "text/plain": [
       "                                                                                                                                                                                                                                                                                                                                                                                                                                                                                                                                                                                                                                                                                                                                                                                                                                                                                                                                                                                                                                                                                                                                                                                                                                                                                                                                                                                                                                                                                                                                                                             text\n",
       "0                                                                                                                                                        usiness is for the fact that the deceased man was a foreigner and it is not= authorized by the law guiding our Bank for a citizen of this country to ma=ke the claim of the fund.So the request for you as a foreigner to come into= the business is necessary, it will facilitate the release and transfer of =the fund smoothly into your reliable Bank account as the only surviving rel=ation to the deceased.<BR><BR>If you are really sure of your integrity, tru=stworthy and confidentiality, and accept not to cheat or disappoint me afte=r this business, reply with your telephone and fax numbers and Banking acco=unt details where you wish to receive the fund.<BR><BR>Upon receipt of the =above mentioned information, indicating your interest in the business, I wi=ll send you by fax or e-mail a letter of application which you will type an=d send back to our bank to enable us start this transaction.<BR><BR>I will =not fail to bring to your notice that this business is risk free and doesn'=t have any negative implication. You should not entertain any fear as all m=odalities for the smooth and easy transfer of this fund have been finalized=. This transaction will be completed within 14 bank working days immediatel=y we start the business.<BR><BR>Waiting for your urgent response and please= kindly delete if you are not interested.<BR>Regards,<BR><BR>&nbsp;Mr&nbsp;=\n",
       "1                                                                                                                                                                                                                                                                                                                                                                                                                                                                                                                                                                                                                                                                                                                                                                                                                                                                                                                                                                                                                                                                                                                                                                                                                                                                                                                                                                                                      They are happy to adjust to the afternoon. I am going to suggest a 3:00pm start time which should give plenty of time toreturn to DC. (Cronkite service starts at 10:30am)\n",
       "2                                                                                                                                                                                                                                                                                                                                                                                                                                                                                                                                                                                                                                                                                                                                                                                                                                                                                                                                                                                                                                                                                                                                                                                                                                                                                                                                                                       Lael Brainard was confirmed 78-19 this afternoon.Miguel E. RodriguezDeputy Assistant Secretary for Senate AffairsBureau of Legislative AffairsU.S. Department of State(202) 647-2645rodriguezme@state.gov\n",
       "3                                                                                                                                                                                                                                                                                                                                                                                                                                                                                                                                                                                                                                                                                                                                                                                                                                                                                                                                                                                                                                                                                                                                                                                                                                                                                                                                                                                                                                                             H <hrod17@clintonemail.com>Friday March 26 2010 5:45 AM'sbwhoeopÃÂ¢ÃÂÃÂ¢ Re:I have extended my congrats to all.\n",
       "4  n;\"> Dear Good Friend,<br><br><br>I am happy to inform you about my succe=ssin getting those funds transferred under<br><br>the cooperation of a ne=w partner from Hongkong.Presently I am in Hongkong for investment project=s<br><br>with my own share of the total sum. meanwhile, Ididn't forget yo=ur past efforts and attempts to assist<br><br>me in transferring those fu=nds despite that it failedus some how.<br><br><br>Now contact my secretar=y in Cotonou Benin Republic hisname is MR SHIKES UMAHand his Email:(secre=taryshikesuperstar@yahoo.ca)<br><br> <br><br> and ask him to send you the= total of $800.000.00 which I kept for your<br><br>past efforts and attem=pts toassist me in this matter.I appreciated your efforts atthat time ver=y much.<br><br>so feel free and get intouchedwith my SecretarySHIKES UMAH= and instruct him where to sendthe amount to you.<br><br><br>Please do le=t me know immediately you receive it sothat we can share the joy after al=l the sufferness at<br><br>that time. in the moment, I am very busy here =becauseof the investment projects which me and the new<br><br>partner are= having at hand, finally, remember that Ihad forwarded instruction to the= secretary on your<br><br>behalf to receive that money, so feel free to g=et intouch with Mr SHIKES UMAH   he will send the amount to you with out =any delay.<br><br><br>Thanks and God bless you.<br><br>SHIKES UMAH   </sp=an><br><br>- <span style=3D\"color:green;\">mikejames2 james</span></div></=div>--0-1398371323-1145545952=:82031--"
      ]
     },
     "execution_count": 47,
     "metadata": {},
     "output_type": "execute_result"
    }
   ],
   "source": [
    "test = pd.read_csv(\"../data/kg_test.csv\",encoding='latin-1')\n",
    "\n",
    "test.head()"
   ]
  },
  {
   "cell_type": "markdown",
   "metadata": {},
   "source": [
    "## Data Preprocessing"
   ]
  },
  {
   "cell_type": "code",
   "execution_count": 48,
   "metadata": {},
   "outputs": [
    {
     "name": "stdout",
     "output_type": "stream",
     "text": [
      "!\"#$%&'()*+,-./:;<=>?@[\\]^_`{|}~\n",
      "['needn', \"needn't\", 'no', 'nor', 'not', 'now', 'o', 'of', 'off', 'on']\n"
     ]
    }
   ],
   "source": [
    "import string\n",
    "from nltk.corpus import stopwords\n",
    "print(string.punctuation)\n",
    "print(stopwords.words(\"english\")[100:110])\n",
    "from nltk.stem.snowball import SnowballStemmer\n",
    "snowball = SnowballStemmer('english')"
   ]
  },
  {
   "cell_type": "code",
   "execution_count": 49,
   "metadata": {},
   "outputs": [],
   "source": [
    "from bs4 import BeautifulSoup"
   ]
  },
  {
   "cell_type": "markdown",
   "metadata": {},
   "source": [
    "## Now, we have to clean the html code removing words\n",
    "\n",
    "- First we remove inline JavaScript/CSS\n",
    "- Then we remove html comments. This has to be done before removing regular tags since comments can contain '>' characters\n",
    "- Next we can remove the remaining tags"
   ]
  },
  {
   "cell_type": "code",
   "execution_count": 50,
   "metadata": {},
   "outputs": [],
   "source": [
    "# Function to remove tags\n",
    "def remove_tags(html):\n",
    "\n",
    "    # parse html content\n",
    "    soup = BeautifulSoup(html, \"html.parser\")\n",
    "\n",
    "    for data in soup(['style', 'script']):\n",
    "        # Remove tags\n",
    "        data.decompose()\n",
    "\n",
    "    # return data by retrieving the tag content\n",
    "    return ' '.join(soup.stripped_strings)\n"
   ]
  },
  {
   "cell_type": "code",
   "execution_count": 51,
   "metadata": {},
   "outputs": [
    {
     "data": {
      "text/plain": [
       "'This is just some plain boring text'"
      ]
     },
     "execution_count": 51,
     "metadata": {},
     "output_type": "execute_result"
    }
   ],
   "source": [
    "# check if the remove_tags function is performing as intended\n",
    "htmltest=r\"<script>ingenious java script</script> and <b>this</b> is <a href='http://greatlink.com'>a great link outside</a> the script\"\n",
    "htmltest2=r\"what happens <!--with html comments-->, since the task is asking about this in <i>particular</i>\"\n",
    "htmltest_nohtml=r\"This is just some plain boring text\"\n",
    "\n",
    "remove_tags(htmltest_nohtml)"
   ]
  },
  {
   "cell_type": "code",
   "execution_count": 52,
   "metadata": {},
   "outputs": [
    {
     "name": "stderr",
     "output_type": "stream",
     "text": [
      "/tmp/ipykernel_300410/1293059053.py:5: MarkupResemblesLocatorWarning: The input passed in on this line looks more like a URL than HTML or XML.\n",
      "\n",
      "If you meant to use Beautiful Soup to parse the web page found at a certain URL, then something has gone wrong. You should use an Python package like 'requests' to fetch the content behind the URL. Once you have the content as a string, you can feed that string into Beautiful Soup.\n",
      "\n",
      "However, if you want to parse some data that happens to look like a URL, then nothing has gone wrong: you are using Beautiful Soup correctly, and this warning is spurious and can be filtered. To make this warning go away, run this code before calling the BeautifulSoup constructor:\n",
      "\n",
      "    from bs4 import MarkupResemblesLocatorWarning\n",
      "    import warnings\n",
      "\n",
      "    warnings.filterwarnings(\"ignore\", category=MarkupResemblesLocatorWarning)\n",
      "    \n",
      "  soup = BeautifulSoup(html, \"html.parser\")\n"
     ]
    }
   ],
   "source": [
    "# Your code\n",
    "data_dehtml = data.copy()\n",
    "test_dehtml = test.copy()\n",
    "data_dehtml['text'] = data_dehtml.text.apply(remove_tags)\n",
    "test_dehtml['text'] = test_dehtml.text.apply(remove_tags)"
   ]
  },
  {
   "cell_type": "code",
   "execution_count": 53,
   "metadata": {},
   "outputs": [
    {
     "data": {
      "text/html": [
       "<div>\n",
       "<style scoped>\n",
       "    .dataframe tbody tr th:only-of-type {\n",
       "        vertical-align: middle;\n",
       "    }\n",
       "\n",
       "    .dataframe tbody tr th {\n",
       "        vertical-align: top;\n",
       "    }\n",
       "\n",
       "    .dataframe thead th {\n",
       "        text-align: right;\n",
       "    }\n",
       "</style>\n",
       "<table border=\"1\" class=\"dataframe\">\n",
       "  <thead>\n",
       "    <tr style=\"text-align: right;\">\n",
       "      <th></th>\n",
       "      <th>text</th>\n",
       "      <th>label</th>\n",
       "    </tr>\n",
       "  </thead>\n",
       "  <tbody>\n",
       "    <tr>\n",
       "      <th>5959</th>\n",
       "      <td>I talked to CDM about doing some strategy sessions this week. We discussed trying to do three:There are obviously a dozen different ways to do this and a dozen different configurations. So consider this a strawman- we're eager to hear your reactions.</td>\n",
       "      <td>0</td>\n",
       "    </tr>\n",
       "    <tr>\n",
       "      <th>5960</th>\n",
       "      <td>Dear Sir/CEO,=20I am Mr.D S Ammer, the purchasing director African Millennium Villages Pr=oject. Our head office is situated in Lome, Federal Republic Togo. This a=gency has been existing since over 3 years.=20Our duty is to fight against rural poverty in Africa. This scheme has ove=r US$500,000,000,00 involves targeted investment in health, education and= farming to help lift African villages out of poverty.Presently we have currently covers around 107 villages in 13 countries, i=ncluding, Ethiopia, Ghana, Mali, Rwanda, Uganda and Kenya. Under the sche=me, villages are supplied with various materials, e.g. mosquito nets to p=revent the spread of malaria, fertilizers, clothing of various kinds and =treatment for people living with HIV/Aids. This scheme makes up part of t=he UN'S Millennium Development Goals, which are internationally agreed ta=rgets to cut poverty, hunger, disease and boots literacy by 2015 in Afric=a.=20I am contacting you for a business; I would like you to register with our= agency as one of our foreign suppliers that supplys relief materials to =our organization. I have about US$8MILLION to transfer into any secured b=ank account abroad. The money is an over-invoiced contract amount execute=d by a foreign supplier and commissioned with African Millennium Villages= project (AMVP), and the original supplier has been paid since march last= year remaining the over-invoiced amount of $8million. This was intention=al and since then the US$8million has been in the suspense account of our= organization awaiting for claim. Now i am ready to transfer the fund(US$=8million) overseas for our personal business investment and that is where= i need your assistance by providing me with a trusted bank account to re=mit the fund. Then both of us will share the fund.=20Now, how to start is just for me to pass through my attorney and register= your name/company as a sub-contract with African Millennium Villages pro=ject, and the date of the registration will be back-dated to the date the= contract was awarded to the original supplier. Then you will serve among= the foreign suppliers that supplied relief material to our organization =awaiting for payment.=20All arrangements have been put in place to ensure a successful project. P=lease if you are capable of working this project with me get back to me q=uickly via this email:deansammer033@yahoo.com. We will discuss on the sha=ring modality of the fund if i receive your positive response. I will sen=d you more details on how we are going to proceed on the claim. Note this= project is risk free and genue.With your corporation it will only take j=ust few weeks to accomplish our project.=20Kind regards=20Mr.D S Ammer=20</td>\n",
       "      <td>1</td>\n",
       "    </tr>\n",
       "    <tr>\n",
       "      <th>5961</th>\n",
       "      <td>Faxing to you now.</td>\n",
       "      <td>0</td>\n",
       "    </tr>\n",
       "    <tr>\n",
       "      <th>5962</th>\n",
       "      <td>Goodday,I am Joseph vaye,the son of late Issac Nuhan Vaye, deputy minister of publicworks under President charles taylor of Liberia.Before the political upheaval in liberia my late father was a good andclose friend of presidentcharles taylor and a member of his inner caucus.But of late when liberiacrisis came up again,with the rebels trying to oust charles taylor outof government and liberia,president charles taylor became very uncomfortablewith some of his loyalists which my late father happened to be one of thembecause he had the believe that at the rate at which the rebel group was closing in on him in Monrovia(which is the seat of power)was as a resultof the leakage of some vital security information  from his cabinet and hedecided to eliminate some of his cabinet members which my father happenedto be a victim.It started in the name of an uncovered coup and he ordered the arrest ofsome of his cabinet ministersand the Vice President Moses Blah on the 5th of june which my father wasincluded and some days later we learnt about my father's death alongsidewith John Winpoe Yormie, deputy minister of national security.My mother and i actually knew why my father was murdered because beforethe political mayhem inliberia,my late father  and President charles taylor have maintained agood relationship and he hasassisted him in lodging funds from the sales of diamond in different banksand security companies which my late father also benefited from it untilat the wake of rebellious war in liberia my father was not getting along withPresident Charles taylor because of his tyranic law which created a breachin their relationship and with the alarming rate at which the rebels areadvancing into Monrovia to unseat President charles taylor he was no longersure of  some of his cabinet members and decided to eliminatethem under the disguise that they were coup plottersBefore the death of my father, at the peak of his relationship with president charles taylor,he was ableto accumulate some funds $31,600,000.00 (US$31.6million)which he depositedwith a security company in Ghana from the deals he did for the president.Basically my mother and i require a trustworthy person that can assistus to retrieve our funds from thesecurity company in Ghana.Life has been very unstable for us(my mum,myyoungers ones and i) and i would not want to bore you with all we wentthrough but for the sake of my late fathers death. All the necessary documents for the deposit are in my possession I am now a refugee in neigbouring african country Ghana due to the fear of been killed by president charles taylor and the unrest in Liberia.Ironically the president of Nigeria  has agreed to grant  president charlestaylor assylum in Nigeria inorder to restore peace in liberia so we are trying to do all  we can atearnest to retrieve the funds fromthe security company and leave West Africa before he eventually comes toNigeria.Upon your response to this mail,i will intimate you on how we can proceedto get the funds from the security company.Best regards,Joseph</td>\n",
       "      <td>1</td>\n",
       "    </tr>\n",
       "    <tr>\n",
       "      <th>5963</th>\n",
       "      <td>Hello my dearMy name is Prince George Sanoussi, I am the first sonof Late Zainoul Abidine Sanoussi.The former foreignAffairs Ministerof my country (Guinea-Conakry).My father revealed to me about a deposit of a trunk box .The content of these trunk box is fhe sum of(Eighteen Million United States of American Dollars)which was his share from a secret sale of Diamond whenhe was in the office, he could not deposit this fundsHowever, I sincerely ask for your assistanceto get this Funds out and your share forassisting me will be 15% . Please mail me back so thatwe can do this togetherBest RegardsGeorge Sanoussi=2E.......................................................you may reply me through my secure emailgeorge01sanoussi@latinmail.com</td>\n",
       "      <td>1</td>\n",
       "    </tr>\n",
       "  </tbody>\n",
       "</table>\n",
       "</div>"
      ],
      "text/plain": [
       "                                                                                                                                                                                                                                                                                                                                                                                                                                                                                                                                                                                                                                                                                                                                                                                                                                                                                                                                                                                                                                                                                                                                                                                                                                                                                                                                                                                                                                                                                                                                                                                                                                                                                                                                                                                                                                                                                                                                                                                                                                                                                                                                                                                                                                                                                                                                                                                                                                                                                                                                                                                                                                                                                                                                                                                                                                                                                                                                                                                                                                                                                                                                                                                  text  \\\n",
       "5959                                                                                                                                                                                                                                                                                                                                                                                                                                                                                                                                                                                                                                                                                                                                                                                                                                                                                                                                                                                                                                                                                                                                                                                                                                                                                                                                                                                                                                                                                                                                                                                                                                                                                                                                                                                                                                                                                                                                                                                                                                                                                                                                                                                                                                                                                                                                                                                                                                                                                                                                                                                                                                                                                                                                                                                                                                                                                                                        I talked to CDM about doing some strategy sessions this week. We discussed trying to do three:There are obviously a dozen different ways to do this and a dozen different configurations. So consider this a strawman- we're eager to hear your reactions.   \n",
       "5960                                                                                                                                                                                                                                                                                                                                                         Dear Sir/CEO,=20I am Mr.D S Ammer, the purchasing director African Millennium Villages Pr=oject. Our head office is situated in Lome, Federal Republic Togo. This a=gency has been existing since over 3 years.=20Our duty is to fight against rural poverty in Africa. This scheme has ove=r US$500,000,000,00 involves targeted investment in health, education and= farming to help lift African villages out of poverty.Presently we have currently covers around 107 villages in 13 countries, i=ncluding, Ethiopia, Ghana, Mali, Rwanda, Uganda and Kenya. Under the sche=me, villages are supplied with various materials, e.g. mosquito nets to p=revent the spread of malaria, fertilizers, clothing of various kinds and =treatment for people living with HIV/Aids. This scheme makes up part of t=he UN'S Millennium Development Goals, which are internationally agreed ta=rgets to cut poverty, hunger, disease and boots literacy by 2015 in Afric=a.=20I am contacting you for a business; I would like you to register with our= agency as one of our foreign suppliers that supplys relief materials to =our organization. I have about US$8MILLION to transfer into any secured b=ank account abroad. The money is an over-invoiced contract amount execute=d by a foreign supplier and commissioned with African Millennium Villages= project (AMVP), and the original supplier has been paid since march last= year remaining the over-invoiced amount of $8million. This was intention=al and since then the US$8million has been in the suspense account of our= organization awaiting for claim. Now i am ready to transfer the fund(US$=8million) overseas for our personal business investment and that is where= i need your assistance by providing me with a trusted bank account to re=mit the fund. Then both of us will share the fund.=20Now, how to start is just for me to pass through my attorney and register= your name/company as a sub-contract with African Millennium Villages pro=ject, and the date of the registration will be back-dated to the date the= contract was awarded to the original supplier. Then you will serve among= the foreign suppliers that supplied relief material to our organization =awaiting for payment.=20All arrangements have been put in place to ensure a successful project. P=lease if you are capable of working this project with me get back to me q=uickly via this email:deansammer033@yahoo.com. We will discuss on the sha=ring modality of the fund if i receive your positive response. I will sen=d you more details on how we are going to proceed on the claim. Note this= project is risk free and genue.With your corporation it will only take j=ust few weeks to accomplish our project.=20Kind regards=20Mr.D S Ammer=20   \n",
       "5961                                                                                                                                                                                                                                                                                                                                                                                                                                                                                                                                                                                                                                                                                                                                                                                                                                                                                                                                                                                                                                                                                                                                                                                                                                                                                                                                                                                                                                                                                                                                                                                                                                                                                                                                                                                                                                                                                                                                                                                                                                                                                                                                                                                                                                                                                                                                                                                                                                                                                                                                                                                                                                                                                                                                                                                                                                                                                                                                                                                                                                                                                                                                                                Faxing to you now.   \n",
       "5962  Goodday,I am Joseph vaye,the son of late Issac Nuhan Vaye, deputy minister of publicworks under President charles taylor of Liberia.Before the political upheaval in liberia my late father was a good andclose friend of presidentcharles taylor and a member of his inner caucus.But of late when liberiacrisis came up again,with the rebels trying to oust charles taylor outof government and liberia,president charles taylor became very uncomfortablewith some of his loyalists which my late father happened to be one of thembecause he had the believe that at the rate at which the rebel group was closing in on him in Monrovia(which is the seat of power)was as a resultof the leakage of some vital security information  from his cabinet and hedecided to eliminate some of his cabinet members which my father happenedto be a victim.It started in the name of an uncovered coup and he ordered the arrest ofsome of his cabinet ministersand the Vice President Moses Blah on the 5th of june which my father wasincluded and some days later we learnt about my father's death alongsidewith John Winpoe Yormie, deputy minister of national security.My mother and i actually knew why my father was murdered because beforethe political mayhem inliberia,my late father  and President charles taylor have maintained agood relationship and he hasassisted him in lodging funds from the sales of diamond in different banksand security companies which my late father also benefited from it untilat the wake of rebellious war in liberia my father was not getting along withPresident Charles taylor because of his tyranic law which created a breachin their relationship and with the alarming rate at which the rebels areadvancing into Monrovia to unseat President charles taylor he was no longersure of  some of his cabinet members and decided to eliminatethem under the disguise that they were coup plottersBefore the death of my father, at the peak of his relationship with president charles taylor,he was ableto accumulate some funds $31,600,000.00 (US$31.6million)which he depositedwith a security company in Ghana from the deals he did for the president.Basically my mother and i require a trustworthy person that can assistus to retrieve our funds from thesecurity company in Ghana.Life has been very unstable for us(my mum,myyoungers ones and i) and i would not want to bore you with all we wentthrough but for the sake of my late fathers death. All the necessary documents for the deposit are in my possession I am now a refugee in neigbouring african country Ghana due to the fear of been killed by president charles taylor and the unrest in Liberia.Ironically the president of Nigeria  has agreed to grant  president charlestaylor assylum in Nigeria inorder to restore peace in liberia so we are trying to do all  we can atearnest to retrieve the funds fromthe security company and leave West Africa before he eventually comes toNigeria.Upon your response to this mail,i will intimate you on how we can proceedto get the funds from the security company.Best regards,Joseph   \n",
       "5963                                                                                                                                                                                                                                                                                                                                                                                                                                                                                                                                                                                                                                                                                                                                                                                                                                                                                                                                                                                                                                                                                                                                                                                                                                                                                                                                                                                                                                                                                                                                                                                                                                                                                                                                                                                                                                                                                                                                                                                                                                                                                                                                                                                                                                                                                                                                                                                                              Hello my dearMy name is Prince George Sanoussi, I am the first sonof Late Zainoul Abidine Sanoussi.The former foreignAffairs Ministerof my country (Guinea-Conakry).My father revealed to me about a deposit of a trunk box .The content of these trunk box is fhe sum of(Eighteen Million United States of American Dollars)which was his share from a secret sale of Diamond whenhe was in the office, he could not deposit this fundsHowever, I sincerely ask for your assistanceto get this Funds out and your share forassisting me will be 15% . Please mail me back so thatwe can do this togetherBest RegardsGeorge Sanoussi=2E.......................................................you may reply me through my secure emailgeorge01sanoussi@latinmail.com   \n",
       "\n",
       "      label  \n",
       "5959      0  \n",
       "5960      1  \n",
       "5961      0  \n",
       "5962      1  \n",
       "5963      1  "
      ]
     },
     "execution_count": 53,
     "metadata": {},
     "output_type": "execute_result"
    }
   ],
   "source": [
    "data_dehtml.tail()"
   ]
  },
  {
   "cell_type": "markdown",
   "metadata": {},
   "source": [
    "Some mails (mabye particularly the spam ones?) have missing spaces all over the place (e.g. in 996). Some of them might be fixed by checking for lower case characters directly followed by an upper case character (e.g. \"inLondon\"), or by a string of letters directly following punctuation (\"inLondon.I feel...\"). Many other cases would only be retrievable with some dictionary lookup, e.g. in wordnet (e.g. \"isunofficial\"). Not sure if it's worth the effort for the latter, but we could at least fix the first two patterns using re directly, before we get rid of the punctuation and lose this incredible business opportunity..."
   ]
  },
  {
   "cell_type": "code",
   "execution_count": 54,
   "metadata": {},
   "outputs": [],
   "source": [
    "missingspace = re.compile(r'([\\.]|(?:[A-Za-z]*[a-z]))([A-Z][A-Za-z]*)')"
   ]
  },
  {
   "cell_type": "code",
   "execution_count": 55,
   "metadata": {},
   "outputs": [
    {
     "data": {
      "text/plain": [
       "'TRANSFER  . This house OF 36,759,000.00 MILLION POUNDS TO YOURACCOUNT. My name is Mr. EJIS DON and \\nI work in the International Operation Department in a Bank here in London. I feel quite safe dealing with you in thisimportant business. Though, this medium \\n(Internet) hasbeen greatly\\n'"
      ]
     },
     "execution_count": 55,
     "metadata": {},
     "output_type": "execute_result"
    }
   ],
   "source": [
    "trial = \"\"\"TRANSFER  .This house OF 36,759,000.00 MILLION POUNDS TO YOURACCOUNT.My name is Mr.EJIS DON and \n",
    "I work in theInternational Operation Department in a Bank here inLondon.I feel quite safe dealing with you in thisimportant business.Though, this medium \n",
    "(Internet) hasbeen greatly\n",
    "\"\"\"\n",
    "\n",
    "missingspace.sub(r'\\1 \\2',trial)"
   ]
  },
  {
   "cell_type": "code",
   "execution_count": 56,
   "metadata": {},
   "outputs": [],
   "source": [
    "data_dehtml['text'] = data_dehtml.text.apply(lambda x: missingspace.sub(r'\\1 \\2',x))\n",
    "test_dehtml['text'] = test_dehtml.text.apply(lambda x: missingspace.sub(r'\\1 \\2',x))"
   ]
  },
  {
   "cell_type": "markdown",
   "metadata": {},
   "source": [
    "There are some HTML remnants of the form '=2F' and similar, presumably hex encodings for ascii signs. Convert them with another function. (To be honest, this might be a bit pointless, since we'll be removing special chars later, but I still feel this is a more systematic approach. Alternatively, I suppose we could just sub all of these with zero strings.)"
   ]
  },
  {
   "cell_type": "code",
   "execution_count": 57,
   "metadata": {},
   "outputs": [],
   "source": [
    "# function to turn remnants of html encoding (e.g. '=2F') into the corresponding characters, assuming ASCII encoding\n",
    "def html_remnant_to_char(inputstring):\n",
    "    return chr(int(inputstring.replace('=',''),16))\n",
    "\n",
    "# regular expressions to find html remnants\n",
    "htmlrem = re.compile(r'=[2-9A-F][0-9A-F]')\n",
    "\n",
    "def fix_html_remnants(inputstring,pattern):\n",
    "    return pattern.sub(lambda x: html_remnant_to_char(str(x.group())),inputstring)\n",
    "    "
   ]
  },
  {
   "cell_type": "code",
   "execution_count": 58,
   "metadata": {},
   "outputs": [
    {
     "data": {
      "text/plain": [
       "'/'"
      ]
     },
     "execution_count": 58,
     "metadata": {},
     "output_type": "execute_result"
    }
   ],
   "source": [
    "s = '2F'\n",
    "chr(int(s,16))"
   ]
  },
  {
   "cell_type": "code",
   "execution_count": 59,
   "metadata": {},
   "outputs": [
    {
     "data": {
      "text/plain": [
       "'Dear Sir/Madam, I know that this proposal might be a surprise to you but it as an emergency.In a nutshell, I am MR.P. ZUMA, from the republic of South-Africa, now seeking for refuge in Dakar Senegal under the(UNHCR).  '"
      ]
     },
     "execution_count": 59,
     "metadata": {},
     "output_type": "execute_result"
    }
   ],
   "source": [
    "\n",
    "test= r'Dear Sir=2FMadam=2C I know that this proposal might be a surprise to you but it as an emergency=2EIn a nutshell=2C I am MR=2EP=2E ZUMA=2C from the republic of South-Africa=2C now seeking for refuge in Dakar Senegal under the=28UNHCR=29=2E  '\n",
    "htmlrem.sub(lambda x: html_remnant_to_char(str(x.group())),test)\n",
    "\n"
   ]
  },
  {
   "cell_type": "code",
   "execution_count": 60,
   "metadata": {},
   "outputs": [
    {
     "data": {
      "text/plain": [
       "'Dear Sir/Madam, I know that this proposal might be a surprise to you but it as an emergency.In a nutshell, I am MR.P. ZUMA, from the republic of South-Africa, now seeking for refuge in Dakar Senegal under the(UNHCR).  '"
      ]
     },
     "execution_count": 60,
     "metadata": {},
     "output_type": "execute_result"
    }
   ],
   "source": [
    "fix_html_remnants(test,htmlrem)"
   ]
  },
  {
   "cell_type": "code",
   "execution_count": 61,
   "metadata": {},
   "outputs": [],
   "source": [
    "# apply this substitution to train and test sets\n",
    "\n",
    "data_dehtml['text'] = data_dehtml.text.apply(fix_html_remnants,pattern=htmlrem)\n",
    "test_dehtml['text'] = test_dehtml.text.apply(fix_html_remnants,pattern=htmlrem)"
   ]
  },
  {
   "cell_type": "markdown",
   "metadata": {},
   "source": [
    "- Remove all the special characters\n",
    "    \n",
    "- Remove numbers\n",
    "    \n",
    "- Remove all single characters\n",
    " \n",
    "- Remove single characters from the start\n",
    "\n",
    "- Substitute multiple spaces with single space\n",
    "\n",
    "- Remove prefixed 'b'\n",
    "\n",
    "- Convert to Lowercase"
   ]
  },
  {
   "cell_type": "code",
   "execution_count": 62,
   "metadata": {},
   "outputs": [
    {
     "data": {
      "text/plain": [
       "text     http://www.ft.com/cms/s/5799a774-b534-11df-9af8-00144feabdc0dwp_uuid#6ce648-33fa-11da-adae-00000e2511c8print=yes.html Financial Times FT.comr. OLUMNISTSJVlartin Wolf Obama was too cautious in fearful times By Martin Wolf Published: AuÃ¢ÂÂ¢ ust 31 2010 22:48 j Last updated: August 31 2010 22:48Suppose that the US presidential election of 1932 had in fact taken place in 1930 at an early stage in the Great Depression. Suppose too that Franklin Delano Roosevelt had won then though not by the landslide of 1932. Howdifferent subsequent events might have been. The president might have watched helplessly as output and employmentcollapsed. The decades of Democratic dominance might not have happened. On such chances the wheel of history turns. But this time was different: the crisis brought Barack Obama to power closeto the beginning of the economic collapse. I (among others) then argued that policy needed to be hugely aggressive. Alasit was not. I noted on February 4 2009 at the beginning of the new presidency: \"Instead of an overwhelming fiscalstimulus what is emerging is too small too wasteful and too ill-focused.\" A week later I asked: \"Has Barack Obama'spresidency already failed? In normal times this would be a ludicrous question. But these are not normal times. They aretimes of great danger. Today the new US administration can disown responsibility for its inheritance; tomorrow it will ownit. Today it can offer solutions; tomorrow it will have become the problem. Today it is in control of events; tomorrowevents will take control of it. Doing too little is now far riskier than doing too much.\" This was right. The direction of policy was not wrong: policymakers Ã¢ÂÂ though not all economists Ã¢ÂÂ had learnt a great deal from the 1930s. Sensible people knew that aggressive monetary and fiscal expansion was needed together with reconstruction of thefinancial sector. But as Larry Summers Mr Obama's chief economic adviser had said: \"When markets overshoot policymakers mustovershoot too\". Unfortunately the administration failed to follow his excellent advice. This has allowed opponents to claimthat policy has been ineffective when it has merely been inadequate. In consequence the administration has lost credibility with the public and the chances of a renewed fiscal expansion havedisappeared. With the Federal Reserve cautious too the likelihood of a lengthy period of weak growth and heavyjoblessness is high. So too are the chances of domestic and global political friction. True the idea that the policies adopted in the last few months of the Bush administration and the first months of this onewere far better than nothing is weirdly controversial in the US. A recent paper by Alan Blinder former vice-chairman of the Fed and Mark Zandi of Moody's argues that such critics are wrong. They use a standard macro-economic model toassess what would have happened without any intervention without the financial interventions (including monetary policy)and without the fiscal action. They conclude that the peak to trough decline in gross domestic product would have beenclose to 12 per cent with no policy response compared to an actual decline of just 4 per cent (see chart). Similarly theunemployment rate would have peaked at 16.5 per cent instead of the actual 10 per cent. The bigger collapse would alsohave meant a fiscal deficit of $2600bn in fiscal year 2011. The outcome is also disastrous with the modest fiscal responsebut no financial Ã¢ÂÂ¢olic resÃ¢ÂÂ¢onse. It is a little better the other way round. The implication that the modest stimulus package of February 2009 Ã¢ÂÂ a mere 5.7 per cent of 2009 GDP spread overseveral years Ã¢ÂÂ made a positive contribution is supported by the analysis of the Congressional Budget Office: it arguesthat in 2010 US GDP will be between 1.5 per cent and 4.1 per cent higher and the unemployment rate between 0.7 and1.8 percentage points lower as a result of the package. Panglossians who believe the private economy is always in equilibrium unless governments intervene disagree. I wishthere were some way to run this experiment without hurting hundreds of millions of people. But I find the idea that allowingthe collapse of much of the financial system avoiding unconventional monetary policy and struggling to close the fiscaldeficit would have been consistent with a more rapid and sustained recovery quite bizarre. A fascinating perspective does come however from comparisons with what happened in other advanced countries. Therecession in US output (and so demand) has been relatively small but the decline in employment has been exceptionallylarge as a result of an extraordinary surge in US productivity (see charts). This contrast between what would happen tooutput and what would happen to employment was missed in the initial Congressional Budget Office analysis of thestimulus. Since the US was the epicentre of the financial crisis the relatively small decline in output is remarkable. Moreover sincefiscal and monetary stimuli bear directly on demand and output not jobs this is a policy success. At the same time theenthusiasm with which US managers laid off workers is also extraordinary. No doubt some of this is due to the collapse inconstruction. But some of it must be due to the ease with which US companies can lay off workers and the incentives formanagers to maintain profits in a downturn at the expense of jobs. Debate is emerging on how much of the surge in unemployment is structural. My answer from European experience isthat one way to ensure it becomes structural is to let it linger. In the short run the simplest way to prevent that fromhappening is to expand demand and so output. Since there is huge slack in the labour market not the slightest threat ofinflation Ã¢ÂÂ far more a risk of deflation Ã¢ÂÂ and no constraint from bond or foreign exchange markets on further monetary andfiscal stimulus these are the policies that have to be pursued. Yet alas the Fed seems to have decided to fall asleep andthe administration has lost the initiative. So what is going to happen? I assume that after the midterm elections resurgent Republicans will offer new tax cuts andignore the fiscal deficits. They will pretend that this has nothing to do with any reviled stimulus though it is much the samething Ã¢ÂÂ increasing fiscal deficits thereby offsetting private frugality. That would put the administration on the spot. It wouldhave to choose between vetoing the tax cuts and accepting them so allowing the Republicans to get the credit for their\"yacht and mansion-led\" recovery. Any recovery is better than none. But it could have been much better than this. Thosewho were cautious when they should have been bold will pay a big price.martin.wolf@ft.com More columns at www.ft.com/martinwolf Copyright The Financial Times Limited 2010. Print a single copy of this article for personal use. Contact us if you wish toprint more to distribute to others.\"FT\" and \"Financial Times\" are trademarks of the Financial Times. Privacy policy I Terms Copyright The Financial Times Ltd 2010.\n",
       "label                                                                                                                                                                                                                                                                                                                                                                                                                                                                                                                                                                                                                                                                                                                                                                                                                                                                                                                                                                                                                                                                                                                                                                                                                                                                                                                                                                                                                                                                                                                                                                                                                                                                                                                                                                                                                                                                                                                                                                                                                                                                                                                                                                                                                                                                                                                                                                                                                                                                                                                                                                                                                                                                                                                                                                                                                                                                                                                                                                                                                                                                                                                                                                                                                                                                                                                                                                                                                                                                                                                                                                                                                                                                                                                                                                                                                                                                                                                                                                                                                                                                                                                                                                                                                                                                                                                                                                                                                                                                                                                                                                                                                                                                                                                                                                                                                                                                                                                                                                                                                                                                                                                                                                                                                                                                                                                                                                                                                                                                                                                                                                                                                                                                                                                                                                                                                                                                                                                                                                                                                                                                                                                                                                                                                                                                                                                                                                                                                                                                                                                                                                                                                                                                                                                                                                                                                                                                                                                                                                                                                                                                                                                                                                                                                                                                                                                                                                                                    0\n",
       "Name: 298, dtype: object"
      ]
     },
     "execution_count": 62,
     "metadata": {},
     "output_type": "execute_result"
    }
   ],
   "source": [
    "data_dehtml.iloc[298]"
   ]
  },
  {
   "cell_type": "markdown",
   "metadata": {},
   "source": [
    "Hm, removing all single characters also removes I. But I guess for for the current task pronouns are considered \"stop words\" anyway, so probably not an issue."
   ]
  },
  {
   "cell_type": "code",
   "execution_count": null,
   "metadata": {},
   "outputs": [],
   "source": [
    "\n",
    "\n"
   ]
  },
  {
   "cell_type": "code",
   "execution_count": 63,
   "metadata": {},
   "outputs": [
    {
     "name": "stdout",
     "output_type": "stream",
     "text": [
      "['blasfj_dsf@rte74.cde.ed']\n",
      "dsad@sds.de.ef   Times F\n"
     ]
    }
   ],
   "source": [
    "# remove emails\n",
    "email = re.compile(r'\\w+(?:\\.\\w+)?@\\w+\\.[a-zA-Z]{2,3}(?:\\.[a-zA-Z]{2,3})?')\n",
    "website = re.compile(r'http[s]?://\\w+(?:\\.\\w+){2,3}(?:/[\\w+-=&%#]+)*[/]?')\n",
    "single_letter = re.compile(r'\\b([A-Za-z])\\b')\n",
    "non_letter = re.compile(r'[^A-Za-z\\s]')\n",
    "\n",
    "testmail = 'haus ist blasfj_dsf@rte74.cde.ed und so weiter'\n",
    "testwebsite = 'dsad@sds.de.ef http://www.ft.com/cms/s/5799a774-b534-11df-9af8-00144fea#bdc0dwp_uuid=236ce648-33fa-11da-adae-00000e2511c8print=yes.htmlFinancial Times F'\n",
    "print(email.findall(testmail))\n",
    "print(website.sub(' ',testwebsite))"
   ]
  },
  {
   "cell_type": "code",
   "execution_count": 64,
   "metadata": {},
   "outputs": [],
   "source": [
    "# now let's get wild and delete all emails, websites and finally all non-letters\n",
    "\n",
    "deletelist = [website,email,single_letter,non_letter]\n",
    "\n",
    "for p in deletelist:\n",
    "    data_dehtml['text'] = data_dehtml.text.apply(lambda x: p.sub('',x))\n",
    "    test_dehtml['text'] = test_dehtml.text.apply(lambda x: p.sub('',x))\n",
    "\n"
   ]
  },
  {
   "cell_type": "code",
   "execution_count": 65,
   "metadata": {},
   "outputs": [
    {
     "data": {
      "text/plain": [
       "text      Financial Times FTcomr OLUMNISTSJVlartin Wolf Obama was too cautious in fearful times By Martin Wolf Published Au ust     Last updated August   Suppose that the US presidential election of  had in fact taken place in  at an early stage in the Great Depression Suppose too that Franklin Delano Roosevelt had won then though not by the landslide of  Howdifferent subsequent events might have been The president might have watched helplessly as output and employmentcollapsed The decades of Democratic dominance might not have happened On such chances the wheel of history turns But this time was different the crisis brought Barack Obama to power closeto the beginning of the economic collapse  among others then argued that policy needed to be hugely aggressive Alasit was not  noted on February   at the beginning of the new presidency Instead of an overwhelming fiscalstimulus what is emerging is too small too wasteful and too illfocused  week later  asked Has Barack Obamaspresidency already failed In normal times this would be  ludicrous question But these are not normal times They aretimes of great danger Today the new US administration can disown responsibility for its inheritance tomorrow it will ownit Today it can offer solutions tomorrow it will have become the problem Today it is in control of events tomorrowevents will take control of it Doing too little is now far riskier than doing too much This was right The direction of policy was not wrong policymakers  though not all economists  had learnt  great deal from the s Sensible people knew that aggressive monetary and fiscal expansion was needed together with reconstruction of thefinancial sector But as Larry Summers Mr Obama chief economic adviser had said When markets overshoot policymakers mustovershoot too Unfortunately the administration failed to follow his excellent advice This has allowed opponents to claimthat policy has been ineffective when it has merely been inadequate In consequence the administration has lost credibility with the public and the chances of  renewed fiscal expansion havedisappeared With the Federal Reserve cautious too the likelihood of  lengthy period of weak growth and heavyjoblessness is high So too are the chances of domestic and global political friction True the idea that the policies adopted in the last few months of the Bush administration and the first months of this onewere far better than nothing is weirdly controversial in the US  recent paper by Alan Blinder former vicechairman of the Fed and Mark Zandi of Moody argues that such critics are wrong They use  standard macroeconomic model toassess what would have happened without any intervention without the financial interventions including monetary policyand without the fiscal action They conclude that the peak to trough decline in gross domestic product would have beenclose to  per cent with no policy response compared to an actual decline of just  per cent see chart Similarly theunemployment rate would have peaked at  per cent instead of the actual  per cent The bigger collapse would alsohave meant  fiscal deficit of bn in fiscal year  The outcome is also disastrous with the modest fiscal responsebut no financial olic resonse It is  little better the other way round The implication that the modest stimulus package of February    mere  per cent of  GDP spread overseveral years  made  positive contribution is supported by the analysis of the Congressional Budget Office it arguesthat in  US GDP will be between  per cent and  per cent higher and the unemployment rate between  and percentage points lower as  result of the package Panglossians who believe the private economy is always in equilibrium unless governments intervene disagree  wishthere were some way to run this experiment without hurting hundreds of millions of people But  find the idea that allowingthe collapse of much of the financial system avoiding unconventional monetary policy and struggling to close the fiscaldeficit would have been consistent with  more rapid and sustained recovery quite bizarre  fascinating perspective does come however from comparisons with what happened in other advanced countries Therecession in US output and so demand has been relatively small but the decline in employment has been exceptionallylarge as  result of an extraordinary surge in US productivity see charts This contrast between what would happen tooutput and what would happen to employment was missed in the initial Congressional Budget Office analysis of thestimulus Since the US was the epicentre of the financial crisis the relatively small decline in output is remarkable Moreover sincefiscal and monetary stimuli bear directly on demand and output not jobs this is  policy success At the same time theenthusiasm with which US managers laid off workers is also extraordinary No doubt some of this is due to the collapse inconstruction But some of it must be due to the ease with which US companies can lay off workers and the incentives formanagers to maintain profits in  downturn at the expense of jobs Debate is emerging on how much of the surge in unemployment is structural My answer from European experience isthat one way to ensure it becomes structural is to let it linger In the short run the simplest way to prevent that fromhappening is to expand demand and so output Since there is huge slack in the labour market not the slightest threat ofinflation  far more  risk of deflation  and no constraint from bond or foreign exchange markets on further monetary andfiscal stimulus these are the policies that have to be pursued Yet alas the Fed seems to have decided to fall asleep andthe administration has lost the initiative So what is going to happen  assume that after the midterm elections resurgent Republicans will offer new tax cuts andignore the fiscal deficits They will pretend that this has nothing to do with any reviled stimulus though it is much the samething  increasing fiscal deficits thereby offsetting private frugality That would put the administration on the spot It wouldhave to choose between vetoing the tax cuts and accepting them so allowing the Republicans to get the credit for theiryacht and mansionled recovery Any recovery is better than none But it could have been much better than this Thosewho were cautious when they should have been bold will pay  big price More columns at wwwftcommartinwolf Copyright The Financial Times Limited  Print  single copy of this article for personal use Contact us if you wish toprint more to distribute to othersFT and Financial Times are trademarks of the Financial Times Privacy policy  Terms Copyright The Financial Times Ltd \n",
       "label                                                                                                                                                                                                                                                                                                                                                                                                                                                                                                                                                                                                                                                                                                                                                                                                                                                                                                                                                                                                                                                                                                                                                                                                                                                                                                                                                                                                                                                                                                                                                                                                                                                                                                                                                                                                                                                                                                                                                                                                                                                                                                                                                                                                                                                                                                                                                                                                                                                                                                                                                                                                                                                                                                                                                                                                                                                                                                                                                                                                                                                                                                                                                                                                                                                                                                                                                                                                                                                                                                                                                                                                                                                                                                                                                                                                                                                                                                                                                                                                                                                                                                                                                                                                                                                                                                                                                                                                                                                                                                                                                                                                                                                                                                                                                                                                                                                                                                                                                                                                                                                                                                                                                                                                                                                                                                                                                                                                                                                                                                                                                                                                                                                                                                                                                                                                                                                                                                                                                                                                                                                                                                                                                                                                                                                                                                                                                                                                                                                                                                                                                                                                                                                                                                                                                                                                                                                                                                                                                     0\n",
       "Name: 298, dtype: object"
      ]
     },
     "execution_count": 65,
     "metadata": {},
     "output_type": "execute_result"
    }
   ],
   "source": [
    "# check removal of hyperlink\n",
    "data_dehtml.iloc[298]"
   ]
  },
  {
   "cell_type": "code",
   "execution_count": 66,
   "metadata": {},
   "outputs": [],
   "source": [
    "# remove punctuation and special signs\n",
    "punct = re.compile(f\"[{re.escape(string.punctuation)}]\")\n",
    "compressspace = re.compile(r'\\s+')                  # probably could be taken care of by tokenisation later anyway, but let's still do it\n",
    "\n",
    "replacebysinglespace = [punct, compressspace]\n",
    "\n",
    "for p in replacebysinglespace:\n",
    "    data_dehtml['text'] = data_dehtml.text.apply(lambda x: p.sub(' ',x))\n",
    "    test_dehtml['text'] = test_dehtml.text.apply(lambda x: p.sub(' ',x))\n",
    "\n"
   ]
  },
  {
   "cell_type": "code",
   "execution_count": 67,
   "metadata": {},
   "outputs": [
    {
     "data": {
      "text/html": [
       "<div>\n",
       "<style scoped>\n",
       "    .dataframe tbody tr th:only-of-type {\n",
       "        vertical-align: middle;\n",
       "    }\n",
       "\n",
       "    .dataframe tbody tr th {\n",
       "        vertical-align: top;\n",
       "    }\n",
       "\n",
       "    .dataframe thead th {\n",
       "        text-align: right;\n",
       "    }\n",
       "</style>\n",
       "<table border=\"1\" class=\"dataframe\">\n",
       "  <thead>\n",
       "    <tr style=\"text-align: right;\">\n",
       "      <th></th>\n",
       "      <th>text</th>\n",
       "      <th>label</th>\n",
       "    </tr>\n",
       "  </thead>\n",
       "  <tbody>\n",
       "    <tr>\n",
       "      <th>0</th>\n",
       "      <td>DEAR SIR STRICTLY PRIVATE BUSINESS PROPOSAL AM MIKE CHUKWU THE MANAGER BILLS AND EXCHANGE AT THE FOREIGN REMITTANCE DEPARTMENT OF THE ZENITH INTERNATIONAL BANK PLC AM WRITING THIS LETTER TO ASK FOR YOUR SUPPORT AND COOPERATION TO CARRY OUT THIS BUSINESS OPPORTUNITY IN MY DEPARTMENT WE DISCOVERED AN ABANDONED SUM OF FIFTEEN MILLION UNITED STATES DOLLARS ONLY IN AN ACCOUNT THAT BELONGS TO ONE OF OUR FOREIGN CUSTOMERS WHO DIED ALONG WITH HIS ENTIRE FAMILY OF WIFE AND TWO CHILDREN IN NOVEMBER IN PLANE CRASH SINCE WE HEARD OF HIS DEATH WE HAVE BEEN EXPECTING HIS NEXTOFKIN TO COME OVER AND PUT CLAIMS FOR HIS MONEY AS THE HEIRBECAUSE WE CANNOT RELEASE THE FUND FROM HIS ACCOUNT UNLESS SOMEONE APPLIES FOR CLAIM AS THE NEXTOFKIN TO THE DECEASED AS INDICATED IN OUR BANKING GUIDELINES UNFORTUNATELY NEITHER THEIR FAMILY MEMBER NOR DISTANT RELATIVE HAS EVER APPEARED TO CLAIM THE SAID FUND UPON THIS DISCOVERY AND OTHER OFFICIALS IN MY DEPARTMENT HAVE AGREED TO MAKE BUSINESS WITH YOU AND RELEASE THE TOTAL AMOUNT INTO YOUR ACCOUNT AS THE HEIR OF THE FUND SINCE NO ONE CAME FOR IT OR DISCOVERED HE MAINTAINED ACCOUNT WITH OUR BANK OTHERWISE THE FUND WILL BE RETURNED TO THE BANKS TREASURY AS UNCLAIMED FUND WE HAVE AGREED THAT OUR RATIO OF SHARING WILL BE AS STATED THUS FOR YOU AS FOREIGN PARTNER FOR US THE OFFICIALS IN MY DEPARTMENT AND FOR THE SETTLEMENT OF ALL LOCAL AND FOREIGN EXPENCES INCURRED BY US AND YOU DURING THE COURSE OF THIS BUSINESS UPON THE SUCCESSFUL COMPLETION OF THIS TRANSFER AND ONE OF MY COLLEAGUES WILL COME TO YOUR COUNTRY AND MIND OUR SHARE IT IS FROM OUR WE INTEND TO IMPORT AGRICULTURAL MACHINERIES INTO MY COUNTRY AS WAY OF RECYCLING THE FUND TO COMMENCE THIS TRANSACTION WE REQUIRE YOU TO IMMEDIATELY INDICATE YOUR INTEREST BY RETURN MAIL AND ENCLOSE YOUR PRIVATE CONTACT TELEPHONE NUMBER FAX NUMBER FULL NAME AND ADDRESS AND YOUR DESIGNATED BANK COORDINATES TO ENABLE US FILE LETTER OF CLAIM TO THE APPROPRIATE DEPARTMENTS FOR NECESSARY APPROVALS BEFORE THE TRANSFER CAN BE MADE NOTE ALSO THIS TRANSACTION MUST BE KEPT STRICTLY CONFIDENTIAL BECAUSE OF IT NATURE LOOK FORWARD TO RECEIVING YOUR PROMPT RESPONSE REGARDS MR MIKE CHUKWU ZENITH INTERNATIONAL BANK PLC</td>\n",
       "      <td>1</td>\n",
       "    </tr>\n",
       "    <tr>\n",
       "      <th>1</th>\n",
       "      <td>Will do</td>\n",
       "      <td>0</td>\n",
       "    </tr>\n",
       "    <tr>\n",
       "      <th>2</th>\n",
       "      <td>NoraCheryl has emailed dozens of memos about Haiti to me this weekend Can you please print them and organize them inchrono order for me for my trip tomorrow or send to Lauren so she can do Thx</td>\n",
       "      <td>0</td>\n",
       "    </tr>\n",
       "    <tr>\n",
       "      <th>3</th>\n",
       "      <td>Dear SirMadam know that this proposal might be surprise to you but it as an emergencyIn nutshell am MR ZUMA from the republic of SouthAfrica now seeking for refuge in Dakar Senegal under theUNHCR got your contact during desperate search here in Dakar for possible transaction My late father DR ZUMA KENT WILLIAMS he was the managing director of Gold Mine company in SOUTH AFRICA But he was assinated by his business assoicate and all his properties was totally destroyed by his elder brother Who alway hate to see me and my mother with his eye that man very wicked that is why and my mother managed to escape with some of my father documents covering Million dollars which is presently deposited safely in finance firm on my name as the next of kin Meanwhilewe are saddled with the problem of securing trustworthy foriegn personality to help us transfer the money over to his country and into his possession pending our arrival to meet with him Furthermorewe only want this done this way because your country is politically stable for any profitable investment and only if you accept our proposal you will serve as the beneficiary of the fund on commencement of this proposed transactions am giving you the offers as mentioned with every confidence on your acceptance to assist us we have decided to invest of the total fund based on equity participation in your company Secondly we shall also take out for any miscelleneous expenses that may occure Conclusively wish you send me reply immediately as soon as yourecieve this proposal so that we shall arrange on how to lift this consignment out of Dakar Senegal to your country On commencementthis transaction will take nothing less than working days to be accomplished All documents covering the fund are safe and intact remain with the best regards Please kindly responce to this Alternative mail Please call urgently to speak with me and my mother on this our direct telephone number Thanks yours Mr Prince Zuma</td>\n",
       "      <td>1</td>\n",
       "    </tr>\n",
       "    <tr>\n",
       "      <th>4</th>\n",
       "      <td>fyi</td>\n",
       "      <td>0</td>\n",
       "    </tr>\n",
       "  </tbody>\n",
       "</table>\n",
       "</div>"
      ],
      "text/plain": [
       "                                                                                                                                                                                                                                                                                                                                                                                                                                                                                                                                                                                                                                                                                                                                                                                                                                                                                                                                                                                                                                                                                                                                                                                                                                                                                                                                                                                                                                                                                                                                                                                                                                                                                                                                                                                                                                                                                                                                                                                                                                                                                                                                                                                                                                                                                text  \\\n",
       "0  DEAR SIR STRICTLY PRIVATE BUSINESS PROPOSAL AM MIKE CHUKWU THE MANAGER BILLS AND EXCHANGE AT THE FOREIGN REMITTANCE DEPARTMENT OF THE ZENITH INTERNATIONAL BANK PLC AM WRITING THIS LETTER TO ASK FOR YOUR SUPPORT AND COOPERATION TO CARRY OUT THIS BUSINESS OPPORTUNITY IN MY DEPARTMENT WE DISCOVERED AN ABANDONED SUM OF FIFTEEN MILLION UNITED STATES DOLLARS ONLY IN AN ACCOUNT THAT BELONGS TO ONE OF OUR FOREIGN CUSTOMERS WHO DIED ALONG WITH HIS ENTIRE FAMILY OF WIFE AND TWO CHILDREN IN NOVEMBER IN PLANE CRASH SINCE WE HEARD OF HIS DEATH WE HAVE BEEN EXPECTING HIS NEXTOFKIN TO COME OVER AND PUT CLAIMS FOR HIS MONEY AS THE HEIRBECAUSE WE CANNOT RELEASE THE FUND FROM HIS ACCOUNT UNLESS SOMEONE APPLIES FOR CLAIM AS THE NEXTOFKIN TO THE DECEASED AS INDICATED IN OUR BANKING GUIDELINES UNFORTUNATELY NEITHER THEIR FAMILY MEMBER NOR DISTANT RELATIVE HAS EVER APPEARED TO CLAIM THE SAID FUND UPON THIS DISCOVERY AND OTHER OFFICIALS IN MY DEPARTMENT HAVE AGREED TO MAKE BUSINESS WITH YOU AND RELEASE THE TOTAL AMOUNT INTO YOUR ACCOUNT AS THE HEIR OF THE FUND SINCE NO ONE CAME FOR IT OR DISCOVERED HE MAINTAINED ACCOUNT WITH OUR BANK OTHERWISE THE FUND WILL BE RETURNED TO THE BANKS TREASURY AS UNCLAIMED FUND WE HAVE AGREED THAT OUR RATIO OF SHARING WILL BE AS STATED THUS FOR YOU AS FOREIGN PARTNER FOR US THE OFFICIALS IN MY DEPARTMENT AND FOR THE SETTLEMENT OF ALL LOCAL AND FOREIGN EXPENCES INCURRED BY US AND YOU DURING THE COURSE OF THIS BUSINESS UPON THE SUCCESSFUL COMPLETION OF THIS TRANSFER AND ONE OF MY COLLEAGUES WILL COME TO YOUR COUNTRY AND MIND OUR SHARE IT IS FROM OUR WE INTEND TO IMPORT AGRICULTURAL MACHINERIES INTO MY COUNTRY AS WAY OF RECYCLING THE FUND TO COMMENCE THIS TRANSACTION WE REQUIRE YOU TO IMMEDIATELY INDICATE YOUR INTEREST BY RETURN MAIL AND ENCLOSE YOUR PRIVATE CONTACT TELEPHONE NUMBER FAX NUMBER FULL NAME AND ADDRESS AND YOUR DESIGNATED BANK COORDINATES TO ENABLE US FILE LETTER OF CLAIM TO THE APPROPRIATE DEPARTMENTS FOR NECESSARY APPROVALS BEFORE THE TRANSFER CAN BE MADE NOTE ALSO THIS TRANSACTION MUST BE KEPT STRICTLY CONFIDENTIAL BECAUSE OF IT NATURE LOOK FORWARD TO RECEIVING YOUR PROMPT RESPONSE REGARDS MR MIKE CHUKWU ZENITH INTERNATIONAL BANK PLC    \n",
       "1                                                                                                                                                                                                                                                                                                                                                                                                                                                                                                                                                                                                                                                                                                                                                                                                                                                                                                                                                                                                                                                                                                                                                                                                                                                                                                                                                                                                                                                                                                                                                                                                                                                                                                                                                                                                                                                                                                                                                                                                                                                                                                                                                                                                                                                                            Will do   \n",
       "2                                                                                                                                                                                                                                                                                                                                                                                                                                                                                                                                                                                                                                                                                                                                                                                                                                                                                                                                                                                                                                                                                                                                                                                                                                                                                                                                                                                                                                                                                                                                                                                                                                                                                                                                                                                                                                                                                                                                                                                                                                                                                   NoraCheryl has emailed dozens of memos about Haiti to me this weekend Can you please print them and organize them inchrono order for me for my trip tomorrow or send to Lauren so she can do Thx   \n",
       "3                                                                                                                                                                                                                                       Dear SirMadam know that this proposal might be surprise to you but it as an emergencyIn nutshell am MR ZUMA from the republic of SouthAfrica now seeking for refuge in Dakar Senegal under theUNHCR got your contact during desperate search here in Dakar for possible transaction My late father DR ZUMA KENT WILLIAMS he was the managing director of Gold Mine company in SOUTH AFRICA But he was assinated by his business assoicate and all his properties was totally destroyed by his elder brother Who alway hate to see me and my mother with his eye that man very wicked that is why and my mother managed to escape with some of my father documents covering Million dollars which is presently deposited safely in finance firm on my name as the next of kin Meanwhilewe are saddled with the problem of securing trustworthy foriegn personality to help us transfer the money over to his country and into his possession pending our arrival to meet with him Furthermorewe only want this done this way because your country is politically stable for any profitable investment and only if you accept our proposal you will serve as the beneficiary of the fund on commencement of this proposed transactions am giving you the offers as mentioned with every confidence on your acceptance to assist us we have decided to invest of the total fund based on equity participation in your company Secondly we shall also take out for any miscelleneous expenses that may occure Conclusively wish you send me reply immediately as soon as yourecieve this proposal so that we shall arrange on how to lift this consignment out of Dakar Senegal to your country On commencementthis transaction will take nothing less than working days to be accomplished All documents covering the fund are safe and intact remain with the best regards Please kindly responce to this Alternative mail Please call urgently to speak with me and my mother on this our direct telephone number Thanks yours Mr Prince Zuma   \n",
       "4                                                                                                                                                                                                                                                                                                                                                                                                                                                                                                                                                                                                                                                                                                                                                                                                                                                                                                                                                                                                                                                                                                                                                                                                                                                                                                                                                                                                                                                                                                                                                                                                                                                                                                                                                                                                                                                                                                                                                                                                                                                                                                                                                                                                                                                                                fyi   \n",
       "\n",
       "   label  \n",
       "0      1  \n",
       "1      0  \n",
       "2      0  \n",
       "3      1  \n",
       "4      0  "
      ]
     },
     "execution_count": 67,
     "metadata": {},
     "output_type": "execute_result"
    }
   ],
   "source": [
    "data_dehtml.head()"
   ]
  },
  {
   "cell_type": "code",
   "execution_count": 68,
   "metadata": {},
   "outputs": [
    {
     "data": {
      "text/html": [
       "<div>\n",
       "<style scoped>\n",
       "    .dataframe tbody tr th:only-of-type {\n",
       "        vertical-align: middle;\n",
       "    }\n",
       "\n",
       "    .dataframe tbody tr th {\n",
       "        vertical-align: top;\n",
       "    }\n",
       "\n",
       "    .dataframe thead th {\n",
       "        text-align: right;\n",
       "    }\n",
       "</style>\n",
       "<table border=\"1\" class=\"dataframe\">\n",
       "  <thead>\n",
       "    <tr style=\"text-align: right;\">\n",
       "      <th></th>\n",
       "      <th>text</th>\n",
       "      <th>label</th>\n",
       "    </tr>\n",
       "  </thead>\n",
       "  <tbody>\n",
       "    <tr>\n",
       "      <th>130</th>\n",
       "      <td>been released</td>\n",
       "      <td>0</td>\n",
       "    </tr>\n",
       "    <tr>\n",
       "      <th>339</th>\n",
       "      <td>back we need to talkcalling</td>\n",
       "      <td>0</td>\n",
       "    </tr>\n",
       "    <tr>\n",
       "      <th>456</th>\n",
       "      <td>briefed group of wonks at Brookings tonite Superbly impressive persuasive Lowkey mastery confidence Congrats on having her on your team leading these negs</td>\n",
       "      <td>0</td>\n",
       "    </tr>\n",
       "    <tr>\n",
       "      <th>2553</th>\n",
       "      <td>behavior Washington Postdoc You almost certainly have seen this but just in case AM</td>\n",
       "      <td>0</td>\n",
       "    </tr>\n",
       "    <tr>\n",
       "      <th>2642</th>\n",
       "      <td>because we are still in Government service Let honesty and trust be ourwatchwords throughout this transaction And your Prompt reply will be highly appreciated Best regards John ObuteThis mail was sent using prowebmail</td>\n",
       "      <td>1</td>\n",
       "    </tr>\n",
       "    <tr>\n",
       "      <th>3456</th>\n",
       "      <td>bsp URGENT BUSINESS PROPOSALASSISTANCE cannot imagine the surprise this will bring to you but please be rest assured is with good faith and intentions from family in dare need of your assistance to help us transfer the inheritance sum of million OLLARS US into your account or company account in which God will bless you for rendering helping hand to others am Mrs Maria Banda from Sierra Leone currently residing in SouthAfrica the wife to the late James Banda got your contact details in the course of my discreet search for reliable and God fearing person from the Johannesburg Trade an Exhibition Centre and after going throug your profile decided to solicit for your kind assistance am urrently residing with my familyson and daughter here in Sout Africa as asylum seekers and the South African Fiscal Policy Law an Regulations does not allow us certain financial rights My husband was brigadier in charge of Arms and Ammunition procurement for the Sierra Leone Army before his death After his death discovered that in his will he specifically drew my attention to the sum of MILLION US which he had deposited in safe box of the Private Security Company here in Johannesburg South Africa The lives and future of my family depends on this fund as such wil be grateful if you can assist us In view of this cannot invest his fund in South Africa hence my asking you to assist me to transfer it out of South Africa for investment purposes in your country For your efforts am prepared to offer you of the total sum while will be set aside for expenses incurred during the course of this transaction an the remaining is for the family investment in your country Please note that this transaction is riskfree and the major thing ask of you is to assure me the safety of the money when transferred to your account Furthern information and arrangement will commence soon as trust confidence and good relationship is established shall be most grateful if you maintain the confidentiality require in this transaction Do not hesitate to call me on my phone for further directives or send me email to enable us commence towards the conclusion of this transaction await for your prompt response Thanks and God bless MRS MARIA BANDA For the Family Yahoo for Good Click here to donate to the Hurricane Katrina relief effort</td>\n",
       "      <td>1</td>\n",
       "    </tr>\n",
       "    <tr>\n",
       "      <th>3821</th>\n",
       "      <td>back we need to talk Call only my berry</td>\n",
       "      <td>0</td>\n",
       "    </tr>\n",
       "    <tr>\n",
       "      <th>3914</th>\n",
       "      <td>back we need to talk Can we talk now just woke up again</td>\n",
       "      <td>0</td>\n",
       "    </tr>\n",
       "  </tbody>\n",
       "</table>\n",
       "</div>"
      ],
      "text/plain": [
       "                                                                                                                                                                                                                                                                                                                                                                                                                                                                                                                                                                                                                                                                                                                                                                                                                                                                                                                                                                                                                                                                                                                                                                                                                                                                                                                                                                                                                                                                                                                                                                                                                                                                                                                                                                                                                                                                                                                                                                                                                                                                                                                                                                                                                                                                                                                                                                                                           text  \\\n",
       "130                                                                                                                                                                                                                                                                                                                                                                                                                                                                                                                                                                                                                                                                                                                                                                                                                                                                                                                                                                                                                                                                                                                                                                                                                                                                                                                                                                                                                                                                                                                                                                                                                                                                                                                                                                                                                                                                                                                                                                                                                                                                                                                                                                                                                                                                                                                                                                                               been released   \n",
       "339                                                                                                                                                                                                                                                                                                                                                                                                                                                                                                                                                                                                                                                                                                                                                                                                                                                                                                                                                                                                                                                                                                                                                                                                                                                                                                                                                                                                                                                                                                                                                                                                                                                                                                                                                                                                                                                                                                                                                                                                                                                                                                                                                                                                                                                                                                                                                                                 back we need to talkcalling   \n",
       "456                                                                                                                                                                                                                                                                                                                                                                                                                                                                                                                                                                                                                                                                                                                                                                                                                                                                                                                                                                                                                                                                                                                                                                                                                                                                                                                                                                                                                                                                                                                                                                                                                                                                                                                                                                                                                                                                                                                                                                                                                                                                                                                                                                                                                                                  briefed group of wonks at Brookings tonite Superbly impressive persuasive Lowkey mastery confidence Congrats on having her on your team leading these negs   \n",
       "2553                                                                                                                                                                                                                                                                                                                                                                                                                                                                                                                                                                                                                                                                                                                                                                                                                                                                                                                                                                                                                                                                                                                                                                                                                                                                                                                                                                                                                                                                                                                                                                                                                                                                                                                                                                                                                                                                                                                                                                                                                                                                                                                                                                                                                                                                                                                        behavior Washington Postdoc You almost certainly have seen this but just in case AM   \n",
       "2642                                                                                                                                                                                                                                                                                                                                                                                                                                                                                                                                                                                                                                                                                                                                                                                                                                                                                                                                                                                                                                                                                                                                                                                                                                                                                                                                                                                                                                                                                                                                                                                                                                                                                                                                                                                                                                                                                                                                                                                                                                                                                                                                                                                  because we are still in Government service Let honesty and trust be ourwatchwords throughout this transaction And your Prompt reply will be highly appreciated Best regards John ObuteThis mail was sent using prowebmail   \n",
       "3456  bsp URGENT BUSINESS PROPOSALASSISTANCE cannot imagine the surprise this will bring to you but please be rest assured is with good faith and intentions from family in dare need of your assistance to help us transfer the inheritance sum of million OLLARS US into your account or company account in which God will bless you for rendering helping hand to others am Mrs Maria Banda from Sierra Leone currently residing in SouthAfrica the wife to the late James Banda got your contact details in the course of my discreet search for reliable and God fearing person from the Johannesburg Trade an Exhibition Centre and after going throug your profile decided to solicit for your kind assistance am urrently residing with my familyson and daughter here in Sout Africa as asylum seekers and the South African Fiscal Policy Law an Regulations does not allow us certain financial rights My husband was brigadier in charge of Arms and Ammunition procurement for the Sierra Leone Army before his death After his death discovered that in his will he specifically drew my attention to the sum of MILLION US which he had deposited in safe box of the Private Security Company here in Johannesburg South Africa The lives and future of my family depends on this fund as such wil be grateful if you can assist us In view of this cannot invest his fund in South Africa hence my asking you to assist me to transfer it out of South Africa for investment purposes in your country For your efforts am prepared to offer you of the total sum while will be set aside for expenses incurred during the course of this transaction an the remaining is for the family investment in your country Please note that this transaction is riskfree and the major thing ask of you is to assure me the safety of the money when transferred to your account Furthern information and arrangement will commence soon as trust confidence and good relationship is established shall be most grateful if you maintain the confidentiality require in this transaction Do not hesitate to call me on my phone for further directives or send me email to enable us commence towards the conclusion of this transaction await for your prompt response Thanks and God bless MRS MARIA BANDA For the Family Yahoo for Good Click here to donate to the Hurricane Katrina relief effort    \n",
       "3821                                                                                                                                                                                                                                                                                                                                                                                                                                                                                                                                                                                                                                                                                                                                                                                                                                                                                                                                                                                                                                                                                                                                                                                                                                                                                                                                                                                                                                                                                                                                                                                                                                                                                                                                                                                                                                                                                                                                                                                                                                                                                                                                                                                                                                                                                                                                                                    back we need to talk Call only my berry   \n",
       "3914                                                                                                                                                                                                                                                                                                                                                                                                                                                                                                                                                                                                                                                                                                                                                                                                                                                                                                                                                                                                                                                                                                                                                                                                                                                                                                                                                                                                                                                                                                                                                                                                                                                                                                                                                                                                                                                                                                                                                                                                                                                                                                                                                                                                                                                                                                                                                    back we need to talk Can we talk now just woke up again   \n",
       "\n",
       "      label  \n",
       "130       0  \n",
       "339       0  \n",
       "456       0  \n",
       "2553      0  \n",
       "2642      1  \n",
       "3456      1  \n",
       "3821      0  \n",
       "3914      0  "
      ]
     },
     "execution_count": 68,
     "metadata": {},
     "output_type": "execute_result"
    }
   ],
   "source": [
    "data_dehtml[data_dehtml.text.str.startswith('b')]"
   ]
  },
  {
   "cell_type": "markdown",
   "metadata": {},
   "source": [
    "Only few examples with initial 'b', and the 'b' mostly seems to be an innocent part of a word. (Possibly double-check original formatting of ex. 298, there's an artifact at the beginning that wasn't processed properly.)\n"
   ]
  },
  {
   "cell_type": "code",
   "execution_count": 69,
   "metadata": {},
   "outputs": [
    {
     "data": {
      "text/plain": [
       "text     http://www.ft.com/cms/s/5799a774-b534-11df-9af8-00144feabdc0dwp_uuid=236ce648-33fa-11da-adae-00000e2511c8print=yes.htmlFinancial Times FT.comr.OLUMNISTSJVlartin WolfObama was too cautious in fearful timesBy Martin WolfPublished: AuÃ¢ÂÂ¢ ust 31 2010 22:48 j Last updated: August 31 2010 22:48Suppose that the US presidential election of 1932 had in fact taken place in 1930 at an early stage in the GreatDepression. Suppose too that Franklin Delano Roosevelt had won then though not by the landslide of 1932. Howdifferent subsequent events might have been. The president might have watched helplessly as output and employmentcollapsed. The decades of Democratic dominance might not have happened.On such chances the wheel of history turns. But this time was different: the crisis brought Barack Obama to power closeto the beginning of the economic collapse. I (among others) then argued that policy needed to be hugely aggressive. Alasit was not. I noted on February 4 2009 at the beginning of the new presidency: \"Instead of an overwhelming fiscalstimulus what is emerging is too small too wasteful and too ill-focused.\" A week later I asked: \"Has Barack Obama'spresidency already failed? In normal times this would be a ludicrous question. But these are not normal times. They aretimes of great danger. Today the new US administration can disown responsibility for its inheritance; tomorrow it will ownit. Today it can offer solutions; tomorrow it will have become the problem. Today it is in control of events; tomorrowevents will take control of it. Doing too little is now far riskier than doing too much.\" This was right.The direction of policy was not wrong: policymakers Ã¢ÂÂ though not all economists Ã¢ÂÂ had learnt a great deal from the 1930s.Sensible people knew that aggressive monetary and fiscal expansion was needed together with reconstruction of thefinancial sector.But as Larry Summers Mr Obama's chief economic adviser had said: \"When markets overshoot policymakers mustovershoot too\". Unfortunately the administration failed to follow his excellent advice. This has allowed opponents to claimthat policy has been ineffective when it has merely been inadequate.In consequence the administration has lost credibility with the public and the chances of a renewed fiscal expansion havedisappeared. With the Federal Reserve cautious too the likelihood of a lengthy period of weak growth and heavyjoblessness is high. So too are the chances of domestic and global political friction.True the idea that the policies adopted in the last few months of the Bush administration and the first months of this onewere far better than nothing is weirdly controversial in the US. A recent paper by Alan Blinder former vice-chairman of theFed and Mark Zandi of Moody's argues that such critics are wrong. They use a standard macro-economic model toassess what would have happened without any intervention without the financial interventions (including monetary policy)and without the fiscal action. They conclude that the peak to trough decline in gross domestic product would have beenclose to 12 per cent with no policy response compared to an actual decline of just 4 per cent (see chart). Similarly theunemployment rate would have peaked at 16.5 per cent instead of the actual 10 per cent. The bigger collapse would alsohave meant a fiscal deficit of $2600bn in fiscal year 2011. The outcome is also disastrous with the modest fiscal responsebut no financial Ã¢ÂÂ¢olic resÃ¢ÂÂ¢onse. It is a little better the other way round.The implication that the modest stimulus package of February 2009 Ã¢ÂÂ a mere 5.7 per cent of 2009 GDP spread overseveral years Ã¢ÂÂ made a positive contribution is supported by the analysis of the Congressional Budget Office: it arguesthat in 2010 US GDP will be between 1.5 per cent and 4.1 per cent higher and the unemployment rate between 0.7 and1.8 percentage points lower as a result of the package.Panglossians who believe the private economy is always in equilibrium unless governments intervene disagree. I wishthere were some way to run this experiment without hurting hundreds of millions of people. But I find the idea that allowingthe collapse of much of the financial system avoiding unconventional monetary policy and struggling to close the fiscaldeficit would have been consistent with a more rapid and sustained recovery quite bizarre.A fascinating perspective does come however from comparisons with what happened in other advanced countries. Therecession in US output (and so demand) has been relatively small but the decline in employment has been exceptionallylarge as a result of an extraordinary surge in US productivity (see charts). This contrast between what would happen tooutput and what would happen to employment was missed in the initial Congressional Budget Office analysis of thestimulus.Since the US was the epicentre of the financial crisis the relatively small decline in output is remarkable. Moreover sincefiscal and monetary stimuli bear directly on demand and output not jobs this is a policy success. At the same time theenthusiasm with which US managers laid off workers is also extraordinary. No doubt some of this is due to the collapse inconstruction. But some of it must be due to the ease with which US companies can lay off workers and the incentives formanagers to maintain profits in a downturn at the expense of jobs.Debate is emerging on how much of the surge in unemployment is structural. My answer from European experience isthat one way to ensure it becomes structural is to let it linger. In the short run the simplest way to prevent that fromhappening is to expand demand and so output. Since there is huge slack in the labour market not the slightest threat ofinflation Ã¢ÂÂ far more a risk of deflation Ã¢ÂÂ and no constraint from bond or foreign exchange markets on further monetary andfiscal stimulus these are the policies that have to be pursued. Yet alas the Fed seems to have decided to fall asleep andthe administration has lost the initiative.So what is going to happen? I assume that after the midterm elections resurgent Republicans will offer new tax cuts andignore the fiscal deficits. They will pretend that this has nothing to do with any reviled stimulus though it is much the samething Ã¢ÂÂ increasing fiscal deficits thereby offsetting private frugality. That would put the administration on the spot. It wouldhave to choose between vetoing the tax cuts and accepting them so allowing the Republicans to get the credit for their\"yacht and mansion-led\" recovery. Any recovery is better than none. But it could have been much better than this. Thosewho were cautious when they should have been bold will pay a big price.martin.wolf@ft.comMore columns at www.ft.com/martinwolfCopyright The Financial Times Limited 2010. Print a single copy of this article for personal use. Contact us if you wish toprint more to distribute to others.\"FT\" and \"Financial Times\" are trademarks of the Financial Times. Privacy policy I TermsCopyright The Financial Times Ltd 2010.\n",
       "label                                                                                                                                                                                                                                                                                                                                                                                                                                                                                                                                                                                                                                                                                                                                                                                                                                                                                                                                                                                                                                                                                                                                                                                                                                                                                                                                                                                                                                                                                                                                                                                                                                                                                                                                                                                                                                                                                                                                                                                                                                                                                                                                                                                                                                                                                                                                                                                                                                                                                                                                                                                                                                                                                                                                                                                                                                                                                                                                                                                                                                                                                                                                                                                                                                                                                                                                                                                                                                                                                                                                                                                                                                                                                                                                                                                                                                                                                                                                                                                                                                                                                                                                                                                                                                                                                                                                                                                                                                                                                                                                                                                                                                                                                                                                                                                                                                                                                                                                                                                                                                                                                                                                                                                                                                                                                                                                                                                                                                                                                                                                                                                                                                                                                                                                                                                                                                                                                                                                                                                                                                                                                                                                                                                                                                                                                                                                                                                                                                                                                                                                                                                                                                                                                                                                                                                                                                                                                                                                                                                                                                                                                                                                                                                                                                                                                                                                                                                0\n",
       "Name: 298, dtype: object"
      ]
     },
     "execution_count": 69,
     "metadata": {},
     "output_type": "execute_result"
    }
   ],
   "source": [
    "data.iloc[298]"
   ]
  },
  {
   "cell_type": "code",
   "execution_count": 70,
   "metadata": {},
   "outputs": [
    {
     "data": {
      "text/plain": [
       "text      Financial Times FTcomr OLUMNISTSJVlartin Wolf Obama was too cautious in fearful times By Martin Wolf Published Au ust Last updated August Suppose that the US presidential election of had in fact taken place in at an early stage in the Great Depression Suppose too that Franklin Delano Roosevelt had won then though not by the landslide of Howdifferent subsequent events might have been The president might have watched helplessly as output and employmentcollapsed The decades of Democratic dominance might not have happened On such chances the wheel of history turns But this time was different the crisis brought Barack Obama to power closeto the beginning of the economic collapse among others then argued that policy needed to be hugely aggressive Alasit was not noted on February at the beginning of the new presidency Instead of an overwhelming fiscalstimulus what is emerging is too small too wasteful and too illfocused week later asked Has Barack Obamaspresidency already failed In normal times this would be ludicrous question But these are not normal times They aretimes of great danger Today the new US administration can disown responsibility for its inheritance tomorrow it will ownit Today it can offer solutions tomorrow it will have become the problem Today it is in control of events tomorrowevents will take control of it Doing too little is now far riskier than doing too much This was right The direction of policy was not wrong policymakers though not all economists had learnt great deal from the s Sensible people knew that aggressive monetary and fiscal expansion was needed together with reconstruction of thefinancial sector But as Larry Summers Mr Obama chief economic adviser had said When markets overshoot policymakers mustovershoot too Unfortunately the administration failed to follow his excellent advice This has allowed opponents to claimthat policy has been ineffective when it has merely been inadequate In consequence the administration has lost credibility with the public and the chances of renewed fiscal expansion havedisappeared With the Federal Reserve cautious too the likelihood of lengthy period of weak growth and heavyjoblessness is high So too are the chances of domestic and global political friction True the idea that the policies adopted in the last few months of the Bush administration and the first months of this onewere far better than nothing is weirdly controversial in the US recent paper by Alan Blinder former vicechairman of the Fed and Mark Zandi of Moody argues that such critics are wrong They use standard macroeconomic model toassess what would have happened without any intervention without the financial interventions including monetary policyand without the fiscal action They conclude that the peak to trough decline in gross domestic product would have beenclose to per cent with no policy response compared to an actual decline of just per cent see chart Similarly theunemployment rate would have peaked at per cent instead of the actual per cent The bigger collapse would alsohave meant fiscal deficit of bn in fiscal year The outcome is also disastrous with the modest fiscal responsebut no financial olic resonse It is little better the other way round The implication that the modest stimulus package of February mere per cent of GDP spread overseveral years made positive contribution is supported by the analysis of the Congressional Budget Office it arguesthat in US GDP will be between per cent and per cent higher and the unemployment rate between and percentage points lower as result of the package Panglossians who believe the private economy is always in equilibrium unless governments intervene disagree wishthere were some way to run this experiment without hurting hundreds of millions of people But find the idea that allowingthe collapse of much of the financial system avoiding unconventional monetary policy and struggling to close the fiscaldeficit would have been consistent with more rapid and sustained recovery quite bizarre fascinating perspective does come however from comparisons with what happened in other advanced countries Therecession in US output and so demand has been relatively small but the decline in employment has been exceptionallylarge as result of an extraordinary surge in US productivity see charts This contrast between what would happen tooutput and what would happen to employment was missed in the initial Congressional Budget Office analysis of thestimulus Since the US was the epicentre of the financial crisis the relatively small decline in output is remarkable Moreover sincefiscal and monetary stimuli bear directly on demand and output not jobs this is policy success At the same time theenthusiasm with which US managers laid off workers is also extraordinary No doubt some of this is due to the collapse inconstruction But some of it must be due to the ease with which US companies can lay off workers and the incentives formanagers to maintain profits in downturn at the expense of jobs Debate is emerging on how much of the surge in unemployment is structural My answer from European experience isthat one way to ensure it becomes structural is to let it linger In the short run the simplest way to prevent that fromhappening is to expand demand and so output Since there is huge slack in the labour market not the slightest threat ofinflation far more risk of deflation and no constraint from bond or foreign exchange markets on further monetary andfiscal stimulus these are the policies that have to be pursued Yet alas the Fed seems to have decided to fall asleep andthe administration has lost the initiative So what is going to happen assume that after the midterm elections resurgent Republicans will offer new tax cuts andignore the fiscal deficits They will pretend that this has nothing to do with any reviled stimulus though it is much the samething increasing fiscal deficits thereby offsetting private frugality That would put the administration on the spot It wouldhave to choose between vetoing the tax cuts and accepting them so allowing the Republicans to get the credit for theiryacht and mansionled recovery Any recovery is better than none But it could have been much better than this Thosewho were cautious when they should have been bold will pay big price More columns at wwwftcommartinwolf Copyright The Financial Times Limited Print single copy of this article for personal use Contact us if you wish toprint more to distribute to othersFT and Financial Times are trademarks of the Financial Times Privacy policy Terms Copyright The Financial Times Ltd \n",
       "label                                                                                                                                                                                                                                                                                                                                                                                                                                                                                                                                                                                                                                                                                                                                                                                                                                                                                                                                                                                                                                                                                                                                                                                                                                                                                                                                                                                                                                                                                                                                                                                                                                                                                                                                                                                                                                                                                                                                                                                                                                                                                                                                                                                                                                                                                                                                                                                                                                                                                                                                                                                                                                                                                                                                                                                                                                                                                                                                                                                                                                                                                                                                                                                                                                                                                                                                                                                                                                                                                                                                                                                                                                                                                                                                                                                                                                                                                                                                                                                                                                                                                                                                                                                                                                                                                                                                                                                                                                                                                                                                                                                                                                                                                                                                                                                                                                                                                                                                                                                                                                                                                                                                                                                                                                                                                                                                                                                                                                                                                                                                                                                                                                                                                                                                                                                                                                                                                                                                                                                                                                                                                                                                                                                                                                                                                                                                                                                                                                                                                                                                                                                                                                                                                                                                                                                                                                                                                           0\n",
       "Name: 298, dtype: object"
      ]
     },
     "execution_count": 70,
     "metadata": {},
     "output_type": "execute_result"
    }
   ],
   "source": [
    "data_dehtml.iloc[298]"
   ]
  },
  {
   "cell_type": "markdown",
   "metadata": {},
   "source": [
    "Ok, should add '-' and '=' and '&' to the website regex.\n",
    "\n",
    "To be safe (as it's specifically mentioned in the instructions), also check 'b' directly preceding a capital letter (assuming that would be a case of prefixing?):"
   ]
  },
  {
   "cell_type": "code",
   "execution_count": 71,
   "metadata": {},
   "outputs": [],
   "source": [
    "# only uncomment if you want to see a really long text field of letter garbage\n",
    "# initb = re.compile(r'\\s([b][A-Z])')\n",
    "\n",
    "# data_dehtml[data_dehtml.text.apply(lambda x: True if initb.search(x) != None else False)]"
   ]
  },
  {
   "cell_type": "markdown",
   "metadata": {},
   "source": [
    "Only one example with 'b' prefixed directly to a capital letter in this spam example. Leaving this message intact, probably just a clear instance of spam."
   ]
  },
  {
   "cell_type": "code",
   "execution_count": 72,
   "metadata": {},
   "outputs": [],
   "source": [
    "# Your code\n",
    "data_dehtml['text'] = data_dehtml.text.str.lower()\n",
    "test_dehtml['text'] = test_dehtml.text.str.lower()"
   ]
  },
  {
   "cell_type": "code",
   "execution_count": 73,
   "metadata": {},
   "outputs": [
    {
     "data": {
      "text/html": [
       "<div>\n",
       "<style scoped>\n",
       "    .dataframe tbody tr th:only-of-type {\n",
       "        vertical-align: middle;\n",
       "    }\n",
       "\n",
       "    .dataframe tbody tr th {\n",
       "        vertical-align: top;\n",
       "    }\n",
       "\n",
       "    .dataframe thead th {\n",
       "        text-align: right;\n",
       "    }\n",
       "</style>\n",
       "<table border=\"1\" class=\"dataframe\">\n",
       "  <thead>\n",
       "    <tr style=\"text-align: right;\">\n",
       "      <th></th>\n",
       "      <th>text</th>\n",
       "      <th>label</th>\n",
       "    </tr>\n",
       "  </thead>\n",
       "  <tbody>\n",
       "    <tr>\n",
       "      <th>0</th>\n",
       "      <td>dear sir strictly private business proposal am mike chukwu the manager bills and exchange at the foreign remittance department of the zenith international bank plc am writing this letter to ask for your support and cooperation to carry out this business opportunity in my department we discovered an abandoned sum of fifteen million united states dollars only in an account that belongs to one of our foreign customers who died along with his entire family of wife and two children in november in plane crash since we heard of his death we have been expecting his nextofkin to come over and put claims for his money as the heirbecause we cannot release the fund from his account unless someone applies for claim as the nextofkin to the deceased as indicated in our banking guidelines unfortunately neither their family member nor distant relative has ever appeared to claim the said fund upon this discovery and other officials in my department have agreed to make business with you and release the total amount into your account as the heir of the fund since no one came for it or discovered he maintained account with our bank otherwise the fund will be returned to the banks treasury as unclaimed fund we have agreed that our ratio of sharing will be as stated thus for you as foreign partner for us the officials in my department and for the settlement of all local and foreign expences incurred by us and you during the course of this business upon the successful completion of this transfer and one of my colleagues will come to your country and mind our share it is from our we intend to import agricultural machineries into my country as way of recycling the fund to commence this transaction we require you to immediately indicate your interest by return mail and enclose your private contact telephone number fax number full name and address and your designated bank coordinates to enable us file letter of claim to the appropriate departments for necessary approvals before the transfer can be made note also this transaction must be kept strictly confidential because of it nature look forward to receiving your prompt response regards mr mike chukwu zenith international bank plc</td>\n",
       "      <td>1</td>\n",
       "    </tr>\n",
       "    <tr>\n",
       "      <th>1</th>\n",
       "      <td>will do</td>\n",
       "      <td>0</td>\n",
       "    </tr>\n",
       "    <tr>\n",
       "      <th>2</th>\n",
       "      <td>noracheryl has emailed dozens of memos about haiti to me this weekend can you please print them and organize them inchrono order for me for my trip tomorrow or send to lauren so she can do thx</td>\n",
       "      <td>0</td>\n",
       "    </tr>\n",
       "    <tr>\n",
       "      <th>3</th>\n",
       "      <td>dear sirmadam know that this proposal might be surprise to you but it as an emergencyin nutshell am mr zuma from the republic of southafrica now seeking for refuge in dakar senegal under theunhcr got your contact during desperate search here in dakar for possible transaction my late father dr zuma kent williams he was the managing director of gold mine company in south africa but he was assinated by his business assoicate and all his properties was totally destroyed by his elder brother who alway hate to see me and my mother with his eye that man very wicked that is why and my mother managed to escape with some of my father documents covering million dollars which is presently deposited safely in finance firm on my name as the next of kin meanwhilewe are saddled with the problem of securing trustworthy foriegn personality to help us transfer the money over to his country and into his possession pending our arrival to meet with him furthermorewe only want this done this way because your country is politically stable for any profitable investment and only if you accept our proposal you will serve as the beneficiary of the fund on commencement of this proposed transactions am giving you the offers as mentioned with every confidence on your acceptance to assist us we have decided to invest of the total fund based on equity participation in your company secondly we shall also take out for any miscelleneous expenses that may occure conclusively wish you send me reply immediately as soon as yourecieve this proposal so that we shall arrange on how to lift this consignment out of dakar senegal to your country on commencementthis transaction will take nothing less than working days to be accomplished all documents covering the fund are safe and intact remain with the best regards please kindly responce to this alternative mail please call urgently to speak with me and my mother on this our direct telephone number thanks yours mr prince zuma</td>\n",
       "      <td>1</td>\n",
       "    </tr>\n",
       "    <tr>\n",
       "      <th>4</th>\n",
       "      <td>fyi</td>\n",
       "      <td>0</td>\n",
       "    </tr>\n",
       "  </tbody>\n",
       "</table>\n",
       "</div>"
      ],
      "text/plain": [
       "                                                                                                                                                                                                                                                                                                                                                                                                                                                                                                                                                                                                                                                                                                                                                                                                                                                                                                                                                                                                                                                                                                                                                                                                                                                                                                                                                                                                                                                                                                                                                                                                                                                                                                                                                                                                                                                                                                                                                                                                                                                                                                                                                                                                                                                                                text  \\\n",
       "0  dear sir strictly private business proposal am mike chukwu the manager bills and exchange at the foreign remittance department of the zenith international bank plc am writing this letter to ask for your support and cooperation to carry out this business opportunity in my department we discovered an abandoned sum of fifteen million united states dollars only in an account that belongs to one of our foreign customers who died along with his entire family of wife and two children in november in plane crash since we heard of his death we have been expecting his nextofkin to come over and put claims for his money as the heirbecause we cannot release the fund from his account unless someone applies for claim as the nextofkin to the deceased as indicated in our banking guidelines unfortunately neither their family member nor distant relative has ever appeared to claim the said fund upon this discovery and other officials in my department have agreed to make business with you and release the total amount into your account as the heir of the fund since no one came for it or discovered he maintained account with our bank otherwise the fund will be returned to the banks treasury as unclaimed fund we have agreed that our ratio of sharing will be as stated thus for you as foreign partner for us the officials in my department and for the settlement of all local and foreign expences incurred by us and you during the course of this business upon the successful completion of this transfer and one of my colleagues will come to your country and mind our share it is from our we intend to import agricultural machineries into my country as way of recycling the fund to commence this transaction we require you to immediately indicate your interest by return mail and enclose your private contact telephone number fax number full name and address and your designated bank coordinates to enable us file letter of claim to the appropriate departments for necessary approvals before the transfer can be made note also this transaction must be kept strictly confidential because of it nature look forward to receiving your prompt response regards mr mike chukwu zenith international bank plc    \n",
       "1                                                                                                                                                                                                                                                                                                                                                                                                                                                                                                                                                                                                                                                                                                                                                                                                                                                                                                                                                                                                                                                                                                                                                                                                                                                                                                                                                                                                                                                                                                                                                                                                                                                                                                                                                                                                                                                                                                                                                                                                                                                                                                                                                                                                                                                                            will do   \n",
       "2                                                                                                                                                                                                                                                                                                                                                                                                                                                                                                                                                                                                                                                                                                                                                                                                                                                                                                                                                                                                                                                                                                                                                                                                                                                                                                                                                                                                                                                                                                                                                                                                                                                                                                                                                                                                                                                                                                                                                                                                                                                                                   noracheryl has emailed dozens of memos about haiti to me this weekend can you please print them and organize them inchrono order for me for my trip tomorrow or send to lauren so she can do thx   \n",
       "3                                                                                                                                                                                                                                       dear sirmadam know that this proposal might be surprise to you but it as an emergencyin nutshell am mr zuma from the republic of southafrica now seeking for refuge in dakar senegal under theunhcr got your contact during desperate search here in dakar for possible transaction my late father dr zuma kent williams he was the managing director of gold mine company in south africa but he was assinated by his business assoicate and all his properties was totally destroyed by his elder brother who alway hate to see me and my mother with his eye that man very wicked that is why and my mother managed to escape with some of my father documents covering million dollars which is presently deposited safely in finance firm on my name as the next of kin meanwhilewe are saddled with the problem of securing trustworthy foriegn personality to help us transfer the money over to his country and into his possession pending our arrival to meet with him furthermorewe only want this done this way because your country is politically stable for any profitable investment and only if you accept our proposal you will serve as the beneficiary of the fund on commencement of this proposed transactions am giving you the offers as mentioned with every confidence on your acceptance to assist us we have decided to invest of the total fund based on equity participation in your company secondly we shall also take out for any miscelleneous expenses that may occure conclusively wish you send me reply immediately as soon as yourecieve this proposal so that we shall arrange on how to lift this consignment out of dakar senegal to your country on commencementthis transaction will take nothing less than working days to be accomplished all documents covering the fund are safe and intact remain with the best regards please kindly responce to this alternative mail please call urgently to speak with me and my mother on this our direct telephone number thanks yours mr prince zuma   \n",
       "4                                                                                                                                                                                                                                                                                                                                                                                                                                                                                                                                                                                                                                                                                                                                                                                                                                                                                                                                                                                                                                                                                                                                                                                                                                                                                                                                                                                                                                                                                                                                                                                                                                                                                                                                                                                                                                                                                                                                                                                                                                                                                                                                                                                                                                                                                fyi   \n",
       "\n",
       "   label  \n",
       "0      1  \n",
       "1      0  \n",
       "2      0  \n",
       "3      1  \n",
       "4      0  "
      ]
     },
     "execution_count": 73,
     "metadata": {},
     "output_type": "execute_result"
    }
   ],
   "source": [
    "data_dehtml.head()"
   ]
  },
  {
   "cell_type": "markdown",
   "metadata": {},
   "source": [
    "### Let's tokenize"
   ]
  },
  {
   "cell_type": "code",
   "execution_count": 74,
   "metadata": {},
   "outputs": [],
   "source": [
    "from nltk import word_tokenize\n",
    "\n",
    "data_token = data_dehtml.copy()\n",
    "test_token = test_dehtml.copy()\n",
    "\n",
    "data_token['text'] = data_token.text.apply(word_tokenize)\n",
    "test_token['text'] = test_token.text.apply(word_tokenize)"
   ]
  },
  {
   "cell_type": "code",
   "execution_count": 75,
   "metadata": {},
   "outputs": [
    {
     "data": {
      "text/html": [
       "<div>\n",
       "<style scoped>\n",
       "    .dataframe tbody tr th:only-of-type {\n",
       "        vertical-align: middle;\n",
       "    }\n",
       "\n",
       "    .dataframe tbody tr th {\n",
       "        vertical-align: top;\n",
       "    }\n",
       "\n",
       "    .dataframe thead th {\n",
       "        text-align: right;\n",
       "    }\n",
       "</style>\n",
       "<table border=\"1\" class=\"dataframe\">\n",
       "  <thead>\n",
       "    <tr style=\"text-align: right;\">\n",
       "      <th></th>\n",
       "      <th>text</th>\n",
       "      <th>label</th>\n",
       "    </tr>\n",
       "  </thead>\n",
       "  <tbody>\n",
       "    <tr>\n",
       "      <th>0</th>\n",
       "      <td>[dear, sir, strictly, private, business, proposal, am, mike, chukwu, the, manager, bills, and, exchange, at, the, foreign, remittance, department, of, the, zenith, international, bank, plc, am, writing, this, letter, to, ask, for, your, support, and, cooperation, to, carry, out, this, business, opportunity, in, my, department, we, discovered, an, abandoned, sum, of, fifteen, million, united, states, dollars, only, in, an, account, that, belongs, to, one, of, our, foreign, customers, who, died, along, with, his, entire, family, of, wife, and, two, children, in, november, in, plane, crash, since, we, heard, of, his, death, we, have, been, expecting, his, nextofkin, to, come, over, ...]</td>\n",
       "      <td>1</td>\n",
       "    </tr>\n",
       "    <tr>\n",
       "      <th>1</th>\n",
       "      <td>[will, do]</td>\n",
       "      <td>0</td>\n",
       "    </tr>\n",
       "    <tr>\n",
       "      <th>2</th>\n",
       "      <td>[noracheryl, has, emailed, dozens, of, memos, about, haiti, to, me, this, weekend, can, you, please, print, them, and, organize, them, inchrono, order, for, me, for, my, trip, tomorrow, or, send, to, lauren, so, she, can, do, thx]</td>\n",
       "      <td>0</td>\n",
       "    </tr>\n",
       "    <tr>\n",
       "      <th>3</th>\n",
       "      <td>[dear, sirmadam, know, that, this, proposal, might, be, surprise, to, you, but, it, as, an, emergencyin, nutshell, am, mr, zuma, from, the, republic, of, southafrica, now, seeking, for, refuge, in, dakar, senegal, under, theunhcr, got, your, contact, during, desperate, search, here, in, dakar, for, possible, transaction, my, late, father, dr, zuma, kent, williams, he, was, the, managing, director, of, gold, mine, company, in, south, africa, but, he, was, assinated, by, his, business, assoicate, and, all, his, properties, was, totally, destroyed, by, his, elder, brother, who, alway, hate, to, see, me, and, my, mother, with, his, eye, that, man, very, wicked, ...]</td>\n",
       "      <td>1</td>\n",
       "    </tr>\n",
       "    <tr>\n",
       "      <th>4</th>\n",
       "      <td>[fyi]</td>\n",
       "      <td>0</td>\n",
       "    </tr>\n",
       "  </tbody>\n",
       "</table>\n",
       "</div>"
      ],
      "text/plain": [
       "                                                                                                                                                                                                                                                                                                                                                                                                                                                                                                                                                                                                                                                                                                                   text  \\\n",
       "0  [dear, sir, strictly, private, business, proposal, am, mike, chukwu, the, manager, bills, and, exchange, at, the, foreign, remittance, department, of, the, zenith, international, bank, plc, am, writing, this, letter, to, ask, for, your, support, and, cooperation, to, carry, out, this, business, opportunity, in, my, department, we, discovered, an, abandoned, sum, of, fifteen, million, united, states, dollars, only, in, an, account, that, belongs, to, one, of, our, foreign, customers, who, died, along, with, his, entire, family, of, wife, and, two, children, in, november, in, plane, crash, since, we, heard, of, his, death, we, have, been, expecting, his, nextofkin, to, come, over, ...]   \n",
       "1                                                                                                                                                                                                                                                                                                                                                                                                                                                                                                                                                                                                                                                                                                            [will, do]   \n",
       "2                                                                                                                                                                                                                                                                                                                                                                                                                                                                                [noracheryl, has, emailed, dozens, of, memos, about, haiti, to, me, this, weekend, can, you, please, print, them, and, organize, them, inchrono, order, for, me, for, my, trip, tomorrow, or, send, to, lauren, so, she, can, do, thx]   \n",
       "3                        [dear, sirmadam, know, that, this, proposal, might, be, surprise, to, you, but, it, as, an, emergencyin, nutshell, am, mr, zuma, from, the, republic, of, southafrica, now, seeking, for, refuge, in, dakar, senegal, under, theunhcr, got, your, contact, during, desperate, search, here, in, dakar, for, possible, transaction, my, late, father, dr, zuma, kent, williams, he, was, the, managing, director, of, gold, mine, company, in, south, africa, but, he, was, assinated, by, his, business, assoicate, and, all, his, properties, was, totally, destroyed, by, his, elder, brother, who, alway, hate, to, see, me, and, my, mother, with, his, eye, that, man, very, wicked, ...]   \n",
       "4                                                                                                                                                                                                                                                                                                                                                                                                                                                                                                                                                                                                                                                                                                                 [fyi]   \n",
       "\n",
       "   label  \n",
       "0      1  \n",
       "1      0  \n",
       "2      0  \n",
       "3      1  \n",
       "4      0  "
      ]
     },
     "execution_count": 75,
     "metadata": {},
     "output_type": "execute_result"
    }
   ],
   "source": [
    "data_token.head()"
   ]
  },
  {
   "cell_type": "markdown",
   "metadata": {
    "slideshow": {
     "slide_type": "-"
    }
   },
   "source": [
    "## Now let's work on removing stopwords\n",
    "Remove the stopwords."
   ]
  },
  {
   "cell_type": "code",
   "execution_count": 76,
   "metadata": {},
   "outputs": [],
   "source": [
    "# Your code\n",
    "from nltk.corpus import stopwords\n",
    "\n",
    "stop_words = set(stopwords.words('english'))\n",
    "\n",
    "data_token['text'] = data_token.text.apply(lambda input: list(filter(lambda x: '' if x in stop_words else x, input)))\n",
    "test_token['text'] = test_token.text.apply(lambda input: list(filter(lambda x: '' if x in stop_words else x, input)))"
   ]
  },
  {
   "cell_type": "code",
   "execution_count": 77,
   "metadata": {},
   "outputs": [
    {
     "data": {
      "text/html": [
       "<div>\n",
       "<style scoped>\n",
       "    .dataframe tbody tr th:only-of-type {\n",
       "        vertical-align: middle;\n",
       "    }\n",
       "\n",
       "    .dataframe tbody tr th {\n",
       "        vertical-align: top;\n",
       "    }\n",
       "\n",
       "    .dataframe thead th {\n",
       "        text-align: right;\n",
       "    }\n",
       "</style>\n",
       "<table border=\"1\" class=\"dataframe\">\n",
       "  <thead>\n",
       "    <tr style=\"text-align: right;\">\n",
       "      <th></th>\n",
       "      <th>text</th>\n",
       "      <th>label</th>\n",
       "    </tr>\n",
       "  </thead>\n",
       "  <tbody>\n",
       "    <tr>\n",
       "      <th>0</th>\n",
       "      <td>[dear, sir, strictly, private, business, proposal, mike, chukwu, manager, bills, exchange, foreign, remittance, department, zenith, international, bank, plc, writing, letter, ask, support, cooperation, carry, business, opportunity, department, discovered, abandoned, sum, fifteen, million, united, states, dollars, account, belongs, one, foreign, customers, died, along, entire, family, wife, two, children, november, plane, crash, since, heard, death, expecting, nextofkin, come, put, claims, money, heirbecause, release, fund, account, unless, someone, applies, claim, nextofkin, deceased, indicated, banking, guidelines, unfortunately, neither, family, member, distant, relative, ever, appeared, claim, said, fund, upon, discovery, officials, department, agreed, make, business, release, total, amount, account, heir, fund, since, one, came, discovered, ...]</td>\n",
       "      <td>1</td>\n",
       "    </tr>\n",
       "    <tr>\n",
       "      <th>1</th>\n",
       "      <td>[]</td>\n",
       "      <td>0</td>\n",
       "    </tr>\n",
       "    <tr>\n",
       "      <th>2</th>\n",
       "      <td>[noracheryl, emailed, dozens, memos, haiti, weekend, please, print, organize, inchrono, order, trip, tomorrow, send, lauren, thx]</td>\n",
       "      <td>0</td>\n",
       "    </tr>\n",
       "    <tr>\n",
       "      <th>3</th>\n",
       "      <td>[dear, sirmadam, know, proposal, might, surprise, emergencyin, nutshell, mr, zuma, republic, southafrica, seeking, refuge, dakar, senegal, theunhcr, got, contact, desperate, search, dakar, possible, transaction, late, father, dr, zuma, kent, williams, managing, director, gold, mine, company, south, africa, assinated, business, assoicate, properties, totally, destroyed, elder, brother, alway, hate, see, mother, eye, man, wicked, mother, managed, escape, father, documents, covering, million, dollars, presently, deposited, safely, finance, firm, name, next, kin, meanwhilewe, saddled, problem, securing, trustworthy, foriegn, personality, help, us, transfer, money, country, possession, pending, arrival, meet, furthermorewe, want, done, way, country, politically, stable, profitable, investment, accept, proposal, serve, beneficiary, fund, commencement, proposed, ...]</td>\n",
       "      <td>1</td>\n",
       "    </tr>\n",
       "    <tr>\n",
       "      <th>4</th>\n",
       "      <td>[fyi]</td>\n",
       "      <td>0</td>\n",
       "    </tr>\n",
       "  </tbody>\n",
       "</table>\n",
       "</div>"
      ],
      "text/plain": [
       "                                                                                                                                                                                                                                                                                                                                                                                                                                                                                                                                                                                                                                                                                                                                                                                                                                                                                                       text  \\\n",
       "0             [dear, sir, strictly, private, business, proposal, mike, chukwu, manager, bills, exchange, foreign, remittance, department, zenith, international, bank, plc, writing, letter, ask, support, cooperation, carry, business, opportunity, department, discovered, abandoned, sum, fifteen, million, united, states, dollars, account, belongs, one, foreign, customers, died, along, entire, family, wife, two, children, november, plane, crash, since, heard, death, expecting, nextofkin, come, put, claims, money, heirbecause, release, fund, account, unless, someone, applies, claim, nextofkin, deceased, indicated, banking, guidelines, unfortunately, neither, family, member, distant, relative, ever, appeared, claim, said, fund, upon, discovery, officials, department, agreed, make, business, release, total, amount, account, heir, fund, since, one, came, discovered, ...]   \n",
       "1                                                                                                                                                                                                                                                                                                                                                                                                                                                                                                                                                                                                                                                                                                                                                                                                                                                                                                        []   \n",
       "2                                                                                                                                                                                                                                                                                                                                                                                                                                                                                                                                                                                                                                                                                                                                                                         [noracheryl, emailed, dozens, memos, haiti, weekend, please, print, organize, inchrono, order, trip, tomorrow, send, lauren, thx]   \n",
       "3  [dear, sirmadam, know, proposal, might, surprise, emergencyin, nutshell, mr, zuma, republic, southafrica, seeking, refuge, dakar, senegal, theunhcr, got, contact, desperate, search, dakar, possible, transaction, late, father, dr, zuma, kent, williams, managing, director, gold, mine, company, south, africa, assinated, business, assoicate, properties, totally, destroyed, elder, brother, alway, hate, see, mother, eye, man, wicked, mother, managed, escape, father, documents, covering, million, dollars, presently, deposited, safely, finance, firm, name, next, kin, meanwhilewe, saddled, problem, securing, trustworthy, foriegn, personality, help, us, transfer, money, country, possession, pending, arrival, meet, furthermorewe, want, done, way, country, politically, stable, profitable, investment, accept, proposal, serve, beneficiary, fund, commencement, proposed, ...]   \n",
       "4                                                                                                                                                                                                                                                                                                                                                                                                                                                                                                                                                                                                                                                                                                                                                                                                                                                                                                     [fyi]   \n",
       "\n",
       "   label  \n",
       "0      1  \n",
       "1      0  \n",
       "2      0  \n",
       "3      1  \n",
       "4      0  "
      ]
     },
     "execution_count": 77,
     "metadata": {},
     "output_type": "execute_result"
    }
   ],
   "source": [
    "data_token.head()"
   ]
  },
  {
   "cell_type": "markdown",
   "metadata": {},
   "source": [
    "## Tame Your Text with Lemmatization\n",
    "Break sentences into words, then use lemmatization to reduce them to their base form (e.g., \"running\" becomes \"run\"). See how this creates cleaner data for analysis!"
   ]
  },
  {
   "cell_type": "code",
   "execution_count": 78,
   "metadata": {},
   "outputs": [],
   "source": [
    "from nltk.corpus import wordnet\n"
   ]
  },
  {
   "cell_type": "code",
   "execution_count": 79,
   "metadata": {},
   "outputs": [],
   "source": [
    "# Your code\n",
    "from nltk.stem import WordNetLemmatizer\n",
    "\n",
    "wordnet_lemma  = WordNetLemmatizer()\n",
    "\n",
    "\n",
    "def get_wordnet_pos(word):\n",
    "    \"\"\"Map POS tag to first character lemmatize() accepts\"\"\"\n",
    "    tag = pos_tag([word])[0][1][0]#  Get POS tag's first character (e.g., 'N' from 'NN')\n",
    "    #Maps it to a WordNet-compatible tag\n",
    "    tag_dict = {\"J\": wordnet.ADJ,\n",
    "                \"N\": wordnet.NOUN,\n",
    "                \"V\": wordnet.VERB,\n",
    "                \"R\": wordnet.ADV}\n",
    "    \n",
    "    return tag_dict.get(tag, wordnet.NOUN) # returns the word type (Noun if we have not found)\n",
    "    \n",
    "def lemmatize(lst):\n",
    "    return [wordnet_lemma.lemmatize(word,pos=get_wordnet_pos(word)) for word in lst]\n",
    "\n",
    "bow = ['this', 'is', 'a', 'beautiful', 'set', 'of', 'examples', 'blsds']"
   ]
  },
  {
   "cell_type": "code",
   "execution_count": 80,
   "metadata": {},
   "outputs": [],
   "source": [
    "\n",
    "data_lemma = data_token.copy()\n",
    "test_lemma = test_token.copy()\n",
    "\n",
    "data_lemma['text'] = data_lemma.text.apply(lemmatize)\n",
    "test_lemma['text'] = test_lemma.text.apply(lemmatize)"
   ]
  },
  {
   "cell_type": "code",
   "execution_count": 81,
   "metadata": {},
   "outputs": [
    {
     "data": {
      "text/html": [
       "<div>\n",
       "<style scoped>\n",
       "    .dataframe tbody tr th:only-of-type {\n",
       "        vertical-align: middle;\n",
       "    }\n",
       "\n",
       "    .dataframe tbody tr th {\n",
       "        vertical-align: top;\n",
       "    }\n",
       "\n",
       "    .dataframe thead th {\n",
       "        text-align: right;\n",
       "    }\n",
       "</style>\n",
       "<table border=\"1\" class=\"dataframe\">\n",
       "  <thead>\n",
       "    <tr style=\"text-align: right;\">\n",
       "      <th></th>\n",
       "      <th>text</th>\n",
       "      <th>label</th>\n",
       "    </tr>\n",
       "  </thead>\n",
       "  <tbody>\n",
       "    <tr>\n",
       "      <th>0</th>\n",
       "      <td>[dear, sir, strictly, private, business, proposal, mike, chukwu, manager, bill, exchange, foreign, remittance, department, zenith, international, bank, plc, write, letter, ask, support, cooperation, carry, business, opportunity, department, discover, abandon, sum, fifteen, million, united, state, dollar, account, belongs, one, foreign, customer, die, along, entire, family, wife, two, child, november, plane, crash, since, heard, death, expect, nextofkin, come, put, claim, money, heirbecause, release, fund, account, unless, someone, applies, claim, nextofkin, decease, indicate, banking, guideline, unfortunately, neither, family, member, distant, relative, ever, appear, claim, say, fund, upon, discovery, official, department, agree, make, business, release, total, amount, account, heir, fund, since, one, come, discover, ...]</td>\n",
       "      <td>1</td>\n",
       "    </tr>\n",
       "    <tr>\n",
       "      <th>1</th>\n",
       "      <td>[]</td>\n",
       "      <td>0</td>\n",
       "    </tr>\n",
       "    <tr>\n",
       "      <th>2</th>\n",
       "      <td>[noracheryl, email, dozen, memo, haiti, weekend, please, print, organize, inchrono, order, trip, tomorrow, send, lauren, thx]</td>\n",
       "      <td>0</td>\n",
       "    </tr>\n",
       "    <tr>\n",
       "      <th>3</th>\n",
       "      <td>[dear, sirmadam, know, proposal, might, surprise, emergencyin, nutshell, mr, zuma, republic, southafrica, seek, refuge, dakar, senegal, theunhcr, get, contact, desperate, search, dakar, possible, transaction, late, father, dr, zuma, kent, williams, manage, director, gold, mine, company, south, africa, assinated, business, assoicate, property, totally, destroyed, elder, brother, alway, hate, see, mother, eye, man, wicked, mother, manage, escape, father, document, cover, million, dollar, presently, deposit, safely, finance, firm, name, next, kin, meanwhilewe, saddle, problem, secure, trustworthy, foriegn, personality, help, u, transfer, money, country, possession, pending, arrival, meet, furthermorewe, want, do, way, country, politically, stable, profitable, investment, accept, proposal, serve, beneficiary, fund, commencement, propose, ...]</td>\n",
       "      <td>1</td>\n",
       "    </tr>\n",
       "    <tr>\n",
       "      <th>4</th>\n",
       "      <td>[fyi]</td>\n",
       "      <td>0</td>\n",
       "    </tr>\n",
       "  </tbody>\n",
       "</table>\n",
       "</div>"
      ],
      "text/plain": [
       "                                                                                                                                                                                                                                                                                                                                                                                                                                                                                                                                                                                                                                                                                                                                                                                                                                                                                 text  \\\n",
       "0                   [dear, sir, strictly, private, business, proposal, mike, chukwu, manager, bill, exchange, foreign, remittance, department, zenith, international, bank, plc, write, letter, ask, support, cooperation, carry, business, opportunity, department, discover, abandon, sum, fifteen, million, united, state, dollar, account, belongs, one, foreign, customer, die, along, entire, family, wife, two, child, november, plane, crash, since, heard, death, expect, nextofkin, come, put, claim, money, heirbecause, release, fund, account, unless, someone, applies, claim, nextofkin, decease, indicate, banking, guideline, unfortunately, neither, family, member, distant, relative, ever, appear, claim, say, fund, upon, discovery, official, department, agree, make, business, release, total, amount, account, heir, fund, since, one, come, discover, ...]   \n",
       "1                                                                                                                                                                                                                                                                                                                                                                                                                                                                                                                                                                                                                                                                                                                                                                                                                                                                                  []   \n",
       "2                                                                                                                                                                                                                                                                                                                                                                                                                                                                                                                                                                                                                                                                                                                                                       [noracheryl, email, dozen, memo, haiti, weekend, please, print, organize, inchrono, order, trip, tomorrow, send, lauren, thx]   \n",
       "3  [dear, sirmadam, know, proposal, might, surprise, emergencyin, nutshell, mr, zuma, republic, southafrica, seek, refuge, dakar, senegal, theunhcr, get, contact, desperate, search, dakar, possible, transaction, late, father, dr, zuma, kent, williams, manage, director, gold, mine, company, south, africa, assinated, business, assoicate, property, totally, destroyed, elder, brother, alway, hate, see, mother, eye, man, wicked, mother, manage, escape, father, document, cover, million, dollar, presently, deposit, safely, finance, firm, name, next, kin, meanwhilewe, saddle, problem, secure, trustworthy, foriegn, personality, help, u, transfer, money, country, possession, pending, arrival, meet, furthermorewe, want, do, way, country, politically, stable, profitable, investment, accept, proposal, serve, beneficiary, fund, commencement, propose, ...]   \n",
       "4                                                                                                                                                                                                                                                                                                                                                                                                                                                                                                                                                                                                                                                                                                                                                                                                                                                                               [fyi]   \n",
       "\n",
       "   label  \n",
       "0      1  \n",
       "1      0  \n",
       "2      0  \n",
       "3      1  \n",
       "4      0  "
      ]
     },
     "execution_count": 81,
     "metadata": {},
     "output_type": "execute_result"
    }
   ],
   "source": [
    "data_lemma.head()"
   ]
  },
  {
   "cell_type": "code",
   "execution_count": 82,
   "metadata": {},
   "outputs": [],
   "source": [
    "# rejoin the lists into single strings to get appropriate input for vectorisers\n",
    "\n",
    "data_lemma['text'] = data_lemma.text.apply(lambda x: ' '.join(x))\n",
    "test_lemma['text'] = test_lemma.text.apply(lambda x: ' '.join(x))"
   ]
  },
  {
   "cell_type": "code",
   "execution_count": 85,
   "metadata": {},
   "outputs": [
    {
     "data": {
      "text/html": [
       "<div>\n",
       "<style scoped>\n",
       "    .dataframe tbody tr th:only-of-type {\n",
       "        vertical-align: middle;\n",
       "    }\n",
       "\n",
       "    .dataframe tbody tr th {\n",
       "        vertical-align: top;\n",
       "    }\n",
       "\n",
       "    .dataframe thead th {\n",
       "        text-align: right;\n",
       "    }\n",
       "</style>\n",
       "<table border=\"1\" class=\"dataframe\">\n",
       "  <thead>\n",
       "    <tr style=\"text-align: right;\">\n",
       "      <th></th>\n",
       "      <th>text</th>\n",
       "    </tr>\n",
       "  </thead>\n",
       "  <tbody>\n",
       "    <tr>\n",
       "      <th>0</th>\n",
       "      <td>usiness fact decease man foreigner authorize law guide bank citizen country make claim fund request foreigner come business necessary facilitate release transfer fund smoothly reliable bank account survive relation decease really sure integrity trustworthy confidentiality accept cheat disappoint afte business reply telephone fax number banking account detail wish receive fund upon receipt mention information indicate interest business send fax mail letter application type send back bank enable u start transaction fail bring notice business risk free negative implication entertain fear odalities smooth easy transfer fund finalize transaction complete within bank work day immediatel start business wait urgent response please kindly delete interested regard mr</td>\n",
       "    </tr>\n",
       "    <tr>\n",
       "      <th>1</th>\n",
       "      <td>happy adjust afternoon go suggest pm start time give plenty time toreturn dc cronkite service start</td>\n",
       "    </tr>\n",
       "    <tr>\n",
       "      <th>2</th>\n",
       "      <td>lael brainard confirm afternoon miguel rodriguez deputy assistant secretary senate affair bureau legislative affair department state</td>\n",
       "    </tr>\n",
       "    <tr>\n",
       "      <th>3</th>\n",
       "      <td>friday march amsbwhoeop extend congrats</td>\n",
       "    </tr>\n",
       "    <tr>\n",
       "      <th>4</th>\n",
       "      <td>dear good friend happy inform successin get fund transfer cooperation ne partner hongkong presently hongkong investment project share total sum meanwhile ididn forget past effort attempt assist transfer fund despite failedus contact secretar cotonou benin republic hisname mr shikes umahand emailsecre ask send total kept past effort attempt toassist matter appreciate effort atthat time ver much feel free get intouchedwith secretary shikes umah instruct sendthe amount please le know immediately receive sothat share joy al sufferness time moment busy becauseof investment project new partner hand finally remember ihad forward instruction secretary behalf receive money feel free et intouch mr shikes umah send amount delay thanks god bless shikes umah mikejames james</td>\n",
       "    </tr>\n",
       "  </tbody>\n",
       "</table>\n",
       "</div>"
      ],
      "text/plain": [
       "                                                                                                                                                                                                                                                                                                                                                                                                                                                                                                                                                                                                                                                                                                                                                                                                  text\n",
       "0      usiness fact decease man foreigner authorize law guide bank citizen country make claim fund request foreigner come business necessary facilitate release transfer fund smoothly reliable bank account survive relation decease really sure integrity trustworthy confidentiality accept cheat disappoint afte business reply telephone fax number banking account detail wish receive fund upon receipt mention information indicate interest business send fax mail letter application type send back bank enable u start transaction fail bring notice business risk free negative implication entertain fear odalities smooth easy transfer fund finalize transaction complete within bank work day immediatel start business wait urgent response please kindly delete interested regard mr\n",
       "1                                                                                                                                                                                                                                                                                                                                                                                                                                                                                                                                                                                                                                                                                                  happy adjust afternoon go suggest pm start time give plenty time toreturn dc cronkite service start\n",
       "2                                                                                                                                                                                                                                                                                                                                                                                                                                                                                                                                                                                                                                                                 lael brainard confirm afternoon miguel rodriguez deputy assistant secretary senate affair bureau legislative affair department state\n",
       "3                                                                                                                                                                                                                                                                                                                                                                                                                                                                                                                                                                                                                                                                                                                                                              friday march amsbwhoeop extend congrats\n",
       "4  dear good friend happy inform successin get fund transfer cooperation ne partner hongkong presently hongkong investment project share total sum meanwhile ididn forget past effort attempt assist transfer fund despite failedus contact secretar cotonou benin republic hisname mr shikes umahand emailsecre ask send total kept past effort attempt toassist matter appreciate effort atthat time ver much feel free get intouchedwith secretary shikes umah instruct sendthe amount please le know immediately receive sothat share joy al sufferness time moment busy becauseof investment project new partner hand finally remember ihad forward instruction secretary behalf receive money feel free et intouch mr shikes umah send amount delay thanks god bless shikes umah mikejames james"
      ]
     },
     "execution_count": 85,
     "metadata": {},
     "output_type": "execute_result"
    }
   ],
   "source": [
    "test_lemma.head()"
   ]
  },
  {
   "cell_type": "markdown",
   "metadata": {},
   "source": [
    "## Bag Of Words\n",
    "Let's get the 10 top words in ham and spam messages (**EXPLORATORY DATA ANALYSIS**)"
   ]
  },
  {
   "cell_type": "code",
   "execution_count": 91,
   "metadata": {},
   "outputs": [],
   "source": [
    "X = data_lemma['text'].values\n",
    "y = data_lemma['label'].values\n",
    "\n",
    "from sklearn.model_selection import train_test_split\n",
    "\n",
    "X_train,X_test,y_train,y_test = train_test_split(X,y,test_size=0.2,random_state=8)\n",
    "\n",
    "extratest = test_lemma['text'].values"
   ]
  },
  {
   "cell_type": "code",
   "execution_count": 92,
   "metadata": {},
   "outputs": [
    {
     "name": "stdout",
     "output_type": "stream",
     "text": [
      "Top 10 words for ham:\n",
      "state: 998\n",
      "say: 890\n",
      "pm: 682\n",
      "call: 604\n",
      "would: 572\n",
      "secretary: 557\n",
      "work: 535\n",
      "obama: 508\n",
      "time: 500\n",
      "president: 490\n",
      "\n",
      "Top 10 words for spam:\n",
      "money: 4449\n",
      "account: 3838\n",
      "bank: 3784\n",
      "fund: 3461\n",
      "transfer: 2314\n",
      "transaction: 2245\n",
      "business: 2115\n",
      "country: 2100\n",
      "contact: 2043\n",
      "mr: 1941\n"
     ]
    }
   ],
   "source": [
    "\n",
    "\n",
    "# Your code\n",
    "vectorizer = CountVectorizer()\n",
    "X_train_bow = vectorizer.fit_transform(X_train)\n",
    "X_test_bow = vectorizer.transform(X_test)\n",
    "extratest_bow = vectorizer.transform(extratest)\n",
    "\n",
    "feature_names = vectorizer.get_feature_names_out()\n",
    "\n",
    "# Separate texts by label\n",
    "label_0_indices = np.where(y_train == 0)[0]\n",
    "label_1_indices = np.where(y_train == 1)[0]\n",
    "\n",
    "# Sum word counts per label\n",
    "label_0_counts = X_train_bow[label_0_indices].sum(axis=0)\n",
    "label_1_counts = X_train_bow[label_1_indices].sum(axis=0)\n",
    "\n",
    "# Convert to 1D array\n",
    "label_0_counts = np.asarray(label_0_counts).flatten()\n",
    "label_1_counts = np.asarray(label_1_counts).flatten()\n",
    "\n",
    "# Get top 10 words per label\n",
    "top_10_label_0 = np.argsort(label_0_counts)[::-1][:10]\n",
    "top_10_label_1 = np.argsort(label_1_counts)[::-1][:10]\n",
    "\n",
    "# Display results\n",
    "print(\"Top 10 words for ham:\")\n",
    "for idx in top_10_label_0:\n",
    "    print(f\"{feature_names[idx]}: {label_0_counts[idx]}\")\n",
    "\n",
    "print(\"\\nTop 10 words for spam:\")\n",
    "for idx in top_10_label_1:\n",
    "    print(f\"{feature_names[idx]}: {label_1_counts[idx]}\")\n",
    "\n"
   ]
  },
  {
   "cell_type": "code",
   "execution_count": 87,
   "metadata": {},
   "outputs": [
    {
     "data": {
      "text/plain": [
       "(5964, 91048)"
      ]
     },
     "execution_count": 87,
     "metadata": {},
     "output_type": "execute_result"
    }
   ],
   "source": [
    "X_train_bow.shape"
   ]
  },
  {
   "cell_type": "markdown",
   "metadata": {},
   "source": [
    "## Extra features"
   ]
  },
  {
   "cell_type": "code",
   "execution_count": null,
   "metadata": {},
   "outputs": [
    {
     "data": {
      "text/html": [
       "<div>\n",
       "<style scoped>\n",
       "    .dataframe tbody tr th:only-of-type {\n",
       "        vertical-align: middle;\n",
       "    }\n",
       "\n",
       "    .dataframe tbody tr th {\n",
       "        vertical-align: top;\n",
       "    }\n",
       "\n",
       "    .dataframe thead th {\n",
       "        text-align: right;\n",
       "    }\n",
       "</style>\n",
       "<table border=\"1\" class=\"dataframe\">\n",
       "  <thead>\n",
       "    <tr style=\"text-align: right;\">\n",
       "      <th></th>\n",
       "      <th>text</th>\n",
       "      <th>label</th>\n",
       "      <th>money_mark</th>\n",
       "      <th>suspicious_words</th>\n",
       "      <th>text_len</th>\n",
       "    </tr>\n",
       "  </thead>\n",
       "  <tbody>\n",
       "    <tr>\n",
       "      <th>0</th>\n",
       "      <td>DEAR SIR, STRICTLY A PRIVATE BUSINESS PROPOSAL I AM MIKE CHUKWU , THE MANAGER, BILLS AND EXCHANGE AT THE FOREIGN REMITTANCE DEPARTMENT OF THE ZENITH INTERNATIONAL BANK PLC. I AM WRITING THIS LETTER TO ASK FOR YOUR SUPPORT AND COOPERATION TO CARRY OUT THIS BUSINESS OPPORTUNITY IN MY DEPARTMENT. WE DISCOVERED AN ABANDONED SUM OF $15,000,000.00 (FIFTEEN MILLION UNITED STATES DOLLARS ONLY) IN AN ACCOUNT THAT BELONGS TO ONE OF OUR FOREIGN CUSTOMERS WHO DIED ALONG WITH HIS ENTIRE FAMILY OF A WIFE AND TWO CHILDREN IN NOVEMBER 1997 IN A PLANE CRASH. SINCE WE HEARD OF HIS DEATH, WE HAVE BEEN EXPECTING HIS NEXT-OF-KIN TO COME OVER AND PUT CLAIMS FOR HIS MONEY AS THE HEIR,BECAUSE WE CANNOT RELEASE THE FUND FROM HIS ACCOUNT UNLESS SOMEONE APPLIES FOR CLAIM AS THE NEXT-OF-KIN TO THE DECEASED AS INDICATED IN OUR BANKING GUIDELINES. UNFORTUNATELY, NEITHER THEIR FAMILY MEMBER NOR DISTANT RELATIVE HAS EVER APPEARED TO CLAIM THE SAID FUND. UPON THIS DISCOVERY,I AND OTHER OFFICIALS IN MY DEPARTMENT HAVE AGREED TO MAKE BUSINESS WITH YOU AND RELEASE THE TOTAL AMOUNT INTO YOUR ACCOUNT AS THE HEIR OF THE FUND SINCE NO ONE CAME FOR IT OR DISCOVERED HE MAINTAINED ACCOUNT WITH OUR BANK, OTHERWISE THE FUND WILL BE RETURNED TO THE BANKS TREASURY AS UNCLAIMED FUND. WE HAVE AGREED THAT OUR RATIO OF SHARING WILL BE AS STATED THUS; 30 % FOR YOU AS FOREIGN PARTNER, 60 % FOR US THE OFFICIALS IN MY DEPARTMENT AND 10% FOR THE SETTLEMENT OF ALL LOCAL AND FOREIGN EXPENCES INCURRED BY US AND YOU DURING THE COURSE OF THIS BUSINESS. UPON THE SUCCESSFUL COMPLETION OF THIS TRANSFER, I AND ONE OF MY COLLEAGUES WILL COME TO YOUR COUNTRY AND MIND OUR SHARE. IT IS FROM OUR 60 % WE INTEND TO IMPORT AGRICULTURAL MACHINERIES INTO MY COUNTRY AS A WAY OF RECYCLING THE FUND. TO COMMENCE THIS TRANSACTION, WE REQUIRE YOU TO IMMEDIATELY INDICATE YOUR INTEREST BY A RETURN E-MAIL AND ENCLOSE YOUR PRIVATE CONTACT TELEPHONE NUMBER, FAX NUMBER FULL NAME AND ADDRESS AND YOUR DESIGNATED BANK COORDINATES TO ENABLE US FILE LETTER OF CLAIM TO THE APPROPRIATE DEPARTMENTS FOR NECESSARY APPROVALS BEFORE THE TRANSFER CAN BE MADE. NOTE ALSO, THIS TRANSACTION MUST BE KEPT STRICTLY CONFIDENTIAL BECAUSE OF IT'S NATURE. I LOOK FORWARD TO RECEIVING YOUR PROMPT RESPONSE. REGARDS, MR. MIKE CHUKWU ZENITH INTERNATIONAL BANK PLC .</td>\n",
       "      <td>1</td>\n",
       "      <td>1</td>\n",
       "      <td>1</td>\n",
       "      <td>1461</td>\n",
       "    </tr>\n",
       "    <tr>\n",
       "      <th>1</th>\n",
       "      <td>Will do.</td>\n",
       "      <td>0</td>\n",
       "      <td>1</td>\n",
       "      <td>0</td>\n",
       "      <td>0</td>\n",
       "    </tr>\n",
       "    <tr>\n",
       "      <th>2</th>\n",
       "      <td>Nora--Cheryl has emailed dozens of memos about Haiti to me this weekend. Can you please print them and organize them inchrono order for me for my trip tomorrow or send to Lauren so she can do? Thx.</td>\n",
       "      <td>0</td>\n",
       "      <td>1</td>\n",
       "      <td>0</td>\n",
       "      <td>108</td>\n",
       "    </tr>\n",
       "    <tr>\n",
       "      <th>3</th>\n",
       "      <td>Dear Sir=2FMadam=2C I know that this proposal might be a surprise to you but it as an emergency=2EIn a nutshell=2C I am MR=2EP=2E ZUMA=2C from the republic of South-Africa=2C now seeking for refuge in Dakar Senegal under the=28UNHCR=29=2E   I got your contact during a desperate search here in Dakar for a possible transaction=2E My =28late=29 father DR=2E ZUMA KENT WILLIAMS=2C he was the managing director of Gold Mine company in SOUTH AFRICA=2E But he was assinated by his business assoicate and all his properties was totally destroyed by his elder brother=2E   Who alway hate to see me and my mother with his eye's=2C that man very wicked that is why i and my mother managed to escape with some of my father's documents covering $18=2E3 Million dollars which is presently deposited safely in a finance firm on my name as the next of kin=2E Meanwhile=2Cwe are saddled with the problem of securing a trust-worthy foriegn personality to help us transfer the money over to his country and into his possession pending our arrival to meet with him=2E   Furthermore=2Cwe only want this done this way because your country is politically stable for any profitable investment and only if you accept our proposal=2C you will serve as the beneficiary of the fund on commencement of this proposed transactions=2E I am giving you the offers as mentioned with every confidence on your acceptance to assist us=2C we have decided to invest 40% of the total fund based on equity participation in your company=2E   Secondly=2C we shall also take 5% out for any miscelleneous expenses that may occure=2E Conclusively=2C i wish you send me a reply immediately as soon as yourecieve this proposal so that we shall arrange on how to lift this consignment out of Dakar Senegal to your country=2E On commencement=2Cthis transaction will take nothing less than 14 working days to be accomplished=2E All documents covering the fund are safe and intact=2E i remain with the best regards=2E   Please kindly responce to this Alternative E-mail =3A p=5Fzuma1976=40walla=2Ecom Please call urgently to speak with me and my mother on this our direct telephone number =28 00 221 649 67 68  =29 Thanks yours=2C  Mr Prince Zuma=2E</td>\n",
       "      <td>1</td>\n",
       "      <td>1</td>\n",
       "      <td>1</td>\n",
       "      <td>1286</td>\n",
       "    </tr>\n",
       "    <tr>\n",
       "      <th>4</th>\n",
       "      <td>fyi</td>\n",
       "      <td>0</td>\n",
       "      <td>1</td>\n",
       "      <td>0</td>\n",
       "      <td>3</td>\n",
       "    </tr>\n",
       "  </tbody>\n",
       "</table>\n",
       "</div>"
      ],
      "text/plain": [
       "                                                                                                                                                                                                                                                                                                                                                                                                                                                                                                                                                                                                                                                                                                                                                                                                                                                                                                                                                                                                                                                                                                                                                                                                                                                                                                                                                                                                                                                                                                                                                                                                                                                                                                                                                                                                                                                                                                                                                                                                                                                                                                                                                                                                                                                                                                                                                                                   text  \\\n",
       "0  DEAR SIR, STRICTLY A PRIVATE BUSINESS PROPOSAL I AM MIKE CHUKWU , THE MANAGER, BILLS AND EXCHANGE AT THE FOREIGN REMITTANCE DEPARTMENT OF THE ZENITH INTERNATIONAL BANK PLC. I AM WRITING THIS LETTER TO ASK FOR YOUR SUPPORT AND COOPERATION TO CARRY OUT THIS BUSINESS OPPORTUNITY IN MY DEPARTMENT. WE DISCOVERED AN ABANDONED SUM OF $15,000,000.00 (FIFTEEN MILLION UNITED STATES DOLLARS ONLY) IN AN ACCOUNT THAT BELONGS TO ONE OF OUR FOREIGN CUSTOMERS WHO DIED ALONG WITH HIS ENTIRE FAMILY OF A WIFE AND TWO CHILDREN IN NOVEMBER 1997 IN A PLANE CRASH. SINCE WE HEARD OF HIS DEATH, WE HAVE BEEN EXPECTING HIS NEXT-OF-KIN TO COME OVER AND PUT CLAIMS FOR HIS MONEY AS THE HEIR,BECAUSE WE CANNOT RELEASE THE FUND FROM HIS ACCOUNT UNLESS SOMEONE APPLIES FOR CLAIM AS THE NEXT-OF-KIN TO THE DECEASED AS INDICATED IN OUR BANKING GUIDELINES. UNFORTUNATELY, NEITHER THEIR FAMILY MEMBER NOR DISTANT RELATIVE HAS EVER APPEARED TO CLAIM THE SAID FUND. UPON THIS DISCOVERY,I AND OTHER OFFICIALS IN MY DEPARTMENT HAVE AGREED TO MAKE BUSINESS WITH YOU AND RELEASE THE TOTAL AMOUNT INTO YOUR ACCOUNT AS THE HEIR OF THE FUND SINCE NO ONE CAME FOR IT OR DISCOVERED HE MAINTAINED ACCOUNT WITH OUR BANK, OTHERWISE THE FUND WILL BE RETURNED TO THE BANKS TREASURY AS UNCLAIMED FUND. WE HAVE AGREED THAT OUR RATIO OF SHARING WILL BE AS STATED THUS; 30 % FOR YOU AS FOREIGN PARTNER, 60 % FOR US THE OFFICIALS IN MY DEPARTMENT AND 10% FOR THE SETTLEMENT OF ALL LOCAL AND FOREIGN EXPENCES INCURRED BY US AND YOU DURING THE COURSE OF THIS BUSINESS. UPON THE SUCCESSFUL COMPLETION OF THIS TRANSFER, I AND ONE OF MY COLLEAGUES WILL COME TO YOUR COUNTRY AND MIND OUR SHARE. IT IS FROM OUR 60 % WE INTEND TO IMPORT AGRICULTURAL MACHINERIES INTO MY COUNTRY AS A WAY OF RECYCLING THE FUND. TO COMMENCE THIS TRANSACTION, WE REQUIRE YOU TO IMMEDIATELY INDICATE YOUR INTEREST BY A RETURN E-MAIL AND ENCLOSE YOUR PRIVATE CONTACT TELEPHONE NUMBER, FAX NUMBER FULL NAME AND ADDRESS AND YOUR DESIGNATED BANK COORDINATES TO ENABLE US FILE LETTER OF CLAIM TO THE APPROPRIATE DEPARTMENTS FOR NECESSARY APPROVALS BEFORE THE TRANSFER CAN BE MADE. NOTE ALSO, THIS TRANSACTION MUST BE KEPT STRICTLY CONFIDENTIAL BECAUSE OF IT'S NATURE. I LOOK FORWARD TO RECEIVING YOUR PROMPT RESPONSE. REGARDS, MR. MIKE CHUKWU ZENITH INTERNATIONAL BANK PLC .    \n",
       "1                                                                                                                                                                                                                                                                                                                                                                                                                                                                                                                                                                                                                                                                                                                                                                                                                                                                                                                                                                                                                                                                                                                                                                                                                                                                                                                                                                                                                                                                                                                                                                                                                                                                                                                                                                                                                                                                                                                                                                                                                                                                                                                                                                                                                                                                                                                                                                              Will do.   \n",
       "2                                                                                                                                                                                                                                                                                                                                                                                                                                                                                                                                                                                                                                                                                                                                                                                                                                                                                                                                                                                                                                                                                                                                                                                                                                                                                                                                                                                                                                                                                                                                                                                                                                                                                                                                                                                                                                                                                                                                                                                                                                                                                                                                                                                 Nora--Cheryl has emailed dozens of memos about Haiti to me this weekend. Can you please print them and organize them inchrono order for me for my trip tomorrow or send to Lauren so she can do? Thx.   \n",
       "3                                                                                               Dear Sir=2FMadam=2C I know that this proposal might be a surprise to you but it as an emergency=2EIn a nutshell=2C I am MR=2EP=2E ZUMA=2C from the republic of South-Africa=2C now seeking for refuge in Dakar Senegal under the=28UNHCR=29=2E   I got your contact during a desperate search here in Dakar for a possible transaction=2E My =28late=29 father DR=2E ZUMA KENT WILLIAMS=2C he was the managing director of Gold Mine company in SOUTH AFRICA=2E But he was assinated by his business assoicate and all his properties was totally destroyed by his elder brother=2E   Who alway hate to see me and my mother with his eye's=2C that man very wicked that is why i and my mother managed to escape with some of my father's documents covering $18=2E3 Million dollars which is presently deposited safely in a finance firm on my name as the next of kin=2E Meanwhile=2Cwe are saddled with the problem of securing a trust-worthy foriegn personality to help us transfer the money over to his country and into his possession pending our arrival to meet with him=2E   Furthermore=2Cwe only want this done this way because your country is politically stable for any profitable investment and only if you accept our proposal=2C you will serve as the beneficiary of the fund on commencement of this proposed transactions=2E I am giving you the offers as mentioned with every confidence on your acceptance to assist us=2C we have decided to invest 40% of the total fund based on equity participation in your company=2E   Secondly=2C we shall also take 5% out for any miscelleneous expenses that may occure=2E Conclusively=2C i wish you send me a reply immediately as soon as yourecieve this proposal so that we shall arrange on how to lift this consignment out of Dakar Senegal to your country=2E On commencement=2Cthis transaction will take nothing less than 14 working days to be accomplished=2E All documents covering the fund are safe and intact=2E i remain with the best regards=2E   Please kindly responce to this Alternative E-mail =3A p=5Fzuma1976=40walla=2Ecom Please call urgently to speak with me and my mother on this our direct telephone number =28 00 221 649 67 68  =29 Thanks yours=2C  Mr Prince Zuma=2E    \n",
       "4                                                                                                                                                                                                                                                                                                                                                                                                                                                                                                                                                                                                                                                                                                                                                                                                                                                                                                                                                                                                                                                                                                                                                                                                                                                                                                                                                                                                                                                                                                                                                                                                                                                                                                                                                                                                                                                                                                                                                                                                                                                                                                                                                                                                                                                                                                                                                                                   fyi   \n",
       "\n",
       "   label  money_mark  suspicious_words  text_len  \n",
       "0      1           1                 1      1461  \n",
       "1      0           1                 0         0  \n",
       "2      0           1                 0       108  \n",
       "3      1           1                 1      1286  \n",
       "4      0           1                 0         3  "
      ]
     },
     "execution_count": 88,
     "metadata": {},
     "output_type": "execute_result"
    }
   ],
   "source": [
    "# We add to the original dataframe two additional indicators (money symbols and suspicious words).\n",
    "money_simbol_list = \"|\".join([\"euro\",\"dollar\",\"pound\",\"€\",r\"\\$\"])\n",
    "suspicious_words = \"|\".join([\"free\",\"cheap\",\"sex\",\"money\",\"account\",\"bank\",\"fund\",\"transfer\",\"transaction\",\"win\",\"deposit\",\"password\"])\n",
    "\n",
    "data['money_mark'] = data_lemma['text'].str.contains(money_simbol_list)*1\n",
    "data['suspicious_words'] = data_lemma['text'].str.contains(suspicious_words)*1\n",
    "data['text_len'] = data_lemma['text'].apply(lambda x: len(x)) \n",
    "\n",
    "# what is data_val? I did my train-test-split directly on the relevant columns, not for the whole dataframes\n",
    "# data_val['money_mark'] = data_val['preprocessed_text'].str.contains(money_simbol_list)*1\n",
    "# data_val['suspicious_words'] = data_val['preprocessed_text'].str.contains(suspicious_words)*1\n",
    "# data_val['text_len'] = data_val['preprocessed_text'].apply(lambda x: len(x)) \n",
    "\n",
    "data.head()"
   ]
  },
  {
   "cell_type": "markdown",
   "metadata": {},
   "source": [
    "## How would work the Bag of Words with Count Vectorizer concept?"
   ]
  },
  {
   "cell_type": "code",
   "execution_count": null,
   "metadata": {},
   "outputs": [],
   "source": [
    "# Your code\n",
    "# I'm not sure I understand the question in this context? I fit the countVectorizer above"
   ]
  },
  {
   "cell_type": "markdown",
   "metadata": {},
   "source": [
    "## TF-IDF\n",
    "\n",
    "- Load the vectorizer\n",
    "\n",
    "- Vectorize all dataset\n",
    "\n",
    "- print the shape of the vetorized dataset"
   ]
  },
  {
   "cell_type": "code",
   "execution_count": 93,
   "metadata": {},
   "outputs": [
    {
     "data": {
      "text/plain": [
       "(4771, 73088)"
      ]
     },
     "execution_count": 93,
     "metadata": {},
     "output_type": "execute_result"
    }
   ],
   "source": [
    "# Your code\n",
    "\n",
    "tfidfvectorizer = TfidfVectorizer()\n",
    "tfidf_matrix = tfidfvectorizer.fit_transform(X_train)\n",
    "feature_names = tfidfvectorizer.get_feature_names_out()\n",
    "X_train_tfidf = tfidf_matrix.toarray()\n",
    "\n",
    "X_train_tfidf.shape\n"
   ]
  },
  {
   "cell_type": "markdown",
   "metadata": {},
   "source": [
    "## And the Train a Classifier?"
   ]
  },
  {
   "cell_type": "code",
   "execution_count": null,
   "metadata": {},
   "outputs": [],
   "source": [
    "# Your code\n",
    "\n",
    "X_test_tfidf = tfidfvectorizer.transform(X_test).toarray()\n",
    "\n",
    "from sklearn.linear_model import LogisticRegression\n",
    "from sklearn.metrics import classification_report,confusion_matrix\n",
    "\n",
    "logreg = LogisticRegression(random_state=6)\n",
    "logreg.fit(X_train_tfidf,y_train)\n",
    "\n",
    "y_pred = logreg.predict(X_test_tfidf)\n",
    "\n",
    "\n"
   ]
  },
  {
   "cell_type": "code",
   "execution_count": 100,
   "metadata": {},
   "outputs": [
    {
     "name": "stdout",
     "output_type": "stream",
     "text": [
      "[[657   2]\n",
      " [ 43 491]]\n",
      "              precision    recall  f1-score   support\n",
      "\n",
      "           0       0.94      1.00      0.97       659\n",
      "           1       1.00      0.92      0.96       534\n",
      "\n",
      "    accuracy                           0.96      1193\n",
      "   macro avg       0.97      0.96      0.96      1193\n",
      "weighted avg       0.96      0.96      0.96      1193\n",
      "\n"
     ]
    }
   ],
   "source": [
    "\n",
    "print(confusion_matrix(y_test,y_pred))\n",
    "print(classification_report(y_test,y_pred))"
   ]
  },
  {
   "cell_type": "code",
   "execution_count": 102,
   "metadata": {},
   "outputs": [
    {
     "data": {
      "text/plain": [
       "array([1, 0, 0, ..., 0, 0, 0])"
      ]
     },
     "execution_count": 102,
     "metadata": {},
     "output_type": "execute_result"
    }
   ],
   "source": [
    "# the result is quite decent with 96% accuracy\n",
    "# now we could also make predictions for the unlabeled test set\n",
    "\n",
    "extratest_tfidf = tfidfvectorizer.transform(extratest).toarray()\n",
    "testresults = logreg.predict(extratest_tfidf)\n",
    "testresults"
   ]
  },
  {
   "cell_type": "markdown",
   "metadata": {},
   "source": [
    "### Extra Task - Implement a SPAM/HAM classifier\n",
    "\n",
    "https://www.kaggle.com/t/b384e34013d54d238490103bc3c360ce\n",
    "\n",
    "The classifier can not be changed!!! It must be the MultinimialNB with default parameters!\n",
    "\n",
    "Your task is to **find the most relevant features**.\n",
    "\n",
    "For example, you can test the following options and check which of them performs better:\n",
    "- Using \"Bag of Words\" only\n",
    "- Using \"TF-IDF\" only\n",
    "- Bag of Words + extra flags (money_mark, suspicious_words, text_len)\n",
    "- TF-IDF + extra flags\n",
    "\n",
    "\n",
    "You can work with teams of two persons (recommended)."
   ]
  },
  {
   "cell_type": "code",
   "execution_count": null,
   "metadata": {},
   "outputs": [],
   "source": [
    "# Your code"
   ]
  }
 ],
 "metadata": {
  "celltoolbar": "Slideshow",
  "kernelspec": {
   "display_name": "nlp.venv",
   "language": "python",
   "name": "python3"
  },
  "language_info": {
   "codemirror_mode": {
    "name": "ipython",
    "version": 3
   },
   "file_extension": ".py",
   "mimetype": "text/x-python",
   "name": "python",
   "nbconvert_exporter": "python",
   "pygments_lexer": "ipython3",
   "version": "3.12.3"
  }
 },
 "nbformat": 4,
 "nbformat_minor": 2
}
