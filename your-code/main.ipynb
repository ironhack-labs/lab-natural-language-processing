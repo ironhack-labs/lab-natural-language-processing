{
 "cells": [
  {
   "cell_type": "code",
   "execution_count": 8,
   "metadata": {},
   "outputs": [
    {
     "data": {
      "text/html": [
       "<style>.container { width:100% !important; }</style>"
      ],
      "text/plain": [
       "<IPython.core.display.HTML object>"
      ]
     },
     "metadata": {},
     "output_type": "display_data"
    }
   ],
   "source": [
    "from IPython.display import display, HTML\n",
    "display(HTML(\"<style>.container { width:100% !important; }</style>\"))\n"
   ]
  },
  {
   "cell_type": "markdown",
   "metadata": {},
   "source": [
    "# Lab | Natural Language Processing\n",
    "### SMS: SPAM or HAM"
   ]
  },
  {
   "cell_type": "markdown",
   "metadata": {},
   "source": [
    "### Let's prepare the environment"
   ]
  },
  {
   "cell_type": "code",
   "execution_count": 10,
   "metadata": {},
   "outputs": [],
   "source": [
    "# Importing the pandas library for data manipulation and analysis\n",
    "import pandas as pd\n",
    "\n",
    "# Importing the matplotlib library for creating visualizations\n",
    "import matplotlib.pyplot as plt\n",
    "\n",
    "# Importing the TfidfVectorizer class from sklearn to transform text data into TF-IDF feature vectors\n",
    "from sklearn.feature_extraction.text import TfidfVectorizer\n"
   ]
  },
  {
   "cell_type": "markdown",
   "metadata": {},
   "source": [
    "- Read Data for the Fraudulent Email Kaggle Challenge\n",
    "- Reduce the training set to speed up development. "
   ]
  },
  {
   "cell_type": "code",
   "execution_count": 12,
   "metadata": {},
   "outputs": [
    {
     "name": "stdout",
     "output_type": "stream",
     "text": [
      "Dataset shape: 1000 rows and 2 columns\n",
      "\n",
      "First few rows of the dataset:\n",
      "                                                text  label\n",
      "0  DEAR SIR, STRICTLY A PRIVATE BUSINESS PROPOSAL...      1\n",
      "1                                           Will do.      0\n",
      "2  Nora--Cheryl has emailed dozens of memos about...      0\n",
      "3  Dear Sir=2FMadam=2C I know that this proposal ...      1\n",
      "4                                                fyi      0\n",
      "\n",
      "Dataset columns and data types:\n",
      "<class 'pandas.core.frame.DataFrame'>\n",
      "RangeIndex: 1000 entries, 0 to 999\n",
      "Data columns (total 2 columns):\n",
      " #   Column  Non-Null Count  Dtype \n",
      "---  ------  --------------  ----- \n",
      " 0   text    1000 non-null   object\n",
      " 1   label   1000 non-null   int64 \n",
      "dtypes: int64(1), object(1)\n",
      "memory usage: 15.8+ KB\n",
      "None\n"
     ]
    }
   ],
   "source": [
    "## Read Data for the Fraudulent Email Kaggle Challenge\n",
    "data = pd.read_csv(\"../data/kg_train.csv\", encoding='latin-1')\n",
    "\n",
    "# Reduce the training set to speed up development. \n",
    "# Modify for final system\n",
    "data = data.head(1000)\n",
    "\n",
    "# Fill missing values with an empty string\n",
    "data.fillna(\"\", inplace=True)\n",
    "\n",
    "# Display the shape of the dataset\n",
    "print(f\"Dataset shape: {data.shape[0]} rows and {data.shape[1]} columns\")\n",
    "\n",
    "# Display the first few rows of the dataset\n",
    "print(\"\\nFirst few rows of the dataset:\")\n",
    "print(data.head())\n",
    "\n",
    "# Display column names and data types\n",
    "print(\"\\nDataset columns and data types:\")\n",
    "print(data.info())\n"
   ]
  },
  {
   "cell_type": "markdown",
   "metadata": {},
   "source": [
    "### Dataset Overview\n",
    "\n",
    "The dataset contains **1000 rows and 2 columns**, as shown below:\n",
    "\n",
    "1. **`text`**: The content of the messages (object type).\n",
    "2. **`label`**: The classification label (integer type):\n",
    "   - `0`: HAM (not spam).\n",
    "   - `1`: SPAM (spam message).\n",
    "\n",
    "#### Sample Data:\n",
    "| Index | Text                                                   | Label |\n",
    "|-------|--------------------------------------------------------|-------|\n",
    "| 0     | DEAR SIR, STRICTLY A PRIVATE BUSINESS PROPOSAL...      | 1     |\n",
    "| 1     | Will do.                                               | 0     |\n",
    "| 2     | Nora--Cheryl has emailed dozens of memos about...      | 0     |\n",
    "| 3     | Dear Sir=2FMadam=2C I know that this proposal ...      | 1     |\n",
    "| 4     | fyi                                                    | 0     |\n",
    "\n",
    "#### Column Summary:\n",
    "- `text`: Contains no null values and stores the messages.\n",
    "- `label`: Contains no null values and stores the classification as 0 (HAM) or 1 (SPAM).\n"
   ]
  },
  {
   "cell_type": "markdown",
   "metadata": {},
   "source": [
    "### Let's divide the training and test set into two partitions"
   ]
  },
  {
   "cell_type": "code",
   "execution_count": 14,
   "metadata": {},
   "outputs": [
    {
     "name": "stdout",
     "output_type": "stream",
     "text": [
      "Training set size: 800\n",
      "Test set size: 200\n"
     ]
    }
   ],
   "source": [
    "# Your code\n",
    "\n",
    "# Splitting the dataset into training and testing sets\n",
    "from sklearn.model_selection import train_test_split\n",
    "\n",
    "# Features (text data) and target (labels)\n",
    "X = data['text']  # Messages (input features)\n",
    "y = data['label']  # SPAM or HAM labels (target)\n",
    "\n",
    "# Splitting the data: 80% training and 20% testing\n",
    "X_train, X_test, y_train, y_test = train_test_split(X, y, test_size=0.2, random_state=42)\n",
    "\n",
    "# Display the sizes of the training and test sets\n",
    "print(\"Training set size:\", len(X_train))\n",
    "print(\"Test set size:\", len(X_test))\n"
   ]
  },
  {
   "cell_type": "markdown",
   "metadata": {},
   "source": [
    "### Dataset Splitting\n",
    "\n",
    "The dataset was split into training and testing sets to prepare for model training and evaluation:\n",
    "\n",
    "- **Training set**: 800 rows (80% of the dataset).\n",
    "- **Test set**: 200 rows (20% of the dataset).\n",
    "\n",
    "This split ensures we have sufficient data to train the model while reserving a portion for testing its performance on unseen data.\n"
   ]
  },
  {
   "cell_type": "markdown",
   "metadata": {},
   "source": [
    "## Data Preprocessing"
   ]
  },
  {
   "cell_type": "code",
   "execution_count": 16,
   "metadata": {},
   "outputs": [
    {
     "name": "stdout",
     "output_type": "stream",
     "text": [
      "Punctuation characters: !\"#$%&'()*+,-./:;<=>?@[\\]^_`{|}~\n",
      "Sample stopwords: ['here', 'there', 'when', 'where', 'why', 'how', 'all', 'any', 'both', 'each']\n"
     ]
    },
    {
     "name": "stderr",
     "output_type": "stream",
     "text": [
      "[nltk_data] Downloading package stopwords to\n",
      "[nltk_data]     C:\\Users\\Mory\\AppData\\Roaming\\nltk_data...\n",
      "[nltk_data]   Package stopwords is already up-to-date!\n"
     ]
    }
   ],
   "source": [
    "# Importing the NLTK library and downloading the stopwords dataset\n",
    "import nltk\n",
    "nltk.download('stopwords')\n",
    "\n",
    "# Importing the string module to access a list of punctuation characters\n",
    "import string\n",
    "\n",
    "# Importing the stopwords from the NLTK library to remove common words (e.g., \"the\", \"is\")\n",
    "from nltk.corpus import stopwords\n",
    "\n",
    "# Print all punctuation characters for reference\n",
    "print(\"Punctuation characters:\", string.punctuation)\n",
    "\n",
    "# Print a sample of stopwords (10 words) for reference\n",
    "print(\"Sample stopwords:\", stopwords.words(\"english\")[100:110])\n",
    "\n",
    "# Importing the SnowballStemmer from the NLTK library for stemming (reducing words to their root form)\n",
    "from nltk.stem.snowball import SnowballStemmer\n",
    "\n",
    "# Initializing the Snowball Stemmer for English\n",
    "snowball = SnowballStemmer('english')\n"
   ]
  },
  {
   "cell_type": "markdown",
   "metadata": {},
   "source": [
    "### Preprocessing Tools Overview\n",
    "\n",
    "In this step, we explored the tools required for text preprocessing:\n",
    "\n",
    "- **Punctuation Characters**:\n",
    "  These are the characters that will be removed during preprocessing:\n",
    "  `!\"#$%&'()*+,-./:;<=>?@[\\]^_`{|}~`\n",
    "\n",
    "- **Stopwords**:\n",
    "  Stopwords are common words (e.g., \"the\", \"is\", \"and\") that will be removed to focus on meaningful content. A sample includes:\n",
    "  `['here', 'there', 'when', 'where', 'why', 'how', 'all', 'any', 'both', 'each']`\n",
    "\n",
    "- **Stemming**:\n",
    "  We initialized the **Snowball Stemmer**, which reduces words to their root form (e.g., \"running\" becomes \"run\"), aiding in text normalization.\n",
    "\n",
    "These tools prepare the text for effective cleaning and tokenization in the next steps.\n"
   ]
  },
  {
   "cell_type": "markdown",
   "metadata": {},
   "source": [
    "## Now, we have to clean the html code removing words\n",
    "\n",
    "- First we remove inline JavaScript/CSS\n",
    "- Then we remove html comments. This has to be done before removing regular tags since comments can contain '>' characters\n",
    "- Next we can remove the remaining tags"
   ]
  },
  {
   "cell_type": "code",
   "execution_count": 20,
   "metadata": {},
   "outputs": [
    {
     "name": "stdout",
     "output_type": "stream",
     "text": [
      "                                                text  \\\n",
      "0  DEAR SIR, STRICTLY A PRIVATE BUSINESS PROPOSAL...   \n",
      "1                                           Will do.   \n",
      "2  Nora--Cheryl has emailed dozens of memos about...   \n",
      "3  Dear Sir=2FMadam=2C I know that this proposal ...   \n",
      "4                                                fyi   \n",
      "5  sure -- bottom line - you need a special secur...   \n",
      "6  Dear Sir,I am Engr. Ugo Nzego with the Enginee...   \n",
      "7  Abedin Huma <AbedinH@state.gov>Saturday Novemb...   \n",
      "8  There is an Oct 16th George Marshall event at ...   \n",
      "9  <P>1 25% for you as the account owner <BR>2 65...   \n",
      "\n",
      "                                   html_cleaned_text  \n",
      "0  DEAR SIR, STRICTLY A PRIVATE BUSINESS PROPOSAL...  \n",
      "1                                           Will do.  \n",
      "2  Nora--Cheryl has emailed dozens of memos about...  \n",
      "3  Dear Sir=2FMadam=2C I know that this proposal ...  \n",
      "4                                                fyi  \n",
      "5  sure -- bottom line - you need a special secur...  \n",
      "6  Dear Sir,I am Engr. Ugo Nzego with the Enginee...  \n",
      "7  Abedin Huma Saturday November 28 2009 5:14 PMH...  \n",
      "8  There is an Oct 16th George Marshall event at ...  \n",
      "9  1 25% for you as the account owner 2 65% for I...  \n"
     ]
    }
   ],
   "source": [
    "from bs4 import BeautifulSoup  # Importing BeautifulSoup for HTML parsing\n",
    "import re  # Importing the re module for regular expressions\n",
    "\n",
    "# Disable all BeautifulSoup warnings\n",
    "import warnings\n",
    "warnings.filterwarnings(\"ignore\", message=\"The input looks more like a filename than markup\")\n",
    "warnings.filterwarnings(\"ignore\", message=\"The input looks more like a URL than markup\")\n",
    "\n",
    "def clean_html(text):\n",
    "    \"\"\"\n",
    "    Function to clean HTML content from text.\n",
    "    Removes inline JavaScript/CSS, comments, and HTML tags.\n",
    "    \"\"\"\n",
    "    try:\n",
    "        # Parse the HTML content\n",
    "        soup = BeautifulSoup(text, \"html.parser\")\n",
    "        \n",
    "        # Remove inline JavaScript and CSS\n",
    "        for script_or_style in soup([\"script\", \"style\"]):\n",
    "            script_or_style.decompose()\n",
    "        \n",
    "        # Remove HTML comments\n",
    "        html_cleaned_text = re.sub(r\"<!--.*?-->\", \"\", soup.get_text(), flags=re.DOTALL)\n",
    "        \n",
    "        # Remove remaining HTML tags\n",
    "        html_cleaned_text = re.sub(r\"<.*?>\", \"\", html_cleaned_text)\n",
    "        \n",
    "        return html_cleaned_text.strip()  # Return the cleaned text with extra spaces removed\n",
    "    except Exception as e:\n",
    "        # Return the text unchanged if there's an issue\n",
    "        return text\n",
    "\n",
    "# Apply the cleaning function to the 'text' column\n",
    "data['html_cleaned_text'] = data['text'].apply(clean_html)\n",
    "\n",
    "# Display the first few rows of the dataset to verify\n",
    "print(data[['text', 'html_cleaned_text']].head(10))\n"
   ]
  },
  {
   "cell_type": "markdown",
   "metadata": {},
   "source": [
    "### Cleaning HTML Content\n",
    "\n",
    "We cleaned the `text` column in the dataset to remove unnecessary HTML content. The following steps were performed:\n",
    "\n",
    "1. **Removed Inline JavaScript/CSS**: Any `<script>` or `<style>` tags were identified and removed.\n",
    "2. **Removed HTML Comments**: Content within `<!-- -->` was stripped.\n",
    "3. **Removed Remaining HTML Tags**: All other HTML tags were eliminated, leaving only plain text.\n",
    "4. **Handled Warnings**: Suppressed BeautifulSoup warnings related to input resembling filenames or URLs to avoid unnecessary interruptions.\n",
    "\n",
    "#### Output Example:\n",
    "The `html_cleaned_text` column now contains the processed text:\n",
    "| Index | Original Text                                           | HTML Cleaned Text                                     |\n",
    "|-------|---------------------------------------------------------|------------------------------------------------------|\n",
    "| 0     | DEAR SIR, STRICTLY A PRIVATE BUSINESS PROPOSAL...       | DEAR SIR, STRICTLY A PRIVATE BUSINESS PROPOSAL...    |\n",
    "| 1     | Will do.                                                | Will do.                                             |\n",
    "| 2     | Nora--Cheryl has emailed dozens of memos about...       | Nora--Cheryl has emailed dozens of memos about...    |\n",
    "| 3     | Dear Sir=2FMadam=2C I know that this proposal ...       | Dear Sir=2FMadam=2C I know that this proposal ...    |\n",
    "| 4     | fyi                                                     | fyi                                                  |\n",
    "| 7     | Abedin Huma &lt;AbedinH@state.gov&gt;Saturday November... | Abedin Huma Saturday November 28 2009 5:14 PMH...   |\n",
    "| 9     | &lt;P&gt;1 25% for you as the account owner &lt;BR&gt;2 65%... | 1 25% for you as the account owner 2 65% for I...    |\n",
    "\n",
    "### Key Observations:\n",
    "1. Rows like **7** and **9** contained HTML elements or tags in the original `text` column, which were successfully removed in the `html_cleaned_text` column.\n",
    "2. This prepares the dataset for the next steps in text preprocessing, such as tokenization, stemming, or lemmatization.\n"
   ]
  },
  {
   "cell_type": "markdown",
   "metadata": {},
   "source": [
    "- Remove all the special characters\n",
    "    \n",
    "- Remove numbers\n",
    "    \n",
    "- Remove all single characters\n",
    " \n",
    "- Remove single characters from the start\n",
    "\n",
    "- Substitute multiple spaces with single space\n",
    "\n",
    "- Remove prefixed 'b'\n",
    "\n",
    "- Convert to Lowercase"
   ]
  },
  {
   "cell_type": "code",
   "execution_count": 22,
   "metadata": {},
   "outputs": [
    {
     "name": "stdout",
     "output_type": "stream",
     "text": [
      "                                   html_cleaned_text  \\\n",
      "0  DEAR SIR, STRICTLY A PRIVATE BUSINESS PROPOSAL...   \n",
      "1                                           Will do.   \n",
      "2  Nora--Cheryl has emailed dozens of memos about...   \n",
      "3  Dear Sir=2FMadam=2C I know that this proposal ...   \n",
      "4                                                fyi   \n",
      "5  sure -- bottom line - you need a special secur...   \n",
      "6  Dear Sir,I am Engr. Ugo Nzego with the Enginee...   \n",
      "7  Abedin Huma Saturday November 28 2009 5:14 PMH...   \n",
      "8  There is an Oct 16th George Marshall event at ...   \n",
      "9  1 25% for you as the account owner 2 65% for I...   \n",
      "\n",
      "                                     normalized_text  \n",
      "0  dear sir strictly private business proposal am...  \n",
      "1                                            will do  \n",
      "2  noracheryl has emailed dozens of memos about h...  \n",
      "3  dear sirfmadamc know that this proposal might ...  \n",
      "4                                                fyi  \n",
      "5  sure bottom line you need special security cod...  \n",
      "6  dear siri am engr ugo nzego with the engineeri...  \n",
      "7  abedin huma saturday november pmhfw quint fmsi...  \n",
      "8  there is an oct th george marshall event at th...  \n",
      "9  for you as the account owner for and my collea...  \n"
     ]
    }
   ],
   "source": [
    "# Your code\n",
    "\n",
    "def preprocess_text(text):\n",
    "    \"\"\"\n",
    "    Function to preprocess text by removing special characters, numbers, \n",
    "    single characters, and unnecessary spaces, and converting to lowercase.\n",
    "    \"\"\"\n",
    "    # Remove special characters and numbers\n",
    "    text = re.sub(r\"[^a-zA-Z\\s]\", \"\", text)\n",
    "    \n",
    "    # Remove all single characters\n",
    "    text = re.sub(r\"\\b[a-zA-Z]\\b\", \"\", text)\n",
    "    \n",
    "    # Substitute multiple spaces with a single space\n",
    "    text = re.sub(r\"\\s+\", \" \", text)\n",
    "    \n",
    "    # Convert to lowercase\n",
    "    text = text.lower()\n",
    "    \n",
    "    return text.strip()\n",
    "\n",
    "# Apply the preprocessing function to the html_cleaned_text column\n",
    "data['normalized_text'] = data['html_cleaned_text'].apply(preprocess_text)\n",
    "\n",
    "# Display the first few rows of the dataset to verify\n",
    "print(data[['html_cleaned_text', 'normalized_text']].head(10))\n"
   ]
  },
  {
   "cell_type": "markdown",
   "metadata": {},
   "source": [
    "### Text Preprocessing: Removing Special Characters, Numbers, and Normalizing Text\n",
    "\n",
    "We further processed the `html_cleaned_text` column to prepare the text for analysis. The following preprocessing steps were applied:\n",
    "\n",
    "1. **Removed Special Characters**: Symbols like `@`, `#`, `&`, and punctuation marks were removed.\n",
    "2. **Removed Numbers**: All numeric values were stripped from the text.\n",
    "3. **Removed Single Characters**: Any standalone single letters (e.g., `a`, `b`) were removed.\n",
    "4. **Substituted Multiple Spaces**: Consecutive spaces were replaced with a single space.\n",
    "5. **Converted to Lowercase**: All text was normalized to lowercase.\n",
    "\n",
    "#### Why Call It \"Normalized Text\"?\n",
    "The column is called `normalized_text` because these preprocessing steps bring the text into a uniform, consistent format, making it easier to analyze. By removing noise (special characters, numbers, and single letters) and standardizing case and spacing, we ensure the text is clean and ready for downstream tasks like tokenization, stemming, or lemmatization. This process is referred to as **text normalization** in NLP.\n",
    "\n",
    "#### Output Example:\n",
    "The `normalized_text` column now contains the fully preprocessed text:\n",
    "| Index | HTML Cleaned Text                                     | Normalized Text                                     |\n",
    "|-------|-------------------------------------------------------|----------------------------------------------------|\n",
    "| 0     | DEAR SIR, STRICTLY A PRIVATE BUSINESS PROPOSAL...     | dear sir strictly private business proposal am...  |\n",
    "| 1     | Will do.                                              | will do                                            |\n",
    "| 2     | Nora--Cheryl has emailed dozens of memos about...     | noracheryl has emailed dozens of memos about h...  |\n",
    "| 3     | Dear Sir=2FMadam=2C I know that this proposal ...     | dear sirfmadamc know that this proposal might ...  |\n",
    "| 4     | fyi                                                   | fyi                                               |\n",
    "| 5     | sure -- bottom line - you need a special secur...      | sure bottom line you need special security cod... |\n",
    "| 6     | Dear Sir,I am Engr. Ugo Nzego with the Enginee...      | dear siri am engr ugo nzego with the engineeri... |\n",
    "| 7     | Abedin Huma Saturday November 28 2009 5:14 PMH...     | abedin huma saturday november pmhfw quint fmsi... |\n",
    "| 8     | There is an Oct 16th George Marshall event at ...      | there is an oct th george marshall event at th... |\n",
    "| 9     | 1 25% for you as the account owner 2 65% for...        | for you as the account owner for and my collea...  |\n",
    "\n",
    "### Key Observations:\n",
    "1. Text is now clean, with all unnecessary symbols, numbers, and spaces removed.\n",
    "2. The normalized text is consistent and ready for further steps like tokenization, stemming, or lemmatization.\n"
   ]
  },
  {
   "cell_type": "markdown",
   "metadata": {
    "slideshow": {
     "slide_type": "-"
    }
   },
   "source": [
    "## Now let's work on removing stopwords\n",
    "Remove the stopwords."
   ]
  },
  {
   "cell_type": "code",
   "execution_count": 24,
   "metadata": {},
   "outputs": [
    {
     "name": "stdout",
     "output_type": "stream",
     "text": [
      "                                     normalized_text  \\\n",
      "0  dear sir strictly private business proposal am...   \n",
      "1                                            will do   \n",
      "2  noracheryl has emailed dozens of memos about h...   \n",
      "3  dear sirfmadamc know that this proposal might ...   \n",
      "4                                                fyi   \n",
      "5  sure bottom line you need special security cod...   \n",
      "6  dear siri am engr ugo nzego with the engineeri...   \n",
      "7  abedin huma saturday november pmhfw quint fmsi...   \n",
      "8  there is an oct th george marshall event at th...   \n",
      "9  for you as the account owner for and my collea...   \n",
      "\n",
      "                               stopword_removed_text  \n",
      "0  dear sir strictly private business proposal mi...  \n",
      "1                                                     \n",
      "2  noracheryl emailed dozens memos haiti weekend ...  \n",
      "3  dear sirfmadamc know proposal might surprise e...  \n",
      "4                                                fyi  \n",
      "5  sure bottom line need special security code ge...  \n",
      "6  dear siri engr ugo nzego engineering stores de...  \n",
      "7  abedin huma saturday november pmhfw quint fmsi...  \n",
      "8  oct th george marshall event department tentat...  \n",
      "9  account owner colleagues set aside defray inci...  \n"
     ]
    }
   ],
   "source": [
    "# Your code\n",
    "\n",
    "from nltk.corpus import stopwords\n",
    "\n",
    "# Define the stopwords list for English\n",
    "stop_words = set(stopwords.words(\"english\"))\n",
    "\n",
    "def remove_stopwords(text):\n",
    "    \"\"\"\n",
    "    Function to remove stopwords from the text.\n",
    "    \"\"\"\n",
    "    # Tokenize the text into words, filter out stopwords, and join them back\n",
    "    filtered_text = \" \".join([word for word in text.split() if word not in stop_words])\n",
    "    return filtered_text\n",
    "\n",
    "# Apply the function to the normalized_text column\n",
    "data['stopword_removed_text'] = data['normalized_text'].apply(remove_stopwords)\n",
    "\n",
    "# Display the first few rows of the dataset to verify\n",
    "print(data[['normalized_text', 'stopword_removed_text']].head(10))\n"
   ]
  },
  {
   "cell_type": "markdown",
   "metadata": {},
   "source": [
    "### Text Preprocessing: Removing Stopwords\n",
    "\n",
    "We further processed the `normalized_text` column to remove common stopwords, which are words that often don't add significant meaning (e.g., \"the\", \"is\", \"and\"). This step ensures that the text focuses on the most informative words for analysis.\n",
    "\n",
    "#### Steps Performed:\n",
    "1. **Loaded Stopwords**: Used the NLTK `stopwords` list for English.\n",
    "2. **Tokenized and Filtered**: Split the text into words, removed those found in the stopwords list, and rejoined the remaining words into a cleaned text string.\n",
    "3. **Stored Results**: Created a new column, `stopword_removed_text`, containing the final text after stopwords were removed.\n",
    "\n",
    "#### Output Example:\n",
    "| Index | Normalized Text                                     | Stopword Removed Text                              |\n",
    "|-------|----------------------------------------------------|---------------------------------------------------|\n",
    "| 0     | dear sir strictly private business proposal am...  | dear sir strictly private business proposal mi... |\n",
    "| 1     | will do                                            |                                                   |\n",
    "| 2     | noracheryl has emailed dozens of memos about h...  | noracheryl emailed dozens memos haiti weekend ... |\n",
    "| 3     | dear sirfmadamc know that this proposal might ...  | dear sirfmadamc know proposal might surprise e... |\n",
    "| 4     | fyi                                                | fyi                                               |\n",
    "| 5     | sure bottom line you need special security cod...  | sure bottom line need special security code ge... |\n",
    "| 6     | dear siri am engr ugo nzego with the engineeri...  | dear siri engr ugo nzego engineering stores de... |\n",
    "| 7     | abedin huma saturday november pmhfw quint fmsi...  | abedin huma saturday november pmhfw quint fmsi... |\n",
    "| 8     | there is an oct th george marshall event at th...  | oct th george marshall event department tentat... |\n",
    "| 9     | for you as the account owner for and my collea...  | account owner colleagues set aside defray inci... |\n",
    "\n",
    "### Key Observations:\n",
    "1. Words like **\"you\", \"need\", \"is\"** and similar stopwords were removed, leaving only meaningful words.\n",
    "2. The `stopword_removed_text` column contains text that is more concise and focused on the key content of each message.\n",
    "3. This step prepares the text for further NLP tasks such as vectorization or classification.\n",
    "\n"
   ]
  },
  {
   "cell_type": "markdown",
   "metadata": {},
   "source": [
    "## Tame Your Text with Lemmatization\n",
    "Break sentences into words, then use lemmatization to reduce them to their base form (e.g., \"running\" becomes \"run\"). See how this creates cleaner data for analysis!"
   ]
  },
  {
   "cell_type": "code",
   "execution_count": 6,
   "metadata": {},
   "outputs": [
    {
     "name": "stderr",
     "output_type": "stream",
     "text": [
      "[nltk_data] Downloading package punkt to\n",
      "[nltk_data]     C:\\Users\\Mory\\AppData\\Roaming\\nltk_data...\n",
      "[nltk_data]   Package punkt is already up-to-date!\n",
      "[nltk_data] Downloading package wordnet to\n",
      "[nltk_data]     C:\\Users\\Mory\\AppData\\Roaming\\nltk_data...\n",
      "[nltk_data]   Package wordnet is already up-to-date!\n",
      "[nltk_data] Downloading package stopwords to\n",
      "[nltk_data]     C:\\Users\\Mory\\AppData\\Roaming\\nltk_data...\n",
      "[nltk_data]   Package stopwords is already up-to-date!\n",
      "[nltk_data] Downloading package omw-1.4 to\n",
      "[nltk_data]     C:\\Users\\Mory\\AppData\\Roaming\\nltk_data...\n",
      "[nltk_data]   Package omw-1.4 is already up-to-date!\n"
     ]
    },
    {
     "data": {
      "text/plain": [
       "True"
      ]
     },
     "execution_count": 6,
     "metadata": {},
     "output_type": "execute_result"
    }
   ],
   "source": [
    "import nltk\n",
    "# Download necessary NLTK resources\n",
    "nltk.download('punkt')\n",
    "nltk.download('wordnet')\n",
    "nltk.download('stopwords')\n",
    "nltk.download('omw-1.4')\n"
   ]
  },
  {
   "cell_type": "code",
   "execution_count": 26,
   "metadata": {},
   "outputs": [
    {
     "name": "stdout",
     "output_type": "stream",
     "text": [
      "                               stopword_removed_text  \\\n",
      "0  dear sir strictly private business proposal mi...   \n",
      "1                                                      \n",
      "2  noracheryl emailed dozens memos haiti weekend ...   \n",
      "3  dear sirfmadamc know proposal might surprise e...   \n",
      "4                                                fyi   \n",
      "5  sure bottom line need special security code ge...   \n",
      "6  dear siri engr ugo nzego engineering stores de...   \n",
      "7  abedin huma saturday november pmhfw quint fmsi...   \n",
      "8  oct th george marshall event department tentat...   \n",
      "9  account owner colleagues set aside defray inci...   \n",
      "\n",
      "                                     lemmatized_text  \n",
      "0  dear sir strictly private business proposal mi...  \n",
      "1                                                     \n",
      "2  noracheryl emailed dozen memo haiti weekend pl...  \n",
      "3  dear sirfmadamc know proposal might surprise e...  \n",
      "4                                                fyi  \n",
      "5  sure bottom line need special security code ge...  \n",
      "6  dear siri engr ugo nzego engineering store dep...  \n",
      "7  abedin huma saturday november pmhfw quint fmsi...  \n",
      "8  oct th george marshall event department tentat...  \n",
      "9  account owner colleague set aside defray incid...  \n"
     ]
    }
   ],
   "source": [
    "# Your code\n",
    "\n",
    "# Importing WordNetLemmatizer from NLTK\n",
    "from nltk.stem import WordNetLemmatizer\n",
    "\n",
    "# Initializing the WordNetLemmatizer\n",
    "lemmatizer = WordNetLemmatizer()\n",
    "\n",
    "def lemmatize_text(text):\n",
    "    \"\"\"\n",
    "    Function to apply lemmatization to a given text.\n",
    "    Breaks the text into words and reduces them to their base form.\n",
    "    \"\"\"\n",
    "    try:\n",
    "        # Tokenizing the text and applying lemmatization word by word\n",
    "        lemmatized_words = [lemmatizer.lemmatize(word) for word in text.split()]\n",
    "        return \" \".join(lemmatized_words)  # Join the lemmatized words back into a single string\n",
    "    except Exception as e:\n",
    "        # Return the text unchanged if there's an issue\n",
    "        print(f\"Error processing text: {text}\\nError: {e}\")\n",
    "        return text\n",
    "\n",
    "# Apply the lemmatization function to the stopword_removed_text column\n",
    "data['lemmatized_text'] = data['stopword_removed_text'].apply(lemmatize_text)\n",
    "\n",
    "# Display the first few rows of the dataset to verify the results\n",
    "print(data[['stopword_removed_text', 'lemmatized_text']].head(10))\n"
   ]
  },
  {
   "cell_type": "markdown",
   "metadata": {},
   "source": [
    "## Lemmatization: Reducing Words to Their Base Form\n",
    "\n",
    "We applied **lemmatization** to the `stopword_removed_text` column to further process the text. Lemmatization reduces words to their base or root form (e.g., \"running\" becomes \"run\" and \"dozens\" becomes \"dozen\"). This step helps normalize the text and ensures consistency, especially for text analysis tasks.\n",
    "\n",
    "### Steps Performed:\n",
    "1. **Tokenization**: The text was split into individual words.\n",
    "2. **Lemmatization**: Each word was processed using the NLTK `WordNetLemmatizer` to find its base form.\n",
    "3. **Rejoining**: The lemmatized words were joined back together into complete text strings.\n",
    "\n",
    "### Example of Output:\n",
    "| Index | Stopword Removed Text                             | Lemmatized Text                               |\n",
    "|-------|--------------------------------------------------|----------------------------------------------|\n",
    "| 0     | dear sir strictly private business proposal mi...| dear sir strictly private business proposal mi...|\n",
    "| 2     | noracheryl emailed dozens memos haiti weekend ...| noracheryl emailed dozen memo haiti weekend pl...|\n",
    "| 6     | dear siri engr ugo nzego engineering stores de...| dear siri engr ugo nzego engineering store dep...|\n",
    "\n",
    "### Key Observations:\n",
    "1. Words like **\"dozens\"** were reduced to **\"dozen\"**, and **\"colleagues\"** became **\"colleague\"**.\n",
    "2. Lemmatization captures the essence of the word while maintaining grammatical meaning.\n",
    "\n",
    "This prepares the text for further steps, such as vectorization or classification, by ensuring uniformity in word forms across the dataset.\n"
   ]
  },
  {
   "cell_type": "markdown",
   "metadata": {},
   "source": [
    "## Bag Of Words\n",
    "Let's get the 10 top words in ham and spam messages (**EXPLORATORY DATA ANALYSIS**)"
   ]
  },
  {
   "cell_type": "code",
   "execution_count": 32,
   "metadata": {},
   "outputs": [
    {
     "data": {
      "image/png": "[encoded data removed]",
      "text/plain": [
       "<Figure size 1000x500 with 1 Axes>"
      ]
     },
     "metadata": {},
     "output_type": "display_data"
    },
    {
     "data": {
      "image/png": "[encoded data removed]",
      "text/plain": [
       "<Figure size 1000x500 with 1 Axes>"
      ]
     },
     "metadata": {},
     "output_type": "display_data"
    }
   ],
   "source": [
    "# Your code\n",
    "\n",
    "from collections import Counter\n",
    "import matplotlib.pyplot as plt\n",
    "\n",
    "# Split the data into SPAM and HAM messages\n",
    "spam_messages = data[data['label'] == 1]['lemmatized_text']\n",
    "ham_messages = data[data['label'] == 0]['lemmatized_text']\n",
    "\n",
    "def get_top_words(messages, n=10):\n",
    "    \"\"\"\n",
    "    Function to get the top n words in a list of messages.\n",
    "    \"\"\"\n",
    "    all_words = \" \".join(messages).split()  # Combine all messages and split into words\n",
    "    word_counts = Counter(all_words)  # Count the occurrences of each word\n",
    "    return word_counts.most_common(n)  # Return the top n words\n",
    "\n",
    "# Get the top 10 words for SPAM and HAM messages\n",
    "top_spam_words = get_top_words(spam_messages, n=10)\n",
    "top_ham_words = get_top_words(ham_messages, n=10)\n",
    "\n",
    "# Convert the results into DataFrames for easy visualization\n",
    "spam_df = pd.DataFrame(top_spam_words, columns=['Word', 'Frequency'])\n",
    "ham_df = pd.DataFrame(top_ham_words, columns=['Word', 'Frequency'])\n",
    "\n",
    "# Plot the top words for SPAM messages\n",
    "plt.figure(figsize=(10, 5))\n",
    "plt.bar(spam_df['Word'], spam_df['Frequency'])\n",
    "plt.title(\"Top 10 Words in SPAM Messages\")\n",
    "plt.xlabel(\"Words\")\n",
    "plt.ylabel(\"Frequency\")\n",
    "plt.xticks(rotation=45)\n",
    "plt.show()\n",
    "\n",
    "# Plot the top words for HAM messages\n",
    "plt.figure(figsize=(10, 5))\n",
    "plt.bar(ham_df['Word'], ham_df['Frequency'])\n",
    "plt.title(\"Top 10 Words in HAM Messages\")\n",
    "plt.xlabel(\"Words\")\n",
    "plt.ylabel(\"Frequency\")\n",
    "plt.xticks(rotation=45)\n",
    "plt.show()\n"
   ]
  },
  {
   "cell_type": "markdown",
   "metadata": {},
   "source": [
    "### **Exploratory Data Analysis: Top Words in SPAM and HAM Messages**\n",
    "\n",
    "The bar charts above illustrate the top 10 most frequent words in SPAM and HAM messages:\n",
    "\n",
    "#### **SPAM Messages:**\n",
    "1. The most frequent words in spam messages include:\n",
    "   - **\"money,\" \"account,\" \"bank,\" \"fund\"**: These words indicate a common theme in spam messages, often targeting financial scams or fraudulent transactions.\n",
    "   - **\"business,\" \"transaction,\" \"country\"**: Suggestive of phishing attempts or fake business proposals.\n",
    "   - **\"transfer,\" \"million\"**: Reflects the language used in scams offering large sums of money.\n",
    "2. These keywords strongly align with the nature of SPAM messages, which are typically designed to deceive recipients.\n",
    "\n",
    "#### **HAM Messages:**\n",
    "1. The top words in ham messages include:\n",
    "   - **\"u,\" \"pm,\" \"call\"**: Indicating informal or conversational messages often sent between individuals.\n",
    "   - **\"state,\" \"president,\" \"secretary\"**: Suggests the presence of formal or professional discussions.\n",
    "   - **\"time,\" \"percent,\" \"work\"**: Commonly used in regular, day-to-day conversations or work-related messages.\n",
    "2. The frequency distribution highlights the more natural and contextually diverse vocabulary of HAM messages compared to SPAM.\n",
    "\n",
    "### **Key Takeaways:**\n",
    "- SPAM messages tend to have repetitive patterns with a strong focus on financial and transactional keywords.\n",
    "- HAM messages demonstrate a more balanced and conversational vocabulary, often reflecting normal communication.\n",
    "\n",
    "This analysis helps us understand the linguistic differences between SPAM and HAM messages, which will be valuable for building a classification model.\n"
   ]
  },
  {
   "cell_type": "markdown",
   "metadata": {},
   "source": [
    "## Extra features"
   ]
  },
  {
   "cell_type": "code",
   "execution_count": 37,
   "metadata": {},
   "outputs": [
    {
     "data": {
      "text/html": [
       "<div>\n",
       "<style scoped>\n",
       "    .dataframe tbody tr th:only-of-type {\n",
       "        vertical-align: middle;\n",
       "    }\n",
       "\n",
       "    .dataframe tbody tr th {\n",
       "        vertical-align: top;\n",
       "    }\n",
       "\n",
       "    .dataframe thead th {\n",
       "        text-align: right;\n",
       "    }\n",
       "</style>\n",
       "<table border=\"1\" class=\"dataframe\">\n",
       "  <thead>\n",
       "    <tr style=\"text-align: right;\">\n",
       "      <th></th>\n",
       "      <th>preprocessed_text</th>\n",
       "      <th>label</th>\n",
       "      <th>money_mark</th>\n",
       "      <th>suspicious_words</th>\n",
       "      <th>text_len</th>\n",
       "    </tr>\n",
       "  </thead>\n",
       "  <tbody>\n",
       "    <tr>\n",
       "      <th>29</th>\n",
       "      <td>----------- REGARDS, MR NELSON SMITH.KINDLY RE...</td>\n",
       "      <td>1</td>\n",
       "      <td>1</td>\n",
       "      <td>0</td>\n",
       "      <td>106</td>\n",
       "    </tr>\n",
       "    <tr>\n",
       "      <th>535</th>\n",
       "      <td>I have not been able to reach oscar this am. W...</td>\n",
       "      <td>0</td>\n",
       "      <td>1</td>\n",
       "      <td>0</td>\n",
       "      <td>101</td>\n",
       "    </tr>\n",
       "    <tr>\n",
       "      <th>695</th>\n",
       "      <td>; Huma Abedin B6I'm checking with Pat on the 5...</td>\n",
       "      <td>0</td>\n",
       "      <td>1</td>\n",
       "      <td>0</td>\n",
       "      <td>141</td>\n",
       "    </tr>\n",
       "    <tr>\n",
       "      <th>557</th>\n",
       "      <td>I can have it announced here on Monday - can't...</td>\n",
       "      <td>0</td>\n",
       "      <td>1</td>\n",
       "      <td>0</td>\n",
       "      <td>52</td>\n",
       "    </tr>\n",
       "    <tr>\n",
       "      <th>836</th>\n",
       "      <td>BANK OF AFRICAAGENCE SAN PEDRO14 BP 1210 S...</td>\n",
       "      <td>1</td>\n",
       "      <td>1</td>\n",
       "      <td>1</td>\n",
       "      <td>1750</td>\n",
       "    </tr>\n",
       "  </tbody>\n",
       "</table>\n",
       "</div>"
      ],
      "text/plain": [
       "                                     preprocessed_text  label  money_mark  \\\n",
       "29   ----------- REGARDS, MR NELSON SMITH.KINDLY RE...      1           1   \n",
       "535  I have not been able to reach oscar this am. W...      0           1   \n",
       "695  ; Huma Abedin B6I'm checking with Pat on the 5...      0           1   \n",
       "557  I can have it announced here on Monday - can't...      0           1   \n",
       "836      BANK OF AFRICAAGENCE SAN PEDRO14 BP 1210 S...      1           1   \n",
       "\n",
       "     suspicious_words  text_len  \n",
       "29                  0       106  \n",
       "535                 0       101  \n",
       "695                 0       141  \n",
       "557                 0        52  \n",
       "836                 1      1750  "
      ]
     },
     "execution_count": 37,
     "metadata": {},
     "output_type": "execute_result"
    }
   ],
   "source": [
    "# Ensure data_train and data_val are defined from the earlier split\n",
    "data_train = pd.DataFrame({'preprocessed_text': X_train, 'label': y_train})\n",
    "data_val = pd.DataFrame({'preprocessed_text': X_test, 'label': y_test})\n",
    "\n",
    "# Define money symbols and suspicious words\n",
    "money_simbol_list = \"|\".join([\"euro\", \"dollar\", \"pound\", \"€\", \"$\"])\n",
    "suspicious_words = \"|\".join([\"free\", \"cheap\", \"sex\", \"money\", \"account\", \"bank\", \"fund\", \"transfer\", \"transaction\", \"win\", \"deposit\", \"password\"])\n",
    "\n",
    "# Add additional features to the training set\n",
    "data_train['money_mark'] = data_train['preprocessed_text'].str.contains(money_simbol_list, regex=True) * 1\n",
    "data_train['suspicious_words'] = data_train['preprocessed_text'].str.contains(suspicious_words, regex=True) * 1\n",
    "data_train['text_len'] = data_train['preprocessed_text'].apply(len)\n",
    "\n",
    "# Add additional features to the validation set\n",
    "data_val['money_mark'] = data_val['preprocessed_text'].str.contains(money_simbol_list, regex=True) * 1\n",
    "data_val['suspicious_words'] = data_val['preprocessed_text'].str.contains(suspicious_words, regex=True) * 1\n",
    "data_val['text_len'] = data_val['preprocessed_text'].apply(len)\n",
    "\n",
    "# Display the first few rows of the training set\n",
    "data_train.head()\n"
   ]
  },
  {
   "cell_type": "markdown",
   "metadata": {},
   "source": [
    "### Additional Features: Money Symbols and Suspicious Words\n",
    "\n",
    "In this step, we enhanced the dataset by adding three additional features:\n",
    "\n",
    "1. **`money_mark`**:\n",
    "   - Indicates the presence of money-related symbols such as \"euro\", \"dollar\", \"pound\", \"€\", and \"$\".\n",
    "   - A value of `1` signifies that one or more of these symbols are present in the text, and `0` indicates their absence.\n",
    "\n",
    "2. **`suspicious_words`**:\n",
    "   - Detects the presence of suspicious words such as \"free\", \"cheap\", \"sex\", \"money\", \"account\", \"bank\", \"fund\", \"transfer\", \"transaction\", \"win\", \"deposit\", and \"password\".\n",
    "   - A value of `1` means that one or more of these words are present, while `0` indicates their absence.\n",
    "\n",
    "3. **`text_len`**:\n",
    "   - Captures the length of the text in the `preprocessed_text` column.\n",
    "\n",
    "#### Key Observations:\n",
    "- These features can serve as indicators to differentiate SPAM from HAM messages.\n",
    "- For example:\n",
    "  - SPAM messages often contain suspicious words or money-related symbols.\n",
    "  - HAM messages might have fewer suspicious words or no money-related symbols at all.\n",
    "\n",
    "#### Sample Output:\n",
    "| Index | Preprocessed Text                                  | Label | Money Mark | Suspicious Words | Text Length |\n",
    "|-------|---------------------------------------------------|-------|------------|------------------|-------------|\n",
    "| 29    | ----------- REGARDS, MR NELSON SMITH.KINDLY RE... | 1     | 1          | 0                | 106         |\n",
    "| 535   | I have not been able to reach oscar this am. W... | 0     | 1          | 0                | 101         |\n",
    "| 836   | BANK OF AFRICAAGENCE SAN PEDRO14 BP 1210 S...     | 1     | 1          | 1                | 1750        |\n",
    "\n",
    "#### Why These Features Matter:\n",
    "- **`money_mark`** and **`suspicious_words`** help identify common patterns in SPAM messages, like references to money or offers too good to be true.\n",
    "- **`text_len`** captures the verbosity of messages, which could be another distinguishing characteristic of SPAM versus HAM.\n",
    "\n",
    "This step prepares the dataset for feature representation and classification in the subsequent tasks.\n"
   ]
  },
  {
   "cell_type": "markdown",
   "metadata": {},
   "source": [
    "## How would work the Bag of Words with Count Vectorizer concept?"
   ]
  },
  {
   "cell_type": "code",
   "execution_count": 40,
   "metadata": {},
   "outputs": [
    {
     "name": "stdout",
     "output_type": "stream",
     "text": [
      "Bag of Words representation for training set:\n",
      "Shape: (1000, 20087)\n",
      "\n",
      "Top 10 Features:\n",
      "['aac' 'aaclocated' 'aae' 'aag' 'aaronovitchon' 'abacha' 'abachabefore'\n",
      " 'abachac' 'abachace' 'abachaco']\n"
     ]
    }
   ],
   "source": [
    "# Your code\n",
    "\n",
    "from sklearn.feature_extraction.text import CountVectorizer\n",
    "\n",
    "# Initialize the CountVectorizer\n",
    "vectorizer = CountVectorizer()\n",
    "\n",
    "# Fit and transform the preprocessed text for the training dataset\n",
    "X_train_bow = vectorizer.fit_transform(data['stopword_removed_text'])\n",
    "\n",
    "# Transform the validation dataset using the same vectorizer\n",
    "X_test_bow = vectorizer.transform(data['stopword_removed_text'])\n",
    "\n",
    "# Display the shape of the transformed dataset\n",
    "print(\"Bag of Words representation for training set:\")\n",
    "print(f\"Shape: {X_train_bow.shape}\")\n",
    "\n",
    "# Display the first few feature names (columns of the sparse matrix)\n",
    "print(\"\\nTop 10 Features:\")\n",
    "print(vectorizer.get_feature_names_out()[:10])\n"
   ]
  },
  {
   "cell_type": "markdown",
   "metadata": {},
   "source": [
    "### **Bag of Words Representation: Insights**\n",
    "\n",
    "The **Bag of Words (BoW)** representation transforms the text data into a numerical format that machine learning models can process. Here's what the output tells us:\n",
    "\n",
    "1. **Shape**: The matrix has `1000 rows` (representing the messages) and `20,087 columns` (unique words or tokens across all messages). Each column corresponds to a word, and each row is the BoW representation for a specific message.\n",
    "\n",
    "2. **Top 10 Features**: The top features identified by the `CountVectorizer` are shown in alphabetical order. These represent some of the unique tokens in the dataset:\n",
    "   - Examples include: `aac`, `aaclocated`, `aae`, etc.\n",
    "   - While some features may seem irrelevant (e.g., typos or uncommon abbreviations), they are still part of the dataset and contribute to the feature space.\n",
    "\n",
    "3. **Importance of BoW**: This representation does not consider the importance of words or their frequencies across all messages. It’s purely a raw count of word occurrences for each message. This method is useful but can lead to sparse and high-dimensional data.\n",
    "\n",
    "4. **Next Steps**: \n",
    "   - We will explore **TF-IDF (Term Frequency-Inverse Document Frequency)** in the next cell, which builds on the BoW representation by giving more weight to important words while reducing the impact of common ones.\n"
   ]
  },
  {
   "cell_type": "markdown",
   "metadata": {},
   "source": [
    "## TD-IDF\n",
    "\n",
    "- Load the vectorizer\n",
    "\n",
    "- Vectorize all dataset\n",
    "\n",
    "- print the shape of the vetorized dataset"
   ]
  },
  {
   "cell_type": "code",
   "execution_count": 43,
   "metadata": {},
   "outputs": [
    {
     "name": "stdout",
     "output_type": "stream",
     "text": [
      "TF-IDF representation for training set:\n",
      "Shape: (800, 20000)\n",
      "\n",
      "TF-IDF representation for validation set:\n",
      "Shape: (200, 20000)\n",
      "\n",
      "Top 10 Features:\n",
      "['00' '000' '000000' '00000e25' '00000e251' '00000eur' '000066' '0000ff'\n",
      " '000m' '000million']\n"
     ]
    }
   ],
   "source": [
    "# Your code\n",
    "\n",
    "from sklearn.feature_extraction.text import TfidfVectorizer\n",
    "\n",
    "# Initialize the TF-IDF Vectorizer\n",
    "tfidf_vectorizer = TfidfVectorizer(max_features=20000)\n",
    "\n",
    "# Fit and transform the training data and transform the validation data\n",
    "X_train_tfidf = tfidf_vectorizer.fit_transform(data_train['preprocessed_text'])\n",
    "X_val_tfidf = tfidf_vectorizer.transform(data_val['preprocessed_text'])\n",
    "\n",
    "# Print the shape of the TF-IDF vectorized dataset\n",
    "print(\"TF-IDF representation for training set:\")\n",
    "print(f\"Shape: {X_train_tfidf.shape}\")\n",
    "\n",
    "print(\"\\nTF-IDF representation for validation set:\")\n",
    "print(f\"Shape: {X_val_tfidf.shape}\")\n",
    "\n",
    "# Display the top 10 features\n",
    "top_features = tfidf_vectorizer.get_feature_names_out()[:10]\n",
    "print(\"\\nTop 10 Features:\")\n",
    "print(top_features)\n"
   ]
  },
  {
   "cell_type": "markdown",
   "metadata": {},
   "source": [
    "### **TF-IDF Representation: Summary**\n",
    "\n",
    "Using the TF-IDF vectorizer, we converted the text data into numerical features for machine learning. The vectorization process provided the following results:\n",
    "\n",
    "- **Training Set**: \n",
    "  - Shape: `(800, 20,000)` – 800 samples, each represented by 20,000 features.\n",
    "- **Validation Set**:\n",
    "  - Shape: `(200, 20,000)` – 200 samples, each represented by 20,000 features.\n",
    "\n",
    "#### **Top 10 Features:**\n",
    "The first 10 features extracted by the TF-IDF vectorizer:\n",
    "1. `00`\n",
    "2. `000`\n",
    "3. `000000`\n",
    "4. `00000e25`\n",
    "5. `00000e251`\n",
    "6. `00000eur`\n",
    "7. `000066`\n",
    "8. `0000ff`\n",
    "9. `000m`\n",
    "10. `000million`\n",
    "\n",
    "### **Observations:**\n",
    "1. The dataset includes many numerical or alphanumeric tokens such as `00` and `000million`, which are captured as features.\n",
    "2. TF-IDF successfully identifies relevant terms in the text, weighting them based on their frequency and importance in the dataset.\n",
    "3. These vectorized features are ready for further use in training classification models.\n"
   ]
  },
  {
   "cell_type": "markdown",
   "metadata": {},
   "source": [
    "## And the Train a Classifier?"
   ]
  },
  {
   "cell_type": "code",
   "execution_count": 50,
   "metadata": {},
   "outputs": [
    {
     "name": "stdout",
     "output_type": "stream",
     "text": [
      "Accuracy of the classifier: 0.9450\n",
      "\n",
      "Classification Report:\n",
      "              precision    recall  f1-score   support\n",
      "\n",
      "         HAM       0.97      0.94      0.96       125\n",
      "        SPAM       0.90      0.96      0.93        75\n",
      "\n",
      "    accuracy                           0.94       200\n",
      "   macro avg       0.94      0.95      0.94       200\n",
      "weighted avg       0.95      0.94      0.95       200\n",
      "\n",
      "\n",
      "Confusion Matrix:\n",
      "[[117   8]\n",
      " [  3  72]]\n"
     ]
    }
   ],
   "source": [
    "# Your code\n",
    "\n",
    "from sklearn.naive_bayes import MultinomialNB\n",
    "from sklearn.metrics import classification_report, accuracy_score, confusion_matrix\n",
    "from sklearn.model_selection import train_test_split\n",
    "from sklearn.feature_extraction.text import TfidfVectorizer\n",
    "\n",
    "# Vectorize the dataset using TF-IDF\n",
    "tfidf_vectorizer = TfidfVectorizer(max_features=20000)  # Match the earlier vectorization step\n",
    "X_tfidf = tfidf_vectorizer.fit_transform(data['stopword_removed_text'])\n",
    "\n",
    "# Split the data into training and validation sets\n",
    "X_train_tfidf, X_val_tfidf, y_train, y_val = train_test_split(\n",
    "    X_tfidf, data['label'], test_size=0.2, random_state=42\n",
    ")\n",
    "\n",
    "# Train the classifier\n",
    "classifier = MultinomialNB()\n",
    "classifier.fit(X_train_tfidf, y_train)\n",
    "\n",
    "# Predict on the validation set\n",
    "y_pred = classifier.predict(X_val_tfidf)\n",
    "\n",
    "# Evaluate the classifier\n",
    "accuracy = accuracy_score(y_val, y_pred)\n",
    "print(f\"Accuracy of the classifier: {accuracy:.4f}\")\n",
    "\n",
    "# Classification report\n",
    "print(\"\\nClassification Report:\")\n",
    "print(classification_report(y_val, y_pred, target_names=[\"HAM\", \"SPAM\"]))\n",
    "\n",
    "# Confusion matrix\n",
    "print(\"\\nConfusion Matrix:\")\n",
    "print(confusion_matrix(y_val, y_pred))\n"
   ]
  },
  {
   "cell_type": "markdown",
   "metadata": {},
   "source": [
    "### Classifier Evaluation Results\n",
    "\n",
    "The classifier's performance on the validation set was evaluated, yielding the following metrics:\n",
    "\n",
    "#### **Accuracy**:\n",
    "- The model achieved an accuracy of **94.50%**, indicating that the majority of the predictions were correct.\n",
    "\n",
    "#### **Classification Report**:\n",
    "| Metric       | HAM            | SPAM           |\n",
    "|--------------|----------------|----------------|\n",
    "| **Precision** | 97%            | 90%            |\n",
    "| **Recall**    | 94%            | 96%            |\n",
    "| **F1-Score**  | 96%            | 93%            |\n",
    "\n",
    "- **Precision**: The proportion of correct predictions for each class out of all predicted instances for that class.\n",
    "- **Recall**: The proportion of correctly identified instances out of the total actual instances of that class.\n",
    "- **F1-Score**: A balance between precision and recall.\n",
    "\n",
    "#### **Confusion Matrix**:\n",
    "The confusion matrix below shows the number of correct and incorrect predictions for HAM and SPAM:\n",
    "\n",
    "|                | **Predicted HAM** | **Predicted SPAM** |\n",
    "|----------------|-------------------|-------------------|\n",
    "| **Actual HAM** | 117               | 8                 |\n",
    "| **Actual SPAM**| 3                 | 72                |\n",
    "\n",
    "- **117 HAM** messages were correctly classified as HAM, while **8 HAM** messages were misclassified as SPAM.\n",
    "- **72 SPAM** messages were correctly classified as SPAM, while **3 SPAM** messages were misclassified as HAM.\n",
    "\n",
    "#### **Conclusion**:\n",
    "The model performs exceptionally well, especially with a high F1-score and recall for both HAM and SPAM. Minor improvements can be explored to reduce misclassifications.\n"
   ]
  },
  {
   "cell_type": "markdown",
   "metadata": {},
   "source": [
    "### Extra Task - Implement a SPAM/HAM classifier\n",
    "\n",
    "https://www.kaggle.com/t/b384e34013d54d238490103bc3c360ce\n",
    "\n",
    "The classifier can not be changed!!! It must be the MultinimialNB with default parameters!\n",
    "\n",
    "Your task is to find the **best feature representation**.\n",
    "\n",
    "You can work with teams of two persons (recommended)."
   ]
  },
  {
   "cell_type": "code",
   "execution_count": 57,
   "metadata": {},
   "outputs": [
    {
     "name": "stdout",
     "output_type": "stream",
     "text": [
      "Evaluating Bag-of-Words representation...\n",
      "Accuracy: 0.9350\n",
      "\n",
      "Classification Report:\n",
      "              precision    recall  f1-score   support\n",
      "\n",
      "           0       0.98      0.91      0.95       125\n",
      "           1       0.87      0.97      0.92        75\n",
      "\n",
      "    accuracy                           0.94       200\n",
      "   macro avg       0.93      0.94      0.93       200\n",
      "weighted avg       0.94      0.94      0.94       200\n",
      "\n",
      "\n",
      "Confusion Matrix:\n",
      "[[114  11]\n",
      " [  2  73]]\n",
      "\n",
      "Evaluating TF-IDF representation...\n",
      "Accuracy: 0.9300\n",
      "\n",
      "Classification Report:\n",
      "              precision    recall  f1-score   support\n",
      "\n",
      "           0       0.99      0.90      0.94       125\n",
      "           1       0.85      0.99      0.91        75\n",
      "\n",
      "    accuracy                           0.93       200\n",
      "   macro avg       0.92      0.94      0.93       200\n",
      "weighted avg       0.94      0.93      0.93       200\n",
      "\n",
      "\n",
      "Confusion Matrix:\n",
      "[[112  13]\n",
      " [  1  74]]\n"
     ]
    }
   ],
   "source": [
    "# Your code\n",
    "\n",
    "from sklearn.feature_extraction.text import CountVectorizer, TfidfVectorizer\n",
    "from sklearn.model_selection import train_test_split\n",
    "from sklearn.naive_bayes import MultinomialNB\n",
    "from sklearn.metrics import accuracy_score, classification_report, confusion_matrix\n",
    "\n",
    "# Split the data into training and validation sets\n",
    "X_train, X_val, y_train, y_val = train_test_split(\n",
    "    data['lemmatized_text'], data['label'], test_size=0.2, random_state=42\n",
    ")\n",
    "\n",
    "# Function to evaluate feature representations\n",
    "def evaluate_representation(vectorizer, X_train, X_val, y_train, y_val):\n",
    "    # Fit and transform training data\n",
    "    X_train_vectorized = vectorizer.fit_transform(X_train)\n",
    "    X_val_vectorized = vectorizer.transform(X_val)\n",
    "    \n",
    "    # Train the classifier\n",
    "    classifier = MultinomialNB()\n",
    "    classifier.fit(X_train_vectorized, y_train)\n",
    "    \n",
    "    # Make predictions\n",
    "    y_pred = classifier.predict(X_val_vectorized)\n",
    "    \n",
    "    # Evaluate the classifier\n",
    "    accuracy = accuracy_score(y_val, y_pred)\n",
    "    print(f\"Accuracy: {accuracy:.4f}\")\n",
    "    print(\"\\nClassification Report:\")\n",
    "    print(classification_report(y_val, y_pred))\n",
    "    print(\"\\nConfusion Matrix:\")\n",
    "    print(confusion_matrix(y_val, y_pred))\n",
    "\n",
    "# Evaluate Bag-of-Words representation\n",
    "print(\"Evaluating Bag-of-Words representation...\")\n",
    "bow_vectorizer = CountVectorizer(max_features=20000)\n",
    "evaluate_representation(bow_vectorizer, X_train, X_val, y_train, y_val)\n",
    "\n",
    "# Evaluate TF-IDF representation\n",
    "print(\"\\nEvaluating TF-IDF representation...\")\n",
    "tfidf_vectorizer = TfidfVectorizer(max_features=20000)\n",
    "evaluate_representation(tfidf_vectorizer, X_train, X_val, y_train, y_val)\n"
   ]
  },
  {
   "cell_type": "markdown",
   "metadata": {},
   "source": [
    "### **Evaluation of Bag-of-Words and TF-IDF Representations**\n",
    "\n",
    "In this cell, we evaluated the performance of a Multinomial Naive Bayes classifier using two feature representations: **Bag-of-Words (BoW)** and **TF-IDF**. Here are the results:\n",
    "\n",
    "---\n",
    "\n",
    "#### **Bag-of-Words Representation**\n",
    "- **Accuracy**: **93.50%**\n",
    "- **Classification Report**:\n",
    "  | Metric       | HAM            | SPAM           |\n",
    "  |--------------|----------------|----------------|\n",
    "  | **Precision** | 98%            | 87%            |\n",
    "  | **Recall**    | 91%            | 97%            |\n",
    "  | **F1-Score**  | 95%            | 92%            |\n",
    "\n",
    "- **Confusion Matrix**:\n",
    "  |                | **Predicted HAM** | **Predicted SPAM** |\n",
    "  |----------------|-------------------|-------------------|\n",
    "  | **Actual HAM** | 114               | 11                |\n",
    "  | **Actual SPAM**| 2                 | 73                |\n",
    "\n",
    "---\n",
    "\n",
    "#### **TF-IDF Representation**\n",
    "- **Accuracy**: **93.00%**\n",
    "- **Classification Report**:\n",
    "  | Metric       | HAM            | SPAM           |\n",
    "  |--------------|----------------|----------------|\n",
    "  | **Precision** | 99%            | 85%            |\n",
    "  | **Recall**    | 90%            | 99%            |\n",
    "  | **F1-Score**  | 94%            | 91%            |\n",
    "\n",
    "- **Confusion Matrix**:\n",
    "  |                | **Predicted HAM** | **Predicted SPAM** |\n",
    "  |----------------|-------------------|-------------------|\n",
    "  | **Actual HAM** | 112               | 13                |\n",
    "  | **Actual SPAM**| 1                 | 74                |\n",
    "\n",
    "---\n",
    "\n",
    "### **Key Observations**\n",
    "1. **Bag-of-Words Representation**:\n",
    "   - Performs slightly better in terms of overall accuracy.\n",
    "   - Has a higher **F1-Score** for HAM messages but slightly lower for SPAM messages.\n",
    "   - Misclassified **11 HAM** messages as SPAM, and **2 SPAM** messages as HAM.\n",
    "\n",
    "2. **TF-IDF Representation**:\n",
    "   - Offers comparable accuracy but with slightly better recall for SPAM messages.\n",
    "   - Misclassified **13 HAM** messages as SPAM, and only **1 SPAM** message as HAM.\n",
    "\n",
    "---\n",
    "\n",
    "### **Conclusion**\n",
    "- Both representations perform well, with minimal differences in accuracy and classification metrics.\n",
    "- The choice of representation depends on the application's priorities:\n",
    "  - **Bag-of-Words** might be preferred for higher precision in HAM detection.\n",
    "  - **TF-IDF** could be more suitable when recall for SPAM is critical.\n"
   ]
  }
 ],
 "metadata": {
  "celltoolbar": "Slideshow",
  "kernelspec": {
   "display_name": "Python [conda env:base] *",
   "language": "python",
   "name": "conda-base-py"
  },
  "language_info": {
   "codemirror_mode": {
    "name": "ipython",
    "version": 3
   },
   "file_extension": ".py",
   "mimetype": "text/x-python",
   "name": "python",
   "nbconvert_exporter": "python",
   "pygments_lexer": "ipython3",
   "version": "3.12.7"
  }
 },
 "nbformat": 4,
 "nbformat_minor": 4
}
