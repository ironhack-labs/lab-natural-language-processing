{
 "cells": [
  {
   "cell_type": "code",
   "execution_count": 16,
   "metadata": {},
   "outputs": [
    {
     "name": "stderr",
     "output_type": "stream",
     "text": [
      "C:\\Users\\edwar\\AppData\\Local\\Temp\\ipykernel_61204\\3777615979.py:1: DeprecationWarning: Importing display from IPython.core.display is deprecated since IPython 7.14, please import from IPython display\n",
      "  from IPython.core.display import display, HTML\n"
     ]
    },
    {
     "data": {
      "text/html": [
       "<style>.container { width:100% !important; }</style>"
      ],
      "text/plain": [
       "<IPython.core.display.HTML object>"
      ]
     },
     "metadata": {},
     "output_type": "display_data"
    }
   ],
   "source": [
    "from IPython.core.display import display, HTML\n",
    "display(HTML(\"<style>.container { width:100% !important; }</style>\"))"
   ]
  },
  {
   "cell_type": "markdown",
   "metadata": {},
   "source": [
    "# Lab | Natural Language Processing\n",
    "### SMS: SPAM or HAM"
   ]
  },
  {
   "cell_type": "markdown",
   "metadata": {},
   "source": [
    "### Let's prepare the environment"
   ]
  },
  {
   "cell_type": "code",
   "execution_count": 17,
   "metadata": {},
   "outputs": [],
   "source": [
    "import pandas as pd\n",
    "import matplotlib.pyplot as plt\n",
    "from sklearn.feature_extraction.text import TfidfVectorizer"
   ]
  },
  {
   "cell_type": "markdown",
   "metadata": {},
   "source": [
    "- Read Data for the Fraudulent Email Kaggle Challenge\n",
    "- Reduce the training set to speead up development. "
   ]
  },
  {
   "cell_type": "code",
   "execution_count": 18,
   "metadata": {},
   "outputs": [
    {
     "name": "stdout",
     "output_type": "stream",
     "text": [
      "(1000, 2)\n"
     ]
    }
   ],
   "source": [
    "## Read Data for the Fraudulent Email Kaggle Challenge\n",
    "data = pd.read_csv(\"../data/kg_train.csv\",encoding='latin-1')\n",
    "\n",
    "# Reduce the training set to speed up development. \n",
    "# Modify for final system\n",
    "data = data.head(1000)\n",
    "print(data.shape)\n",
    "data.fillna(\"\",inplace=True)"
   ]
  },
  {
   "cell_type": "markdown",
   "metadata": {},
   "source": [
    "### Let's divide the training and test set into two partitions"
   ]
  },
  {
   "cell_type": "code",
   "execution_count": 19,
   "metadata": {},
   "outputs": [
    {
     "name": "stdout",
     "output_type": "stream",
     "text": [
      "Training set shape: (800, 2)\n",
      "Validation set shape: (200, 2)\n"
     ]
    }
   ],
   "source": [
    "# Your code\n",
    "# Let's divide the training and test set into two partitions\n",
    "from sklearn.model_selection import train_test_split\n",
    "\n",
    "# Split the data into training and validation sets (80-20 split)\n",
    "data_train, data_val = train_test_split(data, test_size=0.2, random_state=42)\n",
    "\n",
    "# Print the shapes to verify the split\n",
    "print(\"Training set shape:\", data_train.shape)\n",
    "print(\"Validation set shape:\", data_val.shape)"
   ]
  },
  {
   "cell_type": "code",
   "execution_count": 20,
   "metadata": {},
   "outputs": [
    {
     "data": {
      "text/html": [
       "<div>\n",
       "<style scoped>\n",
       "    .dataframe tbody tr th:only-of-type {\n",
       "        vertical-align: middle;\n",
       "    }\n",
       "\n",
       "    .dataframe tbody tr th {\n",
       "        vertical-align: top;\n",
       "    }\n",
       "\n",
       "    .dataframe thead th {\n",
       "        text-align: right;\n",
       "    }\n",
       "</style>\n",
       "<table border=\"1\" class=\"dataframe\">\n",
       "  <thead>\n",
       "    <tr style=\"text-align: right;\">\n",
       "      <th></th>\n",
       "      <th>text</th>\n",
       "      <th>label</th>\n",
       "    </tr>\n",
       "  </thead>\n",
       "  <tbody>\n",
       "    <tr>\n",
       "      <th>29</th>\n",
       "      <td>----------- REGARDS, MR NELSON SMITH.KINDLY RE...</td>\n",
       "      <td>1</td>\n",
       "    </tr>\n",
       "    <tr>\n",
       "      <th>535</th>\n",
       "      <td>I have not been able to reach oscar this am. W...</td>\n",
       "      <td>0</td>\n",
       "    </tr>\n",
       "    <tr>\n",
       "      <th>695</th>\n",
       "      <td>; Huma Abedin B6I'm checking with Pat on the 5...</td>\n",
       "      <td>0</td>\n",
       "    </tr>\n",
       "    <tr>\n",
       "      <th>557</th>\n",
       "      <td>I can have it announced here on Monday - can't...</td>\n",
       "      <td>0</td>\n",
       "    </tr>\n",
       "    <tr>\n",
       "      <th>836</th>\n",
       "      <td>BANK OF AFRICAAGENCE SAN PEDRO14 BP 1210 S...</td>\n",
       "      <td>1</td>\n",
       "    </tr>\n",
       "    <tr>\n",
       "      <th>...</th>\n",
       "      <td>...</td>\n",
       "      <td>...</td>\n",
       "    </tr>\n",
       "    <tr>\n",
       "      <th>106</th>\n",
       "      <td>7653 2612ADAMA IBRAHIM________________________...</td>\n",
       "      <td>1</td>\n",
       "    </tr>\n",
       "    <tr>\n",
       "      <th>270</th>\n",
       "      <td>What does that mean for our schedules?</td>\n",
       "      <td>0</td>\n",
       "    </tr>\n",
       "    <tr>\n",
       "      <th>860</th>\n",
       "      <td>Dear Friend,My Compliment to you,I guess this ...</td>\n",
       "      <td>1</td>\n",
       "    </tr>\n",
       "    <tr>\n",
       "      <th>435</th>\n",
       "      <td>Dear PRESIDENT=2FDIRECTOR=2C My name is Mr=2E ...</td>\n",
       "      <td>1</td>\n",
       "    </tr>\n",
       "    <tr>\n",
       "      <th>102</th>\n",
       "      <td>Let me know if today or tomorrow works for you...</td>\n",
       "      <td>0</td>\n",
       "    </tr>\n",
       "  </tbody>\n",
       "</table>\n",
       "<p>800 rows × 2 columns</p>\n",
       "</div>"
      ],
      "text/plain": [
       "                                                  text  label\n",
       "29   ----------- REGARDS, MR NELSON SMITH.KINDLY RE...      1\n",
       "535  I have not been able to reach oscar this am. W...      0\n",
       "695  ; Huma Abedin B6I'm checking with Pat on the 5...      0\n",
       "557  I can have it announced here on Monday - can't...      0\n",
       "836      BANK OF AFRICAAGENCE SAN PEDRO14 BP 1210 S...      1\n",
       "..                                                 ...    ...\n",
       "106  7653 2612ADAMA IBRAHIM________________________...      1\n",
       "270             What does that mean for our schedules?      0\n",
       "860  Dear Friend,My Compliment to you,I guess this ...      1\n",
       "435  Dear PRESIDENT=2FDIRECTOR=2C My name is Mr=2E ...      1\n",
       "102  Let me know if today or tomorrow works for you...      0\n",
       "\n",
       "[800 rows x 2 columns]"
      ]
     },
     "execution_count": 20,
     "metadata": {},
     "output_type": "execute_result"
    }
   ],
   "source": [
    "data_train"
   ]
  },
  {
   "cell_type": "markdown",
   "metadata": {},
   "source": [
    "## Data Preprocessing"
   ]
  },
  {
   "cell_type": "markdown",
   "metadata": {},
   "source": [
    "Let me explain what the SnowballStemmer is doing in this NLP context.\n",
    "The SnowballStemmer is a text normalization tool that performs stemming - a process of reducing words to their root or base form (stem). However, it's different from lemmatization in that it follows a more aggressive set of rules and simply chops off word endings.\n",
    "Here are some examples of what SnowballStemmer does:\n",
    "\"running\" → \"run\"\n",
    "\"fishing\" → \"fish\"\n",
    "\"played\", \"playing\", \"plays\" → \"play\"\n",
    "\"connection\", \"connected\", \"connecting\" → \"connect\"\n"
   ]
  },
  {
   "cell_type": "code",
   "execution_count": 21,
   "metadata": {},
   "outputs": [
    {
     "name": "stdout",
     "output_type": "stream",
     "text": [
      "!\"#$%&'()*+,-./:;<=>?@[\\]^_`{|}~\n",
      "['here', 'there', 'when', 'where', 'why', 'how', 'all', 'any', 'both', 'each']\n"
     ]
    }
   ],
   "source": [
    "import string\n",
    "from nltk.corpus import stopwords\n",
    "print(string.punctuation)\n",
    "print(stopwords.words(\"english\")[100:110])\n",
    "from nltk.stem.snowball import SnowballStemmer\n",
    "snowball = SnowballStemmer('english')"
   ]
  },
  {
   "cell_type": "markdown",
   "metadata": {},
   "source": [
    "## Now, we have to clean the html code removing words\n",
    "\n",
    "- First we remove inline JavaScript/CSS\n",
    "- Then we remove html comments. This has to be done before removing regular tags since comments can contain '>' characters\n",
    "- Next we can remove the remaining tags"
   ]
  },
  {
   "cell_type": "code",
   "execution_count": 22,
   "metadata": {},
   "outputs": [
    {
     "name": "stdout",
     "output_type": "stream",
     "text": [
      "Sample cleaned text:\n",
      "----------- REGARDS, MR NELSON SMITH.KINDLY REPLY ME ON MY PRIVATE EMAIL ADDRESS;nelsonsmith2000@yahoo.com\n"
     ]
    }
   ],
   "source": [
    "# Your code\n",
    "import re\n",
    "\n",
    "def clean_html(text):\n",
    "    # Remove inline JavaScript/CSS\n",
    "    text = re.sub(r'<script.*?>.*?</script>', '', text, flags=re.DOTALL)\n",
    "    text = re.sub(r'<style.*?>.*?</style>', '', text, flags=re.DOTALL)\n",
    "    \n",
    "    # Remove HTML comments\n",
    "    text = re.sub(r'<!--.*?-->', '', text, flags=re.DOTALL)\n",
    "    \n",
    "    # Remove remaining HTML tags\n",
    "    text = re.sub(r'<.*?>', '', text)\n",
    "    \n",
    "    return text\n",
    "\n",
    "# Apply the cleaning to both training and validation sets\n",
    "data_train['text'] = data_train['text'].apply(clean_html)\n",
    "data_val['text'] = data_val['text'].apply(clean_html)\n",
    "\n",
    "# Display a sample to verify the cleaning\n",
    "print(\"Sample cleaned text:\")\n",
    "print(data_train['text'].iloc[0])"
   ]
  },
  {
   "cell_type": "markdown",
   "metadata": {},
   "source": [
    "- Remove all the special characters\n",
    "    \n",
    "- Remove numbers\n",
    "    \n",
    "- Remove all single characters\n",
    " \n",
    "- Remove single characters from the start\n",
    "\n",
    "- Substitute multiple spaces with single space\n",
    "\n",
    "- Remove prefixed 'b'\n",
    "\n",
    "- Convert to Lowercase"
   ]
  },
  {
   "cell_type": "code",
   "execution_count": 23,
   "metadata": {},
   "outputs": [
    {
     "name": "stdout",
     "output_type": "stream",
     "text": [
      "Cleaning the text...\n"
     ]
    }
   ],
   "source": [
    "# Your code\n",
    "def improved_clean_text(text):\n",
    "    # Convert to lowercase and handle encoding\n",
    "    text = str(text).lower().encode('ascii', 'ignore').decode()\n",
    "    \n",
    "    # First, replace common encoding artifacts\n",
    "    text = re.sub(r'â|ã¢|â€|œ|š', ' ', text)\n",
    "    \n",
    "    # Handle email addresses before general cleaning\n",
    "    # Replace @ and . in emails with placeholder\n",
    "    text = re.sub(r'([a-z0-9]+)[@.]([a-z0-9]+)', r'\\1 at \\2', text)\n",
    "    \n",
    "    # Replace punctuation with spaces\n",
    "    for punct in string.punctuation:\n",
    "        text = text.replace(punct, ' ')\n",
    "    \n",
    "    # Remove numbers but keep space between words\n",
    "    text = re.sub(r'\\d+', ' ', text)\n",
    "    \n",
    "    # Replace multiple spaces with single space\n",
    "    text = re.sub(r'\\s+', ' ', text)\n",
    "    \n",
    "    # Remove standalone single characters except 'a' and 'i'\n",
    "    words = text.split()\n",
    "    words = [word for word in words if len(word) > 1 or word in ['a', 'i']]\n",
    "    \n",
    "    # Join words back together\n",
    "    text = ' '.join(words)\n",
    "    \n",
    "    # Strip any leading/trailing spaces\n",
    "    text = text.strip()\n",
    "    \n",
    "    return text\n",
    "\n",
    "# Apply improved cleaning\n",
    "print(\"Cleaning the text...\")\n",
    "data_train['clean_text'] = data_train['text'].apply(improved_clean_text)\n",
    "data_val['clean_text'] = data_val['text'].apply(improved_clean_text)"
   ]
  },
  {
   "cell_type": "markdown",
   "metadata": {},
   "source": [
    "def improved_clean_text(text):\n",
    "    # Convert to lowercase and handle encoding\n",
    "    text = str(text).lower().encode('ascii', 'ignore').decode()\n",
    "    \n",
    "    # First, replace common encoding artifacts\n",
    "    text = re.sub(r'â|ã¢|â€|œ|š', ' ', text)\n",
    "    \n",
    "    # Handle email addresses before general cleaning\n",
    "    # Replace @ and . in emails with placeholder\n",
    "    text = re.sub(r'([a-z0-9]+)[@.]([a-z0-9]+)', r'\\1 at \\2', text)\n",
    "    \n",
    "    # Replace punctuation with spaces\n",
    "    for punct in string.punctuation:\n",
    "        text = text.replace(punct, ' ')\n",
    "    \n",
    "    # Remove numbers but keep space between words\n",
    "    text = re.sub(r'\\d+', ' ', text)\n",
    "    \n",
    "    # Replace multiple spaces with single space\n",
    "    text = re.sub(r'\\s+', ' ', text)\n",
    "    \n",
    "    # Remove standalone single characters except 'a' and 'i'\n",
    "    words = text.split()\n",
    "    words = [word for word in words if len(word) > 1 or word in ['a', 'i']]\n",
    "    \n",
    "    # Join words back together\n",
    "    text = ' '.join(words)\n",
    "    \n",
    "    # Strip any leading/trailing spaces\n",
    "    text = text.strip()\n",
    "    \n",
    "    return text\n",
    "\n",
    "# Apply improved cleaning\n",
    "print(\"Cleaning the text...\")\n",
    "data_train['clean_text'] = data_train['text'].apply(improved_clean_text)\n",
    "data_val['clean_text'] = data_val['text'].apply(improved_clean_text)"
   ]
  },
  {
   "cell_type": "markdown",
   "metadata": {},
   "source": [
    "#Your code\n",
    "def clean_text(text):\n",
    "    # Convert to lowercase\n",
    "    text = str(text).lower()\n",
    "    \n",
    "    # Remove prefixed 'b'\n",
    "    text = re.sub(r'^b\\s+', '', text)\n",
    "    \n",
    "    # Replace punctuation with spaces BEFORE removing them\n",
    "    # This ensures words don't get merged\n",
    "    for punct in string.punctuation:\n",
    "        text = text.replace(punct, ' ')\n",
    "    \n",
    "    # Replace multiple spaces with single space\n",
    "    text = re.sub(r'\\s+', ' ', text)\n",
    "    \n",
    "    # Remove numbers but keep space between words\n",
    "    text = re.sub(r'\\d+', ' ', text)\n",
    "    \n",
    "    # Remove single characters\n",
    "    text = re.sub(r'\\s+[a-z]\\s+', ' ', text)\n",
    "    \n",
    "    # Remove single characters from the start\n",
    "    text = re.sub(r'^[a-z]\\s+', '', text)\n",
    "    \n",
    "    # Strip any leading/trailing spaces\n",
    "    text = text.strip()\n",
    "    \n",
    "    return text\n",
    "\n",
    "# Apply the improved cleaning to both training and validation sets\n",
    "data_train['clean_text'] = data_train['text'].apply(clean_text)\n",
    "data_val['clean_text'] = data_val['text'].apply(clean_text)\n",
    "\n",
    "# Let's check an example\n",
    "print(\"BEFORE CLEANING:\")\n",
    "print(data_train['text'].iloc[0])\n",
    "print(\"\\nAFTER IMPROVED CLEANING:\")\n",
    "print(data_train['clean_text'].iloc[0])"
   ]
  },
  {
   "cell_type": "markdown",
   "metadata": {
    "slideshow": {
     "slide_type": "-"
    }
   },
   "source": [
    "## Now let's work on removing stopwords\n",
    "Remove the stopwords."
   ]
  },
  {
   "cell_type": "code",
   "execution_count": 24,
   "metadata": {},
   "outputs": [
    {
     "name": "stdout",
     "output_type": "stream",
     "text": [
      "BEFORE STOPWORD REMOVAL:\n",
      "----------- REGARDS, MR NELSON SMITH.KINDLY REPLY ME ON MY PRIVATE EMAIL ADDRESS;nelsonsmith2000@yahoo.com\n",
      "\n",
      "AFTER ALL CLEANING AND STOPWORD REMOVAL:\n",
      "regards mr nelson smith kindly reply private email address nelsonsmith yahoo com\n"
     ]
    }
   ],
   "source": [
    "# Your code\n",
    "from nltk.corpus import stopwords\n",
    "stop_words = set(stopwords.words('english'))\n",
    "\n",
    "def remove_stopwords(text):\n",
    "    # Split text into words\n",
    "    words = text.split()\n",
    "    # Keep only non-stopwords\n",
    "    filtered_words = [word for word in words if word not in stop_words]\n",
    "    # Join words back together\n",
    "    return ' '.join(filtered_words)\n",
    "\n",
    "# Apply stopword removal to the clean_text column\n",
    "data_train['clean_text'] = data_train['clean_text'].apply(remove_stopwords)\n",
    "data_val['clean_text'] = data_val['clean_text'].apply(remove_stopwords)\n",
    "\n",
    "# Let's see the difference\n",
    "print(\"BEFORE STOPWORD REMOVAL:\")\n",
    "print(data_train['text'].iloc[0])\n",
    "print(\"\\nAFTER ALL CLEANING AND STOPWORD REMOVAL:\")\n",
    "print(data_train['clean_text'].iloc[0])"
   ]
  },
  {
   "cell_type": "markdown",
   "metadata": {},
   "source": [
    "## Tame Your Text with Lemmatization\n",
    "Break sentences into words, then use lemmatization to reduce them to their base form (e.g., \"running\" becomes \"run\"). See how this creates cleaner data for analysis!"
   ]
  },
  {
   "cell_type": "code",
   "execution_count": 25,
   "metadata": {},
   "outputs": [
    {
     "name": "stderr",
     "output_type": "stream",
     "text": [
      "[nltk_data] Downloading package wordnet to\n",
      "[nltk_data]     C:\\Users\\edwar\\AppData\\Roaming\\nltk_data...\n",
      "[nltk_data]   Package wordnet is already up-to-date!\n",
      "[nltk_data] Downloading package punkt_tab to\n",
      "[nltk_data]     C:\\Users\\edwar\\AppData\\Roaming\\nltk_data...\n",
      "[nltk_data]   Package punkt_tab is already up-to-date!\n",
      "[nltk_data] Downloading package averaged_perceptron_tagger_eng to\n",
      "[nltk_data]     C:\\Users\\edwar\\AppData\\Roaming\\nltk_data...\n",
      "[nltk_data]   Package averaged_perceptron_tagger_eng is already up-to-\n",
      "[nltk_data]       date!\n"
     ]
    },
    {
     "name": "stdout",
     "output_type": "stream",
     "text": [
      "BEFORE LEMMATIZATION:\n",
      "----------- REGARDS, MR NELSON SMITH.KINDLY REPLY ME ON MY PRIVATE EMAIL ADDRESS;nelsonsmith2000@yahoo.com\n",
      "\n",
      "AFTER ALL CLEANING AND LEMMATIZATION:\n",
      "regard mr nelson smith kindly reply private email address nelsonsmith yahoo com\n"
     ]
    }
   ],
   "source": [
    "# Your code\n",
    "from nltk.stem import WordNetLemmatizer\n",
    "from nltk import word_tokenize\n",
    "import nltk\n",
    "\n",
    "# Download required NLTK data if you haven't already\n",
    "nltk.download('wordnet')\n",
    "nltk.download('punkt_tab')\n",
    "nltk.download('averaged_perceptron_tagger_eng')\n",
    "\n",
    "# Initialize the lemmatizer\n",
    "lemmatizer = WordNetLemmatizer()\n",
    "\n",
    "def lemmatize_text(text):\n",
    "    # Tokenize the text into words\n",
    "    words = word_tokenize(text)\n",
    "    \n",
    "    # Lemmatize each word\n",
    "    lemmatized_words = [lemmatizer.lemmatize(word) for word in words]\n",
    "    \n",
    "    # Join the words back together\n",
    "    return ' '.join(lemmatized_words)\n",
    "\n",
    "# Apply lemmatization to the clean_text column\n",
    "data_train['clean_text'] = data_train['clean_text'].apply(lemmatize_text)\n",
    "data_val['clean_text'] = data_val['clean_text'].apply(lemmatize_text)\n",
    "\n",
    "# Let's see an example of the transformation\n",
    "print(\"BEFORE LEMMATIZATION:\")\n",
    "print(data_train['text'].iloc[0])\n",
    "print(\"\\nAFTER ALL CLEANING AND LEMMATIZATION:\")\n",
    "print(data_train['clean_text'].iloc[0])"
   ]
  },
  {
   "cell_type": "markdown",
   "metadata": {},
   "source": [
    "## Bag Of Words\n",
    "Let's get the 10 top words in ham and spam messages (**EXPLORATORY DATA ANALYSIS**)"
   ]
  },
  {
   "cell_type": "code",
   "execution_count": 26,
   "metadata": {},
   "outputs": [
    {
     "data": {
      "image/png": "[encoded data removed]",
      "text/plain": [
       "<Figure size 1500x500 with 2 Axes>"
      ]
     },
     "metadata": {},
     "output_type": "display_data"
    },
    {
     "name": "stdout",
     "output_type": "stream",
     "text": [
      "\n",
      "Top 10 words in Ham messages:\n",
      "state: 116\n",
      "pm: 97\n",
      "would: 94\n",
      "president: 89\n",
      "mr: 89\n",
      "time: 81\n",
      "percent: 80\n",
      "obama: 77\n",
      "call: 74\n",
      "secretary: 74\n",
      "\n",
      "Top 10 words in Spam messages:\n",
      "money: 842\n",
      "account: 740\n",
      "bank: 645\n",
      "fund: 625\n",
      "u: 598\n",
      "transaction: 466\n",
      "business: 424\n",
      "mr: 422\n",
      "country: 419\n",
      "million: 369\n"
     ]
    }
   ],
   "source": [
    "# Your code\n",
    "from collections import Counter\n",
    "import matplotlib.pyplot as plt\n",
    "\n",
    "# Function to get word frequencies\n",
    "def get_word_freq(texts):\n",
    "    # Combine all texts into one list of words\n",
    "    all_words = ' '.join(texts).split()\n",
    "    # Count word frequencies\n",
    "    return Counter(all_words)\n",
    "\n",
    "# Separate ham and spam messages\n",
    "ham_messages = data_train[data_train['label'] == 0]['clean_text']\n",
    "spam_messages = data_train[data_train['label'] == 1]['clean_text']\n",
    "\n",
    "# Get word frequencies for both\n",
    "ham_word_freq = get_word_freq(ham_messages)\n",
    "spam_word_freq = get_word_freq(spam_messages)\n",
    "\n",
    "# Get top 10 words for each\n",
    "ham_top_10 = dict(sorted(ham_word_freq.items(), key=lambda x: x[1], reverse=True)[:10])\n",
    "spam_top_10 = dict(sorted(spam_word_freq.items(), key=lambda x: x[1], reverse=True)[:10])\n",
    "\n",
    "# Create subplots for visualization\n",
    "fig, (ax1, ax2) = plt.subplots(1, 2, figsize=(15, 5))\n",
    "\n",
    "# Plot ham words\n",
    "ax1.bar(ham_top_10.keys(), ham_top_10.values(), color='green')\n",
    "ax1.set_title('Top 10 Words in Ham Messages')\n",
    "ax1.tick_params(axis='x', rotation=45)\n",
    "\n",
    "# Plot spam words\n",
    "ax2.bar(spam_top_10.keys(), spam_top_10.values(), color='red')\n",
    "ax2.set_title('Top 10 Words in Spam Messages')\n",
    "ax2.tick_params(axis='x', rotation=45)\n",
    "\n",
    "plt.tight_layout()\n",
    "plt.show()\n",
    "\n",
    "# Print the frequencies\n",
    "print(\"\\nTop 10 words in Ham messages:\")\n",
    "for word, count in ham_top_10.items():\n",
    "    print(f\"{word}: {count}\")\n",
    "\n",
    "print(\"\\nTop 10 words in Spam messages:\")\n",
    "for word, count in spam_top_10.items():\n",
    "    print(f\"{word}: {count}\")"
   ]
  },
  {
   "cell_type": "markdown",
   "metadata": {},
   "source": [
    "## Extra features"
   ]
  },
  {
   "cell_type": "code",
   "execution_count": 27,
   "metadata": {},
   "outputs": [
    {
     "name": "stdout",
     "output_type": "stream",
     "text": [
      "\n",
      "Sample of the new features:\n",
      "                                            clean_text  money_mark  \\\n",
      "29   regard mr nelson smith kindly reply private em...           1   \n",
      "535         able reach oscar supposed send pdb receive           1   \n",
      "695  huma abedin checking pat work jack jake rest a...           1   \n",
      "557                             announced monday today           1   \n",
      "836  bank africaagence san pedro bp san pedro cote ...           1   \n",
      "\n",
      "     suspicious_words  text_len  \n",
      "29                  0        79  \n",
      "535                 0        42  \n",
      "695                 0        76  \n",
      "557                 0        22  \n",
      "836                 1      1050  \n",
      "\n",
      "Statistics of new features:\n",
      "\n",
      "Money marks found: 800\n",
      "Suspicious words found: 355\n",
      "Average text length: 963.03875\n"
     ]
    }
   ],
   "source": [
    "# Define our patterns\n",
    "money_simbol_list = \"|\".join([\"euro\",\"dollar\",\"pound\",\"€\",\"$\"])\n",
    "suspicious_words = \"|\".join([\"free\",\"cheap\",\"sex\",\"money\",\"account\",\"bank\",\"fund\",\"transfer\",\"transaction\",\"win\",\"deposit\",\"password\"])\n",
    "\n",
    "# Add features using 'clean_text' instead of 'preprocessed_text'\n",
    "data_train['money_mark'] = data_train['clean_text'].str.contains(money_simbol_list)*1\n",
    "data_train['suspicious_words'] = data_train['clean_text'].str.contains(suspicious_words)*1\n",
    "data_train['text_len'] = data_train['clean_text'].apply(lambda x: len(x)) \n",
    "\n",
    "# Do the same for validation set\n",
    "data_val['money_mark'] = data_val['clean_text'].str.contains(money_simbol_list)*1\n",
    "data_val['suspicious_words'] = data_val['clean_text'].str.contains(suspicious_words)*1\n",
    "data_val['text_len'] = data_val['clean_text'].apply(lambda x: len(x)) \n",
    "\n",
    "# Let's see what we got\n",
    "print(\"\\nSample of the new features:\")\n",
    "print(data_train[['clean_text', 'money_mark', 'suspicious_words', 'text_len']].head())\n",
    "\n",
    "# Print some statistics\n",
    "print(\"\\nStatistics of new features:\")\n",
    "print(\"\\nMoney marks found:\", data_train['money_mark'].sum())\n",
    "print(\"Suspicious words found:\", data_train['suspicious_words'].sum())\n",
    "print(\"Average text length:\", data_train['text_len'].mean())"
   ]
  },
  {
   "cell_type": "markdown",
   "metadata": {},
   "source": [
    "# We add to the original dataframe two additional indicators (money symbols and suspicious words).\n",
    "money_simbol_list = \"|\".join([\"euro\",\"dollar\",\"pound\",\"€\",r\"\\$\"])\n",
    "suspicious_words = \"|\".join([\"free\",\"cheap\",\"sex\",\"money\",\"account\",\"bank\",\"fund\",\"transfer\",\"transaction\",\"win\",\"deposit\",\"password\"])\n",
    "\n",
    "data_train['money_mark'] = data_train['preprocessed_text'].str.contains(money_simbol_list)*1\n",
    "data_train['suspicious_words'] = data_train['preprocessed_text'].str.contains(suspicious_words)*1\n",
    "data_train['text_len'] = data_train['preprocessed_text'].apply(lambda x: len(x)) \n",
    "\n",
    "data_val['money_mark'] = data_val['preprocessed_text'].str.contains(money_simbol_list)*1\n",
    "data_val['suspicious_words'] = data_val['preprocessed_text'].str.contains(suspicious_words)*1\n",
    "data_val['text_len'] = data_val['preprocessed_text'].apply(lambda x: len(x)) \n",
    "\n",
    "data_train.head()"
   ]
  },
  {
   "cell_type": "markdown",
   "metadata": {},
   "source": [
    "## How would work the Bag of Words with Count Vectorizer concept?"
   ]
  },
  {
   "cell_type": "code",
   "execution_count": 28,
   "metadata": {},
   "outputs": [
    {
     "name": "stdout",
     "output_type": "stream",
     "text": [
      "Vocabulary size: 1000\n",
      "\n",
      "First 20 words in vocabulary:\n",
      "['ab' 'abacha' 'abandoned' 'abidjan' 'able' 'abroad' 'ac' 'accept'\n",
      " 'acceptance' 'access' 'accord' 'according' 'account' 'accounting'\n",
      " 'across' 'act' 'action' 'actual' 'actually' 'ad']\n",
      "\n",
      "Shape of training data: (800, 1000)\n",
      "Shape of validation data: (200, 1000)\n",
      "\n",
      "Top 10 words in first document:\n",
      "address: 1\n",
      "com: 1\n",
      "email: 1\n",
      "kindly: 1\n",
      "mr: 1\n",
      "private: 1\n",
      "regard: 1\n",
      "reply: 1\n",
      "smith: 1\n",
      "yahoo: 1\n"
     ]
    }
   ],
   "source": [
    "# Your code\n",
    "from sklearn.feature_extraction.text import CountVectorizer\n",
    "\n",
    "# Initialize the CountVectorizer\n",
    "# We'll set some parameters:\n",
    "# - max_features: limit to top 1000 most frequent words\n",
    "# - min_df: ignore words that appear in less than 2 documents\n",
    "# - max_df: ignore words that appear in more than 90% of documents\n",
    "vectorizer = CountVectorizer(max_features=1000, min_df=2, max_df=0.9)\n",
    "\n",
    "# Fit and transform the training data\n",
    "X_train_bow = vectorizer.fit_transform(data_train['clean_text'])\n",
    "\n",
    "# Transform the validation data (only transform, not fit)\n",
    "X_val_bow = vectorizer.transform(data_val['clean_text'])\n",
    "\n",
    "# Get feature names (words)\n",
    "feature_names = vectorizer.get_feature_names_out()\n",
    "\n",
    "# Look at the vocabulary and some statistics\n",
    "print(\"Vocabulary size:\", len(feature_names))\n",
    "print(\"\\nFirst 20 words in vocabulary:\")\n",
    "print(feature_names[:20])\n",
    "\n",
    "# Show the shape of our transformed data\n",
    "print(\"\\nShape of training data:\", X_train_bow.shape)\n",
    "print(\"Shape of validation data:\", X_val_bow.shape)\n",
    "\n",
    "# Let's look at the first document's word counts\n",
    "first_doc = X_train_bow[0].toarray()[0]\n",
    "words_freq = [(word, count) for word, count in zip(feature_names, first_doc) if count > 0]\n",
    "sorted_words = sorted(words_freq, key=lambda x: x[1], reverse=True)\n",
    "\n",
    "print(\"\\nTop 10 words in first document:\")\n",
    "for word, count in sorted_words[:10]:\n",
    "    print(f\"{word}: {count}\")"
   ]
  },
  {
   "cell_type": "markdown",
   "metadata": {},
   "source": [
    "The Bag of Words approach is useful because:\n",
    "It converts text into numerical features that machine learning models can use\n",
    "It preserves word frequency information\n",
    "It's simple but effective for many text classification tasks"
   ]
  },
  {
   "cell_type": "markdown",
   "metadata": {},
   "source": [
    "## TF-IDF\n",
    "\n",
    "- Load the vectorizer\n",
    "\n",
    "- Vectorize all dataset\n",
    "\n",
    "- print the shape of the vetorized dataset"
   ]
  },
  {
   "cell_type": "code",
   "execution_count": 29,
   "metadata": {},
   "outputs": [
    {
     "name": "stdout",
     "output_type": "stream",
     "text": [
      "Vocabulary size: 1000\n",
      "\n",
      "Shape of training set: (800, 1000)\n",
      "Shape of validation set: (200, 1000)\n",
      "\n",
      "Top 10 words by TF-IDF score in first document:\n",
      "smith: 0.4996\n",
      "kindly: 0.3625\n",
      "yahoo: 0.3330\n",
      "com: 0.3082\n",
      "reply: 0.2825\n",
      "private: 0.2715\n",
      "address: 0.2664\n",
      "email: 0.2650\n",
      "regard: 0.2616\n",
      "mr: 0.2233\n"
     ]
    }
   ],
   "source": [
    "# Your code\n",
    "from sklearn.feature_extraction.text import TfidfVectorizer\n",
    "\n",
    "# Initialize the TF-IDF vectorizer\n",
    "# Similar parameters to CountVectorizer for consistency\n",
    "tfidf_vectorizer = TfidfVectorizer(max_features=1000, \n",
    "                                  min_df=2, \n",
    "                                  max_df=0.9)\n",
    "\n",
    "# Fit and transform the training data\n",
    "X_train_tfidf = tfidf_vectorizer.fit_transform(data_train['clean_text'])\n",
    "\n",
    "# Transform the validation data\n",
    "X_val_tfidf = tfidf_vectorizer.transform(data_val['clean_text'])\n",
    "\n",
    "# Get feature names\n",
    "feature_names = tfidf_vectorizer.get_feature_names_out()\n",
    "\n",
    "# Print information about the vectorized dataset\n",
    "print(\"Vocabulary size:\", len(feature_names))\n",
    "print(\"\\nShape of training set:\", X_train_tfidf.shape)\n",
    "print(\"Shape of validation set:\", X_val_tfidf.shape)\n",
    "\n",
    "# Let's look at some of the features and their TF-IDF scores\n",
    "# Get the first document's features\n",
    "first_doc = X_train_tfidf[0]\n",
    "\n",
    "# Create a list of (word, tfidf_score) pairs for non-zero entries\n",
    "tfidf_scores = [(feature_names[i], first_doc[0, i]) \n",
    "                for i in first_doc.nonzero()[1]]\n",
    "\n",
    "# Sort by TF-IDF score\n",
    "sorted_scores = sorted(tfidf_scores, key=lambda x: x[1], reverse=True)\n",
    "\n",
    "print(\"\\nTop 10 words by TF-IDF score in first document:\")\n",
    "for word, score in sorted_scores[:10]:\n",
    "    print(f\"{word}: {score:.4f}\")"
   ]
  },
  {
   "cell_type": "markdown",
   "metadata": {},
   "source": [
    "The main difference between TF-IDF and Bag of Words is:\n",
    "Bag of Words just counts word occurrences\n",
    "TF-IDF weighs words based on how important they are:\n",
    "Common words in a document get higher TF (Term Frequency)\n",
    "Words that appear in many documents get lower IDF (Inverse Document Frequency)\n",
    "This helps identify distinctive words that are important for classification"
   ]
  },
  {
   "cell_type": "markdown",
   "metadata": {},
   "source": [
    "## And the Train a Classifier?"
   ]
  },
  {
   "cell_type": "code",
   "execution_count": 30,
   "metadata": {},
   "outputs": [
    {
     "name": "stdout",
     "output_type": "stream",
     "text": [
      "Training Set Performance:\n",
      "              precision    recall  f1-score   support\n",
      "\n",
      "           0       0.97      0.99      0.98       433\n",
      "           1       0.98      0.97      0.98       367\n",
      "\n",
      "    accuracy                           0.98       800\n",
      "   macro avg       0.98      0.98      0.98       800\n",
      "weighted avg       0.98      0.98      0.98       800\n",
      "\n",
      "\n",
      "Validation Set Performance:\n",
      "              precision    recall  f1-score   support\n",
      "\n",
      "           0       0.98      0.97      0.97       125\n",
      "           1       0.95      0.96      0.95        75\n",
      "\n",
      "    accuracy                           0.96       200\n",
      "   macro avg       0.96      0.96      0.96       200\n",
      "weighted avg       0.97      0.96      0.97       200\n",
      "\n"
     ]
    },
    {
     "data": {
      "image/png": "[encoded data removed]",
      "text/plain": [
       "<Figure size 800x600 with 2 Axes>"
      ]
     },
     "metadata": {},
     "output_type": "display_data"
    },
    {
     "name": "stdout",
     "output_type": "stream",
     "text": [
      "\n",
      "Example Predictions:\n",
      "\n",
      "Text: dear sir wish go offer consider partner ei mr esamson bamogu cfrom republic sierra leone west africa...\n",
      "True Label: Spam\n",
      "Predicted Label: Spam\n",
      "\n",
      "Text: take mind balkan second see great plug global entrepreneurship program whichlorraine hariton steve k...\n",
      "True Label: Ham\n",
      "Predicted Label: Ham\n",
      "\n",
      "Text: pls keep update coming...\n",
      "True Label: Ham\n",
      "Predicted Label: Ham\n",
      "\n",
      "Text: christ bethel hospital rue abobote abidjanivory coast dearest beloved sister anita adam johnson ivor...\n",
      "True Label: Spam\n",
      "Predicted Label: Spam\n",
      "\n",
      "Text: sbwhoeopfriday february amhre bravo brava issue statement sidwill find invite uk irish ambassador st...\n",
      "True Label: Ham\n",
      "Predicted Label: Ham\n",
      "\n",
      "Top spam-indicating words:\n",
      "bank: 2.5290\n",
      "fund: 2.5099\n",
      "money: 2.5031\n",
      "account: 2.4904\n",
      "transaction: 2.3157\n",
      "transfer: 2.1030\n",
      "kin: 1.9668\n",
      "nbsp: 1.9008\n",
      "dollar: 1.8359\n",
      "million: 1.8211\n",
      "\n",
      "Top ham-indicating words:\n",
      "fyi: -4.2904\n",
      "cheryl: -3.1251\n",
      "tomorrow: -3.0986\n",
      "ok: -2.9308\n",
      "pm: -2.7625\n",
      "gov: -2.6517\n",
      "print: -2.5401\n",
      "pls: -2.5204\n",
      "talk: -2.3771\n",
      "meeting: -2.3482\n"
     ]
    }
   ],
   "source": [
    "from sklearn.naive_bayes import MultinomialNB\n",
    "from sklearn.metrics import classification_report, confusion_matrix\n",
    "import seaborn as sns\n",
    "import numpy as np\n",
    "\n",
    "# 1. Initialize and train the classifier\n",
    "clf = MultinomialNB()\n",
    "clf.fit(X_train_tfidf, data_train['label'])\n",
    "\n",
    "# 2. Make predictions\n",
    "train_predictions = clf.predict(X_train_tfidf)\n",
    "val_predictions = clf.predict(X_val_tfidf)\n",
    "\n",
    "# 3. Evaluate the model\n",
    "print(\"Training Set Performance:\")\n",
    "print(classification_report(data_train['label'], train_predictions))\n",
    "print(\"\\nValidation Set Performance:\")\n",
    "print(classification_report(data_val['label'], val_predictions))\n",
    "\n",
    "# 4. Visualize confusion matrix\n",
    "plt.figure(figsize=(8, 6))\n",
    "cm = confusion_matrix(data_val['label'], val_predictions)\n",
    "sns.heatmap(cm, annot=True, fmt='d', cmap='Blues')\n",
    "plt.title('Confusion Matrix (Validation Set)')\n",
    "plt.ylabel('True Label (0=Ham, 1=Spam)')\n",
    "plt.xlabel('Predicted Label (0=Ham, 1=Spam)')\n",
    "plt.show()\n",
    "\n",
    "# 5. Print some example predictions\n",
    "print(\"\\nExample Predictions:\")\n",
    "for i in range(5):\n",
    "    text = data_val['clean_text'].iloc[i]\n",
    "    true_label = data_val['label'].iloc[i]\n",
    "    pred_label = clf.predict(X_val_tfidf[i])[0]\n",
    "    \n",
    "    print(f\"\\nText: {text[:100]}...\")  # Show first 100 characters\n",
    "    print(f\"True Label: {'Spam' if true_label == 1 else 'Ham'}\")\n",
    "    print(f\"Predicted Label: {'Spam' if pred_label == 1 else 'Ham'}\")\n",
    "\n",
    "# 6. Print feature importance using probability estimates instead\n",
    "feature_names = tfidf_vectorizer.get_feature_names_out()\n",
    "# Get probability estimates for spam class\n",
    "probs = clf.feature_log_prob_[1] - clf.feature_log_prob_[0]\n",
    "top_spam_idx = np.argsort(probs)[-10:]  # Top 10 spam features\n",
    "top_ham_idx = np.argsort(probs)[:10]    # Top 10 ham features\n",
    "\n",
    "print(\"\\nTop spam-indicating words:\")\n",
    "for idx in reversed(top_spam_idx):\n",
    "    print(f\"{feature_names[idx]}: {probs[idx]:.4f}\")\n",
    "\n",
    "print(\"\\nTop ham-indicating words:\")\n",
    "for idx in top_ham_idx:\n",
    "    print(f\"{feature_names[idx]}: {probs[idx]:.4f}\")"
   ]
  },
  {
   "cell_type": "markdown",
   "metadata": {},
   "source": [
    "### Extra Task - Implement a SPAM/HAM classifier\n",
    "\n",
    "https://www.kaggle.com/t/b384e34013d54d238490103bc3c360ce\n",
    "\n",
    "The classifier can not be changed!!! It must be the MultinimialNB with default parameters!\n",
    "\n",
    "Your task is to **find the most relevant features**.\n",
    "\n",
    "For example, you can test the following options and check which of them performs better:\n",
    "- Using \"Bag of Words\" only\n",
    "- Using \"TF-IDF\" only\n",
    "- Bag of Words + extra flags (money_mark, suspicious_words, text_len)\n",
    "- TF-IDF + extra flags\n",
    "\n",
    "\n",
    "You can work with teams of two persons (recommended)."
   ]
  },
  {
   "cell_type": "code",
   "execution_count": 31,
   "metadata": {},
   "outputs": [
    {
     "name": "stdout",
     "output_type": "stream",
     "text": [
      "Basic TF-IDF Performance:\n",
      "              precision    recall  f1-score   support\n",
      "\n",
      "           0       0.98      0.97      0.97       125\n",
      "           1       0.95      0.96      0.95        75\n",
      "\n",
      "    accuracy                           0.96       200\n",
      "   macro avg       0.96      0.96      0.96       200\n",
      "weighted avg       0.97      0.96      0.97       200\n",
      "\n",
      "\n",
      "Character N-grams Performance:\n",
      "              precision    recall  f1-score   support\n",
      "\n",
      "           0       0.94      0.95      0.95       125\n",
      "           1       0.92      0.91      0.91        75\n",
      "\n",
      "    accuracy                           0.94       200\n",
      "   macro avg       0.93      0.93      0.93       200\n",
      "weighted avg       0.93      0.94      0.93       200\n",
      "\n",
      "\n",
      "Word N-grams Performance:\n",
      "              precision    recall  f1-score   support\n",
      "\n",
      "           0       0.98      0.97      0.97       125\n",
      "           1       0.95      0.96      0.95        75\n",
      "\n",
      "    accuracy                           0.96       200\n",
      "   macro avg       0.96      0.96      0.96       200\n",
      "weighted avg       0.97      0.96      0.97       200\n",
      "\n",
      "\n",
      "Combined Features Performance:\n",
      "              precision    recall  f1-score   support\n",
      "\n",
      "           0       0.95      0.96      0.96       125\n",
      "           1       0.93      0.92      0.93        75\n",
      "\n",
      "    accuracy                           0.94       200\n",
      "   macro avg       0.94      0.94      0.94       200\n",
      "weighted avg       0.94      0.94      0.94       200\n",
      "\n",
      "\n",
      "Best performing feature representation can be used for the Kaggle submission!\n"
     ]
    }
   ],
   "source": [
    "from sklearn.feature_extraction.text import TfidfVectorizer\n",
    "from sklearn.naive_bayes import MultinomialNB\n",
    "from sklearn.metrics import classification_report\n",
    "import numpy as np\n",
    "\n",
    "def evaluate_model(X_train, X_val, y_train, y_val):\n",
    "    # Initialize and train classifier (must use MultinomialNB with default parameters)\n",
    "    clf = MultinomialNB()\n",
    "    clf.fit(X_train, y_train)\n",
    "    \n",
    "    # Make predictions\n",
    "    val_pred = clf.predict(X_val)\n",
    "    \n",
    "    # Return validation score\n",
    "    return classification_report(y_val, val_pred)\n",
    "\n",
    "# 1. Basic TF-IDF with different parameters\n",
    "tfidf_basic = TfidfVectorizer(max_features=1000, min_df=2, max_df=0.9)\n",
    "X_train_basic = tfidf_basic.fit_transform(data_train['clean_text'])\n",
    "X_val_basic = tfidf_basic.transform(data_val['clean_text'])\n",
    "\n",
    "print(\"Basic TF-IDF Performance:\")\n",
    "print(evaluate_model(X_train_basic, X_val_basic, data_train['label'], data_val['label']))\n",
    "\n",
    "# 2. TF-IDF with character n-grams\n",
    "tfidf_chars = TfidfVectorizer(analyzer='char', ngram_range=(3,5), max_features=1000)\n",
    "X_train_chars = tfidf_chars.fit_transform(data_train['clean_text'])\n",
    "X_val_chars = tfidf_chars.transform(data_val['clean_text'])\n",
    "\n",
    "print(\"\\nCharacter N-grams Performance:\")\n",
    "print(evaluate_model(X_train_chars, X_val_chars, data_train['label'], data_val['label']))\n",
    "\n",
    "# 3. TF-IDF with word n-grams\n",
    "tfidf_words = TfidfVectorizer(ngram_range=(1,2), max_features=1000)\n",
    "X_train_words = tfidf_words.fit_transform(data_train['clean_text'])\n",
    "X_val_words = tfidf_words.transform(data_val['clean_text'])\n",
    "\n",
    "print(\"\\nWord N-grams Performance:\")\n",
    "print(evaluate_model(X_train_words, X_val_words, data_train['label'], data_val['label']))\n",
    "\n",
    "# 4. Combine TF-IDF features with additional features\n",
    "from scipy.sparse import hstack\n",
    "\n",
    "# Create additional features\n",
    "def get_extra_features(texts):\n",
    "    features = np.zeros((len(texts), 4))\n",
    "    for i, text in enumerate(texts):\n",
    "        features[i, 0] = len(text)  # Text length\n",
    "        features[i, 1] = text.count('!')  # Count exclamations\n",
    "        features[i, 2] = sum(1 for c in text if c.isupper())  # Count uppercase\n",
    "        features[i, 3] = len(text.split())  # Word count\n",
    "    return features\n",
    "\n",
    "# Get extra features for both sets\n",
    "train_extra = get_extra_features(data_train['clean_text'])\n",
    "val_extra = get_extra_features(data_val['clean_text'])\n",
    "\n",
    "# Combine with best performing TF-IDF features\n",
    "X_train_combined = hstack([X_train_words, train_extra])\n",
    "X_val_combined = hstack([X_val_words, val_extra])\n",
    "\n",
    "print(\"\\nCombined Features Performance:\")\n",
    "print(evaluate_model(X_train_combined, X_val_combined, data_train['label'], data_val['label']))\n",
    "\n",
    "# Print best performing approach\n",
    "print(\"\\nBest performing feature representation can be used for the Kaggle submission!\")"
   ]
  }
 ],
 "metadata": {
  "celltoolbar": "Slideshow",
  "kernelspec": {
   "display_name": "Python 3 (ipykernel)",
   "language": "python",
   "name": "python3"
  },
  "language_info": {
   "codemirror_mode": {
    "name": "ipython",
    "version": 3
   },
   "file_extension": ".py",
   "mimetype": "text/x-python",
   "name": "python",
   "nbconvert_exporter": "python",
   "pygments_lexer": "ipython3",
   "version": "3.9.18"
  }
 },
 "nbformat": 4,
 "nbformat_minor": 2
}
