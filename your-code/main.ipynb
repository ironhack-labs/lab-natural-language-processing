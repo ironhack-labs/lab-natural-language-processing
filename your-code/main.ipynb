{
  "cells": [
    {
      "cell_type": "code",
      "execution_count": 1,
      "metadata": {
        "colab": {
          "base_uri": "https://localhost:8080/",
          "height": 17
        },
        "id": "-gUgFtAR1i-S",
        "outputId": "d65b3b11-0c1a-48d0-f0ab-4e4caeaa67de"
      },
      "outputs": [
        {
          "output_type": "display_data",
          "data": {
            "text/plain": [
              "<IPython.core.display.HTML object>"
            ],
            "text/html": [
              "<style>.container { width:100% !important; }</style>"
            ]
          },
          "metadata": {}
        }
      ],
      "source": [
        "from IPython.core.display import display, HTML\n",
        "display(HTML(\"<style>.container { width:100% !important; }</style>\"))"
      ]
    },
    {
      "cell_type": "markdown",
      "metadata": {
        "id": "wuubNZEF1i-U"
      },
      "source": [
        "# Lab | Natural Language Processing\n",
        "### SMS: SPAM or HAM"
      ]
    },
    {
      "cell_type": "markdown",
      "metadata": {
        "id": "rWqLhO231i-V"
      },
      "source": [
        "### Let's prepare the environment"
      ]
    },
    {
      "cell_type": "code",
      "execution_count": 2,
      "metadata": {
        "id": "nKY5owRa1i-V"
      },
      "outputs": [],
      "source": [
        "import pandas as pd\n",
        "import matplotlib.pyplot as plt\n",
        "from sklearn.feature_extraction.text import TfidfVectorizer\n",
        "from sklearn.model_selection import train_test_split"
      ]
    },
    {
      "cell_type": "markdown",
      "metadata": {
        "id": "sq1sg78r1i-W"
      },
      "source": [
        "- Read Data for the Fraudulent Email Kaggle Challenge\n",
        "- Reduce the training set to speed up development."
      ]
    },
    {
      "cell_type": "code",
      "execution_count": 3,
      "metadata": {
        "colab": {
          "base_uri": "https://localhost:8080/"
        },
        "id": "5bWQiX741i-W",
        "outputId": "d3621bc4-ac35-4999-96e6-853b845d0777"
      },
      "outputs": [
        {
          "output_type": "stream",
          "name": "stdout",
          "text": [
            "(1000, 2)\n"
          ]
        }
      ],
      "source": [
        "## Read Data for the Fraudulent Email Kaggle Challenge\n",
        "data = pd.read_csv(\"/content/kg_train.csv\",encoding='latin-1')\n",
        "\n",
        "# Reduce the training set to speed up development.\n",
        "# Modify for final system\n",
        "data = data.head(1000)\n",
        "print(data.shape)\n",
        "data.fillna(\"\",inplace=True)"
      ]
    },
    {
      "cell_type": "markdown",
      "metadata": {
        "id": "kvP9ozQm1i-W"
      },
      "source": [
        "### Let's divide the training and test set into two partitions"
      ]
    },
    {
      "cell_type": "code",
      "execution_count": 4,
      "metadata": {
        "colab": {
          "base_uri": "https://localhost:8080/",
          "height": 206
        },
        "id": "iWIoSWxJ1i-W",
        "outputId": "2aabac93-e4bd-451f-ad11-e7c20fcbd98b"
      },
      "outputs": [
        {
          "output_type": "execute_result",
          "data": {
            "text/plain": [
              "                                                 text  label\n",
              "0   DEAR SIR, STRICTLY A PRIVATE BUSINESS PROPOSAL...      1\n",
              "2   Nora--Cheryl has emailed dozens of memos about...      0\n",
              "6   Dear Sir,I am Engr. Ugo Nzego with the Enginee...      1\n",
              "7   Abedin Huma <AbedinH@state.gov>Saturday Novemb...      0\n",
              "10  STRONG><A href=3D\"http://www.cnn.com/2003/WORL...      1"
            ],
            "text/html": [
              "\n",
              "  <div id=\"df-89a45e89-162d-447e-8913-e1367084a2ca\" class=\"colab-df-container\">\n",
              "    <div>\n",
              "<style scoped>\n",
              "    .dataframe tbody tr th:only-of-type {\n",
              "        vertical-align: middle;\n",
              "    }\n",
              "\n",
              "    .dataframe tbody tr th {\n",
              "        vertical-align: top;\n",
              "    }\n",
              "\n",
              "    .dataframe thead th {\n",
              "        text-align: right;\n",
              "    }\n",
              "</style>\n",
              "<table border=\"1\" class=\"dataframe\">\n",
              "  <thead>\n",
              "    <tr style=\"text-align: right;\">\n",
              "      <th></th>\n",
              "      <th>text</th>\n",
              "      <th>label</th>\n",
              "    </tr>\n",
              "  </thead>\n",
              "  <tbody>\n",
              "    <tr>\n",
              "      <th>0</th>\n",
              "      <td>DEAR SIR, STRICTLY A PRIVATE BUSINESS PROPOSAL...</td>\n",
              "      <td>1</td>\n",
              "    </tr>\n",
              "    <tr>\n",
              "      <th>2</th>\n",
              "      <td>Nora--Cheryl has emailed dozens of memos about...</td>\n",
              "      <td>0</td>\n",
              "    </tr>\n",
              "    <tr>\n",
              "      <th>6</th>\n",
              "      <td>Dear Sir,I am Engr. Ugo Nzego with the Enginee...</td>\n",
              "      <td>1</td>\n",
              "    </tr>\n",
              "    <tr>\n",
              "      <th>7</th>\n",
              "      <td>Abedin Huma &lt;AbedinH@state.gov&gt;Saturday Novemb...</td>\n",
              "      <td>0</td>\n",
              "    </tr>\n",
              "    <tr>\n",
              "      <th>10</th>\n",
              "      <td>STRONG&gt;&lt;A href=3D\"http://www.cnn.com/2003/WORL...</td>\n",
              "      <td>1</td>\n",
              "    </tr>\n",
              "  </tbody>\n",
              "</table>\n",
              "</div>\n",
              "    <div class=\"colab-df-buttons\">\n",
              "\n",
              "  <div class=\"colab-df-container\">\n",
              "    <button class=\"colab-df-convert\" onclick=\"convertToInteractive('df-89a45e89-162d-447e-8913-e1367084a2ca')\"\n",
              "            title=\"Convert this dataframe to an interactive table.\"\n",
              "            style=\"display:none;\">\n",
              "\n",
              "  <svg xmlns=\"http://www.w3.org/2000/svg\" height=\"24px\" viewBox=\"0 -960 960 960\">\n",
              "    <path d=\"M120-120v-720h720v720H120Zm60-500h600v-160H180v160Zm220 220h160v-160H400v160Zm0 220h160v-160H400v160ZM180-400h160v-160H180v160Zm440 0h160v-160H620v160ZM180-180h160v-160H180v160Zm440 0h160v-160H620v160Z\"/>\n",
              "  </svg>\n",
              "    </button>\n",
              "\n",
              "  <style>\n",
              "    .colab-df-container {\n",
              "      display:flex;\n",
              "      gap: 12px;\n",
              "    }\n",
              "\n",
              "    .colab-df-convert {\n",
              "      background-color: #E8F0FE;\n",
              "      border: none;\n",
              "      border-radius: 50%;\n",
              "      cursor: pointer;\n",
              "      display: none;\n",
              "      fill: #1967D2;\n",
              "      height: 32px;\n",
              "      padding: 0 0 0 0;\n",
              "      width: 32px;\n",
              "    }\n",
              "\n",
              "    .colab-df-convert:hover {\n",
              "      background-color: #E2EBFA;\n",
              "      box-shadow: 0px 1px 2px rgba(60, 64, 67, 0.3), 0px 1px 3px 1px rgba(60, 64, 67, 0.15);\n",
              "      fill: #174EA6;\n",
              "    }\n",
              "\n",
              "    .colab-df-buttons div {\n",
              "      margin-bottom: 4px;\n",
              "    }\n",
              "\n",
              "    [theme=dark] .colab-df-convert {\n",
              "      background-color: #3B4455;\n",
              "      fill: #D2E3FC;\n",
              "    }\n",
              "\n",
              "    [theme=dark] .colab-df-convert:hover {\n",
              "      background-color: #434B5C;\n",
              "      box-shadow: 0px 1px 3px 1px rgba(0, 0, 0, 0.15);\n",
              "      filter: drop-shadow(0px 1px 2px rgba(0, 0, 0, 0.3));\n",
              "      fill: #FFFFFF;\n",
              "    }\n",
              "  </style>\n",
              "\n",
              "    <script>\n",
              "      const buttonEl =\n",
              "        document.querySelector('#df-89a45e89-162d-447e-8913-e1367084a2ca button.colab-df-convert');\n",
              "      buttonEl.style.display =\n",
              "        google.colab.kernel.accessAllowed ? 'block' : 'none';\n",
              "\n",
              "      async function convertToInteractive(key) {\n",
              "        const element = document.querySelector('#df-89a45e89-162d-447e-8913-e1367084a2ca');\n",
              "        const dataTable =\n",
              "          await google.colab.kernel.invokeFunction('convertToInteractive',\n",
              "                                                    [key], {});\n",
              "        if (!dataTable) return;\n",
              "\n",
              "        const docLinkHtml = 'Like what you see? Visit the ' +\n",
              "          '<a target=\"_blank\" href=https://colab.research.google.com/notebooks/data_table.ipynb>data table notebook</a>'\n",
              "          + ' to learn more about interactive tables.';\n",
              "        element.innerHTML = '';\n",
              "        dataTable['output_type'] = 'display_data';\n",
              "        await google.colab.output.renderOutput(dataTable, element);\n",
              "        const docLink = document.createElement('div');\n",
              "        docLink.innerHTML = docLinkHtml;\n",
              "        element.appendChild(docLink);\n",
              "      }\n",
              "    </script>\n",
              "  </div>\n",
              "\n",
              "\n",
              "<div id=\"df-c5f1fb30-143d-4fdd-8d7b-3ac911f16a71\">\n",
              "  <button class=\"colab-df-quickchart\" onclick=\"quickchart('df-c5f1fb30-143d-4fdd-8d7b-3ac911f16a71')\"\n",
              "            title=\"Suggest charts\"\n",
              "            style=\"display:none;\">\n",
              "\n",
              "<svg xmlns=\"http://www.w3.org/2000/svg\" height=\"24px\"viewBox=\"0 0 24 24\"\n",
              "     width=\"24px\">\n",
              "    <g>\n",
              "        <path d=\"M19 3H5c-1.1 0-2 .9-2 2v14c0 1.1.9 2 2 2h14c1.1 0 2-.9 2-2V5c0-1.1-.9-2-2-2zM9 17H7v-7h2v7zm4 0h-2V7h2v10zm4 0h-2v-4h2v4z\"/>\n",
              "    </g>\n",
              "</svg>\n",
              "  </button>\n",
              "\n",
              "<style>\n",
              "  .colab-df-quickchart {\n",
              "      --bg-color: #E8F0FE;\n",
              "      --fill-color: #1967D2;\n",
              "      --hover-bg-color: #E2EBFA;\n",
              "      --hover-fill-color: #174EA6;\n",
              "      --disabled-fill-color: #AAA;\n",
              "      --disabled-bg-color: #DDD;\n",
              "  }\n",
              "\n",
              "  [theme=dark] .colab-df-quickchart {\n",
              "      --bg-color: #3B4455;\n",
              "      --fill-color: #D2E3FC;\n",
              "      --hover-bg-color: #434B5C;\n",
              "      --hover-fill-color: #FFFFFF;\n",
              "      --disabled-bg-color: #3B4455;\n",
              "      --disabled-fill-color: #666;\n",
              "  }\n",
              "\n",
              "  .colab-df-quickchart {\n",
              "    background-color: var(--bg-color);\n",
              "    border: none;\n",
              "    border-radius: 50%;\n",
              "    cursor: pointer;\n",
              "    display: none;\n",
              "    fill: var(--fill-color);\n",
              "    height: 32px;\n",
              "    padding: 0;\n",
              "    width: 32px;\n",
              "  }\n",
              "\n",
              "  .colab-df-quickchart:hover {\n",
              "    background-color: var(--hover-bg-color);\n",
              "    box-shadow: 0 1px 2px rgba(60, 64, 67, 0.3), 0 1px 3px 1px rgba(60, 64, 67, 0.15);\n",
              "    fill: var(--button-hover-fill-color);\n",
              "  }\n",
              "\n",
              "  .colab-df-quickchart-complete:disabled,\n",
              "  .colab-df-quickchart-complete:disabled:hover {\n",
              "    background-color: var(--disabled-bg-color);\n",
              "    fill: var(--disabled-fill-color);\n",
              "    box-shadow: none;\n",
              "  }\n",
              "\n",
              "  .colab-df-spinner {\n",
              "    border: 2px solid var(--fill-color);\n",
              "    border-color: transparent;\n",
              "    border-bottom-color: var(--fill-color);\n",
              "    animation:\n",
              "      spin 1s steps(1) infinite;\n",
              "  }\n",
              "\n",
              "  @keyframes spin {\n",
              "    0% {\n",
              "      border-color: transparent;\n",
              "      border-bottom-color: var(--fill-color);\n",
              "      border-left-color: var(--fill-color);\n",
              "    }\n",
              "    20% {\n",
              "      border-color: transparent;\n",
              "      border-left-color: var(--fill-color);\n",
              "      border-top-color: var(--fill-color);\n",
              "    }\n",
              "    30% {\n",
              "      border-color: transparent;\n",
              "      border-left-color: var(--fill-color);\n",
              "      border-top-color: var(--fill-color);\n",
              "      border-right-color: var(--fill-color);\n",
              "    }\n",
              "    40% {\n",
              "      border-color: transparent;\n",
              "      border-right-color: var(--fill-color);\n",
              "      border-top-color: var(--fill-color);\n",
              "    }\n",
              "    60% {\n",
              "      border-color: transparent;\n",
              "      border-right-color: var(--fill-color);\n",
              "    }\n",
              "    80% {\n",
              "      border-color: transparent;\n",
              "      border-right-color: var(--fill-color);\n",
              "      border-bottom-color: var(--fill-color);\n",
              "    }\n",
              "    90% {\n",
              "      border-color: transparent;\n",
              "      border-bottom-color: var(--fill-color);\n",
              "    }\n",
              "  }\n",
              "</style>\n",
              "\n",
              "  <script>\n",
              "    async function quickchart(key) {\n",
              "      const quickchartButtonEl =\n",
              "        document.querySelector('#' + key + ' button');\n",
              "      quickchartButtonEl.disabled = true;  // To prevent multiple clicks.\n",
              "      quickchartButtonEl.classList.add('colab-df-spinner');\n",
              "      try {\n",
              "        const charts = await google.colab.kernel.invokeFunction(\n",
              "            'suggestCharts', [key], {});\n",
              "      } catch (error) {\n",
              "        console.error('Error during call to suggestCharts:', error);\n",
              "      }\n",
              "      quickchartButtonEl.classList.remove('colab-df-spinner');\n",
              "      quickchartButtonEl.classList.add('colab-df-quickchart-complete');\n",
              "    }\n",
              "    (() => {\n",
              "      let quickchartButtonEl =\n",
              "        document.querySelector('#df-c5f1fb30-143d-4fdd-8d7b-3ac911f16a71 button');\n",
              "      quickchartButtonEl.style.display =\n",
              "        google.colab.kernel.accessAllowed ? 'block' : 'none';\n",
              "    })();\n",
              "  </script>\n",
              "</div>\n",
              "\n",
              "    </div>\n",
              "  </div>\n"
            ],
            "application/vnd.google.colaboratory.intrinsic+json": {
              "type": "dataframe",
              "variable_name": "test",
              "summary": "{\n  \"name\": \"test\",\n  \"rows\": 200,\n  \"fields\": [\n    {\n      \"column\": \"text\",\n      \"properties\": {\n        \"dtype\": \"string\",\n        \"num_unique_values\": 200,\n        \"samples\": [\n          \"Sounds good.\",\n          \"Ok great! We'll do ecuador now cause otherwise we lose him.So pinato mubarak lobo.\",\n          \"Heyyy it's me Katherine... husband on business tripcome check out my on-line profile...if you are interested in me, we can sp=end some private time togetherhttp://hottylaugh.com/d/1.phpIf you have found a lady or not to be paired up then continue.http://hottylaugh.com/out/=20----8728140771acas0606--\"\n        ],\n        \"semantic_type\": \"\",\n        \"description\": \"\"\n      }\n    },\n    {\n      \"column\": \"label\",\n      \"properties\": {\n        \"dtype\": \"number\",\n        \"std\": 0,\n        \"min\": 0,\n        \"max\": 1,\n        \"num_unique_values\": 2,\n        \"samples\": [\n          0,\n          1\n        ],\n        \"semantic_type\": \"\",\n        \"description\": \"\"\n      }\n    }\n  ]\n}"
            }
          },
          "metadata": {},
          "execution_count": 4
        }
      ],
      "source": [
        "# Your code\n",
        "\n",
        "train = data.sample(frac=0.8, random_state=200)\n",
        "test = data.drop(train.index)\n",
        "\n",
        "train.head()\n",
        "test.head()\n"
      ]
    },
    {
      "cell_type": "markdown",
      "metadata": {
        "id": "Gv_nT96x1i-X"
      },
      "source": [
        "## Data Preprocessing"
      ]
    },
    {
      "cell_type": "code",
      "execution_count": 5,
      "metadata": {
        "colab": {
          "base_uri": "https://localhost:8080/"
        },
        "id": "YsRTCuyQ1i-X",
        "outputId": "c78bab2f-729b-40fe-9763-7fb23ddfdb5b"
      },
      "outputs": [
        {
          "output_type": "stream",
          "name": "stdout",
          "text": [
            "!\"#$%&'()*+,-./:;<=>?@[\\]^_`{|}~\n",
            "['here', 'there', 'when', 'where', 'why', 'how', 'all', 'any', 'both', 'each']\n"
          ]
        },
        {
          "output_type": "stream",
          "name": "stderr",
          "text": [
            "[nltk_data] Downloading package stopwords to /root/nltk_data...\n",
            "[nltk_data]   Package stopwords is already up-to-date!\n"
          ]
        }
      ],
      "source": [
        "import string\n",
        "import nltk\n",
        "nltk.download('stopwords')\n",
        "from nltk.corpus import stopwords\n",
        "print(string.punctuation)\n",
        "print(stopwords.words(\"english\")[100:110])\n",
        "from nltk.stem.snowball import SnowballStemmer\n",
        "snowball = SnowballStemmer('english')"
      ]
    },
    {
      "cell_type": "markdown",
      "metadata": {
        "id": "OebEqwie1i-X"
      },
      "source": [
        "## Now, we have to clean the html code removing words\n",
        "\n",
        "- First we remove inline JavaScript/CSS\n",
        "- Then we remove html comments. This has to be done before removing regular tags since comments can contain '>' characters\n",
        "- Next we can remove the remaining tags"
      ]
    },
    {
      "cell_type": "code",
      "execution_count": 6,
      "metadata": {
        "colab": {
          "base_uri": "https://localhost:8080/"
        },
        "id": "lKo5zpUE1i-X",
        "outputId": "2847651d-5dc6-4de3-e282-850ed0f52a8b"
      },
      "outputs": [
        {
          "output_type": "stream",
          "name": "stderr",
          "text": [
            "<ipython-input-6-ecfcb959b5fd>:8: MarkupResemblesLocatorWarning: The input looks more like a filename than markup. You may want to open this file and pass the filehandle into Beautiful Soup.\n",
            "  soup = BeautifulSoup(text, \"html.parser\")\n"
          ]
        },
        {
          "output_type": "stream",
          "name": "stdout",
          "text": [
            "Dear friend,I am making this contact with you based on trust and confidence I have foryou, your Company and God irrespective of the fact that we have notmet before and because of the nature of the business I am about to introduceto you,I want to remain positive having the faith, the willand convincing myself that you will be interested and capable to do businesswith me.This business proposal I wish to intimate you with isof mutual benefit and its success is entirely based on mutualtrust,cooperation and a high levelof confidentiality as regard thistransaction.My name is Mr. Daniel Johnson The kind of the relationship andthe confidential nature makes it imperative for me to contact youdirectly by email. A German, Late Estate Magnate Mr.Andreas Schranner, amajority stakeholder in Korean Real Estate Company ,until his deathyears ago in 25th July,2000 CONCORDE plane clash [Flight AF4590]http:/ews.bbc.co.uk/1/hi/worl d/europe/859479.stm>),There is a fixeddeposit of US$48,000,000.00(Fourty Eight Million United States Dollars) madein a Korea bank since 1998 which is eight years now and sincethenno claim or withdrawal have been made on that deposit.Fortunately, I have been the person in charge of this deposit from the dayof deposit to date. This great late Estate Magnate died without awritten or oral 'WILL' attached to the account with respect to hisinvestment in Korea Real Estate Company. It is because of the perceivedpossibility of not being able to locate any of his next of kin. Rapidly,Itook the precaution of converting this funds worthUS$48,000,000.00Dollarsto the[open secure progamme] and deposited it withOPEN BENEFICARY-which allowsanybody or person that has accurateinformationto the deposit can lay claim to it.As a proposed partner i must confided in you immensely,therefore to use myposition to move this money outside Korea through dedicated bank inEurope to your designated account with consolidated arrangement. It can betransferred to your custody if you are willing and assure me of yourability to handle such a sum and honesty that I will not be cheated out whenthe money comes into your account.I am willing to let you keep 20%of this fund for your assistance.Indicate your willingness by return email.Sincerely yours,Mr Daniel Johnson.\n",
            "DEAR SIR, STRICTLY A PRIVATE BUSINESS PROPOSAL I AM MIKE CHUKWU , THE MANAGER, BILLS AND EXCHANGE AT THE FOREIGN REMITTANCE DEPARTMENT OF THE ZENITH INTERNATIONAL BANK PLC. I AM WRITING THIS LETTER TO ASK FOR YOUR SUPPORT AND COOPERATION TO CARRY OUT THIS BUSINESS OPPORTUNITY IN MY DEPARTMENT. WE DISCOVERED AN ABANDONED SUM OF $15,000,000.00 (FIFTEEN MILLION UNITED STATES DOLLARS ONLY) IN AN ACCOUNT THAT BELONGS TO ONE OF OUR FOREIGN CUSTOMERS WHO DIED ALONG WITH HIS ENTIRE FAMILY OF A WIFE AND TWO CHILDREN IN NOVEMBER 1997 IN A PLANE CRASH. SINCE WE HEARD OF HIS DEATH, WE HAVE BEEN EXPECTING HIS NEXT-OF-KIN TO COME OVER AND PUT CLAIMS FOR HIS MONEY AS THE HEIR,BECAUSE WE CANNOT RELEASE THE FUND FROM HIS ACCOUNT UNLESS SOMEONE APPLIES FOR CLAIM AS THE NEXT-OF-KIN TO THE DECEASED AS INDICATED IN OUR BANKING GUIDELINES. UNFORTUNATELY, NEITHER THEIR FAMILY MEMBER NOR DISTANT RELATIVE HAS EVER APPEARED TO CLAIM THE SAID FUND. UPON THIS DISCOVERY,I AND OTHER OFFICIALS IN MY DEPARTMENT HAVE AGREED TO MAKE BUSINESS WITH YOU AND RELEASE THE TOTAL AMOUNT INTO YOUR ACCOUNT AS THE HEIR OF THE FUND SINCE NO ONE CAME FOR IT OR DISCOVERED HE MAINTAINED ACCOUNT WITH OUR BANK, OTHERWISE THE FUND WILL BE RETURNED TO THE BANKS TREASURY AS UNCLAIMED FUND. WE HAVE AGREED THAT OUR RATIO OF SHARING WILL BE AS STATED THUS; 30 % FOR YOU AS FOREIGN PARTNER, 60 % FOR US THE OFFICIALS IN MY DEPARTMENT AND 10% FOR THE SETTLEMENT OF ALL LOCAL AND FOREIGN EXPENCES INCURRED BY US AND YOU DURING THE COURSE OF THIS BUSINESS. UPON THE SUCCESSFUL COMPLETION OF THIS TRANSFER, I AND ONE OF MY COLLEAGUES WILL COME TO YOUR COUNTRY AND MIND OUR SHARE. IT IS FROM OUR 60 % WE INTEND TO IMPORT AGRICULTURAL MACHINERIES INTO MY COUNTRY AS A WAY OF RECYCLING THE FUND. TO COMMENCE THIS TRANSACTION, WE REQUIRE YOU TO IMMEDIATELY INDICATE YOUR INTEREST BY A RETURN E-MAIL AND ENCLOSE YOUR PRIVATE CONTACT TELEPHONE NUMBER, FAX NUMBER FULL NAME AND ADDRESS AND YOUR DESIGNATED BANK COORDINATES TO ENABLE US FILE LETTER OF CLAIM TO THE APPROPRIATE DEPARTMENTS FOR NECESSARY APPROVALS BEFORE THE TRANSFER CAN BE MADE. NOTE ALSO, THIS TRANSACTION MUST BE KEPT STRICTLY CONFIDENTIAL BECAUSE OF IT'S NATURE. I LOOK FORWARD TO RECEIVING YOUR PROMPT RESPONSE. REGARDS, MR. MIKE CHUKWU ZENITH INTERNATIONAL BANK PLC . \n"
          ]
        },
        {
          "output_type": "stream",
          "name": "stderr",
          "text": [
            "<ipython-input-6-ecfcb959b5fd>:8: MarkupResemblesLocatorWarning: The input looks more like a URL than markup. You may want to use an HTTP client like requests to get the document behind the URL, and feed that document to Beautiful Soup.\n",
            "  soup = BeautifulSoup(text, \"html.parser\")\n"
          ]
        }
      ],
      "source": [
        "# Your code\n",
        "# Your code\n",
        "from bs4 import BeautifulSoup\n",
        "import re\n",
        "\n",
        "# remove javascript, css, from my training data and test data\n",
        "def remove_html_tags(text):\n",
        "    soup = BeautifulSoup(text, \"html.parser\")\n",
        "    stripped_text = soup.get_text(separator=\" \")\n",
        "    return stripped_text\n",
        "\n",
        "# Apply the function to the train and test data\n",
        "train['text'] = train['text'].apply(remove_html_tags)\n",
        "test['text'] = test['text'].apply(remove_html_tags)\n",
        "\n",
        "# Check if the function works\n",
        "print(train['text'].iloc[0])\n",
        "print(test['text'].iloc[0])"
      ]
    },
    {
      "cell_type": "code",
      "source": [
        "# Remove html comments\n",
        "def remove_html_comments(text):\n",
        "    return re.sub(r\"<!--.*?-->\", \"\", text)\n",
        "\n",
        "# Apply the function to the train and test data\n",
        "train['text'] = train['text'].apply(remove_html_comments)\n",
        "test['text'] = test['text'].apply(remove_html_comments)\n",
        "\n",
        "# Check if the function works\n",
        "print(train['text'].iloc[0])\n",
        "print(test['text'].iloc[0])"
      ],
      "metadata": {
        "colab": {
          "base_uri": "https://localhost:8080/"
        },
        "id": "q3LINFbk-dSj",
        "outputId": "47e44f6b-5b2e-407c-f286-fd3e7d5a7bae"
      },
      "execution_count": 7,
      "outputs": [
        {
          "output_type": "stream",
          "name": "stdout",
          "text": [
            "Dear friend,I am making this contact with you based on trust and confidence I have foryou, your Company and God irrespective of the fact that we have notmet before and because of the nature of the business I am about to introduceto you,I want to remain positive having the faith, the willand convincing myself that you will be interested and capable to do businesswith me.This business proposal I wish to intimate you with isof mutual benefit and its success is entirely based on mutualtrust,cooperation and a high levelof confidentiality as regard thistransaction.My name is Mr. Daniel Johnson The kind of the relationship andthe confidential nature makes it imperative for me to contact youdirectly by email. A German, Late Estate Magnate Mr.Andreas Schranner, amajority stakeholder in Korean Real Estate Company ,until his deathyears ago in 25th July,2000 CONCORDE plane clash [Flight AF4590]http:/ews.bbc.co.uk/1/hi/worl d/europe/859479.stm>),There is a fixeddeposit of US$48,000,000.00(Fourty Eight Million United States Dollars) madein a Korea bank since 1998 which is eight years now and sincethenno claim or withdrawal have been made on that deposit.Fortunately, I have been the person in charge of this deposit from the dayof deposit to date. This great late Estate Magnate died without awritten or oral 'WILL' attached to the account with respect to hisinvestment in Korea Real Estate Company. It is because of the perceivedpossibility of not being able to locate any of his next of kin. Rapidly,Itook the precaution of converting this funds worthUS$48,000,000.00Dollarsto the[open secure progamme] and deposited it withOPEN BENEFICARY-which allowsanybody or person that has accurateinformationto the deposit can lay claim to it.As a proposed partner i must confided in you immensely,therefore to use myposition to move this money outside Korea through dedicated bank inEurope to your designated account with consolidated arrangement. It can betransferred to your custody if you are willing and assure me of yourability to handle such a sum and honesty that I will not be cheated out whenthe money comes into your account.I am willing to let you keep 20%of this fund for your assistance.Indicate your willingness by return email.Sincerely yours,Mr Daniel Johnson.\n",
            "DEAR SIR, STRICTLY A PRIVATE BUSINESS PROPOSAL I AM MIKE CHUKWU , THE MANAGER, BILLS AND EXCHANGE AT THE FOREIGN REMITTANCE DEPARTMENT OF THE ZENITH INTERNATIONAL BANK PLC. I AM WRITING THIS LETTER TO ASK FOR YOUR SUPPORT AND COOPERATION TO CARRY OUT THIS BUSINESS OPPORTUNITY IN MY DEPARTMENT. WE DISCOVERED AN ABANDONED SUM OF $15,000,000.00 (FIFTEEN MILLION UNITED STATES DOLLARS ONLY) IN AN ACCOUNT THAT BELONGS TO ONE OF OUR FOREIGN CUSTOMERS WHO DIED ALONG WITH HIS ENTIRE FAMILY OF A WIFE AND TWO CHILDREN IN NOVEMBER 1997 IN A PLANE CRASH. SINCE WE HEARD OF HIS DEATH, WE HAVE BEEN EXPECTING HIS NEXT-OF-KIN TO COME OVER AND PUT CLAIMS FOR HIS MONEY AS THE HEIR,BECAUSE WE CANNOT RELEASE THE FUND FROM HIS ACCOUNT UNLESS SOMEONE APPLIES FOR CLAIM AS THE NEXT-OF-KIN TO THE DECEASED AS INDICATED IN OUR BANKING GUIDELINES. UNFORTUNATELY, NEITHER THEIR FAMILY MEMBER NOR DISTANT RELATIVE HAS EVER APPEARED TO CLAIM THE SAID FUND. UPON THIS DISCOVERY,I AND OTHER OFFICIALS IN MY DEPARTMENT HAVE AGREED TO MAKE BUSINESS WITH YOU AND RELEASE THE TOTAL AMOUNT INTO YOUR ACCOUNT AS THE HEIR OF THE FUND SINCE NO ONE CAME FOR IT OR DISCOVERED HE MAINTAINED ACCOUNT WITH OUR BANK, OTHERWISE THE FUND WILL BE RETURNED TO THE BANKS TREASURY AS UNCLAIMED FUND. WE HAVE AGREED THAT OUR RATIO OF SHARING WILL BE AS STATED THUS; 30 % FOR YOU AS FOREIGN PARTNER, 60 % FOR US THE OFFICIALS IN MY DEPARTMENT AND 10% FOR THE SETTLEMENT OF ALL LOCAL AND FOREIGN EXPENCES INCURRED BY US AND YOU DURING THE COURSE OF THIS BUSINESS. UPON THE SUCCESSFUL COMPLETION OF THIS TRANSFER, I AND ONE OF MY COLLEAGUES WILL COME TO YOUR COUNTRY AND MIND OUR SHARE. IT IS FROM OUR 60 % WE INTEND TO IMPORT AGRICULTURAL MACHINERIES INTO MY COUNTRY AS A WAY OF RECYCLING THE FUND. TO COMMENCE THIS TRANSACTION, WE REQUIRE YOU TO IMMEDIATELY INDICATE YOUR INTEREST BY A RETURN E-MAIL AND ENCLOSE YOUR PRIVATE CONTACT TELEPHONE NUMBER, FAX NUMBER FULL NAME AND ADDRESS AND YOUR DESIGNATED BANK COORDINATES TO ENABLE US FILE LETTER OF CLAIM TO THE APPROPRIATE DEPARTMENTS FOR NECESSARY APPROVALS BEFORE THE TRANSFER CAN BE MADE. NOTE ALSO, THIS TRANSACTION MUST BE KEPT STRICTLY CONFIDENTIAL BECAUSE OF IT'S NATURE. I LOOK FORWARD TO RECEIVING YOUR PROMPT RESPONSE. REGARDS, MR. MIKE CHUKWU ZENITH INTERNATIONAL BANK PLC . \n"
          ]
        }
      ]
    },
    {
      "cell_type": "code",
      "source": [
        "# Remove html tags\n",
        "def remove_html_tags(text):\n",
        "    return re.sub(r\"<.*?>\", \"\", text)\n",
        "\n",
        "# Apply the function to the train and test data\n",
        "train['text'] = train['text'].apply(remove_html_tags)\n",
        "test['text'] = test['text'].apply(remove_html_tags)\n",
        "\n",
        "# Check if the function works\n",
        "print(train['text'].iloc[0])\n",
        "print(test['text'].iloc[0])"
      ],
      "metadata": {
        "colab": {
          "base_uri": "https://localhost:8080/"
        },
        "id": "FcDVOu9T-f_o",
        "outputId": "03a2e430-7244-402b-81bc-c0eb628606a6"
      },
      "execution_count": 8,
      "outputs": [
        {
          "output_type": "stream",
          "name": "stdout",
          "text": [
            "Dear friend,I am making this contact with you based on trust and confidence I have foryou, your Company and God irrespective of the fact that we have notmet before and because of the nature of the business I am about to introduceto you,I want to remain positive having the faith, the willand convincing myself that you will be interested and capable to do businesswith me.This business proposal I wish to intimate you with isof mutual benefit and its success is entirely based on mutualtrust,cooperation and a high levelof confidentiality as regard thistransaction.My name is Mr. Daniel Johnson The kind of the relationship andthe confidential nature makes it imperative for me to contact youdirectly by email. A German, Late Estate Magnate Mr.Andreas Schranner, amajority stakeholder in Korean Real Estate Company ,until his deathyears ago in 25th July,2000 CONCORDE plane clash [Flight AF4590]http:/ews.bbc.co.uk/1/hi/worl d/europe/859479.stm>),There is a fixeddeposit of US$48,000,000.00(Fourty Eight Million United States Dollars) madein a Korea bank since 1998 which is eight years now and sincethenno claim or withdrawal have been made on that deposit.Fortunately, I have been the person in charge of this deposit from the dayof deposit to date. This great late Estate Magnate died without awritten or oral 'WILL' attached to the account with respect to hisinvestment in Korea Real Estate Company. It is because of the perceivedpossibility of not being able to locate any of his next of kin. Rapidly,Itook the precaution of converting this funds worthUS$48,000,000.00Dollarsto the[open secure progamme] and deposited it withOPEN BENEFICARY-which allowsanybody or person that has accurateinformationto the deposit can lay claim to it.As a proposed partner i must confided in you immensely,therefore to use myposition to move this money outside Korea through dedicated bank inEurope to your designated account with consolidated arrangement. It can betransferred to your custody if you are willing and assure me of yourability to handle such a sum and honesty that I will not be cheated out whenthe money comes into your account.I am willing to let you keep 20%of this fund for your assistance.Indicate your willingness by return email.Sincerely yours,Mr Daniel Johnson.\n",
            "DEAR SIR, STRICTLY A PRIVATE BUSINESS PROPOSAL I AM MIKE CHUKWU , THE MANAGER, BILLS AND EXCHANGE AT THE FOREIGN REMITTANCE DEPARTMENT OF THE ZENITH INTERNATIONAL BANK PLC. I AM WRITING THIS LETTER TO ASK FOR YOUR SUPPORT AND COOPERATION TO CARRY OUT THIS BUSINESS OPPORTUNITY IN MY DEPARTMENT. WE DISCOVERED AN ABANDONED SUM OF $15,000,000.00 (FIFTEEN MILLION UNITED STATES DOLLARS ONLY) IN AN ACCOUNT THAT BELONGS TO ONE OF OUR FOREIGN CUSTOMERS WHO DIED ALONG WITH HIS ENTIRE FAMILY OF A WIFE AND TWO CHILDREN IN NOVEMBER 1997 IN A PLANE CRASH. SINCE WE HEARD OF HIS DEATH, WE HAVE BEEN EXPECTING HIS NEXT-OF-KIN TO COME OVER AND PUT CLAIMS FOR HIS MONEY AS THE HEIR,BECAUSE WE CANNOT RELEASE THE FUND FROM HIS ACCOUNT UNLESS SOMEONE APPLIES FOR CLAIM AS THE NEXT-OF-KIN TO THE DECEASED AS INDICATED IN OUR BANKING GUIDELINES. UNFORTUNATELY, NEITHER THEIR FAMILY MEMBER NOR DISTANT RELATIVE HAS EVER APPEARED TO CLAIM THE SAID FUND. UPON THIS DISCOVERY,I AND OTHER OFFICIALS IN MY DEPARTMENT HAVE AGREED TO MAKE BUSINESS WITH YOU AND RELEASE THE TOTAL AMOUNT INTO YOUR ACCOUNT AS THE HEIR OF THE FUND SINCE NO ONE CAME FOR IT OR DISCOVERED HE MAINTAINED ACCOUNT WITH OUR BANK, OTHERWISE THE FUND WILL BE RETURNED TO THE BANKS TREASURY AS UNCLAIMED FUND. WE HAVE AGREED THAT OUR RATIO OF SHARING WILL BE AS STATED THUS; 30 % FOR YOU AS FOREIGN PARTNER, 60 % FOR US THE OFFICIALS IN MY DEPARTMENT AND 10% FOR THE SETTLEMENT OF ALL LOCAL AND FOREIGN EXPENCES INCURRED BY US AND YOU DURING THE COURSE OF THIS BUSINESS. UPON THE SUCCESSFUL COMPLETION OF THIS TRANSFER, I AND ONE OF MY COLLEAGUES WILL COME TO YOUR COUNTRY AND MIND OUR SHARE. IT IS FROM OUR 60 % WE INTEND TO IMPORT AGRICULTURAL MACHINERIES INTO MY COUNTRY AS A WAY OF RECYCLING THE FUND. TO COMMENCE THIS TRANSACTION, WE REQUIRE YOU TO IMMEDIATELY INDICATE YOUR INTEREST BY A RETURN E-MAIL AND ENCLOSE YOUR PRIVATE CONTACT TELEPHONE NUMBER, FAX NUMBER FULL NAME AND ADDRESS AND YOUR DESIGNATED BANK COORDINATES TO ENABLE US FILE LETTER OF CLAIM TO THE APPROPRIATE DEPARTMENTS FOR NECESSARY APPROVALS BEFORE THE TRANSFER CAN BE MADE. NOTE ALSO, THIS TRANSACTION MUST BE KEPT STRICTLY CONFIDENTIAL BECAUSE OF IT'S NATURE. I LOOK FORWARD TO RECEIVING YOUR PROMPT RESPONSE. REGARDS, MR. MIKE CHUKWU ZENITH INTERNATIONAL BANK PLC . \n"
          ]
        }
      ]
    },
    {
      "cell_type": "markdown",
      "metadata": {
        "id": "C4giJE9b1i-X"
      },
      "source": [
        "- Remove all the special characters\n",
        "    \n",
        "- Remove numbers\n",
        "    \n",
        "- Remove all single characters\n",
        "\n",
        "- Remove single characters from the start\n",
        "\n",
        "- Substitute multiple spaces with single space\n",
        "\n",
        "- Remove prefixed 'b'\n",
        "\n",
        "- Convert to Lowercase"
      ]
    },
    {
      "cell_type": "code",
      "execution_count": 9,
      "metadata": {
        "id": "ZXf86DuI1i-X",
        "colab": {
          "base_uri": "https://localhost:8080/"
        },
        "outputId": "4ca6ab5d-210a-42a7-d18a-dcdfc560720c"
      },
      "outputs": [
        {
          "output_type": "stream",
          "name": "stdout",
          "text": [
            "Dear friendI am making this contact with you based on trust and confidence I have foryou your Company and God irrespective of the fact that we have notmet before and because of the nature of the business I am about to introduceto youI want to remain positive having the faith the willand convincing myself that you will be interested and capable to do businesswith meThis business proposal I wish to intimate you with isof mutual benefit and its success is entirely based on mutualtrustcooperation and a high levelof confidentiality as regard thistransactionMy name is Mr Daniel Johnson The kind of the relationship andthe confidential nature makes it imperative for me to contact youdirectly by email A German Late Estate Magnate MrAndreas Schranner amajority stakeholder in Korean Real Estate Company until his deathyears ago in 25th July2000 CONCORDE plane clash Flight AF4590httpewsbbccouk1hiworl deurope859479stmThere is a fixeddeposit of US4800000000Fourty Eight Million United States Dollars madein a Korea bank since 1998 which is eight years now and sincethenno claim or withdrawal have been made on that depositFortunately I have been the person in charge of this deposit from the dayof deposit to date This great late Estate Magnate died without awritten or oral WILL attached to the account with respect to hisinvestment in Korea Real Estate Company It is because of the perceivedpossibility of not being able to locate any of his next of kin RapidlyItook the precaution of converting this funds worthUS4800000000Dollarsto theopen secure progamme and deposited it withOPEN BENEFICARYwhich allowsanybody or person that has accurateinformationto the deposit can lay claim to itAs a proposed partner i must confided in you immenselytherefore to use myposition to move this money outside Korea through dedicated bank inEurope to your designated account with consolidated arrangement It can betransferred to your custody if you are willing and assure me of yourability to handle such a sum and honesty that I will not be cheated out whenthe money comes into your accountI am willing to let you keep 20of this fund for your assistanceIndicate your willingness by return emailSincerely yoursMr Daniel Johnson\n",
            "DEAR SIR STRICTLY A PRIVATE BUSINESS PROPOSAL I AM MIKE CHUKWU  THE MANAGER BILLS AND EXCHANGE AT THE FOREIGN REMITTANCE DEPARTMENT OF THE ZENITH INTERNATIONAL BANK PLC I AM WRITING THIS LETTER TO ASK FOR YOUR SUPPORT AND COOPERATION TO CARRY OUT THIS BUSINESS OPPORTUNITY IN MY DEPARTMENT WE DISCOVERED AN ABANDONED SUM OF 1500000000 FIFTEEN MILLION UNITED STATES DOLLARS ONLY IN AN ACCOUNT THAT BELONGS TO ONE OF OUR FOREIGN CUSTOMERS WHO DIED ALONG WITH HIS ENTIRE FAMILY OF A WIFE AND TWO CHILDREN IN NOVEMBER 1997 IN A PLANE CRASH SINCE WE HEARD OF HIS DEATH WE HAVE BEEN EXPECTING HIS NEXTOFKIN TO COME OVER AND PUT CLAIMS FOR HIS MONEY AS THE HEIRBECAUSE WE CANNOT RELEASE THE FUND FROM HIS ACCOUNT UNLESS SOMEONE APPLIES FOR CLAIM AS THE NEXTOFKIN TO THE DECEASED AS INDICATED IN OUR BANKING GUIDELINES UNFORTUNATELY NEITHER THEIR FAMILY MEMBER NOR DISTANT RELATIVE HAS EVER APPEARED TO CLAIM THE SAID FUND UPON THIS DISCOVERYI AND OTHER OFFICIALS IN MY DEPARTMENT HAVE AGREED TO MAKE BUSINESS WITH YOU AND RELEASE THE TOTAL AMOUNT INTO YOUR ACCOUNT AS THE HEIR OF THE FUND SINCE NO ONE CAME FOR IT OR DISCOVERED HE MAINTAINED ACCOUNT WITH OUR BANK OTHERWISE THE FUND WILL BE RETURNED TO THE BANKS TREASURY AS UNCLAIMED FUND WE HAVE AGREED THAT OUR RATIO OF SHARING WILL BE AS STATED THUS 30  FOR YOU AS FOREIGN PARTNER 60  FOR US THE OFFICIALS IN MY DEPARTMENT AND 10 FOR THE SETTLEMENT OF ALL LOCAL AND FOREIGN EXPENCES INCURRED BY US AND YOU DURING THE COURSE OF THIS BUSINESS UPON THE SUCCESSFUL COMPLETION OF THIS TRANSFER I AND ONE OF MY COLLEAGUES WILL COME TO YOUR COUNTRY AND MIND OUR SHARE IT IS FROM OUR 60  WE INTEND TO IMPORT AGRICULTURAL MACHINERIES INTO MY COUNTRY AS A WAY OF RECYCLING THE FUND TO COMMENCE THIS TRANSACTION WE REQUIRE YOU TO IMMEDIATELY INDICATE YOUR INTEREST BY A RETURN EMAIL AND ENCLOSE YOUR PRIVATE CONTACT TELEPHONE NUMBER FAX NUMBER FULL NAME AND ADDRESS AND YOUR DESIGNATED BANK COORDINATES TO ENABLE US FILE LETTER OF CLAIM TO THE APPROPRIATE DEPARTMENTS FOR NECESSARY APPROVALS BEFORE THE TRANSFER CAN BE MADE NOTE ALSO THIS TRANSACTION MUST BE KEPT STRICTLY CONFIDENTIAL BECAUSE OF ITS NATURE I LOOK FORWARD TO RECEIVING YOUR PROMPT RESPONSE REGARDS MR MIKE CHUKWU ZENITH INTERNATIONAL BANK PLC  \n"
          ]
        }
      ],
      "source": [
        "# Your code\n",
        "# remove all special characters\n",
        "def remove_special_characters(text):\n",
        "    return re.sub(r\"[^a-zA-Z0-9\\s]\", \"\", text)\n",
        "\n",
        "# Apply the function to the train and test data\n",
        "train['text'] = train['text'].apply(remove_special_characters)\n",
        "test['text'] = test['text'].apply(remove_special_characters)\n",
        "\n",
        "# Check if the function works\n",
        "print(train['text'].iloc[0])\n",
        "print(test['text'].iloc[0])\n"
      ]
    },
    {
      "cell_type": "code",
      "source": [
        "#remove all numbers from the text data\n",
        "def remove_numbers(text):\n",
        "    return re.sub(r\"\\d\", \"\", text)\n",
        "\n",
        "# Apply the function to the train and test data\n",
        "train['text'] = train['text'].apply(remove_numbers)\n",
        "test['text'] = test['text'].apply(remove_numbers)\n",
        "\n",
        "# Check if the function works\n",
        "print(train['text'].iloc[0])\n",
        "print(test['text'].iloc[0])\n"
      ],
      "metadata": {
        "colab": {
          "base_uri": "https://localhost:8080/"
        },
        "id": "cYg1doRH_ZQs",
        "outputId": "3da241c0-5bac-41a7-f086-cdaacf48606c"
      },
      "execution_count": 10,
      "outputs": [
        {
          "output_type": "stream",
          "name": "stdout",
          "text": [
            "Dear friendI am making this contact with you based on trust and confidence I have foryou your Company and God irrespective of the fact that we have notmet before and because of the nature of the business I am about to introduceto youI want to remain positive having the faith the willand convincing myself that you will be interested and capable to do businesswith meThis business proposal I wish to intimate you with isof mutual benefit and its success is entirely based on mutualtrustcooperation and a high levelof confidentiality as regard thistransactionMy name is Mr Daniel Johnson The kind of the relationship andthe confidential nature makes it imperative for me to contact youdirectly by email A German Late Estate Magnate MrAndreas Schranner amajority stakeholder in Korean Real Estate Company until his deathyears ago in th July CONCORDE plane clash Flight AFhttpewsbbccoukhiworl deuropestmThere is a fixeddeposit of USFourty Eight Million United States Dollars madein a Korea bank since  which is eight years now and sincethenno claim or withdrawal have been made on that depositFortunately I have been the person in charge of this deposit from the dayof deposit to date This great late Estate Magnate died without awritten or oral WILL attached to the account with respect to hisinvestment in Korea Real Estate Company It is because of the perceivedpossibility of not being able to locate any of his next of kin RapidlyItook the precaution of converting this funds worthUSDollarsto theopen secure progamme and deposited it withOPEN BENEFICARYwhich allowsanybody or person that has accurateinformationto the deposit can lay claim to itAs a proposed partner i must confided in you immenselytherefore to use myposition to move this money outside Korea through dedicated bank inEurope to your designated account with consolidated arrangement It can betransferred to your custody if you are willing and assure me of yourability to handle such a sum and honesty that I will not be cheated out whenthe money comes into your accountI am willing to let you keep of this fund for your assistanceIndicate your willingness by return emailSincerely yoursMr Daniel Johnson\n",
            "DEAR SIR STRICTLY A PRIVATE BUSINESS PROPOSAL I AM MIKE CHUKWU  THE MANAGER BILLS AND EXCHANGE AT THE FOREIGN REMITTANCE DEPARTMENT OF THE ZENITH INTERNATIONAL BANK PLC I AM WRITING THIS LETTER TO ASK FOR YOUR SUPPORT AND COOPERATION TO CARRY OUT THIS BUSINESS OPPORTUNITY IN MY DEPARTMENT WE DISCOVERED AN ABANDONED SUM OF  FIFTEEN MILLION UNITED STATES DOLLARS ONLY IN AN ACCOUNT THAT BELONGS TO ONE OF OUR FOREIGN CUSTOMERS WHO DIED ALONG WITH HIS ENTIRE FAMILY OF A WIFE AND TWO CHILDREN IN NOVEMBER  IN A PLANE CRASH SINCE WE HEARD OF HIS DEATH WE HAVE BEEN EXPECTING HIS NEXTOFKIN TO COME OVER AND PUT CLAIMS FOR HIS MONEY AS THE HEIRBECAUSE WE CANNOT RELEASE THE FUND FROM HIS ACCOUNT UNLESS SOMEONE APPLIES FOR CLAIM AS THE NEXTOFKIN TO THE DECEASED AS INDICATED IN OUR BANKING GUIDELINES UNFORTUNATELY NEITHER THEIR FAMILY MEMBER NOR DISTANT RELATIVE HAS EVER APPEARED TO CLAIM THE SAID FUND UPON THIS DISCOVERYI AND OTHER OFFICIALS IN MY DEPARTMENT HAVE AGREED TO MAKE BUSINESS WITH YOU AND RELEASE THE TOTAL AMOUNT INTO YOUR ACCOUNT AS THE HEIR OF THE FUND SINCE NO ONE CAME FOR IT OR DISCOVERED HE MAINTAINED ACCOUNT WITH OUR BANK OTHERWISE THE FUND WILL BE RETURNED TO THE BANKS TREASURY AS UNCLAIMED FUND WE HAVE AGREED THAT OUR RATIO OF SHARING WILL BE AS STATED THUS   FOR YOU AS FOREIGN PARTNER   FOR US THE OFFICIALS IN MY DEPARTMENT AND  FOR THE SETTLEMENT OF ALL LOCAL AND FOREIGN EXPENCES INCURRED BY US AND YOU DURING THE COURSE OF THIS BUSINESS UPON THE SUCCESSFUL COMPLETION OF THIS TRANSFER I AND ONE OF MY COLLEAGUES WILL COME TO YOUR COUNTRY AND MIND OUR SHARE IT IS FROM OUR   WE INTEND TO IMPORT AGRICULTURAL MACHINERIES INTO MY COUNTRY AS A WAY OF RECYCLING THE FUND TO COMMENCE THIS TRANSACTION WE REQUIRE YOU TO IMMEDIATELY INDICATE YOUR INTEREST BY A RETURN EMAIL AND ENCLOSE YOUR PRIVATE CONTACT TELEPHONE NUMBER FAX NUMBER FULL NAME AND ADDRESS AND YOUR DESIGNATED BANK COORDINATES TO ENABLE US FILE LETTER OF CLAIM TO THE APPROPRIATE DEPARTMENTS FOR NECESSARY APPROVALS BEFORE THE TRANSFER CAN BE MADE NOTE ALSO THIS TRANSACTION MUST BE KEPT STRICTLY CONFIDENTIAL BECAUSE OF ITS NATURE I LOOK FORWARD TO RECEIVING YOUR PROMPT RESPONSE REGARDS MR MIKE CHUKWU ZENITH INTERNATIONAL BANK PLC  \n"
          ]
        }
      ]
    },
    {
      "cell_type": "code",
      "source": [
        "#remove all single characters from the text data\n",
        "def remove_single_characters(text):\n",
        "    return re.sub(r\"\\b\\w\\b\", \"\", text)\n",
        "\n",
        "# Apply the function to the train and test data\n",
        "train['text'] = train['text'].apply(remove_single_characters)\n",
        "test['text'] = test['text'].apply(remove_single_characters)\n",
        "\n",
        "# Check if the function works\n",
        "print(train['text'].iloc[0])\n",
        "print(test['text'].iloc[0])"
      ],
      "metadata": {
        "colab": {
          "base_uri": "https://localhost:8080/"
        },
        "id": "vl1XMBYi_b_x",
        "outputId": "66b07517-5b8c-4158-e954-5a95870b94bb"
      },
      "execution_count": 11,
      "outputs": [
        {
          "output_type": "stream",
          "name": "stdout",
          "text": [
            "Dear friendI am making this contact with you based on trust and confidence  have foryou your Company and God irrespective of the fact that we have notmet before and because of the nature of the business  am about to introduceto youI want to remain positive having the faith the willand convincing myself that you will be interested and capable to do businesswith meThis business proposal  wish to intimate you with isof mutual benefit and its success is entirely based on mutualtrustcooperation and  high levelof confidentiality as regard thistransactionMy name is Mr Daniel Johnson The kind of the relationship andthe confidential nature makes it imperative for me to contact youdirectly by email  German Late Estate Magnate MrAndreas Schranner amajority stakeholder in Korean Real Estate Company until his deathyears ago in th July CONCORDE plane clash Flight AFhttpewsbbccoukhiworl deuropestmThere is  fixeddeposit of USFourty Eight Million United States Dollars madein  Korea bank since  which is eight years now and sincethenno claim or withdrawal have been made on that depositFortunately  have been the person in charge of this deposit from the dayof deposit to date This great late Estate Magnate died without awritten or oral WILL attached to the account with respect to hisinvestment in Korea Real Estate Company It is because of the perceivedpossibility of not being able to locate any of his next of kin RapidlyItook the precaution of converting this funds worthUSDollarsto theopen secure progamme and deposited it withOPEN BENEFICARYwhich allowsanybody or person that has accurateinformationto the deposit can lay claim to itAs  proposed partner  must confided in you immenselytherefore to use myposition to move this money outside Korea through dedicated bank inEurope to your designated account with consolidated arrangement It can betransferred to your custody if you are willing and assure me of yourability to handle such  sum and honesty that  will not be cheated out whenthe money comes into your accountI am willing to let you keep of this fund for your assistanceIndicate your willingness by return emailSincerely yoursMr Daniel Johnson\n",
            "DEAR SIR STRICTLY  PRIVATE BUSINESS PROPOSAL  AM MIKE CHUKWU  THE MANAGER BILLS AND EXCHANGE AT THE FOREIGN REMITTANCE DEPARTMENT OF THE ZENITH INTERNATIONAL BANK PLC  AM WRITING THIS LETTER TO ASK FOR YOUR SUPPORT AND COOPERATION TO CARRY OUT THIS BUSINESS OPPORTUNITY IN MY DEPARTMENT WE DISCOVERED AN ABANDONED SUM OF  FIFTEEN MILLION UNITED STATES DOLLARS ONLY IN AN ACCOUNT THAT BELONGS TO ONE OF OUR FOREIGN CUSTOMERS WHO DIED ALONG WITH HIS ENTIRE FAMILY OF  WIFE AND TWO CHILDREN IN NOVEMBER  IN  PLANE CRASH SINCE WE HEARD OF HIS DEATH WE HAVE BEEN EXPECTING HIS NEXTOFKIN TO COME OVER AND PUT CLAIMS FOR HIS MONEY AS THE HEIRBECAUSE WE CANNOT RELEASE THE FUND FROM HIS ACCOUNT UNLESS SOMEONE APPLIES FOR CLAIM AS THE NEXTOFKIN TO THE DECEASED AS INDICATED IN OUR BANKING GUIDELINES UNFORTUNATELY NEITHER THEIR FAMILY MEMBER NOR DISTANT RELATIVE HAS EVER APPEARED TO CLAIM THE SAID FUND UPON THIS DISCOVERYI AND OTHER OFFICIALS IN MY DEPARTMENT HAVE AGREED TO MAKE BUSINESS WITH YOU AND RELEASE THE TOTAL AMOUNT INTO YOUR ACCOUNT AS THE HEIR OF THE FUND SINCE NO ONE CAME FOR IT OR DISCOVERED HE MAINTAINED ACCOUNT WITH OUR BANK OTHERWISE THE FUND WILL BE RETURNED TO THE BANKS TREASURY AS UNCLAIMED FUND WE HAVE AGREED THAT OUR RATIO OF SHARING WILL BE AS STATED THUS   FOR YOU AS FOREIGN PARTNER   FOR US THE OFFICIALS IN MY DEPARTMENT AND  FOR THE SETTLEMENT OF ALL LOCAL AND FOREIGN EXPENCES INCURRED BY US AND YOU DURING THE COURSE OF THIS BUSINESS UPON THE SUCCESSFUL COMPLETION OF THIS TRANSFER  AND ONE OF MY COLLEAGUES WILL COME TO YOUR COUNTRY AND MIND OUR SHARE IT IS FROM OUR   WE INTEND TO IMPORT AGRICULTURAL MACHINERIES INTO MY COUNTRY AS  WAY OF RECYCLING THE FUND TO COMMENCE THIS TRANSACTION WE REQUIRE YOU TO IMMEDIATELY INDICATE YOUR INTEREST BY  RETURN EMAIL AND ENCLOSE YOUR PRIVATE CONTACT TELEPHONE NUMBER FAX NUMBER FULL NAME AND ADDRESS AND YOUR DESIGNATED BANK COORDINATES TO ENABLE US FILE LETTER OF CLAIM TO THE APPROPRIATE DEPARTMENTS FOR NECESSARY APPROVALS BEFORE THE TRANSFER CAN BE MADE NOTE ALSO THIS TRANSACTION MUST BE KEPT STRICTLY CONFIDENTIAL BECAUSE OF ITS NATURE  LOOK FORWARD TO RECEIVING YOUR PROMPT RESPONSE REGARDS MR MIKE CHUKWU ZENITH INTERNATIONAL BANK PLC  \n"
          ]
        }
      ]
    },
    {
      "cell_type": "code",
      "source": [
        "#Remove single characters from the start\n",
        "def remove_single_characters(text):\n",
        "    return re.sub(r\"\\s+[a-zA-Z]\\s+\", \" \", text)\n",
        "\n",
        "# Apply the function to the train and test data\n",
        "train['text'] = train['text'].apply(remove_single_characters)\n",
        "test['text'] = test['text'].apply(remove_single_characters)\n",
        "\n",
        "# Check if the function works\n",
        "print(train['text'].iloc[0])\n",
        "print(test['text'].iloc[0])"
      ],
      "metadata": {
        "colab": {
          "base_uri": "https://localhost:8080/"
        },
        "id": "hmG1t3Cd_rru",
        "outputId": "6b2580b5-a7cc-4e97-ffc5-1cfe581ad6bc"
      },
      "execution_count": 12,
      "outputs": [
        {
          "output_type": "stream",
          "name": "stdout",
          "text": [
            "Dear friendI am making this contact with you based on trust and confidence  have foryou your Company and God irrespective of the fact that we have notmet before and because of the nature of the business  am about to introduceto youI want to remain positive having the faith the willand convincing myself that you will be interested and capable to do businesswith meThis business proposal  wish to intimate you with isof mutual benefit and its success is entirely based on mutualtrustcooperation and  high levelof confidentiality as regard thistransactionMy name is Mr Daniel Johnson The kind of the relationship andthe confidential nature makes it imperative for me to contact youdirectly by email  German Late Estate Magnate MrAndreas Schranner amajority stakeholder in Korean Real Estate Company until his deathyears ago in th July CONCORDE plane clash Flight AFhttpewsbbccoukhiworl deuropestmThere is  fixeddeposit of USFourty Eight Million United States Dollars madein  Korea bank since  which is eight years now and sincethenno claim or withdrawal have been made on that depositFortunately  have been the person in charge of this deposit from the dayof deposit to date This great late Estate Magnate died without awritten or oral WILL attached to the account with respect to hisinvestment in Korea Real Estate Company It is because of the perceivedpossibility of not being able to locate any of his next of kin RapidlyItook the precaution of converting this funds worthUSDollarsto theopen secure progamme and deposited it withOPEN BENEFICARYwhich allowsanybody or person that has accurateinformationto the deposit can lay claim to itAs  proposed partner  must confided in you immenselytherefore to use myposition to move this money outside Korea through dedicated bank inEurope to your designated account with consolidated arrangement It can betransferred to your custody if you are willing and assure me of yourability to handle such  sum and honesty that  will not be cheated out whenthe money comes into your accountI am willing to let you keep of this fund for your assistanceIndicate your willingness by return emailSincerely yoursMr Daniel Johnson\n",
            "DEAR SIR STRICTLY  PRIVATE BUSINESS PROPOSAL  AM MIKE CHUKWU  THE MANAGER BILLS AND EXCHANGE AT THE FOREIGN REMITTANCE DEPARTMENT OF THE ZENITH INTERNATIONAL BANK PLC  AM WRITING THIS LETTER TO ASK FOR YOUR SUPPORT AND COOPERATION TO CARRY OUT THIS BUSINESS OPPORTUNITY IN MY DEPARTMENT WE DISCOVERED AN ABANDONED SUM OF  FIFTEEN MILLION UNITED STATES DOLLARS ONLY IN AN ACCOUNT THAT BELONGS TO ONE OF OUR FOREIGN CUSTOMERS WHO DIED ALONG WITH HIS ENTIRE FAMILY OF  WIFE AND TWO CHILDREN IN NOVEMBER  IN  PLANE CRASH SINCE WE HEARD OF HIS DEATH WE HAVE BEEN EXPECTING HIS NEXTOFKIN TO COME OVER AND PUT CLAIMS FOR HIS MONEY AS THE HEIRBECAUSE WE CANNOT RELEASE THE FUND FROM HIS ACCOUNT UNLESS SOMEONE APPLIES FOR CLAIM AS THE NEXTOFKIN TO THE DECEASED AS INDICATED IN OUR BANKING GUIDELINES UNFORTUNATELY NEITHER THEIR FAMILY MEMBER NOR DISTANT RELATIVE HAS EVER APPEARED TO CLAIM THE SAID FUND UPON THIS DISCOVERYI AND OTHER OFFICIALS IN MY DEPARTMENT HAVE AGREED TO MAKE BUSINESS WITH YOU AND RELEASE THE TOTAL AMOUNT INTO YOUR ACCOUNT AS THE HEIR OF THE FUND SINCE NO ONE CAME FOR IT OR DISCOVERED HE MAINTAINED ACCOUNT WITH OUR BANK OTHERWISE THE FUND WILL BE RETURNED TO THE BANKS TREASURY AS UNCLAIMED FUND WE HAVE AGREED THAT OUR RATIO OF SHARING WILL BE AS STATED THUS   FOR YOU AS FOREIGN PARTNER   FOR US THE OFFICIALS IN MY DEPARTMENT AND  FOR THE SETTLEMENT OF ALL LOCAL AND FOREIGN EXPENCES INCURRED BY US AND YOU DURING THE COURSE OF THIS BUSINESS UPON THE SUCCESSFUL COMPLETION OF THIS TRANSFER  AND ONE OF MY COLLEAGUES WILL COME TO YOUR COUNTRY AND MIND OUR SHARE IT IS FROM OUR   WE INTEND TO IMPORT AGRICULTURAL MACHINERIES INTO MY COUNTRY AS  WAY OF RECYCLING THE FUND TO COMMENCE THIS TRANSACTION WE REQUIRE YOU TO IMMEDIATELY INDICATE YOUR INTEREST BY  RETURN EMAIL AND ENCLOSE YOUR PRIVATE CONTACT TELEPHONE NUMBER FAX NUMBER FULL NAME AND ADDRESS AND YOUR DESIGNATED BANK COORDINATES TO ENABLE US FILE LETTER OF CLAIM TO THE APPROPRIATE DEPARTMENTS FOR NECESSARY APPROVALS BEFORE THE TRANSFER CAN BE MADE NOTE ALSO THIS TRANSACTION MUST BE KEPT STRICTLY CONFIDENTIAL BECAUSE OF ITS NATURE  LOOK FORWARD TO RECEIVING YOUR PROMPT RESPONSE REGARDS MR MIKE CHUKWU ZENITH INTERNATIONAL BANK PLC  \n"
          ]
        }
      ]
    },
    {
      "cell_type": "code",
      "source": [
        "#Substitute multiple spaces with single space\n",
        "def remove_extra_spaces(text):\n",
        "    return re.sub(r\"\\s+\", \" \", text)\n",
        "\n",
        "# Apply the function to the train and test data\n",
        "train['text'] = train['text'].apply(remove_extra_spaces)\n",
        "test['text'] = test['text'].apply(remove_extra_spaces)\n",
        "\n",
        "# Check if the function works\n",
        "print(train['text'].iloc[0])\n",
        "print(test['text'].iloc[0])\n"
      ],
      "metadata": {
        "colab": {
          "base_uri": "https://localhost:8080/"
        },
        "id": "7kCpBZQ6_3bd",
        "outputId": "b73dba98-a7dc-43d8-e4e6-1e26bb787960"
      },
      "execution_count": 13,
      "outputs": [
        {
          "output_type": "stream",
          "name": "stdout",
          "text": [
            "Dear friendI am making this contact with you based on trust and confidence have foryou your Company and God irrespective of the fact that we have notmet before and because of the nature of the business am about to introduceto youI want to remain positive having the faith the willand convincing myself that you will be interested and capable to do businesswith meThis business proposal wish to intimate you with isof mutual benefit and its success is entirely based on mutualtrustcooperation and high levelof confidentiality as regard thistransactionMy name is Mr Daniel Johnson The kind of the relationship andthe confidential nature makes it imperative for me to contact youdirectly by email German Late Estate Magnate MrAndreas Schranner amajority stakeholder in Korean Real Estate Company until his deathyears ago in th July CONCORDE plane clash Flight AFhttpewsbbccoukhiworl deuropestmThere is fixeddeposit of USFourty Eight Million United States Dollars madein Korea bank since which is eight years now and sincethenno claim or withdrawal have been made on that depositFortunately have been the person in charge of this deposit from the dayof deposit to date This great late Estate Magnate died without awritten or oral WILL attached to the account with respect to hisinvestment in Korea Real Estate Company It is because of the perceivedpossibility of not being able to locate any of his next of kin RapidlyItook the precaution of converting this funds worthUSDollarsto theopen secure progamme and deposited it withOPEN BENEFICARYwhich allowsanybody or person that has accurateinformationto the deposit can lay claim to itAs proposed partner must confided in you immenselytherefore to use myposition to move this money outside Korea through dedicated bank inEurope to your designated account with consolidated arrangement It can betransferred to your custody if you are willing and assure me of yourability to handle such sum and honesty that will not be cheated out whenthe money comes into your accountI am willing to let you keep of this fund for your assistanceIndicate your willingness by return emailSincerely yoursMr Daniel Johnson\n",
            "DEAR SIR STRICTLY PRIVATE BUSINESS PROPOSAL AM MIKE CHUKWU THE MANAGER BILLS AND EXCHANGE AT THE FOREIGN REMITTANCE DEPARTMENT OF THE ZENITH INTERNATIONAL BANK PLC AM WRITING THIS LETTER TO ASK FOR YOUR SUPPORT AND COOPERATION TO CARRY OUT THIS BUSINESS OPPORTUNITY IN MY DEPARTMENT WE DISCOVERED AN ABANDONED SUM OF FIFTEEN MILLION UNITED STATES DOLLARS ONLY IN AN ACCOUNT THAT BELONGS TO ONE OF OUR FOREIGN CUSTOMERS WHO DIED ALONG WITH HIS ENTIRE FAMILY OF WIFE AND TWO CHILDREN IN NOVEMBER IN PLANE CRASH SINCE WE HEARD OF HIS DEATH WE HAVE BEEN EXPECTING HIS NEXTOFKIN TO COME OVER AND PUT CLAIMS FOR HIS MONEY AS THE HEIRBECAUSE WE CANNOT RELEASE THE FUND FROM HIS ACCOUNT UNLESS SOMEONE APPLIES FOR CLAIM AS THE NEXTOFKIN TO THE DECEASED AS INDICATED IN OUR BANKING GUIDELINES UNFORTUNATELY NEITHER THEIR FAMILY MEMBER NOR DISTANT RELATIVE HAS EVER APPEARED TO CLAIM THE SAID FUND UPON THIS DISCOVERYI AND OTHER OFFICIALS IN MY DEPARTMENT HAVE AGREED TO MAKE BUSINESS WITH YOU AND RELEASE THE TOTAL AMOUNT INTO YOUR ACCOUNT AS THE HEIR OF THE FUND SINCE NO ONE CAME FOR IT OR DISCOVERED HE MAINTAINED ACCOUNT WITH OUR BANK OTHERWISE THE FUND WILL BE RETURNED TO THE BANKS TREASURY AS UNCLAIMED FUND WE HAVE AGREED THAT OUR RATIO OF SHARING WILL BE AS STATED THUS FOR YOU AS FOREIGN PARTNER FOR US THE OFFICIALS IN MY DEPARTMENT AND FOR THE SETTLEMENT OF ALL LOCAL AND FOREIGN EXPENCES INCURRED BY US AND YOU DURING THE COURSE OF THIS BUSINESS UPON THE SUCCESSFUL COMPLETION OF THIS TRANSFER AND ONE OF MY COLLEAGUES WILL COME TO YOUR COUNTRY AND MIND OUR SHARE IT IS FROM OUR WE INTEND TO IMPORT AGRICULTURAL MACHINERIES INTO MY COUNTRY AS WAY OF RECYCLING THE FUND TO COMMENCE THIS TRANSACTION WE REQUIRE YOU TO IMMEDIATELY INDICATE YOUR INTEREST BY RETURN EMAIL AND ENCLOSE YOUR PRIVATE CONTACT TELEPHONE NUMBER FAX NUMBER FULL NAME AND ADDRESS AND YOUR DESIGNATED BANK COORDINATES TO ENABLE US FILE LETTER OF CLAIM TO THE APPROPRIATE DEPARTMENTS FOR NECESSARY APPROVALS BEFORE THE TRANSFER CAN BE MADE NOTE ALSO THIS TRANSACTION MUST BE KEPT STRICTLY CONFIDENTIAL BECAUSE OF ITS NATURE LOOK FORWARD TO RECEIVING YOUR PROMPT RESPONSE REGARDS MR MIKE CHUKWU ZENITH INTERNATIONAL BANK PLC \n"
          ]
        }
      ]
    },
    {
      "cell_type": "code",
      "source": [
        "#Remove prefixed 'b'\n",
        "def remove_prefixed_b(text):\n",
        "    return re.sub(r\"^b\\s+\", \"\", text)\n",
        "\n",
        "# Apply the function to the train and test data\n",
        "train['text'] = train['text'].apply(remove_prefixed_b)\n",
        "test['text'] = test['text'].apply(remove_prefixed_b)\n",
        "\n",
        "# Check if the function works\n",
        "print(train['text'].iloc[0])\n",
        "print(test['text'].iloc[0])"
      ],
      "metadata": {
        "colab": {
          "base_uri": "https://localhost:8080/"
        },
        "id": "JJEH5NrSAAYi",
        "outputId": "94520306-467d-42e6-b272-8fc16af46875"
      },
      "execution_count": 14,
      "outputs": [
        {
          "output_type": "stream",
          "name": "stdout",
          "text": [
            "Dear friendI am making this contact with you based on trust and confidence have foryou your Company and God irrespective of the fact that we have notmet before and because of the nature of the business am about to introduceto youI want to remain positive having the faith the willand convincing myself that you will be interested and capable to do businesswith meThis business proposal wish to intimate you with isof mutual benefit and its success is entirely based on mutualtrustcooperation and high levelof confidentiality as regard thistransactionMy name is Mr Daniel Johnson The kind of the relationship andthe confidential nature makes it imperative for me to contact youdirectly by email German Late Estate Magnate MrAndreas Schranner amajority stakeholder in Korean Real Estate Company until his deathyears ago in th July CONCORDE plane clash Flight AFhttpewsbbccoukhiworl deuropestmThere is fixeddeposit of USFourty Eight Million United States Dollars madein Korea bank since which is eight years now and sincethenno claim or withdrawal have been made on that depositFortunately have been the person in charge of this deposit from the dayof deposit to date This great late Estate Magnate died without awritten or oral WILL attached to the account with respect to hisinvestment in Korea Real Estate Company It is because of the perceivedpossibility of not being able to locate any of his next of kin RapidlyItook the precaution of converting this funds worthUSDollarsto theopen secure progamme and deposited it withOPEN BENEFICARYwhich allowsanybody or person that has accurateinformationto the deposit can lay claim to itAs proposed partner must confided in you immenselytherefore to use myposition to move this money outside Korea through dedicated bank inEurope to your designated account with consolidated arrangement It can betransferred to your custody if you are willing and assure me of yourability to handle such sum and honesty that will not be cheated out whenthe money comes into your accountI am willing to let you keep of this fund for your assistanceIndicate your willingness by return emailSincerely yoursMr Daniel Johnson\n",
            "DEAR SIR STRICTLY PRIVATE BUSINESS PROPOSAL AM MIKE CHUKWU THE MANAGER BILLS AND EXCHANGE AT THE FOREIGN REMITTANCE DEPARTMENT OF THE ZENITH INTERNATIONAL BANK PLC AM WRITING THIS LETTER TO ASK FOR YOUR SUPPORT AND COOPERATION TO CARRY OUT THIS BUSINESS OPPORTUNITY IN MY DEPARTMENT WE DISCOVERED AN ABANDONED SUM OF FIFTEEN MILLION UNITED STATES DOLLARS ONLY IN AN ACCOUNT THAT BELONGS TO ONE OF OUR FOREIGN CUSTOMERS WHO DIED ALONG WITH HIS ENTIRE FAMILY OF WIFE AND TWO CHILDREN IN NOVEMBER IN PLANE CRASH SINCE WE HEARD OF HIS DEATH WE HAVE BEEN EXPECTING HIS NEXTOFKIN TO COME OVER AND PUT CLAIMS FOR HIS MONEY AS THE HEIRBECAUSE WE CANNOT RELEASE THE FUND FROM HIS ACCOUNT UNLESS SOMEONE APPLIES FOR CLAIM AS THE NEXTOFKIN TO THE DECEASED AS INDICATED IN OUR BANKING GUIDELINES UNFORTUNATELY NEITHER THEIR FAMILY MEMBER NOR DISTANT RELATIVE HAS EVER APPEARED TO CLAIM THE SAID FUND UPON THIS DISCOVERYI AND OTHER OFFICIALS IN MY DEPARTMENT HAVE AGREED TO MAKE BUSINESS WITH YOU AND RELEASE THE TOTAL AMOUNT INTO YOUR ACCOUNT AS THE HEIR OF THE FUND SINCE NO ONE CAME FOR IT OR DISCOVERED HE MAINTAINED ACCOUNT WITH OUR BANK OTHERWISE THE FUND WILL BE RETURNED TO THE BANKS TREASURY AS UNCLAIMED FUND WE HAVE AGREED THAT OUR RATIO OF SHARING WILL BE AS STATED THUS FOR YOU AS FOREIGN PARTNER FOR US THE OFFICIALS IN MY DEPARTMENT AND FOR THE SETTLEMENT OF ALL LOCAL AND FOREIGN EXPENCES INCURRED BY US AND YOU DURING THE COURSE OF THIS BUSINESS UPON THE SUCCESSFUL COMPLETION OF THIS TRANSFER AND ONE OF MY COLLEAGUES WILL COME TO YOUR COUNTRY AND MIND OUR SHARE IT IS FROM OUR WE INTEND TO IMPORT AGRICULTURAL MACHINERIES INTO MY COUNTRY AS WAY OF RECYCLING THE FUND TO COMMENCE THIS TRANSACTION WE REQUIRE YOU TO IMMEDIATELY INDICATE YOUR INTEREST BY RETURN EMAIL AND ENCLOSE YOUR PRIVATE CONTACT TELEPHONE NUMBER FAX NUMBER FULL NAME AND ADDRESS AND YOUR DESIGNATED BANK COORDINATES TO ENABLE US FILE LETTER OF CLAIM TO THE APPROPRIATE DEPARTMENTS FOR NECESSARY APPROVALS BEFORE THE TRANSFER CAN BE MADE NOTE ALSO THIS TRANSACTION MUST BE KEPT STRICTLY CONFIDENTIAL BECAUSE OF ITS NATURE LOOK FORWARD TO RECEIVING YOUR PROMPT RESPONSE REGARDS MR MIKE CHUKWU ZENITH INTERNATIONAL BANK PLC \n"
          ]
        }
      ]
    },
    {
      "cell_type": "code",
      "source": [
        "#Convert to Lowercase\n",
        "def to_lowercase(text):\n",
        "    return text.lower()\n",
        "\n",
        "# Apply the function to the train and test data\n",
        "train['text'] = train['text'].apply(to_lowercase)\n",
        "test['text'] = test['text'].apply(to_lowercase)\n",
        "\n",
        "# Check if the function works\n",
        "print(train['text'].iloc[0])\n",
        "print(test['text'].iloc[0])"
      ],
      "metadata": {
        "colab": {
          "base_uri": "https://localhost:8080/"
        },
        "id": "ufHG6WmlABt2",
        "outputId": "4e7adec5-e16d-403d-c4e9-5c1d2984f780"
      },
      "execution_count": 15,
      "outputs": [
        {
          "output_type": "stream",
          "name": "stdout",
          "text": [
            "dear friendi am making this contact with you based on trust and confidence have foryou your company and god irrespective of the fact that we have notmet before and because of the nature of the business am about to introduceto youi want to remain positive having the faith the willand convincing myself that you will be interested and capable to do businesswith methis business proposal wish to intimate you with isof mutual benefit and its success is entirely based on mutualtrustcooperation and high levelof confidentiality as regard thistransactionmy name is mr daniel johnson the kind of the relationship andthe confidential nature makes it imperative for me to contact youdirectly by email german late estate magnate mrandreas schranner amajority stakeholder in korean real estate company until his deathyears ago in th july concorde plane clash flight afhttpewsbbccoukhiworl deuropestmthere is fixeddeposit of usfourty eight million united states dollars madein korea bank since which is eight years now and sincethenno claim or withdrawal have been made on that depositfortunately have been the person in charge of this deposit from the dayof deposit to date this great late estate magnate died without awritten or oral will attached to the account with respect to hisinvestment in korea real estate company it is because of the perceivedpossibility of not being able to locate any of his next of kin rapidlyitook the precaution of converting this funds worthusdollarsto theopen secure progamme and deposited it withopen beneficarywhich allowsanybody or person that has accurateinformationto the deposit can lay claim to itas proposed partner must confided in you immenselytherefore to use myposition to move this money outside korea through dedicated bank ineurope to your designated account with consolidated arrangement it can betransferred to your custody if you are willing and assure me of yourability to handle such sum and honesty that will not be cheated out whenthe money comes into your accounti am willing to let you keep of this fund for your assistanceindicate your willingness by return emailsincerely yoursmr daniel johnson\n",
            "dear sir strictly private business proposal am mike chukwu the manager bills and exchange at the foreign remittance department of the zenith international bank plc am writing this letter to ask for your support and cooperation to carry out this business opportunity in my department we discovered an abandoned sum of fifteen million united states dollars only in an account that belongs to one of our foreign customers who died along with his entire family of wife and two children in november in plane crash since we heard of his death we have been expecting his nextofkin to come over and put claims for his money as the heirbecause we cannot release the fund from his account unless someone applies for claim as the nextofkin to the deceased as indicated in our banking guidelines unfortunately neither their family member nor distant relative has ever appeared to claim the said fund upon this discoveryi and other officials in my department have agreed to make business with you and release the total amount into your account as the heir of the fund since no one came for it or discovered he maintained account with our bank otherwise the fund will be returned to the banks treasury as unclaimed fund we have agreed that our ratio of sharing will be as stated thus for you as foreign partner for us the officials in my department and for the settlement of all local and foreign expences incurred by us and you during the course of this business upon the successful completion of this transfer and one of my colleagues will come to your country and mind our share it is from our we intend to import agricultural machineries into my country as way of recycling the fund to commence this transaction we require you to immediately indicate your interest by return email and enclose your private contact telephone number fax number full name and address and your designated bank coordinates to enable us file letter of claim to the appropriate departments for necessary approvals before the transfer can be made note also this transaction must be kept strictly confidential because of its nature look forward to receiving your prompt response regards mr mike chukwu zenith international bank plc \n"
          ]
        }
      ]
    },
    {
      "cell_type": "markdown",
      "metadata": {
        "id": "-OIWYKls1i-Y"
      },
      "source": [
        "## Now let's work on removing stopwords\n",
        "Remove the stopwords."
      ]
    },
    {
      "cell_type": "code",
      "execution_count": 16,
      "metadata": {
        "id": "pijJFUrk1i-Y",
        "colab": {
          "base_uri": "https://localhost:8080/"
        },
        "outputId": "40ebb2bb-ce07-4b63-938f-9113618abcc8"
      },
      "outputs": [
        {
          "output_type": "stream",
          "name": "stdout",
          "text": [
            "dear friendi making contact based trust confidence foryou company god irrespective fact notmet nature business introduceto youi want remain positive faith willand convincing interested capable businesswith methis business proposal wish intimate isof mutual benefit success entirely based mutualtrustcooperation high levelof confidentiality regard thistransactionmy name mr daniel johnson kind relationship andthe confidential nature makes imperative contact youdirectly email german late estate magnate mrandreas schranner amajority stakeholder korean real estate company deathyears ago th july concorde plane clash flight afhttpewsbbccoukhiworl deuropestmthere fixeddeposit usfourty eight million united states dollars madein korea bank since eight years sincethenno claim withdrawal made depositfortunately person charge deposit dayof deposit date great late estate magnate died without awritten oral attached account respect hisinvestment korea real estate company perceivedpossibility able locate next kin rapidlyitook precaution converting funds worthusdollarsto theopen secure progamme deposited withopen beneficarywhich allowsanybody person accurateinformationto deposit lay claim itas proposed partner must confided immenselytherefore use myposition move money outside korea dedicated bank ineurope designated account consolidated arrangement betransferred custody willing assure yourability handle sum honesty cheated whenthe money comes accounti willing let keep fund assistanceindicate willingness return emailsincerely yoursmr daniel johnson\n",
            "dear sir strictly private business proposal mike chukwu manager bills exchange foreign remittance department zenith international bank plc writing letter ask support cooperation carry business opportunity department discovered abandoned sum fifteen million united states dollars account belongs one foreign customers died along entire family wife two children november plane crash since heard death expecting nextofkin come put claims money heirbecause cannot release fund account unless someone applies claim nextofkin deceased indicated banking guidelines unfortunately neither family member distant relative ever appeared claim said fund upon discoveryi officials department agreed make business release total amount account heir fund since one came discovered maintained account bank otherwise fund returned banks treasury unclaimed fund agreed ratio sharing stated thus foreign partner us officials department settlement local foreign expences incurred us course business upon successful completion transfer one colleagues come country mind share intend import agricultural machineries country way recycling fund commence transaction require immediately indicate interest return email enclose private contact telephone number fax number full name address designated bank coordinates enable us file letter claim appropriate departments necessary approvals transfer made note also transaction must kept strictly confidential nature look forward receiving prompt response regards mr mike chukwu zenith international bank plc\n"
          ]
        }
      ],
      "source": [
        "# Your code\n",
        "def remove_stopwords(text):\n",
        "    words = text.split()\n",
        "    words = [word for word in words if word not in stopwords.words(\"english\")]\n",
        "    return \" \".join(words)\n",
        "\n",
        "# Apply the function to the train and test data\n",
        "train['text'] = train['text'].apply(remove_stopwords)\n",
        "test['text'] = test['text'].apply(remove_stopwords)\n",
        "\n",
        "# Check if the function works\n",
        "print(train['text'].iloc[0])\n",
        "print(test['text'].iloc[0])\n"
      ]
    },
    {
      "cell_type": "markdown",
      "metadata": {
        "id": "ZM1mM3U31i-Y"
      },
      "source": [
        "## Tame Your Text with Lemmatization\n",
        "Break sentences into words, then use lemmatization to reduce them to their base form (e.g., \"running\" becomes \"run\"). See how this creates cleaner data for analysis!"
      ]
    },
    {
      "cell_type": "code",
      "execution_count": 17,
      "metadata": {
        "id": "pzbMdiPJ1i-Y",
        "colab": {
          "base_uri": "https://localhost:8080/"
        },
        "outputId": "75ea4e99-2984-4457-e871-aeccee6d7cc7"
      },
      "outputs": [
        {
          "output_type": "stream",
          "name": "stderr",
          "text": [
            "[nltk_data] Downloading package wordnet to /root/nltk_data...\n"
          ]
        },
        {
          "output_type": "stream",
          "name": "stdout",
          "text": [
            "dear friendi making contact based trust confidence foryou company god irrespective fact notmet nature business introduceto youi want remain positive faith willand convincing interested capable businesswith methis business proposal wish intimate isof mutual benefit success entirely based mutualtrustcooperation high levelof confidentiality regard thistransactionmy name mr daniel johnson kind relationship andthe confidential nature make imperative contact youdirectly email german late estate magnate mrandreas schranner amajority stakeholder korean real estate company deathyears ago th july concorde plane clash flight afhttpewsbbccoukhiworl deuropestmthere fixeddeposit usfourty eight million united state dollar madein korea bank since eight year sincethenno claim withdrawal made depositfortunately person charge deposit dayof deposit date great late estate magnate died without awritten oral attached account respect hisinvestment korea real estate company perceivedpossibility able locate next kin rapidlyitook precaution converting fund worthusdollarsto theopen secure progamme deposited withopen beneficarywhich allowsanybody person accurateinformationto deposit lay claim itas proposed partner must confided immenselytherefore use myposition move money outside korea dedicated bank ineurope designated account consolidated arrangement betransferred custody willing assure yourability handle sum honesty cheated whenthe money come accounti willing let keep fund assistanceindicate willingness return emailsincerely yoursmr daniel johnson\n",
            "dear sir strictly private business proposal mike chukwu manager bill exchange foreign remittance department zenith international bank plc writing letter ask support cooperation carry business opportunity department discovered abandoned sum fifteen million united state dollar account belongs one foreign customer died along entire family wife two child november plane crash since heard death expecting nextofkin come put claim money heirbecause cannot release fund account unless someone applies claim nextofkin deceased indicated banking guideline unfortunately neither family member distant relative ever appeared claim said fund upon discoveryi official department agreed make business release total amount account heir fund since one came discovered maintained account bank otherwise fund returned bank treasury unclaimed fund agreed ratio sharing stated thus foreign partner u official department settlement local foreign expences incurred u course business upon successful completion transfer one colleague come country mind share intend import agricultural machinery country way recycling fund commence transaction require immediately indicate interest return email enclose private contact telephone number fax number full name address designated bank coordinate enable u file letter claim appropriate department necessary approval transfer made note also transaction must kept strictly confidential nature look forward receiving prompt response regard mr mike chukwu zenith international bank plc\n"
          ]
        }
      ],
      "source": [
        "# Your code\n",
        "#lemmatization\n",
        "from nltk.stem import WordNetLemmatizer\n",
        "nltk.download('wordnet')\n",
        "lemmatizer = WordNetLemmatizer()\n",
        "\n",
        "# break sentences into words using lemmatization\n",
        "def lemmatize_text(text):\n",
        "    words = text.split()\n",
        "    lemmatized_words = [lemmatizer.lemmatize(word) for word in words]\n",
        "    return \" \".join(lemmatized_words)\n",
        "\n",
        "# Apply the function to the train and test data\n",
        "train['text'] = train['text'].apply(lemmatize_text)\n",
        "test['text'] = test['text'].apply(lemmatize_text)\n",
        "\n",
        "# Check if the function works\n",
        "print(train['text'].iloc[0])\n",
        "print(test['text'].iloc[0])\n"
      ]
    },
    {
      "cell_type": "markdown",
      "metadata": {
        "id": "TlUXdUKA1i-Y"
      },
      "source": [
        "## Bag Of Words\n",
        "Let's get the 10 top words in ham and spam messages (**EXPLORATORY DATA ANALYSIS**)"
      ]
    },
    {
      "cell_type": "code",
      "execution_count": 18,
      "metadata": {
        "id": "KzszzN-n1i-Y"
      },
      "outputs": [],
      "source": [
        "# Your code\n"
      ]
    },
    {
      "cell_type": "markdown",
      "metadata": {
        "id": "3myw713s1i-Y"
      },
      "source": [
        "## Extra features"
      ]
    },
    {
      "cell_type": "code",
      "execution_count": 19,
      "metadata": {
        "id": "vb9E1AN61i-Z",
        "colab": {
          "base_uri": "https://localhost:8080/",
          "height": 228
        },
        "outputId": "646e728f-ed1d-4cb3-cfb1-7b5addcecbd9"
      },
      "outputs": [
        {
          "output_type": "error",
          "ename": "NameError",
          "evalue": "name 'data_train' is not defined",
          "traceback": [
            "\u001b[0;31m---------------------------------------------------------------------------\u001b[0m",
            "\u001b[0;31mNameError\u001b[0m                                 Traceback (most recent call last)",
            "\u001b[0;32m<ipython-input-19-2b9181aa88df>\u001b[0m in \u001b[0;36m<cell line: 5>\u001b[0;34m()\u001b[0m\n\u001b[1;32m      3\u001b[0m \u001b[0msuspicious_words\u001b[0m \u001b[0;34m=\u001b[0m \u001b[0;34m\"|\"\u001b[0m\u001b[0;34m.\u001b[0m\u001b[0mjoin\u001b[0m\u001b[0;34m(\u001b[0m\u001b[0;34m[\u001b[0m\u001b[0;34m\"free\"\u001b[0m\u001b[0;34m,\u001b[0m\u001b[0;34m\"cheap\"\u001b[0m\u001b[0;34m,\u001b[0m\u001b[0;34m\"sex\"\u001b[0m\u001b[0;34m,\u001b[0m\u001b[0;34m\"money\"\u001b[0m\u001b[0;34m,\u001b[0m\u001b[0;34m\"account\"\u001b[0m\u001b[0;34m,\u001b[0m\u001b[0;34m\"bank\"\u001b[0m\u001b[0;34m,\u001b[0m\u001b[0;34m\"fund\"\u001b[0m\u001b[0;34m,\u001b[0m\u001b[0;34m\"transfer\"\u001b[0m\u001b[0;34m,\u001b[0m\u001b[0;34m\"transaction\"\u001b[0m\u001b[0;34m,\u001b[0m\u001b[0;34m\"win\"\u001b[0m\u001b[0;34m,\u001b[0m\u001b[0;34m\"deposit\"\u001b[0m\u001b[0;34m,\u001b[0m\u001b[0;34m\"password\"\u001b[0m\u001b[0;34m]\u001b[0m\u001b[0;34m)\u001b[0m\u001b[0;34m\u001b[0m\u001b[0;34m\u001b[0m\u001b[0m\n\u001b[1;32m      4\u001b[0m \u001b[0;34m\u001b[0m\u001b[0m\n\u001b[0;32m----> 5\u001b[0;31m \u001b[0mdata_train\u001b[0m\u001b[0;34m[\u001b[0m\u001b[0;34m'money_mark'\u001b[0m\u001b[0;34m]\u001b[0m \u001b[0;34m=\u001b[0m \u001b[0mdata_train\u001b[0m\u001b[0;34m[\u001b[0m\u001b[0;34m'preprocessed_text'\u001b[0m\u001b[0;34m]\u001b[0m\u001b[0;34m.\u001b[0m\u001b[0mstr\u001b[0m\u001b[0;34m.\u001b[0m\u001b[0mcontains\u001b[0m\u001b[0;34m(\u001b[0m\u001b[0mmoney_simbol_list\u001b[0m\u001b[0;34m)\u001b[0m\u001b[0;34m*\u001b[0m\u001b[0;36m1\u001b[0m\u001b[0;34m\u001b[0m\u001b[0;34m\u001b[0m\u001b[0m\n\u001b[0m\u001b[1;32m      6\u001b[0m \u001b[0mdata_train\u001b[0m\u001b[0;34m[\u001b[0m\u001b[0;34m'suspicious_words'\u001b[0m\u001b[0;34m]\u001b[0m \u001b[0;34m=\u001b[0m \u001b[0mdata_train\u001b[0m\u001b[0;34m[\u001b[0m\u001b[0;34m'preprocessed_text'\u001b[0m\u001b[0;34m]\u001b[0m\u001b[0;34m.\u001b[0m\u001b[0mstr\u001b[0m\u001b[0;34m.\u001b[0m\u001b[0mcontains\u001b[0m\u001b[0;34m(\u001b[0m\u001b[0msuspicious_words\u001b[0m\u001b[0;34m)\u001b[0m\u001b[0;34m*\u001b[0m\u001b[0;36m1\u001b[0m\u001b[0;34m\u001b[0m\u001b[0;34m\u001b[0m\u001b[0m\n\u001b[1;32m      7\u001b[0m \u001b[0mdata_train\u001b[0m\u001b[0;34m[\u001b[0m\u001b[0;34m'text_len'\u001b[0m\u001b[0;34m]\u001b[0m \u001b[0;34m=\u001b[0m \u001b[0mdata_train\u001b[0m\u001b[0;34m[\u001b[0m\u001b[0;34m'preprocessed_text'\u001b[0m\u001b[0;34m]\u001b[0m\u001b[0;34m.\u001b[0m\u001b[0mapply\u001b[0m\u001b[0;34m(\u001b[0m\u001b[0;32mlambda\u001b[0m \u001b[0mx\u001b[0m\u001b[0;34m:\u001b[0m \u001b[0mlen\u001b[0m\u001b[0;34m(\u001b[0m\u001b[0mx\u001b[0m\u001b[0;34m)\u001b[0m\u001b[0;34m)\u001b[0m\u001b[0;34m\u001b[0m\u001b[0;34m\u001b[0m\u001b[0m\n",
            "\u001b[0;31mNameError\u001b[0m: name 'data_train' is not defined"
          ]
        }
      ],
      "source": [
        "# We add to the original dataframe two additional indicators (money symbols and suspicious words).\n",
        "money_simbol_list = \"|\".join([\"euro\",\"dollar\",\"pound\",\"€\",\"$\"])\n",
        "suspicious_words = \"|\".join([\"free\",\"cheap\",\"sex\",\"money\",\"account\",\"bank\",\"fund\",\"transfer\",\"transaction\",\"win\",\"deposit\",\"password\"])\n",
        "\n",
        "data_train['money_mark'] = data_train['preprocessed_text'].str.contains(money_simbol_list)*1\n",
        "data_train['suspicious_words'] = data_train['preprocessed_text'].str.contains(suspicious_words)*1\n",
        "data_train['text_len'] = data_train['preprocessed_text'].apply(lambda x: len(x))\n",
        "\n",
        "data_val['money_mark'] = data_val['preprocessed_text'].str.contains(money_simbol_list)*1\n",
        "data_val['suspicious_words'] = data_val['preprocessed_text'].str.contains(suspicious_words)*1\n",
        "data_val['text_len'] = data_val['preprocessed_text'].apply(lambda x: len(x))\n",
        "\n",
        "data_train.head()"
      ]
    },
    {
      "cell_type": "markdown",
      "metadata": {
        "id": "MwluiING1i-Z"
      },
      "source": [
        "## How would work the Bag of Words with Count Vectorizer concept?"
      ]
    },
    {
      "cell_type": "code",
      "execution_count": null,
      "metadata": {
        "id": "dnqdcar61i-Z"
      },
      "outputs": [],
      "source": [
        "# Your code"
      ]
    },
    {
      "cell_type": "markdown",
      "metadata": {
        "id": "AALwy9CW1i-Z"
      },
      "source": [
        "## TD-IDF\n",
        "\n",
        "- Load the vectorizer\n",
        "\n",
        "- Vectorize all dataset\n",
        "\n",
        "- print the shape of the vetorized dataset"
      ]
    },
    {
      "cell_type": "code",
      "execution_count": null,
      "metadata": {
        "id": "HJSTc5Ey1i-Z"
      },
      "outputs": [],
      "source": [
        "# Your code"
      ]
    },
    {
      "cell_type": "markdown",
      "metadata": {
        "id": "l632d63H1i-Z"
      },
      "source": [
        "## And the Train a Classifier?"
      ]
    },
    {
      "cell_type": "code",
      "execution_count": null,
      "metadata": {
        "id": "m-jz38nh1i-Z"
      },
      "outputs": [],
      "source": [
        "# Your code"
      ]
    },
    {
      "cell_type": "markdown",
      "metadata": {
        "id": "ENNMYVUq1i-a"
      },
      "source": [
        "### Extra Task - Implement a SPAM/HAM classifier\n",
        "\n",
        "https://www.kaggle.com/t/b384e34013d54d238490103bc3c360ce\n",
        "\n",
        "The classifier can not be changed!!! It must be the MultinimialNB with default parameters!\n",
        "\n",
        "Your task is to find the **best feature representation**.\n",
        "\n",
        "You can work with teams of two persons (recommended)."
      ]
    },
    {
      "cell_type": "code",
      "execution_count": null,
      "metadata": {
        "id": "XV-kP9eS1i-a"
      },
      "outputs": [],
      "source": [
        "# Your code"
      ]
    }
  ],
  "metadata": {
    "celltoolbar": "Slideshow",
    "kernelspec": {
      "display_name": "Python 3 (ipykernel)",
      "language": "python",
      "name": "python3"
    },
    "language_info": {
      "codemirror_mode": {
        "name": "ipython",
        "version": 3
      },
      "file_extension": ".py",
      "mimetype": "text/x-python",
      "name": "python",
      "nbconvert_exporter": "python",
      "pygments_lexer": "ipython3",
      "version": "3.11.5"
    },
    "colab": {
      "provenance": []
    }
  },
  "nbformat": 4,
  "nbformat_minor": 0
}