{
 "cells": [
  {
   "cell_type": "code",
   "execution_count": 86,
   "metadata": {},
   "outputs": [
    {
     "name": "stderr",
     "output_type": "stream",
     "text": [
      "C:\\Users\\happy\\AppData\\Local\\Temp\\ipykernel_14164\\3777615979.py:1: DeprecationWarning: Importing display from IPython.core.display is deprecated since IPython 7.14, please import from IPython display\n",
      "  from IPython.core.display import display, HTML\n"
     ]
    },
    {
     "data": {
      "text/html": [
       "<style>.container { width:100% !important; }</style>"
      ],
      "text/plain": [
       "<IPython.core.display.HTML object>"
      ]
     },
     "metadata": {},
     "output_type": "display_data"
    }
   ],
   "source": [
    "from IPython.core.display import display, HTML\n",
    "display(HTML(\"<style>.container { width:100% !important; }</style>\"))"
   ]
  },
  {
   "cell_type": "markdown",
   "metadata": {},
   "source": [
    "# Lab | Natural Language Processing\n",
    "### SMS: SPAM or HAM"
   ]
  },
  {
   "cell_type": "markdown",
   "metadata": {},
   "source": [
    "### Let's prepare the environment"
   ]
  },
  {
   "cell_type": "code",
   "execution_count": 87,
   "metadata": {},
   "outputs": [],
   "source": [
    "import pandas as pd\n",
    "import matplotlib.pyplot as plt\n",
    "from sklearn.feature_extraction.text import TfidfVectorizer"
   ]
  },
  {
   "cell_type": "markdown",
   "metadata": {},
   "source": [
    "- Read Data for the Fraudulent Email Kaggle Challenge\n",
    "- Reduce the training set to speead up development. "
   ]
  },
  {
   "cell_type": "code",
   "execution_count": 88,
   "metadata": {},
   "outputs": [],
   "source": [
    "## Read Data for the Fraudulent Email Kaggle Challenge\n",
    "data_test = pd.read_csv(r\"C:\\Users\\happy\\Documents\\ironhack\\RecoveryPlan\\Week9\\day2\\lab-natural-language-processing\\data\\kg_test.csv\",encoding='latin-1')\n",
    "data_train = pd.read_csv(r\"C:\\Users\\happy\\Documents\\ironhack\\RecoveryPlan\\Week9\\day2\\lab-natural-language-processing\\data\\kg_train.csv\",encoding='latin-1')\n",
    "\n"
   ]
  },
  {
   "cell_type": "markdown",
   "metadata": {},
   "source": [
    "### Let's divide the training and test set into two partitions"
   ]
  },
  {
   "cell_type": "code",
   "execution_count": 89,
   "metadata": {},
   "outputs": [
    {
     "name": "stdout",
     "output_type": "stream",
     "text": [
      "(1000, 2)\n"
     ]
    }
   ],
   "source": [
    "# Reduce the training set to speed up development. \n",
    "# Modify for final system\n",
    "data_train = data_train.head(1000)\n",
    "print(data_train.shape)\n",
    "data_train.fillna(\"\",inplace=True)"
   ]
  },
  {
   "cell_type": "code",
   "execution_count": 90,
   "metadata": {},
   "outputs": [
    {
     "name": "stdout",
     "output_type": "stream",
     "text": [
      "(1000, 1)\n"
     ]
    }
   ],
   "source": [
    "# Reduce the training set to speed up development. \n",
    "# Modify for final system\n",
    "data_test = data_test.head(1000)\n",
    "print(data_test.shape)\n",
    "data_test.fillna(\"\",inplace=True)"
   ]
  },
  {
   "cell_type": "code",
   "execution_count": 91,
   "metadata": {},
   "outputs": [
    {
     "name": "stdout",
     "output_type": "stream",
     "text": [
      "Index(['text'], dtype='object')\n",
      "Index(['text', 'label'], dtype='object')\n"
     ]
    }
   ],
   "source": [
    "print(data_test.columns)\n",
    "print(data_train.columns)"
   ]
  },
  {
   "cell_type": "code",
   "execution_count": 92,
   "metadata": {},
   "outputs": [],
   "source": [
    "\n",
    "vectorizer = TfidfVectorizer(max_features=5000)  # or CountVectorizer\n",
    "X_train = vectorizer.fit_transform(data_train['text'])\n",
    "X_test = vectorizer.transform(data_test['text'])\n",
    "\n",
    "y_train = data_train['label']"
   ]
  },
  {
   "cell_type": "code",
   "execution_count": 93,
   "metadata": {},
   "outputs": [
    {
     "name": "stdout",
     "output_type": "stream",
     "text": [
      "                                                text  predicted_label\n",
      "0  usiness is for the fact that the deceased man ...                1\n",
      "1  They are happy to adjust to the afternoon. I a...                0\n",
      "2  Lael Brainard was confirmed 78-19 this afterno...                0\n",
      "3  H <hrod17@clintonemail.com>Friday March 26 201...                0\n",
      "4  n;\"> Dear Good Friend,<br><br><br>I am happy t...                1\n"
     ]
    }
   ],
   "source": [
    "from sklearn.naive_bayes import MultinomialNB\n",
    "\n",
    "model = MultinomialNB()\n",
    "model.fit(X_train, y_train)\n",
    "\n",
    "predicted_labels = model.predict(X_test)\n",
    "data_test['predicted_label'] = predicted_labels\n",
    "\n",
    "print(data_test.head())\n",
    "data_test.to_csv(\"predicted_test_with_labels.csv\", index=False)\n"
   ]
  },
  {
   "cell_type": "markdown",
   "metadata": {},
   "source": [
    "## Data Preprocessing"
   ]
  },
  {
   "cell_type": "code",
   "execution_count": 94,
   "metadata": {},
   "outputs": [
    {
     "name": "stdout",
     "output_type": "stream",
     "text": [
      "!\"#$%&'()*+,-./:;<=>?@[\\]^_`{|}~\n",
      "['needn', \"needn't\", 'no', 'nor', 'not', 'now', 'o', 'of', 'off', 'on']\n"
     ]
    }
   ],
   "source": [
    "import string\n",
    "from nltk.corpus import stopwords\n",
    "stop_words = set(stopwords.words('english'))\n",
    "print(string.punctuation)\n",
    "print(stopwords.words(\"english\")[100:110])\n",
    "from nltk.stem.snowball import SnowballStemmer\n",
    "snowball = SnowballStemmer('english')"
   ]
  },
  {
   "cell_type": "markdown",
   "metadata": {},
   "source": [
    "## Now, we have to clean the html code removing words\n",
    "\n",
    "- First we remove inline JavaScript/CSS\n",
    "- Then we remove html comments. This has to be done before removing regular tags since comments can contain '>' characters\n",
    "- Next we can remove the remaining tags"
   ]
  },
  {
   "cell_type": "code",
   "execution_count": 95,
   "metadata": {},
   "outputs": [
    {
     "name": "stderr",
     "output_type": "stream",
     "text": [
      "C:\\Users\\happy\\AppData\\Local\\Temp\\ipykernel_14164\\3537460467.py:6: MarkupResemblesLocatorWarning: The input looks more like a filename than markup. You may want to open this file and pass the filehandle into Beautiful Soup.\n",
      "  soup = BeautifulSoup(raw_html, \"html.parser\")\n",
      "C:\\Users\\happy\\AppData\\Local\\Temp\\ipykernel_14164\\3537460467.py:6: MarkupResemblesLocatorWarning: The input looks more like a URL than markup. You may want to use an HTTP client like requests to get the document behind the URL, and feed that document to Beautiful Soup.\n",
      "  soup = BeautifulSoup(raw_html, \"html.parser\")\n",
      "C:\\Users\\happy\\AppData\\Local\\Temp\\ipykernel_14164\\3537460467.py:6: MarkupResemblesLocatorWarning: The input looks more like a filename than markup. You may want to open this file and pass the filehandle into Beautiful Soup.\n",
      "  soup = BeautifulSoup(raw_html, \"html.parser\")\n"
     ]
    }
   ],
   "source": [
    "from bs4 import BeautifulSoup\n",
    "import re\n",
    "\n",
    "def clean_html(raw_html):\n",
    "    # Step 1: Remove script and style tags (inline JS/CSS)\n",
    "    soup = BeautifulSoup(raw_html, \"html.parser\")\n",
    "    for script_or_style in soup([\"script\", \"style\"]):\n",
    "        script_or_style.decompose()\n",
    "\n",
    "    # Step 2: Get the text\n",
    "    text = soup.get_text(separator=' ')\n",
    "\n",
    "    # Step 3: Remove HTML comments (e.g. <!-- ... -->)\n",
    "    text = re.sub(r'<!--.*?-->', '', text, flags=re.DOTALL)\n",
    "\n",
    "    # Step 4: Remove leftover HTML tags (in case any remain)\n",
    "    text = re.sub(r'<[^>]+>', '', text)\n",
    "\n",
    "    return text\n",
    "\n",
    "data_train['clean_text'] = data_train['text'].apply(clean_html)\n",
    "data_test['clean_text'] = data_test['text'].apply(clean_html)"
   ]
  },
  {
   "cell_type": "markdown",
   "metadata": {},
   "source": [
    "- Remove all the special characters\n",
    "    \n",
    "- Remove numbers\n",
    "    \n",
    "- Remove all single characters\n",
    " \n",
    "- Remove single characters from the start\n",
    "\n",
    "- Substitute multiple spaces with single space\n",
    "\n",
    "- Remove prefixed 'b'\n",
    "\n",
    "- Convert to Lowercase"
   ]
  },
  {
   "cell_type": "code",
   "execution_count": 96,
   "metadata": {},
   "outputs": [
    {
     "data": {
      "application/vnd.microsoft.datawrangler.viewer.v0+json": {
       "columns": [
        {
         "name": "index",
         "rawType": "int64",
         "type": "integer"
        },
        {
         "name": "text",
         "rawType": "object",
         "type": "string"
        },
        {
         "name": "label",
         "rawType": "int64",
         "type": "integer"
        },
        {
         "name": "clean_text",
         "rawType": "object",
         "type": "string"
        }
       ],
       "conversionMethod": "pd.DataFrame",
       "ref": "08f8914f-8880-4638-84b1-3410e46e87ed",
       "rows": [
        [
         "0",
         "DEAR SIR, STRICTLY A PRIVATE BUSINESS PROPOSAL I AM MIKE CHUKWU , THE MANAGER, BILLS AND EXCHANGE AT THE FOREIGN REMITTANCE DEPARTMENT OF THE ZENITH INTERNATIONAL BANK PLC. I AM WRITING THIS LETTER TO ASK FOR YOUR SUPPORT AND COOPERATION TO CARRY OUT THIS BUSINESS OPPORTUNITY IN MY DEPARTMENT. WE DISCOVERED AN ABANDONED SUM OF $15,000,000.00 (FIFTEEN MILLION UNITED STATES DOLLARS ONLY) IN AN ACCOUNT THAT BELONGS TO ONE OF OUR FOREIGN CUSTOMERS WHO DIED ALONG WITH HIS ENTIRE FAMILY OF A WIFE AND TWO CHILDREN IN NOVEMBER 1997 IN A PLANE CRASH. SINCE WE HEARD OF HIS DEATH, WE HAVE BEEN EXPECTING HIS NEXT-OF-KIN TO COME OVER AND PUT CLAIMS FOR HIS MONEY AS THE HEIR,BECAUSE WE CANNOT RELEASE THE FUND FROM HIS ACCOUNT UNLESS SOMEONE APPLIES FOR CLAIM AS THE NEXT-OF-KIN TO THE DECEASED AS INDICATED IN OUR BANKING GUIDELINES. UNFORTUNATELY, NEITHER THEIR FAMILY MEMBER NOR DISTANT RELATIVE HAS EVER APPEARED TO CLAIM THE SAID FUND. UPON THIS DISCOVERY,I AND OTHER OFFICIALS IN MY DEPARTMENT HAVE AGREED TO MAKE BUSINESS WITH YOU AND RELEASE THE TOTAL AMOUNT INTO YOUR ACCOUNT AS THE HEIR OF THE FUND SINCE NO ONE CAME FOR IT OR DISCOVERED HE MAINTAINED ACCOUNT WITH OUR BANK, OTHERWISE THE FUND WILL BE RETURNED TO THE BANKS TREASURY AS UNCLAIMED FUND. WE HAVE AGREED THAT OUR RATIO OF SHARING WILL BE AS STATED THUS; 30 % FOR YOU AS FOREIGN PARTNER, 60 % FOR US THE OFFICIALS IN MY DEPARTMENT AND 10% FOR THE SETTLEMENT OF ALL LOCAL AND FOREIGN EXPENCES INCURRED BY US AND YOU DURING THE COURSE OF THIS BUSINESS. UPON THE SUCCESSFUL COMPLETION OF THIS TRANSFER, I AND ONE OF MY COLLEAGUES WILL COME TO YOUR COUNTRY AND MIND OUR SHARE. IT IS FROM OUR 60 % WE INTEND TO IMPORT AGRICULTURAL MACHINERIES INTO MY COUNTRY AS A WAY OF RECYCLING THE FUND. TO COMMENCE THIS TRANSACTION, WE REQUIRE YOU TO IMMEDIATELY INDICATE YOUR INTEREST BY A RETURN E-MAIL AND ENCLOSE YOUR PRIVATE CONTACT TELEPHONE NUMBER, FAX NUMBER FULL NAME AND ADDRESS AND YOUR DESIGNATED BANK COORDINATES TO ENABLE US FILE LETTER OF CLAIM TO THE APPROPRIATE DEPARTMENTS FOR NECESSARY APPROVALS BEFORE THE TRANSFER CAN BE MADE. NOTE ALSO, THIS TRANSACTION MUST BE KEPT STRICTLY CONFIDENTIAL BECAUSE OF IT'S NATURE. I LOOK FORWARD TO RECEIVING YOUR PROMPT RESPONSE. REGARDS, MR. MIKE CHUKWU ZENITH INTERNATIONAL BANK PLC . ",
         "1",
         "DEAR SIR, STRICTLY A PRIVATE BUSINESS PROPOSAL I AM MIKE CHUKWU , THE MANAGER, BILLS AND EXCHANGE AT THE FOREIGN REMITTANCE DEPARTMENT OF THE ZENITH INTERNATIONAL BANK PLC. I AM WRITING THIS LETTER TO ASK FOR YOUR SUPPORT AND COOPERATION TO CARRY OUT THIS BUSINESS OPPORTUNITY IN MY DEPARTMENT. WE DISCOVERED AN ABANDONED SUM OF $15,000,000.00 (FIFTEEN MILLION UNITED STATES DOLLARS ONLY) IN AN ACCOUNT THAT BELONGS TO ONE OF OUR FOREIGN CUSTOMERS WHO DIED ALONG WITH HIS ENTIRE FAMILY OF A WIFE AND TWO CHILDREN IN NOVEMBER 1997 IN A PLANE CRASH. SINCE WE HEARD OF HIS DEATH, WE HAVE BEEN EXPECTING HIS NEXT-OF-KIN TO COME OVER AND PUT CLAIMS FOR HIS MONEY AS THE HEIR,BECAUSE WE CANNOT RELEASE THE FUND FROM HIS ACCOUNT UNLESS SOMEONE APPLIES FOR CLAIM AS THE NEXT-OF-KIN TO THE DECEASED AS INDICATED IN OUR BANKING GUIDELINES. UNFORTUNATELY, NEITHER THEIR FAMILY MEMBER NOR DISTANT RELATIVE HAS EVER APPEARED TO CLAIM THE SAID FUND. UPON THIS DISCOVERY,I AND OTHER OFFICIALS IN MY DEPARTMENT HAVE AGREED TO MAKE BUSINESS WITH YOU AND RELEASE THE TOTAL AMOUNT INTO YOUR ACCOUNT AS THE HEIR OF THE FUND SINCE NO ONE CAME FOR IT OR DISCOVERED HE MAINTAINED ACCOUNT WITH OUR BANK, OTHERWISE THE FUND WILL BE RETURNED TO THE BANKS TREASURY AS UNCLAIMED FUND. WE HAVE AGREED THAT OUR RATIO OF SHARING WILL BE AS STATED THUS; 30 % FOR YOU AS FOREIGN PARTNER, 60 % FOR US THE OFFICIALS IN MY DEPARTMENT AND 10% FOR THE SETTLEMENT OF ALL LOCAL AND FOREIGN EXPENCES INCURRED BY US AND YOU DURING THE COURSE OF THIS BUSINESS. UPON THE SUCCESSFUL COMPLETION OF THIS TRANSFER, I AND ONE OF MY COLLEAGUES WILL COME TO YOUR COUNTRY AND MIND OUR SHARE. IT IS FROM OUR 60 % WE INTEND TO IMPORT AGRICULTURAL MACHINERIES INTO MY COUNTRY AS A WAY OF RECYCLING THE FUND. TO COMMENCE THIS TRANSACTION, WE REQUIRE YOU TO IMMEDIATELY INDICATE YOUR INTEREST BY A RETURN E-MAIL AND ENCLOSE YOUR PRIVATE CONTACT TELEPHONE NUMBER, FAX NUMBER FULL NAME AND ADDRESS AND YOUR DESIGNATED BANK COORDINATES TO ENABLE US FILE LETTER OF CLAIM TO THE APPROPRIATE DEPARTMENTS FOR NECESSARY APPROVALS BEFORE THE TRANSFER CAN BE MADE. NOTE ALSO, THIS TRANSACTION MUST BE KEPT STRICTLY CONFIDENTIAL BECAUSE OF IT'S NATURE. I LOOK FORWARD TO RECEIVING YOUR PROMPT RESPONSE. REGARDS, MR. MIKE CHUKWU ZENITH INTERNATIONAL BANK PLC . "
        ],
        [
         "1",
         "Will do.",
         "0",
         "Will do."
        ],
        [
         "2",
         "Nora--Cheryl has emailed dozens of memos about Haiti to me this weekend. Can you please print them and organize them inchrono order for me for my trip tomorrow or send to Lauren so she can do? Thx.",
         "0",
         "Nora--Cheryl has emailed dozens of memos about Haiti to me this weekend. Can you please print them and organize them inchrono order for me for my trip tomorrow or send to Lauren so she can do? Thx."
        ],
        [
         "3",
         "Dear Sir=2FMadam=2C I know that this proposal might be a surprise to you but it as an emergency=2EIn a nutshell=2C I am MR=2EP=2E ZUMA=2C from the republic of South-Africa=2C now seeking for refuge in Dakar Senegal under the=28UNHCR=29=2E   I got your contact during a desperate search here in Dakar for a possible transaction=2E My =28late=29 father DR=2E ZUMA KENT WILLIAMS=2C he was the managing director of Gold Mine company in SOUTH AFRICA=2E But he was assinated by his business assoicate and all his properties was totally destroyed by his elder brother=2E   Who alway hate to see me and my mother with his eye's=2C that man very wicked that is why i and my mother managed to escape with some of my father's documents covering $18=2E3 Million dollars which is presently deposited safely in a finance firm on my name as the next of kin=2E Meanwhile=2Cwe are saddled with the problem of securing a trust-worthy foriegn personality to help us transfer the money over to his country and into his possession pending our arrival to meet with him=2E   Furthermore=2Cwe only want this done this way because your country is politically stable for any profitable investment and only if you accept our proposal=2C you will serve as the beneficiary of the fund on commencement of this proposed transactions=2E I am giving you the offers as mentioned with every confidence on your acceptance to assist us=2C we have decided to invest 40% of the total fund based on equity participation in your company=2E   Secondly=2C we shall also take 5% out for any miscelleneous expenses that may occure=2E Conclusively=2C i wish you send me a reply immediately as soon as yourecieve this proposal so that we shall arrange on how to lift this consignment out of Dakar Senegal to your country=2E On commencement=2Cthis transaction will take nothing less than 14 working days to be accomplished=2E All documents covering the fund are safe and intact=2E i remain with the best regards=2E   Please kindly responce to this Alternative E-mail =3A p=5Fzuma1976=40walla=2Ecom Please call urgently to speak with me and my mother on this our direct telephone number =28 00 221 649 67 68  =29 Thanks yours=2C  Mr Prince Zuma=2E ",
         "1",
         "Dear Sir=2FMadam=2C I know that this proposal might be a surprise to you but it as an emergency=2EIn a nutshell=2C I am MR=2EP=2E ZUMA=2C from the republic of South-Africa=2C now seeking for refuge in Dakar Senegal under the=28UNHCR=29=2E   I got your contact during a desperate search here in Dakar for a possible transaction=2E My =28late=29 father DR=2E ZUMA KENT WILLIAMS=2C he was the managing director of Gold Mine company in SOUTH AFRICA=2E But he was assinated by his business assoicate and all his properties was totally destroyed by his elder brother=2E   Who alway hate to see me and my mother with his eye's=2C that man very wicked that is why i and my mother managed to escape with some of my father's documents covering $18=2E3 Million dollars which is presently deposited safely in a finance firm on my name as the next of kin=2E Meanwhile=2Cwe are saddled with the problem of securing a trust-worthy foriegn personality to help us transfer the money over to his country and into his possession pending our arrival to meet with him=2E   Furthermore=2Cwe only want this done this way because your country is politically stable for any profitable investment and only if you accept our proposal=2C you will serve as the beneficiary of the fund on commencement of this proposed transactions=2E I am giving you the offers as mentioned with every confidence on your acceptance to assist us=2C we have decided to invest 40% of the total fund based on equity participation in your company=2E   Secondly=2C we shall also take 5% out for any miscelleneous expenses that may occure=2E Conclusively=2C i wish you send me a reply immediately as soon as yourecieve this proposal so that we shall arrange on how to lift this consignment out of Dakar Senegal to your country=2E On commencement=2Cthis transaction will take nothing less than 14 working days to be accomplished=2E All documents covering the fund are safe and intact=2E i remain with the best regards=2E   Please kindly responce to this Alternative E-mail =3A p=5Fzuma1976=40walla=2Ecom Please call urgently to speak with me and my mother on this our direct telephone number =28 00 221 649 67 68  =29 Thanks yours=2C  Mr Prince Zuma=2E "
        ],
        [
         "4",
         "fyi",
         "0",
         "fyi"
        ],
        [
         "5",
         "sure -- bottom line - you need a special security code to get on line from a computer outside the building. Only 1 in 5 ofour employees has gotten the device (fob) that allows you to do this access.This effort is making sure they get fobs into the hands of more (or all) employees so folks can work from home therebyincreasing productivity substantially since the 4 in 5 essentially do no work from home once they leave the building untilthey get in again b/c they don't have access to their email.cdm",
         "0",
         "sure -- bottom line - you need a special security code to get on line from a computer outside the building. Only 1 in 5 ofour employees has gotten the device (fob) that allows you to do this access.This effort is making sure they get fobs into the hands of more (or all) employees so folks can work from home therebyincreasing productivity substantially since the 4 in 5 essentially do no work from home once they leave the building untilthey get in again b/c they don't have access to their email.cdm"
        ],
        [
         "6",
         "Dear Sir,I am Engr. Ugo Nzego with the Engineering Stores Department of the Federal Ministry of Agriculture and Natural Resources and member of Tenders Board. We have urgent need for a trustworthy foreign contact person with whom we can carry out a successful business deal.Federal Government has voted the sum of US$1.86 Billion for Local Production of food crops. The Government has also considered the impact of the importation of some food items like Rice, Beans, Frozen Chicken and Turkeys and other food stuffs on the Nations Foreign Reserve and have banned the importation of the items that could be produced locally. As a result, the Federal Ministry of Agriculture and Natural Resources has been mandated to import Agricultural Equipments for supply to Local Farmers both at SUBSISTENT AND COMMERCIAL level to encourage them to produce enough food items for local consumption and for export to other African Countries. We have already started awarding new contracts for supply of the equipments to successful bidders.We want you to submit to us immediately your complete company name, address, your name as President or Managing Director / CEO of the company, your banking particulars:- (banks name address, telephone,fax and telex numbers. Your receiving number, swift and routing numbers), with these informations, we can get you properly registered as one of the contractors of FMANR who has already been awarded part of this contract for the sum of US$113.4 Million to supply some of the Agricultural Equipments parts of which we already have in our custody (stores).After receiving the above needed and stated information from you, we will process all the documentation and submit them for immediate approvals and the Federal Government will pay 25% of US$113.4 Million into your nominated bank account in the name of your company as the beneficiary, which is US$28.35M . In no time, the remaining US$85,050,000.00 Million shall be paid as balance payment or we together in agreement as partners will use another foreign firm's name that will carry out the supply of the remaining equipments as a sub-contractor to you in our documentation to receive this balance payment.We shall come to your country immediately this fund is in your account to share the US$28.35 Million. The sharing pattern should be negotiated by both parties concerned.However, be rest assured that no risk is involved or any scandal in the future, for we have done all our homework very well, nobody will be hurt during and after this transaction. It may also please you to knowthat all the GOODS that cover the 25% payment are on record, only us that are key members of the contract board committee has this knowledge and information. There is the serious need to keep this transactionsecret and very confidential. To that effect, I would require your private phone and fax numbers for easy and confidential communication. I await  your immediate response to this Proposal. Meanwhile, I look forward to establishing life long business relationship with you.The  nature of your company or business does not necessarily have to be Agriculturally related but ownership of a company is a criterium for the project.Please reply immediately through this fax number 234-9-2726567. As soon as I receive your fax, I will call you on phone for detailed discussion.Best regards,Engr. Ugo Nzego.",
         "1",
         "Dear Sir,I am Engr. Ugo Nzego with the Engineering Stores Department of the Federal Ministry of Agriculture and Natural Resources and member of Tenders Board. We have urgent need for a trustworthy foreign contact person with whom we can carry out a successful business deal.Federal Government has voted the sum of US$1.86 Billion for Local Production of food crops. The Government has also considered the impact of the importation of some food items like Rice, Beans, Frozen Chicken and Turkeys and other food stuffs on the Nations Foreign Reserve and have banned the importation of the items that could be produced locally. As a result, the Federal Ministry of Agriculture and Natural Resources has been mandated to import Agricultural Equipments for supply to Local Farmers both at SUBSISTENT AND COMMERCIAL level to encourage them to produce enough food items for local consumption and for export to other African Countries. We have already started awarding new contracts for supply of the equipments to successful bidders.We want you to submit to us immediately your complete company name, address, your name as President or Managing Director / CEO of the company, your banking particulars:- (banks name address, telephone,fax and telex numbers. Your receiving number, swift and routing numbers), with these informations, we can get you properly registered as one of the contractors of FMANR who has already been awarded part of this contract for the sum of US$113.4 Million to supply some of the Agricultural Equipments parts of which we already have in our custody (stores).After receiving the above needed and stated information from you, we will process all the documentation and submit them for immediate approvals and the Federal Government will pay 25% of US$113.4 Million into your nominated bank account in the name of your company as the beneficiary, which is US$28.35M . In no time, the remaining US$85,050,000.00 Million shall be paid as balance payment or we together in agreement as partners will use another foreign firm's name that will carry out the supply of the remaining equipments as a sub-contractor to you in our documentation to receive this balance payment.We shall come to your country immediately this fund is in your account to share the US$28.35 Million. The sharing pattern should be negotiated by both parties concerned.However, be rest assured that no risk is involved or any scandal in the future, for we have done all our homework very well, nobody will be hurt during and after this transaction. It may also please you to knowthat all the GOODS that cover the 25% payment are on record, only us that are key members of the contract board committee has this knowledge and information. There is the serious need to keep this transactionsecret and very confidential. To that effect, I would require your private phone and fax numbers for easy and confidential communication. I await  your immediate response to this Proposal. Meanwhile, I look forward to establishing life long business relationship with you.The  nature of your company or business does not necessarily have to be Agriculturally related but ownership of a company is a criterium for the project.Please reply immediately through this fax number 234-9-2726567. As soon as I receive your fax, I will call you on phone for detailed discussion.Best regards,Engr. Ugo Nzego."
        ],
        [
         "7",
         "Abedin Huma <AbedinH@state.gov>Saturday November 28 2009 5:14 PMHFw: Quint fmsI'm going topropose separate bilats with relevant countries. You ok with proceeding that way?",
         "0",
         "Abedin Huma  Saturday November 28 2009 5:14 PMHFw: Quint fmsI'm going topropose separate bilats with relevant countries. You ok with proceeding that way?"
        ],
        [
         "8",
         "There is an Oct 16th George Marshall event at the Department. Do we have it on tentative calendar?Have we scheduled a Sept event for all the groups doing econ and other work w Palestinians? Mara Rudman is workingon it for Mitchell.Starting in Sept I want to have a weekly lunch/mtg w Steinberg and one w the undersecs. I also want to schedule forearly Sept hour mtgs w each bureau to dscuss priorities.When can I visit FSI?",
         "0",
         "There is an Oct 16th George Marshall event at the Department. Do we have it on tentative calendar?Have we scheduled a Sept event for all the groups doing econ and other work w Palestinians? Mara Rudman is workingon it for Mitchell.Starting in Sept I want to have a weekly lunch/mtg w Steinberg and one w the undersecs. I also want to schedule forearly Sept hour mtgs w each bureau to dscuss priorities.When can I visit FSI?"
        ],
        [
         "9",
         "<P>1 25% for you as the account owner <BR>2 65% for I and my colleagues<BR>=3 10% will be set aside to defray all incidental <BR>expenses both locally =and internationally during the<BR>course of this transaction.</P><P>Furthermore, we shall be coming over to your country when<BR>the money i=s finally in your account and we shall be relying<BR>on your advise as rega=rds to investment of our share. Be<BR>informed that, this business is genui=ne and 100% safe<BR>considering the high powered government officials invol=ved.</P><P>Send by mail the following informations:-</P><P>1, YOUR COMPANY NAME AND ADDRESS, BANK NAME, ADDRESS<BR>AND ACCOUNT NUMB=ER.</P><P>2, YOUR TELEPHONE AND FAX NUMBER FOR EFFECTIVE<BR>COMMUNICATION. <BR>Thi=s is to effect the swift Transfer of this fund into your<BR>account in less= than Seven (7) working days.</P><P>Expecting your immediate response while<BR>looking forward to a healthy =business relationship<BR>with you.</P><P>Yours faithfully,</P><P>OLUFEMI WILLIAMS</P><BR> <span style=3D'color:#000000;font-family:arial;= font-size:10pt;'>Freeserve AnyTime - HALF PRICE for the first 3 months - S=ave =A37.50 a month <br><a href=3D'http://www.freeserve.com/anytime' style==3D'color:#0000FF; font-family:arial; font-size:10pt;' TARGET=3D'_blank'>ww=w.freeserve.com/anytime</a></span>------=_Part_26067_4664911.1074038447746--",
         "1",
         "1 25% for you as the account owner  2 65% for I and my colleagues =3 10% will be set aside to defray all incidental  expenses both locally =and internationally during the course of this transaction. Furthermore, we shall be coming over to your country when the money i=s finally in your account and we shall be relying on your advise as rega=rds to investment of our share. Be informed that, this business is genui=ne and 100% safe considering the high powered government officials invol=ved. Send by mail the following informations:- 1, YOUR COMPANY NAME AND ADDRESS, BANK NAME, ADDRESS AND ACCOUNT NUMB=ER. 2, YOUR TELEPHONE AND FAX NUMBER FOR EFFECTIVE COMMUNICATION.  Thi=s is to effect the swift Transfer of this fund into your account in less= than Seven (7) working days. Expecting your immediate response while looking forward to a healthy =business relationship with you. Yours faithfully, OLUFEMI WILLIAMS   Freeserve AnyTime - HALF PRICE for the first 3 months - S=ave =A37.50 a month  ww=w.freeserve.com/anytime ------=_Part_26067_4664911.1074038447746--"
        ],
        [
         "10",
         "STRONG><A href=3D\"http://www.cnn.com/2003/WORLD/africa/07/20/kenya.crash/in=dex.html\" target=3D_blank rel=3Dnofollow><SPAN id=3Dlw_1186747716_3><U><FON=T color=3D#003399><STRONG>http://www.cnn.com/2003/WORLD/africa/07/20/kenya.=crash/index.html</STRONG></FONT></U></SPAN></A><BR><STRONG>It is therefore =upon this discovery that I now decided to make this business <BR>proposal t=o you and release the money to you as the next of kin or relation <BR>to th=e deceased for safety and subsequent disbursement since nobody is <BR>comin=g for it and I don't want this money to go into the bank treasury as <BR>un=claimed bill.<BR>I agree that 40% of this money will be for you as a foreig=n partner, in <BR>respect to the provision of a foriegn account, and 60% wo=uld be for me, <BR>There after I will visit your country for disbursement a=ccording to the <BR>percentage indicated.<BR>Therefore, to enable the immed=iate transfer of this fund to you as <BR>arranged,youmust apply first to th=e bank as relation or next of kin of the <BR>deceasedindicatingyour bank na=me, your bank account number, your private <BR>telephone andfax number for =easy and effective communication and location <BR>wherein the money will be=remitted.Upon the receipt of your reply,<BR>I will send to you by fax or em=ail the text of the application to fill and <BR>send to the bank. I will no=t fail to bring to your notice that this <BR>transaction is 100% Risk free =and you should keep this transaction top secret.<BR>I know what to do and m=ove the fund into your account without any delay and <BR>that you should no=t entertain any atom of fear as all required arrangements <BR>have been mad=e for the transfer.<BR>You should contact me as soon as you receive this le=tter .<BR>Yours faithfully.<BR>Mr&nbsp; kanazoe alidaa.<BR>Bill &amp; Excha=nge Manager,<BR>BANK OF AFRICA (B.O.A)<BR></STRONG><br /><hr />Appelez vos =amis de PC =E0 PC -- C'EST GRATUIT <a href=3D'http://get.live.com/messenger=/overview' target=3D'_new'>Essayez-le maintenant !</a></body></html>=--_87f05796-c97b-4aa4-b2c9-df6569033462_--",
         "1",
         "STRONG> http://www.cnn.com/2003/WORLD/africa/07/20/kenya.=crash/index.html It is therefore =upon this discovery that I now decided to make this business  proposal t=o you and release the money to you as the next of kin or relation  to th=e deceased for safety and subsequent disbursement since nobody is  comin=g for it and I don't want this money to go into the bank treasury as  un=claimed bill. I agree that 40% of this money will be for you as a foreig=n partner, in  respect to the provision of a foriegn account, and 60% wo=uld be for me,  There after I will visit your country for disbursement a=ccording to the  percentage indicated. Therefore, to enable the immed=iate transfer of this fund to you as  arranged,youmust apply first to th=e bank as relation or next of kin of the  deceasedindicatingyour bank na=me, your bank account number, your private  telephone andfax number for =easy and effective communication and location  wherein the money will be=remitted.Upon the receipt of your reply, I will send to you by fax or em=ail the text of the application to fill and  send to the bank. I will no=t fail to bring to your notice that this  transaction is 100% Risk free =and you should keep this transaction top secret. I know what to do and m=ove the fund into your account without any delay and  that you should no=t entertain any atom of fear as all required arrangements  have been mad=e for the transfer. You should contact me as soon as you receive this le=tter . Yours faithfully. Mr  kanazoe alidaa. Bill & Excha=nge Manager, BANK OF AFRICA (B.O.A) Appelez vos =amis de PC =E0 PC -- C'EST GRATUIT  Essayez-le maintenant ! =--_87f05796-c97b-4aa4-b2c9-df6569033462_--"
        ],
        [
         "11",
         "Dear Friend,My name is Edward Moore QC.Principal partner Edward Moore & AssociatesLondon UK and I was compelled by my late client's request to contact youon a matter of great financial reward.My client late Hassan Zahrul(Malaysian by Birth) ,an Industrialist and Real Estate Guru died recentlyleaving a vast wealth in your name as his \"Next of Kin\".Do contact me immediately via my Direct Telephone:+44-7045705184 or betterstill send me an email to my direct email address as below stated forimmediate action on this matter.Email:edward.moore20@yahoo.co.ukI expect your immediate response and call and also let me have your directtelephone and mobile lines so i can call you as well.This matter demandsurgent action and i urge you to make this possible.Awaiting your response.Edward Moore Q.CPrincipal PartnerEdward Moore & AssociatesDirect Telephone:+44-7045705184",
         "1",
         "Dear Friend,My name is Edward Moore QC.Principal partner Edward Moore & AssociatesLondon UK and I was compelled by my late client's request to contact youon a matter of great financial reward.My client late Hassan Zahrul(Malaysian by Birth) ,an Industrialist and Real Estate Guru died recentlyleaving a vast wealth in your name as his \"Next of Kin\".Do contact me immediately via my Direct Telephone:+44-7045705184 or betterstill send me an email to my direct email address as below stated forimmediate action on this matter.Email:edward.moore20@yahoo.co.ukI expect your immediate response and call and also let me have your directtelephone and mobile lines so i can call you as well.This matter demandsurgent action and i urge you to make this possible.Awaiting your response.Edward Moore Q.CPrincipal PartnerEdward Moore & AssociatesDirect Telephone:+44-7045705184"
        ],
        [
         "12",
         "Compliment, How are you doing today, Hope you have not forgotten me? I am Dr.Mr MichaelHoward,the man from Nigeria who contacted you some time ago to assist mesecure the release of some money accrued from the over Invoicing of a contract/inheritancethat was awarded by my (Government) some time ago during the military regime.Though you were not able to assist me conclude the transaction, I'm happyto inform you about my success in getting those funds transfered under theassistance and co-operation of a new partner from Brazil.Presently I'm inNetherlands for investment projects with my own share of the total sum. meanwhile, i didn't forget your past efforts and attempts to assist me intransferring those funds, I made sure you are not left out the benefit ofthe transaction hence I kept aside for you the sum of five Hundred ThousandUnited States Dollars.($500,000.00)Draft, the compensation also go for thegood work of God meaning for the orphans and disable in your country Pleasetake good care of them and the poor in needs also. I and my new partner agreed to compensate you with that amount for all yourpast efforts and attempts to assist me in this matter. I appreciate yourefforts at that time very much,so feel free and get in touch with my secretaryMr.Steven Chapman and instruct him on how to send the Bank draft to you.Please do let me know immediately you receive the Draft so that we can sharethe joy together after all the sufferings at that time. In the moment, I'mvery busy here because of the investment projects which me and my partnerare having at hands, finally,remember that i had left instruction to my secretaryso as soon as you contact him, he will send the Draft to you,so feel freeto get in touch with MY SECRETARY NOW. ",
         "1",
         "Compliment, How are you doing today, Hope you have not forgotten me? I am Dr.Mr MichaelHoward,the man from Nigeria who contacted you some time ago to assist mesecure the release of some money accrued from the over Invoicing of a contract/inheritancethat was awarded by my (Government) some time ago during the military regime.Though you were not able to assist me conclude the transaction, I'm happyto inform you about my success in getting those funds transfered under theassistance and co-operation of a new partner from Brazil.Presently I'm inNetherlands for investment projects with my own share of the total sum. meanwhile, i didn't forget your past efforts and attempts to assist me intransferring those funds, I made sure you are not left out the benefit ofthe transaction hence I kept aside for you the sum of five Hundred ThousandUnited States Dollars.($500,000.00)Draft, the compensation also go for thegood work of God meaning for the orphans and disable in your country Pleasetake good care of them and the poor in needs also. I and my new partner agreed to compensate you with that amount for all yourpast efforts and attempts to assist me in this matter. I appreciate yourefforts at that time very much,so feel free and get in touch with my secretaryMr.Steven Chapman and instruct him on how to send the Bank draft to you.Please do let me know immediately you receive the Draft so that we can sharethe joy together after all the sufferings at that time. In the moment, I'mvery busy here because of the investment projects which me and my partnerare having at hands, finally,remember that i had left instruction to my secretaryso as soon as you contact him, he will send the Draft to you,so feel freeto get in touch with MY SECRETARY NOW. "
        ],
        [
         "13",
         "Who wrote it?",
         "0",
         "Who wrote it?"
        ],
        [
         "14",
         " accident. <BR>&nbsp;<BR>On further investigation, I found out that he did not leave a WILL and all attempts to trace his next of kin were fruitless. I therefore made further investigation and discovered that Mr. Barry Kelly did not declare any next of kin in all his official documents, including his Bank Deposit paperwork. This sum of US$25,000,000.00 is still sitting in the Bank and the interest is being rolled over with the principal sum at the end of each year. No one will come forward to claim it.<BR>&nbsp;<BR>&nbsp;According to the Ghanaian Law, at the expiration of 7{Seven} years, the money will revert to the ownership of the Ghana Government if nobody applies to claim the funds. Consequently, my proposal is that I will like you as a foreigner to stand in as the next of kin to Mr. Barry Kelly so that the fruits of this old man's labor will not get into the hands of some corrupt government officials. This is simple;<BR>&nbsp;<BR>(1) I will like you to provide me immediately with your full names and address so that the attorney will prepare the necessary documents and affidavits, which will put you in place as the next of kin.<BR>&nbsp;<BR>(2) We shall employ the services of two attorneys for drafting and notarization of the WILL and obtain the necessary documents and letter of probate/administration in your name for the transfer.<BR>&nbsp;<BR>(3) A bank account in any part of the world, which you provide, will then facilitate the transfer of this money to you as the beneficiaryext of kin of Mr.Barry Kelly. The money will be paid into your account for us to share in the ratio of 60% for me and 40% for you. There is no risk at all as all the paperwork for this transaction will be done by the attorney and my position as the Branch Manager guarantees the successful execution of this transaction. <BR>&nbsp;<BR>If you are interested, please call :00233-242-9727-02. or reply immediately via the private email address above. Upon your response, I shall then provide you with more details and relevant documents that will help you understand. Please observe utmost confidentiality, and rest assured that this transaction would be most profitable for both of us because I shall require your assistance to invest my share in your country.<BR>&nbsp;<BR>Awaiting your urgent reply.<BR>&nbsp;<BR>Thanks and regards,<BR>Baldwin Onuigbo Esq.<BR>private no:00233-242-9727-02<BR>Reply to&nbsp; :&nbsp; </STRONG><A href=\"mailto:onuigbobald_1960@hotmail.com\"><STRONG>onuigbobald_1960@hotmail.com</STRONG></A><STRONG> <BR></STRONG><p>&#32;\t\t\t\t<hr size=1>Want to be your own boss? Learn how on <a href=\"http://us.rd.yahoo.com/evt=41244/*http://smallbusiness.yahoo.com/r-index\"> Yahoo! Small Business.</a> --0-1857806142-1159283111=:39685--",
         "1",
         " accident.    On further investigation, I found out that he did not leave a WILL and all attempts to trace his next of kin were fruitless. I therefore made further investigation and discovered that Mr. Barry Kelly did not declare any next of kin in all his official documents, including his Bank Deposit paperwork. This sum of US$25,000,000.00 is still sitting in the Bank and the interest is being rolled over with the principal sum at the end of each year. No one will come forward to claim it.    According to the Ghanaian Law, at the expiration of 7{Seven} years, the money will revert to the ownership of the Ghana Government if nobody applies to claim the funds. Consequently, my proposal is that I will like you as a foreigner to stand in as the next of kin to Mr. Barry Kelly so that the fruits of this old man's labor will not get into the hands of some corrupt government officials. This is simple;   (1) I will like you to provide me immediately with your full names and address so that the attorney will prepare the necessary documents and affidavits, which will put you in place as the next of kin.   (2) We shall employ the services of two attorneys for drafting and notarization of the WILL and obtain the necessary documents and letter of probate/administration in your name for the transfer.   (3) A bank account in any part of the world, which you provide, will then facilitate the transfer of this money to you as the beneficiaryext of kin of Mr.Barry Kelly. The money will be paid into your account for us to share in the ratio of 60% for me and 40% for you. There is no risk at all as all the paperwork for this transaction will be done by the attorney and my position as the Branch Manager guarantees the successful execution of this transaction.    If you are interested, please call :00233-242-9727-02. or reply immediately via the private email address above. Upon your response, I shall then provide you with more details and relevant documents that will help you understand. Please observe utmost confidentiality, and rest assured that this transaction would be most profitable for both of us because I shall require your assistance to invest my share in your country.   Awaiting your urgent reply.   Thanks and regards, Baldwin Onuigbo Esq. private no:00233-242-9727-02 Reply to  :   onuigbobald_1960@hotmail.com     Want to be your own boss? Learn how on   Yahoo! Small Business.  --0-1857806142-1159283111=:39685--"
        ],
        [
         "15",
         "Email from EricBackground for you",
         "0",
         "Email from EricBackground for you"
        ],
        [
         "16",
         "                                                                    FROM:DESK OF THE CHAIRMAN AWARD OIL COMMITTEE.ENGR WILLIAM OKEKEDEAR FRIEND,  I AM ENGR WILLIAM OKEKE THE CHAIRMAN OF CONTRACT AWARD COMMITTEE PETROL  NIGERIA NATIONAL PETROLUEM COMPANY,FEDERAL REPUBLIC OF NIGERIA. SOMETIME LAST YEAR, OUR REFINERY WAS GENERALY SERVICED AND MANY OTHER CONTRACTS WHERE ALSO AWARDED IN THE OIL SECTOR AFTER AN OUT BREAK OF FIRE. THERE WAS ASSISTANCE FROM WORLD BANK, I.M.F. AND OTHER FINANCIAL INSTITUTIONS FOR THE REPLACEMENT OF THE DAMAGED EQUIPMENT AND THE REFINERY AS A WHOLE. DURING THIS PERIOD, A LOT OF CONTRACT WERE AWAREDED TO SO MANY INTERNATIONAL CONTRACTORS. ALL THE ORIGINAL CONTRACTORS HAS JUST RECEIVED THEIR FINAL PHASE OF THEIR PAYMENT LEAVING A TOTAL SUM OF $10 MILLION USD FLOATING IN THE FILES OF FEDERAL MINISTRY OF FINANCE UNCLAIMED THIS IS AS A RESULT OF THE OVER INVOICING WE DID DURING THE AWARD OF THE CONTRACT.THIS CONTRACT HAS BEEN CERTIFIED OKAY;",
         "1",
         "                                                                    FROM:DESK OF THE CHAIRMAN AWARD OIL COMMITTEE.ENGR WILLIAM OKEKEDEAR FRIEND,  I AM ENGR WILLIAM OKEKE THE CHAIRMAN OF CONTRACT AWARD COMMITTEE PETROL  NIGERIA NATIONAL PETROLUEM COMPANY,FEDERAL REPUBLIC OF NIGERIA. SOMETIME LAST YEAR, OUR REFINERY WAS GENERALY SERVICED AND MANY OTHER CONTRACTS WHERE ALSO AWARDED IN THE OIL SECTOR AFTER AN OUT BREAK OF FIRE. THERE WAS ASSISTANCE FROM WORLD BANK, I.M.F. AND OTHER FINANCIAL INSTITUTIONS FOR THE REPLACEMENT OF THE DAMAGED EQUIPMENT AND THE REFINERY AS A WHOLE. DURING THIS PERIOD, A LOT OF CONTRACT WERE AWAREDED TO SO MANY INTERNATIONAL CONTRACTORS. ALL THE ORIGINAL CONTRACTORS HAS JUST RECEIVED THEIR FINAL PHASE OF THEIR PAYMENT LEAVING A TOTAL SUM OF $10 MILLION USD FLOATING IN THE FILES OF FEDERAL MINISTRY OF FINANCE UNCLAIMED THIS IS AS A RESULT OF THE OVER INVOICING WE DID DURING THE AWARD OF THE CONTRACT.THIS CONTRACT HAS BEEN CERTIFIED OKAY;"
        ],
        [
         "17",
         "                         (\"REMITTANCE OF $15 MILLION U.S.A DOLLARS         =                          CONFIDENTIAL IS THE CASE\")Compliments Of The Season 2007,    Forgive my indignation if this message c=omes to you as a surprise and may offend your personality for contacting yo=u without your prior consent and writing through this channel.I got your co=ntact from the proffesional data base found in the internet Yahoo tourist s=earch.When i was searching For a foreign reliable partner.I assured of your capability and reliability to champion this businees oppo=rtunity.  After series of prayers/fasting.i was divinely directed to contac=t you among other names found in the data base Yahoo tourist search.I belie=ve that God has a way of helping who is in need.I am (MUSTAFA BRUNU  Esq),the Head of file Department in BANK OF AFRICA (BO=A). In my department we discovered an abandoned sum of $ 15 million U.S.A d=ollars ( fifteen million U.S.A dollars) . In an account that belongs to one= of our foreign customer who died along with his entire family on (July 21,= 2003) in a plane crash. Since we got information about his death, we have =been expecting his next of kin to come over and claim his money because we =cannot =B5 release it unless somebody applies for it as next of kin or rela=tive on to the deceased as indicated in our banking guidelines,But unfortunately we learnt that all his supposed next of kin or relation d=ied alongside with him at the plane crash leaving nobody behind for the cla=im. It is therefore upon this discovery that I and one official in my depar=tment now decided to make this businness proposal to you and release the mo=ney to you as the next of kin or relation to the deceased for safety and su=bsequent disbursement since nobody is coming for it and we don=92t want thi=s money to go into the bank treasury as unclaimed bill.The Banking law and guideline here stipulates that if such money remained u=nclamed after five years, the money will be transfered into the Bank treasu=ry as unclaimed fund. The request of foreigner as next of kin in this busin=ess is occasioned by the fact that the customer was a foreigner,and a Burki=nabe cannot stand as next of kin to a foreigner. We agree that 30 % of this= money will be for you as foreign partner,in respect to the provision of a =foreign account, 10 % will be set aside for expenses incured during the bus=iness and 60 % would be for me and my woman colleague. There after i will v=isit your country for disbursement according to the percentages indicated.Therefore to enable the immediate transfer of this fund  as arranged, you m=ust apply first to the bank as relations or next of kin of the deceased ind=icating your bank name, your bank account number, your private telephone an=d fax number for easy and effective communication and location where the mo=ney will be remitted.Upon receipt of your reply, I will send to you by fax =or email the text of the application I will not fail to bring to your notic=e that this transaction is hitch free and that you should not entertain any= atom of fear as all required arrangements have been made for the transfer.You should contact me on my number +226-76 54 93 42. immediately as soon as= you receive this letter. Trusting to hear from you immediately.Your=92s fa=ithfully,MUSTAFA BRUNU  (Esq.)FROM (B.O.A) OUAGADOUGOU BURKINA-FASO.GOD BLESSINGS,PROTECTIONS AND GUIDIAN=CE TO YOUR ENTIRE FAMILY.POST SCRITUM:You have to keep everything secret as= to enable the transfer to move very smoothly in to the account you will pr=ove to the bank.As you finished reading this letter call me immediately so =that we discuss very well over this business._________________________________________________________________Play free games, earn tickets, get cool prizes! Join Live Search Club.=A0http://club.live.com/home.aspx?icid=3DCLUB_wlmailtextlink=",
         "1",
         "                         (\"REMITTANCE OF $15 MILLION U.S.A DOLLARS         =                          CONFIDENTIAL IS THE CASE\")Compliments Of The Season 2007,    Forgive my indignation if this message c=omes to you as a surprise and may offend your personality for contacting yo=u without your prior consent and writing through this channel.I got your co=ntact from the proffesional data base found in the internet Yahoo tourist s=earch.When i was searching For a foreign reliable partner.I assured of your capability and reliability to champion this businees oppo=rtunity.  After series of prayers/fasting.i was divinely directed to contac=t you among other names found in the data base Yahoo tourist search.I belie=ve that God has a way of helping who is in need.I am (MUSTAFA BRUNU  Esq),the Head of file Department in BANK OF AFRICA (BO=A). In my department we discovered an abandoned sum of $ 15 million U.S.A d=ollars ( fifteen million U.S.A dollars) . In an account that belongs to one= of our foreign customer who died along with his entire family on (July 21,= 2003) in a plane crash. Since we got information about his death, we have =been expecting his next of kin to come over and claim his money because we =cannot =B5 release it unless somebody applies for it as next of kin or rela=tive on to the deceased as indicated in our banking guidelines,But unfortunately we learnt that all his supposed next of kin or relation d=ied alongside with him at the plane crash leaving nobody behind for the cla=im. It is therefore upon this discovery that I and one official in my depar=tment now decided to make this businness proposal to you and release the mo=ney to you as the next of kin or relation to the deceased for safety and su=bsequent disbursement since nobody is coming for it and we don=92t want thi=s money to go into the bank treasury as unclaimed bill.The Banking law and guideline here stipulates that if such money remained u=nclamed after five years, the money will be transfered into the Bank treasu=ry as unclaimed fund. The request of foreigner as next of kin in this busin=ess is occasioned by the fact that the customer was a foreigner,and a Burki=nabe cannot stand as next of kin to a foreigner. We agree that 30 % of this= money will be for you as foreign partner,in respect to the provision of a =foreign account, 10 % will be set aside for expenses incured during the bus=iness and 60 % would be for me and my woman colleague. There after i will v=isit your country for disbursement according to the percentages indicated.Therefore to enable the immediate transfer of this fund  as arranged, you m=ust apply first to the bank as relations or next of kin of the deceased ind=icating your bank name, your bank account number, your private telephone an=d fax number for easy and effective communication and location where the mo=ney will be remitted.Upon receipt of your reply, I will send to you by fax =or email the text of the application I will not fail to bring to your notic=e that this transaction is hitch free and that you should not entertain any= atom of fear as all required arrangements have been made for the transfer.You should contact me on my number +226-76 54 93 42. immediately as soon as= you receive this letter. Trusting to hear from you immediately.Your=92s fa=ithfully,MUSTAFA BRUNU  (Esq.)FROM (B.O.A) OUAGADOUGOU BURKINA-FASO.GOD BLESSINGS,PROTECTIONS AND GUIDIAN=CE TO YOUR ENTIRE FAMILY.POST SCRITUM:You have to keep everything secret as= to enable the transfer to move very smoothly in to the account you will pr=ove to the bank.As you finished reading this letter call me immediately so =that we discuss very well over this business._________________________________________________________________Play free games, earn tickets, get cool prizes! Join Live Search Club.=A0http://club.live.com/home.aspx?icid=3DCLUB_wlmailtextlink="
        ],
        [
         "18",
         "Abidjan Cote D'Ivoire=20Dear,=20It is my pleasure to write you after much consideration since telephone=  communication can not be suitable enough to communicate to you at fir=st=2EI am Miss Stephean Lawrence the only doughter of late Mr Christoph=er Lawrence of Sierra-Leone (SL) I am 24 years of age=2E My late father= was limited liability in Cocoa and Gold merchant in  Sierra-Leone befo=re his untimely death=2E After his business trip to Abidjan-Cote d'Ivoi=re,to negociate on a cocoa and gold business he wanted to invest in Abi=djan - Cote d'Ivoire=2E=20A Week after he came back from Abidjan, he got an accidente with my mot=her of which my mother died instantly but my father died after five day=s in a private hospital on that faithful afternoon=2E I didn't know tha=t my father was going to leave me after I had lost my  mother=2E=20But before he gave up the ghost, it was as if he knew he was going to d=ie=2E He my father, MAY HIS SOUL REST IN PERFECT PEACE he disclosed to =me that he deposited sum of $9=2E7,000,000,00 US Dollars (NINE MILLION =SEVEN HUNDRED THOUSAND DOLLARS) in a Bank here in Abidjan- Cote d'ivoir=e=2EThat the money was meant for his cocoa and Gold company he wanted to es=tablish in Abidjan - Cote d'Ivoire though, He single handed me the depo=sit certificate and instructed me to seek for a reliable and trust wort=hy business partner for my life time investment abroad=2E Now I have su=cceded in locating the bank here in Abidjan- Cote d'ivoire and also con=firmed the bank with most honest and confidentiality=2E=20=20Now I am soliciting for your assistance to help me lift this money out =from Abidjan to your safe account abroad so that we should invest it in= any meaningful lucrative business in your country because this is my o=nly hope in life=2E=20Awaiting anxiously to hear from you so that we can discuss the modaliti=es of this transaction=2E  Please kindly contact me immediately  for mo=re discussion=2E=20Please don't hesitate to send me a message=2EThanks for your kind atten=tion=2E Please contacts me true this email stephean2006@yahoo=2Efr=20Yours sincerelyMiss Stephean Lawrence",
         "1",
         "Abidjan Cote D'Ivoire=20Dear,=20It is my pleasure to write you after much consideration since telephone=  communication can not be suitable enough to communicate to you at fir=st=2EI am Miss Stephean Lawrence the only doughter of late Mr Christoph=er Lawrence of Sierra-Leone (SL) I am 24 years of age=2E My late father= was limited liability in Cocoa and Gold merchant in  Sierra-Leone befo=re his untimely death=2E After his business trip to Abidjan-Cote d'Ivoi=re,to negociate on a cocoa and gold business he wanted to invest in Abi=djan - Cote d'Ivoire=2E=20A Week after he came back from Abidjan, he got an accidente with my mot=her of which my mother died instantly but my father died after five day=s in a private hospital on that faithful afternoon=2E I didn't know tha=t my father was going to leave me after I had lost my  mother=2E=20But before he gave up the ghost, it was as if he knew he was going to d=ie=2E He my father, MAY HIS SOUL REST IN PERFECT PEACE he disclosed to =me that he deposited sum of $9=2E7,000,000,00 US Dollars (NINE MILLION =SEVEN HUNDRED THOUSAND DOLLARS) in a Bank here in Abidjan- Cote d'ivoir=e=2EThat the money was meant for his cocoa and Gold company he wanted to es=tablish in Abidjan - Cote d'Ivoire though, He single handed me the depo=sit certificate and instructed me to seek for a reliable and trust wort=hy business partner for my life time investment abroad=2E Now I have su=cceded in locating the bank here in Abidjan- Cote d'ivoire and also con=firmed the bank with most honest and confidentiality=2E=20=20Now I am soliciting for your assistance to help me lift this money out =from Abidjan to your safe account abroad so that we should invest it in= any meaningful lucrative business in your country because this is my o=nly hope in life=2E=20Awaiting anxiously to hear from you so that we can discuss the modaliti=es of this transaction=2E  Please kindly contact me immediately  for mo=re discussion=2E=20Please don't hesitate to send me a message=2EThanks for your kind atten=tion=2E Please contacts me true this email stephean2006@yahoo=2Efr=20Yours sincerelyMiss Stephean Lawrence"
        ],
        [
         "19",
         "<DIV><BR><STRONG>I am Hon. Mr. Hope Sithole one of the Personal Assistants to the young President Joseph Kabila of Democratic Republic of Congo (DRC), since he assumed power.Sincerely speaking, my agitation is real, and my word is my bond in this proposal. This money in question is part of the budget made by our President Mr. Joseph Kabila, in the fear that members of the United Nations (UN) could perhaps be mandated to offer their respective supports in forcing Iraq to disarm themselves. Eventually, his dreams do not match up with realities and as a result he (the President) started using the money on personal ground because nobody could question/probe his actions, as he believed.</STRONG></DIV><DIV><STRONG>As his closest personal assistant and with the help of two other officials one of whom was the then deputy Director, Safety and Security Department, we were able to escape with two boxes containing the aforementioned sum. At present the boxes were deposited in a reputable Security firm here in South Africa and were registered as family belongings. We had agreed on the need for a foreign assistance with a legitimate bank account abroad, that will stand as, the beneficiary and partner as well in order to avoid suspicion, since we are existing as refugees here. Copies of certificate of Deposit as well as all necessary documents from the Security cc. are available for a hitch-free transaction.</STRONG></DIV><DIV><STRONG>In addition, you are also required to come/send a representative (as far as you trust the person representing) to the Republic of South Africa for the purpose of the transfer, but only if, by one reason or the other you cannot embark on a Five working (5) days trip by yourself, according to the expert from within the bank. As things are now we had not really agreed on the actual amount that should be your remuneration for your kind assistance, which to us is no big deal. The crux of this subject in particular is the declaration of your interest after-which we enter into negotiations with you over the (percentage) issue. Other details of which you may want to know shall be discussed in due course.</STRONG></DIV><DIV><BR><STRONG>Please be kind enough to acknowledge this proposal by responding through the above E-mail address for a high level of confidentiality in this business deal.</STRONG></DIV><DIV><STRONG>Best regards,</STRONG></DIV><DIV><BR><STRONG>Hon. Mr. hope sithole</STRONG></DIV><DIV><STRONG>tel </STRONG>_<STRONG>27832378499<BR></STRONG></DIV></DIV></DIV><p>\t\t\t<hr size=1>Do you Yahoo!?<br> Check out the new Yahoo! Front Page. <a href=\"http://www.yahoo.com\">www.yahoo.com</a>--0-930567302-1099896484=:25288--",
         "1",
         "I am Hon. Mr. Hope Sithole one of the Personal Assistants to the young President Joseph Kabila of Democratic Republic of Congo (DRC), since he assumed power.Sincerely speaking, my agitation is real, and my word is my bond in this proposal. This money in question is part of the budget made by our President Mr. Joseph Kabila, in the fear that members of the United Nations (UN) could perhaps be mandated to offer their respective supports in forcing Iraq to disarm themselves. Eventually, his dreams do not match up with realities and as a result he (the President) started using the money on personal ground because nobody could question/probe his actions, as he believed. As his closest personal assistant and with the help of two other officials one of whom was the then deputy Director, Safety and Security Department, we were able to escape with two boxes containing the aforementioned sum. At present the boxes were deposited in a reputable Security firm here in South Africa and were registered as family belongings. We had agreed on the need for a foreign assistance with a legitimate bank account abroad, that will stand as, the beneficiary and partner as well in order to avoid suspicion, since we are existing as refugees here. Copies of certificate of Deposit as well as all necessary documents from the Security cc. are available for a hitch-free transaction. In addition, you are also required to come/send a representative (as far as you trust the person representing) to the Republic of South Africa for the purpose of the transfer, but only if, by one reason or the other you cannot embark on a Five working (5) days trip by yourself, according to the expert from within the bank. As things are now we had not really agreed on the actual amount that should be your remuneration for your kind assistance, which to us is no big deal. The crux of this subject in particular is the declaration of your interest after-which we enter into negotiations with you over the (percentage) issue. Other details of which you may want to know shall be discussed in due course. Please be kind enough to acknowledge this proposal by responding through the above E-mail address for a high level of confidentiality in this business deal. Best regards, Hon. Mr. hope sithole tel  _ 27832378499   Do you Yahoo!?  Check out the new Yahoo! Front Page.  www.yahoo.com --0-930567302-1099896484=:25288--"
        ],
        [
         "20",
         "Dear,I am Dr. M. Z. Erick, a native of Cape Town in South Africa and I am anExecutive Accountant with the South Africa Department of Mining & NaturalResources. First and foremost, I apologized using this medium to reach youfor a transaction/business of this magnitude, but this is due toConfidentiality and prompt access reposed on this medium. Be informed thata member of the South Africa Export Promotion Council (SEPC) who was atthe Government delegation to your country during a trade exhibition gaveyour enviable credentials/particulars to me. I have decided to seek aconfidential co-operation with you in the execution of the deal describedhereunder for the benefit of all parties and hope you will keep it as atop secret because of the nature of this transaction.Within the Department of Mining & Natural Resources where I work as anExecutive Accountant and with the cooperation of four other top officials,we have in our possession as overdue payment bills totaling Twenty - SixMillion, Five Hundred Thousand U. S. Dollars which we want to transferabroad with the assistance and cooperation of a foreign company/individualto receive the said fund on our behalf or a reliable foreign non-companyaccount to receive such funds. More so, we are handicapped in thecircumstances, as the South Africa Civil Service Code of Conduct does notallow us to operate offshore account hence your importance in the wholetransaction.This amount (Twenty - Six Million, Five Hundred Thousand) represents thebalance of the total contract value executed on behalf of my Department bya foreign contracting firm, which we the officials over-invoiceddeliberately. Though the actual contract cost have been paid to theoriginal contractor, leaving the balance in the tune of the said amountwhich we have in principles gotten approval to remit by TelegraphicTransfer (T.T) to any foreign bank account you will provide by filing inan application through the Justice Ministry here in South Africa for thetransfer of rights and privileges of the former contractor to you, henceprovide me with your private/direct fax number for the form to be sendacross to you.I have the authority of my partners involved to propose that should you bewilling to assist us in the transaction, your share of the sum will be 25%of the Twenty-Six Million, Five Hundred Thousand U. S. Dollars, 70% for usand 5% for taxation and miscellaneous expenses. The business itself is100% safe, on your part provided you treat it with utmost secrecy andconfidentiality. Also your area of specialization is not a hindrance tothe successful execution of this transaction. I have reposed my confidencein you and hope that you will not disappoint me. Endeavor to contact meimmediately through my above Tel/Fax number or my e-mail address, whetheror not you are interested in this deal. If you are not, it will enable mescout for another foreign partner to carry out this deal I want to assureyou that my partners and myself are in a position to make the payment ofthis claim possible provided you can give us a very strong Assurance andguarantee that our share will be secured and please remember to treat thismatter as very confidential matter, because we will not comprehend withany form of exposure as we are still in active Government Service andremember once again that time is of the essence in this business.I wait in anticipation of your fullest co-operation.Yours faithfully,",
         "1",
         "Dear,I am Dr. M. Z. Erick, a native of Cape Town in South Africa and I am anExecutive Accountant with the South Africa Department of Mining & NaturalResources. First and foremost, I apologized using this medium to reach youfor a transaction/business of this magnitude, but this is due toConfidentiality and prompt access reposed on this medium. Be informed thata member of the South Africa Export Promotion Council (SEPC) who was atthe Government delegation to your country during a trade exhibition gaveyour enviable credentials/particulars to me. I have decided to seek aconfidential co-operation with you in the execution of the deal describedhereunder for the benefit of all parties and hope you will keep it as atop secret because of the nature of this transaction.Within the Department of Mining & Natural Resources where I work as anExecutive Accountant and with the cooperation of four other top officials,we have in our possession as overdue payment bills totaling Twenty - SixMillion, Five Hundred Thousand U. S. Dollars which we want to transferabroad with the assistance and cooperation of a foreign company/individualto receive the said fund on our behalf or a reliable foreign non-companyaccount to receive such funds. More so, we are handicapped in thecircumstances, as the South Africa Civil Service Code of Conduct does notallow us to operate offshore account hence your importance in the wholetransaction.This amount (Twenty - Six Million, Five Hundred Thousand) represents thebalance of the total contract value executed on behalf of my Department bya foreign contracting firm, which we the officials over-invoiceddeliberately. Though the actual contract cost have been paid to theoriginal contractor, leaving the balance in the tune of the said amountwhich we have in principles gotten approval to remit by TelegraphicTransfer (T.T) to any foreign bank account you will provide by filing inan application through the Justice Ministry here in South Africa for thetransfer of rights and privileges of the former contractor to you, henceprovide me with your private/direct fax number for the form to be sendacross to you.I have the authority of my partners involved to propose that should you bewilling to assist us in the transaction, your share of the sum will be 25%of the Twenty-Six Million, Five Hundred Thousand U. S. Dollars, 70% for usand 5% for taxation and miscellaneous expenses. The business itself is100% safe, on your part provided you treat it with utmost secrecy andconfidentiality. Also your area of specialization is not a hindrance tothe successful execution of this transaction. I have reposed my confidencein you and hope that you will not disappoint me. Endeavor to contact meimmediately through my above Tel/Fax number or my e-mail address, whetheror not you are interested in this deal. If you are not, it will enable mescout for another foreign partner to carry out this deal I want to assureyou that my partners and myself are in a position to make the payment ofthis claim possible provided you can give us a very strong Assurance andguarantee that our share will be secured and please remember to treat thismatter as very confidential matter, because we will not comprehend withany form of exposure as we are still in active Government Service andremember once again that time is of the essence in this business.I wait in anticipation of your fullest co-operation.Yours faithfully,"
        ],
        [
         "21",
         "May 7 2010For: Hillary",
         "0",
         "May 7 2010For: Hillary"
        ],
        [
         "22",
         "GOODDAY=2CWE ARE VERY SORRY IF THIS MIGHT OFFEND YOU=2C THOUGH WE DONT KNOW YOU BUT I AND MY YOUNG BROTHER BELIEVE THAT THE SPIRIT OF OUR FATHER STILL LEAVES WITH US=2C ALSO=2C WE KNOW HE IS AWARE THAT I AND MY YOUNG BROTHER ARE CONTACTING YOU FOR AN ASSISTANCE BASED ON TRUST=2EPERMIT ME TO USE THIS MEDIUM TO EXPLAIN OUR PROBLEM TO YOU IN THE NAME OF THE ALMIGHTY GOD WHOM WE SERVE=2E FIRSTLY=2CWE WANT TO EXPLAIN OUR SEIF TO YOU=2CSO THAT YOU WILL UNDERSTAND AND COMPREHEND OUR POINT CLEARLY=2EI AM Ms=2ESILVIA MAVASA 24YRS OLD=2CWITH MY YOUNG BROTHER DAVID MAVASA 22YERS OLD WE FROM BENIN REPUBLIC=2C THE ONLY DAURTHER AND SON  OF LATE MR AND MRS WILLIAM MAVASA=2E MY FATHER WAS A VERY WEALTHY COCOA MERCHANT BASED IN DAKAR-SENEGAL=2C THE ECONOMIC CAPITAL OF SENEGAL=2C BEFORE HE WAS POISONED TO DEATH BY HIS BUSINESS ASSOCIATES ON ONE OF HIS BUSINESS OUTING=2E WHEN OUR MOTHER DIED ON THE 21ST OCTOBER 1996=2C OUR FATHER TOOK US SO SPECIAL BECAUSE I AND MY YOUNG BROTHER WAS THE ONLY DAURTHER  AND SON HE HAD BEFORE HIS DEATH ON THE 24TH OF AUGUST 2006 IN A PRIVATE HOSPITAL HERE IN PORTO-NOVO=2CBENIN REPUBLIC=2E HE SECRETLY CALLED ME ON HIS BEDSIDE AND TOLD ME THAT HE HAS SUM OF US $22million DEPOSITED IN A BANK  =28IN DAKAR-SENEGAL=29=2CWHICH MY NAME WAS USED AS HIS NEXT OF KIN IN DEPOSIT OF THE FUND=2E DUE TO HIS ENCOUNTER WITH HIS ASSOCIATES AND RELATIVES=2C WHICH LEAD TO HIS DEATH=2C HE INSTRUCTED US TO SEEK FOR A FOREIGN FRIEND WHO WILL AID US IN THE TRANSFER OF THE MONEY FOR OUR EDUCATION=2C INVESTMENT AND LIVE A GOOD LIFE=2E WE ARE HONOURABLY SEEKING YOUR ASSISTANCE IN THE FOLLOWING WAYS=3B-TO ASSIST US IN COMING OVER TO YOUR COUNTRY-TO FURTHER OUR EDUCATION AND TO SECURE A RESIDENTIAL PERMIT IN YOUR COUNTRY=2E MOREOVER=2C WE ARE  WILLING TO OFFER YOU 20% WITH 5% IN ADDITION FOR ALL YOUR EXPENSES AS COMPENSATION FOR YOUR EFFORT=2E PLEASE INDICATE YOUR WILLINGLESS TO HELP US BY FORWARDING YOUR FULL NAME AND ADDRESS=2E   1=2E Your Full Name=2E=2E=2E=2E=2E=2E=2E=2E=2E=2E=2E=2E=2E=2E=2E=2E=2E=2E=2E=2E=2E=2E=2E=2E=2E=2E=2E=2E=2E=2E=2E=2E=2E=2E=2E=2E=2E=2E=2E 2=2ENationality=2E=2E=2E=2E=2E=2E=2E=2E=2E=2E=2E=2E=2E=2E=2E=2E=2E=2E=2E=2E=2E=2E=2E=2E=2E=2E=2E=2E=2E=2E=2E=2E=2E=2E=2E=2E=2E=2E=2E=2E=2E=2E=2E=2E=2E=2E3=2E Your Age =2E=2E=2E=2E=2E=2E=2E=2E=2E=2E=2E=2E=2E=2E=2E=2E=2E=2E=2E=2E=2E=2E=2E=2E=2E=2E=2E=2E=2E=2E=2E=2E=2E=2E=2E=2E=2E=2E=2E=2E 4=2E Your Sex=2E=2E=2E=2E=2E=2E=2E=2E=2E=2E=2E=2E=2E=2E=2E=2E=2E=2E=2E=2E=2E=2E=2E=2E=2E=2E=2E=2E=2E=2E=2E=2E=2E=2E=2E=2E=2E=2E5=2E Marital Status=2E=2E=2E=2E=2E=2E=2E=2E=2E=2E=2E=2E=2E=2E=2E=2E=2E=2E=2E=2E=2E=2E=2E=2E=2E=2E=2E=2E=2E=2E=2E=2E=2E=2E6=2EYour Occupation=2E=2E=2E=2E=2E=2E=2E=2E=2E=2E=2E=2E=2E=2E=2E=2E=2E=2E=2E=2E=2E=2E=2E=2E=2E=2E=2E=2E=2E=2E7=2EYour Home And Office Address=2E=2E=2E=2E=2E=2E=2E=2E=2E=2E=2E=2E=2E=2E=2E=2E8=2EYour Telephone And Fax Number=2E=2E=2E=2E=2E=2E=2E=2E=2E=2E=2E=2E=2E=2E=2E=2E=2E=2E=2E=2E=2E=2E=2E 9=2EA Scan Copy Of Your International Passport Or Driving Licence=2E=2E=2E=2E=2E=2E=2E=2E=2E=2E10=2E Bank Account Details=2E=2E=2E=2E=2E=2E=2E=2E=2E=2E=2E=2E=2E=2E=2E=2E=2E=2E=2E=2E=2E=2E=2E=2E=2E=2E=2E=2E=2E=2E=2E=2E=2E=2E=2E=2E=2E=2E=2E=2E=2E=2E=2E=2E=2E=2E=2E PLEASE REPLY PROMPTLY=2EMAY THE LORD BE WITH YOU AS WE AWAIT YOUR POSITIVE DECISION TO HELP=2ETHANKS AND GOD BLESS=2EBEST REGARDS=2EReply Us With This Email Address=3A   silvia=5Fdavid11=40yahoo=2Ecom Ms Silvia Mavasa & Brother David Mavasa=2E",
         "1",
         "GOODDAY=2CWE ARE VERY SORRY IF THIS MIGHT OFFEND YOU=2C THOUGH WE DONT KNOW YOU BUT I AND MY YOUNG BROTHER BELIEVE THAT THE SPIRIT OF OUR FATHER STILL LEAVES WITH US=2C ALSO=2C WE KNOW HE IS AWARE THAT I AND MY YOUNG BROTHER ARE CONTACTING YOU FOR AN ASSISTANCE BASED ON TRUST=2EPERMIT ME TO USE THIS MEDIUM TO EXPLAIN OUR PROBLEM TO YOU IN THE NAME OF THE ALMIGHTY GOD WHOM WE SERVE=2E FIRSTLY=2CWE WANT TO EXPLAIN OUR SEIF TO YOU=2CSO THAT YOU WILL UNDERSTAND AND COMPREHEND OUR POINT CLEARLY=2EI AM Ms=2ESILVIA MAVASA 24YRS OLD=2CWITH MY YOUNG BROTHER DAVID MAVASA 22YERS OLD WE FROM BENIN REPUBLIC=2C THE ONLY DAURTHER AND SON  OF LATE MR AND MRS WILLIAM MAVASA=2E MY FATHER WAS A VERY WEALTHY COCOA MERCHANT BASED IN DAKAR-SENEGAL=2C THE ECONOMIC CAPITAL OF SENEGAL=2C BEFORE HE WAS POISONED TO DEATH BY HIS BUSINESS ASSOCIATES ON ONE OF HIS BUSINESS OUTING=2E WHEN OUR MOTHER DIED ON THE 21ST OCTOBER 1996=2C OUR FATHER TOOK US SO SPECIAL BECAUSE I AND MY YOUNG BROTHER WAS THE ONLY DAURTHER  AND SON HE HAD BEFORE HIS DEATH ON THE 24TH OF AUGUST 2006 IN A PRIVATE HOSPITAL HERE IN PORTO-NOVO=2CBENIN REPUBLIC=2E HE SECRETLY CALLED ME ON HIS BEDSIDE AND TOLD ME THAT HE HAS SUM OF US $22million DEPOSITED IN A BANK  =28IN DAKAR-SENEGAL=29=2CWHICH MY NAME WAS USED AS HIS NEXT OF KIN IN DEPOSIT OF THE FUND=2E DUE TO HIS ENCOUNTER WITH HIS ASSOCIATES AND RELATIVES=2C WHICH LEAD TO HIS DEATH=2C HE INSTRUCTED US TO SEEK FOR A FOREIGN FRIEND WHO WILL AID US IN THE TRANSFER OF THE MONEY FOR OUR EDUCATION=2C INVESTMENT AND LIVE A GOOD LIFE=2E WE ARE HONOURABLY SEEKING YOUR ASSISTANCE IN THE FOLLOWING WAYS=3B-TO ASSIST US IN COMING OVER TO YOUR COUNTRY-TO FURTHER OUR EDUCATION AND TO SECURE A RESIDENTIAL PERMIT IN YOUR COUNTRY=2E MOREOVER=2C WE ARE  WILLING TO OFFER YOU 20% WITH 5% IN ADDITION FOR ALL YOUR EXPENSES AS COMPENSATION FOR YOUR EFFORT=2E PLEASE INDICATE YOUR WILLINGLESS TO HELP US BY FORWARDING YOUR FULL NAME AND ADDRESS=2E   1=2E Your Full Name=2E=2E=2E=2E=2E=2E=2E=2E=2E=2E=2E=2E=2E=2E=2E=2E=2E=2E=2E=2E=2E=2E=2E=2E=2E=2E=2E=2E=2E=2E=2E=2E=2E=2E=2E=2E=2E=2E=2E 2=2ENationality=2E=2E=2E=2E=2E=2E=2E=2E=2E=2E=2E=2E=2E=2E=2E=2E=2E=2E=2E=2E=2E=2E=2E=2E=2E=2E=2E=2E=2E=2E=2E=2E=2E=2E=2E=2E=2E=2E=2E=2E=2E=2E=2E=2E=2E=2E3=2E Your Age =2E=2E=2E=2E=2E=2E=2E=2E=2E=2E=2E=2E=2E=2E=2E=2E=2E=2E=2E=2E=2E=2E=2E=2E=2E=2E=2E=2E=2E=2E=2E=2E=2E=2E=2E=2E=2E=2E=2E=2E 4=2E Your Sex=2E=2E=2E=2E=2E=2E=2E=2E=2E=2E=2E=2E=2E=2E=2E=2E=2E=2E=2E=2E=2E=2E=2E=2E=2E=2E=2E=2E=2E=2E=2E=2E=2E=2E=2E=2E=2E=2E5=2E Marital Status=2E=2E=2E=2E=2E=2E=2E=2E=2E=2E=2E=2E=2E=2E=2E=2E=2E=2E=2E=2E=2E=2E=2E=2E=2E=2E=2E=2E=2E=2E=2E=2E=2E=2E6=2EYour Occupation=2E=2E=2E=2E=2E=2E=2E=2E=2E=2E=2E=2E=2E=2E=2E=2E=2E=2E=2E=2E=2E=2E=2E=2E=2E=2E=2E=2E=2E=2E7=2EYour Home And Office Address=2E=2E=2E=2E=2E=2E=2E=2E=2E=2E=2E=2E=2E=2E=2E=2E8=2EYour Telephone And Fax Number=2E=2E=2E=2E=2E=2E=2E=2E=2E=2E=2E=2E=2E=2E=2E=2E=2E=2E=2E=2E=2E=2E=2E 9=2EA Scan Copy Of Your International Passport Or Driving Licence=2E=2E=2E=2E=2E=2E=2E=2E=2E=2E10=2E Bank Account Details=2E=2E=2E=2E=2E=2E=2E=2E=2E=2E=2E=2E=2E=2E=2E=2E=2E=2E=2E=2E=2E=2E=2E=2E=2E=2E=2E=2E=2E=2E=2E=2E=2E=2E=2E=2E=2E=2E=2E=2E=2E=2E=2E=2E=2E=2E=2E PLEASE REPLY PROMPTLY=2EMAY THE LORD BE WITH YOU AS WE AWAIT YOUR POSITIVE DECISION TO HELP=2ETHANKS AND GOD BLESS=2EBEST REGARDS=2EReply Us With This Email Address=3A   silvia=5Fdavid11=40yahoo=2Ecom Ms Silvia Mavasa & Brother David Mavasa=2E"
        ],
        [
         "23",
         "Ok.",
         "0",
         "Ok."
        ],
        [
         "24",
         ">From Monica YanganiEmail monicayangani250@netscape.netTel 27 8046828612ATTN:Sir/Madam ÃÂ  I know you will be surprised to hear from me, but please consider this as a request from family in dire need of assistance.I am Mrs.Monica Yangani, writing to you from Government Reserved Area (GRA).I got your contact information from the Republic of Congo Chamber of Commerce and Industry. When I was searching for a reliable individual or private company that can assist me to transfer a reasonable amount in a safe account abroad on behalf of my late husband, two sons and two daughters. I decided to solicit your assistance to transfer this sum of US $20 Million (Twenty Million, United States Dollars)inherited from my late husband in to your personal companyÃ¢ÂÂs account or private account.Before his death, he was a Brigadier in charge of arms and ammunition procurement for the (DRC) army. In his WILL?he specifically draws my attention to this US$ 20 Million which he deposited in a safe box in Private Security Company in South Africa. ÃÂ During the war, he was very dedicated and committed to winning the war against the rebels until when he found out that some Senior Army Officers and Government Functionaries were busy helping themselves with government funds and properties and sending them toforeign countries. Due to this, he and his former special advisers to the president were assigned by the President (Laurent Kabila) to purchase arms in South Africa, they saw this as a golden opportunity and diverted the money and divided it and he got a total sum of US $20 Million. He deposited the box in my sonÃ¢ÂÂs name and him alone with the deposit code canclaim it.I will be grateful if you can assist us now. I want you to do for us as an international partner to help us transfer this money which is in a safety box in the Security Company using your name as the beneficiary ofthis sum. You can contact ÃÂ me or my son (George Yangani) ÃÂ inSouth Africa on ÃÂ this number+27 8046828612. Then, we will tell you more details about it. We are in position to inform you of the whole procedures mapped out of the transfer of this money.We have agreed to give you 25% of the total sum for your assistance, 5% for any expenses that might occur from both sides in the course of this transaction,while the remaining 70% will be for my son's investment, which you will assist him to do abroad.Further information and arrangement will commence as soon as trust, confidence and good relationship will be established and safety of this fund assured when transferred to your account.Please treat this matter with utmost urgency.May Allah (God) bless you as I earnestly hope for yourassistance. Best Regards Monica Yangani (for the family)__________________________________________________________________Introducing the New Netscape Internet Service. Only $9.95 a month -- Sign up today at http://isp.netscape.com/registerNetscape. Just the Net You Need. New! Netscape Toolbar for Internet ExplorerSearch from anywhere on the Web and block those annoying pop-ups.Download now at http://channels.netscape.coms/search/install.jsp",
         "1",
         ">From Monica YanganiEmail monicayangani250@netscape.netTel 27 8046828612ATTN:Sir/Madam ÃÂ  I know you will be surprised to hear from me, but please consider this as a request from family in dire need of assistance.I am Mrs.Monica Yangani, writing to you from Government Reserved Area (GRA).I got your contact information from the Republic of Congo Chamber of Commerce and Industry. When I was searching for a reliable individual or private company that can assist me to transfer a reasonable amount in a safe account abroad on behalf of my late husband, two sons and two daughters. I decided to solicit your assistance to transfer this sum of US $20 Million (Twenty Million, United States Dollars)inherited from my late husband in to your personal companyÃ¢ÂÂs account or private account.Before his death, he was a Brigadier in charge of arms and ammunition procurement for the (DRC) army. In his WILL?he specifically draws my attention to this US$ 20 Million which he deposited in a safe box in Private Security Company in South Africa. ÃÂ During the war, he was very dedicated and committed to winning the war against the rebels until when he found out that some Senior Army Officers and Government Functionaries were busy helping themselves with government funds and properties and sending them toforeign countries. Due to this, he and his former special advisers to the president were assigned by the President (Laurent Kabila) to purchase arms in South Africa, they saw this as a golden opportunity and diverted the money and divided it and he got a total sum of US $20 Million. He deposited the box in my sonÃ¢ÂÂs name and him alone with the deposit code canclaim it.I will be grateful if you can assist us now. I want you to do for us as an international partner to help us transfer this money which is in a safety box in the Security Company using your name as the beneficiary ofthis sum. You can contact ÃÂ me or my son (George Yangani) ÃÂ inSouth Africa on ÃÂ this number+27 8046828612. Then, we will tell you more details about it. We are in position to inform you of the whole procedures mapped out of the transfer of this money.We have agreed to give you 25% of the total sum for your assistance, 5% for any expenses that might occur from both sides in the course of this transaction,while the remaining 70% will be for my son's investment, which you will assist him to do abroad.Further information and arrangement will commence as soon as trust, confidence and good relationship will be established and safety of this fund assured when transferred to your account.Please treat this matter with utmost urgency.May Allah (God) bless you as I earnestly hope for yourassistance. Best Regards Monica Yangani (for the family)__________________________________________________________________Introducing the New Netscape Internet Service. Only $9.95 a month -- Sign up today at http://isp.netscape.com/registerNetscape. Just the Net You Need. New! Netscape Toolbar for Internet ExplorerSearch from anywhere on the Web and block those annoying pop-ups.Download now at http://channels.netscape.coms/search/install.jsp"
        ],
        [
         "25",
         "<DIV><STRONG>Dearest One, <BR>&nbsp;&nbsp;&nbsp;&nbsp;&nbsp;&nbsp;&nbsp;&nbsp; I am writting this letter with due respect and heartful of tears since we have not known or met ourselves previously I am asking for your assistance after I have gone through a profile that speaks good of you. I want to find out if it's possible for you to deal with individual as to investment.I came across your profile and I feel it's highly reputable that is why I pick an interest getting across to you in respect of investment at my disposal. I will be so glad if you can allow me and lead me to the right channel towards your assistance to my situation now.I will make my proposal well known if I am given the opportunity. I would like to use this opportunity to introduce myself to you. Well </STRONG></DIV>  <DIV><STRONG>&nbsp; I am&nbsp;Ruth Williams from Liberia,the only daughter of COL Gabriel Williams My father is now late,he died during the last crisis in my country(Liberia). He was one of the!  high officers in the leadership of former president Charles Taylor who is now in exile after many innocent soul were killed,My father was unlucky to be among those that was killed by the rebel.Since after the death of my father my step mother and my uncles are after my life because they want to have the m,just because am&nbsp;too young.</STRONG></DIV>  <DIV><STRONG>My mother Died 2weeks,after&nbsp;the death of my father,&nbsp;before the death of my father ,&nbsp; he told me that he has the sum of Ten million,&nbsp; five Hundred thousand United State Dollars. USD ($10.500,000) fix desposited account,&nbsp; which is the cause of hatred of&nbsp; friends, and&nbsp; relatives, and even brothers,&nbsp;&nbsp;</STRONG></DIV>  <DIV><STRONG>&nbsp;&nbsp;&nbsp; &nbsp;That I should seek for a foreign partner or one capable and reliable that i can trust and love that will help me so that i can leave this country and invest in other business of my choice where I will transfer this money and us! e it for investment purposes and to further my education.&nbsp;</STRONG></DIV>  <DIV>&nbsp;</DIV>  <DIV><STRONG>so i am seeking for your asistance in making this purposes.</STRONG></DIV>  <DIV><STRONG>Furthermore,&nbsp;<A href=\"mailto:ruth_williamsy2k61@yahoo.com\">ruth_williamsy2k61@yahoo.com</A></STRONG><STRONG> you indicate your options towards assisting me as I believe that this transaction would be concluded successfully.</STRONG></DIV>  <DIV>&nbsp;</DIV>  <DIV><STRONG>Anticipating to hear from you soon.&nbsp; </STRONG></DIV>  <DIV>&nbsp;</DIV>  <DIV><STRONG>yours faithfully</STRONG></DIV>  <DIV>&nbsp;</DIV>  <DIV><STRONG>Ruth. W .</STRONG></DIV><p>\t\t<hr size=1>New Yahoo! Messenger with Voice. <a href=\"http://us.rd.yahoo.com/mail_us/taglines/postman6/*http://us.rd.yahoo.com/evt=39663/*http://voice.yahoo.com\">Call regular phones from your PC</a> and save big.--0-637752865-1143740567=:58337--",
         "1",
         "Dearest One,           I am writting this letter with due respect and heartful of tears since we have not known or met ourselves previously I am asking for your assistance after I have gone through a profile that speaks good of you. I want to find out if it's possible for you to deal with individual as to investment.I came across your profile and I feel it's highly reputable that is why I pick an interest getting across to you in respect of investment at my disposal. I will be so glad if you can allow me and lead me to the right channel towards your assistance to my situation now.I will make my proposal well known if I am given the opportunity. I would like to use this opportunity to introduce myself to you. Well      I am Ruth Williams from Liberia,the only daughter of COL Gabriel Williams My father is now late,he died during the last crisis in my country(Liberia). He was one of the!  high officers in the leadership of former president Charles Taylor who is now in exile after many innocent soul were killed,My father was unlucky to be among those that was killed by the rebel.Since after the death of my father my step mother and my uncles are after my life because they want to have the m,just because am too young.   My mother Died 2weeks,after the death of my father, before the death of my father ,  he told me that he has the sum of Ten million,  five Hundred thousand United State Dollars. USD ($10.500,000) fix desposited account,  which is the cause of hatred of  friends, and  relatives, and even brothers,          That I should seek for a foreign partner or one capable and reliable that i can trust and love that will help me so that i can leave this country and invest in other business of my choice where I will transfer this money and us! e it for investment purposes and to further my education.        so i am seeking for your asistance in making this purposes.   Furthermore,  ruth_williamsy2k61@yahoo.com  you indicate your options towards assisting me as I believe that this transaction would be concluded successfully.       Anticipating to hear from you soon.         yours faithfully       Ruth. W .   New Yahoo! Messenger with Voice.  Call regular phones from your PC  and save big.--0-637752865-1143740567=:58337--"
        ],
        [
         "26",
         "I know you will be surprised to read from me, but  please consider this as arequest from a family in dire need of assistance.First, I must introducemyself I am MR. TSEPO VUSI from Angola. I am the first and only son of BRIGADIER VUSI  JONES. I  am presently resident in South Africa.I got your contact address from a business directory  in JohannesburgChamber of commerce and Industry. On  behalf of my widowed mother MRS. ELIZABETHVUSI I  desided to solicit for your assistance to transfer  the sum of US$21.5MILLION( TWENTY ONE MILLION FIVE  HUNDRED THOUSAND UNITED STATES DOLLARS)inheritedfrom my late father, into your personal company's account.Before my fathers' death, he was a Brigadier in  charge of Arms andAmmunation procurement for the Angola  Army. In his WILL, he specificallydrew my attention  to the said sum of money which he deposited in a  safe box ofa private Security Company in Johannesburg-  South Africa in a treasure box,fully documented in  my name.IN FACT MY FATHER SAID AND I QUOTE  MY BELOVED SON, I WISH TO DRAW YOURATTENTION TO US$21.5 MILLION . I DEPOSITED THE BOX CONTAINING THIS MONEY IN A SECURITYCOMPANY IN JOHANNESBURG, SOUTH  AFRICA. DURING THE WAR, I WAS VERY DEDICATEDAND OFFICERS AND GOVERNMENT FUNCTIONARIES WERE BUSSY  HELPING THEMSELVES WITHGOVERNMENT FUNDS AND  PROPERTIES AND SENDING THEM TO FOREIGN COUNTRIES.  DUETO THIS, WHEN I AND MY FORMER SPECIAL ADVISOR TO THE  PRESIDENT WERE ASSIGNEDBY THE PRESIDENT (EDUARDO  SANTOS) TO PURCHASE ARMS IN SOUTH AFRICA, WE SAW  THISAS A GOLDEN OPPORTUNITY AND DIVERTED THE MONEY AND  DIVIDED IT. i GOT A TOTAL SUMOF US$21.5 MILLION. IN  CASE OF MY ABSENCE ON EARTH, AS A RESULT OF DEATHONLY, YOU SHOULD SOLICIT FOR THE FUND FOR INVESTMENT  PURPOSES.>From the above, you will understand that the lives  and future of my familydepens on this money, as such I  will be grateful if you can assist us. We are nowliving in South Africa as political Asylum seekers and financial laws andregulation of the Republic of  South Africa do not permit us financial rights to suchhuge sum of money. In view of this, I cannot invest this  fund in South africa, hencei am prepared to offer  you 20% of the total fund, while 10% will be set asidefor local and international expenses and 70% will be for  my family and me.Finally, modalities on howthe transfer will be bone  will be conveyed to you once wehave established  trust and confidence between ourselves. Please treat thismatter as very urgent.Best regards,TSEPO VUSI",
         "1",
         "I know you will be surprised to read from me, but  please consider this as arequest from a family in dire need of assistance.First, I must introducemyself I am MR. TSEPO VUSI from Angola. I am the first and only son of BRIGADIER VUSI  JONES. I  am presently resident in South Africa.I got your contact address from a business directory  in JohannesburgChamber of commerce and Industry. On  behalf of my widowed mother MRS. ELIZABETHVUSI I  desided to solicit for your assistance to transfer  the sum of US$21.5MILLION( TWENTY ONE MILLION FIVE  HUNDRED THOUSAND UNITED STATES DOLLARS)inheritedfrom my late father, into your personal company's account.Before my fathers' death, he was a Brigadier in  charge of Arms andAmmunation procurement for the Angola  Army. In his WILL, he specificallydrew my attention  to the said sum of money which he deposited in a  safe box ofa private Security Company in Johannesburg-  South Africa in a treasure box,fully documented in  my name.IN FACT MY FATHER SAID AND I QUOTE  MY BELOVED SON, I WISH TO DRAW YOURATTENTION TO US$21.5 MILLION . I DEPOSITED THE BOX CONTAINING THIS MONEY IN A SECURITYCOMPANY IN JOHANNESBURG, SOUTH  AFRICA. DURING THE WAR, I WAS VERY DEDICATEDAND OFFICERS AND GOVERNMENT FUNCTIONARIES WERE BUSSY  HELPING THEMSELVES WITHGOVERNMENT FUNDS AND  PROPERTIES AND SENDING THEM TO FOREIGN COUNTRIES.  DUETO THIS, WHEN I AND MY FORMER SPECIAL ADVISOR TO THE  PRESIDENT WERE ASSIGNEDBY THE PRESIDENT (EDUARDO  SANTOS) TO PURCHASE ARMS IN SOUTH AFRICA, WE SAW  THISAS A GOLDEN OPPORTUNITY AND DIVERTED THE MONEY AND  DIVIDED IT. i GOT A TOTAL SUMOF US$21.5 MILLION. IN  CASE OF MY ABSENCE ON EARTH, AS A RESULT OF DEATHONLY, YOU SHOULD SOLICIT FOR THE FUND FOR INVESTMENT  PURPOSES.>From the above, you will understand that the lives  and future of my familydepens on this money, as such I  will be grateful if you can assist us. We are nowliving in South Africa as political Asylum seekers and financial laws andregulation of the Republic of  South Africa do not permit us financial rights to suchhuge sum of money. In view of this, I cannot invest this  fund in South africa, hencei am prepared to offer  you 20% of the total fund, while 10% will be set asidefor local and international expenses and 70% will be for  my family and me.Finally, modalities on howthe transfer will be bone  will be conveyed to you once wehave established  trust and confidence between ourselves. Please treat thismatter as very urgent.Best regards,TSEPO VUSI"
        ],
        [
         "27",
         "will move saebBibi confirmed 12:30. Does that give u enough time?",
         "0",
         "will move saebBibi confirmed 12:30. Does that give u enough time?"
        ],
        [
         "28",
         "<DIV><DIV>Hello my dear</DIV><DIV>&nbsp;</DIV><DIV>I wish to solicit your kind and urgent assistance.My name is Mr.PATRICK AGOLO, a lawyer based in Lagos State of Nigeria.As a lawyer, I was a private legal adviser (for almost two decades) to a white couple who unfortunately lost their lives 3-months ago in a ghastly motor accident here in Nigeria. Prior to their death, this white couple had lived in this country since the 1960?s as missionaries and educationists. Unfortunately, they died childless, with no knownrelatives or next of kin.</DIV><DIV>&nbsp;</DIV><DIV>The issue at stake, for which I am writing you now, is that the deceased left behind the sum of US$7.8million in their joint account with ECO INTERNATIONAL BANK Nigeria Incorporated.<BR>Soon after the burial of the deceased, I had promptly notified the bank,which is awaiting me to present to them the person that is to inherit the account of the deceased.</DIV><DIV>&nbsp;</DIV><DIV>Incidentally, as I said before, the late couple had no known next of kin or relatives. No one else knows about this.However, it will amount to abuse of privilege for me to lay claim to the wealth and estate of the deceased, since as a black man i couldn't have been their relative. But then funds can't be left to the bank permanently/forever. So I have decided to contact you, to seek your consent to present your name to the bank as the next of kin and the appointed administrator/inheritor of the estates of the deceased.</DIV><DIV>&nbsp;</DIV><DIV>&nbsp;As a whiteman, you'll fit into the picture.As the lawyer to the deceased, no body can disbelieve me if i present you as the next of kin to the deceased. Moreover, I know the exact legal requirements and documents to secure in your favour to show proof that you are actually the next of kin/inheritor of everything left behind by the deceased. All these will be my responsibility to obtain from the court here in Nigeria. You won?t be needed here in person.</DIV><DIV>I can assure you that this is my specialty and there is nothing for you to be afraid of. I will handle and provide for all that it will take legally.Once everything needful is done, the bank will be satisfied to transfer the monies from the account of the deceased to yours.</DIV><DIV>&nbsp;</DIV><DIV>My interest is to take 60% of the funds while you take 30%, while the remaining 10% will be disbursed to any Orphanage-Home of our common choice.Please communicate your decision to me urgently, indicating your Telephone number in your reply so that I can call you and talk this thing over with you.</DIV><DIV>Pls. keep these disclosures confidential.<BR>Thank you.<BR></DIV><DIV>Sincerely yours,<BR>Barrister PATRICK AGOLO(ESQ)</DIV><DIV>&nbsp;</DIV></DIV><p>\t\t<hr size=1>Do you Yahoo!?<br> Read only the mail you want - <a href=\"http://us.rd.yahoo.com/mail_us/taglines/spamguard/*http://promotions.yahoo.comew_mail/static/protection.html\">Yahoo! Mail SpamGuard</a>.--0-1365810461-1111499824=:99763--",
         "1",
         "Hello my dear   I wish to solicit your kind and urgent assistance.My name is Mr.PATRICK AGOLO, a lawyer based in Lagos State of Nigeria.As a lawyer, I was a private legal adviser (for almost two decades) to a white couple who unfortunately lost their lives 3-months ago in a ghastly motor accident here in Nigeria. Prior to their death, this white couple had lived in this country since the 1960?s as missionaries and educationists. Unfortunately, they died childless, with no knownrelatives or next of kin.   The issue at stake, for which I am writing you now, is that the deceased left behind the sum of US$7.8million in their joint account with ECO INTERNATIONAL BANK Nigeria Incorporated. Soon after the burial of the deceased, I had promptly notified the bank,which is awaiting me to present to them the person that is to inherit the account of the deceased.   Incidentally, as I said before, the late couple had no known next of kin or relatives. No one else knows about this.However, it will amount to abuse of privilege for me to lay claim to the wealth and estate of the deceased, since as a black man i couldn't have been their relative. But then funds can't be left to the bank permanently/forever. So I have decided to contact you, to seek your consent to present your name to the bank as the next of kin and the appointed administrator/inheritor of the estates of the deceased.    As a whiteman, you'll fit into the picture.As the lawyer to the deceased, no body can disbelieve me if i present you as the next of kin to the deceased. Moreover, I know the exact legal requirements and documents to secure in your favour to show proof that you are actually the next of kin/inheritor of everything left behind by the deceased. All these will be my responsibility to obtain from the court here in Nigeria. You won?t be needed here in person. I can assure you that this is my specialty and there is nothing for you to be afraid of. I will handle and provide for all that it will take legally.Once everything needful is done, the bank will be satisfied to transfer the monies from the account of the deceased to yours.   My interest is to take 60% of the funds while you take 30%, while the remaining 10% will be disbursed to any Orphanage-Home of our common choice.Please communicate your decision to me urgently, indicating your Telephone number in your reply so that I can call you and talk this thing over with you. Pls. keep these disclosures confidential. Thank you. Sincerely yours, Barrister PATRICK AGOLO(ESQ)     Do you Yahoo!?  Read only the mail you want -  Yahoo! Mail SpamGuard .--0-1365810461-1111499824=:99763--"
        ],
        [
         "29",
         "----------- REGARDS, MR NELSON SMITH.KINDLY REPLY ME ON MY PRIVATE EMAIL ADDRESS;nelsonsmith2000@yahoo.com",
         "1",
         "----------- REGARDS, MR NELSON SMITH.KINDLY REPLY ME ON MY PRIVATE EMAIL ADDRESS;nelsonsmith2000@yahoo.com"
        ],
        [
         "30",
         "Attn=2FPls Dear Partner=2C I would like to apply through this medium for your co-operation and to secure an opportunity to invest and do joint business with you in your country=2E I have a substantial capital i honourably intend to invest in your country into a very lucrative business venture of which you are to advise and execute the said venture over there for the mutual benefits of both of us=2E Your able co-operation is to become my business partner in your country and create ideas on how money will be invested=2Cproperly managed and the type ofinvestment after the money is transferred to your custody with your help and assistance=2E Meanwhile=2Con indication of your willingness to handle this transaction sincerely by protecting our interests and upon your acceptance of this proposal=2CI would furnish you with the full detailed information=2C procedure=2Camount involve and mutually agree on your percentage interest or share holding for helping me to secure the release of the deposit and investing the money in your country under your proper management and care=2E I shall be glad to reserve this respect and opportunity for you=2Cif you so desire=2Cbut do urge you to give the matter your immediate attention itdeserves=2E If this proposal is acceptable by you=2Cplease do not make undue advantage of the trust i bestow on you=2Cand your urgent reply is highly needed=2Cfor more detailes information=2E Looking forward to your candid and urgent call and positive reply today and a mutual healthy business relationship with you=2E Best regards=2Cand have a great day=2E Yours Faithfully=2C Mr=2EMalick Camara=2E In Dakar=2FSenegal=2E",
         "1",
         "Attn=2FPls Dear Partner=2C I would like to apply through this medium for your co-operation and to secure an opportunity to invest and do joint business with you in your country=2E I have a substantial capital i honourably intend to invest in your country into a very lucrative business venture of which you are to advise and execute the said venture over there for the mutual benefits of both of us=2E Your able co-operation is to become my business partner in your country and create ideas on how money will be invested=2Cproperly managed and the type ofinvestment after the money is transferred to your custody with your help and assistance=2E Meanwhile=2Con indication of your willingness to handle this transaction sincerely by protecting our interests and upon your acceptance of this proposal=2CI would furnish you with the full detailed information=2C procedure=2Camount involve and mutually agree on your percentage interest or share holding for helping me to secure the release of the deposit and investing the money in your country under your proper management and care=2E I shall be glad to reserve this respect and opportunity for you=2Cif you so desire=2Cbut do urge you to give the matter your immediate attention itdeserves=2E If this proposal is acceptable by you=2Cplease do not make undue advantage of the trust i bestow on you=2Cand your urgent reply is highly needed=2Cfor more detailes information=2E Looking forward to your candid and urgent call and positive reply today and a mutual healthy business relationship with you=2E Best regards=2Cand have a great day=2E Yours Faithfully=2C Mr=2EMalick Camara=2E In Dakar=2FSenegal=2E"
        ],
        [
         "31",
         "And your statement is out",
         "0",
         "And your statement is out"
        ],
        [
         "32",
         "Will give some thought and pass along any names I can think of.Jm",
         "0",
         "Will give some thought and pass along any names I can think of.Jm"
        ],
        [
         "33",
         "IRECTOR<br><br> <br><br>Dear Sir,<br><br> <br><br>Let you not be surprise=d with this my private mail to you because I got your contact through the=  www.nge.ru  web-site due to my personal search for a Russian businessma=n who can help me receive, secure or invest the sum of US$15,000,000.<br>=<br> <br><br>To introduce myself to you, I am Mr. Oliver Chulu H.,a citiz=en of Liberia-West Africa. I am the youngest brother to the wife of the e=x-president of Liberia Mrs. Jewel Howard. Presently, I am on political as=ylum in Spain.<br><br> <br><br>I have gone through your company profile a=nd think that you can be capable to help me privately to secure or invest= this private fund of mine with your company name or your personal name. =Because of my family political problems and my asylum situation here, I c=annot invest this fund in my name and this is the main reason why I conta=ct you for your assistance. Another major reason why I beg you to handle =this transaction with maximum confidentiality is because of my family cri=tical political situation.<br><br> <br><br>I deem it most necessary to co=ntact you,if you can willingly accept this offer and forward me with busi=ness opportunities in your country which will be very lucrative to both p=arties. I will most appreciate it if you can give this investment enquiry= a food for thought as I will want you to respond to this message as quic=k as possible.<br><br>Be informed that all capital investments shall be p=rovided by me while all business plans,feasibilty and ideas shall be made= available by you according to the code of investment in your country.<br=><br> <br><br>Finally, you could get back to me through this my private e=mail addresses below so that we can discuss and negotiate on our mutual u=nderstanding and all information provided to you. Kindly furnish me with =your private telephone number too for direct communication.<br><br> <br><=br>I look forward to hearing from you.<br><br>E mail.......... oliver_chu=lu@yahoo.com<br><br>Best regards,<br><br> <br><br>Mr. Oliver C.H.<br><br>=</span><br><br>- <span style=3D\"color:green;\">OLIVER CHULU</span></div></=div>--0-1237626344-1148665305=:93785--",
         "1",
         "IRECTOR   Dear Sir,   Let you not be surprise=d with this my private mail to you because I got your contact through the=  www.nge.ru  web-site due to my personal search for a Russian businessma=n who can help me receive, secure or invest the sum of US$15,000,000. =   To introduce myself to you, I am Mr. Oliver Chulu H.,a citiz=en of Liberia-West Africa. I am the youngest brother to the wife of the e=x-president of Liberia Mrs. Jewel Howard. Presently, I am on political as=ylum in Spain.   I have gone through your company profile a=nd think that you can be capable to help me privately to secure or invest= this private fund of mine with your company name or your personal name. =Because of my family political problems and my asylum situation here, I c=annot invest this fund in my name and this is the main reason why I conta=ct you for your assistance. Another major reason why I beg you to handle =this transaction with maximum confidentiality is because of my family cri=tical political situation.   I deem it most necessary to co=ntact you,if you can willingly accept this offer and forward me with busi=ness opportunities in your country which will be very lucrative to both p=arties. I will most appreciate it if you can give this investment enquiry= a food for thought as I will want you to respond to this message as quic=k as possible. Be informed that all capital investments shall be p=rovided by me while all business plans,feasibilty and ideas shall be made= available by you according to the code of investment in your country.   Finally, you could get back to me through this my private e=mail addresses below so that we can discuss and negotiate on our mutual u=nderstanding and all information provided to you. Kindly furnish me with =your private telephone number too for direct communication.   I look forward to hearing from you. E mail.......... oliver_chu=lu@yahoo.com Best regards,   Mr. Oliver C.H. = -  OLIVER CHULU --0-1237626344-1148665305=:93785--"
        ],
        [
         "34",
         "PIs keep me updated on this project. Thx.",
         "0",
         "PIs keep me updated on this project. Thx."
        ],
        [
         "35",
         "NUMBER, BANK DETAILS AND YOUR STATUS THE ABOVE INFORMATIONS WILL ENABLE ME WRITE LETTERS OF CLAIM AND NEXT OF KIN DESCRIPTION RESPECTIVELY. THIS WAY WE WILL USE YOUR NAME TO APPLY FOR PAYMENT AND RE-AWARD THE BENEFICARY IN YOUR NAME AS THE NEXT OF KIN TO THE LATE BENEFICIARY.IAM LOOKING FORWARD TO DOING THIS BUSINESS WITH YOU AND SOLICIT YOUR CONFIDENTIALITY IN THIS TRANSATION.PLEASE ACKNOWLEDGE THE RECEIPT OF THIS LETTER USING THE ABOVE EMAIL ADDRESS . I WILL SEND YOU DETAILED INFORMATION OF THIS PENDING PROJECT WHEN I HAVE HEARD FROM YOU.YOURS FAITHFULLY,MR ROBIN HANS CLARK",
         "1",
         "NUMBER, BANK DETAILS AND YOUR STATUS THE ABOVE INFORMATIONS WILL ENABLE ME WRITE LETTERS OF CLAIM AND NEXT OF KIN DESCRIPTION RESPECTIVELY. THIS WAY WE WILL USE YOUR NAME TO APPLY FOR PAYMENT AND RE-AWARD THE BENEFICARY IN YOUR NAME AS THE NEXT OF KIN TO THE LATE BENEFICIARY.IAM LOOKING FORWARD TO DOING THIS BUSINESS WITH YOU AND SOLICIT YOUR CONFIDENTIALITY IN THIS TRANSATION.PLEASE ACKNOWLEDGE THE RECEIPT OF THIS LETTER USING THE ABOVE EMAIL ADDRESS . I WILL SEND YOU DETAILED INFORMATION OF THIS PENDING PROJECT WHEN I HAVE HEARD FROM YOU.YOURS FAITHFULLY,MR ROBIN HANS CLARK"
        ],
        [
         "36",
         "Dear Sir or Madam:We are keenly interested in setting up a new factory to produce 120,000 ERW oil casings per year to meet the big market of Shengli Oilfied. Since we lack some starting-up capital, we are seeking for investments. I will give you a brief introduction to the project as follow:I. Background:Shengli Oilfield, the second largest oilfield in China and the leading company of Sinopec Corp. (http://www.sinopec.com), as well as neighboring oilfields as Dagang Oilfield, Central Plain Oilfield and Jiangsu Oilfield are potential market of ERW oil casing. It is expected that the total oil casing needed in the above area is about 400,000 tons, including 260,000 tons in Sinopec and 150,000 tons in Shengli Oilfield. To meet the great need, we plan to set up a joint venture to produce 120,000 tons of ERW casings per year in Shengli Oilfield.  With good management and market outlets, we believe that this JV also has the potential to expand beyond China to other nations. II. About usShengli Oilfield Engineering Machinery Factory is one of sub-companies of Shengli Oilfield Co., Ltd, with total assets of 267 million yuan, net assets of 170 million yuan and 2462 staff. The factory mainly produces oilfield special equipment such as beam unit, Spiral-seam submerged-arc weldedsteel pipe, sucker rod, line pipe, casing, tubing, plastic compound pipe etc. It produces 200,000 tons of line pipes, 1 million meters of strengthened plastic compound pipes, 500 beam units, 2.5 million meters of sucker rods, 12,000 tons of PP gas pipes and 50,000 tons of oil tubings yearly, and has become important pipe base in Shandong and Shengli Oilfield. Its products have entering many areas as Shengli Oilfield, Daqing Oilfield, Liaohe Oilfield, Dagang Oilfield and so on. In 2002, the sale income amounted to over 600 million yuan.The Factory holds Quality accreditations as ISO9001, API and so on.III. Content of the projectIt is planned to introduce Japanese technology and equipment to set up one production line with range of casing diameter fromÃ¯Â¿Â½Ã¯Â¿Â½114 to Ã¯Â¿Â½Ã¯Â¿Â½339.7 and produce 120,000 tons of ERW casings and delivery pipes per year.IV. Product specificationsFor Casing: grade of steel are J55 and N80, specification ranges from Ã¯Â¿Â½Ã¯Â¿Â½114 to Ã¯Â¿Â½Ã¯Â¿Â½339.7For delivery: grade of steel are X52Ã¯Â¿Â½Ã¯Â¿Â½X60Ã¯Â¿Â½Ã¯Â¿Â½X70, specification ranges from Ã¯Â¿Â½Ã¯Â¿Â½114 to Ã¯Â¿Â½Ã¯Â¿Â½339.7.V. Economic AnalysisThe total investment in this project is 142.41 million yuan. After the completion of the project, it is estimated that the internal financial rate of return before paying tax is 24.9 percent with a payback period of 5.6 years, and the internal rate of return after paying tax is 21.8 percent with a payback period of 5.9 years.The break-even point of the project is 46.95 percent, which means the project can keep balance if the annual output amount to 42,000 tons.VI. Plans for cooperationWe have set up a joint venture with Japan's Marubeni in the early of the year, with a registered capital of 57 million yuan. The capital structure is as follow:a. Shengli Oilfield Bureau of Administration          19.95 million yuan   35Ã¯Â¿Â½Ã¯Â¿Â½b. Shengli Oilfield Engineering Machinery Facotry     17.10 million yuan   30Ã¯Â¿Â½Ã¯Â¿Â½c. Dongying District State Assets Operation & Management Co., Ltd 5.70million yuan 10Ã¯Â¿Â½Ã¯Â¿Â½d. Marubeni Engineering Technology Co., Ltd           14.25 million yuan   25Ã¯Â¿Â½Ã¯Â¿Â½To meet our capital need for this project, we are now planned to increase our registered capital to 118.88 million yuan. Taking our added investment into consideration, we need another 34.68 million yuan to get the plan executed. So we are seeking a new joint venture partner who'd like to join this project and meet our capital requirement.We would like to exchange the information with the manufacturers and suppliers who are interested in this project and have discussion on raw material supply as well as jointly investing the factory establishment. And we hope we could have good cooperation in future.For additional information regarding this project, please feel free to contact us.Looking forward to your prompt reply.Sincerely yours, Tony LeungProject officer",
         "1",
         "Dear Sir or Madam:We are keenly interested in setting up a new factory to produce 120,000 ERW oil casings per year to meet the big market of Shengli Oilfied. Since we lack some starting-up capital, we are seeking for investments. I will give you a brief introduction to the project as follow:I. Background:Shengli Oilfield, the second largest oilfield in China and the leading company of Sinopec Corp. (http://www.sinopec.com), as well as neighboring oilfields as Dagang Oilfield, Central Plain Oilfield and Jiangsu Oilfield are potential market of ERW oil casing. It is expected that the total oil casing needed in the above area is about 400,000 tons, including 260,000 tons in Sinopec and 150,000 tons in Shengli Oilfield. To meet the great need, we plan to set up a joint venture to produce 120,000 tons of ERW casings per year in Shengli Oilfield.  With good management and market outlets, we believe that this JV also has the potential to expand beyond China to other nations. II. About usShengli Oilfield Engineering Machinery Factory is one of sub-companies of Shengli Oilfield Co., Ltd, with total assets of 267 million yuan, net assets of 170 million yuan and 2462 staff. The factory mainly produces oilfield special equipment such as beam unit, Spiral-seam submerged-arc weldedsteel pipe, sucker rod, line pipe, casing, tubing, plastic compound pipe etc. It produces 200,000 tons of line pipes, 1 million meters of strengthened plastic compound pipes, 500 beam units, 2.5 million meters of sucker rods, 12,000 tons of PP gas pipes and 50,000 tons of oil tubings yearly, and has become important pipe base in Shandong and Shengli Oilfield. Its products have entering many areas as Shengli Oilfield, Daqing Oilfield, Liaohe Oilfield, Dagang Oilfield and so on. In 2002, the sale income amounted to over 600 million yuan.The Factory holds Quality accreditations as ISO9001, API and so on.III. Content of the projectIt is planned to introduce Japanese technology and equipment to set up one production line with range of casing diameter fromÃ¯Â¿Â½Ã¯Â¿Â½114 to Ã¯Â¿Â½Ã¯Â¿Â½339.7 and produce 120,000 tons of ERW casings and delivery pipes per year.IV. Product specificationsFor Casing: grade of steel are J55 and N80, specification ranges from Ã¯Â¿Â½Ã¯Â¿Â½114 to Ã¯Â¿Â½Ã¯Â¿Â½339.7For delivery: grade of steel are X52Ã¯Â¿Â½Ã¯Â¿Â½X60Ã¯Â¿Â½Ã¯Â¿Â½X70, specification ranges from Ã¯Â¿Â½Ã¯Â¿Â½114 to Ã¯Â¿Â½Ã¯Â¿Â½339.7.V. Economic AnalysisThe total investment in this project is 142.41 million yuan. After the completion of the project, it is estimated that the internal financial rate of return before paying tax is 24.9 percent with a payback period of 5.6 years, and the internal rate of return after paying tax is 21.8 percent with a payback period of 5.9 years.The break-even point of the project is 46.95 percent, which means the project can keep balance if the annual output amount to 42,000 tons.VI. Plans for cooperationWe have set up a joint venture with Japan's Marubeni in the early of the year, with a registered capital of 57 million yuan. The capital structure is as follow:a. Shengli Oilfield Bureau of Administration          19.95 million yuan   35Ã¯Â¿Â½Ã¯Â¿Â½b. Shengli Oilfield Engineering Machinery Facotry     17.10 million yuan   30Ã¯Â¿Â½Ã¯Â¿Â½c. Dongying District State Assets Operation & Management Co., Ltd 5.70million yuan 10Ã¯Â¿Â½Ã¯Â¿Â½d. Marubeni Engineering Technology Co., Ltd           14.25 million yuan   25Ã¯Â¿Â½Ã¯Â¿Â½To meet our capital need for this project, we are now planned to increase our registered capital to 118.88 million yuan. Taking our added investment into consideration, we need another 34.68 million yuan to get the plan executed. So we are seeking a new joint venture partner who'd like to join this project and meet our capital requirement.We would like to exchange the information with the manufacturers and suppliers who are interested in this project and have discussion on raw material supply as well as jointly investing the factory establishment. And we hope we could have good cooperation in future.For additional information regarding this project, please feel free to contact us.Looking forward to your prompt reply.Sincerely yours, Tony LeungProject officer"
        ],
        [
         "37",
         "Dear CEO,I am Mr. Joseph Abu rime, a Regional Supervisor with A SECURITYAND FINANCE CO. in Amsterdam,Holland. We had a foreign client (name withHeld) who deposited a huge sum of money (US$12million dollars) with ourSecurity Company.Eventually, this client was among the victims of EGYPT AIR BOEING 767FLIGHT NO.990 that crashed on the 31-10-1999 in U.S.A but, since thenWe have not had any body coming for the claims as the next of kin. ASituation I have monitored closely with my position in the Company. Now,Having monitored this deposit and managed it over the years before hisDeath, and hence nobody has showed up as the next of kin for the past fourYear plus, I have removed the file to my private safe.I now solicit for your assistance to present you as the next of kinas every other arrangement has being concluded by me and I am onlyWaiting for a foreigner to enable me move the fund to his account. Iwill need your private telephone and fax numbers and your full name andaddress, company or residential so that I can computerize them to tallywith the next of kin column in the certificate of deposit.This does not have any risk attached to it as all the internaldocumentations will be handled by me. I therefore request you toconfirm your interest by a return message and I will furnish you withdetails. Lastly for the immediate take off of this transaction you have toconfirm your willingness and readiness to assist me retrieves this deposit.Please for your assistance in this transaction you will be entitledto 20% percent of the total sum and 10% percent will cover all the expenses",
         "1",
         "Dear CEO,I am Mr. Joseph Abu rime, a Regional Supervisor with A SECURITYAND FINANCE CO. in Amsterdam,Holland. We had a foreign client (name withHeld) who deposited a huge sum of money (US$12million dollars) with ourSecurity Company.Eventually, this client was among the victims of EGYPT AIR BOEING 767FLIGHT NO.990 that crashed on the 31-10-1999 in U.S.A but, since thenWe have not had any body coming for the claims as the next of kin. ASituation I have monitored closely with my position in the Company. Now,Having monitored this deposit and managed it over the years before hisDeath, and hence nobody has showed up as the next of kin for the past fourYear plus, I have removed the file to my private safe.I now solicit for your assistance to present you as the next of kinas every other arrangement has being concluded by me and I am onlyWaiting for a foreigner to enable me move the fund to his account. Iwill need your private telephone and fax numbers and your full name andaddress, company or residential so that I can computerize them to tallywith the next of kin column in the certificate of deposit.This does not have any risk attached to it as all the internaldocumentations will be handled by me. I therefore request you toconfirm your interest by a return message and I will furnish you withdetails. Lastly for the immediate take off of this transaction you have toconfirm your willingness and readiness to assist me retrieves this deposit.Please for your assistance in this transaction you will be entitledto 20% percent of the total sum and 10% percent will cover all the expenses"
        ],
        [
         "38",
         "FROM:BARR.ROTIMI BELLO (ESQ)NO.5 MILVERTON STREET,   VICTORIA-ISLANDLAGOS.EMAIL:barrister_rotimibello_chamber@yahoo.co.uk Dear Sir/Madam,                                                           I am Barrister Rotimi Bello, a solicitor at law. I am the personal attorney to Mr. Douglas Raju, a national of your country, who used to work with shell development company in Nigeria and as well a one time secret agent in transferring of money overseas for the Late head of state of Nigeria {Late Gen.SANI ABACHA}.Before his death On the 21st of April 2002 [my client,his wife and their only daugther were involved in a car accident along sagamu express way in which all occupants of the motor died}. My client {RAJU}deposited  the sum of $15.5m in a commercial bank(CENTRAL BANK OF NIGERIA) here in Nigeria for himself, with the hope of transferring it to his country as soon as he is on leave. Since his death I have made several enquiries to your embassy to locate any of my clients extended relatives this has also proved unsuccessful. After these several unsuccessful attempts, I decided to trace his last name over the Internet, to locate any member of his family hence I contacted you. I have contacted you to assist in repatriating the money and property left behind by my client before they get confiscated or declared unserviceable by the bank where these Money were Deposited. Particularly, the (CENTRAL BANK OF NIGERIA) where the deceased Deposited (US$15,500,000)fiftheen million five hundred thounsand dollars has issued me a notice to provide the next of kin with in the next ten official working days. Since I have been unsuccessful in locating the relatives for over 3years now I seek your consent to present you as the next of kin of the deceased since you have the same last name so that the proceeds of this deposit (Money) valued at (US$15,500,000)fiftheen million five hundred thounsand dollars can be claim by you and then you and me can share the money. 40% to me and 60% to you I have all necessary legal documents that can be used to back up any claim we may make. All I require is your honest cooperation to enable us see this deal through. I guarantee that this will be executed under a legitimate arrangement that will protect you and me from any breach of the law. Please get in touch with me by my private email address:(barrister_rotimibello_chamber@yahoo.co.uk) for more information to enable us discuss further or you can call my private line;# 234 8033791090Best regards, Barrister Rotimi bello (Esq)EMAIL:barrister_rotimibello_chamber@yahoo.co.uk",
         "1",
         "FROM:BARR.ROTIMI BELLO (ESQ)NO.5 MILVERTON STREET,   VICTORIA-ISLANDLAGOS.EMAIL:barrister_rotimibello_chamber@yahoo.co.uk Dear Sir/Madam,                                                           I am Barrister Rotimi Bello, a solicitor at law. I am the personal attorney to Mr. Douglas Raju, a national of your country, who used to work with shell development company in Nigeria and as well a one time secret agent in transferring of money overseas for the Late head of state of Nigeria {Late Gen.SANI ABACHA}.Before his death On the 21st of April 2002 [my client,his wife and their only daugther were involved in a car accident along sagamu express way in which all occupants of the motor died}. My client {RAJU}deposited  the sum of $15.5m in a commercial bank(CENTRAL BANK OF NIGERIA) here in Nigeria for himself, with the hope of transferring it to his country as soon as he is on leave. Since his death I have made several enquiries to your embassy to locate any of my clients extended relatives this has also proved unsuccessful. After these several unsuccessful attempts, I decided to trace his last name over the Internet, to locate any member of his family hence I contacted you. I have contacted you to assist in repatriating the money and property left behind by my client before they get confiscated or declared unserviceable by the bank where these Money were Deposited. Particularly, the (CENTRAL BANK OF NIGERIA) where the deceased Deposited (US$15,500,000)fiftheen million five hundred thounsand dollars has issued me a notice to provide the next of kin with in the next ten official working days. Since I have been unsuccessful in locating the relatives for over 3years now I seek your consent to present you as the next of kin of the deceased since you have the same last name so that the proceeds of this deposit (Money) valued at (US$15,500,000)fiftheen million five hundred thounsand dollars can be claim by you and then you and me can share the money. 40% to me and 60% to you I have all necessary legal documents that can be used to back up any claim we may make. All I require is your honest cooperation to enable us see this deal through. I guarantee that this will be executed under a legitimate arrangement that will protect you and me from any breach of the law. Please get in touch with me by my private email address:(barrister_rotimibello_chamber@yahoo.co.uk) for more information to enable us discuss further or you can call my private line;# 234 8033791090Best regards, Barrister Rotimi bello (Esq)EMAIL:barrister_rotimibello_chamber@yahoo.co.uk"
        ],
        [
         "39",
         "Yes we can do that this afternoon.",
         "0",
         "Yes we can do that this afternoon."
        ],
        [
         "40",
         "Jm",
         "0",
         "Jm"
        ],
        [
         "41",
         "PVerveer B6Friday December 17 2010 12:12 AMFrom B6Pleaselet me know if I can be of any help to your department and will happy to do and please thankMrs. Hillary Clinton on behalf of me and. supporting Afghan women.Ã¢ÂÂ¢Thank youB6B6B6B6B6B6B6B6",
         "0",
         "PVerveer B6Friday December 17 2010 12:12 AMFrom B6Pleaselet me know if I can be of any help to your department and will happy to do and please thankMrs. Hillary Clinton on behalf of me and. supporting Afghan women.Ã¢ÂÂ¢Thank youB6B6B6B6B6B6B6B6"
        ],
        [
         "42",
         "nd Banking details of our deceased client that will facilitate our putting =you forward as the claimant/beneficiary of the funds and ultimately transfe=r the money to any bank account nominated by you.I am prepared to compensat=e you with a 30% share of the total funds for your efforts.10 % will be set= aside for expenses incurred during the business and 60 % would be for me a=nd my colleagues. Please contact me immediately whether or not you are inte=rested in this deal.If you are not,it will enable me scout for another fore=ign partner to carry out this deal.But where you are interested, contact me= through my email address  for more details as time is of the essence in th=is business.    You should contact me immediately as soon as you receive th=is letter. Trusting to hear from you immediately. Yours faithfully, Dr. ami=r jasim, Bill and exchange manager, African Development bank ADB=20_________________________________________________________________Express yourself instantly with MSN Messenger! Download today it's FREE!http://messenger.msn.click-url.com/go/onm00200471ave/direct/01/=",
         "1",
         "nd Banking details of our deceased client that will facilitate our putting =you forward as the claimant/beneficiary of the funds and ultimately transfe=r the money to any bank account nominated by you.I am prepared to compensat=e you with a 30% share of the total funds for your efforts.10 % will be set= aside for expenses incurred during the business and 60 % would be for me a=nd my colleagues. Please contact me immediately whether or not you are inte=rested in this deal.If you are not,it will enable me scout for another fore=ign partner to carry out this deal.But where you are interested, contact me= through my email address  for more details as time is of the essence in th=is business.    You should contact me immediately as soon as you receive th=is letter. Trusting to hear from you immediately. Yours faithfully, Dr. ami=r jasim, Bill and exchange manager, African Development bank ADB=20_________________________________________________________________Express yourself instantly with MSN Messenger! Download today it's FREE!http://messenger.msn.click-url.com/go/onm00200471ave/direct/01/="
        ],
        [
         "43",
         "Thanks and God Bles! s You,Best Regards.MR. MICHEAL BALOY(FOR THE FAMILY)",
         "1",
         "Thanks and God Bles! s You,Best Regards.MR. MICHEAL BALOY(FOR THE FAMILY)"
        ],
        [
         "44",
         "FYI",
         "0",
         "FYI"
        ],
        [
         "45",
         "H <hrod17@clintonemail.com>Wednesday October 7 2009 6:46 AM'stalbott'JilotyLC@state.gov'Re: Rose....Thx for passing on the feedback which I will share w her. Let's plan another catch up call. I'm copying my assistantLauren to try to schedule for us.",
         "0",
         "H  Wednesday October 7 2009 6:46 AM'stalbott'JilotyLC@state.gov'Re: Rose....Thx for passing on the feedback which I will share w her. Let's plan another catch up call. I'm copying my assistantLauren to try to schedule for us."
        ],
        [
         "46",
         "WALTERS COMPANY FROM THE OFFICE OF THE MANAGER,WALTERS GATE COMPANY,IMPORT AND EXPORT,WORLD TRADE CENTER,LONDON,ENGLAND.Dear Sir/Madam,                      JOB OFFER FOR A REPRESENTATIVE.I am Mr. Walter Gate managing Director Walters Gate company and I am an engineer by profession, and my company is based in Europe.My Company deals with import and export, construction and general servicing. We import construction materials like Drilling machine, underground pipes, and pumping machine for refineries and general maintenance of petroleum refineries. We also supply materials for Borehole construction into America and Canada.Our offices are mainly in Europe and Asia.We need a reliable and trustworthy representative that will monitor the affairs of our company in America and Canada, the representative will be incharge of all the companies affairs like monitoring of goods to their various owners, clear from sea-port and also collect payment from creditors.The company has agreed to let the representative have 10% of every payment collected as his/her commission.If you are interested please send me the following information:1.Full Name.2.Full Contact addresses.3.Phone and Fax number.4.Date of Birth.5.Year of Working Experience.Get back to me with the information and your application will be processed and we will get back to you. For further information visit our:web-site www.walters-import-export.8m.com.",
         "1",
         "WALTERS COMPANY FROM THE OFFICE OF THE MANAGER,WALTERS GATE COMPANY,IMPORT AND EXPORT,WORLD TRADE CENTER,LONDON,ENGLAND.Dear Sir/Madam,                      JOB OFFER FOR A REPRESENTATIVE.I am Mr. Walter Gate managing Director Walters Gate company and I am an engineer by profession, and my company is based in Europe.My Company deals with import and export, construction and general servicing. We import construction materials like Drilling machine, underground pipes, and pumping machine for refineries and general maintenance of petroleum refineries. We also supply materials for Borehole construction into America and Canada.Our offices are mainly in Europe and Asia.We need a reliable and trustworthy representative that will monitor the affairs of our company in America and Canada, the representative will be incharge of all the companies affairs like monitoring of goods to their various owners, clear from sea-port and also collect payment from creditors.The company has agreed to let the representative have 10% of every payment collected as his/her commission.If you are interested please send me the following information:1.Full Name.2.Full Contact addresses.3.Phone and Fax number.4.Date of Birth.5.Year of Working Experience.Get back to me with the information and your application will be processed and we will get back to you. For further information visit our:web-site www.walters-import-export.8m.com."
        ],
        [
         "47",
         "More fyi.",
         "0",
         "More fyi."
        ],
        [
         "48",
         "H <hrod17@clintonemail.com>Monday December 21 2009 7:26 AM'ca Ã¢ÂÂ¢ nciamarshall@RELEASE IN PARTB6",
         "0",
         "H  Monday December 21 2009 7:26 AM'ca Ã¢ÂÂ¢ nciamarshall@RELEASE IN PARTB6"
        ],
        [
         "49",
         "    From =3A Stella Dikko SambaAbidjan=2C Ivory CoastWest Africa=2ETEL +225 07 81 95 57APPEAL FOR URGENT BUSINESS ASSISTANCE=2EMY Dear =2CPermit me to inform you of my desire ofgoing into business relationship with you=2E I got yourname and contact from the Ivoirian chamber of commerceand industry=2E I prayed over it and selected your nameamong other names due to its esteeming nature and therecommendations given to me as a reputable and trustworthy person that I can do business with and by therecommendation =2C I must not hesitate to confide in youfor this simple and sincere business =2E I am Stella Dikoo Samba the only daughter of late Mr=2Eand Mrs=2E Dikko samba=2E My father was a very wealthycocoa merchant in Abidjan =2C the economic capital ofIvory coast=2C my father was poisoned to dearth by hisbusiness associates on one of their outings on abusiness trip =2EMy mother died when I was a baby and sincethen my father took me so special=2E Before the death ofmy father on January 2002 in a private hospital herein Abidjan he secretly called me on his bed side andtold me that he has the sum of seventeen million =2Cfivehundred thousand United State Dollars=2E USD =28$17=2E500=2C000=29 left in fixed =2F suspense account in one ofthe prime bank here in Abidjan =2Cthat he used my nameas his only daughter for the next of Kin in depositing of the fund=2E He also explained to me that it was because of this wealth that he was poisoned by his business associates=2E That I should seek for a foreign partner in a country of my choice where i will transfer this money and use it for investment purpose such as real estate management or hotel management =2ESir=2C I am honourably seeking your assistancein the following ways=3A=281=29 To provide a bank account into which this moneywould be transferred to =2E=282=29 To serve as a guardian of this fund since I amonly 22years=2E=283=29 To make arrangement for me to come over to yourcountry to further my education and to secure aresident permit in your country=2EMoreover=2C sir i am willing to offer you 15%of the total sum as compensation for your effort=2Finput after the successful transfer of this fund intoyour nominated account overseas=2EFurthermore=2C you indicate your optionstowards assisting me as I believe that thistransaction would be concluded within fourteen =2814=29days you signify interest to assist me=2E Anticipatingto hear from you soon=2EReply ma in my private mail box=3Ajimnaya174=40yahoo=2EfrThanks and God bless=2EBest regard STELLA DIKKO SAMBA ",
         "1",
         "    From =3A Stella Dikko SambaAbidjan=2C Ivory CoastWest Africa=2ETEL +225 07 81 95 57APPEAL FOR URGENT BUSINESS ASSISTANCE=2EMY Dear =2CPermit me to inform you of my desire ofgoing into business relationship with you=2E I got yourname and contact from the Ivoirian chamber of commerceand industry=2E I prayed over it and selected your nameamong other names due to its esteeming nature and therecommendations given to me as a reputable and trustworthy person that I can do business with and by therecommendation =2C I must not hesitate to confide in youfor this simple and sincere business =2E I am Stella Dikoo Samba the only daughter of late Mr=2Eand Mrs=2E Dikko samba=2E My father was a very wealthycocoa merchant in Abidjan =2C the economic capital ofIvory coast=2C my father was poisoned to dearth by hisbusiness associates on one of their outings on abusiness trip =2EMy mother died when I was a baby and sincethen my father took me so special=2E Before the death ofmy father on January 2002 in a private hospital herein Abidjan he secretly called me on his bed side andtold me that he has the sum of seventeen million =2Cfivehundred thousand United State Dollars=2E USD =28$17=2E500=2C000=29 left in fixed =2F suspense account in one ofthe prime bank here in Abidjan =2Cthat he used my nameas his only daughter for the next of Kin in depositing of the fund=2E He also explained to me that it was because of this wealth that he was poisoned by his business associates=2E That I should seek for a foreign partner in a country of my choice where i will transfer this money and use it for investment purpose such as real estate management or hotel management =2ESir=2C I am honourably seeking your assistancein the following ways=3A=281=29 To provide a bank account into which this moneywould be transferred to =2E=282=29 To serve as a guardian of this fund since I amonly 22years=2E=283=29 To make arrangement for me to come over to yourcountry to further my education and to secure aresident permit in your country=2EMoreover=2C sir i am willing to offer you 15%of the total sum as compensation for your effort=2Finput after the successful transfer of this fund intoyour nominated account overseas=2EFurthermore=2C you indicate your optionstowards assisting me as I believe that thistransaction would be concluded within fourteen =2814=29days you signify interest to assist me=2E Anticipatingto hear from you soon=2EReply ma in my private mail box=3Ajimnaya174=40yahoo=2EfrThanks and God bless=2EBest regard STELLA DIKKO SAMBA "
        ]
       ],
       "shape": {
        "columns": 3,
        "rows": 1000
       }
      },
      "text/html": [
       "<div>\n",
       "<style scoped>\n",
       "    .dataframe tbody tr th:only-of-type {\n",
       "        vertical-align: middle;\n",
       "    }\n",
       "\n",
       "    .dataframe tbody tr th {\n",
       "        vertical-align: top;\n",
       "    }\n",
       "\n",
       "    .dataframe thead th {\n",
       "        text-align: right;\n",
       "    }\n",
       "</style>\n",
       "<table border=\"1\" class=\"dataframe\">\n",
       "  <thead>\n",
       "    <tr style=\"text-align: right;\">\n",
       "      <th></th>\n",
       "      <th>text</th>\n",
       "      <th>label</th>\n",
       "      <th>clean_text</th>\n",
       "    </tr>\n",
       "  </thead>\n",
       "  <tbody>\n",
       "    <tr>\n",
       "      <th>0</th>\n",
       "      <td>DEAR SIR, STRICTLY A PRIVATE BUSINESS PROPOSAL...</td>\n",
       "      <td>1</td>\n",
       "      <td>DEAR SIR, STRICTLY A PRIVATE BUSINESS PROPOSAL...</td>\n",
       "    </tr>\n",
       "    <tr>\n",
       "      <th>1</th>\n",
       "      <td>Will do.</td>\n",
       "      <td>0</td>\n",
       "      <td>Will do.</td>\n",
       "    </tr>\n",
       "    <tr>\n",
       "      <th>2</th>\n",
       "      <td>Nora--Cheryl has emailed dozens of memos about...</td>\n",
       "      <td>0</td>\n",
       "      <td>Nora--Cheryl has emailed dozens of memos about...</td>\n",
       "    </tr>\n",
       "    <tr>\n",
       "      <th>3</th>\n",
       "      <td>Dear Sir=2FMadam=2C I know that this proposal ...</td>\n",
       "      <td>1</td>\n",
       "      <td>Dear Sir=2FMadam=2C I know that this proposal ...</td>\n",
       "    </tr>\n",
       "    <tr>\n",
       "      <th>4</th>\n",
       "      <td>fyi</td>\n",
       "      <td>0</td>\n",
       "      <td>fyi</td>\n",
       "    </tr>\n",
       "    <tr>\n",
       "      <th>...</th>\n",
       "      <td>...</td>\n",
       "      <td>...</td>\n",
       "      <td>...</td>\n",
       "    </tr>\n",
       "    <tr>\n",
       "      <th>995</th>\n",
       "      <td>So what's the latest? It sounds contradictory ...</td>\n",
       "      <td>0</td>\n",
       "      <td>So what's the latest? It sounds contradictory ...</td>\n",
       "    </tr>\n",
       "    <tr>\n",
       "      <th>996</th>\n",
       "      <td>TRANSFER OF 36,759,000.00 MILLION POUNDS TO YO...</td>\n",
       "      <td>1</td>\n",
       "      <td>TRANSFER OF 36,759,000.00 MILLION POUNDS TO YO...</td>\n",
       "    </tr>\n",
       "    <tr>\n",
       "      <th>997</th>\n",
       "      <td>Barb I will call to explain. Are you back in t...</td>\n",
       "      <td>0</td>\n",
       "      <td>Barb I will call to explain. Are you back in t...</td>\n",
       "    </tr>\n",
       "    <tr>\n",
       "      <th>998</th>\n",
       "      <td>Yang on travelNot free tonite.May work tomorrow</td>\n",
       "      <td>0</td>\n",
       "      <td>Yang on travelNot free tonite.May work tomorrow</td>\n",
       "    </tr>\n",
       "    <tr>\n",
       "      <th>999</th>\n",
       "      <td>sbwhoeopSunday February 21 2010 7:42 PMHShaunH...</td>\n",
       "      <td>0</td>\n",
       "      <td>sbwhoeopSunday February 21 2010 7:42 PMHShaunH...</td>\n",
       "    </tr>\n",
       "  </tbody>\n",
       "</table>\n",
       "<p>1000 rows × 3 columns</p>\n",
       "</div>"
      ],
      "text/plain": [
       "                                                  text  label  \\\n",
       "0    DEAR SIR, STRICTLY A PRIVATE BUSINESS PROPOSAL...      1   \n",
       "1                                             Will do.      0   \n",
       "2    Nora--Cheryl has emailed dozens of memos about...      0   \n",
       "3    Dear Sir=2FMadam=2C I know that this proposal ...      1   \n",
       "4                                                  fyi      0   \n",
       "..                                                 ...    ...   \n",
       "995  So what's the latest? It sounds contradictory ...      0   \n",
       "996  TRANSFER OF 36,759,000.00 MILLION POUNDS TO YO...      1   \n",
       "997  Barb I will call to explain. Are you back in t...      0   \n",
       "998    Yang on travelNot free tonite.May work tomorrow      0   \n",
       "999  sbwhoeopSunday February 21 2010 7:42 PMHShaunH...      0   \n",
       "\n",
       "                                            clean_text  \n",
       "0    DEAR SIR, STRICTLY A PRIVATE BUSINESS PROPOSAL...  \n",
       "1                                             Will do.  \n",
       "2    Nora--Cheryl has emailed dozens of memos about...  \n",
       "3    Dear Sir=2FMadam=2C I know that this proposal ...  \n",
       "4                                                  fyi  \n",
       "..                                                 ...  \n",
       "995  So what's the latest? It sounds contradictory ...  \n",
       "996  TRANSFER OF 36,759,000.00 MILLION POUNDS TO YO...  \n",
       "997  Barb I will call to explain. Are you back in t...  \n",
       "998    Yang on travelNot free tonite.May work tomorrow  \n",
       "999  sbwhoeopSunday February 21 2010 7:42 PMHShaunH...  \n",
       "\n",
       "[1000 rows x 3 columns]"
      ]
     },
     "execution_count": 96,
     "metadata": {},
     "output_type": "execute_result"
    }
   ],
   "source": [
    "data_train"
   ]
  },
  {
   "cell_type": "code",
   "execution_count": 97,
   "metadata": {},
   "outputs": [],
   "source": [
    "import re\n",
    "\n",
    "def full_clean(text):\n",
    "    # Remove special characters\n",
    "    text = re.sub(r'[^A-Za-z0-9\\s]', ' ', text)\n",
    "    # Remove digits (numbers)\n",
    "    text = re.sub(r'\\d+', '', text)\n",
    "    # Remove single characters (e.g., \" a b c \")\n",
    "    text = re.sub(r'\\s+[a-zA-Z]\\s+', ' ', text)\n",
    "\n",
    "    # Remove single characters from the start\n",
    "    text = re.sub(r'^[a-zA-Z]\\s+', '', text)\n",
    "\n",
    "    # Substitute multiple spaces with a single space\n",
    "    text = re.sub(r'\\s+', ' ', text)\n",
    "\n",
    "  # Remove byte-string prefix b''\n",
    "    text = re.sub(r\"^b['\\\"]\", '', text)\n",
    "\n",
    "    # Convert to lowercase\n",
    "    text = text.lower().strip()\n",
    "\n",
    "    return text\n",
    "\n",
    "data_train['clean_text'] = data_train['clean_text'].apply(full_clean)\n",
    "data_test['clean_text'] = data_test['clean_text'].apply(full_clean)\n"
   ]
  },
  {
   "cell_type": "markdown",
   "metadata": {
    "slideshow": {
     "slide_type": "-"
    }
   },
   "source": [
    "## Now let's work on removing stopwords\n",
    "Remove the stopwords."
   ]
  },
  {
   "cell_type": "code",
   "execution_count": 98,
   "metadata": {},
   "outputs": [],
   "source": [
    "def text_preprocessing_stopwords(text):\n",
    "    words = text.split()\n",
    "    filtered_words = [word for word in words if word not in stop_words]\n",
    "    return ' '.join(filtered_words)\n",
    "\n",
    "data_train['clean_text'] = data_train['clean_text'].apply(text_preprocessing_stopwords)\n",
    "data_test['clean_text'] = data_test['clean_text'].apply(text_preprocessing_stopwords)\n"
   ]
  },
  {
   "cell_type": "markdown",
   "metadata": {},
   "source": [
    "## Tame Your Text with Lemmatization\n",
    "Break sentences into words, then use lemmatization to reduce them to their base form (e.g., \"running\" becomes \"run\"). See how this creates cleaner data for analysis!"
   ]
  },
  {
   "cell_type": "code",
   "execution_count": 99,
   "metadata": {},
   "outputs": [
    {
     "data": {
      "application/vnd.microsoft.datawrangler.viewer.v0+json": {
       "columns": [
        {
         "name": "index",
         "rawType": "int64",
         "type": "integer"
        },
        {
         "name": "text",
         "rawType": "object",
         "type": "string"
        },
        {
         "name": "label",
         "rawType": "int64",
         "type": "integer"
        },
        {
         "name": "clean_text",
         "rawType": "object",
         "type": "string"
        }
       ],
       "conversionMethod": "pd.DataFrame",
       "ref": "ebf6466c-f0b8-4bf8-8163-7027aee0ac07",
       "rows": [
        [
         "0",
         "DEAR SIR, STRICTLY A PRIVATE BUSINESS PROPOSAL I AM MIKE CHUKWU , THE MANAGER, BILLS AND EXCHANGE AT THE FOREIGN REMITTANCE DEPARTMENT OF THE ZENITH INTERNATIONAL BANK PLC. I AM WRITING THIS LETTER TO ASK FOR YOUR SUPPORT AND COOPERATION TO CARRY OUT THIS BUSINESS OPPORTUNITY IN MY DEPARTMENT. WE DISCOVERED AN ABANDONED SUM OF $15,000,000.00 (FIFTEEN MILLION UNITED STATES DOLLARS ONLY) IN AN ACCOUNT THAT BELONGS TO ONE OF OUR FOREIGN CUSTOMERS WHO DIED ALONG WITH HIS ENTIRE FAMILY OF A WIFE AND TWO CHILDREN IN NOVEMBER 1997 IN A PLANE CRASH. SINCE WE HEARD OF HIS DEATH, WE HAVE BEEN EXPECTING HIS NEXT-OF-KIN TO COME OVER AND PUT CLAIMS FOR HIS MONEY AS THE HEIR,BECAUSE WE CANNOT RELEASE THE FUND FROM HIS ACCOUNT UNLESS SOMEONE APPLIES FOR CLAIM AS THE NEXT-OF-KIN TO THE DECEASED AS INDICATED IN OUR BANKING GUIDELINES. UNFORTUNATELY, NEITHER THEIR FAMILY MEMBER NOR DISTANT RELATIVE HAS EVER APPEARED TO CLAIM THE SAID FUND. UPON THIS DISCOVERY,I AND OTHER OFFICIALS IN MY DEPARTMENT HAVE AGREED TO MAKE BUSINESS WITH YOU AND RELEASE THE TOTAL AMOUNT INTO YOUR ACCOUNT AS THE HEIR OF THE FUND SINCE NO ONE CAME FOR IT OR DISCOVERED HE MAINTAINED ACCOUNT WITH OUR BANK, OTHERWISE THE FUND WILL BE RETURNED TO THE BANKS TREASURY AS UNCLAIMED FUND. WE HAVE AGREED THAT OUR RATIO OF SHARING WILL BE AS STATED THUS; 30 % FOR YOU AS FOREIGN PARTNER, 60 % FOR US THE OFFICIALS IN MY DEPARTMENT AND 10% FOR THE SETTLEMENT OF ALL LOCAL AND FOREIGN EXPENCES INCURRED BY US AND YOU DURING THE COURSE OF THIS BUSINESS. UPON THE SUCCESSFUL COMPLETION OF THIS TRANSFER, I AND ONE OF MY COLLEAGUES WILL COME TO YOUR COUNTRY AND MIND OUR SHARE. IT IS FROM OUR 60 % WE INTEND TO IMPORT AGRICULTURAL MACHINERIES INTO MY COUNTRY AS A WAY OF RECYCLING THE FUND. TO COMMENCE THIS TRANSACTION, WE REQUIRE YOU TO IMMEDIATELY INDICATE YOUR INTEREST BY A RETURN E-MAIL AND ENCLOSE YOUR PRIVATE CONTACT TELEPHONE NUMBER, FAX NUMBER FULL NAME AND ADDRESS AND YOUR DESIGNATED BANK COORDINATES TO ENABLE US FILE LETTER OF CLAIM TO THE APPROPRIATE DEPARTMENTS FOR NECESSARY APPROVALS BEFORE THE TRANSFER CAN BE MADE. NOTE ALSO, THIS TRANSACTION MUST BE KEPT STRICTLY CONFIDENTIAL BECAUSE OF IT'S NATURE. I LOOK FORWARD TO RECEIVING YOUR PROMPT RESPONSE. REGARDS, MR. MIKE CHUKWU ZENITH INTERNATIONAL BANK PLC . ",
         "1",
         "dear sir strictly private business proposal mike chukwu manager bills exchange foreign remittance department zenith international bank plc writing letter ask support cooperation carry business opportunity department discovered abandoned sum fifteen million united states dollars account belongs one foreign customers died along entire family wife two children november plane crash since heard death expecting next kin come put claims money heir cannot release fund account unless someone applies claim next kin deceased indicated banking guidelines unfortunately neither family member distant relative ever appeared claim said fund upon discovery officials department agreed make business release total amount account heir fund since one came discovered maintained account bank otherwise fund returned banks treasury unclaimed fund agreed ratio sharing stated thus foreign partner us officials department settlement local foreign expences incurred us course business upon successful completion transfer one colleagues come country mind share intend import agricultural machineries country way recycling fund commence transaction require immediately indicate interest return mail enclose private contact telephone number fax number full name address designated bank coordinates enable us file letter claim appropriate departments necessary approvals transfer made note also transaction must kept strictly confidential nature look forward receiving prompt response regards mr mike chukwu zenith international bank plc"
        ],
        [
         "1",
         "Will do.",
         "0",
         ""
        ],
        [
         "2",
         "Nora--Cheryl has emailed dozens of memos about Haiti to me this weekend. Can you please print them and organize them inchrono order for me for my trip tomorrow or send to Lauren so she can do? Thx.",
         "0",
         "nora cheryl emailed dozens memos haiti weekend please print organize inchrono order trip tomorrow send lauren thx"
        ],
        [
         "3",
         "Dear Sir=2FMadam=2C I know that this proposal might be a surprise to you but it as an emergency=2EIn a nutshell=2C I am MR=2EP=2E ZUMA=2C from the republic of South-Africa=2C now seeking for refuge in Dakar Senegal under the=28UNHCR=29=2E   I got your contact during a desperate search here in Dakar for a possible transaction=2E My =28late=29 father DR=2E ZUMA KENT WILLIAMS=2C he was the managing director of Gold Mine company in SOUTH AFRICA=2E But he was assinated by his business assoicate and all his properties was totally destroyed by his elder brother=2E   Who alway hate to see me and my mother with his eye's=2C that man very wicked that is why i and my mother managed to escape with some of my father's documents covering $18=2E3 Million dollars which is presently deposited safely in a finance firm on my name as the next of kin=2E Meanwhile=2Cwe are saddled with the problem of securing a trust-worthy foriegn personality to help us transfer the money over to his country and into his possession pending our arrival to meet with him=2E   Furthermore=2Cwe only want this done this way because your country is politically stable for any profitable investment and only if you accept our proposal=2C you will serve as the beneficiary of the fund on commencement of this proposed transactions=2E I am giving you the offers as mentioned with every confidence on your acceptance to assist us=2C we have decided to invest 40% of the total fund based on equity participation in your company=2E   Secondly=2C we shall also take 5% out for any miscelleneous expenses that may occure=2E Conclusively=2C i wish you send me a reply immediately as soon as yourecieve this proposal so that we shall arrange on how to lift this consignment out of Dakar Senegal to your country=2E On commencement=2Cthis transaction will take nothing less than 14 working days to be accomplished=2E All documents covering the fund are safe and intact=2E i remain with the best regards=2E   Please kindly responce to this Alternative E-mail =3A p=5Fzuma1976=40walla=2Ecom Please call urgently to speak with me and my mother on this our direct telephone number =28 00 221 649 67 68  =29 Thanks yours=2C  Mr Prince Zuma=2E ",
         "1",
         "dear sir fmadam know proposal might surprise emergency ein nutshell mr ep zuma republic south africa seeking refuge dakar senegal unhcr got contact desperate search dakar possible transaction late father dr zuma kent williams managing director gold mine company south africa assinated business assoicate properties totally destroyed elder brother alway hate see mother eye c man wicked mother managed escape father documents covering million dollars presently deposited safely finance firm name next kin meanwhile cwe saddled problem securing trust worthy foriegn personality help us transfer money country possession pending arrival meet furthermore cwe want done way country politically stable profitable investment accept proposal serve beneficiary fund commencement proposed transactions giving offers mentioned every confidence acceptance assist us decided invest total fund based equity participation company secondly shall also take miscelleneous expenses may occure conclusively wish send reply immediately soon yourecieve proposal shall arrange lift consignment dakar senegal country commencement cthis transaction take nothing less working days accomplished documents covering fund safe intact remain best regards please kindly responce alternative mail p fzuma walla ecom please call urgently speak mother direct telephone number thanks mr prince zuma"
        ],
        [
         "4",
         "fyi",
         "0",
         "fyi"
        ],
        [
         "5",
         "sure -- bottom line - you need a special security code to get on line from a computer outside the building. Only 1 in 5 ofour employees has gotten the device (fob) that allows you to do this access.This effort is making sure they get fobs into the hands of more (or all) employees so folks can work from home therebyincreasing productivity substantially since the 4 in 5 essentially do no work from home once they leave the building untilthey get in again b/c they don't have access to their email.cdm",
         "0",
         "sure bottom line need special security code get line computer outside building ofour employees gotten device fob allows access effort making sure get fobs hands employees folks work home therebyincreasing productivity substantially since essentially work home leave building untilthey get c access email cdm"
        ],
        [
         "6",
         "Dear Sir,I am Engr. Ugo Nzego with the Engineering Stores Department of the Federal Ministry of Agriculture and Natural Resources and member of Tenders Board. We have urgent need for a trustworthy foreign contact person with whom we can carry out a successful business deal.Federal Government has voted the sum of US$1.86 Billion for Local Production of food crops. The Government has also considered the impact of the importation of some food items like Rice, Beans, Frozen Chicken and Turkeys and other food stuffs on the Nations Foreign Reserve and have banned the importation of the items that could be produced locally. As a result, the Federal Ministry of Agriculture and Natural Resources has been mandated to import Agricultural Equipments for supply to Local Farmers both at SUBSISTENT AND COMMERCIAL level to encourage them to produce enough food items for local consumption and for export to other African Countries. We have already started awarding new contracts for supply of the equipments to successful bidders.We want you to submit to us immediately your complete company name, address, your name as President or Managing Director / CEO of the company, your banking particulars:- (banks name address, telephone,fax and telex numbers. Your receiving number, swift and routing numbers), with these informations, we can get you properly registered as one of the contractors of FMANR who has already been awarded part of this contract for the sum of US$113.4 Million to supply some of the Agricultural Equipments parts of which we already have in our custody (stores).After receiving the above needed and stated information from you, we will process all the documentation and submit them for immediate approvals and the Federal Government will pay 25% of US$113.4 Million into your nominated bank account in the name of your company as the beneficiary, which is US$28.35M . In no time, the remaining US$85,050,000.00 Million shall be paid as balance payment or we together in agreement as partners will use another foreign firm's name that will carry out the supply of the remaining equipments as a sub-contractor to you in our documentation to receive this balance payment.We shall come to your country immediately this fund is in your account to share the US$28.35 Million. The sharing pattern should be negotiated by both parties concerned.However, be rest assured that no risk is involved or any scandal in the future, for we have done all our homework very well, nobody will be hurt during and after this transaction. It may also please you to knowthat all the GOODS that cover the 25% payment are on record, only us that are key members of the contract board committee has this knowledge and information. There is the serious need to keep this transactionsecret and very confidential. To that effect, I would require your private phone and fax numbers for easy and confidential communication. I await  your immediate response to this Proposal. Meanwhile, I look forward to establishing life long business relationship with you.The  nature of your company or business does not necessarily have to be Agriculturally related but ownership of a company is a criterium for the project.Please reply immediately through this fax number 234-9-2726567. As soon as I receive your fax, I will call you on phone for detailed discussion.Best regards,Engr. Ugo Nzego.",
         "1",
         "dear sir engr ugo nzego engineering stores department federal ministry agriculture natural resources member tenders board urgent need trustworthy foreign contact person carry successful business deal federal government voted sum us billion local production food crops government also considered impact importation food items like rice beans frozen chicken turkeys food stuffs nations foreign reserve banned importation items could produced locally result federal ministry agriculture natural resources mandated import agricultural equipments supply local farmers subsistent commercial level encourage produce enough food items local consumption export african countries already started awarding new contracts supply equipments successful bidders want submit us immediately complete company name address name president managing director ceo company banking particulars banks name address telephone fax telex numbers receiving number swift routing numbers informations get properly registered one contractors fmanr already awarded part contract sum us million supply agricultural equipments parts already custody stores receiving needed stated information process documentation submit immediate approvals federal government pay us million nominated bank account name company beneficiary us time remaining us million shall paid balance payment together agreement partners use another foreign firm name carry supply remaining equipments sub contractor documentation receive balance payment shall come country immediately fund account share us million sharing pattern negotiated parties concerned however rest assured risk involved scandal future done homework well nobody hurt transaction may also please knowthat goods cover payment record us key members contract board committee knowledge information serious need keep transactionsecret confidential effect would require private phone fax numbers easy confidential communication await immediate response proposal meanwhile look forward establishing life long business relationship nature company business necessarily agriculturally related ownership company criterium project please reply immediately fax number soon receive fax call phone detailed discussion best regards engr ugo nzego"
        ],
        [
         "7",
         "Abedin Huma <AbedinH@state.gov>Saturday November 28 2009 5:14 PMHFw: Quint fmsI'm going topropose separate bilats with relevant countries. You ok with proceeding that way?",
         "0",
         "abedin huma saturday november pmhfw quint fmsi going topropose separate bilats relevant countries ok proceeding way"
        ],
        [
         "8",
         "There is an Oct 16th George Marshall event at the Department. Do we have it on tentative calendar?Have we scheduled a Sept event for all the groups doing econ and other work w Palestinians? Mara Rudman is workingon it for Mitchell.Starting in Sept I want to have a weekly lunch/mtg w Steinberg and one w the undersecs. I also want to schedule forearly Sept hour mtgs w each bureau to dscuss priorities.When can I visit FSI?",
         "0",
         "oct th george marshall event department tentative calendar scheduled sept event groups econ work palestinians mara rudman workingon mitchell starting sept want weekly lunch mtg steinberg one undersecs also want schedule forearly sept hour mtgs bureau dscuss priorities visit fsi"
        ],
        [
         "9",
         "<P>1 25% for you as the account owner <BR>2 65% for I and my colleagues<BR>=3 10% will be set aside to defray all incidental <BR>expenses both locally =and internationally during the<BR>course of this transaction.</P><P>Furthermore, we shall be coming over to your country when<BR>the money i=s finally in your account and we shall be relying<BR>on your advise as rega=rds to investment of our share. Be<BR>informed that, this business is genui=ne and 100% safe<BR>considering the high powered government officials invol=ved.</P><P>Send by mail the following informations:-</P><P>1, YOUR COMPANY NAME AND ADDRESS, BANK NAME, ADDRESS<BR>AND ACCOUNT NUMB=ER.</P><P>2, YOUR TELEPHONE AND FAX NUMBER FOR EFFECTIVE<BR>COMMUNICATION. <BR>Thi=s is to effect the swift Transfer of this fund into your<BR>account in less= than Seven (7) working days.</P><P>Expecting your immediate response while<BR>looking forward to a healthy =business relationship<BR>with you.</P><P>Yours faithfully,</P><P>OLUFEMI WILLIAMS</P><BR> <span style=3D'color:#000000;font-family:arial;= font-size:10pt;'>Freeserve AnyTime - HALF PRICE for the first 3 months - S=ave =A37.50 a month <br><a href=3D'http://www.freeserve.com/anytime' style==3D'color:#0000FF; font-family:arial; font-size:10pt;' TARGET=3D'_blank'>ww=w.freeserve.com/anytime</a></span>------=_Part_26067_4664911.1074038447746--",
         "1",
         "account owner colleagues set aside defray incidental expenses locally internationally course transaction furthermore shall coming country money finally account shall relying advise rega rds investment share informed business genui ne safe considering high powered government officials invol ved send mail following informations company name address bank name address account numb er telephone fax number effective communication thi effect swift transfer fund account less seven working days expecting immediate response looking forward healthy business relationship faithfully olufemi williams freeserve anytime half price first months ave month ww freeserve com anytime part"
        ],
        [
         "10",
         "STRONG><A href=3D\"http://www.cnn.com/2003/WORLD/africa/07/20/kenya.crash/in=dex.html\" target=3D_blank rel=3Dnofollow><SPAN id=3Dlw_1186747716_3><U><FON=T color=3D#003399><STRONG>http://www.cnn.com/2003/WORLD/africa/07/20/kenya.=crash/index.html</STRONG></FONT></U></SPAN></A><BR><STRONG>It is therefore =upon this discovery that I now decided to make this business <BR>proposal t=o you and release the money to you as the next of kin or relation <BR>to th=e deceased for safety and subsequent disbursement since nobody is <BR>comin=g for it and I don't want this money to go into the bank treasury as <BR>un=claimed bill.<BR>I agree that 40% of this money will be for you as a foreig=n partner, in <BR>respect to the provision of a foriegn account, and 60% wo=uld be for me, <BR>There after I will visit your country for disbursement a=ccording to the <BR>percentage indicated.<BR>Therefore, to enable the immed=iate transfer of this fund to you as <BR>arranged,youmust apply first to th=e bank as relation or next of kin of the <BR>deceasedindicatingyour bank na=me, your bank account number, your private <BR>telephone andfax number for =easy and effective communication and location <BR>wherein the money will be=remitted.Upon the receipt of your reply,<BR>I will send to you by fax or em=ail the text of the application to fill and <BR>send to the bank. I will no=t fail to bring to your notice that this <BR>transaction is 100% Risk free =and you should keep this transaction top secret.<BR>I know what to do and m=ove the fund into your account without any delay and <BR>that you should no=t entertain any atom of fear as all required arrangements <BR>have been mad=e for the transfer.<BR>You should contact me as soon as you receive this le=tter .<BR>Yours faithfully.<BR>Mr&nbsp; kanazoe alidaa.<BR>Bill &amp; Excha=nge Manager,<BR>BANK OF AFRICA (B.O.A)<BR></STRONG><br /><hr />Appelez vos =amis de PC =E0 PC -- C'EST GRATUIT <a href=3D'http://get.live.com/messenger=/overview' target=3D'_new'>Essayez-le maintenant !</a></body></html>=--_87f05796-c97b-4aa4-b2c9-df6569033462_--",
         "1",
         "strong http www cnn com world africa kenya crash index html therefore upon discovery decided make business proposal release money next kin relation th deceased safety subsequent disbursement since nobody comin want money go bank treasury un claimed bill agree money foreig partner respect provision foriegn account wo uld visit country disbursement ccording percentage indicated therefore enable immed iate transfer fund arranged youmust apply first th bank relation next kin deceasedindicatingyour bank na bank account number private telephone andfax number easy effective communication location wherein money remitted upon receipt reply send fax em ail text application fill send bank fail bring notice transaction risk free keep transaction top secret know ove fund account without delay entertain atom fear required arrangements mad transfer contact soon receive le tter faithfully mr kanazoe alidaa bill excha nge manager bank africa appelez vos amis de pc pc est gratuit essayez le maintenant cb aa bc df"
        ],
        [
         "11",
         "Dear Friend,My name is Edward Moore QC.Principal partner Edward Moore & AssociatesLondon UK and I was compelled by my late client's request to contact youon a matter of great financial reward.My client late Hassan Zahrul(Malaysian by Birth) ,an Industrialist and Real Estate Guru died recentlyleaving a vast wealth in your name as his \"Next of Kin\".Do contact me immediately via my Direct Telephone:+44-7045705184 or betterstill send me an email to my direct email address as below stated forimmediate action on this matter.Email:edward.moore20@yahoo.co.ukI expect your immediate response and call and also let me have your directtelephone and mobile lines so i can call you as well.This matter demandsurgent action and i urge you to make this possible.Awaiting your response.Edward Moore Q.CPrincipal PartnerEdward Moore & AssociatesDirect Telephone:+44-7045705184",
         "1",
         "dear friend name edward moore qc principal partner edward moore associateslondon uk compelled late client request contact youon matter great financial reward client late hassan zahrul malaysian birth industrialist real estate guru died recentlyleaving vast wealth name next kin contact immediately via direct telephone betterstill send email direct email address stated forimmediate action matter email edward moore yahoo co uki expect immediate response call also let directtelephone mobile lines call well matter demandsurgent action urge make possible awaiting response edward moore cprincipal partneredward moore associatesdirect telephone"
        ],
        [
         "12",
         "Compliment, How are you doing today, Hope you have not forgotten me? I am Dr.Mr MichaelHoward,the man from Nigeria who contacted you some time ago to assist mesecure the release of some money accrued from the over Invoicing of a contract/inheritancethat was awarded by my (Government) some time ago during the military regime.Though you were not able to assist me conclude the transaction, I'm happyto inform you about my success in getting those funds transfered under theassistance and co-operation of a new partner from Brazil.Presently I'm inNetherlands for investment projects with my own share of the total sum. meanwhile, i didn't forget your past efforts and attempts to assist me intransferring those funds, I made sure you are not left out the benefit ofthe transaction hence I kept aside for you the sum of five Hundred ThousandUnited States Dollars.($500,000.00)Draft, the compensation also go for thegood work of God meaning for the orphans and disable in your country Pleasetake good care of them and the poor in needs also. I and my new partner agreed to compensate you with that amount for all yourpast efforts and attempts to assist me in this matter. I appreciate yourefforts at that time very much,so feel free and get in touch with my secretaryMr.Steven Chapman and instruct him on how to send the Bank draft to you.Please do let me know immediately you receive the Draft so that we can sharethe joy together after all the sufferings at that time. In the moment, I'mvery busy here because of the investment projects which me and my partnerare having at hands, finally,remember that i had left instruction to my secretaryso as soon as you contact him, he will send the Draft to you,so feel freeto get in touch with MY SECRETARY NOW. ",
         "1",
         "compliment today hope forgotten dr mr michaelhoward man nigeria contacted time ago assist mesecure release money accrued invoicing contract inheritancethat awarded government time ago military regime though able assist conclude transaction happyto inform success getting funds transfered theassistance co operation new partner brazil presently innetherlands investment projects share total sum meanwhile forget past efforts attempts assist intransferring funds made sure left benefit ofthe transaction hence kept aside sum five hundred thousandunited states dollars draft compensation also go thegood work god meaning orphans disable country pleasetake good care poor needs also new partner agreed compensate amount yourpast efforts attempts assist matter appreciate yourefforts time much feel free get touch secretarymr steven chapman instruct send bank draft please let know immediately receive draft sharethe joy together sufferings time moment mvery busy investment projects partnerare hands finally remember left instruction secretaryso soon contact send draft feel freeto get touch secretary"
        ],
        [
         "13",
         "Who wrote it?",
         "0",
         "wrote"
        ],
        [
         "14",
         " accident. <BR>&nbsp;<BR>On further investigation, I found out that he did not leave a WILL and all attempts to trace his next of kin were fruitless. I therefore made further investigation and discovered that Mr. Barry Kelly did not declare any next of kin in all his official documents, including his Bank Deposit paperwork. This sum of US$25,000,000.00 is still sitting in the Bank and the interest is being rolled over with the principal sum at the end of each year. No one will come forward to claim it.<BR>&nbsp;<BR>&nbsp;According to the Ghanaian Law, at the expiration of 7{Seven} years, the money will revert to the ownership of the Ghana Government if nobody applies to claim the funds. Consequently, my proposal is that I will like you as a foreigner to stand in as the next of kin to Mr. Barry Kelly so that the fruits of this old man's labor will not get into the hands of some corrupt government officials. This is simple;<BR>&nbsp;<BR>(1) I will like you to provide me immediately with your full names and address so that the attorney will prepare the necessary documents and affidavits, which will put you in place as the next of kin.<BR>&nbsp;<BR>(2) We shall employ the services of two attorneys for drafting and notarization of the WILL and obtain the necessary documents and letter of probate/administration in your name for the transfer.<BR>&nbsp;<BR>(3) A bank account in any part of the world, which you provide, will then facilitate the transfer of this money to you as the beneficiaryext of kin of Mr.Barry Kelly. The money will be paid into your account for us to share in the ratio of 60% for me and 40% for you. There is no risk at all as all the paperwork for this transaction will be done by the attorney and my position as the Branch Manager guarantees the successful execution of this transaction. <BR>&nbsp;<BR>If you are interested, please call :00233-242-9727-02. or reply immediately via the private email address above. Upon your response, I shall then provide you with more details and relevant documents that will help you understand. Please observe utmost confidentiality, and rest assured that this transaction would be most profitable for both of us because I shall require your assistance to invest my share in your country.<BR>&nbsp;<BR>Awaiting your urgent reply.<BR>&nbsp;<BR>Thanks and regards,<BR>Baldwin Onuigbo Esq.<BR>private no:00233-242-9727-02<BR>Reply to&nbsp; :&nbsp; </STRONG><A href=\"mailto:onuigbobald_1960@hotmail.com\"><STRONG>onuigbobald_1960@hotmail.com</STRONG></A><STRONG> <BR></STRONG><p>&#32;\t\t\t\t<hr size=1>Want to be your own boss? Learn how on <a href=\"http://us.rd.yahoo.com/evt=41244/*http://smallbusiness.yahoo.com/r-index\"> Yahoo! Small Business.</a> --0-1857806142-1159283111=:39685--",
         "1",
         "accident investigation found leave attempts trace next kin fruitless therefore made investigation discovered mr barry kelly declare next kin official documents including bank deposit paperwork sum us still sitting bank interest rolled principal sum end year one come forward claim according ghanaian law expiration seven years money revert ownership ghana government nobody applies claim funds consequently proposal like foreigner stand next kin mr barry kelly fruits old man labor get hands corrupt government officials simple like provide immediately full names address attorney prepare necessary documents affidavits put place next kin shall employ services two attorneys drafting notarization obtain necessary documents letter probate administration name transfer bank account part world provide facilitate transfer money beneficiaryext kin mr barry kelly money paid account us share ratio risk paperwork transaction done attorney position branch manager guarantees successful execution transaction interested please call reply immediately via private email address upon response shall provide details relevant documents help understand please observe utmost confidentiality rest assured transaction would profitable us shall require assistance invest share country awaiting urgent reply thanks regards baldwin onuigbo esq private reply onuigbobald hotmail com want boss learn yahoo small business"
        ],
        [
         "15",
         "Email from EricBackground for you",
         "0",
         "email ericbackground"
        ],
        [
         "16",
         "                                                                    FROM:DESK OF THE CHAIRMAN AWARD OIL COMMITTEE.ENGR WILLIAM OKEKEDEAR FRIEND,  I AM ENGR WILLIAM OKEKE THE CHAIRMAN OF CONTRACT AWARD COMMITTEE PETROL  NIGERIA NATIONAL PETROLUEM COMPANY,FEDERAL REPUBLIC OF NIGERIA. SOMETIME LAST YEAR, OUR REFINERY WAS GENERALY SERVICED AND MANY OTHER CONTRACTS WHERE ALSO AWARDED IN THE OIL SECTOR AFTER AN OUT BREAK OF FIRE. THERE WAS ASSISTANCE FROM WORLD BANK, I.M.F. AND OTHER FINANCIAL INSTITUTIONS FOR THE REPLACEMENT OF THE DAMAGED EQUIPMENT AND THE REFINERY AS A WHOLE. DURING THIS PERIOD, A LOT OF CONTRACT WERE AWAREDED TO SO MANY INTERNATIONAL CONTRACTORS. ALL THE ORIGINAL CONTRACTORS HAS JUST RECEIVED THEIR FINAL PHASE OF THEIR PAYMENT LEAVING A TOTAL SUM OF $10 MILLION USD FLOATING IN THE FILES OF FEDERAL MINISTRY OF FINANCE UNCLAIMED THIS IS AS A RESULT OF THE OVER INVOICING WE DID DURING THE AWARD OF THE CONTRACT.THIS CONTRACT HAS BEEN CERTIFIED OKAY;",
         "1",
         "desk chairman award oil committee engr william okekedear friend engr william okeke chairman contract award committee petrol nigeria national petroluem company federal republic nigeria sometime last year refinery generaly serviced many contracts also awarded oil sector break fire assistance world bank financial institutions replacement damaged equipment refinery whole period lot contract awareded many international contractors original contractors received final phase payment leaving total sum million usd floating files federal ministry finance unclaimed result invoicing award contract contract certified okay"
        ],
        [
         "17",
         "                         (\"REMITTANCE OF $15 MILLION U.S.A DOLLARS         =                          CONFIDENTIAL IS THE CASE\")Compliments Of The Season 2007,    Forgive my indignation if this message c=omes to you as a surprise and may offend your personality for contacting yo=u without your prior consent and writing through this channel.I got your co=ntact from the proffesional data base found in the internet Yahoo tourist s=earch.When i was searching For a foreign reliable partner.I assured of your capability and reliability to champion this businees oppo=rtunity.  After series of prayers/fasting.i was divinely directed to contac=t you among other names found in the data base Yahoo tourist search.I belie=ve that God has a way of helping who is in need.I am (MUSTAFA BRUNU  Esq),the Head of file Department in BANK OF AFRICA (BO=A). In my department we discovered an abandoned sum of $ 15 million U.S.A d=ollars ( fifteen million U.S.A dollars) . In an account that belongs to one= of our foreign customer who died along with his entire family on (July 21,= 2003) in a plane crash. Since we got information about his death, we have =been expecting his next of kin to come over and claim his money because we =cannot =B5 release it unless somebody applies for it as next of kin or rela=tive on to the deceased as indicated in our banking guidelines,But unfortunately we learnt that all his supposed next of kin or relation d=ied alongside with him at the plane crash leaving nobody behind for the cla=im. It is therefore upon this discovery that I and one official in my depar=tment now decided to make this businness proposal to you and release the mo=ney to you as the next of kin or relation to the deceased for safety and su=bsequent disbursement since nobody is coming for it and we don=92t want thi=s money to go into the bank treasury as unclaimed bill.The Banking law and guideline here stipulates that if such money remained u=nclamed after five years, the money will be transfered into the Bank treasu=ry as unclaimed fund. The request of foreigner as next of kin in this busin=ess is occasioned by the fact that the customer was a foreigner,and a Burki=nabe cannot stand as next of kin to a foreigner. We agree that 30 % of this= money will be for you as foreign partner,in respect to the provision of a =foreign account, 10 % will be set aside for expenses incured during the bus=iness and 60 % would be for me and my woman colleague. There after i will v=isit your country for disbursement according to the percentages indicated.Therefore to enable the immediate transfer of this fund  as arranged, you m=ust apply first to the bank as relations or next of kin of the deceased ind=icating your bank name, your bank account number, your private telephone an=d fax number for easy and effective communication and location where the mo=ney will be remitted.Upon receipt of your reply, I will send to you by fax =or email the text of the application I will not fail to bring to your notic=e that this transaction is hitch free and that you should not entertain any= atom of fear as all required arrangements have been made for the transfer.You should contact me on my number +226-76 54 93 42. immediately as soon as= you receive this letter. Trusting to hear from you immediately.Your=92s fa=ithfully,MUSTAFA BRUNU  (Esq.)FROM (B.O.A) OUAGADOUGOU BURKINA-FASO.GOD BLESSINGS,PROTECTIONS AND GUIDIAN=CE TO YOUR ENTIRE FAMILY.POST SCRITUM:You have to keep everything secret as= to enable the transfer to move very smoothly in to the account you will pr=ove to the bank.As you finished reading this letter call me immediately so =that we discuss very well over this business._________________________________________________________________Play free games, earn tickets, get cool prizes! Join Live Search Club.=A0http://club.live.com/home.aspx?icid=3DCLUB_wlmailtextlink=",
         "1",
         "remittance million dollars confidential case compliments season forgive indignation message omes surprise may offend personality contacting yo without prior consent writing channel got co ntact proffesional data base found internet yahoo tourist earch searching foreign reliable partner assured capability reliability champion businees oppo rtunity series prayers fasting divinely directed contac among names found data base yahoo tourist search belie god way helping need mustafa brunu esq head file department bank africa bo department discovered abandoned sum million ollars fifteen million dollars account belongs one foreign customer died along entire family july plane crash since got information death expecting next kin come claim money cannot release unless somebody applies next kin rela tive deceased indicated banking guidelines unfortunately learnt supposed next kin relation ied alongside plane crash leaving nobody behind cla im therefore upon discovery one official depar tment decided make businness proposal release mo ney next kin relation deceased safety su bsequent disbursement since nobody coming want thi money go bank treasury unclaimed bill banking law guideline stipulates money remained nclamed five years money transfered bank treasu ry unclaimed fund request foreigner next kin busin ess occasioned fact customer foreigner burki nabe cannot stand next kin foreigner agree money foreign partner respect provision foreign account set aside expenses incured bus iness would woman colleague isit country disbursement according percentages indicated therefore enable immediate transfer fund arranged ust apply first bank relations next kin deceased ind icating bank name bank account number private telephone fax number easy effective communication location mo ney remitted upon receipt reply send fax email text application fail bring notic transaction hitch free entertain atom fear required arrangements made transfer contact number immediately soon receive letter trusting hear immediately fa ithfully mustafa brunu esq ouagadougou burkina faso god blessings protections guidian ce entire family post scritum keep everything secret enable transfer move smoothly account pr ove bank finished reading letter call immediately discuss well business play free games earn tickets get cool prizes join live search club ahttp club live com home aspx icid dclub wlmailtextlink"
        ],
        [
         "18",
         "Abidjan Cote D'Ivoire=20Dear,=20It is my pleasure to write you after much consideration since telephone=  communication can not be suitable enough to communicate to you at fir=st=2EI am Miss Stephean Lawrence the only doughter of late Mr Christoph=er Lawrence of Sierra-Leone (SL) I am 24 years of age=2E My late father= was limited liability in Cocoa and Gold merchant in  Sierra-Leone befo=re his untimely death=2E After his business trip to Abidjan-Cote d'Ivoi=re,to negociate on a cocoa and gold business he wanted to invest in Abi=djan - Cote d'Ivoire=2E=20A Week after he came back from Abidjan, he got an accidente with my mot=her of which my mother died instantly but my father died after five day=s in a private hospital on that faithful afternoon=2E I didn't know tha=t my father was going to leave me after I had lost my  mother=2E=20But before he gave up the ghost, it was as if he knew he was going to d=ie=2E He my father, MAY HIS SOUL REST IN PERFECT PEACE he disclosed to =me that he deposited sum of $9=2E7,000,000,00 US Dollars (NINE MILLION =SEVEN HUNDRED THOUSAND DOLLARS) in a Bank here in Abidjan- Cote d'ivoir=e=2EThat the money was meant for his cocoa and Gold company he wanted to es=tablish in Abidjan - Cote d'Ivoire though, He single handed me the depo=sit certificate and instructed me to seek for a reliable and trust wort=hy business partner for my life time investment abroad=2E Now I have su=cceded in locating the bank here in Abidjan- Cote d'ivoire and also con=firmed the bank with most honest and confidentiality=2E=20=20Now I am soliciting for your assistance to help me lift this money out =from Abidjan to your safe account abroad so that we should invest it in= any meaningful lucrative business in your country because this is my o=nly hope in life=2E=20Awaiting anxiously to hear from you so that we can discuss the modaliti=es of this transaction=2E  Please kindly contact me immediately  for mo=re discussion=2E=20Please don't hesitate to send me a message=2EThanks for your kind atten=tion=2E Please contacts me true this email stephean2006@yahoo=2Efr=20Yours sincerelyMiss Stephean Lawrence",
         "1",
         "abidjan cote ivoire dear pleasure write much consideration since telephone communication suitable enough communicate fir st ei miss stephean lawrence doughter late mr christoph er lawrence sierra leone sl years age late father limited liability cocoa gold merchant sierra leone befo untimely death business trip abidjan cote ivoi negociate cocoa gold business wanted invest abi djan cote ivoire week came back abidjan got accidente mot mother died instantly father died five day private hospital faithful afternoon know tha father going leave lost mother gave ghost knew going ie father may soul rest perfect peace disclosed deposited sum us dollars nine million seven hundred thousand dollars bank abidjan cote ivoir ethat money meant cocoa gold company wanted es tablish abidjan cote ivoire though single handed depo sit certificate instructed seek reliable trust wort hy business partner life time investment abroad su cceded locating bank abidjan cote ivoire also con firmed bank honest confidentiality soliciting assistance help lift money abidjan safe account abroad invest meaningful lucrative business country nly hope life awaiting anxiously hear discuss modaliti es transaction please kindly contact immediately mo discussion please hesitate send message ethanks kind atten tion please contacts true email stephean yahoo efr sincerelymiss stephean lawrence"
        ],
        [
         "19",
         "<DIV><BR><STRONG>I am Hon. Mr. Hope Sithole one of the Personal Assistants to the young President Joseph Kabila of Democratic Republic of Congo (DRC), since he assumed power.Sincerely speaking, my agitation is real, and my word is my bond in this proposal. This money in question is part of the budget made by our President Mr. Joseph Kabila, in the fear that members of the United Nations (UN) could perhaps be mandated to offer their respective supports in forcing Iraq to disarm themselves. Eventually, his dreams do not match up with realities and as a result he (the President) started using the money on personal ground because nobody could question/probe his actions, as he believed.</STRONG></DIV><DIV><STRONG>As his closest personal assistant and with the help of two other officials one of whom was the then deputy Director, Safety and Security Department, we were able to escape with two boxes containing the aforementioned sum. At present the boxes were deposited in a reputable Security firm here in South Africa and were registered as family belongings. We had agreed on the need for a foreign assistance with a legitimate bank account abroad, that will stand as, the beneficiary and partner as well in order to avoid suspicion, since we are existing as refugees here. Copies of certificate of Deposit as well as all necessary documents from the Security cc. are available for a hitch-free transaction.</STRONG></DIV><DIV><STRONG>In addition, you are also required to come/send a representative (as far as you trust the person representing) to the Republic of South Africa for the purpose of the transfer, but only if, by one reason or the other you cannot embark on a Five working (5) days trip by yourself, according to the expert from within the bank. As things are now we had not really agreed on the actual amount that should be your remuneration for your kind assistance, which to us is no big deal. The crux of this subject in particular is the declaration of your interest after-which we enter into negotiations with you over the (percentage) issue. Other details of which you may want to know shall be discussed in due course.</STRONG></DIV><DIV><BR><STRONG>Please be kind enough to acknowledge this proposal by responding through the above E-mail address for a high level of confidentiality in this business deal.</STRONG></DIV><DIV><STRONG>Best regards,</STRONG></DIV><DIV><BR><STRONG>Hon. Mr. hope sithole</STRONG></DIV><DIV><STRONG>tel </STRONG>_<STRONG>27832378499<BR></STRONG></DIV></DIV></DIV><p>\t\t\t<hr size=1>Do you Yahoo!?<br> Check out the new Yahoo! Front Page. <a href=\"http://www.yahoo.com\">www.yahoo.com</a>--0-930567302-1099896484=:25288--",
         "1",
         "hon mr hope sithole one personal assistants young president joseph kabila democratic republic congo drc since assumed power sincerely speaking agitation real word bond proposal money question part budget made president mr joseph kabila fear members united nations un could perhaps mandated offer respective supports forcing iraq disarm eventually dreams match realities result president started using money personal ground nobody could question probe actions believed closest personal assistant help two officials one deputy director safety security department able escape two boxes containing aforementioned sum present boxes deposited reputable security firm south africa registered family belongings agreed need foreign assistance legitimate bank account abroad stand beneficiary partner well order avoid suspicion since existing refugees copies certificate deposit well necessary documents security cc available hitch free transaction addition also required come send representative far trust person representing republic south africa purpose transfer one reason cannot embark five working days trip according expert within bank things really agreed actual amount remuneration kind assistance us big deal crux subject particular declaration interest enter negotiations percentage issue details may want know shall discussed due course please kind enough acknowledge proposal responding mail address high level confidentiality business deal best regards hon mr hope sithole tel yahoo check new yahoo front page www yahoo com"
        ],
        [
         "20",
         "Dear,I am Dr. M. Z. Erick, a native of Cape Town in South Africa and I am anExecutive Accountant with the South Africa Department of Mining & NaturalResources. First and foremost, I apologized using this medium to reach youfor a transaction/business of this magnitude, but this is due toConfidentiality and prompt access reposed on this medium. Be informed thata member of the South Africa Export Promotion Council (SEPC) who was atthe Government delegation to your country during a trade exhibition gaveyour enviable credentials/particulars to me. I have decided to seek aconfidential co-operation with you in the execution of the deal describedhereunder for the benefit of all parties and hope you will keep it as atop secret because of the nature of this transaction.Within the Department of Mining & Natural Resources where I work as anExecutive Accountant and with the cooperation of four other top officials,we have in our possession as overdue payment bills totaling Twenty - SixMillion, Five Hundred Thousand U. S. Dollars which we want to transferabroad with the assistance and cooperation of a foreign company/individualto receive the said fund on our behalf or a reliable foreign non-companyaccount to receive such funds. More so, we are handicapped in thecircumstances, as the South Africa Civil Service Code of Conduct does notallow us to operate offshore account hence your importance in the wholetransaction.This amount (Twenty - Six Million, Five Hundred Thousand) represents thebalance of the total contract value executed on behalf of my Department bya foreign contracting firm, which we the officials over-invoiceddeliberately. Though the actual contract cost have been paid to theoriginal contractor, leaving the balance in the tune of the said amountwhich we have in principles gotten approval to remit by TelegraphicTransfer (T.T) to any foreign bank account you will provide by filing inan application through the Justice Ministry here in South Africa for thetransfer of rights and privileges of the former contractor to you, henceprovide me with your private/direct fax number for the form to be sendacross to you.I have the authority of my partners involved to propose that should you bewilling to assist us in the transaction, your share of the sum will be 25%of the Twenty-Six Million, Five Hundred Thousand U. S. Dollars, 70% for usand 5% for taxation and miscellaneous expenses. The business itself is100% safe, on your part provided you treat it with utmost secrecy andconfidentiality. Also your area of specialization is not a hindrance tothe successful execution of this transaction. I have reposed my confidencein you and hope that you will not disappoint me. Endeavor to contact meimmediately through my above Tel/Fax number or my e-mail address, whetheror not you are interested in this deal. If you are not, it will enable mescout for another foreign partner to carry out this deal I want to assureyou that my partners and myself are in a position to make the payment ofthis claim possible provided you can give us a very strong Assurance andguarantee that our share will be secured and please remember to treat thismatter as very confidential matter, because we will not comprehend withany form of exposure as we are still in active Government Service andremember once again that time is of the essence in this business.I wait in anticipation of your fullest co-operation.Yours faithfully,",
         "1",
         "dear dr z erick native cape town south africa anexecutive accountant south africa department mining naturalresources first foremost apologized using medium reach youfor transaction business magnitude due toconfidentiality prompt access reposed medium informed thata member south africa export promotion council sepc atthe government delegation country trade exhibition gaveyour enviable credentials particulars decided seek aconfidential co operation execution deal describedhereunder benefit parties hope keep atop secret nature transaction within department mining natural resources work anexecutive accountant cooperation four top officials possession overdue payment bills totaling twenty sixmillion five hundred thousand dollars want transferabroad assistance cooperation foreign company individualto receive said fund behalf reliable foreign non companyaccount receive funds handicapped thecircumstances south africa civil service code conduct notallow us operate offshore account hence importance wholetransaction amount twenty six million five hundred thousand represents thebalance total contract value executed behalf department bya foreign contracting firm officials invoiceddeliberately though actual contract cost paid theoriginal contractor leaving balance tune said amountwhich principles gotten approval remit telegraphictransfer foreign bank account provide filing inan application justice ministry south africa thetransfer rights privileges former contractor henceprovide private direct fax number form sendacross authority partners involved propose bewilling assist us transaction share sum twenty six million five hundred thousand dollars usand taxation miscellaneous expenses business safe part provided treat utmost secrecy andconfidentiality also area specialization hindrance tothe successful execution transaction reposed confidencein hope disappoint endeavor contact meimmediately tel fax number mail address whetheror interested deal enable mescout another foreign partner carry deal want assureyou partners position make payment ofthis claim possible provided give us strong assurance andguarantee share secured please remember treat thismatter confidential matter comprehend withany form exposure still active government service andremember time essence business wait anticipation fullest co operation faithfully"
        ],
        [
         "21",
         "May 7 2010For: Hillary",
         "0",
         "may hillary"
        ],
        [
         "22",
         "GOODDAY=2CWE ARE VERY SORRY IF THIS MIGHT OFFEND YOU=2C THOUGH WE DONT KNOW YOU BUT I AND MY YOUNG BROTHER BELIEVE THAT THE SPIRIT OF OUR FATHER STILL LEAVES WITH US=2C ALSO=2C WE KNOW HE IS AWARE THAT I AND MY YOUNG BROTHER ARE CONTACTING YOU FOR AN ASSISTANCE BASED ON TRUST=2EPERMIT ME TO USE THIS MEDIUM TO EXPLAIN OUR PROBLEM TO YOU IN THE NAME OF THE ALMIGHTY GOD WHOM WE SERVE=2E FIRSTLY=2CWE WANT TO EXPLAIN OUR SEIF TO YOU=2CSO THAT YOU WILL UNDERSTAND AND COMPREHEND OUR POINT CLEARLY=2EI AM Ms=2ESILVIA MAVASA 24YRS OLD=2CWITH MY YOUNG BROTHER DAVID MAVASA 22YERS OLD WE FROM BENIN REPUBLIC=2C THE ONLY DAURTHER AND SON  OF LATE MR AND MRS WILLIAM MAVASA=2E MY FATHER WAS A VERY WEALTHY COCOA MERCHANT BASED IN DAKAR-SENEGAL=2C THE ECONOMIC CAPITAL OF SENEGAL=2C BEFORE HE WAS POISONED TO DEATH BY HIS BUSINESS ASSOCIATES ON ONE OF HIS BUSINESS OUTING=2E WHEN OUR MOTHER DIED ON THE 21ST OCTOBER 1996=2C OUR FATHER TOOK US SO SPECIAL BECAUSE I AND MY YOUNG BROTHER WAS THE ONLY DAURTHER  AND SON HE HAD BEFORE HIS DEATH ON THE 24TH OF AUGUST 2006 IN A PRIVATE HOSPITAL HERE IN PORTO-NOVO=2CBENIN REPUBLIC=2E HE SECRETLY CALLED ME ON HIS BEDSIDE AND TOLD ME THAT HE HAS SUM OF US $22million DEPOSITED IN A BANK  =28IN DAKAR-SENEGAL=29=2CWHICH MY NAME WAS USED AS HIS NEXT OF KIN IN DEPOSIT OF THE FUND=2E DUE TO HIS ENCOUNTER WITH HIS ASSOCIATES AND RELATIVES=2C WHICH LEAD TO HIS DEATH=2C HE INSTRUCTED US TO SEEK FOR A FOREIGN FRIEND WHO WILL AID US IN THE TRANSFER OF THE MONEY FOR OUR EDUCATION=2C INVESTMENT AND LIVE A GOOD LIFE=2E WE ARE HONOURABLY SEEKING YOUR ASSISTANCE IN THE FOLLOWING WAYS=3B-TO ASSIST US IN COMING OVER TO YOUR COUNTRY-TO FURTHER OUR EDUCATION AND TO SECURE A RESIDENTIAL PERMIT IN YOUR COUNTRY=2E MOREOVER=2C WE ARE  WILLING TO OFFER YOU 20% WITH 5% IN ADDITION FOR ALL YOUR EXPENSES AS COMPENSATION FOR YOUR EFFORT=2E PLEASE INDICATE YOUR WILLINGLESS TO HELP US BY FORWARDING YOUR FULL NAME AND ADDRESS=2E   1=2E Your Full Name=2E=2E=2E=2E=2E=2E=2E=2E=2E=2E=2E=2E=2E=2E=2E=2E=2E=2E=2E=2E=2E=2E=2E=2E=2E=2E=2E=2E=2E=2E=2E=2E=2E=2E=2E=2E=2E=2E=2E 2=2ENationality=2E=2E=2E=2E=2E=2E=2E=2E=2E=2E=2E=2E=2E=2E=2E=2E=2E=2E=2E=2E=2E=2E=2E=2E=2E=2E=2E=2E=2E=2E=2E=2E=2E=2E=2E=2E=2E=2E=2E=2E=2E=2E=2E=2E=2E=2E3=2E Your Age =2E=2E=2E=2E=2E=2E=2E=2E=2E=2E=2E=2E=2E=2E=2E=2E=2E=2E=2E=2E=2E=2E=2E=2E=2E=2E=2E=2E=2E=2E=2E=2E=2E=2E=2E=2E=2E=2E=2E=2E 4=2E Your Sex=2E=2E=2E=2E=2E=2E=2E=2E=2E=2E=2E=2E=2E=2E=2E=2E=2E=2E=2E=2E=2E=2E=2E=2E=2E=2E=2E=2E=2E=2E=2E=2E=2E=2E=2E=2E=2E=2E5=2E Marital Status=2E=2E=2E=2E=2E=2E=2E=2E=2E=2E=2E=2E=2E=2E=2E=2E=2E=2E=2E=2E=2E=2E=2E=2E=2E=2E=2E=2E=2E=2E=2E=2E=2E=2E6=2EYour Occupation=2E=2E=2E=2E=2E=2E=2E=2E=2E=2E=2E=2E=2E=2E=2E=2E=2E=2E=2E=2E=2E=2E=2E=2E=2E=2E=2E=2E=2E=2E7=2EYour Home And Office Address=2E=2E=2E=2E=2E=2E=2E=2E=2E=2E=2E=2E=2E=2E=2E=2E8=2EYour Telephone And Fax Number=2E=2E=2E=2E=2E=2E=2E=2E=2E=2E=2E=2E=2E=2E=2E=2E=2E=2E=2E=2E=2E=2E=2E 9=2EA Scan Copy Of Your International Passport Or Driving Licence=2E=2E=2E=2E=2E=2E=2E=2E=2E=2E10=2E Bank Account Details=2E=2E=2E=2E=2E=2E=2E=2E=2E=2E=2E=2E=2E=2E=2E=2E=2E=2E=2E=2E=2E=2E=2E=2E=2E=2E=2E=2E=2E=2E=2E=2E=2E=2E=2E=2E=2E=2E=2E=2E=2E=2E=2E=2E=2E=2E=2E PLEASE REPLY PROMPTLY=2EMAY THE LORD BE WITH YOU AS WE AWAIT YOUR POSITIVE DECISION TO HELP=2ETHANKS AND GOD BLESS=2EBEST REGARDS=2EReply Us With This Email Address=3A   silvia=5Fdavid11=40yahoo=2Ecom Ms Silvia Mavasa & Brother David Mavasa=2E",
         "1",
         "goodday cwe sorry might offend though dont know young brother believe spirit father still leaves us also know aware young brother contacting assistance based trust epermit use medium explain problem name almighty god serve firstly cwe want explain seif cso understand comprehend point clearly ei ms esilvia mavasa yrs old cwith young brother david mavasa yers old benin republic daurther son late mr mrs william mavasa father wealthy cocoa merchant based dakar senegal economic capital senegal poisoned death business associates one business outing mother died st october father took us special young brother daurther son death th august private hospital porto novo cbenin republic secretly called bedside told sum us million deposited bank dakar senegal cwhich name used next kin deposit fund due encounter associates relatives lead death instructed us seek foreign friend aid us transfer money education investment live good life honourably seeking assistance following ways assist us coming country education secure residential permit country moreover willing offer addition expenses compensation effort please indicate willingless help us forwarding full name address e full name e e e e e e e e e e e e e e e e e e e enationality e e e e e e e e e e e e e e e e e e e e e e e age e e e e e e e e e e e e e e e e e e e e sex e e e e e e e e e e e e e e e e e e e marital status e e e e e e e e e e e e e e e e e eyour occupation e e e e e e e e e e e e e e e eyour home office address e e e e e e e e eyour telephone fax number e e e e e e e e e e e ea scan copy international passport driving licence e e e e e bank account details e e e e e e e e e e e e e e e e e e e e e e e please reply promptly emay lord await positive decision help ethanks god bless ebest regards ereply us email address silvia fdavid yahoo ecom ms silvia mavasa brother david mavasa e"
        ],
        [
         "23",
         "Ok.",
         "0",
         "ok"
        ],
        [
         "24",
         ">From Monica YanganiEmail monicayangani250@netscape.netTel 27 8046828612ATTN:Sir/Madam ÃÂ  I know you will be surprised to hear from me, but please consider this as a request from family in dire need of assistance.I am Mrs.Monica Yangani, writing to you from Government Reserved Area (GRA).I got your contact information from the Republic of Congo Chamber of Commerce and Industry. When I was searching for a reliable individual or private company that can assist me to transfer a reasonable amount in a safe account abroad on behalf of my late husband, two sons and two daughters. I decided to solicit your assistance to transfer this sum of US $20 Million (Twenty Million, United States Dollars)inherited from my late husband in to your personal companyÃ¢ÂÂs account or private account.Before his death, he was a Brigadier in charge of arms and ammunition procurement for the (DRC) army. In his WILL?he specifically draws my attention to this US$ 20 Million which he deposited in a safe box in Private Security Company in South Africa. ÃÂ During the war, he was very dedicated and committed to winning the war against the rebels until when he found out that some Senior Army Officers and Government Functionaries were busy helping themselves with government funds and properties and sending them toforeign countries. Due to this, he and his former special advisers to the president were assigned by the President (Laurent Kabila) to purchase arms in South Africa, they saw this as a golden opportunity and diverted the money and divided it and he got a total sum of US $20 Million. He deposited the box in my sonÃ¢ÂÂs name and him alone with the deposit code canclaim it.I will be grateful if you can assist us now. I want you to do for us as an international partner to help us transfer this money which is in a safety box in the Security Company using your name as the beneficiary ofthis sum. You can contact ÃÂ me or my son (George Yangani) ÃÂ inSouth Africa on ÃÂ this number+27 8046828612. Then, we will tell you more details about it. We are in position to inform you of the whole procedures mapped out of the transfer of this money.We have agreed to give you 25% of the total sum for your assistance, 5% for any expenses that might occur from both sides in the course of this transaction,while the remaining 70% will be for my son's investment, which you will assist him to do abroad.Further information and arrangement will commence as soon as trust, confidence and good relationship will be established and safety of this fund assured when transferred to your account.Please treat this matter with utmost urgency.May Allah (God) bless you as I earnestly hope for yourassistance. Best Regards Monica Yangani (for the family)__________________________________________________________________Introducing the New Netscape Internet Service. Only $9.95 a month -- Sign up today at http://isp.netscape.com/registerNetscape. Just the Net You Need. New! Netscape Toolbar for Internet ExplorerSearch from anywhere on the Web and block those annoying pop-ups.Download now at http://channels.netscape.coms/search/install.jsp",
         "1",
         "monica yanganiemail monicayangani netscape nettel attn sir madam know surprised hear please consider request family dire need assistance mrs monica yangani writing government reserved area gra got contact information republic congo chamber commerce industry searching reliable individual private company assist transfer reasonable amount safe account abroad behalf late husband two sons two daughters decided solicit assistance transfer sum us million twenty million united states dollars inherited late husband personal company account private account death brigadier charge arms ammunition procurement drc army specifically draws attention us million deposited safe box private security company south africa war dedicated committed winning war rebels found senior army officers government functionaries busy helping government funds properties sending toforeign countries due former special advisers president assigned president laurent kabila purchase arms south africa saw golden opportunity diverted money divided got total sum us million deposited box son name alone deposit code canclaim grateful assist us want us international partner help us transfer money safety box security company using name beneficiary ofthis sum contact son george yangani insouth africa number tell details position inform whole procedures mapped transfer money agreed give total sum assistance expenses might occur sides course transaction remaining son investment assist abroad information arrangement commence soon trust confidence good relationship established safety fund assured transferred account please treat matter utmost urgency may allah god bless earnestly hope yourassistance best regards monica yangani family introducing new netscape internet service month sign today http isp netscape com registernetscape net need new netscape toolbar internet explorersearch anywhere web block annoying pop ups download http channels netscape coms search install jsp"
        ],
        [
         "25",
         "<DIV><STRONG>Dearest One, <BR>&nbsp;&nbsp;&nbsp;&nbsp;&nbsp;&nbsp;&nbsp;&nbsp; I am writting this letter with due respect and heartful of tears since we have not known or met ourselves previously I am asking for your assistance after I have gone through a profile that speaks good of you. I want to find out if it's possible for you to deal with individual as to investment.I came across your profile and I feel it's highly reputable that is why I pick an interest getting across to you in respect of investment at my disposal. I will be so glad if you can allow me and lead me to the right channel towards your assistance to my situation now.I will make my proposal well known if I am given the opportunity. I would like to use this opportunity to introduce myself to you. Well </STRONG></DIV>  <DIV><STRONG>&nbsp; I am&nbsp;Ruth Williams from Liberia,the only daughter of COL Gabriel Williams My father is now late,he died during the last crisis in my country(Liberia). He was one of the!  high officers in the leadership of former president Charles Taylor who is now in exile after many innocent soul were killed,My father was unlucky to be among those that was killed by the rebel.Since after the death of my father my step mother and my uncles are after my life because they want to have the m,just because am&nbsp;too young.</STRONG></DIV>  <DIV><STRONG>My mother Died 2weeks,after&nbsp;the death of my father,&nbsp;before the death of my father ,&nbsp; he told me that he has the sum of Ten million,&nbsp; five Hundred thousand United State Dollars. USD ($10.500,000) fix desposited account,&nbsp; which is the cause of hatred of&nbsp; friends, and&nbsp; relatives, and even brothers,&nbsp;&nbsp;</STRONG></DIV>  <DIV><STRONG>&nbsp;&nbsp;&nbsp; &nbsp;That I should seek for a foreign partner or one capable and reliable that i can trust and love that will help me so that i can leave this country and invest in other business of my choice where I will transfer this money and us! e it for investment purposes and to further my education.&nbsp;</STRONG></DIV>  <DIV>&nbsp;</DIV>  <DIV><STRONG>so i am seeking for your asistance in making this purposes.</STRONG></DIV>  <DIV><STRONG>Furthermore,&nbsp;<A href=\"mailto:ruth_williamsy2k61@yahoo.com\">ruth_williamsy2k61@yahoo.com</A></STRONG><STRONG> you indicate your options towards assisting me as I believe that this transaction would be concluded successfully.</STRONG></DIV>  <DIV>&nbsp;</DIV>  <DIV><STRONG>Anticipating to hear from you soon.&nbsp; </STRONG></DIV>  <DIV>&nbsp;</DIV>  <DIV><STRONG>yours faithfully</STRONG></DIV>  <DIV>&nbsp;</DIV>  <DIV><STRONG>Ruth. W .</STRONG></DIV><p>\t\t<hr size=1>New Yahoo! Messenger with Voice. <a href=\"http://us.rd.yahoo.com/mail_us/taglines/postman6/*http://us.rd.yahoo.com/evt=39663/*http://voice.yahoo.com\">Call regular phones from your PC</a> and save big.--0-637752865-1143740567=:58337--",
         "1",
         "dearest one writting letter due respect heartful tears since known met previously asking assistance gone profile speaks good want find possible deal individual investment came across profile feel highly reputable pick interest getting across respect investment disposal glad allow lead right channel towards assistance situation make proposal well known given opportunity would like use opportunity introduce well ruth williams liberia daughter col gabriel williams father late died last crisis country liberia one high officers leadership former president charles taylor exile many innocent soul killed father unlucky among killed rebel since death father step mother uncles life want young mother died weeks death father death father told sum ten million five hundred thousand united state dollars usd fix desposited account cause hatred friends relatives even brothers seek foreign partner one capable reliable trust love help leave country invest business choice transfer money us investment purposes education seeking asistance making purposes furthermore ruth williamsyk yahoo com indicate options towards assisting believe transaction would concluded successfully anticipating hear soon faithfully ruth new yahoo messenger voice call regular phones pc save big"
        ],
        [
         "26",
         "I know you will be surprised to read from me, but  please consider this as arequest from a family in dire need of assistance.First, I must introducemyself I am MR. TSEPO VUSI from Angola. I am the first and only son of BRIGADIER VUSI  JONES. I  am presently resident in South Africa.I got your contact address from a business directory  in JohannesburgChamber of commerce and Industry. On  behalf of my widowed mother MRS. ELIZABETHVUSI I  desided to solicit for your assistance to transfer  the sum of US$21.5MILLION( TWENTY ONE MILLION FIVE  HUNDRED THOUSAND UNITED STATES DOLLARS)inheritedfrom my late father, into your personal company's account.Before my fathers' death, he was a Brigadier in  charge of Arms andAmmunation procurement for the Angola  Army. In his WILL, he specificallydrew my attention  to the said sum of money which he deposited in a  safe box ofa private Security Company in Johannesburg-  South Africa in a treasure box,fully documented in  my name.IN FACT MY FATHER SAID AND I QUOTE  MY BELOVED SON, I WISH TO DRAW YOURATTENTION TO US$21.5 MILLION . I DEPOSITED THE BOX CONTAINING THIS MONEY IN A SECURITYCOMPANY IN JOHANNESBURG, SOUTH  AFRICA. DURING THE WAR, I WAS VERY DEDICATEDAND OFFICERS AND GOVERNMENT FUNCTIONARIES WERE BUSSY  HELPING THEMSELVES WITHGOVERNMENT FUNDS AND  PROPERTIES AND SENDING THEM TO FOREIGN COUNTRIES.  DUETO THIS, WHEN I AND MY FORMER SPECIAL ADVISOR TO THE  PRESIDENT WERE ASSIGNEDBY THE PRESIDENT (EDUARDO  SANTOS) TO PURCHASE ARMS IN SOUTH AFRICA, WE SAW  THISAS A GOLDEN OPPORTUNITY AND DIVERTED THE MONEY AND  DIVIDED IT. i GOT A TOTAL SUMOF US$21.5 MILLION. IN  CASE OF MY ABSENCE ON EARTH, AS A RESULT OF DEATHONLY, YOU SHOULD SOLICIT FOR THE FUND FOR INVESTMENT  PURPOSES.>From the above, you will understand that the lives  and future of my familydepens on this money, as such I  will be grateful if you can assist us. We are nowliving in South Africa as political Asylum seekers and financial laws andregulation of the Republic of  South Africa do not permit us financial rights to suchhuge sum of money. In view of this, I cannot invest this  fund in South africa, hencei am prepared to offer  you 20% of the total fund, while 10% will be set asidefor local and international expenses and 70% will be for  my family and me.Finally, modalities on howthe transfer will be bone  will be conveyed to you once wehave established  trust and confidence between ourselves. Please treat thismatter as very urgent.Best regards,TSEPO VUSI",
         "1",
         "know surprised read please consider arequest family dire need assistance first must introducemyself mr tsepo vusi angola first son brigadier vusi jones presently resident south africa got contact address business directory johannesburgchamber commerce industry behalf widowed mother mrs elizabethvusi desided solicit assistance transfer sum us million twenty one million five hundred thousand united states dollars inheritedfrom late father personal company account fathers death brigadier charge arms andammunation procurement angola army specificallydrew attention said sum money deposited safe box ofa private security company johannesburg south africa treasure box fully documented name fact father said quote beloved son wish draw yourattention us million deposited box containing money securitycompany johannesburg south africa war dedicatedand officers government functionaries bussy helping withgovernment funds properties sending foreign countries dueto former special advisor president assignedby president eduardo santos purchase arms south africa saw thisas golden opportunity diverted money divided got total sumof us million case absence earth result deathonly solicit fund investment purposes understand lives future familydepens money grateful assist us nowliving south africa political asylum seekers financial laws andregulation republic south africa permit us financial rights suchhuge sum money view cannot invest fund south africa hencei prepared offer total fund set asidefor local international expenses family finally modalities howthe transfer bone conveyed wehave established trust confidence please treat thismatter urgent best regards tsepo vusi"
        ],
        [
         "27",
         "will move saebBibi confirmed 12:30. Does that give u enough time?",
         "0",
         "move saebbibi confirmed give enough time"
        ],
        [
         "28",
         "<DIV><DIV>Hello my dear</DIV><DIV>&nbsp;</DIV><DIV>I wish to solicit your kind and urgent assistance.My name is Mr.PATRICK AGOLO, a lawyer based in Lagos State of Nigeria.As a lawyer, I was a private legal adviser (for almost two decades) to a white couple who unfortunately lost their lives 3-months ago in a ghastly motor accident here in Nigeria. Prior to their death, this white couple had lived in this country since the 1960?s as missionaries and educationists. Unfortunately, they died childless, with no knownrelatives or next of kin.</DIV><DIV>&nbsp;</DIV><DIV>The issue at stake, for which I am writing you now, is that the deceased left behind the sum of US$7.8million in their joint account with ECO INTERNATIONAL BANK Nigeria Incorporated.<BR>Soon after the burial of the deceased, I had promptly notified the bank,which is awaiting me to present to them the person that is to inherit the account of the deceased.</DIV><DIV>&nbsp;</DIV><DIV>Incidentally, as I said before, the late couple had no known next of kin or relatives. No one else knows about this.However, it will amount to abuse of privilege for me to lay claim to the wealth and estate of the deceased, since as a black man i couldn't have been their relative. But then funds can't be left to the bank permanently/forever. So I have decided to contact you, to seek your consent to present your name to the bank as the next of kin and the appointed administrator/inheritor of the estates of the deceased.</DIV><DIV>&nbsp;</DIV><DIV>&nbsp;As a whiteman, you'll fit into the picture.As the lawyer to the deceased, no body can disbelieve me if i present you as the next of kin to the deceased. Moreover, I know the exact legal requirements and documents to secure in your favour to show proof that you are actually the next of kin/inheritor of everything left behind by the deceased. All these will be my responsibility to obtain from the court here in Nigeria. You won?t be needed here in person.</DIV><DIV>I can assure you that this is my specialty and there is nothing for you to be afraid of. I will handle and provide for all that it will take legally.Once everything needful is done, the bank will be satisfied to transfer the monies from the account of the deceased to yours.</DIV><DIV>&nbsp;</DIV><DIV>My interest is to take 60% of the funds while you take 30%, while the remaining 10% will be disbursed to any Orphanage-Home of our common choice.Please communicate your decision to me urgently, indicating your Telephone number in your reply so that I can call you and talk this thing over with you.</DIV><DIV>Pls. keep these disclosures confidential.<BR>Thank you.<BR></DIV><DIV>Sincerely yours,<BR>Barrister PATRICK AGOLO(ESQ)</DIV><DIV>&nbsp;</DIV></DIV><p>\t\t<hr size=1>Do you Yahoo!?<br> Read only the mail you want - <a href=\"http://us.rd.yahoo.com/mail_us/taglines/spamguard/*http://promotions.yahoo.comew_mail/static/protection.html\">Yahoo! Mail SpamGuard</a>.--0-1365810461-1111499824=:99763--",
         "1",
         "hello dear wish solicit kind urgent assistance name mr patrick agolo lawyer based lagos state nigeria lawyer private legal adviser almost two decades white couple unfortunately lost lives months ago ghastly motor accident nigeria prior death white couple lived country since missionaries educationists unfortunately died childless knownrelatives next kin issue stake writing deceased left behind sum us million joint account eco international bank nigeria incorporated soon burial deceased promptly notified bank awaiting present person inherit account deceased incidentally said late couple known next kin relatives one else knows however amount abuse privilege lay claim wealth estate deceased since black man relative funds left bank permanently forever decided contact seek consent present name bank next kin appointed administrator inheritor estates deceased whiteman fit picture lawyer deceased body disbelieve present next kin deceased moreover know exact legal requirements documents secure favour show proof actually next kin inheritor everything left behind deceased responsibility obtain court nigeria needed person assure specialty nothing afraid handle provide take legally everything needful done bank satisfied transfer monies account deceased interest take funds take remaining disbursed orphanage home common choice please communicate decision urgently indicating telephone number reply call talk thing pls keep disclosures confidential thank sincerely barrister patrick agolo esq yahoo read mail want yahoo mail spamguard"
        ],
        [
         "29",
         "----------- REGARDS, MR NELSON SMITH.KINDLY REPLY ME ON MY PRIVATE EMAIL ADDRESS;nelsonsmith2000@yahoo.com",
         "1",
         "regards mr nelson smith kindly reply private email address nelsonsmith yahoo com"
        ],
        [
         "30",
         "Attn=2FPls Dear Partner=2C I would like to apply through this medium for your co-operation and to secure an opportunity to invest and do joint business with you in your country=2E I have a substantial capital i honourably intend to invest in your country into a very lucrative business venture of which you are to advise and execute the said venture over there for the mutual benefits of both of us=2E Your able co-operation is to become my business partner in your country and create ideas on how money will be invested=2Cproperly managed and the type ofinvestment after the money is transferred to your custody with your help and assistance=2E Meanwhile=2Con indication of your willingness to handle this transaction sincerely by protecting our interests and upon your acceptance of this proposal=2CI would furnish you with the full detailed information=2C procedure=2Camount involve and mutually agree on your percentage interest or share holding for helping me to secure the release of the deposit and investing the money in your country under your proper management and care=2E I shall be glad to reserve this respect and opportunity for you=2Cif you so desire=2Cbut do urge you to give the matter your immediate attention itdeserves=2E If this proposal is acceptable by you=2Cplease do not make undue advantage of the trust i bestow on you=2Cand your urgent reply is highly needed=2Cfor more detailes information=2E Looking forward to your candid and urgent call and positive reply today and a mutual healthy business relationship with you=2E Best regards=2Cand have a great day=2E Yours Faithfully=2C Mr=2EMalick Camara=2E In Dakar=2FSenegal=2E",
         "1",
         "attn fpls dear partner would like apply medium co operation secure opportunity invest joint business country substantial capital honourably intend invest country lucrative business venture advise execute said venture mutual benefits us able co operation become business partner country create ideas money invested cproperly managed type ofinvestment money transferred custody help assistance meanwhile con indication willingness handle transaction sincerely protecting interests upon acceptance proposal ci would furnish full detailed information procedure camount involve mutually agree percentage interest share holding helping secure release deposit investing money country proper management care shall glad reserve respect opportunity cif desire cbut urge give matter immediate attention itdeserves proposal acceptable cplease make undue advantage trust bestow cand urgent reply highly needed cfor detailes information looking forward candid urgent call positive reply today mutual healthy business relationship best regards cand great day faithfully mr emalick camara dakar fsenegal e"
        ],
        [
         "31",
         "And your statement is out",
         "0",
         "statement"
        ],
        [
         "32",
         "Will give some thought and pass along any names I can think of.Jm",
         "0",
         "give thought pass along names think jm"
        ],
        [
         "33",
         "IRECTOR<br><br> <br><br>Dear Sir,<br><br> <br><br>Let you not be surprise=d with this my private mail to you because I got your contact through the=  www.nge.ru  web-site due to my personal search for a Russian businessma=n who can help me receive, secure or invest the sum of US$15,000,000.<br>=<br> <br><br>To introduce myself to you, I am Mr. Oliver Chulu H.,a citiz=en of Liberia-West Africa. I am the youngest brother to the wife of the e=x-president of Liberia Mrs. Jewel Howard. Presently, I am on political as=ylum in Spain.<br><br> <br><br>I have gone through your company profile a=nd think that you can be capable to help me privately to secure or invest= this private fund of mine with your company name or your personal name. =Because of my family political problems and my asylum situation here, I c=annot invest this fund in my name and this is the main reason why I conta=ct you for your assistance. Another major reason why I beg you to handle =this transaction with maximum confidentiality is because of my family cri=tical political situation.<br><br> <br><br>I deem it most necessary to co=ntact you,if you can willingly accept this offer and forward me with busi=ness opportunities in your country which will be very lucrative to both p=arties. I will most appreciate it if you can give this investment enquiry= a food for thought as I will want you to respond to this message as quic=k as possible.<br><br>Be informed that all capital investments shall be p=rovided by me while all business plans,feasibilty and ideas shall be made= available by you according to the code of investment in your country.<br=><br> <br><br>Finally, you could get back to me through this my private e=mail addresses below so that we can discuss and negotiate on our mutual u=nderstanding and all information provided to you. Kindly furnish me with =your private telephone number too for direct communication.<br><br> <br><=br>I look forward to hearing from you.<br><br>E mail.......... oliver_chu=lu@yahoo.com<br><br>Best regards,<br><br> <br><br>Mr. Oliver C.H.<br><br>=</span><br><br>- <span style=3D\"color:green;\">OLIVER CHULU</span></div></=div>--0-1237626344-1148665305=:93785--",
         "1",
         "irector dear sir let surprise private mail got contact www nge ru web site due personal search russian businessma help receive secure invest sum us introduce mr oliver chulu citiz en liberia west africa youngest brother wife x president liberia mrs jewel howard presently political ylum spain gone company profile nd think capable help privately secure invest private fund mine company name personal name family political problems asylum situation c annot invest fund name main reason conta ct assistance another major reason beg handle transaction maximum confidentiality family cri tical political situation deem necessary co ntact willingly accept offer forward busi ness opportunities country lucrative arties appreciate give investment enquiry food thought want respond message quic possible informed capital investments shall rovided business plans feasibilty ideas shall made available according code investment country finally could get back private mail addresses discuss negotiate mutual nderstanding information provided kindly furnish private telephone number direct communication look forward hearing mail oliver chu lu yahoo com best regards mr oliver h oliver chulu"
        ],
        [
         "34",
         "PIs keep me updated on this project. Thx.",
         "0",
         "pis keep updated project thx"
        ],
        [
         "35",
         "NUMBER, BANK DETAILS AND YOUR STATUS THE ABOVE INFORMATIONS WILL ENABLE ME WRITE LETTERS OF CLAIM AND NEXT OF KIN DESCRIPTION RESPECTIVELY. THIS WAY WE WILL USE YOUR NAME TO APPLY FOR PAYMENT AND RE-AWARD THE BENEFICARY IN YOUR NAME AS THE NEXT OF KIN TO THE LATE BENEFICIARY.IAM LOOKING FORWARD TO DOING THIS BUSINESS WITH YOU AND SOLICIT YOUR CONFIDENTIALITY IN THIS TRANSATION.PLEASE ACKNOWLEDGE THE RECEIPT OF THIS LETTER USING THE ABOVE EMAIL ADDRESS . I WILL SEND YOU DETAILED INFORMATION OF THIS PENDING PROJECT WHEN I HAVE HEARD FROM YOU.YOURS FAITHFULLY,MR ROBIN HANS CLARK",
         "1",
         "number bank details status informations enable write letters claim next kin description respectively way use name apply payment award beneficary name next kin late beneficiary iam looking forward business solicit confidentiality transation please acknowledge receipt letter using email address send detailed information pending project heard faithfully mr robin hans clark"
        ],
        [
         "36",
         "Dear Sir or Madam:We are keenly interested in setting up a new factory to produce 120,000 ERW oil casings per year to meet the big market of Shengli Oilfied. Since we lack some starting-up capital, we are seeking for investments. I will give you a brief introduction to the project as follow:I. Background:Shengli Oilfield, the second largest oilfield in China and the leading company of Sinopec Corp. (http://www.sinopec.com), as well as neighboring oilfields as Dagang Oilfield, Central Plain Oilfield and Jiangsu Oilfield are potential market of ERW oil casing. It is expected that the total oil casing needed in the above area is about 400,000 tons, including 260,000 tons in Sinopec and 150,000 tons in Shengli Oilfield. To meet the great need, we plan to set up a joint venture to produce 120,000 tons of ERW casings per year in Shengli Oilfield.  With good management and market outlets, we believe that this JV also has the potential to expand beyond China to other nations. II. About usShengli Oilfield Engineering Machinery Factory is one of sub-companies of Shengli Oilfield Co., Ltd, with total assets of 267 million yuan, net assets of 170 million yuan and 2462 staff. The factory mainly produces oilfield special equipment such as beam unit, Spiral-seam submerged-arc weldedsteel pipe, sucker rod, line pipe, casing, tubing, plastic compound pipe etc. It produces 200,000 tons of line pipes, 1 million meters of strengthened plastic compound pipes, 500 beam units, 2.5 million meters of sucker rods, 12,000 tons of PP gas pipes and 50,000 tons of oil tubings yearly, and has become important pipe base in Shandong and Shengli Oilfield. Its products have entering many areas as Shengli Oilfield, Daqing Oilfield, Liaohe Oilfield, Dagang Oilfield and so on. In 2002, the sale income amounted to over 600 million yuan.The Factory holds Quality accreditations as ISO9001, API and so on.III. Content of the projectIt is planned to introduce Japanese technology and equipment to set up one production line with range of casing diameter fromÃ¯Â¿Â½Ã¯Â¿Â½114 to Ã¯Â¿Â½Ã¯Â¿Â½339.7 and produce 120,000 tons of ERW casings and delivery pipes per year.IV. Product specificationsFor Casing: grade of steel are J55 and N80, specification ranges from Ã¯Â¿Â½Ã¯Â¿Â½114 to Ã¯Â¿Â½Ã¯Â¿Â½339.7For delivery: grade of steel are X52Ã¯Â¿Â½Ã¯Â¿Â½X60Ã¯Â¿Â½Ã¯Â¿Â½X70, specification ranges from Ã¯Â¿Â½Ã¯Â¿Â½114 to Ã¯Â¿Â½Ã¯Â¿Â½339.7.V. Economic AnalysisThe total investment in this project is 142.41 million yuan. After the completion of the project, it is estimated that the internal financial rate of return before paying tax is 24.9 percent with a payback period of 5.6 years, and the internal rate of return after paying tax is 21.8 percent with a payback period of 5.9 years.The break-even point of the project is 46.95 percent, which means the project can keep balance if the annual output amount to 42,000 tons.VI. Plans for cooperationWe have set up a joint venture with Japan's Marubeni in the early of the year, with a registered capital of 57 million yuan. The capital structure is as follow:a. Shengli Oilfield Bureau of Administration          19.95 million yuan   35Ã¯Â¿Â½Ã¯Â¿Â½b. Shengli Oilfield Engineering Machinery Facotry     17.10 million yuan   30Ã¯Â¿Â½Ã¯Â¿Â½c. Dongying District State Assets Operation & Management Co., Ltd 5.70million yuan 10Ã¯Â¿Â½Ã¯Â¿Â½d. Marubeni Engineering Technology Co., Ltd           14.25 million yuan   25Ã¯Â¿Â½Ã¯Â¿Â½To meet our capital need for this project, we are now planned to increase our registered capital to 118.88 million yuan. Taking our added investment into consideration, we need another 34.68 million yuan to get the plan executed. So we are seeking a new joint venture partner who'd like to join this project and meet our capital requirement.We would like to exchange the information with the manufacturers and suppliers who are interested in this project and have discussion on raw material supply as well as jointly investing the factory establishment. And we hope we could have good cooperation in future.For additional information regarding this project, please feel free to contact us.Looking forward to your prompt reply.Sincerely yours, Tony LeungProject officer",
         "1",
         "dear sir madam keenly interested setting new factory produce erw oil casings per year meet big market shengli oilfied since lack starting capital seeking investments give brief introduction project follow background shengli oilfield second largest oilfield china leading company sinopec corp http www sinopec com well neighboring oilfields dagang oilfield central plain oilfield jiangsu oilfield potential market erw oil casing expected total oil casing needed area tons including tons sinopec tons shengli oilfield meet great need plan set joint venture produce tons erw casings per year shengli oilfield good management market outlets believe jv also potential expand beyond china nations ii usshengli oilfield engineering machinery factory one sub companies shengli oilfield co ltd total assets million yuan net assets million yuan staff factory mainly produces oilfield special equipment beam unit spiral seam submerged arc weldedsteel pipe sucker rod line pipe casing tubing plastic compound pipe etc produces tons line pipes million meters strengthened plastic compound pipes beam units million meters sucker rods tons pp gas pipes tons oil tubings yearly become important pipe base shandong shengli oilfield products entering many areas shengli oilfield daqing oilfield liaohe oilfield dagang oilfield sale income amounted million yuan factory holds quality accreditations iso api iii content projectit planned introduce japanese technology equipment set one production line range casing diameter produce tons erw casings delivery pipes per year iv product specificationsfor casing grade steel specification ranges delivery grade steel x specification ranges economic analysisthe total investment project million yuan completion project estimated internal financial rate return paying tax percent payback period years internal rate return paying tax percent payback period years break even point project percent means project keep balance annual output amount tons vi plans cooperationwe set joint venture japan marubeni early year registered capital million yuan capital structure follow shengli oilfield bureau administration million yuan shengli oilfield engineering machinery facotry million yuan dongying district state assets operation management co ltd million yuan marubeni engineering technology co ltd million yuan meet capital need project planned increase registered capital million yuan taking added investment consideration need another million yuan get plan executed seeking new joint venture partner like join project meet capital requirement would like exchange information manufacturers suppliers interested project discussion raw material supply well jointly investing factory establishment hope could good cooperation future additional information regarding project please feel free contact us looking forward prompt reply sincerely tony leungproject officer"
        ],
        [
         "37",
         "Dear CEO,I am Mr. Joseph Abu rime, a Regional Supervisor with A SECURITYAND FINANCE CO. in Amsterdam,Holland. We had a foreign client (name withHeld) who deposited a huge sum of money (US$12million dollars) with ourSecurity Company.Eventually, this client was among the victims of EGYPT AIR BOEING 767FLIGHT NO.990 that crashed on the 31-10-1999 in U.S.A but, since thenWe have not had any body coming for the claims as the next of kin. ASituation I have monitored closely with my position in the Company. Now,Having monitored this deposit and managed it over the years before hisDeath, and hence nobody has showed up as the next of kin for the past fourYear plus, I have removed the file to my private safe.I now solicit for your assistance to present you as the next of kinas every other arrangement has being concluded by me and I am onlyWaiting for a foreigner to enable me move the fund to his account. Iwill need your private telephone and fax numbers and your full name andaddress, company or residential so that I can computerize them to tallywith the next of kin column in the certificate of deposit.This does not have any risk attached to it as all the internaldocumentations will be handled by me. I therefore request you toconfirm your interest by a return message and I will furnish you withdetails. Lastly for the immediate take off of this transaction you have toconfirm your willingness and readiness to assist me retrieves this deposit.Please for your assistance in this transaction you will be entitledto 20% percent of the total sum and 10% percent will cover all the expenses",
         "1",
         "dear ceo mr joseph abu rime regional supervisor securityand finance co amsterdam holland foreign client name withheld deposited huge sum money us million dollars oursecurity company eventually client among victims egypt air boeing flight crashed since thenwe body coming claims next kin asituation monitored closely position company monitored deposit managed years hisdeath hence nobody showed next kin past fouryear plus removed file private safe solicit assistance present next kinas every arrangement concluded onlywaiting foreigner enable move fund account iwill need private telephone fax numbers full name andaddress company residential computerize tallywith next kin column certificate deposit risk attached internaldocumentations handled therefore request toconfirm interest return message furnish withdetails lastly immediate take transaction toconfirm willingness readiness assist retrieves deposit please assistance transaction entitledto percent total sum percent cover expenses"
        ],
        [
         "38",
         "FROM:BARR.ROTIMI BELLO (ESQ)NO.5 MILVERTON STREET,   VICTORIA-ISLANDLAGOS.EMAIL:barrister_rotimibello_chamber@yahoo.co.uk Dear Sir/Madam,                                                           I am Barrister Rotimi Bello, a solicitor at law. I am the personal attorney to Mr. Douglas Raju, a national of your country, who used to work with shell development company in Nigeria and as well a one time secret agent in transferring of money overseas for the Late head of state of Nigeria {Late Gen.SANI ABACHA}.Before his death On the 21st of April 2002 [my client,his wife and their only daugther were involved in a car accident along sagamu express way in which all occupants of the motor died}. My client {RAJU}deposited  the sum of $15.5m in a commercial bank(CENTRAL BANK OF NIGERIA) here in Nigeria for himself, with the hope of transferring it to his country as soon as he is on leave. Since his death I have made several enquiries to your embassy to locate any of my clients extended relatives this has also proved unsuccessful. After these several unsuccessful attempts, I decided to trace his last name over the Internet, to locate any member of his family hence I contacted you. I have contacted you to assist in repatriating the money and property left behind by my client before they get confiscated or declared unserviceable by the bank where these Money were Deposited. Particularly, the (CENTRAL BANK OF NIGERIA) where the deceased Deposited (US$15,500,000)fiftheen million five hundred thounsand dollars has issued me a notice to provide the next of kin with in the next ten official working days. Since I have been unsuccessful in locating the relatives for over 3years now I seek your consent to present you as the next of kin of the deceased since you have the same last name so that the proceeds of this deposit (Money) valued at (US$15,500,000)fiftheen million five hundred thounsand dollars can be claim by you and then you and me can share the money. 40% to me and 60% to you I have all necessary legal documents that can be used to back up any claim we may make. All I require is your honest cooperation to enable us see this deal through. I guarantee that this will be executed under a legitimate arrangement that will protect you and me from any breach of the law. Please get in touch with me by my private email address:(barrister_rotimibello_chamber@yahoo.co.uk) for more information to enable us discuss further or you can call my private line;# 234 8033791090Best regards, Barrister Rotimi bello (Esq)EMAIL:barrister_rotimibello_chamber@yahoo.co.uk",
         "1",
         "barr rotimi bello esq milverton street victoria islandlagos email barrister rotimibello chamber yahoo co uk dear sir madam barrister rotimi bello solicitor law personal attorney mr douglas raju national country used work shell development company nigeria well one time secret agent transferring money overseas late head state nigeria late gen sani abacha death st april client wife daugther involved car accident along sagamu express way occupants motor died client raju deposited sum commercial bank central bank nigeria nigeria hope transferring country soon leave since death made several enquiries embassy locate clients extended relatives also proved unsuccessful several unsuccessful attempts decided trace last name internet locate member family hence contacted contacted assist repatriating money property left behind client get confiscated declared unserviceable bank money deposited particularly central bank nigeria deceased deposited us fiftheen million five hundred thounsand dollars issued notice provide next kin next ten official working days since unsuccessful locating relatives years seek consent present next kin deceased since last name proceeds deposit money valued us fiftheen million five hundred thounsand dollars claim share money necessary legal documents used back claim may make require honest cooperation enable us see deal guarantee executed legitimate arrangement protect breach law please get touch private email address barrister rotimibello chamber yahoo co uk information enable us discuss call private line best regards barrister rotimi bello esq email barrister rotimibello chamber yahoo co uk"
        ],
        [
         "39",
         "Yes we can do that this afternoon.",
         "0",
         "yes afternoon"
        ],
        [
         "40",
         "Jm",
         "0",
         "jm"
        ],
        [
         "41",
         "PVerveer B6Friday December 17 2010 12:12 AMFrom B6Pleaselet me know if I can be of any help to your department and will happy to do and please thankMrs. Hillary Clinton on behalf of me and. supporting Afghan women.Ã¢ÂÂ¢Thank youB6B6B6B6B6B6B6B6",
         "0",
         "pverveer bfriday december amfrom bpleaselet know help department happy please thankmrs hillary clinton behalf supporting afghan women thank youbbbbbbbb"
        ],
        [
         "42",
         "nd Banking details of our deceased client that will facilitate our putting =you forward as the claimant/beneficiary of the funds and ultimately transfe=r the money to any bank account nominated by you.I am prepared to compensat=e you with a 30% share of the total funds for your efforts.10 % will be set= aside for expenses incurred during the business and 60 % would be for me a=nd my colleagues. Please contact me immediately whether or not you are inte=rested in this deal.If you are not,it will enable me scout for another fore=ign partner to carry out this deal.But where you are interested, contact me= through my email address  for more details as time is of the essence in th=is business.    You should contact me immediately as soon as you receive th=is letter. Trusting to hear from you immediately. Yours faithfully, Dr. ami=r jasim, Bill and exchange manager, African Development bank ADB=20_________________________________________________________________Express yourself instantly with MSN Messenger! Download today it's FREE!http://messenger.msn.click-url.com/go/onm00200471ave/direct/01/=",
         "1",
         "nd banking details deceased client facilitate putting forward claimant beneficiary funds ultimately transfe money bank account nominated prepared compensat share total funds efforts set aside expenses incurred business would nd colleagues please contact immediately whether inte rested deal enable scout another fore ign partner carry deal interested contact email address details time essence th business contact immediately soon receive th letter trusting hear immediately faithfully dr ami jasim bill exchange manager african development bank adb express instantly msn messenger download today free http messenger msn click url com go onmave direct"
        ],
        [
         "43",
         "Thanks and God Bles! s You,Best Regards.MR. MICHEAL BALOY(FOR THE FAMILY)",
         "1",
         "thanks god bles best regards mr micheal baloy family"
        ],
        [
         "44",
         "FYI",
         "0",
         "fyi"
        ],
        [
         "45",
         "H <hrod17@clintonemail.com>Wednesday October 7 2009 6:46 AM'stalbott'JilotyLC@state.gov'Re: Rose....Thx for passing on the feedback which I will share w her. Let's plan another catch up call. I'm copying my assistantLauren to try to schedule for us.",
         "0",
         "wednesday october stalbott jilotylc state gov rose thx passing feedback share let plan another catch call copying assistantlauren try schedule us"
        ],
        [
         "46",
         "WALTERS COMPANY FROM THE OFFICE OF THE MANAGER,WALTERS GATE COMPANY,IMPORT AND EXPORT,WORLD TRADE CENTER,LONDON,ENGLAND.Dear Sir/Madam,                      JOB OFFER FOR A REPRESENTATIVE.I am Mr. Walter Gate managing Director Walters Gate company and I am an engineer by profession, and my company is based in Europe.My Company deals with import and export, construction and general servicing. We import construction materials like Drilling machine, underground pipes, and pumping machine for refineries and general maintenance of petroleum refineries. We also supply materials for Borehole construction into America and Canada.Our offices are mainly in Europe and Asia.We need a reliable and trustworthy representative that will monitor the affairs of our company in America and Canada, the representative will be incharge of all the companies affairs like monitoring of goods to their various owners, clear from sea-port and also collect payment from creditors.The company has agreed to let the representative have 10% of every payment collected as his/her commission.If you are interested please send me the following information:1.Full Name.2.Full Contact addresses.3.Phone and Fax number.4.Date of Birth.5.Year of Working Experience.Get back to me with the information and your application will be processed and we will get back to you. For further information visit our:web-site www.walters-import-export.8m.com.",
         "1",
         "walters company office manager walters gate company import export world trade center london england dear sir madam job offer representative mr walter gate managing director walters gate company engineer profession company based europe company deals import export construction general servicing import construction materials like drilling machine underground pipes pumping machine refineries general maintenance petroleum refineries also supply materials borehole construction america canada offices mainly europe asia need reliable trustworthy representative monitor affairs company america canada representative incharge companies affairs like monitoring goods various owners clear sea port also collect payment creditors company agreed let representative every payment collected commission interested please send following information full name full contact addresses phone fax number date birth year working experience get back information application processed get back information visit web site www walters import export com"
        ],
        [
         "47",
         "More fyi.",
         "0",
         "fyi"
        ],
        [
         "48",
         "H <hrod17@clintonemail.com>Monday December 21 2009 7:26 AM'ca Ã¢ÂÂ¢ nciamarshall@RELEASE IN PARTB6",
         "0",
         "monday december ca nciamarshall release partb"
        ],
        [
         "49",
         "    From =3A Stella Dikko SambaAbidjan=2C Ivory CoastWest Africa=2ETEL +225 07 81 95 57APPEAL FOR URGENT BUSINESS ASSISTANCE=2EMY Dear =2CPermit me to inform you of my desire ofgoing into business relationship with you=2E I got yourname and contact from the Ivoirian chamber of commerceand industry=2E I prayed over it and selected your nameamong other names due to its esteeming nature and therecommendations given to me as a reputable and trustworthy person that I can do business with and by therecommendation =2C I must not hesitate to confide in youfor this simple and sincere business =2E I am Stella Dikoo Samba the only daughter of late Mr=2Eand Mrs=2E Dikko samba=2E My father was a very wealthycocoa merchant in Abidjan =2C the economic capital ofIvory coast=2C my father was poisoned to dearth by hisbusiness associates on one of their outings on abusiness trip =2EMy mother died when I was a baby and sincethen my father took me so special=2E Before the death ofmy father on January 2002 in a private hospital herein Abidjan he secretly called me on his bed side andtold me that he has the sum of seventeen million =2Cfivehundred thousand United State Dollars=2E USD =28$17=2E500=2C000=29 left in fixed =2F suspense account in one ofthe prime bank here in Abidjan =2Cthat he used my nameas his only daughter for the next of Kin in depositing of the fund=2E He also explained to me that it was because of this wealth that he was poisoned by his business associates=2E That I should seek for a foreign partner in a country of my choice where i will transfer this money and use it for investment purpose such as real estate management or hotel management =2ESir=2C I am honourably seeking your assistancein the following ways=3A=281=29 To provide a bank account into which this moneywould be transferred to =2E=282=29 To serve as a guardian of this fund since I amonly 22years=2E=283=29 To make arrangement for me to come over to yourcountry to further my education and to secure aresident permit in your country=2EMoreover=2C sir i am willing to offer you 15%of the total sum as compensation for your effort=2Finput after the successful transfer of this fund intoyour nominated account overseas=2EFurthermore=2C you indicate your optionstowards assisting me as I believe that thistransaction would be concluded within fourteen =2814=29days you signify interest to assist me=2E Anticipatingto hear from you soon=2EReply ma in my private mail box=3Ajimnaya174=40yahoo=2EfrThanks and God bless=2EBest regard STELLA DIKKO SAMBA ",
         "1",
         "stella dikko sambaabidjan ivory coastwest africa etel appeal urgent business assistance emy dear cpermit inform desire ofgoing business relationship got yourname contact ivoirian chamber commerceand industry prayed selected nameamong names due esteeming nature therecommendations given reputable trustworthy person business therecommendation must hesitate confide youfor simple sincere business stella dikoo samba daughter late mr eand mrs dikko samba father wealthycocoa merchant abidjan economic capital ofivory coast father poisoned dearth hisbusiness associates one outings abusiness trip emy mother died baby sincethen father took special death ofmy father january private hospital herein abidjan secretly called bed side andtold sum seventeen million cfivehundred thousand united state dollars usd c left fixed suspense account one ofthe prime bank abidjan cthat used nameas daughter next kin depositing fund also explained wealth poisoned business associates seek foreign partner country choice transfer money use investment purpose real estate management hotel management esir honourably seeking assistancein following ways provide bank account moneywould transferred serve guardian fund since amonly years make arrangement come yourcountry education secure aresident permit country emoreover sir willing offer total sum compensation effort finput successful transfer fund intoyour nominated account overseas efurthermore indicate optionstowards assisting believe thistransaction would concluded within fourteen days signify interest assist anticipatingto hear soon ereply private mail box ajimnaya yahoo efrthanks god bless ebest regard stella dikko samba"
        ]
       ],
       "shape": {
        "columns": 3,
        "rows": 1000
       }
      },
      "text/html": [
       "<div>\n",
       "<style scoped>\n",
       "    .dataframe tbody tr th:only-of-type {\n",
       "        vertical-align: middle;\n",
       "    }\n",
       "\n",
       "    .dataframe tbody tr th {\n",
       "        vertical-align: top;\n",
       "    }\n",
       "\n",
       "    .dataframe thead th {\n",
       "        text-align: right;\n",
       "    }\n",
       "</style>\n",
       "<table border=\"1\" class=\"dataframe\">\n",
       "  <thead>\n",
       "    <tr style=\"text-align: right;\">\n",
       "      <th></th>\n",
       "      <th>text</th>\n",
       "      <th>label</th>\n",
       "      <th>clean_text</th>\n",
       "    </tr>\n",
       "  </thead>\n",
       "  <tbody>\n",
       "    <tr>\n",
       "      <th>0</th>\n",
       "      <td>DEAR SIR, STRICTLY A PRIVATE BUSINESS PROPOSAL...</td>\n",
       "      <td>1</td>\n",
       "      <td>dear sir strictly private business proposal mi...</td>\n",
       "    </tr>\n",
       "    <tr>\n",
       "      <th>1</th>\n",
       "      <td>Will do.</td>\n",
       "      <td>0</td>\n",
       "      <td></td>\n",
       "    </tr>\n",
       "    <tr>\n",
       "      <th>2</th>\n",
       "      <td>Nora--Cheryl has emailed dozens of memos about...</td>\n",
       "      <td>0</td>\n",
       "      <td>nora cheryl emailed dozens memos haiti weekend...</td>\n",
       "    </tr>\n",
       "    <tr>\n",
       "      <th>3</th>\n",
       "      <td>Dear Sir=2FMadam=2C I know that this proposal ...</td>\n",
       "      <td>1</td>\n",
       "      <td>dear sir fmadam know proposal might surprise e...</td>\n",
       "    </tr>\n",
       "    <tr>\n",
       "      <th>4</th>\n",
       "      <td>fyi</td>\n",
       "      <td>0</td>\n",
       "      <td>fyi</td>\n",
       "    </tr>\n",
       "    <tr>\n",
       "      <th>...</th>\n",
       "      <td>...</td>\n",
       "      <td>...</td>\n",
       "      <td>...</td>\n",
       "    </tr>\n",
       "    <tr>\n",
       "      <th>995</th>\n",
       "      <td>So what's the latest? It sounds contradictory ...</td>\n",
       "      <td>0</td>\n",
       "      <td>latest sounds contradictory af decide shall ta...</td>\n",
       "    </tr>\n",
       "    <tr>\n",
       "      <th>996</th>\n",
       "      <td>TRANSFER OF 36,759,000.00 MILLION POUNDS TO YO...</td>\n",
       "      <td>1</td>\n",
       "      <td>transfer million pounds youraccount name mr ej...</td>\n",
       "    </tr>\n",
       "    <tr>\n",
       "      <th>997</th>\n",
       "      <td>Barb I will call to explain. Are you back in t...</td>\n",
       "      <td>0</td>\n",
       "      <td>barb call explain back country h</td>\n",
       "    </tr>\n",
       "    <tr>\n",
       "      <th>998</th>\n",
       "      <td>Yang on travelNot free tonite.May work tomorrow</td>\n",
       "      <td>0</td>\n",
       "      <td>yang travelnot free tonite may work tomorrow</td>\n",
       "    </tr>\n",
       "    <tr>\n",
       "      <th>999</th>\n",
       "      <td>sbwhoeopSunday February 21 2010 7:42 PMHShaunH...</td>\n",
       "      <td>0</td>\n",
       "      <td>sbwhoeopsunday february pmhshaunh talked shaun...</td>\n",
       "    </tr>\n",
       "  </tbody>\n",
       "</table>\n",
       "<p>1000 rows × 3 columns</p>\n",
       "</div>"
      ],
      "text/plain": [
       "                                                  text  label  \\\n",
       "0    DEAR SIR, STRICTLY A PRIVATE BUSINESS PROPOSAL...      1   \n",
       "1                                             Will do.      0   \n",
       "2    Nora--Cheryl has emailed dozens of memos about...      0   \n",
       "3    Dear Sir=2FMadam=2C I know that this proposal ...      1   \n",
       "4                                                  fyi      0   \n",
       "..                                                 ...    ...   \n",
       "995  So what's the latest? It sounds contradictory ...      0   \n",
       "996  TRANSFER OF 36,759,000.00 MILLION POUNDS TO YO...      1   \n",
       "997  Barb I will call to explain. Are you back in t...      0   \n",
       "998    Yang on travelNot free tonite.May work tomorrow      0   \n",
       "999  sbwhoeopSunday February 21 2010 7:42 PMHShaunH...      0   \n",
       "\n",
       "                                            clean_text  \n",
       "0    dear sir strictly private business proposal mi...  \n",
       "1                                                       \n",
       "2    nora cheryl emailed dozens memos haiti weekend...  \n",
       "3    dear sir fmadam know proposal might surprise e...  \n",
       "4                                                  fyi  \n",
       "..                                                 ...  \n",
       "995  latest sounds contradictory af decide shall ta...  \n",
       "996  transfer million pounds youraccount name mr ej...  \n",
       "997                   barb call explain back country h  \n",
       "998       yang travelnot free tonite may work tomorrow  \n",
       "999  sbwhoeopsunday february pmhshaunh talked shaun...  \n",
       "\n",
       "[1000 rows x 3 columns]"
      ]
     },
     "execution_count": 99,
     "metadata": {},
     "output_type": "execute_result"
    }
   ],
   "source": [
    "data_train"
   ]
  },
  {
   "cell_type": "code",
   "execution_count": 100,
   "metadata": {},
   "outputs": [
    {
     "data": {
      "application/vnd.microsoft.datawrangler.viewer.v0+json": {
       "columns": [
        {
         "name": "index",
         "rawType": "int64",
         "type": "integer"
        },
        {
         "name": "text",
         "rawType": "object",
         "type": "string"
        },
        {
         "name": "predicted_label",
         "rawType": "int64",
         "type": "integer"
        },
        {
         "name": "clean_text",
         "rawType": "object",
         "type": "string"
        }
       ],
       "conversionMethod": "pd.DataFrame",
       "ref": "c1adb216-28c6-4e46-9cdc-03553f1db493",
       "rows": [
        [
         "0",
         "usiness is for the fact that the deceased man was a foreigner and it is not= authorized by the law guiding our Bank for a citizen of this country to ma=ke the claim of the fund.So the request for you as a foreigner to come into= the business is necessary, it will facilitate the release and transfer of =the fund smoothly into your reliable Bank account as the only surviving rel=ation to the deceased.<BR><BR>If you are really sure of your integrity, tru=stworthy and confidentiality, and accept not to cheat or disappoint me afte=r this business, reply with your telephone and fax numbers and Banking acco=unt details where you wish to receive the fund.<BR><BR>Upon receipt of the =above mentioned information, indicating your interest in the business, I wi=ll send you by fax or e-mail a letter of application which you will type an=d send back to our bank to enable us start this transaction.<BR><BR>I will =not fail to bring to your notice that this business is risk free and doesn'=t have any negative implication. You should not entertain any fear as all m=odalities for the smooth and easy transfer of this fund have been finalized=. This transaction will be completed within 14 bank working days immediatel=y we start the business.<BR><BR>Waiting for your urgent response and please= kindly delete if you are not interested.<BR>Regards,<BR><BR>&nbsp;Mr&nbsp;=",
         "1",
         "usiness fact deceased man foreigner authorized law guiding bank citizen country ke claim fund request foreigner come business necessary facilitate release transfer fund smoothly reliable bank account surviving rel ation deceased really sure integrity tru stworthy confidentiality accept cheat disappoint afte business reply telephone fax numbers banking acco unt details wish receive fund upon receipt mentioned information indicating interest business wi send fax mail letter application type send back bank enable us start transaction fail bring notice business risk free negative implication entertain fear odalities smooth easy transfer fund finalized transaction completed within bank working days immediatel start business waiting urgent response please kindly delete interested regards mr"
        ],
        [
         "1",
         "They are happy to adjust to the afternoon. I am going to suggest a 3:00pm start time which should give plenty of time toreturn to DC. (Cronkite service starts at 10:30am)",
         "0",
         "happy adjust afternoon going suggest pm start time give plenty time toreturn dc cronkite service starts"
        ],
        [
         "2",
         "Lael Brainard was confirmed 78-19 this afternoon.Miguel E. RodriguezDeputy Assistant Secretary for Senate AffairsBureau of Legislative AffairsU.S. Department of State(202) 647-2645rodriguezme@state.gov",
         "0",
         "lael brainard confirmed afternoon miguel rodriguezdeputy assistant secretary senate affairsbureau legislative affairsu department state rodriguezme state gov"
        ],
        [
         "3",
         "H <hrod17@clintonemail.com>Friday March 26 2010 5:45 AM'sbwhoeopÃÂ¢ÃÂÃÂ¢ Re:I have extended my congrats to all.",
         "0",
         "friday march sbwhoeop extended congrats"
        ],
        [
         "4",
         "n;\"> Dear Good Friend,<br><br><br>I am happy to inform you about my succe=ssin getting those funds transferred under<br><br>the cooperation of a ne=w partner from Hongkong.Presently I am in Hongkong for investment project=s<br><br>with my own share of the total sum. meanwhile, Ididn't forget yo=ur past efforts and attempts to assist<br><br>me in transferring those fu=nds despite that it failedus some how.<br><br><br>Now contact my secretar=y in Cotonou Benin Republic hisname is MR SHIKES UMAHand his Email:(secre=taryshikesuperstar@yahoo.ca)<br><br> <br><br> and ask him to send you the= total of $800.000.00 which I kept for your<br><br>past efforts and attem=pts toassist me in this matter.I appreciated your efforts atthat time ver=y much.<br><br>so feel free and get intouchedwith my SecretarySHIKES UMAH= and instruct him where to sendthe amount to you.<br><br><br>Please do le=t me know immediately you receive it sothat we can share the joy after al=l the sufferness at<br><br>that time. in the moment, I am very busy here =becauseof the investment projects which me and the new<br><br>partner are= having at hand, finally, remember that Ihad forwarded instruction to the= secretary on your<br><br>behalf to receive that money, so feel free to g=et intouch with Mr SHIKES UMAH   he will send the amount to you with out =any delay.<br><br><br>Thanks and God bless you.<br><br>SHIKES UMAH   </sp=an><br><br>- <span style=3D\"color:green;\">mikejames2 james</span></div></=div>--0-1398371323-1145545952=:82031--",
         "1",
         "dear good friend happy inform succe ssin getting funds transferred cooperation ne partner hongkong presently hongkong investment project share total sum meanwhile ididn forget yo ur past efforts attempts assist transferring fu nds despite failedus contact secretar cotonou benin republic hisname mr shikes umahand email secre taryshikesuperstar yahoo ca ask send total kept past efforts attem pts toassist matter appreciated efforts atthat time ver much feel free get intouchedwith secretaryshikes umah instruct sendthe amount please le know immediately receive sothat share joy al sufferness time moment busy becauseof investment projects new partner hand finally remember ihad forwarded instruction secretary behalf receive money feel free et intouch mr shikes umah send amount delay thanks god bless shikes umah mikejames james"
        ],
        [
         "5",
         "Yours faithfully=2CDr Abdul Siop=2EDirector=2FGeneral=2EDr ABDUL SIOP=2EDIRECTOR=2FGENERAL MINISTRY OF FINANCE SENEGAL=2E a FOR YOUR ATTENTION ONLY =2EFirst=2Ci must solicit your confidence in these transaction=2EI am a high placed official working with the ministry of finance=2Chere in Dakar=2C Senegal west Africa=2E my department=28the treasury department=29=2E Runs into several thousand millions of Dollars monthly=2EDear i am correctly in need of a foreign partner whose Bank account i can use to transfer the sum of thirty two million=2Cfive hundred thousand us dollars =28$32=2C500=2E000=2E00=29=2E This fund accrued legitimately =28but discretely=29=2C as commission from foreign contracts=2C through my private connections =2EThe fund is presently waiting to be remitted by our offshore funds managers to any foreign beneficiary which i should submitt them as the receiver of the fund However=2C by virtue of my positions as civil servants in my country=2CI cannot acquire this money in my names=2C because as high placed civil servants=2CI am not allowed by the civil service code of conduct to own or operate accounts outside of our shores=2EOn the other hand=2C it is not safe for me to keep the money here due to our unstable political environment=2EI have been delegated as a matter of trust by=2C to look for an overseas partner in whose account i will transfer the sum of $32=2C500=2C000=2E00 us dollars for mutual benefit=2C and 18% will be your commission=2C then 2% or any expenses that may occur during the transaction=2C Hence the reason for this email=2EWhat i am requesting from you is to be our partner and receive the funds in your account in trust=2EI plead with with you on one issue=2C please kindly do not expose this information to any on else=2EI confirm that the transaction is legitimate and without any risks either to our self or yourself=2EI will send you all the document you may need for the transaction when i received your reply=2EYours faithfully=2CDr Abdul Siop=2EDirector=2FGeneral=2E ",
         "1",
         "faithfully cdr abdul siop edirector fgeneral edr abdul siop edirector fgeneral ministry finance senegal attention efirst ci must solicit confidence transaction ei high placed official working ministry finance chere dakar senegal west africa department treasury department runs several thousand millions dollars monthly edear correctly need foreign partner whose bank account use transfer sum thirty two million cfive hundred thousand us dollars e e fund accrued legitimately discretely commission foreign contracts private connections ethe fund presently waiting remitted offshore funds managers foreign beneficiary submitt receiver fund however virtue positions civil servants country ci cannot acquire money names high placed civil servants ci allowed civil service code conduct operate accounts outside shores eon hand safe keep money due unstable political environment ei delegated matter trust look overseas partner whose account transfer sum c us dollars mutual benefit commission expenses may occur transaction hence reason email ewhat requesting partner receive funds account trust ei plead one issue please kindly expose information else ei confirm transaction legitimate without risks either self ei send document may need transaction received reply eyours faithfully cdr abdul siop edirector fgeneral"
        ],
        [
         "6",
         "I need time on Thursday or Friday to see Holbrooke.Mark Hyman is in town Wed and Thurs and I'd like to see him.",
         "0",
         "need time thursday friday see holbrooke mark hyman town wed thurs like see"
        ],
        [
         "7",
         "<div>My Dear ,</div><div>Sorry to hear this news and understand that the fault is not from me.<b=r>I'm happy to inform you about my success in getting those funds transferred=20=under the cooperation of a new partner from South Korea.</div><div>Presently ,I'm in South Korea for investment projects with my own share= of the total sum. Meanwhile,i didn't forget your past efforts and attempts=20=to assist me in transferring those funds despite that it failed us some how.= </div><div>Now contact my secretary in Benin his name is Mr Ignatuis Michael on hi=s-email address below.<br><A href=3D\"mailto:ig_mich2010@yahoo.fr\">ig_mich2010@yahoo.fr</A></div><div>Ask him to send you the total of $700.000.00 which i kept for your comp=ensation for all the past efforts and attempts to assist me in this matter.=20=</div><div>I appreciated your efforts at that time very much. So feel free and get= in touch with my secretary Mr Ignatuis and instruct him where to send the a=mount to you.</div><div>Please do let me know immediately you receive it so that we can share j=oy after all the suffering at that time.</div><div>At the moment, I=E2=80=99m very busy here because of the investment pro=jects which i and the new partner are having at hand, finally, remember that= I had forwarded instruction to the secretary on your behalf to receive that= money, So feel free to get in touch with Mr Ignatuis Michael,He will send t=he amount to you without any delay ok. </div><div><br>Regards, <br>Emeka Benjamin<br>=C2=A0 </div><div>=C2=A0</div><div class=3D\"AOLPromoFooter\"><hr style=3D\"margin-top:10px;\" />Get a FREE AOL Email account with 2GB of storage.  Plus, share and store pho=tos and experience exclusively recorded live music Sessions from your favour=ite artists. <a href=3D\"http://info.aol.co.uk/joinnow/?ncid=3D548\" target==3D\"_blank\">Click Here</a> for more information.<br /></div>----------MB_8C9860D95B7EC9F_1A3C_8424_FWM-D32.sysops.aol.com--",
         "1",
         "dear sorry hear news understand fault happy inform success getting funds transferred cooperation new partner south korea presently south korea investment projects share total sum meanwhile forget past efforts attempts assist transferring funds despite failed us contact secretary benin name mr ignatuis michael hi email address ig mich yahoo fr ask send total kept comp ensation past efforts attempts assist matter appreciated efforts time much feel free get touch secretary mr ignatuis instruct send mount please let know immediately receive share oy suffering time moment e busy investment pro jects new partner hand finally remember forwarded instruction secretary behalf receive money feel free get touch mr ignatuis michael send amount without delay ok regards emeka benjamin get free aol email account gb storage plus share store pho tos experience exclusively recorded live music sessions favour ite artists click information mb cdbecf ac fwm sysops aol com"
        ],
        [
         "8",
         "From=3A Dr =2EA=2E Smith NatWest Bank PLC=2E=2C24 Frith Street=2CLondon W1D5LG=2C INTERNATIONAL TRANSFER=2E LEICESTER CURRENCY CHEQUE=2FDRAFT DEPARTMENT Telegram=3A FBNFOREX=2C Reply to =3Aallensmith=5F112=40yahoo=2Eca Dear=3ASir=2C I am Hon=2E Dr=2EA Smith Director allocation department from the =28NatWest Bank PLC=2C=29London Branch=2Emy office monitors and controls the affairs of all banks and financial institutions in London concerned with foreign claim payments=2E I am the final signatory to any transfer or remittance of huge funds moving within banks both on the local and international levels in line with foreign claim settlement=2E I have before me list of funds=2C which could not be transferred to some nominated accounts as these accounts have been identified either as=2C unclaimed deposits and over-invoiced sum etc=2E Your Name was among the people expecting the funds to be transferred into their account=2C on this note=3B I wish to have a deal with you as regards to your unpaid funds=2EI have your file before me and hope your data's are correct and un-tampered unless you reconfirm it not correct=2E As it is my duty to recommend the transfer of these surplus funds to the Federal Government Treasury and Reserve Accounts as unclaimed deposits=2C I have the opportunity to write you based on the instructions I received two days ago from the Foreign Debts reconciliation dept to submit the List of payment reports=2F expenditures and audited reports of revenues=2E Among several others=2C I have decided to remit your claim sum following my idea that we can have a deal=2Fagreement and I am going to do this legally=2EMy conditions=3A 1=2E The sum of USD$16=2E7M only will be transfer into your account after the proccessing of all relevant legal documents with your name as the bonfide beneficary=2Cthe transfer will be made by Draft or telegraphic Transfer =28T=2FT=29=2C confirmable in 21 working days=2E 2=2E This deal must be kept secret forever=2C and all correspondence will be strictly by email =2F telephone=2C for security purposes=2E 3=2E There should be no third parties as most problem associated with your fund release are caused by your agents or representative=2E If you AGREE with my conditions=2C l advise you on what to do immediately and the transfer will commence without delay as I will proceed to fix your name on the Payment schedule instantly to meet the days mandate=2E I hope you don't reject this offer and have your funds transferred=2E Waiting for your reply soon=2E Yours Faithfully Dr=2EA=2E Smith=2E",
         "1",
         "dr ea smith natwest bank plc c frith street clondon wdlg international transfer leicester currency cheque fdraft department telegram fbnforex reply aallensmith yahoo eca dear asir hon dr ea smith director allocation department natwest bank plc london branch emy office monitors controls affairs banks financial institutions london concerned foreign claim payments final signatory transfer remittance huge funds moving within banks local international levels line foreign claim settlement list funds could transferred nominated accounts accounts identified either unclaimed deposits invoiced sum etc name among people expecting funds transferred account note wish deal regards unpaid funds ei file hope data correct un tampered unless reconfirm correct duty recommend transfer surplus funds federal government treasury reserve accounts unclaimed deposits opportunity write based instructions received two days ago foreign debts reconciliation dept submit list payment reports expenditures audited reports revenues among several others decided remit claim sum following idea deal fagreement going legally emy conditions e sum usd em transfer account proccessing relevant legal documents name bonfide beneficary cthe transfer made draft telegraphic transfer ft confirmable working days e deal must kept secret forever correspondence strictly email telephone security purposes e third parties problem associated fund release caused agents representative agree conditions l advise immediately transfer commence without delay proceed fix name payment schedule instantly meet days mandate hope reject offer funds transferred waiting reply soon faithfully dr ea smith e"
        ],
        [
         "9",
         "Dear Friend,The political unrest in my country (PHILIPPINES), necessitated thisemail, though this approach appears desperate, difficulties encountered in efforts to establish a business abroad also necessitate this search for someone to assist me in securing and investing the sum of USD18,000,000(Eighteen million dollars) deposited in my name abroad.By way of summarized profile of myself, I am Senator Luisa Estrada, a66years old lady and the wife of Joseph Ejercito Estrada (former head of state and President of Philippines).>From past experiences, many people I had regarded as close friends andrelatives has capitalize on my family's travail to run away with mymoney. In order to avert this negative development, I in conjunction with my son now seek your permission to allow us do a CHANGE OFOWNERSHIP/REASSIGNMENT OF CREDIT of stated funds from the holding company to your name, so that the funds (US$18million) would be released to you as the BENEFICIARY (on behalf of me and my family).Our family trustee have secretly protected the deposit, you are toassist us to lay claims of the funds with the aid of all legal documents that will be forwarded to you as time goes on. If you agree to help, we shall discuss the disbursement ratio in our next correspondence after we have been acquainted. I have decided to offer 20% of the above sum to you if you agree to assists us to secure these funds overseas or 30% share for possible help on investing in any reliable venture.No doubt this proposal will make you apprehensive, please I employ youto observe utmost privacy and rest assured that this transaction would be most profitable for both of us.PLEASE INDICATE YOUR INTEREST BY RESPONDING TO MY EMAIL ADDRESS. WITHTHE FOLLOWING INFO.Your full name:Address:Your telephone/fax numbers:Company name (If any):Once I receive this information, my son will prepare the necessarydocuments that will put you in place as the new owner of the funds. Themoney will then be released to your custody by the security company.",
         "1",
         "dear friend political unrest country philippines necessitated thisemail though approach appears desperate difficulties encountered efforts establish business abroad also necessitate search someone assist securing investing sum usd eighteen million dollars deposited name abroad way summarized profile senator luisa estrada ayears old lady wife joseph ejercito estrada former head state president philippines past experiences many people regarded close friends andrelatives capitalize family travail run away mymoney order avert negative development conjunction son seek permission allow us change ofownership reassignment credit stated funds holding company name funds us million would released beneficiary behalf family family trustee secretly protected deposit toassist us lay claims funds aid legal documents forwarded time goes agree help shall discuss disbursement ratio next correspondence acquainted decided offer sum agree assists us secure funds overseas share possible help investing reliable venture doubt proposal make apprehensive please employ youto observe utmost privacy rest assured transaction would profitable us please indicate interest responding email address withthe following info full name address telephone fax numbers company name receive information son prepare necessarydocuments put place new owner funds themoney released custody security company"
        ],
        [
         "10",
         "Dear Friend,I am Mohammed Abacha, the eldest son of the late president of Nigeria,i was falsely acussed of murder and as such was imprisoned, but thanks to=Allah,i have been released for my innosence. Well dear friend i needyour assistance to reeived this money on my behalf because the governmentis making plans to seize them, as they did to myfathers own.Please view these site and read it's content carefully,http:/ews.bbc.co.uk/hi/english/world/africaewsid_741000/741506.stmThe amnt is $80 million.It was defaced for security reason it is currentlywith a Security company Abroad. All that is needed isfor me to instruct the company to hand over the money to you, iwill renumerate you with 30% at the end, but most of all is ht i solicityour trust in this transaction. I have been confined only to Kano and all=my callsare monitored,So i will get my private attorney to get you the neededinformations.Best RegardsMohammed AbachaNB. Kindly contact me via e-ai.",
         "1",
         "dear friend mohammed abacha eldest son late president nigeria falsely acussed murder imprisoned thanks allah released innosence well dear friend needyour assistance reeived money behalf governmentis making plans seize myfathers please view site read content carefully http ews bbc co uk hi english world africaewsid stmthe amnt million defaced security reason currentlywith security company abroad needed isfor instruct company hand money iwill renumerate end ht solicityour trust transaction confined kano callsare monitored get private attorney get neededinformations best regardsmohammed abachanb kindly contact via ai"
        ],
        [
         "11",
         "Will do. PJ",
         "0",
         "pj"
        ],
        [
         "12",
         "will call him now",
         "0",
         "call"
        ],
        [
         "13",
         "That's good.",
         "0",
         "good"
        ],
        [
         "14",
         "Pi now at 2:30pm on Thurs.cdm",
         "0",
         "pi pm thurs cdm"
        ],
        [
         "15",
         "Dear Sir/Madam,With a very desperate need for assistance, I have summed up courage to contact you.I am  presently working in Iraq with American troop, I found your contact particulars in an address journal.I am seeking your assistance to evacuate the sum of $17,000,000:00 (Seventeen million dollars) to your country or any other safe country of your choice, as far as I can be assured that my share will be safe in your care untill I complete my service here,this is no stolen money, and there are no dangers involved.SOURCE OF MONEY. Some money in American currency was discovered concealed in barrels with piles of weapons and ammunitions at a location near one of Saddam's old palaces during a rescue operation, and it was agreed by all party present that the money be shared amongst us, this was quite an illegal thing to do, but I tell you what? no compensation can make up for the risks we have taken with our lives in this hell hole. The abovefigure ! was given to me as my share, and to conceal this kind of money became a problem for me, so with the help of a German contact working here, and his office enjoys some immunity, I was able to get the package out to a safe location entirely out of trouble spot.The German contact does not know the real contents of the package, and beleives that it belongs to an Asian American who died in an air raid, and before giving up, trusted me to hand over the package to his business associate.I have now found a secured way of getting the package out to a safer country in Europe for you to pick up, and will discuss this with you when I am sure that you are willing to assist me.One passionate appeal I will make to you is not to discuss this matter with a third party, should you have reasons to reject this offer, please destroy this mail as any leakage of this information will be too bad for us. I do not know for how long we will remain here, and I havesurvived 2 suicide bomb attacks by the special grace of God, this and other reasons I will mention later has prompted me to reach out for help, I honestly want this matter to be resolved immediately.Please contact me through my email so we can discuss more.Respectfully,Adams AllenN/B PLEASE FORWARD ALL CORRESPONDENCE TO adamsiniraq@myway.com ",
         "1",
         "dear sir madam desperate need assistance summed courage contact presently working iraq american troop found contact particulars address journal seeking assistance evacuate sum seventeen million dollars country safe country choice far assured share safe care untill complete service stolen money dangers involved source money money american currency discovered concealed barrels piles weapons ammunitions location near one saddam old palaces rescue operation agreed party present money shared amongst us quite illegal thing tell compensation make risks taken lives hell hole abovefigure given share conceal kind money became problem help german contact working office enjoys immunity able get package safe location entirely trouble spot german contact know real contents package beleives belongs asian american died air raid giving trusted hand package business associate found secured way getting package safer country europe pick discuss sure willing assist one passionate appeal make discuss matter third party reasons reject offer please destroy mail leakage information bad us know long remain havesurvived suicide bomb attacks special grace god reasons mention later prompted reach help honestly want matter resolved immediately please contact email discuss respectfully adams allenn please forward correspondence adamsiniraq myway com"
        ],
        [
         "16",
         "H <hrod17@clintonemail.com>Sunday January 31 2010 4:43 PM'mchaleja@state.gov'Re: a couple of powerful quotes from foreign media which we highlighted in our cable",
         "0",
         "sunday january pm mchaleja state gov couple powerful quotes foreign media highlighted cable"
        ],
        [
         "17",
         "out that some government officials set up  companies   and awarded themselves =contracts which were grossly over invoiced in various Ministries, We also =identified a lot of inflated contracts funds which are presently Deposited in =a BANK here in Dakar However,by virture of our position as civil servants and members of the panel ,we cannot acquire this money in our name.I have therefore ,been delegated as a matter of trust by my colleagues of the panel to look for an =overseas patner into whose account we would transfer the total sum of =USD$25,500,000.00 [TWENTY FIVE MILLION,FIVE HUNDRED THOUSAND UNITED STATES DOLLARS]. ",
         "1",
         "government officials set companies awarded contracts grossly invoiced various ministries also identified lot inflated contracts funds presently deposited bank dakar however virture position civil servants members panel cannot acquire money name therefore delegated matter trust colleagues panel look overseas patner whose account would transfer total sum usd twenty five million five hundred thousand united states dollars"
        ],
        [
         "18",
         "Dear Sir/madam,  I have a client who wants to invest in your country presently the fund is deposited in security bank vault is US$9Million (Nine Million United States Dollars). My client is a General in Liberia army and he would want his name to remain a top secret.Subsequently, you are to assist us in the areas of investing this fund in your country.You will be required to:1) Assist us in investing of the said Amount (2) Advise us on lucrative areas for Investment (3) Assist us in purchase of Properties. If you can help, Please email or call me on telephone number +44 7863369201 0r zizitalla@yahoo.co.uk So that we can arrange how to move the money to your country. We will offer you 15% of the total sum of US$9Million as fee for your efforts and support. I am waiting for your urgent response. Please reply. Thank you. GRATEFULLY TREAT AS URGENT. Talla Dou Azize (Esq.) London England.                      ",
         "1",
         "dear sir madam client wants invest country presently fund deposited security bank vault us million nine million united states dollars client general liberia army would want name remain top secret subsequently assist us areas investing fund country required assist us investing said amount advise us lucrative areas investment assist us purchase properties help please email call telephone number zizitalla yahoo co uk arrange move money country offer total sum us million fee efforts support waiting urgent response please reply thank gratefully treat urgent talla dou azize esq london england"
        ],
        [
         "19",
         "Agreed.",
         "1",
         "agreed"
        ],
        [
         "20",
         "RELEASE IN PART B5B6I agree.",
         "0",
         "release part bbi agree"
        ],
        [
         "21",
         "Sorry to bother you and promise to keep it to a minimum",
         "0",
         "sorry bother promise keep minimum"
        ],
        [
         "22",
         "Dear sirIs a pleasure to write you this letter, and i hope it will not be a surprised to you, i got your contact through internet for urgent help. I think with your good position this letter will meet your considration..This is a serious issue if you reply with your telepnone number i will explain you better but please keep secret. I am a rebel soldier from Angola, with a rank of Major in the Army and a rebel leader as well. We have been in the bush for more than 15yrs, my name is Major John Ogari born 48 yrs ago in Angola and a member of the Angola rebel leaders committee.. The federal forces are impressing us badly that we can not have a way to be in the city, all our contacts closed. Please kindly help. Indeed, we never give up since we are fighting for good of our country as our present leaders are bad. Here is the help we urgently needed from you, we have in our custody the sum of Nine million four hundred and twenty one dollar. 9.421.000 million,dollar, with 103 kg of gold. i need your help to bank this in your account as i can not go out nor operate any account. I give you this trust as God will be in between us and you will benefit more than expected if you did not think other wise.. This can be transfered hand to hand through security company we operate with, i am hundred percent sure of that, and they will take care of the goods till it get to your hand safely. Although the secourity company did not know what is inside as we locked the money and gold inside a safe box and deposited as family treasure. There is no risky involve or distorbance easy transfer.I hope you will help us in this our request. For further directives of how to achieve this feat. Reply and ask question if any and do not forget to furnish me with your cofidential telephone and fax number, to enable me contact you for immediate transacion. You will be made a co-beneficary to his treasure. Note that there is no risky involve in this busniess like i said earlier, and a good percentage will be given to you at end of this business. On arrival of the treasure safe to your destination i will come along with key to the safe box. Looking forward to hear from you soon. Best regardMaj. John Ogari.",
         "1",
         "dear siris pleasure write letter hope surprised got contact internet urgent help think good position letter meet considration serious issue reply telepnone number explain better please keep secret rebel soldier angola rank major army rebel leader well bush yrs name major john ogari born yrs ago angola member angola rebel leaders committee federal forces impressing us badly way city contacts closed please kindly help indeed never give since fighting good country present leaders bad help urgently needed custody sum nine million four hundred twenty one dollar million dollar kg gold need help bank account go operate account give trust god us benefit expected think wise transfered hand hand security company operate hundred percent sure take care goods till get hand safely although secourity company know inside locked money gold inside safe box deposited family treasure risky involve distorbance easy transfer hope help us request directives achieve feat reply ask question forget furnish cofidential telephone fax number enable contact immediate transacion made co beneficary treasure note risky involve busniess like said earlier good percentage given end business arrival treasure safe destination come along key safe box looking forward hear soon best regardmaj john ogari"
        ],
        [
         "23",
         "Pleas Send your reply to this email address; (abbahnasser002@yahoo.it) Hello my dear,Before I introduce myself, I wish to inform you that this letter is not a hoax mail and I urge you to treat it serious. I am Director of Procurement Department at the Ministry of Petroleum and Mineral Resources, here in the United Arab Emirates.  I obtained your email while searching for a reliable person, who could assist me in receiving transfer of a supposed contract awarded funds.  This fund came as a result of over estimated contract awarded sums executed by foreign contractors in the Petroleum Ministry. This fund has been approved for payment to the contractor by the concerned Ministry. The contracts had been executed and commissioned. What I am about to receive now, is the over estimated funds which the contractor whom I helped during the process of obtaining the contracts added to his estimation for my own interest.  This is a normal deal that goes in my Ministry by top officials. On our part, all modalities has been worked out in ensuring a smooth conclusion of the transfer to your account within the next few days.  All I want from you is to receive this funds on my behalf, because as Government Official I cannot collect the funds directly from the contractor, neither I am allowed by Law to operate/ run foreign bank accounts. If you are trustworthy and can assist me in receiving the fund, do not hesitate to respond back to me immediately.Please note that there is no risk involved in receiving the funds in your account for and it will be done through wire transfer. I wish you to state in percentage what you shall have for the use of your account.  As soon as you indicate your interest, further details and the amount involved shall be given to you once I hear from you.  Please, treat with utmost confidentiality. Looking forward to hearing from you soonest.Best regards,Engr. Abbah Nasser.Ministry of Petroleum and Ministry Resources.United Arab Emirates.",
         "1",
         "pleas send reply email address abbahnasser yahoo hello dear introduce wish inform letter hoax mail urge treat serious director procurement department ministry petroleum mineral resources united arab emirates obtained email searching reliable person could assist receiving transfer supposed contract awarded funds fund came result estimated contract awarded sums executed foreign contractors petroleum ministry fund approved payment contractor concerned ministry contracts executed commissioned receive estimated funds contractor helped process obtaining contracts added estimation interest normal deal goes ministry top officials part modalities worked ensuring smooth conclusion transfer account within next days want receive funds behalf government official cannot collect funds directly contractor neither allowed law operate run foreign bank accounts trustworthy assist receiving fund hesitate respond back immediately please note risk involved receiving funds account done wire transfer wish state percentage shall use account soon indicate interest details amount involved shall given hear please treat utmost confidentiality looking forward hearing soonest best regards engr abbah nasser ministry petroleum ministry resources united arab emirates"
        ],
        [
         "24",
         "cheryl.millsWednesday May 20 2009 9:23 AMHRe: greetings to you!Yes",
         "0",
         "cheryl millswednesday may amhre greetings yes"
        ],
        [
         "25",
         "MR=2ETONY MALICK & CO=2EBUSINESS CONSULTANTS & PROJECTMANAGERS=2E RC 412281OUR REF JBC=2FMAKN=2F44YOUR REF=5F=5F=5F=5F=5F=5F=5F=5F=5F=5F=5F=5F=5F=5F=5F=5F=5F=5F=5F=5F=5F=5F=5FATTN=3AWE HUMBLY WISH TO SEEK YOUR ASSISTANCE IN A MATTER THAT IS VERYIMPORTANT TO US WHICH REQUIRES UTMOST URGENCY AND CONFIDENTIALITY=2EONE OF OUR HIGH NETWORK CLIENTS AND A GOLD ROYALIST WHO SERVED IN THEPAST GOVERNMENT OF CHARLES TARLOY IN LIBERIA WISHES TO INVEST THE SUM OF=28US$8M=29 U=2ES DOLLARS ONLY=2E IN YOUR CONUTRY OR ANY OTHER COUNTRY WITH GOOD ECONOMIC STABILITY AND POLITICALCLIMATE=2E OUR CLIENT IS INTERESTED IN REAL ESTATES=2CHOTEL BUSINESS=2C STOCKS & BONDS=2ETHIS SIAD FUND WAS BROUGHT INTO MY COUNTRY SENEGAL IN THE YEAR 2001=2EWHEN THE HEAT WAS TOO MUCH IN LIBERIA=2EMYSELF AND MY CLIENT HAS DEPOSITED THIS FUND IN THE SECURITY COMPANY FOR MAXIMUM PROTECTIONS HERE IN DAKAR SENEGAL=2EHOWEVER IT IS HIS WISH TO INVEST THIS MONEY NOW IN YOUR COUNTRY=2EFOR OBVIOUS REASONS MY CLIENT DOES NOT WISH TO PLACE THIS FUND WITHESTABLISHED FINANCIAL INSTITUTIONS AND THUS REQUIRES OUR ASSISTANCE TOLOOK FOR A RELIABLE FOREIGNER TO HELP MOVE THIS FUND AND IN TURN MANAGE IT FO R THE FAMILY=2EIT IS ALSO OUR CLIENT'S WISH THAT THIS DEAL BE HANDLED ASQUIETLY AS POSSIBLE WITHOUT ANY LEAKAGE TO THE PRESS=2E IF YOU AGREE TOACT AS A FUND MANAGER FOR MY CLIENT=2E THE SUM OF US$15=2E2 MILLION WILL BE RELEASED TO YOU IF YOU MEET OUR REQUIREMENTS=2E THE MONEY IS AVAILABLE IN THE COSTUDIES OFSECURITY COMPANY AND UPON A FAVORABLE RESPONSE FROM YOU WE SHALL LET YOU KNOW HOW TO RECEIVE IT=2EYOUR COMMISSION SHALL BE DOWN PAYMENT OF 20% OF THE TOTAL SUM THAT ISUS$8MILLION AND AN ANNUAL 10% OF THE AFTER TAX RETURNS FOR THE FIRST 5YEARSTHEREAFTER THE TERMS SHALL BE REVIEWED=2E=2EIF YOU ARE WILLING TO DO THIS PLEASE INDICATE YOUR INTEREST VIA MYEMAILSPECIFED BELOW AT ONEC FOR FURTHER DETAILS=2EBEST REGARDS=2CMR=2ETONY MALICK =2E",
         "1",
         "mr etony malick co ebusiness consultants projectmanagers rc ref jbc fmakn fyour ref f f f f f f f f f f f fattn awe humbly wish seek assistance matter veryimportant us requires utmost urgency confidentiality eone high network clients gold royalist served thepast government charles tarloy liberia wishes invest sum us u es dollars conutry country good economic stability politicalclimate client interested real estates chotel business stocks bonds ethis siad fund brought country senegal year ewhen heat much liberia emyself client deposited fund security company maximum protections dakar senegal ehowever wish invest money country efor obvious reasons client wish place fund withestablished financial institutions thus requires assistance tolook reliable foreigner help move fund turn manage fo family eit also client wish deal handled asquietly possible without leakage press agree toact fund manager client sum us million released meet requirements money available costudies ofsecurity company upon favorable response shall let know receive eyour commission shall payment total sum isus million annual tax returns first yearsthereafter terms shall reviewed eif willing please indicate interest via myemailspecifed onec details ebest regards cmr etony malick e"
        ],
        [
         "26",
         "Dear friend=2CGreetings to you=2EPlease pardon me for contacting you without any formal appointment or communication do consider my status as asylum seeker inDakar Senegal=2EI will like to seek your assistance in receiving and investing the sum of US$4=2E8M held in a holding finance company in europe=2EThe money was deposited by my late father who was killed last year by the rebels during the uprising in Abidjan-Cote d' Ivoire=2E He was until hissudden death a diamond =2Fcocoa dealer in Angola and Cote d' Ivoire whichis where he made his wealth=2E Me and my mother arrived Dakar few days ago and confirmed the validity of this deposit then decided to contact you forassistance in view of our present situations=2E We got your contact through the Internet data base while searching for my father's friends in your country=2EMore details will be given to you as soon as i hear from you=2EPlease includesome of your personal details for us to establish a good business and familyrelationship=2EI look forward to hearing from you Honestly yours=2CMiss=2C Joli Hamed=2E",
         "1",
         "dear friend cgreetings eplease pardon contacting without formal appointment communication consider status asylum seeker indakar senegal ei like seek assistance receiving investing sum us em held holding finance company europe ethe money deposited late father killed last year rebels uprising abidjan cote ivoire hissudden death diamond fcocoa dealer angola cote ivoire whichis made wealth mother arrived dakar days ago confirmed validity deposit decided contact forassistance view present situations got contact internet data base searching father friends country emore details given soon hear eplease includesome personal details us establish good business familyrelationship ei look forward hearing honestly cmiss joli hamed e"
        ],
        [
         "27",
         "BANK OF AFRICA (BOA)OUAGADOU-BURKINA FASODEAR FRIEND,THIS MESSAGE MIGHT MEET YOU IN UTMOST SURPRISE.HOWEVER,IT'S JUST THE URGENT NEED FOR A FOREIGN PARTNER THAT MADE ME TO CONTACT YOU FOR THIS TRANSACTION. I AM A BANKER BY PROFESSION FROM BURKINA FASO IN WEST AFRICA AND CURRENTLY HOLDING THE POST OF BILL AND EXCHANGE DIRECTOR IN OUR BANK.I HAVE THE OPPORTUNITY OF TRANSFERRING THE LEFT OVER FUNDS THAT AMOUNTS TO $15.5MILLION DOLLARS INTO A FOREIGN ACCOUNT AND THE SAID FUND BELONGS TO OUR DECEASED CLIENTS WHO DIED ON 31 JULY 2000 IN A PLANE CRASH.HENCE, I AM INVITING YOU FOR A BUSINESS DEAL WHERE THIS MONEY CAN BE SHARED BETWEEN US IN THE RATIO OF 60/40 IF YOU AGREE TO MY BUSINESS PROPOSAL.FURTHER DETAILS OF THE TRANSFER WILL BE FORWARDED TO YOU AS SOON AS I RECEIVE YOUR RETURN MAIL.HAVE A GREAT DAY.YOURS,MR BARO ISA._________________________________________________________________Gagnez des pc Windows Vista avec Live.com http://www.image-addict.fr/",
         "1",
         "bank africa boa ouagadou burkina fasodear friend message might meet utmost surprise however urgent need foreign partner made contact transaction banker profession burkina faso west africa currently holding post bill exchange director bank opportunity transferring left funds amounts million dollars foreign account said fund belongs deceased clients died july plane crash hence inviting business deal money shared us ratio agree business proposal details transfer forwarded soon receive return mail great day mr baro isa gagnez des pc windows vista avec live com http www image addict fr"
        ],
        [
         "28",
         "Since we got information about his death, we have been expecting his next of kin to come over and claim his money because we can not release it unless some body applies for it as next of kin or relation to the deceased as indicated in our banking guidlings and laws but unfortunately we learnt that all his supposed next of kin or relation died alongside with him at the plane crash leaving nobody behind for the claim. It is therefore upon this discovery that I now decided to make this business proposal to you,so that the money can be  release to you as the next of kin or relation to the deceased for safety and subsequent disbursement since nobody will come for it and we don't want this money to go into the bank treasury as unclaimed dormant fund.The banking law and guidline here stipulates that if such money remained unclaimed after six years, the money will be transfered into the bank treasury as unclaimed dormant fund. The request of foreigner as next of kin in this business is occassioned by the fact that the customer was a foreigner and a Burkinabe like me  can not stand as next of kin to a foreigner.I agreed that 30% of this money will be for you as a respect to the provision of a foriegn account ,10% will be set aside for expenses incurred during the business and 60% would be for me.Thereafter, I will visit your country for disbursement according to the percentage indicated Therefore, to enable the immediate transfer of this fund to you arranged,you must apply first to the bank as relation or next of kin to the deceased customer with a text of application that i will send to you,but before i send to you the text of application form,I will like you to send me the following informations.1. NAME IN FULL:................................2. ADDRESS:.......................................3. NATIONALITY:...................................4. AGE:.............................................5. Sex..............................................6. OCCUPATION:......................................7. MARITAL STATUS:..................................8. PRIAVTE PHONE NO............................................9. PRIVATE FAX NO:.............................................so i will like you to send to me those informations for easy and effective communication,also location where the money will be remitted.Upon receipt of your reply, I will send to you by fax or email the text of the application form.I will not fail to bring to your notice that this transaction is hitch-free and that you should not entertain any atom of fear as all required arrangements have been made for the transfer. You should contact me immediately as soon as you receive this letter,if only you are intrested and ready to help.Trusting to hear from you immediately.Yours Faithfully,DR.JASIR KELZIMANAGER AUDITING AND ACCOUNTING DEPARTMENTBANK OF AFRICA_________________________________________________________________Don't just search. Find. Check out the new MSN Search! http://search.msn.com/",
         "1",
         "since got information death expecting next kin come claim money release unless body applies next kin relation deceased indicated banking guidlings laws unfortunately learnt supposed next kin relation died alongside plane crash leaving nobody behind claim therefore upon discovery decided make business proposal money release next kin relation deceased safety subsequent disbursement since nobody come want money go bank treasury unclaimed dormant fund banking law guidline stipulates money remained unclaimed six years money transfered bank treasury unclaimed dormant fund request foreigner next kin business occassioned fact customer foreigner burkinabe like stand next kin foreigner agreed money respect provision foriegn account set aside expenses incurred business would thereafter visit country disbursement according percentage indicated therefore enable immediate transfer fund arranged must apply first bank relation next kin deceased customer text application send send text application form like send following informations name full address nationality age sex occupation marital status priavte phone private fax like send informations easy effective communication also location money remitted upon receipt reply send fax email text application form fail bring notice transaction hitch free entertain atom fear required arrangements made transfer contact immediately soon receive letter intrested ready help trusting hear immediately faithfully dr jasir kelzimanager auditing accounting departmentbank africa search find check new msn search http search msn com"
        ],
        [
         "29",
         "fvi",
         "0",
         "fvi"
        ],
        [
         "30",
         "What is FM's first name?",
         "0",
         "fm first name"
        ],
        [
         "31",
         "Fyi - Johnnie's conversation w prez of Ghana.",
         "0",
         "fyi johnnie conversation prez ghana"
        ],
        [
         "32",
         "Thank you for that I think it was his office rather than the Crown Prince himself who met your staff.All is very well and the mobile phone project is really developing in a fantastic way can't wait for you to launch it in theautumnCherie Blair",
         "0",
         "thank think office rather crown prince met staff well mobile phone project really developing fantastic way wait launch theautumncherie blair"
        ],
        [
         "33",
         "#67 Cresent Close,Lynnwood RoadHatfield PretoriaGauteng, South Africa. {INTERNATIONAL HERITAGE TRANSACTION}{One Hundred & Seventy Two Million Six Hundred And Fifty Four Thousand ",
         "1",
         "cresent close lynnwood roadhatfield pretoriagauteng south africa international heritage transaction one hundred seventy two million six hundred fifty four thousand"
        ],
        [
         "34",
         "(5) Your Bank:=20Name(6) Your PassportI await your earliest reply,Thanks.Sincerely,Mr. DAVID J HESKEY.",
         "1",
         "bank name passporti await earliest reply thanks sincerely mr david heskey"
        ],
        [
         "35",
         "<P>TENDER COMMITTEE<BR>DEPARTMENT OF MINERALS AND ENERGY,<BR>PRETORIA, SOUT=H AFRICA.<BR>&nbsp;</P><P>Dear Friend,<BR>&nbsp;It is my great pleasure in writing you this letter= on behalf of my colleagues. Your information was given to me by a member o=f the South African Export Promotion Council (SAEPC) who was with the Feder=al Government delegation on a trip to your country for a bilateral conferen=ce talk to encourage foreign investors. I have decided to seek a<BR>confide=ntial co-operation with you in the execution of the deal described<BR>here =under for the benefit of all parties and hope you will keep it confidential= because of the nature of this business<BR>Within the Department of Mineral=s an Energy where I work as a Director of Audit and Project Implementation =and with the co-operation of two other top officials, we have in our posses=sion as overdue<BR>payment in US funds.<BR>&nbsp;The said funds represent c=ertain percentage of the total contract value executed on behalf of my Depa=rtment by a foreign<BR>contracting firm which we the officials over-invoice=d to the amount of US$14.500,000.00Dollars.Though the actual contract cost =has been paid to the original contractor, leaving the excess balance unclai=med.<BR>&nbsp;Since the present elected Government is determined to pay for=eign contractors all debts owed so as to maintain good relationship with fo=reign government and non-government agencies, we include our bills for appr=ovals with the Department of Finance and the Reserve Bank of South Africa. =We are seeking your assistance to front as beneficiary of the unclaimed fun=ds, since we are not allowed to operate foreign accounts. Details and chang=e of beneficiary information upon application for claim to reflect payment =and approvals will be secured on behalf of You/your Company.<BR>&nbsp; I ha=ve the authority of my partners involved to propose that should you be will=ing to assist us in this transaction your share as compensation will be US$=3.625m (25%), while my colleagues and I receive US$9.425m&nbsp; (65%) and t=he balance of US$1.450m (10%) for taxation and miscellaneous expenses incur=red.<BR>&nbsp;The business itself is 100% safe and secure, provided you tre=at it with utmost confidentiality. It does not matter whether You/your Comp=any does contract projects, as a transfer of powers will be secured in favo=r of You/your Company. Also your area of specialization is not a hindrance =to the successful execution of this transaction. I have reposed<BR>my confi=dence in you and hope that you will not disappoint me.<BR>&nbsp;Kindly noti=fy me for further details upon your acceptance of this proposal</P><P><A href=3D\"mailto:mngomenijames@yahoo.co.uk\">mngomenijames@yahoo.co.uk</=A><BR>Thanks for your co-operation.</P><P><BR>&nbsp;Regards,</P><P>MNGOMENI JAMES(DR)</P><BR> <span style=3D'color:#000000;font-family:aria=l; font-size:10pt;'>Freeserve AnyTime - HALF PRICE for the first 3 months -= Save =A37.50 a month <br><a href=3D'http://www.freeserve.com/anytime' styl=e=3D'color:#0000FF; font-family:arial; font-size:10pt;' TARGET=3D'_blank'>w=ww.freeserve.com/anytime</a></span>------=_Part_11532_23801182.1073560266821--",
         "1",
         "tender committee department minerals energy pretoria sout africa dear friend great pleasure writing letter behalf colleagues information given member f south african export promotion council saepc feder al government delegation trip country bilateral conferen ce talk encourage foreign investors decided seek confide ntial co operation execution deal described benefit parties hope keep confidential nature business within department mineral energy work director audit project implementation co operation two top officials posses sion overdue payment us funds said funds represent ertain percentage total contract value executed behalf depa rtment foreign contracting firm officials invoice amount us dollars though actual contract cost paid original contractor leaving excess balance unclai med since present elected government determined pay eign contractors debts owed maintain good relationship fo reign government non government agencies include bills appr ovals department finance reserve bank south africa seeking assistance front beneficiary unclaimed fun ds since allowed operate foreign accounts details chang beneficiary information upon application claim reflect payment approvals secured behalf company ha authority partners involved propose ing assist us transaction share compensation us colleagues receive us balance us taxation miscellaneous expenses incur red business safe secure provided tre utmost confidentiality matter whether comp contract projects transfer powers secured favo company also area specialization hindrance successful execution transaction reposed confi dence hope disappoint kindly noti fy details upon acceptance proposal mngomenijames yahoo co uk thanks co operation regards mngomeni james dr freeserve anytime half price first months save month ww freeserve com anytime part"
        ],
        [
         "36",
         "Tom's backgrounder definitely played down expectations.",
         "0",
         "tom backgrounder definitely played expectations"
        ],
        [
         "37",
         "the next of kin and have them release the deposit to you. We share theproceeds 60/30. I assure you that I could have the deposit released to youwithin a few working days. I will simply inform the bank of the finalclosing of the file relating to the customer I will then officiallycommunicate with firm clarifying and confirming you with properdocumentations and thereafter have the funds released to you. Thealternative would be for us to have firm direct the funds to another bankwith you as account holder. This way there will be no need for you tothink of receiving the money from the firm. We can fine-tune this based onour interactions. I am aware of the consequences of this proposal. I askthat if you find no interest in this project that you should discard thismail and not be vindictive and destructive. There is a reward for thisproject and it is a task worth undertaking. I have evaluated the risks andthe only risk I have here is from you refusing to work with me andalerting my bank. I am the only one who knows of this situation, let'sshare the blessing.If you find yourself able to work with me, contact me. If you give me yourtrust and confidence, we shall rejoice and our lives will never be thesame again. Please do not contact me via official channels. Please observethis instruction religiously. Please, again, note I am a family man; Ihave a wife and children. I send you this mail not without a measure offear as to the consequences, yet I know within me that nothing ventured isnothing gained and that success and riches never come easy or on a platterof gold. This is the one truth I have learned from my private bankingclients. Do not betray my confidence. If we can be of one accord, weshould plan a meeting soon.I await your response.ThanksLin Geng",
         "1",
         "next kin release deposit share theproceeds assure could deposit released youwithin working days simply inform bank finalclosing file relating customer officiallycommunicate firm clarifying confirming properdocumentations thereafter funds released thealternative would us firm direct funds another bankwith account holder way need tothink receiving money firm fine tune based onour interactions aware consequences proposal askthat find interest project discard thismail vindictive destructive reward thisproject task worth undertaking evaluated risks andthe risk refusing work andalerting bank one knows situation let sshare blessing find able work contact give yourtrust confidence shall rejoice lives never thesame please contact via official channels please observethis instruction religiously please note family man ihave wife children send mail without measure offear consequences yet know within nothing ventured isnothing gained success riches never come easy platterof gold one truth learned private bankingclients betray confidence one accord weshould plan meeting soon await response thankslin geng"
        ],
        [
         "38",
         "He just called in again asking if you could talk",
         "0",
         "called asking could talk"
        ],
        [
         "39",
         "Bills & Exchange Manager                                             ATTEN:                                                       RE:NEED FOR ABENEFICIARY.I am contacting you in regards to a business transfer of a huge sum of moneyfrom a deceased account in my Bank.Though I know that a transaction of thismagnitude will make anyone apprehensive and worried, but I am assuring you thatall will be well at the end of the day.I decided to contact you due to the urgency of this transaction and the needfor a foreign beneficiary.PROPOSITION:I discovered an abandoned sum of (US$28m) in an account that belongs to one ofour foreign customers who died along with his entire family.Since his death, none of his next-of-kin or relations has come forward to layclaims to this money as the heir or beneficiary.The bank cannot release thefund from his account unless a foreigner applies for claim as the next-of-kinto the deceased as indicated in our banking guidelines.Upon this discovery, I now seek your permission to have you stand as a next ofkin to the deceased as all documentations will be carefully worked out legallyby a high court lawyer for the funds (US$28m) to be approved in your favour andtransferred into your account as the beneficiary or next of kin to our latecustomer.If I do not transfer this money out urgently it will be forfeited for nothingor reverted into the selfish  government purse.It may interest you to note that I have secured from the probate an order ofmadamus to locate any of deceased beneficiaries.I need your full co-operation to make this work fine because the Bankmanagement is ready to approve this payment to any foreigner who has correctinformation of this account,which I will give to you immediately,if you areable and capableto handle such amount in strict confidence and trust according to myinstructions and advice for our mutual benefit because this opportunity willnever come again in my life.Please acknowledge receipt of this message in acceptance of our mutual businessendeavour by furnishing me with the following:1. Your Full Names and Address.2. Direct Telephone and Fax numbers.These requirements will enable me file a letter of claim to the appropriatedepartments for necessary approvals in your favour before the transfer can bemade.I shall be compensating you with 30% of the total sum on final conclusion ofthis project, while the rest shall be for me. Your share stays with you, whilethe rest shall be for me for investment purposes in your country.If this proposal is acceptable by you, do not take undue advantage of the trustI have bestowed on you, I await your urgent reply through this my private email",
         "1",
         "bills exchange manager atten need abeneficiary contacting regards business transfer huge sum moneyfrom deceased account bank though know transaction thismagnitude make anyone apprehensive worried assuring thatall well end day decided contact due urgency transaction needfor foreign beneficiary proposition discovered abandoned sum us account belongs one ofour foreign customers died along entire family since death none next kin relations come forward layclaims money heir beneficiary bank cannot release thefund account unless foreigner applies claim next kinto deceased indicated banking guidelines upon discovery seek permission stand next ofkin deceased documentations carefully worked legallyby high court lawyer funds us approved favour andtransferred account beneficiary next kin latecustomer transfer money urgently forfeited nothingor reverted selfish government purse may interest note secured probate order ofmadamus locate deceased beneficiaries need full co operation make work fine bankmanagement ready approve payment foreigner correctinformation account give immediately areable capableto handle amount strict confidence trust according myinstructions advice mutual benefit opportunity willnever come life please acknowledge receipt message acceptance mutual businessendeavour furnishing following full names address direct telephone fax numbers requirements enable file letter claim appropriatedepartments necessary approvals favour transfer bemade shall compensating total sum final conclusion ofthis project rest shall share stays whilethe rest shall investment purposes country proposal acceptable take undue advantage trusti bestowed await urgent reply private email"
        ],
        [
         "40",
         "Dear Sir=2C I feel very sorry to interrupt your peace since you are not expecting to receive any mail from me=2EHowever=2CI was obliged to do so due to the importance and urgency of the massage=2EI crave your indulgence=2Cand want to reassure you that I mean well and that it is only for our mutual good=2ESo please do not be embbarrassed or suspicious=2EI am Col=2C Kobia Abuom=2C I got to know you courtesy of international business bureau here in =28 Thailand=29Sequel to my zeal towards foreign investment and also security for my life and my possession=2C I therefore write to give you a Breakdown of this proposal =2E I was the personal confidant to the first vice-president=2C Dr John Garang of Southern Sudan whose death was a deep sadness by popular demand of the citizens of Southern Sudan's as a result of helicopter crash=2EDr=2E Garang's demise is a tragedy of enormous proportions=2E His death is a huge loss not only to the people of Sudan but to the people of Eastern Africa and the continent as a whole=2E I will be 38years this year and out of this years=2C 16 years was spent in the bush fighting as a Guerilla=2E All these years my total devotion was to the late Vice president=2EEventually we succeeded in over- running Sudan Peoples Liberation Movement=2FArmy =28SPLM=2FA=29=2E I was handsomely rewarded with the position of personal confidant of the president=2E Aside being his Chief Security officer=2C was also charged with the responsibility of ensuring steady purchase and supply of arms from North Korea=2E A week before the death of the Vice president I was in North Korea with a total sum of US$39 million dollars cash=28Thirty Nine Million US Dollars=29 which was brought in through a diplomatic means=2EThis money was to effect the payment of shipment of long-range anti-tanker launchers to my country before I learnt of the sudden death of the Vice president=2E My initial reaction was to deposit this money with a Security Company in North Korea=2Cdue to security reasons i diverted the treasure containing the fund to Thailand through a diplomatic means=2EOn arrival here I immediately deposited the treasure into a Private Security =2Ffinance company for safe keeping although the Security Company and the diplomat who assisted me to Thailand is unaware of the contents as they were deposited as privileged consignments=2E Right now=2C I am seeking for a partner who shall serve as the guardian=2Foverseer of this fund with whom I can plan the best way to move this money for investment purposes=2C which is my motive for contacting you=2E To be able to actualize this project=2C you are required to assist in the following manners=2E =281=29 That you shall serve as the general overseer and guardian of this fund and all investment thereafter=2E =282=29 To assist in providing me and my immediate family permanent residential permit in your country after the money must have been transferred to your account=2E For these services=2C a suitable percentage =28%=29 will be mapped out for you after you have shown your willingness to assist=2C and most importantly all expenses involved in this transaction will be taken care of when the money have been safely transferred to your designated account=2E In addition =2C there would be a face to face meeting here in Bangkok Thailand for further discussions and to consummate the transaction at once=2E I will give you all the details in my next mail when you have indicated your interest and commitment to work with me=2E Always remember that this is the highest confidence and trust any person can repose on the other=2C especially when it is considered that we did not know ourselves before=2E I hope you will honor me too=2ENOTE=3A I know there may be scams and junk mails flying here and there on the internet but certainly=2C this is not one of them=2E Now I urge you to take this message seriously and with an open mind=2C with good faith and trust=2E Join me and I am assuring you now that you will never be disappointed=2E I expect to receive your response soonest I do not intend to have this transaction delayed=2E Please treat this as highly confidential by keeping it only with yourself=2E I look forward to your urgent co-operation=2E Best regards=2C Col Kobia Abuom=2E ",
         "1",
         "dear sir feel sorry interrupt peace since expecting receive mail ehowever ci obliged due importance urgency massage ei crave indulgence cand want reassure mean well mutual good eso please embbarrassed suspicious ei col kobia abuom got know courtesy international business bureau thailand sequel zeal towards foreign investment also security life possession therefore write give breakdown proposal personal confidant first vice president dr john garang southern sudan whose death deep sadness popular demand citizens southern sudan result helicopter crash edr garang demise tragedy enormous proportions death huge loss people sudan people eastern africa continent whole years year years years spent bush fighting guerilla years total devotion late vice president eeventually succeeded running sudan peoples liberation movement farmy splm fa handsomely rewarded position personal confidant president aside chief security officer also charged responsibility ensuring steady purchase supply arms north korea week death vice president north korea total sum us million dollars cash thirty nine million us dollars brought diplomatic means ethis money effect payment shipment long range anti tanker launchers country learnt sudden death vice president initial reaction deposit money security company north korea cdue security reasons diverted treasure containing fund thailand diplomatic means eon arrival immediately deposited treasure private security ffinance company safe keeping although security company diplomat assisted thailand unaware contents deposited privileged consignments right seeking partner shall serve guardian foverseer fund plan best way move money investment purposes motive contacting able actualize project required assist following manners shall serve general overseer guardian fund investment thereafter assist providing immediate family permanent residential permit country money must transferred account services suitable percentage mapped shown willingness assist importantly expenses involved transaction taken care money safely transferred designated account addition would face face meeting bangkok thailand discussions consummate transaction give details next mail indicated interest commitment work always remember highest confidence trust person repose especially considered know hope honor enote know may scams junk mails flying internet certainly one urge take message seriously open mind good faith trust join assuring never disappointed expect receive response soonest intend transaction delayed please treat highly confidential keeping look forward urgent co operation best regards col kobia abuom"
        ],
        [
         "41",
         "FROM=3A Dr=2E John Mikado=2EDirector of Projects=2C DME=2C South Africa=2EI am Dr=2E John Mikado=2C Director of projects Implementation South Africa Department of Minerals & Energy=2E First and foremost=2C I apologized using this medium to reach  you for a transaction =2F business of this magnitude=2C but this is due to confidentiality and prompt access reposed on this medium=2E In unfolding this proposal=2C I want to count on you as a respected & honest person to handle this transaction with sincerity=2C trust & confidentiality=2E I have decided to seek a confidential co-operation with you in the execution of the deal described hereunder for the benefit of all parties and hope you will keep confidential because of the nature of the transaction=2EWithin the Department of Minerals & Energy where I work as a director of projects Implementation and with the co-operation of three other top officials=2C we have in our possession as overdue payment bills totaling 28=2E5million US dollars=2E which we want to transfer abroad with the assistance and co-operation of a company or individual to receive the said funds on our behalf=2E We are seeking your assistance to front as beneficiary of the said funds=2C More so=2C we are handicapped in the circumstance as the South Africa Civil Service code of conduct does not allow us to operate foreign account hence your importance in the whole transaction=2EThis amount =28US$28=2E5m=29 represents the balance of the total contract value executed on behalf of my Department by a foreign contracting firm which we the officials over-invoiced deliberately=2E Though the actual contract cost have been paid to the original contractor=2C leaving the balance of the US$28=2E5m=2E which we have in principle gotten approvals from the Department of Finance and the contract review and payment committee to transfer by telegraphic transfer to any bank account you will provide=2E It does not matter whether you or your company does contract projects as a transfer of power and privileges with details & change of information upon application to reflect payment in favour of  you or your company will be secured on behalf of you or your company=2EI have the mandate of my partners involved to propose that should you be willing to assist us in the transaction=2C your share of the sum will be US$7=2E125m 25% of the US$28=2E5 million=2C US$19=2E95m 70% for us and US$1=2E425m 5% for taxation and miscellaneous expenses=2E The business itself is 100% safe and secure=2C on your part provided you treat it with ultmost confidentiality=2E Also=2C your area of trade or specialization is not an hindrance to the successful execution of this transaction=2E I have reposed my confidence in you and hope that you will not disappoint me=2E Please=2C endeavour to contact me immediately through my email for further clarifications=2EI want to assure you that myself and my partners are in the position to make the payment of this funds possible provided you can give us a very strong assurance and guarantee that our share will be secured and please remember to treat this matter as very confidential=2C and remember once again that time is of the essence in this business=2EI wait in anticipation of your fullest co-operation=2EBest Regards=2C Dr=2E John Mikado=2ENB=3A please reply with your confidential contact phone & fax numbers=2C to enable me contact you urgently for further clarifications=2E",
         "1",
         "dr john mikado edirector projects dme south africa ei dr john mikado director projects implementation south africa department minerals energy first foremost apologized using medium reach transaction business magnitude due confidentiality prompt access reposed medium unfolding proposal want count respected honest person handle transaction sincerity trust confidentiality decided seek confidential co operation execution deal described hereunder benefit parties hope keep confidential nature transaction ewithin department minerals energy work director projects implementation co operation three top officials possession overdue payment bills totaling emillion us dollars want transfer abroad assistance co operation company individual receive said funds behalf seeking assistance front beneficiary said funds handicapped circumstance south africa civil service code conduct allow us operate foreign account hence importance whole transaction ethis amount us em represents balance total contract value executed behalf department foreign contracting firm officials invoiced deliberately though actual contract cost paid original contractor leaving balance us em principle gotten approvals department finance contract review payment committee transfer telegraphic transfer bank account provide matter whether company contract projects transfer power privileges details change information upon application reflect payment favour company secured behalf company ei mandate partners involved propose willing assist us transaction share sum us em us million us em us us em taxation miscellaneous expenses business safe secure part provided treat ultmost confidentiality also area trade specialization hindrance successful execution transaction reposed confidence hope disappoint please endeavour contact immediately email clarifications ei want assure partners position make payment funds possible provided give us strong assurance guarantee share secured please remember treat matter confidential remember time essence business ei wait anticipation fullest co operation ebest regards dr john mikado enb please reply confidential contact phone fax numbers enable contact urgently clarifications e"
        ],
        [
         "42",
         "(1) Computer optimization and Installation 4,000.000.00.(2) Installation of 250,000.00 Monax Turbine$6,000.000.00(3) Turn around Maintenance $3,000,000.00The money will be shared as follows after transfer, 30% for you 70%  for me.I know exactly how to present you / your company as the Beneficiary of the funds.Yours Faithfully,Mr.Azzam Mahmud.",
         "1",
         "computer optimization installation installation monax turbine turn around maintenance money shared follows transfer know exactly present company beneficiary funds faithfully mr azzam mahmud"
        ],
        [
         "43",
         "Do you want anyone added or deleted?",
         "0",
         "want anyone added deleted"
        ],
        [
         "44",
         "Dear Greetings To You And Your Family,This mail was first sent to you two months ago via post mail but uptill  today,I have not heard from you.Based on this,I decided to reach you  through this means though I know fully well that this is not the best and safest means to reach you for security reasons but was left with no  other viable option since there's this urgent need to reach you. Firstly,I would want to assure you that this mail is no  junk,spam,ilusion nor mere imagination.I appeal to you for the inconveniences this may  cause you by going through an unsolicited mail,but I assure you that  you will be satisfied after given me your due attention by carefully and  attentively going through this.I know that we have not met before nor  known to each other but never to worry as I will explain better.For clarity sake,I am Mr Kayode Abiola, 22 years old and a third year  micro biology student of the Federal University of Lagos.I am one of the  sons of late Chief M.K.O Abiola who won the 1993 presidential elections  as the President of the Federal Republic of Nigeria.Firstly,before I go further to unfold my main objective of contacting  you,I would advice that you visit this site maybe you can from here have  an insight of my family background and my personality.I am fully aware  of the numerous scam mails my fellow country men has been bombarding  through  the net looking for some one to defraud.I am telling you that I  am from a respectable family and will not for any reason engage myself  in any indecent act that will ruin the image of my family.I am going to throw more lights on the family,my mothers assasination  by the gun men from the military junta Late Gen Sani Abacha,The killing  of my father through poison while under detention.Please,kindly stop here and go through this websites,atleast it will  help to enrich and broaden your knowledge on what has happened to my  family:The annullement of june 12th 1993 Presidential elections:www.ngex.com/personalities/voices/politics.htm www.vanguardngr.com/articles/ 2002/politics/p525072004.html allafrica.com/stories/200407120112.html www.ainfos.ca/A-Infos97/3/0497.html www.thisdayonline.com/archive/ 2001/03/24/20010324cov04.html www.stormfront.org/archive/t-13985My Mother's assasination:www.amnesty.itews/1996/14401096.htmlwww.motherlandnigeria.com/womenwww.h-net.org/~africa/obituaries/msabiola.html www.cohdn.caews2/tribute1-3.htmlwww.africaaction.org/docs96ig9606.htm www.africaaction.org/docs97ig9711.htm www.fraudaid.com/ScamSpeak/ Nigerian/abacha/sanionlinenewshour.htmMy Father's death:www.africamasterweb.com/BanjoOnTaylor.htmlwww.nigeriancp.net/arijo.html allafrica.com/stories/200108080221.html www.nigeriavillagesquare1.com/Sanusi.htm I believe that the above sites has given you a wider perspective of how  I lost my parents.My father was known to be a polygamist,my own mother  was the second wife.Since the death of my father,things are no longer  the same within the entire household.My elder brother who is the son of  the first wife has taken allmost everything under the pretence that we  are still in school.promising to establish us as soon as we graduates.Going through my Mother's documents, I stumbled on a document which proved  that my father had a deposit of $15 Million U.S.A dollars (fifteen  million united states of america dollars) with a Finance Company abroad.I have made contact to the Finance Company and was told that I could  come for the claims so long as I have the certificate of deposit or That  I can send a representative but should equip him with the certificate  of deposit and a power of attoerney.Based on this that I am mailing you seeking your consent to assist me  go for the claims of this funds deposited with the security company since  I am still in school. I am going to send to you all the documents given  to my father by this security company on the day of the deposit. I am willing to offer you 25% of the total sum on completion of the  clearing excercise from the Finance Company, I maped out 5% for refund of  expences incured in the cause of this transaction, knowing fully well  that this deposit must have by now accumulated some demurrages.The balance of 70% will be kept for me,or should be invested and managed by you untill I graduates.I appeal to you,to understand that despite  the fact that we dont know each other,I am puting this trust on  you,based on the recommmendations I got while making my own private  consultations and investigations on a reliable person or firm to entrust this fund into his care.Please,I beg you in the name of god,not to sit on this money when  finally released to you by the Finance Company. I am doing this because I  dont want my Elder Brothers to have the knowledge of this fund.If this proposition interest you, and you really want to assist me, kindly forward the following information to me:(1) Your complete names starting with your surname first(2) Your private phone numbers including mobile(3) Your private fax number(4) Your present contact address.You should understand that these information requested will enable my Lawyer to prepare the power of attorney in your favour and as well enhance communication.I strongly advice that you treat this with utmost secrecy and absolute confidentiality,You are permited to make further enquiries on this issue, you can as well contact the Nigerian High Commission or Embassy nearer to you for comfirmation if you are not satisfied with your findings on the giving sites but please dont for any reason disclose the subject matter to anybody for security reasons.Endeavour to send further correspondences through my secured private email address:kayodeabiola@netscape.netI am looking forward to hearing from you and at the same time thanking you for your kind assistance/anticipated cooperation.Best regardsKayode  Abiola.___________________________________________________________________________Mail sent from WebMail service at PHP-Nuke Powered Site- http://yoursite.com",
         "1",
         "dear greetings family mail first sent two months ago via post mail uptill today heard based decided reach means though know fully well best safest means reach security reasons left viable option since urgent need reach firstly would want assure mail junk spam ilusion mere imagination appeal inconveniences may cause going unsolicited mail assure satisfied given due attention carefully attentively going know met known never worry explain better clarity sake mr kayode abiola years old third year micro biology student federal university lagos one sons late chief k abiola presidential elections president federal republic nigeria firstly go unfold main objective contacting would advice visit site maybe insight family background personality fully aware numerous scam mails fellow country men bombarding net looking one defraud telling respectable family reason engage indecent act ruin image family going throw lights family mothers assasination gun men military junta late gen sani abacha killing father poison detention please kindly stop go websites atleast help enrich broaden knowledge happened family annullement june th presidential elections www ngex com personalities voices politics htm www vanguardngr com articles politics html allafrica com stories html www ainfos ca infos html www thisdayonline com archive cov html www stormfront org archive mother assasination www amnesty itews htmlwww motherlandnigeria com womenwww net org africa obituaries msabiola html www cohdn caews tribute htmlwww africaaction org docsig htm www africaaction org docsig htm www fraudaid com scamspeak nigerian abacha sanionlinenewshour htmmy father death www africamasterweb com banjoontaylor htmlwww nigeriancp net arijo html allafrica com stories html www nigeriavillagesquare com sanusi htm believe sites given wider perspective lost parents father known polygamist mother second wife since death father things longer within entire household elder brother son first wife taken allmost everything pretence still school promising establish us soon graduates going mother documents stumbled document proved father deposit million dollars fifteen million united states america dollars finance company abroad made contact finance company told could come claims long certificate deposit send representative equip certificate deposit power attoerney based mailing seeking consent assist go claims funds deposited security company since still school going send documents given father security company day deposit willing offer total sum completion clearing excercise finance company maped refund expences incured cause transaction knowing fully well deposit must accumulated demurrages balance kept invested managed untill graduates appeal understand despite fact dont know puting trust based recommmendations got making private consultations investigations reliable person firm entrust fund care please beg name god sit money finally released finance company dont want elder brothers knowledge fund proposition interest really want assist kindly forward following information complete names starting surname first private phone numbers including mobile private fax number present contact address understand information requested enable lawyer prepare power attorney favour well enhance communication strongly advice treat utmost secrecy absolute confidentiality permited make enquiries issue well contact nigerian high commission embassy nearer comfirmation satisfied findings giving sites please dont reason disclose subject matter anybody security reasons endeavour send correspondences secured private email address kayodeabiola netscape neti looking forward hearing time thanking kind assistance anticipated cooperation best regardskayode abiola mail sent webmail service php nuke powered site http yoursite com"
        ],
        [
         "45",
         "Pis let me know when you send--I'm having fax trouble.",
         "0",
         "pis let know send fax trouble"
        ],
        [
         "46",
         "paymastersFYI",
         "0",
         "paymastersfyi"
        ],
        [
         "47",
         "Pis discuss w me.",
         "0",
         "pis discuss"
        ],
        [
         "48",
         "<P>Best Regards,<BR>Dr.Mark Ibe.</P><P>&nbsp;</P><P>&nbsp;</P><P><BR>&nbsp;</P><br><BR>Encuentra las noticias mas actualizadas de El Salvador y el mundo en =www.elsalvador.com</body></html>------=_NextPart_84815C5ABAF209EF376268C8--",
         "1",
         "best regards dr mark ibe encuentra las noticias mas actualizadas de el salvador el mundo en www elsalvador com nextpart cabafefc"
        ],
        [
         "49",
         "Dennis comments below and but primarily in text in track changes.cdm",
         "0",
         "dennis comments primarily text track changes cdm"
        ]
       ],
       "shape": {
        "columns": 3,
        "rows": 1000
       }
      },
      "text/html": [
       "<div>\n",
       "<style scoped>\n",
       "    .dataframe tbody tr th:only-of-type {\n",
       "        vertical-align: middle;\n",
       "    }\n",
       "\n",
       "    .dataframe tbody tr th {\n",
       "        vertical-align: top;\n",
       "    }\n",
       "\n",
       "    .dataframe thead th {\n",
       "        text-align: right;\n",
       "    }\n",
       "</style>\n",
       "<table border=\"1\" class=\"dataframe\">\n",
       "  <thead>\n",
       "    <tr style=\"text-align: right;\">\n",
       "      <th></th>\n",
       "      <th>text</th>\n",
       "      <th>predicted_label</th>\n",
       "      <th>clean_text</th>\n",
       "    </tr>\n",
       "  </thead>\n",
       "  <tbody>\n",
       "    <tr>\n",
       "      <th>0</th>\n",
       "      <td>usiness is for the fact that the deceased man ...</td>\n",
       "      <td>1</td>\n",
       "      <td>usiness fact deceased man foreigner authorized...</td>\n",
       "    </tr>\n",
       "    <tr>\n",
       "      <th>1</th>\n",
       "      <td>They are happy to adjust to the afternoon. I a...</td>\n",
       "      <td>0</td>\n",
       "      <td>happy adjust afternoon going suggest pm start ...</td>\n",
       "    </tr>\n",
       "    <tr>\n",
       "      <th>2</th>\n",
       "      <td>Lael Brainard was confirmed 78-19 this afterno...</td>\n",
       "      <td>0</td>\n",
       "      <td>lael brainard confirmed afternoon miguel rodri...</td>\n",
       "    </tr>\n",
       "    <tr>\n",
       "      <th>3</th>\n",
       "      <td>H &lt;hrod17@clintonemail.com&gt;Friday March 26 201...</td>\n",
       "      <td>0</td>\n",
       "      <td>friday march sbwhoeop extended congrats</td>\n",
       "    </tr>\n",
       "    <tr>\n",
       "      <th>4</th>\n",
       "      <td>n;\"&gt; Dear Good Friend,&lt;br&gt;&lt;br&gt;&lt;br&gt;I am happy t...</td>\n",
       "      <td>1</td>\n",
       "      <td>dear good friend happy inform succe ssin getti...</td>\n",
       "    </tr>\n",
       "    <tr>\n",
       "      <th>...</th>\n",
       "      <td>...</td>\n",
       "      <td>...</td>\n",
       "      <td>...</td>\n",
       "    </tr>\n",
       "    <tr>\n",
       "      <th>995</th>\n",
       "      <td>Dear Friend,Do accept my sincere apologies if ...</td>\n",
       "      <td>1</td>\n",
       "      <td>dear friend accept sincere apologies mail meet...</td>\n",
       "    </tr>\n",
       "    <tr>\n",
       "      <th>996</th>\n",
       "      <td>FROM THE DESK OF:MR.WANG QINHANG SENG BANK LTD...</td>\n",
       "      <td>1</td>\n",
       "      <td>desk mr wang qinhang seng bank ltd des voeux r...</td>\n",
       "    </tr>\n",
       "    <tr>\n",
       "      <th>997</th>\n",
       "      <td>He can speak at 7pm. He said that it does not ...</td>\n",
       "      <td>0</td>\n",
       "      <td>speak pm said secure ops connect residence</td>\n",
       "    </tr>\n",
       "    <tr>\n",
       "      <th>998</th>\n",
       "      <td>Mary Landrieu asked me to attend a dinner abou...</td>\n",
       "      <td>0</td>\n",
       "      <td>mary landrieu asked attend dinner foster care ...</td>\n",
       "    </tr>\n",
       "    <tr>\n",
       "      <th>999</th>\n",
       "      <td>Oscar should have printed gates shangrila conf...</td>\n",
       "      <td>0</td>\n",
       "      <td>oscar printed gates shangrila conf speech also...</td>\n",
       "    </tr>\n",
       "  </tbody>\n",
       "</table>\n",
       "<p>1000 rows × 3 columns</p>\n",
       "</div>"
      ],
      "text/plain": [
       "                                                  text  predicted_label  \\\n",
       "0    usiness is for the fact that the deceased man ...                1   \n",
       "1    They are happy to adjust to the afternoon. I a...                0   \n",
       "2    Lael Brainard was confirmed 78-19 this afterno...                0   \n",
       "3    H <hrod17@clintonemail.com>Friday March 26 201...                0   \n",
       "4    n;\"> Dear Good Friend,<br><br><br>I am happy t...                1   \n",
       "..                                                 ...              ...   \n",
       "995  Dear Friend,Do accept my sincere apologies if ...                1   \n",
       "996  FROM THE DESK OF:MR.WANG QINHANG SENG BANK LTD...                1   \n",
       "997  He can speak at 7pm. He said that it does not ...                0   \n",
       "998  Mary Landrieu asked me to attend a dinner abou...                0   \n",
       "999  Oscar should have printed gates shangrila conf...                0   \n",
       "\n",
       "                                            clean_text  \n",
       "0    usiness fact deceased man foreigner authorized...  \n",
       "1    happy adjust afternoon going suggest pm start ...  \n",
       "2    lael brainard confirmed afternoon miguel rodri...  \n",
       "3              friday march sbwhoeop extended congrats  \n",
       "4    dear good friend happy inform succe ssin getti...  \n",
       "..                                                 ...  \n",
       "995  dear friend accept sincere apologies mail meet...  \n",
       "996  desk mr wang qinhang seng bank ltd des voeux r...  \n",
       "997         speak pm said secure ops connect residence  \n",
       "998  mary landrieu asked attend dinner foster care ...  \n",
       "999  oscar printed gates shangrila conf speech also...  \n",
       "\n",
       "[1000 rows x 3 columns]"
      ]
     },
     "execution_count": 100,
     "metadata": {},
     "output_type": "execute_result"
    }
   ],
   "source": [
    "data_test"
   ]
  },
  {
   "cell_type": "code",
   "execution_count": 101,
   "metadata": {},
   "outputs": [
    {
     "name": "stderr",
     "output_type": "stream",
     "text": [
      "[nltk_data] Downloading package punkt to\n",
      "[nltk_data]     C:\\Users\\happy\\AppData\\Roaming\\nltk_data...\n",
      "[nltk_data]   Package punkt is already up-to-date!\n",
      "[nltk_data] Downloading package wordnet to\n",
      "[nltk_data]     C:\\Users\\happy\\AppData\\Roaming\\nltk_data...\n",
      "[nltk_data]   Package wordnet is already up-to-date!\n",
      "[nltk_data] Downloading package omw-1.4 to\n",
      "[nltk_data]     C:\\Users\\happy\\AppData\\Roaming\\nltk_data...\n",
      "[nltk_data]   Package omw-1.4 is already up-to-date!\n"
     ]
    }
   ],
   "source": [
    "import nltk\n",
    "from nltk.tokenize import word_tokenize\n",
    "from nltk.stem import WordNetLemmatizer\n",
    "\n",
    "# Download required resources (only once)\n",
    "nltk.download('punkt')\n",
    "nltk.download('wordnet')\n",
    "nltk.download('omw-1.4')  # WordNet synonyms\n",
    "\n",
    "# Initialize lemmatizer\n",
    "lemmatizer = WordNetLemmatizer()\n",
    "def tokenize_and_lemmatize(text):\n",
    "    tokens = word_tokenize(text)\n",
    "    lemmatized_tokens = [lemmatizer.lemmatize(token.lower()) for token in tokens]\n",
    "    return lemmatized_tokens\n",
    "data_train['lemmatized'] = data_train['clean_text'].apply(tokenize_and_lemmatize)\n",
    "data_test['lemmatized'] = data_test['clean_text'].apply(tokenize_and_lemmatize)"
   ]
  },
  {
   "cell_type": "markdown",
   "metadata": {},
   "source": [
    "## Bag Of Words\n",
    "Let's get the 10 top words in ham and spam messages (**EXPLORATORY DATA ANALYSIS**)"
   ]
  },
  {
   "cell_type": "code",
   "execution_count": 102,
   "metadata": {},
   "outputs": [
    {
     "name": "stdout",
     "output_type": "stream",
     "text": [
      "Top 10 Ham Words (Train):\n",
      "Top 10 Ham Words:\n",
      "state: 136\n",
      "pm: 127\n",
      "would: 107\n",
      "president: 99\n",
      "time: 95\n",
      "call: 94\n",
      "mr: 91\n",
      "obama: 84\n",
      "percent: 81\n",
      "secretary: 78\n",
      "Top 10 Spam Words (Train):\n",
      "\n",
      "Top 10 Spam Words:\n",
      "money: 987\n",
      "account: 899\n",
      "bank: 801\n",
      "fund: 782\n",
      "u: 733\n",
      "transaction: 553\n",
      "business: 514\n",
      "country: 513\n",
      "mr: 488\n",
      "million: 455\n",
      "Top 10 Ham Words (Test):\n",
      "Top 10 Ham Words:\n",
      "pm: 164\n",
      "state: 128\n",
      "secretary: 110\n",
      "obama: 108\n",
      "clinton: 95\n",
      "call: 94\n",
      "president: 93\n",
      "time: 87\n",
      "u: 85\n",
      "said: 83\n",
      "Top 10 Spam Words (Test):\n",
      "\n",
      "Top 10 Spam Words:\n",
      "e: 1479\n",
      "money: 976\n",
      "account: 861\n",
      "bank: 816\n",
      "fund: 743\n",
      "u: 659\n",
      "mr: 507\n",
      "country: 497\n",
      "transaction: 482\n",
      "business: 461\n"
     ]
    }
   ],
   "source": [
    "from collections import Counter\n",
    "\n",
    "# Separate messages by label\n",
    "ham_messages_train = data_train[data_train['label'] == 0]['lemmatized']\n",
    "spam_messages_train = data_train[data_train['label'] == 1]['lemmatized']\n",
    "ham_messages_test = data_test[data_test['predicted_label'] == 0]['lemmatized']\n",
    "spam_messages_test = data_test[data_test['predicted_label'] == 1]['lemmatized']\n",
    "\n",
    "# Combine all words into single lists\n",
    "ham_words_train = [word for message in ham_messages_train for word in message]\n",
    "spam_words_train = [word for message in spam_messages_train for word in message]\n",
    "ham_words_test = [word for message in ham_messages_test for word in message]\n",
    "spam_words_test = [word for message in spam_messages_test for word in message]\n",
    "\n",
    "# Count word frequencies\n",
    "ham_freq_train = Counter(ham_words_train)\n",
    "spam_freq_train = Counter(spam_words_train)\n",
    "ham_freq_test = Counter(ham_words_test)\n",
    "spam_freq_test = Counter(spam_words_test)\n",
    "\n",
    "# Get top 10 most common words\n",
    "top_10_ham_train = ham_freq_train.most_common(10)\n",
    "top_10_spam_train = spam_freq_train.most_common(10)\n",
    "top_10_ham_test = ham_freq_test.most_common(10)\n",
    "top_10_spam_test = spam_freq_test.most_common(10)\n",
    "\n",
    "# Display\n",
    "print(\"Top 10 Ham Words (Train):\")\n",
    "print(\"Top 10 Ham Words:\")\n",
    "for word, count in top_10_ham_train:\n",
    "    print(f\"{word}: {count}\")\n",
    "\n",
    "print(\"Top 10 Spam Words (Train):\")\n",
    "print(\"\\nTop 10 Spam Words:\")\n",
    "for word, count in top_10_spam_train:\n",
    "    print(f\"{word}: {count}\")\n",
    "\n",
    "print(\"Top 10 Ham Words (Test):\")\n",
    "print(\"Top 10 Ham Words:\")\n",
    "for word, count in top_10_ham_test:\n",
    "    print(f\"{word}: {count}\")\n",
    "\n",
    "print(\"Top 10 Spam Words (Test):\")\n",
    "print(\"\\nTop 10 Spam Words:\")\n",
    "for word, count in top_10_spam_test:\n",
    "    print(f\"{word}: {count}\")\n"
   ]
  },
  {
   "cell_type": "markdown",
   "metadata": {},
   "source": [
    "## Extra features"
   ]
  },
  {
   "cell_type": "code",
   "execution_count": 103,
   "metadata": {},
   "outputs": [
    {
     "data": {
      "application/vnd.microsoft.datawrangler.viewer.v0+json": {
       "columns": [
        {
         "name": "index",
         "rawType": "int64",
         "type": "integer"
        },
        {
         "name": "text",
         "rawType": "object",
         "type": "string"
        },
        {
         "name": "predicted_label",
         "rawType": "int64",
         "type": "integer"
        },
        {
         "name": "clean_text",
         "rawType": "object",
         "type": "string"
        },
        {
         "name": "lemmatized",
         "rawType": "object",
         "type": "unknown"
        },
        {
         "name": "money_mark",
         "rawType": "int64",
         "type": "integer"
        },
        {
         "name": "suspicious_words",
         "rawType": "int64",
         "type": "integer"
        },
        {
         "name": "text_len",
         "rawType": "int64",
         "type": "integer"
        }
       ],
       "conversionMethod": "pd.DataFrame",
       "ref": "6884efc6-1f9f-461e-91ec-4b8513dac12e",
       "rows": [
        [
         "0",
         "usiness is for the fact that the deceased man was a foreigner and it is not= authorized by the law guiding our Bank for a citizen of this country to ma=ke the claim of the fund.So the request for you as a foreigner to come into= the business is necessary, it will facilitate the release and transfer of =the fund smoothly into your reliable Bank account as the only surviving rel=ation to the deceased.<BR><BR>If you are really sure of your integrity, tru=stworthy and confidentiality, and accept not to cheat or disappoint me afte=r this business, reply with your telephone and fax numbers and Banking acco=unt details where you wish to receive the fund.<BR><BR>Upon receipt of the =above mentioned information, indicating your interest in the business, I wi=ll send you by fax or e-mail a letter of application which you will type an=d send back to our bank to enable us start this transaction.<BR><BR>I will =not fail to bring to your notice that this business is risk free and doesn'=t have any negative implication. You should not entertain any fear as all m=odalities for the smooth and easy transfer of this fund have been finalized=. This transaction will be completed within 14 bank working days immediatel=y we start the business.<BR><BR>Waiting for your urgent response and please= kindly delete if you are not interested.<BR>Regards,<BR><BR>&nbsp;Mr&nbsp;=",
         "1",
         "usiness fact deceased man foreigner authorized law guiding bank citizen country ke claim fund request foreigner come business necessary facilitate release transfer fund smoothly reliable bank account surviving rel ation deceased really sure integrity tru stworthy confidentiality accept cheat disappoint afte business reply telephone fax numbers banking acco unt details wish receive fund upon receipt mentioned information indicating interest business wi send fax mail letter application type send back bank enable us start transaction fail bring notice business risk free negative implication entertain fear odalities smooth easy transfer fund finalized transaction completed within bank working days immediatel start business waiting urgent response please kindly delete interested regards mr",
         "['usiness', 'fact', 'deceased', 'man', 'foreigner', 'authorized', 'law', 'guiding', 'bank', 'citizen', 'country', 'ke', 'claim', 'fund', 'request', 'foreigner', 'come', 'business', 'necessary', 'facilitate', 'release', 'transfer', 'fund', 'smoothly', 'reliable', 'bank', 'account', 'surviving', 'rel', 'ation', 'deceased', 'really', 'sure', 'integrity', 'tru', 'stworthy', 'confidentiality', 'accept', 'cheat', 'disappoint', 'afte', 'business', 'reply', 'telephone', 'fax', 'number', 'banking', 'acco', 'unt', 'detail', 'wish', 'receive', 'fund', 'upon', 'receipt', 'mentioned', 'information', 'indicating', 'interest', 'business', 'wi', 'send', 'fax', 'mail', 'letter', 'application', 'type', 'send', 'back', 'bank', 'enable', 'u', 'start', 'transaction', 'fail', 'bring', 'notice', 'business', 'risk', 'free', 'negative', 'implication', 'entertain', 'fear', 'odalities', 'smooth', 'easy', 'transfer', 'fund', 'finalized', 'transaction', 'completed', 'within', 'bank', 'working', 'day', 'immediatel', 'start', 'business', 'waiting', 'urgent', 'response', 'please', 'kindly', 'delete', 'interested', 'regard', 'mr']",
         "0",
         "1",
         "108"
        ],
        [
         "1",
         "They are happy to adjust to the afternoon. I am going to suggest a 3:00pm start time which should give plenty of time toreturn to DC. (Cronkite service starts at 10:30am)",
         "0",
         "happy adjust afternoon going suggest pm start time give plenty time toreturn dc cronkite service starts",
         "['happy', 'adjust', 'afternoon', 'going', 'suggest', 'pm', 'start', 'time', 'give', 'plenty', 'time', 'toreturn', 'dc', 'cronkite', 'service', 'start']",
         "0",
         "0",
         "16"
        ],
        [
         "2",
         "Lael Brainard was confirmed 78-19 this afternoon.Miguel E. RodriguezDeputy Assistant Secretary for Senate AffairsBureau of Legislative AffairsU.S. Department of State(202) 647-2645rodriguezme@state.gov",
         "0",
         "lael brainard confirmed afternoon miguel rodriguezdeputy assistant secretary senate affairsbureau legislative affairsu department state rodriguezme state gov",
         "['lael', 'brainard', 'confirmed', 'afternoon', 'miguel', 'rodriguezdeputy', 'assistant', 'secretary', 'senate', 'affairsbureau', 'legislative', 'affairsu', 'department', 'state', 'rodriguezme', 'state', 'gov']",
         "0",
         "0",
         "17"
        ],
        [
         "3",
         "H <hrod17@clintonemail.com>Friday March 26 2010 5:45 AM'sbwhoeopÃÂ¢ÃÂÃÂ¢ Re:I have extended my congrats to all.",
         "0",
         "friday march sbwhoeop extended congrats",
         "['friday', 'march', 'sbwhoeop', 'extended', 'congrats']",
         "0",
         "0",
         "5"
        ],
        [
         "4",
         "n;\"> Dear Good Friend,<br><br><br>I am happy to inform you about my succe=ssin getting those funds transferred under<br><br>the cooperation of a ne=w partner from Hongkong.Presently I am in Hongkong for investment project=s<br><br>with my own share of the total sum. meanwhile, Ididn't forget yo=ur past efforts and attempts to assist<br><br>me in transferring those fu=nds despite that it failedus some how.<br><br><br>Now contact my secretar=y in Cotonou Benin Republic hisname is MR SHIKES UMAHand his Email:(secre=taryshikesuperstar@yahoo.ca)<br><br> <br><br> and ask him to send you the= total of $800.000.00 which I kept for your<br><br>past efforts and attem=pts toassist me in this matter.I appreciated your efforts atthat time ver=y much.<br><br>so feel free and get intouchedwith my SecretarySHIKES UMAH= and instruct him where to sendthe amount to you.<br><br><br>Please do le=t me know immediately you receive it sothat we can share the joy after al=l the sufferness at<br><br>that time. in the moment, I am very busy here =becauseof the investment projects which me and the new<br><br>partner are= having at hand, finally, remember that Ihad forwarded instruction to the= secretary on your<br><br>behalf to receive that money, so feel free to g=et intouch with Mr SHIKES UMAH   he will send the amount to you with out =any delay.<br><br><br>Thanks and God bless you.<br><br>SHIKES UMAH   </sp=an><br><br>- <span style=3D\"color:green;\">mikejames2 james</span></div></=div>--0-1398371323-1145545952=:82031--",
         "1",
         "dear good friend happy inform succe ssin getting funds transferred cooperation ne partner hongkong presently hongkong investment project share total sum meanwhile ididn forget yo ur past efforts attempts assist transferring fu nds despite failedus contact secretar cotonou benin republic hisname mr shikes umahand email secre taryshikesuperstar yahoo ca ask send total kept past efforts attem pts toassist matter appreciated efforts atthat time ver much feel free get intouchedwith secretaryshikes umah instruct sendthe amount please le know immediately receive sothat share joy al sufferness time moment busy becauseof investment projects new partner hand finally remember ihad forwarded instruction secretary behalf receive money feel free et intouch mr shikes umah send amount delay thanks god bless shikes umah mikejames james",
         "['dear', 'good', 'friend', 'happy', 'inform', 'succe', 'ssin', 'getting', 'fund', 'transferred', 'cooperation', 'ne', 'partner', 'hongkong', 'presently', 'hongkong', 'investment', 'project', 'share', 'total', 'sum', 'meanwhile', 'ididn', 'forget', 'yo', 'ur', 'past', 'effort', 'attempt', 'assist', 'transferring', 'fu', 'nd', 'despite', 'failedus', 'contact', 'secretar', 'cotonou', 'benin', 'republic', 'hisname', 'mr', 'shikes', 'umahand', 'email', 'secre', 'taryshikesuperstar', 'yahoo', 'ca', 'ask', 'send', 'total', 'kept', 'past', 'effort', 'attem', 'pt', 'toassist', 'matter', 'appreciated', 'effort', 'atthat', 'time', 'ver', 'much', 'feel', 'free', 'get', 'intouchedwith', 'secretaryshikes', 'umah', 'instruct', 'sendthe', 'amount', 'please', 'le', 'know', 'immediately', 'receive', 'sothat', 'share', 'joy', 'al', 'sufferness', 'time', 'moment', 'busy', 'becauseof', 'investment', 'project', 'new', 'partner', 'hand', 'finally', 'remember', 'ihad', 'forwarded', 'instruction', 'secretary', 'behalf', 'receive', 'money', 'feel', 'free', 'et', 'intouch', 'mr', 'shikes', 'umah', 'send', 'amount', 'delay', 'thanks', 'god', 'bless', 'shikes', 'umah', 'mikejames', 'james']",
         "0",
         "1",
         "119"
        ]
       ],
       "shape": {
        "columns": 7,
        "rows": 5
       }
      },
      "text/html": [
       "<div>\n",
       "<style scoped>\n",
       "    .dataframe tbody tr th:only-of-type {\n",
       "        vertical-align: middle;\n",
       "    }\n",
       "\n",
       "    .dataframe tbody tr th {\n",
       "        vertical-align: top;\n",
       "    }\n",
       "\n",
       "    .dataframe thead th {\n",
       "        text-align: right;\n",
       "    }\n",
       "</style>\n",
       "<table border=\"1\" class=\"dataframe\">\n",
       "  <thead>\n",
       "    <tr style=\"text-align: right;\">\n",
       "      <th></th>\n",
       "      <th>text</th>\n",
       "      <th>predicted_label</th>\n",
       "      <th>clean_text</th>\n",
       "      <th>lemmatized</th>\n",
       "      <th>money_mark</th>\n",
       "      <th>suspicious_words</th>\n",
       "      <th>text_len</th>\n",
       "    </tr>\n",
       "  </thead>\n",
       "  <tbody>\n",
       "    <tr>\n",
       "      <th>0</th>\n",
       "      <td>usiness is for the fact that the deceased man ...</td>\n",
       "      <td>1</td>\n",
       "      <td>usiness fact deceased man foreigner authorized...</td>\n",
       "      <td>[usiness, fact, deceased, man, foreigner, auth...</td>\n",
       "      <td>0</td>\n",
       "      <td>1</td>\n",
       "      <td>108</td>\n",
       "    </tr>\n",
       "    <tr>\n",
       "      <th>1</th>\n",
       "      <td>They are happy to adjust to the afternoon. I a...</td>\n",
       "      <td>0</td>\n",
       "      <td>happy adjust afternoon going suggest pm start ...</td>\n",
       "      <td>[happy, adjust, afternoon, going, suggest, pm,...</td>\n",
       "      <td>0</td>\n",
       "      <td>0</td>\n",
       "      <td>16</td>\n",
       "    </tr>\n",
       "    <tr>\n",
       "      <th>2</th>\n",
       "      <td>Lael Brainard was confirmed 78-19 this afterno...</td>\n",
       "      <td>0</td>\n",
       "      <td>lael brainard confirmed afternoon miguel rodri...</td>\n",
       "      <td>[lael, brainard, confirmed, afternoon, miguel,...</td>\n",
       "      <td>0</td>\n",
       "      <td>0</td>\n",
       "      <td>17</td>\n",
       "    </tr>\n",
       "    <tr>\n",
       "      <th>3</th>\n",
       "      <td>H &lt;hrod17@clintonemail.com&gt;Friday March 26 201...</td>\n",
       "      <td>0</td>\n",
       "      <td>friday march sbwhoeop extended congrats</td>\n",
       "      <td>[friday, march, sbwhoeop, extended, congrats]</td>\n",
       "      <td>0</td>\n",
       "      <td>0</td>\n",
       "      <td>5</td>\n",
       "    </tr>\n",
       "    <tr>\n",
       "      <th>4</th>\n",
       "      <td>n;\"&gt; Dear Good Friend,&lt;br&gt;&lt;br&gt;&lt;br&gt;I am happy t...</td>\n",
       "      <td>1</td>\n",
       "      <td>dear good friend happy inform succe ssin getti...</td>\n",
       "      <td>[dear, good, friend, happy, inform, succe, ssi...</td>\n",
       "      <td>0</td>\n",
       "      <td>1</td>\n",
       "      <td>119</td>\n",
       "    </tr>\n",
       "  </tbody>\n",
       "</table>\n",
       "</div>"
      ],
      "text/plain": [
       "                                                text  predicted_label  \\\n",
       "0  usiness is for the fact that the deceased man ...                1   \n",
       "1  They are happy to adjust to the afternoon. I a...                0   \n",
       "2  Lael Brainard was confirmed 78-19 this afterno...                0   \n",
       "3  H <hrod17@clintonemail.com>Friday March 26 201...                0   \n",
       "4  n;\"> Dear Good Friend,<br><br><br>I am happy t...                1   \n",
       "\n",
       "                                          clean_text  \\\n",
       "0  usiness fact deceased man foreigner authorized...   \n",
       "1  happy adjust afternoon going suggest pm start ...   \n",
       "2  lael brainard confirmed afternoon miguel rodri...   \n",
       "3            friday march sbwhoeop extended congrats   \n",
       "4  dear good friend happy inform succe ssin getti...   \n",
       "\n",
       "                                          lemmatized  money_mark  \\\n",
       "0  [usiness, fact, deceased, man, foreigner, auth...           0   \n",
       "1  [happy, adjust, afternoon, going, suggest, pm,...           0   \n",
       "2  [lael, brainard, confirmed, afternoon, miguel,...           0   \n",
       "3      [friday, march, sbwhoeop, extended, congrats]           0   \n",
       "4  [dear, good, friend, happy, inform, succe, ssi...           0   \n",
       "\n",
       "   suspicious_words  text_len  \n",
       "0                 1       108  \n",
       "1                 0        16  \n",
       "2                 0        17  \n",
       "3                 0         5  \n",
       "4                 1       119  "
      ]
     },
     "execution_count": 103,
     "metadata": {},
     "output_type": "execute_result"
    }
   ],
   "source": [
    "# We add to the original dataframe two additional indicators (money symbols and suspicious words).\n",
    "# money_simbol_list = \"|\".join([\"euro\",\"dollar\",\"pound\",\"€\",\"$\"])\n",
    "# suspicious_words = \"|\".join([\"free\",\"cheap\",\"sex\",\"money\",\"account\",\"bank\",\"fund\",\"transfer\",\"transaction\",\"win\",\"deposit\",\"password\"])\n",
    "\n",
    "# data_train['money_mark'] = data_train['lemmatized'].fillna('').str.contains(money_simbol_list)*1\n",
    "# data_train['suspicious_words'] = data_train['lemmatized'].fillna('').str.contains(suspicious_words)*1\n",
    "# data_train['text_len'] = data_train['lemmatized'].fillna('').apply(lambda x: len(x))\n",
    "\n",
    "# data_test['money_mark'] = data_test['lemmatized'].fillna('').str.contains(money_simbol_list)*1\n",
    "# data_test['suspicious_words'] = data_test['lemmatized'].fillna('').str.contains(suspicious_words)*1\n",
    "# data_test['text_len'] = data_test['lemmatized'].fillna('').apply(lambda x: len(x))\n",
    "\n",
    "# data_train['money_mark'] = data_train['lemmatized'].str.contains(money_simbol_list)*1\n",
    "# data_train['suspicious_words'] = data_train['lemmatized'].str.contains(suspicious_words)*1\n",
    "# data_train['text_len'] = data_train['lemmatized'].apply(lambda x: len(x)) \n",
    "\n",
    "# data_test['money_mark'] = data_test['lemmatized'].str.contains(money_simbol_list)*1\n",
    "# data_test['suspicious_words'] = data_test['lemmatized'].str.contains(suspicious_words)*1\n",
    "# data_test['text_len'] = data_test['lemmatized'].apply(lambda x: len(x)) \n",
    "# Define your keyword lists\n",
    "money_keywords = [\"euro\", \"dollar\", \"pound\", \"€\", \"$\"]\n",
    "suspicious_keywords = [\"free\", \"cheap\", \"sex\", \"money\", \"account\", \"bank\", \"fund\", \"transfer\", \"transaction\", \"win\", \"deposit\", \"password\"]\n",
    "\n",
    "# Functions to check presence in the token list\n",
    "def contains_money(tokens):\n",
    "    if not isinstance(tokens, list):\n",
    "        return 0\n",
    "    return int(any(word in tokens for word in money_keywords))\n",
    "\n",
    "def contains_suspicious(tokens):\n",
    "    if not isinstance(tokens, list):\n",
    "        return 0\n",
    "    return int(any(word in tokens for word in suspicious_keywords))\n",
    "\n",
    "# Apply to train and test\n",
    "data_train['money_mark'] = data_train['lemmatized'].apply(contains_money)\n",
    "data_train['suspicious_words'] = data_train['lemmatized'].apply(contains_suspicious)\n",
    "data_train['text_len'] = data_train['lemmatized'].apply(lambda x: len(x) if isinstance(x, list) else 0)\n",
    "\n",
    "data_test['money_mark'] = data_test['lemmatized'].apply(contains_money)\n",
    "data_test['suspicious_words'] = data_test['lemmatized'].apply(contains_suspicious)\n",
    "data_test['text_len'] = data_test['lemmatized'].apply(lambda x: len(x) if isinstance(x, list) else 0)\n",
    "\n",
    "\n",
    "data_test.head()"
   ]
  },
  {
   "cell_type": "markdown",
   "metadata": {},
   "source": [
    "## How would work the Bag of Words with Count Vectorizer concept?"
   ]
  },
  {
   "cell_type": "code",
   "execution_count": 104,
   "metadata": {},
   "outputs": [],
   "source": [
    "# Your code"
   ]
  },
  {
   "cell_type": "markdown",
   "metadata": {},
   "source": [
    "## TD-IDF\n",
    "\n",
    "- Load the vectorizer\n",
    "\n",
    "- Vectorize all dataset\n",
    "\n",
    "- print the shape of the vetorized dataset"
   ]
  },
  {
   "cell_type": "code",
   "execution_count": 105,
   "metadata": {},
   "outputs": [
    {
     "name": "stdout",
     "output_type": "stream",
     "text": [
      "Training shape: (1000, 21698)\n",
      "Test shape: (1000, 21698)\n"
     ]
    }
   ],
   "source": [
    "# Example: apply to both train and test\n",
    "data_train['joined_text'] = data_train['lemmatized'].apply(lambda tokens: ' '.join(tokens))\n",
    "data_test['joined_text'] = data_test['lemmatized'].apply(lambda tokens: ' '.join(tokens))\n",
    "\n",
    "from sklearn.feature_extraction.text import CountVectorizer\n",
    "\n",
    "# Initialize vectorizer\n",
    "vectorizer = CountVectorizer()\n",
    "\n",
    "# Fit on training data and transform\n",
    "X_train_vectorized = vectorizer.fit_transform(data_train['joined_text'])\n",
    "\n",
    "# Transform test data using the same vectorizer\n",
    "X_test_vectorized = vectorizer.transform(data_test['joined_text'])\n",
    "\n",
    "print(\"Training shape:\", X_train_vectorized.shape)\n",
    "print(\"Test shape:\", X_test_vectorized.shape)\n"
   ]
  },
  {
   "cell_type": "markdown",
   "metadata": {},
   "source": [
    "## And the Train a Classifier?"
   ]
  },
  {
   "cell_type": "code",
   "execution_count": 106,
   "metadata": {},
   "outputs": [
    {
     "data": {
      "application/vnd.microsoft.datawrangler.viewer.v0+json": {
       "columns": [
        {
         "name": "index",
         "rawType": "int64",
         "type": "integer"
        },
        {
         "name": "text",
         "rawType": "object",
         "type": "string"
        },
        {
         "name": "label",
         "rawType": "int64",
         "type": "integer"
        },
        {
         "name": "clean_text",
         "rawType": "object",
         "type": "string"
        },
        {
         "name": "lemmatized",
         "rawType": "object",
         "type": "unknown"
        },
        {
         "name": "money_mark",
         "rawType": "int64",
         "type": "integer"
        },
        {
         "name": "suspicious_words",
         "rawType": "int64",
         "type": "integer"
        },
        {
         "name": "text_len",
         "rawType": "int64",
         "type": "integer"
        },
        {
         "name": "joined_text",
         "rawType": "object",
         "type": "string"
        }
       ],
       "conversionMethod": "pd.DataFrame",
       "ref": "b43864c8-fd83-4034-8a2b-d889115c4439",
       "rows": [
        [
         "0",
         "DEAR SIR, STRICTLY A PRIVATE BUSINESS PROPOSAL I AM MIKE CHUKWU , THE MANAGER, BILLS AND EXCHANGE AT THE FOREIGN REMITTANCE DEPARTMENT OF THE ZENITH INTERNATIONAL BANK PLC. I AM WRITING THIS LETTER TO ASK FOR YOUR SUPPORT AND COOPERATION TO CARRY OUT THIS BUSINESS OPPORTUNITY IN MY DEPARTMENT. WE DISCOVERED AN ABANDONED SUM OF $15,000,000.00 (FIFTEEN MILLION UNITED STATES DOLLARS ONLY) IN AN ACCOUNT THAT BELONGS TO ONE OF OUR FOREIGN CUSTOMERS WHO DIED ALONG WITH HIS ENTIRE FAMILY OF A WIFE AND TWO CHILDREN IN NOVEMBER 1997 IN A PLANE CRASH. SINCE WE HEARD OF HIS DEATH, WE HAVE BEEN EXPECTING HIS NEXT-OF-KIN TO COME OVER AND PUT CLAIMS FOR HIS MONEY AS THE HEIR,BECAUSE WE CANNOT RELEASE THE FUND FROM HIS ACCOUNT UNLESS SOMEONE APPLIES FOR CLAIM AS THE NEXT-OF-KIN TO THE DECEASED AS INDICATED IN OUR BANKING GUIDELINES. UNFORTUNATELY, NEITHER THEIR FAMILY MEMBER NOR DISTANT RELATIVE HAS EVER APPEARED TO CLAIM THE SAID FUND. UPON THIS DISCOVERY,I AND OTHER OFFICIALS IN MY DEPARTMENT HAVE AGREED TO MAKE BUSINESS WITH YOU AND RELEASE THE TOTAL AMOUNT INTO YOUR ACCOUNT AS THE HEIR OF THE FUND SINCE NO ONE CAME FOR IT OR DISCOVERED HE MAINTAINED ACCOUNT WITH OUR BANK, OTHERWISE THE FUND WILL BE RETURNED TO THE BANKS TREASURY AS UNCLAIMED FUND. WE HAVE AGREED THAT OUR RATIO OF SHARING WILL BE AS STATED THUS; 30 % FOR YOU AS FOREIGN PARTNER, 60 % FOR US THE OFFICIALS IN MY DEPARTMENT AND 10% FOR THE SETTLEMENT OF ALL LOCAL AND FOREIGN EXPENCES INCURRED BY US AND YOU DURING THE COURSE OF THIS BUSINESS. UPON THE SUCCESSFUL COMPLETION OF THIS TRANSFER, I AND ONE OF MY COLLEAGUES WILL COME TO YOUR COUNTRY AND MIND OUR SHARE. IT IS FROM OUR 60 % WE INTEND TO IMPORT AGRICULTURAL MACHINERIES INTO MY COUNTRY AS A WAY OF RECYCLING THE FUND. TO COMMENCE THIS TRANSACTION, WE REQUIRE YOU TO IMMEDIATELY INDICATE YOUR INTEREST BY A RETURN E-MAIL AND ENCLOSE YOUR PRIVATE CONTACT TELEPHONE NUMBER, FAX NUMBER FULL NAME AND ADDRESS AND YOUR DESIGNATED BANK COORDINATES TO ENABLE US FILE LETTER OF CLAIM TO THE APPROPRIATE DEPARTMENTS FOR NECESSARY APPROVALS BEFORE THE TRANSFER CAN BE MADE. NOTE ALSO, THIS TRANSACTION MUST BE KEPT STRICTLY CONFIDENTIAL BECAUSE OF IT'S NATURE. I LOOK FORWARD TO RECEIVING YOUR PROMPT RESPONSE. REGARDS, MR. MIKE CHUKWU ZENITH INTERNATIONAL BANK PLC . ",
         "1",
         "dear sir strictly private business proposal mike chukwu manager bills exchange foreign remittance department zenith international bank plc writing letter ask support cooperation carry business opportunity department discovered abandoned sum fifteen million united states dollars account belongs one foreign customers died along entire family wife two children november plane crash since heard death expecting next kin come put claims money heir cannot release fund account unless someone applies claim next kin deceased indicated banking guidelines unfortunately neither family member distant relative ever appeared claim said fund upon discovery officials department agreed make business release total amount account heir fund since one came discovered maintained account bank otherwise fund returned banks treasury unclaimed fund agreed ratio sharing stated thus foreign partner us officials department settlement local foreign expences incurred us course business upon successful completion transfer one colleagues come country mind share intend import agricultural machineries country way recycling fund commence transaction require immediately indicate interest return mail enclose private contact telephone number fax number full name address designated bank coordinates enable us file letter claim appropriate departments necessary approvals transfer made note also transaction must kept strictly confidential nature look forward receiving prompt response regards mr mike chukwu zenith international bank plc",
         "['dear', 'sir', 'strictly', 'private', 'business', 'proposal', 'mike', 'chukwu', 'manager', 'bill', 'exchange', 'foreign', 'remittance', 'department', 'zenith', 'international', 'bank', 'plc', 'writing', 'letter', 'ask', 'support', 'cooperation', 'carry', 'business', 'opportunity', 'department', 'discovered', 'abandoned', 'sum', 'fifteen', 'million', 'united', 'state', 'dollar', 'account', 'belongs', 'one', 'foreign', 'customer', 'died', 'along', 'entire', 'family', 'wife', 'two', 'child', 'november', 'plane', 'crash', 'since', 'heard', 'death', 'expecting', 'next', 'kin', 'come', 'put', 'claim', 'money', 'heir', 'can', 'not', 'release', 'fund', 'account', 'unless', 'someone', 'applies', 'claim', 'next', 'kin', 'deceased', 'indicated', 'banking', 'guideline', 'unfortunately', 'neither', 'family', 'member', 'distant', 'relative', 'ever', 'appeared', 'claim', 'said', 'fund', 'upon', 'discovery', 'official', 'department', 'agreed', 'make', 'business', 'release', 'total', 'amount', 'account', 'heir', 'fund', 'since', 'one', 'came', 'discovered', 'maintained', 'account', 'bank', 'otherwise', 'fund', 'returned', 'bank', 'treasury', 'unclaimed', 'fund', 'agreed', 'ratio', 'sharing', 'stated', 'thus', 'foreign', 'partner', 'u', 'official', 'department', 'settlement', 'local', 'foreign', 'expences', 'incurred', 'u', 'course', 'business', 'upon', 'successful', 'completion', 'transfer', 'one', 'colleague', 'come', 'country', 'mind', 'share', 'intend', 'import', 'agricultural', 'machinery', 'country', 'way', 'recycling', 'fund', 'commence', 'transaction', 'require', 'immediately', 'indicate', 'interest', 'return', 'mail', 'enclose', 'private', 'contact', 'telephone', 'number', 'fax', 'number', 'full', 'name', 'address', 'designated', 'bank', 'coordinate', 'enable', 'u', 'file', 'letter', 'claim', 'appropriate', 'department', 'necessary', 'approval', 'transfer', 'made', 'note', 'also', 'transaction', 'must', 'kept', 'strictly', 'confidential', 'nature', 'look', 'forward', 'receiving', 'prompt', 'response', 'regard', 'mr', 'mike', 'chukwu', 'zenith', 'international', 'bank', 'plc']",
         "1",
         "1",
         "203",
         "dear sir strictly private business proposal mike chukwu manager bill exchange foreign remittance department zenith international bank plc writing letter ask support cooperation carry business opportunity department discovered abandoned sum fifteen million united state dollar account belongs one foreign customer died along entire family wife two child november plane crash since heard death expecting next kin come put claim money heir can not release fund account unless someone applies claim next kin deceased indicated banking guideline unfortunately neither family member distant relative ever appeared claim said fund upon discovery official department agreed make business release total amount account heir fund since one came discovered maintained account bank otherwise fund returned bank treasury unclaimed fund agreed ratio sharing stated thus foreign partner u official department settlement local foreign expences incurred u course business upon successful completion transfer one colleague come country mind share intend import agricultural machinery country way recycling fund commence transaction require immediately indicate interest return mail enclose private contact telephone number fax number full name address designated bank coordinate enable u file letter claim appropriate department necessary approval transfer made note also transaction must kept strictly confidential nature look forward receiving prompt response regard mr mike chukwu zenith international bank plc"
        ],
        [
         "1",
         "Will do.",
         "0",
         "",
         "[]",
         "0",
         "0",
         "0",
         ""
        ],
        [
         "2",
         "Nora--Cheryl has emailed dozens of memos about Haiti to me this weekend. Can you please print them and organize them inchrono order for me for my trip tomorrow or send to Lauren so she can do? Thx.",
         "0",
         "nora cheryl emailed dozens memos haiti weekend please print organize inchrono order trip tomorrow send lauren thx",
         "['nora', 'cheryl', 'emailed', 'dozen', 'memo', 'haiti', 'weekend', 'please', 'print', 'organize', 'inchrono', 'order', 'trip', 'tomorrow', 'send', 'lauren', 'thx']",
         "0",
         "0",
         "17",
         "nora cheryl emailed dozen memo haiti weekend please print organize inchrono order trip tomorrow send lauren thx"
        ],
        [
         "3",
         "Dear Sir=2FMadam=2C I know that this proposal might be a surprise to you but it as an emergency=2EIn a nutshell=2C I am MR=2EP=2E ZUMA=2C from the republic of South-Africa=2C now seeking for refuge in Dakar Senegal under the=28UNHCR=29=2E   I got your contact during a desperate search here in Dakar for a possible transaction=2E My =28late=29 father DR=2E ZUMA KENT WILLIAMS=2C he was the managing director of Gold Mine company in SOUTH AFRICA=2E But he was assinated by his business assoicate and all his properties was totally destroyed by his elder brother=2E   Who alway hate to see me and my mother with his eye's=2C that man very wicked that is why i and my mother managed to escape with some of my father's documents covering $18=2E3 Million dollars which is presently deposited safely in a finance firm on my name as the next of kin=2E Meanwhile=2Cwe are saddled with the problem of securing a trust-worthy foriegn personality to help us transfer the money over to his country and into his possession pending our arrival to meet with him=2E   Furthermore=2Cwe only want this done this way because your country is politically stable for any profitable investment and only if you accept our proposal=2C you will serve as the beneficiary of the fund on commencement of this proposed transactions=2E I am giving you the offers as mentioned with every confidence on your acceptance to assist us=2C we have decided to invest 40% of the total fund based on equity participation in your company=2E   Secondly=2C we shall also take 5% out for any miscelleneous expenses that may occure=2E Conclusively=2C i wish you send me a reply immediately as soon as yourecieve this proposal so that we shall arrange on how to lift this consignment out of Dakar Senegal to your country=2E On commencement=2Cthis transaction will take nothing less than 14 working days to be accomplished=2E All documents covering the fund are safe and intact=2E i remain with the best regards=2E   Please kindly responce to this Alternative E-mail =3A p=5Fzuma1976=40walla=2Ecom Please call urgently to speak with me and my mother on this our direct telephone number =28 00 221 649 67 68  =29 Thanks yours=2C  Mr Prince Zuma=2E ",
         "1",
         "dear sir fmadam know proposal might surprise emergency ein nutshell mr ep zuma republic south africa seeking refuge dakar senegal unhcr got contact desperate search dakar possible transaction late father dr zuma kent williams managing director gold mine company south africa assinated business assoicate properties totally destroyed elder brother alway hate see mother eye c man wicked mother managed escape father documents covering million dollars presently deposited safely finance firm name next kin meanwhile cwe saddled problem securing trust worthy foriegn personality help us transfer money country possession pending arrival meet furthermore cwe want done way country politically stable profitable investment accept proposal serve beneficiary fund commencement proposed transactions giving offers mentioned every confidence acceptance assist us decided invest total fund based equity participation company secondly shall also take miscelleneous expenses may occure conclusively wish send reply immediately soon yourecieve proposal shall arrange lift consignment dakar senegal country commencement cthis transaction take nothing less working days accomplished documents covering fund safe intact remain best regards please kindly responce alternative mail p fzuma walla ecom please call urgently speak mother direct telephone number thanks mr prince zuma",
         "['dear', 'sir', 'fmadam', 'know', 'proposal', 'might', 'surprise', 'emergency', 'ein', 'nutshell', 'mr', 'ep', 'zuma', 'republic', 'south', 'africa', 'seeking', 'refuge', 'dakar', 'senegal', 'unhcr', 'got', 'contact', 'desperate', 'search', 'dakar', 'possible', 'transaction', 'late', 'father', 'dr', 'zuma', 'kent', 'williams', 'managing', 'director', 'gold', 'mine', 'company', 'south', 'africa', 'assinated', 'business', 'assoicate', 'property', 'totally', 'destroyed', 'elder', 'brother', 'alway', 'hate', 'see', 'mother', 'eye', 'c', 'man', 'wicked', 'mother', 'managed', 'escape', 'father', 'document', 'covering', 'million', 'dollar', 'presently', 'deposited', 'safely', 'finance', 'firm', 'name', 'next', 'kin', 'meanwhile', 'cwe', 'saddled', 'problem', 'securing', 'trust', 'worthy', 'foriegn', 'personality', 'help', 'u', 'transfer', 'money', 'country', 'possession', 'pending', 'arrival', 'meet', 'furthermore', 'cwe', 'want', 'done', 'way', 'country', 'politically', 'stable', 'profitable', 'investment', 'accept', 'proposal', 'serve', 'beneficiary', 'fund', 'commencement', 'proposed', 'transaction', 'giving', 'offer', 'mentioned', 'every', 'confidence', 'acceptance', 'assist', 'u', 'decided', 'invest', 'total', 'fund', 'based', 'equity', 'participation', 'company', 'secondly', 'shall', 'also', 'take', 'miscelleneous', 'expense', 'may', 'occure', 'conclusively', 'wish', 'send', 'reply', 'immediately', 'soon', 'yourecieve', 'proposal', 'shall', 'arrange', 'lift', 'consignment', 'dakar', 'senegal', 'country', 'commencement', 'cthis', 'transaction', 'take', 'nothing', 'less', 'working', 'day', 'accomplished', 'document', 'covering', 'fund', 'safe', 'intact', 'remain', 'best', 'regard', 'please', 'kindly', 'responce', 'alternative', 'mail', 'p', 'fzuma', 'walla', 'ecom', 'please', 'call', 'urgently', 'speak', 'mother', 'direct', 'telephone', 'number', 'thanks', 'mr', 'prince', 'zuma']",
         "1",
         "1",
         "186",
         "dear sir fmadam know proposal might surprise emergency ein nutshell mr ep zuma republic south africa seeking refuge dakar senegal unhcr got contact desperate search dakar possible transaction late father dr zuma kent williams managing director gold mine company south africa assinated business assoicate property totally destroyed elder brother alway hate see mother eye c man wicked mother managed escape father document covering million dollar presently deposited safely finance firm name next kin meanwhile cwe saddled problem securing trust worthy foriegn personality help u transfer money country possession pending arrival meet furthermore cwe want done way country politically stable profitable investment accept proposal serve beneficiary fund commencement proposed transaction giving offer mentioned every confidence acceptance assist u decided invest total fund based equity participation company secondly shall also take miscelleneous expense may occure conclusively wish send reply immediately soon yourecieve proposal shall arrange lift consignment dakar senegal country commencement cthis transaction take nothing less working day accomplished document covering fund safe intact remain best regard please kindly responce alternative mail p fzuma walla ecom please call urgently speak mother direct telephone number thanks mr prince zuma"
        ],
        [
         "4",
         "fyi",
         "0",
         "fyi",
         "['fyi']",
         "0",
         "0",
         "1",
         "fyi"
        ],
        [
         "5",
         "sure -- bottom line - you need a special security code to get on line from a computer outside the building. Only 1 in 5 ofour employees has gotten the device (fob) that allows you to do this access.This effort is making sure they get fobs into the hands of more (or all) employees so folks can work from home therebyincreasing productivity substantially since the 4 in 5 essentially do no work from home once they leave the building untilthey get in again b/c they don't have access to their email.cdm",
         "0",
         "sure bottom line need special security code get line computer outside building ofour employees gotten device fob allows access effort making sure get fobs hands employees folks work home therebyincreasing productivity substantially since essentially work home leave building untilthey get c access email cdm",
         "['sure', 'bottom', 'line', 'need', 'special', 'security', 'code', 'get', 'line', 'computer', 'outside', 'building', 'ofour', 'employee', 'gotten', 'device', 'fob', 'allows', 'access', 'effort', 'making', 'sure', 'get', 'fob', 'hand', 'employee', 'folk', 'work', 'home', 'therebyincreasing', 'productivity', 'substantially', 'since', 'essentially', 'work', 'home', 'leave', 'building', 'untilthey', 'get', 'c', 'access', 'email', 'cdm']",
         "0",
         "0",
         "44",
         "sure bottom line need special security code get line computer outside building ofour employee gotten device fob allows access effort making sure get fob hand employee folk work home therebyincreasing productivity substantially since essentially work home leave building untilthey get c access email cdm"
        ],
        [
         "6",
         "Dear Sir,I am Engr. Ugo Nzego with the Engineering Stores Department of the Federal Ministry of Agriculture and Natural Resources and member of Tenders Board. We have urgent need for a trustworthy foreign contact person with whom we can carry out a successful business deal.Federal Government has voted the sum of US$1.86 Billion for Local Production of food crops. The Government has also considered the impact of the importation of some food items like Rice, Beans, Frozen Chicken and Turkeys and other food stuffs on the Nations Foreign Reserve and have banned the importation of the items that could be produced locally. As a result, the Federal Ministry of Agriculture and Natural Resources has been mandated to import Agricultural Equipments for supply to Local Farmers both at SUBSISTENT AND COMMERCIAL level to encourage them to produce enough food items for local consumption and for export to other African Countries. We have already started awarding new contracts for supply of the equipments to successful bidders.We want you to submit to us immediately your complete company name, address, your name as President or Managing Director / CEO of the company, your banking particulars:- (banks name address, telephone,fax and telex numbers. Your receiving number, swift and routing numbers), with these informations, we can get you properly registered as one of the contractors of FMANR who has already been awarded part of this contract for the sum of US$113.4 Million to supply some of the Agricultural Equipments parts of which we already have in our custody (stores).After receiving the above needed and stated information from you, we will process all the documentation and submit them for immediate approvals and the Federal Government will pay 25% of US$113.4 Million into your nominated bank account in the name of your company as the beneficiary, which is US$28.35M . In no time, the remaining US$85,050,000.00 Million shall be paid as balance payment or we together in agreement as partners will use another foreign firm's name that will carry out the supply of the remaining equipments as a sub-contractor to you in our documentation to receive this balance payment.We shall come to your country immediately this fund is in your account to share the US$28.35 Million. The sharing pattern should be negotiated by both parties concerned.However, be rest assured that no risk is involved or any scandal in the future, for we have done all our homework very well, nobody will be hurt during and after this transaction. It may also please you to knowthat all the GOODS that cover the 25% payment are on record, only us that are key members of the contract board committee has this knowledge and information. There is the serious need to keep this transactionsecret and very confidential. To that effect, I would require your private phone and fax numbers for easy and confidential communication. I await  your immediate response to this Proposal. Meanwhile, I look forward to establishing life long business relationship with you.The  nature of your company or business does not necessarily have to be Agriculturally related but ownership of a company is a criterium for the project.Please reply immediately through this fax number 234-9-2726567. As soon as I receive your fax, I will call you on phone for detailed discussion.Best regards,Engr. Ugo Nzego.",
         "1",
         "dear sir engr ugo nzego engineering stores department federal ministry agriculture natural resources member tenders board urgent need trustworthy foreign contact person carry successful business deal federal government voted sum us billion local production food crops government also considered impact importation food items like rice beans frozen chicken turkeys food stuffs nations foreign reserve banned importation items could produced locally result federal ministry agriculture natural resources mandated import agricultural equipments supply local farmers subsistent commercial level encourage produce enough food items local consumption export african countries already started awarding new contracts supply equipments successful bidders want submit us immediately complete company name address name president managing director ceo company banking particulars banks name address telephone fax telex numbers receiving number swift routing numbers informations get properly registered one contractors fmanr already awarded part contract sum us million supply agricultural equipments parts already custody stores receiving needed stated information process documentation submit immediate approvals federal government pay us million nominated bank account name company beneficiary us time remaining us million shall paid balance payment together agreement partners use another foreign firm name carry supply remaining equipments sub contractor documentation receive balance payment shall come country immediately fund account share us million sharing pattern negotiated parties concerned however rest assured risk involved scandal future done homework well nobody hurt transaction may also please knowthat goods cover payment record us key members contract board committee knowledge information serious need keep transactionsecret confidential effect would require private phone fax numbers easy confidential communication await immediate response proposal meanwhile look forward establishing life long business relationship nature company business necessarily agriculturally related ownership company criterium project please reply immediately fax number soon receive fax call phone detailed discussion best regards engr ugo nzego",
         "['dear', 'sir', 'engr', 'ugo', 'nzego', 'engineering', 'store', 'department', 'federal', 'ministry', 'agriculture', 'natural', 'resource', 'member', 'tender', 'board', 'urgent', 'need', 'trustworthy', 'foreign', 'contact', 'person', 'carry', 'successful', 'business', 'deal', 'federal', 'government', 'voted', 'sum', 'u', 'billion', 'local', 'production', 'food', 'crop', 'government', 'also', 'considered', 'impact', 'importation', 'food', 'item', 'like', 'rice', 'bean', 'frozen', 'chicken', 'turkey', 'food', 'stuff', 'nation', 'foreign', 'reserve', 'banned', 'importation', 'item', 'could', 'produced', 'locally', 'result', 'federal', 'ministry', 'agriculture', 'natural', 'resource', 'mandated', 'import', 'agricultural', 'equipment', 'supply', 'local', 'farmer', 'subsistent', 'commercial', 'level', 'encourage', 'produce', 'enough', 'food', 'item', 'local', 'consumption', 'export', 'african', 'country', 'already', 'started', 'awarding', 'new', 'contract', 'supply', 'equipment', 'successful', 'bidder', 'want', 'submit', 'u', 'immediately', 'complete', 'company', 'name', 'address', 'name', 'president', 'managing', 'director', 'ceo', 'company', 'banking', 'particular', 'bank', 'name', 'address', 'telephone', 'fax', 'telex', 'number', 'receiving', 'number', 'swift', 'routing', 'number', 'information', 'get', 'properly', 'registered', 'one', 'contractor', 'fmanr', 'already', 'awarded', 'part', 'contract', 'sum', 'u', 'million', 'supply', 'agricultural', 'equipment', 'part', 'already', 'custody', 'store', 'receiving', 'needed', 'stated', 'information', 'process', 'documentation', 'submit', 'immediate', 'approval', 'federal', 'government', 'pay', 'u', 'million', 'nominated', 'bank', 'account', 'name', 'company', 'beneficiary', 'u', 'time', 'remaining', 'u', 'million', 'shall', 'paid', 'balance', 'payment', 'together', 'agreement', 'partner', 'use', 'another', 'foreign', 'firm', 'name', 'carry', 'supply', 'remaining', 'equipment', 'sub', 'contractor', 'documentation', 'receive', 'balance', 'payment', 'shall', 'come', 'country', 'immediately', 'fund', 'account', 'share', 'u', 'million', 'sharing', 'pattern', 'negotiated', 'party', 'concerned', 'however', 'rest', 'assured', 'risk', 'involved', 'scandal', 'future', 'done', 'homework', 'well', 'nobody', 'hurt', 'transaction', 'may', 'also', 'please', 'knowthat', 'good', 'cover', 'payment', 'record', 'u', 'key', 'member', 'contract', 'board', 'committee', 'knowledge', 'information', 'serious', 'need', 'keep', 'transactionsecret', 'confidential', 'effect', 'would', 'require', 'private', 'phone', 'fax', 'number', 'easy', 'confidential', 'communication', 'await', 'immediate', 'response', 'proposal', 'meanwhile', 'look', 'forward', 'establishing', 'life', 'long', 'business', 'relationship', 'nature', 'company', 'business', 'necessarily', 'agriculturally', 'related', 'ownership', 'company', 'criterium', 'project', 'please', 'reply', 'immediately', 'fax', 'number', 'soon', 'receive', 'fax', 'call', 'phone', 'detailed', 'discussion', 'best', 'regard', 'engr', 'ugo', 'nzego']",
         "0",
         "1",
         "288",
         "dear sir engr ugo nzego engineering store department federal ministry agriculture natural resource member tender board urgent need trustworthy foreign contact person carry successful business deal federal government voted sum u billion local production food crop government also considered impact importation food item like rice bean frozen chicken turkey food stuff nation foreign reserve banned importation item could produced locally result federal ministry agriculture natural resource mandated import agricultural equipment supply local farmer subsistent commercial level encourage produce enough food item local consumption export african country already started awarding new contract supply equipment successful bidder want submit u immediately complete company name address name president managing director ceo company banking particular bank name address telephone fax telex number receiving number swift routing number information get properly registered one contractor fmanr already awarded part contract sum u million supply agricultural equipment part already custody store receiving needed stated information process documentation submit immediate approval federal government pay u million nominated bank account name company beneficiary u time remaining u million shall paid balance payment together agreement partner use another foreign firm name carry supply remaining equipment sub contractor documentation receive balance payment shall come country immediately fund account share u million sharing pattern negotiated party concerned however rest assured risk involved scandal future done homework well nobody hurt transaction may also please knowthat good cover payment record u key member contract board committee knowledge information serious need keep transactionsecret confidential effect would require private phone fax number easy confidential communication await immediate response proposal meanwhile look forward establishing life long business relationship nature company business necessarily agriculturally related ownership company criterium project please reply immediately fax number soon receive fax call phone detailed discussion best regard engr ugo nzego"
        ],
        [
         "7",
         "Abedin Huma <AbedinH@state.gov>Saturday November 28 2009 5:14 PMHFw: Quint fmsI'm going topropose separate bilats with relevant countries. You ok with proceeding that way?",
         "0",
         "abedin huma saturday november pmhfw quint fmsi going topropose separate bilats relevant countries ok proceeding way",
         "['abedin', 'huma', 'saturday', 'november', 'pmhfw', 'quint', 'fmsi', 'going', 'topropose', 'separate', 'bilats', 'relevant', 'country', 'ok', 'proceeding', 'way']",
         "0",
         "0",
         "16",
         "abedin huma saturday november pmhfw quint fmsi going topropose separate bilats relevant country ok proceeding way"
        ],
        [
         "8",
         "There is an Oct 16th George Marshall event at the Department. Do we have it on tentative calendar?Have we scheduled a Sept event for all the groups doing econ and other work w Palestinians? Mara Rudman is workingon it for Mitchell.Starting in Sept I want to have a weekly lunch/mtg w Steinberg and one w the undersecs. I also want to schedule forearly Sept hour mtgs w each bureau to dscuss priorities.When can I visit FSI?",
         "0",
         "oct th george marshall event department tentative calendar scheduled sept event groups econ work palestinians mara rudman workingon mitchell starting sept want weekly lunch mtg steinberg one undersecs also want schedule forearly sept hour mtgs bureau dscuss priorities visit fsi",
         "['oct', 'th', 'george', 'marshall', 'event', 'department', 'tentative', 'calendar', 'scheduled', 'sept', 'event', 'group', 'econ', 'work', 'palestinian', 'mara', 'rudman', 'workingon', 'mitchell', 'starting', 'sept', 'want', 'weekly', 'lunch', 'mtg', 'steinberg', 'one', 'undersecs', 'also', 'want', 'schedule', 'forearly', 'sept', 'hour', 'mtgs', 'bureau', 'dscuss', 'priority', 'visit', 'fsi']",
         "0",
         "0",
         "40",
         "oct th george marshall event department tentative calendar scheduled sept event group econ work palestinian mara rudman workingon mitchell starting sept want weekly lunch mtg steinberg one undersecs also want schedule forearly sept hour mtgs bureau dscuss priority visit fsi"
        ],
        [
         "9",
         "<P>1 25% for you as the account owner <BR>2 65% for I and my colleagues<BR>=3 10% will be set aside to defray all incidental <BR>expenses both locally =and internationally during the<BR>course of this transaction.</P><P>Furthermore, we shall be coming over to your country when<BR>the money i=s finally in your account and we shall be relying<BR>on your advise as rega=rds to investment of our share. Be<BR>informed that, this business is genui=ne and 100% safe<BR>considering the high powered government officials invol=ved.</P><P>Send by mail the following informations:-</P><P>1, YOUR COMPANY NAME AND ADDRESS, BANK NAME, ADDRESS<BR>AND ACCOUNT NUMB=ER.</P><P>2, YOUR TELEPHONE AND FAX NUMBER FOR EFFECTIVE<BR>COMMUNICATION. <BR>Thi=s is to effect the swift Transfer of this fund into your<BR>account in less= than Seven (7) working days.</P><P>Expecting your immediate response while<BR>looking forward to a healthy =business relationship<BR>with you.</P><P>Yours faithfully,</P><P>OLUFEMI WILLIAMS</P><BR> <span style=3D'color:#000000;font-family:arial;= font-size:10pt;'>Freeserve AnyTime - HALF PRICE for the first 3 months - S=ave =A37.50 a month <br><a href=3D'http://www.freeserve.com/anytime' style==3D'color:#0000FF; font-family:arial; font-size:10pt;' TARGET=3D'_blank'>ww=w.freeserve.com/anytime</a></span>------=_Part_26067_4664911.1074038447746--",
         "1",
         "account owner colleagues set aside defray incidental expenses locally internationally course transaction furthermore shall coming country money finally account shall relying advise rega rds investment share informed business genui ne safe considering high powered government officials invol ved send mail following informations company name address bank name address account numb er telephone fax number effective communication thi effect swift transfer fund account less seven working days expecting immediate response looking forward healthy business relationship faithfully olufemi williams freeserve anytime half price first months ave month ww freeserve com anytime part",
         "['account', 'owner', 'colleague', 'set', 'aside', 'defray', 'incidental', 'expense', 'locally', 'internationally', 'course', 'transaction', 'furthermore', 'shall', 'coming', 'country', 'money', 'finally', 'account', 'shall', 'relying', 'advise', 'rega', 'rds', 'investment', 'share', 'informed', 'business', 'genui', 'ne', 'safe', 'considering', 'high', 'powered', 'government', 'official', 'invol', 'ved', 'send', 'mail', 'following', 'information', 'company', 'name', 'address', 'bank', 'name', 'address', 'account', 'numb', 'er', 'telephone', 'fax', 'number', 'effective', 'communication', 'thi', 'effect', 'swift', 'transfer', 'fund', 'account', 'less', 'seven', 'working', 'day', 'expecting', 'immediate', 'response', 'looking', 'forward', 'healthy', 'business', 'relationship', 'faithfully', 'olufemi', 'williams', 'freeserve', 'anytime', 'half', 'price', 'first', 'month', 'ave', 'month', 'ww', 'freeserve', 'com', 'anytime', 'part']",
         "0",
         "1",
         "90",
         "account owner colleague set aside defray incidental expense locally internationally course transaction furthermore shall coming country money finally account shall relying advise rega rds investment share informed business genui ne safe considering high powered government official invol ved send mail following information company name address bank name address account numb er telephone fax number effective communication thi effect swift transfer fund account less seven working day expecting immediate response looking forward healthy business relationship faithfully olufemi williams freeserve anytime half price first month ave month ww freeserve com anytime part"
        ],
        [
         "10",
         "STRONG><A href=3D\"http://www.cnn.com/2003/WORLD/africa/07/20/kenya.crash/in=dex.html\" target=3D_blank rel=3Dnofollow><SPAN id=3Dlw_1186747716_3><U><FON=T color=3D#003399><STRONG>http://www.cnn.com/2003/WORLD/africa/07/20/kenya.=crash/index.html</STRONG></FONT></U></SPAN></A><BR><STRONG>It is therefore =upon this discovery that I now decided to make this business <BR>proposal t=o you and release the money to you as the next of kin or relation <BR>to th=e deceased for safety and subsequent disbursement since nobody is <BR>comin=g for it and I don't want this money to go into the bank treasury as <BR>un=claimed bill.<BR>I agree that 40% of this money will be for you as a foreig=n partner, in <BR>respect to the provision of a foriegn account, and 60% wo=uld be for me, <BR>There after I will visit your country for disbursement a=ccording to the <BR>percentage indicated.<BR>Therefore, to enable the immed=iate transfer of this fund to you as <BR>arranged,youmust apply first to th=e bank as relation or next of kin of the <BR>deceasedindicatingyour bank na=me, your bank account number, your private <BR>telephone andfax number for =easy and effective communication and location <BR>wherein the money will be=remitted.Upon the receipt of your reply,<BR>I will send to you by fax or em=ail the text of the application to fill and <BR>send to the bank. I will no=t fail to bring to your notice that this <BR>transaction is 100% Risk free =and you should keep this transaction top secret.<BR>I know what to do and m=ove the fund into your account without any delay and <BR>that you should no=t entertain any atom of fear as all required arrangements <BR>have been mad=e for the transfer.<BR>You should contact me as soon as you receive this le=tter .<BR>Yours faithfully.<BR>Mr&nbsp; kanazoe alidaa.<BR>Bill &amp; Excha=nge Manager,<BR>BANK OF AFRICA (B.O.A)<BR></STRONG><br /><hr />Appelez vos =amis de PC =E0 PC -- C'EST GRATUIT <a href=3D'http://get.live.com/messenger=/overview' target=3D'_new'>Essayez-le maintenant !</a></body></html>=--_87f05796-c97b-4aa4-b2c9-df6569033462_--",
         "1",
         "strong http www cnn com world africa kenya crash index html therefore upon discovery decided make business proposal release money next kin relation th deceased safety subsequent disbursement since nobody comin want money go bank treasury un claimed bill agree money foreig partner respect provision foriegn account wo uld visit country disbursement ccording percentage indicated therefore enable immed iate transfer fund arranged youmust apply first th bank relation next kin deceasedindicatingyour bank na bank account number private telephone andfax number easy effective communication location wherein money remitted upon receipt reply send fax em ail text application fill send bank fail bring notice transaction risk free keep transaction top secret know ove fund account without delay entertain atom fear required arrangements mad transfer contact soon receive le tter faithfully mr kanazoe alidaa bill excha nge manager bank africa appelez vos amis de pc pc est gratuit essayez le maintenant cb aa bc df",
         "['strong', 'http', 'www', 'cnn', 'com', 'world', 'africa', 'kenya', 'crash', 'index', 'html', 'therefore', 'upon', 'discovery', 'decided', 'make', 'business', 'proposal', 'release', 'money', 'next', 'kin', 'relation', 'th', 'deceased', 'safety', 'subsequent', 'disbursement', 'since', 'nobody', 'comin', 'want', 'money', 'go', 'bank', 'treasury', 'un', 'claimed', 'bill', 'agree', 'money', 'foreig', 'partner', 'respect', 'provision', 'foriegn', 'account', 'wo', 'uld', 'visit', 'country', 'disbursement', 'ccording', 'percentage', 'indicated', 'therefore', 'enable', 'immed', 'iate', 'transfer', 'fund', 'arranged', 'youmust', 'apply', 'first', 'th', 'bank', 'relation', 'next', 'kin', 'deceasedindicatingyour', 'bank', 'na', 'bank', 'account', 'number', 'private', 'telephone', 'andfax', 'number', 'easy', 'effective', 'communication', 'location', 'wherein', 'money', 'remitted', 'upon', 'receipt', 'reply', 'send', 'fax', 'em', 'ail', 'text', 'application', 'fill', 'send', 'bank', 'fail', 'bring', 'notice', 'transaction', 'risk', 'free', 'keep', 'transaction', 'top', 'secret', 'know', 'ove', 'fund', 'account', 'without', 'delay', 'entertain', 'atom', 'fear', 'required', 'arrangement', 'mad', 'transfer', 'contact', 'soon', 'receive', 'le', 'tter', 'faithfully', 'mr', 'kanazoe', 'alidaa', 'bill', 'excha', 'nge', 'manager', 'bank', 'africa', 'appelez', 'vos', 'amis', 'de', 'pc', 'pc', 'est', 'gratuit', 'essayez', 'le', 'maintenant', 'cb', 'aa', 'bc', 'df']",
         "0",
         "1",
         "152",
         "strong http www cnn com world africa kenya crash index html therefore upon discovery decided make business proposal release money next kin relation th deceased safety subsequent disbursement since nobody comin want money go bank treasury un claimed bill agree money foreig partner respect provision foriegn account wo uld visit country disbursement ccording percentage indicated therefore enable immed iate transfer fund arranged youmust apply first th bank relation next kin deceasedindicatingyour bank na bank account number private telephone andfax number easy effective communication location wherein money remitted upon receipt reply send fax em ail text application fill send bank fail bring notice transaction risk free keep transaction top secret know ove fund account without delay entertain atom fear required arrangement mad transfer contact soon receive le tter faithfully mr kanazoe alidaa bill excha nge manager bank africa appelez vos amis de pc pc est gratuit essayez le maintenant cb aa bc df"
        ],
        [
         "11",
         "Dear Friend,My name is Edward Moore QC.Principal partner Edward Moore & AssociatesLondon UK and I was compelled by my late client's request to contact youon a matter of great financial reward.My client late Hassan Zahrul(Malaysian by Birth) ,an Industrialist and Real Estate Guru died recentlyleaving a vast wealth in your name as his \"Next of Kin\".Do contact me immediately via my Direct Telephone:+44-7045705184 or betterstill send me an email to my direct email address as below stated forimmediate action on this matter.Email:edward.moore20@yahoo.co.ukI expect your immediate response and call and also let me have your directtelephone and mobile lines so i can call you as well.This matter demandsurgent action and i urge you to make this possible.Awaiting your response.Edward Moore Q.CPrincipal PartnerEdward Moore & AssociatesDirect Telephone:+44-7045705184",
         "1",
         "dear friend name edward moore qc principal partner edward moore associateslondon uk compelled late client request contact youon matter great financial reward client late hassan zahrul malaysian birth industrialist real estate guru died recentlyleaving vast wealth name next kin contact immediately via direct telephone betterstill send email direct email address stated forimmediate action matter email edward moore yahoo co uki expect immediate response call also let directtelephone mobile lines call well matter demandsurgent action urge make possible awaiting response edward moore cprincipal partneredward moore associatesdirect telephone",
         "['dear', 'friend', 'name', 'edward', 'moore', 'qc', 'principal', 'partner', 'edward', 'moore', 'associateslondon', 'uk', 'compelled', 'late', 'client', 'request', 'contact', 'youon', 'matter', 'great', 'financial', 'reward', 'client', 'late', 'hassan', 'zahrul', 'malaysian', 'birth', 'industrialist', 'real', 'estate', 'guru', 'died', 'recentlyleaving', 'vast', 'wealth', 'name', 'next', 'kin', 'contact', 'immediately', 'via', 'direct', 'telephone', 'betterstill', 'send', 'email', 'direct', 'email', 'address', 'stated', 'forimmediate', 'action', 'matter', 'email', 'edward', 'moore', 'yahoo', 'co', 'uki', 'expect', 'immediate', 'response', 'call', 'also', 'let', 'directtelephone', 'mobile', 'line', 'call', 'well', 'matter', 'demandsurgent', 'action', 'urge', 'make', 'possible', 'awaiting', 'response', 'edward', 'moore', 'cprincipal', 'partneredward', 'moore', 'associatesdirect', 'telephone']",
         "0",
         "0",
         "86",
         "dear friend name edward moore qc principal partner edward moore associateslondon uk compelled late client request contact youon matter great financial reward client late hassan zahrul malaysian birth industrialist real estate guru died recentlyleaving vast wealth name next kin contact immediately via direct telephone betterstill send email direct email address stated forimmediate action matter email edward moore yahoo co uki expect immediate response call also let directtelephone mobile line call well matter demandsurgent action urge make possible awaiting response edward moore cprincipal partneredward moore associatesdirect telephone"
        ],
        [
         "12",
         "Compliment, How are you doing today, Hope you have not forgotten me? I am Dr.Mr MichaelHoward,the man from Nigeria who contacted you some time ago to assist mesecure the release of some money accrued from the over Invoicing of a contract/inheritancethat was awarded by my (Government) some time ago during the military regime.Though you were not able to assist me conclude the transaction, I'm happyto inform you about my success in getting those funds transfered under theassistance and co-operation of a new partner from Brazil.Presently I'm inNetherlands for investment projects with my own share of the total sum. meanwhile, i didn't forget your past efforts and attempts to assist me intransferring those funds, I made sure you are not left out the benefit ofthe transaction hence I kept aside for you the sum of five Hundred ThousandUnited States Dollars.($500,000.00)Draft, the compensation also go for thegood work of God meaning for the orphans and disable in your country Pleasetake good care of them and the poor in needs also. I and my new partner agreed to compensate you with that amount for all yourpast efforts and attempts to assist me in this matter. I appreciate yourefforts at that time very much,so feel free and get in touch with my secretaryMr.Steven Chapman and instruct him on how to send the Bank draft to you.Please do let me know immediately you receive the Draft so that we can sharethe joy together after all the sufferings at that time. In the moment, I'mvery busy here because of the investment projects which me and my partnerare having at hands, finally,remember that i had left instruction to my secretaryso as soon as you contact him, he will send the Draft to you,so feel freeto get in touch with MY SECRETARY NOW. ",
         "1",
         "compliment today hope forgotten dr mr michaelhoward man nigeria contacted time ago assist mesecure release money accrued invoicing contract inheritancethat awarded government time ago military regime though able assist conclude transaction happyto inform success getting funds transfered theassistance co operation new partner brazil presently innetherlands investment projects share total sum meanwhile forget past efforts attempts assist intransferring funds made sure left benefit ofthe transaction hence kept aside sum five hundred thousandunited states dollars draft compensation also go thegood work god meaning orphans disable country pleasetake good care poor needs also new partner agreed compensate amount yourpast efforts attempts assist matter appreciate yourefforts time much feel free get touch secretarymr steven chapman instruct send bank draft please let know immediately receive draft sharethe joy together sufferings time moment mvery busy investment projects partnerare hands finally remember left instruction secretaryso soon contact send draft feel freeto get touch secretary",
         "['compliment', 'today', 'hope', 'forgotten', 'dr', 'mr', 'michaelhoward', 'man', 'nigeria', 'contacted', 'time', 'ago', 'assist', 'mesecure', 'release', 'money', 'accrued', 'invoicing', 'contract', 'inheritancethat', 'awarded', 'government', 'time', 'ago', 'military', 'regime', 'though', 'able', 'assist', 'conclude', 'transaction', 'happyto', 'inform', 'success', 'getting', 'fund', 'transfered', 'theassistance', 'co', 'operation', 'new', 'partner', 'brazil', 'presently', 'innetherlands', 'investment', 'project', 'share', 'total', 'sum', 'meanwhile', 'forget', 'past', 'effort', 'attempt', 'assist', 'intransferring', 'fund', 'made', 'sure', 'left', 'benefit', 'ofthe', 'transaction', 'hence', 'kept', 'aside', 'sum', 'five', 'hundred', 'thousandunited', 'state', 'dollar', 'draft', 'compensation', 'also', 'go', 'thegood', 'work', 'god', 'meaning', 'orphan', 'disable', 'country', 'pleasetake', 'good', 'care', 'poor', 'need', 'also', 'new', 'partner', 'agreed', 'compensate', 'amount', 'yourpast', 'effort', 'attempt', 'assist', 'matter', 'appreciate', 'yourefforts', 'time', 'much', 'feel', 'free', 'get', 'touch', 'secretarymr', 'steven', 'chapman', 'instruct', 'send', 'bank', 'draft', 'please', 'let', 'know', 'immediately', 'receive', 'draft', 'sharethe', 'joy', 'together', 'suffering', 'time', 'moment', 'mvery', 'busy', 'investment', 'project', 'partnerare', 'hand', 'finally', 'remember', 'left', 'instruction', 'secretaryso', 'soon', 'contact', 'send', 'draft', 'feel', 'freeto', 'get', 'touch', 'secretary']",
         "1",
         "1",
         "147",
         "compliment today hope forgotten dr mr michaelhoward man nigeria contacted time ago assist mesecure release money accrued invoicing contract inheritancethat awarded government time ago military regime though able assist conclude transaction happyto inform success getting fund transfered theassistance co operation new partner brazil presently innetherlands investment project share total sum meanwhile forget past effort attempt assist intransferring fund made sure left benefit ofthe transaction hence kept aside sum five hundred thousandunited state dollar draft compensation also go thegood work god meaning orphan disable country pleasetake good care poor need also new partner agreed compensate amount yourpast effort attempt assist matter appreciate yourefforts time much feel free get touch secretarymr steven chapman instruct send bank draft please let know immediately receive draft sharethe joy together suffering time moment mvery busy investment project partnerare hand finally remember left instruction secretaryso soon contact send draft feel freeto get touch secretary"
        ],
        [
         "13",
         "Who wrote it?",
         "0",
         "wrote",
         "['wrote']",
         "0",
         "0",
         "1",
         "wrote"
        ],
        [
         "14",
         " accident. <BR>&nbsp;<BR>On further investigation, I found out that he did not leave a WILL and all attempts to trace his next of kin were fruitless. I therefore made further investigation and discovered that Mr. Barry Kelly did not declare any next of kin in all his official documents, including his Bank Deposit paperwork. This sum of US$25,000,000.00 is still sitting in the Bank and the interest is being rolled over with the principal sum at the end of each year. No one will come forward to claim it.<BR>&nbsp;<BR>&nbsp;According to the Ghanaian Law, at the expiration of 7{Seven} years, the money will revert to the ownership of the Ghana Government if nobody applies to claim the funds. Consequently, my proposal is that I will like you as a foreigner to stand in as the next of kin to Mr. Barry Kelly so that the fruits of this old man's labor will not get into the hands of some corrupt government officials. This is simple;<BR>&nbsp;<BR>(1) I will like you to provide me immediately with your full names and address so that the attorney will prepare the necessary documents and affidavits, which will put you in place as the next of kin.<BR>&nbsp;<BR>(2) We shall employ the services of two attorneys for drafting and notarization of the WILL and obtain the necessary documents and letter of probate/administration in your name for the transfer.<BR>&nbsp;<BR>(3) A bank account in any part of the world, which you provide, will then facilitate the transfer of this money to you as the beneficiaryext of kin of Mr.Barry Kelly. The money will be paid into your account for us to share in the ratio of 60% for me and 40% for you. There is no risk at all as all the paperwork for this transaction will be done by the attorney and my position as the Branch Manager guarantees the successful execution of this transaction. <BR>&nbsp;<BR>If you are interested, please call :00233-242-9727-02. or reply immediately via the private email address above. Upon your response, I shall then provide you with more details and relevant documents that will help you understand. Please observe utmost confidentiality, and rest assured that this transaction would be most profitable for both of us because I shall require your assistance to invest my share in your country.<BR>&nbsp;<BR>Awaiting your urgent reply.<BR>&nbsp;<BR>Thanks and regards,<BR>Baldwin Onuigbo Esq.<BR>private no:00233-242-9727-02<BR>Reply to&nbsp; :&nbsp; </STRONG><A href=\"mailto:onuigbobald_1960@hotmail.com\"><STRONG>onuigbobald_1960@hotmail.com</STRONG></A><STRONG> <BR></STRONG><p>&#32;\t\t\t\t<hr size=1>Want to be your own boss? Learn how on <a href=\"http://us.rd.yahoo.com/evt=41244/*http://smallbusiness.yahoo.com/r-index\"> Yahoo! Small Business.</a> --0-1857806142-1159283111=:39685--",
         "1",
         "accident investigation found leave attempts trace next kin fruitless therefore made investigation discovered mr barry kelly declare next kin official documents including bank deposit paperwork sum us still sitting bank interest rolled principal sum end year one come forward claim according ghanaian law expiration seven years money revert ownership ghana government nobody applies claim funds consequently proposal like foreigner stand next kin mr barry kelly fruits old man labor get hands corrupt government officials simple like provide immediately full names address attorney prepare necessary documents affidavits put place next kin shall employ services two attorneys drafting notarization obtain necessary documents letter probate administration name transfer bank account part world provide facilitate transfer money beneficiaryext kin mr barry kelly money paid account us share ratio risk paperwork transaction done attorney position branch manager guarantees successful execution transaction interested please call reply immediately via private email address upon response shall provide details relevant documents help understand please observe utmost confidentiality rest assured transaction would profitable us shall require assistance invest share country awaiting urgent reply thanks regards baldwin onuigbo esq private reply onuigbobald hotmail com want boss learn yahoo small business",
         "['accident', 'investigation', 'found', 'leave', 'attempt', 'trace', 'next', 'kin', 'fruitless', 'therefore', 'made', 'investigation', 'discovered', 'mr', 'barry', 'kelly', 'declare', 'next', 'kin', 'official', 'document', 'including', 'bank', 'deposit', 'paperwork', 'sum', 'u', 'still', 'sitting', 'bank', 'interest', 'rolled', 'principal', 'sum', 'end', 'year', 'one', 'come', 'forward', 'claim', 'according', 'ghanaian', 'law', 'expiration', 'seven', 'year', 'money', 'revert', 'ownership', 'ghana', 'government', 'nobody', 'applies', 'claim', 'fund', 'consequently', 'proposal', 'like', 'foreigner', 'stand', 'next', 'kin', 'mr', 'barry', 'kelly', 'fruit', 'old', 'man', 'labor', 'get', 'hand', 'corrupt', 'government', 'official', 'simple', 'like', 'provide', 'immediately', 'full', 'name', 'address', 'attorney', 'prepare', 'necessary', 'document', 'affidavit', 'put', 'place', 'next', 'kin', 'shall', 'employ', 'service', 'two', 'attorney', 'drafting', 'notarization', 'obtain', 'necessary', 'document', 'letter', 'probate', 'administration', 'name', 'transfer', 'bank', 'account', 'part', 'world', 'provide', 'facilitate', 'transfer', 'money', 'beneficiaryext', 'kin', 'mr', 'barry', 'kelly', 'money', 'paid', 'account', 'u', 'share', 'ratio', 'risk', 'paperwork', 'transaction', 'done', 'attorney', 'position', 'branch', 'manager', 'guarantee', 'successful', 'execution', 'transaction', 'interested', 'please', 'call', 'reply', 'immediately', 'via', 'private', 'email', 'address', 'upon', 'response', 'shall', 'provide', 'detail', 'relevant', 'document', 'help', 'understand', 'please', 'observe', 'utmost', 'confidentiality', 'rest', 'assured', 'transaction', 'would', 'profitable', 'u', 'shall', 'require', 'assistance', 'invest', 'share', 'country', 'awaiting', 'urgent', 'reply', 'thanks', 'regard', 'baldwin', 'onuigbo', 'esq', 'private', 'reply', 'onuigbobald', 'hotmail', 'com', 'want', 'bos', 'learn', 'yahoo', 'small', 'business']",
         "0",
         "1",
         "189",
         "accident investigation found leave attempt trace next kin fruitless therefore made investigation discovered mr barry kelly declare next kin official document including bank deposit paperwork sum u still sitting bank interest rolled principal sum end year one come forward claim according ghanaian law expiration seven year money revert ownership ghana government nobody applies claim fund consequently proposal like foreigner stand next kin mr barry kelly fruit old man labor get hand corrupt government official simple like provide immediately full name address attorney prepare necessary document affidavit put place next kin shall employ service two attorney drafting notarization obtain necessary document letter probate administration name transfer bank account part world provide facilitate transfer money beneficiaryext kin mr barry kelly money paid account u share ratio risk paperwork transaction done attorney position branch manager guarantee successful execution transaction interested please call reply immediately via private email address upon response shall provide detail relevant document help understand please observe utmost confidentiality rest assured transaction would profitable u shall require assistance invest share country awaiting urgent reply thanks regard baldwin onuigbo esq private reply onuigbobald hotmail com want bos learn yahoo small business"
        ],
        [
         "15",
         "Email from EricBackground for you",
         "0",
         "email ericbackground",
         "['email', 'ericbackground']",
         "0",
         "0",
         "2",
         "email ericbackground"
        ],
        [
         "16",
         "                                                                    FROM:DESK OF THE CHAIRMAN AWARD OIL COMMITTEE.ENGR WILLIAM OKEKEDEAR FRIEND,  I AM ENGR WILLIAM OKEKE THE CHAIRMAN OF CONTRACT AWARD COMMITTEE PETROL  NIGERIA NATIONAL PETROLUEM COMPANY,FEDERAL REPUBLIC OF NIGERIA. SOMETIME LAST YEAR, OUR REFINERY WAS GENERALY SERVICED AND MANY OTHER CONTRACTS WHERE ALSO AWARDED IN THE OIL SECTOR AFTER AN OUT BREAK OF FIRE. THERE WAS ASSISTANCE FROM WORLD BANK, I.M.F. AND OTHER FINANCIAL INSTITUTIONS FOR THE REPLACEMENT OF THE DAMAGED EQUIPMENT AND THE REFINERY AS A WHOLE. DURING THIS PERIOD, A LOT OF CONTRACT WERE AWAREDED TO SO MANY INTERNATIONAL CONTRACTORS. ALL THE ORIGINAL CONTRACTORS HAS JUST RECEIVED THEIR FINAL PHASE OF THEIR PAYMENT LEAVING A TOTAL SUM OF $10 MILLION USD FLOATING IN THE FILES OF FEDERAL MINISTRY OF FINANCE UNCLAIMED THIS IS AS A RESULT OF THE OVER INVOICING WE DID DURING THE AWARD OF THE CONTRACT.THIS CONTRACT HAS BEEN CERTIFIED OKAY;",
         "1",
         "desk chairman award oil committee engr william okekedear friend engr william okeke chairman contract award committee petrol nigeria national petroluem company federal republic nigeria sometime last year refinery generaly serviced many contracts also awarded oil sector break fire assistance world bank financial institutions replacement damaged equipment refinery whole period lot contract awareded many international contractors original contractors received final phase payment leaving total sum million usd floating files federal ministry finance unclaimed result invoicing award contract contract certified okay",
         "['desk', 'chairman', 'award', 'oil', 'committee', 'engr', 'william', 'okekedear', 'friend', 'engr', 'william', 'okeke', 'chairman', 'contract', 'award', 'committee', 'petrol', 'nigeria', 'national', 'petroluem', 'company', 'federal', 'republic', 'nigeria', 'sometime', 'last', 'year', 'refinery', 'generaly', 'serviced', 'many', 'contract', 'also', 'awarded', 'oil', 'sector', 'break', 'fire', 'assistance', 'world', 'bank', 'financial', 'institution', 'replacement', 'damaged', 'equipment', 'refinery', 'whole', 'period', 'lot', 'contract', 'awareded', 'many', 'international', 'contractor', 'original', 'contractor', 'received', 'final', 'phase', 'payment', 'leaving', 'total', 'sum', 'million', 'usd', 'floating', 'file', 'federal', 'ministry', 'finance', 'unclaimed', 'result', 'invoicing', 'award', 'contract', 'contract', 'certified', 'okay']",
         "0",
         "1",
         "79",
         "desk chairman award oil committee engr william okekedear friend engr william okeke chairman contract award committee petrol nigeria national petroluem company federal republic nigeria sometime last year refinery generaly serviced many contract also awarded oil sector break fire assistance world bank financial institution replacement damaged equipment refinery whole period lot contract awareded many international contractor original contractor received final phase payment leaving total sum million usd floating file federal ministry finance unclaimed result invoicing award contract contract certified okay"
        ],
        [
         "17",
         "                         (\"REMITTANCE OF $15 MILLION U.S.A DOLLARS         =                          CONFIDENTIAL IS THE CASE\")Compliments Of The Season 2007,    Forgive my indignation if this message c=omes to you as a surprise and may offend your personality for contacting yo=u without your prior consent and writing through this channel.I got your co=ntact from the proffesional data base found in the internet Yahoo tourist s=earch.When i was searching For a foreign reliable partner.I assured of your capability and reliability to champion this businees oppo=rtunity.  After series of prayers/fasting.i was divinely directed to contac=t you among other names found in the data base Yahoo tourist search.I belie=ve that God has a way of helping who is in need.I am (MUSTAFA BRUNU  Esq),the Head of file Department in BANK OF AFRICA (BO=A). In my department we discovered an abandoned sum of $ 15 million U.S.A d=ollars ( fifteen million U.S.A dollars) . In an account that belongs to one= of our foreign customer who died along with his entire family on (July 21,= 2003) in a plane crash. Since we got information about his death, we have =been expecting his next of kin to come over and claim his money because we =cannot =B5 release it unless somebody applies for it as next of kin or rela=tive on to the deceased as indicated in our banking guidelines,But unfortunately we learnt that all his supposed next of kin or relation d=ied alongside with him at the plane crash leaving nobody behind for the cla=im. It is therefore upon this discovery that I and one official in my depar=tment now decided to make this businness proposal to you and release the mo=ney to you as the next of kin or relation to the deceased for safety and su=bsequent disbursement since nobody is coming for it and we don=92t want thi=s money to go into the bank treasury as unclaimed bill.The Banking law and guideline here stipulates that if such money remained u=nclamed after five years, the money will be transfered into the Bank treasu=ry as unclaimed fund. The request of foreigner as next of kin in this busin=ess is occasioned by the fact that the customer was a foreigner,and a Burki=nabe cannot stand as next of kin to a foreigner. We agree that 30 % of this= money will be for you as foreign partner,in respect to the provision of a =foreign account, 10 % will be set aside for expenses incured during the bus=iness and 60 % would be for me and my woman colleague. There after i will v=isit your country for disbursement according to the percentages indicated.Therefore to enable the immediate transfer of this fund  as arranged, you m=ust apply first to the bank as relations or next of kin of the deceased ind=icating your bank name, your bank account number, your private telephone an=d fax number for easy and effective communication and location where the mo=ney will be remitted.Upon receipt of your reply, I will send to you by fax =or email the text of the application I will not fail to bring to your notic=e that this transaction is hitch free and that you should not entertain any= atom of fear as all required arrangements have been made for the transfer.You should contact me on my number +226-76 54 93 42. immediately as soon as= you receive this letter. Trusting to hear from you immediately.Your=92s fa=ithfully,MUSTAFA BRUNU  (Esq.)FROM (B.O.A) OUAGADOUGOU BURKINA-FASO.GOD BLESSINGS,PROTECTIONS AND GUIDIAN=CE TO YOUR ENTIRE FAMILY.POST SCRITUM:You have to keep everything secret as= to enable the transfer to move very smoothly in to the account you will pr=ove to the bank.As you finished reading this letter call me immediately so =that we discuss very well over this business._________________________________________________________________Play free games, earn tickets, get cool prizes! Join Live Search Club.=A0http://club.live.com/home.aspx?icid=3DCLUB_wlmailtextlink=",
         "1",
         "remittance million dollars confidential case compliments season forgive indignation message omes surprise may offend personality contacting yo without prior consent writing channel got co ntact proffesional data base found internet yahoo tourist earch searching foreign reliable partner assured capability reliability champion businees oppo rtunity series prayers fasting divinely directed contac among names found data base yahoo tourist search belie god way helping need mustafa brunu esq head file department bank africa bo department discovered abandoned sum million ollars fifteen million dollars account belongs one foreign customer died along entire family july plane crash since got information death expecting next kin come claim money cannot release unless somebody applies next kin rela tive deceased indicated banking guidelines unfortunately learnt supposed next kin relation ied alongside plane crash leaving nobody behind cla im therefore upon discovery one official depar tment decided make businness proposal release mo ney next kin relation deceased safety su bsequent disbursement since nobody coming want thi money go bank treasury unclaimed bill banking law guideline stipulates money remained nclamed five years money transfered bank treasu ry unclaimed fund request foreigner next kin busin ess occasioned fact customer foreigner burki nabe cannot stand next kin foreigner agree money foreign partner respect provision foreign account set aside expenses incured bus iness would woman colleague isit country disbursement according percentages indicated therefore enable immediate transfer fund arranged ust apply first bank relations next kin deceased ind icating bank name bank account number private telephone fax number easy effective communication location mo ney remitted upon receipt reply send fax email text application fail bring notic transaction hitch free entertain atom fear required arrangements made transfer contact number immediately soon receive letter trusting hear immediately fa ithfully mustafa brunu esq ouagadougou burkina faso god blessings protections guidian ce entire family post scritum keep everything secret enable transfer move smoothly account pr ove bank finished reading letter call immediately discuss well business play free games earn tickets get cool prizes join live search club ahttp club live com home aspx icid dclub wlmailtextlink",
         "['remittance', 'million', 'dollar', 'confidential', 'case', 'compliment', 'season', 'forgive', 'indignation', 'message', 'omes', 'surprise', 'may', 'offend', 'personality', 'contacting', 'yo', 'without', 'prior', 'consent', 'writing', 'channel', 'got', 'co', 'ntact', 'proffesional', 'data', 'base', 'found', 'internet', 'yahoo', 'tourist', 'earch', 'searching', 'foreign', 'reliable', 'partner', 'assured', 'capability', 'reliability', 'champion', 'businees', 'oppo', 'rtunity', 'series', 'prayer', 'fasting', 'divinely', 'directed', 'contac', 'among', 'name', 'found', 'data', 'base', 'yahoo', 'tourist', 'search', 'belie', 'god', 'way', 'helping', 'need', 'mustafa', 'brunu', 'esq', 'head', 'file', 'department', 'bank', 'africa', 'bo', 'department', 'discovered', 'abandoned', 'sum', 'million', 'ollars', 'fifteen', 'million', 'dollar', 'account', 'belongs', 'one', 'foreign', 'customer', 'died', 'along', 'entire', 'family', 'july', 'plane', 'crash', 'since', 'got', 'information', 'death', 'expecting', 'next', 'kin', 'come', 'claim', 'money', 'can', 'not', 'release', 'unless', 'somebody', 'applies', 'next', 'kin', 'rela', 'tive', 'deceased', 'indicated', 'banking', 'guideline', 'unfortunately', 'learnt', 'supposed', 'next', 'kin', 'relation', 'ied', 'alongside', 'plane', 'crash', 'leaving', 'nobody', 'behind', 'cla', 'im', 'therefore', 'upon', 'discovery', 'one', 'official', 'depar', 'tment', 'decided', 'make', 'businness', 'proposal', 'release', 'mo', 'ney', 'next', 'kin', 'relation', 'deceased', 'safety', 'su', 'bsequent', 'disbursement', 'since', 'nobody', 'coming', 'want', 'thi', 'money', 'go', 'bank', 'treasury', 'unclaimed', 'bill', 'banking', 'law', 'guideline', 'stipulates', 'money', 'remained', 'nclamed', 'five', 'year', 'money', 'transfered', 'bank', 'treasu', 'ry', 'unclaimed', 'fund', 'request', 'foreigner', 'next', 'kin', 'busin', 'es', 'occasioned', 'fact', 'customer', 'foreigner', 'burki', 'nabe', 'can', 'not', 'stand', 'next', 'kin', 'foreigner', 'agree', 'money', 'foreign', 'partner', 'respect', 'provision', 'foreign', 'account', 'set', 'aside', 'expense', 'incured', 'bus', 'iness', 'would', 'woman', 'colleague', 'isit', 'country', 'disbursement', 'according', 'percentage', 'indicated', 'therefore', 'enable', 'immediate', 'transfer', 'fund', 'arranged', 'ust', 'apply', 'first', 'bank', 'relation', 'next', 'kin', 'deceased', 'ind', 'icating', 'bank', 'name', 'bank', 'account', 'number', 'private', 'telephone', 'fax', 'number', 'easy', 'effective', 'communication', 'location', 'mo', 'ney', 'remitted', 'upon', 'receipt', 'reply', 'send', 'fax', 'email', 'text', 'application', 'fail', 'bring', 'notic', 'transaction', 'hitch', 'free', 'entertain', 'atom', 'fear', 'required', 'arrangement', 'made', 'transfer', 'contact', 'number', 'immediately', 'soon', 'receive', 'letter', 'trusting', 'hear', 'immediately', 'fa', 'ithfully', 'mustafa', 'brunu', 'esq', 'ouagadougou', 'burkina', 'faso', 'god', 'blessing', 'protection', 'guidian', 'ce', 'entire', 'family', 'post', 'scritum', 'keep', 'everything', 'secret', 'enable', 'transfer', 'move', 'smoothly', 'account', 'pr', 'ove', 'bank', 'finished', 'reading', 'letter', 'call', 'immediately', 'discus', 'well', 'business', 'play', 'free', 'game', 'earn', 'ticket', 'get', 'cool', 'prize', 'join', 'live', 'search', 'club', 'ahttp', 'club', 'live', 'com', 'home', 'aspx', 'icid', 'dclub', 'wlmailtextlink']",
         "1",
         "1",
         "341",
         "remittance million dollar confidential case compliment season forgive indignation message omes surprise may offend personality contacting yo without prior consent writing channel got co ntact proffesional data base found internet yahoo tourist earch searching foreign reliable partner assured capability reliability champion businees oppo rtunity series prayer fasting divinely directed contac among name found data base yahoo tourist search belie god way helping need mustafa brunu esq head file department bank africa bo department discovered abandoned sum million ollars fifteen million dollar account belongs one foreign customer died along entire family july plane crash since got information death expecting next kin come claim money can not release unless somebody applies next kin rela tive deceased indicated banking guideline unfortunately learnt supposed next kin relation ied alongside plane crash leaving nobody behind cla im therefore upon discovery one official depar tment decided make businness proposal release mo ney next kin relation deceased safety su bsequent disbursement since nobody coming want thi money go bank treasury unclaimed bill banking law guideline stipulates money remained nclamed five year money transfered bank treasu ry unclaimed fund request foreigner next kin busin es occasioned fact customer foreigner burki nabe can not stand next kin foreigner agree money foreign partner respect provision foreign account set aside expense incured bus iness would woman colleague isit country disbursement according percentage indicated therefore enable immediate transfer fund arranged ust apply first bank relation next kin deceased ind icating bank name bank account number private telephone fax number easy effective communication location mo ney remitted upon receipt reply send fax email text application fail bring notic transaction hitch free entertain atom fear required arrangement made transfer contact number immediately soon receive letter trusting hear immediately fa ithfully mustafa brunu esq ouagadougou burkina faso god blessing protection guidian ce entire family post scritum keep everything secret enable transfer move smoothly account pr ove bank finished reading letter call immediately discus well business play free game earn ticket get cool prize join live search club ahttp club live com home aspx icid dclub wlmailtextlink"
        ],
        [
         "18",
         "Abidjan Cote D'Ivoire=20Dear,=20It is my pleasure to write you after much consideration since telephone=  communication can not be suitable enough to communicate to you at fir=st=2EI am Miss Stephean Lawrence the only doughter of late Mr Christoph=er Lawrence of Sierra-Leone (SL) I am 24 years of age=2E My late father= was limited liability in Cocoa and Gold merchant in  Sierra-Leone befo=re his untimely death=2E After his business trip to Abidjan-Cote d'Ivoi=re,to negociate on a cocoa and gold business he wanted to invest in Abi=djan - Cote d'Ivoire=2E=20A Week after he came back from Abidjan, he got an accidente with my mot=her of which my mother died instantly but my father died after five day=s in a private hospital on that faithful afternoon=2E I didn't know tha=t my father was going to leave me after I had lost my  mother=2E=20But before he gave up the ghost, it was as if he knew he was going to d=ie=2E He my father, MAY HIS SOUL REST IN PERFECT PEACE he disclosed to =me that he deposited sum of $9=2E7,000,000,00 US Dollars (NINE MILLION =SEVEN HUNDRED THOUSAND DOLLARS) in a Bank here in Abidjan- Cote d'ivoir=e=2EThat the money was meant for his cocoa and Gold company he wanted to es=tablish in Abidjan - Cote d'Ivoire though, He single handed me the depo=sit certificate and instructed me to seek for a reliable and trust wort=hy business partner for my life time investment abroad=2E Now I have su=cceded in locating the bank here in Abidjan- Cote d'ivoire and also con=firmed the bank with most honest and confidentiality=2E=20=20Now I am soliciting for your assistance to help me lift this money out =from Abidjan to your safe account abroad so that we should invest it in= any meaningful lucrative business in your country because this is my o=nly hope in life=2E=20Awaiting anxiously to hear from you so that we can discuss the modaliti=es of this transaction=2E  Please kindly contact me immediately  for mo=re discussion=2E=20Please don't hesitate to send me a message=2EThanks for your kind atten=tion=2E Please contacts me true this email stephean2006@yahoo=2Efr=20Yours sincerelyMiss Stephean Lawrence",
         "1",
         "abidjan cote ivoire dear pleasure write much consideration since telephone communication suitable enough communicate fir st ei miss stephean lawrence doughter late mr christoph er lawrence sierra leone sl years age late father limited liability cocoa gold merchant sierra leone befo untimely death business trip abidjan cote ivoi negociate cocoa gold business wanted invest abi djan cote ivoire week came back abidjan got accidente mot mother died instantly father died five day private hospital faithful afternoon know tha father going leave lost mother gave ghost knew going ie father may soul rest perfect peace disclosed deposited sum us dollars nine million seven hundred thousand dollars bank abidjan cote ivoir ethat money meant cocoa gold company wanted es tablish abidjan cote ivoire though single handed depo sit certificate instructed seek reliable trust wort hy business partner life time investment abroad su cceded locating bank abidjan cote ivoire also con firmed bank honest confidentiality soliciting assistance help lift money abidjan safe account abroad invest meaningful lucrative business country nly hope life awaiting anxiously hear discuss modaliti es transaction please kindly contact immediately mo discussion please hesitate send message ethanks kind atten tion please contacts true email stephean yahoo efr sincerelymiss stephean lawrence",
         "['abidjan', 'cote', 'ivoire', 'dear', 'pleasure', 'write', 'much', 'consideration', 'since', 'telephone', 'communication', 'suitable', 'enough', 'communicate', 'fir', 'st', 'ei', 'miss', 'stephean', 'lawrence', 'doughter', 'late', 'mr', 'christoph', 'er', 'lawrence', 'sierra', 'leone', 'sl', 'year', 'age', 'late', 'father', 'limited', 'liability', 'cocoa', 'gold', 'merchant', 'sierra', 'leone', 'befo', 'untimely', 'death', 'business', 'trip', 'abidjan', 'cote', 'ivoi', 'negociate', 'cocoa', 'gold', 'business', 'wanted', 'invest', 'abi', 'djan', 'cote', 'ivoire', 'week', 'came', 'back', 'abidjan', 'got', 'accidente', 'mot', 'mother', 'died', 'instantly', 'father', 'died', 'five', 'day', 'private', 'hospital', 'faithful', 'afternoon', 'know', 'tha', 'father', 'going', 'leave', 'lost', 'mother', 'gave', 'ghost', 'knew', 'going', 'ie', 'father', 'may', 'soul', 'rest', 'perfect', 'peace', 'disclosed', 'deposited', 'sum', 'u', 'dollar', 'nine', 'million', 'seven', 'hundred', 'thousand', 'dollar', 'bank', 'abidjan', 'cote', 'ivoir', 'ethat', 'money', 'meant', 'cocoa', 'gold', 'company', 'wanted', 'e', 'tablish', 'abidjan', 'cote', 'ivoire', 'though', 'single', 'handed', 'depo', 'sit', 'certificate', 'instructed', 'seek', 'reliable', 'trust', 'wort', 'hy', 'business', 'partner', 'life', 'time', 'investment', 'abroad', 'su', 'cceded', 'locating', 'bank', 'abidjan', 'cote', 'ivoire', 'also', 'con', 'firmed', 'bank', 'honest', 'confidentiality', 'soliciting', 'assistance', 'help', 'lift', 'money', 'abidjan', 'safe', 'account', 'abroad', 'invest', 'meaningful', 'lucrative', 'business', 'country', 'nly', 'hope', 'life', 'awaiting', 'anxiously', 'hear', 'discus', 'modaliti', 'e', 'transaction', 'please', 'kindly', 'contact', 'immediately', 'mo', 'discussion', 'please', 'hesitate', 'send', 'message', 'ethanks', 'kind', 'atten', 'tion', 'please', 'contact', 'true', 'email', 'stephean', 'yahoo', 'efr', 'sincerelymiss', 'stephean', 'lawrence']",
         "1",
         "1",
         "200",
         "abidjan cote ivoire dear pleasure write much consideration since telephone communication suitable enough communicate fir st ei miss stephean lawrence doughter late mr christoph er lawrence sierra leone sl year age late father limited liability cocoa gold merchant sierra leone befo untimely death business trip abidjan cote ivoi negociate cocoa gold business wanted invest abi djan cote ivoire week came back abidjan got accidente mot mother died instantly father died five day private hospital faithful afternoon know tha father going leave lost mother gave ghost knew going ie father may soul rest perfect peace disclosed deposited sum u dollar nine million seven hundred thousand dollar bank abidjan cote ivoir ethat money meant cocoa gold company wanted e tablish abidjan cote ivoire though single handed depo sit certificate instructed seek reliable trust wort hy business partner life time investment abroad su cceded locating bank abidjan cote ivoire also con firmed bank honest confidentiality soliciting assistance help lift money abidjan safe account abroad invest meaningful lucrative business country nly hope life awaiting anxiously hear discus modaliti e transaction please kindly contact immediately mo discussion please hesitate send message ethanks kind atten tion please contact true email stephean yahoo efr sincerelymiss stephean lawrence"
        ],
        [
         "19",
         "<DIV><BR><STRONG>I am Hon. Mr. Hope Sithole one of the Personal Assistants to the young President Joseph Kabila of Democratic Republic of Congo (DRC), since he assumed power.Sincerely speaking, my agitation is real, and my word is my bond in this proposal. This money in question is part of the budget made by our President Mr. Joseph Kabila, in the fear that members of the United Nations (UN) could perhaps be mandated to offer their respective supports in forcing Iraq to disarm themselves. Eventually, his dreams do not match up with realities and as a result he (the President) started using the money on personal ground because nobody could question/probe his actions, as he believed.</STRONG></DIV><DIV><STRONG>As his closest personal assistant and with the help of two other officials one of whom was the then deputy Director, Safety and Security Department, we were able to escape with two boxes containing the aforementioned sum. At present the boxes were deposited in a reputable Security firm here in South Africa and were registered as family belongings. We had agreed on the need for a foreign assistance with a legitimate bank account abroad, that will stand as, the beneficiary and partner as well in order to avoid suspicion, since we are existing as refugees here. Copies of certificate of Deposit as well as all necessary documents from the Security cc. are available for a hitch-free transaction.</STRONG></DIV><DIV><STRONG>In addition, you are also required to come/send a representative (as far as you trust the person representing) to the Republic of South Africa for the purpose of the transfer, but only if, by one reason or the other you cannot embark on a Five working (5) days trip by yourself, according to the expert from within the bank. As things are now we had not really agreed on the actual amount that should be your remuneration for your kind assistance, which to us is no big deal. The crux of this subject in particular is the declaration of your interest after-which we enter into negotiations with you over the (percentage) issue. Other details of which you may want to know shall be discussed in due course.</STRONG></DIV><DIV><BR><STRONG>Please be kind enough to acknowledge this proposal by responding through the above E-mail address for a high level of confidentiality in this business deal.</STRONG></DIV><DIV><STRONG>Best regards,</STRONG></DIV><DIV><BR><STRONG>Hon. Mr. hope sithole</STRONG></DIV><DIV><STRONG>tel </STRONG>_<STRONG>27832378499<BR></STRONG></DIV></DIV></DIV><p>\t\t\t<hr size=1>Do you Yahoo!?<br> Check out the new Yahoo! Front Page. <a href=\"http://www.yahoo.com\">www.yahoo.com</a>--0-930567302-1099896484=:25288--",
         "1",
         "hon mr hope sithole one personal assistants young president joseph kabila democratic republic congo drc since assumed power sincerely speaking agitation real word bond proposal money question part budget made president mr joseph kabila fear members united nations un could perhaps mandated offer respective supports forcing iraq disarm eventually dreams match realities result president started using money personal ground nobody could question probe actions believed closest personal assistant help two officials one deputy director safety security department able escape two boxes containing aforementioned sum present boxes deposited reputable security firm south africa registered family belongings agreed need foreign assistance legitimate bank account abroad stand beneficiary partner well order avoid suspicion since existing refugees copies certificate deposit well necessary documents security cc available hitch free transaction addition also required come send representative far trust person representing republic south africa purpose transfer one reason cannot embark five working days trip according expert within bank things really agreed actual amount remuneration kind assistance us big deal crux subject particular declaration interest enter negotiations percentage issue details may want know shall discussed due course please kind enough acknowledge proposal responding mail address high level confidentiality business deal best regards hon mr hope sithole tel yahoo check new yahoo front page www yahoo com",
         "['hon', 'mr', 'hope', 'sithole', 'one', 'personal', 'assistant', 'young', 'president', 'joseph', 'kabila', 'democratic', 'republic', 'congo', 'drc', 'since', 'assumed', 'power', 'sincerely', 'speaking', 'agitation', 'real', 'word', 'bond', 'proposal', 'money', 'question', 'part', 'budget', 'made', 'president', 'mr', 'joseph', 'kabila', 'fear', 'member', 'united', 'nation', 'un', 'could', 'perhaps', 'mandated', 'offer', 'respective', 'support', 'forcing', 'iraq', 'disarm', 'eventually', 'dream', 'match', 'reality', 'result', 'president', 'started', 'using', 'money', 'personal', 'ground', 'nobody', 'could', 'question', 'probe', 'action', 'believed', 'closest', 'personal', 'assistant', 'help', 'two', 'official', 'one', 'deputy', 'director', 'safety', 'security', 'department', 'able', 'escape', 'two', 'box', 'containing', 'aforementioned', 'sum', 'present', 'box', 'deposited', 'reputable', 'security', 'firm', 'south', 'africa', 'registered', 'family', 'belonging', 'agreed', 'need', 'foreign', 'assistance', 'legitimate', 'bank', 'account', 'abroad', 'stand', 'beneficiary', 'partner', 'well', 'order', 'avoid', 'suspicion', 'since', 'existing', 'refugee', 'copy', 'certificate', 'deposit', 'well', 'necessary', 'document', 'security', 'cc', 'available', 'hitch', 'free', 'transaction', 'addition', 'also', 'required', 'come', 'send', 'representative', 'far', 'trust', 'person', 'representing', 'republic', 'south', 'africa', 'purpose', 'transfer', 'one', 'reason', 'can', 'not', 'embark', 'five', 'working', 'day', 'trip', 'according', 'expert', 'within', 'bank', 'thing', 'really', 'agreed', 'actual', 'amount', 'remuneration', 'kind', 'assistance', 'u', 'big', 'deal', 'crux', 'subject', 'particular', 'declaration', 'interest', 'enter', 'negotiation', 'percentage', 'issue', 'detail', 'may', 'want', 'know', 'shall', 'discussed', 'due', 'course', 'please', 'kind', 'enough', 'acknowledge', 'proposal', 'responding', 'mail', 'address', 'high', 'level', 'confidentiality', 'business', 'deal', 'best', 'regard', 'hon', 'mr', 'hope', 'sithole', 'tel', 'yahoo', 'check', 'new', 'yahoo', 'front', 'page', 'www', 'yahoo', 'com']",
         "0",
         "1",
         "210",
         "hon mr hope sithole one personal assistant young president joseph kabila democratic republic congo drc since assumed power sincerely speaking agitation real word bond proposal money question part budget made president mr joseph kabila fear member united nation un could perhaps mandated offer respective support forcing iraq disarm eventually dream match reality result president started using money personal ground nobody could question probe action believed closest personal assistant help two official one deputy director safety security department able escape two box containing aforementioned sum present box deposited reputable security firm south africa registered family belonging agreed need foreign assistance legitimate bank account abroad stand beneficiary partner well order avoid suspicion since existing refugee copy certificate deposit well necessary document security cc available hitch free transaction addition also required come send representative far trust person representing republic south africa purpose transfer one reason can not embark five working day trip according expert within bank thing really agreed actual amount remuneration kind assistance u big deal crux subject particular declaration interest enter negotiation percentage issue detail may want know shall discussed due course please kind enough acknowledge proposal responding mail address high level confidentiality business deal best regard hon mr hope sithole tel yahoo check new yahoo front page www yahoo com"
        ],
        [
         "20",
         "Dear,I am Dr. M. Z. Erick, a native of Cape Town in South Africa and I am anExecutive Accountant with the South Africa Department of Mining & NaturalResources. First and foremost, I apologized using this medium to reach youfor a transaction/business of this magnitude, but this is due toConfidentiality and prompt access reposed on this medium. Be informed thata member of the South Africa Export Promotion Council (SEPC) who was atthe Government delegation to your country during a trade exhibition gaveyour enviable credentials/particulars to me. I have decided to seek aconfidential co-operation with you in the execution of the deal describedhereunder for the benefit of all parties and hope you will keep it as atop secret because of the nature of this transaction.Within the Department of Mining & Natural Resources where I work as anExecutive Accountant and with the cooperation of four other top officials,we have in our possession as overdue payment bills totaling Twenty - SixMillion, Five Hundred Thousand U. S. Dollars which we want to transferabroad with the assistance and cooperation of a foreign company/individualto receive the said fund on our behalf or a reliable foreign non-companyaccount to receive such funds. More so, we are handicapped in thecircumstances, as the South Africa Civil Service Code of Conduct does notallow us to operate offshore account hence your importance in the wholetransaction.This amount (Twenty - Six Million, Five Hundred Thousand) represents thebalance of the total contract value executed on behalf of my Department bya foreign contracting firm, which we the officials over-invoiceddeliberately. Though the actual contract cost have been paid to theoriginal contractor, leaving the balance in the tune of the said amountwhich we have in principles gotten approval to remit by TelegraphicTransfer (T.T) to any foreign bank account you will provide by filing inan application through the Justice Ministry here in South Africa for thetransfer of rights and privileges of the former contractor to you, henceprovide me with your private/direct fax number for the form to be sendacross to you.I have the authority of my partners involved to propose that should you bewilling to assist us in the transaction, your share of the sum will be 25%of the Twenty-Six Million, Five Hundred Thousand U. S. Dollars, 70% for usand 5% for taxation and miscellaneous expenses. The business itself is100% safe, on your part provided you treat it with utmost secrecy andconfidentiality. Also your area of specialization is not a hindrance tothe successful execution of this transaction. I have reposed my confidencein you and hope that you will not disappoint me. Endeavor to contact meimmediately through my above Tel/Fax number or my e-mail address, whetheror not you are interested in this deal. If you are not, it will enable mescout for another foreign partner to carry out this deal I want to assureyou that my partners and myself are in a position to make the payment ofthis claim possible provided you can give us a very strong Assurance andguarantee that our share will be secured and please remember to treat thismatter as very confidential matter, because we will not comprehend withany form of exposure as we are still in active Government Service andremember once again that time is of the essence in this business.I wait in anticipation of your fullest co-operation.Yours faithfully,",
         "1",
         "dear dr z erick native cape town south africa anexecutive accountant south africa department mining naturalresources first foremost apologized using medium reach youfor transaction business magnitude due toconfidentiality prompt access reposed medium informed thata member south africa export promotion council sepc atthe government delegation country trade exhibition gaveyour enviable credentials particulars decided seek aconfidential co operation execution deal describedhereunder benefit parties hope keep atop secret nature transaction within department mining natural resources work anexecutive accountant cooperation four top officials possession overdue payment bills totaling twenty sixmillion five hundred thousand dollars want transferabroad assistance cooperation foreign company individualto receive said fund behalf reliable foreign non companyaccount receive funds handicapped thecircumstances south africa civil service code conduct notallow us operate offshore account hence importance wholetransaction amount twenty six million five hundred thousand represents thebalance total contract value executed behalf department bya foreign contracting firm officials invoiceddeliberately though actual contract cost paid theoriginal contractor leaving balance tune said amountwhich principles gotten approval remit telegraphictransfer foreign bank account provide filing inan application justice ministry south africa thetransfer rights privileges former contractor henceprovide private direct fax number form sendacross authority partners involved propose bewilling assist us transaction share sum twenty six million five hundred thousand dollars usand taxation miscellaneous expenses business safe part provided treat utmost secrecy andconfidentiality also area specialization hindrance tothe successful execution transaction reposed confidencein hope disappoint endeavor contact meimmediately tel fax number mail address whetheror interested deal enable mescout another foreign partner carry deal want assureyou partners position make payment ofthis claim possible provided give us strong assurance andguarantee share secured please remember treat thismatter confidential matter comprehend withany form exposure still active government service andremember time essence business wait anticipation fullest co operation faithfully",
         "['dear', 'dr', 'z', 'erick', 'native', 'cape', 'town', 'south', 'africa', 'anexecutive', 'accountant', 'south', 'africa', 'department', 'mining', 'naturalresources', 'first', 'foremost', 'apologized', 'using', 'medium', 'reach', 'youfor', 'transaction', 'business', 'magnitude', 'due', 'toconfidentiality', 'prompt', 'access', 'reposed', 'medium', 'informed', 'thata', 'member', 'south', 'africa', 'export', 'promotion', 'council', 'sepc', 'atthe', 'government', 'delegation', 'country', 'trade', 'exhibition', 'gaveyour', 'enviable', 'credential', 'particular', 'decided', 'seek', 'aconfidential', 'co', 'operation', 'execution', 'deal', 'describedhereunder', 'benefit', 'party', 'hope', 'keep', 'atop', 'secret', 'nature', 'transaction', 'within', 'department', 'mining', 'natural', 'resource', 'work', 'anexecutive', 'accountant', 'cooperation', 'four', 'top', 'official', 'possession', 'overdue', 'payment', 'bill', 'totaling', 'twenty', 'sixmillion', 'five', 'hundred', 'thousand', 'dollar', 'want', 'transferabroad', 'assistance', 'cooperation', 'foreign', 'company', 'individualto', 'receive', 'said', 'fund', 'behalf', 'reliable', 'foreign', 'non', 'companyaccount', 'receive', 'fund', 'handicapped', 'thecircumstances', 'south', 'africa', 'civil', 'service', 'code', 'conduct', 'notallow', 'u', 'operate', 'offshore', 'account', 'hence', 'importance', 'wholetransaction', 'amount', 'twenty', 'six', 'million', 'five', 'hundred', 'thousand', 'represents', 'thebalance', 'total', 'contract', 'value', 'executed', 'behalf', 'department', 'bya', 'foreign', 'contracting', 'firm', 'official', 'invoiceddeliberately', 'though', 'actual', 'contract', 'cost', 'paid', 'theoriginal', 'contractor', 'leaving', 'balance', 'tune', 'said', 'amountwhich', 'principle', 'gotten', 'approval', 'remit', 'telegraphictransfer', 'foreign', 'bank', 'account', 'provide', 'filing', 'inan', 'application', 'justice', 'ministry', 'south', 'africa', 'thetransfer', 'right', 'privilege', 'former', 'contractor', 'henceprovide', 'private', 'direct', 'fax', 'number', 'form', 'sendacross', 'authority', 'partner', 'involved', 'propose', 'bewilling', 'assist', 'u', 'transaction', 'share', 'sum', 'twenty', 'six', 'million', 'five', 'hundred', 'thousand', 'dollar', 'usand', 'taxation', 'miscellaneous', 'expense', 'business', 'safe', 'part', 'provided', 'treat', 'utmost', 'secrecy', 'andconfidentiality', 'also', 'area', 'specialization', 'hindrance', 'tothe', 'successful', 'execution', 'transaction', 'reposed', 'confidencein', 'hope', 'disappoint', 'endeavor', 'contact', 'meimmediately', 'tel', 'fax', 'number', 'mail', 'address', 'whetheror', 'interested', 'deal', 'enable', 'mescout', 'another', 'foreign', 'partner', 'carry', 'deal', 'want', 'assureyou', 'partner', 'position', 'make', 'payment', 'ofthis', 'claim', 'possible', 'provided', 'give', 'u', 'strong', 'assurance', 'andguarantee', 'share', 'secured', 'please', 'remember', 'treat', 'thismatter', 'confidential', 'matter', 'comprehend', 'withany', 'form', 'exposure', 'still', 'active', 'government', 'service', 'andremember', 'time', 'essence', 'business', 'wait', 'anticipation', 'fullest', 'co', 'operation', 'faithfully']",
         "1",
         "1",
         "284",
         "dear dr z erick native cape town south africa anexecutive accountant south africa department mining naturalresources first foremost apologized using medium reach youfor transaction business magnitude due toconfidentiality prompt access reposed medium informed thata member south africa export promotion council sepc atthe government delegation country trade exhibition gaveyour enviable credential particular decided seek aconfidential co operation execution deal describedhereunder benefit party hope keep atop secret nature transaction within department mining natural resource work anexecutive accountant cooperation four top official possession overdue payment bill totaling twenty sixmillion five hundred thousand dollar want transferabroad assistance cooperation foreign company individualto receive said fund behalf reliable foreign non companyaccount receive fund handicapped thecircumstances south africa civil service code conduct notallow u operate offshore account hence importance wholetransaction amount twenty six million five hundred thousand represents thebalance total contract value executed behalf department bya foreign contracting firm official invoiceddeliberately though actual contract cost paid theoriginal contractor leaving balance tune said amountwhich principle gotten approval remit telegraphictransfer foreign bank account provide filing inan application justice ministry south africa thetransfer right privilege former contractor henceprovide private direct fax number form sendacross authority partner involved propose bewilling assist u transaction share sum twenty six million five hundred thousand dollar usand taxation miscellaneous expense business safe part provided treat utmost secrecy andconfidentiality also area specialization hindrance tothe successful execution transaction reposed confidencein hope disappoint endeavor contact meimmediately tel fax number mail address whetheror interested deal enable mescout another foreign partner carry deal want assureyou partner position make payment ofthis claim possible provided give u strong assurance andguarantee share secured please remember treat thismatter confidential matter comprehend withany form exposure still active government service andremember time essence business wait anticipation fullest co operation faithfully"
        ],
        [
         "21",
         "May 7 2010For: Hillary",
         "0",
         "may hillary",
         "['may', 'hillary']",
         "0",
         "0",
         "2",
         "may hillary"
        ],
        [
         "22",
         "GOODDAY=2CWE ARE VERY SORRY IF THIS MIGHT OFFEND YOU=2C THOUGH WE DONT KNOW YOU BUT I AND MY YOUNG BROTHER BELIEVE THAT THE SPIRIT OF OUR FATHER STILL LEAVES WITH US=2C ALSO=2C WE KNOW HE IS AWARE THAT I AND MY YOUNG BROTHER ARE CONTACTING YOU FOR AN ASSISTANCE BASED ON TRUST=2EPERMIT ME TO USE THIS MEDIUM TO EXPLAIN OUR PROBLEM TO YOU IN THE NAME OF THE ALMIGHTY GOD WHOM WE SERVE=2E FIRSTLY=2CWE WANT TO EXPLAIN OUR SEIF TO YOU=2CSO THAT YOU WILL UNDERSTAND AND COMPREHEND OUR POINT CLEARLY=2EI AM Ms=2ESILVIA MAVASA 24YRS OLD=2CWITH MY YOUNG BROTHER DAVID MAVASA 22YERS OLD WE FROM BENIN REPUBLIC=2C THE ONLY DAURTHER AND SON  OF LATE MR AND MRS WILLIAM MAVASA=2E MY FATHER WAS A VERY WEALTHY COCOA MERCHANT BASED IN DAKAR-SENEGAL=2C THE ECONOMIC CAPITAL OF SENEGAL=2C BEFORE HE WAS POISONED TO DEATH BY HIS BUSINESS ASSOCIATES ON ONE OF HIS BUSINESS OUTING=2E WHEN OUR MOTHER DIED ON THE 21ST OCTOBER 1996=2C OUR FATHER TOOK US SO SPECIAL BECAUSE I AND MY YOUNG BROTHER WAS THE ONLY DAURTHER  AND SON HE HAD BEFORE HIS DEATH ON THE 24TH OF AUGUST 2006 IN A PRIVATE HOSPITAL HERE IN PORTO-NOVO=2CBENIN REPUBLIC=2E HE SECRETLY CALLED ME ON HIS BEDSIDE AND TOLD ME THAT HE HAS SUM OF US $22million DEPOSITED IN A BANK  =28IN DAKAR-SENEGAL=29=2CWHICH MY NAME WAS USED AS HIS NEXT OF KIN IN DEPOSIT OF THE FUND=2E DUE TO HIS ENCOUNTER WITH HIS ASSOCIATES AND RELATIVES=2C WHICH LEAD TO HIS DEATH=2C HE INSTRUCTED US TO SEEK FOR A FOREIGN FRIEND WHO WILL AID US IN THE TRANSFER OF THE MONEY FOR OUR EDUCATION=2C INVESTMENT AND LIVE A GOOD LIFE=2E WE ARE HONOURABLY SEEKING YOUR ASSISTANCE IN THE FOLLOWING WAYS=3B-TO ASSIST US IN COMING OVER TO YOUR COUNTRY-TO FURTHER OUR EDUCATION AND TO SECURE A RESIDENTIAL PERMIT IN YOUR COUNTRY=2E MOREOVER=2C WE ARE  WILLING TO OFFER YOU 20% WITH 5% IN ADDITION FOR ALL YOUR EXPENSES AS COMPENSATION FOR YOUR EFFORT=2E PLEASE INDICATE YOUR WILLINGLESS TO HELP US BY FORWARDING YOUR FULL NAME AND ADDRESS=2E   1=2E Your Full Name=2E=2E=2E=2E=2E=2E=2E=2E=2E=2E=2E=2E=2E=2E=2E=2E=2E=2E=2E=2E=2E=2E=2E=2E=2E=2E=2E=2E=2E=2E=2E=2E=2E=2E=2E=2E=2E=2E=2E 2=2ENationality=2E=2E=2E=2E=2E=2E=2E=2E=2E=2E=2E=2E=2E=2E=2E=2E=2E=2E=2E=2E=2E=2E=2E=2E=2E=2E=2E=2E=2E=2E=2E=2E=2E=2E=2E=2E=2E=2E=2E=2E=2E=2E=2E=2E=2E=2E3=2E Your Age =2E=2E=2E=2E=2E=2E=2E=2E=2E=2E=2E=2E=2E=2E=2E=2E=2E=2E=2E=2E=2E=2E=2E=2E=2E=2E=2E=2E=2E=2E=2E=2E=2E=2E=2E=2E=2E=2E=2E=2E 4=2E Your Sex=2E=2E=2E=2E=2E=2E=2E=2E=2E=2E=2E=2E=2E=2E=2E=2E=2E=2E=2E=2E=2E=2E=2E=2E=2E=2E=2E=2E=2E=2E=2E=2E=2E=2E=2E=2E=2E=2E5=2E Marital Status=2E=2E=2E=2E=2E=2E=2E=2E=2E=2E=2E=2E=2E=2E=2E=2E=2E=2E=2E=2E=2E=2E=2E=2E=2E=2E=2E=2E=2E=2E=2E=2E=2E=2E6=2EYour Occupation=2E=2E=2E=2E=2E=2E=2E=2E=2E=2E=2E=2E=2E=2E=2E=2E=2E=2E=2E=2E=2E=2E=2E=2E=2E=2E=2E=2E=2E=2E7=2EYour Home And Office Address=2E=2E=2E=2E=2E=2E=2E=2E=2E=2E=2E=2E=2E=2E=2E=2E8=2EYour Telephone And Fax Number=2E=2E=2E=2E=2E=2E=2E=2E=2E=2E=2E=2E=2E=2E=2E=2E=2E=2E=2E=2E=2E=2E=2E 9=2EA Scan Copy Of Your International Passport Or Driving Licence=2E=2E=2E=2E=2E=2E=2E=2E=2E=2E10=2E Bank Account Details=2E=2E=2E=2E=2E=2E=2E=2E=2E=2E=2E=2E=2E=2E=2E=2E=2E=2E=2E=2E=2E=2E=2E=2E=2E=2E=2E=2E=2E=2E=2E=2E=2E=2E=2E=2E=2E=2E=2E=2E=2E=2E=2E=2E=2E=2E=2E PLEASE REPLY PROMPTLY=2EMAY THE LORD BE WITH YOU AS WE AWAIT YOUR POSITIVE DECISION TO HELP=2ETHANKS AND GOD BLESS=2EBEST REGARDS=2EReply Us With This Email Address=3A   silvia=5Fdavid11=40yahoo=2Ecom Ms Silvia Mavasa & Brother David Mavasa=2E",
         "1",
         "goodday cwe sorry might offend though dont know young brother believe spirit father still leaves us also know aware young brother contacting assistance based trust epermit use medium explain problem name almighty god serve firstly cwe want explain seif cso understand comprehend point clearly ei ms esilvia mavasa yrs old cwith young brother david mavasa yers old benin republic daurther son late mr mrs william mavasa father wealthy cocoa merchant based dakar senegal economic capital senegal poisoned death business associates one business outing mother died st october father took us special young brother daurther son death th august private hospital porto novo cbenin republic secretly called bedside told sum us million deposited bank dakar senegal cwhich name used next kin deposit fund due encounter associates relatives lead death instructed us seek foreign friend aid us transfer money education investment live good life honourably seeking assistance following ways assist us coming country education secure residential permit country moreover willing offer addition expenses compensation effort please indicate willingless help us forwarding full name address e full name e e e e e e e e e e e e e e e e e e e enationality e e e e e e e e e e e e e e e e e e e e e e e age e e e e e e e e e e e e e e e e e e e e sex e e e e e e e e e e e e e e e e e e e marital status e e e e e e e e e e e e e e e e e eyour occupation e e e e e e e e e e e e e e e eyour home office address e e e e e e e e eyour telephone fax number e e e e e e e e e e e ea scan copy international passport driving licence e e e e e bank account details e e e e e e e e e e e e e e e e e e e e e e e please reply promptly emay lord await positive decision help ethanks god bless ebest regards ereply us email address silvia fdavid yahoo ecom ms silvia mavasa brother david mavasa e",
         "['goodday', 'cwe', 'sorry', 'might', 'offend', 'though', 'dont', 'know', 'young', 'brother', 'believe', 'spirit', 'father', 'still', 'leaf', 'u', 'also', 'know', 'aware', 'young', 'brother', 'contacting', 'assistance', 'based', 'trust', 'epermit', 'use', 'medium', 'explain', 'problem', 'name', 'almighty', 'god', 'serve', 'firstly', 'cwe', 'want', 'explain', 'seif', 'cso', 'understand', 'comprehend', 'point', 'clearly', 'ei', 'm', 'esilvia', 'mavasa', 'yr', 'old', 'cwith', 'young', 'brother', 'david', 'mavasa', 'yers', 'old', 'benin', 'republic', 'daurther', 'son', 'late', 'mr', 'mr', 'william', 'mavasa', 'father', 'wealthy', 'cocoa', 'merchant', 'based', 'dakar', 'senegal', 'economic', 'capital', 'senegal', 'poisoned', 'death', 'business', 'associate', 'one', 'business', 'outing', 'mother', 'died', 'st', 'october', 'father', 'took', 'u', 'special', 'young', 'brother', 'daurther', 'son', 'death', 'th', 'august', 'private', 'hospital', 'porto', 'novo', 'cbenin', 'republic', 'secretly', 'called', 'bedside', 'told', 'sum', 'u', 'million', 'deposited', 'bank', 'dakar', 'senegal', 'cwhich', 'name', 'used', 'next', 'kin', 'deposit', 'fund', 'due', 'encounter', 'associate', 'relative', 'lead', 'death', 'instructed', 'u', 'seek', 'foreign', 'friend', 'aid', 'u', 'transfer', 'money', 'education', 'investment', 'live', 'good', 'life', 'honourably', 'seeking', 'assistance', 'following', 'way', 'assist', 'u', 'coming', 'country', 'education', 'secure', 'residential', 'permit', 'country', 'moreover', 'willing', 'offer', 'addition', 'expense', 'compensation', 'effort', 'please', 'indicate', 'willingless', 'help', 'u', 'forwarding', 'full', 'name', 'address', 'e', 'full', 'name', 'e', 'e', 'e', 'e', 'e', 'e', 'e', 'e', 'e', 'e', 'e', 'e', 'e', 'e', 'e', 'e', 'e', 'e', 'e', 'enationality', 'e', 'e', 'e', 'e', 'e', 'e', 'e', 'e', 'e', 'e', 'e', 'e', 'e', 'e', 'e', 'e', 'e', 'e', 'e', 'e', 'e', 'e', 'e', 'age', 'e', 'e', 'e', 'e', 'e', 'e', 'e', 'e', 'e', 'e', 'e', 'e', 'e', 'e', 'e', 'e', 'e', 'e', 'e', 'e', 'sex', 'e', 'e', 'e', 'e', 'e', 'e', 'e', 'e', 'e', 'e', 'e', 'e', 'e', 'e', 'e', 'e', 'e', 'e', 'e', 'marital', 'status', 'e', 'e', 'e', 'e', 'e', 'e', 'e', 'e', 'e', 'e', 'e', 'e', 'e', 'e', 'e', 'e', 'e', 'eyour', 'occupation', 'e', 'e', 'e', 'e', 'e', 'e', 'e', 'e', 'e', 'e', 'e', 'e', 'e', 'e', 'e', 'eyour', 'home', 'office', 'address', 'e', 'e', 'e', 'e', 'e', 'e', 'e', 'e', 'eyour', 'telephone', 'fax', 'number', 'e', 'e', 'e', 'e', 'e', 'e', 'e', 'e', 'e', 'e', 'e', 'ea', 'scan', 'copy', 'international', 'passport', 'driving', 'licence', 'e', 'e', 'e', 'e', 'e', 'bank', 'account', 'detail', 'e', 'e', 'e', 'e', 'e', 'e', 'e', 'e', 'e', 'e', 'e', 'e', 'e', 'e', 'e', 'e', 'e', 'e', 'e', 'e', 'e', 'e', 'e', 'please', 'reply', 'promptly', 'emay', 'lord', 'await', 'positive', 'decision', 'help', 'ethanks', 'god', 'bless', 'ebest', 'regard', 'ereply', 'u', 'email', 'address', 'silvia', 'fdavid', 'yahoo', 'ecom', 'm', 'silvia', 'mavasa', 'brother', 'david', 'mavasa', 'e']",
         "0",
         "1",
         "389",
         "goodday cwe sorry might offend though dont know young brother believe spirit father still leaf u also know aware young brother contacting assistance based trust epermit use medium explain problem name almighty god serve firstly cwe want explain seif cso understand comprehend point clearly ei m esilvia mavasa yr old cwith young brother david mavasa yers old benin republic daurther son late mr mr william mavasa father wealthy cocoa merchant based dakar senegal economic capital senegal poisoned death business associate one business outing mother died st october father took u special young brother daurther son death th august private hospital porto novo cbenin republic secretly called bedside told sum u million deposited bank dakar senegal cwhich name used next kin deposit fund due encounter associate relative lead death instructed u seek foreign friend aid u transfer money education investment live good life honourably seeking assistance following way assist u coming country education secure residential permit country moreover willing offer addition expense compensation effort please indicate willingless help u forwarding full name address e full name e e e e e e e e e e e e e e e e e e e enationality e e e e e e e e e e e e e e e e e e e e e e e age e e e e e e e e e e e e e e e e e e e e sex e e e e e e e e e e e e e e e e e e e marital status e e e e e e e e e e e e e e e e e eyour occupation e e e e e e e e e e e e e e e eyour home office address e e e e e e e e eyour telephone fax number e e e e e e e e e e e ea scan copy international passport driving licence e e e e e bank account detail e e e e e e e e e e e e e e e e e e e e e e e please reply promptly emay lord await positive decision help ethanks god bless ebest regard ereply u email address silvia fdavid yahoo ecom m silvia mavasa brother david mavasa e"
        ],
        [
         "23",
         "Ok.",
         "0",
         "ok",
         "['ok']",
         "0",
         "0",
         "1",
         "ok"
        ],
        [
         "24",
         ">From Monica YanganiEmail monicayangani250@netscape.netTel 27 8046828612ATTN:Sir/Madam ÃÂ  I know you will be surprised to hear from me, but please consider this as a request from family in dire need of assistance.I am Mrs.Monica Yangani, writing to you from Government Reserved Area (GRA).I got your contact information from the Republic of Congo Chamber of Commerce and Industry. When I was searching for a reliable individual or private company that can assist me to transfer a reasonable amount in a safe account abroad on behalf of my late husband, two sons and two daughters. I decided to solicit your assistance to transfer this sum of US $20 Million (Twenty Million, United States Dollars)inherited from my late husband in to your personal companyÃ¢ÂÂs account or private account.Before his death, he was a Brigadier in charge of arms and ammunition procurement for the (DRC) army. In his WILL?he specifically draws my attention to this US$ 20 Million which he deposited in a safe box in Private Security Company in South Africa. ÃÂ During the war, he was very dedicated and committed to winning the war against the rebels until when he found out that some Senior Army Officers and Government Functionaries were busy helping themselves with government funds and properties and sending them toforeign countries. Due to this, he and his former special advisers to the president were assigned by the President (Laurent Kabila) to purchase arms in South Africa, they saw this as a golden opportunity and diverted the money and divided it and he got a total sum of US $20 Million. He deposited the box in my sonÃ¢ÂÂs name and him alone with the deposit code canclaim it.I will be grateful if you can assist us now. I want you to do for us as an international partner to help us transfer this money which is in a safety box in the Security Company using your name as the beneficiary ofthis sum. You can contact ÃÂ me or my son (George Yangani) ÃÂ inSouth Africa on ÃÂ this number+27 8046828612. Then, we will tell you more details about it. We are in position to inform you of the whole procedures mapped out of the transfer of this money.We have agreed to give you 25% of the total sum for your assistance, 5% for any expenses that might occur from both sides in the course of this transaction,while the remaining 70% will be for my son's investment, which you will assist him to do abroad.Further information and arrangement will commence as soon as trust, confidence and good relationship will be established and safety of this fund assured when transferred to your account.Please treat this matter with utmost urgency.May Allah (God) bless you as I earnestly hope for yourassistance. Best Regards Monica Yangani (for the family)__________________________________________________________________Introducing the New Netscape Internet Service. Only $9.95 a month -- Sign up today at http://isp.netscape.com/registerNetscape. Just the Net You Need. New! Netscape Toolbar for Internet ExplorerSearch from anywhere on the Web and block those annoying pop-ups.Download now at http://channels.netscape.coms/search/install.jsp",
         "1",
         "monica yanganiemail monicayangani netscape nettel attn sir madam know surprised hear please consider request family dire need assistance mrs monica yangani writing government reserved area gra got contact information republic congo chamber commerce industry searching reliable individual private company assist transfer reasonable amount safe account abroad behalf late husband two sons two daughters decided solicit assistance transfer sum us million twenty million united states dollars inherited late husband personal company account private account death brigadier charge arms ammunition procurement drc army specifically draws attention us million deposited safe box private security company south africa war dedicated committed winning war rebels found senior army officers government functionaries busy helping government funds properties sending toforeign countries due former special advisers president assigned president laurent kabila purchase arms south africa saw golden opportunity diverted money divided got total sum us million deposited box son name alone deposit code canclaim grateful assist us want us international partner help us transfer money safety box security company using name beneficiary ofthis sum contact son george yangani insouth africa number tell details position inform whole procedures mapped transfer money agreed give total sum assistance expenses might occur sides course transaction remaining son investment assist abroad information arrangement commence soon trust confidence good relationship established safety fund assured transferred account please treat matter utmost urgency may allah god bless earnestly hope yourassistance best regards monica yangani family introducing new netscape internet service month sign today http isp netscape com registernetscape net need new netscape toolbar internet explorersearch anywhere web block annoying pop ups download http channels netscape coms search install jsp",
         "['monica', 'yanganiemail', 'monicayangani', 'netscape', 'nettel', 'attn', 'sir', 'madam', 'know', 'surprised', 'hear', 'please', 'consider', 'request', 'family', 'dire', 'need', 'assistance', 'mr', 'monica', 'yangani', 'writing', 'government', 'reserved', 'area', 'gra', 'got', 'contact', 'information', 'republic', 'congo', 'chamber', 'commerce', 'industry', 'searching', 'reliable', 'individual', 'private', 'company', 'assist', 'transfer', 'reasonable', 'amount', 'safe', 'account', 'abroad', 'behalf', 'late', 'husband', 'two', 'son', 'two', 'daughter', 'decided', 'solicit', 'assistance', 'transfer', 'sum', 'u', 'million', 'twenty', 'million', 'united', 'state', 'dollar', 'inherited', 'late', 'husband', 'personal', 'company', 'account', 'private', 'account', 'death', 'brigadier', 'charge', 'arm', 'ammunition', 'procurement', 'drc', 'army', 'specifically', 'draw', 'attention', 'u', 'million', 'deposited', 'safe', 'box', 'private', 'security', 'company', 'south', 'africa', 'war', 'dedicated', 'committed', 'winning', 'war', 'rebel', 'found', 'senior', 'army', 'officer', 'government', 'functionary', 'busy', 'helping', 'government', 'fund', 'property', 'sending', 'toforeign', 'country', 'due', 'former', 'special', 'adviser', 'president', 'assigned', 'president', 'laurent', 'kabila', 'purchase', 'arm', 'south', 'africa', 'saw', 'golden', 'opportunity', 'diverted', 'money', 'divided', 'got', 'total', 'sum', 'u', 'million', 'deposited', 'box', 'son', 'name', 'alone', 'deposit', 'code', 'canclaim', 'grateful', 'assist', 'u', 'want', 'u', 'international', 'partner', 'help', 'u', 'transfer', 'money', 'safety', 'box', 'security', 'company', 'using', 'name', 'beneficiary', 'ofthis', 'sum', 'contact', 'son', 'george', 'yangani', 'insouth', 'africa', 'number', 'tell', 'detail', 'position', 'inform', 'whole', 'procedure', 'mapped', 'transfer', 'money', 'agreed', 'give', 'total', 'sum', 'assistance', 'expense', 'might', 'occur', 'side', 'course', 'transaction', 'remaining', 'son', 'investment', 'assist', 'abroad', 'information', 'arrangement', 'commence', 'soon', 'trust', 'confidence', 'good', 'relationship', 'established', 'safety', 'fund', 'assured', 'transferred', 'account', 'please', 'treat', 'matter', 'utmost', 'urgency', 'may', 'allah', 'god', 'bless', 'earnestly', 'hope', 'yourassistance', 'best', 'regard', 'monica', 'yangani', 'family', 'introducing', 'new', 'netscape', 'internet', 'service', 'month', 'sign', 'today', 'http', 'isp', 'netscape', 'com', 'registernetscape', 'net', 'need', 'new', 'netscape', 'toolbar', 'internet', 'explorersearch', 'anywhere', 'web', 'block', 'annoying', 'pop', 'ups', 'download', 'http', 'channel', 'netscape', 'coms', 'search', 'install', 'jsp']",
         "1",
         "1",
         "263",
         "monica yanganiemail monicayangani netscape nettel attn sir madam know surprised hear please consider request family dire need assistance mr monica yangani writing government reserved area gra got contact information republic congo chamber commerce industry searching reliable individual private company assist transfer reasonable amount safe account abroad behalf late husband two son two daughter decided solicit assistance transfer sum u million twenty million united state dollar inherited late husband personal company account private account death brigadier charge arm ammunition procurement drc army specifically draw attention u million deposited safe box private security company south africa war dedicated committed winning war rebel found senior army officer government functionary busy helping government fund property sending toforeign country due former special adviser president assigned president laurent kabila purchase arm south africa saw golden opportunity diverted money divided got total sum u million deposited box son name alone deposit code canclaim grateful assist u want u international partner help u transfer money safety box security company using name beneficiary ofthis sum contact son george yangani insouth africa number tell detail position inform whole procedure mapped transfer money agreed give total sum assistance expense might occur side course transaction remaining son investment assist abroad information arrangement commence soon trust confidence good relationship established safety fund assured transferred account please treat matter utmost urgency may allah god bless earnestly hope yourassistance best regard monica yangani family introducing new netscape internet service month sign today http isp netscape com registernetscape net need new netscape toolbar internet explorersearch anywhere web block annoying pop ups download http channel netscape coms search install jsp"
        ],
        [
         "25",
         "<DIV><STRONG>Dearest One, <BR>&nbsp;&nbsp;&nbsp;&nbsp;&nbsp;&nbsp;&nbsp;&nbsp; I am writting this letter with due respect and heartful of tears since we have not known or met ourselves previously I am asking for your assistance after I have gone through a profile that speaks good of you. I want to find out if it's possible for you to deal with individual as to investment.I came across your profile and I feel it's highly reputable that is why I pick an interest getting across to you in respect of investment at my disposal. I will be so glad if you can allow me and lead me to the right channel towards your assistance to my situation now.I will make my proposal well known if I am given the opportunity. I would like to use this opportunity to introduce myself to you. Well </STRONG></DIV>  <DIV><STRONG>&nbsp; I am&nbsp;Ruth Williams from Liberia,the only daughter of COL Gabriel Williams My father is now late,he died during the last crisis in my country(Liberia). He was one of the!  high officers in the leadership of former president Charles Taylor who is now in exile after many innocent soul were killed,My father was unlucky to be among those that was killed by the rebel.Since after the death of my father my step mother and my uncles are after my life because they want to have the m,just because am&nbsp;too young.</STRONG></DIV>  <DIV><STRONG>My mother Died 2weeks,after&nbsp;the death of my father,&nbsp;before the death of my father ,&nbsp; he told me that he has the sum of Ten million,&nbsp; five Hundred thousand United State Dollars. USD ($10.500,000) fix desposited account,&nbsp; which is the cause of hatred of&nbsp; friends, and&nbsp; relatives, and even brothers,&nbsp;&nbsp;</STRONG></DIV>  <DIV><STRONG>&nbsp;&nbsp;&nbsp; &nbsp;That I should seek for a foreign partner or one capable and reliable that i can trust and love that will help me so that i can leave this country and invest in other business of my choice where I will transfer this money and us! e it for investment purposes and to further my education.&nbsp;</STRONG></DIV>  <DIV>&nbsp;</DIV>  <DIV><STRONG>so i am seeking for your asistance in making this purposes.</STRONG></DIV>  <DIV><STRONG>Furthermore,&nbsp;<A href=\"mailto:ruth_williamsy2k61@yahoo.com\">ruth_williamsy2k61@yahoo.com</A></STRONG><STRONG> you indicate your options towards assisting me as I believe that this transaction would be concluded successfully.</STRONG></DIV>  <DIV>&nbsp;</DIV>  <DIV><STRONG>Anticipating to hear from you soon.&nbsp; </STRONG></DIV>  <DIV>&nbsp;</DIV>  <DIV><STRONG>yours faithfully</STRONG></DIV>  <DIV>&nbsp;</DIV>  <DIV><STRONG>Ruth. W .</STRONG></DIV><p>\t\t<hr size=1>New Yahoo! Messenger with Voice. <a href=\"http://us.rd.yahoo.com/mail_us/taglines/postman6/*http://us.rd.yahoo.com/evt=39663/*http://voice.yahoo.com\">Call regular phones from your PC</a> and save big.--0-637752865-1143740567=:58337--",
         "1",
         "dearest one writting letter due respect heartful tears since known met previously asking assistance gone profile speaks good want find possible deal individual investment came across profile feel highly reputable pick interest getting across respect investment disposal glad allow lead right channel towards assistance situation make proposal well known given opportunity would like use opportunity introduce well ruth williams liberia daughter col gabriel williams father late died last crisis country liberia one high officers leadership former president charles taylor exile many innocent soul killed father unlucky among killed rebel since death father step mother uncles life want young mother died weeks death father death father told sum ten million five hundred thousand united state dollars usd fix desposited account cause hatred friends relatives even brothers seek foreign partner one capable reliable trust love help leave country invest business choice transfer money us investment purposes education seeking asistance making purposes furthermore ruth williamsyk yahoo com indicate options towards assisting believe transaction would concluded successfully anticipating hear soon faithfully ruth new yahoo messenger voice call regular phones pc save big",
         "['dearest', 'one', 'writting', 'letter', 'due', 'respect', 'heartful', 'tear', 'since', 'known', 'met', 'previously', 'asking', 'assistance', 'gone', 'profile', 'speaks', 'good', 'want', 'find', 'possible', 'deal', 'individual', 'investment', 'came', 'across', 'profile', 'feel', 'highly', 'reputable', 'pick', 'interest', 'getting', 'across', 'respect', 'investment', 'disposal', 'glad', 'allow', 'lead', 'right', 'channel', 'towards', 'assistance', 'situation', 'make', 'proposal', 'well', 'known', 'given', 'opportunity', 'would', 'like', 'use', 'opportunity', 'introduce', 'well', 'ruth', 'williams', 'liberia', 'daughter', 'col', 'gabriel', 'williams', 'father', 'late', 'died', 'last', 'crisis', 'country', 'liberia', 'one', 'high', 'officer', 'leadership', 'former', 'president', 'charles', 'taylor', 'exile', 'many', 'innocent', 'soul', 'killed', 'father', 'unlucky', 'among', 'killed', 'rebel', 'since', 'death', 'father', 'step', 'mother', 'uncle', 'life', 'want', 'young', 'mother', 'died', 'week', 'death', 'father', 'death', 'father', 'told', 'sum', 'ten', 'million', 'five', 'hundred', 'thousand', 'united', 'state', 'dollar', 'usd', 'fix', 'desposited', 'account', 'cause', 'hatred', 'friend', 'relative', 'even', 'brother', 'seek', 'foreign', 'partner', 'one', 'capable', 'reliable', 'trust', 'love', 'help', 'leave', 'country', 'invest', 'business', 'choice', 'transfer', 'money', 'u', 'investment', 'purpose', 'education', 'seeking', 'asistance', 'making', 'purpose', 'furthermore', 'ruth', 'williamsyk', 'yahoo', 'com', 'indicate', 'option', 'towards', 'assisting', 'believe', 'transaction', 'would', 'concluded', 'successfully', 'anticipating', 'hear', 'soon', 'faithfully', 'ruth', 'new', 'yahoo', 'messenger', 'voice', 'call', 'regular', 'phone', 'pc', 'save', 'big']",
         "1",
         "1",
         "178",
         "dearest one writting letter due respect heartful tear since known met previously asking assistance gone profile speaks good want find possible deal individual investment came across profile feel highly reputable pick interest getting across respect investment disposal glad allow lead right channel towards assistance situation make proposal well known given opportunity would like use opportunity introduce well ruth williams liberia daughter col gabriel williams father late died last crisis country liberia one high officer leadership former president charles taylor exile many innocent soul killed father unlucky among killed rebel since death father step mother uncle life want young mother died week death father death father told sum ten million five hundred thousand united state dollar usd fix desposited account cause hatred friend relative even brother seek foreign partner one capable reliable trust love help leave country invest business choice transfer money u investment purpose education seeking asistance making purpose furthermore ruth williamsyk yahoo com indicate option towards assisting believe transaction would concluded successfully anticipating hear soon faithfully ruth new yahoo messenger voice call regular phone pc save big"
        ],
        [
         "26",
         "I know you will be surprised to read from me, but  please consider this as arequest from a family in dire need of assistance.First, I must introducemyself I am MR. TSEPO VUSI from Angola. I am the first and only son of BRIGADIER VUSI  JONES. I  am presently resident in South Africa.I got your contact address from a business directory  in JohannesburgChamber of commerce and Industry. On  behalf of my widowed mother MRS. ELIZABETHVUSI I  desided to solicit for your assistance to transfer  the sum of US$21.5MILLION( TWENTY ONE MILLION FIVE  HUNDRED THOUSAND UNITED STATES DOLLARS)inheritedfrom my late father, into your personal company's account.Before my fathers' death, he was a Brigadier in  charge of Arms andAmmunation procurement for the Angola  Army. In his WILL, he specificallydrew my attention  to the said sum of money which he deposited in a  safe box ofa private Security Company in Johannesburg-  South Africa in a treasure box,fully documented in  my name.IN FACT MY FATHER SAID AND I QUOTE  MY BELOVED SON, I WISH TO DRAW YOURATTENTION TO US$21.5 MILLION . I DEPOSITED THE BOX CONTAINING THIS MONEY IN A SECURITYCOMPANY IN JOHANNESBURG, SOUTH  AFRICA. DURING THE WAR, I WAS VERY DEDICATEDAND OFFICERS AND GOVERNMENT FUNCTIONARIES WERE BUSSY  HELPING THEMSELVES WITHGOVERNMENT FUNDS AND  PROPERTIES AND SENDING THEM TO FOREIGN COUNTRIES.  DUETO THIS, WHEN I AND MY FORMER SPECIAL ADVISOR TO THE  PRESIDENT WERE ASSIGNEDBY THE PRESIDENT (EDUARDO  SANTOS) TO PURCHASE ARMS IN SOUTH AFRICA, WE SAW  THISAS A GOLDEN OPPORTUNITY AND DIVERTED THE MONEY AND  DIVIDED IT. i GOT A TOTAL SUMOF US$21.5 MILLION. IN  CASE OF MY ABSENCE ON EARTH, AS A RESULT OF DEATHONLY, YOU SHOULD SOLICIT FOR THE FUND FOR INVESTMENT  PURPOSES.>From the above, you will understand that the lives  and future of my familydepens on this money, as such I  will be grateful if you can assist us. We are nowliving in South Africa as political Asylum seekers and financial laws andregulation of the Republic of  South Africa do not permit us financial rights to suchhuge sum of money. In view of this, I cannot invest this  fund in South africa, hencei am prepared to offer  you 20% of the total fund, while 10% will be set asidefor local and international expenses and 70% will be for  my family and me.Finally, modalities on howthe transfer will be bone  will be conveyed to you once wehave established  trust and confidence between ourselves. Please treat thismatter as very urgent.Best regards,TSEPO VUSI",
         "1",
         "know surprised read please consider arequest family dire need assistance first must introducemyself mr tsepo vusi angola first son brigadier vusi jones presently resident south africa got contact address business directory johannesburgchamber commerce industry behalf widowed mother mrs elizabethvusi desided solicit assistance transfer sum us million twenty one million five hundred thousand united states dollars inheritedfrom late father personal company account fathers death brigadier charge arms andammunation procurement angola army specificallydrew attention said sum money deposited safe box ofa private security company johannesburg south africa treasure box fully documented name fact father said quote beloved son wish draw yourattention us million deposited box containing money securitycompany johannesburg south africa war dedicatedand officers government functionaries bussy helping withgovernment funds properties sending foreign countries dueto former special advisor president assignedby president eduardo santos purchase arms south africa saw thisas golden opportunity diverted money divided got total sumof us million case absence earth result deathonly solicit fund investment purposes understand lives future familydepens money grateful assist us nowliving south africa political asylum seekers financial laws andregulation republic south africa permit us financial rights suchhuge sum money view cannot invest fund south africa hencei prepared offer total fund set asidefor local international expenses family finally modalities howthe transfer bone conveyed wehave established trust confidence please treat thismatter urgent best regards tsepo vusi",
         "['know', 'surprised', 'read', 'please', 'consider', 'arequest', 'family', 'dire', 'need', 'assistance', 'first', 'must', 'introducemyself', 'mr', 'tsepo', 'vusi', 'angola', 'first', 'son', 'brigadier', 'vusi', 'jones', 'presently', 'resident', 'south', 'africa', 'got', 'contact', 'address', 'business', 'directory', 'johannesburgchamber', 'commerce', 'industry', 'behalf', 'widowed', 'mother', 'mr', 'elizabethvusi', 'desided', 'solicit', 'assistance', 'transfer', 'sum', 'u', 'million', 'twenty', 'one', 'million', 'five', 'hundred', 'thousand', 'united', 'state', 'dollar', 'inheritedfrom', 'late', 'father', 'personal', 'company', 'account', 'father', 'death', 'brigadier', 'charge', 'arm', 'andammunation', 'procurement', 'angola', 'army', 'specificallydrew', 'attention', 'said', 'sum', 'money', 'deposited', 'safe', 'box', 'ofa', 'private', 'security', 'company', 'johannesburg', 'south', 'africa', 'treasure', 'box', 'fully', 'documented', 'name', 'fact', 'father', 'said', 'quote', 'beloved', 'son', 'wish', 'draw', 'yourattention', 'u', 'million', 'deposited', 'box', 'containing', 'money', 'securitycompany', 'johannesburg', 'south', 'africa', 'war', 'dedicatedand', 'officer', 'government', 'functionary', 'bussy', 'helping', 'withgovernment', 'fund', 'property', 'sending', 'foreign', 'country', 'dueto', 'former', 'special', 'advisor', 'president', 'assignedby', 'president', 'eduardo', 'santos', 'purchase', 'arm', 'south', 'africa', 'saw', 'thisas', 'golden', 'opportunity', 'diverted', 'money', 'divided', 'got', 'total', 'sumof', 'u', 'million', 'case', 'absence', 'earth', 'result', 'deathonly', 'solicit', 'fund', 'investment', 'purpose', 'understand', 'life', 'future', 'familydepens', 'money', 'grateful', 'assist', 'u', 'nowliving', 'south', 'africa', 'political', 'asylum', 'seeker', 'financial', 'law', 'andregulation', 'republic', 'south', 'africa', 'permit', 'u', 'financial', 'right', 'suchhuge', 'sum', 'money', 'view', 'can', 'not', 'invest', 'fund', 'south', 'africa', 'hencei', 'prepared', 'offer', 'total', 'fund', 'set', 'asidefor', 'local', 'international', 'expense', 'family', 'finally', 'modality', 'howthe', 'transfer', 'bone', 'conveyed', 'wehave', 'established', 'trust', 'confidence', 'please', 'treat', 'thismatter', 'urgent', 'best', 'regard', 'tsepo', 'vusi']",
         "1",
         "1",
         "219",
         "know surprised read please consider arequest family dire need assistance first must introducemyself mr tsepo vusi angola first son brigadier vusi jones presently resident south africa got contact address business directory johannesburgchamber commerce industry behalf widowed mother mr elizabethvusi desided solicit assistance transfer sum u million twenty one million five hundred thousand united state dollar inheritedfrom late father personal company account father death brigadier charge arm andammunation procurement angola army specificallydrew attention said sum money deposited safe box ofa private security company johannesburg south africa treasure box fully documented name fact father said quote beloved son wish draw yourattention u million deposited box containing money securitycompany johannesburg south africa war dedicatedand officer government functionary bussy helping withgovernment fund property sending foreign country dueto former special advisor president assignedby president eduardo santos purchase arm south africa saw thisas golden opportunity diverted money divided got total sumof u million case absence earth result deathonly solicit fund investment purpose understand life future familydepens money grateful assist u nowliving south africa political asylum seeker financial law andregulation republic south africa permit u financial right suchhuge sum money view can not invest fund south africa hencei prepared offer total fund set asidefor local international expense family finally modality howthe transfer bone conveyed wehave established trust confidence please treat thismatter urgent best regard tsepo vusi"
        ],
        [
         "27",
         "will move saebBibi confirmed 12:30. Does that give u enough time?",
         "0",
         "move saebbibi confirmed give enough time",
         "['move', 'saebbibi', 'confirmed', 'give', 'enough', 'time']",
         "0",
         "0",
         "6",
         "move saebbibi confirmed give enough time"
        ],
        [
         "28",
         "<DIV><DIV>Hello my dear</DIV><DIV>&nbsp;</DIV><DIV>I wish to solicit your kind and urgent assistance.My name is Mr.PATRICK AGOLO, a lawyer based in Lagos State of Nigeria.As a lawyer, I was a private legal adviser (for almost two decades) to a white couple who unfortunately lost their lives 3-months ago in a ghastly motor accident here in Nigeria. Prior to their death, this white couple had lived in this country since the 1960?s as missionaries and educationists. Unfortunately, they died childless, with no knownrelatives or next of kin.</DIV><DIV>&nbsp;</DIV><DIV>The issue at stake, for which I am writing you now, is that the deceased left behind the sum of US$7.8million in their joint account with ECO INTERNATIONAL BANK Nigeria Incorporated.<BR>Soon after the burial of the deceased, I had promptly notified the bank,which is awaiting me to present to them the person that is to inherit the account of the deceased.</DIV><DIV>&nbsp;</DIV><DIV>Incidentally, as I said before, the late couple had no known next of kin or relatives. No one else knows about this.However, it will amount to abuse of privilege for me to lay claim to the wealth and estate of the deceased, since as a black man i couldn't have been their relative. But then funds can't be left to the bank permanently/forever. So I have decided to contact you, to seek your consent to present your name to the bank as the next of kin and the appointed administrator/inheritor of the estates of the deceased.</DIV><DIV>&nbsp;</DIV><DIV>&nbsp;As a whiteman, you'll fit into the picture.As the lawyer to the deceased, no body can disbelieve me if i present you as the next of kin to the deceased. Moreover, I know the exact legal requirements and documents to secure in your favour to show proof that you are actually the next of kin/inheritor of everything left behind by the deceased. All these will be my responsibility to obtain from the court here in Nigeria. You won?t be needed here in person.</DIV><DIV>I can assure you that this is my specialty and there is nothing for you to be afraid of. I will handle and provide for all that it will take legally.Once everything needful is done, the bank will be satisfied to transfer the monies from the account of the deceased to yours.</DIV><DIV>&nbsp;</DIV><DIV>My interest is to take 60% of the funds while you take 30%, while the remaining 10% will be disbursed to any Orphanage-Home of our common choice.Please communicate your decision to me urgently, indicating your Telephone number in your reply so that I can call you and talk this thing over with you.</DIV><DIV>Pls. keep these disclosures confidential.<BR>Thank you.<BR></DIV><DIV>Sincerely yours,<BR>Barrister PATRICK AGOLO(ESQ)</DIV><DIV>&nbsp;</DIV></DIV><p>\t\t<hr size=1>Do you Yahoo!?<br> Read only the mail you want - <a href=\"http://us.rd.yahoo.com/mail_us/taglines/spamguard/*http://promotions.yahoo.comew_mail/static/protection.html\">Yahoo! Mail SpamGuard</a>.--0-1365810461-1111499824=:99763--",
         "1",
         "hello dear wish solicit kind urgent assistance name mr patrick agolo lawyer based lagos state nigeria lawyer private legal adviser almost two decades white couple unfortunately lost lives months ago ghastly motor accident nigeria prior death white couple lived country since missionaries educationists unfortunately died childless knownrelatives next kin issue stake writing deceased left behind sum us million joint account eco international bank nigeria incorporated soon burial deceased promptly notified bank awaiting present person inherit account deceased incidentally said late couple known next kin relatives one else knows however amount abuse privilege lay claim wealth estate deceased since black man relative funds left bank permanently forever decided contact seek consent present name bank next kin appointed administrator inheritor estates deceased whiteman fit picture lawyer deceased body disbelieve present next kin deceased moreover know exact legal requirements documents secure favour show proof actually next kin inheritor everything left behind deceased responsibility obtain court nigeria needed person assure specialty nothing afraid handle provide take legally everything needful done bank satisfied transfer monies account deceased interest take funds take remaining disbursed orphanage home common choice please communicate decision urgently indicating telephone number reply call talk thing pls keep disclosures confidential thank sincerely barrister patrick agolo esq yahoo read mail want yahoo mail spamguard",
         "['hello', 'dear', 'wish', 'solicit', 'kind', 'urgent', 'assistance', 'name', 'mr', 'patrick', 'agolo', 'lawyer', 'based', 'lagos', 'state', 'nigeria', 'lawyer', 'private', 'legal', 'adviser', 'almost', 'two', 'decade', 'white', 'couple', 'unfortunately', 'lost', 'life', 'month', 'ago', 'ghastly', 'motor', 'accident', 'nigeria', 'prior', 'death', 'white', 'couple', 'lived', 'country', 'since', 'missionary', 'educationist', 'unfortunately', 'died', 'childless', 'knownrelatives', 'next', 'kin', 'issue', 'stake', 'writing', 'deceased', 'left', 'behind', 'sum', 'u', 'million', 'joint', 'account', 'eco', 'international', 'bank', 'nigeria', 'incorporated', 'soon', 'burial', 'deceased', 'promptly', 'notified', 'bank', 'awaiting', 'present', 'person', 'inherit', 'account', 'deceased', 'incidentally', 'said', 'late', 'couple', 'known', 'next', 'kin', 'relative', 'one', 'else', 'know', 'however', 'amount', 'abuse', 'privilege', 'lay', 'claim', 'wealth', 'estate', 'deceased', 'since', 'black', 'man', 'relative', 'fund', 'left', 'bank', 'permanently', 'forever', 'decided', 'contact', 'seek', 'consent', 'present', 'name', 'bank', 'next', 'kin', 'appointed', 'administrator', 'inheritor', 'estate', 'deceased', 'whiteman', 'fit', 'picture', 'lawyer', 'deceased', 'body', 'disbelieve', 'present', 'next', 'kin', 'deceased', 'moreover', 'know', 'exact', 'legal', 'requirement', 'document', 'secure', 'favour', 'show', 'proof', 'actually', 'next', 'kin', 'inheritor', 'everything', 'left', 'behind', 'deceased', 'responsibility', 'obtain', 'court', 'nigeria', 'needed', 'person', 'assure', 'specialty', 'nothing', 'afraid', 'handle', 'provide', 'take', 'legally', 'everything', 'needful', 'done', 'bank', 'satisfied', 'transfer', 'monies', 'account', 'deceased', 'interest', 'take', 'fund', 'take', 'remaining', 'disbursed', 'orphanage', 'home', 'common', 'choice', 'please', 'communicate', 'decision', 'urgently', 'indicating', 'telephone', 'number', 'reply', 'call', 'talk', 'thing', 'pls', 'keep', 'disclosure', 'confidential', 'thank', 'sincerely', 'barrister', 'patrick', 'agolo', 'esq', 'yahoo', 'read', 'mail', 'want', 'yahoo', 'mail', 'spamguard']",
         "0",
         "1",
         "210",
         "hello dear wish solicit kind urgent assistance name mr patrick agolo lawyer based lagos state nigeria lawyer private legal adviser almost two decade white couple unfortunately lost life month ago ghastly motor accident nigeria prior death white couple lived country since missionary educationist unfortunately died childless knownrelatives next kin issue stake writing deceased left behind sum u million joint account eco international bank nigeria incorporated soon burial deceased promptly notified bank awaiting present person inherit account deceased incidentally said late couple known next kin relative one else know however amount abuse privilege lay claim wealth estate deceased since black man relative fund left bank permanently forever decided contact seek consent present name bank next kin appointed administrator inheritor estate deceased whiteman fit picture lawyer deceased body disbelieve present next kin deceased moreover know exact legal requirement document secure favour show proof actually next kin inheritor everything left behind deceased responsibility obtain court nigeria needed person assure specialty nothing afraid handle provide take legally everything needful done bank satisfied transfer monies account deceased interest take fund take remaining disbursed orphanage home common choice please communicate decision urgently indicating telephone number reply call talk thing pls keep disclosure confidential thank sincerely barrister patrick agolo esq yahoo read mail want yahoo mail spamguard"
        ],
        [
         "29",
         "----------- REGARDS, MR NELSON SMITH.KINDLY REPLY ME ON MY PRIVATE EMAIL ADDRESS;nelsonsmith2000@yahoo.com",
         "1",
         "regards mr nelson smith kindly reply private email address nelsonsmith yahoo com",
         "['regard', 'mr', 'nelson', 'smith', 'kindly', 'reply', 'private', 'email', 'address', 'nelsonsmith', 'yahoo', 'com']",
         "0",
         "0",
         "12",
         "regard mr nelson smith kindly reply private email address nelsonsmith yahoo com"
        ],
        [
         "30",
         "Attn=2FPls Dear Partner=2C I would like to apply through this medium for your co-operation and to secure an opportunity to invest and do joint business with you in your country=2E I have a substantial capital i honourably intend to invest in your country into a very lucrative business venture of which you are to advise and execute the said venture over there for the mutual benefits of both of us=2E Your able co-operation is to become my business partner in your country and create ideas on how money will be invested=2Cproperly managed and the type ofinvestment after the money is transferred to your custody with your help and assistance=2E Meanwhile=2Con indication of your willingness to handle this transaction sincerely by protecting our interests and upon your acceptance of this proposal=2CI would furnish you with the full detailed information=2C procedure=2Camount involve and mutually agree on your percentage interest or share holding for helping me to secure the release of the deposit and investing the money in your country under your proper management and care=2E I shall be glad to reserve this respect and opportunity for you=2Cif you so desire=2Cbut do urge you to give the matter your immediate attention itdeserves=2E If this proposal is acceptable by you=2Cplease do not make undue advantage of the trust i bestow on you=2Cand your urgent reply is highly needed=2Cfor more detailes information=2E Looking forward to your candid and urgent call and positive reply today and a mutual healthy business relationship with you=2E Best regards=2Cand have a great day=2E Yours Faithfully=2C Mr=2EMalick Camara=2E In Dakar=2FSenegal=2E",
         "1",
         "attn fpls dear partner would like apply medium co operation secure opportunity invest joint business country substantial capital honourably intend invest country lucrative business venture advise execute said venture mutual benefits us able co operation become business partner country create ideas money invested cproperly managed type ofinvestment money transferred custody help assistance meanwhile con indication willingness handle transaction sincerely protecting interests upon acceptance proposal ci would furnish full detailed information procedure camount involve mutually agree percentage interest share holding helping secure release deposit investing money country proper management care shall glad reserve respect opportunity cif desire cbut urge give matter immediate attention itdeserves proposal acceptable cplease make undue advantage trust bestow cand urgent reply highly needed cfor detailes information looking forward candid urgent call positive reply today mutual healthy business relationship best regards cand great day faithfully mr emalick camara dakar fsenegal e",
         "['attn', 'fpls', 'dear', 'partner', 'would', 'like', 'apply', 'medium', 'co', 'operation', 'secure', 'opportunity', 'invest', 'joint', 'business', 'country', 'substantial', 'capital', 'honourably', 'intend', 'invest', 'country', 'lucrative', 'business', 'venture', 'advise', 'execute', 'said', 'venture', 'mutual', 'benefit', 'u', 'able', 'co', 'operation', 'become', 'business', 'partner', 'country', 'create', 'idea', 'money', 'invested', 'cproperly', 'managed', 'type', 'ofinvestment', 'money', 'transferred', 'custody', 'help', 'assistance', 'meanwhile', 'con', 'indication', 'willingness', 'handle', 'transaction', 'sincerely', 'protecting', 'interest', 'upon', 'acceptance', 'proposal', 'ci', 'would', 'furnish', 'full', 'detailed', 'information', 'procedure', 'camount', 'involve', 'mutually', 'agree', 'percentage', 'interest', 'share', 'holding', 'helping', 'secure', 'release', 'deposit', 'investing', 'money', 'country', 'proper', 'management', 'care', 'shall', 'glad', 'reserve', 'respect', 'opportunity', 'cif', 'desire', 'cbut', 'urge', 'give', 'matter', 'immediate', 'attention', 'itdeserves', 'proposal', 'acceptable', 'cplease', 'make', 'undue', 'advantage', 'trust', 'bestow', 'cand', 'urgent', 'reply', 'highly', 'needed', 'cfor', 'detailes', 'information', 'looking', 'forward', 'candid', 'urgent', 'call', 'positive', 'reply', 'today', 'mutual', 'healthy', 'business', 'relationship', 'best', 'regard', 'cand', 'great', 'day', 'faithfully', 'mr', 'emalick', 'camara', 'dakar', 'fsenegal', 'e']",
         "0",
         "1",
         "143",
         "attn fpls dear partner would like apply medium co operation secure opportunity invest joint business country substantial capital honourably intend invest country lucrative business venture advise execute said venture mutual benefit u able co operation become business partner country create idea money invested cproperly managed type ofinvestment money transferred custody help assistance meanwhile con indication willingness handle transaction sincerely protecting interest upon acceptance proposal ci would furnish full detailed information procedure camount involve mutually agree percentage interest share holding helping secure release deposit investing money country proper management care shall glad reserve respect opportunity cif desire cbut urge give matter immediate attention itdeserves proposal acceptable cplease make undue advantage trust bestow cand urgent reply highly needed cfor detailes information looking forward candid urgent call positive reply today mutual healthy business relationship best regard cand great day faithfully mr emalick camara dakar fsenegal e"
        ],
        [
         "31",
         "And your statement is out",
         "0",
         "statement",
         "['statement']",
         "0",
         "0",
         "1",
         "statement"
        ],
        [
         "32",
         "Will give some thought and pass along any names I can think of.Jm",
         "0",
         "give thought pass along names think jm",
         "['give', 'thought', 'pas', 'along', 'name', 'think', 'jm']",
         "0",
         "0",
         "7",
         "give thought pas along name think jm"
        ],
        [
         "33",
         "IRECTOR<br><br> <br><br>Dear Sir,<br><br> <br><br>Let you not be surprise=d with this my private mail to you because I got your contact through the=  www.nge.ru  web-site due to my personal search for a Russian businessma=n who can help me receive, secure or invest the sum of US$15,000,000.<br>=<br> <br><br>To introduce myself to you, I am Mr. Oliver Chulu H.,a citiz=en of Liberia-West Africa. I am the youngest brother to the wife of the e=x-president of Liberia Mrs. Jewel Howard. Presently, I am on political as=ylum in Spain.<br><br> <br><br>I have gone through your company profile a=nd think that you can be capable to help me privately to secure or invest= this private fund of mine with your company name or your personal name. =Because of my family political problems and my asylum situation here, I c=annot invest this fund in my name and this is the main reason why I conta=ct you for your assistance. Another major reason why I beg you to handle =this transaction with maximum confidentiality is because of my family cri=tical political situation.<br><br> <br><br>I deem it most necessary to co=ntact you,if you can willingly accept this offer and forward me with busi=ness opportunities in your country which will be very lucrative to both p=arties. I will most appreciate it if you can give this investment enquiry= a food for thought as I will want you to respond to this message as quic=k as possible.<br><br>Be informed that all capital investments shall be p=rovided by me while all business plans,feasibilty and ideas shall be made= available by you according to the code of investment in your country.<br=><br> <br><br>Finally, you could get back to me through this my private e=mail addresses below so that we can discuss and negotiate on our mutual u=nderstanding and all information provided to you. Kindly furnish me with =your private telephone number too for direct communication.<br><br> <br><=br>I look forward to hearing from you.<br><br>E mail.......... oliver_chu=lu@yahoo.com<br><br>Best regards,<br><br> <br><br>Mr. Oliver C.H.<br><br>=</span><br><br>- <span style=3D\"color:green;\">OLIVER CHULU</span></div></=div>--0-1237626344-1148665305=:93785--",
         "1",
         "irector dear sir let surprise private mail got contact www nge ru web site due personal search russian businessma help receive secure invest sum us introduce mr oliver chulu citiz en liberia west africa youngest brother wife x president liberia mrs jewel howard presently political ylum spain gone company profile nd think capable help privately secure invest private fund mine company name personal name family political problems asylum situation c annot invest fund name main reason conta ct assistance another major reason beg handle transaction maximum confidentiality family cri tical political situation deem necessary co ntact willingly accept offer forward busi ness opportunities country lucrative arties appreciate give investment enquiry food thought want respond message quic possible informed capital investments shall rovided business plans feasibilty ideas shall made available according code investment country finally could get back private mail addresses discuss negotiate mutual nderstanding information provided kindly furnish private telephone number direct communication look forward hearing mail oliver chu lu yahoo com best regards mr oliver h oliver chulu",
         "['irector', 'dear', 'sir', 'let', 'surprise', 'private', 'mail', 'got', 'contact', 'www', 'nge', 'ru', 'web', 'site', 'due', 'personal', 'search', 'russian', 'businessma', 'help', 'receive', 'secure', 'invest', 'sum', 'u', 'introduce', 'mr', 'oliver', 'chulu', 'citiz', 'en', 'liberia', 'west', 'africa', 'youngest', 'brother', 'wife', 'x', 'president', 'liberia', 'mr', 'jewel', 'howard', 'presently', 'political', 'ylum', 'spain', 'gone', 'company', 'profile', 'nd', 'think', 'capable', 'help', 'privately', 'secure', 'invest', 'private', 'fund', 'mine', 'company', 'name', 'personal', 'name', 'family', 'political', 'problem', 'asylum', 'situation', 'c', 'annot', 'invest', 'fund', 'name', 'main', 'reason', 'conta', 'ct', 'assistance', 'another', 'major', 'reason', 'beg', 'handle', 'transaction', 'maximum', 'confidentiality', 'family', 'cri', 'tical', 'political', 'situation', 'deem', 'necessary', 'co', 'ntact', 'willingly', 'accept', 'offer', 'forward', 'busi', 'ness', 'opportunity', 'country', 'lucrative', 'arties', 'appreciate', 'give', 'investment', 'enquiry', 'food', 'thought', 'want', 'respond', 'message', 'quic', 'possible', 'informed', 'capital', 'investment', 'shall', 'rovided', 'business', 'plan', 'feasibilty', 'idea', 'shall', 'made', 'available', 'according', 'code', 'investment', 'country', 'finally', 'could', 'get', 'back', 'private', 'mail', 'address', 'discus', 'negotiate', 'mutual', 'nderstanding', 'information', 'provided', 'kindly', 'furnish', 'private', 'telephone', 'number', 'direct', 'communication', 'look', 'forward', 'hearing', 'mail', 'oliver', 'chu', 'lu', 'yahoo', 'com', 'best', 'regard', 'mr', 'oliver', 'h', 'oliver', 'chulu']",
         "0",
         "1",
         "169",
         "irector dear sir let surprise private mail got contact www nge ru web site due personal search russian businessma help receive secure invest sum u introduce mr oliver chulu citiz en liberia west africa youngest brother wife x president liberia mr jewel howard presently political ylum spain gone company profile nd think capable help privately secure invest private fund mine company name personal name family political problem asylum situation c annot invest fund name main reason conta ct assistance another major reason beg handle transaction maximum confidentiality family cri tical political situation deem necessary co ntact willingly accept offer forward busi ness opportunity country lucrative arties appreciate give investment enquiry food thought want respond message quic possible informed capital investment shall rovided business plan feasibilty idea shall made available according code investment country finally could get back private mail address discus negotiate mutual nderstanding information provided kindly furnish private telephone number direct communication look forward hearing mail oliver chu lu yahoo com best regard mr oliver h oliver chulu"
        ],
        [
         "34",
         "PIs keep me updated on this project. Thx.",
         "0",
         "pis keep updated project thx",
         "['pi', 'keep', 'updated', 'project', 'thx']",
         "0",
         "0",
         "5",
         "pi keep updated project thx"
        ],
        [
         "35",
         "NUMBER, BANK DETAILS AND YOUR STATUS THE ABOVE INFORMATIONS WILL ENABLE ME WRITE LETTERS OF CLAIM AND NEXT OF KIN DESCRIPTION RESPECTIVELY. THIS WAY WE WILL USE YOUR NAME TO APPLY FOR PAYMENT AND RE-AWARD THE BENEFICARY IN YOUR NAME AS THE NEXT OF KIN TO THE LATE BENEFICIARY.IAM LOOKING FORWARD TO DOING THIS BUSINESS WITH YOU AND SOLICIT YOUR CONFIDENTIALITY IN THIS TRANSATION.PLEASE ACKNOWLEDGE THE RECEIPT OF THIS LETTER USING THE ABOVE EMAIL ADDRESS . I WILL SEND YOU DETAILED INFORMATION OF THIS PENDING PROJECT WHEN I HAVE HEARD FROM YOU.YOURS FAITHFULLY,MR ROBIN HANS CLARK",
         "1",
         "number bank details status informations enable write letters claim next kin description respectively way use name apply payment award beneficary name next kin late beneficiary iam looking forward business solicit confidentiality transation please acknowledge receipt letter using email address send detailed information pending project heard faithfully mr robin hans clark",
         "['number', 'bank', 'detail', 'status', 'information', 'enable', 'write', 'letter', 'claim', 'next', 'kin', 'description', 'respectively', 'way', 'use', 'name', 'apply', 'payment', 'award', 'beneficary', 'name', 'next', 'kin', 'late', 'beneficiary', 'iam', 'looking', 'forward', 'business', 'solicit', 'confidentiality', 'transation', 'please', 'acknowledge', 'receipt', 'letter', 'using', 'email', 'address', 'send', 'detailed', 'information', 'pending', 'project', 'heard', 'faithfully', 'mr', 'robin', 'han', 'clark']",
         "0",
         "1",
         "50",
         "number bank detail status information enable write letter claim next kin description respectively way use name apply payment award beneficary name next kin late beneficiary iam looking forward business solicit confidentiality transation please acknowledge receipt letter using email address send detailed information pending project heard faithfully mr robin han clark"
        ],
        [
         "36",
         "Dear Sir or Madam:We are keenly interested in setting up a new factory to produce 120,000 ERW oil casings per year to meet the big market of Shengli Oilfied. Since we lack some starting-up capital, we are seeking for investments. I will give you a brief introduction to the project as follow:I. Background:Shengli Oilfield, the second largest oilfield in China and the leading company of Sinopec Corp. (http://www.sinopec.com), as well as neighboring oilfields as Dagang Oilfield, Central Plain Oilfield and Jiangsu Oilfield are potential market of ERW oil casing. It is expected that the total oil casing needed in the above area is about 400,000 tons, including 260,000 tons in Sinopec and 150,000 tons in Shengli Oilfield. To meet the great need, we plan to set up a joint venture to produce 120,000 tons of ERW casings per year in Shengli Oilfield.  With good management and market outlets, we believe that this JV also has the potential to expand beyond China to other nations. II. About usShengli Oilfield Engineering Machinery Factory is one of sub-companies of Shengli Oilfield Co., Ltd, with total assets of 267 million yuan, net assets of 170 million yuan and 2462 staff. The factory mainly produces oilfield special equipment such as beam unit, Spiral-seam submerged-arc weldedsteel pipe, sucker rod, line pipe, casing, tubing, plastic compound pipe etc. It produces 200,000 tons of line pipes, 1 million meters of strengthened plastic compound pipes, 500 beam units, 2.5 million meters of sucker rods, 12,000 tons of PP gas pipes and 50,000 tons of oil tubings yearly, and has become important pipe base in Shandong and Shengli Oilfield. Its products have entering many areas as Shengli Oilfield, Daqing Oilfield, Liaohe Oilfield, Dagang Oilfield and so on. In 2002, the sale income amounted to over 600 million yuan.The Factory holds Quality accreditations as ISO9001, API and so on.III. Content of the projectIt is planned to introduce Japanese technology and equipment to set up one production line with range of casing diameter fromÃ¯Â¿Â½Ã¯Â¿Â½114 to Ã¯Â¿Â½Ã¯Â¿Â½339.7 and produce 120,000 tons of ERW casings and delivery pipes per year.IV. Product specificationsFor Casing: grade of steel are J55 and N80, specification ranges from Ã¯Â¿Â½Ã¯Â¿Â½114 to Ã¯Â¿Â½Ã¯Â¿Â½339.7For delivery: grade of steel are X52Ã¯Â¿Â½Ã¯Â¿Â½X60Ã¯Â¿Â½Ã¯Â¿Â½X70, specification ranges from Ã¯Â¿Â½Ã¯Â¿Â½114 to Ã¯Â¿Â½Ã¯Â¿Â½339.7.V. Economic AnalysisThe total investment in this project is 142.41 million yuan. After the completion of the project, it is estimated that the internal financial rate of return before paying tax is 24.9 percent with a payback period of 5.6 years, and the internal rate of return after paying tax is 21.8 percent with a payback period of 5.9 years.The break-even point of the project is 46.95 percent, which means the project can keep balance if the annual output amount to 42,000 tons.VI. Plans for cooperationWe have set up a joint venture with Japan's Marubeni in the early of the year, with a registered capital of 57 million yuan. The capital structure is as follow:a. Shengli Oilfield Bureau of Administration          19.95 million yuan   35Ã¯Â¿Â½Ã¯Â¿Â½b. Shengli Oilfield Engineering Machinery Facotry     17.10 million yuan   30Ã¯Â¿Â½Ã¯Â¿Â½c. Dongying District State Assets Operation & Management Co., Ltd 5.70million yuan 10Ã¯Â¿Â½Ã¯Â¿Â½d. Marubeni Engineering Technology Co., Ltd           14.25 million yuan   25Ã¯Â¿Â½Ã¯Â¿Â½To meet our capital need for this project, we are now planned to increase our registered capital to 118.88 million yuan. Taking our added investment into consideration, we need another 34.68 million yuan to get the plan executed. So we are seeking a new joint venture partner who'd like to join this project and meet our capital requirement.We would like to exchange the information with the manufacturers and suppliers who are interested in this project and have discussion on raw material supply as well as jointly investing the factory establishment. And we hope we could have good cooperation in future.For additional information regarding this project, please feel free to contact us.Looking forward to your prompt reply.Sincerely yours, Tony LeungProject officer",
         "1",
         "dear sir madam keenly interested setting new factory produce erw oil casings per year meet big market shengli oilfied since lack starting capital seeking investments give brief introduction project follow background shengli oilfield second largest oilfield china leading company sinopec corp http www sinopec com well neighboring oilfields dagang oilfield central plain oilfield jiangsu oilfield potential market erw oil casing expected total oil casing needed area tons including tons sinopec tons shengli oilfield meet great need plan set joint venture produce tons erw casings per year shengli oilfield good management market outlets believe jv also potential expand beyond china nations ii usshengli oilfield engineering machinery factory one sub companies shengli oilfield co ltd total assets million yuan net assets million yuan staff factory mainly produces oilfield special equipment beam unit spiral seam submerged arc weldedsteel pipe sucker rod line pipe casing tubing plastic compound pipe etc produces tons line pipes million meters strengthened plastic compound pipes beam units million meters sucker rods tons pp gas pipes tons oil tubings yearly become important pipe base shandong shengli oilfield products entering many areas shengli oilfield daqing oilfield liaohe oilfield dagang oilfield sale income amounted million yuan factory holds quality accreditations iso api iii content projectit planned introduce japanese technology equipment set one production line range casing diameter produce tons erw casings delivery pipes per year iv product specificationsfor casing grade steel specification ranges delivery grade steel x specification ranges economic analysisthe total investment project million yuan completion project estimated internal financial rate return paying tax percent payback period years internal rate return paying tax percent payback period years break even point project percent means project keep balance annual output amount tons vi plans cooperationwe set joint venture japan marubeni early year registered capital million yuan capital structure follow shengli oilfield bureau administration million yuan shengli oilfield engineering machinery facotry million yuan dongying district state assets operation management co ltd million yuan marubeni engineering technology co ltd million yuan meet capital need project planned increase registered capital million yuan taking added investment consideration need another million yuan get plan executed seeking new joint venture partner like join project meet capital requirement would like exchange information manufacturers suppliers interested project discussion raw material supply well jointly investing factory establishment hope could good cooperation future additional information regarding project please feel free contact us looking forward prompt reply sincerely tony leungproject officer",
         "['dear', 'sir', 'madam', 'keenly', 'interested', 'setting', 'new', 'factory', 'produce', 'erw', 'oil', 'casing', 'per', 'year', 'meet', 'big', 'market', 'shengli', 'oilfied', 'since', 'lack', 'starting', 'capital', 'seeking', 'investment', 'give', 'brief', 'introduction', 'project', 'follow', 'background', 'shengli', 'oilfield', 'second', 'largest', 'oilfield', 'china', 'leading', 'company', 'sinopec', 'corp', 'http', 'www', 'sinopec', 'com', 'well', 'neighboring', 'oilfield', 'dagang', 'oilfield', 'central', 'plain', 'oilfield', 'jiangsu', 'oilfield', 'potential', 'market', 'erw', 'oil', 'casing', 'expected', 'total', 'oil', 'casing', 'needed', 'area', 'ton', 'including', 'ton', 'sinopec', 'ton', 'shengli', 'oilfield', 'meet', 'great', 'need', 'plan', 'set', 'joint', 'venture', 'produce', 'ton', 'erw', 'casing', 'per', 'year', 'shengli', 'oilfield', 'good', 'management', 'market', 'outlet', 'believe', 'jv', 'also', 'potential', 'expand', 'beyond', 'china', 'nation', 'ii', 'usshengli', 'oilfield', 'engineering', 'machinery', 'factory', 'one', 'sub', 'company', 'shengli', 'oilfield', 'co', 'ltd', 'total', 'asset', 'million', 'yuan', 'net', 'asset', 'million', 'yuan', 'staff', 'factory', 'mainly', 'produce', 'oilfield', 'special', 'equipment', 'beam', 'unit', 'spiral', 'seam', 'submerged', 'arc', 'weldedsteel', 'pipe', 'sucker', 'rod', 'line', 'pipe', 'casing', 'tubing', 'plastic', 'compound', 'pipe', 'etc', 'produce', 'ton', 'line', 'pipe', 'million', 'meter', 'strengthened', 'plastic', 'compound', 'pipe', 'beam', 'unit', 'million', 'meter', 'sucker', 'rod', 'ton', 'pp', 'gas', 'pipe', 'ton', 'oil', 'tubing', 'yearly', 'become', 'important', 'pipe', 'base', 'shandong', 'shengli', 'oilfield', 'product', 'entering', 'many', 'area', 'shengli', 'oilfield', 'daqing', 'oilfield', 'liaohe', 'oilfield', 'dagang', 'oilfield', 'sale', 'income', 'amounted', 'million', 'yuan', 'factory', 'hold', 'quality', 'accreditation', 'iso', 'api', 'iii', 'content', 'projectit', 'planned', 'introduce', 'japanese', 'technology', 'equipment', 'set', 'one', 'production', 'line', 'range', 'casing', 'diameter', 'produce', 'ton', 'erw', 'casing', 'delivery', 'pipe', 'per', 'year', 'iv', 'product', 'specificationsfor', 'casing', 'grade', 'steel', 'specification', 'range', 'delivery', 'grade', 'steel', 'x', 'specification', 'range', 'economic', 'analysisthe', 'total', 'investment', 'project', 'million', 'yuan', 'completion', 'project', 'estimated', 'internal', 'financial', 'rate', 'return', 'paying', 'tax', 'percent', 'payback', 'period', 'year', 'internal', 'rate', 'return', 'paying', 'tax', 'percent', 'payback', 'period', 'year', 'break', 'even', 'point', 'project', 'percent', 'mean', 'project', 'keep', 'balance', 'annual', 'output', 'amount', 'ton', 'vi', 'plan', 'cooperationwe', 'set', 'joint', 'venture', 'japan', 'marubeni', 'early', 'year', 'registered', 'capital', 'million', 'yuan', 'capital', 'structure', 'follow', 'shengli', 'oilfield', 'bureau', 'administration', 'million', 'yuan', 'shengli', 'oilfield', 'engineering', 'machinery', 'facotry', 'million', 'yuan', 'dongying', 'district', 'state', 'asset', 'operation', 'management', 'co', 'ltd', 'million', 'yuan', 'marubeni', 'engineering', 'technology', 'co', 'ltd', 'million', 'yuan', 'meet', 'capital', 'need', 'project', 'planned', 'increase', 'registered', 'capital', 'million', 'yuan', 'taking', 'added', 'investment', 'consideration', 'need', 'another', 'million', 'yuan', 'get', 'plan', 'executed', 'seeking', 'new', 'joint', 'venture', 'partner', 'like', 'join', 'project', 'meet', 'capital', 'requirement', 'would', 'like', 'exchange', 'information', 'manufacturer', 'supplier', 'interested', 'project', 'discussion', 'raw', 'material', 'supply', 'well', 'jointly', 'investing', 'factory', 'establishment', 'hope', 'could', 'good', 'cooperation', 'future', 'additional', 'information', 'regarding', 'project', 'please', 'feel', 'free', 'contact', 'u', 'looking', 'forward', 'prompt', 'reply', 'sincerely', 'tony', 'leungproject', 'officer']",
         "0",
         "1",
         "397",
         "dear sir madam keenly interested setting new factory produce erw oil casing per year meet big market shengli oilfied since lack starting capital seeking investment give brief introduction project follow background shengli oilfield second largest oilfield china leading company sinopec corp http www sinopec com well neighboring oilfield dagang oilfield central plain oilfield jiangsu oilfield potential market erw oil casing expected total oil casing needed area ton including ton sinopec ton shengli oilfield meet great need plan set joint venture produce ton erw casing per year shengli oilfield good management market outlet believe jv also potential expand beyond china nation ii usshengli oilfield engineering machinery factory one sub company shengli oilfield co ltd total asset million yuan net asset million yuan staff factory mainly produce oilfield special equipment beam unit spiral seam submerged arc weldedsteel pipe sucker rod line pipe casing tubing plastic compound pipe etc produce ton line pipe million meter strengthened plastic compound pipe beam unit million meter sucker rod ton pp gas pipe ton oil tubing yearly become important pipe base shandong shengli oilfield product entering many area shengli oilfield daqing oilfield liaohe oilfield dagang oilfield sale income amounted million yuan factory hold quality accreditation iso api iii content projectit planned introduce japanese technology equipment set one production line range casing diameter produce ton erw casing delivery pipe per year iv product specificationsfor casing grade steel specification range delivery grade steel x specification range economic analysisthe total investment project million yuan completion project estimated internal financial rate return paying tax percent payback period year internal rate return paying tax percent payback period year break even point project percent mean project keep balance annual output amount ton vi plan cooperationwe set joint venture japan marubeni early year registered capital million yuan capital structure follow shengli oilfield bureau administration million yuan shengli oilfield engineering machinery facotry million yuan dongying district state asset operation management co ltd million yuan marubeni engineering technology co ltd million yuan meet capital need project planned increase registered capital million yuan taking added investment consideration need another million yuan get plan executed seeking new joint venture partner like join project meet capital requirement would like exchange information manufacturer supplier interested project discussion raw material supply well jointly investing factory establishment hope could good cooperation future additional information regarding project please feel free contact u looking forward prompt reply sincerely tony leungproject officer"
        ],
        [
         "37",
         "Dear CEO,I am Mr. Joseph Abu rime, a Regional Supervisor with A SECURITYAND FINANCE CO. in Amsterdam,Holland. We had a foreign client (name withHeld) who deposited a huge sum of money (US$12million dollars) with ourSecurity Company.Eventually, this client was among the victims of EGYPT AIR BOEING 767FLIGHT NO.990 that crashed on the 31-10-1999 in U.S.A but, since thenWe have not had any body coming for the claims as the next of kin. ASituation I have monitored closely with my position in the Company. Now,Having monitored this deposit and managed it over the years before hisDeath, and hence nobody has showed up as the next of kin for the past fourYear plus, I have removed the file to my private safe.I now solicit for your assistance to present you as the next of kinas every other arrangement has being concluded by me and I am onlyWaiting for a foreigner to enable me move the fund to his account. Iwill need your private telephone and fax numbers and your full name andaddress, company or residential so that I can computerize them to tallywith the next of kin column in the certificate of deposit.This does not have any risk attached to it as all the internaldocumentations will be handled by me. I therefore request you toconfirm your interest by a return message and I will furnish you withdetails. Lastly for the immediate take off of this transaction you have toconfirm your willingness and readiness to assist me retrieves this deposit.Please for your assistance in this transaction you will be entitledto 20% percent of the total sum and 10% percent will cover all the expenses",
         "1",
         "dear ceo mr joseph abu rime regional supervisor securityand finance co amsterdam holland foreign client name withheld deposited huge sum money us million dollars oursecurity company eventually client among victims egypt air boeing flight crashed since thenwe body coming claims next kin asituation monitored closely position company monitored deposit managed years hisdeath hence nobody showed next kin past fouryear plus removed file private safe solicit assistance present next kinas every arrangement concluded onlywaiting foreigner enable move fund account iwill need private telephone fax numbers full name andaddress company residential computerize tallywith next kin column certificate deposit risk attached internaldocumentations handled therefore request toconfirm interest return message furnish withdetails lastly immediate take transaction toconfirm willingness readiness assist retrieves deposit please assistance transaction entitledto percent total sum percent cover expenses",
         "['dear', 'ceo', 'mr', 'joseph', 'abu', 'rime', 'regional', 'supervisor', 'securityand', 'finance', 'co', 'amsterdam', 'holland', 'foreign', 'client', 'name', 'withheld', 'deposited', 'huge', 'sum', 'money', 'u', 'million', 'dollar', 'oursecurity', 'company', 'eventually', 'client', 'among', 'victim', 'egypt', 'air', 'boeing', 'flight', 'crashed', 'since', 'thenwe', 'body', 'coming', 'claim', 'next', 'kin', 'asituation', 'monitored', 'closely', 'position', 'company', 'monitored', 'deposit', 'managed', 'year', 'hisdeath', 'hence', 'nobody', 'showed', 'next', 'kin', 'past', 'fouryear', 'plus', 'removed', 'file', 'private', 'safe', 'solicit', 'assistance', 'present', 'next', 'kina', 'every', 'arrangement', 'concluded', 'onlywaiting', 'foreigner', 'enable', 'move', 'fund', 'account', 'iwill', 'need', 'private', 'telephone', 'fax', 'number', 'full', 'name', 'andaddress', 'company', 'residential', 'computerize', 'tallywith', 'next', 'kin', 'column', 'certificate', 'deposit', 'risk', 'attached', 'internaldocumentations', 'handled', 'therefore', 'request', 'toconfirm', 'interest', 'return', 'message', 'furnish', 'withdetails', 'lastly', 'immediate', 'take', 'transaction', 'toconfirm', 'willingness', 'readiness', 'assist', 'retrieves', 'deposit', 'please', 'assistance', 'transaction', 'entitledto', 'percent', 'total', 'sum', 'percent', 'cover', 'expense']",
         "1",
         "1",
         "128",
         "dear ceo mr joseph abu rime regional supervisor securityand finance co amsterdam holland foreign client name withheld deposited huge sum money u million dollar oursecurity company eventually client among victim egypt air boeing flight crashed since thenwe body coming claim next kin asituation monitored closely position company monitored deposit managed year hisdeath hence nobody showed next kin past fouryear plus removed file private safe solicit assistance present next kina every arrangement concluded onlywaiting foreigner enable move fund account iwill need private telephone fax number full name andaddress company residential computerize tallywith next kin column certificate deposit risk attached internaldocumentations handled therefore request toconfirm interest return message furnish withdetails lastly immediate take transaction toconfirm willingness readiness assist retrieves deposit please assistance transaction entitledto percent total sum percent cover expense"
        ],
        [
         "38",
         "FROM:BARR.ROTIMI BELLO (ESQ)NO.5 MILVERTON STREET,   VICTORIA-ISLANDLAGOS.EMAIL:barrister_rotimibello_chamber@yahoo.co.uk Dear Sir/Madam,                                                           I am Barrister Rotimi Bello, a solicitor at law. I am the personal attorney to Mr. Douglas Raju, a national of your country, who used to work with shell development company in Nigeria and as well a one time secret agent in transferring of money overseas for the Late head of state of Nigeria {Late Gen.SANI ABACHA}.Before his death On the 21st of April 2002 [my client,his wife and their only daugther were involved in a car accident along sagamu express way in which all occupants of the motor died}. My client {RAJU}deposited  the sum of $15.5m in a commercial bank(CENTRAL BANK OF NIGERIA) here in Nigeria for himself, with the hope of transferring it to his country as soon as he is on leave. Since his death I have made several enquiries to your embassy to locate any of my clients extended relatives this has also proved unsuccessful. After these several unsuccessful attempts, I decided to trace his last name over the Internet, to locate any member of his family hence I contacted you. I have contacted you to assist in repatriating the money and property left behind by my client before they get confiscated or declared unserviceable by the bank where these Money were Deposited. Particularly, the (CENTRAL BANK OF NIGERIA) where the deceased Deposited (US$15,500,000)fiftheen million five hundred thounsand dollars has issued me a notice to provide the next of kin with in the next ten official working days. Since I have been unsuccessful in locating the relatives for over 3years now I seek your consent to present you as the next of kin of the deceased since you have the same last name so that the proceeds of this deposit (Money) valued at (US$15,500,000)fiftheen million five hundred thounsand dollars can be claim by you and then you and me can share the money. 40% to me and 60% to you I have all necessary legal documents that can be used to back up any claim we may make. All I require is your honest cooperation to enable us see this deal through. I guarantee that this will be executed under a legitimate arrangement that will protect you and me from any breach of the law. Please get in touch with me by my private email address:(barrister_rotimibello_chamber@yahoo.co.uk) for more information to enable us discuss further or you can call my private line;# 234 8033791090Best regards, Barrister Rotimi bello (Esq)EMAIL:barrister_rotimibello_chamber@yahoo.co.uk",
         "1",
         "barr rotimi bello esq milverton street victoria islandlagos email barrister rotimibello chamber yahoo co uk dear sir madam barrister rotimi bello solicitor law personal attorney mr douglas raju national country used work shell development company nigeria well one time secret agent transferring money overseas late head state nigeria late gen sani abacha death st april client wife daugther involved car accident along sagamu express way occupants motor died client raju deposited sum commercial bank central bank nigeria nigeria hope transferring country soon leave since death made several enquiries embassy locate clients extended relatives also proved unsuccessful several unsuccessful attempts decided trace last name internet locate member family hence contacted contacted assist repatriating money property left behind client get confiscated declared unserviceable bank money deposited particularly central bank nigeria deceased deposited us fiftheen million five hundred thounsand dollars issued notice provide next kin next ten official working days since unsuccessful locating relatives years seek consent present next kin deceased since last name proceeds deposit money valued us fiftheen million five hundred thounsand dollars claim share money necessary legal documents used back claim may make require honest cooperation enable us see deal guarantee executed legitimate arrangement protect breach law please get touch private email address barrister rotimibello chamber yahoo co uk information enable us discuss call private line best regards barrister rotimi bello esq email barrister rotimibello chamber yahoo co uk",
         "['barr', 'rotimi', 'bello', 'esq', 'milverton', 'street', 'victoria', 'islandlagos', 'email', 'barrister', 'rotimibello', 'chamber', 'yahoo', 'co', 'uk', 'dear', 'sir', 'madam', 'barrister', 'rotimi', 'bello', 'solicitor', 'law', 'personal', 'attorney', 'mr', 'douglas', 'raju', 'national', 'country', 'used', 'work', 'shell', 'development', 'company', 'nigeria', 'well', 'one', 'time', 'secret', 'agent', 'transferring', 'money', 'overseas', 'late', 'head', 'state', 'nigeria', 'late', 'gen', 'sani', 'abacha', 'death', 'st', 'april', 'client', 'wife', 'daugther', 'involved', 'car', 'accident', 'along', 'sagamu', 'express', 'way', 'occupant', 'motor', 'died', 'client', 'raju', 'deposited', 'sum', 'commercial', 'bank', 'central', 'bank', 'nigeria', 'nigeria', 'hope', 'transferring', 'country', 'soon', 'leave', 'since', 'death', 'made', 'several', 'enquiry', 'embassy', 'locate', 'client', 'extended', 'relative', 'also', 'proved', 'unsuccessful', 'several', 'unsuccessful', 'attempt', 'decided', 'trace', 'last', 'name', 'internet', 'locate', 'member', 'family', 'hence', 'contacted', 'contacted', 'assist', 'repatriating', 'money', 'property', 'left', 'behind', 'client', 'get', 'confiscated', 'declared', 'unserviceable', 'bank', 'money', 'deposited', 'particularly', 'central', 'bank', 'nigeria', 'deceased', 'deposited', 'u', 'fiftheen', 'million', 'five', 'hundred', 'thounsand', 'dollar', 'issued', 'notice', 'provide', 'next', 'kin', 'next', 'ten', 'official', 'working', 'day', 'since', 'unsuccessful', 'locating', 'relative', 'year', 'seek', 'consent', 'present', 'next', 'kin', 'deceased', 'since', 'last', 'name', 'proceeds', 'deposit', 'money', 'valued', 'u', 'fiftheen', 'million', 'five', 'hundred', 'thounsand', 'dollar', 'claim', 'share', 'money', 'necessary', 'legal', 'document', 'used', 'back', 'claim', 'may', 'make', 'require', 'honest', 'cooperation', 'enable', 'u', 'see', 'deal', 'guarantee', 'executed', 'legitimate', 'arrangement', 'protect', 'breach', 'law', 'please', 'get', 'touch', 'private', 'email', 'address', 'barrister', 'rotimibello', 'chamber', 'yahoo', 'co', 'uk', 'information', 'enable', 'u', 'discus', 'call', 'private', 'line', 'best', 'regard', 'barrister', 'rotimi', 'bello', 'esq', 'email', 'barrister', 'rotimibello', 'chamber', 'yahoo', 'co', 'uk']",
         "1",
         "1",
         "229",
         "barr rotimi bello esq milverton street victoria islandlagos email barrister rotimibello chamber yahoo co uk dear sir madam barrister rotimi bello solicitor law personal attorney mr douglas raju national country used work shell development company nigeria well one time secret agent transferring money overseas late head state nigeria late gen sani abacha death st april client wife daugther involved car accident along sagamu express way occupant motor died client raju deposited sum commercial bank central bank nigeria nigeria hope transferring country soon leave since death made several enquiry embassy locate client extended relative also proved unsuccessful several unsuccessful attempt decided trace last name internet locate member family hence contacted contacted assist repatriating money property left behind client get confiscated declared unserviceable bank money deposited particularly central bank nigeria deceased deposited u fiftheen million five hundred thounsand dollar issued notice provide next kin next ten official working day since unsuccessful locating relative year seek consent present next kin deceased since last name proceeds deposit money valued u fiftheen million five hundred thounsand dollar claim share money necessary legal document used back claim may make require honest cooperation enable u see deal guarantee executed legitimate arrangement protect breach law please get touch private email address barrister rotimibello chamber yahoo co uk information enable u discus call private line best regard barrister rotimi bello esq email barrister rotimibello chamber yahoo co uk"
        ],
        [
         "39",
         "Yes we can do that this afternoon.",
         "0",
         "yes afternoon",
         "['yes', 'afternoon']",
         "0",
         "0",
         "2",
         "yes afternoon"
        ],
        [
         "40",
         "Jm",
         "0",
         "jm",
         "['jm']",
         "0",
         "0",
         "1",
         "jm"
        ],
        [
         "41",
         "PVerveer B6Friday December 17 2010 12:12 AMFrom B6Pleaselet me know if I can be of any help to your department and will happy to do and please thankMrs. Hillary Clinton on behalf of me and. supporting Afghan women.Ã¢ÂÂ¢Thank youB6B6B6B6B6B6B6B6",
         "0",
         "pverveer bfriday december amfrom bpleaselet know help department happy please thankmrs hillary clinton behalf supporting afghan women thank youbbbbbbbb",
         "['pverveer', 'bfriday', 'december', 'amfrom', 'bpleaselet', 'know', 'help', 'department', 'happy', 'please', 'thankmrs', 'hillary', 'clinton', 'behalf', 'supporting', 'afghan', 'woman', 'thank', 'youbbbbbbbb']",
         "0",
         "0",
         "19",
         "pverveer bfriday december amfrom bpleaselet know help department happy please thankmrs hillary clinton behalf supporting afghan woman thank youbbbbbbbb"
        ],
        [
         "42",
         "nd Banking details of our deceased client that will facilitate our putting =you forward as the claimant/beneficiary of the funds and ultimately transfe=r the money to any bank account nominated by you.I am prepared to compensat=e you with a 30% share of the total funds for your efforts.10 % will be set= aside for expenses incurred during the business and 60 % would be for me a=nd my colleagues. Please contact me immediately whether or not you are inte=rested in this deal.If you are not,it will enable me scout for another fore=ign partner to carry out this deal.But where you are interested, contact me= through my email address  for more details as time is of the essence in th=is business.    You should contact me immediately as soon as you receive th=is letter. Trusting to hear from you immediately. Yours faithfully, Dr. ami=r jasim, Bill and exchange manager, African Development bank ADB=20_________________________________________________________________Express yourself instantly with MSN Messenger! Download today it's FREE!http://messenger.msn.click-url.com/go/onm00200471ave/direct/01/=",
         "1",
         "nd banking details deceased client facilitate putting forward claimant beneficiary funds ultimately transfe money bank account nominated prepared compensat share total funds efforts set aside expenses incurred business would nd colleagues please contact immediately whether inte rested deal enable scout another fore ign partner carry deal interested contact email address details time essence th business contact immediately soon receive th letter trusting hear immediately faithfully dr ami jasim bill exchange manager african development bank adb express instantly msn messenger download today free http messenger msn click url com go onmave direct",
         "['nd', 'banking', 'detail', 'deceased', 'client', 'facilitate', 'putting', 'forward', 'claimant', 'beneficiary', 'fund', 'ultimately', 'transfe', 'money', 'bank', 'account', 'nominated', 'prepared', 'compensat', 'share', 'total', 'fund', 'effort', 'set', 'aside', 'expense', 'incurred', 'business', 'would', 'nd', 'colleague', 'please', 'contact', 'immediately', 'whether', 'inte', 'rested', 'deal', 'enable', 'scout', 'another', 'fore', 'ign', 'partner', 'carry', 'deal', 'interested', 'contact', 'email', 'address', 'detail', 'time', 'essence', 'th', 'business', 'contact', 'immediately', 'soon', 'receive', 'th', 'letter', 'trusting', 'hear', 'immediately', 'faithfully', 'dr', 'ami', 'jasim', 'bill', 'exchange', 'manager', 'african', 'development', 'bank', 'adb', 'express', 'instantly', 'msn', 'messenger', 'download', 'today', 'free', 'http', 'messenger', 'msn', 'click', 'url', 'com', 'go', 'onmave', 'direct']",
         "0",
         "1",
         "91",
         "nd banking detail deceased client facilitate putting forward claimant beneficiary fund ultimately transfe money bank account nominated prepared compensat share total fund effort set aside expense incurred business would nd colleague please contact immediately whether inte rested deal enable scout another fore ign partner carry deal interested contact email address detail time essence th business contact immediately soon receive th letter trusting hear immediately faithfully dr ami jasim bill exchange manager african development bank adb express instantly msn messenger download today free http messenger msn click url com go onmave direct"
        ],
        [
         "43",
         "Thanks and God Bles! s You,Best Regards.MR. MICHEAL BALOY(FOR THE FAMILY)",
         "1",
         "thanks god bles best regards mr micheal baloy family",
         "['thanks', 'god', 'bles', 'best', 'regard', 'mr', 'micheal', 'baloy', 'family']",
         "0",
         "0",
         "9",
         "thanks god bles best regard mr micheal baloy family"
        ],
        [
         "44",
         "FYI",
         "0",
         "fyi",
         "['fyi']",
         "0",
         "0",
         "1",
         "fyi"
        ],
        [
         "45",
         "H <hrod17@clintonemail.com>Wednesday October 7 2009 6:46 AM'stalbott'JilotyLC@state.gov'Re: Rose....Thx for passing on the feedback which I will share w her. Let's plan another catch up call. I'm copying my assistantLauren to try to schedule for us.",
         "0",
         "wednesday october stalbott jilotylc state gov rose thx passing feedback share let plan another catch call copying assistantlauren try schedule us",
         "['wednesday', 'october', 'stalbott', 'jilotylc', 'state', 'gov', 'rose', 'thx', 'passing', 'feedback', 'share', 'let', 'plan', 'another', 'catch', 'call', 'copying', 'assistantlauren', 'try', 'schedule', 'u']",
         "0",
         "0",
         "21",
         "wednesday october stalbott jilotylc state gov rose thx passing feedback share let plan another catch call copying assistantlauren try schedule u"
        ],
        [
         "46",
         "WALTERS COMPANY FROM THE OFFICE OF THE MANAGER,WALTERS GATE COMPANY,IMPORT AND EXPORT,WORLD TRADE CENTER,LONDON,ENGLAND.Dear Sir/Madam,                      JOB OFFER FOR A REPRESENTATIVE.I am Mr. Walter Gate managing Director Walters Gate company and I am an engineer by profession, and my company is based in Europe.My Company deals with import and export, construction and general servicing. We import construction materials like Drilling machine, underground pipes, and pumping machine for refineries and general maintenance of petroleum refineries. We also supply materials for Borehole construction into America and Canada.Our offices are mainly in Europe and Asia.We need a reliable and trustworthy representative that will monitor the affairs of our company in America and Canada, the representative will be incharge of all the companies affairs like monitoring of goods to their various owners, clear from sea-port and also collect payment from creditors.The company has agreed to let the representative have 10% of every payment collected as his/her commission.If you are interested please send me the following information:1.Full Name.2.Full Contact addresses.3.Phone and Fax number.4.Date of Birth.5.Year of Working Experience.Get back to me with the information and your application will be processed and we will get back to you. For further information visit our:web-site www.walters-import-export.8m.com.",
         "1",
         "walters company office manager walters gate company import export world trade center london england dear sir madam job offer representative mr walter gate managing director walters gate company engineer profession company based europe company deals import export construction general servicing import construction materials like drilling machine underground pipes pumping machine refineries general maintenance petroleum refineries also supply materials borehole construction america canada offices mainly europe asia need reliable trustworthy representative monitor affairs company america canada representative incharge companies affairs like monitoring goods various owners clear sea port also collect payment creditors company agreed let representative every payment collected commission interested please send following information full name full contact addresses phone fax number date birth year working experience get back information application processed get back information visit web site www walters import export com",
         "['walter', 'company', 'office', 'manager', 'walter', 'gate', 'company', 'import', 'export', 'world', 'trade', 'center', 'london', 'england', 'dear', 'sir', 'madam', 'job', 'offer', 'representative', 'mr', 'walter', 'gate', 'managing', 'director', 'walter', 'gate', 'company', 'engineer', 'profession', 'company', 'based', 'europe', 'company', 'deal', 'import', 'export', 'construction', 'general', 'servicing', 'import', 'construction', 'material', 'like', 'drilling', 'machine', 'underground', 'pipe', 'pumping', 'machine', 'refinery', 'general', 'maintenance', 'petroleum', 'refinery', 'also', 'supply', 'material', 'borehole', 'construction', 'america', 'canada', 'office', 'mainly', 'europe', 'asia', 'need', 'reliable', 'trustworthy', 'representative', 'monitor', 'affair', 'company', 'america', 'canada', 'representative', 'incharge', 'company', 'affair', 'like', 'monitoring', 'good', 'various', 'owner', 'clear', 'sea', 'port', 'also', 'collect', 'payment', 'creditor', 'company', 'agreed', 'let', 'representative', 'every', 'payment', 'collected', 'commission', 'interested', 'please', 'send', 'following', 'information', 'full', 'name', 'full', 'contact', 'address', 'phone', 'fax', 'number', 'date', 'birth', 'year', 'working', 'experience', 'get', 'back', 'information', 'application', 'processed', 'get', 'back', 'information', 'visit', 'web', 'site', 'www', 'walter', 'import', 'export', 'com']",
         "0",
         "0",
         "133",
         "walter company office manager walter gate company import export world trade center london england dear sir madam job offer representative mr walter gate managing director walter gate company engineer profession company based europe company deal import export construction general servicing import construction material like drilling machine underground pipe pumping machine refinery general maintenance petroleum refinery also supply material borehole construction america canada office mainly europe asia need reliable trustworthy representative monitor affair company america canada representative incharge company affair like monitoring good various owner clear sea port also collect payment creditor company agreed let representative every payment collected commission interested please send following information full name full contact address phone fax number date birth year working experience get back information application processed get back information visit web site www walter import export com"
        ],
        [
         "47",
         "More fyi.",
         "0",
         "fyi",
         "['fyi']",
         "0",
         "0",
         "1",
         "fyi"
        ],
        [
         "48",
         "H <hrod17@clintonemail.com>Monday December 21 2009 7:26 AM'ca Ã¢ÂÂ¢ nciamarshall@RELEASE IN PARTB6",
         "0",
         "monday december ca nciamarshall release partb",
         "['monday', 'december', 'ca', 'nciamarshall', 'release', 'partb']",
         "0",
         "0",
         "6",
         "monday december ca nciamarshall release partb"
        ],
        [
         "49",
         "    From =3A Stella Dikko SambaAbidjan=2C Ivory CoastWest Africa=2ETEL +225 07 81 95 57APPEAL FOR URGENT BUSINESS ASSISTANCE=2EMY Dear =2CPermit me to inform you of my desire ofgoing into business relationship with you=2E I got yourname and contact from the Ivoirian chamber of commerceand industry=2E I prayed over it and selected your nameamong other names due to its esteeming nature and therecommendations given to me as a reputable and trustworthy person that I can do business with and by therecommendation =2C I must not hesitate to confide in youfor this simple and sincere business =2E I am Stella Dikoo Samba the only daughter of late Mr=2Eand Mrs=2E Dikko samba=2E My father was a very wealthycocoa merchant in Abidjan =2C the economic capital ofIvory coast=2C my father was poisoned to dearth by hisbusiness associates on one of their outings on abusiness trip =2EMy mother died when I was a baby and sincethen my father took me so special=2E Before the death ofmy father on January 2002 in a private hospital herein Abidjan he secretly called me on his bed side andtold me that he has the sum of seventeen million =2Cfivehundred thousand United State Dollars=2E USD =28$17=2E500=2C000=29 left in fixed =2F suspense account in one ofthe prime bank here in Abidjan =2Cthat he used my nameas his only daughter for the next of Kin in depositing of the fund=2E He also explained to me that it was because of this wealth that he was poisoned by his business associates=2E That I should seek for a foreign partner in a country of my choice where i will transfer this money and use it for investment purpose such as real estate management or hotel management =2ESir=2C I am honourably seeking your assistancein the following ways=3A=281=29 To provide a bank account into which this moneywould be transferred to =2E=282=29 To serve as a guardian of this fund since I amonly 22years=2E=283=29 To make arrangement for me to come over to yourcountry to further my education and to secure aresident permit in your country=2EMoreover=2C sir i am willing to offer you 15%of the total sum as compensation for your effort=2Finput after the successful transfer of this fund intoyour nominated account overseas=2EFurthermore=2C you indicate your optionstowards assisting me as I believe that thistransaction would be concluded within fourteen =2814=29days you signify interest to assist me=2E Anticipatingto hear from you soon=2EReply ma in my private mail box=3Ajimnaya174=40yahoo=2EfrThanks and God bless=2EBest regard STELLA DIKKO SAMBA ",
         "1",
         "stella dikko sambaabidjan ivory coastwest africa etel appeal urgent business assistance emy dear cpermit inform desire ofgoing business relationship got yourname contact ivoirian chamber commerceand industry prayed selected nameamong names due esteeming nature therecommendations given reputable trustworthy person business therecommendation must hesitate confide youfor simple sincere business stella dikoo samba daughter late mr eand mrs dikko samba father wealthycocoa merchant abidjan economic capital ofivory coast father poisoned dearth hisbusiness associates one outings abusiness trip emy mother died baby sincethen father took special death ofmy father january private hospital herein abidjan secretly called bed side andtold sum seventeen million cfivehundred thousand united state dollars usd c left fixed suspense account one ofthe prime bank abidjan cthat used nameas daughter next kin depositing fund also explained wealth poisoned business associates seek foreign partner country choice transfer money use investment purpose real estate management hotel management esir honourably seeking assistancein following ways provide bank account moneywould transferred serve guardian fund since amonly years make arrangement come yourcountry education secure aresident permit country emoreover sir willing offer total sum compensation effort finput successful transfer fund intoyour nominated account overseas efurthermore indicate optionstowards assisting believe thistransaction would concluded within fourteen days signify interest assist anticipatingto hear soon ereply private mail box ajimnaya yahoo efrthanks god bless ebest regard stella dikko samba",
         "['stella', 'dikko', 'sambaabidjan', 'ivory', 'coastwest', 'africa', 'etel', 'appeal', 'urgent', 'business', 'assistance', 'emy', 'dear', 'cpermit', 'inform', 'desire', 'ofgoing', 'business', 'relationship', 'got', 'yourname', 'contact', 'ivoirian', 'chamber', 'commerceand', 'industry', 'prayed', 'selected', 'nameamong', 'name', 'due', 'esteeming', 'nature', 'therecommendations', 'given', 'reputable', 'trustworthy', 'person', 'business', 'therecommendation', 'must', 'hesitate', 'confide', 'youfor', 'simple', 'sincere', 'business', 'stella', 'dikoo', 'samba', 'daughter', 'late', 'mr', 'eand', 'mr', 'dikko', 'samba', 'father', 'wealthycocoa', 'merchant', 'abidjan', 'economic', 'capital', 'ofivory', 'coast', 'father', 'poisoned', 'dearth', 'hisbusiness', 'associate', 'one', 'outing', 'abusiness', 'trip', 'emy', 'mother', 'died', 'baby', 'sincethen', 'father', 'took', 'special', 'death', 'ofmy', 'father', 'january', 'private', 'hospital', 'herein', 'abidjan', 'secretly', 'called', 'bed', 'side', 'andtold', 'sum', 'seventeen', 'million', 'cfivehundred', 'thousand', 'united', 'state', 'dollar', 'usd', 'c', 'left', 'fixed', 'suspense', 'account', 'one', 'ofthe', 'prime', 'bank', 'abidjan', 'cthat', 'used', 'nameas', 'daughter', 'next', 'kin', 'depositing', 'fund', 'also', 'explained', 'wealth', 'poisoned', 'business', 'associate', 'seek', 'foreign', 'partner', 'country', 'choice', 'transfer', 'money', 'use', 'investment', 'purpose', 'real', 'estate', 'management', 'hotel', 'management', 'esir', 'honourably', 'seeking', 'assistancein', 'following', 'way', 'provide', 'bank', 'account', 'moneywould', 'transferred', 'serve', 'guardian', 'fund', 'since', 'amonly', 'year', 'make', 'arrangement', 'come', 'yourcountry', 'education', 'secure', 'aresident', 'permit', 'country', 'emoreover', 'sir', 'willing', 'offer', 'total', 'sum', 'compensation', 'effort', 'finput', 'successful', 'transfer', 'fund', 'intoyour', 'nominated', 'account', 'overseas', 'efurthermore', 'indicate', 'optionstowards', 'assisting', 'believe', 'thistransaction', 'would', 'concluded', 'within', 'fourteen', 'day', 'signify', 'interest', 'assist', 'anticipatingto', 'hear', 'soon', 'ereply', 'private', 'mail', 'box', 'ajimnaya', 'yahoo', 'efrthanks', 'god', 'bless', 'ebest', 'regard', 'stella', 'dikko', 'samba']",
         "1",
         "1",
         "216",
         "stella dikko sambaabidjan ivory coastwest africa etel appeal urgent business assistance emy dear cpermit inform desire ofgoing business relationship got yourname contact ivoirian chamber commerceand industry prayed selected nameamong name due esteeming nature therecommendations given reputable trustworthy person business therecommendation must hesitate confide youfor simple sincere business stella dikoo samba daughter late mr eand mr dikko samba father wealthycocoa merchant abidjan economic capital ofivory coast father poisoned dearth hisbusiness associate one outing abusiness trip emy mother died baby sincethen father took special death ofmy father january private hospital herein abidjan secretly called bed side andtold sum seventeen million cfivehundred thousand united state dollar usd c left fixed suspense account one ofthe prime bank abidjan cthat used nameas daughter next kin depositing fund also explained wealth poisoned business associate seek foreign partner country choice transfer money use investment purpose real estate management hotel management esir honourably seeking assistancein following way provide bank account moneywould transferred serve guardian fund since amonly year make arrangement come yourcountry education secure aresident permit country emoreover sir willing offer total sum compensation effort finput successful transfer fund intoyour nominated account overseas efurthermore indicate optionstowards assisting believe thistransaction would concluded within fourteen day signify interest assist anticipatingto hear soon ereply private mail box ajimnaya yahoo efrthanks god bless ebest regard stella dikko samba"
        ]
       ],
       "shape": {
        "columns": 8,
        "rows": 1000
       }
      },
      "text/html": [
       "<div>\n",
       "<style scoped>\n",
       "    .dataframe tbody tr th:only-of-type {\n",
       "        vertical-align: middle;\n",
       "    }\n",
       "\n",
       "    .dataframe tbody tr th {\n",
       "        vertical-align: top;\n",
       "    }\n",
       "\n",
       "    .dataframe thead th {\n",
       "        text-align: right;\n",
       "    }\n",
       "</style>\n",
       "<table border=\"1\" class=\"dataframe\">\n",
       "  <thead>\n",
       "    <tr style=\"text-align: right;\">\n",
       "      <th></th>\n",
       "      <th>text</th>\n",
       "      <th>label</th>\n",
       "      <th>clean_text</th>\n",
       "      <th>lemmatized</th>\n",
       "      <th>money_mark</th>\n",
       "      <th>suspicious_words</th>\n",
       "      <th>text_len</th>\n",
       "      <th>joined_text</th>\n",
       "    </tr>\n",
       "  </thead>\n",
       "  <tbody>\n",
       "    <tr>\n",
       "      <th>0</th>\n",
       "      <td>DEAR SIR, STRICTLY A PRIVATE BUSINESS PROPOSAL...</td>\n",
       "      <td>1</td>\n",
       "      <td>dear sir strictly private business proposal mi...</td>\n",
       "      <td>[dear, sir, strictly, private, business, propo...</td>\n",
       "      <td>1</td>\n",
       "      <td>1</td>\n",
       "      <td>203</td>\n",
       "      <td>dear sir strictly private business proposal mi...</td>\n",
       "    </tr>\n",
       "    <tr>\n",
       "      <th>1</th>\n",
       "      <td>Will do.</td>\n",
       "      <td>0</td>\n",
       "      <td></td>\n",
       "      <td>[]</td>\n",
       "      <td>0</td>\n",
       "      <td>0</td>\n",
       "      <td>0</td>\n",
       "      <td></td>\n",
       "    </tr>\n",
       "    <tr>\n",
       "      <th>2</th>\n",
       "      <td>Nora--Cheryl has emailed dozens of memos about...</td>\n",
       "      <td>0</td>\n",
       "      <td>nora cheryl emailed dozens memos haiti weekend...</td>\n",
       "      <td>[nora, cheryl, emailed, dozen, memo, haiti, we...</td>\n",
       "      <td>0</td>\n",
       "      <td>0</td>\n",
       "      <td>17</td>\n",
       "      <td>nora cheryl emailed dozen memo haiti weekend p...</td>\n",
       "    </tr>\n",
       "    <tr>\n",
       "      <th>3</th>\n",
       "      <td>Dear Sir=2FMadam=2C I know that this proposal ...</td>\n",
       "      <td>1</td>\n",
       "      <td>dear sir fmadam know proposal might surprise e...</td>\n",
       "      <td>[dear, sir, fmadam, know, proposal, might, sur...</td>\n",
       "      <td>1</td>\n",
       "      <td>1</td>\n",
       "      <td>186</td>\n",
       "      <td>dear sir fmadam know proposal might surprise e...</td>\n",
       "    </tr>\n",
       "    <tr>\n",
       "      <th>4</th>\n",
       "      <td>fyi</td>\n",
       "      <td>0</td>\n",
       "      <td>fyi</td>\n",
       "      <td>[fyi]</td>\n",
       "      <td>0</td>\n",
       "      <td>0</td>\n",
       "      <td>1</td>\n",
       "      <td>fyi</td>\n",
       "    </tr>\n",
       "    <tr>\n",
       "      <th>...</th>\n",
       "      <td>...</td>\n",
       "      <td>...</td>\n",
       "      <td>...</td>\n",
       "      <td>...</td>\n",
       "      <td>...</td>\n",
       "      <td>...</td>\n",
       "      <td>...</td>\n",
       "      <td>...</td>\n",
       "    </tr>\n",
       "    <tr>\n",
       "      <th>995</th>\n",
       "      <td>So what's the latest? It sounds contradictory ...</td>\n",
       "      <td>0</td>\n",
       "      <td>latest sounds contradictory af decide shall ta...</td>\n",
       "      <td>[latest, sound, contradictory, af, decide, sha...</td>\n",
       "      <td>0</td>\n",
       "      <td>0</td>\n",
       "      <td>8</td>\n",
       "      <td>latest sound contradictory af decide shall tak...</td>\n",
       "    </tr>\n",
       "    <tr>\n",
       "      <th>996</th>\n",
       "      <td>TRANSFER OF 36,759,000.00 MILLION POUNDS TO YO...</td>\n",
       "      <td>1</td>\n",
       "      <td>transfer million pounds youraccount name mr ej...</td>\n",
       "      <td>[transfer, million, pound, youraccount, name, ...</td>\n",
       "      <td>1</td>\n",
       "      <td>1</td>\n",
       "      <td>235</td>\n",
       "      <td>transfer million pound youraccount name mr eji...</td>\n",
       "    </tr>\n",
       "    <tr>\n",
       "      <th>997</th>\n",
       "      <td>Barb I will call to explain. Are you back in t...</td>\n",
       "      <td>0</td>\n",
       "      <td>barb call explain back country h</td>\n",
       "      <td>[barb, call, explain, back, country, h]</td>\n",
       "      <td>0</td>\n",
       "      <td>0</td>\n",
       "      <td>6</td>\n",
       "      <td>barb call explain back country h</td>\n",
       "    </tr>\n",
       "    <tr>\n",
       "      <th>998</th>\n",
       "      <td>Yang on travelNot free tonite.May work tomorrow</td>\n",
       "      <td>0</td>\n",
       "      <td>yang travelnot free tonite may work tomorrow</td>\n",
       "      <td>[yang, travelnot, free, tonite, may, work, tom...</td>\n",
       "      <td>0</td>\n",
       "      <td>1</td>\n",
       "      <td>7</td>\n",
       "      <td>yang travelnot free tonite may work tomorrow</td>\n",
       "    </tr>\n",
       "    <tr>\n",
       "      <th>999</th>\n",
       "      <td>sbwhoeopSunday February 21 2010 7:42 PMHShaunH...</td>\n",
       "      <td>0</td>\n",
       "      <td>sbwhoeopsunday february pmhshaunh talked shaun...</td>\n",
       "      <td>[sbwhoeopsunday, february, pmhshaunh, talked, ...</td>\n",
       "      <td>0</td>\n",
       "      <td>0</td>\n",
       "      <td>18</td>\n",
       "      <td>sbwhoeopsunday february pmhshaunh talked shaun...</td>\n",
       "    </tr>\n",
       "  </tbody>\n",
       "</table>\n",
       "<p>1000 rows × 8 columns</p>\n",
       "</div>"
      ],
      "text/plain": [
       "                                                  text  label  \\\n",
       "0    DEAR SIR, STRICTLY A PRIVATE BUSINESS PROPOSAL...      1   \n",
       "1                                             Will do.      0   \n",
       "2    Nora--Cheryl has emailed dozens of memos about...      0   \n",
       "3    Dear Sir=2FMadam=2C I know that this proposal ...      1   \n",
       "4                                                  fyi      0   \n",
       "..                                                 ...    ...   \n",
       "995  So what's the latest? It sounds contradictory ...      0   \n",
       "996  TRANSFER OF 36,759,000.00 MILLION POUNDS TO YO...      1   \n",
       "997  Barb I will call to explain. Are you back in t...      0   \n",
       "998    Yang on travelNot free tonite.May work tomorrow      0   \n",
       "999  sbwhoeopSunday February 21 2010 7:42 PMHShaunH...      0   \n",
       "\n",
       "                                            clean_text  \\\n",
       "0    dear sir strictly private business proposal mi...   \n",
       "1                                                        \n",
       "2    nora cheryl emailed dozens memos haiti weekend...   \n",
       "3    dear sir fmadam know proposal might surprise e...   \n",
       "4                                                  fyi   \n",
       "..                                                 ...   \n",
       "995  latest sounds contradictory af decide shall ta...   \n",
       "996  transfer million pounds youraccount name mr ej...   \n",
       "997                   barb call explain back country h   \n",
       "998       yang travelnot free tonite may work tomorrow   \n",
       "999  sbwhoeopsunday february pmhshaunh talked shaun...   \n",
       "\n",
       "                                            lemmatized  money_mark  \\\n",
       "0    [dear, sir, strictly, private, business, propo...           1   \n",
       "1                                                   []           0   \n",
       "2    [nora, cheryl, emailed, dozen, memo, haiti, we...           0   \n",
       "3    [dear, sir, fmadam, know, proposal, might, sur...           1   \n",
       "4                                                [fyi]           0   \n",
       "..                                                 ...         ...   \n",
       "995  [latest, sound, contradictory, af, decide, sha...           0   \n",
       "996  [transfer, million, pound, youraccount, name, ...           1   \n",
       "997            [barb, call, explain, back, country, h]           0   \n",
       "998  [yang, travelnot, free, tonite, may, work, tom...           0   \n",
       "999  [sbwhoeopsunday, february, pmhshaunh, talked, ...           0   \n",
       "\n",
       "     suspicious_words  text_len  \\\n",
       "0                   1       203   \n",
       "1                   0         0   \n",
       "2                   0        17   \n",
       "3                   1       186   \n",
       "4                   0         1   \n",
       "..                ...       ...   \n",
       "995                 0         8   \n",
       "996                 1       235   \n",
       "997                 0         6   \n",
       "998                 1         7   \n",
       "999                 0        18   \n",
       "\n",
       "                                           joined_text  \n",
       "0    dear sir strictly private business proposal mi...  \n",
       "1                                                       \n",
       "2    nora cheryl emailed dozen memo haiti weekend p...  \n",
       "3    dear sir fmadam know proposal might surprise e...  \n",
       "4                                                  fyi  \n",
       "..                                                 ...  \n",
       "995  latest sound contradictory af decide shall tak...  \n",
       "996  transfer million pound youraccount name mr eji...  \n",
       "997                   barb call explain back country h  \n",
       "998       yang travelnot free tonite may work tomorrow  \n",
       "999  sbwhoeopsunday february pmhshaunh talked shaun...  \n",
       "\n",
       "[1000 rows x 8 columns]"
      ]
     },
     "execution_count": 106,
     "metadata": {},
     "output_type": "execute_result"
    }
   ],
   "source": [
    "data_train"
   ]
  },
  {
   "cell_type": "code",
   "execution_count": 107,
   "metadata": {},
   "outputs": [
    {
     "data": {
      "application/vnd.microsoft.datawrangler.viewer.v0+json": {
       "columns": [
        {
         "name": "index",
         "rawType": "int64",
         "type": "integer"
        },
        {
         "name": "text",
         "rawType": "object",
         "type": "string"
        },
        {
         "name": "predicted_label",
         "rawType": "int64",
         "type": "integer"
        },
        {
         "name": "clean_text",
         "rawType": "object",
         "type": "string"
        },
        {
         "name": "lemmatized",
         "rawType": "object",
         "type": "unknown"
        },
        {
         "name": "money_mark",
         "rawType": "int64",
         "type": "integer"
        },
        {
         "name": "suspicious_words",
         "rawType": "int64",
         "type": "integer"
        },
        {
         "name": "text_len",
         "rawType": "int64",
         "type": "integer"
        },
        {
         "name": "joined_text",
         "rawType": "object",
         "type": "string"
        }
       ],
       "conversionMethod": "pd.DataFrame",
       "ref": "10a1af9d-8160-4a7e-aa3e-fee97c558d43",
       "rows": [
        [
         "0",
         "usiness is for the fact that the deceased man was a foreigner and it is not= authorized by the law guiding our Bank for a citizen of this country to ma=ke the claim of the fund.So the request for you as a foreigner to come into= the business is necessary, it will facilitate the release and transfer of =the fund smoothly into your reliable Bank account as the only surviving rel=ation to the deceased.<BR><BR>If you are really sure of your integrity, tru=stworthy and confidentiality, and accept not to cheat or disappoint me afte=r this business, reply with your telephone and fax numbers and Banking acco=unt details where you wish to receive the fund.<BR><BR>Upon receipt of the =above mentioned information, indicating your interest in the business, I wi=ll send you by fax or e-mail a letter of application which you will type an=d send back to our bank to enable us start this transaction.<BR><BR>I will =not fail to bring to your notice that this business is risk free and doesn'=t have any negative implication. You should not entertain any fear as all m=odalities for the smooth and easy transfer of this fund have been finalized=. This transaction will be completed within 14 bank working days immediatel=y we start the business.<BR><BR>Waiting for your urgent response and please= kindly delete if you are not interested.<BR>Regards,<BR><BR>&nbsp;Mr&nbsp;=",
         "1",
         "usiness fact deceased man foreigner authorized law guiding bank citizen country ke claim fund request foreigner come business necessary facilitate release transfer fund smoothly reliable bank account surviving rel ation deceased really sure integrity tru stworthy confidentiality accept cheat disappoint afte business reply telephone fax numbers banking acco unt details wish receive fund upon receipt mentioned information indicating interest business wi send fax mail letter application type send back bank enable us start transaction fail bring notice business risk free negative implication entertain fear odalities smooth easy transfer fund finalized transaction completed within bank working days immediatel start business waiting urgent response please kindly delete interested regards mr",
         "['usiness', 'fact', 'deceased', 'man', 'foreigner', 'authorized', 'law', 'guiding', 'bank', 'citizen', 'country', 'ke', 'claim', 'fund', 'request', 'foreigner', 'come', 'business', 'necessary', 'facilitate', 'release', 'transfer', 'fund', 'smoothly', 'reliable', 'bank', 'account', 'surviving', 'rel', 'ation', 'deceased', 'really', 'sure', 'integrity', 'tru', 'stworthy', 'confidentiality', 'accept', 'cheat', 'disappoint', 'afte', 'business', 'reply', 'telephone', 'fax', 'number', 'banking', 'acco', 'unt', 'detail', 'wish', 'receive', 'fund', 'upon', 'receipt', 'mentioned', 'information', 'indicating', 'interest', 'business', 'wi', 'send', 'fax', 'mail', 'letter', 'application', 'type', 'send', 'back', 'bank', 'enable', 'u', 'start', 'transaction', 'fail', 'bring', 'notice', 'business', 'risk', 'free', 'negative', 'implication', 'entertain', 'fear', 'odalities', 'smooth', 'easy', 'transfer', 'fund', 'finalized', 'transaction', 'completed', 'within', 'bank', 'working', 'day', 'immediatel', 'start', 'business', 'waiting', 'urgent', 'response', 'please', 'kindly', 'delete', 'interested', 'regard', 'mr']",
         "0",
         "1",
         "108",
         "usiness fact deceased man foreigner authorized law guiding bank citizen country ke claim fund request foreigner come business necessary facilitate release transfer fund smoothly reliable bank account surviving rel ation deceased really sure integrity tru stworthy confidentiality accept cheat disappoint afte business reply telephone fax number banking acco unt detail wish receive fund upon receipt mentioned information indicating interest business wi send fax mail letter application type send back bank enable u start transaction fail bring notice business risk free negative implication entertain fear odalities smooth easy transfer fund finalized transaction completed within bank working day immediatel start business waiting urgent response please kindly delete interested regard mr"
        ],
        [
         "1",
         "They are happy to adjust to the afternoon. I am going to suggest a 3:00pm start time which should give plenty of time toreturn to DC. (Cronkite service starts at 10:30am)",
         "0",
         "happy adjust afternoon going suggest pm start time give plenty time toreturn dc cronkite service starts",
         "['happy', 'adjust', 'afternoon', 'going', 'suggest', 'pm', 'start', 'time', 'give', 'plenty', 'time', 'toreturn', 'dc', 'cronkite', 'service', 'start']",
         "0",
         "0",
         "16",
         "happy adjust afternoon going suggest pm start time give plenty time toreturn dc cronkite service start"
        ],
        [
         "2",
         "Lael Brainard was confirmed 78-19 this afternoon.Miguel E. RodriguezDeputy Assistant Secretary for Senate AffairsBureau of Legislative AffairsU.S. Department of State(202) 647-2645rodriguezme@state.gov",
         "0",
         "lael brainard confirmed afternoon miguel rodriguezdeputy assistant secretary senate affairsbureau legislative affairsu department state rodriguezme state gov",
         "['lael', 'brainard', 'confirmed', 'afternoon', 'miguel', 'rodriguezdeputy', 'assistant', 'secretary', 'senate', 'affairsbureau', 'legislative', 'affairsu', 'department', 'state', 'rodriguezme', 'state', 'gov']",
         "0",
         "0",
         "17",
         "lael brainard confirmed afternoon miguel rodriguezdeputy assistant secretary senate affairsbureau legislative affairsu department state rodriguezme state gov"
        ],
        [
         "3",
         "H <hrod17@clintonemail.com>Friday March 26 2010 5:45 AM'sbwhoeopÃÂ¢ÃÂÃÂ¢ Re:I have extended my congrats to all.",
         "0",
         "friday march sbwhoeop extended congrats",
         "['friday', 'march', 'sbwhoeop', 'extended', 'congrats']",
         "0",
         "0",
         "5",
         "friday march sbwhoeop extended congrats"
        ],
        [
         "4",
         "n;\"> Dear Good Friend,<br><br><br>I am happy to inform you about my succe=ssin getting those funds transferred under<br><br>the cooperation of a ne=w partner from Hongkong.Presently I am in Hongkong for investment project=s<br><br>with my own share of the total sum. meanwhile, Ididn't forget yo=ur past efforts and attempts to assist<br><br>me in transferring those fu=nds despite that it failedus some how.<br><br><br>Now contact my secretar=y in Cotonou Benin Republic hisname is MR SHIKES UMAHand his Email:(secre=taryshikesuperstar@yahoo.ca)<br><br> <br><br> and ask him to send you the= total of $800.000.00 which I kept for your<br><br>past efforts and attem=pts toassist me in this matter.I appreciated your efforts atthat time ver=y much.<br><br>so feel free and get intouchedwith my SecretarySHIKES UMAH= and instruct him where to sendthe amount to you.<br><br><br>Please do le=t me know immediately you receive it sothat we can share the joy after al=l the sufferness at<br><br>that time. in the moment, I am very busy here =becauseof the investment projects which me and the new<br><br>partner are= having at hand, finally, remember that Ihad forwarded instruction to the= secretary on your<br><br>behalf to receive that money, so feel free to g=et intouch with Mr SHIKES UMAH   he will send the amount to you with out =any delay.<br><br><br>Thanks and God bless you.<br><br>SHIKES UMAH   </sp=an><br><br>- <span style=3D\"color:green;\">mikejames2 james</span></div></=div>--0-1398371323-1145545952=:82031--",
         "1",
         "dear good friend happy inform succe ssin getting funds transferred cooperation ne partner hongkong presently hongkong investment project share total sum meanwhile ididn forget yo ur past efforts attempts assist transferring fu nds despite failedus contact secretar cotonou benin republic hisname mr shikes umahand email secre taryshikesuperstar yahoo ca ask send total kept past efforts attem pts toassist matter appreciated efforts atthat time ver much feel free get intouchedwith secretaryshikes umah instruct sendthe amount please le know immediately receive sothat share joy al sufferness time moment busy becauseof investment projects new partner hand finally remember ihad forwarded instruction secretary behalf receive money feel free et intouch mr shikes umah send amount delay thanks god bless shikes umah mikejames james",
         "['dear', 'good', 'friend', 'happy', 'inform', 'succe', 'ssin', 'getting', 'fund', 'transferred', 'cooperation', 'ne', 'partner', 'hongkong', 'presently', 'hongkong', 'investment', 'project', 'share', 'total', 'sum', 'meanwhile', 'ididn', 'forget', 'yo', 'ur', 'past', 'effort', 'attempt', 'assist', 'transferring', 'fu', 'nd', 'despite', 'failedus', 'contact', 'secretar', 'cotonou', 'benin', 'republic', 'hisname', 'mr', 'shikes', 'umahand', 'email', 'secre', 'taryshikesuperstar', 'yahoo', 'ca', 'ask', 'send', 'total', 'kept', 'past', 'effort', 'attem', 'pt', 'toassist', 'matter', 'appreciated', 'effort', 'atthat', 'time', 'ver', 'much', 'feel', 'free', 'get', 'intouchedwith', 'secretaryshikes', 'umah', 'instruct', 'sendthe', 'amount', 'please', 'le', 'know', 'immediately', 'receive', 'sothat', 'share', 'joy', 'al', 'sufferness', 'time', 'moment', 'busy', 'becauseof', 'investment', 'project', 'new', 'partner', 'hand', 'finally', 'remember', 'ihad', 'forwarded', 'instruction', 'secretary', 'behalf', 'receive', 'money', 'feel', 'free', 'et', 'intouch', 'mr', 'shikes', 'umah', 'send', 'amount', 'delay', 'thanks', 'god', 'bless', 'shikes', 'umah', 'mikejames', 'james']",
         "0",
         "1",
         "119",
         "dear good friend happy inform succe ssin getting fund transferred cooperation ne partner hongkong presently hongkong investment project share total sum meanwhile ididn forget yo ur past effort attempt assist transferring fu nd despite failedus contact secretar cotonou benin republic hisname mr shikes umahand email secre taryshikesuperstar yahoo ca ask send total kept past effort attem pt toassist matter appreciated effort atthat time ver much feel free get intouchedwith secretaryshikes umah instruct sendthe amount please le know immediately receive sothat share joy al sufferness time moment busy becauseof investment project new partner hand finally remember ihad forwarded instruction secretary behalf receive money feel free et intouch mr shikes umah send amount delay thanks god bless shikes umah mikejames james"
        ],
        [
         "5",
         "Yours faithfully=2CDr Abdul Siop=2EDirector=2FGeneral=2EDr ABDUL SIOP=2EDIRECTOR=2FGENERAL MINISTRY OF FINANCE SENEGAL=2E a FOR YOUR ATTENTION ONLY =2EFirst=2Ci must solicit your confidence in these transaction=2EI am a high placed official working with the ministry of finance=2Chere in Dakar=2C Senegal west Africa=2E my department=28the treasury department=29=2E Runs into several thousand millions of Dollars monthly=2EDear i am correctly in need of a foreign partner whose Bank account i can use to transfer the sum of thirty two million=2Cfive hundred thousand us dollars =28$32=2C500=2E000=2E00=29=2E This fund accrued legitimately =28but discretely=29=2C as commission from foreign contracts=2C through my private connections =2EThe fund is presently waiting to be remitted by our offshore funds managers to any foreign beneficiary which i should submitt them as the receiver of the fund However=2C by virtue of my positions as civil servants in my country=2CI cannot acquire this money in my names=2C because as high placed civil servants=2CI am not allowed by the civil service code of conduct to own or operate accounts outside of our shores=2EOn the other hand=2C it is not safe for me to keep the money here due to our unstable political environment=2EI have been delegated as a matter of trust by=2C to look for an overseas partner in whose account i will transfer the sum of $32=2C500=2C000=2E00 us dollars for mutual benefit=2C and 18% will be your commission=2C then 2% or any expenses that may occur during the transaction=2C Hence the reason for this email=2EWhat i am requesting from you is to be our partner and receive the funds in your account in trust=2EI plead with with you on one issue=2C please kindly do not expose this information to any on else=2EI confirm that the transaction is legitimate and without any risks either to our self or yourself=2EI will send you all the document you may need for the transaction when i received your reply=2EYours faithfully=2CDr Abdul Siop=2EDirector=2FGeneral=2E ",
         "1",
         "faithfully cdr abdul siop edirector fgeneral edr abdul siop edirector fgeneral ministry finance senegal attention efirst ci must solicit confidence transaction ei high placed official working ministry finance chere dakar senegal west africa department treasury department runs several thousand millions dollars monthly edear correctly need foreign partner whose bank account use transfer sum thirty two million cfive hundred thousand us dollars e e fund accrued legitimately discretely commission foreign contracts private connections ethe fund presently waiting remitted offshore funds managers foreign beneficiary submitt receiver fund however virtue positions civil servants country ci cannot acquire money names high placed civil servants ci allowed civil service code conduct operate accounts outside shores eon hand safe keep money due unstable political environment ei delegated matter trust look overseas partner whose account transfer sum c us dollars mutual benefit commission expenses may occur transaction hence reason email ewhat requesting partner receive funds account trust ei plead one issue please kindly expose information else ei confirm transaction legitimate without risks either self ei send document may need transaction received reply eyours faithfully cdr abdul siop edirector fgeneral",
         "['faithfully', 'cdr', 'abdul', 'siop', 'edirector', 'fgeneral', 'edr', 'abdul', 'siop', 'edirector', 'fgeneral', 'ministry', 'finance', 'senegal', 'attention', 'efirst', 'ci', 'must', 'solicit', 'confidence', 'transaction', 'ei', 'high', 'placed', 'official', 'working', 'ministry', 'finance', 'chere', 'dakar', 'senegal', 'west', 'africa', 'department', 'treasury', 'department', 'run', 'several', 'thousand', 'million', 'dollar', 'monthly', 'edear', 'correctly', 'need', 'foreign', 'partner', 'whose', 'bank', 'account', 'use', 'transfer', 'sum', 'thirty', 'two', 'million', 'cfive', 'hundred', 'thousand', 'u', 'dollar', 'e', 'e', 'fund', 'accrued', 'legitimately', 'discretely', 'commission', 'foreign', 'contract', 'private', 'connection', 'ethe', 'fund', 'presently', 'waiting', 'remitted', 'offshore', 'fund', 'manager', 'foreign', 'beneficiary', 'submitt', 'receiver', 'fund', 'however', 'virtue', 'position', 'civil', 'servant', 'country', 'ci', 'can', 'not', 'acquire', 'money', 'name', 'high', 'placed', 'civil', 'servant', 'ci', 'allowed', 'civil', 'service', 'code', 'conduct', 'operate', 'account', 'outside', 'shore', 'eon', 'hand', 'safe', 'keep', 'money', 'due', 'unstable', 'political', 'environment', 'ei', 'delegated', 'matter', 'trust', 'look', 'overseas', 'partner', 'whose', 'account', 'transfer', 'sum', 'c', 'u', 'dollar', 'mutual', 'benefit', 'commission', 'expense', 'may', 'occur', 'transaction', 'hence', 'reason', 'email', 'ewhat', 'requesting', 'partner', 'receive', 'fund', 'account', 'trust', 'ei', 'plead', 'one', 'issue', 'please', 'kindly', 'expose', 'information', 'else', 'ei', 'confirm', 'transaction', 'legitimate', 'without', 'risk', 'either', 'self', 'ei', 'send', 'document', 'may', 'need', 'transaction', 'received', 'reply', 'eyours', 'faithfully', 'cdr', 'abdul', 'siop', 'edirector', 'fgeneral']",
         "1",
         "1",
         "183",
         "faithfully cdr abdul siop edirector fgeneral edr abdul siop edirector fgeneral ministry finance senegal attention efirst ci must solicit confidence transaction ei high placed official working ministry finance chere dakar senegal west africa department treasury department run several thousand million dollar monthly edear correctly need foreign partner whose bank account use transfer sum thirty two million cfive hundred thousand u dollar e e fund accrued legitimately discretely commission foreign contract private connection ethe fund presently waiting remitted offshore fund manager foreign beneficiary submitt receiver fund however virtue position civil servant country ci can not acquire money name high placed civil servant ci allowed civil service code conduct operate account outside shore eon hand safe keep money due unstable political environment ei delegated matter trust look overseas partner whose account transfer sum c u dollar mutual benefit commission expense may occur transaction hence reason email ewhat requesting partner receive fund account trust ei plead one issue please kindly expose information else ei confirm transaction legitimate without risk either self ei send document may need transaction received reply eyours faithfully cdr abdul siop edirector fgeneral"
        ],
        [
         "6",
         "I need time on Thursday or Friday to see Holbrooke.Mark Hyman is in town Wed and Thurs and I'd like to see him.",
         "0",
         "need time thursday friday see holbrooke mark hyman town wed thurs like see",
         "['need', 'time', 'thursday', 'friday', 'see', 'holbrooke', 'mark', 'hyman', 'town', 'wed', 'thurs', 'like', 'see']",
         "0",
         "0",
         "13",
         "need time thursday friday see holbrooke mark hyman town wed thurs like see"
        ],
        [
         "7",
         "<div>My Dear ,</div><div>Sorry to hear this news and understand that the fault is not from me.<b=r>I'm happy to inform you about my success in getting those funds transferred=20=under the cooperation of a new partner from South Korea.</div><div>Presently ,I'm in South Korea for investment projects with my own share= of the total sum. Meanwhile,i didn't forget your past efforts and attempts=20=to assist me in transferring those funds despite that it failed us some how.= </div><div>Now contact my secretary in Benin his name is Mr Ignatuis Michael on hi=s-email address below.<br><A href=3D\"mailto:ig_mich2010@yahoo.fr\">ig_mich2010@yahoo.fr</A></div><div>Ask him to send you the total of $700.000.00 which i kept for your comp=ensation for all the past efforts and attempts to assist me in this matter.=20=</div><div>I appreciated your efforts at that time very much. So feel free and get= in touch with my secretary Mr Ignatuis and instruct him where to send the a=mount to you.</div><div>Please do let me know immediately you receive it so that we can share j=oy after all the suffering at that time.</div><div>At the moment, I=E2=80=99m very busy here because of the investment pro=jects which i and the new partner are having at hand, finally, remember that= I had forwarded instruction to the secretary on your behalf to receive that= money, So feel free to get in touch with Mr Ignatuis Michael,He will send t=he amount to you without any delay ok. </div><div><br>Regards, <br>Emeka Benjamin<br>=C2=A0 </div><div>=C2=A0</div><div class=3D\"AOLPromoFooter\"><hr style=3D\"margin-top:10px;\" />Get a FREE AOL Email account with 2GB of storage.  Plus, share and store pho=tos and experience exclusively recorded live music Sessions from your favour=ite artists. <a href=3D\"http://info.aol.co.uk/joinnow/?ncid=3D548\" target==3D\"_blank\">Click Here</a> for more information.<br /></div>----------MB_8C9860D95B7EC9F_1A3C_8424_FWM-D32.sysops.aol.com--",
         "1",
         "dear sorry hear news understand fault happy inform success getting funds transferred cooperation new partner south korea presently south korea investment projects share total sum meanwhile forget past efforts attempts assist transferring funds despite failed us contact secretary benin name mr ignatuis michael hi email address ig mich yahoo fr ask send total kept comp ensation past efforts attempts assist matter appreciated efforts time much feel free get touch secretary mr ignatuis instruct send mount please let know immediately receive share oy suffering time moment e busy investment pro jects new partner hand finally remember forwarded instruction secretary behalf receive money feel free get touch mr ignatuis michael send amount without delay ok regards emeka benjamin get free aol email account gb storage plus share store pho tos experience exclusively recorded live music sessions favour ite artists click information mb cdbecf ac fwm sysops aol com",
         "['dear', 'sorry', 'hear', 'news', 'understand', 'fault', 'happy', 'inform', 'success', 'getting', 'fund', 'transferred', 'cooperation', 'new', 'partner', 'south', 'korea', 'presently', 'south', 'korea', 'investment', 'project', 'share', 'total', 'sum', 'meanwhile', 'forget', 'past', 'effort', 'attempt', 'assist', 'transferring', 'fund', 'despite', 'failed', 'u', 'contact', 'secretary', 'benin', 'name', 'mr', 'ignatuis', 'michael', 'hi', 'email', 'address', 'ig', 'mich', 'yahoo', 'fr', 'ask', 'send', 'total', 'kept', 'comp', 'ensation', 'past', 'effort', 'attempt', 'assist', 'matter', 'appreciated', 'effort', 'time', 'much', 'feel', 'free', 'get', 'touch', 'secretary', 'mr', 'ignatuis', 'instruct', 'send', 'mount', 'please', 'let', 'know', 'immediately', 'receive', 'share', 'oy', 'suffering', 'time', 'moment', 'e', 'busy', 'investment', 'pro', 'jects', 'new', 'partner', 'hand', 'finally', 'remember', 'forwarded', 'instruction', 'secretary', 'behalf', 'receive', 'money', 'feel', 'free', 'get', 'touch', 'mr', 'ignatuis', 'michael', 'send', 'amount', 'without', 'delay', 'ok', 'regard', 'emeka', 'benjamin', 'get', 'free', 'aol', 'email', 'account', 'gb', 'storage', 'plus', 'share', 'store', 'pho', 'tos', 'experience', 'exclusively', 'recorded', 'live', 'music', 'session', 'favour', 'ite', 'artist', 'click', 'information', 'mb', 'cdbecf', 'ac', 'fwm', 'sysops', 'aol', 'com']",
         "0",
         "1",
         "146",
         "dear sorry hear news understand fault happy inform success getting fund transferred cooperation new partner south korea presently south korea investment project share total sum meanwhile forget past effort attempt assist transferring fund despite failed u contact secretary benin name mr ignatuis michael hi email address ig mich yahoo fr ask send total kept comp ensation past effort attempt assist matter appreciated effort time much feel free get touch secretary mr ignatuis instruct send mount please let know immediately receive share oy suffering time moment e busy investment pro jects new partner hand finally remember forwarded instruction secretary behalf receive money feel free get touch mr ignatuis michael send amount without delay ok regard emeka benjamin get free aol email account gb storage plus share store pho tos experience exclusively recorded live music session favour ite artist click information mb cdbecf ac fwm sysops aol com"
        ],
        [
         "8",
         "From=3A Dr =2EA=2E Smith NatWest Bank PLC=2E=2C24 Frith Street=2CLondon W1D5LG=2C INTERNATIONAL TRANSFER=2E LEICESTER CURRENCY CHEQUE=2FDRAFT DEPARTMENT Telegram=3A FBNFOREX=2C Reply to =3Aallensmith=5F112=40yahoo=2Eca Dear=3ASir=2C I am Hon=2E Dr=2EA Smith Director allocation department from the =28NatWest Bank PLC=2C=29London Branch=2Emy office monitors and controls the affairs of all banks and financial institutions in London concerned with foreign claim payments=2E I am the final signatory to any transfer or remittance of huge funds moving within banks both on the local and international levels in line with foreign claim settlement=2E I have before me list of funds=2C which could not be transferred to some nominated accounts as these accounts have been identified either as=2C unclaimed deposits and over-invoiced sum etc=2E Your Name was among the people expecting the funds to be transferred into their account=2C on this note=3B I wish to have a deal with you as regards to your unpaid funds=2EI have your file before me and hope your data's are correct and un-tampered unless you reconfirm it not correct=2E As it is my duty to recommend the transfer of these surplus funds to the Federal Government Treasury and Reserve Accounts as unclaimed deposits=2C I have the opportunity to write you based on the instructions I received two days ago from the Foreign Debts reconciliation dept to submit the List of payment reports=2F expenditures and audited reports of revenues=2E Among several others=2C I have decided to remit your claim sum following my idea that we can have a deal=2Fagreement and I am going to do this legally=2EMy conditions=3A 1=2E The sum of USD$16=2E7M only will be transfer into your account after the proccessing of all relevant legal documents with your name as the bonfide beneficary=2Cthe transfer will be made by Draft or telegraphic Transfer =28T=2FT=29=2C confirmable in 21 working days=2E 2=2E This deal must be kept secret forever=2C and all correspondence will be strictly by email =2F telephone=2C for security purposes=2E 3=2E There should be no third parties as most problem associated with your fund release are caused by your agents or representative=2E If you AGREE with my conditions=2C l advise you on what to do immediately and the transfer will commence without delay as I will proceed to fix your name on the Payment schedule instantly to meet the days mandate=2E I hope you don't reject this offer and have your funds transferred=2E Waiting for your reply soon=2E Yours Faithfully Dr=2EA=2E Smith=2E",
         "1",
         "dr ea smith natwest bank plc c frith street clondon wdlg international transfer leicester currency cheque fdraft department telegram fbnforex reply aallensmith yahoo eca dear asir hon dr ea smith director allocation department natwest bank plc london branch emy office monitors controls affairs banks financial institutions london concerned foreign claim payments final signatory transfer remittance huge funds moving within banks local international levels line foreign claim settlement list funds could transferred nominated accounts accounts identified either unclaimed deposits invoiced sum etc name among people expecting funds transferred account note wish deal regards unpaid funds ei file hope data correct un tampered unless reconfirm correct duty recommend transfer surplus funds federal government treasury reserve accounts unclaimed deposits opportunity write based instructions received two days ago foreign debts reconciliation dept submit list payment reports expenditures audited reports revenues among several others decided remit claim sum following idea deal fagreement going legally emy conditions e sum usd em transfer account proccessing relevant legal documents name bonfide beneficary cthe transfer made draft telegraphic transfer ft confirmable working days e deal must kept secret forever correspondence strictly email telephone security purposes e third parties problem associated fund release caused agents representative agree conditions l advise immediately transfer commence without delay proceed fix name payment schedule instantly meet days mandate hope reject offer funds transferred waiting reply soon faithfully dr ea smith e",
         "['dr', 'ea', 'smith', 'natwest', 'bank', 'plc', 'c', 'frith', 'street', 'clondon', 'wdlg', 'international', 'transfer', 'leicester', 'currency', 'cheque', 'fdraft', 'department', 'telegram', 'fbnforex', 'reply', 'aallensmith', 'yahoo', 'eca', 'dear', 'asir', 'hon', 'dr', 'ea', 'smith', 'director', 'allocation', 'department', 'natwest', 'bank', 'plc', 'london', 'branch', 'emy', 'office', 'monitor', 'control', 'affair', 'bank', 'financial', 'institution', 'london', 'concerned', 'foreign', 'claim', 'payment', 'final', 'signatory', 'transfer', 'remittance', 'huge', 'fund', 'moving', 'within', 'bank', 'local', 'international', 'level', 'line', 'foreign', 'claim', 'settlement', 'list', 'fund', 'could', 'transferred', 'nominated', 'account', 'account', 'identified', 'either', 'unclaimed', 'deposit', 'invoiced', 'sum', 'etc', 'name', 'among', 'people', 'expecting', 'fund', 'transferred', 'account', 'note', 'wish', 'deal', 'regard', 'unpaid', 'fund', 'ei', 'file', 'hope', 'data', 'correct', 'un', 'tampered', 'unless', 'reconfirm', 'correct', 'duty', 'recommend', 'transfer', 'surplus', 'fund', 'federal', 'government', 'treasury', 'reserve', 'account', 'unclaimed', 'deposit', 'opportunity', 'write', 'based', 'instruction', 'received', 'two', 'day', 'ago', 'foreign', 'debt', 'reconciliation', 'dept', 'submit', 'list', 'payment', 'report', 'expenditure', 'audited', 'report', 'revenue', 'among', 'several', 'others', 'decided', 'remit', 'claim', 'sum', 'following', 'idea', 'deal', 'fagreement', 'going', 'legally', 'emy', 'condition', 'e', 'sum', 'usd', 'em', 'transfer', 'account', 'proccessing', 'relevant', 'legal', 'document', 'name', 'bonfide', 'beneficary', 'cthe', 'transfer', 'made', 'draft', 'telegraphic', 'transfer', 'ft', 'confirmable', 'working', 'day', 'e', 'deal', 'must', 'kept', 'secret', 'forever', 'correspondence', 'strictly', 'email', 'telephone', 'security', 'purpose', 'e', 'third', 'party', 'problem', 'associated', 'fund', 'release', 'caused', 'agent', 'representative', 'agree', 'condition', 'l', 'advise', 'immediately', 'transfer', 'commence', 'without', 'delay', 'proceed', 'fix', 'name', 'payment', 'schedule', 'instantly', 'meet', 'day', 'mandate', 'hope', 'reject', 'offer', 'fund', 'transferred', 'waiting', 'reply', 'soon', 'faithfully', 'dr', 'ea', 'smith', 'e']",
         "0",
         "1",
         "227",
         "dr ea smith natwest bank plc c frith street clondon wdlg international transfer leicester currency cheque fdraft department telegram fbnforex reply aallensmith yahoo eca dear asir hon dr ea smith director allocation department natwest bank plc london branch emy office monitor control affair bank financial institution london concerned foreign claim payment final signatory transfer remittance huge fund moving within bank local international level line foreign claim settlement list fund could transferred nominated account account identified either unclaimed deposit invoiced sum etc name among people expecting fund transferred account note wish deal regard unpaid fund ei file hope data correct un tampered unless reconfirm correct duty recommend transfer surplus fund federal government treasury reserve account unclaimed deposit opportunity write based instruction received two day ago foreign debt reconciliation dept submit list payment report expenditure audited report revenue among several others decided remit claim sum following idea deal fagreement going legally emy condition e sum usd em transfer account proccessing relevant legal document name bonfide beneficary cthe transfer made draft telegraphic transfer ft confirmable working day e deal must kept secret forever correspondence strictly email telephone security purpose e third party problem associated fund release caused agent representative agree condition l advise immediately transfer commence without delay proceed fix name payment schedule instantly meet day mandate hope reject offer fund transferred waiting reply soon faithfully dr ea smith e"
        ],
        [
         "9",
         "Dear Friend,The political unrest in my country (PHILIPPINES), necessitated thisemail, though this approach appears desperate, difficulties encountered in efforts to establish a business abroad also necessitate this search for someone to assist me in securing and investing the sum of USD18,000,000(Eighteen million dollars) deposited in my name abroad.By way of summarized profile of myself, I am Senator Luisa Estrada, a66years old lady and the wife of Joseph Ejercito Estrada (former head of state and President of Philippines).>From past experiences, many people I had regarded as close friends andrelatives has capitalize on my family's travail to run away with mymoney. In order to avert this negative development, I in conjunction with my son now seek your permission to allow us do a CHANGE OFOWNERSHIP/REASSIGNMENT OF CREDIT of stated funds from the holding company to your name, so that the funds (US$18million) would be released to you as the BENEFICIARY (on behalf of me and my family).Our family trustee have secretly protected the deposit, you are toassist us to lay claims of the funds with the aid of all legal documents that will be forwarded to you as time goes on. If you agree to help, we shall discuss the disbursement ratio in our next correspondence after we have been acquainted. I have decided to offer 20% of the above sum to you if you agree to assists us to secure these funds overseas or 30% share for possible help on investing in any reliable venture.No doubt this proposal will make you apprehensive, please I employ youto observe utmost privacy and rest assured that this transaction would be most profitable for both of us.PLEASE INDICATE YOUR INTEREST BY RESPONDING TO MY EMAIL ADDRESS. WITHTHE FOLLOWING INFO.Your full name:Address:Your telephone/fax numbers:Company name (If any):Once I receive this information, my son will prepare the necessarydocuments that will put you in place as the new owner of the funds. Themoney will then be released to your custody by the security company.",
         "1",
         "dear friend political unrest country philippines necessitated thisemail though approach appears desperate difficulties encountered efforts establish business abroad also necessitate search someone assist securing investing sum usd eighteen million dollars deposited name abroad way summarized profile senator luisa estrada ayears old lady wife joseph ejercito estrada former head state president philippines past experiences many people regarded close friends andrelatives capitalize family travail run away mymoney order avert negative development conjunction son seek permission allow us change ofownership reassignment credit stated funds holding company name funds us million would released beneficiary behalf family family trustee secretly protected deposit toassist us lay claims funds aid legal documents forwarded time goes agree help shall discuss disbursement ratio next correspondence acquainted decided offer sum agree assists us secure funds overseas share possible help investing reliable venture doubt proposal make apprehensive please employ youto observe utmost privacy rest assured transaction would profitable us please indicate interest responding email address withthe following info full name address telephone fax numbers company name receive information son prepare necessarydocuments put place new owner funds themoney released custody security company",
         "['dear', 'friend', 'political', 'unrest', 'country', 'philippine', 'necessitated', 'thisemail', 'though', 'approach', 'appears', 'desperate', 'difficulty', 'encountered', 'effort', 'establish', 'business', 'abroad', 'also', 'necessitate', 'search', 'someone', 'assist', 'securing', 'investing', 'sum', 'usd', 'eighteen', 'million', 'dollar', 'deposited', 'name', 'abroad', 'way', 'summarized', 'profile', 'senator', 'luisa', 'estrada', 'ayears', 'old', 'lady', 'wife', 'joseph', 'ejercito', 'estrada', 'former', 'head', 'state', 'president', 'philippine', 'past', 'experience', 'many', 'people', 'regarded', 'close', 'friend', 'andrelatives', 'capitalize', 'family', 'travail', 'run', 'away', 'mymoney', 'order', 'avert', 'negative', 'development', 'conjunction', 'son', 'seek', 'permission', 'allow', 'u', 'change', 'ofownership', 'reassignment', 'credit', 'stated', 'fund', 'holding', 'company', 'name', 'fund', 'u', 'million', 'would', 'released', 'beneficiary', 'behalf', 'family', 'family', 'trustee', 'secretly', 'protected', 'deposit', 'toassist', 'u', 'lay', 'claim', 'fund', 'aid', 'legal', 'document', 'forwarded', 'time', 'go', 'agree', 'help', 'shall', 'discus', 'disbursement', 'ratio', 'next', 'correspondence', 'acquainted', 'decided', 'offer', 'sum', 'agree', 'assist', 'u', 'secure', 'fund', 'overseas', 'share', 'possible', 'help', 'investing', 'reliable', 'venture', 'doubt', 'proposal', 'make', 'apprehensive', 'please', 'employ', 'youto', 'observe', 'utmost', 'privacy', 'rest', 'assured', 'transaction', 'would', 'profitable', 'u', 'please', 'indicate', 'interest', 'responding', 'email', 'address', 'withthe', 'following', 'info', 'full', 'name', 'address', 'telephone', 'fax', 'number', 'company', 'name', 'receive', 'information', 'son', 'prepare', 'necessarydocuments', 'put', 'place', 'new', 'owner', 'fund', 'themoney', 'released', 'custody', 'security', 'company']",
         "1",
         "1",
         "180",
         "dear friend political unrest country philippine necessitated thisemail though approach appears desperate difficulty encountered effort establish business abroad also necessitate search someone assist securing investing sum usd eighteen million dollar deposited name abroad way summarized profile senator luisa estrada ayears old lady wife joseph ejercito estrada former head state president philippine past experience many people regarded close friend andrelatives capitalize family travail run away mymoney order avert negative development conjunction son seek permission allow u change ofownership reassignment credit stated fund holding company name fund u million would released beneficiary behalf family family trustee secretly protected deposit toassist u lay claim fund aid legal document forwarded time go agree help shall discus disbursement ratio next correspondence acquainted decided offer sum agree assist u secure fund overseas share possible help investing reliable venture doubt proposal make apprehensive please employ youto observe utmost privacy rest assured transaction would profitable u please indicate interest responding email address withthe following info full name address telephone fax number company name receive information son prepare necessarydocuments put place new owner fund themoney released custody security company"
        ],
        [
         "10",
         "Dear Friend,I am Mohammed Abacha, the eldest son of the late president of Nigeria,i was falsely acussed of murder and as such was imprisoned, but thanks to=Allah,i have been released for my innosence. Well dear friend i needyour assistance to reeived this money on my behalf because the governmentis making plans to seize them, as they did to myfathers own.Please view these site and read it's content carefully,http:/ews.bbc.co.uk/hi/english/world/africaewsid_741000/741506.stmThe amnt is $80 million.It was defaced for security reason it is currentlywith a Security company Abroad. All that is needed isfor me to instruct the company to hand over the money to you, iwill renumerate you with 30% at the end, but most of all is ht i solicityour trust in this transaction. I have been confined only to Kano and all=my callsare monitored,So i will get my private attorney to get you the neededinformations.Best RegardsMohammed AbachaNB. Kindly contact me via e-ai.",
         "1",
         "dear friend mohammed abacha eldest son late president nigeria falsely acussed murder imprisoned thanks allah released innosence well dear friend needyour assistance reeived money behalf governmentis making plans seize myfathers please view site read content carefully http ews bbc co uk hi english world africaewsid stmthe amnt million defaced security reason currentlywith security company abroad needed isfor instruct company hand money iwill renumerate end ht solicityour trust transaction confined kano callsare monitored get private attorney get neededinformations best regardsmohammed abachanb kindly contact via ai",
         "['dear', 'friend', 'mohammed', 'abacha', 'eldest', 'son', 'late', 'president', 'nigeria', 'falsely', 'acussed', 'murder', 'imprisoned', 'thanks', 'allah', 'released', 'innosence', 'well', 'dear', 'friend', 'needyour', 'assistance', 'reeived', 'money', 'behalf', 'governmentis', 'making', 'plan', 'seize', 'myfathers', 'please', 'view', 'site', 'read', 'content', 'carefully', 'http', 'ew', 'bbc', 'co', 'uk', 'hi', 'english', 'world', 'africaewsid', 'stmthe', 'amnt', 'million', 'defaced', 'security', 'reason', 'currentlywith', 'security', 'company', 'abroad', 'needed', 'isfor', 'instruct', 'company', 'hand', 'money', 'iwill', 'renumerate', 'end', 'ht', 'solicityour', 'trust', 'transaction', 'confined', 'kano', 'callsare', 'monitored', 'get', 'private', 'attorney', 'get', 'neededinformations', 'best', 'regardsmohammed', 'abachanb', 'kindly', 'contact', 'via', 'ai']",
         "0",
         "1",
         "84",
         "dear friend mohammed abacha eldest son late president nigeria falsely acussed murder imprisoned thanks allah released innosence well dear friend needyour assistance reeived money behalf governmentis making plan seize myfathers please view site read content carefully http ew bbc co uk hi english world africaewsid stmthe amnt million defaced security reason currentlywith security company abroad needed isfor instruct company hand money iwill renumerate end ht solicityour trust transaction confined kano callsare monitored get private attorney get neededinformations best regardsmohammed abachanb kindly contact via ai"
        ],
        [
         "11",
         "Will do. PJ",
         "0",
         "pj",
         "['pj']",
         "0",
         "0",
         "1",
         "pj"
        ],
        [
         "12",
         "will call him now",
         "0",
         "call",
         "['call']",
         "0",
         "0",
         "1",
         "call"
        ],
        [
         "13",
         "That's good.",
         "0",
         "good",
         "['good']",
         "0",
         "0",
         "1",
         "good"
        ],
        [
         "14",
         "Pi now at 2:30pm on Thurs.cdm",
         "0",
         "pi pm thurs cdm",
         "['pi', 'pm', 'thurs', 'cdm']",
         "0",
         "0",
         "4",
         "pi pm thurs cdm"
        ],
        [
         "15",
         "Dear Sir/Madam,With a very desperate need for assistance, I have summed up courage to contact you.I am  presently working in Iraq with American troop, I found your contact particulars in an address journal.I am seeking your assistance to evacuate the sum of $17,000,000:00 (Seventeen million dollars) to your country or any other safe country of your choice, as far as I can be assured that my share will be safe in your care untill I complete my service here,this is no stolen money, and there are no dangers involved.SOURCE OF MONEY. Some money in American currency was discovered concealed in barrels with piles of weapons and ammunitions at a location near one of Saddam's old palaces during a rescue operation, and it was agreed by all party present that the money be shared amongst us, this was quite an illegal thing to do, but I tell you what? no compensation can make up for the risks we have taken with our lives in this hell hole. The abovefigure ! was given to me as my share, and to conceal this kind of money became a problem for me, so with the help of a German contact working here, and his office enjoys some immunity, I was able to get the package out to a safe location entirely out of trouble spot.The German contact does not know the real contents of the package, and beleives that it belongs to an Asian American who died in an air raid, and before giving up, trusted me to hand over the package to his business associate.I have now found a secured way of getting the package out to a safer country in Europe for you to pick up, and will discuss this with you when I am sure that you are willing to assist me.One passionate appeal I will make to you is not to discuss this matter with a third party, should you have reasons to reject this offer, please destroy this mail as any leakage of this information will be too bad for us. I do not know for how long we will remain here, and I havesurvived 2 suicide bomb attacks by the special grace of God, this and other reasons I will mention later has prompted me to reach out for help, I honestly want this matter to be resolved immediately.Please contact me through my email so we can discuss more.Respectfully,Adams AllenN/B PLEASE FORWARD ALL CORRESPONDENCE TO adamsiniraq@myway.com ",
         "1",
         "dear sir madam desperate need assistance summed courage contact presently working iraq american troop found contact particulars address journal seeking assistance evacuate sum seventeen million dollars country safe country choice far assured share safe care untill complete service stolen money dangers involved source money money american currency discovered concealed barrels piles weapons ammunitions location near one saddam old palaces rescue operation agreed party present money shared amongst us quite illegal thing tell compensation make risks taken lives hell hole abovefigure given share conceal kind money became problem help german contact working office enjoys immunity able get package safe location entirely trouble spot german contact know real contents package beleives belongs asian american died air raid giving trusted hand package business associate found secured way getting package safer country europe pick discuss sure willing assist one passionate appeal make discuss matter third party reasons reject offer please destroy mail leakage information bad us know long remain havesurvived suicide bomb attacks special grace god reasons mention later prompted reach help honestly want matter resolved immediately please contact email discuss respectfully adams allenn please forward correspondence adamsiniraq myway com",
         "['dear', 'sir', 'madam', 'desperate', 'need', 'assistance', 'summed', 'courage', 'contact', 'presently', 'working', 'iraq', 'american', 'troop', 'found', 'contact', 'particular', 'address', 'journal', 'seeking', 'assistance', 'evacuate', 'sum', 'seventeen', 'million', 'dollar', 'country', 'safe', 'country', 'choice', 'far', 'assured', 'share', 'safe', 'care', 'untill', 'complete', 'service', 'stolen', 'money', 'danger', 'involved', 'source', 'money', 'money', 'american', 'currency', 'discovered', 'concealed', 'barrel', 'pile', 'weapon', 'ammunition', 'location', 'near', 'one', 'saddam', 'old', 'palace', 'rescue', 'operation', 'agreed', 'party', 'present', 'money', 'shared', 'amongst', 'u', 'quite', 'illegal', 'thing', 'tell', 'compensation', 'make', 'risk', 'taken', 'life', 'hell', 'hole', 'abovefigure', 'given', 'share', 'conceal', 'kind', 'money', 'became', 'problem', 'help', 'german', 'contact', 'working', 'office', 'enjoys', 'immunity', 'able', 'get', 'package', 'safe', 'location', 'entirely', 'trouble', 'spot', 'german', 'contact', 'know', 'real', 'content', 'package', 'beleives', 'belongs', 'asian', 'american', 'died', 'air', 'raid', 'giving', 'trusted', 'hand', 'package', 'business', 'associate', 'found', 'secured', 'way', 'getting', 'package', 'safer', 'country', 'europe', 'pick', 'discus', 'sure', 'willing', 'assist', 'one', 'passionate', 'appeal', 'make', 'discus', 'matter', 'third', 'party', 'reason', 'reject', 'offer', 'please', 'destroy', 'mail', 'leakage', 'information', 'bad', 'u', 'know', 'long', 'remain', 'havesurvived', 'suicide', 'bomb', 'attack', 'special', 'grace', 'god', 'reason', 'mention', 'later', 'prompted', 'reach', 'help', 'honestly', 'want', 'matter', 'resolved', 'immediately', 'please', 'contact', 'email', 'discus', 'respectfully', 'adam', 'allenn', 'please', 'forward', 'correspondence', 'adamsiniraq', 'myway', 'com']",
         "1",
         "1",
         "186",
         "dear sir madam desperate need assistance summed courage contact presently working iraq american troop found contact particular address journal seeking assistance evacuate sum seventeen million dollar country safe country choice far assured share safe care untill complete service stolen money danger involved source money money american currency discovered concealed barrel pile weapon ammunition location near one saddam old palace rescue operation agreed party present money shared amongst u quite illegal thing tell compensation make risk taken life hell hole abovefigure given share conceal kind money became problem help german contact working office enjoys immunity able get package safe location entirely trouble spot german contact know real content package beleives belongs asian american died air raid giving trusted hand package business associate found secured way getting package safer country europe pick discus sure willing assist one passionate appeal make discus matter third party reason reject offer please destroy mail leakage information bad u know long remain havesurvived suicide bomb attack special grace god reason mention later prompted reach help honestly want matter resolved immediately please contact email discus respectfully adam allenn please forward correspondence adamsiniraq myway com"
        ],
        [
         "16",
         "H <hrod17@clintonemail.com>Sunday January 31 2010 4:43 PM'mchaleja@state.gov'Re: a couple of powerful quotes from foreign media which we highlighted in our cable",
         "0",
         "sunday january pm mchaleja state gov couple powerful quotes foreign media highlighted cable",
         "['sunday', 'january', 'pm', 'mchaleja', 'state', 'gov', 'couple', 'powerful', 'quote', 'foreign', 'medium', 'highlighted', 'cable']",
         "0",
         "0",
         "13",
         "sunday january pm mchaleja state gov couple powerful quote foreign medium highlighted cable"
        ],
        [
         "17",
         "out that some government officials set up  companies   and awarded themselves =contracts which were grossly over invoiced in various Ministries, We also =identified a lot of inflated contracts funds which are presently Deposited in =a BANK here in Dakar However,by virture of our position as civil servants and members of the panel ,we cannot acquire this money in our name.I have therefore ,been delegated as a matter of trust by my colleagues of the panel to look for an =overseas patner into whose account we would transfer the total sum of =USD$25,500,000.00 [TWENTY FIVE MILLION,FIVE HUNDRED THOUSAND UNITED STATES DOLLARS]. ",
         "1",
         "government officials set companies awarded contracts grossly invoiced various ministries also identified lot inflated contracts funds presently deposited bank dakar however virture position civil servants members panel cannot acquire money name therefore delegated matter trust colleagues panel look overseas patner whose account would transfer total sum usd twenty five million five hundred thousand united states dollars",
         "['government', 'official', 'set', 'company', 'awarded', 'contract', 'grossly', 'invoiced', 'various', 'ministry', 'also', 'identified', 'lot', 'inflated', 'contract', 'fund', 'presently', 'deposited', 'bank', 'dakar', 'however', 'virture', 'position', 'civil', 'servant', 'member', 'panel', 'can', 'not', 'acquire', 'money', 'name', 'therefore', 'delegated', 'matter', 'trust', 'colleague', 'panel', 'look', 'overseas', 'patner', 'whose', 'account', 'would', 'transfer', 'total', 'sum', 'usd', 'twenty', 'five', 'million', 'five', 'hundred', 'thousand', 'united', 'state', 'dollar']",
         "1",
         "1",
         "57",
         "government official set company awarded contract grossly invoiced various ministry also identified lot inflated contract fund presently deposited bank dakar however virture position civil servant member panel can not acquire money name therefore delegated matter trust colleague panel look overseas patner whose account would transfer total sum usd twenty five million five hundred thousand united state dollar"
        ],
        [
         "18",
         "Dear Sir/madam,  I have a client who wants to invest in your country presently the fund is deposited in security bank vault is US$9Million (Nine Million United States Dollars). My client is a General in Liberia army and he would want his name to remain a top secret.Subsequently, you are to assist us in the areas of investing this fund in your country.You will be required to:1) Assist us in investing of the said Amount (2) Advise us on lucrative areas for Investment (3) Assist us in purchase of Properties. If you can help, Please email or call me on telephone number +44 7863369201 0r zizitalla@yahoo.co.uk So that we can arrange how to move the money to your country. We will offer you 15% of the total sum of US$9Million as fee for your efforts and support. I am waiting for your urgent response. Please reply. Thank you. GRATEFULLY TREAT AS URGENT. Talla Dou Azize (Esq.) London England.                      ",
         "1",
         "dear sir madam client wants invest country presently fund deposited security bank vault us million nine million united states dollars client general liberia army would want name remain top secret subsequently assist us areas investing fund country required assist us investing said amount advise us lucrative areas investment assist us purchase properties help please email call telephone number zizitalla yahoo co uk arrange move money country offer total sum us million fee efforts support waiting urgent response please reply thank gratefully treat urgent talla dou azize esq london england",
         "['dear', 'sir', 'madam', 'client', 'want', 'invest', 'country', 'presently', 'fund', 'deposited', 'security', 'bank', 'vault', 'u', 'million', 'nine', 'million', 'united', 'state', 'dollar', 'client', 'general', 'liberia', 'army', 'would', 'want', 'name', 'remain', 'top', 'secret', 'subsequently', 'assist', 'u', 'area', 'investing', 'fund', 'country', 'required', 'assist', 'u', 'investing', 'said', 'amount', 'advise', 'u', 'lucrative', 'area', 'investment', 'assist', 'u', 'purchase', 'property', 'help', 'please', 'email', 'call', 'telephone', 'number', 'zizitalla', 'yahoo', 'co', 'uk', 'arrange', 'move', 'money', 'country', 'offer', 'total', 'sum', 'u', 'million', 'fee', 'effort', 'support', 'waiting', 'urgent', 'response', 'please', 'reply', 'thank', 'gratefully', 'treat', 'urgent', 'talla', 'dou', 'azize', 'esq', 'london', 'england']",
         "1",
         "1",
         "89",
         "dear sir madam client want invest country presently fund deposited security bank vault u million nine million united state dollar client general liberia army would want name remain top secret subsequently assist u area investing fund country required assist u investing said amount advise u lucrative area investment assist u purchase property help please email call telephone number zizitalla yahoo co uk arrange move money country offer total sum u million fee effort support waiting urgent response please reply thank gratefully treat urgent talla dou azize esq london england"
        ],
        [
         "19",
         "Agreed.",
         "1",
         "agreed",
         "['agreed']",
         "0",
         "0",
         "1",
         "agreed"
        ],
        [
         "20",
         "RELEASE IN PART B5B6I agree.",
         "0",
         "release part bbi agree",
         "['release', 'part', 'bbi', 'agree']",
         "0",
         "0",
         "4",
         "release part bbi agree"
        ],
        [
         "21",
         "Sorry to bother you and promise to keep it to a minimum",
         "0",
         "sorry bother promise keep minimum",
         "['sorry', 'bother', 'promise', 'keep', 'minimum']",
         "0",
         "0",
         "5",
         "sorry bother promise keep minimum"
        ],
        [
         "22",
         "Dear sirIs a pleasure to write you this letter, and i hope it will not be a surprised to you, i got your contact through internet for urgent help. I think with your good position this letter will meet your considration..This is a serious issue if you reply with your telepnone number i will explain you better but please keep secret. I am a rebel soldier from Angola, with a rank of Major in the Army and a rebel leader as well. We have been in the bush for more than 15yrs, my name is Major John Ogari born 48 yrs ago in Angola and a member of the Angola rebel leaders committee.. The federal forces are impressing us badly that we can not have a way to be in the city, all our contacts closed. Please kindly help. Indeed, we never give up since we are fighting for good of our country as our present leaders are bad. Here is the help we urgently needed from you, we have in our custody the sum of Nine million four hundred and twenty one dollar. 9.421.000 million,dollar, with 103 kg of gold. i need your help to bank this in your account as i can not go out nor operate any account. I give you this trust as God will be in between us and you will benefit more than expected if you did not think other wise.. This can be transfered hand to hand through security company we operate with, i am hundred percent sure of that, and they will take care of the goods till it get to your hand safely. Although the secourity company did not know what is inside as we locked the money and gold inside a safe box and deposited as family treasure. There is no risky involve or distorbance easy transfer.I hope you will help us in this our request. For further directives of how to achieve this feat. Reply and ask question if any and do not forget to furnish me with your cofidential telephone and fax number, to enable me contact you for immediate transacion. You will be made a co-beneficary to his treasure. Note that there is no risky involve in this busniess like i said earlier, and a good percentage will be given to you at end of this business. On arrival of the treasure safe to your destination i will come along with key to the safe box. Looking forward to hear from you soon. Best regardMaj. John Ogari.",
         "1",
         "dear siris pleasure write letter hope surprised got contact internet urgent help think good position letter meet considration serious issue reply telepnone number explain better please keep secret rebel soldier angola rank major army rebel leader well bush yrs name major john ogari born yrs ago angola member angola rebel leaders committee federal forces impressing us badly way city contacts closed please kindly help indeed never give since fighting good country present leaders bad help urgently needed custody sum nine million four hundred twenty one dollar million dollar kg gold need help bank account go operate account give trust god us benefit expected think wise transfered hand hand security company operate hundred percent sure take care goods till get hand safely although secourity company know inside locked money gold inside safe box deposited family treasure risky involve distorbance easy transfer hope help us request directives achieve feat reply ask question forget furnish cofidential telephone fax number enable contact immediate transacion made co beneficary treasure note risky involve busniess like said earlier good percentage given end business arrival treasure safe destination come along key safe box looking forward hear soon best regardmaj john ogari",
         "['dear', 'siris', 'pleasure', 'write', 'letter', 'hope', 'surprised', 'got', 'contact', 'internet', 'urgent', 'help', 'think', 'good', 'position', 'letter', 'meet', 'considration', 'serious', 'issue', 'reply', 'telepnone', 'number', 'explain', 'better', 'please', 'keep', 'secret', 'rebel', 'soldier', 'angola', 'rank', 'major', 'army', 'rebel', 'leader', 'well', 'bush', 'yr', 'name', 'major', 'john', 'ogari', 'born', 'yr', 'ago', 'angola', 'member', 'angola', 'rebel', 'leader', 'committee', 'federal', 'force', 'impressing', 'u', 'badly', 'way', 'city', 'contact', 'closed', 'please', 'kindly', 'help', 'indeed', 'never', 'give', 'since', 'fighting', 'good', 'country', 'present', 'leader', 'bad', 'help', 'urgently', 'needed', 'custody', 'sum', 'nine', 'million', 'four', 'hundred', 'twenty', 'one', 'dollar', 'million', 'dollar', 'kg', 'gold', 'need', 'help', 'bank', 'account', 'go', 'operate', 'account', 'give', 'trust', 'god', 'u', 'benefit', 'expected', 'think', 'wise', 'transfered', 'hand', 'hand', 'security', 'company', 'operate', 'hundred', 'percent', 'sure', 'take', 'care', 'good', 'till', 'get', 'hand', 'safely', 'although', 'secourity', 'company', 'know', 'inside', 'locked', 'money', 'gold', 'inside', 'safe', 'box', 'deposited', 'family', 'treasure', 'risky', 'involve', 'distorbance', 'easy', 'transfer', 'hope', 'help', 'u', 'request', 'directive', 'achieve', 'feat', 'reply', 'ask', 'question', 'forget', 'furnish', 'cofidential', 'telephone', 'fax', 'number', 'enable', 'contact', 'immediate', 'transacion', 'made', 'co', 'beneficary', 'treasure', 'note', 'risky', 'involve', 'busniess', 'like', 'said', 'earlier', 'good', 'percentage', 'given', 'end', 'business', 'arrival', 'treasure', 'safe', 'destination', 'come', 'along', 'key', 'safe', 'box', 'looking', 'forward', 'hear', 'soon', 'best', 'regardmaj', 'john', 'ogari']",
         "1",
         "1",
         "193",
         "dear siris pleasure write letter hope surprised got contact internet urgent help think good position letter meet considration serious issue reply telepnone number explain better please keep secret rebel soldier angola rank major army rebel leader well bush yr name major john ogari born yr ago angola member angola rebel leader committee federal force impressing u badly way city contact closed please kindly help indeed never give since fighting good country present leader bad help urgently needed custody sum nine million four hundred twenty one dollar million dollar kg gold need help bank account go operate account give trust god u benefit expected think wise transfered hand hand security company operate hundred percent sure take care good till get hand safely although secourity company know inside locked money gold inside safe box deposited family treasure risky involve distorbance easy transfer hope help u request directive achieve feat reply ask question forget furnish cofidential telephone fax number enable contact immediate transacion made co beneficary treasure note risky involve busniess like said earlier good percentage given end business arrival treasure safe destination come along key safe box looking forward hear soon best regardmaj john ogari"
        ],
        [
         "23",
         "Pleas Send your reply to this email address; (abbahnasser002@yahoo.it) Hello my dear,Before I introduce myself, I wish to inform you that this letter is not a hoax mail and I urge you to treat it serious. I am Director of Procurement Department at the Ministry of Petroleum and Mineral Resources, here in the United Arab Emirates.  I obtained your email while searching for a reliable person, who could assist me in receiving transfer of a supposed contract awarded funds.  This fund came as a result of over estimated contract awarded sums executed by foreign contractors in the Petroleum Ministry. This fund has been approved for payment to the contractor by the concerned Ministry. The contracts had been executed and commissioned. What I am about to receive now, is the over estimated funds which the contractor whom I helped during the process of obtaining the contracts added to his estimation for my own interest.  This is a normal deal that goes in my Ministry by top officials. On our part, all modalities has been worked out in ensuring a smooth conclusion of the transfer to your account within the next few days.  All I want from you is to receive this funds on my behalf, because as Government Official I cannot collect the funds directly from the contractor, neither I am allowed by Law to operate/ run foreign bank accounts. If you are trustworthy and can assist me in receiving the fund, do not hesitate to respond back to me immediately.Please note that there is no risk involved in receiving the funds in your account for and it will be done through wire transfer. I wish you to state in percentage what you shall have for the use of your account.  As soon as you indicate your interest, further details and the amount involved shall be given to you once I hear from you.  Please, treat with utmost confidentiality. Looking forward to hearing from you soonest.Best regards,Engr. Abbah Nasser.Ministry of Petroleum and Ministry Resources.United Arab Emirates.",
         "1",
         "pleas send reply email address abbahnasser yahoo hello dear introduce wish inform letter hoax mail urge treat serious director procurement department ministry petroleum mineral resources united arab emirates obtained email searching reliable person could assist receiving transfer supposed contract awarded funds fund came result estimated contract awarded sums executed foreign contractors petroleum ministry fund approved payment contractor concerned ministry contracts executed commissioned receive estimated funds contractor helped process obtaining contracts added estimation interest normal deal goes ministry top officials part modalities worked ensuring smooth conclusion transfer account within next days want receive funds behalf government official cannot collect funds directly contractor neither allowed law operate run foreign bank accounts trustworthy assist receiving fund hesitate respond back immediately please note risk involved receiving funds account done wire transfer wish state percentage shall use account soon indicate interest details amount involved shall given hear please treat utmost confidentiality looking forward hearing soonest best regards engr abbah nasser ministry petroleum ministry resources united arab emirates",
         "['plea', 'send', 'reply', 'email', 'address', 'abbahnasser', 'yahoo', 'hello', 'dear', 'introduce', 'wish', 'inform', 'letter', 'hoax', 'mail', 'urge', 'treat', 'serious', 'director', 'procurement', 'department', 'ministry', 'petroleum', 'mineral', 'resource', 'united', 'arab', 'emirate', 'obtained', 'email', 'searching', 'reliable', 'person', 'could', 'assist', 'receiving', 'transfer', 'supposed', 'contract', 'awarded', 'fund', 'fund', 'came', 'result', 'estimated', 'contract', 'awarded', 'sum', 'executed', 'foreign', 'contractor', 'petroleum', 'ministry', 'fund', 'approved', 'payment', 'contractor', 'concerned', 'ministry', 'contract', 'executed', 'commissioned', 'receive', 'estimated', 'fund', 'contractor', 'helped', 'process', 'obtaining', 'contract', 'added', 'estimation', 'interest', 'normal', 'deal', 'go', 'ministry', 'top', 'official', 'part', 'modality', 'worked', 'ensuring', 'smooth', 'conclusion', 'transfer', 'account', 'within', 'next', 'day', 'want', 'receive', 'fund', 'behalf', 'government', 'official', 'can', 'not', 'collect', 'fund', 'directly', 'contractor', 'neither', 'allowed', 'law', 'operate', 'run', 'foreign', 'bank', 'account', 'trustworthy', 'assist', 'receiving', 'fund', 'hesitate', 'respond', 'back', 'immediately', 'please', 'note', 'risk', 'involved', 'receiving', 'fund', 'account', 'done', 'wire', 'transfer', 'wish', 'state', 'percentage', 'shall', 'use', 'account', 'soon', 'indicate', 'interest', 'detail', 'amount', 'involved', 'shall', 'given', 'hear', 'please', 'treat', 'utmost', 'confidentiality', 'looking', 'forward', 'hearing', 'soonest', 'best', 'regard', 'engr', 'abbah', 'nasser', 'ministry', 'petroleum', 'ministry', 'resource', 'united', 'arab', 'emirate']",
         "0",
         "1",
         "163",
         "plea send reply email address abbahnasser yahoo hello dear introduce wish inform letter hoax mail urge treat serious director procurement department ministry petroleum mineral resource united arab emirate obtained email searching reliable person could assist receiving transfer supposed contract awarded fund fund came result estimated contract awarded sum executed foreign contractor petroleum ministry fund approved payment contractor concerned ministry contract executed commissioned receive estimated fund contractor helped process obtaining contract added estimation interest normal deal go ministry top official part modality worked ensuring smooth conclusion transfer account within next day want receive fund behalf government official can not collect fund directly contractor neither allowed law operate run foreign bank account trustworthy assist receiving fund hesitate respond back immediately please note risk involved receiving fund account done wire transfer wish state percentage shall use account soon indicate interest detail amount involved shall given hear please treat utmost confidentiality looking forward hearing soonest best regard engr abbah nasser ministry petroleum ministry resource united arab emirate"
        ],
        [
         "24",
         "cheryl.millsWednesday May 20 2009 9:23 AMHRe: greetings to you!Yes",
         "0",
         "cheryl millswednesday may amhre greetings yes",
         "['cheryl', 'millswednesday', 'may', 'amhre', 'greeting', 'yes']",
         "0",
         "0",
         "6",
         "cheryl millswednesday may amhre greeting yes"
        ],
        [
         "25",
         "MR=2ETONY MALICK & CO=2EBUSINESS CONSULTANTS & PROJECTMANAGERS=2E RC 412281OUR REF JBC=2FMAKN=2F44YOUR REF=5F=5F=5F=5F=5F=5F=5F=5F=5F=5F=5F=5F=5F=5F=5F=5F=5F=5F=5F=5F=5F=5F=5FATTN=3AWE HUMBLY WISH TO SEEK YOUR ASSISTANCE IN A MATTER THAT IS VERYIMPORTANT TO US WHICH REQUIRES UTMOST URGENCY AND CONFIDENTIALITY=2EONE OF OUR HIGH NETWORK CLIENTS AND A GOLD ROYALIST WHO SERVED IN THEPAST GOVERNMENT OF CHARLES TARLOY IN LIBERIA WISHES TO INVEST THE SUM OF=28US$8M=29 U=2ES DOLLARS ONLY=2E IN YOUR CONUTRY OR ANY OTHER COUNTRY WITH GOOD ECONOMIC STABILITY AND POLITICALCLIMATE=2E OUR CLIENT IS INTERESTED IN REAL ESTATES=2CHOTEL BUSINESS=2C STOCKS & BONDS=2ETHIS SIAD FUND WAS BROUGHT INTO MY COUNTRY SENEGAL IN THE YEAR 2001=2EWHEN THE HEAT WAS TOO MUCH IN LIBERIA=2EMYSELF AND MY CLIENT HAS DEPOSITED THIS FUND IN THE SECURITY COMPANY FOR MAXIMUM PROTECTIONS HERE IN DAKAR SENEGAL=2EHOWEVER IT IS HIS WISH TO INVEST THIS MONEY NOW IN YOUR COUNTRY=2EFOR OBVIOUS REASONS MY CLIENT DOES NOT WISH TO PLACE THIS FUND WITHESTABLISHED FINANCIAL INSTITUTIONS AND THUS REQUIRES OUR ASSISTANCE TOLOOK FOR A RELIABLE FOREIGNER TO HELP MOVE THIS FUND AND IN TURN MANAGE IT FO R THE FAMILY=2EIT IS ALSO OUR CLIENT'S WISH THAT THIS DEAL BE HANDLED ASQUIETLY AS POSSIBLE WITHOUT ANY LEAKAGE TO THE PRESS=2E IF YOU AGREE TOACT AS A FUND MANAGER FOR MY CLIENT=2E THE SUM OF US$15=2E2 MILLION WILL BE RELEASED TO YOU IF YOU MEET OUR REQUIREMENTS=2E THE MONEY IS AVAILABLE IN THE COSTUDIES OFSECURITY COMPANY AND UPON A FAVORABLE RESPONSE FROM YOU WE SHALL LET YOU KNOW HOW TO RECEIVE IT=2EYOUR COMMISSION SHALL BE DOWN PAYMENT OF 20% OF THE TOTAL SUM THAT ISUS$8MILLION AND AN ANNUAL 10% OF THE AFTER TAX RETURNS FOR THE FIRST 5YEARSTHEREAFTER THE TERMS SHALL BE REVIEWED=2E=2EIF YOU ARE WILLING TO DO THIS PLEASE INDICATE YOUR INTEREST VIA MYEMAILSPECIFED BELOW AT ONEC FOR FURTHER DETAILS=2EBEST REGARDS=2CMR=2ETONY MALICK =2E",
         "1",
         "mr etony malick co ebusiness consultants projectmanagers rc ref jbc fmakn fyour ref f f f f f f f f f f f fattn awe humbly wish seek assistance matter veryimportant us requires utmost urgency confidentiality eone high network clients gold royalist served thepast government charles tarloy liberia wishes invest sum us u es dollars conutry country good economic stability politicalclimate client interested real estates chotel business stocks bonds ethis siad fund brought country senegal year ewhen heat much liberia emyself client deposited fund security company maximum protections dakar senegal ehowever wish invest money country efor obvious reasons client wish place fund withestablished financial institutions thus requires assistance tolook reliable foreigner help move fund turn manage fo family eit also client wish deal handled asquietly possible without leakage press agree toact fund manager client sum us million released meet requirements money available costudies ofsecurity company upon favorable response shall let know receive eyour commission shall payment total sum isus million annual tax returns first yearsthereafter terms shall reviewed eif willing please indicate interest via myemailspecifed onec details ebest regards cmr etony malick e",
         "['mr', 'etony', 'malick', 'co', 'ebusiness', 'consultant', 'projectmanagers', 'rc', 'ref', 'jbc', 'fmakn', 'fyour', 'ref', 'f', 'f', 'f', 'f', 'f', 'f', 'f', 'f', 'f', 'f', 'f', 'fattn', 'awe', 'humbly', 'wish', 'seek', 'assistance', 'matter', 'veryimportant', 'u', 'requires', 'utmost', 'urgency', 'confidentiality', 'eone', 'high', 'network', 'client', 'gold', 'royalist', 'served', 'thepast', 'government', 'charles', 'tarloy', 'liberia', 'wish', 'invest', 'sum', 'u', 'u', 'e', 'dollar', 'conutry', 'country', 'good', 'economic', 'stability', 'politicalclimate', 'client', 'interested', 'real', 'estate', 'chotel', 'business', 'stock', 'bond', 'ethis', 'siad', 'fund', 'brought', 'country', 'senegal', 'year', 'ewhen', 'heat', 'much', 'liberia', 'emyself', 'client', 'deposited', 'fund', 'security', 'company', 'maximum', 'protection', 'dakar', 'senegal', 'ehowever', 'wish', 'invest', 'money', 'country', 'efor', 'obvious', 'reason', 'client', 'wish', 'place', 'fund', 'withestablished', 'financial', 'institution', 'thus', 'requires', 'assistance', 'tolook', 'reliable', 'foreigner', 'help', 'move', 'fund', 'turn', 'manage', 'fo', 'family', 'eit', 'also', 'client', 'wish', 'deal', 'handled', 'asquietly', 'possible', 'without', 'leakage', 'press', 'agree', 'toact', 'fund', 'manager', 'client', 'sum', 'u', 'million', 'released', 'meet', 'requirement', 'money', 'available', 'costudies', 'ofsecurity', 'company', 'upon', 'favorable', 'response', 'shall', 'let', 'know', 'receive', 'eyour', 'commission', 'shall', 'payment', 'total', 'sum', 'isus', 'million', 'annual', 'tax', 'return', 'first', 'yearsthereafter', 'term', 'shall', 'reviewed', 'eif', 'willing', 'please', 'indicate', 'interest', 'via', 'myemailspecifed', 'onec', 'detail', 'ebest', 'regard', 'cmr', 'etony', 'malick', 'e']",
         "1",
         "1",
         "184",
         "mr etony malick co ebusiness consultant projectmanagers rc ref jbc fmakn fyour ref f f f f f f f f f f f fattn awe humbly wish seek assistance matter veryimportant u requires utmost urgency confidentiality eone high network client gold royalist served thepast government charles tarloy liberia wish invest sum u u e dollar conutry country good economic stability politicalclimate client interested real estate chotel business stock bond ethis siad fund brought country senegal year ewhen heat much liberia emyself client deposited fund security company maximum protection dakar senegal ehowever wish invest money country efor obvious reason client wish place fund withestablished financial institution thus requires assistance tolook reliable foreigner help move fund turn manage fo family eit also client wish deal handled asquietly possible without leakage press agree toact fund manager client sum u million released meet requirement money available costudies ofsecurity company upon favorable response shall let know receive eyour commission shall payment total sum isus million annual tax return first yearsthereafter term shall reviewed eif willing please indicate interest via myemailspecifed onec detail ebest regard cmr etony malick e"
        ],
        [
         "26",
         "Dear friend=2CGreetings to you=2EPlease pardon me for contacting you without any formal appointment or communication do consider my status as asylum seeker inDakar Senegal=2EI will like to seek your assistance in receiving and investing the sum of US$4=2E8M held in a holding finance company in europe=2EThe money was deposited by my late father who was killed last year by the rebels during the uprising in Abidjan-Cote d' Ivoire=2E He was until hissudden death a diamond =2Fcocoa dealer in Angola and Cote d' Ivoire whichis where he made his wealth=2E Me and my mother arrived Dakar few days ago and confirmed the validity of this deposit then decided to contact you forassistance in view of our present situations=2E We got your contact through the Internet data base while searching for my father's friends in your country=2EMore details will be given to you as soon as i hear from you=2EPlease includesome of your personal details for us to establish a good business and familyrelationship=2EI look forward to hearing from you Honestly yours=2CMiss=2C Joli Hamed=2E",
         "1",
         "dear friend cgreetings eplease pardon contacting without formal appointment communication consider status asylum seeker indakar senegal ei like seek assistance receiving investing sum us em held holding finance company europe ethe money deposited late father killed last year rebels uprising abidjan cote ivoire hissudden death diamond fcocoa dealer angola cote ivoire whichis made wealth mother arrived dakar days ago confirmed validity deposit decided contact forassistance view present situations got contact internet data base searching father friends country emore details given soon hear eplease includesome personal details us establish good business familyrelationship ei look forward hearing honestly cmiss joli hamed e",
         "['dear', 'friend', 'cgreetings', 'eplease', 'pardon', 'contacting', 'without', 'formal', 'appointment', 'communication', 'consider', 'status', 'asylum', 'seeker', 'indakar', 'senegal', 'ei', 'like', 'seek', 'assistance', 'receiving', 'investing', 'sum', 'u', 'em', 'held', 'holding', 'finance', 'company', 'europe', 'ethe', 'money', 'deposited', 'late', 'father', 'killed', 'last', 'year', 'rebel', 'uprising', 'abidjan', 'cote', 'ivoire', 'hissudden', 'death', 'diamond', 'fcocoa', 'dealer', 'angola', 'cote', 'ivoire', 'whichis', 'made', 'wealth', 'mother', 'arrived', 'dakar', 'day', 'ago', 'confirmed', 'validity', 'deposit', 'decided', 'contact', 'forassistance', 'view', 'present', 'situation', 'got', 'contact', 'internet', 'data', 'base', 'searching', 'father', 'friend', 'country', 'emore', 'detail', 'given', 'soon', 'hear', 'eplease', 'includesome', 'personal', 'detail', 'u', 'establish', 'good', 'business', 'familyrelationship', 'ei', 'look', 'forward', 'hearing', 'honestly', 'cmiss', 'joli', 'hamed', 'e']",
         "0",
         "1",
         "100",
         "dear friend cgreetings eplease pardon contacting without formal appointment communication consider status asylum seeker indakar senegal ei like seek assistance receiving investing sum u em held holding finance company europe ethe money deposited late father killed last year rebel uprising abidjan cote ivoire hissudden death diamond fcocoa dealer angola cote ivoire whichis made wealth mother arrived dakar day ago confirmed validity deposit decided contact forassistance view present situation got contact internet data base searching father friend country emore detail given soon hear eplease includesome personal detail u establish good business familyrelationship ei look forward hearing honestly cmiss joli hamed e"
        ],
        [
         "27",
         "BANK OF AFRICA (BOA)OUAGADOU-BURKINA FASODEAR FRIEND,THIS MESSAGE MIGHT MEET YOU IN UTMOST SURPRISE.HOWEVER,IT'S JUST THE URGENT NEED FOR A FOREIGN PARTNER THAT MADE ME TO CONTACT YOU FOR THIS TRANSACTION. I AM A BANKER BY PROFESSION FROM BURKINA FASO IN WEST AFRICA AND CURRENTLY HOLDING THE POST OF BILL AND EXCHANGE DIRECTOR IN OUR BANK.I HAVE THE OPPORTUNITY OF TRANSFERRING THE LEFT OVER FUNDS THAT AMOUNTS TO $15.5MILLION DOLLARS INTO A FOREIGN ACCOUNT AND THE SAID FUND BELONGS TO OUR DECEASED CLIENTS WHO DIED ON 31 JULY 2000 IN A PLANE CRASH.HENCE, I AM INVITING YOU FOR A BUSINESS DEAL WHERE THIS MONEY CAN BE SHARED BETWEEN US IN THE RATIO OF 60/40 IF YOU AGREE TO MY BUSINESS PROPOSAL.FURTHER DETAILS OF THE TRANSFER WILL BE FORWARDED TO YOU AS SOON AS I RECEIVE YOUR RETURN MAIL.HAVE A GREAT DAY.YOURS,MR BARO ISA._________________________________________________________________Gagnez des pc Windows Vista avec Live.com http://www.image-addict.fr/",
         "1",
         "bank africa boa ouagadou burkina fasodear friend message might meet utmost surprise however urgent need foreign partner made contact transaction banker profession burkina faso west africa currently holding post bill exchange director bank opportunity transferring left funds amounts million dollars foreign account said fund belongs deceased clients died july plane crash hence inviting business deal money shared us ratio agree business proposal details transfer forwarded soon receive return mail great day mr baro isa gagnez des pc windows vista avec live com http www image addict fr",
         "['bank', 'africa', 'boa', 'ouagadou', 'burkina', 'fasodear', 'friend', 'message', 'might', 'meet', 'utmost', 'surprise', 'however', 'urgent', 'need', 'foreign', 'partner', 'made', 'contact', 'transaction', 'banker', 'profession', 'burkina', 'faso', 'west', 'africa', 'currently', 'holding', 'post', 'bill', 'exchange', 'director', 'bank', 'opportunity', 'transferring', 'left', 'fund', 'amount', 'million', 'dollar', 'foreign', 'account', 'said', 'fund', 'belongs', 'deceased', 'client', 'died', 'july', 'plane', 'crash', 'hence', 'inviting', 'business', 'deal', 'money', 'shared', 'u', 'ratio', 'agree', 'business', 'proposal', 'detail', 'transfer', 'forwarded', 'soon', 'receive', 'return', 'mail', 'great', 'day', 'mr', 'baro', 'isa', 'gagnez', 'de', 'pc', 'window', 'vista', 'avec', 'live', 'com', 'http', 'www', 'image', 'addict', 'fr']",
         "1",
         "1",
         "87",
         "bank africa boa ouagadou burkina fasodear friend message might meet utmost surprise however urgent need foreign partner made contact transaction banker profession burkina faso west africa currently holding post bill exchange director bank opportunity transferring left fund amount million dollar foreign account said fund belongs deceased client died july plane crash hence inviting business deal money shared u ratio agree business proposal detail transfer forwarded soon receive return mail great day mr baro isa gagnez de pc window vista avec live com http www image addict fr"
        ],
        [
         "28",
         "Since we got information about his death, we have been expecting his next of kin to come over and claim his money because we can not release it unless some body applies for it as next of kin or relation to the deceased as indicated in our banking guidlings and laws but unfortunately we learnt that all his supposed next of kin or relation died alongside with him at the plane crash leaving nobody behind for the claim. It is therefore upon this discovery that I now decided to make this business proposal to you,so that the money can be  release to you as the next of kin or relation to the deceased for safety and subsequent disbursement since nobody will come for it and we don't want this money to go into the bank treasury as unclaimed dormant fund.The banking law and guidline here stipulates that if such money remained unclaimed after six years, the money will be transfered into the bank treasury as unclaimed dormant fund. The request of foreigner as next of kin in this business is occassioned by the fact that the customer was a foreigner and a Burkinabe like me  can not stand as next of kin to a foreigner.I agreed that 30% of this money will be for you as a respect to the provision of a foriegn account ,10% will be set aside for expenses incurred during the business and 60% would be for me.Thereafter, I will visit your country for disbursement according to the percentage indicated Therefore, to enable the immediate transfer of this fund to you arranged,you must apply first to the bank as relation or next of kin to the deceased customer with a text of application that i will send to you,but before i send to you the text of application form,I will like you to send me the following informations.1. NAME IN FULL:................................2. ADDRESS:.......................................3. NATIONALITY:...................................4. AGE:.............................................5. Sex..............................................6. OCCUPATION:......................................7. MARITAL STATUS:..................................8. PRIAVTE PHONE NO............................................9. PRIVATE FAX NO:.............................................so i will like you to send to me those informations for easy and effective communication,also location where the money will be remitted.Upon receipt of your reply, I will send to you by fax or email the text of the application form.I will not fail to bring to your notice that this transaction is hitch-free and that you should not entertain any atom of fear as all required arrangements have been made for the transfer. You should contact me immediately as soon as you receive this letter,if only you are intrested and ready to help.Trusting to hear from you immediately.Yours Faithfully,DR.JASIR KELZIMANAGER AUDITING AND ACCOUNTING DEPARTMENTBANK OF AFRICA_________________________________________________________________Don't just search. Find. Check out the new MSN Search! http://search.msn.com/",
         "1",
         "since got information death expecting next kin come claim money release unless body applies next kin relation deceased indicated banking guidlings laws unfortunately learnt supposed next kin relation died alongside plane crash leaving nobody behind claim therefore upon discovery decided make business proposal money release next kin relation deceased safety subsequent disbursement since nobody come want money go bank treasury unclaimed dormant fund banking law guidline stipulates money remained unclaimed six years money transfered bank treasury unclaimed dormant fund request foreigner next kin business occassioned fact customer foreigner burkinabe like stand next kin foreigner agreed money respect provision foriegn account set aside expenses incurred business would thereafter visit country disbursement according percentage indicated therefore enable immediate transfer fund arranged must apply first bank relation next kin deceased customer text application send send text application form like send following informations name full address nationality age sex occupation marital status priavte phone private fax like send informations easy effective communication also location money remitted upon receipt reply send fax email text application form fail bring notice transaction hitch free entertain atom fear required arrangements made transfer contact immediately soon receive letter intrested ready help trusting hear immediately faithfully dr jasir kelzimanager auditing accounting departmentbank africa search find check new msn search http search msn com",
         "['since', 'got', 'information', 'death', 'expecting', 'next', 'kin', 'come', 'claim', 'money', 'release', 'unless', 'body', 'applies', 'next', 'kin', 'relation', 'deceased', 'indicated', 'banking', 'guidlings', 'law', 'unfortunately', 'learnt', 'supposed', 'next', 'kin', 'relation', 'died', 'alongside', 'plane', 'crash', 'leaving', 'nobody', 'behind', 'claim', 'therefore', 'upon', 'discovery', 'decided', 'make', 'business', 'proposal', 'money', 'release', 'next', 'kin', 'relation', 'deceased', 'safety', 'subsequent', 'disbursement', 'since', 'nobody', 'come', 'want', 'money', 'go', 'bank', 'treasury', 'unclaimed', 'dormant', 'fund', 'banking', 'law', 'guidline', 'stipulates', 'money', 'remained', 'unclaimed', 'six', 'year', 'money', 'transfered', 'bank', 'treasury', 'unclaimed', 'dormant', 'fund', 'request', 'foreigner', 'next', 'kin', 'business', 'occassioned', 'fact', 'customer', 'foreigner', 'burkinabe', 'like', 'stand', 'next', 'kin', 'foreigner', 'agreed', 'money', 'respect', 'provision', 'foriegn', 'account', 'set', 'aside', 'expense', 'incurred', 'business', 'would', 'thereafter', 'visit', 'country', 'disbursement', 'according', 'percentage', 'indicated', 'therefore', 'enable', 'immediate', 'transfer', 'fund', 'arranged', 'must', 'apply', 'first', 'bank', 'relation', 'next', 'kin', 'deceased', 'customer', 'text', 'application', 'send', 'send', 'text', 'application', 'form', 'like', 'send', 'following', 'information', 'name', 'full', 'address', 'nationality', 'age', 'sex', 'occupation', 'marital', 'status', 'priavte', 'phone', 'private', 'fax', 'like', 'send', 'information', 'easy', 'effective', 'communication', 'also', 'location', 'money', 'remitted', 'upon', 'receipt', 'reply', 'send', 'fax', 'email', 'text', 'application', 'form', 'fail', 'bring', 'notice', 'transaction', 'hitch', 'free', 'entertain', 'atom', 'fear', 'required', 'arrangement', 'made', 'transfer', 'contact', 'immediately', 'soon', 'receive', 'letter', 'intrested', 'ready', 'help', 'trusting', 'hear', 'immediately', 'faithfully', 'dr', 'jasir', 'kelzimanager', 'auditing', 'accounting', 'departmentbank', 'africa', 'search', 'find', 'check', 'new', 'msn', 'search', 'http', 'search', 'msn', 'com']",
         "0",
         "1",
         "213",
         "since got information death expecting next kin come claim money release unless body applies next kin relation deceased indicated banking guidlings law unfortunately learnt supposed next kin relation died alongside plane crash leaving nobody behind claim therefore upon discovery decided make business proposal money release next kin relation deceased safety subsequent disbursement since nobody come want money go bank treasury unclaimed dormant fund banking law guidline stipulates money remained unclaimed six year money transfered bank treasury unclaimed dormant fund request foreigner next kin business occassioned fact customer foreigner burkinabe like stand next kin foreigner agreed money respect provision foriegn account set aside expense incurred business would thereafter visit country disbursement according percentage indicated therefore enable immediate transfer fund arranged must apply first bank relation next kin deceased customer text application send send text application form like send following information name full address nationality age sex occupation marital status priavte phone private fax like send information easy effective communication also location money remitted upon receipt reply send fax email text application form fail bring notice transaction hitch free entertain atom fear required arrangement made transfer contact immediately soon receive letter intrested ready help trusting hear immediately faithfully dr jasir kelzimanager auditing accounting departmentbank africa search find check new msn search http search msn com"
        ],
        [
         "29",
         "fvi",
         "0",
         "fvi",
         "['fvi']",
         "0",
         "0",
         "1",
         "fvi"
        ],
        [
         "30",
         "What is FM's first name?",
         "0",
         "fm first name",
         "['fm', 'first', 'name']",
         "0",
         "0",
         "3",
         "fm first name"
        ],
        [
         "31",
         "Fyi - Johnnie's conversation w prez of Ghana.",
         "0",
         "fyi johnnie conversation prez ghana",
         "['fyi', 'johnnie', 'conversation', 'prez', 'ghana']",
         "0",
         "0",
         "5",
         "fyi johnnie conversation prez ghana"
        ],
        [
         "32",
         "Thank you for that I think it was his office rather than the Crown Prince himself who met your staff.All is very well and the mobile phone project is really developing in a fantastic way can't wait for you to launch it in theautumnCherie Blair",
         "0",
         "thank think office rather crown prince met staff well mobile phone project really developing fantastic way wait launch theautumncherie blair",
         "['thank', 'think', 'office', 'rather', 'crown', 'prince', 'met', 'staff', 'well', 'mobile', 'phone', 'project', 'really', 'developing', 'fantastic', 'way', 'wait', 'launch', 'theautumncherie', 'blair']",
         "0",
         "0",
         "20",
         "thank think office rather crown prince met staff well mobile phone project really developing fantastic way wait launch theautumncherie blair"
        ],
        [
         "33",
         "#67 Cresent Close,Lynnwood RoadHatfield PretoriaGauteng, South Africa. {INTERNATIONAL HERITAGE TRANSACTION}{One Hundred & Seventy Two Million Six Hundred And Fifty Four Thousand ",
         "1",
         "cresent close lynnwood roadhatfield pretoriagauteng south africa international heritage transaction one hundred seventy two million six hundred fifty four thousand",
         "['cresent', 'close', 'lynnwood', 'roadhatfield', 'pretoriagauteng', 'south', 'africa', 'international', 'heritage', 'transaction', 'one', 'hundred', 'seventy', 'two', 'million', 'six', 'hundred', 'fifty', 'four', 'thousand']",
         "0",
         "1",
         "20",
         "cresent close lynnwood roadhatfield pretoriagauteng south africa international heritage transaction one hundred seventy two million six hundred fifty four thousand"
        ],
        [
         "34",
         "(5) Your Bank:=20Name(6) Your PassportI await your earliest reply,Thanks.Sincerely,Mr. DAVID J HESKEY.",
         "1",
         "bank name passporti await earliest reply thanks sincerely mr david heskey",
         "['bank', 'name', 'passporti', 'await', 'earliest', 'reply', 'thanks', 'sincerely', 'mr', 'david', 'heskey']",
         "0",
         "1",
         "11",
         "bank name passporti await earliest reply thanks sincerely mr david heskey"
        ],
        [
         "35",
         "<P>TENDER COMMITTEE<BR>DEPARTMENT OF MINERALS AND ENERGY,<BR>PRETORIA, SOUT=H AFRICA.<BR>&nbsp;</P><P>Dear Friend,<BR>&nbsp;It is my great pleasure in writing you this letter= on behalf of my colleagues. Your information was given to me by a member o=f the South African Export Promotion Council (SAEPC) who was with the Feder=al Government delegation on a trip to your country for a bilateral conferen=ce talk to encourage foreign investors. I have decided to seek a<BR>confide=ntial co-operation with you in the execution of the deal described<BR>here =under for the benefit of all parties and hope you will keep it confidential= because of the nature of this business<BR>Within the Department of Mineral=s an Energy where I work as a Director of Audit and Project Implementation =and with the co-operation of two other top officials, we have in our posses=sion as overdue<BR>payment in US funds.<BR>&nbsp;The said funds represent c=ertain percentage of the total contract value executed on behalf of my Depa=rtment by a foreign<BR>contracting firm which we the officials over-invoice=d to the amount of US$14.500,000.00Dollars.Though the actual contract cost =has been paid to the original contractor, leaving the excess balance unclai=med.<BR>&nbsp;Since the present elected Government is determined to pay for=eign contractors all debts owed so as to maintain good relationship with fo=reign government and non-government agencies, we include our bills for appr=ovals with the Department of Finance and the Reserve Bank of South Africa. =We are seeking your assistance to front as beneficiary of the unclaimed fun=ds, since we are not allowed to operate foreign accounts. Details and chang=e of beneficiary information upon application for claim to reflect payment =and approvals will be secured on behalf of You/your Company.<BR>&nbsp; I ha=ve the authority of my partners involved to propose that should you be will=ing to assist us in this transaction your share as compensation will be US$=3.625m (25%), while my colleagues and I receive US$9.425m&nbsp; (65%) and t=he balance of US$1.450m (10%) for taxation and miscellaneous expenses incur=red.<BR>&nbsp;The business itself is 100% safe and secure, provided you tre=at it with utmost confidentiality. It does not matter whether You/your Comp=any does contract projects, as a transfer of powers will be secured in favo=r of You/your Company. Also your area of specialization is not a hindrance =to the successful execution of this transaction. I have reposed<BR>my confi=dence in you and hope that you will not disappoint me.<BR>&nbsp;Kindly noti=fy me for further details upon your acceptance of this proposal</P><P><A href=3D\"mailto:mngomenijames@yahoo.co.uk\">mngomenijames@yahoo.co.uk</=A><BR>Thanks for your co-operation.</P><P><BR>&nbsp;Regards,</P><P>MNGOMENI JAMES(DR)</P><BR> <span style=3D'color:#000000;font-family:aria=l; font-size:10pt;'>Freeserve AnyTime - HALF PRICE for the first 3 months -= Save =A37.50 a month <br><a href=3D'http://www.freeserve.com/anytime' styl=e=3D'color:#0000FF; font-family:arial; font-size:10pt;' TARGET=3D'_blank'>w=ww.freeserve.com/anytime</a></span>------=_Part_11532_23801182.1073560266821--",
         "1",
         "tender committee department minerals energy pretoria sout africa dear friend great pleasure writing letter behalf colleagues information given member f south african export promotion council saepc feder al government delegation trip country bilateral conferen ce talk encourage foreign investors decided seek confide ntial co operation execution deal described benefit parties hope keep confidential nature business within department mineral energy work director audit project implementation co operation two top officials posses sion overdue payment us funds said funds represent ertain percentage total contract value executed behalf depa rtment foreign contracting firm officials invoice amount us dollars though actual contract cost paid original contractor leaving excess balance unclai med since present elected government determined pay eign contractors debts owed maintain good relationship fo reign government non government agencies include bills appr ovals department finance reserve bank south africa seeking assistance front beneficiary unclaimed fun ds since allowed operate foreign accounts details chang beneficiary information upon application claim reflect payment approvals secured behalf company ha authority partners involved propose ing assist us transaction share compensation us colleagues receive us balance us taxation miscellaneous expenses incur red business safe secure provided tre utmost confidentiality matter whether comp contract projects transfer powers secured favo company also area specialization hindrance successful execution transaction reposed confi dence hope disappoint kindly noti fy details upon acceptance proposal mngomenijames yahoo co uk thanks co operation regards mngomeni james dr freeserve anytime half price first months save month ww freeserve com anytime part",
         "['tender', 'committee', 'department', 'mineral', 'energy', 'pretoria', 'sout', 'africa', 'dear', 'friend', 'great', 'pleasure', 'writing', 'letter', 'behalf', 'colleague', 'information', 'given', 'member', 'f', 'south', 'african', 'export', 'promotion', 'council', 'saepc', 'feder', 'al', 'government', 'delegation', 'trip', 'country', 'bilateral', 'conferen', 'ce', 'talk', 'encourage', 'foreign', 'investor', 'decided', 'seek', 'confide', 'ntial', 'co', 'operation', 'execution', 'deal', 'described', 'benefit', 'party', 'hope', 'keep', 'confidential', 'nature', 'business', 'within', 'department', 'mineral', 'energy', 'work', 'director', 'audit', 'project', 'implementation', 'co', 'operation', 'two', 'top', 'official', 'posse', 'sion', 'overdue', 'payment', 'u', 'fund', 'said', 'fund', 'represent', 'ertain', 'percentage', 'total', 'contract', 'value', 'executed', 'behalf', 'depa', 'rtment', 'foreign', 'contracting', 'firm', 'official', 'invoice', 'amount', 'u', 'dollar', 'though', 'actual', 'contract', 'cost', 'paid', 'original', 'contractor', 'leaving', 'excess', 'balance', 'unclai', 'med', 'since', 'present', 'elected', 'government', 'determined', 'pay', 'eign', 'contractor', 'debt', 'owed', 'maintain', 'good', 'relationship', 'fo', 'reign', 'government', 'non', 'government', 'agency', 'include', 'bill', 'appr', 'oval', 'department', 'finance', 'reserve', 'bank', 'south', 'africa', 'seeking', 'assistance', 'front', 'beneficiary', 'unclaimed', 'fun', 'd', 'since', 'allowed', 'operate', 'foreign', 'account', 'detail', 'chang', 'beneficiary', 'information', 'upon', 'application', 'claim', 'reflect', 'payment', 'approval', 'secured', 'behalf', 'company', 'ha', 'authority', 'partner', 'involved', 'propose', 'ing', 'assist', 'u', 'transaction', 'share', 'compensation', 'u', 'colleague', 'receive', 'u', 'balance', 'u', 'taxation', 'miscellaneous', 'expense', 'incur', 'red', 'business', 'safe', 'secure', 'provided', 'tre', 'utmost', 'confidentiality', 'matter', 'whether', 'comp', 'contract', 'project', 'transfer', 'power', 'secured', 'favo', 'company', 'also', 'area', 'specialization', 'hindrance', 'successful', 'execution', 'transaction', 'reposed', 'confi', 'dence', 'hope', 'disappoint', 'kindly', 'noti', 'fy', 'detail', 'upon', 'acceptance', 'proposal', 'mngomenijames', 'yahoo', 'co', 'uk', 'thanks', 'co', 'operation', 'regard', 'mngomeni', 'james', 'dr', 'freeserve', 'anytime', 'half', 'price', 'first', 'month', 'save', 'month', 'ww', 'freeserve', 'com', 'anytime', 'part']",
         "1",
         "1",
         "243",
         "tender committee department mineral energy pretoria sout africa dear friend great pleasure writing letter behalf colleague information given member f south african export promotion council saepc feder al government delegation trip country bilateral conferen ce talk encourage foreign investor decided seek confide ntial co operation execution deal described benefit party hope keep confidential nature business within department mineral energy work director audit project implementation co operation two top official posse sion overdue payment u fund said fund represent ertain percentage total contract value executed behalf depa rtment foreign contracting firm official invoice amount u dollar though actual contract cost paid original contractor leaving excess balance unclai med since present elected government determined pay eign contractor debt owed maintain good relationship fo reign government non government agency include bill appr oval department finance reserve bank south africa seeking assistance front beneficiary unclaimed fun d since allowed operate foreign account detail chang beneficiary information upon application claim reflect payment approval secured behalf company ha authority partner involved propose ing assist u transaction share compensation u colleague receive u balance u taxation miscellaneous expense incur red business safe secure provided tre utmost confidentiality matter whether comp contract project transfer power secured favo company also area specialization hindrance successful execution transaction reposed confi dence hope disappoint kindly noti fy detail upon acceptance proposal mngomenijames yahoo co uk thanks co operation regard mngomeni james dr freeserve anytime half price first month save month ww freeserve com anytime part"
        ],
        [
         "36",
         "Tom's backgrounder definitely played down expectations.",
         "0",
         "tom backgrounder definitely played expectations",
         "['tom', 'backgrounder', 'definitely', 'played', 'expectation']",
         "0",
         "0",
         "5",
         "tom backgrounder definitely played expectation"
        ],
        [
         "37",
         "the next of kin and have them release the deposit to you. We share theproceeds 60/30. I assure you that I could have the deposit released to youwithin a few working days. I will simply inform the bank of the finalclosing of the file relating to the customer I will then officiallycommunicate with firm clarifying and confirming you with properdocumentations and thereafter have the funds released to you. Thealternative would be for us to have firm direct the funds to another bankwith you as account holder. This way there will be no need for you tothink of receiving the money from the firm. We can fine-tune this based onour interactions. I am aware of the consequences of this proposal. I askthat if you find no interest in this project that you should discard thismail and not be vindictive and destructive. There is a reward for thisproject and it is a task worth undertaking. I have evaluated the risks andthe only risk I have here is from you refusing to work with me andalerting my bank. I am the only one who knows of this situation, let'sshare the blessing.If you find yourself able to work with me, contact me. If you give me yourtrust and confidence, we shall rejoice and our lives will never be thesame again. Please do not contact me via official channels. Please observethis instruction religiously. Please, again, note I am a family man; Ihave a wife and children. I send you this mail not without a measure offear as to the consequences, yet I know within me that nothing ventured isnothing gained and that success and riches never come easy or on a platterof gold. This is the one truth I have learned from my private bankingclients. Do not betray my confidence. If we can be of one accord, weshould plan a meeting soon.I await your response.ThanksLin Geng",
         "1",
         "next kin release deposit share theproceeds assure could deposit released youwithin working days simply inform bank finalclosing file relating customer officiallycommunicate firm clarifying confirming properdocumentations thereafter funds released thealternative would us firm direct funds another bankwith account holder way need tothink receiving money firm fine tune based onour interactions aware consequences proposal askthat find interest project discard thismail vindictive destructive reward thisproject task worth undertaking evaluated risks andthe risk refusing work andalerting bank one knows situation let sshare blessing find able work contact give yourtrust confidence shall rejoice lives never thesame please contact via official channels please observethis instruction religiously please note family man ihave wife children send mail without measure offear consequences yet know within nothing ventured isnothing gained success riches never come easy platterof gold one truth learned private bankingclients betray confidence one accord weshould plan meeting soon await response thankslin geng",
         "['next', 'kin', 'release', 'deposit', 'share', 'theproceeds', 'assure', 'could', 'deposit', 'released', 'youwithin', 'working', 'day', 'simply', 'inform', 'bank', 'finalclosing', 'file', 'relating', 'customer', 'officiallycommunicate', 'firm', 'clarifying', 'confirming', 'properdocumentations', 'thereafter', 'fund', 'released', 'thealternative', 'would', 'u', 'firm', 'direct', 'fund', 'another', 'bankwith', 'account', 'holder', 'way', 'need', 'tothink', 'receiving', 'money', 'firm', 'fine', 'tune', 'based', 'onour', 'interaction', 'aware', 'consequence', 'proposal', 'askthat', 'find', 'interest', 'project', 'discard', 'thismail', 'vindictive', 'destructive', 'reward', 'thisproject', 'task', 'worth', 'undertaking', 'evaluated', 'risk', 'andthe', 'risk', 'refusing', 'work', 'andalerting', 'bank', 'one', 'know', 'situation', 'let', 'sshare', 'blessing', 'find', 'able', 'work', 'contact', 'give', 'yourtrust', 'confidence', 'shall', 'rejoice', 'life', 'never', 'thesame', 'please', 'contact', 'via', 'official', 'channel', 'please', 'observethis', 'instruction', 'religiously', 'please', 'note', 'family', 'man', 'ihave', 'wife', 'child', 'send', 'mail', 'without', 'measure', 'offear', 'consequence', 'yet', 'know', 'within', 'nothing', 'ventured', 'isnothing', 'gained', 'success', 'rich', 'never', 'come', 'easy', 'platterof', 'gold', 'one', 'truth', 'learned', 'private', 'bankingclients', 'betray', 'confidence', 'one', 'accord', 'weshould', 'plan', 'meeting', 'soon', 'await', 'response', 'thankslin', 'geng']",
         "0",
         "1",
         "144",
         "next kin release deposit share theproceeds assure could deposit released youwithin working day simply inform bank finalclosing file relating customer officiallycommunicate firm clarifying confirming properdocumentations thereafter fund released thealternative would u firm direct fund another bankwith account holder way need tothink receiving money firm fine tune based onour interaction aware consequence proposal askthat find interest project discard thismail vindictive destructive reward thisproject task worth undertaking evaluated risk andthe risk refusing work andalerting bank one know situation let sshare blessing find able work contact give yourtrust confidence shall rejoice life never thesame please contact via official channel please observethis instruction religiously please note family man ihave wife child send mail without measure offear consequence yet know within nothing ventured isnothing gained success rich never come easy platterof gold one truth learned private bankingclients betray confidence one accord weshould plan meeting soon await response thankslin geng"
        ],
        [
         "38",
         "He just called in again asking if you could talk",
         "0",
         "called asking could talk",
         "['called', 'asking', 'could', 'talk']",
         "0",
         "0",
         "4",
         "called asking could talk"
        ],
        [
         "39",
         "Bills & Exchange Manager                                             ATTEN:                                                       RE:NEED FOR ABENEFICIARY.I am contacting you in regards to a business transfer of a huge sum of moneyfrom a deceased account in my Bank.Though I know that a transaction of thismagnitude will make anyone apprehensive and worried, but I am assuring you thatall will be well at the end of the day.I decided to contact you due to the urgency of this transaction and the needfor a foreign beneficiary.PROPOSITION:I discovered an abandoned sum of (US$28m) in an account that belongs to one ofour foreign customers who died along with his entire family.Since his death, none of his next-of-kin or relations has come forward to layclaims to this money as the heir or beneficiary.The bank cannot release thefund from his account unless a foreigner applies for claim as the next-of-kinto the deceased as indicated in our banking guidelines.Upon this discovery, I now seek your permission to have you stand as a next ofkin to the deceased as all documentations will be carefully worked out legallyby a high court lawyer for the funds (US$28m) to be approved in your favour andtransferred into your account as the beneficiary or next of kin to our latecustomer.If I do not transfer this money out urgently it will be forfeited for nothingor reverted into the selfish  government purse.It may interest you to note that I have secured from the probate an order ofmadamus to locate any of deceased beneficiaries.I need your full co-operation to make this work fine because the Bankmanagement is ready to approve this payment to any foreigner who has correctinformation of this account,which I will give to you immediately,if you areable and capableto handle such amount in strict confidence and trust according to myinstructions and advice for our mutual benefit because this opportunity willnever come again in my life.Please acknowledge receipt of this message in acceptance of our mutual businessendeavour by furnishing me with the following:1. Your Full Names and Address.2. Direct Telephone and Fax numbers.These requirements will enable me file a letter of claim to the appropriatedepartments for necessary approvals in your favour before the transfer can bemade.I shall be compensating you with 30% of the total sum on final conclusion ofthis project, while the rest shall be for me. Your share stays with you, whilethe rest shall be for me for investment purposes in your country.If this proposal is acceptable by you, do not take undue advantage of the trustI have bestowed on you, I await your urgent reply through this my private email",
         "1",
         "bills exchange manager atten need abeneficiary contacting regards business transfer huge sum moneyfrom deceased account bank though know transaction thismagnitude make anyone apprehensive worried assuring thatall well end day decided contact due urgency transaction needfor foreign beneficiary proposition discovered abandoned sum us account belongs one ofour foreign customers died along entire family since death none next kin relations come forward layclaims money heir beneficiary bank cannot release thefund account unless foreigner applies claim next kinto deceased indicated banking guidelines upon discovery seek permission stand next ofkin deceased documentations carefully worked legallyby high court lawyer funds us approved favour andtransferred account beneficiary next kin latecustomer transfer money urgently forfeited nothingor reverted selfish government purse may interest note secured probate order ofmadamus locate deceased beneficiaries need full co operation make work fine bankmanagement ready approve payment foreigner correctinformation account give immediately areable capableto handle amount strict confidence trust according myinstructions advice mutual benefit opportunity willnever come life please acknowledge receipt message acceptance mutual businessendeavour furnishing following full names address direct telephone fax numbers requirements enable file letter claim appropriatedepartments necessary approvals favour transfer bemade shall compensating total sum final conclusion ofthis project rest shall share stays whilethe rest shall investment purposes country proposal acceptable take undue advantage trusti bestowed await urgent reply private email",
         "['bill', 'exchange', 'manager', 'atten', 'need', 'abeneficiary', 'contacting', 'regard', 'business', 'transfer', 'huge', 'sum', 'moneyfrom', 'deceased', 'account', 'bank', 'though', 'know', 'transaction', 'thismagnitude', 'make', 'anyone', 'apprehensive', 'worried', 'assuring', 'thatall', 'well', 'end', 'day', 'decided', 'contact', 'due', 'urgency', 'transaction', 'needfor', 'foreign', 'beneficiary', 'proposition', 'discovered', 'abandoned', 'sum', 'u', 'account', 'belongs', 'one', 'ofour', 'foreign', 'customer', 'died', 'along', 'entire', 'family', 'since', 'death', 'none', 'next', 'kin', 'relation', 'come', 'forward', 'layclaims', 'money', 'heir', 'beneficiary', 'bank', 'can', 'not', 'release', 'thefund', 'account', 'unless', 'foreigner', 'applies', 'claim', 'next', 'kinto', 'deceased', 'indicated', 'banking', 'guideline', 'upon', 'discovery', 'seek', 'permission', 'stand', 'next', 'ofkin', 'deceased', 'documentation', 'carefully', 'worked', 'legallyby', 'high', 'court', 'lawyer', 'fund', 'u', 'approved', 'favour', 'andtransferred', 'account', 'beneficiary', 'next', 'kin', 'latecustomer', 'transfer', 'money', 'urgently', 'forfeited', 'nothingor', 'reverted', 'selfish', 'government', 'purse', 'may', 'interest', 'note', 'secured', 'probate', 'order', 'ofmadamus', 'locate', 'deceased', 'beneficiary', 'need', 'full', 'co', 'operation', 'make', 'work', 'fine', 'bankmanagement', 'ready', 'approve', 'payment', 'foreigner', 'correctinformation', 'account', 'give', 'immediately', 'areable', 'capableto', 'handle', 'amount', 'strict', 'confidence', 'trust', 'according', 'myinstructions', 'advice', 'mutual', 'benefit', 'opportunity', 'willnever', 'come', 'life', 'please', 'acknowledge', 'receipt', 'message', 'acceptance', 'mutual', 'businessendeavour', 'furnishing', 'following', 'full', 'name', 'address', 'direct', 'telephone', 'fax', 'number', 'requirement', 'enable', 'file', 'letter', 'claim', 'appropriatedepartments', 'necessary', 'approval', 'favour', 'transfer', 'bemade', 'shall', 'compensating', 'total', 'sum', 'final', 'conclusion', 'ofthis', 'project', 'rest', 'shall', 'share', 'stay', 'whilethe', 'rest', 'shall', 'investment', 'purpose', 'country', 'proposal', 'acceptable', 'take', 'undue', 'advantage', 'trusti', 'bestowed', 'await', 'urgent', 'reply', 'private', 'email']",
         "0",
         "1",
         "213",
         "bill exchange manager atten need abeneficiary contacting regard business transfer huge sum moneyfrom deceased account bank though know transaction thismagnitude make anyone apprehensive worried assuring thatall well end day decided contact due urgency transaction needfor foreign beneficiary proposition discovered abandoned sum u account belongs one ofour foreign customer died along entire family since death none next kin relation come forward layclaims money heir beneficiary bank can not release thefund account unless foreigner applies claim next kinto deceased indicated banking guideline upon discovery seek permission stand next ofkin deceased documentation carefully worked legallyby high court lawyer fund u approved favour andtransferred account beneficiary next kin latecustomer transfer money urgently forfeited nothingor reverted selfish government purse may interest note secured probate order ofmadamus locate deceased beneficiary need full co operation make work fine bankmanagement ready approve payment foreigner correctinformation account give immediately areable capableto handle amount strict confidence trust according myinstructions advice mutual benefit opportunity willnever come life please acknowledge receipt message acceptance mutual businessendeavour furnishing following full name address direct telephone fax number requirement enable file letter claim appropriatedepartments necessary approval favour transfer bemade shall compensating total sum final conclusion ofthis project rest shall share stay whilethe rest shall investment purpose country proposal acceptable take undue advantage trusti bestowed await urgent reply private email"
        ],
        [
         "40",
         "Dear Sir=2C I feel very sorry to interrupt your peace since you are not expecting to receive any mail from me=2EHowever=2CI was obliged to do so due to the importance and urgency of the massage=2EI crave your indulgence=2Cand want to reassure you that I mean well and that it is only for our mutual good=2ESo please do not be embbarrassed or suspicious=2EI am Col=2C Kobia Abuom=2C I got to know you courtesy of international business bureau here in =28 Thailand=29Sequel to my zeal towards foreign investment and also security for my life and my possession=2C I therefore write to give you a Breakdown of this proposal =2E I was the personal confidant to the first vice-president=2C Dr John Garang of Southern Sudan whose death was a deep sadness by popular demand of the citizens of Southern Sudan's as a result of helicopter crash=2EDr=2E Garang's demise is a tragedy of enormous proportions=2E His death is a huge loss not only to the people of Sudan but to the people of Eastern Africa and the continent as a whole=2E I will be 38years this year and out of this years=2C 16 years was spent in the bush fighting as a Guerilla=2E All these years my total devotion was to the late Vice president=2EEventually we succeeded in over- running Sudan Peoples Liberation Movement=2FArmy =28SPLM=2FA=29=2E I was handsomely rewarded with the position of personal confidant of the president=2E Aside being his Chief Security officer=2C was also charged with the responsibility of ensuring steady purchase and supply of arms from North Korea=2E A week before the death of the Vice president I was in North Korea with a total sum of US$39 million dollars cash=28Thirty Nine Million US Dollars=29 which was brought in through a diplomatic means=2EThis money was to effect the payment of shipment of long-range anti-tanker launchers to my country before I learnt of the sudden death of the Vice president=2E My initial reaction was to deposit this money with a Security Company in North Korea=2Cdue to security reasons i diverted the treasure containing the fund to Thailand through a diplomatic means=2EOn arrival here I immediately deposited the treasure into a Private Security =2Ffinance company for safe keeping although the Security Company and the diplomat who assisted me to Thailand is unaware of the contents as they were deposited as privileged consignments=2E Right now=2C I am seeking for a partner who shall serve as the guardian=2Foverseer of this fund with whom I can plan the best way to move this money for investment purposes=2C which is my motive for contacting you=2E To be able to actualize this project=2C you are required to assist in the following manners=2E =281=29 That you shall serve as the general overseer and guardian of this fund and all investment thereafter=2E =282=29 To assist in providing me and my immediate family permanent residential permit in your country after the money must have been transferred to your account=2E For these services=2C a suitable percentage =28%=29 will be mapped out for you after you have shown your willingness to assist=2C and most importantly all expenses involved in this transaction will be taken care of when the money have been safely transferred to your designated account=2E In addition =2C there would be a face to face meeting here in Bangkok Thailand for further discussions and to consummate the transaction at once=2E I will give you all the details in my next mail when you have indicated your interest and commitment to work with me=2E Always remember that this is the highest confidence and trust any person can repose on the other=2C especially when it is considered that we did not know ourselves before=2E I hope you will honor me too=2ENOTE=3A I know there may be scams and junk mails flying here and there on the internet but certainly=2C this is not one of them=2E Now I urge you to take this message seriously and with an open mind=2C with good faith and trust=2E Join me and I am assuring you now that you will never be disappointed=2E I expect to receive your response soonest I do not intend to have this transaction delayed=2E Please treat this as highly confidential by keeping it only with yourself=2E I look forward to your urgent co-operation=2E Best regards=2C Col Kobia Abuom=2E ",
         "1",
         "dear sir feel sorry interrupt peace since expecting receive mail ehowever ci obliged due importance urgency massage ei crave indulgence cand want reassure mean well mutual good eso please embbarrassed suspicious ei col kobia abuom got know courtesy international business bureau thailand sequel zeal towards foreign investment also security life possession therefore write give breakdown proposal personal confidant first vice president dr john garang southern sudan whose death deep sadness popular demand citizens southern sudan result helicopter crash edr garang demise tragedy enormous proportions death huge loss people sudan people eastern africa continent whole years year years years spent bush fighting guerilla years total devotion late vice president eeventually succeeded running sudan peoples liberation movement farmy splm fa handsomely rewarded position personal confidant president aside chief security officer also charged responsibility ensuring steady purchase supply arms north korea week death vice president north korea total sum us million dollars cash thirty nine million us dollars brought diplomatic means ethis money effect payment shipment long range anti tanker launchers country learnt sudden death vice president initial reaction deposit money security company north korea cdue security reasons diverted treasure containing fund thailand diplomatic means eon arrival immediately deposited treasure private security ffinance company safe keeping although security company diplomat assisted thailand unaware contents deposited privileged consignments right seeking partner shall serve guardian foverseer fund plan best way move money investment purposes motive contacting able actualize project required assist following manners shall serve general overseer guardian fund investment thereafter assist providing immediate family permanent residential permit country money must transferred account services suitable percentage mapped shown willingness assist importantly expenses involved transaction taken care money safely transferred designated account addition would face face meeting bangkok thailand discussions consummate transaction give details next mail indicated interest commitment work always remember highest confidence trust person repose especially considered know hope honor enote know may scams junk mails flying internet certainly one urge take message seriously open mind good faith trust join assuring never disappointed expect receive response soonest intend transaction delayed please treat highly confidential keeping look forward urgent co operation best regards col kobia abuom",
         "['dear', 'sir', 'feel', 'sorry', 'interrupt', 'peace', 'since', 'expecting', 'receive', 'mail', 'ehowever', 'ci', 'obliged', 'due', 'importance', 'urgency', 'massage', 'ei', 'crave', 'indulgence', 'cand', 'want', 'reassure', 'mean', 'well', 'mutual', 'good', 'eso', 'please', 'embbarrassed', 'suspicious', 'ei', 'col', 'kobia', 'abuom', 'got', 'know', 'courtesy', 'international', 'business', 'bureau', 'thailand', 'sequel', 'zeal', 'towards', 'foreign', 'investment', 'also', 'security', 'life', 'possession', 'therefore', 'write', 'give', 'breakdown', 'proposal', 'personal', 'confidant', 'first', 'vice', 'president', 'dr', 'john', 'garang', 'southern', 'sudan', 'whose', 'death', 'deep', 'sadness', 'popular', 'demand', 'citizen', 'southern', 'sudan', 'result', 'helicopter', 'crash', 'edr', 'garang', 'demise', 'tragedy', 'enormous', 'proportion', 'death', 'huge', 'loss', 'people', 'sudan', 'people', 'eastern', 'africa', 'continent', 'whole', 'year', 'year', 'year', 'year', 'spent', 'bush', 'fighting', 'guerilla', 'year', 'total', 'devotion', 'late', 'vice', 'president', 'eeventually', 'succeeded', 'running', 'sudan', 'people', 'liberation', 'movement', 'farmy', 'splm', 'fa', 'handsomely', 'rewarded', 'position', 'personal', 'confidant', 'president', 'aside', 'chief', 'security', 'officer', 'also', 'charged', 'responsibility', 'ensuring', 'steady', 'purchase', 'supply', 'arm', 'north', 'korea', 'week', 'death', 'vice', 'president', 'north', 'korea', 'total', 'sum', 'u', 'million', 'dollar', 'cash', 'thirty', 'nine', 'million', 'u', 'dollar', 'brought', 'diplomatic', 'mean', 'ethis', 'money', 'effect', 'payment', 'shipment', 'long', 'range', 'anti', 'tanker', 'launcher', 'country', 'learnt', 'sudden', 'death', 'vice', 'president', 'initial', 'reaction', 'deposit', 'money', 'security', 'company', 'north', 'korea', 'cdue', 'security', 'reason', 'diverted', 'treasure', 'containing', 'fund', 'thailand', 'diplomatic', 'mean', 'eon', 'arrival', 'immediately', 'deposited', 'treasure', 'private', 'security', 'ffinance', 'company', 'safe', 'keeping', 'although', 'security', 'company', 'diplomat', 'assisted', 'thailand', 'unaware', 'content', 'deposited', 'privileged', 'consignment', 'right', 'seeking', 'partner', 'shall', 'serve', 'guardian', 'foverseer', 'fund', 'plan', 'best', 'way', 'move', 'money', 'investment', 'purpose', 'motive', 'contacting', 'able', 'actualize', 'project', 'required', 'assist', 'following', 'manner', 'shall', 'serve', 'general', 'overseer', 'guardian', 'fund', 'investment', 'thereafter', 'assist', 'providing', 'immediate', 'family', 'permanent', 'residential', 'permit', 'country', 'money', 'must', 'transferred', 'account', 'service', 'suitable', 'percentage', 'mapped', 'shown', 'willingness', 'assist', 'importantly', 'expense', 'involved', 'transaction', 'taken', 'care', 'money', 'safely', 'transferred', 'designated', 'account', 'addition', 'would', 'face', 'face', 'meeting', 'bangkok', 'thailand', 'discussion', 'consummate', 'transaction', 'give', 'detail', 'next', 'mail', 'indicated', 'interest', 'commitment', 'work', 'always', 'remember', 'highest', 'confidence', 'trust', 'person', 'repose', 'especially', 'considered', 'know', 'hope', 'honor', 'enote', 'know', 'may', 'scam', 'junk', 'mail', 'flying', 'internet', 'certainly', 'one', 'urge', 'take', 'message', 'seriously', 'open', 'mind', 'good', 'faith', 'trust', 'join', 'assuring', 'never', 'disappointed', 'expect', 'receive', 'response', 'soonest', 'intend', 'transaction', 'delayed', 'please', 'treat', 'highly', 'confidential', 'keeping', 'look', 'forward', 'urgent', 'co', 'operation', 'best', 'regard', 'col', 'kobia', 'abuom']",
         "1",
         "1",
         "351",
         "dear sir feel sorry interrupt peace since expecting receive mail ehowever ci obliged due importance urgency massage ei crave indulgence cand want reassure mean well mutual good eso please embbarrassed suspicious ei col kobia abuom got know courtesy international business bureau thailand sequel zeal towards foreign investment also security life possession therefore write give breakdown proposal personal confidant first vice president dr john garang southern sudan whose death deep sadness popular demand citizen southern sudan result helicopter crash edr garang demise tragedy enormous proportion death huge loss people sudan people eastern africa continent whole year year year year spent bush fighting guerilla year total devotion late vice president eeventually succeeded running sudan people liberation movement farmy splm fa handsomely rewarded position personal confidant president aside chief security officer also charged responsibility ensuring steady purchase supply arm north korea week death vice president north korea total sum u million dollar cash thirty nine million u dollar brought diplomatic mean ethis money effect payment shipment long range anti tanker launcher country learnt sudden death vice president initial reaction deposit money security company north korea cdue security reason diverted treasure containing fund thailand diplomatic mean eon arrival immediately deposited treasure private security ffinance company safe keeping although security company diplomat assisted thailand unaware content deposited privileged consignment right seeking partner shall serve guardian foverseer fund plan best way move money investment purpose motive contacting able actualize project required assist following manner shall serve general overseer guardian fund investment thereafter assist providing immediate family permanent residential permit country money must transferred account service suitable percentage mapped shown willingness assist importantly expense involved transaction taken care money safely transferred designated account addition would face face meeting bangkok thailand discussion consummate transaction give detail next mail indicated interest commitment work always remember highest confidence trust person repose especially considered know hope honor enote know may scam junk mail flying internet certainly one urge take message seriously open mind good faith trust join assuring never disappointed expect receive response soonest intend transaction delayed please treat highly confidential keeping look forward urgent co operation best regard col kobia abuom"
        ],
        [
         "41",
         "FROM=3A Dr=2E John Mikado=2EDirector of Projects=2C DME=2C South Africa=2EI am Dr=2E John Mikado=2C Director of projects Implementation South Africa Department of Minerals & Energy=2E First and foremost=2C I apologized using this medium to reach  you for a transaction =2F business of this magnitude=2C but this is due to confidentiality and prompt access reposed on this medium=2E In unfolding this proposal=2C I want to count on you as a respected & honest person to handle this transaction with sincerity=2C trust & confidentiality=2E I have decided to seek a confidential co-operation with you in the execution of the deal described hereunder for the benefit of all parties and hope you will keep confidential because of the nature of the transaction=2EWithin the Department of Minerals & Energy where I work as a director of projects Implementation and with the co-operation of three other top officials=2C we have in our possession as overdue payment bills totaling 28=2E5million US dollars=2E which we want to transfer abroad with the assistance and co-operation of a company or individual to receive the said funds on our behalf=2E We are seeking your assistance to front as beneficiary of the said funds=2C More so=2C we are handicapped in the circumstance as the South Africa Civil Service code of conduct does not allow us to operate foreign account hence your importance in the whole transaction=2EThis amount =28US$28=2E5m=29 represents the balance of the total contract value executed on behalf of my Department by a foreign contracting firm which we the officials over-invoiced deliberately=2E Though the actual contract cost have been paid to the original contractor=2C leaving the balance of the US$28=2E5m=2E which we have in principle gotten approvals from the Department of Finance and the contract review and payment committee to transfer by telegraphic transfer to any bank account you will provide=2E It does not matter whether you or your company does contract projects as a transfer of power and privileges with details & change of information upon application to reflect payment in favour of  you or your company will be secured on behalf of you or your company=2EI have the mandate of my partners involved to propose that should you be willing to assist us in the transaction=2C your share of the sum will be US$7=2E125m 25% of the US$28=2E5 million=2C US$19=2E95m 70% for us and US$1=2E425m 5% for taxation and miscellaneous expenses=2E The business itself is 100% safe and secure=2C on your part provided you treat it with ultmost confidentiality=2E Also=2C your area of trade or specialization is not an hindrance to the successful execution of this transaction=2E I have reposed my confidence in you and hope that you will not disappoint me=2E Please=2C endeavour to contact me immediately through my email for further clarifications=2EI want to assure you that myself and my partners are in the position to make the payment of this funds possible provided you can give us a very strong assurance and guarantee that our share will be secured and please remember to treat this matter as very confidential=2C and remember once again that time is of the essence in this business=2EI wait in anticipation of your fullest co-operation=2EBest Regards=2C Dr=2E John Mikado=2ENB=3A please reply with your confidential contact phone & fax numbers=2C to enable me contact you urgently for further clarifications=2E",
         "1",
         "dr john mikado edirector projects dme south africa ei dr john mikado director projects implementation south africa department minerals energy first foremost apologized using medium reach transaction business magnitude due confidentiality prompt access reposed medium unfolding proposal want count respected honest person handle transaction sincerity trust confidentiality decided seek confidential co operation execution deal described hereunder benefit parties hope keep confidential nature transaction ewithin department minerals energy work director projects implementation co operation three top officials possession overdue payment bills totaling emillion us dollars want transfer abroad assistance co operation company individual receive said funds behalf seeking assistance front beneficiary said funds handicapped circumstance south africa civil service code conduct allow us operate foreign account hence importance whole transaction ethis amount us em represents balance total contract value executed behalf department foreign contracting firm officials invoiced deliberately though actual contract cost paid original contractor leaving balance us em principle gotten approvals department finance contract review payment committee transfer telegraphic transfer bank account provide matter whether company contract projects transfer power privileges details change information upon application reflect payment favour company secured behalf company ei mandate partners involved propose willing assist us transaction share sum us em us million us em us us em taxation miscellaneous expenses business safe secure part provided treat ultmost confidentiality also area trade specialization hindrance successful execution transaction reposed confidence hope disappoint please endeavour contact immediately email clarifications ei want assure partners position make payment funds possible provided give us strong assurance guarantee share secured please remember treat matter confidential remember time essence business ei wait anticipation fullest co operation ebest regards dr john mikado enb please reply confidential contact phone fax numbers enable contact urgently clarifications e",
         "['dr', 'john', 'mikado', 'edirector', 'project', 'dme', 'south', 'africa', 'ei', 'dr', 'john', 'mikado', 'director', 'project', 'implementation', 'south', 'africa', 'department', 'mineral', 'energy', 'first', 'foremost', 'apologized', 'using', 'medium', 'reach', 'transaction', 'business', 'magnitude', 'due', 'confidentiality', 'prompt', 'access', 'reposed', 'medium', 'unfolding', 'proposal', 'want', 'count', 'respected', 'honest', 'person', 'handle', 'transaction', 'sincerity', 'trust', 'confidentiality', 'decided', 'seek', 'confidential', 'co', 'operation', 'execution', 'deal', 'described', 'hereunder', 'benefit', 'party', 'hope', 'keep', 'confidential', 'nature', 'transaction', 'ewithin', 'department', 'mineral', 'energy', 'work', 'director', 'project', 'implementation', 'co', 'operation', 'three', 'top', 'official', 'possession', 'overdue', 'payment', 'bill', 'totaling', 'emillion', 'u', 'dollar', 'want', 'transfer', 'abroad', 'assistance', 'co', 'operation', 'company', 'individual', 'receive', 'said', 'fund', 'behalf', 'seeking', 'assistance', 'front', 'beneficiary', 'said', 'fund', 'handicapped', 'circumstance', 'south', 'africa', 'civil', 'service', 'code', 'conduct', 'allow', 'u', 'operate', 'foreign', 'account', 'hence', 'importance', 'whole', 'transaction', 'ethis', 'amount', 'u', 'em', 'represents', 'balance', 'total', 'contract', 'value', 'executed', 'behalf', 'department', 'foreign', 'contracting', 'firm', 'official', 'invoiced', 'deliberately', 'though', 'actual', 'contract', 'cost', 'paid', 'original', 'contractor', 'leaving', 'balance', 'u', 'em', 'principle', 'gotten', 'approval', 'department', 'finance', 'contract', 'review', 'payment', 'committee', 'transfer', 'telegraphic', 'transfer', 'bank', 'account', 'provide', 'matter', 'whether', 'company', 'contract', 'project', 'transfer', 'power', 'privilege', 'detail', 'change', 'information', 'upon', 'application', 'reflect', 'payment', 'favour', 'company', 'secured', 'behalf', 'company', 'ei', 'mandate', 'partner', 'involved', 'propose', 'willing', 'assist', 'u', 'transaction', 'share', 'sum', 'u', 'em', 'u', 'million', 'u', 'em', 'u', 'u', 'em', 'taxation', 'miscellaneous', 'expense', 'business', 'safe', 'secure', 'part', 'provided', 'treat', 'ultmost', 'confidentiality', 'also', 'area', 'trade', 'specialization', 'hindrance', 'successful', 'execution', 'transaction', 'reposed', 'confidence', 'hope', 'disappoint', 'please', 'endeavour', 'contact', 'immediately', 'email', 'clarification', 'ei', 'want', 'assure', 'partner', 'position', 'make', 'payment', 'fund', 'possible', 'provided', 'give', 'u', 'strong', 'assurance', 'guarantee', 'share', 'secured', 'please', 'remember', 'treat', 'matter', 'confidential', 'remember', 'time', 'essence', 'business', 'ei', 'wait', 'anticipation', 'fullest', 'co', 'operation', 'ebest', 'regard', 'dr', 'john', 'mikado', 'enb', 'please', 'reply', 'confidential', 'contact', 'phone', 'fax', 'number', 'enable', 'contact', 'urgently', 'clarification', 'e']",
         "1",
         "1",
         "282",
         "dr john mikado edirector project dme south africa ei dr john mikado director project implementation south africa department mineral energy first foremost apologized using medium reach transaction business magnitude due confidentiality prompt access reposed medium unfolding proposal want count respected honest person handle transaction sincerity trust confidentiality decided seek confidential co operation execution deal described hereunder benefit party hope keep confidential nature transaction ewithin department mineral energy work director project implementation co operation three top official possession overdue payment bill totaling emillion u dollar want transfer abroad assistance co operation company individual receive said fund behalf seeking assistance front beneficiary said fund handicapped circumstance south africa civil service code conduct allow u operate foreign account hence importance whole transaction ethis amount u em represents balance total contract value executed behalf department foreign contracting firm official invoiced deliberately though actual contract cost paid original contractor leaving balance u em principle gotten approval department finance contract review payment committee transfer telegraphic transfer bank account provide matter whether company contract project transfer power privilege detail change information upon application reflect payment favour company secured behalf company ei mandate partner involved propose willing assist u transaction share sum u em u million u em u u em taxation miscellaneous expense business safe secure part provided treat ultmost confidentiality also area trade specialization hindrance successful execution transaction reposed confidence hope disappoint please endeavour contact immediately email clarification ei want assure partner position make payment fund possible provided give u strong assurance guarantee share secured please remember treat matter confidential remember time essence business ei wait anticipation fullest co operation ebest regard dr john mikado enb please reply confidential contact phone fax number enable contact urgently clarification e"
        ],
        [
         "42",
         "(1) Computer optimization and Installation 4,000.000.00.(2) Installation of 250,000.00 Monax Turbine$6,000.000.00(3) Turn around Maintenance $3,000,000.00The money will be shared as follows after transfer, 30% for you 70%  for me.I know exactly how to present you / your company as the Beneficiary of the funds.Yours Faithfully,Mr.Azzam Mahmud.",
         "1",
         "computer optimization installation installation monax turbine turn around maintenance money shared follows transfer know exactly present company beneficiary funds faithfully mr azzam mahmud",
         "['computer', 'optimization', 'installation', 'installation', 'monax', 'turbine', 'turn', 'around', 'maintenance', 'money', 'shared', 'follows', 'transfer', 'know', 'exactly', 'present', 'company', 'beneficiary', 'fund', 'faithfully', 'mr', 'azzam', 'mahmud']",
         "0",
         "1",
         "23",
         "computer optimization installation installation monax turbine turn around maintenance money shared follows transfer know exactly present company beneficiary fund faithfully mr azzam mahmud"
        ],
        [
         "43",
         "Do you want anyone added or deleted?",
         "0",
         "want anyone added deleted",
         "['want', 'anyone', 'added', 'deleted']",
         "0",
         "0",
         "4",
         "want anyone added deleted"
        ],
        [
         "44",
         "Dear Greetings To You And Your Family,This mail was first sent to you two months ago via post mail but uptill  today,I have not heard from you.Based on this,I decided to reach you  through this means though I know fully well that this is not the best and safest means to reach you for security reasons but was left with no  other viable option since there's this urgent need to reach you. Firstly,I would want to assure you that this mail is no  junk,spam,ilusion nor mere imagination.I appeal to you for the inconveniences this may  cause you by going through an unsolicited mail,but I assure you that  you will be satisfied after given me your due attention by carefully and  attentively going through this.I know that we have not met before nor  known to each other but never to worry as I will explain better.For clarity sake,I am Mr Kayode Abiola, 22 years old and a third year  micro biology student of the Federal University of Lagos.I am one of the  sons of late Chief M.K.O Abiola who won the 1993 presidential elections  as the President of the Federal Republic of Nigeria.Firstly,before I go further to unfold my main objective of contacting  you,I would advice that you visit this site maybe you can from here have  an insight of my family background and my personality.I am fully aware  of the numerous scam mails my fellow country men has been bombarding  through  the net looking for some one to defraud.I am telling you that I  am from a respectable family and will not for any reason engage myself  in any indecent act that will ruin the image of my family.I am going to throw more lights on the family,my mothers assasination  by the gun men from the military junta Late Gen Sani Abacha,The killing  of my father through poison while under detention.Please,kindly stop here and go through this websites,atleast it will  help to enrich and broaden your knowledge on what has happened to my  family:The annullement of june 12th 1993 Presidential elections:www.ngex.com/personalities/voices/politics.htm www.vanguardngr.com/articles/ 2002/politics/p525072004.html allafrica.com/stories/200407120112.html www.ainfos.ca/A-Infos97/3/0497.html www.thisdayonline.com/archive/ 2001/03/24/20010324cov04.html www.stormfront.org/archive/t-13985My Mother's assasination:www.amnesty.itews/1996/14401096.htmlwww.motherlandnigeria.com/womenwww.h-net.org/~africa/obituaries/msabiola.html www.cohdn.caews2/tribute1-3.htmlwww.africaaction.org/docs96ig9606.htm www.africaaction.org/docs97ig9711.htm www.fraudaid.com/ScamSpeak/ Nigerian/abacha/sanionlinenewshour.htmMy Father's death:www.africamasterweb.com/BanjoOnTaylor.htmlwww.nigeriancp.net/arijo.html allafrica.com/stories/200108080221.html www.nigeriavillagesquare1.com/Sanusi.htm I believe that the above sites has given you a wider perspective of how  I lost my parents.My father was known to be a polygamist,my own mother  was the second wife.Since the death of my father,things are no longer  the same within the entire household.My elder brother who is the son of  the first wife has taken allmost everything under the pretence that we  are still in school.promising to establish us as soon as we graduates.Going through my Mother's documents, I stumbled on a document which proved  that my father had a deposit of $15 Million U.S.A dollars (fifteen  million united states of america dollars) with a Finance Company abroad.I have made contact to the Finance Company and was told that I could  come for the claims so long as I have the certificate of deposit or That  I can send a representative but should equip him with the certificate  of deposit and a power of attoerney.Based on this that I am mailing you seeking your consent to assist me  go for the claims of this funds deposited with the security company since  I am still in school. I am going to send to you all the documents given  to my father by this security company on the day of the deposit. I am willing to offer you 25% of the total sum on completion of the  clearing excercise from the Finance Company, I maped out 5% for refund of  expences incured in the cause of this transaction, knowing fully well  that this deposit must have by now accumulated some demurrages.The balance of 70% will be kept for me,or should be invested and managed by you untill I graduates.I appeal to you,to understand that despite  the fact that we dont know each other,I am puting this trust on  you,based on the recommmendations I got while making my own private  consultations and investigations on a reliable person or firm to entrust this fund into his care.Please,I beg you in the name of god,not to sit on this money when  finally released to you by the Finance Company. I am doing this because I  dont want my Elder Brothers to have the knowledge of this fund.If this proposition interest you, and you really want to assist me, kindly forward the following information to me:(1) Your complete names starting with your surname first(2) Your private phone numbers including mobile(3) Your private fax number(4) Your present contact address.You should understand that these information requested will enable my Lawyer to prepare the power of attorney in your favour and as well enhance communication.I strongly advice that you treat this with utmost secrecy and absolute confidentiality,You are permited to make further enquiries on this issue, you can as well contact the Nigerian High Commission or Embassy nearer to you for comfirmation if you are not satisfied with your findings on the giving sites but please dont for any reason disclose the subject matter to anybody for security reasons.Endeavour to send further correspondences through my secured private email address:kayodeabiola@netscape.netI am looking forward to hearing from you and at the same time thanking you for your kind assistance/anticipated cooperation.Best regardsKayode  Abiola.___________________________________________________________________________Mail sent from WebMail service at PHP-Nuke Powered Site- http://yoursite.com",
         "1",
         "dear greetings family mail first sent two months ago via post mail uptill today heard based decided reach means though know fully well best safest means reach security reasons left viable option since urgent need reach firstly would want assure mail junk spam ilusion mere imagination appeal inconveniences may cause going unsolicited mail assure satisfied given due attention carefully attentively going know met known never worry explain better clarity sake mr kayode abiola years old third year micro biology student federal university lagos one sons late chief k abiola presidential elections president federal republic nigeria firstly go unfold main objective contacting would advice visit site maybe insight family background personality fully aware numerous scam mails fellow country men bombarding net looking one defraud telling respectable family reason engage indecent act ruin image family going throw lights family mothers assasination gun men military junta late gen sani abacha killing father poison detention please kindly stop go websites atleast help enrich broaden knowledge happened family annullement june th presidential elections www ngex com personalities voices politics htm www vanguardngr com articles politics html allafrica com stories html www ainfos ca infos html www thisdayonline com archive cov html www stormfront org archive mother assasination www amnesty itews htmlwww motherlandnigeria com womenwww net org africa obituaries msabiola html www cohdn caews tribute htmlwww africaaction org docsig htm www africaaction org docsig htm www fraudaid com scamspeak nigerian abacha sanionlinenewshour htmmy father death www africamasterweb com banjoontaylor htmlwww nigeriancp net arijo html allafrica com stories html www nigeriavillagesquare com sanusi htm believe sites given wider perspective lost parents father known polygamist mother second wife since death father things longer within entire household elder brother son first wife taken allmost everything pretence still school promising establish us soon graduates going mother documents stumbled document proved father deposit million dollars fifteen million united states america dollars finance company abroad made contact finance company told could come claims long certificate deposit send representative equip certificate deposit power attoerney based mailing seeking consent assist go claims funds deposited security company since still school going send documents given father security company day deposit willing offer total sum completion clearing excercise finance company maped refund expences incured cause transaction knowing fully well deposit must accumulated demurrages balance kept invested managed untill graduates appeal understand despite fact dont know puting trust based recommmendations got making private consultations investigations reliable person firm entrust fund care please beg name god sit money finally released finance company dont want elder brothers knowledge fund proposition interest really want assist kindly forward following information complete names starting surname first private phone numbers including mobile private fax number present contact address understand information requested enable lawyer prepare power attorney favour well enhance communication strongly advice treat utmost secrecy absolute confidentiality permited make enquiries issue well contact nigerian high commission embassy nearer comfirmation satisfied findings giving sites please dont reason disclose subject matter anybody security reasons endeavour send correspondences secured private email address kayodeabiola netscape neti looking forward hearing time thanking kind assistance anticipated cooperation best regardskayode abiola mail sent webmail service php nuke powered site http yoursite com",
         "['dear', 'greeting', 'family', 'mail', 'first', 'sent', 'two', 'month', 'ago', 'via', 'post', 'mail', 'uptill', 'today', 'heard', 'based', 'decided', 'reach', 'mean', 'though', 'know', 'fully', 'well', 'best', 'safest', 'mean', 'reach', 'security', 'reason', 'left', 'viable', 'option', 'since', 'urgent', 'need', 'reach', 'firstly', 'would', 'want', 'assure', 'mail', 'junk', 'spam', 'ilusion', 'mere', 'imagination', 'appeal', 'inconvenience', 'may', 'cause', 'going', 'unsolicited', 'mail', 'assure', 'satisfied', 'given', 'due', 'attention', 'carefully', 'attentively', 'going', 'know', 'met', 'known', 'never', 'worry', 'explain', 'better', 'clarity', 'sake', 'mr', 'kayode', 'abiola', 'year', 'old', 'third', 'year', 'micro', 'biology', 'student', 'federal', 'university', 'lagos', 'one', 'son', 'late', 'chief', 'k', 'abiola', 'presidential', 'election', 'president', 'federal', 'republic', 'nigeria', 'firstly', 'go', 'unfold', 'main', 'objective', 'contacting', 'would', 'advice', 'visit', 'site', 'maybe', 'insight', 'family', 'background', 'personality', 'fully', 'aware', 'numerous', 'scam', 'mail', 'fellow', 'country', 'men', 'bombarding', 'net', 'looking', 'one', 'defraud', 'telling', 'respectable', 'family', 'reason', 'engage', 'indecent', 'act', 'ruin', 'image', 'family', 'going', 'throw', 'light', 'family', 'mother', 'assasination', 'gun', 'men', 'military', 'junta', 'late', 'gen', 'sani', 'abacha', 'killing', 'father', 'poison', 'detention', 'please', 'kindly', 'stop', 'go', 'website', 'atleast', 'help', 'enrich', 'broaden', 'knowledge', 'happened', 'family', 'annullement', 'june', 'th', 'presidential', 'election', 'www', 'ngex', 'com', 'personality', 'voice', 'politics', 'htm', 'www', 'vanguardngr', 'com', 'article', 'politics', 'html', 'allafrica', 'com', 'story', 'html', 'www', 'ainfos', 'ca', 'info', 'html', 'www', 'thisdayonline', 'com', 'archive', 'cov', 'html', 'www', 'stormfront', 'org', 'archive', 'mother', 'assasination', 'www', 'amnesty', 'itews', 'htmlwww', 'motherlandnigeria', 'com', 'womenwww', 'net', 'org', 'africa', 'obituary', 'msabiola', 'html', 'www', 'cohdn', 'caews', 'tribute', 'htmlwww', 'africaaction', 'org', 'docsig', 'htm', 'www', 'africaaction', 'org', 'docsig', 'htm', 'www', 'fraudaid', 'com', 'scamspeak', 'nigerian', 'abacha', 'sanionlinenewshour', 'htmmy', 'father', 'death', 'www', 'africamasterweb', 'com', 'banjoontaylor', 'htmlwww', 'nigeriancp', 'net', 'arijo', 'html', 'allafrica', 'com', 'story', 'html', 'www', 'nigeriavillagesquare', 'com', 'sanusi', 'htm', 'believe', 'site', 'given', 'wider', 'perspective', 'lost', 'parent', 'father', 'known', 'polygamist', 'mother', 'second', 'wife', 'since', 'death', 'father', 'thing', 'longer', 'within', 'entire', 'household', 'elder', 'brother', 'son', 'first', 'wife', 'taken', 'allmost', 'everything', 'pretence', 'still', 'school', 'promising', 'establish', 'u', 'soon', 'graduate', 'going', 'mother', 'document', 'stumbled', 'document', 'proved', 'father', 'deposit', 'million', 'dollar', 'fifteen', 'million', 'united', 'state', 'america', 'dollar', 'finance', 'company', 'abroad', 'made', 'contact', 'finance', 'company', 'told', 'could', 'come', 'claim', 'long', 'certificate', 'deposit', 'send', 'representative', 'equip', 'certificate', 'deposit', 'power', 'attoerney', 'based', 'mailing', 'seeking', 'consent', 'assist', 'go', 'claim', 'fund', 'deposited', 'security', 'company', 'since', 'still', 'school', 'going', 'send', 'document', 'given', 'father', 'security', 'company', 'day', 'deposit', 'willing', 'offer', 'total', 'sum', 'completion', 'clearing', 'excercise', 'finance', 'company', 'maped', 'refund', 'expences', 'incured', 'cause', 'transaction', 'knowing', 'fully', 'well', 'deposit', 'must', 'accumulated', 'demurrage', 'balance', 'kept', 'invested', 'managed', 'untill', 'graduate', 'appeal', 'understand', 'despite', 'fact', 'dont', 'know', 'puting', 'trust', 'based', 'recommmendations', 'got', 'making', 'private', 'consultation', 'investigation', 'reliable', 'person', 'firm', 'entrust', 'fund', 'care', 'please', 'beg', 'name', 'god', 'sit', 'money', 'finally', 'released', 'finance', 'company', 'dont', 'want', 'elder', 'brother', 'knowledge', 'fund', 'proposition', 'interest', 'really', 'want', 'assist', 'kindly', 'forward', 'following', 'information', 'complete', 'name', 'starting', 'surname', 'first', 'private', 'phone', 'number', 'including', 'mobile', 'private', 'fax', 'number', 'present', 'contact', 'address', 'understand', 'information', 'requested', 'enable', 'lawyer', 'prepare', 'power', 'attorney', 'favour', 'well', 'enhance', 'communication', 'strongly', 'advice', 'treat', 'utmost', 'secrecy', 'absolute', 'confidentiality', 'permited', 'make', 'enquiry', 'issue', 'well', 'contact', 'nigerian', 'high', 'commission', 'embassy', 'nearer', 'comfirmation', 'satisfied', 'finding', 'giving', 'site', 'please', 'dont', 'reason', 'disclose', 'subject', 'matter', 'anybody', 'security', 'reason', 'endeavour', 'send', 'correspondence', 'secured', 'private', 'email', 'address', 'kayodeabiola', 'netscape', 'neti', 'looking', 'forward', 'hearing', 'time', 'thanking', 'kind', 'assistance', 'anticipated', 'cooperation', 'best', 'regardskayode', 'abiola', 'mail', 'sent', 'webmail', 'service', 'php', 'nuke', 'powered', 'site', 'http', 'yoursite', 'com']",
         "1",
         "1",
         "521",
         "dear greeting family mail first sent two month ago via post mail uptill today heard based decided reach mean though know fully well best safest mean reach security reason left viable option since urgent need reach firstly would want assure mail junk spam ilusion mere imagination appeal inconvenience may cause going unsolicited mail assure satisfied given due attention carefully attentively going know met known never worry explain better clarity sake mr kayode abiola year old third year micro biology student federal university lagos one son late chief k abiola presidential election president federal republic nigeria firstly go unfold main objective contacting would advice visit site maybe insight family background personality fully aware numerous scam mail fellow country men bombarding net looking one defraud telling respectable family reason engage indecent act ruin image family going throw light family mother assasination gun men military junta late gen sani abacha killing father poison detention please kindly stop go website atleast help enrich broaden knowledge happened family annullement june th presidential election www ngex com personality voice politics htm www vanguardngr com article politics html allafrica com story html www ainfos ca info html www thisdayonline com archive cov html www stormfront org archive mother assasination www amnesty itews htmlwww motherlandnigeria com womenwww net org africa obituary msabiola html www cohdn caews tribute htmlwww africaaction org docsig htm www africaaction org docsig htm www fraudaid com scamspeak nigerian abacha sanionlinenewshour htmmy father death www africamasterweb com banjoontaylor htmlwww nigeriancp net arijo html allafrica com story html www nigeriavillagesquare com sanusi htm believe site given wider perspective lost parent father known polygamist mother second wife since death father thing longer within entire household elder brother son first wife taken allmost everything pretence still school promising establish u soon graduate going mother document stumbled document proved father deposit million dollar fifteen million united state america dollar finance company abroad made contact finance company told could come claim long certificate deposit send representative equip certificate deposit power attoerney based mailing seeking consent assist go claim fund deposited security company since still school going send document given father security company day deposit willing offer total sum completion clearing excercise finance company maped refund expences incured cause transaction knowing fully well deposit must accumulated demurrage balance kept invested managed untill graduate appeal understand despite fact dont know puting trust based recommmendations got making private consultation investigation reliable person firm entrust fund care please beg name god sit money finally released finance company dont want elder brother knowledge fund proposition interest really want assist kindly forward following information complete name starting surname first private phone number including mobile private fax number present contact address understand information requested enable lawyer prepare power attorney favour well enhance communication strongly advice treat utmost secrecy absolute confidentiality permited make enquiry issue well contact nigerian high commission embassy nearer comfirmation satisfied finding giving site please dont reason disclose subject matter anybody security reason endeavour send correspondence secured private email address kayodeabiola netscape neti looking forward hearing time thanking kind assistance anticipated cooperation best regardskayode abiola mail sent webmail service php nuke powered site http yoursite com"
        ],
        [
         "45",
         "Pis let me know when you send--I'm having fax trouble.",
         "0",
         "pis let know send fax trouble",
         "['pi', 'let', 'know', 'send', 'fax', 'trouble']",
         "0",
         "0",
         "6",
         "pi let know send fax trouble"
        ],
        [
         "46",
         "paymastersFYI",
         "0",
         "paymastersfyi",
         "['paymastersfyi']",
         "0",
         "0",
         "1",
         "paymastersfyi"
        ],
        [
         "47",
         "Pis discuss w me.",
         "0",
         "pis discuss",
         "['pi', 'discus']",
         "0",
         "0",
         "2",
         "pi discus"
        ],
        [
         "48",
         "<P>Best Regards,<BR>Dr.Mark Ibe.</P><P>&nbsp;</P><P>&nbsp;</P><P><BR>&nbsp;</P><br><BR>Encuentra las noticias mas actualizadas de El Salvador y el mundo en =www.elsalvador.com</body></html>------=_NextPart_84815C5ABAF209EF376268C8--",
         "1",
         "best regards dr mark ibe encuentra las noticias mas actualizadas de el salvador el mundo en www elsalvador com nextpart cabafefc",
         "['best', 'regard', 'dr', 'mark', 'ibe', 'encuentra', 'la', 'noticias', 'ma', 'actualizadas', 'de', 'el', 'salvador', 'el', 'mundo', 'en', 'www', 'elsalvador', 'com', 'nextpart', 'cabafefc']",
         "0",
         "0",
         "21",
         "best regard dr mark ibe encuentra la noticias ma actualizadas de el salvador el mundo en www elsalvador com nextpart cabafefc"
        ],
        [
         "49",
         "Dennis comments below and but primarily in text in track changes.cdm",
         "0",
         "dennis comments primarily text track changes cdm",
         "['dennis', 'comment', 'primarily', 'text', 'track', 'change', 'cdm']",
         "0",
         "0",
         "7",
         "dennis comment primarily text track change cdm"
        ]
       ],
       "shape": {
        "columns": 8,
        "rows": 1000
       }
      },
      "text/html": [
       "<div>\n",
       "<style scoped>\n",
       "    .dataframe tbody tr th:only-of-type {\n",
       "        vertical-align: middle;\n",
       "    }\n",
       "\n",
       "    .dataframe tbody tr th {\n",
       "        vertical-align: top;\n",
       "    }\n",
       "\n",
       "    .dataframe thead th {\n",
       "        text-align: right;\n",
       "    }\n",
       "</style>\n",
       "<table border=\"1\" class=\"dataframe\">\n",
       "  <thead>\n",
       "    <tr style=\"text-align: right;\">\n",
       "      <th></th>\n",
       "      <th>text</th>\n",
       "      <th>predicted_label</th>\n",
       "      <th>clean_text</th>\n",
       "      <th>lemmatized</th>\n",
       "      <th>money_mark</th>\n",
       "      <th>suspicious_words</th>\n",
       "      <th>text_len</th>\n",
       "      <th>joined_text</th>\n",
       "    </tr>\n",
       "  </thead>\n",
       "  <tbody>\n",
       "    <tr>\n",
       "      <th>0</th>\n",
       "      <td>usiness is for the fact that the deceased man ...</td>\n",
       "      <td>1</td>\n",
       "      <td>usiness fact deceased man foreigner authorized...</td>\n",
       "      <td>[usiness, fact, deceased, man, foreigner, auth...</td>\n",
       "      <td>0</td>\n",
       "      <td>1</td>\n",
       "      <td>108</td>\n",
       "      <td>usiness fact deceased man foreigner authorized...</td>\n",
       "    </tr>\n",
       "    <tr>\n",
       "      <th>1</th>\n",
       "      <td>They are happy to adjust to the afternoon. I a...</td>\n",
       "      <td>0</td>\n",
       "      <td>happy adjust afternoon going suggest pm start ...</td>\n",
       "      <td>[happy, adjust, afternoon, going, suggest, pm,...</td>\n",
       "      <td>0</td>\n",
       "      <td>0</td>\n",
       "      <td>16</td>\n",
       "      <td>happy adjust afternoon going suggest pm start ...</td>\n",
       "    </tr>\n",
       "    <tr>\n",
       "      <th>2</th>\n",
       "      <td>Lael Brainard was confirmed 78-19 this afterno...</td>\n",
       "      <td>0</td>\n",
       "      <td>lael brainard confirmed afternoon miguel rodri...</td>\n",
       "      <td>[lael, brainard, confirmed, afternoon, miguel,...</td>\n",
       "      <td>0</td>\n",
       "      <td>0</td>\n",
       "      <td>17</td>\n",
       "      <td>lael brainard confirmed afternoon miguel rodri...</td>\n",
       "    </tr>\n",
       "    <tr>\n",
       "      <th>3</th>\n",
       "      <td>H &lt;hrod17@clintonemail.com&gt;Friday March 26 201...</td>\n",
       "      <td>0</td>\n",
       "      <td>friday march sbwhoeop extended congrats</td>\n",
       "      <td>[friday, march, sbwhoeop, extended, congrats]</td>\n",
       "      <td>0</td>\n",
       "      <td>0</td>\n",
       "      <td>5</td>\n",
       "      <td>friday march sbwhoeop extended congrats</td>\n",
       "    </tr>\n",
       "    <tr>\n",
       "      <th>4</th>\n",
       "      <td>n;\"&gt; Dear Good Friend,&lt;br&gt;&lt;br&gt;&lt;br&gt;I am happy t...</td>\n",
       "      <td>1</td>\n",
       "      <td>dear good friend happy inform succe ssin getti...</td>\n",
       "      <td>[dear, good, friend, happy, inform, succe, ssi...</td>\n",
       "      <td>0</td>\n",
       "      <td>1</td>\n",
       "      <td>119</td>\n",
       "      <td>dear good friend happy inform succe ssin getti...</td>\n",
       "    </tr>\n",
       "    <tr>\n",
       "      <th>...</th>\n",
       "      <td>...</td>\n",
       "      <td>...</td>\n",
       "      <td>...</td>\n",
       "      <td>...</td>\n",
       "      <td>...</td>\n",
       "      <td>...</td>\n",
       "      <td>...</td>\n",
       "      <td>...</td>\n",
       "    </tr>\n",
       "    <tr>\n",
       "      <th>995</th>\n",
       "      <td>Dear Friend,Do accept my sincere apologies if ...</td>\n",
       "      <td>1</td>\n",
       "      <td>dear friend accept sincere apologies mail meet...</td>\n",
       "      <td>[dear, friend, accept, sincere, apology, mail,...</td>\n",
       "      <td>1</td>\n",
       "      <td>1</td>\n",
       "      <td>152</td>\n",
       "      <td>dear friend accept sincere apology mail meet p...</td>\n",
       "    </tr>\n",
       "    <tr>\n",
       "      <th>996</th>\n",
       "      <td>FROM THE DESK OF:MR.WANG QINHANG SENG BANK LTD...</td>\n",
       "      <td>1</td>\n",
       "      <td>desk mr wang qinhang seng bank ltd des voeux r...</td>\n",
       "      <td>[desk, mr, wang, qinhang, seng, bank, ltd, de,...</td>\n",
       "      <td>1</td>\n",
       "      <td>1</td>\n",
       "      <td>265</td>\n",
       "      <td>desk mr wang qinhang seng bank ltd de voeux rd...</td>\n",
       "    </tr>\n",
       "    <tr>\n",
       "      <th>997</th>\n",
       "      <td>He can speak at 7pm. He said that it does not ...</td>\n",
       "      <td>0</td>\n",
       "      <td>speak pm said secure ops connect residence</td>\n",
       "      <td>[speak, pm, said, secure, ops, connect, reside...</td>\n",
       "      <td>0</td>\n",
       "      <td>0</td>\n",
       "      <td>7</td>\n",
       "      <td>speak pm said secure ops connect residence</td>\n",
       "    </tr>\n",
       "    <tr>\n",
       "      <th>998</th>\n",
       "      <td>Mary Landrieu asked me to attend a dinner abou...</td>\n",
       "      <td>0</td>\n",
       "      <td>mary landrieu asked attend dinner foster care ...</td>\n",
       "      <td>[mary, landrieu, asked, attend, dinner, foster...</td>\n",
       "      <td>0</td>\n",
       "      <td>0</td>\n",
       "      <td>29</td>\n",
       "      <td>mary landrieu asked attend dinner foster care ...</td>\n",
       "    </tr>\n",
       "    <tr>\n",
       "      <th>999</th>\n",
       "      <td>Oscar should have printed gates shangrila conf...</td>\n",
       "      <td>0</td>\n",
       "      <td>oscar printed gates shangrila conf speech also...</td>\n",
       "      <td>[oscar, printed, gate, shangrila, conf, speech...</td>\n",
       "      <td>0</td>\n",
       "      <td>0</td>\n",
       "      <td>27</td>\n",
       "      <td>oscar printed gate shangrila conf speech also ...</td>\n",
       "    </tr>\n",
       "  </tbody>\n",
       "</table>\n",
       "<p>1000 rows × 8 columns</p>\n",
       "</div>"
      ],
      "text/plain": [
       "                                                  text  predicted_label  \\\n",
       "0    usiness is for the fact that the deceased man ...                1   \n",
       "1    They are happy to adjust to the afternoon. I a...                0   \n",
       "2    Lael Brainard was confirmed 78-19 this afterno...                0   \n",
       "3    H <hrod17@clintonemail.com>Friday March 26 201...                0   \n",
       "4    n;\"> Dear Good Friend,<br><br><br>I am happy t...                1   \n",
       "..                                                 ...              ...   \n",
       "995  Dear Friend,Do accept my sincere apologies if ...                1   \n",
       "996  FROM THE DESK OF:MR.WANG QINHANG SENG BANK LTD...                1   \n",
       "997  He can speak at 7pm. He said that it does not ...                0   \n",
       "998  Mary Landrieu asked me to attend a dinner abou...                0   \n",
       "999  Oscar should have printed gates shangrila conf...                0   \n",
       "\n",
       "                                            clean_text  \\\n",
       "0    usiness fact deceased man foreigner authorized...   \n",
       "1    happy adjust afternoon going suggest pm start ...   \n",
       "2    lael brainard confirmed afternoon miguel rodri...   \n",
       "3              friday march sbwhoeop extended congrats   \n",
       "4    dear good friend happy inform succe ssin getti...   \n",
       "..                                                 ...   \n",
       "995  dear friend accept sincere apologies mail meet...   \n",
       "996  desk mr wang qinhang seng bank ltd des voeux r...   \n",
       "997         speak pm said secure ops connect residence   \n",
       "998  mary landrieu asked attend dinner foster care ...   \n",
       "999  oscar printed gates shangrila conf speech also...   \n",
       "\n",
       "                                            lemmatized  money_mark  \\\n",
       "0    [usiness, fact, deceased, man, foreigner, auth...           0   \n",
       "1    [happy, adjust, afternoon, going, suggest, pm,...           0   \n",
       "2    [lael, brainard, confirmed, afternoon, miguel,...           0   \n",
       "3        [friday, march, sbwhoeop, extended, congrats]           0   \n",
       "4    [dear, good, friend, happy, inform, succe, ssi...           0   \n",
       "..                                                 ...         ...   \n",
       "995  [dear, friend, accept, sincere, apology, mail,...           1   \n",
       "996  [desk, mr, wang, qinhang, seng, bank, ltd, de,...           1   \n",
       "997  [speak, pm, said, secure, ops, connect, reside...           0   \n",
       "998  [mary, landrieu, asked, attend, dinner, foster...           0   \n",
       "999  [oscar, printed, gate, shangrila, conf, speech...           0   \n",
       "\n",
       "     suspicious_words  text_len  \\\n",
       "0                   1       108   \n",
       "1                   0        16   \n",
       "2                   0        17   \n",
       "3                   0         5   \n",
       "4                   1       119   \n",
       "..                ...       ...   \n",
       "995                 1       152   \n",
       "996                 1       265   \n",
       "997                 0         7   \n",
       "998                 0        29   \n",
       "999                 0        27   \n",
       "\n",
       "                                           joined_text  \n",
       "0    usiness fact deceased man foreigner authorized...  \n",
       "1    happy adjust afternoon going suggest pm start ...  \n",
       "2    lael brainard confirmed afternoon miguel rodri...  \n",
       "3              friday march sbwhoeop extended congrats  \n",
       "4    dear good friend happy inform succe ssin getti...  \n",
       "..                                                 ...  \n",
       "995  dear friend accept sincere apology mail meet p...  \n",
       "996  desk mr wang qinhang seng bank ltd de voeux rd...  \n",
       "997         speak pm said secure ops connect residence  \n",
       "998  mary landrieu asked attend dinner foster care ...  \n",
       "999  oscar printed gate shangrila conf speech also ...  \n",
       "\n",
       "[1000 rows x 8 columns]"
      ]
     },
     "execution_count": 107,
     "metadata": {},
     "output_type": "execute_result"
    }
   ],
   "source": [
    "data_test"
   ]
  },
  {
   "cell_type": "code",
   "execution_count": 108,
   "metadata": {},
   "outputs": [
    {
     "name": "stdout",
     "output_type": "stream",
     "text": [
      "              precision    recall  f1-score   support\n",
      "\n",
      "           0       0.96      0.87      0.91       539\n",
      "           1       0.86      0.95      0.91       461\n",
      "\n",
      "    accuracy                           0.91      1000\n",
      "   macro avg       0.91      0.91      0.91      1000\n",
      "weighted avg       0.91      0.91      0.91      1000\n",
      "\n"
     ]
    }
   ],
   "source": [
    "y_train = data_train['label']  # or whatever your label column is named\n",
    "y_test = data_test['predicted_label']  # or whatever your label column is named\n",
    "from scipy.sparse import hstack\n",
    "\n",
    "# Select other features, for example:\n",
    "other_features_train = data_train[['money_mark', 'suspicious_words', 'text_len']].values\n",
    "other_features_test = data_test[['money_mark', 'suspicious_words', 'text_len']].values\n",
    "\n",
    "# Combine sparse text features and dense other features\n",
    "import numpy as np\n",
    "from scipy.sparse import csr_matrix\n",
    "\n",
    "# Convert dense numeric features to sparse format for hstack\n",
    "other_features_train_sparse = csr_matrix(other_features_train)\n",
    "other_features_test_sparse = csr_matrix(other_features_test)\n",
    "\n",
    "# Combine text and other features\n",
    "X_train_vec = hstack([X_train_vectorized, other_features_train_sparse])\n",
    "X_test_vec = hstack([X_test_vectorized, other_features_test_sparse])\n",
    "\n",
    "from sklearn.naive_bayes import MultinomialNB\n",
    "from sklearn.metrics import classification_report\n",
    "\n",
    "#Initialize Multinomial Naive Bayes classifier with default parameters\n",
    "clf = MultinomialNB()\n",
    "\n",
    "#Train the classifier on training data\n",
    "clf.fit(X_train_vec, y_train)\n",
    "\n",
    "#Predict on the test set\n",
    "y_pred = clf.predict(X_test_vec)\n",
    "\n",
    "#Evaluate performance\n",
    "print(classification_report(y_test, y_pred))"
   ]
  },
  {
   "cell_type": "code",
   "execution_count": 109,
   "metadata": {},
   "outputs": [
    {
     "name": "stdout",
     "output_type": "stream",
     "text": [
      "              precision    recall  f1-score   support\n",
      "\n",
      "           0       0.99      0.89      0.94       112\n",
      "           1       0.88      0.99      0.93        88\n",
      "\n",
      "    accuracy                           0.94       200\n",
      "   macro avg       0.93      0.94      0.93       200\n",
      "weighted avg       0.94      0.94      0.94       200\n",
      "\n"
     ]
    }
   ],
   "source": [
    "from sklearn.model_selection import train_test_split\n",
    "from sklearn.metrics import classification_report\n",
    "\n",
    "# 1. Split data_train into train and val\n",
    "train_df, val_df = train_test_split(data_train, test_size=0.2, random_state=42, stratify=data_train['label'])\n",
    "\n",
    "# 2. Prepare train features and labels\n",
    "train_df['joined_text'] = train_df['lemmatized'].apply(lambda tokens: ' '.join(tokens))\n",
    "X_train_text = train_df['joined_text']\n",
    "y_train = train_df['label']\n",
    "other_features_train = train_df[['money_mark', 'suspicious_words', 'text_len']].values\n",
    "\n",
    "# 3. Prepare val features and labels\n",
    "val_df['joined_text'] = val_df['lemmatized'].apply(lambda tokens: ' '.join(tokens))\n",
    "X_val_text = val_df['joined_text']\n",
    "y_val = val_df['label']\n",
    "other_features_val = val_df[['money_mark', 'suspicious_words', 'text_len']].values\n",
    "\n",
    "# 4. Fit vectorizer on train text only\n",
    "vectorizer = CountVectorizer()\n",
    "X_train_vectorized = vectorizer.fit_transform(X_train_text)\n",
    "\n",
    "# 5. Vectorize val text\n",
    "X_val_vectorized = vectorizer.transform(X_val_text)\n",
    "\n",
    "# 6. Combine text and numeric features\n",
    "from scipy.sparse import csr_matrix, hstack\n",
    "X_train_vec = hstack([X_train_vectorized, csr_matrix(other_features_train)])\n",
    "X_val_vec = hstack([X_val_vectorized, csr_matrix(other_features_val)])\n",
    "\n",
    "# 7. Train classifier\n",
    "from sklearn.naive_bayes import MultinomialNB\n",
    "clf = MultinomialNB()\n",
    "clf.fit(X_train_vec, y_train)\n",
    "\n",
    "# 8. Predict on validation set\n",
    "y_pred = clf.predict(X_val_vec)\n",
    "\n",
    "# 9. Evaluate performance\n",
    "print(classification_report(y_val, y_pred))\n"
   ]
  },
  {
   "cell_type": "code",
   "execution_count": 110,
   "metadata": {},
   "outputs": [
    {
     "name": "stdout",
     "output_type": "stream",
     "text": [
      "Mean F1 macro score: 0.9406123015366156\n"
     ]
    }
   ],
   "source": [
    "from sklearn.pipeline import Pipeline\n",
    "from sklearn.model_selection import cross_val_score\n",
    "from sklearn.naive_bayes import MultinomialNB\n",
    "from sklearn.feature_extraction.text import CountVectorizer\n",
    "\n",
    "# Since you have other features (money_mark, suspicious_words, text_len), you can’t directly\n",
    "# pass them to a simple pipeline that vectorizes only text, so cross-validation is a bit more complex.\n",
    "\n",
    "# If you want to do cross-validation only on text features:\n",
    "X_text = data_train['lemmatized'].apply(lambda tokens: ' '.join(tokens))\n",
    "y = data_train['label']\n",
    "\n",
    "pipeline = Pipeline([\n",
    "    ('vect', CountVectorizer()),\n",
    "    ('clf', MultinomialNB())\n",
    "])\n",
    "\n",
    "scores = cross_val_score(pipeline, X_text, y, cv=5, scoring='f1_macro')\n",
    "print(\"Mean F1 macro score:\", scores.mean())\n"
   ]
  },
  {
   "cell_type": "code",
   "execution_count": 111,
   "metadata": {},
   "outputs": [
    {
     "name": "stdout",
     "output_type": "stream",
     "text": [
      "=== CountVectorizer unigram ===\n",
      "              precision    recall  f1-score   support\n",
      "\n",
      "           0       0.99      0.89      0.94       112\n",
      "           1       0.88      0.99      0.93        88\n",
      "\n",
      "    accuracy                           0.94       200\n",
      "   macro avg       0.93      0.94      0.93       200\n",
      "weighted avg       0.94      0.94      0.94       200\n",
      "\n",
      "F1 Score: 0.9305\n",
      "--------------------------------------------------\n",
      "=== CountVectorizer bigram ===\n",
      "              precision    recall  f1-score   support\n",
      "\n",
      "           0       0.99      0.64      0.78       112\n",
      "           1       0.69      0.99      0.81        88\n",
      "\n",
      "    accuracy                           0.80       200\n",
      "   macro avg       0.84      0.82      0.79       200\n",
      "weighted avg       0.85      0.80      0.79       200\n",
      "\n",
      "F1 Score: 0.8093\n",
      "--------------------------------------------------\n",
      "=== CountVectorizer unigram stopwords ===\n",
      "              precision    recall  f1-score   support\n",
      "\n",
      "           0       0.99      0.89      0.94       112\n",
      "           1       0.88      0.99      0.93        88\n",
      "\n",
      "    accuracy                           0.94       200\n",
      "   macro avg       0.93      0.94      0.93       200\n",
      "weighted avg       0.94      0.94      0.94       200\n",
      "\n",
      "F1 Score: 0.9305\n",
      "--------------------------------------------------\n",
      "=== TfidfVectorizer unigram ===\n",
      "              precision    recall  f1-score   support\n",
      "\n",
      "           0       0.98      0.40      0.57       112\n",
      "           1       0.56      0.99      0.72        88\n",
      "\n",
      "    accuracy                           0.66       200\n",
      "   macro avg       0.77      0.70      0.64       200\n",
      "weighted avg       0.80      0.66      0.64       200\n",
      "\n",
      "F1 Score: 0.7190\n",
      "--------------------------------------------------\n",
      "=== TfidfVectorizer bigram ===\n",
      "              precision    recall  f1-score   support\n",
      "\n",
      "           0       0.94      0.14      0.25       112\n",
      "           1       0.48      0.99      0.64        88\n",
      "\n",
      "    accuracy                           0.52       200\n",
      "   macro avg       0.71      0.57      0.45       200\n",
      "weighted avg       0.74      0.52      0.42       200\n",
      "\n",
      "F1 Score: 0.6421\n",
      "--------------------------------------------------\n",
      "=== TfidfVectorizer unigram stopwords ===\n",
      "              precision    recall  f1-score   support\n",
      "\n",
      "           0       0.98      0.39      0.56       112\n",
      "           1       0.56      0.99      0.72        88\n",
      "\n",
      "    accuracy                           0.66       200\n",
      "   macro avg       0.77      0.69      0.64       200\n",
      "weighted avg       0.79      0.66      0.63       200\n",
      "\n",
      "F1 Score: 0.7160\n",
      "--------------------------------------------------\n",
      "\n",
      "Summary of F1 Scores:\n",
      "CountVectorizer unigram: 0.9305\n",
      "CountVectorizer unigram stopwords: 0.9305\n",
      "CountVectorizer bigram: 0.8093\n",
      "TfidfVectorizer unigram: 0.7190\n",
      "TfidfVectorizer unigram stopwords: 0.7160\n",
      "TfidfVectorizer bigram: 0.6421\n"
     ]
    }
   ],
   "source": [
    "from sklearn.metrics import classification_report, f1_score\n",
    "\n",
    "def search_best_features_with_joined_text(data, text_col='joined_text', label_col='label'):\n",
    "    # Split train/validation\n",
    "    train_df, val_df = train_test_split(\n",
    "        data, test_size=0.2, random_state=42, stratify=data[label_col])\n",
    "    \n",
    "    X_train_text = train_df[text_col]\n",
    "    X_val_text = val_df[text_col]\n",
    "    \n",
    "    y_train = train_df[label_col]\n",
    "    y_val = val_df[label_col]\n",
    "    \n",
    "    # Numeric features\n",
    "    numeric_cols = ['money_mark', 'suspicious_words', 'text_len']\n",
    "    num_features_train = train_df[numeric_cols].values\n",
    "    num_features_val = val_df[numeric_cols].values\n",
    "    \n",
    "    vectorizer_options = [\n",
    "        ('CountVectorizer unigram', CountVectorizer(ngram_range=(1,1))),\n",
    "        ('CountVectorizer bigram', CountVectorizer(ngram_range=(1,2))),\n",
    "        ('CountVectorizer unigram stopwords', CountVectorizer(ngram_range=(1,1), stop_words='english')),\n",
    "        ('TfidfVectorizer unigram', TfidfVectorizer(ngram_range=(1,1))),\n",
    "        ('TfidfVectorizer bigram', TfidfVectorizer(ngram_range=(1,2))),\n",
    "        ('TfidfVectorizer unigram stopwords', TfidfVectorizer(ngram_range=(1,1), stop_words='english')),\n",
    "    ]\n",
    "    \n",
    "    results = []\n",
    "    \n",
    "    for name, vectorizer in vectorizer_options:\n",
    "        # Vectorize text\n",
    "        X_train_vec = vectorizer.fit_transform(X_train_text)\n",
    "        X_val_vec = vectorizer.transform(X_val_text)\n",
    "        \n",
    "        # Combine text vector and numeric features\n",
    "        X_train_combined = hstack([X_train_vec, csr_matrix(num_features_train)])\n",
    "        X_val_combined = hstack([X_val_vec, csr_matrix(num_features_val)])\n",
    "        \n",
    "        # Train classifier\n",
    "        clf = MultinomialNB()\n",
    "        clf.fit(X_train_combined, y_train)\n",
    "        \n",
    "        # Predict on validation\n",
    "        y_pred = clf.predict(X_val_combined)\n",
    "        \n",
    "        # Evaluation\n",
    "        f1 = f1_score(y_val, y_pred)\n",
    "        print(f\"=== {name} ===\")\n",
    "        print(classification_report(y_val, y_pred))\n",
    "        print(f\"F1 Score: {f1:.4f}\")\n",
    "        print('-'*50)\n",
    "        \n",
    "        results.append((name, f1))\n",
    "    \n",
    "    # Summary sorted by F1 score\n",
    "    print(\"\\nSummary of F1 Scores:\")\n",
    "    for name, f1 in sorted(results, key=lambda x: x[1], reverse=True):\n",
    "        print(f\"{name}: {f1:.4f}\")\n",
    "\n",
    "# Example usage:\n",
    "search_best_features_with_joined_text(data_train, text_col='joined_text', label_col='label')\n"
   ]
  },
  {
   "cell_type": "markdown",
   "metadata": {},
   "source": [
    "### Extra Task - Implement a SPAM/HAM classifier\n",
    "\n",
    "https://www.kaggle.com/t/b384e34013d54d238490103bc3c360ce\n",
    "\n",
    "The classifier can not be changed!!! It must be the MultinimialNB with default parameters!\n",
    "\n",
    "Your task is to find the **best feature representation**.\n",
    "\n",
    "You can work with teams of two persons (recommended)."
   ]
  },
  {
   "cell_type": "code",
   "execution_count": 112,
   "metadata": {},
   "outputs": [
    {
     "data": {
      "text/html": [
       "<style>#sk-container-id-3 {\n",
       "  /* Definition of color scheme common for light and dark mode */\n",
       "  --sklearn-color-text: black;\n",
       "  --sklearn-color-line: gray;\n",
       "  /* Definition of color scheme for unfitted estimators */\n",
       "  --sklearn-color-unfitted-level-0: #fff5e6;\n",
       "  --sklearn-color-unfitted-level-1: #f6e4d2;\n",
       "  --sklearn-color-unfitted-level-2: #ffe0b3;\n",
       "  --sklearn-color-unfitted-level-3: chocolate;\n",
       "  /* Definition of color scheme for fitted estimators */\n",
       "  --sklearn-color-fitted-level-0: #f0f8ff;\n",
       "  --sklearn-color-fitted-level-1: #d4ebff;\n",
       "  --sklearn-color-fitted-level-2: #b3dbfd;\n",
       "  --sklearn-color-fitted-level-3: cornflowerblue;\n",
       "\n",
       "  /* Specific color for light theme */\n",
       "  --sklearn-color-text-on-default-background: var(--sg-text-color, var(--theme-code-foreground, var(--jp-content-font-color1, black)));\n",
       "  --sklearn-color-background: var(--sg-background-color, var(--theme-background, var(--jp-layout-color0, white)));\n",
       "  --sklearn-color-border-box: var(--sg-text-color, var(--theme-code-foreground, var(--jp-content-font-color1, black)));\n",
       "  --sklearn-color-icon: #696969;\n",
       "\n",
       "  @media (prefers-color-scheme: dark) {\n",
       "    /* Redefinition of color scheme for dark theme */\n",
       "    --sklearn-color-text-on-default-background: var(--sg-text-color, var(--theme-code-foreground, var(--jp-content-font-color1, white)));\n",
       "    --sklearn-color-background: var(--sg-background-color, var(--theme-background, var(--jp-layout-color0, #111)));\n",
       "    --sklearn-color-border-box: var(--sg-text-color, var(--theme-code-foreground, var(--jp-content-font-color1, white)));\n",
       "    --sklearn-color-icon: #878787;\n",
       "  }\n",
       "}\n",
       "\n",
       "#sk-container-id-3 {\n",
       "  color: var(--sklearn-color-text);\n",
       "}\n",
       "\n",
       "#sk-container-id-3 pre {\n",
       "  padding: 0;\n",
       "}\n",
       "\n",
       "#sk-container-id-3 input.sk-hidden--visually {\n",
       "  border: 0;\n",
       "  clip: rect(1px 1px 1px 1px);\n",
       "  clip: rect(1px, 1px, 1px, 1px);\n",
       "  height: 1px;\n",
       "  margin: -1px;\n",
       "  overflow: hidden;\n",
       "  padding: 0;\n",
       "  position: absolute;\n",
       "  width: 1px;\n",
       "}\n",
       "\n",
       "#sk-container-id-3 div.sk-dashed-wrapped {\n",
       "  border: 1px dashed var(--sklearn-color-line);\n",
       "  margin: 0 0.4em 0.5em 0.4em;\n",
       "  box-sizing: border-box;\n",
       "  padding-bottom: 0.4em;\n",
       "  background-color: var(--sklearn-color-background);\n",
       "}\n",
       "\n",
       "#sk-container-id-3 div.sk-container {\n",
       "  /* jupyter's `normalize.less` sets `[hidden] { display: none; }`\n",
       "     but bootstrap.min.css set `[hidden] { display: none !important; }`\n",
       "     so we also need the `!important` here to be able to override the\n",
       "     default hidden behavior on the sphinx rendered scikit-learn.org.\n",
       "     See: https://github.com/scikit-learn/scikit-learn/issues/21755 */\n",
       "  display: inline-block !important;\n",
       "  position: relative;\n",
       "}\n",
       "\n",
       "#sk-container-id-3 div.sk-text-repr-fallback {\n",
       "  display: none;\n",
       "}\n",
       "\n",
       "div.sk-parallel-item,\n",
       "div.sk-serial,\n",
       "div.sk-item {\n",
       "  /* draw centered vertical line to link estimators */\n",
       "  background-image: linear-gradient(var(--sklearn-color-text-on-default-background), var(--sklearn-color-text-on-default-background));\n",
       "  background-size: 2px 100%;\n",
       "  background-repeat: no-repeat;\n",
       "  background-position: center center;\n",
       "}\n",
       "\n",
       "/* Parallel-specific style estimator block */\n",
       "\n",
       "#sk-container-id-3 div.sk-parallel-item::after {\n",
       "  content: \"\";\n",
       "  width: 100%;\n",
       "  border-bottom: 2px solid var(--sklearn-color-text-on-default-background);\n",
       "  flex-grow: 1;\n",
       "}\n",
       "\n",
       "#sk-container-id-3 div.sk-parallel {\n",
       "  display: flex;\n",
       "  align-items: stretch;\n",
       "  justify-content: center;\n",
       "  background-color: var(--sklearn-color-background);\n",
       "  position: relative;\n",
       "}\n",
       "\n",
       "#sk-container-id-3 div.sk-parallel-item {\n",
       "  display: flex;\n",
       "  flex-direction: column;\n",
       "}\n",
       "\n",
       "#sk-container-id-3 div.sk-parallel-item:first-child::after {\n",
       "  align-self: flex-end;\n",
       "  width: 50%;\n",
       "}\n",
       "\n",
       "#sk-container-id-3 div.sk-parallel-item:last-child::after {\n",
       "  align-self: flex-start;\n",
       "  width: 50%;\n",
       "}\n",
       "\n",
       "#sk-container-id-3 div.sk-parallel-item:only-child::after {\n",
       "  width: 0;\n",
       "}\n",
       "\n",
       "/* Serial-specific style estimator block */\n",
       "\n",
       "#sk-container-id-3 div.sk-serial {\n",
       "  display: flex;\n",
       "  flex-direction: column;\n",
       "  align-items: center;\n",
       "  background-color: var(--sklearn-color-background);\n",
       "  padding-right: 1em;\n",
       "  padding-left: 1em;\n",
       "}\n",
       "\n",
       "\n",
       "/* Toggleable style: style used for estimator/Pipeline/ColumnTransformer box that is\n",
       "clickable and can be expanded/collapsed.\n",
       "- Pipeline and ColumnTransformer use this feature and define the default style\n",
       "- Estimators will overwrite some part of the style using the `sk-estimator` class\n",
       "*/\n",
       "\n",
       "/* Pipeline and ColumnTransformer style (default) */\n",
       "\n",
       "#sk-container-id-3 div.sk-toggleable {\n",
       "  /* Default theme specific background. It is overwritten whether we have a\n",
       "  specific estimator or a Pipeline/ColumnTransformer */\n",
       "  background-color: var(--sklearn-color-background);\n",
       "}\n",
       "\n",
       "/* Toggleable label */\n",
       "#sk-container-id-3 label.sk-toggleable__label {\n",
       "  cursor: pointer;\n",
       "  display: block;\n",
       "  width: 100%;\n",
       "  margin-bottom: 0;\n",
       "  padding: 0.5em;\n",
       "  box-sizing: border-box;\n",
       "  text-align: center;\n",
       "}\n",
       "\n",
       "#sk-container-id-3 label.sk-toggleable__label-arrow:before {\n",
       "  /* Arrow on the left of the label */\n",
       "  content: \"▸\";\n",
       "  float: left;\n",
       "  margin-right: 0.25em;\n",
       "  color: var(--sklearn-color-icon);\n",
       "}\n",
       "\n",
       "#sk-container-id-3 label.sk-toggleable__label-arrow:hover:before {\n",
       "  color: var(--sklearn-color-text);\n",
       "}\n",
       "\n",
       "/* Toggleable content - dropdown */\n",
       "\n",
       "#sk-container-id-3 div.sk-toggleable__content {\n",
       "  max-height: 0;\n",
       "  max-width: 0;\n",
       "  overflow: hidden;\n",
       "  text-align: left;\n",
       "  /* unfitted */\n",
       "  background-color: var(--sklearn-color-unfitted-level-0);\n",
       "}\n",
       "\n",
       "#sk-container-id-3 div.sk-toggleable__content.fitted {\n",
       "  /* fitted */\n",
       "  background-color: var(--sklearn-color-fitted-level-0);\n",
       "}\n",
       "\n",
       "#sk-container-id-3 div.sk-toggleable__content pre {\n",
       "  margin: 0.2em;\n",
       "  border-radius: 0.25em;\n",
       "  color: var(--sklearn-color-text);\n",
       "  /* unfitted */\n",
       "  background-color: var(--sklearn-color-unfitted-level-0);\n",
       "}\n",
       "\n",
       "#sk-container-id-3 div.sk-toggleable__content.fitted pre {\n",
       "  /* unfitted */\n",
       "  background-color: var(--sklearn-color-fitted-level-0);\n",
       "}\n",
       "\n",
       "#sk-container-id-3 input.sk-toggleable__control:checked~div.sk-toggleable__content {\n",
       "  /* Expand drop-down */\n",
       "  max-height: 200px;\n",
       "  max-width: 100%;\n",
       "  overflow: auto;\n",
       "}\n",
       "\n",
       "#sk-container-id-3 input.sk-toggleable__control:checked~label.sk-toggleable__label-arrow:before {\n",
       "  content: \"▾\";\n",
       "}\n",
       "\n",
       "/* Pipeline/ColumnTransformer-specific style */\n",
       "\n",
       "#sk-container-id-3 div.sk-label input.sk-toggleable__control:checked~label.sk-toggleable__label {\n",
       "  color: var(--sklearn-color-text);\n",
       "  background-color: var(--sklearn-color-unfitted-level-2);\n",
       "}\n",
       "\n",
       "#sk-container-id-3 div.sk-label.fitted input.sk-toggleable__control:checked~label.sk-toggleable__label {\n",
       "  background-color: var(--sklearn-color-fitted-level-2);\n",
       "}\n",
       "\n",
       "/* Estimator-specific style */\n",
       "\n",
       "/* Colorize estimator box */\n",
       "#sk-container-id-3 div.sk-estimator input.sk-toggleable__control:checked~label.sk-toggleable__label {\n",
       "  /* unfitted */\n",
       "  background-color: var(--sklearn-color-unfitted-level-2);\n",
       "}\n",
       "\n",
       "#sk-container-id-3 div.sk-estimator.fitted input.sk-toggleable__control:checked~label.sk-toggleable__label {\n",
       "  /* fitted */\n",
       "  background-color: var(--sklearn-color-fitted-level-2);\n",
       "}\n",
       "\n",
       "#sk-container-id-3 div.sk-label label.sk-toggleable__label,\n",
       "#sk-container-id-3 div.sk-label label {\n",
       "  /* The background is the default theme color */\n",
       "  color: var(--sklearn-color-text-on-default-background);\n",
       "}\n",
       "\n",
       "/* On hover, darken the color of the background */\n",
       "#sk-container-id-3 div.sk-label:hover label.sk-toggleable__label {\n",
       "  color: var(--sklearn-color-text);\n",
       "  background-color: var(--sklearn-color-unfitted-level-2);\n",
       "}\n",
       "\n",
       "/* Label box, darken color on hover, fitted */\n",
       "#sk-container-id-3 div.sk-label.fitted:hover label.sk-toggleable__label.fitted {\n",
       "  color: var(--sklearn-color-text);\n",
       "  background-color: var(--sklearn-color-fitted-level-2);\n",
       "}\n",
       "\n",
       "/* Estimator label */\n",
       "\n",
       "#sk-container-id-3 div.sk-label label {\n",
       "  font-family: monospace;\n",
       "  font-weight: bold;\n",
       "  display: inline-block;\n",
       "  line-height: 1.2em;\n",
       "}\n",
       "\n",
       "#sk-container-id-3 div.sk-label-container {\n",
       "  text-align: center;\n",
       "}\n",
       "\n",
       "/* Estimator-specific */\n",
       "#sk-container-id-3 div.sk-estimator {\n",
       "  font-family: monospace;\n",
       "  border: 1px dotted var(--sklearn-color-border-box);\n",
       "  border-radius: 0.25em;\n",
       "  box-sizing: border-box;\n",
       "  margin-bottom: 0.5em;\n",
       "  /* unfitted */\n",
       "  background-color: var(--sklearn-color-unfitted-level-0);\n",
       "}\n",
       "\n",
       "#sk-container-id-3 div.sk-estimator.fitted {\n",
       "  /* fitted */\n",
       "  background-color: var(--sklearn-color-fitted-level-0);\n",
       "}\n",
       "\n",
       "/* on hover */\n",
       "#sk-container-id-3 div.sk-estimator:hover {\n",
       "  /* unfitted */\n",
       "  background-color: var(--sklearn-color-unfitted-level-2);\n",
       "}\n",
       "\n",
       "#sk-container-id-3 div.sk-estimator.fitted:hover {\n",
       "  /* fitted */\n",
       "  background-color: var(--sklearn-color-fitted-level-2);\n",
       "}\n",
       "\n",
       "/* Specification for estimator info (e.g. \"i\" and \"?\") */\n",
       "\n",
       "/* Common style for \"i\" and \"?\" */\n",
       "\n",
       ".sk-estimator-doc-link,\n",
       "a:link.sk-estimator-doc-link,\n",
       "a:visited.sk-estimator-doc-link {\n",
       "  float: right;\n",
       "  font-size: smaller;\n",
       "  line-height: 1em;\n",
       "  font-family: monospace;\n",
       "  background-color: var(--sklearn-color-background);\n",
       "  border-radius: 1em;\n",
       "  height: 1em;\n",
       "  width: 1em;\n",
       "  text-decoration: none !important;\n",
       "  margin-left: 1ex;\n",
       "  /* unfitted */\n",
       "  border: var(--sklearn-color-unfitted-level-1) 1pt solid;\n",
       "  color: var(--sklearn-color-unfitted-level-1);\n",
       "}\n",
       "\n",
       ".sk-estimator-doc-link.fitted,\n",
       "a:link.sk-estimator-doc-link.fitted,\n",
       "a:visited.sk-estimator-doc-link.fitted {\n",
       "  /* fitted */\n",
       "  border: var(--sklearn-color-fitted-level-1) 1pt solid;\n",
       "  color: var(--sklearn-color-fitted-level-1);\n",
       "}\n",
       "\n",
       "/* On hover */\n",
       "div.sk-estimator:hover .sk-estimator-doc-link:hover,\n",
       ".sk-estimator-doc-link:hover,\n",
       "div.sk-label-container:hover .sk-estimator-doc-link:hover,\n",
       ".sk-estimator-doc-link:hover {\n",
       "  /* unfitted */\n",
       "  background-color: var(--sklearn-color-unfitted-level-3);\n",
       "  color: var(--sklearn-color-background);\n",
       "  text-decoration: none;\n",
       "}\n",
       "\n",
       "div.sk-estimator.fitted:hover .sk-estimator-doc-link.fitted:hover,\n",
       ".sk-estimator-doc-link.fitted:hover,\n",
       "div.sk-label-container:hover .sk-estimator-doc-link.fitted:hover,\n",
       ".sk-estimator-doc-link.fitted:hover {\n",
       "  /* fitted */\n",
       "  background-color: var(--sklearn-color-fitted-level-3);\n",
       "  color: var(--sklearn-color-background);\n",
       "  text-decoration: none;\n",
       "}\n",
       "\n",
       "/* Span, style for the box shown on hovering the info icon */\n",
       ".sk-estimator-doc-link span {\n",
       "  display: none;\n",
       "  z-index: 9999;\n",
       "  position: relative;\n",
       "  font-weight: normal;\n",
       "  right: .2ex;\n",
       "  padding: .5ex;\n",
       "  margin: .5ex;\n",
       "  width: min-content;\n",
       "  min-width: 20ex;\n",
       "  max-width: 50ex;\n",
       "  color: var(--sklearn-color-text);\n",
       "  box-shadow: 2pt 2pt 4pt #999;\n",
       "  /* unfitted */\n",
       "  background: var(--sklearn-color-unfitted-level-0);\n",
       "  border: .5pt solid var(--sklearn-color-unfitted-level-3);\n",
       "}\n",
       "\n",
       ".sk-estimator-doc-link.fitted span {\n",
       "  /* fitted */\n",
       "  background: var(--sklearn-color-fitted-level-0);\n",
       "  border: var(--sklearn-color-fitted-level-3);\n",
       "}\n",
       "\n",
       ".sk-estimator-doc-link:hover span {\n",
       "  display: block;\n",
       "}\n",
       "\n",
       "/* \"?\"-specific style due to the `<a>` HTML tag */\n",
       "\n",
       "#sk-container-id-3 a.estimator_doc_link {\n",
       "  float: right;\n",
       "  font-size: 1rem;\n",
       "  line-height: 1em;\n",
       "  font-family: monospace;\n",
       "  background-color: var(--sklearn-color-background);\n",
       "  border-radius: 1rem;\n",
       "  height: 1rem;\n",
       "  width: 1rem;\n",
       "  text-decoration: none;\n",
       "  /* unfitted */\n",
       "  color: var(--sklearn-color-unfitted-level-1);\n",
       "  border: var(--sklearn-color-unfitted-level-1) 1pt solid;\n",
       "}\n",
       "\n",
       "#sk-container-id-3 a.estimator_doc_link.fitted {\n",
       "  /* fitted */\n",
       "  border: var(--sklearn-color-fitted-level-1) 1pt solid;\n",
       "  color: var(--sklearn-color-fitted-level-1);\n",
       "}\n",
       "\n",
       "/* On hover */\n",
       "#sk-container-id-3 a.estimator_doc_link:hover {\n",
       "  /* unfitted */\n",
       "  background-color: var(--sklearn-color-unfitted-level-3);\n",
       "  color: var(--sklearn-color-background);\n",
       "  text-decoration: none;\n",
       "}\n",
       "\n",
       "#sk-container-id-3 a.estimator_doc_link.fitted:hover {\n",
       "  /* fitted */\n",
       "  background-color: var(--sklearn-color-fitted-level-3);\n",
       "}\n",
       "</style><div id=\"sk-container-id-3\" class=\"sk-top-container\"><div class=\"sk-text-repr-fallback\"><pre>MultinomialNB()</pre><b>In a Jupyter environment, please rerun this cell to show the HTML representation or trust the notebook. <br />On GitHub, the HTML representation is unable to render, please try loading this page with nbviewer.org.</b></div><div class=\"sk-container\" hidden><div class=\"sk-item\"><div class=\"sk-estimator fitted sk-toggleable\"><input class=\"sk-toggleable__control sk-hidden--visually\" id=\"sk-estimator-id-3\" type=\"checkbox\" checked><label for=\"sk-estimator-id-3\" class=\"sk-toggleable__label fitted sk-toggleable__label-arrow fitted\">&nbsp;&nbsp;MultinomialNB<a class=\"sk-estimator-doc-link fitted\" rel=\"noreferrer\" target=\"_blank\" href=\"https://scikit-learn.org/1.5/modules/generated/sklearn.naive_bayes.MultinomialNB.html\">?<span>Documentation for MultinomialNB</span></a><span class=\"sk-estimator-doc-link fitted\">i<span>Fitted</span></span></label><div class=\"sk-toggleable__content fitted\"><pre>MultinomialNB()</pre></div> </div></div></div></div>"
      ],
      "text/plain": [
       "MultinomialNB()"
      ]
     },
     "execution_count": 112,
     "metadata": {},
     "output_type": "execute_result"
    }
   ],
   "source": [
    "from sklearn.model_selection import train_test_split\n",
    "from sklearn.metrics import classification_report\n",
    "\n",
    "# 1. Split data_train into train and val\n",
    "train_df, val_df = train_test_split(data_train, test_size=0.2, random_state=42, stratify=data_train['label'])\n",
    "\n",
    "# 2. Prepare train features and labels\n",
    "train_df['joined_text'] = train_df['lemmatized'].apply(lambda tokens: ' '.join(tokens))\n",
    "X_train_text = train_df['joined_text']\n",
    "y_train = train_df['label']\n",
    "other_features_train = train_df[['money_mark', 'suspicious_words', 'text_len']].values\n",
    "\n",
    "# 3. Prepare val features and labels\n",
    "val_df['joined_text'] = val_df['lemmatized'].apply(lambda tokens: ' '.join(tokens))\n",
    "X_val_text = val_df['joined_text']\n",
    "y_val = val_df['label']\n",
    "other_features_val = val_df[['money_mark', 'suspicious_words', 'text_len']].values\n",
    "\n",
    "# 4. Fit vectorizer on train text only\n",
    "vectorizer = CountVectorizer()\n",
    "X_train_vectorized = vectorizer.fit_transform(X_train_text)\n",
    "\n",
    "# 5. Vectorize val text\n",
    "X_val_vectorized = vectorizer.transform(X_val_text)\n",
    "\n",
    "# 6. Combine text and numeric features\n",
    "from scipy.sparse import csr_matrix, hstack\n",
    "X_train_vec = hstack([X_train_vectorized, csr_matrix(other_features_train)])\n",
    "X_val_vec = hstack([X_val_vectorized, csr_matrix(other_features_val)])\n",
    "\n",
    "# 7. Train classifier\n",
    "from sklearn.naive_bayes import MultinomialNB\n",
    "clf = MultinomialNB()\n",
    "clf.fit(X_train_vec, y_train)"
   ]
  },
  {
   "cell_type": "code",
   "execution_count": 114,
   "metadata": {},
   "outputs": [
    {
     "name": "stdout",
     "output_type": "stream",
     "text": [
      "spam\n"
     ]
    }
   ],
   "source": [
    "new_email = \"Congratulations! You won a free prize. Please send your bank account details.\"\n",
    "print(predict_email(new_email))"
   ]
  },
  {
   "cell_type": "code",
   "execution_count": null,
   "metadata": {},
   "outputs": [
    {
     "name": "stdout",
     "output_type": "stream",
     "text": [
      "spam\n"
     ]
    },
    {
     "name": "stderr",
     "output_type": "stream",
     "text": [
      "[nltk_data] Downloading package punkt to\n",
      "[nltk_data]     C:\\Users\\happy\\AppData\\Roaming\\nltk_data...\n",
      "[nltk_data]   Package punkt is already up-to-date!\n",
      "[nltk_data] Downloading package wordnet to\n",
      "[nltk_data]     C:\\Users\\happy\\AppData\\Roaming\\nltk_data...\n",
      "[nltk_data]   Package wordnet is already up-to-date!\n",
      "[nltk_data] Downloading package omw-1.4 to\n",
      "[nltk_data]     C:\\Users\\happy\\AppData\\Roaming\\nltk_data...\n",
      "[nltk_data]   Package omw-1.4 is already up-to-date!\n",
      "[nltk_data] Downloading package stopwords to\n",
      "[nltk_data]     C:\\Users\\happy\\AppData\\Roaming\\nltk_data...\n",
      "[nltk_data]   Package stopwords is already up-to-date!\n"
     ]
    }
   ],
   "source": [
    "import re\n",
    "import string\n",
    "from bs4 import BeautifulSoup\n",
    "import nltk\n",
    "from nltk.corpus import stopwords\n",
    "from nltk.tokenize import word_tokenize\n",
    "from nltk.stem import WordNetLemmatizer\n",
    "\n",
    "# Download once globally if you haven't yet:\n",
    "nltk.download('punkt')\n",
    "nltk.download('wordnet')\n",
    "nltk.download('omw-1.4')\n",
    "nltk.download('stopwords')\n",
    "\n",
    "stop_words = set(stopwords.words('english'))\n",
    "lemmatizer = WordNetLemmatizer()\n",
    "\n",
    "money_keywords = [\"euro\", \"dollar\", \"pound\", \"€\", \"$\"]\n",
    "suspicious_keywords = [\n",
    "    \"free\", \"cheap\", \"sex\", \"money\", \"account\", \"bank\",\n",
    "    \"fund\", \"transfer\", \"transaction\", \"win\", \"deposit\", \"password\"\n",
    "]\n",
    "\n",
    "def clean_html(raw_html):\n",
    "    soup = BeautifulSoup(raw_html, \"html.parser\")\n",
    "    for script_or_style in soup([\"script\", \"style\"]):\n",
    "        script_or_style.decompose()\n",
    "    text = soup.get_text(separator=' ')\n",
    "    text = re.sub(r'<!--.*?-->', '', text, flags=re.DOTALL)\n",
    "    text = re.sub(r'<[^>]+>', '', text)\n",
    "    return text\n",
    "\n",
    "def full_clean(text):\n",
    "    text = re.sub(r'[^A-Za-z0-9\\s]', ' ', text)\n",
    "    text = re.sub(r'\\d+', '', text)\n",
    "    text = re.sub(r'\\s+[a-zA-Z]\\s+', ' ', text)\n",
    "    text = re.sub(r'^[a-zA-Z]\\s+', '', text)\n",
    "    text = re.sub(r'\\s+', ' ', text)\n",
    "    text = re.sub(r\"^b['\\\"]\", '', text)\n",
    "    return text.lower().strip()\n",
    "\n",
    "def remove_stopwords(text):\n",
    "    words = text.split()\n",
    "    filtered_words = [word for word in words if word not in stop_words]\n",
    "    return ' '.join(filtered_words)\n",
    "\n",
    "def tokenize_and_lemmatize(text):\n",
    "    tokens = word_tokenize(text)\n",
    "    return [lemmatizer.lemmatize(token.lower()) for token in tokens]\n",
    "\n",
    "def contains_money(tokens):\n",
    "    if not isinstance(tokens, list):\n",
    "        return 0\n",
    "    return int(any(word in tokens for word in money_keywords))\n",
    "\n",
    "def contains_suspicious(tokens):\n",
    "    if not isinstance(tokens, list):\n",
    "        return 0\n",
    "    return int(any(word in tokens for word in suspicious_keywords))\n",
    "\n",
    "# Define preprocessing function for a new email text\n",
    "def preprocess_email(email_text):\n",
    "    \"\"\"\n",
    "    Preprocess the raw email text by:\n",
    "    - cleaning HTML and text,\n",
    "    - removing special chars, digits, stopwords,\n",
    "    - tokenizing,\n",
    "    - lemmatizing tokens,\n",
    "    and finally returning a list of tokens.\n",
    "    \"\"\"\n",
    "    \n",
    "    # Clean HTML and remove scripts/styles/comments\n",
    "    text = clean_html(email_text)\n",
    "    \n",
    "    # Remove special chars, digits, single chars, normalize spaces, lowercase\n",
    "    text = full_clean(text)\n",
    "    \n",
    "    # Remove stopwords\n",
    "    text = remove_stopwords(text)\n",
    "    \n",
    "    # Tokenize and lemmatize\n",
    "    tokens = tokenize_and_lemmatize(text)\n",
    "    \n",
    "    return tokens\n",
    "\n",
    "# Define function to extract numeric features from raw text (money_mark, suspicious_words, text_len)\n",
    "import pandas as pd\n",
    "\n",
    "money_symbol_list = [\"euro\",\"dollar\",\"pound\",\"€\",\"$\"]\n",
    "suspicious_words_list = [\"free\",\"cheap\",\"sex\",\"money\",\"account\",\"bank\",\"fund\",\"transfer\",\"transaction\",\"win\",\"deposit\",\"password\"]\n",
    "\n",
    "def extract_numeric_features(text):\n",
    "    text_lower = text.lower()\n",
    "    money_mark = int(any(sym in text_lower for sym in money_symbol_list))\n",
    "    suspicious_mark = int(any(word in text_lower for word in suspicious_words_list))\n",
    "    text_len = len(text.split())\n",
    "    return [money_mark, suspicious_mark, text_len]\n",
    "\n",
    "# Define function to predict new email\n",
    "def predict_email(email_text):\n",
    "    # Preprocess and join tokens\n",
    "    tokens = preprocess_email(email_text)\n",
    "    joined_text = ' '.join(tokens)\n",
    "    \n",
    "    # Vectorize text using fitted vectorizer\n",
    "    text_vectorized = vectorizer.transform([joined_text])\n",
    "    \n",
    "    # Extract numeric features\n",
    "    numeric_features = extract_numeric_features(email_text)\n",
    "    numeric_features_sparse = csr_matrix([numeric_features])\n",
    "    \n",
    "    # Combine features\n",
    "    features = hstack([text_vectorized, numeric_features_sparse])\n",
    "    \n",
    "    # Predict label (0=ham,1=spam)\n",
    "    pred = clf.predict(features)[0]\n",
    "    \n",
    "    return \"spam\" if pred == 1 else \"ham\"\n",
    "\n",
    "# # Example usage:\n",
    "# new_email = \"Congratulations! You won a free prize. Please send your bank account details.\"\n",
    "# print(predict_email(new_email))\n"
   ]
  }
 ],
 "metadata": {
  "celltoolbar": "Slideshow",
  "kernelspec": {
   "display_name": "base",
   "language": "python",
   "name": "python3"
  },
  "language_info": {
   "codemirror_mode": {
    "name": "ipython",
    "version": 3
   },
   "file_extension": ".py",
   "mimetype": "text/x-python",
   "name": "python",
   "nbconvert_exporter": "python",
   "pygments_lexer": "ipython3",
   "version": "3.12.7"
  }
 },
 "nbformat": 4,
 "nbformat_minor": 2
}
