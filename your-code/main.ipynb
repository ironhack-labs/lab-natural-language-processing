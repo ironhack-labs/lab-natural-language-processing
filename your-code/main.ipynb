{
 "cells": [
  {
   "cell_type": "code",
   "execution_count": 35,
   "metadata": {},
   "outputs": [
    {
     "name": "stderr",
     "output_type": "stream",
     "text": [
      "C:\\Users\\nicol\\AppData\\Local\\Temp\\ipykernel_1728\\3777615979.py:1: DeprecationWarning: Importing display from IPython.core.display is deprecated since IPython 7.14, please import from IPython display\n",
      "  from IPython.core.display import display, HTML\n"
     ]
    },
    {
     "data": {
      "text/html": [
       "<style>.container { width:100% !important; }</style>"
      ],
      "text/plain": [
       "<IPython.core.display.HTML object>"
      ]
     },
     "metadata": {},
     "output_type": "display_data"
    }
   ],
   "source": [
    "from IPython.core.display import display, HTML\n",
    "display(HTML(\"<style>.container { width:100% !important; }</style>\"))"
   ]
  },
  {
   "cell_type": "markdown",
   "metadata": {},
   "source": [
    "### Let's prepare the environment"
   ]
  },
  {
   "cell_type": "markdown",
   "metadata": {},
   "source": [
    "# Lab | Natural Language Processing\n",
    "### SMS: SPAM or HAM"
   ]
  },
  {
   "cell_type": "code",
   "execution_count": 36,
   "metadata": {},
   "outputs": [],
   "source": [
    "import pandas as pd\n",
    "import matplotlib.pyplot as plt\n",
    "import re\n",
    "from nltk.tokenize import word_tokenize\n",
    "from nltk.stem import WordNetLemmatizer\n",
    "from sklearn.feature_extraction.text import CountVectorizer, TfidfVectorizer"
   ]
  },
  {
   "cell_type": "markdown",
   "metadata": {},
   "source": [
    "- Read Data for the Fraudulent Email Kaggle Challenge\n",
    "- Reduce the training set to speead up development. "
   ]
  },
  {
   "cell_type": "code",
   "execution_count": 37,
   "metadata": {},
   "outputs": [
    {
     "name": "stdout",
     "output_type": "stream",
     "text": [
      "(1000, 2)\n"
     ]
    }
   ],
   "source": [
    "## Read Data for the Fraudulent Email Kaggle Challenge\n",
    "data = pd.read_csv(\"../data/kg_train.csv\",encoding='latin-1')\n",
    "\n",
    "# Reduce the training set to speed up development. \n",
    "# Modify for final system\n",
    "data = data.head(1000)\n",
    "print(data.shape)\n",
    "data.fillna(\"\",inplace=True)"
   ]
  },
  {
   "cell_type": "markdown",
   "metadata": {},
   "source": [
    "### Let's divide the training and test set into two partitions"
   ]
  },
  {
   "cell_type": "code",
   "execution_count": 38,
   "metadata": {},
   "outputs": [],
   "source": [
    "train = data[:800]\n",
    "test = data[800:]"
   ]
  },
  {
   "cell_type": "markdown",
   "metadata": {},
   "source": [
    "## Data Preprocessing"
   ]
  },
  {
   "cell_type": "code",
   "execution_count": 39,
   "metadata": {},
   "outputs": [
    {
     "name": "stdout",
     "output_type": "stream",
     "text": [
      "!\"#$%&'()*+,-./:;<=>?@[\\]^_`{|}~\n",
      "['needn', \"needn't\", 'no', 'nor', 'not', 'now', 'o', 'of', 'off', 'on']\n"
     ]
    }
   ],
   "source": [
    "import string\n",
    "from nltk.corpus import stopwords\n",
    "print(string.punctuation)\n",
    "print(stopwords.words(\"english\")[100:110])\n",
    "from nltk.stem.snowball import SnowballStemmer\n",
    "snowball = SnowballStemmer('english')"
   ]
  },
  {
   "cell_type": "markdown",
   "metadata": {},
   "source": [
    "## Now, we have to clean the html code removing words\n",
    "\n",
    "- First we remove inline JavaScript/CSS\n",
    "- Then we remove html comments. This has to be done before removing regular tags since comments can contain '>' characters\n",
    "- Next we can remove the remaining tags"
   ]
  },
  {
   "cell_type": "code",
   "execution_count": 40,
   "metadata": {},
   "outputs": [
    {
     "name": "stderr",
     "output_type": "stream",
     "text": [
      "C:\\Users\\nicol\\AppData\\Local\\Temp\\ipykernel_1728\\3280669416.py:3: SettingWithCopyWarning: \n",
      "A value is trying to be set on a copy of a slice from a DataFrame.\n",
      "Try using .loc[row_indexer,col_indexer] = value instead\n",
      "\n",
      "See the caveats in the documentation: https://pandas.pydata.org/pandas-docs/stable/user_guide/indexing.html#returning-a-view-versus-a-copy\n",
      "  train['text'] = train['text'].apply(lambda x: re.sub(r'<style[^>]*>.*?</style>', '', x, flags=re.DOTALL))\n",
      "C:\\Users\\nicol\\AppData\\Local\\Temp\\ipykernel_1728\\3280669416.py:4: SettingWithCopyWarning: \n",
      "A value is trying to be set on a copy of a slice from a DataFrame.\n",
      "Try using .loc[row_indexer,col_indexer] = value instead\n",
      "\n",
      "See the caveats in the documentation: https://pandas.pydata.org/pandas-docs/stable/user_guide/indexing.html#returning-a-view-versus-a-copy\n",
      "  train['text'] = train['text'].apply(lambda x: re.sub(r'<script[^>]*>.*?</script>', '', x, flags=re.DOTALL))\n",
      "C:\\Users\\nicol\\AppData\\Local\\Temp\\ipykernel_1728\\3280669416.py:7: SettingWithCopyWarning: \n",
      "A value is trying to be set on a copy of a slice from a DataFrame.\n",
      "Try using .loc[row_indexer,col_indexer] = value instead\n",
      "\n",
      "See the caveats in the documentation: https://pandas.pydata.org/pandas-docs/stable/user_guide/indexing.html#returning-a-view-versus-a-copy\n",
      "  train['text'] = train['text'].apply(lambda x: re.sub(r'<!--.*?-->', '', x, flags=re.DOTALL))\n",
      "C:\\Users\\nicol\\AppData\\Local\\Temp\\ipykernel_1728\\3280669416.py:10: SettingWithCopyWarning: \n",
      "A value is trying to be set on a copy of a slice from a DataFrame.\n",
      "Try using .loc[row_indexer,col_indexer] = value instead\n",
      "\n",
      "See the caveats in the documentation: https://pandas.pydata.org/pandas-docs/stable/user_guide/indexing.html#returning-a-view-versus-a-copy\n",
      "  train['text'] = train['text'].apply(lambda x: re.sub(r'<[^>]*>', '', x))\n"
     ]
    }
   ],
   "source": [
    "# 1. Remove inline JavaScript/CSS\n",
    "# This regex removes <style>...</style> and <script>...</script> blocks\n",
    "train['text'] = train['text'].apply(lambda x: re.sub(r'<style[^>]*>.*?</style>', '', x, flags=re.DOTALL))\n",
    "train['text'] = train['text'].apply(lambda x: re.sub(r'<script[^>]*>.*?</script>', '', x, flags=re.DOTALL))\n",
    "\n",
    "# 2. Remove HTML comments.\n",
    "train['text'] = train['text'].apply(lambda x: re.sub(r'<!--.*?-->', '', x, flags=re.DOTALL))\n",
    "\n",
    "# 3. Next we can remove the remaining tags\n",
    "train['text'] = train['text'].apply(lambda x: re.sub(r'<[^>]*>', '', x))"
   ]
  },
  {
   "cell_type": "code",
   "execution_count": 41,
   "metadata": {},
   "outputs": [
    {
     "data": {
      "application/vnd.microsoft.datawrangler.viewer.v0+json": {
       "columns": [
        {
         "name": "index",
         "rawType": "int64",
         "type": "integer"
        },
        {
         "name": "text",
         "rawType": "object",
         "type": "string"
        },
        {
         "name": "label",
         "rawType": "int64",
         "type": "integer"
        }
       ],
       "ref": "af5bb2d5-cde8-447e-a9ec-c385e2914c9f",
       "rows": [
        [
         "0",
         "DEAR SIR, STRICTLY A PRIVATE BUSINESS PROPOSAL I AM MIKE CHUKWU , THE MANAGER, BILLS AND EXCHANGE AT THE FOREIGN REMITTANCE DEPARTMENT OF THE ZENITH INTERNATIONAL BANK PLC. I AM WRITING THIS LETTER TO ASK FOR YOUR SUPPORT AND COOPERATION TO CARRY OUT THIS BUSINESS OPPORTUNITY IN MY DEPARTMENT. WE DISCOVERED AN ABANDONED SUM OF $15,000,000.00 (FIFTEEN MILLION UNITED STATES DOLLARS ONLY) IN AN ACCOUNT THAT BELONGS TO ONE OF OUR FOREIGN CUSTOMERS WHO DIED ALONG WITH HIS ENTIRE FAMILY OF A WIFE AND TWO CHILDREN IN NOVEMBER 1997 IN A PLANE CRASH. SINCE WE HEARD OF HIS DEATH, WE HAVE BEEN EXPECTING HIS NEXT-OF-KIN TO COME OVER AND PUT CLAIMS FOR HIS MONEY AS THE HEIR,BECAUSE WE CANNOT RELEASE THE FUND FROM HIS ACCOUNT UNLESS SOMEONE APPLIES FOR CLAIM AS THE NEXT-OF-KIN TO THE DECEASED AS INDICATED IN OUR BANKING GUIDELINES. UNFORTUNATELY, NEITHER THEIR FAMILY MEMBER NOR DISTANT RELATIVE HAS EVER APPEARED TO CLAIM THE SAID FUND. UPON THIS DISCOVERY,I AND OTHER OFFICIALS IN MY DEPARTMENT HAVE AGREED TO MAKE BUSINESS WITH YOU AND RELEASE THE TOTAL AMOUNT INTO YOUR ACCOUNT AS THE HEIR OF THE FUND SINCE NO ONE CAME FOR IT OR DISCOVERED HE MAINTAINED ACCOUNT WITH OUR BANK, OTHERWISE THE FUND WILL BE RETURNED TO THE BANKS TREASURY AS UNCLAIMED FUND. WE HAVE AGREED THAT OUR RATIO OF SHARING WILL BE AS STATED THUS; 30 % FOR YOU AS FOREIGN PARTNER, 60 % FOR US THE OFFICIALS IN MY DEPARTMENT AND 10% FOR THE SETTLEMENT OF ALL LOCAL AND FOREIGN EXPENCES INCURRED BY US AND YOU DURING THE COURSE OF THIS BUSINESS. UPON THE SUCCESSFUL COMPLETION OF THIS TRANSFER, I AND ONE OF MY COLLEAGUES WILL COME TO YOUR COUNTRY AND MIND OUR SHARE. IT IS FROM OUR 60 % WE INTEND TO IMPORT AGRICULTURAL MACHINERIES INTO MY COUNTRY AS A WAY OF RECYCLING THE FUND. TO COMMENCE THIS TRANSACTION, WE REQUIRE YOU TO IMMEDIATELY INDICATE YOUR INTEREST BY A RETURN E-MAIL AND ENCLOSE YOUR PRIVATE CONTACT TELEPHONE NUMBER, FAX NUMBER FULL NAME AND ADDRESS AND YOUR DESIGNATED BANK COORDINATES TO ENABLE US FILE LETTER OF CLAIM TO THE APPROPRIATE DEPARTMENTS FOR NECESSARY APPROVALS BEFORE THE TRANSFER CAN BE MADE. NOTE ALSO, THIS TRANSACTION MUST BE KEPT STRICTLY CONFIDENTIAL BECAUSE OF IT'S NATURE. I LOOK FORWARD TO RECEIVING YOUR PROMPT RESPONSE. REGARDS, MR. MIKE CHUKWU ZENITH INTERNATIONAL BANK PLC . ",
         "1"
        ],
        [
         "1",
         "Will do.",
         "0"
        ],
        [
         "2",
         "Nora--Cheryl has emailed dozens of memos about Haiti to me this weekend. Can you please print them and organize them inchrono order for me for my trip tomorrow or send to Lauren so she can do? Thx.",
         "0"
        ],
        [
         "3",
         "Dear Sir=2FMadam=2C I know that this proposal might be a surprise to you but it as an emergency=2EIn a nutshell=2C I am MR=2EP=2E ZUMA=2C from the republic of South-Africa=2C now seeking for refuge in Dakar Senegal under the=28UNHCR=29=2E   I got your contact during a desperate search here in Dakar for a possible transaction=2E My =28late=29 father DR=2E ZUMA KENT WILLIAMS=2C he was the managing director of Gold Mine company in SOUTH AFRICA=2E But he was assinated by his business assoicate and all his properties was totally destroyed by his elder brother=2E   Who alway hate to see me and my mother with his eye's=2C that man very wicked that is why i and my mother managed to escape with some of my father's documents covering $18=2E3 Million dollars which is presently deposited safely in a finance firm on my name as the next of kin=2E Meanwhile=2Cwe are saddled with the problem of securing a trust-worthy foriegn personality to help us transfer the money over to his country and into his possession pending our arrival to meet with him=2E   Furthermore=2Cwe only want this done this way because your country is politically stable for any profitable investment and only if you accept our proposal=2C you will serve as the beneficiary of the fund on commencement of this proposed transactions=2E I am giving you the offers as mentioned with every confidence on your acceptance to assist us=2C we have decided to invest 40% of the total fund based on equity participation in your company=2E   Secondly=2C we shall also take 5% out for any miscelleneous expenses that may occure=2E Conclusively=2C i wish you send me a reply immediately as soon as yourecieve this proposal so that we shall arrange on how to lift this consignment out of Dakar Senegal to your country=2E On commencement=2Cthis transaction will take nothing less than 14 working days to be accomplished=2E All documents covering the fund are safe and intact=2E i remain with the best regards=2E   Please kindly responce to this Alternative E-mail =3A p=5Fzuma1976=40walla=2Ecom Please call urgently to speak with me and my mother on this our direct telephone number =28 00 221 649 67 68  =29 Thanks yours=2C  Mr Prince Zuma=2E ",
         "1"
        ],
        [
         "4",
         "fyi",
         "0"
        ],
        [
         "5",
         "sure -- bottom line - you need a special security code to get on line from a computer outside the building. Only 1 in 5 ofour employees has gotten the device (fob) that allows you to do this access.This effort is making sure they get fobs into the hands of more (or all) employees so folks can work from home therebyincreasing productivity substantially since the 4 in 5 essentially do no work from home once they leave the building untilthey get in again b/c they don't have access to their email.cdm",
         "0"
        ],
        [
         "6",
         "Dear Sir,I am Engr. Ugo Nzego with the Engineering Stores Department of the Federal Ministry of Agriculture and Natural Resources and member of Tenders Board. We have urgent need for a trustworthy foreign contact person with whom we can carry out a successful business deal.Federal Government has voted the sum of US$1.86 Billion for Local Production of food crops. The Government has also considered the impact of the importation of some food items like Rice, Beans, Frozen Chicken and Turkeys and other food stuffs on the Nations Foreign Reserve and have banned the importation of the items that could be produced locally. As a result, the Federal Ministry of Agriculture and Natural Resources has been mandated to import Agricultural Equipments for supply to Local Farmers both at SUBSISTENT AND COMMERCIAL level to encourage them to produce enough food items for local consumption and for export to other African Countries. We have already started awarding new contracts for supply of the equipments to successful bidders.We want you to submit to us immediately your complete company name, address, your name as President or Managing Director / CEO of the company, your banking particulars:- (banks name address, telephone,fax and telex numbers. Your receiving number, swift and routing numbers), with these informations, we can get you properly registered as one of the contractors of FMANR who has already been awarded part of this contract for the sum of US$113.4 Million to supply some of the Agricultural Equipments parts of which we already have in our custody (stores).After receiving the above needed and stated information from you, we will process all the documentation and submit them for immediate approvals and the Federal Government will pay 25% of US$113.4 Million into your nominated bank account in the name of your company as the beneficiary, which is US$28.35M . In no time, the remaining US$85,050,000.00 Million shall be paid as balance payment or we together in agreement as partners will use another foreign firm's name that will carry out the supply of the remaining equipments as a sub-contractor to you in our documentation to receive this balance payment.We shall come to your country immediately this fund is in your account to share the US$28.35 Million. The sharing pattern should be negotiated by both parties concerned.However, be rest assured that no risk is involved or any scandal in the future, for we have done all our homework very well, nobody will be hurt during and after this transaction. It may also please you to knowthat all the GOODS that cover the 25% payment are on record, only us that are key members of the contract board committee has this knowledge and information. There is the serious need to keep this transactionsecret and very confidential. To that effect, I would require your private phone and fax numbers for easy and confidential communication. I await  your immediate response to this Proposal. Meanwhile, I look forward to establishing life long business relationship with you.The  nature of your company or business does not necessarily have to be Agriculturally related but ownership of a company is a criterium for the project.Please reply immediately through this fax number 234-9-2726567. As soon as I receive your fax, I will call you on phone for detailed discussion.Best regards,Engr. Ugo Nzego.",
         "1"
        ],
        [
         "7",
         "Abedin Huma Saturday November 28 2009 5:14 PMHFw: Quint fmsI'm going topropose separate bilats with relevant countries. You ok with proceeding that way?",
         "0"
        ],
        [
         "8",
         "There is an Oct 16th George Marshall event at the Department. Do we have it on tentative calendar?Have we scheduled a Sept event for all the groups doing econ and other work w Palestinians? Mara Rudman is workingon it for Mitchell.Starting in Sept I want to have a weekly lunch/mtg w Steinberg and one w the undersecs. I also want to schedule forearly Sept hour mtgs w each bureau to dscuss priorities.When can I visit FSI?",
         "0"
        ],
        [
         "9",
         "1 25% for you as the account owner 2 65% for I and my colleagues=3 10% will be set aside to defray all incidental expenses both locally =and internationally during thecourse of this transaction.Furthermore, we shall be coming over to your country whenthe money i=s finally in your account and we shall be relyingon your advise as rega=rds to investment of our share. Beinformed that, this business is genui=ne and 100% safeconsidering the high powered government officials invol=ved.Send by mail the following informations:-1, YOUR COMPANY NAME AND ADDRESS, BANK NAME, ADDRESSAND ACCOUNT NUMB=ER.2, YOUR TELEPHONE AND FAX NUMBER FOR EFFECTIVECOMMUNICATION. Thi=s is to effect the swift Transfer of this fund into youraccount in less= than Seven (7) working days.Expecting your immediate response whilelooking forward to a healthy =business relationshipwith you.Yours faithfully,OLUFEMI WILLIAMS Freeserve AnyTime - HALF PRICE for the first 3 months - S=ave =A37.50 a month ww=w.freeserve.com/anytime------=_Part_26067_4664911.1074038447746--",
         "1"
        ],
        [
         "10",
         "STRONG>http://www.cnn.com/2003/WORLD/africa/07/20/kenya.=crash/index.htmlIt is therefore =upon this discovery that I now decided to make this business proposal t=o you and release the money to you as the next of kin or relation to th=e deceased for safety and subsequent disbursement since nobody is comin=g for it and I don't want this money to go into the bank treasury as un=claimed bill.I agree that 40% of this money will be for you as a foreig=n partner, in respect to the provision of a foriegn account, and 60% wo=uld be for me, There after I will visit your country for disbursement a=ccording to the percentage indicated.Therefore, to enable the immed=iate transfer of this fund to you as arranged,youmust apply first to th=e bank as relation or next of kin of the deceasedindicatingyour bank na=me, your bank account number, your private telephone andfax number for =easy and effective communication and location wherein the money will be=remitted.Upon the receipt of your reply,I will send to you by fax or em=ail the text of the application to fill and send to the bank. I will no=t fail to bring to your notice that this transaction is 100% Risk free =and you should keep this transaction top secret.I know what to do and m=ove the fund into your account without any delay and that you should no=t entertain any atom of fear as all required arrangements have been mad=e for the transfer.You should contact me as soon as you receive this le=tter .Yours faithfully.Mr&nbsp; kanazoe alidaa.Bill &amp; Excha=nge Manager,BANK OF AFRICA (B.O.A)Appelez vos =amis de PC =E0 PC -- C'EST GRATUIT Essayez-le maintenant !=--_87f05796-c97b-4aa4-b2c9-df6569033462_--",
         "1"
        ],
        [
         "11",
         "Dear Friend,My name is Edward Moore QC.Principal partner Edward Moore & AssociatesLondon UK and I was compelled by my late client's request to contact youon a matter of great financial reward.My client late Hassan Zahrul(Malaysian by Birth) ,an Industrialist and Real Estate Guru died recentlyleaving a vast wealth in your name as his \"Next of Kin\".Do contact me immediately via my Direct Telephone:+44-7045705184 or betterstill send me an email to my direct email address as below stated forimmediate action on this matter.Email:edward.moore20@yahoo.co.ukI expect your immediate response and call and also let me have your directtelephone and mobile lines so i can call you as well.This matter demandsurgent action and i urge you to make this possible.Awaiting your response.Edward Moore Q.CPrincipal PartnerEdward Moore & AssociatesDirect Telephone:+44-7045705184",
         "1"
        ],
        [
         "12",
         "Compliment, How are you doing today, Hope you have not forgotten me? I am Dr.Mr MichaelHoward,the man from Nigeria who contacted you some time ago to assist mesecure the release of some money accrued from the over Invoicing of a contract/inheritancethat was awarded by my (Government) some time ago during the military regime.Though you were not able to assist me conclude the transaction, I'm happyto inform you about my success in getting those funds transfered under theassistance and co-operation of a new partner from Brazil.Presently I'm inNetherlands for investment projects with my own share of the total sum. meanwhile, i didn't forget your past efforts and attempts to assist me intransferring those funds, I made sure you are not left out the benefit ofthe transaction hence I kept aside for you the sum of five Hundred ThousandUnited States Dollars.($500,000.00)Draft, the compensation also go for thegood work of God meaning for the orphans and disable in your country Pleasetake good care of them and the poor in needs also. I and my new partner agreed to compensate you with that amount for all yourpast efforts and attempts to assist me in this matter. I appreciate yourefforts at that time very much,so feel free and get in touch with my secretaryMr.Steven Chapman and instruct him on how to send the Bank draft to you.Please do let me know immediately you receive the Draft so that we can sharethe joy together after all the sufferings at that time. In the moment, I'mvery busy here because of the investment projects which me and my partnerare having at hands, finally,remember that i had left instruction to my secretaryso as soon as you contact him, he will send the Draft to you,so feel freeto get in touch with MY SECRETARY NOW. ",
         "1"
        ],
        [
         "13",
         "Who wrote it?",
         "0"
        ],
        [
         "14",
         " accident. &nbsp;On further investigation, I found out that he did not leave a WILL and all attempts to trace his next of kin were fruitless. I therefore made further investigation and discovered that Mr. Barry Kelly did not declare any next of kin in all his official documents, including his Bank Deposit paperwork. This sum of US$25,000,000.00 is still sitting in the Bank and the interest is being rolled over with the principal sum at the end of each year. No one will come forward to claim it.&nbsp;&nbsp;According to the Ghanaian Law, at the expiration of 7{Seven} years, the money will revert to the ownership of the Ghana Government if nobody applies to claim the funds. Consequently, my proposal is that I will like you as a foreigner to stand in as the next of kin to Mr. Barry Kelly so that the fruits of this old man's labor will not get into the hands of some corrupt government officials. This is simple;&nbsp;(1) I will like you to provide me immediately with your full names and address so that the attorney will prepare the necessary documents and affidavits, which will put you in place as the next of kin.&nbsp;(2) We shall employ the services of two attorneys for drafting and notarization of the WILL and obtain the necessary documents and letter of probate/administration in your name for the transfer.&nbsp;(3) A bank account in any part of the world, which you provide, will then facilitate the transfer of this money to you as the beneficiaryext of kin of Mr.Barry Kelly. The money will be paid into your account for us to share in the ratio of 60% for me and 40% for you. There is no risk at all as all the paperwork for this transaction will be done by the attorney and my position as the Branch Manager guarantees the successful execution of this transaction. &nbsp;If you are interested, please call :00233-242-9727-02. or reply immediately via the private email address above. Upon your response, I shall then provide you with more details and relevant documents that will help you understand. Please observe utmost confidentiality, and rest assured that this transaction would be most profitable for both of us because I shall require your assistance to invest my share in your country.&nbsp;Awaiting your urgent reply.&nbsp;Thanks and regards,Baldwin Onuigbo Esq.private no:00233-242-9727-02Reply to&nbsp; :&nbsp; onuigbobald_1960@hotmail.com &#32;\t\t\t\tWant to be your own boss? Learn how on  Yahoo! Small Business. --0-1857806142-1159283111=:39685--",
         "1"
        ],
        [
         "15",
         "Email from EricBackground for you",
         "0"
        ],
        [
         "16",
         "                                                                    FROM:DESK OF THE CHAIRMAN AWARD OIL COMMITTEE.ENGR WILLIAM OKEKEDEAR FRIEND,  I AM ENGR WILLIAM OKEKE THE CHAIRMAN OF CONTRACT AWARD COMMITTEE PETROL  NIGERIA NATIONAL PETROLUEM COMPANY,FEDERAL REPUBLIC OF NIGERIA. SOMETIME LAST YEAR, OUR REFINERY WAS GENERALY SERVICED AND MANY OTHER CONTRACTS WHERE ALSO AWARDED IN THE OIL SECTOR AFTER AN OUT BREAK OF FIRE. THERE WAS ASSISTANCE FROM WORLD BANK, I.M.F. AND OTHER FINANCIAL INSTITUTIONS FOR THE REPLACEMENT OF THE DAMAGED EQUIPMENT AND THE REFINERY AS A WHOLE. DURING THIS PERIOD, A LOT OF CONTRACT WERE AWAREDED TO SO MANY INTERNATIONAL CONTRACTORS. ALL THE ORIGINAL CONTRACTORS HAS JUST RECEIVED THEIR FINAL PHASE OF THEIR PAYMENT LEAVING A TOTAL SUM OF $10 MILLION USD FLOATING IN THE FILES OF FEDERAL MINISTRY OF FINANCE UNCLAIMED THIS IS AS A RESULT OF THE OVER INVOICING WE DID DURING THE AWARD OF THE CONTRACT.THIS CONTRACT HAS BEEN CERTIFIED OKAY;",
         "1"
        ],
        [
         "17",
         "                         (\"REMITTANCE OF $15 MILLION U.S.A DOLLARS         =                          CONFIDENTIAL IS THE CASE\")Compliments Of The Season 2007,    Forgive my indignation if this message c=omes to you as a surprise and may offend your personality for contacting yo=u without your prior consent and writing through this channel.I got your co=ntact from the proffesional data base found in the internet Yahoo tourist s=earch.When i was searching For a foreign reliable partner.I assured of your capability and reliability to champion this businees oppo=rtunity.  After series of prayers/fasting.i was divinely directed to contac=t you among other names found in the data base Yahoo tourist search.I belie=ve that God has a way of helping who is in need.I am (MUSTAFA BRUNU  Esq),the Head of file Department in BANK OF AFRICA (BO=A). In my department we discovered an abandoned sum of $ 15 million U.S.A d=ollars ( fifteen million U.S.A dollars) . In an account that belongs to one= of our foreign customer who died along with his entire family on (July 21,= 2003) in a plane crash. Since we got information about his death, we have =been expecting his next of kin to come over and claim his money because we =cannot =B5 release it unless somebody applies for it as next of kin or rela=tive on to the deceased as indicated in our banking guidelines,But unfortunately we learnt that all his supposed next of kin or relation d=ied alongside with him at the plane crash leaving nobody behind for the cla=im. It is therefore upon this discovery that I and one official in my depar=tment now decided to make this businness proposal to you and release the mo=ney to you as the next of kin or relation to the deceased for safety and su=bsequent disbursement since nobody is coming for it and we don=92t want thi=s money to go into the bank treasury as unclaimed bill.The Banking law and guideline here stipulates that if such money remained u=nclamed after five years, the money will be transfered into the Bank treasu=ry as unclaimed fund. The request of foreigner as next of kin in this busin=ess is occasioned by the fact that the customer was a foreigner,and a Burki=nabe cannot stand as next of kin to a foreigner. We agree that 30 % of this= money will be for you as foreign partner,in respect to the provision of a =foreign account, 10 % will be set aside for expenses incured during the bus=iness and 60 % would be for me and my woman colleague. There after i will v=isit your country for disbursement according to the percentages indicated.Therefore to enable the immediate transfer of this fund  as arranged, you m=ust apply first to the bank as relations or next of kin of the deceased ind=icating your bank name, your bank account number, your private telephone an=d fax number for easy and effective communication and location where the mo=ney will be remitted.Upon receipt of your reply, I will send to you by fax =or email the text of the application I will not fail to bring to your notic=e that this transaction is hitch free and that you should not entertain any= atom of fear as all required arrangements have been made for the transfer.You should contact me on my number +226-76 54 93 42. immediately as soon as= you receive this letter. Trusting to hear from you immediately.Your=92s fa=ithfully,MUSTAFA BRUNU  (Esq.)FROM (B.O.A) OUAGADOUGOU BURKINA-FASO.GOD BLESSINGS,PROTECTIONS AND GUIDIAN=CE TO YOUR ENTIRE FAMILY.POST SCRITUM:You have to keep everything secret as= to enable the transfer to move very smoothly in to the account you will pr=ove to the bank.As you finished reading this letter call me immediately so =that we discuss very well over this business._________________________________________________________________Play free games, earn tickets, get cool prizes! Join Live Search Club.=A0http://club.live.com/home.aspx?icid=3DCLUB_wlmailtextlink=",
         "1"
        ],
        [
         "18",
         "Abidjan Cote D'Ivoire=20Dear,=20It is my pleasure to write you after much consideration since telephone=  communication can not be suitable enough to communicate to you at fir=st=2EI am Miss Stephean Lawrence the only doughter of late Mr Christoph=er Lawrence of Sierra-Leone (SL) I am 24 years of age=2E My late father= was limited liability in Cocoa and Gold merchant in  Sierra-Leone befo=re his untimely death=2E After his business trip to Abidjan-Cote d'Ivoi=re,to negociate on a cocoa and gold business he wanted to invest in Abi=djan - Cote d'Ivoire=2E=20A Week after he came back from Abidjan, he got an accidente with my mot=her of which my mother died instantly but my father died after five day=s in a private hospital on that faithful afternoon=2E I didn't know tha=t my father was going to leave me after I had lost my  mother=2E=20But before he gave up the ghost, it was as if he knew he was going to d=ie=2E He my father, MAY HIS SOUL REST IN PERFECT PEACE he disclosed to =me that he deposited sum of $9=2E7,000,000,00 US Dollars (NINE MILLION =SEVEN HUNDRED THOUSAND DOLLARS) in a Bank here in Abidjan- Cote d'ivoir=e=2EThat the money was meant for his cocoa and Gold company he wanted to es=tablish in Abidjan - Cote d'Ivoire though, He single handed me the depo=sit certificate and instructed me to seek for a reliable and trust wort=hy business partner for my life time investment abroad=2E Now I have su=cceded in locating the bank here in Abidjan- Cote d'ivoire and also con=firmed the bank with most honest and confidentiality=2E=20=20Now I am soliciting for your assistance to help me lift this money out =from Abidjan to your safe account abroad so that we should invest it in= any meaningful lucrative business in your country because this is my o=nly hope in life=2E=20Awaiting anxiously to hear from you so that we can discuss the modaliti=es of this transaction=2E  Please kindly contact me immediately  for mo=re discussion=2E=20Please don't hesitate to send me a message=2EThanks for your kind atten=tion=2E Please contacts me true this email stephean2006@yahoo=2Efr=20Yours sincerelyMiss Stephean Lawrence",
         "1"
        ],
        [
         "19",
         "I am Hon. Mr. Hope Sithole one of the Personal Assistants to the young President Joseph Kabila of Democratic Republic of Congo (DRC), since he assumed power.Sincerely speaking, my agitation is real, and my word is my bond in this proposal. This money in question is part of the budget made by our President Mr. Joseph Kabila, in the fear that members of the United Nations (UN) could perhaps be mandated to offer their respective supports in forcing Iraq to disarm themselves. Eventually, his dreams do not match up with realities and as a result he (the President) started using the money on personal ground because nobody could question/probe his actions, as he believed.As his closest personal assistant and with the help of two other officials one of whom was the then deputy Director, Safety and Security Department, we were able to escape with two boxes containing the aforementioned sum. At present the boxes were deposited in a reputable Security firm here in South Africa and were registered as family belongings. We had agreed on the need for a foreign assistance with a legitimate bank account abroad, that will stand as, the beneficiary and partner as well in order to avoid suspicion, since we are existing as refugees here. Copies of certificate of Deposit as well as all necessary documents from the Security cc. are available for a hitch-free transaction.In addition, you are also required to come/send a representative (as far as you trust the person representing) to the Republic of South Africa for the purpose of the transfer, but only if, by one reason or the other you cannot embark on a Five working (5) days trip by yourself, according to the expert from within the bank. As things are now we had not really agreed on the actual amount that should be your remuneration for your kind assistance, which to us is no big deal. The crux of this subject in particular is the declaration of your interest after-which we enter into negotiations with you over the (percentage) issue. Other details of which you may want to know shall be discussed in due course.Please be kind enough to acknowledge this proposal by responding through the above E-mail address for a high level of confidentiality in this business deal.Best regards,Hon. Mr. hope sitholetel _27832378499\t\t\tDo you Yahoo!? Check out the new Yahoo! Front Page. www.yahoo.com--0-930567302-1099896484=:25288--",
         "1"
        ],
        [
         "20",
         "Dear,I am Dr. M. Z. Erick, a native of Cape Town in South Africa and I am anExecutive Accountant with the South Africa Department of Mining & NaturalResources. First and foremost, I apologized using this medium to reach youfor a transaction/business of this magnitude, but this is due toConfidentiality and prompt access reposed on this medium. Be informed thata member of the South Africa Export Promotion Council (SEPC) who was atthe Government delegation to your country during a trade exhibition gaveyour enviable credentials/particulars to me. I have decided to seek aconfidential co-operation with you in the execution of the deal describedhereunder for the benefit of all parties and hope you will keep it as atop secret because of the nature of this transaction.Within the Department of Mining & Natural Resources where I work as anExecutive Accountant and with the cooperation of four other top officials,we have in our possession as overdue payment bills totaling Twenty - SixMillion, Five Hundred Thousand U. S. Dollars which we want to transferabroad with the assistance and cooperation of a foreign company/individualto receive the said fund on our behalf or a reliable foreign non-companyaccount to receive such funds. More so, we are handicapped in thecircumstances, as the South Africa Civil Service Code of Conduct does notallow us to operate offshore account hence your importance in the wholetransaction.This amount (Twenty - Six Million, Five Hundred Thousand) represents thebalance of the total contract value executed on behalf of my Department bya foreign contracting firm, which we the officials over-invoiceddeliberately. Though the actual contract cost have been paid to theoriginal contractor, leaving the balance in the tune of the said amountwhich we have in principles gotten approval to remit by TelegraphicTransfer (T.T) to any foreign bank account you will provide by filing inan application through the Justice Ministry here in South Africa for thetransfer of rights and privileges of the former contractor to you, henceprovide me with your private/direct fax number for the form to be sendacross to you.I have the authority of my partners involved to propose that should you bewilling to assist us in the transaction, your share of the sum will be 25%of the Twenty-Six Million, Five Hundred Thousand U. S. Dollars, 70% for usand 5% for taxation and miscellaneous expenses. The business itself is100% safe, on your part provided you treat it with utmost secrecy andconfidentiality. Also your area of specialization is not a hindrance tothe successful execution of this transaction. I have reposed my confidencein you and hope that you will not disappoint me. Endeavor to contact meimmediately through my above Tel/Fax number or my e-mail address, whetheror not you are interested in this deal. If you are not, it will enable mescout for another foreign partner to carry out this deal I want to assureyou that my partners and myself are in a position to make the payment ofthis claim possible provided you can give us a very strong Assurance andguarantee that our share will be secured and please remember to treat thismatter as very confidential matter, because we will not comprehend withany form of exposure as we are still in active Government Service andremember once again that time is of the essence in this business.I wait in anticipation of your fullest co-operation.Yours faithfully,",
         "1"
        ],
        [
         "21",
         "May 7 2010For: Hillary",
         "0"
        ],
        [
         "22",
         "GOODDAY=2CWE ARE VERY SORRY IF THIS MIGHT OFFEND YOU=2C THOUGH WE DONT KNOW YOU BUT I AND MY YOUNG BROTHER BELIEVE THAT THE SPIRIT OF OUR FATHER STILL LEAVES WITH US=2C ALSO=2C WE KNOW HE IS AWARE THAT I AND MY YOUNG BROTHER ARE CONTACTING YOU FOR AN ASSISTANCE BASED ON TRUST=2EPERMIT ME TO USE THIS MEDIUM TO EXPLAIN OUR PROBLEM TO YOU IN THE NAME OF THE ALMIGHTY GOD WHOM WE SERVE=2E FIRSTLY=2CWE WANT TO EXPLAIN OUR SEIF TO YOU=2CSO THAT YOU WILL UNDERSTAND AND COMPREHEND OUR POINT CLEARLY=2EI AM Ms=2ESILVIA MAVASA 24YRS OLD=2CWITH MY YOUNG BROTHER DAVID MAVASA 22YERS OLD WE FROM BENIN REPUBLIC=2C THE ONLY DAURTHER AND SON  OF LATE MR AND MRS WILLIAM MAVASA=2E MY FATHER WAS A VERY WEALTHY COCOA MERCHANT BASED IN DAKAR-SENEGAL=2C THE ECONOMIC CAPITAL OF SENEGAL=2C BEFORE HE WAS POISONED TO DEATH BY HIS BUSINESS ASSOCIATES ON ONE OF HIS BUSINESS OUTING=2E WHEN OUR MOTHER DIED ON THE 21ST OCTOBER 1996=2C OUR FATHER TOOK US SO SPECIAL BECAUSE I AND MY YOUNG BROTHER WAS THE ONLY DAURTHER  AND SON HE HAD BEFORE HIS DEATH ON THE 24TH OF AUGUST 2006 IN A PRIVATE HOSPITAL HERE IN PORTO-NOVO=2CBENIN REPUBLIC=2E HE SECRETLY CALLED ME ON HIS BEDSIDE AND TOLD ME THAT HE HAS SUM OF US $22million DEPOSITED IN A BANK  =28IN DAKAR-SENEGAL=29=2CWHICH MY NAME WAS USED AS HIS NEXT OF KIN IN DEPOSIT OF THE FUND=2E DUE TO HIS ENCOUNTER WITH HIS ASSOCIATES AND RELATIVES=2C WHICH LEAD TO HIS DEATH=2C HE INSTRUCTED US TO SEEK FOR A FOREIGN FRIEND WHO WILL AID US IN THE TRANSFER OF THE MONEY FOR OUR EDUCATION=2C INVESTMENT AND LIVE A GOOD LIFE=2E WE ARE HONOURABLY SEEKING YOUR ASSISTANCE IN THE FOLLOWING WAYS=3B-TO ASSIST US IN COMING OVER TO YOUR COUNTRY-TO FURTHER OUR EDUCATION AND TO SECURE A RESIDENTIAL PERMIT IN YOUR COUNTRY=2E MOREOVER=2C WE ARE  WILLING TO OFFER YOU 20% WITH 5% IN ADDITION FOR ALL YOUR EXPENSES AS COMPENSATION FOR YOUR EFFORT=2E PLEASE INDICATE YOUR WILLINGLESS TO HELP US BY FORWARDING YOUR FULL NAME AND ADDRESS=2E   1=2E Your Full Name=2E=2E=2E=2E=2E=2E=2E=2E=2E=2E=2E=2E=2E=2E=2E=2E=2E=2E=2E=2E=2E=2E=2E=2E=2E=2E=2E=2E=2E=2E=2E=2E=2E=2E=2E=2E=2E=2E=2E 2=2ENationality=2E=2E=2E=2E=2E=2E=2E=2E=2E=2E=2E=2E=2E=2E=2E=2E=2E=2E=2E=2E=2E=2E=2E=2E=2E=2E=2E=2E=2E=2E=2E=2E=2E=2E=2E=2E=2E=2E=2E=2E=2E=2E=2E=2E=2E=2E3=2E Your Age =2E=2E=2E=2E=2E=2E=2E=2E=2E=2E=2E=2E=2E=2E=2E=2E=2E=2E=2E=2E=2E=2E=2E=2E=2E=2E=2E=2E=2E=2E=2E=2E=2E=2E=2E=2E=2E=2E=2E=2E 4=2E Your Sex=2E=2E=2E=2E=2E=2E=2E=2E=2E=2E=2E=2E=2E=2E=2E=2E=2E=2E=2E=2E=2E=2E=2E=2E=2E=2E=2E=2E=2E=2E=2E=2E=2E=2E=2E=2E=2E=2E5=2E Marital Status=2E=2E=2E=2E=2E=2E=2E=2E=2E=2E=2E=2E=2E=2E=2E=2E=2E=2E=2E=2E=2E=2E=2E=2E=2E=2E=2E=2E=2E=2E=2E=2E=2E=2E6=2EYour Occupation=2E=2E=2E=2E=2E=2E=2E=2E=2E=2E=2E=2E=2E=2E=2E=2E=2E=2E=2E=2E=2E=2E=2E=2E=2E=2E=2E=2E=2E=2E7=2EYour Home And Office Address=2E=2E=2E=2E=2E=2E=2E=2E=2E=2E=2E=2E=2E=2E=2E=2E8=2EYour Telephone And Fax Number=2E=2E=2E=2E=2E=2E=2E=2E=2E=2E=2E=2E=2E=2E=2E=2E=2E=2E=2E=2E=2E=2E=2E 9=2EA Scan Copy Of Your International Passport Or Driving Licence=2E=2E=2E=2E=2E=2E=2E=2E=2E=2E10=2E Bank Account Details=2E=2E=2E=2E=2E=2E=2E=2E=2E=2E=2E=2E=2E=2E=2E=2E=2E=2E=2E=2E=2E=2E=2E=2E=2E=2E=2E=2E=2E=2E=2E=2E=2E=2E=2E=2E=2E=2E=2E=2E=2E=2E=2E=2E=2E=2E=2E PLEASE REPLY PROMPTLY=2EMAY THE LORD BE WITH YOU AS WE AWAIT YOUR POSITIVE DECISION TO HELP=2ETHANKS AND GOD BLESS=2EBEST REGARDS=2EReply Us With This Email Address=3A   silvia=5Fdavid11=40yahoo=2Ecom Ms Silvia Mavasa & Brother David Mavasa=2E",
         "1"
        ],
        [
         "23",
         "Ok.",
         "0"
        ],
        [
         "24",
         ">From Monica YanganiEmail monicayangani250@netscape.netTel 27 8046828612ATTN:Sir/Madam ÃÂ  I know you will be surprised to hear from me, but please consider this as a request from family in dire need of assistance.I am Mrs.Monica Yangani, writing to you from Government Reserved Area (GRA).I got your contact information from the Republic of Congo Chamber of Commerce and Industry. When I was searching for a reliable individual or private company that can assist me to transfer a reasonable amount in a safe account abroad on behalf of my late husband, two sons and two daughters. I decided to solicit your assistance to transfer this sum of US $20 Million (Twenty Million, United States Dollars)inherited from my late husband in to your personal companyÃ¢ÂÂs account or private account.Before his death, he was a Brigadier in charge of arms and ammunition procurement for the (DRC) army. In his WILL?he specifically draws my attention to this US$ 20 Million which he deposited in a safe box in Private Security Company in South Africa. ÃÂ During the war, he was very dedicated and committed to winning the war against the rebels until when he found out that some Senior Army Officers and Government Functionaries were busy helping themselves with government funds and properties and sending them toforeign countries. Due to this, he and his former special advisers to the president were assigned by the President (Laurent Kabila) to purchase arms in South Africa, they saw this as a golden opportunity and diverted the money and divided it and he got a total sum of US $20 Million. He deposited the box in my sonÃ¢ÂÂs name and him alone with the deposit code canclaim it.I will be grateful if you can assist us now. I want you to do for us as an international partner to help us transfer this money which is in a safety box in the Security Company using your name as the beneficiary ofthis sum. You can contact ÃÂ me or my son (George Yangani) ÃÂ inSouth Africa on ÃÂ this number+27 8046828612. Then, we will tell you more details about it. We are in position to inform you of the whole procedures mapped out of the transfer of this money.We have agreed to give you 25% of the total sum for your assistance, 5% for any expenses that might occur from both sides in the course of this transaction,while the remaining 70% will be for my son's investment, which you will assist him to do abroad.Further information and arrangement will commence as soon as trust, confidence and good relationship will be established and safety of this fund assured when transferred to your account.Please treat this matter with utmost urgency.May Allah (God) bless you as I earnestly hope for yourassistance. Best Regards Monica Yangani (for the family)__________________________________________________________________Introducing the New Netscape Internet Service. Only $9.95 a month -- Sign up today at http://isp.netscape.com/registerNetscape. Just the Net You Need. New! Netscape Toolbar for Internet ExplorerSearch from anywhere on the Web and block those annoying pop-ups.Download now at http://channels.netscape.coms/search/install.jsp",
         "1"
        ],
        [
         "25",
         "Dearest One, &nbsp;&nbsp;&nbsp;&nbsp;&nbsp;&nbsp;&nbsp;&nbsp; I am writting this letter with due respect and heartful of tears since we have not known or met ourselves previously I am asking for your assistance after I have gone through a profile that speaks good of you. I want to find out if it's possible for you to deal with individual as to investment.I came across your profile and I feel it's highly reputable that is why I pick an interest getting across to you in respect of investment at my disposal. I will be so glad if you can allow me and lead me to the right channel towards your assistance to my situation now.I will make my proposal well known if I am given the opportunity. I would like to use this opportunity to introduce myself to you. Well   &nbsp; I am&nbsp;Ruth Williams from Liberia,the only daughter of COL Gabriel Williams My father is now late,he died during the last crisis in my country(Liberia). He was one of the!  high officers in the leadership of former president Charles Taylor who is now in exile after many innocent soul were killed,My father was unlucky to be among those that was killed by the rebel.Since after the death of my father my step mother and my uncles are after my life because they want to have the m,just because am&nbsp;too young.  My mother Died 2weeks,after&nbsp;the death of my father,&nbsp;before the death of my father ,&nbsp; he told me that he has the sum of Ten million,&nbsp; five Hundred thousand United State Dollars. USD ($10.500,000) fix desposited account,&nbsp; which is the cause of hatred of&nbsp; friends, and&nbsp; relatives, and even brothers,&nbsp;&nbsp;  &nbsp;&nbsp;&nbsp; &nbsp;That I should seek for a foreign partner or one capable and reliable that i can trust and love that will help me so that i can leave this country and invest in other business of my choice where I will transfer this money and us! e it for investment purposes and to further my education.&nbsp;  &nbsp;  so i am seeking for your asistance in making this purposes.  Furthermore,&nbsp;ruth_williamsy2k61@yahoo.com you indicate your options towards assisting me as I believe that this transaction would be concluded successfully.  &nbsp;  Anticipating to hear from you soon.&nbsp;   &nbsp;  yours faithfully  &nbsp;  Ruth. W .\t\tNew Yahoo! Messenger with Voice. Call regular phones from your PC and save big.--0-637752865-1143740567=:58337--",
         "1"
        ],
        [
         "26",
         "I know you will be surprised to read from me, but  please consider this as arequest from a family in dire need of assistance.First, I must introducemyself I am MR. TSEPO VUSI from Angola. I am the first and only son of BRIGADIER VUSI  JONES. I  am presently resident in South Africa.I got your contact address from a business directory  in JohannesburgChamber of commerce and Industry. On  behalf of my widowed mother MRS. ELIZABETHVUSI I  desided to solicit for your assistance to transfer  the sum of US$21.5MILLION( TWENTY ONE MILLION FIVE  HUNDRED THOUSAND UNITED STATES DOLLARS)inheritedfrom my late father, into your personal company's account.Before my fathers' death, he was a Brigadier in  charge of Arms andAmmunation procurement for the Angola  Army. In his WILL, he specificallydrew my attention  to the said sum of money which he deposited in a  safe box ofa private Security Company in Johannesburg-  South Africa in a treasure box,fully documented in  my name.IN FACT MY FATHER SAID AND I QUOTE  MY BELOVED SON, I WISH TO DRAW YOURATTENTION TO US$21.5 MILLION . I DEPOSITED THE BOX CONTAINING THIS MONEY IN A SECURITYCOMPANY IN JOHANNESBURG, SOUTH  AFRICA. DURING THE WAR, I WAS VERY DEDICATEDAND OFFICERS AND GOVERNMENT FUNCTIONARIES WERE BUSSY  HELPING THEMSELVES WITHGOVERNMENT FUNDS AND  PROPERTIES AND SENDING THEM TO FOREIGN COUNTRIES.  DUETO THIS, WHEN I AND MY FORMER SPECIAL ADVISOR TO THE  PRESIDENT WERE ASSIGNEDBY THE PRESIDENT (EDUARDO  SANTOS) TO PURCHASE ARMS IN SOUTH AFRICA, WE SAW  THISAS A GOLDEN OPPORTUNITY AND DIVERTED THE MONEY AND  DIVIDED IT. i GOT A TOTAL SUMOF US$21.5 MILLION. IN  CASE OF MY ABSENCE ON EARTH, AS A RESULT OF DEATHONLY, YOU SHOULD SOLICIT FOR THE FUND FOR INVESTMENT  PURPOSES.>From the above, you will understand that the lives  and future of my familydepens on this money, as such I  will be grateful if you can assist us. We are nowliving in South Africa as political Asylum seekers and financial laws andregulation of the Republic of  South Africa do not permit us financial rights to suchhuge sum of money. In view of this, I cannot invest this  fund in South africa, hencei am prepared to offer  you 20% of the total fund, while 10% will be set asidefor local and international expenses and 70% will be for  my family and me.Finally, modalities on howthe transfer will be bone  will be conveyed to you once wehave established  trust and confidence between ourselves. Please treat thismatter as very urgent.Best regards,TSEPO VUSI",
         "1"
        ],
        [
         "27",
         "will move saebBibi confirmed 12:30. Does that give u enough time?",
         "0"
        ],
        [
         "28",
         "Hello my dear&nbsp;I wish to solicit your kind and urgent assistance.My name is Mr.PATRICK AGOLO, a lawyer based in Lagos State of Nigeria.As a lawyer, I was a private legal adviser (for almost two decades) to a white couple who unfortunately lost their lives 3-months ago in a ghastly motor accident here in Nigeria. Prior to their death, this white couple had lived in this country since the 1960?s as missionaries and educationists. Unfortunately, they died childless, with no knownrelatives or next of kin.&nbsp;The issue at stake, for which I am writing you now, is that the deceased left behind the sum of US$7.8million in their joint account with ECO INTERNATIONAL BANK Nigeria Incorporated.Soon after the burial of the deceased, I had promptly notified the bank,which is awaiting me to present to them the person that is to inherit the account of the deceased.&nbsp;Incidentally, as I said before, the late couple had no known next of kin or relatives. No one else knows about this.However, it will amount to abuse of privilege for me to lay claim to the wealth and estate of the deceased, since as a black man i couldn't have been their relative. But then funds can't be left to the bank permanently/forever. So I have decided to contact you, to seek your consent to present your name to the bank as the next of kin and the appointed administrator/inheritor of the estates of the deceased.&nbsp;&nbsp;As a whiteman, you'll fit into the picture.As the lawyer to the deceased, no body can disbelieve me if i present you as the next of kin to the deceased. Moreover, I know the exact legal requirements and documents to secure in your favour to show proof that you are actually the next of kin/inheritor of everything left behind by the deceased. All these will be my responsibility to obtain from the court here in Nigeria. You won?t be needed here in person.I can assure you that this is my specialty and there is nothing for you to be afraid of. I will handle and provide for all that it will take legally.Once everything needful is done, the bank will be satisfied to transfer the monies from the account of the deceased to yours.&nbsp;My interest is to take 60% of the funds while you take 30%, while the remaining 10% will be disbursed to any Orphanage-Home of our common choice.Please communicate your decision to me urgently, indicating your Telephone number in your reply so that I can call you and talk this thing over with you.Pls. keep these disclosures confidential.Thank you.Sincerely yours,Barrister PATRICK AGOLO(ESQ)&nbsp;\t\tDo you Yahoo!? Read only the mail you want - Yahoo! Mail SpamGuard.--0-1365810461-1111499824=:99763--",
         "1"
        ],
        [
         "29",
         "----------- REGARDS, MR NELSON SMITH.KINDLY REPLY ME ON MY PRIVATE EMAIL ADDRESS;nelsonsmith2000@yahoo.com",
         "1"
        ],
        [
         "30",
         "Attn=2FPls Dear Partner=2C I would like to apply through this medium for your co-operation and to secure an opportunity to invest and do joint business with you in your country=2E I have a substantial capital i honourably intend to invest in your country into a very lucrative business venture of which you are to advise and execute the said venture over there for the mutual benefits of both of us=2E Your able co-operation is to become my business partner in your country and create ideas on how money will be invested=2Cproperly managed and the type ofinvestment after the money is transferred to your custody with your help and assistance=2E Meanwhile=2Con indication of your willingness to handle this transaction sincerely by protecting our interests and upon your acceptance of this proposal=2CI would furnish you with the full detailed information=2C procedure=2Camount involve and mutually agree on your percentage interest or share holding for helping me to secure the release of the deposit and investing the money in your country under your proper management and care=2E I shall be glad to reserve this respect and opportunity for you=2Cif you so desire=2Cbut do urge you to give the matter your immediate attention itdeserves=2E If this proposal is acceptable by you=2Cplease do not make undue advantage of the trust i bestow on you=2Cand your urgent reply is highly needed=2Cfor more detailes information=2E Looking forward to your candid and urgent call and positive reply today and a mutual healthy business relationship with you=2E Best regards=2Cand have a great day=2E Yours Faithfully=2C Mr=2EMalick Camara=2E In Dakar=2FSenegal=2E",
         "1"
        ],
        [
         "31",
         "And your statement is out",
         "0"
        ],
        [
         "32",
         "Will give some thought and pass along any names I can think of.Jm",
         "0"
        ],
        [
         "33",
         "IRECTOR Dear Sir, Let you not be surprise=d with this my private mail to you because I got your contact through the=  www.nge.ru  web-site due to my personal search for a Russian businessma=n who can help me receive, secure or invest the sum of US$15,000,000.= To introduce myself to you, I am Mr. Oliver Chulu H.,a citiz=en of Liberia-West Africa. I am the youngest brother to the wife of the e=x-president of Liberia Mrs. Jewel Howard. Presently, I am on political as=ylum in Spain. I have gone through your company profile a=nd think that you can be capable to help me privately to secure or invest= this private fund of mine with your company name or your personal name. =Because of my family political problems and my asylum situation here, I c=annot invest this fund in my name and this is the main reason why I conta=ct you for your assistance. Another major reason why I beg you to handle =this transaction with maximum confidentiality is because of my family cri=tical political situation. I deem it most necessary to co=ntact you,if you can willingly accept this offer and forward me with busi=ness opportunities in your country which will be very lucrative to both p=arties. I will most appreciate it if you can give this investment enquiry= a food for thought as I will want you to respond to this message as quic=k as possible.Be informed that all capital investments shall be p=rovided by me while all business plans,feasibilty and ideas shall be made= available by you according to the code of investment in your country. Finally, you could get back to me through this my private e=mail addresses below so that we can discuss and negotiate on our mutual u=nderstanding and all information provided to you. Kindly furnish me with =your private telephone number too for direct communication. I look forward to hearing from you.E mail.......... oliver_chu=lu@yahoo.comBest regards, Mr. Oliver C.H.=- OLIVER CHULU--0-1237626344-1148665305=:93785--",
         "1"
        ],
        [
         "34",
         "PIs keep me updated on this project. Thx.",
         "0"
        ],
        [
         "35",
         "NUMBER, BANK DETAILS AND YOUR STATUS THE ABOVE INFORMATIONS WILL ENABLE ME WRITE LETTERS OF CLAIM AND NEXT OF KIN DESCRIPTION RESPECTIVELY. THIS WAY WE WILL USE YOUR NAME TO APPLY FOR PAYMENT AND RE-AWARD THE BENEFICARY IN YOUR NAME AS THE NEXT OF KIN TO THE LATE BENEFICIARY.IAM LOOKING FORWARD TO DOING THIS BUSINESS WITH YOU AND SOLICIT YOUR CONFIDENTIALITY IN THIS TRANSATION.PLEASE ACKNOWLEDGE THE RECEIPT OF THIS LETTER USING THE ABOVE EMAIL ADDRESS . I WILL SEND YOU DETAILED INFORMATION OF THIS PENDING PROJECT WHEN I HAVE HEARD FROM YOU.YOURS FAITHFULLY,MR ROBIN HANS CLARK",
         "1"
        ],
        [
         "36",
         "Dear Sir or Madam:We are keenly interested in setting up a new factory to produce 120,000 ERW oil casings per year to meet the big market of Shengli Oilfied. Since we lack some starting-up capital, we are seeking for investments. I will give you a brief introduction to the project as follow:I. Background:Shengli Oilfield, the second largest oilfield in China and the leading company of Sinopec Corp. (http://www.sinopec.com), as well as neighboring oilfields as Dagang Oilfield, Central Plain Oilfield and Jiangsu Oilfield are potential market of ERW oil casing. It is expected that the total oil casing needed in the above area is about 400,000 tons, including 260,000 tons in Sinopec and 150,000 tons in Shengli Oilfield. To meet the great need, we plan to set up a joint venture to produce 120,000 tons of ERW casings per year in Shengli Oilfield.  With good management and market outlets, we believe that this JV also has the potential to expand beyond China to other nations. II. About usShengli Oilfield Engineering Machinery Factory is one of sub-companies of Shengli Oilfield Co., Ltd, with total assets of 267 million yuan, net assets of 170 million yuan and 2462 staff. The factory mainly produces oilfield special equipment such as beam unit, Spiral-seam submerged-arc weldedsteel pipe, sucker rod, line pipe, casing, tubing, plastic compound pipe etc. It produces 200,000 tons of line pipes, 1 million meters of strengthened plastic compound pipes, 500 beam units, 2.5 million meters of sucker rods, 12,000 tons of PP gas pipes and 50,000 tons of oil tubings yearly, and has become important pipe base in Shandong and Shengli Oilfield. Its products have entering many areas as Shengli Oilfield, Daqing Oilfield, Liaohe Oilfield, Dagang Oilfield and so on. In 2002, the sale income amounted to over 600 million yuan.The Factory holds Quality accreditations as ISO9001, API and so on.III. Content of the projectIt is planned to introduce Japanese technology and equipment to set up one production line with range of casing diameter fromÃ¯Â¿Â½Ã¯Â¿Â½114 to Ã¯Â¿Â½Ã¯Â¿Â½339.7 and produce 120,000 tons of ERW casings and delivery pipes per year.IV. Product specificationsFor Casing: grade of steel are J55 and N80, specification ranges from Ã¯Â¿Â½Ã¯Â¿Â½114 to Ã¯Â¿Â½Ã¯Â¿Â½339.7For delivery: grade of steel are X52Ã¯Â¿Â½Ã¯Â¿Â½X60Ã¯Â¿Â½Ã¯Â¿Â½X70, specification ranges from Ã¯Â¿Â½Ã¯Â¿Â½114 to Ã¯Â¿Â½Ã¯Â¿Â½339.7.V. Economic AnalysisThe total investment in this project is 142.41 million yuan. After the completion of the project, it is estimated that the internal financial rate of return before paying tax is 24.9 percent with a payback period of 5.6 years, and the internal rate of return after paying tax is 21.8 percent with a payback period of 5.9 years.The break-even point of the project is 46.95 percent, which means the project can keep balance if the annual output amount to 42,000 tons.VI. Plans for cooperationWe have set up a joint venture with Japan's Marubeni in the early of the year, with a registered capital of 57 million yuan. The capital structure is as follow:a. Shengli Oilfield Bureau of Administration          19.95 million yuan   35Ã¯Â¿Â½Ã¯Â¿Â½b. Shengli Oilfield Engineering Machinery Facotry     17.10 million yuan   30Ã¯Â¿Â½Ã¯Â¿Â½c. Dongying District State Assets Operation & Management Co., Ltd 5.70million yuan 10Ã¯Â¿Â½Ã¯Â¿Â½d. Marubeni Engineering Technology Co., Ltd           14.25 million yuan   25Ã¯Â¿Â½Ã¯Â¿Â½To meet our capital need for this project, we are now planned to increase our registered capital to 118.88 million yuan. Taking our added investment into consideration, we need another 34.68 million yuan to get the plan executed. So we are seeking a new joint venture partner who'd like to join this project and meet our capital requirement.We would like to exchange the information with the manufacturers and suppliers who are interested in this project and have discussion on raw material supply as well as jointly investing the factory establishment. And we hope we could have good cooperation in future.For additional information regarding this project, please feel free to contact us.Looking forward to your prompt reply.Sincerely yours, Tony LeungProject officer",
         "1"
        ],
        [
         "37",
         "Dear CEO,I am Mr. Joseph Abu rime, a Regional Supervisor with A SECURITYAND FINANCE CO. in Amsterdam,Holland. We had a foreign client (name withHeld) who deposited a huge sum of money (US$12million dollars) with ourSecurity Company.Eventually, this client was among the victims of EGYPT AIR BOEING 767FLIGHT NO.990 that crashed on the 31-10-1999 in U.S.A but, since thenWe have not had any body coming for the claims as the next of kin. ASituation I have monitored closely with my position in the Company. Now,Having monitored this deposit and managed it over the years before hisDeath, and hence nobody has showed up as the next of kin for the past fourYear plus, I have removed the file to my private safe.I now solicit for your assistance to present you as the next of kinas every other arrangement has being concluded by me and I am onlyWaiting for a foreigner to enable me move the fund to his account. Iwill need your private telephone and fax numbers and your full name andaddress, company or residential so that I can computerize them to tallywith the next of kin column in the certificate of deposit.This does not have any risk attached to it as all the internaldocumentations will be handled by me. I therefore request you toconfirm your interest by a return message and I will furnish you withdetails. Lastly for the immediate take off of this transaction you have toconfirm your willingness and readiness to assist me retrieves this deposit.Please for your assistance in this transaction you will be entitledto 20% percent of the total sum and 10% percent will cover all the expenses",
         "1"
        ],
        [
         "38",
         "FROM:BARR.ROTIMI BELLO (ESQ)NO.5 MILVERTON STREET,   VICTORIA-ISLANDLAGOS.EMAIL:barrister_rotimibello_chamber@yahoo.co.uk Dear Sir/Madam,                                                           I am Barrister Rotimi Bello, a solicitor at law. I am the personal attorney to Mr. Douglas Raju, a national of your country, who used to work with shell development company in Nigeria and as well a one time secret agent in transferring of money overseas for the Late head of state of Nigeria {Late Gen.SANI ABACHA}.Before his death On the 21st of April 2002 [my client,his wife and their only daugther were involved in a car accident along sagamu express way in which all occupants of the motor died}. My client {RAJU}deposited  the sum of $15.5m in a commercial bank(CENTRAL BANK OF NIGERIA) here in Nigeria for himself, with the hope of transferring it to his country as soon as he is on leave. Since his death I have made several enquiries to your embassy to locate any of my clients extended relatives this has also proved unsuccessful. After these several unsuccessful attempts, I decided to trace his last name over the Internet, to locate any member of his family hence I contacted you. I have contacted you to assist in repatriating the money and property left behind by my client before they get confiscated or declared unserviceable by the bank where these Money were Deposited. Particularly, the (CENTRAL BANK OF NIGERIA) where the deceased Deposited (US$15,500,000)fiftheen million five hundred thounsand dollars has issued me a notice to provide the next of kin with in the next ten official working days. Since I have been unsuccessful in locating the relatives for over 3years now I seek your consent to present you as the next of kin of the deceased since you have the same last name so that the proceeds of this deposit (Money) valued at (US$15,500,000)fiftheen million five hundred thounsand dollars can be claim by you and then you and me can share the money. 40% to me and 60% to you I have all necessary legal documents that can be used to back up any claim we may make. All I require is your honest cooperation to enable us see this deal through. I guarantee that this will be executed under a legitimate arrangement that will protect you and me from any breach of the law. Please get in touch with me by my private email address:(barrister_rotimibello_chamber@yahoo.co.uk) for more information to enable us discuss further or you can call my private line;# 234 8033791090Best regards, Barrister Rotimi bello (Esq)EMAIL:barrister_rotimibello_chamber@yahoo.co.uk",
         "1"
        ],
        [
         "39",
         "Yes we can do that this afternoon.",
         "0"
        ],
        [
         "40",
         "Jm",
         "0"
        ],
        [
         "41",
         "PVerveer B6Friday December 17 2010 12:12 AMFrom B6Pleaselet me know if I can be of any help to your department and will happy to do and please thankMrs. Hillary Clinton on behalf of me and. supporting Afghan women.Ã¢ÂÂ¢Thank youB6B6B6B6B6B6B6B6",
         "0"
        ],
        [
         "42",
         "nd Banking details of our deceased client that will facilitate our putting =you forward as the claimant/beneficiary of the funds and ultimately transfe=r the money to any bank account nominated by you.I am prepared to compensat=e you with a 30% share of the total funds for your efforts.10 % will be set= aside for expenses incurred during the business and 60 % would be for me a=nd my colleagues. Please contact me immediately whether or not you are inte=rested in this deal.If you are not,it will enable me scout for another fore=ign partner to carry out this deal.But where you are interested, contact me= through my email address  for more details as time is of the essence in th=is business.    You should contact me immediately as soon as you receive th=is letter. Trusting to hear from you immediately. Yours faithfully, Dr. ami=r jasim, Bill and exchange manager, African Development bank ADB=20_________________________________________________________________Express yourself instantly with MSN Messenger! Download today it's FREE!http://messenger.msn.click-url.com/go/onm00200471ave/direct/01/=",
         "1"
        ],
        [
         "43",
         "Thanks and God Bles! s You,Best Regards.MR. MICHEAL BALOY(FOR THE FAMILY)",
         "1"
        ],
        [
         "44",
         "FYI",
         "0"
        ],
        [
         "45",
         "H Wednesday October 7 2009 6:46 AM'stalbott'JilotyLC@state.gov'Re: Rose....Thx for passing on the feedback which I will share w her. Let's plan another catch up call. I'm copying my assistantLauren to try to schedule for us.",
         "0"
        ],
        [
         "46",
         "WALTERS COMPANY FROM THE OFFICE OF THE MANAGER,WALTERS GATE COMPANY,IMPORT AND EXPORT,WORLD TRADE CENTER,LONDON,ENGLAND.Dear Sir/Madam,                      JOB OFFER FOR A REPRESENTATIVE.I am Mr. Walter Gate managing Director Walters Gate company and I am an engineer by profession, and my company is based in Europe.My Company deals with import and export, construction and general servicing. We import construction materials like Drilling machine, underground pipes, and pumping machine for refineries and general maintenance of petroleum refineries. We also supply materials for Borehole construction into America and Canada.Our offices are mainly in Europe and Asia.We need a reliable and trustworthy representative that will monitor the affairs of our company in America and Canada, the representative will be incharge of all the companies affairs like monitoring of goods to their various owners, clear from sea-port and also collect payment from creditors.The company has agreed to let the representative have 10% of every payment collected as his/her commission.If you are interested please send me the following information:1.Full Name.2.Full Contact addresses.3.Phone and Fax number.4.Date of Birth.5.Year of Working Experience.Get back to me with the information and your application will be processed and we will get back to you. For further information visit our:web-site www.walters-import-export.8m.com.",
         "1"
        ],
        [
         "47",
         "More fyi.",
         "0"
        ],
        [
         "48",
         "H Monday December 21 2009 7:26 AM'ca Ã¢ÂÂ¢ nciamarshall@RELEASE IN PARTB6",
         "0"
        ],
        [
         "49",
         "    From =3A Stella Dikko SambaAbidjan=2C Ivory CoastWest Africa=2ETEL +225 07 81 95 57APPEAL FOR URGENT BUSINESS ASSISTANCE=2EMY Dear =2CPermit me to inform you of my desire ofgoing into business relationship with you=2E I got yourname and contact from the Ivoirian chamber of commerceand industry=2E I prayed over it and selected your nameamong other names due to its esteeming nature and therecommendations given to me as a reputable and trustworthy person that I can do business with and by therecommendation =2C I must not hesitate to confide in youfor this simple and sincere business =2E I am Stella Dikoo Samba the only daughter of late Mr=2Eand Mrs=2E Dikko samba=2E My father was a very wealthycocoa merchant in Abidjan =2C the economic capital ofIvory coast=2C my father was poisoned to dearth by hisbusiness associates on one of their outings on abusiness trip =2EMy mother died when I was a baby and sincethen my father took me so special=2E Before the death ofmy father on January 2002 in a private hospital herein Abidjan he secretly called me on his bed side andtold me that he has the sum of seventeen million =2Cfivehundred thousand United State Dollars=2E USD =28$17=2E500=2C000=29 left in fixed =2F suspense account in one ofthe prime bank here in Abidjan =2Cthat he used my nameas his only daughter for the next of Kin in depositing of the fund=2E He also explained to me that it was because of this wealth that he was poisoned by his business associates=2E That I should seek for a foreign partner in a country of my choice where i will transfer this money and use it for investment purpose such as real estate management or hotel management =2ESir=2C I am honourably seeking your assistancein the following ways=3A=281=29 To provide a bank account into which this moneywould be transferred to =2E=282=29 To serve as a guardian of this fund since I amonly 22years=2E=283=29 To make arrangement for me to come over to yourcountry to further my education and to secure aresident permit in your country=2EMoreover=2C sir i am willing to offer you 15%of the total sum as compensation for your effort=2Finput after the successful transfer of this fund intoyour nominated account overseas=2EFurthermore=2C you indicate your optionstowards assisting me as I believe that thistransaction would be concluded within fourteen =2814=29days you signify interest to assist me=2E Anticipatingto hear from you soon=2EReply ma in my private mail box=3Ajimnaya174=40yahoo=2EfrThanks and God bless=2EBest regard STELLA DIKKO SAMBA ",
         "1"
        ]
       ],
       "shape": {
        "columns": 2,
        "rows": 800
       }
      },
      "text/html": [
       "<div>\n",
       "<style scoped>\n",
       "    .dataframe tbody tr th:only-of-type {\n",
       "        vertical-align: middle;\n",
       "    }\n",
       "\n",
       "    .dataframe tbody tr th {\n",
       "        vertical-align: top;\n",
       "    }\n",
       "\n",
       "    .dataframe thead th {\n",
       "        text-align: right;\n",
       "    }\n",
       "</style>\n",
       "<table border=\"1\" class=\"dataframe\">\n",
       "  <thead>\n",
       "    <tr style=\"text-align: right;\">\n",
       "      <th></th>\n",
       "      <th>text</th>\n",
       "      <th>label</th>\n",
       "    </tr>\n",
       "  </thead>\n",
       "  <tbody>\n",
       "    <tr>\n",
       "      <th>0</th>\n",
       "      <td>DEAR SIR, STRICTLY A PRIVATE BUSINESS PROPOSAL...</td>\n",
       "      <td>1</td>\n",
       "    </tr>\n",
       "    <tr>\n",
       "      <th>1</th>\n",
       "      <td>Will do.</td>\n",
       "      <td>0</td>\n",
       "    </tr>\n",
       "    <tr>\n",
       "      <th>2</th>\n",
       "      <td>Nora--Cheryl has emailed dozens of memos about...</td>\n",
       "      <td>0</td>\n",
       "    </tr>\n",
       "    <tr>\n",
       "      <th>3</th>\n",
       "      <td>Dear Sir=2FMadam=2C I know that this proposal ...</td>\n",
       "      <td>1</td>\n",
       "    </tr>\n",
       "    <tr>\n",
       "      <th>4</th>\n",
       "      <td>fyi</td>\n",
       "      <td>0</td>\n",
       "    </tr>\n",
       "    <tr>\n",
       "      <th>...</th>\n",
       "      <td>...</td>\n",
       "      <td>...</td>\n",
       "    </tr>\n",
       "    <tr>\n",
       "      <th>795</th>\n",
       "      <td>Overall the speech is worth reading; if you li...</td>\n",
       "      <td>0</td>\n",
       "    </tr>\n",
       "    <tr>\n",
       "      <th>796</th>\n",
       "      <td>Call Sheet.docHrc - did jake or anyone discuss...</td>\n",
       "      <td>0</td>\n",
       "    </tr>\n",
       "    <tr>\n",
       "      <th>797</th>\n",
       "      <td>newmyer on behalf of Jackie NewmyerTuesday Sep...</td>\n",
       "      <td>0</td>\n",
       "    </tr>\n",
       "    <tr>\n",
       "      <th>798</th>\n",
       "      <td>Yes we will. Thank you Courtney</td>\n",
       "      <td>0</td>\n",
       "    </tr>\n",
       "    <tr>\n",
       "      <th>799</th>\n",
       "      <td>Good day,It is my humble pleasure to write thi...</td>\n",
       "      <td>1</td>\n",
       "    </tr>\n",
       "  </tbody>\n",
       "</table>\n",
       "<p>800 rows × 2 columns</p>\n",
       "</div>"
      ],
      "text/plain": [
       "                                                  text  label\n",
       "0    DEAR SIR, STRICTLY A PRIVATE BUSINESS PROPOSAL...      1\n",
       "1                                             Will do.      0\n",
       "2    Nora--Cheryl has emailed dozens of memos about...      0\n",
       "3    Dear Sir=2FMadam=2C I know that this proposal ...      1\n",
       "4                                                  fyi      0\n",
       "..                                                 ...    ...\n",
       "795  Overall the speech is worth reading; if you li...      0\n",
       "796  Call Sheet.docHrc - did jake or anyone discuss...      0\n",
       "797  newmyer on behalf of Jackie NewmyerTuesday Sep...      0\n",
       "798                    Yes we will. Thank you Courtney      0\n",
       "799  Good day,It is my humble pleasure to write thi...      1\n",
       "\n",
       "[800 rows x 2 columns]"
      ]
     },
     "execution_count": 41,
     "metadata": {},
     "output_type": "execute_result"
    }
   ],
   "source": [
    "train"
   ]
  },
  {
   "cell_type": "markdown",
   "metadata": {},
   "source": [
    "- Remove all the special characters\n",
    "    \n",
    "- Remove numbers\n",
    "    \n",
    "- Remove all single characters\n",
    " \n",
    "- Remove single characters from the start\n",
    "\n",
    "- Substitute multiple spaces with single space\n",
    "\n",
    "- Remove prefixed 'b'\n",
    "\n",
    "- Convert to Lowercase"
   ]
  },
  {
   "cell_type": "code",
   "execution_count": 42,
   "metadata": {},
   "outputs": [
    {
     "name": "stderr",
     "output_type": "stream",
     "text": [
      "C:\\Users\\nicol\\AppData\\Local\\Temp\\ipykernel_1728\\3114994058.py:2: SettingWithCopyWarning: \n",
      "A value is trying to be set on a copy of a slice from a DataFrame.\n",
      "Try using .loc[row_indexer,col_indexer] = value instead\n",
      "\n",
      "See the caveats in the documentation: https://pandas.pydata.org/pandas-docs/stable/user_guide/indexing.html#returning-a-view-versus-a-copy\n",
      "  train['text'] = train['text'].apply(lambda x: x.lower())\n",
      "C:\\Users\\nicol\\AppData\\Local\\Temp\\ipykernel_1728\\3114994058.py:5: SettingWithCopyWarning: \n",
      "A value is trying to be set on a copy of a slice from a DataFrame.\n",
      "Try using .loc[row_indexer,col_indexer] = value instead\n",
      "\n",
      "See the caveats in the documentation: https://pandas.pydata.org/pandas-docs/stable/user_guide/indexing.html#returning-a-view-versus-a-copy\n",
      "  train['text'] = train['text'].apply(lambda x: re.sub(r\"b['|\\\"](.*?)['|\\\"]\", r'\\1', x))\n",
      "C:\\Users\\nicol\\AppData\\Local\\Temp\\ipykernel_1728\\3114994058.py:6: SettingWithCopyWarning: \n",
      "A value is trying to be set on a copy of a slice from a DataFrame.\n",
      "Try using .loc[row_indexer,col_indexer] = value instead\n",
      "\n",
      "See the caveats in the documentation: https://pandas.pydata.org/pandas-docs/stable/user_guide/indexing.html#returning-a-view-versus-a-copy\n",
      "  train['text'] = train['text'].apply(lambda x: x.lstrip('b')) # Remove 'b' at the very start if not part of b'' or b\"\"\n",
      "C:\\Users\\nicol\\AppData\\Local\\Temp\\ipykernel_1728\\3114994058.py:9: SettingWithCopyWarning: \n",
      "A value is trying to be set on a copy of a slice from a DataFrame.\n",
      "Try using .loc[row_indexer,col_indexer] = value instead\n",
      "\n",
      "See the caveats in the documentation: https://pandas.pydata.org/pandas-docs/stable/user_guide/indexing.html#returning-a-view-versus-a-copy\n",
      "  train['text'] = train['text'].apply(lambda x: re.sub(f'[{re.escape(string.punctuation)}]', '', x))\n",
      "C:\\Users\\nicol\\AppData\\Local\\Temp\\ipykernel_1728\\3114994058.py:12: SettingWithCopyWarning: \n",
      "A value is trying to be set on a copy of a slice from a DataFrame.\n",
      "Try using .loc[row_indexer,col_indexer] = value instead\n",
      "\n",
      "See the caveats in the documentation: https://pandas.pydata.org/pandas-docs/stable/user_guide/indexing.html#returning-a-view-versus-a-copy\n",
      "  train['text'] = train['text'].apply(lambda x: re.sub(r'\\d+', '', x))\n",
      "C:\\Users\\nicol\\AppData\\Local\\Temp\\ipykernel_1728\\3114994058.py:15: SettingWithCopyWarning: \n",
      "A value is trying to be set on a copy of a slice from a DataFrame.\n",
      "Try using .loc[row_indexer,col_indexer] = value instead\n",
      "\n",
      "See the caveats in the documentation: https://pandas.pydata.org/pandas-docs/stable/user_guide/indexing.html#returning-a-view-versus-a-copy\n",
      "  train['text'] = train['text'].apply(lambda x: re.sub(r'\\s+', ' ', x).strip())\n",
      "C:\\Users\\nicol\\AppData\\Local\\Temp\\ipykernel_1728\\3114994058.py:19: SettingWithCopyWarning: \n",
      "A value is trying to be set on a copy of a slice from a DataFrame.\n",
      "Try using .loc[row_indexer,col_indexer] = value instead\n",
      "\n",
      "See the caveats in the documentation: https://pandas.pydata.org/pandas-docs/stable/user_guide/indexing.html#returning-a-view-versus-a-copy\n",
      "  train['text'] = train['text'].apply(lambda x: ' '.join([word for word in x.split() if len(word) > 1]))\n",
      "C:\\Users\\nicol\\AppData\\Local\\Temp\\ipykernel_1728\\3114994058.py:22: SettingWithCopyWarning: \n",
      "A value is trying to be set on a copy of a slice from a DataFrame.\n",
      "Try using .loc[row_indexer,col_indexer] = value instead\n",
      "\n",
      "See the caveats in the documentation: https://pandas.pydata.org/pandas-docs/stable/user_guide/indexing.html#returning-a-view-versus-a-copy\n",
      "  train['text'] = train['text'].apply(lambda x: re.sub(r'^\\S\\s', '', x)) # Matches single non-space char at start followed by space\n"
     ]
    }
   ],
   "source": [
    "# Convert to Lowercase (doing this first for consistency in other regexes)\n",
    "train['text'] = train['text'].apply(lambda x: x.lower())\n",
    "\n",
    "# Remove prefixed 'b' (e.g., b'text' or \"b'text\") - common in some data sources\n",
    "train['text'] = train['text'].apply(lambda x: re.sub(r\"b['|\\\"](.*?)['|\\\"]\", r'\\1', x))\n",
    "train['text'] = train['text'].apply(lambda x: x.lstrip('b')) # Remove 'b' at the very start if not part of b'' or b\"\"\n",
    "\n",
    "# Remove all special characters (keep spaces for now)\n",
    "train['text'] = train['text'].apply(lambda x: re.sub(f'[{re.escape(string.punctuation)}]', '', x))\n",
    "\n",
    "# Remove numbers\n",
    "train['text'] = train['text'].apply(lambda x: re.sub(r'\\d+', '', x))\n",
    "\n",
    "# Substitute multiple spaces with single space (doing this before single char removal for better results)\n",
    "train['text'] = train['text'].apply(lambda x: re.sub(r'\\s+', ' ', x).strip())\n",
    "\n",
    "# Remove all single characters (e.g., 'a', 'b', 'c' that are stand-alone words)\n",
    "# This includes single characters from the start, middle, or end if they are isolated words\n",
    "train['text'] = train['text'].apply(lambda x: ' '.join([word for word in x.split() if len(word) > 1]))\n",
    "\n",
    "# Remove single characters from the start (if any survived, though previous step should cover most)\n",
    "train['text'] = train['text'].apply(lambda x: re.sub(r'^\\S\\s', '', x)) # Matches single non-space char at start followed by space"
   ]
  },
  {
   "cell_type": "markdown",
   "metadata": {
    "slideshow": {
     "slide_type": "-"
    }
   },
   "source": [
    "## Now let's work on removing stopwords\n",
    "Remove the stopwords."
   ]
  },
  {
   "cell_type": "code",
   "execution_count": 43,
   "metadata": {},
   "outputs": [
    {
     "name": "stderr",
     "output_type": "stream",
     "text": [
      "C:\\Users\\nicol\\AppData\\Local\\Temp\\ipykernel_1728\\723668470.py:2: SettingWithCopyWarning: \n",
      "A value is trying to be set on a copy of a slice from a DataFrame.\n",
      "Try using .loc[row_indexer,col_indexer] = value instead\n",
      "\n",
      "See the caveats in the documentation: https://pandas.pydata.org/pandas-docs/stable/user_guide/indexing.html#returning-a-view-versus-a-copy\n",
      "  train['text'] = train['text'].apply(lambda text: ' '.join([\n"
     ]
    }
   ],
   "source": [
    "stop_words = set(stopwords.words('english'))\n",
    "train['text'] = train['text'].apply(lambda text: ' '.join([\n",
    "    word for word in text.split() if word not in stop_words\n",
    "]))"
   ]
  },
  {
   "cell_type": "markdown",
   "metadata": {},
   "source": [
    "## Tame Your Text with Lemmatization\n",
    "Break sentences into words, then use lemmatization to reduce them to their base form (e.g., \"running\" becomes \"run\"). See how this creates cleaner data for analysis!"
   ]
  },
  {
   "cell_type": "code",
   "execution_count": 44,
   "metadata": {},
   "outputs": [
    {
     "name": "stderr",
     "output_type": "stream",
     "text": [
      "C:\\Users\\nicol\\AppData\\Local\\Temp\\ipykernel_1728\\1438717788.py:2: SettingWithCopyWarning: \n",
      "A value is trying to be set on a copy of a slice from a DataFrame.\n",
      "Try using .loc[row_indexer,col_indexer] = value instead\n",
      "\n",
      "See the caveats in the documentation: https://pandas.pydata.org/pandas-docs/stable/user_guide/indexing.html#returning-a-view-versus-a-copy\n",
      "  train['text'] = train['text'].apply(lambda text: ' '.join([lemmatizer.lemmatize(word) for word in word_tokenize(text)]))\n"
     ]
    }
   ],
   "source": [
    "lemmatizer = WordNetLemmatizer()\n",
    "train['text'] = train['text'].apply(lambda text: ' '.join([lemmatizer.lemmatize(word) for word in word_tokenize(text)]))"
   ]
  },
  {
   "cell_type": "markdown",
   "metadata": {},
   "source": [
    "## Bag Of Words\n",
    "Let's get the 10 top words in ham and spam messages (**EXPLORATORY DATA ANALYSIS**)"
   ]
  },
  {
   "cell_type": "code",
   "execution_count": 45,
   "metadata": {},
   "outputs": [
    {
     "name": "stdout",
     "output_type": "stream",
     "text": [
      "Top 10 words in ham messages:\n",
      "would        96\n",
      "u            94\n",
      "pm           88\n",
      "president    84\n",
      "state        81\n",
      "call         75\n",
      "time         71\n",
      "mr           66\n",
      "one          61\n",
      "obama        56\n",
      "Name: count, dtype: int64\n",
      "\n",
      "Top 10 words in spam messages:\n",
      "money          748\n",
      "account        656\n",
      "bank           638\n",
      "fund           553\n",
      "u              459\n",
      "business       385\n",
      "transaction    340\n",
      "transfer       325\n",
      "country        319\n",
      "million        311\n",
      "Name: count, dtype: int64\n"
     ]
    }
   ],
   "source": [
    "top_n = 10\n",
    "\n",
    "# Top 10 words in ham messages\n",
    "ham_words = ' '.join(train[train['label'] == 0]['text']).split()\n",
    "ham_top = pd.Series(ham_words).value_counts().head(top_n)\n",
    "print(\"Top 10 words in ham messages:\")\n",
    "print(ham_top)\n",
    "\n",
    "# Top 10 words in spam messages\n",
    "spam_words = ' '.join(train[train['label'] ==1]['text']).split()\n",
    "spam_top = pd.Series(spam_words).value_counts().head(top_n)\n",
    "print(\"\\nTop 10 words in spam messages:\")\n",
    "print(spam_top)"
   ]
  },
  {
   "cell_type": "markdown",
   "metadata": {},
   "source": [
    "## Extra features"
   ]
  },
  {
   "cell_type": "code",
   "execution_count": 46,
   "metadata": {},
   "outputs": [
    {
     "name": "stderr",
     "output_type": "stream",
     "text": [
      "C:\\Users\\nicol\\AppData\\Local\\Temp\\ipykernel_1728\\3284025728.py:5: SettingWithCopyWarning: \n",
      "A value is trying to be set on a copy of a slice from a DataFrame.\n",
      "Try using .loc[row_indexer,col_indexer] = value instead\n",
      "\n",
      "See the caveats in the documentation: https://pandas.pydata.org/pandas-docs/stable/user_guide/indexing.html#returning-a-view-versus-a-copy\n",
      "  train['money_mark'] = train['text'].str.contains(money_simbol_list)*1\n",
      "C:\\Users\\nicol\\AppData\\Local\\Temp\\ipykernel_1728\\3284025728.py:6: SettingWithCopyWarning: \n",
      "A value is trying to be set on a copy of a slice from a DataFrame.\n",
      "Try using .loc[row_indexer,col_indexer] = value instead\n",
      "\n",
      "See the caveats in the documentation: https://pandas.pydata.org/pandas-docs/stable/user_guide/indexing.html#returning-a-view-versus-a-copy\n",
      "  train['suspicious_words'] = train['text'].str.contains(suspicious_words)*1\n",
      "C:\\Users\\nicol\\AppData\\Local\\Temp\\ipykernel_1728\\3284025728.py:7: SettingWithCopyWarning: \n",
      "A value is trying to be set on a copy of a slice from a DataFrame.\n",
      "Try using .loc[row_indexer,col_indexer] = value instead\n",
      "\n",
      "See the caveats in the documentation: https://pandas.pydata.org/pandas-docs/stable/user_guide/indexing.html#returning-a-view-versus-a-copy\n",
      "  train['text_len'] = train['text'].apply(lambda x: len(x))\n",
      "C:\\Users\\nicol\\AppData\\Local\\Temp\\ipykernel_1728\\3284025728.py:9: SettingWithCopyWarning: \n",
      "A value is trying to be set on a copy of a slice from a DataFrame.\n",
      "Try using .loc[row_indexer,col_indexer] = value instead\n",
      "\n",
      "See the caveats in the documentation: https://pandas.pydata.org/pandas-docs/stable/user_guide/indexing.html#returning-a-view-versus-a-copy\n",
      "  test['money_mark'] = test['text'].str.contains(money_simbol_list)*1\n",
      "C:\\Users\\nicol\\AppData\\Local\\Temp\\ipykernel_1728\\3284025728.py:10: SettingWithCopyWarning: \n",
      "A value is trying to be set on a copy of a slice from a DataFrame.\n",
      "Try using .loc[row_indexer,col_indexer] = value instead\n",
      "\n",
      "See the caveats in the documentation: https://pandas.pydata.org/pandas-docs/stable/user_guide/indexing.html#returning-a-view-versus-a-copy\n",
      "  test['suspicious_words'] = test['text'].str.contains(suspicious_words)*1\n",
      "C:\\Users\\nicol\\AppData\\Local\\Temp\\ipykernel_1728\\3284025728.py:11: SettingWithCopyWarning: \n",
      "A value is trying to be set on a copy of a slice from a DataFrame.\n",
      "Try using .loc[row_indexer,col_indexer] = value instead\n",
      "\n",
      "See the caveats in the documentation: https://pandas.pydata.org/pandas-docs/stable/user_guide/indexing.html#returning-a-view-versus-a-copy\n",
      "  test['text_len'] = test['text'].apply(lambda x: len(x))\n"
     ]
    },
    {
     "data": {
      "application/vnd.microsoft.datawrangler.viewer.v0+json": {
       "columns": [
        {
         "name": "index",
         "rawType": "int64",
         "type": "integer"
        },
        {
         "name": "text",
         "rawType": "object",
         "type": "string"
        },
        {
         "name": "label",
         "rawType": "int64",
         "type": "integer"
        },
        {
         "name": "money_mark",
         "rawType": "int32",
         "type": "integer"
        },
        {
         "name": "suspicious_words",
         "rawType": "int32",
         "type": "integer"
        },
        {
         "name": "text_len",
         "rawType": "int64",
         "type": "integer"
        }
       ],
       "ref": "663fa802-593f-4ef5-8c81-25bfc4a31c23",
       "rows": [
        [
         "0",
         "dear sir strictly private business proposal mike chukwu manager bill exchange foreign remittance department zenith international bank plc writing letter ask support cooperation carry business opportunity department discovered abandoned sum fifteen million united state dollar account belongs one foreign customer died along entire family wife two child november plane crash since heard death expecting nextofkin come put claim money heirbecause can not release fund account unless someone applies claim nextofkin deceased indicated banking guideline unfortunately neither family member distant relative ever appeared claim said fund upon discoveryi official department agreed make business release total amount account heir fund since one came discovered maintained account bank otherwise fund returned bank treasury unclaimed fund agreed ratio sharing stated thus foreign partner u official department settlement local foreign expences incurred u course business upon successful completion transfer one colleague come country mind share intend import agricultural machinery country way recycling fund commence transaction require immediately indicate interest return email enclose private contact telephone number fax number full name address designated bank coordinate enable u file letter claim appropriate department necessary approval transfer made note also transaction must kept strictly confidential nature look forward receiving prompt response regard mr mike chukwu zenith international bank plc",
         "1",
         "1",
         "1",
         "1505"
        ],
        [
         "1",
         "",
         "0",
         "0",
         "0",
         "0"
        ],
        [
         "2",
         "noracheryl emailed dozen memo haiti weekend please print organize inchrono order trip tomorrow send lauren thx",
         "0",
         "0",
         "0",
         "110"
        ],
        [
         "3",
         "dear sirfmadamc know proposal might surprise emergencyein nutshellc mrepe zumac republic southafricac seeking refuge dakar senegal theunhcre got contact desperate search dakar possible transactione late father dre zuma kent williamsc managing director gold mine company south africae assinated business assoicate property totally destroyed elder brothere alway hate see mother eyesc man wicked mother managed escape father document covering million dollar presently deposited safely finance firm name next kine meanwhilecwe saddled problem securing trustworthy foriegn personality help u transfer money country possession pending arrival meet hime furthermorecwe want done way country politically stable profitable investment accept proposalc serve beneficiary fund commencement proposed transactionse giving offer mentioned every confidence acceptance assist usc decided invest total fund based equity participation companye secondlyc shall also take miscelleneous expense may occuree conclusivelyc wish send reply immediately soon yourecieve proposal shall arrange lift consignment dakar senegal countrye commencementcthis transaction take nothing less working day accomplishede document covering fund safe intacte remain best regardse please kindly responce alternative email pfzumawallaecom please call urgently speak mother direct telephone number thanks yoursc mr prince zumae",
         "1",
         "1",
         "1",
         "1382"
        ],
        [
         "4",
         "fyi",
         "0",
         "0",
         "0",
         "3"
        ]
       ],
       "shape": {
        "columns": 5,
        "rows": 5
       }
      },
      "text/html": [
       "<div>\n",
       "<style scoped>\n",
       "    .dataframe tbody tr th:only-of-type {\n",
       "        vertical-align: middle;\n",
       "    }\n",
       "\n",
       "    .dataframe tbody tr th {\n",
       "        vertical-align: top;\n",
       "    }\n",
       "\n",
       "    .dataframe thead th {\n",
       "        text-align: right;\n",
       "    }\n",
       "</style>\n",
       "<table border=\"1\" class=\"dataframe\">\n",
       "  <thead>\n",
       "    <tr style=\"text-align: right;\">\n",
       "      <th></th>\n",
       "      <th>text</th>\n",
       "      <th>label</th>\n",
       "      <th>money_mark</th>\n",
       "      <th>suspicious_words</th>\n",
       "      <th>text_len</th>\n",
       "    </tr>\n",
       "  </thead>\n",
       "  <tbody>\n",
       "    <tr>\n",
       "      <th>0</th>\n",
       "      <td>dear sir strictly private business proposal mi...</td>\n",
       "      <td>1</td>\n",
       "      <td>1</td>\n",
       "      <td>1</td>\n",
       "      <td>1505</td>\n",
       "    </tr>\n",
       "    <tr>\n",
       "      <th>1</th>\n",
       "      <td></td>\n",
       "      <td>0</td>\n",
       "      <td>0</td>\n",
       "      <td>0</td>\n",
       "      <td>0</td>\n",
       "    </tr>\n",
       "    <tr>\n",
       "      <th>2</th>\n",
       "      <td>noracheryl emailed dozen memo haiti weekend pl...</td>\n",
       "      <td>0</td>\n",
       "      <td>0</td>\n",
       "      <td>0</td>\n",
       "      <td>110</td>\n",
       "    </tr>\n",
       "    <tr>\n",
       "      <th>3</th>\n",
       "      <td>dear sirfmadamc know proposal might surprise e...</td>\n",
       "      <td>1</td>\n",
       "      <td>1</td>\n",
       "      <td>1</td>\n",
       "      <td>1382</td>\n",
       "    </tr>\n",
       "    <tr>\n",
       "      <th>4</th>\n",
       "      <td>fyi</td>\n",
       "      <td>0</td>\n",
       "      <td>0</td>\n",
       "      <td>0</td>\n",
       "      <td>3</td>\n",
       "    </tr>\n",
       "  </tbody>\n",
       "</table>\n",
       "</div>"
      ],
      "text/plain": [
       "                                                text  label  money_mark  \\\n",
       "0  dear sir strictly private business proposal mi...      1           1   \n",
       "1                                                         0           0   \n",
       "2  noracheryl emailed dozen memo haiti weekend pl...      0           0   \n",
       "3  dear sirfmadamc know proposal might surprise e...      1           1   \n",
       "4                                                fyi      0           0   \n",
       "\n",
       "   suspicious_words  text_len  \n",
       "0                 1      1505  \n",
       "1                 0         0  \n",
       "2                 0       110  \n",
       "3                 1      1382  \n",
       "4                 0         3  "
      ]
     },
     "execution_count": 46,
     "metadata": {},
     "output_type": "execute_result"
    }
   ],
   "source": [
    "# We add to the original dataframe two additional indicators (money symbols and suspicious words).\n",
    "money_simbol_list = \"|\".join([\"euro\",\"dollar\",\"pound\",\"€\",r\"\\$\"])\n",
    "suspicious_words = \"|\".join([\"free\",\"cheap\",\"sex\",\"money\",\"account\",\"bank\",\"fund\",\"transfer\",\"transaction\",\"win\",\"deposit\",\"password\"])\n",
    "\n",
    "train['money_mark'] = train['text'].str.contains(money_simbol_list)*1\n",
    "train['suspicious_words'] = train['text'].str.contains(suspicious_words)*1\n",
    "train['text_len'] = train['text'].apply(lambda x: len(x)) \n",
    "\n",
    "test['money_mark'] = test['text'].str.contains(money_simbol_list)*1\n",
    "test['suspicious_words'] = test['text'].str.contains(suspicious_words)*1\n",
    "test['text_len'] = test['text'].apply(lambda x: len(x)) \n",
    "\n",
    "train.head()"
   ]
  },
  {
   "cell_type": "code",
   "execution_count": 47,
   "metadata": {},
   "outputs": [
    {
     "name": "stdout",
     "output_type": "stream",
     "text": [
      "Original row 1: Will do.\n",
      "Processed row 1: \n"
     ]
    }
   ],
   "source": [
    "print(\"Original row 1:\", data.iloc[1]['text'])\n",
    "print(\"Processed row 1:\", train.iloc[1]['text'])"
   ]
  },
  {
   "cell_type": "code",
   "execution_count": 48,
   "metadata": {},
   "outputs": [],
   "source": [
    "train = train[train['text'].str.strip() != \"\"]"
   ]
  },
  {
   "cell_type": "markdown",
   "metadata": {},
   "source": [
    "## How would work the Bag of Words with Count Vectorizer concept?"
   ]
  },
  {
   "cell_type": "code",
   "execution_count": 49,
   "metadata": {},
   "outputs": [],
   "source": [
    "emails_text = train[\"text\"].tolist()\n",
    "\n",
    "bow_vectorizer = CountVectorizer()\n",
    "X_bow = bow_vectorizer.fit_transform(emails_text)"
   ]
  },
  {
   "cell_type": "markdown",
   "metadata": {},
   "source": [
    "## TF-IDF\n",
    "\n",
    "- Load the vectorizer\n",
    "\n",
    "- Vectorize all dataset\n",
    "\n",
    "- print the shape of the vetorized dataset"
   ]
  },
  {
   "cell_type": "code",
   "execution_count": 50,
   "metadata": {},
   "outputs": [
    {
     "name": "stdout",
     "output_type": "stream",
     "text": [
      "Vocabulary size (BoW): 16438\n",
      "Vocabulary size (TF-IDF): 16438\n",
      "Sample vocabulary (first 10): ['aac', 'aaclocated', 'aae', 'aaronovitchon', 'abacha', 'abachabefore', 'abachac', 'abachace', 'abachaco', 'abachacthe']\n"
     ]
    }
   ],
   "source": [
    "tfidf_vectorizer = TfidfVectorizer()\n",
    "X_tfidf = tfidf_vectorizer.fit_transform(emails_text)\n",
    "\n",
    "print(f\"Vocabulary size (BoW): {len(bow_vectorizer.get_feature_names_out())}\")\n",
    "print(f\"Vocabulary size (TF-IDF): {len(tfidf_vectorizer.get_feature_names_out())}\")\n",
    "print(f\"Sample vocabulary (first 10): {list(bow_vectorizer.get_feature_names_out()[:10])}\")"
   ]
  },
  {
   "cell_type": "markdown",
   "metadata": {},
   "source": [
    "## And the Train a Classifier?"
   ]
  },
  {
   "cell_type": "code",
   "execution_count": 51,
   "metadata": {},
   "outputs": [
    {
     "name": "stdout",
     "output_type": "stream",
     "text": [
      "Training accuracy: 0.9720101781170484\n"
     ]
    }
   ],
   "source": [
    "#from sklearn.ensemble import RandomForestClassifier\n",
    "from sklearn.naive_bayes import MultinomialNB\n",
    "from sklearn.metrics import accuracy_score\n",
    "\n",
    "# X_bow is your Bag of Words features, train['label'] is your target\n",
    "y_train = train['label']\n",
    "\n",
    "# Train RandomForest\n",
    "#rf = RandomForestClassifier(random_state=42)\n",
    "nb_bow = MultinomialNB()\n",
    "#rf.fit(X_bow, y_train)\n",
    "nb_bow.fit(X_bow, y_train)\n",
    "\n",
    "# Predict on training data (for demonstration)\n",
    "#y_pred = rf.predict(X_bow)\n",
    "y_pred = nb_bow.predict(X_bow)\n",
    "print(\"Training accuracy:\", accuracy_score(y_train, y_pred))"
   ]
  },
  {
   "cell_type": "code",
   "execution_count": 52,
   "metadata": {},
   "outputs": [
    {
     "name": "stdout",
     "output_type": "stream",
     "text": [
      "Test accuracy: 0.905\n"
     ]
    }
   ],
   "source": [
    "test = test[test['text'].str.strip() != \"\"]\n",
    "\n",
    "# Transform test set using the same vectorizer\n",
    "X_test_bow = bow_vectorizer.transform(test['text'].tolist())\n",
    "\n",
    "# Predict and evaluate\n",
    "y_test = test['label']\n",
    "y_test_pred = nb_bow.predict(X_test_bow)\n",
    "print(\"Test accuracy:\", accuracy_score(y_test, y_test_pred))"
   ]
  },
  {
   "cell_type": "markdown",
   "metadata": {},
   "source": [
    "### Extra Task - Implement a SPAM/HAM classifier\n",
    "\n",
    "https://www.kaggle.com/t/b384e34013d54d238490103bc3c360ce\n",
    "\n",
    "The classifier can not be changed!!! It must be the MultinimialNB with default parameters!\n",
    "\n",
    "Your task is to **find the most relevant features**.\n",
    "\n",
    "For example, you can test the following options and check which of them performs better:\n",
    "- Using \"Bag of Words\" only\n",
    "- Using \"TF-IDF\" only\n",
    "- Bag of Words + extra flags (money_mark, suspicious_words, text_len)\n",
    "- TF-IDF + extra flags\n",
    "\n",
    "\n",
    "You can work with teams of two persons (recommended)."
   ]
  },
  {
   "cell_type": "code",
   "execution_count": 53,
   "metadata": {},
   "outputs": [
    {
     "name": "stdout",
     "output_type": "stream",
     "text": [
      "Bag of Words only - Test accuracy: 0.905\n",
      "TF-IDF only - Test accuracy: 0.94\n",
      "Bag of Words + extra flags - Test accuracy: 0.87\n",
      "TF-IDF + extra flags - Test accuracy: 0.6\n"
     ]
    }
   ],
   "source": [
    "\n",
    "from scipy.sparse import hstack\n",
    "\n",
    "# 1. Bag of Words only\n",
    "nb_bow.fit(X_bow, y_train)\n",
    "y_pred_bow = nb_bow.predict(X_test_bow)\n",
    "print(\"Bag of Words only - Test accuracy:\", accuracy_score(y_test, y_pred_bow))\n",
    "\n",
    "# 2. TF-IDF only\n",
    "X_test_tfidf = tfidf_vectorizer.transform(test['text'].tolist())\n",
    "nb_tfidf = MultinomialNB()\n",
    "nb_tfidf.fit(X_tfidf, y_train)\n",
    "y_pred_tfidf = nb_tfidf.predict(X_test_tfidf)\n",
    "print(\"TF-IDF only - Test accuracy:\", accuracy_score(y_test, y_pred_tfidf))\n",
    "\n",
    "# 3. Bag of Words + extra flags\n",
    "extra_train = train[['money_mark', 'suspicious_words', 'text_len']].values\n",
    "extra_test = test[['money_mark', 'suspicious_words', 'text_len']].values\n",
    "X_bow_extra = hstack([X_bow, extra_train])\n",
    "X_test_bow_extra = hstack([X_test_bow, extra_test])\n",
    "nb_bow_extra = MultinomialNB()\n",
    "nb_bow_extra.fit(X_bow_extra, y_train)\n",
    "y_pred_bow_extra = nb_bow_extra.predict(X_test_bow_extra)\n",
    "print(\"Bag of Words + extra flags - Test accuracy:\", accuracy_score(y_test, y_pred_bow_extra))\n",
    "\n",
    "# 4. TF-IDF + extra flags\n",
    "X_tfidf_extra = hstack([X_tfidf, extra_train])\n",
    "X_test_tfidf_extra = hstack([X_test_tfidf, extra_test])\n",
    "nb_tfidf_extra = MultinomialNB()\n",
    "nb_tfidf_extra.fit(X_tfidf_extra, y_train)\n",
    "y_pred_tfidf_extra = nb_tfidf_extra.predict(X_test_tfidf_extra)\n",
    "print(\"TF-IDF + extra flags - Test accuracy:\", accuracy_score(y_test, y_pred_tfidf_extra))"
   ]
  }
 ],
 "metadata": {
  "celltoolbar": "Slideshow",
  "kernelspec": {
   "display_name": "Python 3",
   "language": "python",
   "name": "python3"
  },
  "language_info": {
   "codemirror_mode": {
    "name": "ipython",
    "version": 3
   },
   "file_extension": ".py",
   "mimetype": "text/x-python",
   "name": "python",
   "nbconvert_exporter": "python",
   "pygments_lexer": "ipython3",
   "version": "3.12.4"
  }
 },
 "nbformat": 4,
 "nbformat_minor": 2
}
