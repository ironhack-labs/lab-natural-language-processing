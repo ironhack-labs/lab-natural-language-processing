{
 "cells": [
  {
   "cell_type": "code",
   "execution_count": 374,
   "metadata": {},
   "outputs": [
    {
     "name": "stderr",
     "output_type": "stream",
     "text": [
      "C:\\Users\\Acer\\AppData\\Local\\Temp\\ipykernel_188832\\3777615979.py:1: DeprecationWarning: Importing display from IPython.core.display is deprecated since IPython 7.14, please import from IPython.display\n",
      "  from IPython.core.display import display, HTML\n"
     ]
    },
    {
     "data": {
      "text/html": [
       "<style>.container { width:100% !important; }</style>"
      ],
      "text/plain": [
       "<IPython.core.display.HTML object>"
      ]
     },
     "metadata": {},
     "output_type": "display_data"
    }
   ],
   "source": [
    "from IPython.core.display import display, HTML\n",
    "display(HTML(\"<style>.container { width:100% !important; }</style>\"))"
   ]
  },
  {
   "cell_type": "markdown",
   "metadata": {},
   "source": [
    "# Lab | Natural Language Processing\n",
    "### SMS: SPAM or HAM"
   ]
  },
  {
   "cell_type": "markdown",
   "metadata": {},
   "source": [
    "### Let's prepare the environment"
   ]
  },
  {
   "cell_type": "code",
   "execution_count": 375,
   "metadata": {},
   "outputs": [],
   "source": [
    "import pandas as pd\n",
    "import matplotlib.pyplot as plt\n",
    "from sklearn.feature_extraction.text import TfidfVectorizer"
   ]
  },
  {
   "cell_type": "markdown",
   "metadata": {},
   "source": [
    "- Read Data for the Fraudulent Email Kaggle Challenge\n",
    "- Reduce the training set to speead up development. "
   ]
  },
  {
   "cell_type": "code",
   "execution_count": 376,
   "metadata": {},
   "outputs": [
    {
     "name": "stdout",
     "output_type": "stream",
     "text": [
      "(1000, 2)\n"
     ]
    }
   ],
   "source": [
    "## Read Data for the Fraudulent Email Kaggle Challenge\n",
    "data = pd.read_csv(\"./kg_train.csv\",encoding='latin-1')\n",
    "\n",
    "# Reduce the training set to speed up development. \n",
    "# Modify for final system\n",
    "data = data.head(1000)\n",
    "print(data.shape)\n",
    "data.fillna(\"\",inplace=True)"
   ]
  },
  {
   "cell_type": "markdown",
   "metadata": {},
   "source": [
    "### Let's divide the training and test set into two partitions"
   ]
  },
  {
   "cell_type": "code",
   "execution_count": 377,
   "metadata": {},
   "outputs": [],
   "source": [
    "# Your code\n",
    "from sklearn.model_selection import train_test_split\n",
    "\n",
    "X = data.iloc[:, 0]  # Text messages\n",
    "y = data.iloc[:, 1]  # Labels (spam/ham)\n",
    "\n",
    "# Split the data: 80% training, 20% validation (during development)\n",
    "X_train, X_test, y_train, y_test = train_test_split(X, y, test_size=0.2, random_state=23)"
   ]
  },
  {
   "cell_type": "code",
   "execution_count": 378,
   "metadata": {},
   "outputs": [
    {
     "data": {
      "application/vnd.microsoft.datawrangler.viewer.v0+json": {
       "columns": [
        {
         "name": "index",
         "rawType": "int64",
         "type": "integer"
        },
        {
         "name": "text",
         "rawType": "object",
         "type": "string"
        }
       ],
       "ref": "1fe922d5-8538-4399-b812-f13e81e95c3b",
       "rows": [
        [
         "228",
         "Ok that's when I will go. Is that certain?"
        ],
        [
         "45",
         "H <hrod17@clintonemail.com>Wednesday October 7 2009 6:46 AM'stalbott'JilotyLC@state.gov'Re: Rose....Thx for passing on the feedback which I will share w her. Let's plan another catch up call. I'm copying my assistantLauren to try to schedule for us."
        ],
        [
         "373",
         "I'm on the way back."
        ],
        [
         "813",
         "MRS. MARIA SOCORROCREDIT ACCOUNTS OFFICERHEAD OFFICE EQUITABLE PCI BANK TWR.MKT AVENUE. COR.H.V DELA COSTA STRPHILIPPINES.Good Day,Let me start by introducing myself, I am MRS MARIA  SOCORRO, CREDIT ACCOUNTS OFFICER EQUITABLE PCI BANK. I am writing you this letter based on the latest development at my bank, which I will like to bring to your personal edification. I am writing you this letter with so much joy and excitement even though my heart goes out to the very powerfuland distinguished gentleman who I was fortunate to have worked for and extremely privileged to have known for numerous years.I am a top official in charge of client accounts in EQUITABLE PCI BANK inside the Philippines.In 2001, my client was going through a horrendous divorce in the United States Of America and Was on the verge of losing most of his estate to his vicious and diabolical wife. As a result of this alarming predicament, my client came to me with a very brilliant idea. He transferred some funds, ten million two hundred thousand dollars($10.2m) to a fixed deposit account in my bank under an alias which only the two of us knew about as the confidentiality of the matter was necessary for his protection.Due to his untimely death in early 2002, the funds have been sitting in the account ever since and will continue to do so perpetually unless we do something about it. This is where you come in. I located you through an agency that helps seek people by their email.My client did not declare any next of kin in his official papers including the paperwork of his bank deposit. Against this backdrop, my suggestion to you is that I would like you as a foreigner to stand as the next of kin to our client so that you will be able to receive his funds. I want you to know that I have had everything planned out so that we can come out successful.I have contacted an attorney that will prepare the necessary document that will back you up as the next of kin to my client. All that is required from you at this stage is for you to provide me with your Full "
        ],
        [
         "448",
         "FY1"
        ],
        [
         "826",
         "Absolutely. That's what you have a think tank for! On a related note while it may not be useful for Pakistan I think weshd find ways to work qddr briefings/discussions into our strategic dialogues w/ india and china to talk about how weare rethinking both diplomacy and development -- maybe also w/ South Africa. AM"
        ],
        [
         "626",
         "Brian--Thanks for the headsup on this. We are working to decide the most effective way forward and I'll keep you informed.We have some good ideas as to what our govt can do but we also want to see pressure from local people brought onthe British and Scottish govts.Can you and Bruce reach out to the community in London and Edinburgh to urge them to raise this w PM Brown andother govt officials? We'd like to see top down and bottom up pressure. Let me know what you think."
        ],
        [
         "915",
         "Dear Sir/Madame,  With due respect I like to disclose a mutual transaction to you. I am Donald =Duke, The Manager, International Diplomatic Cargo Services. We have consignment valued US$21,000,000.00 (Twenty-One Million United State =Dollars) in our custody, deposited by a customer from Congo Democratic =Republic (Zaire). Our computer data system currently shows that the beneficiary of the =deposited consignment died in an Air Crash early June 2003.Until date we have =not received any notification from his relatives for claiming of the =deposited consignment. Also the relatives have till the end of this =accounting year to lay claims or the consignment becomes the property of the =company. Now I want your assistance to move out this consignment in your name to your =country or any other country you deem fit for investment. As the manager of the  company I would take all measures to ensure the =consignment is successfully moved to your desired destination with your =maximum cooperation.If this proposal appeals to you, kindly give me your urgent response. As soon as  I receive your positive intention to assist me,  then I will =furnish you with details on the procedures for success of this our trustee =transaction. I would appreciate you keep it utmost secret because of my =position.  Best Regards, Donald Duke.   --b0f62fe8-f217-49fe-9185-ccb80b417813--"
        ],
        [
         "146",
         "Will print for you in am too"
        ],
        [
         "343",
         "I forgot to tell you- I fixed in your blackberry today. You had an outdated address for her."
        ],
        [
         "991",
         "8:25 am ARRIVE State Department8:25 am PRESIDENTIAL DAILY BRIEFING8:30 am Secretary's Office8:30 am DAILY SMALL STAFF MEETING8:45 am Secretary's Office8:45 am DAILY SENIOR STAFF MEETING9:15 am Secretary's Conference Room9:15 am PARTY FOR DAN SMITH9:30 am Treaty Room 7.Floor9:30 am WEEKLY MEETING w/UN AMBASSADOR SUSAN RICE10:00 am Secretary's Office10:15 am WORLD REFUGEE DAY EVENT10:25 am Benjamin Franklin Room eFloor *Approx. 200 ppl expected.10:45 am BILATERAL w/DANISH DPM/FM LENE ESPERSEN11:15 am Secretary's Conference Room *Official photo in East Hall preceding.11:15 am PRESS PRE-BRIEF11:20 am Secretary's Office11:20 am JOINT PRESS AVAILABILITY w/DANISH DPM/FM ESPERSEN11:35 am Treaty Room11:40 am OFFICE TIME12:00 pm Secretary's Office12:00 pm DEPART State Department *En route NFATC12:15 pm ARRIVE NFATC12:15 pm DEDICATION CEREMONY TO MARK THE EXPANSION OF1:00 pm FOREIGN SERVICE INSTITUTE/GEORGE P. SHULTZ CENTERNational Foreign Affairs Training Center *Approx. 500 ppl expected.1:05 pm DEPART NFATC *En route Washington National Airport1:20 pm ARRIVE Washington National Airport2:00 pm DEPART Washington National Airport*En route New York NY3:25 pm ARRIVE New York LaGuardia Airport3:35 pm DEPART New York LaGuardia Airport *En route Private Residence4:20 pm ARRIVE Private Residence"
        ],
        [
         "728",
         "Will do. Think we are in good shape. Immelt Indra and Huntsman making calls. Mark Penn and Terry very helpful."
        ],
        [
         "441",
         "Financial Adviser.121 Old ojo road,Pmb 224 Ikoyi,Lagos-Nigeria.Dear friend,THIS IS THE TRUE STORY OF THIS MATTERPlease my name is Jones Usman a financial adviser to David a national of your country.He was an oil merchant here in Nigeria. On the 21st 1997, my client, his wife and their three children were involved in a car accident along Ibadan Express road lagos. All occupants of the vehicle unfortunately lost their lives along with the driver.Since then I have made several enquiries in his Embassy to locate any of my client's extended relatives.After these several unsuccessful attempts,as a matter of fact,I decided to trace his relatives over the internet in order to locate any member of his family for a huge sum of fund deposited on his name in an offshore financial company overseas but that was to no avail, hence I decided within myself to contact you as his supposed relative since you are also a foreigner to avoid the offshore company from confiscating the deposit for theirs .Please, I want you to assist me in repatriating the money left behind by my client before they get confiscated or declared unserviceable by the UBN Finance company offshore payment centre where these huge deposits were lodged.He had an deposit valued at about US$12M(Twelve Million US Dollars)and now the finance company has issued me an urgent notice to provide the next-of-kin or have the account freezed within the next ten official working days.This was the last fund moved by my late claim to the offshore payment company of UBN for sefety by the oil merchant shortly before the autocrash that took his life and all in the car.This was as a result of the conflict emulated from the annulled june 12 presidential election by the military dictatorship Gen.Ibrahim Babangida which resulted to the death of many people in Nigeria even chief Moshood K.O Abiola that won the presidential race.GO THROUGH; topics.nytimes.com/top/reference/timestopics/people/a/moshood_k_o_abiola/index.html?s=oldest& - 42k )Since, I have succeeded in locating you today as his relative,I hereby seek your consent to present you as well as use your name and particulars apply as the next of kin to the deceased,so that the proceeds of this account deposit valued at US$12M can be paid to you and then you and I can share the money at last or invest with it for a profitable venture in your country, 50% to me and 50% to you.To present you as the next of kin will pose no difficulty as there is no risk involved hence i am the one presenting you officially.I have all the necessary legal documents that can be used to back up our claim.1. The Death Certificate2. Letter of Administration3. Sworn AffidavitAll I require is your honest co-operation to enable us see this transaction through. I guarantee that this business proposal to you is 100% real and will be executed under a legitimate arrangement without any problem at all.Please get in touch with me via my secured and confidential email address while you forward to me the following informations immediately you receive this message so that I will give you further details if you are interested and ready to work with me .1.. YOUR NAME AND ADDRESS TO MAKE THE CLAIM...2...YOUR PHONE NUMBER FOR URGENT CONTACT BY ME..3...YOUR OCCUPATION AND YOUR AGE..Remember to include your own private or mobile cell phone with which I can equally reach you.Anticipating your prompt response.Yours Sincerely,Financial Adviser..Jones Usman..(jones_usman1977@rixmail.se)"
        ],
        [
         "319",
         "<BR><BR>--<BR>Good day<BR>Private Message to you,<BR><BR><BR><BR>This is animportant message to you.The lord directs me to share this with you. As youread the mail, you should sympathize with my current situation and assistme. My name is Isabella Carmel the only survivor from family of four. I wasnarrowly escaped from the tsunami disaster which affected my spinal cord andalso my ear drum and claim the lifes of my entire family, husband (Deniscaromel) and two sons (Ugo and Tom) who went for holidays inSri-Lanka.<BR><BR><BR>Right now I am currently in Kuala Lumpur Malaysia.After staying a week in my family hospital, I was disabled by thecatastrophe and now on a wheel cheer after all the treatment.This hasdefiled all forms of medicine and right now I have only about a few monthsto live, according to medical experts.I have not lived my life so well as myprimary interest and focus was only on my late fathers business. Though myfather is very rich and was never generous. But now I regret all this, as Iknow that there is more in life than just wanting to have or make all themoney in the world.The bible says what shall it profit a man to wine thewhole world and loose his soul. I believe when God gives me a second chanceto come to this world I will live my life a different way from how I havelived before. I have willed and given most of my fathers properties to theless privileges because I want God to be merciful to me and accept my soul.I have decided to give arms to charity organizations and give succor andcomfort to the less privileged in our societies. I want this to be one ofthe last good deeds I do on earth since my father has never recognizedthat.<BR><BR><BR>So far I have to distribute money to charity organizationsnow that my health has deteriorated so badly,I cannot do this myself anymorethat is why am soliciting your assistant to make this donation through you.The last of my late fathers money that am willing to donate to the lessprivileged right now is the huge sum of $10.6M USD that is concealed in aconsignment and deposited in (OVERSEA CREDIT COMMISSION ABROAD) forsafekeeping which he intends to invest on profitable factory. <BR><BR><BR>Iwant you to help me claim this funds where is deposited and disburse it tocharity organizations and the less privileged in the society.Please I willappreciate you to indicate interest for the disbursement and also includeyour contact telephone/fax numbers that I will forward to the(OVERSEA CREDITCOMMISSION ABROAD) to be able to contact you as the appointed beneficiary. Iwill provide you the certificate of deposit and the letter of authority toenable you claim the consignment of the funds.<BR><BR>If you are willing andready to assist with this project,please e-mail me atmrslsabellacaromel_1950@yahoo.it without delay, while I wait to hear fromyou.Thanks once again for your kindness may God guide and reward you in allyour endeavors as you make me realize my last dreams andwishes.<BR><BR><BR><BR>Remain blessed,<BR>Mrs.Isabella Caromel<BR><BR><BR/><BR />________________________________________________<BR />CristinaFusi WebMail - Message sent using UebiMiau 2.7.2<BR />"
        ],
        [
         "178",
         "Dear Friend,Attention Please.Sorry to disturb you. I am Dr Idris Ali, the Director in charge of Auditing and Accounting section of AFRICAN DEVELOPMENT BANK (A.D.B) Ouagadougou Burkina-faso West Africa. With due respect and regard. I have decided to contact you on a business transaction that will be very beneficial to both of us at the end of the transaction .During our investigation and auditing in this bank, my department came across a very huge sum of money belonging to a deceased person who died in a plane crash and the fund has been dormant in his account with this Bank without any claim of the fund in our custody either from his family or relation before our discovery to this development.The said amount was U.S 7.5M (Seven Million,Five Hundred Thousand United States Dollars). As it may interest you to know, I got your impressive information through internet directory . Meanwhile all the whole arrangement to put claim over this fund as the bonafide next of kin to the deceased, get the required approval and transfer this money to a foreign account has been put in place and directives and needed information will be relayed to you as soon as you indicate your interest and willingness to assist, and also benefit your self to this great business opportunity.In fact I could have done this deal alone but because of my position in this country as a civil servant(A Banker),we are not allowed to operate a foreign account and would eventually raise an eye brow on my side during the time of transfer because I work in this bank. This is the actual reason why it will require a second party or fellow who will forward claims as the next of kin with affidavit of trust of oath to the Bank and also present a foreign account where he will need the money to be re-transferred into on his request as it may be after due verification and clarification by the correspondent branch of the bank where the whole money will be remitted from to your own designation bank account.I will not fail to inform you that this transaction is 100% risk free.On smooth conclusion of this transaction, you will be entitled to 30% of the total sum as gratification, while 10% will be set aside to take care of expenses that may arise during the time of transfer and also telephone and internet bills, while 60% will be for me and my coleagues. Please, you have been adviced to keep \"Top Secret\" as I am still in service and intend to retire from service after we conclude this deal with you.I will be monitoring the whole situation here in this bank until you confirm the money in your account and ask me to come down to your country for subsequent sharing of the fund according to percentages previously indicated and further investment, either in your country or any country you advice us to invest in. All other necessary vital nformation will be sent to you when I hear from you.I look forward to receive your phone and fax numbers for easy communication,Yours faithfully,Dr Idris Ali._________________________________________________________________Windows Live Messenger : venez tester la version bÃ¯Â¿Â½ta ! http://www.ideas.live.com/programpage.aspx?versionId=5d21c51a-b161-4314-9b0e-4911fb2b2e6d"
        ],
        [
         "421",
         "Thanks so much. Safe travels in India and Thailand. I'll be getting the China S+ED ready!"
        ],
        [
         "603",
         "DEAR FRIEND=2C IT IS WITH A HEART FULL OF HOPE THAT I WRITE=2CSOLICITING FOR YOUR STRICT CONFIDENCE IN THISTRANSACTION=2E THIS IS BY VIRTUE OF ITS NATURE AS BEINGCONFIDENTIAL AND TOP SECRET=2E FOR I GOT YOUR CONTACTTHROUGH OUR LARGE OFFICE OF NIGERIAN CHAMBERS OFCOMMERCE AND INDUSTRIES=2C WHO ASSURED ME OF YOURABILITY AND RELIABILITIY TO EXECUTE A TRANSACTION OFGREAT MAGNITUDE=2EI AM AN ACCOUNTANT WITH BEAGON NIG=2E LTD=2E A FOREIGN OILCOMPANY BASED IN LAGOS=2C NIGERIA=2E BEAGON WAS INVOLVEDINPROSPECTING=2C DRILLING AND BUNKERING OF OIL AT HIGHSEA =28OFFSHORE=29=2C WITH EXPATRIATE CONSISTING MAJORITY OFTHE STAFF STRENGTH=2EUNFORTUNATELY=2C THESE EXPATRIATESGOT  INTO AN ILLEGAL SALE OF OIL ANDTHE MONEY FROM ITTRANSFERRED THROUGH A SECURITY COMPANY OUT OF THECOUNTRY BUT WITH A SECURITY STAMP ON IT=2E THE FEDERAL GOVERNMENT OF NIGERIA DISCOVERED THEILLEGAL DEAL=2C REVOKED THEIR LICENCE AND THEEXPARTRIATES WERE REPATRIATED=2ESO=2C BY VIRTUE OF MYPOSITION AS THE ACCOUNTANT OF THE COMPANY=2C I HAVE INMY POSSESSION DOCUMENTS CONTAINING INFORMATION ABOUTTWO OF THESE TRUNK BOXES DEPOSITED WITH THE SECURITYCOMPANY=2ETHE CONTENT OF THESE BOXES IS THIRTY TWOMILLION UNITED STATES DOLLARS =28US$32M=29=2EI HAVE PUT IN AN APPLICATION WITH THE SECURITY COMPANYTO TRANSFER THESE BOXES TO THEIR CORRESPONDENCE OFFICEIN CANADA=2C DUBAI=2C INDONESIA OR EUROPE WHICH THEY HAVE OBLIGED=2E ANDBEING THAT THIS DEAL WAS BEEN CARRIED OUT BY FOREIGNFIRM=2C I NEED A TRUSTWORTHY FOREIGNER LIKE YOU THATWILL ASSIST ME TO A LOGICAL CONCLUSION OF THIS PENDINGBUSINESS WHICH BOTH OF US WILL BOUND TO BENEFITEARNESTLY=2E ALL I NEED FROM YOU IS TO STAND BEFORE THE SECURITYCOMPANY AND SIGN AS ONE OF EXPATRIATES TO ENABLE YOUCLAIM THE MONEY AND PAY IT INTO YOUR BANK ACCOUNT=2EPLEASE=2C NOTE THAT THIS TRANSACTION IS 100%RISK-FREE=2CFOR EVERY MACHINERIES HAS BEEN PUT IN PLACE FORSUCCESSFUL CONCLUSION=2E REMEMBER=2C THAT I HAVE WITH MEALL THE NECESSARY DOCUMENTS THAT WILL PROVE THAT THEMONEY IS FOR US=2E I EXPECT YOU TO BE TRUSTWORTHY AND KIND ENOUGH TO KEEPMY OWN SHARE=2C WHEN THE MONEY HIT YOUR ACCOUNT=2EI HEREBY AGREE TO COMPENSATE YOUR SINCERE AND CANDIDEFFORT IN THIS REGARD WITH 25% OF THE FUND AFTER THETRANSFER AND 5%=28PERCENT=29 WILL BE SET ASIDE FOR ANYEXPENSES BOTH LOCAL AND INTERNATIONAL TRANSPORTATION=2CTELEPHONE BILLS ETC=2E WILL BE SETTLED FROM THISPERCENTAGE=2C WHILE 70% WILL BEFORE ME AND TWO OF MYCOLLEAGUES=2E THIS DEAL WILL BE CONCLUDED WITHIN SEVEN=287=29 WORKING DAYS=2E I WILL BE LOOKING FORWARD TO DOING BUSINESS WITH YOU=2CAND SOLICIT YOUR CONFIDENTIALITY IN THIS TRANSACTION=2EPLEASE ACKNOWLEDGE THE RECEIPT OF THIS PROPOSAL VIA MYE-MAIL ADDRESS TO ENABLE ME KNOW IF YOU AREINTERESTING OR NOT=2EYOURS SINCERELY=2CMR IBRAHIM YADUDU=2E"
        ],
        [
         "74",
         "GOOD MORNING.DONÃ¯Â¿Â½T BE OFFENDED IF I MAY HAVE DISTURBED YOUR DAILY ACTIVITIES.MY NAME IS MR NOEL PANGA, I AM A BANKER, AND I WORK WITH THE AFRICAN DEVELOPMENT BANK AS A SENIOR STAFF. I HAVE DECIDED TO CONTACT YOU ON A BUSINESS TRANSACTION THAT WILL BE VERY BENEFICIAL TO BOTH OF US AT THE END OF THE TRANSACTION .DURING OUR INVESTIGATION AND AUDITING IN THIS BANK, MY DEPARTMENT CAME ACROSS A VERY HUGE SUM OF MONEY BELONGING TO A DECEASED PERSON WHO DIED IN A PLANE CRASH AND THE FUND HAS BEEN DORMANT IN HIS ACCOUNT WITH THIS BANK WITHOUT ANY CLAIM OF THE FUND IN OUR CUSTODY EITHER FROM HIS FAMILY OR RELATION BEFORE OUR DISCOVERY TO THIS DEVELOPMENT.THE SAID AMOUNT WAS U.S 18.4M (EIGHTEEN MILLION,FOUR HUNDRED THOUSAND UNITED STATES DOLLARS). AS IT MAY INTEREST YOU TO KNOW, I GOT YOUR IMPRESSIVE CONTACTS THROUGH INTERNET. MEANWHILE ALL THE WHOLE ARRANGEMENT TO PUT CLAIM OVER THIS FUND AS THE BONAFIDE NEXT OF KIN TO THE DECEASED, AND TRANSFER THIS MONEY TO A FOREIGN ACCOUNT HAS BEEN PUT IN PLACE.  THE DIRECTIVES AND NEEDED INFORMATION WILL BE RELAYED TO YOU AS SOON AS YOU INDICATE YOUR INTEREST AND WILLINGNESS TO ASSIST ME, AND ALSO BENEFIT YOUR SELF TO THIS GREAT BUSINESS OPPORTUNITY.IN FACT I COULD HAVE DONE THIS DEAL ALONE BUT BECAUSE OF MY POSITION IN THIS COUNTRY AS A CIVIL SERVANT(A BANKER),WE ARE NOT ALLOWED TO OPERATE A FOREIGN ACCOUNT AND WOULD EVENTUALLY RAISE AN EYE BROW ON MY SIDE DURING THE TIME OF TRANSFER BECAUSE I WORK IN THIS BANK. THIS IS THE ACTUAL REASON WHY IT WILL REQUIRE A SECOND PARTY OR FELLOW WHO WILL FORWARD CLAIMS AS THE NEXT OF KIN WITH AFFIDAVIT OF TRUST OF OATH TO THE BANK AND ALSO PRESENT A FOREIGN ACCOUNT WHERE HE WILL NEED THE MONEY TO BE RE-TRANSFERRED INTO ON HIS REQUEST AS IT MAY BE AFTER DUE VERIFICATION AND CLARIFICATION BY THE CORRESPONDENT BRANCH OF THE BANK WHERE THE WHOLE MONEY WILL BE REMITTED FROM TO YOUR OWN DESIGNATION BANK ACCOUNT.I WILL NOT FAIL TO INFORM YOU THAT THIS TRANSACTION IS 100% RISK FREE.ON SMOOTH CONCLUSION OF THIS TRANSACTION, YOU WILL BE ENTITLED TO 40% OF THE TOTAL SUM AS GRATIFICATION, WHILE 10% WILL BE SET ASIDE TO TAKE CARE OF EXPENSES THAT MAY ARISE DURING THE TIME OF TRANSFER AND ALSO TELEPHONE AND INTERNET BILLS, WHILE 50% WILL BE FOR ME.  PLEASE, YOU HAVE BEEN ADVICED TO KEEP \"TOP SECRET\" AS I AM STILL IN SERVICE AND INTEND TO RETIRE FROM SERVICE AFTER WE CONCLUDE THIS DEAL WITH YOU.I WILL BE MONITORING THE WHOLE SITUATION HERE IN THIS BANK UNTIL YOU CONFIRM THE MONEY IN YOUR ACCOUNT AND ASK ME TO COME DOWN TO YOUR COUNTRY FOR SUBSEQUENT SHARING OF THE FUND ACCORDING TO PERCENTAGES PREVIOUSLY INDICATED AND FURTHER INVESTMENT, EITHER IN YOUR COUNTRY OR ANY COUNTRY YOU ADVICE US TO INVEST IN. ALL OTHER NECESSARY VITAL NFORMATION WILL BE SENT TO YOU WHEN I HEAR FROM YOU.IF THE TRANSACTION INTEREST YOU, GET BACK TO ME WITH YOUR PHONE NUMBER TO CALL YOU SO WE COULD PROCEED.THANKS.MR NOEL PANGA._________________________________________________________________DÃ¯Â¿Â½couvrez Windows Live Messenger : le futur de MSN Messenger ! www.windowslivemessenger.fr"
        ],
        [
         "848",
         "You will act like the beneficiary of this fund, I will sendto you the whole relevant documents that required in thistransaction immediately you accept to co-operate with me.and i will inform you the proceedure to complete thistransaction successfully,First i want you to take this personally and maintain theconfidentiality, if you can assist on this let me know sothat i will discuss the percentages with you and inform youthe step we need to complete this transaction within 10working days.let me know if you are interested to proceed with me,i amgoing on retirement very soon and i am hopeful if we canconlude on this i will channel my funds in area of goodinvestment outside the country, this transactionmust bebetween me and you only, i do not want it to be discussedwith third party. send me your reply immediately.Best Regards.John Williams ."
        ],
        [
         "3",
         "Dear Sir=2FMadam=2C I know that this proposal might be a surprise to you but it as an emergency=2EIn a nutshell=2C I am MR=2EP=2E ZUMA=2C from the republic of South-Africa=2C now seeking for refuge in Dakar Senegal under the=28UNHCR=29=2E   I got your contact during a desperate search here in Dakar for a possible transaction=2E My =28late=29 father DR=2E ZUMA KENT WILLIAMS=2C he was the managing director of Gold Mine company in SOUTH AFRICA=2E But he was assinated by his business assoicate and all his properties was totally destroyed by his elder brother=2E   Who alway hate to see me and my mother with his eye's=2C that man very wicked that is why i and my mother managed to escape with some of my father's documents covering $18=2E3 Million dollars which is presently deposited safely in a finance firm on my name as the next of kin=2E Meanwhile=2Cwe are saddled with the problem of securing a trust-worthy foriegn personality to help us transfer the money over to his country and into his possession pending our arrival to meet with him=2E   Furthermore=2Cwe only want this done this way because your country is politically stable for any profitable investment and only if you accept our proposal=2C you will serve as the beneficiary of the fund on commencement of this proposed transactions=2E I am giving you the offers as mentioned with every confidence on your acceptance to assist us=2C we have decided to invest 40% of the total fund based on equity participation in your company=2E   Secondly=2C we shall also take 5% out for any miscelleneous expenses that may occure=2E Conclusively=2C i wish you send me a reply immediately as soon as yourecieve this proposal so that we shall arrange on how to lift this consignment out of Dakar Senegal to your country=2E On commencement=2Cthis transaction will take nothing less than 14 working days to be accomplished=2E All documents covering the fund are safe and intact=2E i remain with the best regards=2E   Please kindly responce to this Alternative E-mail =3A p=5Fzuma1976=40walla=2Ecom Please call urgently to speak with me and my mother on this our direct telephone number =28 00 221 649 67 68  =29 Thanks yours=2C  Mr Prince Zuma=2E "
        ],
        [
         "196",
         "Let me check in.Abedin Huma <AbedinH@state.gov>Sunday September 27 2009 6:50 PMHRe: Checking in"
        ],
        [
         "995",
         "So what's the latest? It sounds contradictory and when does AF have to decide? Shall we take the 1 or 2 shuttle?"
        ],
        [
         "345",
         "Good. Also pls be sure Ellen Tauscher knows I asked Jim Jones last week to call Kerry about her hearing and call SarahFarnsworth to see if Jones did it yet."
        ],
        [
         "59",
         "Mr.Soo ChoCHO HUNG BANK.14 1-ka Namdaemun-ro Chung-kuSeoul, Seoul 100-757South Korea.www.chohungbank.co.kr  I am Mr.Soo Cho, credit officer of CHO HUNG BANK. I have anurgent and very confidential business proposition for you.  On July 8, 2000, a British Oil consultant/contractor withthe South Korea Solid Minerals Corporation, Mr. PhillipMorris made a numbered time (Fixed) Deposit for twelvecalendar months, valued at (Twenty-eight Million ThreeHundred Thousand American Dollars only) in my branch.  Upon maturity,I sent a routine notification to hisforwarding address but got no reply. After a month, we senta reminder and finally we discovered from his contractemployers, that Mr. Phillip Morris died from an auto-mobileaccident.  On further investigation, I found out that he died withoutmaking a WILL,and all attempts to trace his next of kin wasfruitless.  I therefore made further investigation and discovered thatMr.Phillip Morris did not declare any kin or relations inall his official documents,including his Bank Depositpaperwork in my Bank.This sum of $28,300,000.00 is stillsitting in my Bank and the interest is being rolled overwith the principal sum at the end of each year. No one willever come forward to claim it.  According to Laws of South Korea, at the expiration of (five) years,the money will revert to the ownership of theSouth Korea Government if nobody applies to claim the fund.  Consequently, my proposal is that I will like you as aforeigner to stand in as the next of kin to Mr. PhillipMorris so that the fruits of this old man's labor will notget into the hands of some corrupt government officials.  This is simple, I will like you to provide immediately your full names and address so that the attorney will prepare the necessary documents and affidavits that will putyou in place as the next of kin. We shall employ theservices of an attorney for drafting and notarization of theWILL and to obtain the necessary documents and letter ofprobate/administration in your favor for the transfer.  A bank account in any part of the world that you will provide the will, then facilitate the transfer of this money to you as the beneficiaryext of kin.  The money will be paid into your account for us to share inthe ratio of 70%for me and 25% for you and 5%  for ExpensesIncurred in the course of the transaction .  There is no risk at all as all the paperwork for this transaction will be done by the attorney and with myposition as the credit officer guarantees the successfulexecution of this transaction. If you are interested, pleasereply immediately to my email box.  Upon your response, I shall then provide you with more details that will help you  understand the transaction.  Please send me your confidential telephone and fax numbersfor easy communication.  You should observe utmost confidentiality, and rest assuredthat this transaction would be most profitable  for both ofus because I shall require your assistance  to invest myshare in your country.   Regards, Soo ChoN.B:Endeavour to send your reply through my alternativee-mail address:soo@financesource.com"
        ],
        [
         "215",
         "Yes line droppedRest is coming now"
        ],
        [
         "22",
         "GOODDAY=2CWE ARE VERY SORRY IF THIS MIGHT OFFEND YOU=2C THOUGH WE DONT KNOW YOU BUT I AND MY YOUNG BROTHER BELIEVE THAT THE SPIRIT OF OUR FATHER STILL LEAVES WITH US=2C ALSO=2C WE KNOW HE IS AWARE THAT I AND MY YOUNG BROTHER ARE CONTACTING YOU FOR AN ASSISTANCE BASED ON TRUST=2EPERMIT ME TO USE THIS MEDIUM TO EXPLAIN OUR PROBLEM TO YOU IN THE NAME OF THE ALMIGHTY GOD WHOM WE SERVE=2E FIRSTLY=2CWE WANT TO EXPLAIN OUR SEIF TO YOU=2CSO THAT YOU WILL UNDERSTAND AND COMPREHEND OUR POINT CLEARLY=2EI AM Ms=2ESILVIA MAVASA 24YRS OLD=2CWITH MY YOUNG BROTHER DAVID MAVASA 22YERS OLD WE FROM BENIN REPUBLIC=2C THE ONLY DAURTHER AND SON  OF LATE MR AND MRS WILLIAM MAVASA=2E MY FATHER WAS A VERY WEALTHY COCOA MERCHANT BASED IN DAKAR-SENEGAL=2C THE ECONOMIC CAPITAL OF SENEGAL=2C BEFORE HE WAS POISONED TO DEATH BY HIS BUSINESS ASSOCIATES ON ONE OF HIS BUSINESS OUTING=2E WHEN OUR MOTHER DIED ON THE 21ST OCTOBER 1996=2C OUR FATHER TOOK US SO SPECIAL BECAUSE I AND MY YOUNG BROTHER WAS THE ONLY DAURTHER  AND SON HE HAD BEFORE HIS DEATH ON THE 24TH OF AUGUST 2006 IN A PRIVATE HOSPITAL HERE IN PORTO-NOVO=2CBENIN REPUBLIC=2E HE SECRETLY CALLED ME ON HIS BEDSIDE AND TOLD ME THAT HE HAS SUM OF US $22million DEPOSITED IN A BANK  =28IN DAKAR-SENEGAL=29=2CWHICH MY NAME WAS USED AS HIS NEXT OF KIN IN DEPOSIT OF THE FUND=2E DUE TO HIS ENCOUNTER WITH HIS ASSOCIATES AND RELATIVES=2C WHICH LEAD TO HIS DEATH=2C HE INSTRUCTED US TO SEEK FOR A FOREIGN FRIEND WHO WILL AID US IN THE TRANSFER OF THE MONEY FOR OUR EDUCATION=2C INVESTMENT AND LIVE A GOOD LIFE=2E WE ARE HONOURABLY SEEKING YOUR ASSISTANCE IN THE FOLLOWING WAYS=3B-TO ASSIST US IN COMING OVER TO YOUR COUNTRY-TO FURTHER OUR EDUCATION AND TO SECURE A RESIDENTIAL PERMIT IN YOUR COUNTRY=2E MOREOVER=2C WE ARE  WILLING TO OFFER YOU 20% WITH 5% IN ADDITION FOR ALL YOUR EXPENSES AS COMPENSATION FOR YOUR EFFORT=2E PLEASE INDICATE YOUR WILLINGLESS TO HELP US BY FORWARDING YOUR FULL NAME AND ADDRESS=2E   1=2E Your Full Name=2E=2E=2E=2E=2E=2E=2E=2E=2E=2E=2E=2E=2E=2E=2E=2E=2E=2E=2E=2E=2E=2E=2E=2E=2E=2E=2E=2E=2E=2E=2E=2E=2E=2E=2E=2E=2E=2E=2E 2=2ENationality=2E=2E=2E=2E=2E=2E=2E=2E=2E=2E=2E=2E=2E=2E=2E=2E=2E=2E=2E=2E=2E=2E=2E=2E=2E=2E=2E=2E=2E=2E=2E=2E=2E=2E=2E=2E=2E=2E=2E=2E=2E=2E=2E=2E=2E=2E3=2E Your Age =2E=2E=2E=2E=2E=2E=2E=2E=2E=2E=2E=2E=2E=2E=2E=2E=2E=2E=2E=2E=2E=2E=2E=2E=2E=2E=2E=2E=2E=2E=2E=2E=2E=2E=2E=2E=2E=2E=2E=2E 4=2E Your Sex=2E=2E=2E=2E=2E=2E=2E=2E=2E=2E=2E=2E=2E=2E=2E=2E=2E=2E=2E=2E=2E=2E=2E=2E=2E=2E=2E=2E=2E=2E=2E=2E=2E=2E=2E=2E=2E=2E5=2E Marital Status=2E=2E=2E=2E=2E=2E=2E=2E=2E=2E=2E=2E=2E=2E=2E=2E=2E=2E=2E=2E=2E=2E=2E=2E=2E=2E=2E=2E=2E=2E=2E=2E=2E=2E6=2EYour Occupation=2E=2E=2E=2E=2E=2E=2E=2E=2E=2E=2E=2E=2E=2E=2E=2E=2E=2E=2E=2E=2E=2E=2E=2E=2E=2E=2E=2E=2E=2E7=2EYour Home And Office Address=2E=2E=2E=2E=2E=2E=2E=2E=2E=2E=2E=2E=2E=2E=2E=2E8=2EYour Telephone And Fax Number=2E=2E=2E=2E=2E=2E=2E=2E=2E=2E=2E=2E=2E=2E=2E=2E=2E=2E=2E=2E=2E=2E=2E 9=2EA Scan Copy Of Your International Passport Or Driving Licence=2E=2E=2E=2E=2E=2E=2E=2E=2E=2E10=2E Bank Account Details=2E=2E=2E=2E=2E=2E=2E=2E=2E=2E=2E=2E=2E=2E=2E=2E=2E=2E=2E=2E=2E=2E=2E=2E=2E=2E=2E=2E=2E=2E=2E=2E=2E=2E=2E=2E=2E=2E=2E=2E=2E=2E=2E=2E=2E=2E=2E PLEASE REPLY PROMPTLY=2EMAY THE LORD BE WITH YOU AS WE AWAIT YOUR POSITIVE DECISION TO HELP=2ETHANKS AND GOD BLESS=2EBEST REGARDS=2EReply Us With This Email Address=3A   silvia=5Fdavid11=40yahoo=2Ecom Ms Silvia Mavasa & Brother David Mavasa=2E"
        ],
        [
         "26",
         "I know you will be surprised to read from me, but  please consider this as arequest from a family in dire need of assistance.First, I must introducemyself I am MR. TSEPO VUSI from Angola. I am the first and only son of BRIGADIER VUSI  JONES. I  am presently resident in South Africa.I got your contact address from a business directory  in JohannesburgChamber of commerce and Industry. On  behalf of my widowed mother MRS. ELIZABETHVUSI I  desided to solicit for your assistance to transfer  the sum of US$21.5MILLION( TWENTY ONE MILLION FIVE  HUNDRED THOUSAND UNITED STATES DOLLARS)inheritedfrom my late father, into your personal company's account.Before my fathers' death, he was a Brigadier in  charge of Arms andAmmunation procurement for the Angola  Army. In his WILL, he specificallydrew my attention  to the said sum of money which he deposited in a  safe box ofa private Security Company in Johannesburg-  South Africa in a treasure box,fully documented in  my name.IN FACT MY FATHER SAID AND I QUOTE  MY BELOVED SON, I WISH TO DRAW YOURATTENTION TO US$21.5 MILLION . I DEPOSITED THE BOX CONTAINING THIS MONEY IN A SECURITYCOMPANY IN JOHANNESBURG, SOUTH  AFRICA. DURING THE WAR, I WAS VERY DEDICATEDAND OFFICERS AND GOVERNMENT FUNCTIONARIES WERE BUSSY  HELPING THEMSELVES WITHGOVERNMENT FUNDS AND  PROPERTIES AND SENDING THEM TO FOREIGN COUNTRIES.  DUETO THIS, WHEN I AND MY FORMER SPECIAL ADVISOR TO THE  PRESIDENT WERE ASSIGNEDBY THE PRESIDENT (EDUARDO  SANTOS) TO PURCHASE ARMS IN SOUTH AFRICA, WE SAW  THISAS A GOLDEN OPPORTUNITY AND DIVERTED THE MONEY AND  DIVIDED IT. i GOT A TOTAL SUMOF US$21.5 MILLION. IN  CASE OF MY ABSENCE ON EARTH, AS A RESULT OF DEATHONLY, YOU SHOULD SOLICIT FOR THE FUND FOR INVESTMENT  PURPOSES.>From the above, you will understand that the lives  and future of my familydepens on this money, as such I  will be grateful if you can assist us. We are nowliving in South Africa as political Asylum seekers and financial laws andregulation of the Republic of  South Africa do not permit us financial rights to suchhuge sum of money. In view of this, I cannot invest this  fund in South africa, hencei am prepared to offer  you 20% of the total fund, while 10% will be set asidefor local and international expenses and 70% will be for  my family and me.Finally, modalities on howthe transfer will be bone  will be conveyed to you once wehave established  trust and confidence between ourselves. Please treat thismatter as very urgent.Best regards,TSEPO VUSI"
        ],
        [
         "253",
         "Its Tom DoniIon who wants to speak with you secure. Ops was mistaken. He would like to speak with you asap as he isleaving shortly.------"
        ],
        [
         "157",
         "Services in Post-1[1].doc"
        ],
        [
         "816",
         "As prelude"
        ],
        [
         "655",
         "FROM MISS MARIA DENISEADDRESS/ AVE 11 RUE 45ABIDJAN COTE D IVOIREDearest BelovedBase on your profile i am happy to request for your assistance and alsoto go into business partnership with you, i believe that you will not betaryed my trust which i am going to lay on you. I am  MISS maria denise,20years old and the only daughter of my late parents MR.and MRS denise My father was a highly reputable busnness magnet-(a cocoa merchant)who operated in the capital of Ivory coast during his days. It is sad to say that he passed away mysteriously in France during one of his business trips abroad year 12th.Febuary 2003.Though his sudden death was linked or rather suspected to have been masterminded by an uncle of his who travelled with him at that time. But God knows the truth! My mother died when I was just 4 years old, and since then my father took me so special.Before his death on Febuary 12 2003 he called the secretary who accompanied him to the hospital and told him that he has the sum of Ten Million United State Dollars.(USD$10 000 000) left in a security company in a mettalic trunk box, but the security company didn't know the content because it was decleared as family valuables personal for security reasons. I am just 20years old and a university undergraduate and really don't know what to do. This is because I have suffered a lot of set backs as a result of incessant political crisis here in Ivory coast. The death of my father actually brought sorrow to my life. Sir,I am in a sincere desire of your humble assistance in this regards.Your suggestions and ideas will be highly regarded. Now permit me to ask you these question:-(1.) Can I completely trust you?Consider this and get back to me as soon as possible.Thank you so much.My sincere regards,MISS maria denise.- maria denise"
        ],
        [
         "847",
         "Rec'd and printed all 13. Will be on your desk.>"
        ],
        [
         "729",
         "Maria will see Morales tomorrow. We'll get you a readout shortly after the mtg concludes."
        ],
        [
         "415",
         "Davis w over 60 PercentPls add to call list."
        ],
        [
         "733",
         "cash money, but the Security Company does not know theactual content of the consignment because it wasdeposited by my father with a declaration that thecontent is precious metals and diamond valued at US$ 23M, and this was done with diplomatic immunity and forsecurity reason, at the time, my father was still ingovernment in my country Zimbabwe.This transaction is basically risk-free for you;therefore, reach me, preferably with the above statedphone or fax number to ensure the security of thistransaction. Note that it is because of theconfidential nature of this transaction that I amgiving you this contact Info which you can use to reach"
        ],
        [
         "749",
         " <br>EFFORT INPUT AFTER THE SUCCESSFUL TRANSFER OF THIS FUND TO YOUR<br>NOMINATED ACCOUNT OVERSEAS . FURTHERMORE, YOU CAN INDICATE YOUR OPTION<br>TOWARDS ASSISTING ME AS I BELIEVE THAT THIS TRANSACTION WOULD BE<br>CONCLUDED WITHIN SEVEN (7) DAYS YOU SIGNIFY  INTERESTTO ASSIST ME. I<br>WILL APPRECIATE YOU SEND ME E-MAIL.ANTICIPATING TO HEAR FROM YOU<br>SOON.THANKS AND GOD BLESS.JESSICA PRINCE TONY</pre><A HREF=\"http://ads.sify.com/RealMedia/ads/click_nx.ads/mail.sify.com/sentmail@Bottom\" target=_new><IMG SRC=\"http://ads.sify.com/RealMedia/ads/adstream_nx.ads/mail.sify.com/sentmail@Bottom\"  width=300 height=40 border=0></a>---MOQ1144346298e8adbbf420c9ea119c8d05fad0638728--"
        ],
        [
         "955",
         "Dear sir=2C I got your contact in cause of a seriouse search for a reliable foreign partner=2C which really made me to contact you for assistance in transfering my money to you for investement purpose=2EI'm Desu Matthani the son of a late sierraleonian Col=2CMatthani suko=2E Who died 4 years ago when the revolutionary united front rebels =28R=2EU=2EF=29attacked our residence on the 20 of feb 2001 in Makeni Sierraleon=2E Following the cease fire agreement which was reach year before last year with the help of United Nation peace keeping troops=2C I used the opporturnity to leave the country with a very important document of=28US$8=2E5m=29EIGHT million FIVE HUNDRED THOUSAND U=2ES Dollars=2C deposited by my late father in security company=2C under my name=2E this money was realised from diamond export=2E Now'I'm searching for a trusted individual or foreign firm whom I can invest this money with for I am next of kin to these money=2E However I contact you based on your capability and vast knowledge on international commercial investement =2E For your assistance and co-opertion I will give you 10%of the total sum realised after the sucessfull transffer of this money=2EPlease kindly communicate your acceptance of this proposal so that we can discuss the modalities of seeing this transaction through=2E I count on you greately for your assistance=2E I will be waiting to hearing from you soonest Thanks=2C Desu Matthani=2E contact me alternatively with this mail below matt1=40caramail=2Ecom "
        ],
        [
         "477",
         "Kone Law Firm6, Kofo Abayomi StreetVictoria IslandLagosNigeriawww.konelawfirm.comEmail.kone23401@yahoo.comDear Friend,"
        ],
        [
         "919",
         "Hello Dear=2C Greastest compliments and how are you=3F Please let me introduce myself to you=2E I am Lt=2E Gen Dan Broswer =2C a former Director of Logistic and Planning in Federal Republic of Liberia=2EBefore the heat of the war in my country Liberia=2C I was handed =28Twenty Million=2C Five Hundred Thousand Dollars=29 USD20=2E5M for the purchase of Military Eqiupments=2C Arms and Amminition from Russia=2E The condition that befell the former government of Charles Taylor did not permit me to use the money for the purpose=2E And this fund has already been diplomatically transfered into a foreign Security Company for security reasons=2E Which I will give you all the necessary information and the documents covering this money as soon as I hear from you=3B then we can discuss about the percentage I am going to offer you after the transaction=2E Presently=2C I am in Dakar=2C Senegal where I have been granted refugee since the intervation of United Nation Organization in my country=2E Now=2C I intend to go into a Real Estate Business with this money I deposited in a Security Company since I am no longer into power=2E But please=2C you have to understand that a transaction of this magnitude and nature requires absolute secrecy so that no one else will hears about it especially=2C our mutual agreement to utilize this money for purchasing of Military Eqiupments as stated in the paragraph above=2EThanks as I solicite your humble and truthful assistance in this financial transaction=3B and looking forward to hearing from you soon=2EWith best regards=2E Sincerely=2C Lt=2E Gen=2E Dan Broswerdbroswer=40lycos=2Ecom"
        ],
        [
         "983",
         "SalamI am Mr. Ali Hussein    from  Basra Iraq I am writing you this email as  a Muslim brother,As you and I know about the unrest in my country, I want to use this means to apple for your help to relocate my family and funds (US$4Million ) to your country.As I just lost my wife some month ago because of the unrest here in Basra and I have my 8months baby with me now.Hope to hear from youAssalam ualaikum_________________________________________________________________Express yourself instantly with MSN Messenger! Download today it's FREE! http://messenger.msn.click-url.com/go/onm00200471ave/direct/01/"
        ],
        [
         "734",
         "I like that. Can you prepare cover so I can give to him today?"
        ],
        [
         "819",
         "Yes. Working it now"
        ],
        [
         "404",
         "Thanks Madame Secretary --Kagan also had an unusually supportive piece on Friday that prominently mentioned your role on AsiaHe built Singapore from nothing and his book is pretty damn inspirational on that front.I leave for Asia early Monday and will check in from the road. Thanks and best Kurt"
        ],
        [
         "860",
         "Dear Friend,My Compliment to you,I guess this letter may come to you as a surprise since I had no previous correspondence with you.I am sending you this mail on behalf of the chairman tender board of Independent National Electoral Commission (INEC) MR. SETTLEY DAZE. We got your contact in our search for a reliable person to handle a very confidential transaction involving the transfer of Forty Nine Million, Five Hundred Thosand United States Dollars US$49.5Million.The above fund is not connected with arms, drugs or money laundering. It is the product of an over invoiced Contract awarded in 2001 by INEC to a foreign company for the construction of high rise estate in the federal capital territory.The contract has long been executed and payment of the actual contract amount has been paid to the foreign contractor leaving the balance, which my colleague and I now want to transfer out of Nigeria into a reliable foreign account for our personal use.As civil servants we are not allowed to run foreign accounts. Hence we have chosen you to front and support us as the beneficiary to be paid. If you are interested in the proposal kindly get back to me by sending me your letter of acceptance along with your direct telephone and fax numbers, For your support and partnership, please reply me to negotiate your fees or the percentage you wish to be paid when the funds arrive your bank account. Further details about this transaction will be discussed in the subsequent correspondence. Note also that the particular nature of your business is irrelevant to this transaction and all local contacts and arrangements are in place for a smooth and successful conclusion of this transaction.Be informed that we are aware of the way email proposals of this type are being sent from this part of africa and as regards that, you should please treat this with utmost attention knowing fully well that you cannot and will not be compelled to assist us if you are not disposed to.Contact me via my email account or you also reach me on this email account she_rashabubakar@yahoo.com with your contact telephone and fax numbers on response, I will call you for a discussion.Thank you as I await your response.Sincerely,Dr. Rasheed S. Abubakar. "
        ],
        [
         "268",
         "Holbrooke and eikenberry want to talk about elections. They want to do secure. Can u give me a time that works for youto talk?"
        ],
        [
         "689",
         "<table border=0 width=\"100%\" cellpadding=\"8\"  cellpadding=\"8\"><tr><td bgcolor=\"#ffffff\"><P>FROM DR.CHARLES JIDEOFOR<BR>NNPC TOWERS IKOYI<BR>LAGOS-NIGERIA</P><P>&nbsp; Hello,</P><P>&nbsp; Good day,</P><P>&nbsp;I am the Chairman of the Contract Award Committee, Federal<BR>Ministry of Petroleum Resources, Nigeria I am in search of<BR>an agent to assist us in the transfer of (US$30,4M) THIRTY<BR>MILLION, FOUR HUNDRED THOUSAND UNITED STATES DOLLARS.($USD<BR>30,400,000) And subsequent investment in properties in your<BR>country.You will be required to</P><P>&nbsp;(1) Assist in the transfer of the said sum<BR>&nbsp;(2) Advise on lucrative areas for investment<BR>&nbsp;(3) Assist us in purchase of properties.</P><P>If you decide to render your service to us in this regard,<BR>20% of the total sum will be offerred to you. Pls, quickly<BR>get back to me.</P><P>thanks</P><P>Respectfully.</P><P>DR.CHARLES JIDEOFOR</P><P>Chairman Contract Award Committee {CCAC}</P><P>&nbsp;</P></td></tr></table><br><br><span style=\"font-family:monospace\">-----------------------------------------------------------------------</span><br><span style=\"font-family:verdana;font-size:11px;\">Deja de trabajar para beneficiar a tu jefe. TRABAJA PARA TI Y DESDE CASA.<br><a href=\"http://banner.eresmas.com/adclick/CID=0000642ec858344d00000000/site=ERESMAS/area=ERESMAS.CORREO/aamsz=PIE_WEBMAIL\" target=\"_blank\">http://ad.doubleclick.net/clk;15727880;7829128;w?http://www.trabajaportucuenta.com/?pub=56</a></span><br>"
        ],
        [
         "979",
         "she likes."
        ],
        [
         "161",
         "MR BADMUS IGWEBRANCH MANAGERGULF BANK PLCILUPEJU BRANCH LAGOSNIGERIA=2EATTN=3A PRESIDENT=2FC=2EE=2EO I am pleased to get across to you for a very urgent and profitable business proposal=2C though I don't know you neither have I seen you before but my confidence was reposed on you when the Chief Executive of Lagos State chamber of Commerce and Industry handed me yourcontact for a confidential business=2E I am the manager of gulf bank Plc =28UBA=29=2CIlupeju branch=2C Lagos Nigeria=2EThe intended business is thus=3B We had a customer=2C a Foreign resident in Nigeria=2C he was a Contractor with one of the Government Parastatals=2EHe has in his Account in my branch the sum of US 15=2E5 Million =28Fifteen Million=2C Five Hundred Thousand U=2ESDollars=29=2EUnfortunately=2C the man died three years ago until today non-of his next of kin has come forward to claim the money=2E Having noticed this=2C I in collaboration with two other top Officials of the bank have covered up the account all this while=2E Now we want you =28being a foreigner=29 to be fronted as one of his next of kin and forward your account and other relevant documents to be advised to you by us to attest to the Claim=2E We will use our positions to get all internal documentations to back up the claims =2E The whole procedures will last only five working days to get the fund retrieved successfully without trace even now or in future=2EYour response is only what we are waiting for as we have arranged all necessary things=2EAs soon as this message comes to you kindly get back to me through my personal email address=28adexmol=40fastermail=2Ecom=29 indicating your interest=2C then I will furnish you with the whole procedures to ensure that the deal is successfully concluded=2E For your assistance we have agreed to give you twenty five percent =2825%=29 of the Total sum at the end of the transaction while 65% would be for my colleagues and I and the remaining 10% would be for any form ofexpenses that may be incurred during the course of the transaction which would be given to us when the money is transferred into your account before splitting the balance on the agreed percentage of 65% to 25%=2E In order to get all the legal documents from the court=2C kindly send the following information to us immediately=2E Your full name=2Ctelephone=2Cmobile and fax numbers as well as your resident or company address=2C Bank Name=2C Bank Address=2E I await your earliest response=2EThanks=2C Yours Sincerely=2C MR BADMUS IGWE"
        ],
        [
         "935",
         "Dear SIR/MADAM,I am Mr. John Coleman and my sister is Miss Rose Coleman, we are the children =of late Chief Paul Coleman from Sierra Leone. I am writing you in absolute =confidence primarily to seek your assistance to transfer our cash of twenty =one Million Dollars ($21,000.000.00) now in the custody of a private Security =trust firm in Europe the money is in trunk boxes deposited and declared as =family valuables by my late father as a matter of fact the company does not =know the content as money, although my father made them to under stand that =the boxes belongs to his foreign partner.Source of the money:My late father Chief Paul Coleman , a native of Mende District in the =Northerh province of Sierra Leone, was the General Manager of Sierra Leone =Mining co-operation (S.L.M.C.) Freetown . According to my father, this money =was the income accrued from Mining Co-operation's over draft and minor sales.=Before the peak of the civil war between the rebels forces of Major Paul =Koroma and the combined forces of ECOMOG peace keeping operation that almost =destroyed my country, following the forceful removal from power of the =civilian elected President Ahmed Tejan Kabbah by the rebels. My father had =already made arrangement for his family thats talking about my mother, my =little sister and myself to be evacuated to HOLLAND NETHERLAND, with the =CERTIFICATE OF DEPOSIT he made with a security firm in Europe through the aid=of U.N evacuation team.During the war in my country, and following the indiscriminate looting of =Public and Government properties by the rebel forces, the Sierra Leone mining =coop. Was one of the target looted and it was destroyed. My father including =other top Government functionaries were attaked and killed by the rebels in =November 2000 because of his relationship with the civilian Government of =Ahmed Tejan Kabbah.As a result of my father's death , and with the news of my uncle's =involvement in the air crash in Januaryit dashed our hope of survival. The =untimely deaths caused my mother's heart failure and other related =complications of which she later died in the hospital after we must have =spent a lot of money on her early this year . Now my 18 years old sister and =myself are alone in this strange country suffering without any care or help. =Without any relation,we are nowlike refugees and orphans.Our only hope now is in you and the boxes deposited in the Security Firm To =this effect, I humbly solicit your assistance in the followings ways.1. to assist me claim this boxes from the security Firm as our beneficiary2. to transfer this money (USD$21M) in your name to your country3. to make a good arrangement for a joint business investment on ourbehalf in your country and you, our Adviser/ ManagerFor your assistance, I have agreed with my younger sister that 15% of the =total amount will be for your effort and another 5 % to cover all the =expenses that may incur during the business transaction, Last, I urge you to =keep this transaction strictly confidential as no one knows our where about.Please as you show your willingness, Forward to us your full name, address =and Tel/ Fax numbers, to me via my private email address as indicated =bellow,(rosecolemen@netscape.net) this is for security reasons as i will only =be accessing my private email earnestly awaiting your response.Thanks.May God bless you as you assist us.Mr. JOHN COLEMAN.   --bf31504f-0a21-4a2f-b007-aa98ff9e942d--"
        ],
        [
         "502",
         "JE SUIS MONSIEUR OUMAROU TRIKOUNI ,DIRECTEUR CHARGE DES FACTURES ET ECHANGES EXTERIEURS DE LA B.O.A ( BANK OF AFRICA).BURKINA FASO,MARIE PERE DE TROIS ENFANTS,AGE 56 ANSDans mon departement, j'ai decouvert une somme abandonnÃ¯Â¿Â½e d'une valeur de 16.500 000 $  US (SEIZE MILLIONS CINQ CENT MILLES DOLLARS USA) dans un compte appartenant Ã¯Â¿Â½ un de nos clients Ã¯Â¿Â½trangers qui a eu la mort avec toute sa famille dans un crash d'avion en 2003.Depuis que nous  avions obtenus les informations sur  sa mort, nous nous attendions Ã¯Â¿Â½ ce que ses proches parents ou sa proche relation viennent rÃ¯Â¿Â½clamer lÃ¯Â¿Â½argent. Malheureusement jusquÃ¯Â¿Â½aujourdÃ¯Â¿Â½hui aucune manifestation. Dans ses cas figurent,en conformitÃ¯Â¿Â½ avec les lois et reglements interieurs des operations bancaires de la boite,stipulent que,si une telle somme restait,sans aucune manifestation quelconque d'un proche,six annÃ¯Â¿Â½es aprÃ¯Â¿Â½s,ladite somme est transferÃ¯Â¿Â½e dans le tresor de la banque,comme etant un fond non reclamÃ¯Â¿Â½.Suite Ã¯Â¿Â½ cette dÃ¯Â¿Â½couverte j'ai dÃ¯Â¿Â½cidÃ¯Â¿Â½ de vous faire  cette proposition d'affaire, afin de pouvoir libÃ¯Â¿Â½rer l'argent.Dautant Puisque personne ne vient la rÃ¯Â¿Â½clamer , je propose que vous vous dÃ¯Â¿Â½clarer  Ã¯Â¿Â½ la banque comme etant un parent ou une proche relation de la famille defunte.Si nous tombons dÃ¯Â¿Â½accord,45% de la somme sera Ã¯Â¿Â½ vous,les 5% servirons aux frais occasionnant les operations du transfert,et les 50% serons Ã¯Â¿Â½ moi.Par consÃ¯Â¿Â½quent, pour permettre le  transfert immÃ¯Â¿Â½diat de ces fonds,il vous faut ouvrir Ã¯Â¿Â½ votre nom, un compte bancaire si vous n'a n'aviez pas,ensiute vous devez adresser une lettre Ã¯Â¿Â½ la banque comme etan un proche parent de la famille dÃ¯Â¿Â½funte comme suit:- le nom de votre banque,- votre numÃ¯Â¿Â½ro de compte bancaire,- votre numÃ¯Â¿Â½ro de fax et de tÃ¯Â¿Â½lÃ¯Â¿Â½phone privÃ¯Â¿Â½"
        ]
       ],
       "shape": {
        "columns": 1,
        "rows": 800
       }
      },
      "text/plain": [
       "228           Ok that's when I will go. Is that certain?\n",
       "45     H <hrod17@clintonemail.com>Wednesday October 7...\n",
       "373                                 I'm on the way back.\n",
       "813    MRS. MARIA SOCORROCREDIT ACCOUNTS OFFICERHEAD ...\n",
       "448                                                  FY1\n",
       "                             ...                        \n",
       "950          FYIWe have not announced the amount raised.\n",
       "969    Interesting approach towards influencing popul...\n",
       "40                                                    Jm\n",
       "742    U.K.Dear Friend,I am Mr Mark Boland the Bank M...\n",
       "595    CALL ME ON MY MOBILE PHONE NUMBER-234-80332545...\n",
       "Name: text, Length: 800, dtype: object"
      ]
     },
     "execution_count": 378,
     "metadata": {},
     "output_type": "execute_result"
    }
   ],
   "source": [
    "X_train"
   ]
  },
  {
   "cell_type": "markdown",
   "metadata": {},
   "source": [
    "## Data Preprocessing"
   ]
  },
  {
   "cell_type": "code",
   "execution_count": 379,
   "metadata": {},
   "outputs": [
    {
     "name": "stdout",
     "output_type": "stream",
     "text": [
      "!\"#$%&'()*+,-./:;<=>?@[\\]^_`{|}~\n",
      "['needn', \"needn't\", 'no', 'nor', 'not', 'now', 'o', 'of', 'off', 'on']\n"
     ]
    }
   ],
   "source": [
    "import string\n",
    "from nltk.corpus import stopwords\n",
    "print(string.punctuation)\n",
    "print(stopwords.words(\"english\")[100:110])\n",
    "from nltk.stem.snowball import SnowballStemmer\n",
    "snowball = SnowballStemmer('english')"
   ]
  },
  {
   "cell_type": "markdown",
   "metadata": {},
   "source": [
    "## Now, we have to clean the html code removing words\n",
    "\n",
    "- First we remove inline JavaScript/CSS\n",
    "- Then we remove html comments. This has to be done before removing regular tags since comments can contain '>' characters\n",
    "- Next we can remove the remaining tags"
   ]
  },
  {
   "cell_type": "code",
   "execution_count": 380,
   "metadata": {},
   "outputs": [],
   "source": [
    "# Your code\n",
    "import re\n",
    "\n",
    "def clean_html(text):\n",
    "    if not isinstance(text, str):\n",
    "        return \"\"\n",
    "\n",
    "    # Remove inline JavaScript and CSS\n",
    "    text = re.sub(r'<(script|style).*?>.*?</\\1>', '', text, flags=re.DOTALL | re.IGNORECASE)\n",
    "\n",
    "    # Remove HTML comments\n",
    "    text = re.sub(r'<!--.*?-->', '', text, flags=re.DOTALL)\n",
    "\n",
    "    # Remove all remaining HTML tags\n",
    "    text = re.sub(r'<[^>]+>', '', text)\n",
    "\n",
    "    return text\n",
    "\n",
    "\n",
    "X_train_cleaned = X_train.apply(clean_html)\n",
    "X_test_cleaned = X_test.apply(clean_html)\n"
   ]
  },
  {
   "cell_type": "markdown",
   "metadata": {},
   "source": [
    "- Remove all the special characters\n",
    "    \n",
    "- Remove numbers\n",
    "    \n",
    "- Remove all single characters\n",
    " \n",
    "- Remove single characters from the start\n",
    "\n",
    "- Substitute multiple spaces with single space\n",
    "\n",
    "- Remove prefixed 'b'\n",
    "\n",
    "- Convert to Lowercase"
   ]
  },
  {
   "cell_type": "code",
   "execution_count": 381,
   "metadata": {},
   "outputs": [],
   "source": [
    "# Your code\n",
    "import re\n",
    "import unicodedata\n",
    "\n",
    "def clean_text(text):\n",
    "    if not isinstance(text, str):\n",
    "        return \"\"\n",
    "\n",
    "    # Normalize unicode to remove accents, etc.\n",
    "    text = unicodedata.normalize('NFKD', text).encode('ascii', 'ignore').decode('latin-1', 'ignore')\n",
    "\n",
    "    # Remove email addresses and URLs\n",
    "    text = re.sub(r'\\S+@\\S+', '', text)               # remove emails\n",
    "    text = re.sub(r'http\\S+|www\\S+', '', text)        # remove URLs\n",
    "\n",
    "    # Remove alphanumeric tokens (like 0000e2511c8print)\n",
    "    text = re.sub(r'\\b[a-zA-Z0-9]*\\d+[a-zA-Z]+\\w*\\b', '', text)\n",
    "\n",
    "    # Remove all numbers\n",
    "    text = re.sub(r'\\d+', '', text)\n",
    "\n",
    "    # Remove special characters\n",
    "    text = re.sub(r'[^\\w\\s]', ' ', text)\n",
    "\n",
    "    # Remove single characters\n",
    "    text = re.sub(r'\\b\\w\\b', '', text)\n",
    "\n",
    "    # Remove multiple spaces\n",
    "    text = re.sub(r'\\s+', ' ', text)\n",
    "\n",
    "    # Convert to lowercase and strip spaces\n",
    "    return text.lower().strip()\n",
    "\n",
    "X_train_cleaned = X_train.apply(clean_text)  # apply your cleaning function here\n"
   ]
  },
  {
   "cell_type": "code",
   "execution_count": 382,
   "metadata": {},
   "outputs": [
    {
     "data": {
      "application/vnd.microsoft.datawrangler.viewer.v0+json": {
       "columns": [
        {
         "name": "index",
         "rawType": "int64",
         "type": "integer"
        },
        {
         "name": "text",
         "rawType": "object",
         "type": "string"
        }
       ],
       "ref": "8f1bc633-8140-45de-9911-0498a10dc521",
       "rows": [
        [
         "228",
         "ok that when will go is that certain"
        ],
        [
         "45",
         "october rose thx for passing on the feedback which will share her let plan another catch up call copying my assistantlauren to try to schedule for us"
        ],
        [
         "373",
         "on the way back"
        ],
        [
         "813",
         "mrs maria socorrocredit accounts officerhead office equitable pci bank twr mkt avenue cor dela costa strphilippines good day let me start by introducing myself am mrs maria socorro credit accounts officer equitable pci bank am writing you this letter based on the latest development at my bank which will like to bring to your personal edification am writing you this letter with so much joy and excitement even though my heart goes out to the very powerfuland distinguished gentleman who was fortunate to have worked for and extremely privileged to have known for numerous years am top official in charge of client accounts in equitable pci bank inside the philippines in my client was going through horrendous divorce in the united states of america and was on the verge of losing most of his estate to his vicious and diabolical wife as result of this alarming predicament my client came to me with very brilliant idea he transferred some funds ten million two hundred thousand dollars to fixed deposit account in my bank under an alias which only the two of us knew about as the confidentiality of the matter was necessary for his protection due to his untimely death in early the funds have been sitting in the account ever since and will continue to do so perpetually unless we do something about it this is where you come in located you through an agency that helps seek people by their email my client did not declare any next of kin in his official papers including the paperwork of his bank deposit against this backdrop my suggestion to you is that would like you as foreigner to stand as the next of kin to our client so that you will be able to receive his funds want you to know that have had everything planned out so that we can come out successful have contacted an attorney that will prepare the necessary document that will back you up as the next of kin to my client all that is required from you at this stage is for you to provide me with your full"
        ],
        [
         "448",
         "fy"
        ],
        [
         "826",
         "absolutely that what you have think tank for on related note while it may not be useful for pakistan think weshd find ways to work qddr briefings discussions into our strategic dialogues india and china to talk about how weare rethinking both diplomacy and development maybe also south africa am"
        ],
        [
         "626",
         "brian thanks for the headsup on this we are working to decide the most effective way forward and ll keep you informed we have some good ideas as to what our govt can do but we also want to see pressure from local people brought onthe british and scottish govts can you and bruce reach out to the community in london and edinburgh to urge them to raise this pm brown andother govt officials we like to see top down and bottom up pressure let me know what you think"
        ],
        [
         "915",
         "dear sir madame with due respect like to disclose mutual transaction to you am donald duke the manager international diplomatic cargo services we have consignment valued us twenty one million united state dollars in our custody deposited by customer from congo democratic republic zaire our computer data system currently shows that the beneficiary of the deposited consignment died in an air crash early june until date we have not received any notification from his relatives for claiming of the deposited consignment also the relatives have till the end of this accounting year to lay claims or the consignment becomes the property of the company now want your assistance to move out this consignment in your name to your country or any other country you deem fit for investment as the manager of the company would take all measures to ensure the consignment is successfully moved to your desired destination with your maximum cooperation if this proposal appeals to you kindly give me your urgent response as soon as receive your positive intention to assist me then will furnish you with details on the procedures for success of this our trustee transaction would appreciate you keep it utmost secret because of my position best regards donald duke"
        ],
        [
         "146",
         "will print for you in am too"
        ],
        [
         "343",
         "forgot to tell you fixed in your blackberry today you had an outdated address for her"
        ],
        [
         "991",
         "am arrive state department am presidential daily briefing am secretary office am daily small staff meeting am secretary office am daily senior staff meeting am secretary conference room am party for dan smith am treaty room floor am weekly meeting un ambassador susan rice am secretary office am world refugee day event am benjamin franklin room efloor approx ppl expected am bilateral danish dpm fm lene espersen am secretary conference room official photo in east hall preceding am press pre brief am secretary office am joint press availability danish dpm fm espersen am treaty room am office time pm secretary office pm depart state department en route nfatc pm arrive nfatc pm dedication ceremony to mark the expansion of pm foreign service institute george shultz centernational foreign affairs training center approx ppl expected pm depart nfatc en route washington national airport pm arrive washington national airport pm depart washington national airport en route new york ny pm arrive new york laguardia airport pm depart new york laguardia airport en route private residence pm arrive private residence"
        ],
        [
         "728",
         "will do think we are in good shape immelt indra and huntsman making calls mark penn and terry very helpful"
        ],
        [
         "441",
         "financial adviser old ojo road pmb ikoyi lagos nigeria dear friend this is the true story of this matterplease my name is jones usman financial adviser to david national of your country he was an oil merchant here in nigeria on the my client his wife and their three children were involved in car accident along ibadan express road lagos all occupants of the vehicle unfortunately lost their lives along with the driver since then have made several enquiries in his embassy to locate any of my client extended relatives after these several unsuccessful attempts as matter of fact decided to trace his relatives over the internet in order to locate any member of his family for huge sum of fund deposited on his name in an offshore financial company overseas but that was to no avail hence decided within myself to contact you as his supposed relative since you are also foreigner to avoid the offshore company from confiscating the deposit for theirs please want you to assist me in repatriating the money left behind by my client before they get confiscated or declared unserviceable by the ubn finance company offshore payment centre where these huge deposits were lodged he had an deposit valued at about us twelve million us dollars and now the finance company has issued me an urgent notice to provide the next of kin or have the account freezed within the next ten official working days this was the last fund moved by my late claim to the offshore payment company of ubn for sefety by the oil merchant shortly before the autocrash that took his life and all in the car this was as result of the conflict emulated from the annulled june presidential election by the military dictatorship gen ibrahim babangida which resulted to the death of many people in nigeria even chief moshood abiola that won the presidential race go through topics nytimes com top reference timestopics people moshood_k_o_abiola index html oldest since have succeeded in locating you today as his relative hereby seek your consent to present you as well as use your name and particulars apply as the next of kin to the deceased so that the proceeds of this account deposit valued at us can be paid to you and then you and can share the money at last or invest with it for profitable venture in your country to me and to you to present you as the next of kin will pose no difficulty as there is no risk involved hence am the one presenting you officially have all the necessary legal documents that can be used to back up our claim the death certificate letter of administration sworn affidavitall require is your honest co operation to enable us see this transaction through guarantee that this business proposal to you is real and will be executed under legitimate arrangement without any problem at all please get in touch with me via my secured and confidential email address while you forward to me the following informations immediately you receive this message so that will give you further details if you are interested and ready to work with me your name and address to make the claim your phone number for urgent contact by me your occupation and your age remember to include your own private or mobile cell phone with which can equally reach you anticipating your prompt response yours sincerely financial adviser jones"
        ],
        [
         "319",
         "br br br good day br private message to you br br br br this is animportant message to you the lord directs me to share this with you as youread the mail you should sympathize with my current situation and assistme my name is isabella carmel the only survivor from family of four wasnarrowly escaped from the tsunami disaster which affected my spinal cord andalso my ear drum and claim the lifes of my entire family husband deniscaromel and two sons ugo and tom who went for holidays insri lanka br br br right now am currently in kuala lumpur malaysia after staying week in my family hospital was disabled by thecatastrophe and now on wheel cheer after all the treatment this hasdefiled all forms of medicine and right now have only about few monthsto live according to medical experts have not lived my life so well as myprimary interest and focus was only on my late fathers business though myfather is very rich and was never generous but now regret all this as iknow that there is more in life than just wanting to have or make all themoney in the world the bible says what shall it profit man to wine thewhole world and loose his soul believe when god gives me second chanceto come to this world will live my life different way from how havelived before have willed and given most of my fathers properties to theless privileges because want god to be merciful to me and accept my soul have decided to give arms to charity organizations and give succor andcomfort to the less privileged in our societies want this to be one ofthe last good deeds do on earth since my father has never recognizedthat br br br so far have to distribute money to charity organizationsnow that my health has deteriorated so badly cannot do this myself anymorethat is why am soliciting your assistant to make this donation through you the last of my late fathers money that am willing to donate to the lessprivileged right now is the huge sum of usd that is concealed in aconsignment and deposited in oversea credit commission abroad forsafekeeping which he intends to invest on profitable factory br br br iwant you to help me claim this funds where is deposited and disburse it tocharity organizations and the less privileged in the society please willappreciate you to indicate interest for the disbursement and also includeyour contact telephone fax numbers that will forward to the oversea creditcommission abroad to be able to contact you as the appointed beneficiary iwill provide you the certificate of deposit and the letter of authority toenable you claim the consignment of the funds br br if you are willing andready to assist with this project please mail me without delay while wait to hear fromyou thanks once again for your kindness may god guide and reward you in allyour endeavors as you make me realize my last dreams andwishes br br br br remain blessed br mrs isabella caromel br br br br ________________________________________________ br cristinafusi webmail message sent using uebimiau br"
        ],
        [
         "178",
         "dear friend attention please sorry to disturb you am dr idris ali the director in charge of auditing and accounting section of african development bank ouagadougou burkina faso west africa with due respect and regard have decided to contact you on business transaction that will be very beneficial to both of us at the end of the transaction during our investigation and auditing in this bank my department came across very huge sum of money belonging to deceased person who died in plane crash and the fund has been dormant in his account with this bank without any claim of the fund in our custody either from his family or relation before our discovery to this development the said amount was seven million five hundred thousand united states dollars as it may interest you to know got your impressive information through internet directory meanwhile all the whole arrangement to put claim over this fund as the bonafide next of kin to the deceased get the required approval and transfer this money to foreign account has been put in place and directives and needed information will be relayed to you as soon as you indicate your interest and willingness to assist and also benefit your self to this great business opportunity in fact could have done this deal alone but because of my position in this country as civil servant banker we are not allowed to operate foreign account and would eventually raise an eye brow on my side during the time of transfer because work in this bank this is the actual reason why it will require second party or fellow who will forward claims as the next of kin with affidavit of trust of oath to the bank and also present foreign account where he will need the money to be re transferred into on his request as it may be after due verification and clarification by the correspondent branch of the bank where the whole money will be remitted from to your own designation bank account will not fail to inform you that this transaction is risk free on smooth conclusion of this transaction you will be entitled to of the total sum as gratification while will be set aside to take care of expenses that may arise during the time of transfer and also telephone and internet bills while will be for me and my coleagues please you have been adviced to keep top secret as am still in service and intend to retire from service after we conclude this deal with you will be monitoring the whole situation here in this bank until you confirm the money in your account and ask me to come down to your country for subsequent sharing of the fund according to percentages previously indicated and further investment either in your country or any country you advice us to invest in all other necessary vital nformation will be sent to you when hear from you look forward to receive your phone and fax numbers for easy communication yours faithfully dr idris ali _________________________________________________________________windows live messenger venez tester la version ba"
        ],
        [
         "421",
         "thanks so much safe travels in india and thailand ll be getting the china ed ready"
        ],
        [
         "603",
         "dear friend it is with heart full of hope that write for your strict confidence in thistransaction this is by virtue of its nature as beingconfidential and top secret for got your contactthrough our large office of nigerian chambers ofcommerce and industries who assured me of yourability and reliabilitiy to execute transaction ofgreat magnitude am an accountant with beagon nig ltd foreign oilcompany based in lagos nigeria beagon was involvedinprospecting drilling and bunkering of oil at highsea with expatriate consisting majority ofthe staff strength these expatriatesgot into an illegal sale of oil andthe money from ittransferred through security company out of thecountry but with security stamp on it the federal government of nigeria discovered theillegal deal revoked their licence and theexpartriates were repatriated by virtue of myposition as the accountant of the company have inmy possession documents containing information abouttwo of these trunk boxes deposited with the securitycompany content of these boxes is thirty twomillion united states dollars have put in an application with the security companyto transfer these boxes to their correspondence officein canada dubai indonesia or europe which they have obliged andbeing that this deal was been carried out by foreignfirm need trustworthy foreigner like you thatwill assist me to logical conclusion of this pendingbusiness which both of us will bound to benefitearnestly all need from you is to stand before the securitycompany and sign as one of expatriates to enable youclaim the money and pay it into your bank account note that this transaction is risk free every machineries has been put in place forsuccessful conclusion remember that have with meall the necessary documents that will prove that themoney is for us expect you to be trustworthy and kind enough to keepmy own share when the money hit your account hereby agree to compensate your sincere and candideffort in this regard with of the fund after thetransfer and will be set aside for anyexpenses both local and international transportation bills etc will be settled from thispercentage while will before me and two of mycolleagues this deal will be concluded within seven working days will be looking forward to doing business with you solicit your confidentiality in this transaction acknowledge the receipt of this proposal via mye mail address to enable me know if you areinteresting or not sincerely ibrahim yadudu"
        ],
        [
         "74",
         "good morning dona be offended if may have disturbed your daily activities my name is mr noel panga am banker and work with the african development bank as senior staff have decided to contact you on business transaction that will be very beneficial to both of us at the end of the transaction during our investigation and auditing in this bank my department came across very huge sum of money belonging to deceased person who died in plane crash and the fund has been dormant in his account with this bank without any claim of the fund in our custody either from his family or relation before our discovery to this development the said amount was eighteen million four hundred thousand united states dollars as it may interest you to know got your impressive contacts through internet meanwhile all the whole arrangement to put claim over this fund as the bonafide next of kin to the deceased and transfer this money to foreign account has been put in place the directives and needed information will be relayed to you as soon as you indicate your interest and willingness to assist me and also benefit your self to this great business opportunity in fact could have done this deal alone but because of my position in this country as civil servant banker we are not allowed to operate foreign account and would eventually raise an eye brow on my side during the time of transfer because work in this bank this is the actual reason why it will require second party or fellow who will forward claims as the next of kin with affidavit of trust of oath to the bank and also present foreign account where he will need the money to be re transferred into on his request as it may be after due verification and clarification by the correspondent branch of the bank where the whole money will be remitted from to your own designation bank account will not fail to inform you that this transaction is risk free on smooth conclusion of this transaction you will be entitled to of the total sum as gratification while will be set aside to take care of expenses that may arise during the time of transfer and also telephone and internet bills while will be for me please you have been adviced to keep top secret as am still in service and intend to retire from service after we conclude this deal with you will be monitoring the whole situation here in this bank until you confirm the money in your account and ask me to come down to your country for subsequent sharing of the fund according to percentages previously indicated and further investment either in your country or any country you advice us to invest in all other necessary vital nformation will be sent to you when hear from you if the transaction interest you get back to me with your phone number to call you so we could proceed thanks mr noel panga _________________________________________________________________da windows live messenger le futur de msn messenger"
        ],
        [
         "848",
         "you will act like the beneficiary of this fund will sendto you the whole relevant documents that required in thistransaction immediately you accept to co operate with me and will inform you the proceedure to complete thistransaction successfully first want you to take this personally and maintain theconfidentiality if you can assist on this let me know sothat will discuss the percentages with you and inform youthe step we need to complete this transaction within days let me know if you are interested to proceed with me amgoing on retirement very soon and am hopeful if we canconlude on this will channel my funds in area of goodinvestment outside the country this transactionmust bebetween me and you only do not want it to be discussedwith third party send me your reply immediately best regards john williams"
        ],
        [
         "3",
         "dear sir know that this proposal might be surprise to you but it as an emergency nutshell am mr zuma from the republic of south africa now seeking for refuge in dakar senegal under the got your contact during desperate search here in dakar for possible transaction my father dr zuma kent williams he was the managing director of gold mine company in south africa but he was assinated by his business assoicate and all his properties was totally destroyed by his elder brother who alway hate to see me and my mother with his eye that man very wicked that is why and my mother managed to escape with some of my father documents covering million dollars which is presently deposited safely in finance firm on my name as the next of kin meanwhile are saddled with the problem of securing trust worthy foriegn personality to help us transfer the money over to his country and into his possession pending our arrival to meet with him furthermore only want this done this way because your country is politically stable for any profitable investment and only if you accept our proposal you will serve as the beneficiary of the fund on commencement of this proposed transactions am giving you the offers as mentioned with every confidence on your acceptance to assist us we have decided to invest of the total fund based on equity participation in your company secondly we shall also take out for any miscelleneous expenses that may occure conclusively wish you send me reply immediately as soon as yourecieve this proposal so that we shall arrange on how to lift this consignment out of dakar senegal to your country on commencement transaction will take nothing less than working days to be accomplished all documents covering the fund are safe and intact remain with the best regards please kindly responce to this alternative mail please call urgently to speak with me and my mother on this our direct telephone number thanks yours mr prince zuma"
        ],
        [
         "196",
         "let me check in abedin huma september pmhre checking in"
        ],
        [
         "995",
         "so what the latest it sounds contradictory and when does af have to decide shall we take the or shuttle"
        ],
        [
         "345",
         "good also pls be sure ellen tauscher knows asked jim jones last week to call kerry about her hearing and call sarahfarnsworth to see if jones did it yet"
        ],
        [
         "59",
         "mr soo chocho hung bank ka namdaemun ro chung kuseoul seoul korea am mr soo cho credit officer of cho hung bank have anurgent and very confidential business proposition for you on july british oil consultant contractor withthe south korea solid minerals corporation mr phillipmorris made numbered time fixed deposit for twelvecalendar months valued at twenty eight million threehundred thousand american dollars only in my branch upon maturity sent routine notification to hisforwarding address but got no reply after month we senta reminder and finally we discovered from his contractemployers that mr phillip morris died from an auto mobileaccident on further investigation found out that he died withoutmaking will and all attempts to trace his next of kin wasfruitless therefore made further investigation and discovered thatmr phillip morris did not declare any kin or relations inall his official documents including his bank depositpaperwork in my bank this sum of is stillsitting in my bank and the interest is being rolled overwith the principal sum at the end of each year no one willever come forward to claim it according to laws of south korea at the expiration of five years the money will revert to the ownership of thesouth korea government if nobody applies to claim the fund consequently my proposal is that will like you as aforeigner to stand in as the next of kin to mr phillipmorris so that the fruits of this old man labor will notget into the hands of some corrupt government officials this is simple will like you to provide immediately your full names and address so that the attorney will prepare the necessary documents and affidavits that will putyou in place as the next of kin we shall employ theservices of an attorney for drafting and notarization of thewill and to obtain the necessary documents and letter ofprobate administration in your favor for the transfer bank account in any part of the world that you will provide the will then facilitate the transfer of this money to you as the beneficiaryext of kin the money will be paid into your account for us to share inthe ratio of for me and for you and for expensesincurred in the course of the transaction there is no risk at all as all the paperwork for this transaction will be done by the attorney and with myposition as the credit officer guarantees the successfulexecution of this transaction if you are interested pleasereply immediately to my email box upon your response shall then provide you with more details that will help you understand the transaction please send me your confidential telephone and fax numbersfor easy communication you should observe utmost confidentiality and rest assuredthat this transaction would be most profitable for both ofus because shall require your assistance to invest myshare in your country regards soo chon endeavour to send your reply through my alternativee mail"
        ],
        [
         "215",
         "yes line droppedrest is coming now"
        ],
        [
         "22",
         "goodday are very sorry if this might offend you though we dont know you but and my young brother believe that the spirit of our father still leaves with us also we know he is aware that and my young brother are contacting you for an assistance based on trust me to use this medium to explain our problem to you in the name of the almighty god whom we serve firstly want to explain our seif to you that you will understand and comprehend our point clearly am ms mavasa old my young brother david mavasa old we from benin republic the only daurther and son of late mr and mrs william mavasa my father was very wealthy cocoa merchant based in dakar senegal the economic capital of senegal before he was poisoned to death by his business associates on one of his business outing when our mother died on the october our father took us so special because and my young brother was the only daurther and son he had before his death on the of august in private hospital here in porto novo republic he secretly called me on his bedside and told me that he has sum of us deposited in bank dakar senegal my name was used as his next of kin in deposit of the fund due to his encounter with his associates and relatives which lead to his death he instructed us to seek for foreign friend who will aid us in the transfer of the money for our education investment and live good life we are honourably seeking your assistance in the following ways to assist us in coming over to your country to further our education and to secure residential permit in your country moreover we are willing to offer you with in addition for all your expenses as compensation for your effort please indicate your willingless to help us by forwarding your full name and address your full name your age your sex marital status occupation home and office address telephone and fax number scan copy of your international passport or driving licence bank account details please reply promptly the lord be with you as we await your positive decision to help and god bless regards us with this email address silvia ms silvia mavasa brother david mavasa"
        ],
        [
         "26",
         "know you will be surprised to read from me but please consider this as arequest from family in dire need of assistance first must introducemyself am mr tsepo vusi from angola am the first and only son of brigadier vusi jones am presently resident in south africa got your contact address from business directory in johannesburgchamber of commerce and industry on behalf of my widowed mother mrs elizabethvusi desided to solicit for your assistance to transfer the sum of us twenty one million five hundred thousand united states dollars inheritedfrom my late father into your personal company account before my fathers death he was brigadier in charge of arms andammunation procurement for the angola army in his will he specificallydrew my attention to the said sum of money which he deposited in safe box ofa private security company in johannesburg south africa in treasure box fully documented in my name in fact my father said and quote my beloved son wish to draw yourattention to us million deposited the box containing this money in securitycompany in johannesburg south africa during the war was very dedicatedand officers and government functionaries were bussy helping themselves withgovernment funds and properties and sending them to foreign countries dueto this when and my former special advisor to the president were assignedby the president eduardo santos to purchase arms in south africa we saw thisas golden opportunity and diverted the money and divided it got total sumof us million in case of my absence on earth as result of deathonly you should solicit for the fund for investment purposes from the above you will understand that the lives and future of my familydepens on this money as such will be grateful if you can assist us we are nowliving in south africa as political asylum seekers and financial laws andregulation of the republic of south africa do not permit us financial rights to suchhuge sum of money in view of this cannot invest this fund in south africa hencei am prepared to offer you of the total fund while will be set asidefor local and international expenses and will be for my family and me finally modalities on howthe transfer will be bone will be conveyed to you once wehave established trust and confidence between ourselves please treat thismatter as very urgent best regards tsepo vusi"
        ],
        [
         "253",
         "its tom doniion who wants to speak with you secure ops was mistaken he would like to speak with you asap as he isleaving shortly"
        ],
        [
         "157",
         "services in post doc"
        ],
        [
         "816",
         "as prelude"
        ],
        [
         "655",
         "from miss maria deniseaddress ave rue cote ivoiredearest belovedbase on your profile am happy to request for your assistance and alsoto go into business partnership with you believe that you will not betaryed my trust which am going to lay on you am miss maria denise old and the only daughter of my late parents mr and mrs denise my father was highly reputable busnness magnet cocoa merchant who operated in the capital of ivory coast during his days it is sad to say that he passed away mysteriously in france during one of his business trips abroad year febuary though his sudden death was linked or rather suspected to have been masterminded by an uncle of his who travelled with him at that time but god knows the truth my mother died when was just years old and since then my father took me so special before his death on febuary he called the secretary who accompanied him to the hospital and told him that he has the sum of ten million united state dollars usd left in security company in mettalic trunk box but the security company didn know the content because it was decleared as family valuables personal for security reasons am just old and university undergraduate and really don know what to do this is because have suffered lot of set backs as result of incessant political crisis here in ivory coast the death of my father actually brought sorrow to my life sir am in sincere desire of your humble assistance in this regards your suggestions and ideas will be highly regarded now permit me to ask you these question can completely trust you consider this and get back to me as soon as possible thank you so much my sincere regards miss maria denise maria denise"
        ],
        [
         "847",
         "rec and printed all will be on your desk"
        ],
        [
         "729",
         "maria will see morales tomorrow we ll get you readout shortly after the mtg concludes"
        ],
        [
         "415",
         "davis over percentpls add to call list"
        ],
        [
         "733",
         "cash money but the security company does not know theactual content of the consignment because it wasdeposited by my father with declaration that thecontent is precious metals and diamond valued at us and this was done with diplomatic immunity and forsecurity reason at the time my father was still ingovernment in my country zimbabwe this transaction is basically risk free for you therefore reach me preferably with the above statedphone or fax number to ensure the security of thistransaction note that it is because of theconfidential nature of this transaction that amgiving you this contact info which you can use to reach"
        ],
        [
         "749",
         "br effort input after the successful transfer of this fund to your br nominated account overseas furthermore you can indicate your option br towards assisting me as believe that this transaction would be br concluded within seven days you signify interestto assist me br will appreciate you send me mail anticipating to hear from you br soon thanks and god bless jessica prince tony pre target _new img width height border"
        ],
        [
         "955",
         "dear sir got your contact in cause of seriouse search for reliable foreign partner which really made me to contact you for assistance in transfering my money to you for investement purpose desu matthani the son of late sierraleonian col suko who died years ago when the revolutionary united front rebels our residence on the of feb in makeni sierraleon following the cease fire agreement which was reach year before last year with the help of united nation peace keeping troops used the opporturnity to leave the country with very important document of million five hundred thousand dollars deposited by my late father in security company under my name this money was realised from diamond export now searching for trusted individual or foreign firm whom can invest this money with for am next of kin to these money however contact you based on your capability and vast knowledge on international commercial investement for your assistance and co opertion will give you of the total sum realised after the sucessfull transffer of this money kindly communicate your acceptance of this proposal so that we can discuss the modalities of seeing this transaction through count on you greately for your assistance will be waiting to hearing from you soonest thanks desu matthani contact me alternatively with this mail below matt"
        ],
        [
         "477",
         "kone law firm kofo abayomi streetvictoria friend"
        ],
        [
         "919",
         "hello dear greastest compliments and how are you please let me introduce myself to you am lt gen dan broswer former director of logistic and planning in federal republic of liberia the heat of the war in my country liberia was handed million five hundred thousand dollars usd for the purchase of military eqiupments arms and amminition from russia the condition that befell the former government of charles taylor did not permit me to use the money for the purpose and this fund has already been diplomatically transfered into foreign security company for security reasons which will give you all the necessary information and the documents covering this money as soon as hear from you then we can discuss about the percentage am going to offer you after the transaction presently am in dakar senegal where have been granted refugee since the intervation of united nation organization in my country now intend to go into real estate business with this money deposited in security company since am no longer into power but please you have to understand that transaction of this magnitude and nature requires absolute secrecy so that no one else will hears about it especially our mutual agreement to utilize this money for purchasing of military eqiupments as stated in the paragraph above as solicite your humble and truthful assistance in this financial transaction and looking forward to hearing from you soon best regards sincerely lt gen dan broswerdbroswer"
        ],
        [
         "983",
         "salami am mr ali hussein from basra iraq am writing you this email as muslim brother as you and know about the unrest in my country want to use this means to apple for your help to relocate my family and funds us to your country as just lost my wife some month ago because of the unrest here in basra and have my baby with me now hope to hear from youassalam ualaikum_________________________________________________________________express yourself instantly with msn messenger download today it free"
        ],
        [
         "734",
         "like that can you prepare cover so can give to him today"
        ],
        [
         "819",
         "yes working it now"
        ],
        [
         "404",
         "thanks madame secretary kagan also had an unusually supportive piece on friday that prominently mentioned your role on asiahe built singapore from nothing and his book is pretty damn inspirational on that front leave for asia early monday and will check in from the road thanks and best kurt"
        ],
        [
         "860",
         "dear friend my compliment to you guess this letter may come to you as surprise since had no previous correspondence with you am sending you this mail on behalf of the chairman tender board of independent national electoral commission inec mr settley daze we got your contact in our search for reliable person to handle very confidential transaction involving the transfer of forty nine million five hundred thosand united states dollars us the above fund is not connected with arms drugs or money laundering it is the product of an over invoiced contract awarded in by inec to foreign company for the construction of high rise estate in the federal capital territory the contract has long been executed and payment of the actual contract amount has been paid to the foreign contractor leaving the balance which my colleague and now want to transfer out of nigeria into reliable foreign account for our personal use as civil servants we are not allowed to run foreign accounts hence we have chosen you to front and support us as the beneficiary to be paid if you are interested in the proposal kindly get back to me by sending me your letter of acceptance along with your direct telephone and fax numbers for your support and partnership please reply me to negotiate your fees or the percentage you wish to be paid when the funds arrive your bank account further details about this transaction will be discussed in the subsequent correspondence note also that the particular nature of your business is irrelevant to this transaction and all local contacts and arrangements are in place for smooth and successful conclusion of this transaction be informed that we are aware of the way email proposals of this type are being sent from this part of africa and as regards that you should please treat this with utmost attention knowing fully well that you cannot and will not be compelled to assist us if you are not disposed to contact me via my email account or you also reach me on this email account with your contact telephone and fax numbers on response will call you for discussion thank you as await your response sincerely dr rasheed abubakar"
        ],
        [
         "268",
         "holbrooke and eikenberry want to talk about elections they want to do secure can give me time that works for youto talk"
        ],
        [
         "689",
         "table border width cellpadding cellpadding tr td bgcolor ffffff from dr charles jideofor br nnpc towers ikoyi br lagos nigeria nbsp hello nbsp good day nbsp am the chairman of the contract award committee federal br ministry of petroleum resources nigeria am in search of br an agent to assist us in the transfer of us thirty br million four hundred thousand united states dollars usd br and subsequent investment in properties in your br country you will be required to nbsp assist in the transfer of the said sum br nbsp advise on lucrative areas for investment br nbsp assist us in purchase of properties if you decide to render your service to us in this regard br of the total sum will be offerred to you pls quickly br get back to me thanks respectfully dr charles jideofor chairman contract award committee ccac nbsp td tr table br br span style font family monospace span br span style font family verdana font size deja de trabajar para beneficiar tu jefe trabaja para ti desde casa br href target _blank"
        ],
        [
         "979",
         "she likes"
        ],
        [
         "161",
         "mr badmus igwebranch managergulf bank plcilupeju branch lagosnigeria president am pleased to get across to you for very urgent and profitable business proposal though don know you neither have seen you before but my confidence was reposed on you when the chief executive of lagos state chamber of commerce and industry handed me yourcontact for confidential business am the manager of gulf bank plc branch lagos nigeria intended business is thus we had customer foreign resident in nigeria he was contractor with one of the government parastatals has in his account in my branch the sum of us million million five hundred thousand the man died three years ago until today non of his next of kin has come forward to claim the money having noticed this in collaboration with two other top officials of the bank have covered up the account all this while now we want you foreigner to be fronted as one of his next of kin and forward your account and other relevant documents to be advised to you by us to attest to the claim we will use our positions to get all internal documentations to back up the claims the whole procedures will last only five working days to get the fund retrieved successfully without trace even now or in future response is only what we are waiting for as we have arranged all necessary things soon as this message comes to you kindly get back to me through my personal email address indicating your interest then will furnish you with the whole procedures to ensure that the deal is successfully concluded for your assistance we have agreed to give you twenty five percent of the total sum at the end of the transaction while would be for my colleagues and and the remaining would be for any form ofexpenses that may be incurred during the course of the transaction which would be given to us when the money is transferred into your account before splitting the balance on the agreed percentage of to in order to get all the legal documents from the court kindly send the following information to us immediately your full name and fax numbers as well as your resident or company address bank name bank address await your earliest response yours sincerely mr badmus igwe"
        ],
        [
         "935",
         "dear sir madam am mr john coleman and my sister is miss rose coleman we are the children of late chief paul coleman from sierra leone am writing you in absolute confidence primarily to seek your assistance to transfer our cash of twenty one million dollars now in the custody of private security trust firm in europe the money is in trunk boxes deposited and declared as family valuables by my late father as matter of fact the company does not know the content as money although my father made them to under stand that the boxes belongs to his foreign partner source of the money my late father chief paul coleman native of mende district in the northerh province of sierra leone was the general manager of sierra leone mining co operation freetown according to my father this money was the income accrued from mining co operation over draft and minor sales before the peak of the civil war between the rebels forces of major paul koroma and the combined forces of ecomog peace keeping operation that almost destroyed my country following the forceful removal from power of the civilian elected president ahmed tejan kabbah by the rebels my father had already made arrangement for his family thats talking about my mother my little sister and myself to be evacuated to holland netherland with the certificate of deposit he made with security firm in europe through the aid of evacuation team during the war in my country and following the indiscriminate looting of public and government properties by the rebel forces the sierra leone mining coop was one of the target looted and it was destroyed my father including other top government functionaries were attaked and killed by the rebels in november because of his relationship with the civilian government of ahmed tejan kabbah as result of my father death and with the news of my uncle involvement in the air crash in januaryit dashed our hope of survival the untimely deaths caused my mother heart failure and other related complications of which she later died in the hospital after we must have spent lot of money on her early this year now my years old sister and myself are alone in this strange country suffering without any care or help without any relation we are nowlike refugees and orphans our only hope now is in you and the boxes deposited in the security firm to this effect humbly solicit your assistance in the followings ways to assist me claim this boxes from the security firm as our beneficiary to transfer this money usd in your name to your country to make good arrangement for joint business investment on ourbehalf in your country and you our adviser managerfor your assistance have agreed with my younger sister that of the total amount will be for your effort and another to cover all the expenses that may incur during the business transaction last urge you to keep this transaction strictly confidential as no one knows our where about please as you show your willingness forward to us your full name address and tel fax numbers to me via my private email address as indicated this is for security reasons as will only be accessing my private email earnestly awaiting your response thanks may god bless you as you assist us mr john coleman"
        ],
        [
         "502",
         "je suis monsieur oumarou trikouni directeur charge des factures et echanges exterieurs de la bank of africa burkina faso marie pere de trois enfants age ansdans mon departement ai decouvert une somme abandonna une valeur de us seize millions cinq cent milles dollars usa dans un compte appartenant aa un de nos clients qui eu la mort avec toute sa famille dans un crash avion en depuis que nous avions obtenus les informations sur sa mort nous nous attendions aa ce que ses proches parents ou sa proche relation viennent ra la malheureusement jusqua aucune manifestation dans ses cas figurent en conformita aa avec les lois et reglements interieurs des operations bancaires de la boite stipulent que si une telle somme restait sans aucune manifestation quelconque un proche six anna apra ladite somme est transfera dans le tresor de la banque comme etant un fond non reclama aa suite aa cette da ai da aa de vous faire cette proposition affaire afin de pouvoir liba argent dautant puisque personne ne vient la ra je propose que vous vous da aa la banque comme etant un parent ou une proche relation de la famille defunte si nous tombons da de la somme sera aa vous les servirons aux frais occasionnant les operations du transfert et les serons aa moi par consa pour permettre le transfert imma de ces fonds il vous faut ouvrir aa votre nom un compte bancaire si vous aviez pas ensiute vous devez adresser une lettre aa la banque comme etan un proche parent de la famille da comme suit le nom de votre banque votre numa de compte bancaire votre numa de fax et de ta priva aa"
        ]
       ],
       "shape": {
        "columns": 1,
        "rows": 800
       }
      },
      "text/plain": [
       "228                 ok that when will go is that certain\n",
       "45     october rose thx for passing on the feedback w...\n",
       "373                                      on the way back\n",
       "813    mrs maria socorrocredit accounts officerhead o...\n",
       "448                                                   fy\n",
       "                             ...                        \n",
       "950           fyiwe have not announced the amount raised\n",
       "969    interesting approach towards influencing popul...\n",
       "40                                                    jm\n",
       "742    dear friend am mr mark boland the bank manager...\n",
       "595    call me on my mobile phone number ceo presiden...\n",
       "Name: text, Length: 800, dtype: object"
      ]
     },
     "execution_count": 382,
     "metadata": {},
     "output_type": "execute_result"
    }
   ],
   "source": [
    "X_train_cleaned"
   ]
  },
  {
   "cell_type": "markdown",
   "metadata": {
    "slideshow": {
     "slide_type": "-"
    }
   },
   "source": [
    "## Now let's work on removing stopwords\n",
    "Remove the stopwords."
   ]
  },
  {
   "cell_type": "code",
   "execution_count": 383,
   "metadata": {},
   "outputs": [],
   "source": [
    "# Your code\n",
    "stop_words = set(stopwords.words('english'))\n",
    "\n",
    "def remove_stopwords(text):\n",
    "    tokens = text.split()\n",
    "    filtered = [word for word in tokens if word not in stop_words]\n",
    "    return ' '.join(filtered)\n",
    "\n",
    "X_train_cleaned = X_train_cleaned.apply(remove_stopwords)\n",
    "X_test_cleaned = X_test_cleaned.apply(remove_stopwords)"
   ]
  },
  {
   "cell_type": "markdown",
   "metadata": {},
   "source": [
    "## Tame Your Text with Lemmatization\n",
    "Break sentences into words, then use lemmatization to reduce them to their base form (e.g., \"running\" becomes \"run\"). See how this creates cleaner data for analysis!"
   ]
  },
  {
   "cell_type": "code",
   "execution_count": 384,
   "metadata": {},
   "outputs": [
    {
     "name": "stderr",
     "output_type": "stream",
     "text": [
      "[nltk_data] Downloading package punkt to\n",
      "[nltk_data]     C:\\Users\\Acer\\AppData\\Roaming\\nltk_data...\n",
      "[nltk_data]   Package punkt is already up-to-date!\n",
      "[nltk_data] Downloading package wordnet to\n",
      "[nltk_data]     C:\\Users\\Acer\\AppData\\Roaming\\nltk_data...\n",
      "[nltk_data]   Package wordnet is already up-to-date!\n"
     ]
    }
   ],
   "source": [
    "# Your code\n",
    "\n",
    "import nltk\n",
    "from nltk.stem import WordNetLemmatizer\n",
    "from nltk.tokenize import word_tokenize\n",
    "\n",
    "nltk.download('punkt')\n",
    "nltk.download('wordnet')\n",
    "\n",
    "lemmatizer = WordNetLemmatizer()\n",
    "\n",
    "def lemmatize_text(text):\n",
    "    tokens = word_tokenize(text)\n",
    "    lemmatized = [lemmatizer.lemmatize(token) for token in tokens]\n",
    "    return ' '.join(lemmatized)\n",
    "\n",
    "# Apply to cleaned data\n",
    "X_train_cleaned = X_train_cleaned.apply(lemmatize_text)\n",
    "X_test_cleaned = X_test_cleaned.apply(lemmatize_text)\n"
   ]
  },
  {
   "cell_type": "code",
   "execution_count": 385,
   "metadata": {},
   "outputs": [
    {
     "name": "stdout",
     "output_type": "stream",
     "text": [
      "228                                        ok go certain\n",
      "45     october rose thx passing feedback share let pl...\n",
      "373                                             way back\n",
      "813    mr maria socorrocredit account officerhead off...\n",
      "448                                                   fy\n",
      "Name: text, dtype: object\n"
     ]
    }
   ],
   "source": [
    "# Final cleaned version\n",
    "print(X_train_cleaned.head())\n"
   ]
  },
  {
   "cell_type": "markdown",
   "metadata": {},
   "source": [
    "## Bag Of Words\n",
    "Let's get the 10 top words in ham and spam messages (**EXPLORATORY DATA ANALYSIS**)"
   ]
  },
  {
   "cell_type": "code",
   "execution_count": 386,
   "metadata": {},
   "outputs": [
    {
     "name": "stdout",
     "output_type": "stream",
     "text": [
      "Top 10 words in HAM messages:\n",
      "would        93\n",
      "mr           90\n",
      "pm           84\n",
      "time         83\n",
      "president    82\n",
      "state        80\n",
      "percent      77\n",
      "call         77\n",
      "aaa          72\n",
      "work         69\n",
      "dtype: int64\n",
      "\n",
      "Top 10 words in SPAM messages:\n",
      "br             864\n",
      "money          783\n",
      "account        727\n",
      "bank           652\n",
      "fund           636\n",
      "transaction    474\n",
      "country        412\n",
      "business       410\n",
      "mr             369\n",
      "nbsp           345\n",
      "dtype: int64\n"
     ]
    }
   ],
   "source": [
    "# Your code\n",
    "from sklearn.feature_extraction.text import CountVectorizer\n",
    "import pandas as pd\n",
    "\n",
    "# Vectorize the entire cleaned dataset\n",
    "vectorizer = CountVectorizer()\n",
    "X_bow = vectorizer.fit_transform(X_train_cleaned)\n",
    "\n",
    "# Convert to DataFrame for analysis\n",
    "bow_df = pd.DataFrame(X_bow.toarray(), columns=vectorizer.get_feature_names_out())\n",
    "bow_df['label'] = y_train.values  # Add back numeric labels (0 for ham, 1 for spam)\n",
    "\n",
    "# Split by label using numeric labels\n",
    "ham_words = bow_df[bow_df['label'] == 0].drop('label', axis=1).sum()\n",
    "spam_words = bow_df[bow_df['label'] == 1].drop('label', axis=1).sum()\n",
    "\n",
    "# Top 10 words per class\n",
    "top_ham = ham_words.sort_values(ascending=False).head(10)\n",
    "top_spam = spam_words.sort_values(ascending=False).head(10)\n",
    "\n",
    "print(\"Top 10 words in HAM messages:\")\n",
    "print(top_ham)\n",
    "\n",
    "print(\"\\nTop 10 words in SPAM messages:\")\n",
    "print(top_spam)\n",
    "\n"
   ]
  },
  {
   "cell_type": "markdown",
   "metadata": {},
   "source": [
    "## Extra features"
   ]
  },
  {
   "cell_type": "code",
   "execution_count": 399,
   "metadata": {},
   "outputs": [
    {
     "data": {
      "application/vnd.microsoft.datawrangler.viewer.v0+json": {
       "columns": [
        {
         "name": "index",
         "rawType": "int64",
         "type": "integer"
        },
        {
         "name": "money_mark",
         "rawType": "int64",
         "type": "integer"
        },
        {
         "name": "suspicious_words",
         "rawType": "int64",
         "type": "integer"
        },
        {
         "name": "text_len",
         "rawType": "int64",
         "type": "integer"
        }
       ],
       "ref": "cc901282-0f12-423a-9da8-f05cdd0f098f",
       "rows": [
        [
         "228",
         "0",
         "0",
         "13"
        ],
        [
         "45",
         "0",
         "0",
         "106"
        ],
        [
         "373",
         "0",
         "0",
         "8"
        ],
        [
         "813",
         "1",
         "1",
         "1230"
        ],
        [
         "448",
         "0",
         "0",
         "2"
        ]
       ],
       "shape": {
        "columns": 3,
        "rows": 5
       }
      },
      "text/html": [
       "<div>\n",
       "<style scoped>\n",
       "    .dataframe tbody tr th:only-of-type {\n",
       "        vertical-align: middle;\n",
       "    }\n",
       "\n",
       "    .dataframe tbody tr th {\n",
       "        vertical-align: top;\n",
       "    }\n",
       "\n",
       "    .dataframe thead th {\n",
       "        text-align: right;\n",
       "    }\n",
       "</style>\n",
       "<table border=\"1\" class=\"dataframe\">\n",
       "  <thead>\n",
       "    <tr style=\"text-align: right;\">\n",
       "      <th></th>\n",
       "      <th>money_mark</th>\n",
       "      <th>suspicious_words</th>\n",
       "      <th>text_len</th>\n",
       "    </tr>\n",
       "  </thead>\n",
       "  <tbody>\n",
       "    <tr>\n",
       "      <th>228</th>\n",
       "      <td>0</td>\n",
       "      <td>0</td>\n",
       "      <td>13</td>\n",
       "    </tr>\n",
       "    <tr>\n",
       "      <th>45</th>\n",
       "      <td>0</td>\n",
       "      <td>0</td>\n",
       "      <td>106</td>\n",
       "    </tr>\n",
       "    <tr>\n",
       "      <th>373</th>\n",
       "      <td>0</td>\n",
       "      <td>0</td>\n",
       "      <td>8</td>\n",
       "    </tr>\n",
       "    <tr>\n",
       "      <th>813</th>\n",
       "      <td>1</td>\n",
       "      <td>1</td>\n",
       "      <td>1230</td>\n",
       "    </tr>\n",
       "    <tr>\n",
       "      <th>448</th>\n",
       "      <td>0</td>\n",
       "      <td>0</td>\n",
       "      <td>2</td>\n",
       "    </tr>\n",
       "  </tbody>\n",
       "</table>\n",
       "</div>"
      ],
      "text/plain": [
       "     money_mark  suspicious_words  text_len\n",
       "228           0                 0        13\n",
       "45            0                 0       106\n",
       "373           0                 0         8\n",
       "813           1                 1      1230\n",
       "448           0                 0         2"
      ]
     },
     "execution_count": 399,
     "metadata": {},
     "output_type": "execute_result"
    }
   ],
   "source": [
    "# We add to the original dataframe two additional indicators (money symbols and suspicious words).\n",
    "# Define lists of money symbols and suspicious words\n",
    "money_symbol_list = \"|\".join([\"euro\", \"dollar\", \"pound\", \"€\", r\"\\$\"])\n",
    "suspicious_words = \"|\".join([\n",
    "    \"free\", \"cheap\", \"sex\", \"money\", \"account\", \"bank\",\n",
    "    \"fund\", \"transfer\", \"transaction\", \"win\", \"deposit\", \"password\"\n",
    "])\n",
    "\n",
    "# Create a DataFrame with extra features for training data\n",
    "train_features = pd.DataFrame({\n",
    "    'money_mark': X_train_cleaned.str.contains(money_symbol_list) * 1,\n",
    "    'suspicious_words': X_train_cleaned.str.contains(suspicious_words) * 1,\n",
    "    'text_len': X_train_cleaned.apply(len)\n",
    "})\n",
    "\n",
    "# Create a DataFrame with extra features for test data\n",
    "test_features = pd.DataFrame({\n",
    "    'money_mark': X_test_cleaned.str.contains(money_symbol_list) * 1,\n",
    "    'suspicious_words': X_test_cleaned.str.contains(suspicious_words) * 1,\n",
    "    'text_len': X_test_cleaned.apply(len)\n",
    "})\n",
    "\n",
    "train_features.head()\n"
   ]
  },
  {
   "cell_type": "markdown",
   "metadata": {},
   "source": [
    "## How would work the Bag of Words with Count Vectorizer concept?"
   ]
  },
  {
   "cell_type": "code",
   "execution_count": 400,
   "metadata": {},
   "outputs": [
    {
     "name": "stdout",
     "output_type": "stream",
     "text": [
      "Shape of CountVectorizer train data: (800, 14199)\n",
      "Shape of CountVectorizer test data: (200, 14199)\n"
     ]
    }
   ],
   "source": [
    "# Your code\n",
    "from sklearn.feature_extraction.text import CountVectorizer\n",
    "\n",
    "count_vect = CountVectorizer()\n",
    "X_train_counts = count_vect.fit_transform(X_train_cleaned)\n",
    "X_test_counts = count_vect.transform(X_test_cleaned)\n",
    "\n",
    "print(\"Shape of CountVectorizer train data:\", X_train_counts.shape)\n",
    "print(\"Shape of CountVectorizer test data:\", X_test_counts.shape)\n"
   ]
  },
  {
   "cell_type": "markdown",
   "metadata": {},
   "source": [
    "## TF-IDF\n",
    "\n",
    "- Load the vectorizer\n",
    "\n",
    "- Vectorize all dataset\n",
    "\n",
    "- print the shape of the vetorized dataset"
   ]
  },
  {
   "cell_type": "code",
   "execution_count": 401,
   "metadata": {},
   "outputs": [
    {
     "name": "stdout",
     "output_type": "stream",
     "text": [
      "Shape of TF-IDF train data: (800, 14199)\n",
      "Shape of TF-IDF test data: (200, 14199)\n"
     ]
    }
   ],
   "source": [
    "# Your code\n",
    "from sklearn.feature_extraction.text import TfidfVectorizer\n",
    "\n",
    "tfidf_vect = TfidfVectorizer()\n",
    "X_train_tfidf = tfidf_vect.fit_transform(X_train_cleaned)\n",
    "X_test_tfidf = tfidf_vect.transform(X_test_cleaned)\n",
    "\n",
    "print(\"Shape of TF-IDF train data:\", X_train_tfidf.shape)\n",
    "print(\"Shape of TF-IDF test data:\", X_test_tfidf.shape)\n"
   ]
  },
  {
   "cell_type": "markdown",
   "metadata": {},
   "source": [
    "## And the Train a Classifier?"
   ]
  },
  {
   "cell_type": "code",
   "execution_count": 402,
   "metadata": {},
   "outputs": [
    {
     "name": "stdout",
     "output_type": "stream",
     "text": [
      "Accuracy: 0.92\n",
      "              precision    recall  f1-score   support\n",
      "\n",
      "           0       0.88      1.00      0.93       113\n",
      "           1       1.00      0.82      0.90        87\n",
      "\n",
      "    accuracy                           0.92       200\n",
      "   macro avg       0.94      0.91      0.92       200\n",
      "weighted avg       0.93      0.92      0.92       200\n",
      "\n"
     ]
    }
   ],
   "source": [
    "# Your code\n",
    "from sklearn.linear_model import LogisticRegression\n",
    "from sklearn.metrics import classification_report, accuracy_score\n",
    "\n",
    "clf = LogisticRegression(max_iter=1000)\n",
    "clf.fit(X_train_tfidf, y_train)  # or use X_train_counts\n",
    "\n",
    "y_pred = clf.predict(X_test_tfidf)  # or use X_test_counts\n",
    "\n",
    "print(\"Accuracy:\", accuracy_score(y_test, y_pred))\n",
    "print(classification_report(y_test, y_pred))\n"
   ]
  },
  {
   "cell_type": "markdown",
   "metadata": {},
   "source": [
    "### Extra Task - Implement a SPAM/HAM classifier\n",
    "\n",
    "https://www.kaggle.com/t/b384e34013d54d238490103bc3c360ce\n",
    "\n",
    "The classifier can not be changed!!! It must be the MultinimialNB with default parameters!\n",
    "\n",
    "Your task is to **find the most relevant features**.\n",
    "\n",
    "For example, you can test the following options and check which of them performs better:\n",
    "- Using \"Bag of Words\" only\n",
    "- Using \"TF-IDF\" only\n",
    "- Bag of Words + extra flags (money_mark, suspicious_words, text_len)\n",
    "- TF-IDF + extra flags\n",
    "\n",
    "\n",
    "You can work with teams of two persons (recommended)."
   ]
  },
  {
   "cell_type": "code",
   "execution_count": null,
   "metadata": {},
   "outputs": [],
   "source": [
    "# Your code"
   ]
  }
 ],
 "metadata": {
  "celltoolbar": "Slideshow",
  "kernelspec": {
   "display_name": "base",
   "language": "python",
   "name": "python3"
  },
  "language_info": {
   "codemirror_mode": {
    "name": "ipython",
    "version": 3
   },
   "file_extension": ".py",
   "mimetype": "text/x-python",
   "name": "python",
   "nbconvert_exporter": "python",
   "pygments_lexer": "ipython3",
   "version": "3.13.5"
  }
 },
 "nbformat": 4,
 "nbformat_minor": 2
}
