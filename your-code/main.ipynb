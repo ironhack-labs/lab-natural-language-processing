{
 "cells": [
  {
   "cell_type": "code",
   "execution_count": 1,
   "metadata": {},
   "outputs": [
    {
     "name": "stderr",
     "output_type": "stream",
     "text": [
      "/var/folders/yj/_2dcl_l16cl6dr1bp7h1j6hw0000gn/T/ipykernel_95883/3777615979.py:1: DeprecationWarning: Importing display from IPython.core.display is deprecated since IPython 7.14, please import from IPython display\n",
      "  from IPython.core.display import display, HTML\n"
     ]
    },
    {
     "data": {
      "text/html": [
       "<style>.container { width:100% !important; }</style>"
      ],
      "text/plain": [
       "<IPython.core.display.HTML object>"
      ]
     },
     "metadata": {},
     "output_type": "display_data"
    }
   ],
   "source": [
    "from IPython.core.display import display, HTML\n",
    "display(HTML(\"<style>.container { width:100% !important; }</style>\"))"
   ]
  },
  {
   "cell_type": "markdown",
   "metadata": {},
   "source": [
    "# Lab | Natural Language Processing\n",
    "### SMS: SPAM or HAM"
   ]
  },
  {
   "cell_type": "markdown",
   "metadata": {},
   "source": [
    "### Let's prepare the environment"
   ]
  },
  {
   "cell_type": "code",
   "execution_count": 22,
   "metadata": {},
   "outputs": [],
   "source": [
    "import pandas as pd\n",
    "import matplotlib.pyplot as plt\n",
    "from sklearn.feature_extraction.text import TfidfVectorizer\n",
    "\n",
    "import re\n",
    "from nltk.stem import WordNetLemmatizer\n",
    "from nltk.tokenize import word_tokenize\n",
    "\n",
    "from collections import Counter\n",
    "import matplotlib.pyplot as plt"
   ]
  },
  {
   "cell_type": "markdown",
   "metadata": {},
   "source": [
    "- Read Data for the Fraudulent Email Kaggle Challenge\n",
    "- Reduce the training set to speead up development. "
   ]
  },
  {
   "cell_type": "code",
   "execution_count": 3,
   "metadata": {},
   "outputs": [
    {
     "name": "stdout",
     "output_type": "stream",
     "text": [
      "(1000, 2)\n"
     ]
    }
   ],
   "source": [
    "## Read Data for the Fraudulent Email Kaggle Challenge\n",
    "data = pd.read_csv(\"../data/kg_train.csv\", encoding='latin-1')\n",
    "\n",
    "# Reduce the training set to speed up development. \n",
    "# Modify for final system\n",
    "data = data.head(1000)\n",
    "print(data.shape)\n",
    "data.fillna(\"\",inplace=True)"
   ]
  },
  {
   "cell_type": "markdown",
   "metadata": {},
   "source": [
    "### Let's divide the training and test set into two partitions"
   ]
  },
  {
   "cell_type": "code",
   "execution_count": 4,
   "metadata": {},
   "outputs": [
    {
     "name": "stdout",
     "output_type": "stream",
     "text": [
      "Training set shape: (800, 2)\n",
      "Validation set shape: (200, 2)\n",
      "\n",
      "Training set class distribution:\n",
      "label\n",
      "0    446\n",
      "1    354\n",
      "Name: count, dtype: int64\n",
      "\n",
      "Validation set class distribution:\n",
      "label\n",
      "0    112\n",
      "1     88\n",
      "Name: count, dtype: int64\n"
     ]
    }
   ],
   "source": [
    "# Your code\n",
    "from sklearn.model_selection import train_test_split\n",
    "\n",
    "# Split the data into training and validation sets (80-20 split)\n",
    "data_train, data_val = train_test_split(data, test_size=0.2, random_state=42, stratify=data['label'])\n",
    "\n",
    "# Display the shapes and class distribution\n",
    "print(f\"Training set shape: {data_train.shape}\")\n",
    "print(f\"Validation set shape: {data_val.shape}\")\n",
    "print(f\"\\nTraining set class distribution:\")\n",
    "print(data_train['label'].value_counts())\n",
    "print(f\"\\nValidation set class distribution:\")\n",
    "print(data_val['label'].value_counts())"
   ]
  },
  {
   "cell_type": "markdown",
   "metadata": {},
   "source": [
    "## Data Preprocessing"
   ]
  },
  {
   "cell_type": "code",
   "execution_count": 18,
   "metadata": {},
   "outputs": [
    {
     "name": "stderr",
     "output_type": "stream",
     "text": [
      "[nltk_data] Downloading package stopwords to\n",
      "[nltk_data]     /Users/malibio/ironhack/lab-natural-language-\n",
      "[nltk_data]     processing/your-code/../data/nltk_data...\n",
      "[nltk_data]   Package stopwords is already up-to-date!\n",
      "[nltk_data] Downloading package punkt to /Users/malibio/ironhack/lab-\n",
      "[nltk_data]     natural-language-processing/your-\n",
      "[nltk_data]     code/../data/nltk_data...\n",
      "[nltk_data]   Package punkt is already up-to-date!\n",
      "[nltk_data] Downloading package wordnet to\n",
      "[nltk_data]     /Users/malibio/ironhack/lab-natural-language-\n",
      "[nltk_data]     processing/your-code/../data/nltk_data...\n",
      "[nltk_data]   Package wordnet is already up-to-date!\n",
      "[nltk_data] Downloading package omw-1.4 to\n",
      "[nltk_data]     /Users/malibio/ironhack/lab-natural-language-\n",
      "[nltk_data]     processing/your-code/../data/nltk_data...\n",
      "[nltk_data]   Package omw-1.4 is already up-to-date!\n",
      "[nltk_data] Downloading package punkt_tab to\n",
      "[nltk_data]     /Users/malibio/ironhack/lab-natural-language-\n",
      "[nltk_data]     processing/your-code/../data/nltk_data...\n"
     ]
    },
    {
     "name": "stdout",
     "output_type": "stream",
     "text": [
      "NLTK resources downloaded successfully!\n"
     ]
    },
    {
     "name": "stderr",
     "output_type": "stream",
     "text": [
      "[nltk_data]   Unzipping tokenizers/punkt_tab.zip.\n"
     ]
    }
   ],
   "source": [
    "import nltk\n",
    "import os\n",
    "\n",
    "# Set NLTK data path to your project's data folder\n",
    "nltk_data_dir = os.path.join(os.getcwd(), '../data', 'nltk_data')\n",
    "os.makedirs(nltk_data_dir, exist_ok=True)\n",
    "nltk.data.path.append(nltk_data_dir)\n",
    "\n",
    "# Download stopwords and other required resources to the specified directory\n",
    "nltk.download('stopwords', download_dir=nltk_data_dir)\n",
    "nltk.download('punkt', download_dir=nltk_data_dir)\n",
    "nltk.download('wordnet', download_dir=nltk_data_dir)\n",
    "nltk.download('omw-1.4', download_dir=nltk_data_dir)\n",
    "nltk.download('punkt_tab', download_dir=nltk_data_dir)\n",
    "\n",
    "print(\"NLTK resources downloaded successfully!\")\n"
   ]
  },
  {
   "cell_type": "code",
   "execution_count": 6,
   "metadata": {},
   "outputs": [
    {
     "name": "stdout",
     "output_type": "stream",
     "text": [
      "!\"#$%&'()*+,-./:;<=>?@[\\]^_`{|}~\n",
      "['needn', \"needn't\", 'no', 'nor', 'not', 'now', 'o', 'of', 'off', 'on']\n"
     ]
    }
   ],
   "source": [
    "import string\n",
    "from nltk.corpus import stopwords\n",
    "print(string.punctuation)\n",
    "print(stopwords.words(\"english\")[100:110])\n",
    "from nltk.stem.snowball import SnowballStemmer\n",
    "snowball = SnowballStemmer('english')\n",
    "\n"
   ]
  },
  {
   "cell_type": "markdown",
   "metadata": {},
   "source": [
    "## Now, we have to clean the html code removing words\n",
    "\n",
    "- First we remove inline JavaScript/CSS\n",
    "- Then we remove html comments. This has to be done before removing regular tags since comments can contain '>' characters\n",
    "- Next we can remove the remaining tags"
   ]
  },
  {
   "cell_type": "code",
   "execution_count": null,
   "metadata": {},
   "outputs": [],
   "source": [
    "# Your code\n",
    "def clean_html(text):\n",
    "    \"\"\"\n",
    "    Remove HTML tags, JavaScript, CSS, and comments from text\n",
    "    \"\"\"\n",
    "    # First remove inline JavaScript/CSS (between <script> and <style> tags)\n",
    "    text = re.sub(r'<script.*?</script>', '', text, flags=re.DOTALL | re.IGNORECASE)\n",
    "    text = re.sub(r'<style.*?</style>', '', text, flags=re.DOTALL | re.IGNORECASE)\n",
    "    \n",
    "    # Remove HTML comments (<!-- comment -->)\n",
    "    # This must be done before removing regular tags since comments can contain '>' characters\n",
    "    text = re.sub(r'<!--.*?-->', '', text, flags=re.DOTALL)\n",
    "    \n",
    "    # Remove remaining HTML tags\n",
    "    text = re.sub(r'<.*?>', '', text)\n",
    "    \n",
    "    # Decode common HTML entities\n",
    "    text = text.replace('&amp;', '&')\n",
    "    text = text.replace('&lt;', '<')\n",
    "    text = text.replace('&gt;', '>')\n",
    "    text = text.replace('&quot;', '\"')\n",
    "    text = text.replace('&#39;', \"'\")\n",
    "    text = text.replace('&nbsp;', ' ')\n",
    "    \n",
    "    return text"
   ]
  },
  {
   "cell_type": "code",
   "execution_count": 10,
   "metadata": {},
   "outputs": [
    {
     "name": "stdout",
     "output_type": "stream",
     "text": [
      "Original text example:\n",
      "Dear=2C Good day hope fine=2Cdear am writting this mail with due respect and heartful of tears since we have not known or met ourselves previously I am asking for your assistance=2Ci have will be very glad if you can render me assistance to my situation now=2E I will make my proposal well known if I am given the opportunity=2E I would like to use this opportunity to introduce myself to you=2E Am Miss Johana Johnpaul 24 years old girl from Liberia =2Cthe only daughter of Late Godwin Johnpaul the \n",
      "\n",
      "Cleaned text example:\n",
      "Dear=2C Good day hope fine=2Cdear am writting this mail with due respect and heartful of tears since we have not known or met ourselves previously I am asking for your assistance=2Ci have will be very glad if you can render me assistance to my situation now=2E I will make my proposal well known if I am given the opportunity=2E I would like to use this opportunity to introduce myself to you=2E Am Miss Johana Johnpaul 24 years old girl from Liberia =2Cthe only daughter of Late Godwin Johnpaul the \n"
     ]
    }
   ],
   "source": [
    "# Apply HTML cleaning to both training and validation sets\n",
    "data_train['text_no_html'] = data_train['text'].apply(clean_html)\n",
    "data_val['text_no_html'] = data_val['text'].apply(clean_html)\n",
    "\n",
    "# Display example of original vs cleaned text\n",
    "print(\"Original text example:\")\n",
    "print(data_train['text'].iloc[0][:500])\n",
    "print(\"\\nCleaned text example:\")\n",
    "print(data_train['text_no_html'].iloc[0][:500])"
   ]
  },
  {
   "cell_type": "markdown",
   "metadata": {},
   "source": [
    "- Remove all the special characters\n",
    "    \n",
    "- Remove numbers\n",
    "    \n",
    "- Remove all single characters\n",
    " \n",
    "- Remove single characters from the start\n",
    "\n",
    "- Substitute multiple spaces with single space\n",
    "\n",
    "- Remove prefixed 'b'\n",
    "\n",
    "- Convert to Lowercase"
   ]
  },
  {
   "cell_type": "code",
   "execution_count": null,
   "metadata": {},
   "outputs": [],
   "source": [
    "# Your code\n",
    "def clean_text(text):\n",
    "    # Remove all special characters (keep only letters and spaces)\n",
    "    text = re.sub(r'[^a-zA-Z\\s]', ' ', text)\n",
    "    \n",
    "    # Remove numbers (alternative approach if they weren't caught above)\n",
    "    text = re.sub(r'\\d+', ' ', text)\n",
    "    \n",
    "    # Remove all single characters (standalone letters)\n",
    "    text = re.sub(r'\\s+[a-zA-Z]\\s+', ' ', text)\n",
    "    \n",
    "    # Remove single characters from the start of the text\n",
    "    text = re.sub(r'^[a-zA-Z]\\s+', '', text)\n",
    "    \n",
    "    # Substitute multiple spaces with single space\n",
    "    text = re.sub(r'\\s+', ' ', text)\n",
    "    \n",
    "    # Remove prefixed 'b' (in case of byte string artifacts like b'text')\n",
    "    text = re.sub(r'^b\\s+', '', text)\n",
    "    \n",
    "    # Convert to lowercase\n",
    "    text = text.lower()\n",
    "    \n",
    "    # Strip leading and trailing whitespace\n",
    "    text = text.strip()\n",
    "    \n",
    "    return text"
   ]
  },
  {
   "cell_type": "code",
   "execution_count": 12,
   "metadata": {},
   "outputs": [
    {
     "name": "stdout",
     "output_type": "stream",
     "text": [
      "=== Text Cleaning Examples ===\n",
      "\n",
      "Example 1:\n",
      "Original: Dear=2C Good day hope fine=2Cdear am writting this mail with due respect and heartful of tears since we have not known or met ourselves previously I am asking for your assistance=2Ci have will be very...\n",
      "No HTML: Dear=2C Good day hope fine=2Cdear am writting this mail with due respect and heartful of tears since we have not known or met ourselves previously I am asking for your assistance=2Ci have will be very...\n",
      "Cleaned: dear good day hope fine cdear am writting this mail with due respect and heartful of tears since we have not known or met ourselves previously am asking for your assistance ci have will be very glad i...\n",
      "--------------------------------------------------------------------------------\n",
      "\n",
      "Example 2:\n",
      "Original: FROM MR HENRY KABORETHE CHIEF AUDITOR INCHARGEFOREIGN REMITTANCE UNIT,AFRICAN DEVELOPMENT BANK{ADB}.OUAGADOUGOU BURKINA FASO.Dear Partner,I presumed that all is well with you and your family.Please le...\n",
      "No HTML: FROM MR HENRY KABORETHE CHIEF AUDITOR INCHARGEFOREIGN REMITTANCE UNIT,AFRICAN DEVELOPMENT BANK{ADB}.OUAGADOUGOU BURKINA FASO.Dear Partner,I presumed that all is well with you and your family.Please le...\n",
      "Cleaned: from mr henry kaborethe chief auditor inchargeforeign remittance unit african development bank adb ouagadougou burkina faso dear partner presumed that all is well with you and your family please let t...\n",
      "--------------------------------------------------------------------------------\n",
      "\n",
      "Example 3:\n",
      "Original: Will do....\n",
      "No HTML: Will do....\n",
      "Cleaned: will do...\n",
      "--------------------------------------------------------------------------------\n"
     ]
    }
   ],
   "source": [
    "# Apply text cleaning to both datasets\n",
    "data_train['cleaned_text'] = data_train['text_no_html'].apply(clean_text)\n",
    "data_val['cleaned_text'] = data_val['text_no_html'].apply(clean_text)\n",
    "\n",
    "# Show examples of the cleaning process\n",
    "print(\"=== Text Cleaning Examples ===\")\n",
    "for i in range(3):\n",
    "    print(f\"\\nExample {i+1}:\")\n",
    "    print(f\"Original: {data_train['text'].iloc[i][:200]}...\")\n",
    "    print(f\"No HTML: {data_train['text_no_html'].iloc[i][:200]}...\")\n",
    "    print(f\"Cleaned: {data_train['cleaned_text'].iloc[i][:200]}...\")\n",
    "    print(\"-\" * 80)"
   ]
  },
  {
   "cell_type": "markdown",
   "metadata": {
    "slideshow": {
     "slide_type": "-"
    }
   },
   "source": [
    "## Now let's work on removing stopwords\n",
    "Remove the stopwords."
   ]
  },
  {
   "cell_type": "code",
   "execution_count": 13,
   "metadata": {},
   "outputs": [],
   "source": [
    "# Your code\n",
    "def remove_stopwords(text):\n",
    "    \"\"\"\n",
    "    Remove English stopwords from text\n",
    "    \"\"\"\n",
    "    # Get English stopwords\n",
    "    stop_words = set(stopwords.words('english'))\n",
    "    \n",
    "    # Split text into words\n",
    "    words = text.split()\n",
    "    \n",
    "    # Filter out stopwords (keep only words not in stopwords list)\n",
    "    filtered_words = [word for word in words if word.lower() not in stop_words]\n",
    "    \n",
    "    # Join the words back into a string\n",
    "    return ' '.join(filtered_words)\n"
   ]
  },
  {
   "cell_type": "code",
   "execution_count": 14,
   "metadata": {},
   "outputs": [
    {
     "name": "stdout",
     "output_type": "stream",
     "text": [
      "=== Stopword Removal Examples ===\n",
      "English stopwords sample: ['a', 'about', 'above', 'after', 'again', 'against', 'ain', 'all', 'am', 'an', 'and', 'any', 'are', 'aren', \"aren't\", 'as', 'at', 'be', 'because', 'been']\n",
      "Total English stopwords: 198\n",
      "\n",
      "\n",
      "Example 1:\n",
      "Before: dear good day hope fine cdear am writting this mail with due respect and heartful of tears since we have not known or met ourselves previously am asking for your assistance ci have will be very glad i...\n",
      "After:  dear good day hope fine cdear writting mail due respect heartful tears since known met previously asking assistance ci glad render assistance situation make proposal well known given opportunity would...\n",
      "Word count: 288 → 149 (48.3% reduction)\n",
      "--------------------------------------------------------------------------------\n",
      "\n",
      "Example 2:\n",
      "Before: from mr henry kaborethe chief auditor inchargeforeign remittance unit african development bank adb ouagadougou burkina faso dear partner presumed that all is well with you and your family please let t...\n",
      "After:  mr henry kaborethe chief auditor inchargeforeign remittance unit african development bank adb ouagadougou burkina faso dear partner presumed well family please let surprise message got contact informa...\n",
      "Word count: 498 → 257 (48.4% reduction)\n",
      "--------------------------------------------------------------------------------\n",
      "\n",
      "Example 3:\n",
      "Before: will do...\n",
      "After:  ...\n",
      "Word count: 2 → 0 (100.0% reduction)\n",
      "--------------------------------------------------------------------------------\n"
     ]
    }
   ],
   "source": [
    "# Apply stopword removal to both datasets\n",
    "data_train['no_stopwords'] = data_train['cleaned_text'].apply(remove_stopwords)\n",
    "data_val['no_stopwords'] = data_val['cleaned_text'].apply(remove_stopwords)\n",
    "\n",
    "# Show examples of stopword removal\n",
    "print(\"=== Stopword Removal Examples ===\")\n",
    "print(f\"English stopwords sample: {list(stopwords.words('english'))[:20]}\")\n",
    "print(f\"Total English stopwords: {len(stopwords.words('english'))}\")\n",
    "print()\n",
    "\n",
    "for i in range(3):\n",
    "    print(f\"\\nExample {i+1}:\")\n",
    "    print(f\"Before: {data_train['cleaned_text'].iloc[i][:200]}...\")\n",
    "    print(f\"After:  {data_train['no_stopwords'].iloc[i][:200]}...\")\n",
    "    \n",
    "    # Show word count reduction\n",
    "    before_count = len(data_train['cleaned_text'].iloc[i].split())\n",
    "    after_count = len(data_train['no_stopwords'].iloc[i].split())\n",
    "    reduction = ((before_count - after_count) / before_count * 100) if before_count > 0 else 0\n",
    "    print(f\"Word count: {before_count} → {after_count} ({reduction:.1f}% reduction)\")\n",
    "    print(\"-\" * 80)\n"
   ]
  },
  {
   "cell_type": "markdown",
   "metadata": {},
   "source": [
    "## Tame Your Text with Lemmatization\n",
    "Break sentences into words, then use lemmatization to reduce them to their base form (e.g., \"running\" becomes \"run\"). See how this creates cleaner data for analysis!"
   ]
  },
  {
   "cell_type": "code",
   "execution_count": 16,
   "metadata": {},
   "outputs": [],
   "source": [
    "# Your code\n",
    "def lemmatize_text(text):\n",
    "    \"\"\"\n",
    "    Break sentences into words and apply lemmatization to reduce them to base form\n",
    "    \"\"\"\n",
    "    # Initialize the lemmatizer\n",
    "    lemmatizer = WordNetLemmatizer()\n",
    "    \n",
    "    # Tokenize the text into words\n",
    "    words = word_tokenize(text)\n",
    "    \n",
    "    # Apply lemmatization to each word\n",
    "    # We use 'v' (verb) as default pos, but you could enhance this with POS tagging\n",
    "    lemmatized_words = []\n",
    "    for word in words:\n",
    "        # Try lemmatizing as verb first, then as noun if no change\n",
    "        lemma_v = lemmatizer.lemmatize(word, pos='v')\n",
    "        lemma_n = lemmatizer.lemmatize(word, pos='n')\n",
    "        lemma_a = lemmatizer.lemmatize(word, pos='a')\n",
    "        \n",
    "        # Choose the shortest lemma (usually the most reduced form)\n",
    "        lemmas = [lemma_v, lemma_n, lemma_a]\n",
    "        best_lemma = min(lemmas, key=len)\n",
    "        lemmatized_words.append(best_lemma)\n",
    "    \n",
    "    # Join the lemmatized words back into text\n",
    "    return ' '.join(lemmatized_words)\n"
   ]
  },
  {
   "cell_type": "code",
   "execution_count": 19,
   "metadata": {},
   "outputs": [
    {
     "name": "stdout",
     "output_type": "stream",
     "text": [
      "=== Lemmatization Examples ===\n",
      "Individual word examples:\n",
      "running → verb: run, noun: running, adj: running\n",
      "better → verb: better, noun: better, adj: good\n",
      "cats → verb: cat, noun: cat, adj: cats\n",
      "went → verb: go, noun: went, adj: went\n",
      "feet → verb: feet, noun: foot, adj: feet\n",
      "children → verb: children, noun: child, adj: children\n",
      "studies → verb: study, noun: study, adj: studies\n",
      "flying → verb: fly, noun: flying, adj: flying\n",
      "\n",
      "=== Text Processing Examples ===\n",
      "\n",
      "Example 1:\n",
      "No stopwords: dear good day hope fine cdear writting mail due respect heartful tears since known met previously asking assistance ci glad render assistance situatio...\n",
      "Lemmatized:   dear good day hope fine cdear writting mail due respect heartful tear since know met previously ask assistance ci glad render assistance situation mak...\n",
      "--------------------------------------------------------------------------------\n",
      "\n",
      "Example 2:\n",
      "No stopwords: mr henry kaborethe chief auditor inchargeforeign remittance unit african development bank adb ouagadougou burkina faso dear partner presumed well fami...\n",
      "Lemmatized:   mr henry kaborethe chief auditor inchargeforeign remittance unit african development bank adb ouagadougou burkina faso dear partner presume well famil...\n",
      "--------------------------------------------------------------------------------\n",
      "\n",
      "Example 3:\n",
      "No stopwords: ...\n",
      "Lemmatized:   ...\n",
      "--------------------------------------------------------------------------------\n",
      "\n",
      "Dataset shapes after preprocessing:\n",
      "Training set: (800, 6)\n",
      "Validation set: (200, 6)\n",
      "\n",
      "Columns created: ['text_no_html', 'cleaned_text', 'no_stopwords', 'preprocessed_text']\n"
     ]
    }
   ],
   "source": [
    "data_train['preprocessed_text'] = data_train['no_stopwords'].apply(lemmatize_text)\n",
    "data_val['preprocessed_text'] = data_val['no_stopwords'].apply(lemmatize_text)\n",
    "\n",
    "# Show examples of lemmatization\n",
    "print(\"=== Lemmatization Examples ===\")\n",
    "print(\"Individual word examples:\")\n",
    "lemmatizer = WordNetLemmatizer()\n",
    "test_words = ['running', 'better', 'cats', 'went', 'feet', 'children', 'studies', 'flying']\n",
    "for word in test_words:\n",
    "    lemma_v = lemmatizer.lemmatize(word, pos='v')\n",
    "    lemma_n = lemmatizer.lemmatize(word, pos='n')\n",
    "    lemma_a = lemmatizer.lemmatize(word, pos='a')\n",
    "    print(f\"{word} → verb: {lemma_v}, noun: {lemma_n}, adj: {lemma_a}\")\n",
    "\n",
    "print(\"\\n=== Text Processing Examples ===\")\n",
    "for i in range(3):\n",
    "    print(f\"\\nExample {i+1}:\")\n",
    "    print(f\"No stopwords: {data_train['no_stopwords'].iloc[i][:150]}...\")\n",
    "    print(f\"Lemmatized:   {data_train['preprocessed_text'].iloc[i][:150]}...\")\n",
    "    print(\"-\" * 80)\n",
    "\n",
    "print(f\"\\nDataset shapes after preprocessing:\")\n",
    "print(f\"Training set: {data_train.shape}\")\n",
    "print(f\"Validation set: {data_val.shape}\")\n",
    "print(f\"\\nColumns created: {[col for col in data_train.columns if col not in ['text', 'label']]}\")\n"
   ]
  },
  {
   "cell_type": "markdown",
   "metadata": {},
   "source": [
    "## Bag Of Words\n",
    "Let's get the 10 top words in ham and spam messages (**EXPLORATORY DATA ANALYSIS**)"
   ]
  },
  {
   "cell_type": "code",
   "execution_count": 20,
   "metadata": {},
   "outputs": [],
   "source": [
    "# Your code\n",
    "def get_top_words(texts, top_n=10):\n",
    "    \"\"\"\n",
    "    Get the most frequent words from a collection of texts\n",
    "    \"\"\"\n",
    "    # Combine all texts into one string\n",
    "    all_text = ' '.join(texts)\n",
    "    \n",
    "    # Split into words and count frequencies\n",
    "    words = all_text.split()\n",
    "    word_counts = Counter(words)\n",
    "    \n",
    "    # Get top N most common words\n",
    "    return word_counts.most_common(top_n)\n"
   ]
  },
  {
   "cell_type": "code",
   "execution_count": 25,
   "metadata": {},
   "outputs": [
    {
     "name": "stdout",
     "output_type": "stream",
     "text": [
      "=== EXPLORATORY DATA ANALYSIS: Top Words ===\n",
      "Total messages in training set: 800\n",
      "Ham messages (label=0): 446\n",
      "Spam messages (label=1): 354\n",
      "Unique labels in dataset: [1 0]\n",
      "Label counts: label\n",
      "0    446\n",
      "1    354\n",
      "Name: count, dtype: int64\n",
      "\n",
      "Sample preprocessed texts:\n",
      "Row 0: Label='1', Text='dear good day hope fine cdear writting mail due respect heartful tear since know met previously ask ...'\n",
      "Row 1: Label='1', Text='mr henry kaborethe chief auditor inchargeforeign remittance unit african development bank adb ouagad...'\n",
      "Row 2: Label='0', Text='...'\n",
      "\n",
      "Found 10 ham words\n",
      "Found 10 spam words\n",
      "TOP 10 WORDS IN HAM MESSAGES:\n",
      "----------------------------------------\n",
      " 1. work            (98 occurrences)\n",
      " 2. state           (97 occurrences)\n",
      " 3. say             (96 occurrences)\n",
      " 4. president       (95 occurrences)\n",
      " 5. call            (94 occurrences)\n",
      " 6. would           (92 occurrences)\n",
      " 7. mr              (90 occurrences)\n",
      " 8. get             (81 occurrences)\n",
      " 9. obama           (80 occurrences)\n",
      "10. percent         (80 occurrences)\n",
      "\n",
      "TOP 10 WORDS IN SPAM MESSAGES:\n",
      "----------------------------------------\n",
      " 1. money           (756 occurrences)\n",
      " 2. account         (686 occurrences)\n",
      " 3. bank            (685 occurrences)\n",
      " 4. u               (628 occurrences)\n",
      " 5. fund            (606 occurrences)\n",
      " 6. e               (529 occurrences)\n",
      " 7. transfer        (433 occurrences)\n",
      " 8. transaction     (432 occurrences)\n",
      " 9. business        (412 occurrences)\n",
      "10. country         (397 occurrences)\n"
     ]
    },
    {
     "data": {
      "image/png": "[encoded data removed]",
      "text/plain": [
       "<Figure size 1500x600 with 2 Axes>"
      ]
     },
     "metadata": {},
     "output_type": "display_data"
    },
    {
     "name": "stdout",
     "output_type": "stream",
     "text": [
      "\n",
      "=== WORD ANALYSIS ===\n",
      "Words appearing in both top-10 lists: set()\n",
      "Words unique to HAM top-10: {'get', 'call', 'state', 'president', 'say', 'obama', 'work', 'would', 'mr', 'percent'}\n",
      "Words unique to SPAM top-10: {'u', 'bank', 'fund', 'country', 'e', 'transaction', 'account', 'money', 'business', 'transfer'}\n",
      "\n",
      "=== TEXT LENGTH STATISTICS ===\n",
      "Average words per HAM message (label=0): 40.0\n",
      "Max words in HAM: 2218\n",
      "Min words in HAM: 0\n",
      "Average words per SPAM message (label=1): 245.4\n",
      "Max words in SPAM: 10611\n",
      "Min words in SPAM: 0\n"
     ]
    }
   ],
   "source": [
    "ham_messages = data_train[data_train['label'] == 0]['preprocessed_text']\n",
    "spam_messages = data_train[data_train['label'] == 1]['preprocessed_text']\n",
    "\n",
    "print(\"=== EXPLORATORY DATA ANALYSIS: Top Words ===\")\n",
    "print(f\"Total messages in training set: {len(data_train)}\")\n",
    "print(f\"Ham messages (label=0): {len(ham_messages)}\")\n",
    "print(f\"Spam messages (label=1): {len(spam_messages)}\")\n",
    "\n",
    "# Debug: Check unique labels in your dataset\n",
    "print(f\"Unique labels in dataset: {data_train['label'].unique()}\")\n",
    "print(f\"Label counts: {data_train['label'].value_counts()}\")\n",
    "print()\n",
    "\n",
    "# Check if we have any preprocessed text\n",
    "print(\"Sample preprocessed texts:\")\n",
    "for i in range(min(3, len(data_train))):\n",
    "    print(f\"Row {i}: Label='{data_train['label'].iloc[i]}', Text='{data_train['preprocessed_text'].iloc[i][:100]}...'\")\n",
    "print()\n",
    "\n",
    "# Get top 10 words for each category\n",
    "top_ham_words = get_top_words(ham_messages, 10) if len(ham_messages) > 0 else []\n",
    "top_spam_words = get_top_words(spam_messages, 10) if len(spam_messages) > 0 else []\n",
    "\n",
    "print(f\"Found {len(top_ham_words)} ham words\")\n",
    "print(f\"Found {len(top_spam_words)} spam words\")\n",
    "\n",
    "print(\"TOP 10 WORDS IN HAM MESSAGES:\")\n",
    "print(\"-\" * 40)\n",
    "for i, (word, count) in enumerate(top_ham_words, 1):\n",
    "    print(f\"{i:2d}. {word:<15} ({count:,} occurrences)\")\n",
    "\n",
    "print(\"\\nTOP 10 WORDS IN SPAM MESSAGES:\")\n",
    "print(\"-\" * 40)\n",
    "for i, (word, count) in enumerate(top_spam_words, 1):\n",
    "    print(f\"{i:2d}. {word:<15} ({count:,} occurrences)\")\n",
    "\n",
    "# Create visualization only if we have data for both categories\n",
    "if len(top_ham_words) > 0 and len(top_spam_words) > 0:\n",
    "    fig, (ax1, ax2) = plt.subplots(1, 2, figsize=(15, 6))\n",
    "\n",
    "    # Plot HAM words\n",
    "    ham_words, ham_counts = zip(*top_ham_words)\n",
    "    ax1.barh(range(len(ham_words)), ham_counts, color='green', alpha=0.7)\n",
    "    ax1.set_yticks(range(len(ham_words)))\n",
    "    ax1.set_yticklabels(ham_words)\n",
    "    ax1.set_xlabel('Frequency')\n",
    "    ax1.set_title('Top 10 Words in HAM Messages')\n",
    "    ax1.invert_yaxis()\n",
    "\n",
    "    # Plot SPAM words\n",
    "    spam_words, spam_counts = zip(*top_spam_words)\n",
    "    ax2.barh(range(len(spam_words)), spam_counts, color='red', alpha=0.7)\n",
    "    ax2.set_yticks(range(len(spam_words)))\n",
    "    ax2.set_yticklabels(spam_words)\n",
    "    ax2.set_xlabel('Frequency')\n",
    "    ax2.set_title('Top 10 Words in SPAM Messages')\n",
    "    ax2.invert_yaxis()\n",
    "\n",
    "    plt.tight_layout()\n",
    "    plt.show()\n",
    "    \n",
    "    # Find words that appear in both lists\n",
    "    ham_word_set = set([word for word, count in top_ham_words])\n",
    "    spam_word_set = set([word for word, count in top_spam_words])\n",
    "    common_words = ham_word_set.intersection(spam_word_set)\n",
    "    unique_ham = ham_word_set - spam_word_set\n",
    "    unique_spam = spam_word_set - ham_word_set\n",
    "\n",
    "    print(f\"\\n=== WORD ANALYSIS ===\")\n",
    "    print(f\"Words appearing in both top-10 lists: {common_words}\")\n",
    "    print(f\"Words unique to HAM top-10: {unique_ham}\")\n",
    "    print(f\"Words unique to SPAM top-10: {unique_spam}\")\n",
    "else:\n",
    "    print(\"Cannot create visualization - missing data for one or both categories\")\n",
    "    if len(top_ham_words) == 0:\n",
    "        print(\"No HAM words found - check your label values\")\n",
    "    if len(top_spam_words) == 0:\n",
    "        print(\"No SPAM words found - check your label values\")\n",
    "\n",
    "# Calculate basic statistics - with error handling\n",
    "print(f\"\\n=== TEXT LENGTH STATISTICS ===\")\n",
    "if len(ham_messages) > 0:\n",
    "    ham_lengths = [len(text.split()) for text in ham_messages]\n",
    "    print(f\"Average words per HAM message (label=0): {sum(ham_lengths)/len(ham_lengths):.1f}\")\n",
    "    print(f\"Max words in HAM: {max(ham_lengths)}\")\n",
    "    print(f\"Min words in HAM: {min(ham_lengths)}\")\n",
    "else:\n",
    "    print(\"No HAM messages found\")\n",
    "\n",
    "if len(spam_messages) > 0:\n",
    "    spam_lengths = [len(text.split()) for text in spam_messages]\n",
    "    print(f\"Average words per SPAM message (label=1): {sum(spam_lengths)/len(spam_lengths):.1f}\")\n",
    "    print(f\"Max words in SPAM: {max(spam_lengths)}\")\n",
    "    print(f\"Min words in SPAM: {min(spam_lengths)}\")\n",
    "else:\n",
    "    print(\"No SPAM messages found\")"
   ]
  },
  {
   "cell_type": "markdown",
   "metadata": {},
   "source": [
    "## Extra features"
   ]
  },
  {
   "cell_type": "code",
   "execution_count": null,
   "metadata": {},
   "outputs": [],
   "source": [
    "# We add to the original dataframe two additional indicators (money symbols and suspicious words).\n",
    "money_simbol_list = \"|\".join([\"euro\",\"dollar\",\"pound\",\"€\",r\"\\$\"])\n",
    "suspicious_words = \"|\".join([\"free\",\"cheap\",\"sex\",\"money\",\"account\",\"bank\",\"fund\",\"transfer\",\"transaction\",\"win\",\"deposit\",\"password\"])\n",
    "\n",
    "data_train['money_mark'] = data_train['preprocessed_text'].str.contains(money_simbol_list)*1\n",
    "data_train['suspicious_words'] = data_train['preprocessed_text'].str.contains(suspicious_words)*1\n",
    "data_train['text_len'] = data_train['preprocessed_text'].apply(lambda x: len(x)) \n",
    "\n",
    "data_val['money_mark'] = data_val['preprocessed_text'].str.contains(money_simbol_list)*1\n",
    "data_val['suspicious_words'] = data_val['preprocessed_text'].str.contains(suspicious_words)*1\n",
    "data_val['text_len'] = data_val['preprocessed_text'].apply(lambda x: len(x)) \n",
    "\n",
    "data_train.head()"
   ]
  },
  {
   "cell_type": "markdown",
   "metadata": {},
   "source": [
    "## How would work the Bag of Words with Count Vectorizer concept?"
   ]
  },
  {
   "cell_type": "code",
   "execution_count": null,
   "metadata": {},
   "outputs": [],
   "source": [
    "# Your code\n"
   ]
  },
  {
   "cell_type": "markdown",
   "metadata": {},
   "source": [
    "## TF-IDF\n",
    "\n",
    "- Load the vectorizer\n",
    "\n",
    "- Vectorize all dataset\n",
    "\n",
    "- print the shape of the vetorized dataset"
   ]
  },
  {
   "cell_type": "code",
   "execution_count": null,
   "metadata": {},
   "outputs": [],
   "source": [
    "# Your code"
   ]
  },
  {
   "cell_type": "markdown",
   "metadata": {},
   "source": [
    "## And the Train a Classifier?"
   ]
  },
  {
   "cell_type": "code",
   "execution_count": null,
   "metadata": {},
   "outputs": [],
   "source": [
    "# Your code"
   ]
  },
  {
   "cell_type": "markdown",
   "metadata": {},
   "source": [
    "### Extra Task - Implement a SPAM/HAM classifier\n",
    "\n",
    "https://www.kaggle.com/t/b384e34013d54d238490103bc3c360ce\n",
    "\n",
    "The classifier can not be changed!!! It must be the MultinimialNB with default parameters!\n",
    "\n",
    "Your task is to **find the most relevant features**.\n",
    "\n",
    "For example, you can test the following options and check which of them performs better:\n",
    "- Using \"Bag of Words\" only\n",
    "- Using \"TF-IDF\" only\n",
    "- Bag of Words + extra flags (money_mark, suspicious_words, text_len)\n",
    "- TF-IDF + extra flags\n",
    "\n",
    "\n",
    "You can work with teams of two persons (recommended)."
   ]
  },
  {
   "cell_type": "code",
   "execution_count": null,
   "metadata": {},
   "outputs": [],
   "source": [
    "# Your code"
   ]
  }
 ],
 "metadata": {
  "celltoolbar": "Slideshow",
  "kernelspec": {
   "display_name": "base",
   "language": "python",
   "name": "python3"
  },
  "language_info": {
   "codemirror_mode": {
    "name": "ipython",
    "version": 3
   },
   "file_extension": ".py",
   "mimetype": "text/x-python",
   "name": "python",
   "nbconvert_exporter": "python",
   "pygments_lexer": "ipython3",
   "version": "3.12.2"
  }
 },
 "nbformat": 4,
 "nbformat_minor": 2
}
