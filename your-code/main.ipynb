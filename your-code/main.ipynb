{
  "cells": [
    {
      "cell_type": "code",
      "execution_count": 29,
      "metadata": {
        "colab": {
          "base_uri": "https://localhost:8080/",
          "height": 17
        },
        "id": "x0vXpI3wxnvy",
        "outputId": "0e38b7db-501c-4c6d-f653-92ac83940711"
      },
      "outputs": [
        {
          "output_type": "display_data",
          "data": {
            "text/plain": [
              "<IPython.core.display.HTML object>"
            ],
            "text/html": [
              "<style>.container { width:100% !important; }</style>"
            ]
          },
          "metadata": {}
        }
      ],
      "source": [
        "from IPython.core.display import display, HTML\n",
        "display(HTML(\"<style>.container { width:100% !important; }</style>\"))"
      ]
    },
    {
      "cell_type": "markdown",
      "metadata": {
        "id": "UFvtH0NCxnv0"
      },
      "source": [
        "# Lab | Natural Language Processing\n",
        "### SMS: SPAM or HAM"
      ]
    },
    {
      "cell_type": "markdown",
      "metadata": {
        "id": "K4yjcLJFxnv0"
      },
      "source": [
        "### Let's prepare the environment"
      ]
    },
    {
      "cell_type": "code",
      "execution_count": 30,
      "metadata": {
        "id": "AhKTsD7Uxnv1"
      },
      "outputs": [],
      "source": [
        "import pandas as pd\n",
        "import numpy as np\n",
        "from sklearn.model_selection import train_test_split\n",
        "import string\n",
        "from nltk.corpus import stopwords\n",
        "from nltk.stem.snowball import SnowballStemmer\n",
        "from nltk.tokenize import word_tokenize\n",
        "from nltk.stem import WordNetLemmatizer\n",
        "from sklearn.feature_extraction.text import TfidfVectorizer\n",
        "from sklearn.naive_bayes import MultinomialNB\n",
        "import re\n",
        "from bs4 import BeautifulSoup\n",
        "import matplotlib.pyplot as plt\n",
        "from collections import Counter\n"
      ]
    },
    {
      "cell_type": "markdown",
      "metadata": {
        "id": "ZGtzgUJ_xnv1"
      },
      "source": [
        "- Read Data for the Fraudulent Email Kaggle Challenge\n",
        "- Reduce the training set to speead up development."
      ]
    },
    {
      "cell_type": "code",
      "execution_count": 31,
      "metadata": {
        "colab": {
          "base_uri": "https://localhost:8080/"
        },
        "id": "wPEQkt3Zxnv1",
        "outputId": "8109558b-9015-4d38-cc14-fad5e9d30c32"
      },
      "outputs": [
        {
          "output_type": "stream",
          "name": "stdout",
          "text": [
            "(1000, 2)\n"
          ]
        },
        {
          "output_type": "stream",
          "name": "stderr",
          "text": [
            "<ipython-input-31-f3a11830d13c>:8: SettingWithCopyWarning: \n",
            "A value is trying to be set on a copy of a slice from a DataFrame\n",
            "\n",
            "See the caveats in the documentation: https://pandas.pydata.org/pandas-docs/stable/user_guide/indexing.html#returning-a-view-versus-a-copy\n",
            "  data.fillna(\"\",inplace=True)\n"
          ]
        }
      ],
      "source": [
        "## Read Data for the Fraudulent Email Kaggle Challenge\n",
        "data = pd.read_csv(\"/kg_train.csv\",encoding='latin-1')\n",
        "\n",
        "# Reduce the training set to speed up development.\n",
        "# Modify for final system\n",
        "data = data.head(1000)\n",
        "print(data.shape)\n",
        "data.fillna(\"\",inplace=True)"
      ]
    },
    {
      "cell_type": "code",
      "source": [
        "data_shape = data.shape\n",
        "data_head = data.head()\n",
        "\n",
        "data_shape, data_head"
      ],
      "metadata": {
        "colab": {
          "base_uri": "https://localhost:8080/"
        },
        "id": "4cDOkuVHM-nm",
        "outputId": "149da625-4ed7-4e27-8540-1360e44f5151"
      },
      "execution_count": 32,
      "outputs": [
        {
          "output_type": "execute_result",
          "data": {
            "text/plain": [
              "((1000, 2),\n",
              "                                                 text  label\n",
              " 0  DEAR SIR, STRICTLY A PRIVATE BUSINESS PROPOSAL...      1\n",
              " 1                                           Will do.      0\n",
              " 2  Nora--Cheryl has emailed dozens of memos about...      0\n",
              " 3  Dear Sir=2FMadam=2C I know that this proposal ...      1\n",
              " 4                                                fyi      0)"
            ]
          },
          "metadata": {},
          "execution_count": 32
        }
      ]
    },
    {
      "cell_type": "markdown",
      "source": [
        "# New Section"
      ],
      "metadata": {
        "id": "e5A0K55izeu6"
      }
    },
    {
      "cell_type": "markdown",
      "metadata": {
        "id": "JhVdI2AWxnv1"
      },
      "source": [
        "### Let's divide the training and test set into two partitions"
      ]
    },
    {
      "cell_type": "code",
      "execution_count": 33,
      "metadata": {
        "colab": {
          "base_uri": "https://localhost:8080/"
        },
        "id": "qx2WjZUvxnv2",
        "outputId": "ab4533ec-99fb-4d91-9e1e-4b9786bbc4e9"
      },
      "outputs": [
        {
          "output_type": "execute_result",
          "data": {
            "text/plain": [
              "(800, 200)"
            ]
          },
          "metadata": {},
          "execution_count": 33
        }
      ],
      "source": [
        "X_train, X_test, y_train, y_test = train_test_split(data['text'], data['label'], test_size=0.2, random_state=42)\n",
        "# Checking the sizes of the splits\n",
        "train_size, test_size = X_train.shape[0], X_test.shape[0]\n",
        "\n",
        "train_size, test_size"
      ]
    },
    {
      "cell_type": "markdown",
      "metadata": {
        "id": "uSWcwQaBxnv2"
      },
      "source": [
        "## Data Preprocessing"
      ]
    },
    {
      "cell_type": "code",
      "execution_count": 34,
      "metadata": {
        "colab": {
          "base_uri": "https://localhost:8080/"
        },
        "id": "7keVhPihxnv2",
        "outputId": "e07baf89-8004-4ca9-825c-8da37ea1c0f6"
      },
      "outputs": [
        {
          "output_type": "stream",
          "name": "stderr",
          "text": [
            "[nltk_data] Downloading package stopwords to /root/nltk_data...\n"
          ]
        },
        {
          "output_type": "stream",
          "name": "stdout",
          "text": [
            "!\"#$%&'()*+,-./:;<=>?@[\\]^_`{|}~\n",
            "['here', 'there', 'when', 'where', 'why', 'how', 'all', 'any', 'both', 'each']\n"
          ]
        },
        {
          "output_type": "stream",
          "name": "stderr",
          "text": [
            "[nltk_data]   Unzipping corpora/stopwords.zip.\n"
          ]
        }
      ],
      "source": [
        "import nltk\n",
        "import string\n",
        "from nltk.corpus import stopwords\n",
        "\n",
        "# Download the 'stopwords' dataset\n",
        "nltk.download('stopwords')\n",
        "\n",
        "print(string.punctuation)\n",
        "print(stopwords.words(\"english\")[100:110])\n",
        "from nltk.stem.snowball import SnowballStemmer\n",
        "snowball = SnowballStemmer('english')"
      ]
    },
    {
      "cell_type": "markdown",
      "metadata": {
        "id": "nA5kKuyBxnv2"
      },
      "source": [
        "## Now, we have to clean the html code removing words\n",
        "\n",
        "- First we remove inline JavaScript/CSS\n",
        "- Then we remove html comments. This has to be done before removing regular tags since comments can contain '>' characters\n",
        "- Next we can remove the remaining tags"
      ]
    },
    {
      "cell_type": "code",
      "source": [
        "def clean_html(text):\n",
        "    \"\"\"Remove HTML tags, inline JavaScript/CSS, and clean text\"\"\"\n",
        "    # Remove inline JavaScript and CSS\n",
        "    text = re.sub(r\"<(script|style).*?>.*?</\\1>\", \"\", text, flags=re.DOTALL)\n",
        "    # Remove HTML comments\n",
        "    text = re.sub(r\"<!--(.*?)-->\", \"\", text, flags=re.DOTALL)\n",
        "    # Remove HTML tags\n",
        "    soup = BeautifulSoup(text, 'html.parser')\n",
        "    clean_text = soup.get_text()  # This line removes the remaining tags\n",
        "    return clean_text\n"
      ],
      "metadata": {
        "id": "jaKqFijeBURf"
      },
      "execution_count": 35,
      "outputs": []
    },
    {
      "cell_type": "markdown",
      "metadata": {
        "id": "eR2Rxnx1xnv3"
      },
      "source": [
        "- Remove all the special characters\n",
        "    \n",
        "- Remove numbers\n",
        "    \n",
        "- Remove all single characters\n",
        "\n",
        "- Remove single characters from the start\n",
        "\n",
        "- Substitute multiple spaces with single space\n",
        "\n",
        "- Remove prefixed 'b'\n",
        "\n",
        "- Convert to Lowercase"
      ]
    },
    {
      "cell_type": "code",
      "execution_count": 36,
      "metadata": {
        "id": "B2Vb4Omixnv3"
      },
      "outputs": [],
      "source": [
        " #re.sub() is a function that performs string substitution using regex patterns. It has the format:re.sub(pattern, replacement, string)\n",
        "\n",
        "# Remove special characters\n",
        "import re\n",
        "\n",
        "def clean_text(text):\n",
        "    \"\"\"Removes special characters, numbers, single characters, and extra spaces.\"\"\"\n",
        "    # Remove special characters\n",
        "    text = re.sub(r\"[^a-zA-Z0-9\\s]\", \"\", text)\n",
        "    # Remove numbers\n",
        "    text = re.sub(r\"\\d+\", \"\", text)\n",
        "    # Remove single characters\n",
        "    text = re.sub(r\"\\s+[a-zA-Z]\\s+\", \" \", text)\n",
        "    # Remove single characters from the start\n",
        "    text = re.sub(r\"^[a-zA-Z]\\s+\", \"\", text)\n",
        "    # Substituting multiple spaces with single space\n",
        "    text = re.sub(r\"\\s+\", \" \", text, flags=re.I)\n",
        "    # Removing prefixed 'b'\n",
        "    text = re.sub(r\"^b\\s+\", \"\", text)\n",
        "    # Converting to Lowercase\n",
        "    text = text.lower()\n",
        "\n",
        "    return text\n"
      ]
    },
    {
      "cell_type": "markdown",
      "metadata": {
        "id": "0cHDXhx2xnv3"
      },
      "source": [
        "## Now let's work on removing stopwords\n",
        "Remove the stopwords."
      ]
    },
    {
      "cell_type": "markdown",
      "metadata": {
        "id": "h6ucJuFfxnv3"
      },
      "source": [
        "## Tame Your Text with Lemmatization\n",
        "Break sentences into words, then use lemmatization to reduce them to their base form (e.g., \"running\" becomes \"run\"). See how this creates cleaner data for analysis!"
      ]
    },
    {
      "cell_type": "code",
      "execution_count": 37,
      "metadata": {
        "id": "J2Hbz5g1xnv3"
      },
      "outputs": [],
      "source": [
        "def process_text_advanced(text):\n",
        "    # Tokenize\n",
        "    tokens = word_tokenize(text)\n",
        "\n",
        "    # Remove stopwords\n",
        "    stop_words = set(stopwords.words('english'))\n",
        "    tokens = [token for token in tokens if token not in stop_words]\n"
      ]
    },
    {
      "cell_type": "code",
      "execution_count": 38,
      "metadata": {
        "id": "QMas9o7zxnv3"
      },
      "outputs": [],
      "source": [
        "from nltk.stem import WordNetLemmatizer\n",
        "\n",
        "def process_text_advanced(text):\n",
        "    # Tokenize\n",
        "    from nltk.tokenize import word_tokenize  # Import word_tokenize here\n",
        "    tokens = word_tokenize(text)\n",
        "\n",
        "    lemmatizer = WordNetLemmatizer()\n",
        "    tokens = [lemmatizer.lemmatize(token) for token in tokens]\n",
        "\n",
        "    return ' '.join(tokens)\n"
      ]
    },
    {
      "cell_type": "markdown",
      "metadata": {
        "id": "nWyvjPHExnv3"
      },
      "source": [
        "## Bag Of Words\n",
        "Let's get the 10 top words in ham and spam messages (**EXPLORATORY DATA ANALYSIS**)"
      ]
    },
    {
      "cell_type": "code",
      "execution_count": 39,
      "metadata": {
        "id": "cGbKP20Oxnv3"
      },
      "outputs": [],
      "source": [
        "import seaborn as sns\n",
        "import matplotlib.pyplot as plt\n",
        "from collections import Counter\n",
        "\n",
        "def analyze_top_words(data, column='preprocessed_text', label_column='label', n=10):\n",
        "    \"\"\"Analyze top words for ham and spam messages\"\"\"\n",
        "    ham_texts = ' '.join(data[data[label_column] == 0][column])\n",
        "    spam_texts = ' '.join(data[data[label_column] == 1][column])\n",
        "\n",
        "    # Get word frequencies\n",
        "    ham_words = word_tokenize(ham_texts)\n",
        "    spam_words = word_tokenize(spam_texts)\n",
        "\n",
        "    ham_freq = Counter(ham_words).most_common(n)\n",
        "    spam_freq = Counter(spam_words).most_common(n)\n",
        "\n",
        "    # Create visualization\n",
        "    plt.figure(figsize=(15, 6))\n",
        "\n",
        "    # Ham plot\n",
        "    plt.subplot(1, 2, 1)\n",
        "    words, counts = zip(*ham_freq)\n",
        "    sns.barplot(x=list(counts), y=list(words), palette='Blues_r')\n",
        "    plt.title('Top Words in HAM Messages')\n",
        "    plt.xlabel('Frequency')\n",
        "\n",
        "    # Spam plot\n",
        "    plt.subplot(1, 2, 2)\n",
        "    words, counts = zip(*spam_freq)\n",
        "    sns.barplot(x=list(counts), y=list(words), palette='Reds_r')\n",
        "    plt.title('Top Words in SPAM Messages')\n",
        "    plt.xlabel('Frequency')\n",
        "\n",
        "    plt.tight_layout()\n",
        "    plt.show()\n",
        "\n",
        "    return ham_freq, spam_freq\n"
      ]
    },
    {
      "cell_type": "markdown",
      "metadata": {
        "id": "7meu2zRaxnv4"
      },
      "source": [
        "## Extra features"
      ]
    },
    {
      "cell_type": "code",
      "source": [],
      "metadata": {
        "id": "yC24sdQJIpsf"
      },
      "execution_count": 39,
      "outputs": []
    },
    {
      "cell_type": "markdown",
      "metadata": {
        "id": "B7xPe-YMxnv4"
      },
      "source": [
        "## How would work the Bag of Words with Count Vectorizer concept?"
      ]
    },
    {
      "cell_type": "code",
      "execution_count": 40,
      "metadata": {
        "colab": {
          "base_uri": "https://localhost:8080/"
        },
        "id": "BxKrwKWqxnv4",
        "outputId": "815e5407-ec16-4349-e8ca-68c79c87a9de"
      },
      "outputs": [
        {
          "output_type": "stream",
          "name": "stdout",
          "text": [
            "Vocabulary: ['and' 'document' 'first' 'is' 'one' 'second' 'the' 'third' 'this']\n",
            "Document-Term Matrix:\n",
            "[[0 1 1 1 0 0 1 0 1]\n",
            " [0 2 0 1 0 1 1 0 1]\n",
            " [1 0 0 1 1 0 1 1 1]\n",
            " [0 1 1 1 0 0 1 0 1]]\n"
          ]
        }
      ],
      "source": [
        "from sklearn.feature_extraction.text import CountVectorizer # import the CountVectorizer class\n",
        "\n",
        "# Sample documents\n",
        "documents = [\n",
        "    \"This is the first document.\",\n",
        "    \"This document is the second document.\",\n",
        "    \"And this is the third one.\",\n",
        "    \"Is this the first document?\",\n",
        "]\n",
        "# Create a CountVectorizer object\n",
        "vectorizer = CountVectorizer()\n",
        "\n",
        "# Fit the vectorizer to the documents\n",
        "vectorizer.fit(documents)\n",
        "\n",
        "# Get the vocabulary\n",
        "vocabulary = vectorizer.get_feature_names_out()\n",
        "print(\"Vocabulary:\", vocabulary)\n",
        "\n",
        "# Transform the documents into a document-term matrix\n",
        "document_term_matrix = vectorizer.transform(documents)\n",
        "\n",
        "# Print the document-term matrix\n",
        "print(\"Document-Term Matrix:\")\n",
        "print(document_term_matrix.toarray())"
      ]
    },
    {
      "cell_type": "markdown",
      "metadata": {
        "id": "xnBv4osXxnv4"
      },
      "source": [
        "## TD-IDF\n",
        "\n",
        "- Load the vectorizer\n",
        "\n",
        "- Vectorize all dataset\n",
        "\n",
        "- print the shape of the vetorized dataset"
      ]
    },
    {
      "cell_type": "code",
      "execution_count": 41,
      "metadata": {
        "id": "TwlJP52Mxnv5"
      },
      "outputs": [],
      "source": [
        "import pandas as pd\n",
        "from sklearn.feature_extraction.text import TfidfVectorizer # import the TfidfVectorizer class\n",
        "\n",
        "\n",
        "data_train = pd.read_csv('/kg_train.csv')\n",
        "data_val = pd.read_csv('/kg_test.csv')\n",
        "\n",
        "tfidf = TfidfVectorizer(max_features=1000)\n",
        "# Fit and transform using the 'text' column\n",
        "X_train_tfidf = tfidf.fit_transform(data_train['text']) # Changed to 'text' column\n",
        "X_val_tfidf = tfidf.transform(data_val['text']) # Changed to 'text' column"
      ]
    },
    {
      "cell_type": "markdown",
      "metadata": {
        "id": "l_xBdX59xnv5"
      },
      "source": [
        "## And the Train a Classifier?"
      ]
    },
    {
      "cell_type": "code",
      "execution_count": 42,
      "metadata": {
        "id": "QQxGr6Hwxnv5",
        "outputId": "4cbf41a3-77dc-4f69-f928-1cc367c1fd19",
        "colab": {
          "base_uri": "https://localhost:8080/"
        }
      },
      "outputs": [
        {
          "output_type": "stream",
          "name": "stdout",
          "text": [
            "Accuracy: 0.9756915339480302\n"
          ]
        }
      ],
      "source": [
        "import pandas as pd\n",
        "from sklearn.feature_extraction.text import TfidfVectorizer\n",
        "from sklearn.linear_model import LogisticRegression\n",
        "from sklearn.model_selection import train_test_split\n",
        "\n",
        "\n",
        "data_train = pd.read_csv('/kg_train.csv')\n",
        "data_val = pd.read_csv('/kg_test.csv')\n",
        "\n",
        "# Create TF-IDF features\n",
        "tfidf = TfidfVectorizer(max_features=1000)\n",
        "X_train_tfidf = tfidf.fit_transform(data_train['text'])\n",
        "X_val_tfidf = tfidf.transform(data_val['text'])\n",
        "\n",
        "# Assuming 'label' column contains target variables for training data:\n",
        "y_train = data_train['label']\n",
        "\n",
        "# Split training data for validation (optional but recommended)\n",
        "X_train, X_test, y_train, y_test = train_test_split(\n",
        "    X_train_tfidf, y_train, test_size=0.2, random_state=42\n",
        ")\n",
        "\n",
        "# Train Logistic Regression classifier\n",
        "classifier = LogisticRegression(max_iter=1000) # Increased max_iter for convergence\n",
        "classifier.fit(X_train, y_train)\n",
        "\n",
        "# Evaluate on the validation set (or test set if not splitting)\n",
        "# Import accuracy_score\n",
        "from sklearn.metrics import accuracy_score\n",
        "y_pred = classifier.predict(X_test)\n",
        "accuracy = accuracy_score(y_test, y_pred)\n",
        "print(f\"Accuracy: {accuracy}\")\n",
        "\n",
        "#  the trained classifier to make predictions on new data can be made\n",
        "# For example, to predict on the validation data:\n",
        "# val_predictions = classifier.predict(X_val_tfidf)"
      ]
    },
    {
      "cell_type": "markdown",
      "metadata": {
        "id": "PcYv4Y-3xnv5"
      },
      "source": [
        "### Extra Task - Implement a SPAM/HAM classifier\n",
        "\n",
        "https://www.kaggle.com/t/b384e34013d54d238490103bc3c360ce\n",
        "\n",
        "The classifier can not be changed!!! It must be the MultinimialNB with default parameters!\n",
        "\n",
        "Your task is to find the **best feature representation**.\n",
        "\n",
        "You can work with teams of two persons (recommended)."
      ]
    },
    {
      "cell_type": "code",
      "source": [
        "import pandas as pd\n",
        "from sklearn.model_selection import train_test_split\n",
        "from sklearn.feature_extraction.text import TfidfVectorizer, CountVectorizer\n",
        "from sklearn.naive_bayes import MultinomialNB\n",
        "from sklearn.metrics import accuracy_score\n",
        "\n",
        "# Load the data\n",
        "data_train = pd.read_csv('/kg_train.csv')\n",
        "data_val = pd.read_csv('/kg_test.csv')\n",
        "\n",
        "# Split data into training and testing sets\n",
        "X_train, X_test, y_train, y_test = train_test_split(\n",
        "    data_train['text'], data_train['label'], test_size=0.2, random_state=42\n",
        ")\n",
        "\n",
        "# Feature Representations to try:\n",
        "feature_representations = {\n",
        "    \"CountVectorizer\": CountVectorizer(),\n",
        "    \"TF-IDF\": TfidfVectorizer(),\n",
        "\n",
        "}\n",
        "\n",
        "best_accuracy = 0\n",
        "best_representation = \"\"\n",
        "\n",
        "# Iterate through different feature representations\n",
        "for representation_name, vectorizer in feature_representations.items():\n",
        "    # Create features\n",
        "    X_train_features = vectorizer.fit_transform(X_train)\n",
        "    X_test_features = vectorizer.transform(X_test)\n",
        "\n",
        "    # Train the classifier\n",
        "    classifier = MultinomialNB()\n",
        "    classifier.fit(X_train_features, y_train)\n",
        "\n",
        "    # Make predictions\n",
        "    y_pred = classifier.predict(X_test_features)\n",
        "\n",
        "    # Evaluate accuracy\n",
        "    accuracy = accuracy_score(y_test, y_pred)\n",
        "    print(f\"Accuracy with {representation_name}: {accuracy}\")\n",
        "\n",
        "    # Update best accuracy and representation\n",
        "    if accuracy > best_accuracy:\n",
        "        best_accuracy = accuracy\n",
        "        best_representation = representation_name\n",
        "\n",
        "print(f\"\\nBest Feature Representation: {best_representation} (Accuracy: {best_accuracy})\")"
      ],
      "metadata": {
        "id": "eEyzlmFlqcI-",
        "outputId": "cb02e5f1-a8f4-46b8-c619-cae5154a02f6",
        "colab": {
          "base_uri": "https://localhost:8080/"
        }
      },
      "execution_count": 43,
      "outputs": [
        {
          "output_type": "stream",
          "name": "stdout",
          "text": [
            "Accuracy with CountVectorizer: 0.953059513830679\n",
            "Accuracy with TF-IDF: 0.9438390611902766\n",
            "\n",
            "Best Feature Representation: CountVectorizer (Accuracy: 0.953059513830679)\n"
          ]
        }
      ]
    }
  ],
  "metadata": {
    "celltoolbar": "Slideshow",
    "kernelspec": {
      "display_name": "Python 3",
      "name": "python3"
    },
    "language_info": {
      "codemirror_mode": {
        "name": "ipython",
        "version": 3
      },
      "file_extension": ".py",
      "mimetype": "text/x-python",
      "name": "python",
      "nbconvert_exporter": "python",
      "pygments_lexer": "ipython3",
      "version": "3.11.5"
    },
    "colab": {
      "provenance": [],
      "machine_shape": "hm",
      "gpuType": "V28"
    },
    "accelerator": "TPU"
  },
  "nbformat": 4,
  "nbformat_minor": 0
}