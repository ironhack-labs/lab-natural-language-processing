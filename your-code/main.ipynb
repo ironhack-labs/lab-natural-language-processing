{
  "cells": [
    {
      "cell_type": "code",
      "execution_count": 1,
      "metadata": {
        "colab": {
          "base_uri": "https://localhost:8080/",
          "height": 17
        },
        "id": "DpXFk8Exzrnn",
        "outputId": "29a0dde1-7476-4f31-bf5d-28b116773e7f"
      },
      "outputs": [
        {
          "output_type": "display_data",
          "data": {
            "text/plain": [
              "<IPython.core.display.HTML object>"
            ],
            "text/html": [
              "<style>.container { width:100% !important; }</style>"
            ]
          },
          "metadata": {}
        }
      ],
      "source": [
        "from IPython.core.display import display, HTML\n",
        "display(HTML(\"<style>.container { width:100% !important; }</style>\"))"
      ]
    },
    {
      "cell_type": "markdown",
      "metadata": {
        "id": "p4klTGo0zrno"
      },
      "source": [
        "# Lab | Natural Language Processing\n",
        "### SMS: SPAM or HAM"
      ]
    },
    {
      "cell_type": "markdown",
      "metadata": {
        "id": "7QEXiP2Wzrnp"
      },
      "source": [
        "### Let's prepare the environment"
      ]
    },
    {
      "cell_type": "code",
      "execution_count": 2,
      "metadata": {
        "id": "h2yz6xm7zrnp"
      },
      "outputs": [],
      "source": [
        "import pandas as pd\n",
        "import matplotlib.pyplot as plt\n",
        "from sklearn.feature_extraction.text import TfidfVectorizer"
      ]
    },
    {
      "cell_type": "markdown",
      "metadata": {
        "id": "RZrRKT28zrnp"
      },
      "source": [
        "- Read Data for the Fraudulent Email Kaggle Challenge\n",
        "- Reduce the training set to speead up development."
      ]
    },
    {
      "cell_type": "code",
      "execution_count": 3,
      "metadata": {
        "colab": {
          "base_uri": "https://localhost:8080/"
        },
        "id": "upSmXvvxzrnq",
        "outputId": "368a9d3d-c363-44df-ab61-e6494a519110"
      },
      "outputs": [
        {
          "output_type": "stream",
          "name": "stdout",
          "text": [
            "(1000, 2)\n"
          ]
        }
      ],
      "source": [
        "## Read Data for the Fraudulent Email Kaggle Challenge\n",
        "data = pd.read_csv(\"data/kg_train.csv\",encoding='latin-1')\n",
        "\n",
        "# Reduce the training set to speed up development.\n",
        "# Modify for final system\n",
        "data = data.head(1000)\n",
        "print(data.shape)\n",
        "data.fillna(\"\",inplace=True)\n"
      ]
    },
    {
      "cell_type": "markdown",
      "metadata": {
        "id": "0KER2hHszrnq"
      },
      "source": [
        "### Let's divide the training and test set into two partitions"
      ]
    },
    {
      "cell_type": "code",
      "execution_count": 9,
      "metadata": {
        "colab": {
          "base_uri": "https://localhost:8080/"
        },
        "id": "rUIr7xtvzrnq",
        "outputId": "78c055d3-9d12-4b44-9318-0aa8de2496ad"
      },
      "outputs": [
        {
          "output_type": "stream",
          "name": "stdout",
          "text": [
            "Training set shape: (1000, 2)\n",
            "Test set shape: (200, 1)\n"
          ]
        }
      ],
      "source": [
        "# Your code\n",
        "\n",
        "# Load the training data\n",
        "train_data = data\n",
        "\n",
        "# Load the test data\n",
        "test_data = pd.read_csv(\"data/kg_test.csv\", encoding='latin-1')\n",
        "\n",
        "# Reduce the datasets for faster development\n",
        "train_data = train_data.head(1000)  # Adjust as needed\n",
        "test_data = test_data.head(200)  # Adjust as needed\n",
        "\n",
        "# Print the shapes to verify the datasets\n",
        "print(\"Training set shape:\", train_data.shape)\n",
        "print(\"Test set shape:\", test_data.shape)\n",
        "\n",
        "# Fill NaN values if any\n",
        "train_data.fillna(\"\", inplace=True)\n",
        "test_data.fillna(\"\", inplace=True)\n",
        "\n",
        "# The data is already divided into training and test sets\n",
        "# We just need to separate features and target for each set\n",
        "\n",
        "# For the training set\n",
        "X_train = train_data['text']\n",
        "y_train = train_data['label']\n",
        "\n",
        "# For the test set\n",
        "X_test = test_data['text']\n"
      ]
    },
    {
      "cell_type": "markdown",
      "metadata": {
        "id": "-eIGIcYnzrnq"
      },
      "source": [
        "## Data Preprocessing"
      ]
    },
    {
      "cell_type": "code",
      "execution_count": 8,
      "metadata": {
        "colab": {
          "base_uri": "https://localhost:8080/"
        },
        "id": "2EyHfODczrnr",
        "outputId": "91e33acb-775b-4824-d914-17ef4e3ec919"
      },
      "outputs": [
        {
          "output_type": "stream",
          "name": "stdout",
          "text": [
            "!\"#$%&'()*+,-./:;<=>?@[\\]^_`{|}~\n",
            "['here', 'there', 'when', 'where', 'why', 'how', 'all', 'any', 'both', 'each']\n"
          ]
        },
        {
          "output_type": "stream",
          "name": "stderr",
          "text": [
            "[nltk_data] Downloading package stopwords to /root/nltk_data...\n",
            "[nltk_data]   Unzipping corpora/stopwords.zip.\n"
          ]
        }
      ],
      "source": [
        "import nltk\n",
        "import string\n",
        "from nltk.corpus import stopwords\n",
        "nltk.download('stopwords')\n",
        "print(string.punctuation)\n",
        "print(stopwords.words(\"english\")[100:110])\n",
        "from nltk.stem.snowball import SnowballStemmer\n",
        "snowball = SnowballStemmer('english')"
      ]
    },
    {
      "cell_type": "markdown",
      "metadata": {
        "id": "Bo-ZOAwozrnr"
      },
      "source": [
        "## Now, we have to clean the html code removing words\n",
        "\n",
        "- First we remove inline JavaScript/CSS\n",
        "- Then we remove html comments. This has to be done before removing regular tags since comments can contain '>' characters\n",
        "- Next we can remove the remaining tags"
      ]
    },
    {
      "cell_type": "code",
      "execution_count": 13,
      "metadata": {
        "colab": {
          "base_uri": "https://localhost:8080/"
        },
        "id": "2QTwJ1k1zrnr",
        "outputId": "a972b943-adaa-4da1-e645-ab385709d22f"
      },
      "outputs": [
        {
          "output_type": "stream",
          "name": "stdout",
          "text": [
            "Inline JavaScript/CSS, HTML comments, and remaining HTML tags removed.\n",
            "\n",
            "Sample text after removing all HTML elements:\n",
            "DEAR SIR, STRICTLY A PRIVATE BUSINESS PROPOSAL I AM MIKE CHUKWU , THE MANAGER, BILLS AND EXCHANGE AT THE FOREIGN REMITTANCE DEPARTMENT OF THE ZENITH INTERNATIONAL BANK PLC. I AM WRITING THIS LETTER TO ASK FOR YOUR SUPPORT AND COOPERATION TO CARRY OUT THIS BUSINESS OPPORTUNITY IN MY DEPARTMENT. WE DISCOVERED AN ABANDONED SUM OF $15,000,000.00 (FIFTEEN MILLION UNITED STATES DOLLARS ONLY) IN AN ACCOUNT THAT BELONGS TO ONE OF OUR FOREIGN CUSTOMERS WHO DIED ALONG WITH HIS ENTIRE FAMILY OF A WIFE AND \n"
          ]
        }
      ],
      "source": [
        "# Your code\n",
        "\n",
        "import re #the regex module in the python standard library\n",
        "\n",
        "# Function to remove inline JavaScript/CSS\n",
        "def remove_inline_js_css(text):\n",
        "    # Remove inline JavaScript\n",
        "    text = re.sub(r'<script\\b[^<]*(?:(?!<\\/script>)<[^<]*)*<\\/script>', '', text)\n",
        "    # Remove inline CSS\n",
        "    text = re.sub(r'<style\\b[^<]*(?:(?!<\\/style>)<[^<]*)*<\\/style>', '', text)\n",
        "    return text\n",
        "\n",
        "# Function to remove HTML comments\n",
        "def remove_html_comments(text):\n",
        "    return re.sub(r'<!--[\\s\\S]*?-->', '', text)\n",
        "\n",
        "# Function to remove remaining HTML tags\n",
        "def remove_html_tags(text):\n",
        "    return re.sub(r'<[^>]+>', '', text)\n",
        "\n",
        "# Apply all three functions to the text data\n",
        "X_train = X_train.apply(remove_inline_js_css).apply(remove_html_comments).apply(remove_html_tags)\n",
        "X_test = X_test.apply(remove_inline_js_css).apply(remove_html_comments).apply(remove_html_tags)\n",
        "\n",
        "print(\"Inline JavaScript/CSS, HTML comments, and remaining HTML tags removed.\")\n",
        "\n",
        "# Print a sample to verify the changes\n",
        "print(\"\\nSample text after removing all HTML elements:\")\n",
        "print(X_train.iloc[0][:500])  # Print first 500 characters of the first sample\n"
      ]
    },
    {
      "cell_type": "markdown",
      "metadata": {
        "id": "A80JUSM3zrnr"
      },
      "source": [
        "- Remove all the special characters\n",
        "    \n",
        "- Remove numbers\n",
        "    \n",
        "- Remove all single characters\n",
        "\n",
        "- Remove single characters from the start\n",
        "\n",
        "- Substitute multiple spaces with single space\n",
        "\n",
        "- Remove prefixed 'b'\n",
        "\n",
        "- Convert to Lowercase"
      ]
    },
    {
      "cell_type": "code",
      "execution_count": 14,
      "metadata": {
        "colab": {
          "base_uri": "https://localhost:8080/"
        },
        "id": "eR0X0efbzrns",
        "outputId": "14be1117-5203-4baa-d4af-6a3643ddf8ce"
      },
      "outputs": [
        {
          "output_type": "stream",
          "name": "stdout",
          "text": [
            "Text cleaning completed.\n",
            "\n",
            "Sample text after cleaning:\n",
            "dear sir strictly private business proposal am mike chukwu the manager bills and exchange at the foreign remittance department of the zenith international bank plc am writing this letter to ask for your support and cooperation to carry out this business opportunity in my department we discovered an abandoned sum of fifteen million united states dollars only in an account that belongs to one of our foreign customers who died along with his entire family of wife and two children in november in pla\n"
          ]
        }
      ],
      "source": [
        "# Your code\n",
        "\n",
        "def clean_text(text):\n",
        "    # Convert to lowercase\n",
        "    text = text.lower()\n",
        "\n",
        "    # Remove prefixed 'b'\n",
        "    text = re.sub(r'^b\\s+', '', text)\n",
        "\n",
        "    # Remove all special characters and numbers\n",
        "    text = re.sub(r'[^a-zA-Z\\s]', '', text)\n",
        "\n",
        "    # Remove all single characters\n",
        "    text = re.sub(r'\\s+[a-zA-Z]\\s+', ' ', text)\n",
        "\n",
        "    # Remove single characters from the start\n",
        "    text = re.sub(r'^[a-zA-Z]\\s+', '', text)\n",
        "\n",
        "    # Substitute multiple spaces with single space\n",
        "    text = re.sub(r'\\s+', ' ', text)\n",
        "\n",
        "    # Remove leading and trailing whitespaces\n",
        "    text = text.strip()\n",
        "\n",
        "    return text\n",
        "\n",
        "# Apply the cleaning function to the text data\n",
        "X_train = X_train.apply(clean_text)\n",
        "X_test = X_test.apply(clean_text)\n",
        "\n",
        "print(\"Text cleaning completed.\")\n",
        "\n",
        "# Print a sample to verify the changes\n",
        "print(\"\\nSample text after cleaning:\")\n",
        "print(X_train.iloc[0][:500])  # Print first 500 characters of the first sample"
      ]
    },
    {
      "cell_type": "markdown",
      "metadata": {
        "id": "fH-x0kwizrns"
      },
      "source": [
        "## Now let's work on removing stopwords\n",
        "Remove the stopwords."
      ]
    },
    {
      "cell_type": "code",
      "execution_count": 15,
      "metadata": {
        "colab": {
          "base_uri": "https://localhost:8080/"
        },
        "id": "OITZFznhzrns",
        "outputId": "edb4ee9f-d1f8-40d2-83ec-0ab063dcfcf4"
      },
      "outputs": [
        {
          "output_type": "stream",
          "name": "stdout",
          "text": [
            "Stopword removal completed.\n",
            "\n",
            "Sample text after stopword removal:\n",
            "dear sir strictly private business proposal mike chukwu manager bills exchange foreign remittance department zenith international bank plc writing letter ask support cooperation carry business opportunity department discovered abandoned sum fifteen million united states dollars account belongs one foreign customers died along entire family wife two children november plane crash since heard death expecting nextofkin come put claims money heirbecause cannot release fund account unless someone appl\n"
          ]
        }
      ],
      "source": [
        "# Your code\n",
        "\n",
        "# Get the set of English stopwords\n",
        "stop_words = set(stopwords.words('english'))\n",
        "\n",
        "def remove_stopwords(text):\n",
        "    # Split the text into words\n",
        "    words = text.split()\n",
        "\n",
        "    # Keep only non-stopwords\n",
        "    cleaned_words = [word for word in words if word not in stop_words]\n",
        "\n",
        "    # Join the words back into a string\n",
        "    return ' '.join(cleaned_words)\n",
        "\n",
        "# Apply stopword removal to your already cleaned text data\n",
        "X_train = X_train.apply(remove_stopwords)\n",
        "X_test = X_test.apply(remove_stopwords)\n",
        "\n",
        "print(\"Stopword removal completed.\")\n",
        "\n",
        "# Print a sample to verify the changes\n",
        "print(\"\\nSample text after stopword removal:\")\n",
        "print(X_train.iloc[0][:500])  # Print first 500 characters of the first sample"
      ]
    },
    {
      "cell_type": "markdown",
      "metadata": {
        "id": "aMQbRZRCzrns"
      },
      "source": [
        "## Tame Your Text with Lemmatization\n",
        "Break sentences into words, then use lemmatization to reduce them to their base form (e.g., \"running\" becomes \"run\"). See how this creates cleaner data for analysis!"
      ]
    },
    {
      "cell_type": "code",
      "execution_count": 16,
      "metadata": {
        "colab": {
          "base_uri": "https://localhost:8080/"
        },
        "id": "3Q462tUuzrns",
        "outputId": "dae4deb9-7b84-444d-98f5-e8049c3034ed"
      },
      "outputs": [
        {
          "output_type": "stream",
          "name": "stdout",
          "text": [
            "Lemmatization completed.\n",
            "\n",
            "Sample text after lemmatization:\n",
            "dear sir strictly private business proposal mike chukwu manager bill exchange foreign remittance department zenith international bank plc write letter ask support cooperation carry business opportunity department discover abandon sum fifteen million united state dollar account belongs one foreign customer die along entire family wife two child november plane crash since heard death expect nextofkin come put claim money heirbecause can not release fund account unless someone applies claim nextofk\n"
          ]
        }
      ],
      "source": [
        "# Your code\n",
        "\n",
        "from nltk.tokenize import word_tokenize\n",
        "from nltk.stem import WordNetLemmatizer\n",
        "from nltk.corpus import wordnet\n",
        "\n",
        "# Download necessary NLTK data\n",
        "nltk.download('punkt', quiet=True)\n",
        "nltk.download('averaged_perceptron_tagger', quiet=True)\n",
        "nltk.download('wordnet', quiet=True)\n",
        "\n",
        "# Initialise the lemmatiser\n",
        "lemmatizer = WordNetLemmatizer()\n",
        "\n",
        "def get_wordnet_pos(word):\n",
        "\n",
        "    tag = nltk.pos_tag([word])[0][1][0].upper() # gets first letter of POS categorization\n",
        "    tag_dict = {\"J\": wordnet.ADJ,\n",
        "                \"N\": wordnet.NOUN,\n",
        "                \"V\": wordnet.VERB,\n",
        "                \"R\": wordnet.ADV}\n",
        "    return tag_dict.get(tag, wordnet.NOUN)\n",
        "\n",
        "def lemmatize_text(text):\n",
        "    # Tokenise the text into words\n",
        "    words = word_tokenize(text)\n",
        "\n",
        "    # Lemmatise each word with its POS tag\n",
        "    lemmatized_words = [lemmatizer.lemmatize(word, get_wordnet_pos(word)) for word in words]\n",
        "\n",
        "    # Join the lemmatised words back into a string\n",
        "    return ' '.join(lemmatized_words)\n",
        "\n",
        "# Apply lemmatisation to the text data\n",
        "X_train = X_train.apply(lemmatize_text)\n",
        "X_test = X_test.apply(lemmatize_text)\n",
        "\n",
        "print(\"Lemmatization completed.\")\n",
        "\n",
        "# Print a sample to verify the changes\n",
        "print(\"\\nSample text after lemmatization:\")\n",
        "print(X_train.iloc[0][:500])  # Print first 500 characters of the first sample"
      ]
    },
    {
      "cell_type": "markdown",
      "metadata": {
        "id": "Cyf8YFM_zrns"
      },
      "source": [
        "## Bag Of Words\n",
        "Let's get the 10 top words in ham and spam messages (**EXPLORATORY DATA ANALYSIS**)"
      ]
    },
    {
      "cell_type": "code",
      "execution_count": 17,
      "metadata": {
        "colab": {
          "base_uri": "https://localhost:8080/"
        },
        "id": "ry9boisxzrns",
        "outputId": "68d5fa1e-fe4b-4b22-c35a-e91e95165e9e"
      },
      "outputs": [
        {
          "output_type": "stream",
          "name": "stdout",
          "text": [
            "Bag of Words vectorization completed.\n",
            "Number of features: 1000\n",
            "\n",
            "Sample feature names:\n",
            "['abacha' 'abandon' 'abandon sum' 'abidjan' 'able' 'abroad' 'ac' 'accept'\n",
            " 'acceptance' 'access']\n",
            "\n",
            "Top words in the first document:\n",
            "fund: 6\n",
            "bank: 5\n",
            "department: 5\n",
            "account: 4\n",
            "business: 4\n",
            "claim: 4\n",
            "foreign: 4\n",
            "come: 3\n",
            "agree: 2\n",
            "country: 2\n"
          ]
        }
      ],
      "source": [
        "# Your code\n",
        "from sklearn.feature_extraction.text import CountVectorizer\n",
        "\n",
        "# Create CountVectorizer\n",
        "bow_vectorizer = CountVectorizer(max_features=1000,  # Limit to top 1000 features\n",
        "                                 stop_words='english',  # Remove English stop words\n",
        "                                 lowercase=True,  # Convert all text to lowercase\n",
        "                                 ngram_range=(1, 2))  # Include both unigrams and bigrams\n",
        "\n",
        "# Fit and transform the training data\n",
        "X_train_bow = bow_vectorizer.fit_transform(X_train)\n",
        "\n",
        "# Transform the test data\n",
        "X_test_bow = bow_vectorizer.transform(X_test)\n",
        "\n",
        "print(\"Bag of Words vectorization completed.\")\n",
        "print(f\"Number of features: {X_train_bow.shape[1]}\")\n",
        "\n",
        "# If you want to see the feature names (words)\n",
        "feature_names = bow_vectorizer.get_feature_names_out()\n",
        "print(\"\\nSample feature names:\")\n",
        "print(feature_names[:10])  # Print first 10 feature names\n",
        "\n",
        "# If you want to see the word counts for the first document\n",
        "first_doc_vector = X_train_bow[0].toarray()[0]\n",
        "word_count_pairs = list(zip(feature_names, first_doc_vector))\n",
        "word_count_pairs = sorted(word_count_pairs, key=lambda x: x[1], reverse=True)\n",
        "print(\"\\nTop words in the first document:\")\n",
        "for word, count in word_count_pairs[:10]:  # Print top 10 words\n",
        "    if count > 0:\n",
        "        print(f\"{word}: {count}\")"
      ]
    },
    {
      "cell_type": "markdown",
      "metadata": {
        "id": "QD8jsZW7zrnt"
      },
      "source": [
        "## Extra features"
      ]
    },
    {
      "cell_type": "code",
      "execution_count": 23,
      "metadata": {
        "colab": {
          "base_uri": "https://localhost:8080/",
          "height": 206
        },
        "id": "EWie8bThzrnt",
        "outputId": "a3e82bd0-169b-426a-9cc2-a342d14f8476"
      },
      "outputs": [
        {
          "output_type": "execute_result",
          "data": {
            "text/plain": [
              "                                                text  money_mark  \\\n",
              "0  dear sir strictly private business proposal mi...           1   \n",
              "1                                                              1   \n",
              "2  noracheryl email dozen memo haiti weekend plea...           1   \n",
              "3  dear sirfmadamc know proposal might surprise e...           1   \n",
              "4                                                fyi           1   \n",
              "\n",
              "   suspicious_words  text_len  \n",
              "0                 1      1471  \n",
              "1                 0         0  \n",
              "2                 0       108  \n",
              "3                 1      1353  \n",
              "4                 0         3  "
            ],
            "text/html": [
              "\n",
              "  <div id=\"df-13cea606-ffae-4a30-8737-aa75a3029f81\" class=\"colab-df-container\">\n",
              "    <div>\n",
              "<style scoped>\n",
              "    .dataframe tbody tr th:only-of-type {\n",
              "        vertical-align: middle;\n",
              "    }\n",
              "\n",
              "    .dataframe tbody tr th {\n",
              "        vertical-align: top;\n",
              "    }\n",
              "\n",
              "    .dataframe thead th {\n",
              "        text-align: right;\n",
              "    }\n",
              "</style>\n",
              "<table border=\"1\" class=\"dataframe\">\n",
              "  <thead>\n",
              "    <tr style=\"text-align: right;\">\n",
              "      <th></th>\n",
              "      <th>text</th>\n",
              "      <th>money_mark</th>\n",
              "      <th>suspicious_words</th>\n",
              "      <th>text_len</th>\n",
              "    </tr>\n",
              "  </thead>\n",
              "  <tbody>\n",
              "    <tr>\n",
              "      <th>0</th>\n",
              "      <td>dear sir strictly private business proposal mi...</td>\n",
              "      <td>1</td>\n",
              "      <td>1</td>\n",
              "      <td>1471</td>\n",
              "    </tr>\n",
              "    <tr>\n",
              "      <th>1</th>\n",
              "      <td></td>\n",
              "      <td>1</td>\n",
              "      <td>0</td>\n",
              "      <td>0</td>\n",
              "    </tr>\n",
              "    <tr>\n",
              "      <th>2</th>\n",
              "      <td>noracheryl email dozen memo haiti weekend plea...</td>\n",
              "      <td>1</td>\n",
              "      <td>0</td>\n",
              "      <td>108</td>\n",
              "    </tr>\n",
              "    <tr>\n",
              "      <th>3</th>\n",
              "      <td>dear sirfmadamc know proposal might surprise e...</td>\n",
              "      <td>1</td>\n",
              "      <td>1</td>\n",
              "      <td>1353</td>\n",
              "    </tr>\n",
              "    <tr>\n",
              "      <th>4</th>\n",
              "      <td>fyi</td>\n",
              "      <td>1</td>\n",
              "      <td>0</td>\n",
              "      <td>3</td>\n",
              "    </tr>\n",
              "  </tbody>\n",
              "</table>\n",
              "</div>\n",
              "    <div class=\"colab-df-buttons\">\n",
              "\n",
              "  <div class=\"colab-df-container\">\n",
              "    <button class=\"colab-df-convert\" onclick=\"convertToInteractive('df-13cea606-ffae-4a30-8737-aa75a3029f81')\"\n",
              "            title=\"Convert this dataframe to an interactive table.\"\n",
              "            style=\"display:none;\">\n",
              "\n",
              "  <svg xmlns=\"http://www.w3.org/2000/svg\" height=\"24px\" viewBox=\"0 -960 960 960\">\n",
              "    <path d=\"M120-120v-720h720v720H120Zm60-500h600v-160H180v160Zm220 220h160v-160H400v160Zm0 220h160v-160H400v160ZM180-400h160v-160H180v160Zm440 0h160v-160H620v160ZM180-180h160v-160H180v160Zm440 0h160v-160H620v160Z\"/>\n",
              "  </svg>\n",
              "    </button>\n",
              "\n",
              "  <style>\n",
              "    .colab-df-container {\n",
              "      display:flex;\n",
              "      gap: 12px;\n",
              "    }\n",
              "\n",
              "    .colab-df-convert {\n",
              "      background-color: #E8F0FE;\n",
              "      border: none;\n",
              "      border-radius: 50%;\n",
              "      cursor: pointer;\n",
              "      display: none;\n",
              "      fill: #1967D2;\n",
              "      height: 32px;\n",
              "      padding: 0 0 0 0;\n",
              "      width: 32px;\n",
              "    }\n",
              "\n",
              "    .colab-df-convert:hover {\n",
              "      background-color: #E2EBFA;\n",
              "      box-shadow: 0px 1px 2px rgba(60, 64, 67, 0.3), 0px 1px 3px 1px rgba(60, 64, 67, 0.15);\n",
              "      fill: #174EA6;\n",
              "    }\n",
              "\n",
              "    .colab-df-buttons div {\n",
              "      margin-bottom: 4px;\n",
              "    }\n",
              "\n",
              "    [theme=dark] .colab-df-convert {\n",
              "      background-color: #3B4455;\n",
              "      fill: #D2E3FC;\n",
              "    }\n",
              "\n",
              "    [theme=dark] .colab-df-convert:hover {\n",
              "      background-color: #434B5C;\n",
              "      box-shadow: 0px 1px 3px 1px rgba(0, 0, 0, 0.15);\n",
              "      filter: drop-shadow(0px 1px 2px rgba(0, 0, 0, 0.3));\n",
              "      fill: #FFFFFF;\n",
              "    }\n",
              "  </style>\n",
              "\n",
              "    <script>\n",
              "      const buttonEl =\n",
              "        document.querySelector('#df-13cea606-ffae-4a30-8737-aa75a3029f81 button.colab-df-convert');\n",
              "      buttonEl.style.display =\n",
              "        google.colab.kernel.accessAllowed ? 'block' : 'none';\n",
              "\n",
              "      async function convertToInteractive(key) {\n",
              "        const element = document.querySelector('#df-13cea606-ffae-4a30-8737-aa75a3029f81');\n",
              "        const dataTable =\n",
              "          await google.colab.kernel.invokeFunction('convertToInteractive',\n",
              "                                                    [key], {});\n",
              "        if (!dataTable) return;\n",
              "\n",
              "        const docLinkHtml = 'Like what you see? Visit the ' +\n",
              "          '<a target=\"_blank\" href=https://colab.research.google.com/notebooks/data_table.ipynb>data table notebook</a>'\n",
              "          + ' to learn more about interactive tables.';\n",
              "        element.innerHTML = '';\n",
              "        dataTable['output_type'] = 'display_data';\n",
              "        await google.colab.output.renderOutput(dataTable, element);\n",
              "        const docLink = document.createElement('div');\n",
              "        docLink.innerHTML = docLinkHtml;\n",
              "        element.appendChild(docLink);\n",
              "      }\n",
              "    </script>\n",
              "  </div>\n",
              "\n",
              "\n",
              "<div id=\"df-b55e8b4d-a88d-45ec-ad5e-f8a1e94d6140\">\n",
              "  <button class=\"colab-df-quickchart\" onclick=\"quickchart('df-b55e8b4d-a88d-45ec-ad5e-f8a1e94d6140')\"\n",
              "            title=\"Suggest charts\"\n",
              "            style=\"display:none;\">\n",
              "\n",
              "<svg xmlns=\"http://www.w3.org/2000/svg\" height=\"24px\"viewBox=\"0 0 24 24\"\n",
              "     width=\"24px\">\n",
              "    <g>\n",
              "        <path d=\"M19 3H5c-1.1 0-2 .9-2 2v14c0 1.1.9 2 2 2h14c1.1 0 2-.9 2-2V5c0-1.1-.9-2-2-2zM9 17H7v-7h2v7zm4 0h-2V7h2v10zm4 0h-2v-4h2v4z\"/>\n",
              "    </g>\n",
              "</svg>\n",
              "  </button>\n",
              "\n",
              "<style>\n",
              "  .colab-df-quickchart {\n",
              "      --bg-color: #E8F0FE;\n",
              "      --fill-color: #1967D2;\n",
              "      --hover-bg-color: #E2EBFA;\n",
              "      --hover-fill-color: #174EA6;\n",
              "      --disabled-fill-color: #AAA;\n",
              "      --disabled-bg-color: #DDD;\n",
              "  }\n",
              "\n",
              "  [theme=dark] .colab-df-quickchart {\n",
              "      --bg-color: #3B4455;\n",
              "      --fill-color: #D2E3FC;\n",
              "      --hover-bg-color: #434B5C;\n",
              "      --hover-fill-color: #FFFFFF;\n",
              "      --disabled-bg-color: #3B4455;\n",
              "      --disabled-fill-color: #666;\n",
              "  }\n",
              "\n",
              "  .colab-df-quickchart {\n",
              "    background-color: var(--bg-color);\n",
              "    border: none;\n",
              "    border-radius: 50%;\n",
              "    cursor: pointer;\n",
              "    display: none;\n",
              "    fill: var(--fill-color);\n",
              "    height: 32px;\n",
              "    padding: 0;\n",
              "    width: 32px;\n",
              "  }\n",
              "\n",
              "  .colab-df-quickchart:hover {\n",
              "    background-color: var(--hover-bg-color);\n",
              "    box-shadow: 0 1px 2px rgba(60, 64, 67, 0.3), 0 1px 3px 1px rgba(60, 64, 67, 0.15);\n",
              "    fill: var(--button-hover-fill-color);\n",
              "  }\n",
              "\n",
              "  .colab-df-quickchart-complete:disabled,\n",
              "  .colab-df-quickchart-complete:disabled:hover {\n",
              "    background-color: var(--disabled-bg-color);\n",
              "    fill: var(--disabled-fill-color);\n",
              "    box-shadow: none;\n",
              "  }\n",
              "\n",
              "  .colab-df-spinner {\n",
              "    border: 2px solid var(--fill-color);\n",
              "    border-color: transparent;\n",
              "    border-bottom-color: var(--fill-color);\n",
              "    animation:\n",
              "      spin 1s steps(1) infinite;\n",
              "  }\n",
              "\n",
              "  @keyframes spin {\n",
              "    0% {\n",
              "      border-color: transparent;\n",
              "      border-bottom-color: var(--fill-color);\n",
              "      border-left-color: var(--fill-color);\n",
              "    }\n",
              "    20% {\n",
              "      border-color: transparent;\n",
              "      border-left-color: var(--fill-color);\n",
              "      border-top-color: var(--fill-color);\n",
              "    }\n",
              "    30% {\n",
              "      border-color: transparent;\n",
              "      border-left-color: var(--fill-color);\n",
              "      border-top-color: var(--fill-color);\n",
              "      border-right-color: var(--fill-color);\n",
              "    }\n",
              "    40% {\n",
              "      border-color: transparent;\n",
              "      border-right-color: var(--fill-color);\n",
              "      border-top-color: var(--fill-color);\n",
              "    }\n",
              "    60% {\n",
              "      border-color: transparent;\n",
              "      border-right-color: var(--fill-color);\n",
              "    }\n",
              "    80% {\n",
              "      border-color: transparent;\n",
              "      border-right-color: var(--fill-color);\n",
              "      border-bottom-color: var(--fill-color);\n",
              "    }\n",
              "    90% {\n",
              "      border-color: transparent;\n",
              "      border-bottom-color: var(--fill-color);\n",
              "    }\n",
              "  }\n",
              "</style>\n",
              "\n",
              "  <script>\n",
              "    async function quickchart(key) {\n",
              "      const quickchartButtonEl =\n",
              "        document.querySelector('#' + key + ' button');\n",
              "      quickchartButtonEl.disabled = true;  // To prevent multiple clicks.\n",
              "      quickchartButtonEl.classList.add('colab-df-spinner');\n",
              "      try {\n",
              "        const charts = await google.colab.kernel.invokeFunction(\n",
              "            'suggestCharts', [key], {});\n",
              "      } catch (error) {\n",
              "        console.error('Error during call to suggestCharts:', error);\n",
              "      }\n",
              "      quickchartButtonEl.classList.remove('colab-df-spinner');\n",
              "      quickchartButtonEl.classList.add('colab-df-quickchart-complete');\n",
              "    }\n",
              "    (() => {\n",
              "      let quickchartButtonEl =\n",
              "        document.querySelector('#df-b55e8b4d-a88d-45ec-ad5e-f8a1e94d6140 button');\n",
              "      quickchartButtonEl.style.display =\n",
              "        google.colab.kernel.accessAllowed ? 'block' : 'none';\n",
              "    })();\n",
              "  </script>\n",
              "</div>\n",
              "\n",
              "    </div>\n",
              "  </div>\n"
            ],
            "application/vnd.google.colaboratory.intrinsic+json": {
              "type": "dataframe",
              "variable_name": "X_train",
              "summary": "{\n  \"name\": \"X_train\",\n  \"rows\": 1000,\n  \"fields\": [\n    {\n      \"column\": \"text\",\n      \"properties\": {\n        \"dtype\": \"string\",\n        \"num_unique_values\": 916,\n        \"samples\": [\n          \"desk musa garubabill exchange managerafrican development bankouagadougou burkina fasoi manager bill exchange foreign remittance departmentof african development bank burkina faso get contact addressthrough internet net work search search good reliableperson assist transactionin department discover abandon sum u dollar twenty two milllion eight hundred fifty thousand u dollarsin anaccount thatbelongs one foreign customer die th july super sonic concorde plane crash charles de gaulle airport inparis francealong entire familysince get information death expect nextof kin come claim money can not release itunless somebody applies next kin relation deceasedas indicate banking guideline unfortunately learnt thatall supposednext kin relation die alongside plane crash leavingnobody behind claim therefore upon discovery idecided make business proposal release money youas next kin relation decease safety subsequentdisbursement since nobody come dont want money togo bank treasury unclaimed billthe banking law guideline stipulates money remainedunclamed four year money transfer banktreasury unclaimed fundthe request foreigner next kin business occasion bythe fact customer foreigner burkinabe can not stand asnext kin foreigneri agree money foreign partner inrespect provision foreign account would metherefore enable immediate transfer fund asarranged must apply first bank relation next kin ofthe decease indicate bank name bank account number yourprivate telephone fax number easy effective communication andlocation inthe money remittedupon receipt reply send fax email text ofthe application fail bring notice thistransaction hitch free entertain atom offear require arrangement make transferyou contact immediately soon receive mail throughmy private lineyours faithfullymr musa garubabill exchange managerafrican development bankouagadougouburkina faso\",\n          \"pls printh monday february amjilotylcstategovre early review sid\",\n          \"hellothis drclive whittaker work fidelity investment uk head fund manager charge london channel islandi handle investor treasury bill deposit give access trade investor fund private arrangement addition make average mthrough private trading investor treasury bill deposit say fund currently lie float capital treasury bill magellan trust account neverthles permit law keep mention amount personal fund without declaration source origin fund uk government management fidelity investment therefore need someone work claim aforementioned fund investor without fear favour interested provide detail deal worksthis fair deal without risk attach legally transact share ratio intrested deal get back asap futher detail reply private email box leefprivateboxyahoocomhkkind regardsdrclive whittakerwwwfidelitycothis message sent use imp internet message program\"\n        ],\n        \"semantic_type\": \"\",\n        \"description\": \"\"\n      }\n    },\n    {\n      \"column\": \"money_mark\",\n      \"properties\": {\n        \"dtype\": \"number\",\n        \"std\": 0,\n        \"min\": 1,\n        \"max\": 1,\n        \"num_unique_values\": 1,\n        \"samples\": [\n          1\n        ],\n        \"semantic_type\": \"\",\n        \"description\": \"\"\n      }\n    },\n    {\n      \"column\": \"suspicious_words\",\n      \"properties\": {\n        \"dtype\": \"number\",\n        \"std\": 0,\n        \"min\": 0,\n        \"max\": 1,\n        \"num_unique_values\": 2,\n        \"samples\": [\n          0\n        ],\n        \"semantic_type\": \"\",\n        \"description\": \"\"\n      }\n    },\n    {\n      \"column\": \"text_len\",\n      \"properties\": {\n        \"dtype\": \"number\",\n        \"std\": 2411,\n        \"min\": 0,\n        \"max\": 52864,\n        \"num_unique_values\": 594,\n        \"samples\": [\n          9\n        ],\n        \"semantic_type\": \"\",\n        \"description\": \"\"\n      }\n    }\n  ]\n}"
            }
          },
          "metadata": {},
          "execution_count": 23
        }
      ],
      "source": [
        "# We add to the original dataframe two additional indicators (money symbols and suspicious words).\n",
        "money_simbol_list = \"|\".join([\"euro\",\"dollar\",\"pound\",\"€\",\"$\"])\n",
        "suspicious_words = \"|\".join([\"free\",\"cheap\",\"sex\",\"money\",\"account\",\"bank\",\"fund\",\"transfer\",\"transaction\",\"win\",\"deposit\",\"password\"])\n",
        "\n",
        "X_train = X_train.to_frame(name='text')\n",
        "X_test = X_test.to_frame(name='text')\n",
        "\n",
        "text_column_name = 'text'\n",
        "\n",
        "X_train['money_mark'] = X_train[text_column_name].str.contains(money_simbol_list)*1\n",
        "X_train['suspicious_words'] = X_train[text_column_name].str.contains(suspicious_words)*1\n",
        "X_train['text_len'] = X_train[text_column_name].apply(lambda x: len(x))\n",
        "\n",
        "X_test['money_mark'] = X_test[text_column_name].str.contains(money_simbol_list)*1\n",
        "X_test['suspicious_words'] = X_test[text_column_name].str.contains(suspicious_words)*1\n",
        "X_test['text_len'] = X_test[text_column_name].apply(lambda x: len(x))\n",
        "\n",
        "X_train.head()"
      ]
    },
    {
      "cell_type": "markdown",
      "metadata": {
        "id": "_WN9CQTCzrnt"
      },
      "source": [
        "## How would work the Bag of Words with Count Vectorizer concept?"
      ]
    },
    {
      "cell_type": "code",
      "execution_count": 24,
      "metadata": {
        "colab": {
          "base_uri": "https://localhost:8080/"
        },
        "id": "jvdZP91Szrnt",
        "outputId": "fb788adb-c445-4c36-d4fa-5b2d8bc205b8"
      },
      "outputs": [
        {
          "output_type": "stream",
          "name": "stdout",
          "text": [
            "Bag of Words representation (first 5 documents, top 10 features):\n",
            "   money_mark  suspicious_words  text  text_len\n",
            "0           0                 0     1         0\n",
            "1           1                 0     0         0\n",
            "2           0                 1     0         0\n",
            "3           0                 0     0         1\n",
            "\n",
            "Vocabulary size: 4\n",
            "\n",
            "Top 10 most common words:\n",
            "               word  freq\n",
            "0        money_mark     1\n",
            "1  suspicious_words     1\n",
            "2              text     1\n",
            "3          text_len     1\n",
            "\n",
            "Words in document 0:\n",
            "['text']\n"
          ]
        }
      ],
      "source": [
        "# Your code\n",
        "\n",
        "from sklearn.feature_extraction.text import CountVectorizer\n",
        "import pandas as pd\n",
        "\n",
        "# Create CountVectorizer\n",
        "bow_vectorizer = CountVectorizer(max_features=1000,  # Limit to top 1000 features\n",
        "                                 stop_words='english',  # Remove English stop words\n",
        "                                 lowercase=True,  # Convert all text to lowercase\n",
        "                                 ngram_range=(1, 2))  # Include both unigrams and bigrams\n",
        "\n",
        "# Fit and transform the training data\n",
        "X_train_bow = bow_vectorizer.fit_transform(X_train)\n",
        "\n",
        "# Get feature names (words)\n",
        "feature_names = bow_vectorizer.get_feature_names_out()\n",
        "\n",
        "# Create a DataFrame for the first few documents\n",
        "num_docs_to_show = 5\n",
        "bow_df = pd.DataFrame(X_train_bow[:num_docs_to_show].toarray(), columns=feature_names)\n",
        "\n",
        "print(\"Bag of Words representation (first 5 documents, top 10 features):\")\n",
        "print(bow_df.iloc[:, :10])  # Show only first 10 columns for brevity\n",
        "\n",
        "# Print vocabulary size\n",
        "print(f\"\\nVocabulary size: {len(bow_vectorizer.vocabulary_)}\")\n",
        "\n",
        "# Print top 10 most common words\n",
        "word_freq = X_train_bow.sum(axis=0).A1\n",
        "word_freq_df = pd.DataFrame({'word': feature_names, 'freq': word_freq})\n",
        "word_freq_df = word_freq_df.sort_values('freq', ascending=False).reset_index(drop=True)\n",
        "\n",
        "print(\"\\nTop 10 most common words:\")\n",
        "print(word_freq_df.head(10))\n",
        "\n",
        "# Example of how to get BoW representation for a specific document\n",
        "doc_index = 0  # Change this to look at different documents\n",
        "doc_bow = X_train_bow[doc_index].toarray()[0]\n",
        "doc_words = [word for word, count in zip(feature_names, doc_bow) if count > 0]\n",
        "\n",
        "print(f\"\\nWords in document {doc_index}:\")\n",
        "print(doc_words[:20])  # Print first 20 words"
      ]
    },
    {
      "cell_type": "markdown",
      "metadata": {
        "id": "5dT6Mhxczrnt"
      },
      "source": [
        "## TD-IDF\n",
        "\n",
        "- Load the vectorizer\n",
        "\n",
        "- Vectorize all dataset\n",
        "\n",
        "- print the shape of the vetorized dataset"
      ]
    },
    {
      "cell_type": "code",
      "execution_count": 35,
      "metadata": {
        "colab": {
          "base_uri": "https://localhost:8080/"
        },
        "id": "E6qjgQhszrnt",
        "outputId": "2cbbfed4-d8dc-4a3a-e7e1-dc70ec7c0a2d"
      },
      "outputs": [
        {
          "output_type": "stream",
          "name": "stdout",
          "text": [
            "Shape of the vectorized training dataset: (1000, 1000)\n",
            "Shape of the vectorized test dataset: (4, 1000)\n",
            "\n",
            "Number of features: 1000\n",
            "\n",
            "Top 10 features by IDF score (rare words):\n",
            "money: 2.238873856334701\n",
            "fund: 2.288353913598071\n",
            "business: 2.348073148299693\n",
            "account: 2.383301840183437\n",
            "contact: 2.3953260331502384\n",
            "million: 2.3993664426872434\n",
            "make: 2.436484105643746\n",
            "country: 2.4706754703920253\n",
            "bank: 2.475032775760981\n",
            "state: 2.4882197800429346\n",
            "\n",
            "Bottom 10 features by IDF score (common words):\n",
            "hvnt hrd: 7.215607598755275\n",
            "ind: 7.215607598755275\n",
            "ind men: 7.215607598755275\n",
            "men worn: 7.215607598755275\n",
            "rep dem: 7.215607598755275\n",
            "unfavorable havent: 7.215607598755275\n",
            "unfavorable hvnt: 7.215607598755275\n",
            "wht: 7.215607598755275\n",
            "worn: 7.215607598755275\n",
            "worn wht: 7.215607598755275\n"
          ]
        }
      ],
      "source": [
        "# Your code\n",
        "\n",
        "from sklearn.feature_extraction.text import TfidfVectorizer\n",
        "\n",
        "# Load the vectorizer\n",
        "tfidf_vectorizer = TfidfVectorizer(max_features=1000,  # Limit to top 1000 features\n",
        "                                   stop_words='english',  # Remove English stop words\n",
        "                                   lowercase=True,  # Convert all text to lowercase\n",
        "                                   ngram_range=(1, 2))  # Include both unigrams and bigrams\n",
        "\n",
        "# Vectorize all datasets\n",
        "# Fit on training data, transform both training and test data\n",
        "X_train_tfidf = tfidf_vectorizer.fit_transform(X_train_clean['text'])  # Access the 'text' column\n",
        "X_test_tfidf = tfidf_vectorizer.transform(X_test)\n",
        "\n",
        "# Print the shape of the vectorized datasets\n",
        "print(\"Shape of the vectorized training dataset:\", X_train_tfidf.shape)\n",
        "print(\"Shape of the vectorized test dataset:\", X_test_tfidf.shape)\n",
        "\n",
        "# Optional: Print some additional information\n",
        "print(\"\\nNumber of features:\", len(tfidf_vectorizer.get_feature_names_out()))\n",
        "\n",
        "# Print top 10 features (words) by their IDF score\n",
        "feature_names = tfidf_vectorizer.get_feature_names_out()\n",
        "idf_scores = tfidf_vectorizer.idf_\n",
        "feature_idf_pairs = sorted(zip(feature_names, idf_scores), key=lambda x: x[1])\n",
        "\n",
        "print(\"\\nTop 10 features by IDF score (rare words):\")\n",
        "for feature, idf in feature_idf_pairs[:10]:\n",
        "    print(f\"{feature}: {idf}\")\n",
        "\n",
        "print(\"\\nBottom 10 features by IDF score (common words):\")\n",
        "for feature, idf in feature_idf_pairs[-10:]:\n",
        "    print(f\"{feature}: {idf}\")"
      ]
    },
    {
      "cell_type": "code",
      "source": [
        "# Before training, check the shape of your data\n",
        "print(\"Shape of X_train_tfidf:\", X_train_tfidf.shape)\n",
        "print(\"Shape of y_train:\", y_train.shape)"
      ],
      "metadata": {
        "colab": {
          "base_uri": "https://localhost:8080/"
        },
        "id": "LSdpjQnyQLKY",
        "outputId": "e331887a-a113-4f31-d2a6-85fde1339510"
      },
      "execution_count": 36,
      "outputs": [
        {
          "output_type": "stream",
          "name": "stdout",
          "text": [
            "Shape of X_train_tfidf: (1000, 1000)\n",
            "Shape of y_train: (1000,)\n"
          ]
        }
      ]
    },
    {
      "cell_type": "markdown",
      "metadata": {
        "id": "mFF76wbozrnt"
      },
      "source": [
        "## And the Train a Classifier?"
      ]
    },
    {
      "cell_type": "code",
      "source": [
        "import pandas as pd\n",
        "import numpy as np\n",
        "from sklearn.feature_extraction.text import TfidfVectorizer\n",
        "from sklearn.naive_bayes import MultinomialNB\n",
        "\n",
        "# Check the content of X_train\n",
        "print(\"First few entries of X_train:\")\n",
        "print(X_train.head())\n",
        "print(\"\\nData type of X_train:\", type(X_train))\n",
        "\n",
        "# Check for empty or NaN values\n",
        "print(\"\\nNumber of empty or NaN values in X_train:\", X_train.isna().sum())\n",
        "\n",
        "# Check for empty strings\n",
        "print(\"\\nNumber of empty strings in X_train:\", (X_train == '').sum())\n",
        "\n",
        "# Remove any empty or NaN values\n",
        "X_train_clean = X_train.dropna().replace('', np.nan).dropna()\n",
        "y_train_clean = y_train[X_train_clean.index]\n",
        "\n",
        "print(\"\\nShape of cleaned X_train:\", X_train_clean.shape)\n",
        "print(\"Shape of cleaned y_train:\", y_train_clean.shape)\n",
        "\n",
        "# Print some statistics about the text length\n",
        "# Assuming 'text' is the column containing the text data\n",
        "text_lengths = X_train_clean['text'].str.len()  # Access the 'text' column\n",
        "print(\"\\nText length statistics:\")\n",
        "print(text_lengths.describe())\n",
        "\n",
        "# Print the first few cleaned entries\n",
        "print(\"\\nFirst few cleaned entries:\")\n",
        "print(X_train_clean.head())\n",
        "\n",
        "# Create and fit the TF-IDF vectorizer\n",
        "tfidf_vectorizer = TfidfVectorizer(max_features=1000, stop_words='english')\n",
        "X_train_tfidf = tfidf_vectorizer.fit_transform(X_train_clean['text']) # Access the 'text' column\n",
        "\n",
        "# Verify the shape of the TF-IDF matrix\n",
        "print(\"\\nShape of X_train_tfidf:\", X_train_tfidf.shape)\n",
        "\n",
        "# Print the vocabulary size\n",
        "print(\"Vocabulary size:\", len(tfidf_vectorizer.get_feature_names_out()))\n",
        "\n",
        "# If the shape is still incorrect, let's print the unique words in the corpus\n",
        "if X_train_tfidf.shape[1] < 5:\n",
        "    unique_words = set(' '.join(X_train_clean['text']).split()) # Access the 'text' column\n",
        "    print(\"\\nUnique words in the corpus:\", unique_words)\n",
        "    print(\"Number of unique words:\", len(unique_words))\n",
        "\n",
        "# Don't proceed with classifier training if the data is not correctly vectorized"
      ],
      "metadata": {
        "colab": {
          "base_uri": "https://localhost:8080/"
        },
        "id": "CI4rs6isR-pZ",
        "outputId": "4d5fe9bc-fbd1-4748-8e53-d643cf6ca47d"
      },
      "execution_count": 37,
      "outputs": [
        {
          "output_type": "stream",
          "name": "stdout",
          "text": [
            "First few entries of X_train:\n",
            "                                                text  money_mark  \\\n",
            "0  dear sir strictly private business proposal mi...           1   \n",
            "1                                                              1   \n",
            "2  noracheryl email dozen memo haiti weekend plea...           1   \n",
            "3  dear sirfmadamc know proposal might surprise e...           1   \n",
            "4                                                fyi           1   \n",
            "\n",
            "   suspicious_words  text_len  \n",
            "0                 1      1471  \n",
            "1                 0         0  \n",
            "2                 0       108  \n",
            "3                 1      1353  \n",
            "4                 0         3  \n",
            "\n",
            "Data type of X_train: <class 'pandas.core.frame.DataFrame'>\n",
            "\n",
            "Number of empty or NaN values in X_train: text                0\n",
            "money_mark          0\n",
            "suspicious_words    0\n",
            "text_len            0\n",
            "dtype: int64\n",
            "\n",
            "Number of empty strings in X_train: text                16\n",
            "money_mark           0\n",
            "suspicious_words     0\n",
            "text_len             0\n",
            "dtype: int64\n",
            "\n",
            "Shape of cleaned X_train: (984, 4)\n",
            "Shape of cleaned y_train: (984,)\n",
            "\n",
            "Text length statistics:\n",
            "count      984.000000\n",
            "mean       894.417683\n",
            "std       2428.671361\n",
            "min          1.000000\n",
            "25%         38.750000\n",
            "50%        190.000000\n",
            "75%       1436.000000\n",
            "max      52864.000000\n",
            "Name: text, dtype: float64\n",
            "\n",
            "First few cleaned entries:\n",
            "                                                text  money_mark  \\\n",
            "0  dear sir strictly private business proposal mi...           1   \n",
            "2  noracheryl email dozen memo haiti weekend plea...           1   \n",
            "3  dear sirfmadamc know proposal might surprise e...           1   \n",
            "4                                                fyi           1   \n",
            "5  sure bottom line need special security code ge...           1   \n",
            "\n",
            "   suspicious_words  text_len  \n",
            "0                 1      1471  \n",
            "2                 0       108  \n",
            "3                 1      1353  \n",
            "4                 0         3  \n",
            "5                 0       309  \n",
            "\n",
            "Shape of X_train_tfidf: (984, 1000)\n",
            "Vocabulary size: 1000\n"
          ]
        }
      ]
    },
    {
      "cell_type": "code",
      "source": [
        "# Your code\n",
        "import pandas as pd\n",
        "from sklearn.feature_extraction.text import TfidfVectorizer\n",
        "from sklearn.naive_bayes import MultinomialNB\n",
        "\n",
        "# Check the content of X_train\n",
        "print(\"First few entries of X_train:\")\n",
        "print(X_train.head())\n",
        "print(\"\\nData type of X_train:\", type(X_train))\n",
        "\n",
        "# Check for empty or NaN values\n",
        "print(\"\\nNumber of empty or NaN values in X_train:\", X_train.isna().sum())\n",
        "\n",
        "# Remove any empty or NaN values\n",
        "X_train_clean = X_train.dropna()\n",
        "y_train_clean = y_train[X_train_clean.index]\n",
        "\n",
        "print(\"\\nShape of cleaned X_train:\", X_train_clean.shape)\n",
        "print(\"Shape of cleaned y_train:\", y_train_clean.shape)\n",
        "\n",
        "# Convert to list if it's a pandas Series\n",
        "# Ensure you are accessing the correct column for text data (e.g., 'text')\n",
        "if isinstance(X_train_clean, pd.Series):\n",
        "    X_train_clean = X_train_clean.tolist()\n",
        "elif isinstance(X_train_clean, pd.DataFrame):\n",
        "    X_train_clean = X_train_clean['text'].tolist() # Access the 'text' column\n",
        "\n",
        "# Create and fit the TF-IDF vectorizer\n",
        "tfidf_vectorizer = TfidfVectorizer(max_features=1000, stop_words='english')\n",
        "X_train_tfidf = tfidf_vectorizer.fit_transform(X_train_clean)\n",
        "\n",
        "# Verify the shape of the TF-IDF matrix\n",
        "print(\"\\nShape of X_train_tfidf:\", X_train_tfidf.shape)\n",
        "\n",
        "# Initialize and train the Multinomial Naive Bayes classifier\n",
        "nb_classifier = MultinomialNB()\n",
        "nb_classifier.fit(X_train_tfidf, y_train_clean)\n",
        "\n",
        "# Transform the test data\n",
        "# Ensure you are accessing the correct column for text data (e.g., 'text')\n",
        "if isinstance(X_test, pd.Series):\n",
        "    X_test_tfidf = tfidf_vectorizer.transform(X_test.tolist())\n",
        "elif isinstance(X_test, pd.DataFrame):\n",
        "    X_test_tfidf = tfidf_vectorizer.transform(X_test['text'].tolist()) # Access the 'text' column\n",
        "\n",
        "# Make predictions on the test set\n",
        "y_pred = nb_classifier.predict(X_test_tfidf)\n",
        "\n",
        "# Print some example predictions\n",
        "n_samples = 5\n",
        "print(f\"\\nExample predictions for {n_samples} samples:\")\n",
        "for i in range(n_samples):\n",
        "    predicted_label = y_pred[i]\n",
        "    text = X_test.iloc[i][:100]  # First 100 characters of the text\n",
        "    print(f\"Predicted: {predicted_label}\")\n",
        "    print(f\"Text: {text}...\")\n",
        "    print()\n",
        "\n",
        "# Save the predictions\n",
        "submission = pd.DataFrame({'id': X_test.index, 'predicted_label': y_pred})\n",
        "submission.to_csv('naive_bayes_predictions.csv', index=False)\n",
        "print(\"Predictions saved to 'naive_bayes_predictions.csv'\")"
      ],
      "metadata": {
        "colab": {
          "base_uri": "https://localhost:8080/"
        },
        "id": "EVxsNqpNT1Vt",
        "outputId": "6e99c584-0c29-49a3-e8aa-751fd0a96f2a"
      },
      "execution_count": 40,
      "outputs": [
        {
          "output_type": "stream",
          "name": "stdout",
          "text": [
            "First few entries of X_train:\n",
            "                                                text  money_mark  \\\n",
            "0  dear sir strictly private business proposal mi...           1   \n",
            "1                                                              1   \n",
            "2  noracheryl email dozen memo haiti weekend plea...           1   \n",
            "3  dear sirfmadamc know proposal might surprise e...           1   \n",
            "4                                                fyi           1   \n",
            "\n",
            "   suspicious_words  text_len  \n",
            "0                 1      1471  \n",
            "1                 0         0  \n",
            "2                 0       108  \n",
            "3                 1      1353  \n",
            "4                 0         3  \n",
            "\n",
            "Data type of X_train: <class 'pandas.core.frame.DataFrame'>\n",
            "\n",
            "Number of empty or NaN values in X_train: text                0\n",
            "money_mark          0\n",
            "suspicious_words    0\n",
            "text_len            0\n",
            "dtype: int64\n",
            "\n",
            "Shape of cleaned X_train: (1000, 4)\n",
            "Shape of cleaned y_train: (1000,)\n",
            "\n",
            "Shape of X_train_tfidf: (1000, 1000)\n",
            "\n",
            "Example predictions for 5 samples:\n",
            "Predicted: 1\n",
            "Text: text                usiness fact decease man foreigner authorize l...\n",
            "money_mark                                                          1\n",
            "suspicious_words                                                    1\n",
            "text_len                                                          784\n",
            "Name: 0, dtype: object...\n",
            "\n",
            "Predicted: 0\n",
            "Text: text                happy adjust afternoon go suggest pm start tim...\n",
            "money_mark                                                          1\n",
            "suspicious_words                                                    0\n",
            "text_len                                                           99\n",
            "Name: 1, dtype: object...\n",
            "\n",
            "Predicted: 0\n",
            "Text: text                lael brainard confirm afternoonmiguel rodrigue...\n",
            "money_mark                                                          1\n",
            "suspicious_words                                                    0\n",
            "text_len                                                          153\n",
            "Name: 2, dtype: object...\n",
            "\n",
            "Predicted: 0\n",
            "Text: text                friday march amsbwhoeop rei extend congrats\n",
            "money_mark                                                    1\n",
            "suspicious_words                                              0\n",
            "text_len                                                     43\n",
            "Name: 3, dtype: object...\n",
            "\n",
            "Predicted: 1\n",
            "Text: text                dear good friendi happy inform successin get f...\n",
            "money_mark                                                          1\n",
            "suspicious_words                                                    1\n",
            "text_len                                                          838\n",
            "Name: 4, dtype: object...\n",
            "\n",
            "Predictions saved to 'naive_bayes_predictions.csv'\n"
          ]
        }
      ]
    },
    {
      "cell_type": "code",
      "source": [
        "import numpy as np\n",
        "from sklearn.model_selection import cross_val_score\n",
        "from sklearn.metrics import confusion_matrix\n",
        "import matplotlib.pyplot as plt\n",
        "import seaborn as sns\n",
        "\n",
        "# Perform cross-validation on the training set\n",
        "cv_scores = cross_val_score(nb_classifier, X_train_tfidf, y_train_clean, cv=5)\n",
        "\n",
        "print(\"Cross-validation scores:\", cv_scores)\n",
        "print(f\"Mean CV score: {cv_scores.mean():.4f}\")\n",
        "print(f\"Standard deviation of CV scores: {cv_scores.std():.4f}\")\n",
        "\n",
        "# Get class probabilities for the test set\n",
        "class_probs = nb_classifier.predict_proba(X_test_tfidf)\n",
        "\n",
        "# Calculate prediction confidence\n",
        "confidence = np.max(class_probs, axis=1)\n",
        "\n",
        "print(f\"\\nMean prediction confidence: {confidence.mean():.4f}\")\n",
        "print(f\"Median prediction confidence: {np.median(confidence):.4f}\")\n",
        "\n",
        "# Plot histogram of prediction confidences\n",
        "plt.figure(figsize=(10, 6))\n",
        "plt.hist(confidence, bins=20)\n",
        "plt.title('Histogram of Prediction Confidences')\n",
        "plt.xlabel('Confidence')\n",
        "plt.ylabel('Count')\n",
        "plt.show()\n",
        "\n",
        "# Print confusion matrix on training data\n",
        "y_train_pred = nb_classifier.predict(X_train_tfidf)\n",
        "cm = confusion_matrix(y_train_clean, y_train_pred)\n",
        "\n",
        "plt.figure(figsize=(8, 6))\n",
        "sns.heatmap(cm, annot=True, fmt='d', cmap='Blues')\n",
        "plt.title('Confusion Matrix on Training Data')\n",
        "plt.xlabel('Predicted Label')\n",
        "plt.ylabel('True Label')\n",
        "plt.show()\n",
        "\n",
        "# Print some statistics about the predictions\n",
        "print(\"\\nPrediction statistics:\")\n",
        "print(f\"Number of samples: {len(y_pred)}\")\n",
        "print(f\"Number of unique predicted labels: {len(np.unique(y_pred))}\")\n",
        "value_counts = pd.Series(y_pred).value_counts(normalize=True)\n",
        "print(\"\\nProportion of each predicted label:\")\n",
        "print(value_counts)\n",
        "\n",
        "# Print top features for each class\n",
        "feature_names = tfidf_vectorizer.get_feature_names_out()\n",
        "for i, class_label in enumerate(nb_classifier.classes_):\n",
        "    top_features = np.argsort(nb_classifier.feature_log_prob_[i])[-10:]\n",
        "    print(f\"\\nTop 10 features for class {class_label}:\")\n",
        "    for idx in top_features[::-1]:\n",
        "        print(f\"{feature_names[idx]}: {np.exp(nb_classifier.feature_log_prob_[i, idx]):.4f}\")\n",
        "\n",
        "# Save the predictions\n",
        "submission = pd.DataFrame({'id': X_test.index, 'predicted_label': y_pred})\n",
        "submission.to_csv('naive_bayes_predictions.csv', index=False)\n",
        "print(\"\\nPredictions saved to 'naive_bayes_predictions.csv'\")"
      ],
      "metadata": {
        "colab": {
          "base_uri": "https://localhost:8080/",
          "height": 1000
        },
        "id": "sIIhOI2wU6G8",
        "outputId": "1493ac1e-50cc-42f5-fd41-50be46ae34df"
      },
      "execution_count": 42,
      "outputs": [
        {
          "output_type": "stream",
          "name": "stdout",
          "text": [
            "Cross-validation scores: [0.945 0.95  0.955 0.97  0.93 ]\n",
            "Mean CV score: 0.9500\n",
            "Standard deviation of CV scores: 0.0130\n",
            "\n",
            "Mean prediction confidence: 0.8764\n",
            "Median prediction confidence: 0.9470\n"
          ]
        },
        {
          "output_type": "display_data",
          "data": {
            "text/plain": [
              "<Figure size 1000x600 with 1 Axes>"
            ],
            "image/png": "[encoded data removed]"
          },
          "metadata": {}
        },
        {
          "output_type": "display_data",
          "data": {
            "text/plain": [
              "<Figure size 800x600 with 2 Axes>"
            ],
            "image/png": "[encoded data removed]"
          },
          "metadata": {}
        },
        {
          "output_type": "stream",
          "name": "stdout",
          "text": [
            "\n",
            "Prediction statistics:\n",
            "Number of samples: 200\n",
            "Number of unique predicted labels: 2\n",
            "\n",
            "Proportion of each predicted label:\n",
            "0    0.535\n",
            "1    0.465\n",
            "Name: proportion, dtype: float64\n",
            "\n",
            "Top 10 features for class 0:\n",
            "fyi: 0.0203\n",
            "ok: 0.0085\n",
            "yes: 0.0071\n",
            "work: 0.0066\n",
            "tomorrow: 0.0066\n",
            "talk: 0.0066\n",
            "pls: 0.0063\n",
            "pm: 0.0058\n",
            "cheryl: 0.0054\n",
            "today: 0.0053\n",
            "\n",
            "Top 10 features for class 1:\n",
            "money: 0.0091\n",
            "bank: 0.0086\n",
            "account: 0.0084\n",
            "fund: 0.0079\n",
            "transfer: 0.0062\n",
            "business: 0.0054\n",
            "contact: 0.0052\n",
            "transaction: 0.0051\n",
            "country: 0.0049\n",
            "company: 0.0048\n",
            "\n",
            "Predictions saved to 'naive_bayes_predictions.csv'\n"
          ]
        }
      ]
    },
    {
      "cell_type": "markdown",
      "metadata": {
        "id": "tF5IGcskzrnt"
      },
      "source": [
        "### Extra Task - Implement a SPAM/HAM classifier\n",
        "\n",
        "https://www.kaggle.com/t/b384e34013d54d238490103bc3c360ce\n",
        "\n",
        "The classifier can not be changed!!! It must be the MultinimialNB with default parameters!\n",
        "\n",
        "Your task is to find the **best feature representation**.\n",
        "\n",
        "You can work with teams of two persons (recommended)."
      ]
    }
  ],
  "metadata": {
    "celltoolbar": "Slideshow",
    "kernelspec": {
      "display_name": "Python 3",
      "name": "python3"
    },
    "language_info": {
      "codemirror_mode": {
        "name": "ipython",
        "version": 3
      },
      "file_extension": ".py",
      "mimetype": "text/x-python",
      "name": "python",
      "nbconvert_exporter": "python",
      "pygments_lexer": "ipython3",
      "version": "3.11.5"
    },
    "colab": {
      "provenance": [],
      "machine_shape": "hm",
      "gpuType": "T4"
    },
    "accelerator": "GPU"
  },
  "nbformat": 4,
  "nbformat_minor": 0
}