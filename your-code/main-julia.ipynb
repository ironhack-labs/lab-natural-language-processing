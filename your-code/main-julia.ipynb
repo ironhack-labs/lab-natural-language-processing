{
 "cells": [
  {
   "cell_type": "code",
   "execution_count": 12,
   "metadata": {},
   "outputs": [
    {
     "name": "stderr",
     "output_type": "stream",
     "text": [
      "/var/folders/72/qffcmmzs6tgf06g63_t_hhy40000gn/T/ipykernel_99355/3777615979.py:1: DeprecationWarning: Importing display from IPython.core.display is deprecated since IPython 7.14, please import from IPython display\n",
      "  from IPython.core.display import display, HTML\n"
     ]
    },
    {
     "data": {
      "text/html": [
       "<style>.container { width:100% !important; }</style>"
      ],
      "text/plain": [
       "<IPython.core.display.HTML object>"
      ]
     },
     "metadata": {},
     "output_type": "display_data"
    }
   ],
   "source": [
    "from IPython.core.display import display, HTML\n",
    "display(HTML(\"<style>.container { width:100% !important; }</style>\"))"
   ]
  },
  {
   "cell_type": "markdown",
   "metadata": {},
   "source": [
    "# Lab | Natural Language Processing\n",
    "### SMS: SPAM or HAM"
   ]
  },
  {
   "cell_type": "markdown",
   "metadata": {},
   "source": [
    "### Let's prepare the environment"
   ]
  },
  {
   "cell_type": "code",
   "execution_count": 13,
   "metadata": {},
   "outputs": [],
   "source": [
    "import pandas as pd\n",
    "import matplotlib.pyplot as plt\n",
    "from sklearn.feature_extraction.text import TfidfVectorizer"
   ]
  },
  {
   "cell_type": "markdown",
   "metadata": {},
   "source": [
    "- Read Data for the Fraudulent Email Kaggle Challenge\n",
    "- Reduce the training set to speead up development. "
   ]
  },
  {
   "cell_type": "code",
   "execution_count": 31,
   "metadata": {},
   "outputs": [
    {
     "name": "stdout",
     "output_type": "stream",
     "text": [
      "(5964, 2)\n"
     ]
    }
   ],
   "source": [
    "## Read Data for the Fraudulent Email Kaggle Challenge\n",
    "data = pd.read_csv(\"/Users/julianuss/Documents/GitHub/lab-natural-language-processing/data/kg_train.csv\",encoding='latin-1')\n",
    "\n",
    "# Reduce the training set to speed up development. \n",
    "# Modify for final system\n",
    "\n",
    "print(data.shape)\n",
    "data.fillna(\"\",inplace=True)"
   ]
  },
  {
   "cell_type": "markdown",
   "metadata": {},
   "source": [
    "### Let's divide the training and test set into two partitions"
   ]
  },
  {
   "cell_type": "code",
   "execution_count": 15,
   "metadata": {},
   "outputs": [
    {
     "name": "stdout",
     "output_type": "stream",
     "text": [
      "Train data shape: (800, 2)\n",
      "Test data shape: (200, 2)\n"
     ]
    }
   ],
   "source": [
    "from sklearn.model_selection import train_test_split\n",
    "\n",
    "# Splitting the data into training and testing sets (80% train, 20% test)\n",
    "train_data, test_data = train_test_split(data, test_size=0.2, random_state=42)\n",
    "\n",
    "# Printing the shape of the datasets\n",
    "print(\"Train data shape:\", train_data.shape)\n",
    "print(\"Test data shape:\", test_data.shape)"
   ]
  },
  {
   "cell_type": "markdown",
   "metadata": {},
   "source": [
    "## Data Preprocessing"
   ]
  },
  {
   "cell_type": "code",
   "execution_count": 16,
   "metadata": {},
   "outputs": [
    {
     "name": "stdout",
     "output_type": "stream",
     "text": [
      "['/Users/julianuss/nltk_data', '/Library/Frameworks/Python.framework/Versions/3.12/nltk_data', '/Library/Frameworks/Python.framework/Versions/3.12/share/nltk_data', '/Library/Frameworks/Python.framework/Versions/3.12/lib/nltk_data', '/usr/share/nltk_data', '/usr/local/share/nltk_data', '/usr/lib/nltk_data', '/usr/local/lib/nltk_data']\n"
     ]
    }
   ],
   "source": [
    "import nltk\n",
    "print(nltk.data.path)"
   ]
  },
  {
   "cell_type": "code",
   "execution_count": 17,
   "metadata": {},
   "outputs": [
    {
     "name": "stderr",
     "output_type": "stream",
     "text": [
      "[nltk_data] Downloading package stopwords to\n",
      "[nltk_data]     /Users/julianuss/nltk_data...\n",
      "[nltk_data]   Package stopwords is already up-to-date!\n"
     ]
    },
    {
     "data": {
      "text/plain": [
       "True"
      ]
     },
     "execution_count": 17,
     "metadata": {},
     "output_type": "execute_result"
    }
   ],
   "source": [
    "import ssl\n",
    "ssl._create_default_https_context = ssl._create_unverified_context\n",
    "\n",
    "# Download stopwords to the appropriate directory\n",
    "import nltk\n",
    "nltk.download('stopwords', download_dir='/Users/julianuss/nltk_data')"
   ]
  },
  {
   "cell_type": "markdown",
   "metadata": {},
   "source": [
    "## Now, we have to clean the html code removing words\n",
    "\n",
    "- First we remove inline JavaScript/CSS\n",
    "- Then we remove html comments. This has to be done before removing regular tags since comments can contain '>' characters\n",
    "- Next we can remove the remaining tags"
   ]
  },
  {
   "cell_type": "code",
   "execution_count": 34,
   "metadata": {},
   "outputs": [
    {
     "data": {
      "text/plain": [
       "'\\n\\n\\n\\n\\nThis is a paragraph.\\n\\n\\n'"
      ]
     },
     "execution_count": 34,
     "metadata": {},
     "output_type": "execute_result"
    }
   ],
   "source": [
    "import re\n",
    "\n",
    "def clean_html(text):\n",
    "    # Remove inline JavaScript/CSS by removing anything between <script>...</script> and <style>...</style>\n",
    "    text = re.sub(r'<(script|style).*?>.*?(<\\/\\1>)', '', text, flags=re.DOTALL)\n",
    "\n",
    "    # Remove HTML comments (anything between <!-- and -->)\n",
    "    text = re.sub(r'<!--.*?-->', '', text)\n",
    "\n",
    "    # Remove any remaining HTML tags\n",
    "    text = re.sub(r'<[^>]+>', '', text)\n",
    "\n",
    "    return text\n",
    "\n",
    "# Sample HTML data for testing\n",
    "sample_html = \"\"\"\n",
    "<html>\n",
    "<head><script>var x = 10;</script><style>body {background-color: #fff;}</style></head>\n",
    "<body>\n",
    "<!-- This is a comment -->\n",
    "<p>This is a paragraph.</p>\n",
    "</body>\n",
    "</html>\n",
    "\"\"\"\n",
    "\n",
    "cleaned_text = clean_html(sample_html)\n",
    "cleaned_text  # Cleaned text output\n"
   ]
  },
  {
   "cell_type": "markdown",
   "metadata": {},
   "source": [
    "- Remove all the special characters\n",
    "    \n",
    "- Remove numbers\n",
    "    \n",
    "- Remove all single characters\n",
    " \n",
    "- Remove single characters from the start\n",
    "\n",
    "- Substitute multiple spaces with single space\n",
    "\n",
    "- Remove prefixed 'b'\n",
    "\n",
    "- Convert to Lowercase"
   ]
  },
  {
   "cell_type": "code",
   "execution_count": 19,
   "metadata": {},
   "outputs": [
    {
     "name": "stdout",
     "output_type": "stream",
     "text": [
      "0    dear sir strictly private business proposal am...\n",
      "1                                              will do\n",
      "2    noracheryl has emailed dozens of memos about h...\n",
      "3    dear sirfmadamc know that this proposal might ...\n",
      "4                                                  fyi\n",
      "Name: cleaner_text, dtype: object\n"
     ]
    }
   ],
   "source": [
    "# Function to clean the text\n",
    "def clean_text(text):\n",
    "    # Remove inline JavaScript/CSS:\n",
    "    text = re.sub(r'<(script|style).*?>.*?</\\1>', '', text, flags=re.DOTALL)\n",
    "    \n",
    "    # Remove HTML comments:\n",
    "    text = re.sub(r'<!--.*?-->', '', text, flags=re.DOTALL)\n",
    "    \n",
    "    # Remove the remaining HTML tags:\n",
    "    text = re.sub(r'<.*?>', '', text)\n",
    "    \n",
    "    # Remove special characters and punctuation:\n",
    "    text = re.sub(r'[^A-Za-z\\s]', '', text)\n",
    "    \n",
    "    # Remove numbers:\n",
    "    text = re.sub(r'\\d+', '', text)\n",
    "    \n",
    "    # Remove all single characters:\n",
    "    text = re.sub(r'\\b\\w\\b', '', text)\n",
    "    \n",
    "    # Remove single characters from the start:\n",
    "    text = re.sub(r'^[a-zA-Z]\\s+', '', text)\n",
    "    \n",
    "    # Substitute multiple spaces with a single space:\n",
    "    text = re.sub(r'\\s+', ' ', text).strip()\n",
    "    \n",
    "    # Remove prefixed 'b' (if any, e.g., from binary strings):\n",
    "    text = re.sub(r'\\bb\\b', '', text)\n",
    "    \n",
    "    # Convert to lowercase:\n",
    "    text = text.lower()\n",
    "    \n",
    "    return text\n",
    "\n",
    "# Apply the clean_text function to the relevant column (assuming 'text' column holds the data)\n",
    "data['cleaner_text'] = data['cleaned_text'].apply(clean_text)\n",
    "\n",
    "# Display the cleaned text for verification\n",
    "print(data['cleaner_text'].head())"
   ]
  },
  {
   "cell_type": "markdown",
   "metadata": {
    "slideshow": {
     "slide_type": "-"
    }
   },
   "source": [
    "## Now let's work on removing stopwords\n",
    "Remove the stopwords."
   ]
  },
  {
   "cell_type": "code",
   "execution_count": 20,
   "metadata": {},
   "outputs": [
    {
     "name": "stderr",
     "output_type": "stream",
     "text": [
      "[nltk_data] Downloading package stopwords to\n",
      "[nltk_data]     /Users/julianuss/nltk_data...\n",
      "[nltk_data]   Package stopwords is already up-to-date!\n"
     ]
    },
    {
     "name": "stdout",
     "output_type": "stream",
     "text": [
      "0    dear sir strictly private business proposal mi...\n",
      "1                                                     \n",
      "2    noracheryl emailed dozens memos haiti weekend ...\n",
      "3    dear sirfmadamc know proposal might surprise e...\n",
      "4                                                  fyi\n",
      "Name: cleaned_text, dtype: object\n"
     ]
    }
   ],
   "source": [
    "import nltk\n",
    "from nltk.corpus import stopwords\n",
    "import pandas as pd\n",
    "import re\n",
    "\n",
    "# Downloading stopwords if not already downloaded\n",
    "nltk.download('stopwords')\n",
    "\n",
    "# Get the list of stopwords\n",
    "stop_words = set(stopwords.words('english'))\n",
    "\n",
    "# Function to clean the text and remove stopwords\n",
    "def clean_text(text):\n",
    "    # Remove inline JavaScript/CSS:\n",
    "    text = re.sub(r'<(script|style).*?>.*?</\\1>', '', text, flags=re.DOTALL)\n",
    "    \n",
    "    # Remove HTML comments:\n",
    "    text = re.sub(r'<!--.*?-->', '', text, flags=re.DOTALL)\n",
    "    \n",
    "    # Remove the remaining HTML tags:\n",
    "    text = re.sub(r'<.*?>', '', text)\n",
    "    \n",
    "    # Remove special characters and punctuation:\n",
    "    text = re.sub(r'[^A-Za-z\\s]', '', text)\n",
    "    \n",
    "    # Remove numbers:\n",
    "    text = re.sub(r'\\d+', '', text)\n",
    "    \n",
    "    # Remove all single characters:\n",
    "    text = re.sub(r'\\b\\w\\b', '', text)\n",
    "    \n",
    "    # Remove single characters from the start:\n",
    "    text = re.sub(r'^[a-zA-Z]\\s+', '', text)\n",
    "    \n",
    "    # Substitute multiple spaces with a single space:\n",
    "    text = re.sub(r'\\s+', ' ', text).strip()\n",
    "    \n",
    "    # Remove prefixed 'b':\n",
    "    text = re.sub(r'\\bb\\b', '', text)\n",
    "    \n",
    "    # Convert to lowercase:\n",
    "    text = text.lower()\n",
    "    \n",
    "    # Remove stopwords:\n",
    "    text = ' '.join([word for word in text.split() if word not in stop_words])\n",
    "    \n",
    "    return text\n",
    "\n",
    "# Reading the data\n",
    "data = pd.read_csv(\"/Users/julianuss/Documents/GitHub/lab-natural-language-processing/data/kg_train.csv\", encoding='latin-1')\n",
    "\n",
    "# Fill missing values with empty strings\n",
    "data.fillna(\"\", inplace=True)\n",
    "\n",
    "\n",
    "data['cleaned_text'] = data['text'].apply(clean_text)\n",
    "\n",
    "# Display the cleaned text for verification\n",
    "print(data['cleaned_text'].head())"
   ]
  },
  {
   "cell_type": "markdown",
   "metadata": {},
   "source": [
    "## Tame Your Text with Lemmatization\n",
    "Break sentences into words, then use lemmatization to reduce them to their base form (e.g., \"running\" becomes \"run\"). See how this creates cleaner data for analysis!"
   ]
  },
  {
   "cell_type": "code",
   "execution_count": 21,
   "metadata": {},
   "outputs": [
    {
     "name": "stderr",
     "output_type": "stream",
     "text": [
      "[nltk_data] Downloading package punkt to /Users/julianuss/nltk_data...\n",
      "[nltk_data]   Package punkt is already up-to-date!\n",
      "[nltk_data] Downloading package wordnet to\n",
      "[nltk_data]     /Users/julianuss/nltk_data...\n",
      "[nltk_data]   Package wordnet is already up-to-date!\n",
      "[nltk_data] Downloading package stopwords to\n",
      "[nltk_data]     /Users/julianuss/nltk_data...\n",
      "[nltk_data]   Package stopwords is already up-to-date!\n",
      "[nltk_data] Downloading package omw-1.4 to\n",
      "[nltk_data]     /Users/julianuss/nltk_data...\n",
      "[nltk_data]   Package omw-1.4 is already up-to-date!\n"
     ]
    },
    {
     "data": {
      "text/plain": [
       "True"
      ]
     },
     "execution_count": 21,
     "metadata": {},
     "output_type": "execute_result"
    }
   ],
   "source": [
    "import nltk\n",
    "\n",
    "# Verify the download of necessary NLTK resources\n",
    "nltk.download('punkt')\n",
    "nltk.download('wordnet')\n",
    "nltk.download('stopwords')\n",
    "nltk.download('omw-1.4')"
   ]
  },
  {
   "cell_type": "code",
   "execution_count": 33,
   "metadata": {},
   "outputs": [
    {
     "name": "stderr",
     "output_type": "stream",
     "text": [
      "[nltk_data] Downloading package wordnet to\n",
      "[nltk_data]     /Users/julianuss/nltk_data...\n",
      "[nltk_data]   Package wordnet is already up-to-date!\n"
     ]
    },
    {
     "data": {
      "text/plain": [
       "'The boy are playing with the running dogs.'"
      ]
     },
     "execution_count": 33,
     "metadata": {},
     "output_type": "execute_result"
    }
   ],
   "source": [
    "from nltk.stem import WordNetLemmatizer\n",
    "nltk.download('wordnet')\n",
    "\n",
    "def lemmatize_text(text):\n",
    "    lemmatizer = WordNetLemmatizer()\n",
    "    words = text.split()\n",
    "    # Lemmatize each word in the text\n",
    "    lemmatized_text = [lemmatizer.lemmatize(word) for word in words]\n",
    "    return ' '.join(lemmatized_text)\n",
    "\n",
    "# Sample text for lemmatization\n",
    "sample_text = \"The boys are playing with the running dogs.\"\n",
    "lemmatized_text = lemmatize_text(sample_text)\n",
    "lemmatized_text\n"
   ]
  },
  {
   "cell_type": "markdown",
   "metadata": {},
   "source": [
    "## Bag Of Words\n",
    "Let's get the 10 top words in ham and spam messages (**EXPLORATORY DATA ANALYSIS**)"
   ]
  },
  {
   "cell_type": "code",
   "execution_count": 36,
   "metadata": {},
   "outputs": [
    {
     "name": "stdout",
     "output_type": "stream",
     "text": [
      "Top 10 words in Ham messages: [('state', np.int64(1096)), ('pm', np.int64(875)), ('secretary', np.int64(626)), ('said', np.int64(599)), ('obama', np.int64(558)), ('president', np.int64(537)), ('new', np.int64(503)), ('house', np.int64(473)), ('30', np.int64(450)), ('2009', np.int64(442))]\n",
      "Top 10 words in Spam messages: [('2e', np.int64(10376)), ('money', np.int64(5650)), ('br', np.int64(5454)), ('2c', np.int64(5249)), ('bank', np.int64(4681)), ('account', np.int64(4533)), ('nbsp', np.int64(3618)), ('div', np.int64(3001)), ('transaction', np.int64(2842)), ('business', np.int64(2658))]\n"
     ]
    },
    {
     "data": {
      "image/png": "[encoded data removed]",
      "text/plain": [
       "<Figure size 640x480 with 1 Axes>"
      ]
     },
     "metadata": {},
     "output_type": "display_data"
    },
    {
     "data": {
      "image/png": "[encoded data removed]",
      "text/plain": [
       "<Figure size 640x480 with 1 Axes>"
      ]
     },
     "metadata": {},
     "output_type": "display_data"
    }
   ],
   "source": [
    "from sklearn.feature_extraction.text import CountVectorizer\n",
    "import matplotlib.pyplot as plt\n",
    "\n",
    "# Assuming the dataset has 'text' and 'label' columns\n",
    "# Label '0' is ham, '1' is spam\n",
    "\n",
    "# Fit the CountVectorizer on the entire dataset to ensure consistent vocabulary\n",
    "vectorizer = CountVectorizer(stop_words='english')\n",
    "bow = vectorizer.fit_transform(data['text'])\n",
    "\n",
    "# Separate the data into ham and spam\n",
    "ham_data = data[data['label'] == 0]\n",
    "spam_data = data[data['label'] == 1]\n",
    "\n",
    "# Transform the ham and spam data using the fitted vectorizer\n",
    "ham_bow = vectorizer.transform(ham_data['text'])\n",
    "spam_bow = vectorizer.transform(spam_data['text'])\n",
    "\n",
    "# Sum the occurrences of each word\n",
    "ham_word_counts = ham_bow.sum(axis=0)\n",
    "spam_word_counts = spam_bow.sum(axis=0)\n",
    "\n",
    "# Convert to a list of (word, count) tuples\n",
    "ham_words_freq = [(word, ham_word_counts[0, idx]) for word, idx in vectorizer.vocabulary_.items()]\n",
    "spam_words_freq = [(word, spam_word_counts[0, idx]) for word, idx in vectorizer.vocabulary_.items()]\n",
    "\n",
    "# Sort by frequency and get the top 10 words for ham and spam\n",
    "top_ham_words = sorted(ham_words_freq, key=lambda x: x[1], reverse=True)[:10]\n",
    "top_spam_words = sorted(spam_words_freq, key=lambda x: x[1], reverse=True)[:10]\n",
    "\n",
    "# Display top 10 words for ham and spam\n",
    "print(\"Top 10 words in Ham messages:\", top_ham_words)\n",
    "print(\"Top 10 words in Spam messages:\", top_spam_words)\n",
    "\n",
    "# Plot the top 10 words in ham messages\n",
    "ham_words, ham_counts = zip(*top_ham_words)\n",
    "plt.bar(ham_words, ham_counts)\n",
    "plt.title('Top 10 Words in Ham Messages')\n",
    "plt.xticks(rotation=45)\n",
    "plt.show()\n",
    "\n",
    "# Plot the top 10 words in spam messages\n",
    "spam_words, spam_counts = zip(*top_spam_words)\n",
    "plt.bar(spam_words, spam_counts)\n",
    "plt.title('Top 10 Words in Spam Messages')\n",
    "plt.xticks(rotation=45)\n",
    "plt.show()"
   ]
  },
  {
   "cell_type": "markdown",
   "metadata": {},
   "source": [
    "## Extra features"
   ]
  },
  {
   "cell_type": "code",
   "execution_count": 43,
   "metadata": {},
   "outputs": [
    {
     "name": "stdout",
     "output_type": "stream",
     "text": [
      "                                                text  label  money_mark  \\\n",
      "0  DEAR SIR, STRICTLY A PRIVATE BUSINESS PROPOSAL...      1           1   \n",
      "1                                           Will do.      0           1   \n",
      "2  Nora--Cheryl has emailed dozens of memos about...      0           1   \n",
      "3  Dear Sir=2FMadam=2C I know that this proposal ...      1           1   \n",
      "4                                                fyi      0           1   \n",
      "\n",
      "   suspicious_words  text_len  \n",
      "0                 1      2292  \n",
      "1                 0         8  \n",
      "2                 0       197  \n",
      "3                 1      2199  \n",
      "4                 0         3  \n"
     ]
    }
   ],
   "source": [
    "# Defining lists of symbols and suspicious words\n",
    "money_simbol_list = \"|\".join([\"euro\", \"dollar\", \"pound\", \"€\", \"$\"])\n",
    "suspicious_words = \"|\".join([\"free\", \"cheap\", \"sex\", \"money\", \"account\", \"bank\", \"fund\", \"transfer\", \"transaction\", \"win\", \"deposit\", \"password\"])\n",
    "\n",
    "# Add money symbol and suspicious words indicators, and calculate text length\n",
    "data['money_mark'] = data['text'].str.contains(money_simbol_list, case=False) * 1\n",
    "data['suspicious_words'] = data['text'].str.contains(suspicious_words, case=False) * 1\n",
    "data['text_len'] = data['text'].apply(lambda x: len(x))\n",
    "\n",
    "# Display the first few rows with new indicators\n",
    "print(data.head())"
   ]
  },
  {
   "cell_type": "markdown",
   "metadata": {},
   "source": [
    "## How would work the Bag of Words with Count Vectorizer concept?"
   ]
  },
  {
   "cell_type": "code",
   "execution_count": 44,
   "metadata": {},
   "outputs": [
    {
     "name": "stdout",
     "output_type": "stream",
     "text": [
      "Vocabulary: {'this': 9, 'is': 4, 'simple': 7, 'example': 3, 'bit': 1, 'more': 5, 'complex': 2, 'bag': 0, 'of': 6, 'words': 10, 'technique': 8}\n",
      "BoW Matrix:\n",
      " [[0 0 0 1 1 0 0 1 0 1 0]\n",
      " [0 1 1 1 1 1 0 0 0 1 0]\n",
      " [1 0 0 0 1 0 1 1 1 0 1]]\n"
     ]
    }
   ],
   "source": [
    "# Importing libraries\n",
    "from sklearn.feature_extraction.text import CountVectorizer\n",
    "\n",
    "# Sample text data\n",
    "documents = [\n",
    "    'This is a simple example.',\n",
    "    'This example is a bit more complex.',\n",
    "    'Bag of Words is a simple technique.'\n",
    "]\n",
    "\n",
    "# Initialize the CountVectorizer\n",
    "vectorizer = CountVectorizer()\n",
    "\n",
    "# Fit the model and transform the documents into a bag-of-words representation\n",
    "X = vectorizer.fit_transform(documents)\n",
    "\n",
    "# Convert the BoW matrix into an array for easy viewing\n",
    "X_array = X.toarray()\n",
    "\n",
    "# Show the vocabulary (words mapped to indices)\n",
    "vocabulary = vectorizer.vocabulary_\n",
    "\n",
    "# Display the vocabulary and the BoW matrix\n",
    "print(\"Vocabulary:\", vocabulary)\n",
    "print(\"BoW Matrix:\\n\", X_array)"
   ]
  },
  {
   "cell_type": "markdown",
   "metadata": {},
   "source": [
    "## TD-IDF\n",
    "\n",
    "- Load the vectorizer\n",
    "\n",
    "- Vectorize all dataset\n",
    "\n",
    "- print the shape of the vetorized dataset"
   ]
  },
  {
   "cell_type": "code",
   "execution_count": 45,
   "metadata": {},
   "outputs": [
    {
     "name": "stdout",
     "output_type": "stream",
     "text": [
      "Shape of the TF-IDF matrix: (5, 5)\n",
      "\n",
      "TF-IDF Matrix:\n",
      "   label  money_mark  suspicious_words  text  text_len\n",
      "0    0.0         0.0               0.0   1.0       0.0\n",
      "1    1.0         0.0               0.0   0.0       0.0\n",
      "2    0.0         1.0               0.0   0.0       0.0\n",
      "3    0.0         0.0               1.0   0.0       0.0\n",
      "4    0.0         0.0               0.0   0.0       1.0\n"
     ]
    }
   ],
   "source": [
    "# Initialize the TfidfVectorizer\n",
    "vectorizer = TfidfVectorizer()\n",
    "\n",
    "# Fit and transform the documents to create the TF-IDF matrix\n",
    "tfidf_matrix = vectorizer.fit_transform(data)\n",
    "\n",
    "# Convert to a DataFrame for easy viewing (optional)\n",
    "tfidf_df = pd.DataFrame(tfidf_matrix.toarray(), columns=vectorizer.get_feature_names_out())\n",
    "\n",
    "# Print the shape of the vectorized dataset\n",
    "print(\"Shape of the TF-IDF matrix:\", tfidf_matrix.shape)\n",
    "\n",
    "# Display the TF-IDF values (optional)\n",
    "print(\"\\nTF-IDF Matrix:\")\n",
    "print(tfidf_df)"
   ]
  },
  {
   "cell_type": "markdown",
   "metadata": {},
   "source": [
    "## And the Train a Classifier?"
   ]
  },
  {
   "cell_type": "code",
   "execution_count": 46,
   "metadata": {},
   "outputs": [
    {
     "name": "stdout",
     "output_type": "stream",
     "text": [
      "Accuracy: 0.9656\n",
      "\n",
      "Classification Report:\n",
      "              precision    recall  f1-score   support\n",
      "\n",
      "           0       0.94      1.00      0.97       674\n",
      "           1       1.00      0.92      0.96       519\n",
      "\n",
      "    accuracy                           0.97      1193\n",
      "   macro avg       0.97      0.96      0.96      1193\n",
      "weighted avg       0.97      0.97      0.97      1193\n",
      "\n"
     ]
    }
   ],
   "source": [
    "# Importing necessary libraries\n",
    "from sklearn.feature_extraction.text import TfidfVectorizer\n",
    "from sklearn.model_selection import train_test_split\n",
    "from sklearn.linear_model import LogisticRegression\n",
    "from sklearn.metrics import accuracy_score, classification_report\n",
    "\n",
    "# Assuming 'data' is your DataFrame and 'text' is the column with text data, 'label' is the target column\n",
    "# Replace 'data' and column names with your actual dataset variables\n",
    "documents = data['text']   # The text data\n",
    "labels = data['label']     # The target labels (0 for ham, 1 for spam)\n",
    "\n",
    "# Step 1: Vectorize the text using TF-IDF\n",
    "vectorizer = TfidfVectorizer()\n",
    "X = vectorizer.fit_transform(documents)  # Vectorized text (TF-IDF matrix)\n",
    "y = labels  # Target labels\n",
    "\n",
    "# Step 2: Split the dataset into training and testing sets\n",
    "X_train, X_test, y_train, y_test = train_test_split(X, y, test_size=0.2, random_state=42)\n",
    "\n",
    "# Step 3: Train a classifier (Logistic Regression in this case)\n",
    "classifier = LogisticRegression()\n",
    "classifier.fit(X_train, y_train)\n",
    "\n",
    "# Step 4: Make predictions on the test data\n",
    "y_pred = classifier.predict(X_test)\n",
    "\n",
    "# Step 5: Evaluate the classifier\n",
    "accuracy = accuracy_score(y_test, y_pred)\n",
    "print(f\"Accuracy: {accuracy:.4f}\")\n",
    "\n",
    "# Print the classification report (precision, recall, F1-score)\n",
    "print(\"\\nClassification Report:\")\n",
    "print(classification_report(y_test, y_pred))"
   ]
  },
  {
   "cell_type": "markdown",
   "metadata": {},
   "source": [
    "### Extra Task - Implement a SPAM/HAM classifier\n",
    "\n",
    "https://www.kaggle.com/t/b384e34013d54d238490103bc3c360ce\n",
    "\n",
    "The classifier can not be changed!!! It must be the MultinimialNB with default parameters!\n",
    "\n",
    "Your task is to find the **best feature representation**.\n",
    "\n",
    "You can work with teams of two persons (recommended)."
   ]
  },
  {
   "cell_type": "code",
   "execution_count": 48,
   "metadata": {},
   "outputs": [],
   "source": [
    "import pandas as pd\n",
    "import re\n",
    "from sklearn.model_selection import train_test_split\n",
    "from sklearn.feature_extraction.text import CountVectorizer, TfidfVectorizer\n",
    "from sklearn.naive_bayes import MultinomialNB\n",
    "from sklearn.metrics import accuracy_score, classification_report\n",
    "\n",
    "# Read the data\n",
    "data = pd.read_csv('/Users/julianuss/Documents/GitHub/lab-natural-language-processing/data/kg_train.csv', encoding='latin-1')\n",
    "data.fillna(\"\", inplace=True)\n",
    "\n",
    "# Clean text function\n",
    "def clean_text(text):\n",
    "    text = re.sub(r'\\W', ' ', text)  # Remove special characters\n",
    "    text = re.sub(r'\\s+[a-zA-Z]\\s+', ' ', text)  # Remove single characters\n",
    "    text = re.sub(r'\\^[a-zA-Z]\\s+', ' ', text)  # Remove single characters at the start\n",
    "    text = re.sub(r'\\s+', ' ', text, flags=re.I)  # Remove multiple spaces\n",
    "    text = re.sub(r'^b\\s+', '', text)  # Remove prefixed 'b'\n",
    "    return text.lower()\n",
    "\n",
    "# Apply the cleaning function to the dataset\n",
    "data['cleaned_text'] = data['text'].apply(clean_text)\n",
    "\n",
    "# Split data into train and test sets\n",
    "X_train, X_test, y_train, y_test = train_test_split(data['cleaned_text'], data['label'], test_size=0.2, random_state=42)"
   ]
  },
  {
   "cell_type": "code",
   "execution_count": 49,
   "metadata": {},
   "outputs": [
    {
     "name": "stdout",
     "output_type": "stream",
     "text": [
      "Accuracy (BoW): 0.9539\n",
      "              precision    recall  f1-score   support\n",
      "\n",
      "           0       0.99      0.93      0.96       674\n",
      "           1       0.92      0.98      0.95       519\n",
      "\n",
      "    accuracy                           0.95      1193\n",
      "   macro avg       0.95      0.96      0.95      1193\n",
      "weighted avg       0.96      0.95      0.95      1193\n",
      "\n"
     ]
    }
   ],
   "source": [
    "# Bag of Words Representation\n",
    "vectorizer_bow = CountVectorizer()\n",
    "X_train_bow = vectorizer_bow.fit_transform(X_train)\n",
    "X_test_bow = vectorizer_bow.transform(X_test)\n",
    "\n",
    "# Train MultinomialNB with BoW\n",
    "model_bow = MultinomialNB()\n",
    "model_bow.fit(X_train_bow, y_train)\n",
    "\n",
    "# Make predictions and evaluate\n",
    "y_pred_bow = model_bow.predict(X_test_bow)\n",
    "print(f\"Accuracy (BoW): {accuracy_score(y_test, y_pred_bow):.4f}\")\n",
    "print(classification_report(y_test, y_pred_bow))"
   ]
  },
  {
   "cell_type": "code",
   "execution_count": 50,
   "metadata": {},
   "outputs": [
    {
     "name": "stdout",
     "output_type": "stream",
     "text": [
      "Accuracy (TF-IDF): 0.9438\n",
      "              precision    recall  f1-score   support\n",
      "\n",
      "           0       0.99      0.91      0.95       674\n",
      "           1       0.89      0.99      0.94       519\n",
      "\n",
      "    accuracy                           0.94      1193\n",
      "   macro avg       0.94      0.95      0.94      1193\n",
      "weighted avg       0.95      0.94      0.94      1193\n",
      "\n"
     ]
    }
   ],
   "source": [
    "# TF-IDF Representation\n",
    "vectorizer_tfidf = TfidfVectorizer()\n",
    "X_train_tfidf = vectorizer_tfidf.fit_transform(X_train)\n",
    "X_test_tfidf = vectorizer_tfidf.transform(X_test)\n",
    "\n",
    "# Train MultinomialNB with TF-IDF\n",
    "model_tfidf = MultinomialNB()\n",
    "model_tfidf.fit(X_train_tfidf, y_train)\n",
    "\n",
    "# Make predictions and evaluate\n",
    "y_pred_tfidf = model_tfidf.predict(X_test_tfidf)\n",
    "print(f\"Accuracy (TF-IDF): {accuracy_score(y_test, y_pred_tfidf):.4f}\")\n",
    "print(classification_report(y_test, y_pred_tfidf))"
   ]
  },
  {
   "cell_type": "code",
   "execution_count": 51,
   "metadata": {},
   "outputs": [
    {
     "name": "stdout",
     "output_type": "stream",
     "text": [
      "Accuracy (N-Grams): 0.9212\n",
      "              precision    recall  f1-score   support\n",
      "\n",
      "           0       0.99      0.87      0.93       674\n",
      "           1       0.85      0.99      0.92       519\n",
      "\n",
      "    accuracy                           0.92      1193\n",
      "   macro avg       0.92      0.93      0.92      1193\n",
      "weighted avg       0.93      0.92      0.92      1193\n",
      "\n"
     ]
    }
   ],
   "source": [
    "# TF-IDF with bigrams and trigrams\n",
    "vectorizer_ngram = TfidfVectorizer(ngram_range=(1, 2))  # Use (1, 3) for trigrams\n",
    "X_train_ngram = vectorizer_ngram.fit_transform(X_train)\n",
    "X_test_ngram = vectorizer_ngram.transform(X_test)\n",
    "\n",
    "# Train MultinomialNB with N-Grams\n",
    "model_ngram = MultinomialNB()\n",
    "model_ngram.fit(X_train_ngram, y_train)\n",
    "\n",
    "# Make predictions and evaluate\n",
    "y_pred_ngram = model_ngram.predict(X_test_ngram)\n",
    "print(f\"Accuracy (N-Grams): {accuracy_score(y_test, y_pred_ngram):.4f}\")\n",
    "print(classification_report(y_test, y_pred_ngram))"
   ]
  }
 ],
 "metadata": {
  "celltoolbar": "Slideshow",
  "kernelspec": {
   "display_name": "Python 3 (ipykernel)",
   "language": "python",
   "name": "python3"
  },
  "language_info": {
   "codemirror_mode": {
    "name": "ipython",
    "version": 3
   },
   "file_extension": ".py",
   "mimetype": "text/x-python",
   "name": "python",
   "nbconvert_exporter": "python",
   "pygments_lexer": "ipython3",
   "version": "3.12.7"
  }
 },
 "nbformat": 4,
 "nbformat_minor": 2
}
